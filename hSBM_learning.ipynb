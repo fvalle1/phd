{
 "cells": [
  {
   "cell_type": "code",
   "execution_count": null,
   "metadata": {},
   "outputs": [],
   "source": [
    "import regex as re\n",
    "import numpy as np\n",
    "import matplotlib.pyplot as plt"
   ]
  },
  {
   "cell_type": "code",
   "execution_count": null,
   "metadata": {},
   "outputs": [],
   "source": [
    "with open(\"log.txt\") as file:\n",
    "    hist=file.read()"
   ]
  },
  {
   "cell_type": "code",
   "execution_count": null,
   "metadata": {},
   "outputs": [],
   "source": [
    "log=[]\n",
    "L={}\n",
    "for level in np.unique(re.findall(\"l=[0-9]{1,2}\", hist)):\n",
    "    L[level]=[]\n",
    "for ti,t in enumerate(hist.split(\"\\n\")):\n",
    "    z = re.findall(\"\\sS:\\s[0-9]*\",t)\n",
    "    if len(z)>0:\n",
    "        z=re.findall(\"[0-9]{1,}\",z[0])\n",
    "        log.append(int(z[0]))\n",
    "    B = re.findall(\"B=[0-9]*\", t)\n",
    "    l = re.findall(\"l=[0-9]*\",t)\n",
    "    if len(B)>0:\n",
    "        if len(l)>0:\n",
    "            for lk in L.keys():\n",
    "                if l[0]==lk:\n",
    "                    L[l[0]].append(int(B[0][2:]))\n",
    "                else:\n",
    "                    L[lk].append(np.nan)"
   ]
  },
  {
   "cell_type": "code",
   "execution_count": null,
   "metadata": {},
   "outputs": [],
   "source": [
    "fig=plt.figure(figsize=(15,8))\n",
    "plt.plot(log)\n",
    "plt.tick_params(labelsize=20)\n",
    "plt.xlabel('time', fontsize=20)\n",
    "plt.ylabel(\"S\", fontsize=20)\n",
    "plt.show()\n",
    "fig.savefig(\"S_hist.pdf\")"
   ]
  },
  {
   "cell_type": "code",
   "execution_count": null,
   "metadata": {},
   "outputs": [],
   "source": [
    "plt.plot(log[-100:])"
   ]
  },
  {
   "cell_type": "code",
   "execution_count": null,
   "metadata": {},
   "outputs": [],
   "source": [
    "fig=plt.figure(figsize=(15,8))\n",
    "for l in L.keys():\n",
    "    plt.plot(L[l], label=l)\n",
    "plt.tick_params(labelsize=20)\n",
    "plt.xlabel('step', fontsize=20)\n",
    "plt.ylabel(\"B\", fontsize=20)\n",
    "plt.legend(fontsize=16)\n",
    "plt.yscale('log')\n",
    "plt.show()\n",
    "fig.savefig(\"B_hist.pdf\")"
   ]
  },
  {
   "cell_type": "code",
   "execution_count": null,
   "metadata": {},
   "outputs": [],
   "source": []
  }
 ],
 "metadata": {
  "kernelspec": {
   "display_name": "Python 3",
   "language": "python",
   "name": "python3"
  },
  "language_info": {
   "codemirror_mode": {
    "name": "ipython",
    "version": 3
   },
   "file_extension": ".py",
   "mimetype": "text/x-python",
   "name": "python",
   "nbconvert_exporter": "python",
   "pygments_lexer": "ipython3",
   "version": "3.6.9"
  }
 },
 "nbformat": 4,
 "nbformat_minor": 2
}

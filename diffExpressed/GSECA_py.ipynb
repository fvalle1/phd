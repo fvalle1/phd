{
 "cells": [
  {
   "cell_type": "code",
   "execution_count": 1,
   "metadata": {},
   "outputs": [
    {
     "data": {
      "text/html": [
       "\n",
       "        <span>ListVector with 1 elements.</span>\n",
       "        <table>\n",
       "        <tbody>\n",
       "        \n",
       "          <tr>\n",
       "            <th>\n",
       "            repos\n",
       "            </th>\n",
       "            <td>\n",
       "            <rpy2.rinterface_lib.sexp.StrSexpVector object at 0x7f72338aa640> [RTYPES.STRSXP]\n",
       "            </td>\n",
       "          </tr>\n",
       "        \n",
       "        </tbody>\n",
       "        </table>\n",
       "        "
      ],
      "text/plain": [
       "R object with classes: ('list',) mapped to:\n",
       "[StrSexpVector]\n",
       "  repos: <class 'rpy2.rinterface_lib.sexp.StrSexpVector'>\n",
       "  <rpy2.rinterface_lib.sexp.StrSexpVector object at 0x7f72338aa480> [RTYPES.STRSXP]"
      ]
     },
     "execution_count": 1,
     "metadata": {},
     "output_type": "execute_result"
    }
   ],
   "source": [
    "%load_ext autoreload\n",
    "%autoreload 2\n",
    "from rpy2 import robjects\n",
    "from rpy2.robjects import r as R\n",
    "from rpy2.robjects.packages import importr\n",
    "R('options(repos=structure(c(CRAN=\"45\")))')"
   ]
  },
  {
   "cell_type": "code",
   "execution_count": 2,
   "metadata": {},
   "outputs": [
    {
     "data": {
      "text/html": [
       "\n",
       "        <span>StrVector with 1 elements.</span>\n",
       "        <table>\n",
       "        <tbody>\n",
       "          <tr>\n",
       "          \n",
       "            <td>\n",
       "            '/home/jovyan/work/phd/diffExpressed'\n",
       "            </td>\n",
       "          \n",
       "          </tr>\n",
       "        </tbody>\n",
       "        </table>\n",
       "        "
      ],
      "text/plain": [
       "R object with classes: ('character',) mapped to:\n",
       "['/home/jovyan/work/phd/diffExpressed']"
      ]
     },
     "execution_count": 2,
     "metadata": {},
     "output_type": "execute_result"
    }
   ],
   "source": [
    "R[\"setwd\"](\"GSECA\")"
   ]
  },
  {
   "cell_type": "code",
   "execution_count": 3,
   "metadata": {},
   "outputs": [
    {
     "data": {
      "text/html": [
       "\n",
       "        <span>ListVector with 2 elements.</span>\n",
       "        <table>\n",
       "        <tbody>\n",
       "        \n",
       "          <tr>\n",
       "            <th>\n",
       "            value\n",
       "            </th>\n",
       "            <td>\n",
       "            <rpy2.rinterface.SexpClosure object at 0x7f7233893c00> [RTYPES.CLOSXP]\n",
       "            </td>\n",
       "          </tr>\n",
       "        \n",
       "          <tr>\n",
       "            <th>\n",
       "            visible\n",
       "            </th>\n",
       "            <td>\n",
       "            <rpy2.rinterface.BoolSexpVector object at 0x7f7255190580> [RTYPES.LGLSXP]\n",
       "            </td>\n",
       "          </tr>\n",
       "        \n",
       "        </tbody>\n",
       "        </table>\n",
       "        "
      ],
      "text/plain": [
       "R object with classes: ('list',) mapped to:\n",
       "[SexpClosure, BoolSexpVector]\n",
       "  value: <class 'rpy2.rinterface.SexpClosure'>\n",
       "  <rpy2.rinterface.SexpClosure object at 0x7f7255190dc0> [RTYPES.CLOSXP]\n",
       "  visible: <class 'rpy2.rinterface.BoolSexpVector'>\n",
       "  <rpy2.rinterface.BoolSexpVector object at 0x7f72551e3e40> [RTYPES.LGLSXP]"
      ]
     },
     "execution_count": 3,
     "metadata": {},
     "output_type": "execute_result"
    }
   ],
   "source": [
    "R[\"source\"](\"Scripts/config.R\")"
   ]
  },
  {
   "cell_type": "code",
   "execution_count": 4,
   "metadata": {},
   "outputs": [],
   "source": [
    "M = R('read.delim(\"Examples/PRAD.ptenloss.M.tsv\")')\n",
    "L = R('read.delim(\"Examples/PRAD.ptenloss.L.tsv\")[,1]')"
   ]
  },
  {
   "cell_type": "code",
   "execution_count": 5,
   "metadata": {},
   "outputs": [],
   "source": [
    "# Gene set list\n",
    "pl = R('read.gmt.file(\"gene_sets/cereda.158.KEGG.gmt\")')"
   ]
  },
  {
   "cell_type": "code",
   "execution_count": null,
   "metadata": {},
   "outputs": [
    {
     "name": "stdout",
     "output_type": "stream",
     "text": [
      "██████╗ ███████╗███████╗ ██████╗ █████╗\n",
      "██╔════╝ ██╔════╝██╔════╝██╔════╝██╔══██╗\n",
      "██║  ███╗███████╗█████╗  ██║     ███████║\n",
      "██║   ██║╚════██║██╔══╝  ██║     ██╔══██║\n",
      "╚██████╔╝███████║███████╗╚██████╗██║  ██║\n",
      "╚═════╝ ╚══════╝╚══════╝ ╚═════╝╚═╝  ╚═╝\n"
     ]
    },
    {
     "name": "stderr",
     "output_type": "stream",
     "text": [
      "R[write to console]: [*] loading datasets ...\n",
      "\n",
      "R[write to console]: [*] GSECA running ...\n",
      "\n",
      "R[write to console]:  === FMM and DD === \n",
      "[*] NE threshold: 0.01\n",
      "[*] Number of Expression Classes: 7\n",
      " -- Parallelizing 2 cores ...\n",
      "\n",
      "R[write to console]: [*] FMM Getting thresholds ...\n",
      "\n"
     ]
    }
   ],
   "source": [
    "R[\"GSECA_executor\"](  M # Gene Expression matrix\n",
    "                     , L # Sample label list\n",
    "                     , pl # gene set list\n",
    "                     , outdir = \"Results\" #outdir folder\n",
    "                     , analysis = \"my_analysis\"# analysis name\n",
    "                     #, N.CORES = 2 # number of cores\n",
    "                     , EMPIRICAL = True # true if empirical p-value is requested\n",
    "                     , BOOTSTRP = True\n",
    "                     , nsim = 2 # number of bootstrapping\n",
    "                     , AS = 0.25 # AS threshold\n",
    "                     , PEMP = 1 # p.emp threshold\n",
    "                     , SR   = 0.7 # success rate threshold\n",
    "                     , toprank = 10 # top ranked pathways\n",
    "                     , iphen = robjects.StrVector([\"CASE\", \"CNTR\"]) #  phenotype lables\n",
    ")"
   ]
  },
  {
   "cell_type": "code",
   "execution_count": null,
   "metadata": {},
   "outputs": [],
   "source": [
    "devtools = importr(\"devtools\")"
   ]
  },
  {
   "cell_type": "code",
   "execution_count": null,
   "metadata": {},
   "outputs": [],
   "source": []
  }
 ],
 "metadata": {
  "kernelspec": {
   "display_name": "Python 3",
   "language": "python",
   "name": "python3"
  },
  "language_info": {
   "codemirror_mode": {
    "name": "ipython",
    "version": 3
   },
   "file_extension": ".py",
   "mimetype": "text/x-python",
   "name": "python",
   "nbconvert_exporter": "python",
   "pygments_lexer": "ipython3",
   "version": "3.8.6"
  }
 },
 "nbformat": 4,
 "nbformat_minor": 4
}

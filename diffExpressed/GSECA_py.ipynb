{
 "cells": [
  {
   "cell_type": "code",
   "execution_count": null,
   "metadata": {},
   "outputs": [],
   "source": [
    "%load_ext autoreload\n",
    "%autoreload 2\n",
    "from rpy2 import robjects\n",
    "from rpy2.robjects import r as R\n",
    "from rpy2.robjects.packages import importr\n",
    "import pandas as pd\n",
    "R('options(repos=structure(c(CRAN=\"45\")))')"
   ]
  },
  {
   "cell_type": "code",
   "execution_count": null,
   "metadata": {},
   "outputs": [],
   "source": [
    "R[\"setwd\"](\"GSECA\")"
   ]
  },
  {
   "cell_type": "code",
   "execution_count": null,
   "metadata": {},
   "outputs": [],
   "source": [
    "R[\"source\"](\"Scripts/config.R\")"
   ]
  },
  {
   "cell_type": "markdown",
   "metadata": {},
   "source": [
    "# Cook Data"
   ]
  },
  {
   "cell_type": "code",
   "execution_count": null,
   "metadata": {},
   "outputs": [],
   "source": [
    "directory = \"../../topics/datasets/gtex10/\"\n",
    "Lev=2"
   ]
  },
  {
   "cell_type": "code",
   "execution_count": null,
   "metadata": {},
   "outputs": [],
   "source": [
    "df = pd.read_csv(f'{directory}/topsbm/topsbm_level_{Lev}_topic-dist.csv', index_col=1).drop(\"i_doc\", axis=1)\n",
    "df=df.transpose().reset_index()\n",
    "df.rename({\"index\":\"id\"}, axis=1, inplace=True)\n",
    "df = df.set_index(\"id\").transpose()\n",
    "#df = df.subtract(df.min(axis=0),1).abs().divide(df.max(axis=0)-df.min(axis=0),1) ## threshold should be 0.005\n",
    "df = df.subtract(df.mean(axis=0),1).abs().divide(df.std(0),1)\n",
    "df.head(2)"
   ]
  },
  {
   "cell_type": "code",
   "execution_count": null,
   "metadata": {},
   "outputs": [],
   "source": [
    "df_files = pd.read_csv(f'{directory}/files.dat', index_col=0).reindex(index=df.index)\n",
    "df[\"tissue\"] = df_files[\"SMTS\"]"
   ]
  },
  {
   "cell_type": "code",
   "execution_count": null,
   "metadata": {},
   "outputs": [],
   "source": [
    "data_df=df.groupby(\"tissue\").mean().applymap(lambda p: p > 1)"
   ]
  },
  {
   "cell_type": "markdown",
   "metadata": {},
   "source": [
    "# Prepare data"
   ]
  },
  {
   "cell_type": "code",
   "execution_count": null,
   "metadata": {},
   "outputs": [],
   "source": [
    "def is_case(topic:str)->bool:\n",
    "    return data_df.loc[\"Heart\"][topic.replace(\"topic\", \"Topic\").replace(\".\",\" \")]"
   ]
  },
  {
   "cell_type": "code",
   "execution_count": null,
   "metadata": {},
   "outputs": [],
   "source": [
    "pd.read_csv(f\"{directory}/topsbm/topsbm_level_{Lev}_word-dist.csv\").rename(columns={\"Unnamed: 0\":\"ensembl_gene_id\"}).set_index(\"ensembl_gene_id\").to_csv(\"../M.tsv\", sep=\"\\t\")\n",
    "M = R['read.delim'](\"../M.tsv\")"
   ]
  },
  {
   "cell_type": "code",
   "execution_count": null,
   "metadata": {},
   "outputs": [],
   "source": [
    "P_py = [\"CASE\" if is_case(topic) else \"CNTR\" for topic in R['names'](M)[1:]]\n",
    "L = robjects.StrVector(P_py)\n",
    "#R['names'](M)[1:]\n",
    "pd.DataFrame(L).to_csv(\"../L.tsv\", sep=\"\\t\", header=True, index=False)"
   ]
  },
  {
   "cell_type": "markdown",
   "metadata": {},
   "source": [
    "# Run"
   ]
  },
  {
   "cell_type": "code",
   "execution_count": null,
   "metadata": {},
   "outputs": [],
   "source": [
    "devtools = importr(\"devtools\")"
   ]
  },
  {
   "cell_type": "markdown",
   "metadata": {},
   "source": [
    "# Postprocessing"
   ]
  },
  {
   "cell_type": "code",
   "execution_count": null,
   "metadata": {},
   "outputs": [],
   "source": [
    "import os"
   ]
  },
  {
   "cell_type": "code",
   "execution_count": null,
   "metadata": {},
   "outputs": [],
   "source": [
    "res_dir = os.listdir(\"../Results\")\n",
    "res_dir"
   ]
  },
  {
   "cell_type": "code",
   "execution_count": null,
   "metadata": {},
   "outputs": [],
   "source": [
    "pd.read_csv(f\"../Results/{res_dir[-1]}/gseca.csv\").sort_values([\"pv\"], ascending=True)"
   ]
  },
  {
   "cell_type": "code",
   "execution_count": null,
   "metadata": {},
   "outputs": [],
   "source": []
  }
 ],
 "metadata": {
  "kernelspec": {
   "display_name": "Python 3",
   "language": "python",
   "name": "python3"
  },
  "language_info": {
   "codemirror_mode": {
    "name": "ipython",
    "version": 3
   },
   "file_extension": ".py",
   "mimetype": "text/x-python",
   "name": "python",
   "nbconvert_exporter": "python",
   "pygments_lexer": "ipython3",
   "version": "3.8.6"
  }
 },
 "nbformat": 4,
 "nbformat_minor": 4
}

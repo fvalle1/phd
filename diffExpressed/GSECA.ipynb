{
 "cells": [
  {
   "cell_type": "code",
   "execution_count": 14,
   "metadata": {},
   "outputs": [],
   "source": [
    "setwd(\"GSECA\")"
   ]
  },
  {
   "cell_type": "code",
   "execution_count": null,
   "metadata": {},
   "outputs": [],
   "source": [
    "#devtools::session_info()"
   ]
  },
  {
   "cell_type": "code",
   "execution_count": 10,
   "metadata": {},
   "outputs": [],
   "source": [
    "source(\"Scripts/config.R\")"
   ]
  },
  {
   "cell_type": "code",
   "execution_count": 11,
   "metadata": {},
   "outputs": [],
   "source": [
    "# Gene expression matrix & sample type\n",
    "M = read.delim(\"Examples/PRAD.ptenloss.M.tsv\")\n",
    "L = read.delim(\"Examples/PRAD.ptenloss.L.tsv\")[,1]"
   ]
  },
  {
   "cell_type": "code",
   "execution_count": 12,
   "metadata": {},
   "outputs": [],
   "source": [
    "# Gene set list\n",
    "pl = read.gmt.file(\"gene_sets/cereda.158.KEGG.gmt\")"
   ]
  },
  {
   "cell_type": "code",
   "execution_count": 13,
   "metadata": {},
   "outputs": [
    {
     "name": "stdout",
     "output_type": "stream",
     "text": [
      "██████╗ ███████╗███████╗ ██████╗ █████╗\n",
      "██╔════╝ ██╔════╝██╔════╝██╔════╝██╔══██╗\n",
      "██║  ███╗███████╗█████╗  ██║     ███████║\n",
      "██║   ██║╚════██║██╔══╝  ██║     ██╔══██║\n",
      "╚██████╔╝███████║███████╗╚██████╗██║  ██║\n",
      "╚═════╝ ╚══════╝╚══════╝ ╚═════╝╚═╝  ╚═╝\n"
     ]
    },
    {
     "name": "stderr",
     "output_type": "stream",
     "text": [
      "[*] loading datasets ...\n",
      "\n",
      "[*] GSECA running ...\n",
      "\n",
      " === FMM and DD === \n",
      "[*] NE threshold: 0.01\n",
      "[*] Number of Expression Classes: 7\n",
      " -- Parallelizing 2 cores ...\n",
      "\n",
      "[*] FMM Getting thresholds ...\n",
      "\n",
      "[*] DD Setting expression classes ...\n",
      "\n"
     ]
    },
    {
     "name": "stdout",
     "output_type": "stream",
     "text": [
      "  |======================================================================| 100%\n",
      "  |======================================================================| 100%\n"
     ]
    },
    {
     "name": "stderr",
     "output_type": "stream",
     "text": [
      " === Gene Set Enrichment Class Analysis === \n",
      "\n",
      "[*] GSECA core ...\n",
      "\n",
      "[*] GSECA scoring ...\n",
      "\n"
     ]
    },
    {
     "name": "stdout",
     "output_type": "stream",
     "text": [
      "  |======================================================================| 100%\n"
     ]
    },
    {
     "name": "stderr",
     "output_type": "stream",
     "text": [
      " [*] Empirical P-Value estimation ... \n",
      "\n",
      "snowfall 1.84-6.1 initialized (using snow 0.4-3): parallel execution on 2 CPUs.\n",
      "\n",
      "\n"
     ]
    },
    {
     "name": "stdout",
     "output_type": "stream",
     "text": [
      "Library parallel loaded.\n"
     ]
    },
    {
     "name": "stderr",
     "output_type": "stream",
     "text": [
      "Library parallel loaded in cluster.\n",
      "\n",
      "\n",
      "\n",
      "Stopping cluster\n",
      "\n",
      "\n",
      "[*] Compute P.emp ...\n",
      "\n",
      "[*] Success Rate for sample size ... \n",
      "\n",
      "GSECA.Bootstrap Create Phenotype lists ...\n",
      "\n"
     ]
    },
    {
     "name": "stdout",
     "output_type": "stream",
     "text": [
      "[1] \"Same number of samples per phenotype - Skip Sample size correction\"\n"
     ]
    },
    {
     "name": "stderr",
     "output_type": "stream",
     "text": [
      "[*] Saving files in folder: ../Results/Job1.2021-01-12.18_04_02.my_analysis\n",
      "\n",
      "[*] EC Map generation ...\n",
      "\n",
      "[*] Thresholds:\n",
      " - adj p-value = 0.1\n",
      " - Association score (AS) = 0.25\n",
      " - Empirical p-value (PE) = 1\n",
      " - Success rate (SR) = 0.7\n",
      "\n",
      "\n"
     ]
    }
   ],
   "source": [
    "# Run GSECA\n",
    "res = GSECA_executor(  M # Gene Expression matrix\n",
    "                     , L # Sample label list\n",
    "                     , pl # gene set list\n",
    "                     , outdir = \"../Results\" #outdir folder\n",
    "                     , analysis = \"my_analysis\"# analysis name\n",
    "                     , N.CORES = 2 # number of cores\n",
    "                     , EMPIRICAL = T # true if empirical p-value is requested\n",
    "                     , BOOTSTRP = T\n",
    "                     , nsim = 2 # number of bootstrapping\n",
    "                     , AS = 0.25 # AS threshold\n",
    "                     , PEMP = 1 # p.emp threshold\n",
    "                     , SR   = 0.7 # success rate threshold\n",
    "                     , toprank = 10 # success rate threshold\n",
    "                     , iphen = c(\"CASE\", \"CNTR\") #  phenotype lables\n",
    ")"
   ]
  },
  {
   "cell_type": "code",
   "execution_count": null,
   "metadata": {},
   "outputs": [],
   "source": []
  }
 ],
 "metadata": {
  "kernelspec": {
   "display_name": "R",
   "language": "R",
   "name": "ir"
  },
  "language_info": {
   "codemirror_mode": "r",
   "file_extension": ".r",
   "mimetype": "text/x-r-source",
   "name": "R",
   "pygments_lexer": "r",
   "version": "4.0.3"
  }
 },
 "nbformat": 4,
 "nbformat_minor": 4
}

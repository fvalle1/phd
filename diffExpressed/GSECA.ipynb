{
 "cells": [
  {
   "cell_type": "code",
   "execution_count": null,
   "metadata": {},
   "outputs": [],
   "source": [
    "setwd(\"GSECA\")"
   ]
  },
  {
   "cell_type": "code",
   "execution_count": null,
   "metadata": {},
   "outputs": [],
   "source": [
    "#devtools::session_info()"
   ]
  },
  {
   "cell_type": "code",
   "execution_count": null,
   "metadata": {},
   "outputs": [],
   "source": [
    "source(\"Scripts/config.R\")"
   ]
  },
  {
   "cell_type": "code",
   "execution_count": null,
   "metadata": {},
   "outputs": [],
   "source": [
    "# Gene expression matrix & sample type\n",
    "M = read.delim(\"../M.tsv\")\n",
    "L = read.delim(\"../L.tsv\")[,1]"
   ]
  },
  {
   "cell_type": "code",
   "execution_count": null,
   "metadata": {},
   "outputs": [],
   "source": [
    "# Gene set list\n",
    "# https://maayanlab.cloud/Harmonizome/dataset/GTEx+Tissue+Gene+Expression+Profiles\n",
    "#pl = read.gmt.file(\"gene_sets/cereda.158.KEGG.gmt\")\n",
    "pl = read.gmt.file(\"../../MSigDB/c5.all.v7.1.symbols.gmt\") #1 MODULE, 2 KEGG, 5 GO"
   ]
  },
  {
   "cell_type": "code",
   "execution_count": null,
   "metadata": {},
   "outputs": [],
   "source": [
    "# Run GSECA\n",
    "res = GSECA_executor(  M # Gene Expression matrix\n",
    "                     , L # Sample label list\n",
    "                     , pl # gene set list\n",
    "                     , outdir = \"../Results\" #outdir folder\n",
    "                     , analysis = \"gtex10_topics\"# analysis name\n",
    "                     , N.CORES = 4 # number of cores\n",
    "                     , EMPIRICAL = T # true if empirical p-value is requested\n",
    "                     , BOOTSTRP = T\n",
    "                     , nsim = 2 # number of bootstrapping\n",
    "                     , AS = 0.25 # AS threshold\n",
    "                     , PEMP = 1 # p.emp threshold\n",
    "                     , SR   = 0.7 # success rate threshold\n",
    "                     , toprank = 10 # success rate threshold\n",
    "                     , iphen = c(\"CASE\", \"CNTR\") #  phenotype lables\n",
    ")"
   ]
  },
  {
   "cell_type": "code",
   "execution_count": null,
   "metadata": {},
   "outputs": [],
   "source": []
  }
 ],
 "metadata": {
  "kernelspec": {
   "display_name": "R",
   "language": "R",
   "name": "ir"
  },
  "language_info": {
   "codemirror_mode": "r",
   "file_extension": ".r",
   "mimetype": "text/x-r-source",
   "name": "R",
   "pygments_lexer": "r",
   "version": "4.0.2"
  }
 },
 "nbformat": 4,
 "nbformat_minor": 4
}

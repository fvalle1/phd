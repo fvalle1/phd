{
 "cells": [
  {
   "cell_type": "markdown",
   "metadata": {},
   "source": [
    "# DESeq in python using rpy2"
   ]
  },
  {
   "cell_type": "code",
   "execution_count": null,
   "metadata": {},
   "outputs": [],
   "source": [
    "%load_ext autoreload\n",
    "%autoreload 2\n",
    "import pandas as pd \n",
    "import numpy as np"
   ]
  },
  {
   "cell_type": "markdown",
   "metadata": {},
   "source": [
    "We will read the table and it should only contains count data"
   ]
  },
  {
   "cell_type": "code",
   "execution_count": null,
   "metadata": {},
   "outputs": [],
   "source": [
    "directory = \"../topics/datasets/gtex10/\"\n",
    "L = 3\n",
    "filename = f\"{directory}/topsbm/topsbm_level_{L}_topic-dist.csv\"\n",
    "df = pd.read_csv(filename, index_col=1).drop(\"i_doc\", axis=1)\n",
    "df = df.subtract(df.mean(0),1)\n",
    "df = df.add(df.min(0).abs(),1)\n",
    "df=df.transpose().reset_index()\n",
    "df.rename({\"index\":\"id\"}, axis=1, inplace=True)\n",
    "df.set_index(\"id\", inplace=True)\n",
    "df=df.applymap(lambda p: round(p*1000)+1).astype(int)\n",
    "df.reset_index(inplace=True)\n",
    "print(df.shape)\n",
    "df.head()"
   ]
  },
  {
   "cell_type": "markdown",
   "metadata": {},
   "source": [
    "And here, we will create a design matrix based on the samples in the count table. Note that the sample name has to be used as the ```pd.DataFrame``` index"
   ]
  },
  {
   "cell_type": "code",
   "execution_count": null,
   "metadata": {},
   "outputs": [],
   "source": [
    "#sample_df = pd.DataFrame({'samplename': df.columns}) \\\n",
    "#        .query('samplename != \"id\"')\\\n",
    "#        .assign(sample = lambda d: d.samplename.str.extract('([AB])_', expand=False)) \\\n",
    "#        .assign(replicate = lambda d: d.samplename.str.extract('_([123])', expand=False)) \n",
    "sample_df = pd.read_csv(f\"{directory}/files.dat\")\n",
    "sample_df[\"file_name\"] = sample_df.SAMPID\n",
    "sample_df=sample_df.reindex(columns=[\"file_name\",\"SMTS\"])\n",
    "\n",
    "sample_df.set_index(\"file_name\", inplace=True)\n",
    "sample_df=sample_df[sample_df.index.isin(df.columns)]\n",
    "\n",
    "tissue = sample_df[\"SMTS\"].unique()[2]\n",
    "print(tissue)\n",
    "\n",
    "sample_df[\"tissue\"]=[\"A\" if tissue in str(d) else \"B\" for d in sample_df[\"SMTS\"]]\n",
    "sample_df = sample_df.reindex(index=df.columns, columns=[\"tissue\"]).dropna(how=\"any\", axis=0)\n",
    "#df=df.reindex(columns=np.concatenate([[\"id\"],df.columns[df.columns.isin(sample_df.index)]])).dropna(how=\"any\", axis=0)\n",
    "sample_df.head()"
   ]
  },
  {
   "cell_type": "markdown",
   "metadata": {},
   "source": [
    "Running DESeq2 is jsut like how it is run in ```R```, but instead of the row.name being gene ID for the count table, we can jsut tell the function which column is the gene ID:"
   ]
  },
  {
   "cell_type": "code",
   "execution_count": null,
   "metadata": {},
   "outputs": [],
   "source": [
    "import sys\n",
    "sys.path.append(\"./diffexpr/\")"
   ]
  },
  {
   "cell_type": "code",
   "execution_count": null,
   "metadata": {},
   "outputs": [],
   "source": [
    "#df=pd.DataFrame(columns=[\"id\", \"s1\",\"s2\",\"s3\"], data=[[\"g1\",1,1,1],[\"g2\",2,3,3]])\n",
    "#sample_df = pd.DataFrame(columns=[\"subtype\"], index=[\"s1\",\"s2\",\"s3\"], data=[\"A\",\"B\",\"B\"])"
   ]
  },
  {
   "cell_type": "code",
   "execution_count": null,
   "metadata": {},
   "outputs": [],
   "source": [
    "from diffexpr.py_deseq import py_DESeq2\n",
    "\n",
    "dds = py_DESeq2(count_matrix = df,\n",
    "               design_matrix = sample_df,\n",
    "               design_formula = '~ tissue',\n",
    "               gene_column = 'id') # <- telling DESeq2 this should be the gene ID column\n",
    "    \n",
    "dds.run_deseq() \n",
    "dds.get_deseq_result()\n",
    "res = dds.deseq_result \n",
    "res.head()"
   ]
  },
  {
   "cell_type": "code",
   "execution_count": null,
   "metadata": {},
   "outputs": [],
   "source": [
    "import plotly.graph_objects as go\n",
    "fig = go.Figure()\n",
    "fig.add_trace(go.Scatter(x=res[\"baseMean\"],\n",
    "                         y=res[\"log2FoldChange\"],\n",
    "                         mode=\"markers+text\",\n",
    "                         marker={\"size\":20, \"color\":\"gray\"}, \n",
    "                         text=res.index,\n",
    "                         textposition=\"top center\")\n",
    "             )\n",
    "#for (x,y, name) in zip(res[\"baseMean\"],res[\"log2FoldChange\"],res.index):\n",
    "    #plt.annotate(name,xy=(x,y))\n",
    "    \n",
    "layout = {}\n",
    "layout[\"xaxis\"]={}\n",
    "layout[\"xaxis\"][\"title\"]=\"baseMean\"\n",
    "layout[\"xaxis\"][\"titlefont_size\"]=35\n",
    "layout[\"xaxis\"][\"tickfont_size\"]=30\n",
    "layout[\"yaxis\"]={}\n",
    "layout[\"yaxis\"][\"title\"]=\"log2FoldChange\"\n",
    "layout[\"yaxis\"][\"titlefont_size\"]=35\n",
    "layout[\"yaxis\"][\"tickfont_size\"]=30\n",
    "fig.update_layout(layout)\n",
    "fig.show()\n",
    "fig.write_image(f\"{directory}/topsbm/desqe2_level{L}_{tissue}.pdf\")"
   ]
  },
  {
   "cell_type": "code",
   "execution_count": null,
   "metadata": {},
   "outputs": [],
   "source": [
    "list(map(lambda g: print(g[:15]),pd.read_csv(f'{directory}/topsbm/topsbm_level_{L}_topics.csv')[\"Topic 4\"].dropna()))"
   ]
  },
  {
   "cell_type": "code",
   "execution_count": null,
   "metadata": {},
   "outputs": [],
   "source": [
    "dds.normalized_count() #DESeq2 normalized count"
   ]
  },
  {
   "cell_type": "code",
   "execution_count": null,
   "metadata": {},
   "outputs": [],
   "source": [
    "dds.comparison # show coefficients for GLM"
   ]
  },
  {
   "cell_type": "code",
   "execution_count": null,
   "metadata": {},
   "outputs": [],
   "source": [
    "# from the last cell, we see the arrangement of coefficients, \n",
    "# so that we can now use \"coef\" for lfcShrink\n",
    "# the comparison we want to focus on is 'sample_B_vs_A', so coef = 4 will be used\n",
    "lfc_res = dds.lfcShrink(coef=2, method='apeglm')\n",
    "lfc_res.head()"
   ]
  },
  {
   "cell_type": "code",
   "execution_count": null,
   "metadata": {},
   "outputs": [],
   "source": [
    "dds.deseq_result"
   ]
  },
  {
   "cell_type": "code",
   "execution_count": null,
   "metadata": {},
   "outputs": [],
   "source": []
  }
 ],
 "metadata": {
  "kernelspec": {
   "display_name": "Python 3",
   "language": "python",
   "name": "python3"
  },
  "language_info": {
   "codemirror_mode": {
    "name": "ipython",
    "version": 3
   },
   "file_extension": ".py",
   "mimetype": "text/x-python",
   "name": "python",
   "nbconvert_exporter": "python",
   "pygments_lexer": "ipython3",
   "version": "3.8.6"
  }
 },
 "nbformat": 4,
 "nbformat_minor": 4
}

{
 "cells": [
  {
   "cell_type": "markdown",
   "metadata": {},
   "source": [
    "# DESeq2 in python using rpy2"
   ]
  },
  {
   "cell_type": "code",
   "execution_count": 1,
   "metadata": {},
   "outputs": [],
   "source": [
    "%load_ext autoreload\n",
    "%autoreload 2\n",
    "import pandas as pd \n",
    "import numpy as np"
   ]
  },
  {
   "cell_type": "markdown",
   "metadata": {},
   "source": [
    "We will read the table and it should only contains count data"
   ]
  },
  {
   "cell_type": "code",
   "execution_count": 2,
   "metadata": {},
   "outputs": [
    {
     "name": "stdout",
     "output_type": "stream",
     "text": [
      "(315, 801)\n"
     ]
    },
    {
     "data": {
      "text/html": [
       "<div>\n",
       "<style scoped>\n",
       "    .dataframe tbody tr th:only-of-type {\n",
       "        vertical-align: middle;\n",
       "    }\n",
       "\n",
       "    .dataframe tbody tr th {\n",
       "        vertical-align: top;\n",
       "    }\n",
       "\n",
       "    .dataframe thead th {\n",
       "        text-align: right;\n",
       "    }\n",
       "</style>\n",
       "<table border=\"1\" class=\"dataframe\">\n",
       "  <thead>\n",
       "    <tr style=\"text-align: right;\">\n",
       "      <th>doc</th>\n",
       "      <th>id</th>\n",
       "      <th>TCGA-B6-A0RV-01A-11R-A084-07</th>\n",
       "      <th>TCGA-BH-A1EU-01A-11R-A137-07</th>\n",
       "      <th>TCGA-E9-A1RB-11A-33R-A157-07</th>\n",
       "      <th>TCGA-B6-A0RS-01A-11R-A084-07</th>\n",
       "      <th>TCGA-A8-A06N-01A-11R-A00Z-07</th>\n",
       "      <th>TCGA-AR-A2LL-01A-11R-A180-07</th>\n",
       "      <th>TCGA-BH-A0HL-01A-11R-A10U-07</th>\n",
       "      <th>TCGA-A8-A09Q-01A-11R-A00Z-07</th>\n",
       "      <th>TCGA-BH-A1FR-01A-11R-A13Q-07</th>\n",
       "      <th>...</th>\n",
       "      <th>GTEX-12WSG-2126-SM-5EGJ7</th>\n",
       "      <th>GTEX-1117F-2426-SM-5EGGH</th>\n",
       "      <th>GTEX-12ZZX-2126-SM-5LZVL</th>\n",
       "      <th>GTEX-POMQ-1226-SM-3P61F</th>\n",
       "      <th>GTEX-11EM3-1926-SM-5987U</th>\n",
       "      <th>GTEX-ZLWG-1026-SM-4WWC4</th>\n",
       "      <th>GTEX-UPIC-1526-SM-4IHLU</th>\n",
       "      <th>GTEX-145ME-1326-SM-5O98Q</th>\n",
       "      <th>GTEX-T2IS-2226-SM-4DM65</th>\n",
       "      <th>GTEX-1399S-2226-SM-5IFEW</th>\n",
       "    </tr>\n",
       "  </thead>\n",
       "  <tbody>\n",
       "    <tr>\n",
       "      <th>0</th>\n",
       "      <td>Topic 1</td>\n",
       "      <td>27</td>\n",
       "      <td>43</td>\n",
       "      <td>41</td>\n",
       "      <td>33</td>\n",
       "      <td>22</td>\n",
       "      <td>39</td>\n",
       "      <td>14</td>\n",
       "      <td>38</td>\n",
       "      <td>27</td>\n",
       "      <td>...</td>\n",
       "      <td>32</td>\n",
       "      <td>9</td>\n",
       "      <td>23</td>\n",
       "      <td>41</td>\n",
       "      <td>23</td>\n",
       "      <td>39</td>\n",
       "      <td>27</td>\n",
       "      <td>16</td>\n",
       "      <td>30</td>\n",
       "      <td>76</td>\n",
       "    </tr>\n",
       "    <tr>\n",
       "      <th>1</th>\n",
       "      <td>Topic 2</td>\n",
       "      <td>1</td>\n",
       "      <td>1</td>\n",
       "      <td>1</td>\n",
       "      <td>1</td>\n",
       "      <td>1</td>\n",
       "      <td>1</td>\n",
       "      <td>1</td>\n",
       "      <td>1</td>\n",
       "      <td>1</td>\n",
       "      <td>...</td>\n",
       "      <td>1</td>\n",
       "      <td>1</td>\n",
       "      <td>1</td>\n",
       "      <td>1</td>\n",
       "      <td>1</td>\n",
       "      <td>1</td>\n",
       "      <td>1</td>\n",
       "      <td>1</td>\n",
       "      <td>2</td>\n",
       "      <td>1</td>\n",
       "    </tr>\n",
       "    <tr>\n",
       "      <th>2</th>\n",
       "      <td>Topic 3</td>\n",
       "      <td>1</td>\n",
       "      <td>1</td>\n",
       "      <td>1</td>\n",
       "      <td>1</td>\n",
       "      <td>1</td>\n",
       "      <td>1</td>\n",
       "      <td>1</td>\n",
       "      <td>1</td>\n",
       "      <td>1</td>\n",
       "      <td>...</td>\n",
       "      <td>1</td>\n",
       "      <td>1</td>\n",
       "      <td>1</td>\n",
       "      <td>1</td>\n",
       "      <td>1</td>\n",
       "      <td>1</td>\n",
       "      <td>1</td>\n",
       "      <td>1</td>\n",
       "      <td>1</td>\n",
       "      <td>1</td>\n",
       "    </tr>\n",
       "    <tr>\n",
       "      <th>3</th>\n",
       "      <td>Topic 4</td>\n",
       "      <td>1</td>\n",
       "      <td>1</td>\n",
       "      <td>1</td>\n",
       "      <td>1</td>\n",
       "      <td>2</td>\n",
       "      <td>1</td>\n",
       "      <td>1</td>\n",
       "      <td>1</td>\n",
       "      <td>1</td>\n",
       "      <td>...</td>\n",
       "      <td>1</td>\n",
       "      <td>1</td>\n",
       "      <td>1</td>\n",
       "      <td>1</td>\n",
       "      <td>1</td>\n",
       "      <td>1</td>\n",
       "      <td>1</td>\n",
       "      <td>1</td>\n",
       "      <td>1</td>\n",
       "      <td>1</td>\n",
       "    </tr>\n",
       "    <tr>\n",
       "      <th>4</th>\n",
       "      <td>Topic 5</td>\n",
       "      <td>2</td>\n",
       "      <td>3</td>\n",
       "      <td>2</td>\n",
       "      <td>6</td>\n",
       "      <td>2</td>\n",
       "      <td>2</td>\n",
       "      <td>4</td>\n",
       "      <td>3</td>\n",
       "      <td>3</td>\n",
       "      <td>...</td>\n",
       "      <td>3</td>\n",
       "      <td>3</td>\n",
       "      <td>3</td>\n",
       "      <td>3</td>\n",
       "      <td>5</td>\n",
       "      <td>6</td>\n",
       "      <td>3</td>\n",
       "      <td>3</td>\n",
       "      <td>3</td>\n",
       "      <td>3</td>\n",
       "    </tr>\n",
       "  </tbody>\n",
       "</table>\n",
       "<p>5 rows × 801 columns</p>\n",
       "</div>"
      ],
      "text/plain": [
       "doc       id  TCGA-B6-A0RV-01A-11R-A084-07  TCGA-BH-A1EU-01A-11R-A137-07  \\\n",
       "0    Topic 1                            27                            43   \n",
       "1    Topic 2                             1                             1   \n",
       "2    Topic 3                             1                             1   \n",
       "3    Topic 4                             1                             1   \n",
       "4    Topic 5                             2                             3   \n",
       "\n",
       "doc  TCGA-E9-A1RB-11A-33R-A157-07  TCGA-B6-A0RS-01A-11R-A084-07  \\\n",
       "0                              41                            33   \n",
       "1                               1                             1   \n",
       "2                               1                             1   \n",
       "3                               1                             1   \n",
       "4                               2                             6   \n",
       "\n",
       "doc  TCGA-A8-A06N-01A-11R-A00Z-07  TCGA-AR-A2LL-01A-11R-A180-07  \\\n",
       "0                              22                            39   \n",
       "1                               1                             1   \n",
       "2                               1                             1   \n",
       "3                               2                             1   \n",
       "4                               2                             2   \n",
       "\n",
       "doc  TCGA-BH-A0HL-01A-11R-A10U-07  TCGA-A8-A09Q-01A-11R-A00Z-07  \\\n",
       "0                              14                            38   \n",
       "1                               1                             1   \n",
       "2                               1                             1   \n",
       "3                               1                             1   \n",
       "4                               4                             3   \n",
       "\n",
       "doc  TCGA-BH-A1FR-01A-11R-A13Q-07  ...  GTEX-12WSG-2126-SM-5EGJ7  \\\n",
       "0                              27  ...                        32   \n",
       "1                               1  ...                         1   \n",
       "2                               1  ...                         1   \n",
       "3                               1  ...                         1   \n",
       "4                               3  ...                         3   \n",
       "\n",
       "doc  GTEX-1117F-2426-SM-5EGGH  GTEX-12ZZX-2126-SM-5LZVL  \\\n",
       "0                           9                        23   \n",
       "1                           1                         1   \n",
       "2                           1                         1   \n",
       "3                           1                         1   \n",
       "4                           3                         3   \n",
       "\n",
       "doc  GTEX-POMQ-1226-SM-3P61F  GTEX-11EM3-1926-SM-5987U  \\\n",
       "0                         41                        23   \n",
       "1                          1                         1   \n",
       "2                          1                         1   \n",
       "3                          1                         1   \n",
       "4                          3                         5   \n",
       "\n",
       "doc  GTEX-ZLWG-1026-SM-4WWC4  GTEX-UPIC-1526-SM-4IHLU  \\\n",
       "0                         39                       27   \n",
       "1                          1                        1   \n",
       "2                          1                        1   \n",
       "3                          1                        1   \n",
       "4                          6                        3   \n",
       "\n",
       "doc  GTEX-145ME-1326-SM-5O98Q  GTEX-T2IS-2226-SM-4DM65  \\\n",
       "0                          16                       30   \n",
       "1                           1                        2   \n",
       "2                           1                        1   \n",
       "3                           1                        1   \n",
       "4                           3                        3   \n",
       "\n",
       "doc  GTEX-1399S-2226-SM-5IFEW  \n",
       "0                          76  \n",
       "1                           1  \n",
       "2                           1  \n",
       "3                           1  \n",
       "4                           3  \n",
       "\n",
       "[5 rows x 801 columns]"
      ]
     },
     "execution_count": 2,
     "metadata": {},
     "output_type": "execute_result"
    }
   ],
   "source": [
    "directory = \"../topics/unified/\"\n",
    "L = 3\n",
    "filename = f\"{directory}/topsbm/topsbm_level_{L}_topic-dist.csv\"\n",
    "df = pd.read_csv(filename, index_col=1).drop(\"i_doc\", axis=1)\n",
    "df = df.subtract(df.mean(0),1)\n",
    "df = df.add(df.min(0).abs(),1)\n",
    "df=df.transpose().reset_index()\n",
    "df.rename({\"index\":\"id\"}, axis=1, inplace=True)\n",
    "df.set_index(\"id\", inplace=True)\n",
    "df=df.applymap(lambda p: round(p*1000)+1).astype(int)\n",
    "df.reset_index(inplace=True)\n",
    "print(df.shape)\n",
    "df.head()"
   ]
  },
  {
   "cell_type": "markdown",
   "metadata": {},
   "source": [
    "And here, we will create a design matrix based on the samples in the count table. Note that the sample name has to be used as the ```pd.DataFrame``` index"
   ]
  },
  {
   "cell_type": "code",
   "execution_count": 10,
   "metadata": {},
   "outputs": [
    {
     "name": "stdout",
     "output_type": "stream",
     "text": [
      "(array(['healthy', 'tumor'], dtype=object), array([451, 349]))\n",
      "tumor\n"
     ]
    },
    {
     "data": {
      "text/html": [
       "<div>\n",
       "<style scoped>\n",
       "    .dataframe tbody tr th:only-of-type {\n",
       "        vertical-align: middle;\n",
       "    }\n",
       "\n",
       "    .dataframe tbody tr th {\n",
       "        vertical-align: top;\n",
       "    }\n",
       "\n",
       "    .dataframe thead th {\n",
       "        text-align: right;\n",
       "    }\n",
       "</style>\n",
       "<table border=\"1\" class=\"dataframe\">\n",
       "  <thead>\n",
       "    <tr style=\"text-align: right;\">\n",
       "      <th></th>\n",
       "      <th>treat</th>\n",
       "    </tr>\n",
       "    <tr>\n",
       "      <th>doc</th>\n",
       "      <th></th>\n",
       "    </tr>\n",
       "  </thead>\n",
       "  <tbody>\n",
       "    <tr>\n",
       "      <th>TCGA-B6-A0RV-01A-11R-A084-07</th>\n",
       "      <td>A</td>\n",
       "    </tr>\n",
       "    <tr>\n",
       "      <th>TCGA-BH-A1EU-01A-11R-A137-07</th>\n",
       "      <td>A</td>\n",
       "    </tr>\n",
       "    <tr>\n",
       "      <th>TCGA-E9-A1RB-11A-33R-A157-07</th>\n",
       "      <td>B</td>\n",
       "    </tr>\n",
       "    <tr>\n",
       "      <th>TCGA-B6-A0RS-01A-11R-A084-07</th>\n",
       "      <td>A</td>\n",
       "    </tr>\n",
       "    <tr>\n",
       "      <th>TCGA-A8-A06N-01A-11R-A00Z-07</th>\n",
       "      <td>A</td>\n",
       "    </tr>\n",
       "  </tbody>\n",
       "</table>\n",
       "</div>"
      ],
      "text/plain": [
       "                             treat\n",
       "doc                               \n",
       "TCGA-B6-A0RV-01A-11R-A084-07     A\n",
       "TCGA-BH-A1EU-01A-11R-A137-07     A\n",
       "TCGA-E9-A1RB-11A-33R-A157-07     B\n",
       "TCGA-B6-A0RS-01A-11R-A084-07     A\n",
       "TCGA-A8-A06N-01A-11R-A00Z-07     A"
      ]
     },
     "execution_count": 10,
     "metadata": {},
     "output_type": "execute_result"
    }
   ],
   "source": [
    "#sample_df = pd.DataFrame({'samplename': df.columns}) \\\n",
    "#        .query('samplename != \"id\"')\\\n",
    "#        .assign(sample = lambda d: d.samplename.str.extract('([AB])_', expand=False)) \\\n",
    "#        .assign(replicate = lambda d: d.samplename.str.extract('_([123])', expand=False)) \n",
    "sample_df = pd.read_csv(f\"{directory}/files.dat\", index_col=0)\n",
    "sample_df[\"file_name\"] = sample_df.index\n",
    "label = \"status\"\n",
    "sample_df=sample_df.reindex(columns=[\"file_name\", label])\n",
    "\n",
    "sample_df.set_index(\"file_name\", inplace=True)\n",
    "sample_df=sample_df[sample_df.index.isin(df.columns)]\n",
    "\n",
    "print(np.unique(sample_df[label],return_counts=True))\n",
    "tissue = sample_df[label].unique()[0]\n",
    "print(tissue)\n",
    "\n",
    "sample_df[\"treat\"]=[\"A\" if tissue in str(d) else \"B\" for d in sample_df[label]]\n",
    "sample_df = sample_df.reindex(index=df.columns, columns=[\"treat\"]).dropna(how=\"any\", axis=0)\n",
    "#df=df.reindex(columns=np.concatenate([[\"id\"],df.columns[df.columns.isin(sample_df.index)]])).dropna(how=\"any\", axis=0)\n",
    "sample_df.head()"
   ]
  },
  {
   "cell_type": "markdown",
   "metadata": {},
   "source": [
    "Running DESeq2 is jsut like how it is run in ```R```, but instead of the row.name being gene ID for the count table, we can jsut tell the function which column is the gene ID:"
   ]
  },
  {
   "cell_type": "code",
   "execution_count": 11,
   "metadata": {},
   "outputs": [],
   "source": [
    "import sys\n",
    "sys.path.append(\"./diffexpr/\")"
   ]
  },
  {
   "cell_type": "code",
   "execution_count": 12,
   "metadata": {},
   "outputs": [],
   "source": [
    "#df=pd.DataFrame(columns=[\"id\", \"s1\",\"s2\",\"s3\"], data=[[\"g1\",1,1,1],[\"g2\",2,3,3]])\n",
    "#sample_df = pd.DataFrame(columns=[\"subtype\"], index=[\"s1\",\"s2\",\"s3\"], data=[\"A\",\"B\",\"B\"])"
   ]
  },
  {
   "cell_type": "code",
   "execution_count": 13,
   "metadata": {},
   "outputs": [
    {
     "name": "stderr",
     "output_type": "stream",
     "text": [
      "WARNING:rpy2.rinterface_lib.callbacks:R[write to console]: estimating size factors\n",
      "\n",
      "WARNING:rpy2.rinterface_lib.callbacks:R[write to console]: estimating dispersions\n",
      "\n",
      "WARNING:rpy2.rinterface_lib.callbacks:R[write to console]: gene-wise dispersion estimates\n",
      "\n",
      "WARNING:rpy2.rinterface_lib.callbacks:R[write to console]: mean-dispersion relationship\n",
      "\n",
      "WARNING:rpy2.rinterface_lib.callbacks:R[write to console]: -- note: fitType='parametric', but the dispersion trend was not well captured by the\n",
      "   function: y = a/x + b, and a local regression fit was automatically substituted.\n",
      "   specify fitType='local' or 'mean' to avoid this message next time.\n",
      "\n",
      "WARNING:rpy2.rinterface_lib.callbacks:R[write to console]: final dispersion estimates\n",
      "\n",
      "WARNING:rpy2.rinterface_lib.callbacks:R[write to console]: fitting model and testing\n",
      "\n",
      "WARNING:rpy2.rinterface_lib.callbacks:R[write to console]: -- replacing outliers and refitting for 6 genes\n",
      "-- DESeq argument 'minReplicatesForReplace' = 7 \n",
      "-- original counts are preserved in counts(dds)\n",
      "\n",
      "WARNING:rpy2.rinterface_lib.callbacks:R[write to console]: estimating dispersions\n",
      "\n",
      "WARNING:rpy2.rinterface_lib.callbacks:R[write to console]: fitting model and testing\n",
      "\n"
     ]
    },
    {
     "data": {
      "text/html": [
       "<div>\n",
       "<style scoped>\n",
       "    .dataframe tbody tr th:only-of-type {\n",
       "        vertical-align: middle;\n",
       "    }\n",
       "\n",
       "    .dataframe tbody tr th {\n",
       "        vertical-align: top;\n",
       "    }\n",
       "\n",
       "    .dataframe thead th {\n",
       "        text-align: right;\n",
       "    }\n",
       "</style>\n",
       "<table border=\"1\" class=\"dataframe\">\n",
       "  <thead>\n",
       "    <tr style=\"text-align: right;\">\n",
       "      <th></th>\n",
       "      <th>baseMean</th>\n",
       "      <th>log2FoldChange</th>\n",
       "      <th>lfcSE</th>\n",
       "      <th>stat</th>\n",
       "      <th>pvalue</th>\n",
       "      <th>padj</th>\n",
       "      <th>id</th>\n",
       "    </tr>\n",
       "  </thead>\n",
       "  <tbody>\n",
       "    <tr>\n",
       "      <th>Topic 1</th>\n",
       "      <td>49.643410</td>\n",
       "      <td>0.082119</td>\n",
       "      <td>0.079312</td>\n",
       "      <td>1.035392</td>\n",
       "      <td>3.004859e-01</td>\n",
       "      <td>4.674225e-01</td>\n",
       "      <td>Topic 1</td>\n",
       "    </tr>\n",
       "    <tr>\n",
       "      <th>Topic 2</th>\n",
       "      <td>5.061009</td>\n",
       "      <td>-0.824337</td>\n",
       "      <td>0.149545</td>\n",
       "      <td>-5.512300</td>\n",
       "      <td>3.541754e-08</td>\n",
       "      <td>1.847268e-07</td>\n",
       "      <td>Topic 2</td>\n",
       "    </tr>\n",
       "    <tr>\n",
       "      <th>Topic 3</th>\n",
       "      <td>1.899734</td>\n",
       "      <td>0.611664</td>\n",
       "      <td>0.105904</td>\n",
       "      <td>5.775652</td>\n",
       "      <td>7.665588e-09</td>\n",
       "      <td>4.432710e-08</td>\n",
       "      <td>Topic 3</td>\n",
       "    </tr>\n",
       "    <tr>\n",
       "      <th>Topic 4</th>\n",
       "      <td>3.508483</td>\n",
       "      <td>0.718550</td>\n",
       "      <td>0.129759</td>\n",
       "      <td>5.537580</td>\n",
       "      <td>3.066799e-08</td>\n",
       "      <td>1.631537e-07</td>\n",
       "      <td>Topic 4</td>\n",
       "    </tr>\n",
       "    <tr>\n",
       "      <th>Topic 5</th>\n",
       "      <td>2.916595</td>\n",
       "      <td>0.288115</td>\n",
       "      <td>0.067258</td>\n",
       "      <td>4.283704</td>\n",
       "      <td>1.838073e-05</td>\n",
       "      <td>7.521959e-05</td>\n",
       "      <td>Topic 5</td>\n",
       "    </tr>\n",
       "  </tbody>\n",
       "</table>\n",
       "</div>"
      ],
      "text/plain": [
       "          baseMean  log2FoldChange     lfcSE      stat        pvalue  \\\n",
       "Topic 1  49.643410        0.082119  0.079312  1.035392  3.004859e-01   \n",
       "Topic 2   5.061009       -0.824337  0.149545 -5.512300  3.541754e-08   \n",
       "Topic 3   1.899734        0.611664  0.105904  5.775652  7.665588e-09   \n",
       "Topic 4   3.508483        0.718550  0.129759  5.537580  3.066799e-08   \n",
       "Topic 5   2.916595        0.288115  0.067258  4.283704  1.838073e-05   \n",
       "\n",
       "                 padj       id  \n",
       "Topic 1  4.674225e-01  Topic 1  \n",
       "Topic 2  1.847268e-07  Topic 2  \n",
       "Topic 3  4.432710e-08  Topic 3  \n",
       "Topic 4  1.631537e-07  Topic 4  \n",
       "Topic 5  7.521959e-05  Topic 5  "
      ]
     },
     "execution_count": 13,
     "metadata": {},
     "output_type": "execute_result"
    }
   ],
   "source": [
    "from diffexpr.py_deseq import py_DESeq2\n",
    "\n",
    "dds = py_DESeq2(count_matrix = df,\n",
    "               design_matrix = sample_df,\n",
    "               design_formula = '~ treat',\n",
    "               gene_column = 'id') # <- telling DESeq2 this should be the gene ID column\n",
    "    \n",
    "dds.run_deseq() \n",
    "dds.get_deseq_result()\n",
    "res = dds.deseq_result \n",
    "res.head()"
   ]
  },
  {
   "cell_type": "code",
   "execution_count": 14,
   "metadata": {},
   "outputs": [
    {
     "data": {
      "application/vnd.plotly.v1+json": {
       "config": {
        "plotlyServerURL": "https://plot.ly"
       },
       "data": [
        {
         "marker": {
          "color": "gray",
          "size": 20
         },
         "mode": "markers+text",
         "text": [
          "Topic 1",
          "Topic 2",
          "Topic 3",
          "Topic 4",
          "Topic 5",
          "Topic 6",
          "Topic 7",
          "Topic 8",
          "Topic 9",
          "Topic 10",
          "Topic 11",
          "Topic 12",
          "Topic 13",
          "Topic 14",
          "Topic 15",
          "Topic 16",
          "Topic 17",
          "Topic 18",
          "Topic 19",
          "Topic 20",
          "Topic 21",
          "Topic 22",
          "Topic 23",
          "Topic 24",
          "Topic 25",
          "Topic 26",
          "Topic 27",
          "Topic 28",
          "Topic 29",
          "Topic 30",
          "Topic 31",
          "Topic 32",
          "Topic 33",
          "Topic 34",
          "Topic 35",
          "Topic 36",
          "Topic 37",
          "Topic 38",
          "Topic 39",
          "Topic 40",
          "Topic 41",
          "Topic 42",
          "Topic 43",
          "Topic 44",
          "Topic 45",
          "Topic 46",
          "Topic 47",
          "Topic 48",
          "Topic 49",
          "Topic 50",
          "Topic 51",
          "Topic 52",
          "Topic 53",
          "Topic 54",
          "Topic 55",
          "Topic 56",
          "Topic 57",
          "Topic 58",
          "Topic 59",
          "Topic 60",
          "Topic 61",
          "Topic 62",
          "Topic 63",
          "Topic 64",
          "Topic 65",
          "Topic 66",
          "Topic 67",
          "Topic 68",
          "Topic 69",
          "Topic 70",
          "Topic 71",
          "Topic 72",
          "Topic 73",
          "Topic 74",
          "Topic 75",
          "Topic 76",
          "Topic 77",
          "Topic 78",
          "Topic 79",
          "Topic 80",
          "Topic 81",
          "Topic 82",
          "Topic 83",
          "Topic 84",
          "Topic 85",
          "Topic 86",
          "Topic 87",
          "Topic 88",
          "Topic 89",
          "Topic 90",
          "Topic 91",
          "Topic 92",
          "Topic 93",
          "Topic 94",
          "Topic 95",
          "Topic 96",
          "Topic 97",
          "Topic 98",
          "Topic 99",
          "Topic 100",
          "Topic 101",
          "Topic 102",
          "Topic 103",
          "Topic 104",
          "Topic 105",
          "Topic 106",
          "Topic 107",
          "Topic 108",
          "Topic 109",
          "Topic 110",
          "Topic 111",
          "Topic 112",
          "Topic 113",
          "Topic 114",
          "Topic 115",
          "Topic 116",
          "Topic 117",
          "Topic 118",
          "Topic 119",
          "Topic 120",
          "Topic 121",
          "Topic 122",
          "Topic 123",
          "Topic 124",
          "Topic 125",
          "Topic 126",
          "Topic 127",
          "Topic 128",
          "Topic 129",
          "Topic 130",
          "Topic 131",
          "Topic 132",
          "Topic 133",
          "Topic 134",
          "Topic 135",
          "Topic 136",
          "Topic 137",
          "Topic 138",
          "Topic 139",
          "Topic 140",
          "Topic 141",
          "Topic 142",
          "Topic 143",
          "Topic 144",
          "Topic 145",
          "Topic 146",
          "Topic 147",
          "Topic 148",
          "Topic 149",
          "Topic 150",
          "Topic 151",
          "Topic 152",
          "Topic 153",
          "Topic 154",
          "Topic 155",
          "Topic 156",
          "Topic 157",
          "Topic 158",
          "Topic 159",
          "Topic 160",
          "Topic 161",
          "Topic 162",
          "Topic 163",
          "Topic 164",
          "Topic 165",
          "Topic 166",
          "Topic 167",
          "Topic 168",
          "Topic 169",
          "Topic 170",
          "Topic 171",
          "Topic 172",
          "Topic 173",
          "Topic 174",
          "Topic 175",
          "Topic 176",
          "Topic 177",
          "Topic 178",
          "Topic 179",
          "Topic 180",
          "Topic 181",
          "Topic 182",
          "Topic 183",
          "Topic 184",
          "Topic 185",
          "Topic 186",
          "Topic 187",
          "Topic 188",
          "Topic 189",
          "Topic 190",
          "Topic 191",
          "Topic 192",
          "Topic 193",
          "Topic 194",
          "Topic 195",
          "Topic 196",
          "Topic 197",
          "Topic 198",
          "Topic 199",
          "Topic 200",
          "Topic 201",
          "Topic 202",
          "Topic 203",
          "Topic 204",
          "Topic 205",
          "Topic 206",
          "Topic 207",
          "Topic 208",
          "Topic 209",
          "Topic 210",
          "Topic 211",
          "Topic 212",
          "Topic 213",
          "Topic 214",
          "Topic 215",
          "Topic 216",
          "Topic 217",
          "Topic 218",
          "Topic 219",
          "Topic 220",
          "Topic 221",
          "Topic 222",
          "Topic 223",
          "Topic 224",
          "Topic 225",
          "Topic 226",
          "Topic 227",
          "Topic 228",
          "Topic 229",
          "Topic 230",
          "Topic 231",
          "Topic 232",
          "Topic 233",
          "Topic 234",
          "Topic 235",
          "Topic 236",
          "Topic 237",
          "Topic 238",
          "Topic 239",
          "Topic 240",
          "Topic 241",
          "Topic 242",
          "Topic 243",
          "Topic 244",
          "Topic 245",
          "Topic 246",
          "Topic 247",
          "Topic 248",
          "Topic 249",
          "Topic 250",
          "Topic 251",
          "Topic 252",
          "Topic 253",
          "Topic 254",
          "Topic 255",
          "Topic 256",
          "Topic 257",
          "Topic 258",
          "Topic 259",
          "Topic 260",
          "Topic 261",
          "Topic 262",
          "Topic 263",
          "Topic 264",
          "Topic 265",
          "Topic 266",
          "Topic 267",
          "Topic 268",
          "Topic 269",
          "Topic 270",
          "Topic 271",
          "Topic 272",
          "Topic 273",
          "Topic 274",
          "Topic 275",
          "Topic 276",
          "Topic 277",
          "Topic 278",
          "Topic 279",
          "Topic 280",
          "Topic 281",
          "Topic 282",
          "Topic 283",
          "Topic 284",
          "Topic 285",
          "Topic 286",
          "Topic 287",
          "Topic 288",
          "Topic 289",
          "Topic 290",
          "Topic 291",
          "Topic 292",
          "Topic 293",
          "Topic 294",
          "Topic 295",
          "Topic 296",
          "Topic 297",
          "Topic 298",
          "Topic 299",
          "Topic 300",
          "Topic 301",
          "Topic 302",
          "Topic 303",
          "Topic 304",
          "Topic 305",
          "Topic 306",
          "Topic 307",
          "Topic 308",
          "Topic 309",
          "Topic 310",
          "Topic 311",
          "Topic 312",
          "Topic 313",
          "Topic 314",
          "Topic 315"
         ],
         "textposition": "top center",
         "type": "scatter",
         "x": [
          49.64340997148818,
          5.061009181499846,
          1.8997343752941236,
          3.508482637770542,
          2.9165946999692176,
          1.2704098042382324,
          5.844407464418193,
          1.1573683922394353,
          1.8675040164796182,
          15.992369775466456,
          14.861733680032723,
          1.0349896250005168,
          23.90844426422307,
          1.2059034569049794,
          1.0439065244265233,
          3.116821006160583,
          15.31092597628631,
          28.14333411677084,
          1.9769817902380125,
          30.39693250835766,
          99.69811897881611,
          4.941509704356962,
          1.2539602618028298,
          1.037526231096502,
          1.1122817211198315,
          1.0542860285511064,
          1.0311086657320256,
          1.0602631652450312,
          2.863012462253152,
          1.2809144293742634,
          1.3235415454262722,
          1.243669445862221,
          1.0311086657320256,
          1.5663639279166301,
          1.0311086657320256,
          1.0621737447886217,
          88.50776586599926,
          1.4370360102017188,
          25.46808862265313,
          1.0656686783021474,
          1.835190552687235,
          1.0816453742952399,
          12.42940061669854,
          1.0337626215172524,
          7.849748744343161,
          1.1424357747507319,
          3.8562955432236166,
          8.56843449224053,
          92.99339373621237,
          1.1750628140158337,
          1.2719858260730272,
          2.127910864568475,
          1.0696606325150948,
          8.443419142923563,
          2.0390897752495865,
          14.23989473204762,
          17.281055409010687,
          4.327341878674401,
          1.1783086196173376,
          9.010514375667732,
          2.497870597315174,
          1.0926068174778831,
          1.269068971663937,
          2.423450334458375,
          17.44336990086279,
          1.869922720980261,
          12.013058665344298,
          1.2309063221816243,
          1.390320034230081,
          6.781125596183192,
          1.4805865685224067,
          2.223682000001048,
          44.38150641671762,
          2.0850539629542673,
          1.331647882841457,
          1.7435506435128507,
          2.2694983110844738,
          7.168634500916413,
          1.2029639080948173,
          1.1533913021462552,
          1.0311086657320256,
          1.0729957112192192,
          1.2908621414621875,
          14.681092651793092,
          5.423666307687414,
          3.9385389058199536,
          6.646370116933665,
          14.280989524016661,
          3.484169617391689,
          1.3730153481022054,
          1.1865036185855018,
          2.2076175257113713,
          19.704325195764223,
          1.0502405125934824,
          4.175635942955949,
          1.15098627250139,
          1.0323798458731848,
          1.6019650373136494,
          1.2942154671279635,
          1.5705606252754343,
          1.639915466654359,
          2.621349605960148,
          1.9673031500228564,
          1.8944891668467716,
          2.273988570003316,
          18.0387275128973,
          6.594999765584948,
          1.2011916248342143,
          3.2834149534762895,
          1.2389172867744105,
          20.60713465573949,
          5.640387073085152,
          6.448011475531333,
          2.612396494253508,
          1.891755535945611,
          2.2279842137306485,
          1.3598488487128901,
          3.0280132186181925,
          1.321652568841228,
          1.0797455016323358,
          1.050266831807128,
          1.2899981329340813,
          1.8649433867310568,
          24.13642766564659,
          8.117543097741773,
          1.527091000796909,
          1.123320154317733,
          1.4980339669730838,
          1.7776673126472684,
          1.1721082475555256,
          3.148005866943031,
          1.535486158875942,
          1.8475723194778935,
          2.8717097820808606,
          1.503903426338627,
          3.4331550760202547,
          1.4428839647493086,
          1.4856688281281714,
          2.7254691856433153,
          1.8624064215988068,
          1.7480017461705302,
          5.539741555923389,
          1.3815584627096593,
          1.0487545083696521,
          1.0866287642434347,
          1.0692390394650362,
          1.1584313898016303,
          1.0606132199953877,
          1.3249524199655867,
          1.0311086657320256,
          1.0311086657320256,
          1.0451404282838572,
          5.496762064415678,
          1.211408027422148,
          1.1759748094441245,
          1.0311086657320256,
          5.503917287763734,
          1.687574192851897,
          6.3916116492112796,
          1.0336503241469037,
          1.0495501390378432,
          1.4064425501928164,
          1.1095495908216066,
          1.0620442967075803,
          1.1853467320463962,
          1.9513514824308587,
          1.708602870969828,
          1.776767812336211,
          1.8992991078715626,
          1.0311086657320256,
          1.229801576587332,
          1.1425031041716558,
          1.8003311026109554,
          1.0311086657320256,
          1.297971663516746,
          1.03628874333463,
          1.6911270904390825,
          9.663494213702828,
          1.1512441962912363,
          1.3900228072900453,
          1.0961095694567446,
          1.3937058260052662,
          1.2611126090983258,
          2.6417169314851847,
          1.0311086657320256,
          1.3182914176494778,
          1.082397861105554,
          5.465885516746725,
          1.4495055451265606,
          1.0323791440057446,
          1.2173608046786253,
          4.212098595602388,
          1.1915762619823105,
          1.0769415235827533,
          2.4715917042799798,
          1.2640769603152786,
          2.2964339848894517,
          5.644078149102243,
          4.607554604887425,
          1.0387736664756144,
          1.4811246553744386,
          26.919081683415524,
          1.0311086657320256,
          1.0375240240167043,
          1.0387674540022238,
          1.2479405444593195,
          1.265405834564573,
          1.0323974083093654,
          1.1770007601301566,
          1.0323835296902848,
          1.0425280139881148,
          1.9441168463724405,
          1.1495591099083249,
          1.0311086657320256,
          1.554257870788871,
          1.0850498337939314,
          1.0311086657320256,
          1.0311086657320256,
          1.2859052610174742,
          1.227735649208117,
          1.0311086657320256,
          3.382222134907389,
          1.0800435659773695,
          1.095011346057371,
          1.2298799171926242,
          1.206096253472736,
          1.115250957174766,
          1.037526402514946,
          1.1124059655315413,
          1.21811171618663,
          3.7749244535846698,
          1.0822797554788017,
          1.4287545191683533,
          1.385449050503737,
          1.0311086657320256,
          1.0412173071431479,
          1.2059851541696547,
          1.0839817362025004,
          1.4089425071261088,
          1.2211459515961236,
          1.3809696538037879,
          1.0311086657320256,
          1.1975949723436814,
          1.0311086657320256,
          1.0568482068185518,
          8.243355675781253,
          1.0451659439190544,
          1.1296644527207815,
          1.1320034039771287,
          1.0619995186221483,
          1.0311086657320256,
          1.0311086657320256,
          1.0755168663446049,
          1.042489654097158,
          1.0311086657320256,
          1.0709149872102526,
          1.6087952859987673,
          1.5287958859301745,
          1.1321892362177708,
          1.5916503134816118,
          1.0400874228935224,
          2.955030690684806,
          1.3036634918509715,
          1.6716799043941386,
          1.0323586657320256,
          1.0337333044084174,
          1.0311086657320256,
          1.0311086657320256,
          1.0311086657320256,
          1.0323904537844404,
          1.0311086657320256,
          1.2001556973356284,
          1.0311086657320256,
          1.0427584131017553,
          1.0311086657320256,
          1.0311086657320256,
          1.0336641258776404,
          3.897769544492478,
          1.0311086657320256,
          1.1421889916249506,
          1.9188571830279348,
          1.0323877092168072,
          1.0311086657320256,
          1.0311086657320256,
          1.0311086657320256,
          1.0311086657320256,
          1.6918206202987485,
          7.828945294944843,
          1.1056544187371795,
          1.1215452638464822,
          1.0311086657320256,
          1.1559391536440662,
          1.038831665313775,
          1.0311086657320256,
          1.0311086657320256,
          1.0569750006080396,
          1.1250417240339279,
          1.0617153196393931,
          7.798593870106943,
          1.0311086657320256,
          1.3945439939000912,
          1.4892526949511977,
          1.0311086657320256,
          1.0311086657320256,
          1.0311086657320256,
          1.0311086657320256,
          1.0311086657320256,
          3.753705262870004,
          2.8859856827049346,
          1.0311086657320256,
          1.0590050386731416,
          1.0349556132513253,
          1.0311086657320256,
          1.0311086657320256,
          1.0311086657320256
         ],
         "y": [
          0.08211871806719975,
          -0.8243372582465298,
          0.6116640110389602,
          0.7185499005807342,
          0.2881152331123043,
          -0.21125456612315172,
          1.4227134213992292,
          -0.22531518221545238,
          -0.18029907655470384,
          -0.2897601482893196,
          0.3680532145950647,
          0.016000731999919544,
          -0.10272518200038426,
          0.002226574888698451,
          -0.012648117167795306,
          0.32928677298493264,
          0.4561364394635172,
          -0.0034068885122032658,
          0.29763783036464186,
          -0.17689521410026252,
          -0.3677616488467478,
          -0.30199505792767495,
          0.2723282470851428,
          0.022341569179672255,
          0.1466451078431008,
          0.05568832362345675,
          0.00643576288498093,
          -0.08563145685836637,
          -0.0212023817788872,
          -0.4213458479988288,
          0.09506752771984005,
          0.31784511491473805,
          0.00643576288498093,
          0.5382210564545662,
          0.00643576288498093,
          0.05974894870217423,
          0.9887323899053585,
          -0.666772147695869,
          -0.08696893119550685,
          0.011960266413443377,
          0.23007241764926192,
          -0.04231538415126843,
          -0.46546459055540546,
          -0.0018097856652260214,
          -0.17262999643430912,
          -0.03640871649320013,
          0.19252706444369075,
          -1.9181382292606177,
          0.3582905870792229,
          -0.29705460421088636,
          -0.4452124535982672,
          -0.22313735254570696,
          -0.11253489469624718,
          0.2457520806186987,
          0.21625267231096454,
          0.17597405083267192,
          -0.9694362457405522,
          -0.0585021190062089,
          -0.13910930626859241,
          0.6565530572995419,
          0.35516855968344374,
          0.012940234829517347,
          -0.4540258628889181,
          0.7586271836725159,
          1.5326145154666746,
          0.46639206246712,
          0.09790438807211312,
          -0.011592416040255054,
          -0.42210918223109545,
          -1.0175013200071714,
          -0.7259494009897651,
          -0.03091710063109877,
          -0.15738084157658944,
          0.002868292141175014,
          0.0923604922141279,
          0.08208604658085294,
          -0.3487526203540637,
          -0.3923509721785576,
          0.031755810338435955,
          -0.18933237610716505,
          0.00643576288498093,
          -0.12389877330881414,
          0.47108398458817213,
          0.08828238602561841,
          -0.5906808150904224,
          -1.0778981447923395,
          0.29953874774661404,
          -0.17123836409204982,
          -0.9473416490862143,
          -0.6193827882523825,
          0.19802648159446584,
          -0.32989632194862434,
          -0.6491569795424026,
          -0.0327686954321916,
          -0.10298469296104439,
          -0.27301400336084863,
          0.002308147934338049,
          0.6505018049131855,
          0.22869942388085596,
          0.8388194280160874,
          0.434044562370996,
          -0.22035399792836793,
          0.02413256396833356,
          -0.5307222424618321,
          -0.7482871637142634,
          -1.0518582214917067,
          -0.31013989873145825,
          -0.043622351639234405,
          0.28018077451338524,
          0.3928179982888046,
          -0.9529936481914203,
          -0.14502829997087116,
          0.14931176238105623,
          1.7064020937976905,
          -0.06676347956163091,
          0.5136947232716904,
          -0.2705060352712353,
          -0.7437086821360924,
          0.08111344488882467,
          -0.14266629400912442,
          -0.032769311563759305,
          -0.17889357151850604,
          -0.6896381364979725,
          0.6967860594426479,
          0.6277538687860168,
          0.26835843643022894,
          0.0873855487793526,
          -0.20954133467134112,
          -0.9783798156080357,
          -0.02870169071491668,
          -0.23018896398851196,
          -0.007654713863923197,
          0.03289788123900703,
          -0.9821335310319969,
          0.06673685118426632,
          0.9177291523622374,
          0.17878973662991451,
          0.06321587912187411,
          0.28029690837664456,
          -0.22380290053530458,
          0.9621893206454065,
          0.23108946791783516,
          -0.5469509699565342,
          -0.04312432733336748,
          -0.09227479801047571,
          -0.09149583148948222,
          -0.011901960696028644,
          0.07819235648906003,
          0.20749040364347585,
          0.00643576288498093,
          0.00643576288498093,
          -0.009474592082676387,
          0.19896399174415744,
          0.3265951407548331,
          0.02762936975979812,
          0.00643576288498093,
          0.8721408643008166,
          0.37544416174861484,
          0.555105623237944,
          -0.0018076751364370016,
          -0.05031526588209601,
          0.416071731223108,
          -0.22273177166763738,
          -0.07537235009406308,
          -0.3916047517533155,
          0.25253855833656,
          -0.32872899086027635,
          0.6998270452733132,
          0.42607167696978493,
          0.00643576288498093,
          -0.04491561950746934,
          0.11247790515466849,
          0.37542756835398605,
          0.00643576288498093,
          -0.1366337277697676,
          -0.010006120181307532,
          0.5867755286658444,
          1.4417658863207266,
          -0.3376215531296862,
          -0.47570728316727107,
          -0.14263477500485192,
          -0.27166677434851566,
          -0.09995910072694555,
          0.03958810279373951,
          0.00643576288498093,
          -0.6225447446166137,
          -0.1224537620216098,
          2.2710735868887855,
          -0.3405638681687814,
          0.0023081616817861575,
          0.21513296003912766,
          -0.05159737931956458,
          0.0647745815249876,
          0.10719731170525654,
          0.9426410916190213,
          0.3414124606004647,
          -1.633875959956239,
          -0.9001908183462393,
          0.16484566484496352,
          -0.0036207038338897063,
          -0.7921028514752131,
          -1.1561692791980582,
          0.00643576288498093,
          -0.0068093312725456216,
          -0.01815518765248171,
          -0.40505679895405045,
          0.17754679251299277,
          0.0023078087690632442,
          -0.06564235788408752,
          0.0023080760254393373,
          -0.015827493326559316,
          -0.12198117862115819,
          -0.06482087470289707,
          0.00643576288498093,
          0.07257001757130767,
          0.001720368392306214,
          0.00643576288498093,
          0.00643576288498093,
          -0.12542088960321734,
          0.23931374281246462,
          0.00643576288498093,
          0.8430735065204864,
          0.07369103967457943,
          -0.14579185407559933,
          -0.10874611911120154,
          0.046190213134855274,
          0.0224239799001891,
          0.022341572434561936,
          -0.06788771009756554,
          0.04531447687052948,
          -0.6329691634102698,
          -0.06701441055660119,
          -0.24601322804121045,
          -0.11612455419485697,
          0.00643576288498093,
          -0.02625785972896313,
          -0.10954523738918281,
          -0.008324298603062861,
          -0.3280475139436415,
          -0.24164206013312875,
          0.07676317930927276,
          0.00643576288498093,
          -0.04861608448712683,
          0.00643576288498093,
          -0.04549651002163661,
          -0.2748917913843,
          0.012214256328861849,
          0.08814538094014594,
          -0.22215329796864872,
          0.0026639959488669444,
          0.00643576288498093,
          0.00643576288498093,
          -0.02986271863998512,
          -0.023062018614197148,
          0.00643576288498093,
          -0.018075061437621328,
          0.24635852189355692,
          0.4769604787137504,
          -0.01713378138556705,
          0.25878611618110264,
          -0.022214085719664142,
          0.6296105174663382,
          0.2679904234371767,
          -0.6441879694032999,
          0.002308569519959418,
          -0.0018092554976580754,
          0.00643576288498093,
          0.00643576288498093,
          0.00643576288498093,
          0.0023079419736586003,
          0.00643576288498093,
          0.0038464935967821284,
          0.00643576288498093,
          0.03494261508394945,
          0.00643576288498093,
          0.00643576288498093,
          -0.001807943619955325,
          -0.134903058388729,
          0.00643576288498093,
          -0.09865312801048048,
          0.11673563410654651,
          0.0023079949370224816,
          0.00643576288498093,
          0.00643576288498093,
          0.00643576288498093,
          0.00643576288498093,
          0.29235593704782886,
          0.23910109181024516,
          -0.15099972293452857,
          -0.13748837231529853,
          0.00643576288498093,
          0.14019699675834507,
          -0.003622032358632372,
          0.00643576288498093,
          0.00643576288498093,
          -0.031244851171371733,
          -0.24451539281920603,
          0.03116547016375422,
          1.2624928299351215,
          0.00643576288498093,
          -0.14451672416528152,
          -0.04769841349685349,
          0.00643576288498093,
          0.00643576288498093,
          0.00643576288498093,
          0.00643576288498093,
          0.00643576288498093,
          -1.2243102783614874,
          -1.7843734977257601,
          0.00643576288498093,
          -0.0636749150074177,
          0.008691867642039514,
          0.00643576288498093,
          0.00643576288498093,
          0.00643576288498093
         ]
        }
       ],
       "layout": {
        "autosize": true,
        "template": {
         "data": {
          "bar": [
           {
            "error_x": {
             "color": "#2a3f5f"
            },
            "error_y": {
             "color": "#2a3f5f"
            },
            "marker": {
             "line": {
              "color": "#E5ECF6",
              "width": 0.5
             }
            },
            "type": "bar"
           }
          ],
          "barpolar": [
           {
            "marker": {
             "line": {
              "color": "#E5ECF6",
              "width": 0.5
             }
            },
            "type": "barpolar"
           }
          ],
          "carpet": [
           {
            "aaxis": {
             "endlinecolor": "#2a3f5f",
             "gridcolor": "white",
             "linecolor": "white",
             "minorgridcolor": "white",
             "startlinecolor": "#2a3f5f"
            },
            "baxis": {
             "endlinecolor": "#2a3f5f",
             "gridcolor": "white",
             "linecolor": "white",
             "minorgridcolor": "white",
             "startlinecolor": "#2a3f5f"
            },
            "type": "carpet"
           }
          ],
          "choropleth": [
           {
            "colorbar": {
             "outlinewidth": 0,
             "ticks": ""
            },
            "type": "choropleth"
           }
          ],
          "contour": [
           {
            "colorbar": {
             "outlinewidth": 0,
             "ticks": ""
            },
            "colorscale": [
             [
              0,
              "#0d0887"
             ],
             [
              0.1111111111111111,
              "#46039f"
             ],
             [
              0.2222222222222222,
              "#7201a8"
             ],
             [
              0.3333333333333333,
              "#9c179e"
             ],
             [
              0.4444444444444444,
              "#bd3786"
             ],
             [
              0.5555555555555556,
              "#d8576b"
             ],
             [
              0.6666666666666666,
              "#ed7953"
             ],
             [
              0.7777777777777778,
              "#fb9f3a"
             ],
             [
              0.8888888888888888,
              "#fdca26"
             ],
             [
              1,
              "#f0f921"
             ]
            ],
            "type": "contour"
           }
          ],
          "contourcarpet": [
           {
            "colorbar": {
             "outlinewidth": 0,
             "ticks": ""
            },
            "type": "contourcarpet"
           }
          ],
          "heatmap": [
           {
            "colorbar": {
             "outlinewidth": 0,
             "ticks": ""
            },
            "colorscale": [
             [
              0,
              "#0d0887"
             ],
             [
              0.1111111111111111,
              "#46039f"
             ],
             [
              0.2222222222222222,
              "#7201a8"
             ],
             [
              0.3333333333333333,
              "#9c179e"
             ],
             [
              0.4444444444444444,
              "#bd3786"
             ],
             [
              0.5555555555555556,
              "#d8576b"
             ],
             [
              0.6666666666666666,
              "#ed7953"
             ],
             [
              0.7777777777777778,
              "#fb9f3a"
             ],
             [
              0.8888888888888888,
              "#fdca26"
             ],
             [
              1,
              "#f0f921"
             ]
            ],
            "type": "heatmap"
           }
          ],
          "heatmapgl": [
           {
            "colorbar": {
             "outlinewidth": 0,
             "ticks": ""
            },
            "colorscale": [
             [
              0,
              "#0d0887"
             ],
             [
              0.1111111111111111,
              "#46039f"
             ],
             [
              0.2222222222222222,
              "#7201a8"
             ],
             [
              0.3333333333333333,
              "#9c179e"
             ],
             [
              0.4444444444444444,
              "#bd3786"
             ],
             [
              0.5555555555555556,
              "#d8576b"
             ],
             [
              0.6666666666666666,
              "#ed7953"
             ],
             [
              0.7777777777777778,
              "#fb9f3a"
             ],
             [
              0.8888888888888888,
              "#fdca26"
             ],
             [
              1,
              "#f0f921"
             ]
            ],
            "type": "heatmapgl"
           }
          ],
          "histogram": [
           {
            "marker": {
             "colorbar": {
              "outlinewidth": 0,
              "ticks": ""
             }
            },
            "type": "histogram"
           }
          ],
          "histogram2d": [
           {
            "colorbar": {
             "outlinewidth": 0,
             "ticks": ""
            },
            "colorscale": [
             [
              0,
              "#0d0887"
             ],
             [
              0.1111111111111111,
              "#46039f"
             ],
             [
              0.2222222222222222,
              "#7201a8"
             ],
             [
              0.3333333333333333,
              "#9c179e"
             ],
             [
              0.4444444444444444,
              "#bd3786"
             ],
             [
              0.5555555555555556,
              "#d8576b"
             ],
             [
              0.6666666666666666,
              "#ed7953"
             ],
             [
              0.7777777777777778,
              "#fb9f3a"
             ],
             [
              0.8888888888888888,
              "#fdca26"
             ],
             [
              1,
              "#f0f921"
             ]
            ],
            "type": "histogram2d"
           }
          ],
          "histogram2dcontour": [
           {
            "colorbar": {
             "outlinewidth": 0,
             "ticks": ""
            },
            "colorscale": [
             [
              0,
              "#0d0887"
             ],
             [
              0.1111111111111111,
              "#46039f"
             ],
             [
              0.2222222222222222,
              "#7201a8"
             ],
             [
              0.3333333333333333,
              "#9c179e"
             ],
             [
              0.4444444444444444,
              "#bd3786"
             ],
             [
              0.5555555555555556,
              "#d8576b"
             ],
             [
              0.6666666666666666,
              "#ed7953"
             ],
             [
              0.7777777777777778,
              "#fb9f3a"
             ],
             [
              0.8888888888888888,
              "#fdca26"
             ],
             [
              1,
              "#f0f921"
             ]
            ],
            "type": "histogram2dcontour"
           }
          ],
          "mesh3d": [
           {
            "colorbar": {
             "outlinewidth": 0,
             "ticks": ""
            },
            "type": "mesh3d"
           }
          ],
          "parcoords": [
           {
            "line": {
             "colorbar": {
              "outlinewidth": 0,
              "ticks": ""
             }
            },
            "type": "parcoords"
           }
          ],
          "pie": [
           {
            "automargin": true,
            "type": "pie"
           }
          ],
          "scatter": [
           {
            "marker": {
             "colorbar": {
              "outlinewidth": 0,
              "ticks": ""
             }
            },
            "type": "scatter"
           }
          ],
          "scatter3d": [
           {
            "line": {
             "colorbar": {
              "outlinewidth": 0,
              "ticks": ""
             }
            },
            "marker": {
             "colorbar": {
              "outlinewidth": 0,
              "ticks": ""
             }
            },
            "type": "scatter3d"
           }
          ],
          "scattercarpet": [
           {
            "marker": {
             "colorbar": {
              "outlinewidth": 0,
              "ticks": ""
             }
            },
            "type": "scattercarpet"
           }
          ],
          "scattergeo": [
           {
            "marker": {
             "colorbar": {
              "outlinewidth": 0,
              "ticks": ""
             }
            },
            "type": "scattergeo"
           }
          ],
          "scattergl": [
           {
            "marker": {
             "colorbar": {
              "outlinewidth": 0,
              "ticks": ""
             }
            },
            "type": "scattergl"
           }
          ],
          "scattermapbox": [
           {
            "marker": {
             "colorbar": {
              "outlinewidth": 0,
              "ticks": ""
             }
            },
            "type": "scattermapbox"
           }
          ],
          "scatterpolar": [
           {
            "marker": {
             "colorbar": {
              "outlinewidth": 0,
              "ticks": ""
             }
            },
            "type": "scatterpolar"
           }
          ],
          "scatterpolargl": [
           {
            "marker": {
             "colorbar": {
              "outlinewidth": 0,
              "ticks": ""
             }
            },
            "type": "scatterpolargl"
           }
          ],
          "scatterternary": [
           {
            "marker": {
             "colorbar": {
              "outlinewidth": 0,
              "ticks": ""
             }
            },
            "type": "scatterternary"
           }
          ],
          "surface": [
           {
            "colorbar": {
             "outlinewidth": 0,
             "ticks": ""
            },
            "colorscale": [
             [
              0,
              "#0d0887"
             ],
             [
              0.1111111111111111,
              "#46039f"
             ],
             [
              0.2222222222222222,
              "#7201a8"
             ],
             [
              0.3333333333333333,
              "#9c179e"
             ],
             [
              0.4444444444444444,
              "#bd3786"
             ],
             [
              0.5555555555555556,
              "#d8576b"
             ],
             [
              0.6666666666666666,
              "#ed7953"
             ],
             [
              0.7777777777777778,
              "#fb9f3a"
             ],
             [
              0.8888888888888888,
              "#fdca26"
             ],
             [
              1,
              "#f0f921"
             ]
            ],
            "type": "surface"
           }
          ],
          "table": [
           {
            "cells": {
             "fill": {
              "color": "#EBF0F8"
             },
             "line": {
              "color": "white"
             }
            },
            "header": {
             "fill": {
              "color": "#C8D4E3"
             },
             "line": {
              "color": "white"
             }
            },
            "type": "table"
           }
          ]
         },
         "layout": {
          "annotationdefaults": {
           "arrowcolor": "#2a3f5f",
           "arrowhead": 0,
           "arrowwidth": 1
          },
          "autotypenumbers": "strict",
          "coloraxis": {
           "colorbar": {
            "outlinewidth": 0,
            "ticks": ""
           }
          },
          "colorscale": {
           "diverging": [
            [
             0,
             "#8e0152"
            ],
            [
             0.1,
             "#c51b7d"
            ],
            [
             0.2,
             "#de77ae"
            ],
            [
             0.3,
             "#f1b6da"
            ],
            [
             0.4,
             "#fde0ef"
            ],
            [
             0.5,
             "#f7f7f7"
            ],
            [
             0.6,
             "#e6f5d0"
            ],
            [
             0.7,
             "#b8e186"
            ],
            [
             0.8,
             "#7fbc41"
            ],
            [
             0.9,
             "#4d9221"
            ],
            [
             1,
             "#276419"
            ]
           ],
           "sequential": [
            [
             0,
             "#0d0887"
            ],
            [
             0.1111111111111111,
             "#46039f"
            ],
            [
             0.2222222222222222,
             "#7201a8"
            ],
            [
             0.3333333333333333,
             "#9c179e"
            ],
            [
             0.4444444444444444,
             "#bd3786"
            ],
            [
             0.5555555555555556,
             "#d8576b"
            ],
            [
             0.6666666666666666,
             "#ed7953"
            ],
            [
             0.7777777777777778,
             "#fb9f3a"
            ],
            [
             0.8888888888888888,
             "#fdca26"
            ],
            [
             1,
             "#f0f921"
            ]
           ],
           "sequentialminus": [
            [
             0,
             "#0d0887"
            ],
            [
             0.1111111111111111,
             "#46039f"
            ],
            [
             0.2222222222222222,
             "#7201a8"
            ],
            [
             0.3333333333333333,
             "#9c179e"
            ],
            [
             0.4444444444444444,
             "#bd3786"
            ],
            [
             0.5555555555555556,
             "#d8576b"
            ],
            [
             0.6666666666666666,
             "#ed7953"
            ],
            [
             0.7777777777777778,
             "#fb9f3a"
            ],
            [
             0.8888888888888888,
             "#fdca26"
            ],
            [
             1,
             "#f0f921"
            ]
           ]
          },
          "colorway": [
           "#636efa",
           "#EF553B",
           "#00cc96",
           "#ab63fa",
           "#FFA15A",
           "#19d3f3",
           "#FF6692",
           "#B6E880",
           "#FF97FF",
           "#FECB52"
          ],
          "font": {
           "color": "#2a3f5f"
          },
          "geo": {
           "bgcolor": "white",
           "lakecolor": "white",
           "landcolor": "#E5ECF6",
           "showlakes": true,
           "showland": true,
           "subunitcolor": "white"
          },
          "hoverlabel": {
           "align": "left"
          },
          "hovermode": "closest",
          "mapbox": {
           "style": "light"
          },
          "paper_bgcolor": "white",
          "plot_bgcolor": "#E5ECF6",
          "polar": {
           "angularaxis": {
            "gridcolor": "white",
            "linecolor": "white",
            "ticks": ""
           },
           "bgcolor": "#E5ECF6",
           "radialaxis": {
            "gridcolor": "white",
            "linecolor": "white",
            "ticks": ""
           }
          },
          "scene": {
           "xaxis": {
            "backgroundcolor": "#E5ECF6",
            "gridcolor": "white",
            "gridwidth": 2,
            "linecolor": "white",
            "showbackground": true,
            "ticks": "",
            "zerolinecolor": "white"
           },
           "yaxis": {
            "backgroundcolor": "#E5ECF6",
            "gridcolor": "white",
            "gridwidth": 2,
            "linecolor": "white",
            "showbackground": true,
            "ticks": "",
            "zerolinecolor": "white"
           },
           "zaxis": {
            "backgroundcolor": "#E5ECF6",
            "gridcolor": "white",
            "gridwidth": 2,
            "linecolor": "white",
            "showbackground": true,
            "ticks": "",
            "zerolinecolor": "white"
           }
          },
          "shapedefaults": {
           "line": {
            "color": "#2a3f5f"
           }
          },
          "ternary": {
           "aaxis": {
            "gridcolor": "white",
            "linecolor": "white",
            "ticks": ""
           },
           "baxis": {
            "gridcolor": "white",
            "linecolor": "white",
            "ticks": ""
           },
           "bgcolor": "#E5ECF6",
           "caxis": {
            "gridcolor": "white",
            "linecolor": "white",
            "ticks": ""
           }
          },
          "title": {
           "x": 0.05
          },
          "xaxis": {
           "automargin": true,
           "gridcolor": "white",
           "linecolor": "white",
           "ticks": "",
           "title": {
            "standoff": 15
           },
           "zerolinecolor": "white",
           "zerolinewidth": 2
          },
          "yaxis": {
           "automargin": true,
           "gridcolor": "white",
           "linecolor": "white",
           "ticks": "",
           "title": {
            "standoff": 15
           },
           "zerolinecolor": "white",
           "zerolinewidth": 2
          }
         }
        },
        "xaxis": {
         "autorange": true,
         "range": [
          -6.432421330470315,
          107.16164897501845
         ],
         "tickfont": {
          "size": 30
         },
         "title": {
          "font": {
           "size": 35
          },
          "text": "baseMean"
         },
         "type": "linear"
        },
        "yaxis": {
         "autorange": true,
         "range": [
          -2.4280684908262073,
          2.7810038484543753
         ],
         "tickfont": {
          "size": 30
         },
         "title": {
          "font": {
           "size": 35
          },
          "text": "log2FoldChange"
         },
         "type": "linear"
        }
       }
      },
      "image/png": "[encoded data removed]",
      "text/html": [
       "<div>                            <div id=\"a1533dda-5a03-404d-aeed-f31a082e302c\" class=\"plotly-graph-div\" style=\"height:525px; width:100%;\"></div>            <script type=\"text/javascript\">                require([\"plotly\"], function(Plotly) {                    window.PLOTLYENV=window.PLOTLYENV || {};                                    if (document.getElementById(\"a1533dda-5a03-404d-aeed-f31a082e302c\")) {                    Plotly.newPlot(                        \"a1533dda-5a03-404d-aeed-f31a082e302c\",                        [{\"marker\": {\"color\": \"gray\", \"size\": 20}, \"mode\": \"markers+text\", \"text\": [\"Topic 1\", \"Topic 2\", \"Topic 3\", \"Topic 4\", \"Topic 5\", \"Topic 6\", \"Topic 7\", \"Topic 8\", \"Topic 9\", \"Topic 10\", \"Topic 11\", \"Topic 12\", \"Topic 13\", \"Topic 14\", \"Topic 15\", \"Topic 16\", \"Topic 17\", \"Topic 18\", \"Topic 19\", \"Topic 20\", \"Topic 21\", \"Topic 22\", \"Topic 23\", \"Topic 24\", \"Topic 25\", \"Topic 26\", \"Topic 27\", \"Topic 28\", \"Topic 29\", \"Topic 30\", \"Topic 31\", \"Topic 32\", \"Topic 33\", \"Topic 34\", \"Topic 35\", \"Topic 36\", \"Topic 37\", \"Topic 38\", \"Topic 39\", \"Topic 40\", \"Topic 41\", \"Topic 42\", \"Topic 43\", \"Topic 44\", \"Topic 45\", \"Topic 46\", \"Topic 47\", \"Topic 48\", \"Topic 49\", \"Topic 50\", \"Topic 51\", \"Topic 52\", \"Topic 53\", \"Topic 54\", \"Topic 55\", \"Topic 56\", \"Topic 57\", \"Topic 58\", \"Topic 59\", \"Topic 60\", \"Topic 61\", \"Topic 62\", \"Topic 63\", \"Topic 64\", \"Topic 65\", \"Topic 66\", \"Topic 67\", \"Topic 68\", \"Topic 69\", \"Topic 70\", \"Topic 71\", \"Topic 72\", \"Topic 73\", \"Topic 74\", \"Topic 75\", \"Topic 76\", \"Topic 77\", \"Topic 78\", \"Topic 79\", \"Topic 80\", \"Topic 81\", \"Topic 82\", \"Topic 83\", \"Topic 84\", \"Topic 85\", \"Topic 86\", \"Topic 87\", \"Topic 88\", \"Topic 89\", \"Topic 90\", \"Topic 91\", \"Topic 92\", \"Topic 93\", \"Topic 94\", \"Topic 95\", \"Topic 96\", \"Topic 97\", \"Topic 98\", \"Topic 99\", \"Topic 100\", \"Topic 101\", \"Topic 102\", \"Topic 103\", \"Topic 104\", \"Topic 105\", \"Topic 106\", \"Topic 107\", \"Topic 108\", \"Topic 109\", \"Topic 110\", \"Topic 111\", \"Topic 112\", \"Topic 113\", \"Topic 114\", \"Topic 115\", \"Topic 116\", \"Topic 117\", \"Topic 118\", \"Topic 119\", \"Topic 120\", \"Topic 121\", \"Topic 122\", \"Topic 123\", \"Topic 124\", \"Topic 125\", \"Topic 126\", \"Topic 127\", \"Topic 128\", \"Topic 129\", \"Topic 130\", \"Topic 131\", \"Topic 132\", \"Topic 133\", \"Topic 134\", \"Topic 135\", \"Topic 136\", \"Topic 137\", \"Topic 138\", \"Topic 139\", \"Topic 140\", \"Topic 141\", \"Topic 142\", \"Topic 143\", \"Topic 144\", \"Topic 145\", \"Topic 146\", \"Topic 147\", \"Topic 148\", \"Topic 149\", \"Topic 150\", \"Topic 151\", \"Topic 152\", \"Topic 153\", \"Topic 154\", \"Topic 155\", \"Topic 156\", \"Topic 157\", \"Topic 158\", \"Topic 159\", \"Topic 160\", \"Topic 161\", \"Topic 162\", \"Topic 163\", \"Topic 164\", \"Topic 165\", \"Topic 166\", \"Topic 167\", \"Topic 168\", \"Topic 169\", \"Topic 170\", \"Topic 171\", \"Topic 172\", \"Topic 173\", \"Topic 174\", \"Topic 175\", \"Topic 176\", \"Topic 177\", \"Topic 178\", \"Topic 179\", \"Topic 180\", \"Topic 181\", \"Topic 182\", \"Topic 183\", \"Topic 184\", \"Topic 185\", \"Topic 186\", \"Topic 187\", \"Topic 188\", \"Topic 189\", \"Topic 190\", \"Topic 191\", \"Topic 192\", \"Topic 193\", \"Topic 194\", \"Topic 195\", \"Topic 196\", \"Topic 197\", \"Topic 198\", \"Topic 199\", \"Topic 200\", \"Topic 201\", \"Topic 202\", \"Topic 203\", \"Topic 204\", \"Topic 205\", \"Topic 206\", \"Topic 207\", \"Topic 208\", \"Topic 209\", \"Topic 210\", \"Topic 211\", \"Topic 212\", \"Topic 213\", \"Topic 214\", \"Topic 215\", \"Topic 216\", \"Topic 217\", \"Topic 218\", \"Topic 219\", \"Topic 220\", \"Topic 221\", \"Topic 222\", \"Topic 223\", \"Topic 224\", \"Topic 225\", \"Topic 226\", \"Topic 227\", \"Topic 228\", \"Topic 229\", \"Topic 230\", \"Topic 231\", \"Topic 232\", \"Topic 233\", \"Topic 234\", \"Topic 235\", \"Topic 236\", \"Topic 237\", \"Topic 238\", \"Topic 239\", \"Topic 240\", \"Topic 241\", \"Topic 242\", \"Topic 243\", \"Topic 244\", \"Topic 245\", \"Topic 246\", \"Topic 247\", \"Topic 248\", \"Topic 249\", \"Topic 250\", \"Topic 251\", \"Topic 252\", \"Topic 253\", \"Topic 254\", \"Topic 255\", \"Topic 256\", \"Topic 257\", \"Topic 258\", \"Topic 259\", \"Topic 260\", \"Topic 261\", \"Topic 262\", \"Topic 263\", \"Topic 264\", \"Topic 265\", \"Topic 266\", \"Topic 267\", \"Topic 268\", \"Topic 269\", \"Topic 270\", \"Topic 271\", \"Topic 272\", \"Topic 273\", \"Topic 274\", \"Topic 275\", \"Topic 276\", \"Topic 277\", \"Topic 278\", \"Topic 279\", \"Topic 280\", \"Topic 281\", \"Topic 282\", \"Topic 283\", \"Topic 284\", \"Topic 285\", \"Topic 286\", \"Topic 287\", \"Topic 288\", \"Topic 289\", \"Topic 290\", \"Topic 291\", \"Topic 292\", \"Topic 293\", \"Topic 294\", \"Topic 295\", \"Topic 296\", \"Topic 297\", \"Topic 298\", \"Topic 299\", \"Topic 300\", \"Topic 301\", \"Topic 302\", \"Topic 303\", \"Topic 304\", \"Topic 305\", \"Topic 306\", \"Topic 307\", \"Topic 308\", \"Topic 309\", \"Topic 310\", \"Topic 311\", \"Topic 312\", \"Topic 313\", \"Topic 314\", \"Topic 315\"], \"textposition\": \"top center\", \"type\": \"scatter\", \"x\": [49.64340997148818, 5.061009181499846, 1.8997343752941236, 3.508482637770542, 2.9165946999692176, 1.2704098042382324, 5.844407464418193, 1.1573683922394353, 1.8675040164796182, 15.992369775466456, 14.861733680032723, 1.0349896250005168, 23.90844426422307, 1.2059034569049794, 1.0439065244265233, 3.116821006160583, 15.31092597628631, 28.14333411677084, 1.9769817902380125, 30.39693250835766, 99.69811897881611, 4.941509704356962, 1.2539602618028298, 1.037526231096502, 1.1122817211198315, 1.0542860285511064, 1.0311086657320256, 1.0602631652450312, 2.863012462253152, 1.2809144293742634, 1.3235415454262722, 1.243669445862221, 1.0311086657320256, 1.5663639279166301, 1.0311086657320256, 1.0621737447886217, 88.50776586599926, 1.4370360102017188, 25.46808862265313, 1.0656686783021474, 1.835190552687235, 1.0816453742952399, 12.42940061669854, 1.0337626215172524, 7.849748744343161, 1.1424357747507319, 3.8562955432236166, 8.56843449224053, 92.99339373621237, 1.1750628140158337, 1.2719858260730272, 2.127910864568475, 1.0696606325150948, 8.443419142923563, 2.0390897752495865, 14.23989473204762, 17.281055409010687, 4.327341878674401, 1.1783086196173376, 9.010514375667732, 2.497870597315174, 1.0926068174778831, 1.269068971663937, 2.423450334458375, 17.44336990086279, 1.869922720980261, 12.013058665344298, 1.2309063221816243, 1.390320034230081, 6.781125596183192, 1.4805865685224067, 2.223682000001048, 44.38150641671762, 2.0850539629542673, 1.331647882841457, 1.7435506435128507, 2.2694983110844738, 7.168634500916413, 1.2029639080948173, 1.1533913021462552, 1.0311086657320256, 1.0729957112192192, 1.2908621414621875, 14.681092651793092, 5.423666307687414, 3.9385389058199536, 6.646370116933665, 14.280989524016661, 3.484169617391689, 1.3730153481022054, 1.1865036185855018, 2.2076175257113713, 19.704325195764223, 1.0502405125934824, 4.175635942955949, 1.15098627250139, 1.0323798458731848, 1.6019650373136494, 1.2942154671279635, 1.5705606252754343, 1.639915466654359, 2.621349605960148, 1.9673031500228564, 1.8944891668467716, 2.273988570003316, 18.0387275128973, 6.594999765584948, 1.2011916248342143, 3.2834149534762895, 1.2389172867744105, 20.60713465573949, 5.640387073085152, 6.448011475531333, 2.612396494253508, 1.891755535945611, 2.2279842137306485, 1.3598488487128901, 3.0280132186181925, 1.321652568841228, 1.0797455016323358, 1.050266831807128, 1.2899981329340813, 1.8649433867310568, 24.13642766564659, 8.117543097741773, 1.527091000796909, 1.123320154317733, 1.4980339669730838, 1.7776673126472684, 1.1721082475555256, 3.148005866943031, 1.535486158875942, 1.8475723194778935, 2.8717097820808606, 1.503903426338627, 3.4331550760202547, 1.4428839647493086, 1.4856688281281714, 2.7254691856433153, 1.8624064215988068, 1.7480017461705302, 5.539741555923389, 1.3815584627096593, 1.0487545083696521, 1.0866287642434347, 1.0692390394650362, 1.1584313898016303, 1.0606132199953877, 1.3249524199655867, 1.0311086657320256, 1.0311086657320256, 1.0451404282838572, 5.496762064415678, 1.211408027422148, 1.1759748094441245, 1.0311086657320256, 5.503917287763734, 1.687574192851897, 6.3916116492112796, 1.0336503241469037, 1.0495501390378432, 1.4064425501928164, 1.1095495908216066, 1.0620442967075803, 1.1853467320463962, 1.9513514824308587, 1.708602870969828, 1.776767812336211, 1.8992991078715626, 1.0311086657320256, 1.229801576587332, 1.1425031041716558, 1.8003311026109554, 1.0311086657320256, 1.297971663516746, 1.03628874333463, 1.6911270904390825, 9.663494213702828, 1.1512441962912363, 1.3900228072900453, 1.0961095694567446, 1.3937058260052662, 1.2611126090983258, 2.6417169314851847, 1.0311086657320256, 1.3182914176494778, 1.082397861105554, 5.465885516746725, 1.4495055451265606, 1.0323791440057446, 1.2173608046786253, 4.212098595602388, 1.1915762619823105, 1.0769415235827533, 2.4715917042799798, 1.2640769603152786, 2.2964339848894517, 5.644078149102243, 4.607554604887425, 1.0387736664756144, 1.4811246553744386, 26.919081683415524, 1.0311086657320256, 1.0375240240167043, 1.0387674540022238, 1.2479405444593195, 1.265405834564573, 1.0323974083093654, 1.1770007601301566, 1.0323835296902848, 1.0425280139881148, 1.9441168463724405, 1.1495591099083249, 1.0311086657320256, 1.554257870788871, 1.0850498337939314, 1.0311086657320256, 1.0311086657320256, 1.2859052610174742, 1.227735649208117, 1.0311086657320256, 3.382222134907389, 1.0800435659773695, 1.095011346057371, 1.2298799171926242, 1.206096253472736, 1.115250957174766, 1.037526402514946, 1.1124059655315413, 1.21811171618663, 3.7749244535846698, 1.0822797554788017, 1.4287545191683533, 1.385449050503737, 1.0311086657320256, 1.0412173071431479, 1.2059851541696547, 1.0839817362025004, 1.4089425071261088, 1.2211459515961236, 1.3809696538037879, 1.0311086657320256, 1.1975949723436814, 1.0311086657320256, 1.0568482068185518, 8.243355675781253, 1.0451659439190544, 1.1296644527207815, 1.1320034039771287, 1.0619995186221483, 1.0311086657320256, 1.0311086657320256, 1.0755168663446049, 1.042489654097158, 1.0311086657320256, 1.0709149872102526, 1.6087952859987673, 1.5287958859301745, 1.1321892362177708, 1.5916503134816118, 1.0400874228935224, 2.955030690684806, 1.3036634918509715, 1.6716799043941386, 1.0323586657320256, 1.0337333044084174, 1.0311086657320256, 1.0311086657320256, 1.0311086657320256, 1.0323904537844404, 1.0311086657320256, 1.2001556973356284, 1.0311086657320256, 1.0427584131017553, 1.0311086657320256, 1.0311086657320256, 1.0336641258776404, 3.897769544492478, 1.0311086657320256, 1.1421889916249506, 1.9188571830279348, 1.0323877092168072, 1.0311086657320256, 1.0311086657320256, 1.0311086657320256, 1.0311086657320256, 1.6918206202987485, 7.828945294944843, 1.1056544187371795, 1.1215452638464822, 1.0311086657320256, 1.1559391536440662, 1.038831665313775, 1.0311086657320256, 1.0311086657320256, 1.0569750006080396, 1.1250417240339279, 1.0617153196393931, 7.798593870106943, 1.0311086657320256, 1.3945439939000912, 1.4892526949511977, 1.0311086657320256, 1.0311086657320256, 1.0311086657320256, 1.0311086657320256, 1.0311086657320256, 3.753705262870004, 2.8859856827049346, 1.0311086657320256, 1.0590050386731416, 1.0349556132513253, 1.0311086657320256, 1.0311086657320256, 1.0311086657320256], \"y\": [0.08211871806719975, -0.8243372582465298, 0.6116640110389602, 0.7185499005807342, 0.2881152331123043, -0.21125456612315172, 1.4227134213992292, -0.22531518221545238, -0.18029907655470384, -0.2897601482893196, 0.3680532145950647, 0.016000731999919544, -0.10272518200038426, 0.002226574888698451, -0.012648117167795306, 0.32928677298493264, 0.4561364394635172, -0.0034068885122032658, 0.29763783036464186, -0.17689521410026252, -0.3677616488467478, -0.30199505792767495, 0.2723282470851428, 0.022341569179672255, 0.1466451078431008, 0.05568832362345675, 0.00643576288498093, -0.08563145685836637, -0.0212023817788872, -0.4213458479988288, 0.09506752771984005, 0.31784511491473805, 0.00643576288498093, 0.5382210564545662, 0.00643576288498093, 0.05974894870217423, 0.9887323899053585, -0.666772147695869, -0.08696893119550685, 0.011960266413443377, 0.23007241764926192, -0.04231538415126843, -0.46546459055540546, -0.0018097856652260214, -0.17262999643430912, -0.03640871649320013, 0.19252706444369075, -1.9181382292606177, 0.3582905870792229, -0.29705460421088636, -0.4452124535982672, -0.22313735254570696, -0.11253489469624718, 0.2457520806186987, 0.21625267231096454, 0.17597405083267192, -0.9694362457405522, -0.0585021190062089, -0.13910930626859241, 0.6565530572995419, 0.35516855968344374, 0.012940234829517347, -0.4540258628889181, 0.7586271836725159, 1.5326145154666746, 0.46639206246712, 0.09790438807211312, -0.011592416040255054, -0.42210918223109545, -1.0175013200071714, -0.7259494009897651, -0.03091710063109877, -0.15738084157658944, 0.002868292141175014, 0.0923604922141279, 0.08208604658085294, -0.3487526203540637, -0.3923509721785576, 0.031755810338435955, -0.18933237610716505, 0.00643576288498093, -0.12389877330881414, 0.47108398458817213, 0.08828238602561841, -0.5906808150904224, -1.0778981447923395, 0.29953874774661404, -0.17123836409204982, -0.9473416490862143, -0.6193827882523825, 0.19802648159446584, -0.32989632194862434, -0.6491569795424026, -0.0327686954321916, -0.10298469296104439, -0.27301400336084863, 0.002308147934338049, 0.6505018049131855, 0.22869942388085596, 0.8388194280160874, 0.434044562370996, -0.22035399792836793, 0.02413256396833356, -0.5307222424618321, -0.7482871637142634, -1.0518582214917067, -0.31013989873145825, -0.043622351639234405, 0.28018077451338524, 0.3928179982888046, -0.9529936481914203, -0.14502829997087116, 0.14931176238105623, 1.7064020937976905, -0.06676347956163091, 0.5136947232716904, -0.2705060352712353, -0.7437086821360924, 0.08111344488882467, -0.14266629400912442, -0.032769311563759305, -0.17889357151850604, -0.6896381364979725, 0.6967860594426479, 0.6277538687860168, 0.26835843643022894, 0.0873855487793526, -0.20954133467134112, -0.9783798156080357, -0.02870169071491668, -0.23018896398851196, -0.007654713863923197, 0.03289788123900703, -0.9821335310319969, 0.06673685118426632, 0.9177291523622374, 0.17878973662991451, 0.06321587912187411, 0.28029690837664456, -0.22380290053530458, 0.9621893206454065, 0.23108946791783516, -0.5469509699565342, -0.04312432733336748, -0.09227479801047571, -0.09149583148948222, -0.011901960696028644, 0.07819235648906003, 0.20749040364347585, 0.00643576288498093, 0.00643576288498093, -0.009474592082676387, 0.19896399174415744, 0.3265951407548331, 0.02762936975979812, 0.00643576288498093, 0.8721408643008166, 0.37544416174861484, 0.555105623237944, -0.0018076751364370016, -0.05031526588209601, 0.416071731223108, -0.22273177166763738, -0.07537235009406308, -0.3916047517533155, 0.25253855833656, -0.32872899086027635, 0.6998270452733132, 0.42607167696978493, 0.00643576288498093, -0.04491561950746934, 0.11247790515466849, 0.37542756835398605, 0.00643576288498093, -0.1366337277697676, -0.010006120181307532, 0.5867755286658444, 1.4417658863207266, -0.3376215531296862, -0.47570728316727107, -0.14263477500485192, -0.27166677434851566, -0.09995910072694555, 0.03958810279373951, 0.00643576288498093, -0.6225447446166137, -0.1224537620216098, 2.2710735868887855, -0.3405638681687814, 0.0023081616817861575, 0.21513296003912766, -0.05159737931956458, 0.0647745815249876, 0.10719731170525654, 0.9426410916190213, 0.3414124606004647, -1.633875959956239, -0.9001908183462393, 0.16484566484496352, -0.0036207038338897063, -0.7921028514752131, -1.1561692791980582, 0.00643576288498093, -0.0068093312725456216, -0.01815518765248171, -0.40505679895405045, 0.17754679251299277, 0.0023078087690632442, -0.06564235788408752, 0.0023080760254393373, -0.015827493326559316, -0.12198117862115819, -0.06482087470289707, 0.00643576288498093, 0.07257001757130767, 0.001720368392306214, 0.00643576288498093, 0.00643576288498093, -0.12542088960321734, 0.23931374281246462, 0.00643576288498093, 0.8430735065204864, 0.07369103967457943, -0.14579185407559933, -0.10874611911120154, 0.046190213134855274, 0.0224239799001891, 0.022341572434561936, -0.06788771009756554, 0.04531447687052948, -0.6329691634102698, -0.06701441055660119, -0.24601322804121045, -0.11612455419485697, 0.00643576288498093, -0.02625785972896313, -0.10954523738918281, -0.008324298603062861, -0.3280475139436415, -0.24164206013312875, 0.07676317930927276, 0.00643576288498093, -0.04861608448712683, 0.00643576288498093, -0.04549651002163661, -0.2748917913843, 0.012214256328861849, 0.08814538094014594, -0.22215329796864872, 0.0026639959488669444, 0.00643576288498093, 0.00643576288498093, -0.02986271863998512, -0.023062018614197148, 0.00643576288498093, -0.018075061437621328, 0.24635852189355692, 0.4769604787137504, -0.01713378138556705, 0.25878611618110264, -0.022214085719664142, 0.6296105174663382, 0.2679904234371767, -0.6441879694032999, 0.002308569519959418, -0.0018092554976580754, 0.00643576288498093, 0.00643576288498093, 0.00643576288498093, 0.0023079419736586003, 0.00643576288498093, 0.0038464935967821284, 0.00643576288498093, 0.03494261508394945, 0.00643576288498093, 0.00643576288498093, -0.001807943619955325, -0.134903058388729, 0.00643576288498093, -0.09865312801048048, 0.11673563410654651, 0.0023079949370224816, 0.00643576288498093, 0.00643576288498093, 0.00643576288498093, 0.00643576288498093, 0.29235593704782886, 0.23910109181024516, -0.15099972293452857, -0.13748837231529853, 0.00643576288498093, 0.14019699675834507, -0.003622032358632372, 0.00643576288498093, 0.00643576288498093, -0.031244851171371733, -0.24451539281920603, 0.03116547016375422, 1.2624928299351215, 0.00643576288498093, -0.14451672416528152, -0.04769841349685349, 0.00643576288498093, 0.00643576288498093, 0.00643576288498093, 0.00643576288498093, 0.00643576288498093, -1.2243102783614874, -1.7843734977257601, 0.00643576288498093, -0.0636749150074177, 0.008691867642039514, 0.00643576288498093, 0.00643576288498093, 0.00643576288498093]}],                        {\"template\": {\"data\": {\"bar\": [{\"error_x\": {\"color\": \"#2a3f5f\"}, \"error_y\": {\"color\": \"#2a3f5f\"}, \"marker\": {\"line\": {\"color\": \"#E5ECF6\", \"width\": 0.5}}, \"type\": \"bar\"}], \"barpolar\": [{\"marker\": {\"line\": {\"color\": \"#E5ECF6\", \"width\": 0.5}}, \"type\": \"barpolar\"}], \"carpet\": [{\"aaxis\": {\"endlinecolor\": \"#2a3f5f\", \"gridcolor\": \"white\", \"linecolor\": \"white\", \"minorgridcolor\": \"white\", \"startlinecolor\": \"#2a3f5f\"}, \"baxis\": {\"endlinecolor\": \"#2a3f5f\", \"gridcolor\": \"white\", \"linecolor\": \"white\", \"minorgridcolor\": \"white\", \"startlinecolor\": \"#2a3f5f\"}, \"type\": \"carpet\"}], \"choropleth\": [{\"colorbar\": {\"outlinewidth\": 0, \"ticks\": \"\"}, \"type\": \"choropleth\"}], \"contour\": [{\"colorbar\": {\"outlinewidth\": 0, \"ticks\": \"\"}, \"colorscale\": [[0.0, \"#0d0887\"], [0.1111111111111111, \"#46039f\"], [0.2222222222222222, \"#7201a8\"], [0.3333333333333333, \"#9c179e\"], [0.4444444444444444, \"#bd3786\"], [0.5555555555555556, \"#d8576b\"], [0.6666666666666666, \"#ed7953\"], [0.7777777777777778, \"#fb9f3a\"], [0.8888888888888888, \"#fdca26\"], [1.0, \"#f0f921\"]], \"type\": \"contour\"}], \"contourcarpet\": [{\"colorbar\": {\"outlinewidth\": 0, \"ticks\": \"\"}, \"type\": \"contourcarpet\"}], \"heatmap\": [{\"colorbar\": {\"outlinewidth\": 0, \"ticks\": \"\"}, \"colorscale\": [[0.0, \"#0d0887\"], [0.1111111111111111, \"#46039f\"], [0.2222222222222222, \"#7201a8\"], [0.3333333333333333, \"#9c179e\"], [0.4444444444444444, \"#bd3786\"], [0.5555555555555556, \"#d8576b\"], [0.6666666666666666, \"#ed7953\"], [0.7777777777777778, \"#fb9f3a\"], [0.8888888888888888, \"#fdca26\"], [1.0, \"#f0f921\"]], \"type\": \"heatmap\"}], \"heatmapgl\": [{\"colorbar\": {\"outlinewidth\": 0, \"ticks\": \"\"}, \"colorscale\": [[0.0, \"#0d0887\"], [0.1111111111111111, \"#46039f\"], [0.2222222222222222, \"#7201a8\"], [0.3333333333333333, \"#9c179e\"], [0.4444444444444444, \"#bd3786\"], [0.5555555555555556, \"#d8576b\"], [0.6666666666666666, \"#ed7953\"], [0.7777777777777778, \"#fb9f3a\"], [0.8888888888888888, \"#fdca26\"], [1.0, \"#f0f921\"]], \"type\": \"heatmapgl\"}], \"histogram\": [{\"marker\": {\"colorbar\": {\"outlinewidth\": 0, \"ticks\": \"\"}}, \"type\": \"histogram\"}], \"histogram2d\": [{\"colorbar\": {\"outlinewidth\": 0, \"ticks\": \"\"}, \"colorscale\": [[0.0, \"#0d0887\"], [0.1111111111111111, \"#46039f\"], [0.2222222222222222, \"#7201a8\"], [0.3333333333333333, \"#9c179e\"], [0.4444444444444444, \"#bd3786\"], [0.5555555555555556, \"#d8576b\"], [0.6666666666666666, \"#ed7953\"], [0.7777777777777778, \"#fb9f3a\"], [0.8888888888888888, \"#fdca26\"], [1.0, \"#f0f921\"]], \"type\": \"histogram2d\"}], \"histogram2dcontour\": [{\"colorbar\": {\"outlinewidth\": 0, \"ticks\": \"\"}, \"colorscale\": [[0.0, \"#0d0887\"], [0.1111111111111111, \"#46039f\"], [0.2222222222222222, \"#7201a8\"], [0.3333333333333333, \"#9c179e\"], [0.4444444444444444, \"#bd3786\"], [0.5555555555555556, \"#d8576b\"], [0.6666666666666666, \"#ed7953\"], [0.7777777777777778, \"#fb9f3a\"], [0.8888888888888888, \"#fdca26\"], [1.0, \"#f0f921\"]], \"type\": \"histogram2dcontour\"}], \"mesh3d\": [{\"colorbar\": {\"outlinewidth\": 0, \"ticks\": \"\"}, \"type\": \"mesh3d\"}], \"parcoords\": [{\"line\": {\"colorbar\": {\"outlinewidth\": 0, \"ticks\": \"\"}}, \"type\": \"parcoords\"}], \"pie\": [{\"automargin\": true, \"type\": \"pie\"}], \"scatter\": [{\"marker\": {\"colorbar\": {\"outlinewidth\": 0, \"ticks\": \"\"}}, \"type\": \"scatter\"}], \"scatter3d\": [{\"line\": {\"colorbar\": {\"outlinewidth\": 0, \"ticks\": \"\"}}, \"marker\": {\"colorbar\": {\"outlinewidth\": 0, \"ticks\": \"\"}}, \"type\": \"scatter3d\"}], \"scattercarpet\": [{\"marker\": {\"colorbar\": {\"outlinewidth\": 0, \"ticks\": \"\"}}, \"type\": \"scattercarpet\"}], \"scattergeo\": [{\"marker\": {\"colorbar\": {\"outlinewidth\": 0, \"ticks\": \"\"}}, \"type\": \"scattergeo\"}], \"scattergl\": [{\"marker\": {\"colorbar\": {\"outlinewidth\": 0, \"ticks\": \"\"}}, \"type\": \"scattergl\"}], \"scattermapbox\": [{\"marker\": {\"colorbar\": {\"outlinewidth\": 0, \"ticks\": \"\"}}, \"type\": \"scattermapbox\"}], \"scatterpolar\": [{\"marker\": {\"colorbar\": {\"outlinewidth\": 0, \"ticks\": \"\"}}, \"type\": \"scatterpolar\"}], \"scatterpolargl\": [{\"marker\": {\"colorbar\": {\"outlinewidth\": 0, \"ticks\": \"\"}}, \"type\": \"scatterpolargl\"}], \"scatterternary\": [{\"marker\": {\"colorbar\": {\"outlinewidth\": 0, \"ticks\": \"\"}}, \"type\": \"scatterternary\"}], \"surface\": [{\"colorbar\": {\"outlinewidth\": 0, \"ticks\": \"\"}, \"colorscale\": [[0.0, \"#0d0887\"], [0.1111111111111111, \"#46039f\"], [0.2222222222222222, \"#7201a8\"], [0.3333333333333333, \"#9c179e\"], [0.4444444444444444, \"#bd3786\"], [0.5555555555555556, \"#d8576b\"], [0.6666666666666666, \"#ed7953\"], [0.7777777777777778, \"#fb9f3a\"], [0.8888888888888888, \"#fdca26\"], [1.0, \"#f0f921\"]], \"type\": \"surface\"}], \"table\": [{\"cells\": {\"fill\": {\"color\": \"#EBF0F8\"}, \"line\": {\"color\": \"white\"}}, \"header\": {\"fill\": {\"color\": \"#C8D4E3\"}, \"line\": {\"color\": \"white\"}}, \"type\": \"table\"}]}, \"layout\": {\"annotationdefaults\": {\"arrowcolor\": \"#2a3f5f\", \"arrowhead\": 0, \"arrowwidth\": 1}, \"autotypenumbers\": \"strict\", \"coloraxis\": {\"colorbar\": {\"outlinewidth\": 0, \"ticks\": \"\"}}, \"colorscale\": {\"diverging\": [[0, \"#8e0152\"], [0.1, \"#c51b7d\"], [0.2, \"#de77ae\"], [0.3, \"#f1b6da\"], [0.4, \"#fde0ef\"], [0.5, \"#f7f7f7\"], [0.6, \"#e6f5d0\"], [0.7, \"#b8e186\"], [0.8, \"#7fbc41\"], [0.9, \"#4d9221\"], [1, \"#276419\"]], \"sequential\": [[0.0, \"#0d0887\"], [0.1111111111111111, \"#46039f\"], [0.2222222222222222, \"#7201a8\"], [0.3333333333333333, \"#9c179e\"], [0.4444444444444444, \"#bd3786\"], [0.5555555555555556, \"#d8576b\"], [0.6666666666666666, \"#ed7953\"], [0.7777777777777778, \"#fb9f3a\"], [0.8888888888888888, \"#fdca26\"], [1.0, \"#f0f921\"]], \"sequentialminus\": [[0.0, \"#0d0887\"], [0.1111111111111111, \"#46039f\"], [0.2222222222222222, \"#7201a8\"], [0.3333333333333333, \"#9c179e\"], [0.4444444444444444, \"#bd3786\"], [0.5555555555555556, \"#d8576b\"], [0.6666666666666666, \"#ed7953\"], [0.7777777777777778, \"#fb9f3a\"], [0.8888888888888888, \"#fdca26\"], [1.0, \"#f0f921\"]]}, \"colorway\": [\"#636efa\", \"#EF553B\", \"#00cc96\", \"#ab63fa\", \"#FFA15A\", \"#19d3f3\", \"#FF6692\", \"#B6E880\", \"#FF97FF\", \"#FECB52\"], \"font\": {\"color\": \"#2a3f5f\"}, \"geo\": {\"bgcolor\": \"white\", \"lakecolor\": \"white\", \"landcolor\": \"#E5ECF6\", \"showlakes\": true, \"showland\": true, \"subunitcolor\": \"white\"}, \"hoverlabel\": {\"align\": \"left\"}, \"hovermode\": \"closest\", \"mapbox\": {\"style\": \"light\"}, \"paper_bgcolor\": \"white\", \"plot_bgcolor\": \"#E5ECF6\", \"polar\": {\"angularaxis\": {\"gridcolor\": \"white\", \"linecolor\": \"white\", \"ticks\": \"\"}, \"bgcolor\": \"#E5ECF6\", \"radialaxis\": {\"gridcolor\": \"white\", \"linecolor\": \"white\", \"ticks\": \"\"}}, \"scene\": {\"xaxis\": {\"backgroundcolor\": \"#E5ECF6\", \"gridcolor\": \"white\", \"gridwidth\": 2, \"linecolor\": \"white\", \"showbackground\": true, \"ticks\": \"\", \"zerolinecolor\": \"white\"}, \"yaxis\": {\"backgroundcolor\": \"#E5ECF6\", \"gridcolor\": \"white\", \"gridwidth\": 2, \"linecolor\": \"white\", \"showbackground\": true, \"ticks\": \"\", \"zerolinecolor\": \"white\"}, \"zaxis\": {\"backgroundcolor\": \"#E5ECF6\", \"gridcolor\": \"white\", \"gridwidth\": 2, \"linecolor\": \"white\", \"showbackground\": true, \"ticks\": \"\", \"zerolinecolor\": \"white\"}}, \"shapedefaults\": {\"line\": {\"color\": \"#2a3f5f\"}}, \"ternary\": {\"aaxis\": {\"gridcolor\": \"white\", \"linecolor\": \"white\", \"ticks\": \"\"}, \"baxis\": {\"gridcolor\": \"white\", \"linecolor\": \"white\", \"ticks\": \"\"}, \"bgcolor\": \"#E5ECF6\", \"caxis\": {\"gridcolor\": \"white\", \"linecolor\": \"white\", \"ticks\": \"\"}}, \"title\": {\"x\": 0.05}, \"xaxis\": {\"automargin\": true, \"gridcolor\": \"white\", \"linecolor\": \"white\", \"ticks\": \"\", \"title\": {\"standoff\": 15}, \"zerolinecolor\": \"white\", \"zerolinewidth\": 2}, \"yaxis\": {\"automargin\": true, \"gridcolor\": \"white\", \"linecolor\": \"white\", \"ticks\": \"\", \"title\": {\"standoff\": 15}, \"zerolinecolor\": \"white\", \"zerolinewidth\": 2}}}, \"xaxis\": {\"tickfont\": {\"size\": 30}, \"title\": {\"font\": {\"size\": 35}, \"text\": \"baseMean\"}}, \"yaxis\": {\"tickfont\": {\"size\": 30}, \"title\": {\"font\": {\"size\": 35}, \"text\": \"log2FoldChange\"}}},                        {\"responsive\": true}                    ).then(function(){\n",
       "                            \n",
       "var gd = document.getElementById('a1533dda-5a03-404d-aeed-f31a082e302c');\n",
       "var x = new MutationObserver(function (mutations, observer) {{\n",
       "        var display = window.getComputedStyle(gd).display;\n",
       "        if (!display || display === 'none') {{\n",
       "            console.log([gd, 'removed!']);\n",
       "            Plotly.purge(gd);\n",
       "            observer.disconnect();\n",
       "        }}\n",
       "}});\n",
       "\n",
       "// Listen for the removal of the full notebook cells\n",
       "var notebookContainer = gd.closest('#notebook-container');\n",
       "if (notebookContainer) {{\n",
       "    x.observe(notebookContainer, {childList: true});\n",
       "}}\n",
       "\n",
       "// Listen for the clearing of the current output cell\n",
       "var outputEl = gd.closest('.output');\n",
       "if (outputEl) {{\n",
       "    x.observe(outputEl, {childList: true});\n",
       "}}\n",
       "\n",
       "                        })                };                });            </script>        </div>"
      ]
     },
     "metadata": {},
     "output_type": "display_data"
    }
   ],
   "source": [
    "import plotly.graph_objects as go\n",
    "fig = go.Figure()\n",
    "fig.add_trace(go.Scatter(x=res[\"baseMean\"],\n",
    "                         y=res[\"log2FoldChange\"],\n",
    "                         mode=\"markers+text\",\n",
    "                         marker={\"size\":20, \"color\":\"gray\"}, \n",
    "                         text=res.index,\n",
    "                         textposition=\"top center\")\n",
    "             )\n",
    "#for (x,y, name) in zip(res[\"baseMean\"],res[\"log2FoldChange\"],res.index):\n",
    "    #plt.annotate(name,xy=(x,y))\n",
    "    \n",
    "layout = {}\n",
    "layout[\"xaxis\"]={}\n",
    "layout[\"xaxis\"][\"title\"]=\"baseMean\"\n",
    "layout[\"xaxis\"][\"titlefont_size\"]=35\n",
    "layout[\"xaxis\"][\"tickfont_size\"]=30\n",
    "layout[\"yaxis\"]={}\n",
    "layout[\"yaxis\"][\"title\"]=\"log2FoldChange\"\n",
    "layout[\"yaxis\"][\"titlefont_size\"]=35\n",
    "layout[\"yaxis\"][\"tickfont_size\"]=30\n",
    "fig.update_layout(layout)\n",
    "fig.show()\n",
    "fig.write_image(f\"{directory}/topsbm/desqe2_level{L}_{tissue}.pdf\")"
   ]
  },
  {
   "cell_type": "code",
   "execution_count": 15,
   "metadata": {},
   "outputs": [
    {
     "name": "stdout",
     "output_type": "stream",
     "text": [
      "DLK1\n",
      "MYL1\n",
      "CKM\n",
      "COL9A3\n",
      "MYH7\n",
      "CSRP3\n",
      "MYH6\n"
     ]
    },
    {
     "data": {
      "text/plain": [
       "[None, None, None, None, None, None, None]"
      ]
     },
     "execution_count": 15,
     "metadata": {},
     "output_type": "execute_result"
    }
   ],
   "source": [
    "list(map(lambda g: print(g[:15]),pd.read_csv(f'{directory}/topsbm/topsbm_level_{L}_topics.csv')[\"Topic 197\"].dropna()))"
   ]
  },
  {
   "cell_type": "code",
   "execution_count": null,
   "metadata": {},
   "outputs": [],
   "source": [
    "dds.normalized_count() #DESeq2 normalized count"
   ]
  },
  {
   "cell_type": "code",
   "execution_count": null,
   "metadata": {},
   "outputs": [],
   "source": [
    "dds.comparison # show coefficients for GLM"
   ]
  },
  {
   "cell_type": "code",
   "execution_count": null,
   "metadata": {},
   "outputs": [],
   "source": [
    "# from the last cell, we see the arrangement of coefficients, \n",
    "# so that we can now use \"coef\" for lfcShrink\n",
    "# the comparison we want to focus on is 'sample_B_vs_A', so coef = 4 will be used\n",
    "lfc_res = dds.lfcShrink(coef=2, method='apeglm')\n",
    "lfc_res.head()"
   ]
  },
  {
   "cell_type": "code",
   "execution_count": null,
   "metadata": {},
   "outputs": [],
   "source": [
    "dds.deseq_result"
   ]
  },
  {
   "cell_type": "code",
   "execution_count": null,
   "metadata": {},
   "outputs": [],
   "source": []
  }
 ],
 "metadata": {
  "kernelspec": {
   "display_name": "Python 3",
   "language": "python",
   "name": "python3"
  },
  "language_info": {
   "codemirror_mode": {
    "name": "ipython",
    "version": 3
   },
   "file_extension": ".py",
   "mimetype": "text/x-python",
   "name": "python",
   "nbconvert_exporter": "python",
   "pygments_lexer": "ipython3",
   "version": "3.8.6"
  }
 },
 "nbformat": 4,
 "nbformat_minor": 4
}

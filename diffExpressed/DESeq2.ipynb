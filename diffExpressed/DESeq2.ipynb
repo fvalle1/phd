{
 "cells": [
  {
   "cell_type": "code",
   "execution_count": 4,
   "metadata": {},
   "outputs": [],
   "source": [
    "from numpy import *\n",
    "from numpy.random import multinomial, random\n",
    "from rpy2 import robjects\n",
    "import rpy2.robjects.numpy2ri\n",
    "robjects.numpy2ri.activate()\n",
    "from rpy2.robjects.packages import importr\n",
    "deseq = importr('DESeq2')\n",
    "\n",
    "# Generate some data. 1000 genes, 10 samples\n",
    "n = 1000\n",
    "probabilities = random(n)\n",
    "probabilities /= sum(probabilities)\n",
    "data = zeros((n,10), int)\n",
    "for i in range(10):\n",
    "    data[:,i] = multinomial(1000000, probabilities)\n",
    "\n",
    "# Make the data frame\n",
    "d = {}\n",
    "categories = ('1','2') * 5\n",
    "d[\"key_1\"] = robjects.IntVector(categories)\n",
    "dataframe = robjects.DataFrame(d)"
   ]
  },
  {
   "cell_type": "code",
   "execution_count": 5,
   "metadata": {},
   "outputs": [],
   "source": [
    "# Create the design matrix, and run DESeqDataSetFromMatrix\n",
    "design = robjects.Formula(\"~ 1\") # <--- I guess this is wrong\n",
    "dds = deseq.DESeqDataSetFromMatrix(countData=data, colData=dataframe,design=design)"
   ]
  },
  {
   "cell_type": "code",
   "execution_count": 13,
   "metadata": {},
   "outputs": [
    {
     "data": {
      "text/plain": [
       "<rpy2.rinterface_lib.sexp.StrSexpVector object at 0x7f02181b1300> [RTYPES.STRSXP]"
      ]
     },
     "execution_count": 13,
     "metadata": {},
     "output_type": "execute_result"
    }
   ],
   "source": [
    "dds."
   ]
  },
  {
   "cell_type": "code",
   "execution_count": null,
   "metadata": {},
   "outputs": [],
   "source": []
  }
 ],
 "metadata": {
  "kernelspec": {
   "display_name": "Python 3",
   "language": "python",
   "name": "python3"
  },
  "language_info": {
   "codemirror_mode": {
    "name": "ipython",
    "version": 3
   },
   "file_extension": ".py",
   "mimetype": "text/x-python",
   "name": "python",
   "nbconvert_exporter": "python",
   "pygments_lexer": "ipython3",
   "version": "3.8.6"
  }
 },
 "nbformat": 4,
 "nbformat_minor": 4
}

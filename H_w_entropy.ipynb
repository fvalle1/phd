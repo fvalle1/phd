{
 "cells": [
  {
   "cell_type": "code",
   "execution_count": null,
   "metadata": {},
   "outputs": [],
   "source": [
    "import sys, os\n",
    "sys.path.append('/home/fvalle/phd/stopwords/code/src')\n",
    "from scipy.sparse import csr_matrix\n",
    "import numpy as np\n",
    "import pandas as pd\n",
    "from filter_words import nwd_H_shuffle\n",
    "import matplotlib.pyplot as plt"
   ]
  },
  {
   "cell_type": "code",
   "execution_count": null,
   "metadata": {},
   "outputs": [],
   "source": [
    "os.chdir(\"/home/fvalle/phd/datasets/merged/\")"
   ]
  },
  {
   "cell_type": "code",
   "execution_count": null,
   "metadata": {},
   "outputs": [],
   "source": [
    "df_table = pd.read_csv(\"mainTable_all.csv\", index_col=0)\n",
    "df_files = pd.read_csv(\"files.dat\", index_col=0)\n",
    "df_genes = pd.read_csv(\"meanVariances.csv\", index_col=0)"
   ]
  },
  {
   "cell_type": "code",
   "execution_count": null,
   "metadata": {},
   "outputs": [],
   "source": [
    "df_table = df_table.loc[:,df_table.columns[np.random.randint(len(df_table.columns), size=100)]]"
   ]
  },
  {
   "cell_type": "code",
   "execution_count": null,
   "metadata": {},
   "outputs": [],
   "source": [
    "df_table = df_table.where(df_table > 10, 0).astype(int)\n",
    "df_table = df_table[~(df_table.T==0).all()]"
   ]
  },
  {
   "cell_type": "code",
   "execution_count": null,
   "metadata": {},
   "outputs": [],
   "source": [
    "n_wd_csr = csr_matrix(df_table)\n",
    "n_wd_csr"
   ]
  },
  {
   "cell_type": "code",
   "execution_count": null,
   "metadata": {},
   "outputs": [],
   "source": [
    "result_H = nwd_H_shuffle(n_wd_csr, N_s=10)"
   ]
  },
  {
   "cell_type": "code",
   "execution_count": null,
   "metadata": {},
   "outputs": [],
   "source": [
    "import pickle\n",
    "with open(\"result_H.pkl\", 'wb') as f:\n",
    "    pickle.dump(result_H, f)"
   ]
  },
  {
   "cell_type": "code",
   "execution_count": null,
   "metadata": {},
   "outputs": [],
   "source": [
    "## make dataframe\n",
    "df=pd.DataFrame(index = sorted(list(df_table.index)) )\n",
    "df['H'] = result_H['H-emp']\n",
    "df['H-tilde'] =  result_H['H-null-mu']\n",
    "df['H-tilde_std'] =  result_H['H-null-std']\n",
    "df['N'] = np.array(n_wd_csr.sum(axis=1))[:,0]"
   ]
  },
  {
   "cell_type": "code",
   "execution_count": null,
   "metadata": {},
   "outputs": [],
   "source": [
    "arr_N = np.array(df['N'])\n",
    "arr_H = np.array(df['H'])\n",
    "arr_H_tilde = np.array(df['H-tilde'])\n",
    "arr_H_tilde_std = np.array(df['H-tilde_std'])\n",
    "\n",
    "list_w = list(df.index)"
   ]
  },
  {
   "cell_type": "code",
   "execution_count": null,
   "metadata": {},
   "outputs": [],
   "source": [
    "fig, ax=plt.subplots(figsize=(10,10))\n",
    "D = len(df_table.columns) ## Number of documents to get maximum possible value for entropy\n",
    "Dmax = np.log2(D)\n",
    "ax.plot([np.min(arr_N),np.max(arr_N)], [Dmax,Dmax],  lw=1, ls=':',  color='black')\n",
    "x = arr_N\n",
    "y = arr_H\n",
    "ax.plot(x, y, ms=5, lw=0, marker='o', color='blue', alpha=0.5, rasterized=1,zorder=1)\n",
    "ind_sort = np.argsort(arr_N)\n",
    "x = arr_N[ind_sort]\n",
    "y = arr_H_tilde[ind_sort]\n",
    "yerr = arr_H_tilde_std[ind_sort]*5\n",
    "ax.errorbar(x, y, yerr=yerr, color='orange', lw=1, alpha=0.9, rasterized=1,zorder=2)\n",
    "ax.set_xlabel('Word frequency $n(w)$', fontsize=20)\n",
    "ax.set_ylabel('$H(w|C)$', fontsize=20)\n",
    "ax.set_xscale('log')\n",
    "\n",
    "hk = pd.read_csv(\"/home/fvalle/phd/datasets/tcga/hk/HK_exons.csv\", index_col=0).index.unique()\n",
    "hk\n",
    "\n",
    "list_w_sel = hk[hk.isin(df_table.index)].values[:] ## words we mark\n",
    "for i_sel, w_sel in enumerate(list_w_sel):\n",
    "    iw = list_w.index(w_sel)\n",
    "    x = arr_N[iw]\n",
    "    y = arr_H[iw]\n",
    "    ax.scatter(x, y, marker='x', facecolors='green',zorder=3)\n",
    "\n",
    "    x = arr_N[iw]\n",
    "    y = arr_H[iw]\n",
    "    ax.text(x,y, w_sel, color='green')\n",
    "\n",
    "plt.show()\n",
    "fig.savefig(\"H(w|c)_housekeeping.pdf\")"
   ]
  },
  {
   "cell_type": "code",
   "execution_count": null,
   "metadata": {},
   "outputs": [],
   "source": []
  },
  {
   "cell_type": "code",
   "execution_count": null,
   "metadata": {},
   "outputs": [],
   "source": []
  }
 ],
 "metadata": {
  "kernelspec": {
   "display_name": "Python 3",
   "language": "python",
   "name": "python3"
  },
  "language_info": {
   "codemirror_mode": {
    "name": "ipython",
    "version": 3
   },
   "file_extension": ".py",
   "mimetype": "text/x-python",
   "name": "python",
   "nbconvert_exporter": "python",
   "pygments_lexer": "ipython3",
   "version": "3.6.9"
  }
 },
 "nbformat": 4,
 "nbformat_minor": 2
}

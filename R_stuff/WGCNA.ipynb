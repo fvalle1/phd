{
 "cells": [
  {
   "cell_type": "code",
   "execution_count": 1,
   "metadata": {},
   "outputs": [
    {
     "data": {
      "text/html": [
       "'/home/jovyan/work/phd/R_stuff'"
      ],
      "text/latex": [
       "'/home/jovyan/work/phd/R\\_stuff'"
      ],
      "text/markdown": [
       "'/home/jovyan/work/phd/R_stuff'"
      ],
      "text/plain": [
       "[1] \"/home/jovyan/work/phd/R_stuff\""
      ]
     },
     "metadata": {},
     "output_type": "display_data"
    },
    {
     "name": "stderr",
     "output_type": "stream",
     "text": [
      "Loading required package: dynamicTreeCut\n",
      "\n",
      "Loading required package: fastcluster\n",
      "\n",
      "\n",
      "Attaching package: ‘fastcluster’\n",
      "\n",
      "\n",
      "The following object is masked from ‘package:stats’:\n",
      "\n",
      "    hclust\n",
      "\n",
      "\n",
      "\n",
      "\n",
      "\n",
      "Attaching package: ‘WGCNA’\n",
      "\n",
      "\n",
      "The following object is masked from ‘package:stats’:\n",
      "\n",
      "    cor\n",
      "\n",
      "\n"
     ]
    },
    {
     "name": "stdout",
     "output_type": "stream",
     "text": [
      "Allowing multi-threading with up to 2 threads.\n"
     ]
    }
   ],
   "source": [
    "# Display the current working directory\n",
    "getwd();\n",
    "# If necessary, change the path below to the directory where the data files are stored.\n",
    "# \".\" means current directory. On Windows use a forward slash / instead of the usual \\.\n",
    "workingDir = \"/home/jovyan/work/phd/topics/datasets/gtexall\";\n",
    "setwd(workingDir);\n",
    "# Load WGCNA package\n",
    "library(WGCNA)\n",
    "allowWGCNAThreads()\n",
    "# The following setting is important, do not omit.\n",
    "options(stringsAsFactors = FALSE);"
   ]
  },
  {
   "cell_type": "code",
   "execution_count": 2,
   "metadata": {},
   "outputs": [],
   "source": [
    "add_legend <- function(...) {\n",
    "  opar <- par(fig=c(0, 1, 0, 1), oma=c(0, 0, 0, 0), \n",
    "    mar=c(0, 0, 0, 0), new=TRUE)\n",
    "  on.exit(par(opar))\n",
    "  plot(0, 0, type='n', bty='n', xaxt='n', yaxt='n')\n",
    "  legend(...)\n",
    "}"
   ]
  },
  {
   "cell_type": "code",
   "execution_count": 3,
   "metadata": {},
   "outputs": [],
   "source": [
    "datExpr <- t(read.csv(\"mainTable.csv\", check.names=FALSE, row.names = \"\")) # 0, eng, Name\n",
    "genes <- dimnames(datExpr)[[2]]\n",
    "samples <- dimnames(datExpr)[[1]]\n",
    "datExpr <- as.data.frame(apply(datExpr,2, as.numeric)) #numeric\n",
    "dimnames(datExpr)[[1]] <- samples\n",
    "allTraits <- read.csv(\"files.dat\")"
   ]
  },
  {
   "cell_type": "code",
   "execution_count": null,
   "metadata": {},
   "outputs": [],
   "source": [
    "log2_1 <- function(x){\n",
    "    log2(x+1)\n",
    "}\n",
    "datExpr <- as.data.frame(apply(datExpr,2, log2_1))\n",
    "dimnames(datExpr)[[1]] <- samples"
   ]
  },
  {
   "cell_type": "code",
   "execution_count": 4,
   "metadata": {},
   "outputs": [
    {
     "data": {
      "text/html": [
       "<table>\n",
       "<caption>A data.frame: 10 × 5</caption>\n",
       "<thead>\n",
       "\t<tr><th></th><th scope=col>ENSG00000268903</th><th scope=col>ENSG00000269981</th><th scope=col>ENSG00000225972</th><th scope=col>ENSG00000229344</th><th scope=col>ENSG00000178821</th></tr>\n",
       "\t<tr><th></th><th scope=col>&lt;dbl&gt;</th><th scope=col>&lt;dbl&gt;</th><th scope=col>&lt;dbl&gt;</th><th scope=col>&lt;dbl&gt;</th><th scope=col>&lt;dbl&gt;</th></tr>\n",
       "</thead>\n",
       "<tbody>\n",
       "\t<tr><th scope=row>GTEX-1117F-0226-SM-5GZZ7</th><td>2</td><td>3</td><td>3</td><td>3</td><td>0</td></tr>\n",
       "\t<tr><th scope=row>GTEX-1117F-0426-SM-5EGHI</th><td>0</td><td>0</td><td>5</td><td>4</td><td>5</td></tr>\n",
       "\t<tr><th scope=row>GTEX-1117F-0526-SM-5EGHJ</th><td>1</td><td>0</td><td>3</td><td>3</td><td>0</td></tr>\n",
       "\t<tr><th scope=row>GTEX-1117F-0626-SM-5N9CS</th><td>1</td><td>1</td><td>2</td><td>2</td><td>0</td></tr>\n",
       "\t<tr><th scope=row>GTEX-1117F-0726-SM-5GIEN</th><td>0</td><td>1</td><td>3</td><td>4</td><td>0</td></tr>\n",
       "\t<tr><th scope=row>GTEX-1117F-1326-SM-5EGHH</th><td>1</td><td>2</td><td>5</td><td>3</td><td>0</td></tr>\n",
       "\t<tr><th scope=row>GTEX-1117F-2426-SM-5EGGH</th><td>1</td><td>1</td><td>2</td><td>3</td><td>0</td></tr>\n",
       "\t<tr><th scope=row>GTEX-1117F-2526-SM-5GZY6</th><td>2</td><td>3</td><td>2</td><td>3</td><td>1</td></tr>\n",
       "\t<tr><th scope=row>GTEX-1117F-2826-SM-5GZXL</th><td>1</td><td>2</td><td>4</td><td>3</td><td>1</td></tr>\n",
       "\t<tr><th scope=row>GTEX-1117F-2926-SM-5GZYI</th><td>2</td><td>2</td><td>3</td><td>3</td><td>1</td></tr>\n",
       "</tbody>\n",
       "</table>\n"
      ],
      "text/latex": [
       "A data.frame: 10 × 5\n",
       "\\begin{tabular}{r|lllll}\n",
       "  & ENSG00000268903 & ENSG00000269981 & ENSG00000225972 & ENSG00000229344 & ENSG00000178821\\\\\n",
       "  & <dbl> & <dbl> & <dbl> & <dbl> & <dbl>\\\\\n",
       "\\hline\n",
       "\tGTEX-1117F-0226-SM-5GZZ7 & 2 & 3 & 3 & 3 & 0\\\\\n",
       "\tGTEX-1117F-0426-SM-5EGHI & 0 & 0 & 5 & 4 & 5\\\\\n",
       "\tGTEX-1117F-0526-SM-5EGHJ & 1 & 0 & 3 & 3 & 0\\\\\n",
       "\tGTEX-1117F-0626-SM-5N9CS & 1 & 1 & 2 & 2 & 0\\\\\n",
       "\tGTEX-1117F-0726-SM-5GIEN & 0 & 1 & 3 & 4 & 0\\\\\n",
       "\tGTEX-1117F-1326-SM-5EGHH & 1 & 2 & 5 & 3 & 0\\\\\n",
       "\tGTEX-1117F-2426-SM-5EGGH & 1 & 1 & 2 & 3 & 0\\\\\n",
       "\tGTEX-1117F-2526-SM-5GZY6 & 2 & 3 & 2 & 3 & 1\\\\\n",
       "\tGTEX-1117F-2826-SM-5GZXL & 1 & 2 & 4 & 3 & 1\\\\\n",
       "\tGTEX-1117F-2926-SM-5GZYI & 2 & 2 & 3 & 3 & 1\\\\\n",
       "\\end{tabular}\n"
      ],
      "text/markdown": [
       "\n",
       "A data.frame: 10 × 5\n",
       "\n",
       "| <!--/--> | ENSG00000268903 &lt;dbl&gt; | ENSG00000269981 &lt;dbl&gt; | ENSG00000225972 &lt;dbl&gt; | ENSG00000229344 &lt;dbl&gt; | ENSG00000178821 &lt;dbl&gt; |\n",
       "|---|---|---|---|---|---|\n",
       "| GTEX-1117F-0226-SM-5GZZ7 | 2 | 3 | 3 | 3 | 0 |\n",
       "| GTEX-1117F-0426-SM-5EGHI | 0 | 0 | 5 | 4 | 5 |\n",
       "| GTEX-1117F-0526-SM-5EGHJ | 1 | 0 | 3 | 3 | 0 |\n",
       "| GTEX-1117F-0626-SM-5N9CS | 1 | 1 | 2 | 2 | 0 |\n",
       "| GTEX-1117F-0726-SM-5GIEN | 0 | 1 | 3 | 4 | 0 |\n",
       "| GTEX-1117F-1326-SM-5EGHH | 1 | 2 | 5 | 3 | 0 |\n",
       "| GTEX-1117F-2426-SM-5EGGH | 1 | 1 | 2 | 3 | 0 |\n",
       "| GTEX-1117F-2526-SM-5GZY6 | 2 | 3 | 2 | 3 | 1 |\n",
       "| GTEX-1117F-2826-SM-5GZXL | 1 | 2 | 4 | 3 | 1 |\n",
       "| GTEX-1117F-2926-SM-5GZYI | 2 | 2 | 3 | 3 | 1 |\n",
       "\n"
      ],
      "text/plain": [
       "                         ENSG00000268903 ENSG00000269981 ENSG00000225972\n",
       "GTEX-1117F-0226-SM-5GZZ7 2               3               3              \n",
       "GTEX-1117F-0426-SM-5EGHI 0               0               5              \n",
       "GTEX-1117F-0526-SM-5EGHJ 1               0               3              \n",
       "GTEX-1117F-0626-SM-5N9CS 1               1               2              \n",
       "GTEX-1117F-0726-SM-5GIEN 0               1               3              \n",
       "GTEX-1117F-1326-SM-5EGHH 1               2               5              \n",
       "GTEX-1117F-2426-SM-5EGGH 1               1               2              \n",
       "GTEX-1117F-2526-SM-5GZY6 2               3               2              \n",
       "GTEX-1117F-2826-SM-5GZXL 1               2               4              \n",
       "GTEX-1117F-2926-SM-5GZYI 2               2               3              \n",
       "                         ENSG00000229344 ENSG00000178821\n",
       "GTEX-1117F-0226-SM-5GZZ7 3               0              \n",
       "GTEX-1117F-0426-SM-5EGHI 4               5              \n",
       "GTEX-1117F-0526-SM-5EGHJ 3               0              \n",
       "GTEX-1117F-0626-SM-5N9CS 2               0              \n",
       "GTEX-1117F-0726-SM-5GIEN 4               0              \n",
       "GTEX-1117F-1326-SM-5EGHH 3               0              \n",
       "GTEX-1117F-2426-SM-5EGGH 3               0              \n",
       "GTEX-1117F-2526-SM-5GZY6 3               1              \n",
       "GTEX-1117F-2826-SM-5GZXL 3               1              \n",
       "GTEX-1117F-2926-SM-5GZYI 3               1              "
      ]
     },
     "metadata": {},
     "output_type": "display_data"
    }
   ],
   "source": [
    "datExpr[1:10,1:5]"
   ]
  },
  {
   "cell_type": "code",
   "execution_count": 5,
   "metadata": {},
   "outputs": [
    {
     "data": {
      "text/html": [
       "<table>\n",
       "<caption>A data.frame: 6 × 63</caption>\n",
       "<thead>\n",
       "\t<tr><th></th><th scope=col>SAMPID</th><th scope=col>SMATSSCR</th><th scope=col>SMCENTER</th><th scope=col>SMPTHNTS</th><th scope=col>SMRIN</th><th scope=col>SMTS</th><th scope=col>SMTSD</th><th scope=col>SMUBRID</th><th scope=col>SMTSISCH</th><th scope=col>SMTSPAX</th><th scope=col>⋯</th><th scope=col>SME1ANTI</th><th scope=col>SMSPLTRD</th><th scope=col>SMBSMMRT</th><th scope=col>SME1SNSE</th><th scope=col>SME1PCTS</th><th scope=col>SMRRNART</th><th scope=col>SME1MPRT</th><th scope=col>SMNUM5CD</th><th scope=col>SMDPMPRT</th><th scope=col>SME2PCTS</th></tr>\n",
       "\t<tr><th></th><th scope=col>&lt;chr&gt;</th><th scope=col>&lt;dbl&gt;</th><th scope=col>&lt;chr&gt;</th><th scope=col>&lt;chr&gt;</th><th scope=col>&lt;dbl&gt;</th><th scope=col>&lt;chr&gt;</th><th scope=col>&lt;chr&gt;</th><th scope=col>&lt;chr&gt;</th><th scope=col>&lt;dbl&gt;</th><th scope=col>&lt;dbl&gt;</th><th scope=col>⋯</th><th scope=col>&lt;dbl&gt;</th><th scope=col>&lt;dbl&gt;</th><th scope=col>&lt;dbl&gt;</th><th scope=col>&lt;dbl&gt;</th><th scope=col>&lt;dbl&gt;</th><th scope=col>&lt;dbl&gt;</th><th scope=col>&lt;dbl&gt;</th><th scope=col>&lt;lgl&gt;</th><th scope=col>&lt;dbl&gt;</th><th scope=col>&lt;dbl&gt;</th></tr>\n",
       "</thead>\n",
       "<tbody>\n",
       "\t<tr><th scope=row>1</th><td>GTEX-1117F-0003-SM-58Q7G     </td><td>NA</td><td>B1    </td><td>                                            </td><td> NA</td><td>Blood         </td><td>Whole Blood                 </td><td>0013756</td><td>1188</td><td>  NA</td><td>⋯</td><td>      NA</td><td>      NA</td><td>        NA</td><td>      NA</td><td>     NA</td><td>        NA</td><td>     NA</td><td>NA</td><td>NA</td><td>     NA</td></tr>\n",
       "\t<tr><th scope=row>2</th><td>GTEX-1117F-0003-SM-5DWSB     </td><td>NA</td><td>B1    </td><td>                                            </td><td> NA</td><td>Blood         </td><td>Whole Blood                 </td><td>0013756</td><td>1188</td><td>  NA</td><td>⋯</td><td>      NA</td><td>      NA</td><td>        NA</td><td>      NA</td><td>     NA</td><td>        NA</td><td>     NA</td><td>NA</td><td>NA</td><td>     NA</td></tr>\n",
       "\t<tr><th scope=row>3</th><td>GTEX-1117F-0003-SM-6WBT7     </td><td>NA</td><td>B1    </td><td>                                            </td><td> NA</td><td>Blood         </td><td>Whole Blood                 </td><td>0013756</td><td>1188</td><td>  NA</td><td>⋯</td><td>      NA</td><td>      NA</td><td>        NA</td><td>      NA</td><td>     NA</td><td>        NA</td><td>     NA</td><td>NA</td><td>NA</td><td>     NA</td></tr>\n",
       "\t<tr><th scope=row>4</th><td>GTEX-1117F-0011-R10a-SM-AHZ7F</td><td>NA</td><td>B1, A1</td><td>                                            </td><td> NA</td><td>Brain         </td><td>Brain - Frontal Cortex (BA9)</td><td>0009834</td><td>1193</td><td>  NA</td><td>⋯</td><td>      NA</td><td>      NA</td><td>        NA</td><td>      NA</td><td>     NA</td><td>        NA</td><td>     NA</td><td>NA</td><td>NA</td><td>     NA</td></tr>\n",
       "\t<tr><th scope=row>5</th><td>GTEX-1117F-0011-R10b-SM-CYKQ8</td><td>NA</td><td>B1, A1</td><td>                                            </td><td>7.2</td><td>Brain         </td><td>Brain - Frontal Cortex (BA9)</td><td>0009834</td><td>1193</td><td>  NA</td><td>⋯</td><td>      NA</td><td>      NA</td><td>        NA</td><td>      NA</td><td>     NA</td><td>        NA</td><td>     NA</td><td>NA</td><td>NA</td><td>     NA</td></tr>\n",
       "\t<tr><th scope=row>6</th><td>GTEX-1117F-0226-SM-5GZZ7     </td><td> 0</td><td>B1    </td><td>2 pieces, ~15% vessel stroma, rep delineated</td><td>6.8</td><td>Adipose Tissue</td><td>Adipose - Subcutaneous      </td><td>0002190</td><td>1214</td><td>1125</td><td>⋯</td><td>14648800</td><td>11999300</td><td>0.00315785</td><td>14669500</td><td>50.0354</td><td>0.00310538</td><td>0.99474</td><td>NA</td><td> 0</td><td>50.1944</td></tr>\n",
       "</tbody>\n",
       "</table>\n"
      ],
      "text/latex": [
       "A data.frame: 6 × 63\n",
       "\\begin{tabular}{r|lllllllllllllllllllll}\n",
       "  & SAMPID & SMATSSCR & SMCENTER & SMPTHNTS & SMRIN & SMTS & SMTSD & SMUBRID & SMTSISCH & SMTSPAX & ⋯ & SME1ANTI & SMSPLTRD & SMBSMMRT & SME1SNSE & SME1PCTS & SMRRNART & SME1MPRT & SMNUM5CD & SMDPMPRT & SME2PCTS\\\\\n",
       "  & <chr> & <dbl> & <chr> & <chr> & <dbl> & <chr> & <chr> & <chr> & <dbl> & <dbl> & ⋯ & <dbl> & <dbl> & <dbl> & <dbl> & <dbl> & <dbl> & <dbl> & <lgl> & <dbl> & <dbl>\\\\\n",
       "\\hline\n",
       "\t1 & GTEX-1117F-0003-SM-58Q7G      & NA & B1     &                                              &  NA & Blood          & Whole Blood                  & 0013756 & 1188 &   NA & ⋯ &       NA &       NA &         NA &       NA &      NA &         NA &      NA & NA & NA &      NA\\\\\n",
       "\t2 & GTEX-1117F-0003-SM-5DWSB      & NA & B1     &                                              &  NA & Blood          & Whole Blood                  & 0013756 & 1188 &   NA & ⋯ &       NA &       NA &         NA &       NA &      NA &         NA &      NA & NA & NA &      NA\\\\\n",
       "\t3 & GTEX-1117F-0003-SM-6WBT7      & NA & B1     &                                              &  NA & Blood          & Whole Blood                  & 0013756 & 1188 &   NA & ⋯ &       NA &       NA &         NA &       NA &      NA &         NA &      NA & NA & NA &      NA\\\\\n",
       "\t4 & GTEX-1117F-0011-R10a-SM-AHZ7F & NA & B1, A1 &                                              &  NA & Brain          & Brain - Frontal Cortex (BA9) & 0009834 & 1193 &   NA & ⋯ &       NA &       NA &         NA &       NA &      NA &         NA &      NA & NA & NA &      NA\\\\\n",
       "\t5 & GTEX-1117F-0011-R10b-SM-CYKQ8 & NA & B1, A1 &                                              & 7.2 & Brain          & Brain - Frontal Cortex (BA9) & 0009834 & 1193 &   NA & ⋯ &       NA &       NA &         NA &       NA &      NA &         NA &      NA & NA & NA &      NA\\\\\n",
       "\t6 & GTEX-1117F-0226-SM-5GZZ7      &  0 & B1     & 2 pieces, \\textasciitilde{}15\\% vessel stroma, rep delineated & 6.8 & Adipose Tissue & Adipose - Subcutaneous       & 0002190 & 1214 & 1125 & ⋯ & 14648800 & 11999300 & 0.00315785 & 14669500 & 50.0354 & 0.00310538 & 0.99474 & NA &  0 & 50.1944\\\\\n",
       "\\end{tabular}\n"
      ],
      "text/markdown": [
       "\n",
       "A data.frame: 6 × 63\n",
       "\n",
       "| <!--/--> | SAMPID &lt;chr&gt; | SMATSSCR &lt;dbl&gt; | SMCENTER &lt;chr&gt; | SMPTHNTS &lt;chr&gt; | SMRIN &lt;dbl&gt; | SMTS &lt;chr&gt; | SMTSD &lt;chr&gt; | SMUBRID &lt;chr&gt; | SMTSISCH &lt;dbl&gt; | SMTSPAX &lt;dbl&gt; | ⋯ ⋯ | SME1ANTI &lt;dbl&gt; | SMSPLTRD &lt;dbl&gt; | SMBSMMRT &lt;dbl&gt; | SME1SNSE &lt;dbl&gt; | SME1PCTS &lt;dbl&gt; | SMRRNART &lt;dbl&gt; | SME1MPRT &lt;dbl&gt; | SMNUM5CD &lt;lgl&gt; | SMDPMPRT &lt;dbl&gt; | SME2PCTS &lt;dbl&gt; |\n",
       "|---|---|---|---|---|---|---|---|---|---|---|---|---|---|---|---|---|---|---|---|---|---|\n",
       "| 1 | GTEX-1117F-0003-SM-58Q7G      | NA | B1     | <!----> |  NA | Blood          | Whole Blood                  | 0013756 | 1188 |   NA | ⋯ |       NA |       NA |         NA |       NA |      NA |         NA |      NA | NA | NA |      NA |\n",
       "| 2 | GTEX-1117F-0003-SM-5DWSB      | NA | B1     | <!----> |  NA | Blood          | Whole Blood                  | 0013756 | 1188 |   NA | ⋯ |       NA |       NA |         NA |       NA |      NA |         NA |      NA | NA | NA |      NA |\n",
       "| 3 | GTEX-1117F-0003-SM-6WBT7      | NA | B1     | <!----> |  NA | Blood          | Whole Blood                  | 0013756 | 1188 |   NA | ⋯ |       NA |       NA |         NA |       NA |      NA |         NA |      NA | NA | NA |      NA |\n",
       "| 4 | GTEX-1117F-0011-R10a-SM-AHZ7F | NA | B1, A1 | <!----> |  NA | Brain          | Brain - Frontal Cortex (BA9) | 0009834 | 1193 |   NA | ⋯ |       NA |       NA |         NA |       NA |      NA |         NA |      NA | NA | NA |      NA |\n",
       "| 5 | GTEX-1117F-0011-R10b-SM-CYKQ8 | NA | B1, A1 | <!----> | 7.2 | Brain          | Brain - Frontal Cortex (BA9) | 0009834 | 1193 |   NA | ⋯ |       NA |       NA |         NA |       NA |      NA |         NA |      NA | NA | NA |      NA |\n",
       "| 6 | GTEX-1117F-0226-SM-5GZZ7      |  0 | B1     | 2 pieces, ~15% vessel stroma, rep delineated | 6.8 | Adipose Tissue | Adipose - Subcutaneous       | 0002190 | 1214 | 1125 | ⋯ | 14648800 | 11999300 | 0.00315785 | 14669500 | 50.0354 | 0.00310538 | 0.99474 | NA |  0 | 50.1944 |\n",
       "\n"
      ],
      "text/plain": [
       "  SAMPID                        SMATSSCR SMCENTER\n",
       "1 GTEX-1117F-0003-SM-58Q7G      NA       B1      \n",
       "2 GTEX-1117F-0003-SM-5DWSB      NA       B1      \n",
       "3 GTEX-1117F-0003-SM-6WBT7      NA       B1      \n",
       "4 GTEX-1117F-0011-R10a-SM-AHZ7F NA       B1, A1  \n",
       "5 GTEX-1117F-0011-R10b-SM-CYKQ8 NA       B1, A1  \n",
       "6 GTEX-1117F-0226-SM-5GZZ7       0       B1      \n",
       "  SMPTHNTS                                     SMRIN SMTS          \n",
       "1                                               NA   Blood         \n",
       "2                                               NA   Blood         \n",
       "3                                               NA   Blood         \n",
       "4                                               NA   Brain         \n",
       "5                                              7.2   Brain         \n",
       "6 2 pieces, ~15% vessel stroma, rep delineated 6.8   Adipose Tissue\n",
       "  SMTSD                        SMUBRID SMTSISCH SMTSPAX ⋯ SME1ANTI SMSPLTRD\n",
       "1 Whole Blood                  0013756 1188       NA    ⋯       NA       NA\n",
       "2 Whole Blood                  0013756 1188       NA    ⋯       NA       NA\n",
       "3 Whole Blood                  0013756 1188       NA    ⋯       NA       NA\n",
       "4 Brain - Frontal Cortex (BA9) 0009834 1193       NA    ⋯       NA       NA\n",
       "5 Brain - Frontal Cortex (BA9) 0009834 1193       NA    ⋯       NA       NA\n",
       "6 Adipose - Subcutaneous       0002190 1214     1125    ⋯ 14648800 11999300\n",
       "  SMBSMMRT   SME1SNSE SME1PCTS SMRRNART   SME1MPRT SMNUM5CD SMDPMPRT SME2PCTS\n",
       "1         NA       NA      NA          NA      NA  NA       NA            NA \n",
       "2         NA       NA      NA          NA      NA  NA       NA            NA \n",
       "3         NA       NA      NA          NA      NA  NA       NA            NA \n",
       "4         NA       NA      NA          NA      NA  NA       NA            NA \n",
       "5         NA       NA      NA          NA      NA  NA       NA            NA \n",
       "6 0.00315785 14669500 50.0354  0.00310538 0.99474  NA        0       50.1944 "
      ]
     },
     "metadata": {},
     "output_type": "display_data"
    }
   ],
   "source": [
    "head(allTraits)"
   ]
  },
  {
   "cell_type": "code",
   "execution_count": 6,
   "metadata": {},
   "outputs": [
    {
     "data": {
      "text/html": [
       "<table>\n",
       "<caption>A data.frame: 6 × 2</caption>\n",
       "<thead>\n",
       "\t<tr><th></th><th scope=col>SMTS</th><th scope=col>SMTSD</th></tr>\n",
       "\t<tr><th></th><th scope=col>&lt;chr&gt;</th><th scope=col>&lt;chr&gt;</th></tr>\n",
       "</thead>\n",
       "<tbody>\n",
       "\t<tr><th scope=row>GTEX-1117F-0226-SM-5GZZ7</th><td>Adipose Tissue</td><td>Adipose - Subcutaneous      </td></tr>\n",
       "\t<tr><th scope=row>GTEX-1117F-0426-SM-5EGHI</th><td>Muscle        </td><td>Muscle - Skeletal           </td></tr>\n",
       "\t<tr><th scope=row>GTEX-1117F-0526-SM-5EGHJ</th><td>Blood Vessel  </td><td>Artery - Tibial             </td></tr>\n",
       "\t<tr><th scope=row>GTEX-1117F-0626-SM-5N9CS</th><td>Blood Vessel  </td><td>Artery - Coronary           </td></tr>\n",
       "\t<tr><th scope=row>GTEX-1117F-0726-SM-5GIEN</th><td>Heart         </td><td>Heart - Atrial Appendage    </td></tr>\n",
       "\t<tr><th scope=row>GTEX-1117F-1326-SM-5EGHH</th><td>Adipose Tissue</td><td>Adipose - Visceral (Omentum)</td></tr>\n",
       "</tbody>\n",
       "</table>\n"
      ],
      "text/latex": [
       "A data.frame: 6 × 2\n",
       "\\begin{tabular}{r|ll}\n",
       "  & SMTS & SMTSD\\\\\n",
       "  & <chr> & <chr>\\\\\n",
       "\\hline\n",
       "\tGTEX-1117F-0226-SM-5GZZ7 & Adipose Tissue & Adipose - Subcutaneous      \\\\\n",
       "\tGTEX-1117F-0426-SM-5EGHI & Muscle         & Muscle - Skeletal           \\\\\n",
       "\tGTEX-1117F-0526-SM-5EGHJ & Blood Vessel   & Artery - Tibial             \\\\\n",
       "\tGTEX-1117F-0626-SM-5N9CS & Blood Vessel   & Artery - Coronary           \\\\\n",
       "\tGTEX-1117F-0726-SM-5GIEN & Heart          & Heart - Atrial Appendage    \\\\\n",
       "\tGTEX-1117F-1326-SM-5EGHH & Adipose Tissue & Adipose - Visceral (Omentum)\\\\\n",
       "\\end{tabular}\n"
      ],
      "text/markdown": [
       "\n",
       "A data.frame: 6 × 2\n",
       "\n",
       "| <!--/--> | SMTS &lt;chr&gt; | SMTSD &lt;chr&gt; |\n",
       "|---|---|---|\n",
       "| GTEX-1117F-0226-SM-5GZZ7 | Adipose Tissue | Adipose - Subcutaneous       |\n",
       "| GTEX-1117F-0426-SM-5EGHI | Muscle         | Muscle - Skeletal            |\n",
       "| GTEX-1117F-0526-SM-5EGHJ | Blood Vessel   | Artery - Tibial              |\n",
       "| GTEX-1117F-0626-SM-5N9CS | Blood Vessel   | Artery - Coronary            |\n",
       "| GTEX-1117F-0726-SM-5GIEN | Heart          | Heart - Atrial Appendage     |\n",
       "| GTEX-1117F-1326-SM-5EGHH | Adipose Tissue | Adipose - Visceral (Omentum) |\n",
       "\n"
      ],
      "text/plain": [
       "                         SMTS           SMTSD                       \n",
       "GTEX-1117F-0226-SM-5GZZ7 Adipose Tissue Adipose - Subcutaneous      \n",
       "GTEX-1117F-0426-SM-5EGHI Muscle         Muscle - Skeletal           \n",
       "GTEX-1117F-0526-SM-5EGHJ Blood Vessel   Artery - Tibial             \n",
       "GTEX-1117F-0626-SM-5N9CS Blood Vessel   Artery - Coronary           \n",
       "GTEX-1117F-0726-SM-5GIEN Heart          Heart - Atrial Appendage    \n",
       "GTEX-1117F-1326-SM-5EGHH Adipose Tissue Adipose - Visceral (Omentum)"
      ]
     },
     "metadata": {},
     "output_type": "display_data"
    }
   ],
   "source": [
    "#labels <- c('Subtype_Selected','Subtype_Selected_Lum')\n",
    "#labels <- c('cancer.type','Subtype_Selected')\n",
    "#labels <- c('primary_sites', 'tissue_hd')\n",
    "#labels <-c(\"Type\",\"Subtype\")\n",
    "labels<-c(\"SMTS\",\"SMTSD\")\n",
    "datTraits <- allTraits[,labels]\n",
    "rownames(datTraits) <- allTraits$SAMPID #<--CHECK\n",
    "datTraits <- datTraits[rownames(datExpr),]\n",
    "head(datTraits)"
   ]
  },
  {
   "cell_type": "code",
   "execution_count": 7,
   "metadata": {},
   "outputs": [
    {
     "data": {
      "text/plain": [
       "\n",
       "FALSE \n",
       "17382 "
      ]
     },
     "metadata": {},
     "output_type": "display_data"
    }
   ],
   "source": [
    "table( dimnames(datExpr)[[1]]==datTraits$SMTS)"
   ]
  },
  {
   "cell_type": "code",
   "execution_count": 8,
   "metadata": {},
   "outputs": [],
   "source": [
    "y = datTraits$SMTS"
   ]
  },
  {
   "cell_type": "code",
   "execution_count": 9,
   "metadata": {},
   "outputs": [],
   "source": [
    "meanExpressionBySample=apply( datExpr,1,mean, na.rm=T)\n",
    "NumberMissingBySample=apply( is.na(data.frame(datExpr)),1, sum)"
   ]
  },
  {
   "cell_type": "markdown",
   "metadata": {},
   "source": [
    "## 1"
   ]
  },
  {
   "cell_type": "code",
   "execution_count": 10,
   "metadata": {},
   "outputs": [
    {
     "name": "stdout",
     "output_type": "stream",
     "text": [
      " Flagging genes and samples with too many missing values...\n",
      "  ..step 1\n"
     ]
    },
    {
     "data": {
      "text/html": [
       "TRUE"
      ],
      "text/latex": [
       "TRUE"
      ],
      "text/markdown": [
       "TRUE"
      ],
      "text/plain": [
       "[1] TRUE"
      ]
     },
     "metadata": {},
     "output_type": "display_data"
    }
   ],
   "source": [
    "gsg = goodSamplesGenes(datExpr, verbose = 3);\n",
    "gsg$allOK"
   ]
  },
  {
   "cell_type": "code",
   "execution_count": 11,
   "metadata": {},
   "outputs": [
    {
     "data": {
      "text/html": [
       "<strong>png:</strong> 2"
      ],
      "text/latex": [
       "\\textbf{png:} 2"
      ],
      "text/markdown": [
       "**png:** 2"
      ],
      "text/plain": [
       "png \n",
       "  2 "
      ]
     },
     "metadata": {},
     "output_type": "display_data"
    }
   ],
   "source": [
    "sampleTree = hclust(dist(datExpr), method = \"average\");\n",
    "# Plot the sample tree: Open a graphic output window of size 12 by 9 inches\n",
    "# The user should change the dimensions if the window is too large or too small.\n",
    "sizeGrWindow(12,9)\n",
    "pdf(\"wgcna_nsamplehier.pdf\")\n",
    "par(cex = 0.6);\n",
    "par(mar = c(0,4,2,0))\n",
    "plot(sampleTree, main = \"Sample clustering to detect outliers\", sub=\"\", xlab=\"\", cex.lab = 1.5,\n",
    "cex.axis = 1.5, cex.main = 2)\n",
    "dev.off()"
   ]
  },
  {
   "cell_type": "code",
   "execution_count": 12,
   "metadata": {},
   "outputs": [
    {
     "data": {
      "text/plain": [
       "clust\n",
       "    1 \n",
       "17382 "
      ]
     },
     "metadata": {},
     "output_type": "display_data"
    }
   ],
   "source": [
    "# Determine cluster under the line\n",
    "clust = cutreeStatic(sampleTree, cutHeight = 450, minSize = 10)\n",
    "table(clust)"
   ]
  },
  {
   "cell_type": "code",
   "execution_count": 13,
   "metadata": {},
   "outputs": [],
   "source": [
    "# clust 1 contains the samples we want to keep.\n",
    "keepSamples = (clust==1)\n",
    "datExpr = datExpr[keepSamples, ]\n",
    "nGenes = ncol(datExpr)\n",
    "nSamples = nrow(datExpr)\n",
    "\n",
    "genes <- dimnames(datExpr)[[2]]\n",
    "samples <- dimnames(datExpr)[[1]]\n",
    "datExpr <- as.data.frame(apply(datExpr,2, as.numeric)) #numeric\n",
    "dimnames(datExpr)[[1]] <- samples"
   ]
  },
  {
   "cell_type": "code",
   "execution_count": 14,
   "metadata": {},
   "outputs": [
    {
     "data": {
      "text/html": [
       "<table>\n",
       "<caption>A data.frame: 6 × 435</caption>\n",
       "<thead>\n",
       "\t<tr><th></th><th scope=col>ENSG00000268903</th><th scope=col>ENSG00000269981</th><th scope=col>ENSG00000225972</th><th scope=col>ENSG00000229344</th><th scope=col>ENSG00000178821</th><th scope=col>ENSG00000242349</th><th scope=col>ENSG00000175206</th><th scope=col>ENSG00000120937</th><th scope=col>ENSG00000162438</th><th scope=col>ENSG00000142615</th><th scope=col>⋯</th><th scope=col>ENSG00000160213</th><th scope=col>ENSG00000160255</th><th scope=col>ENSG00000160307</th><th scope=col>ENSG00000211675</th><th scope=col>ENSG00000211679</th><th scope=col>ENSG00000100285</th><th scope=col>ENSG00000185133</th><th scope=col>ENSG00000100365</th><th scope=col>ENSG00000100385</th><th scope=col>ENSG00000008735</th></tr>\n",
       "\t<tr><th></th><th scope=col>&lt;dbl&gt;</th><th scope=col>&lt;dbl&gt;</th><th scope=col>&lt;dbl&gt;</th><th scope=col>&lt;dbl&gt;</th><th scope=col>&lt;dbl&gt;</th><th scope=col>&lt;dbl&gt;</th><th scope=col>&lt;dbl&gt;</th><th scope=col>&lt;dbl&gt;</th><th scope=col>&lt;dbl&gt;</th><th scope=col>&lt;dbl&gt;</th><th scope=col>⋯</th><th scope=col>&lt;dbl&gt;</th><th scope=col>&lt;dbl&gt;</th><th scope=col>&lt;dbl&gt;</th><th scope=col>&lt;dbl&gt;</th><th scope=col>&lt;dbl&gt;</th><th scope=col>&lt;dbl&gt;</th><th scope=col>&lt;dbl&gt;</th><th scope=col>&lt;dbl&gt;</th><th scope=col>&lt;dbl&gt;</th><th scope=col>&lt;dbl&gt;</th></tr>\n",
       "</thead>\n",
       "<tbody>\n",
       "\t<tr><th scope=row>GTEX-1117F-0226-SM-5GZZ7</th><td>2</td><td>3</td><td>3</td><td>3</td><td>0</td><td>1</td><td> 3</td><td> 0</td><td>0</td><td>0</td><td>⋯</td><td>6</td><td>5</td><td>4</td><td> 5</td><td>3</td><td>0</td><td>1</td><td>5</td><td>1</td><td>2</td></tr>\n",
       "\t<tr><th scope=row>GTEX-1117F-0426-SM-5EGHI</th><td>0</td><td>0</td><td>5</td><td>4</td><td>5</td><td>0</td><td> 3</td><td> 0</td><td>0</td><td>2</td><td>⋯</td><td>5</td><td>1</td><td>0</td><td> 0</td><td>1</td><td>0</td><td>0</td><td>2</td><td>0</td><td>0</td></tr>\n",
       "\t<tr><th scope=row>GTEX-1117F-0526-SM-5EGHJ</th><td>1</td><td>0</td><td>3</td><td>3</td><td>0</td><td>1</td><td> 3</td><td> 0</td><td>2</td><td>3</td><td>⋯</td><td>6</td><td>4</td><td>0</td><td> 7</td><td>5</td><td>0</td><td>3</td><td>3</td><td>1</td><td>1</td></tr>\n",
       "\t<tr><th scope=row>GTEX-1117F-0626-SM-5N9CS</th><td>1</td><td>1</td><td>2</td><td>2</td><td>0</td><td>0</td><td> 2</td><td> 1</td><td>0</td><td>0</td><td>⋯</td><td>6</td><td>3</td><td>5</td><td> 5</td><td>4</td><td>0</td><td>1</td><td>4</td><td>0</td><td>1</td></tr>\n",
       "\t<tr><th scope=row>GTEX-1117F-0726-SM-5GIEN</th><td>0</td><td>1</td><td>3</td><td>4</td><td>0</td><td>5</td><td>15</td><td>13</td><td>0</td><td>0</td><td>⋯</td><td>5</td><td>3</td><td>2</td><td> 6</td><td>5</td><td>1</td><td>1</td><td>3</td><td>0</td><td>0</td></tr>\n",
       "\t<tr><th scope=row>GTEX-1117F-1326-SM-5EGHH</th><td>1</td><td>2</td><td>5</td><td>3</td><td>0</td><td>0</td><td> 3</td><td> 1</td><td>1</td><td>2</td><td>⋯</td><td>6</td><td>4</td><td>3</td><td>11</td><td>9</td><td>0</td><td>0</td><td>4</td><td>2</td><td>1</td></tr>\n",
       "</tbody>\n",
       "</table>\n"
      ],
      "text/latex": [
       "A data.frame: 6 × 435\n",
       "\\begin{tabular}{r|lllllllllllllllllllll}\n",
       "  & ENSG00000268903 & ENSG00000269981 & ENSG00000225972 & ENSG00000229344 & ENSG00000178821 & ENSG00000242349 & ENSG00000175206 & ENSG00000120937 & ENSG00000162438 & ENSG00000142615 & ⋯ & ENSG00000160213 & ENSG00000160255 & ENSG00000160307 & ENSG00000211675 & ENSG00000211679 & ENSG00000100285 & ENSG00000185133 & ENSG00000100365 & ENSG00000100385 & ENSG00000008735\\\\\n",
       "  & <dbl> & <dbl> & <dbl> & <dbl> & <dbl> & <dbl> & <dbl> & <dbl> & <dbl> & <dbl> & ⋯ & <dbl> & <dbl> & <dbl> & <dbl> & <dbl> & <dbl> & <dbl> & <dbl> & <dbl> & <dbl>\\\\\n",
       "\\hline\n",
       "\tGTEX-1117F-0226-SM-5GZZ7 & 2 & 3 & 3 & 3 & 0 & 1 &  3 &  0 & 0 & 0 & ⋯ & 6 & 5 & 4 &  5 & 3 & 0 & 1 & 5 & 1 & 2\\\\\n",
       "\tGTEX-1117F-0426-SM-5EGHI & 0 & 0 & 5 & 4 & 5 & 0 &  3 &  0 & 0 & 2 & ⋯ & 5 & 1 & 0 &  0 & 1 & 0 & 0 & 2 & 0 & 0\\\\\n",
       "\tGTEX-1117F-0526-SM-5EGHJ & 1 & 0 & 3 & 3 & 0 & 1 &  3 &  0 & 2 & 3 & ⋯ & 6 & 4 & 0 &  7 & 5 & 0 & 3 & 3 & 1 & 1\\\\\n",
       "\tGTEX-1117F-0626-SM-5N9CS & 1 & 1 & 2 & 2 & 0 & 0 &  2 &  1 & 0 & 0 & ⋯ & 6 & 3 & 5 &  5 & 4 & 0 & 1 & 4 & 0 & 1\\\\\n",
       "\tGTEX-1117F-0726-SM-5GIEN & 0 & 1 & 3 & 4 & 0 & 5 & 15 & 13 & 0 & 0 & ⋯ & 5 & 3 & 2 &  6 & 5 & 1 & 1 & 3 & 0 & 0\\\\\n",
       "\tGTEX-1117F-1326-SM-5EGHH & 1 & 2 & 5 & 3 & 0 & 0 &  3 &  1 & 1 & 2 & ⋯ & 6 & 4 & 3 & 11 & 9 & 0 & 0 & 4 & 2 & 1\\\\\n",
       "\\end{tabular}\n"
      ],
      "text/markdown": [
       "\n",
       "A data.frame: 6 × 435\n",
       "\n",
       "| <!--/--> | ENSG00000268903 &lt;dbl&gt; | ENSG00000269981 &lt;dbl&gt; | ENSG00000225972 &lt;dbl&gt; | ENSG00000229344 &lt;dbl&gt; | ENSG00000178821 &lt;dbl&gt; | ENSG00000242349 &lt;dbl&gt; | ENSG00000175206 &lt;dbl&gt; | ENSG00000120937 &lt;dbl&gt; | ENSG00000162438 &lt;dbl&gt; | ENSG00000142615 &lt;dbl&gt; | ⋯ ⋯ | ENSG00000160213 &lt;dbl&gt; | ENSG00000160255 &lt;dbl&gt; | ENSG00000160307 &lt;dbl&gt; | ENSG00000211675 &lt;dbl&gt; | ENSG00000211679 &lt;dbl&gt; | ENSG00000100285 &lt;dbl&gt; | ENSG00000185133 &lt;dbl&gt; | ENSG00000100365 &lt;dbl&gt; | ENSG00000100385 &lt;dbl&gt; | ENSG00000008735 &lt;dbl&gt; |\n",
       "|---|---|---|---|---|---|---|---|---|---|---|---|---|---|---|---|---|---|---|---|---|---|\n",
       "| GTEX-1117F-0226-SM-5GZZ7 | 2 | 3 | 3 | 3 | 0 | 1 |  3 |  0 | 0 | 0 | ⋯ | 6 | 5 | 4 |  5 | 3 | 0 | 1 | 5 | 1 | 2 |\n",
       "| GTEX-1117F-0426-SM-5EGHI | 0 | 0 | 5 | 4 | 5 | 0 |  3 |  0 | 0 | 2 | ⋯ | 5 | 1 | 0 |  0 | 1 | 0 | 0 | 2 | 0 | 0 |\n",
       "| GTEX-1117F-0526-SM-5EGHJ | 1 | 0 | 3 | 3 | 0 | 1 |  3 |  0 | 2 | 3 | ⋯ | 6 | 4 | 0 |  7 | 5 | 0 | 3 | 3 | 1 | 1 |\n",
       "| GTEX-1117F-0626-SM-5N9CS | 1 | 1 | 2 | 2 | 0 | 0 |  2 |  1 | 0 | 0 | ⋯ | 6 | 3 | 5 |  5 | 4 | 0 | 1 | 4 | 0 | 1 |\n",
       "| GTEX-1117F-0726-SM-5GIEN | 0 | 1 | 3 | 4 | 0 | 5 | 15 | 13 | 0 | 0 | ⋯ | 5 | 3 | 2 |  6 | 5 | 1 | 1 | 3 | 0 | 0 |\n",
       "| GTEX-1117F-1326-SM-5EGHH | 1 | 2 | 5 | 3 | 0 | 0 |  3 |  1 | 1 | 2 | ⋯ | 6 | 4 | 3 | 11 | 9 | 0 | 0 | 4 | 2 | 1 |\n",
       "\n"
      ],
      "text/plain": [
       "                         ENSG00000268903 ENSG00000269981 ENSG00000225972\n",
       "GTEX-1117F-0226-SM-5GZZ7 2               3               3              \n",
       "GTEX-1117F-0426-SM-5EGHI 0               0               5              \n",
       "GTEX-1117F-0526-SM-5EGHJ 1               0               3              \n",
       "GTEX-1117F-0626-SM-5N9CS 1               1               2              \n",
       "GTEX-1117F-0726-SM-5GIEN 0               1               3              \n",
       "GTEX-1117F-1326-SM-5EGHH 1               2               5              \n",
       "                         ENSG00000229344 ENSG00000178821 ENSG00000242349\n",
       "GTEX-1117F-0226-SM-5GZZ7 3               0               1              \n",
       "GTEX-1117F-0426-SM-5EGHI 4               5               0              \n",
       "GTEX-1117F-0526-SM-5EGHJ 3               0               1              \n",
       "GTEX-1117F-0626-SM-5N9CS 2               0               0              \n",
       "GTEX-1117F-0726-SM-5GIEN 4               0               5              \n",
       "GTEX-1117F-1326-SM-5EGHH 3               0               0              \n",
       "                         ENSG00000175206 ENSG00000120937 ENSG00000162438\n",
       "GTEX-1117F-0226-SM-5GZZ7  3               0              0              \n",
       "GTEX-1117F-0426-SM-5EGHI  3               0              0              \n",
       "GTEX-1117F-0526-SM-5EGHJ  3               0              2              \n",
       "GTEX-1117F-0626-SM-5N9CS  2               1              0              \n",
       "GTEX-1117F-0726-SM-5GIEN 15              13              0              \n",
       "GTEX-1117F-1326-SM-5EGHH  3               1              1              \n",
       "                         ENSG00000142615 ⋯ ENSG00000160213 ENSG00000160255\n",
       "GTEX-1117F-0226-SM-5GZZ7 0               ⋯ 6               5              \n",
       "GTEX-1117F-0426-SM-5EGHI 2               ⋯ 5               1              \n",
       "GTEX-1117F-0526-SM-5EGHJ 3               ⋯ 6               4              \n",
       "GTEX-1117F-0626-SM-5N9CS 0               ⋯ 6               3              \n",
       "GTEX-1117F-0726-SM-5GIEN 0               ⋯ 5               3              \n",
       "GTEX-1117F-1326-SM-5EGHH 2               ⋯ 6               4              \n",
       "                         ENSG00000160307 ENSG00000211675 ENSG00000211679\n",
       "GTEX-1117F-0226-SM-5GZZ7 4                5              3              \n",
       "GTEX-1117F-0426-SM-5EGHI 0                0              1              \n",
       "GTEX-1117F-0526-SM-5EGHJ 0                7              5              \n",
       "GTEX-1117F-0626-SM-5N9CS 5                5              4              \n",
       "GTEX-1117F-0726-SM-5GIEN 2                6              5              \n",
       "GTEX-1117F-1326-SM-5EGHH 3               11              9              \n",
       "                         ENSG00000100285 ENSG00000185133 ENSG00000100365\n",
       "GTEX-1117F-0226-SM-5GZZ7 0               1               5              \n",
       "GTEX-1117F-0426-SM-5EGHI 0               0               2              \n",
       "GTEX-1117F-0526-SM-5EGHJ 0               3               3              \n",
       "GTEX-1117F-0626-SM-5N9CS 0               1               4              \n",
       "GTEX-1117F-0726-SM-5GIEN 1               1               3              \n",
       "GTEX-1117F-1326-SM-5EGHH 0               0               4              \n",
       "                         ENSG00000100385 ENSG00000008735\n",
       "GTEX-1117F-0226-SM-5GZZ7 1               2              \n",
       "GTEX-1117F-0426-SM-5EGHI 0               0              \n",
       "GTEX-1117F-0526-SM-5EGHJ 1               1              \n",
       "GTEX-1117F-0626-SM-5N9CS 0               1              \n",
       "GTEX-1117F-0726-SM-5GIEN 0               0              \n",
       "GTEX-1117F-1326-SM-5EGHH 2               1              "
      ]
     },
     "metadata": {},
     "output_type": "display_data"
    }
   ],
   "source": [
    "head(datExpr)"
   ]
  },
  {
   "cell_type": "code",
   "execution_count": 15,
   "metadata": {},
   "outputs": [
    {
     "data": {
      "text/html": [
       "<table>\n",
       "<caption>A data.frame: 6 × 2</caption>\n",
       "<thead>\n",
       "\t<tr><th></th><th scope=col>SMTS</th><th scope=col>SMTSD</th></tr>\n",
       "\t<tr><th></th><th scope=col>&lt;chr&gt;</th><th scope=col>&lt;chr&gt;</th></tr>\n",
       "</thead>\n",
       "<tbody>\n",
       "\t<tr><th scope=row>GTEX-1117F-0226-SM-5GZZ7</th><td>Adipose Tissue</td><td>Adipose - Subcutaneous      </td></tr>\n",
       "\t<tr><th scope=row>GTEX-1117F-0426-SM-5EGHI</th><td>Muscle        </td><td>Muscle - Skeletal           </td></tr>\n",
       "\t<tr><th scope=row>GTEX-1117F-0526-SM-5EGHJ</th><td>Blood Vessel  </td><td>Artery - Tibial             </td></tr>\n",
       "\t<tr><th scope=row>GTEX-1117F-0626-SM-5N9CS</th><td>Blood Vessel  </td><td>Artery - Coronary           </td></tr>\n",
       "\t<tr><th scope=row>GTEX-1117F-0726-SM-5GIEN</th><td>Heart         </td><td>Heart - Atrial Appendage    </td></tr>\n",
       "\t<tr><th scope=row>GTEX-1117F-1326-SM-5EGHH</th><td>Adipose Tissue</td><td>Adipose - Visceral (Omentum)</td></tr>\n",
       "</tbody>\n",
       "</table>\n"
      ],
      "text/latex": [
       "A data.frame: 6 × 2\n",
       "\\begin{tabular}{r|ll}\n",
       "  & SMTS & SMTSD\\\\\n",
       "  & <chr> & <chr>\\\\\n",
       "\\hline\n",
       "\tGTEX-1117F-0226-SM-5GZZ7 & Adipose Tissue & Adipose - Subcutaneous      \\\\\n",
       "\tGTEX-1117F-0426-SM-5EGHI & Muscle         & Muscle - Skeletal           \\\\\n",
       "\tGTEX-1117F-0526-SM-5EGHJ & Blood Vessel   & Artery - Tibial             \\\\\n",
       "\tGTEX-1117F-0626-SM-5N9CS & Blood Vessel   & Artery - Coronary           \\\\\n",
       "\tGTEX-1117F-0726-SM-5GIEN & Heart          & Heart - Atrial Appendage    \\\\\n",
       "\tGTEX-1117F-1326-SM-5EGHH & Adipose Tissue & Adipose - Visceral (Omentum)\\\\\n",
       "\\end{tabular}\n"
      ],
      "text/markdown": [
       "\n",
       "A data.frame: 6 × 2\n",
       "\n",
       "| <!--/--> | SMTS &lt;chr&gt; | SMTSD &lt;chr&gt; |\n",
       "|---|---|---|\n",
       "| GTEX-1117F-0226-SM-5GZZ7 | Adipose Tissue | Adipose - Subcutaneous       |\n",
       "| GTEX-1117F-0426-SM-5EGHI | Muscle         | Muscle - Skeletal            |\n",
       "| GTEX-1117F-0526-SM-5EGHJ | Blood Vessel   | Artery - Tibial              |\n",
       "| GTEX-1117F-0626-SM-5N9CS | Blood Vessel   | Artery - Coronary            |\n",
       "| GTEX-1117F-0726-SM-5GIEN | Heart          | Heart - Atrial Appendage     |\n",
       "| GTEX-1117F-1326-SM-5EGHH | Adipose Tissue | Adipose - Visceral (Omentum) |\n",
       "\n"
      ],
      "text/plain": [
       "                         SMTS           SMTSD                       \n",
       "GTEX-1117F-0226-SM-5GZZ7 Adipose Tissue Adipose - Subcutaneous      \n",
       "GTEX-1117F-0426-SM-5EGHI Muscle         Muscle - Skeletal           \n",
       "GTEX-1117F-0526-SM-5EGHJ Blood Vessel   Artery - Tibial             \n",
       "GTEX-1117F-0626-SM-5N9CS Blood Vessel   Artery - Coronary           \n",
       "GTEX-1117F-0726-SM-5GIEN Heart          Heart - Atrial Appendage    \n",
       "GTEX-1117F-1326-SM-5EGHH Adipose Tissue Adipose - Visceral (Omentum)"
      ]
     },
     "metadata": {},
     "output_type": "display_data"
    }
   ],
   "source": [
    "rownames(allTraits) <- allTraits$SAMPID#<--check\n",
    "datTraits <- allTraits[keepSamples,labels]\n",
    "rownames(datTraits) <- rownames(allTraits[keepSamples,labels])\n",
    "datTraits <- datTraits[rownames(datExpr),]\n",
    "head(datTraits)"
   ]
  },
  {
   "cell_type": "code",
   "execution_count": 16,
   "metadata": {},
   "outputs": [],
   "source": [
    "collectGarbage();"
   ]
  },
  {
   "cell_type": "code",
   "execution_count": 17,
   "metadata": {},
   "outputs": [
    {
     "data": {
      "text/html": [
       "<strong>png:</strong> 2"
      ],
      "text/latex": [
       "\\textbf{png:} 2"
      ],
      "text/markdown": [
       "**png:** 2"
      ],
      "text/plain": [
       "png \n",
       "  2 "
      ]
     },
     "metadata": {},
     "output_type": "display_data"
    }
   ],
   "source": [
    "# Re-cluster samples\n",
    "sampleTree2 = hclust(dist(datExpr), method = \"average\")\n",
    "fontsize=.5\n",
    "# Convert traits to a color representation: white means low, red means high, grey means missing entry\n",
    "traitColors = labels2colors(datTraits);\n",
    "# Plot the sample dendrogram and the colors underneath.\n",
    "pdf(\"wgcna_samplehiercut.pdf\")\n",
    "plotDendroAndColors(sampleTree2, traitColors,\n",
    "    groupLabels = labels,\n",
    "    main = \"Sample dendrogram and trait heatmap\",\n",
    "    dendroLabels=FALSE,\n",
    "    rowText=datTraits,\n",
    "    rowTextIgnore=labels[[2]]\n",
    "    )\n",
    "dev.off()"
   ]
  },
  {
   "cell_type": "markdown",
   "metadata": {},
   "source": [
    "## 2"
   ]
  },
  {
   "cell_type": "code",
   "execution_count": 18,
   "metadata": {},
   "outputs": [
    {
     "name": "stdout",
     "output_type": "stream",
     "text": [
      "pickSoftThreshold: will use block size 435.\n",
      " pickSoftThreshold: calculating connectivity for given powers...\n",
      "   ..working on genes 1 through 435 of 435\n",
      "   Power SFT.R.sq  slope truncated.R.sq mean.k. median.k. max.k.\n",
      "1      1   0.7180  0.652         0.6650 81.5000  8.56e+01 131.00\n",
      "2      2   0.0711 -0.137         0.6450 32.0000  2.92e+01  73.40\n",
      "3      3   0.6890 -0.683         0.7850 18.0000  1.51e+01  51.90\n",
      "4      4   0.7420 -0.828         0.8300 11.9000  9.81e+00  40.20\n",
      "5      5   0.7880 -0.870         0.8710  8.6000  6.60e+00  32.40\n",
      "6      6   0.7690 -0.949         0.8380  6.5100  4.67e+00  26.70\n",
      "7      7   0.7440 -0.971         0.8240  5.0800  3.22e+00  22.30\n",
      "8      8   0.7640 -0.990         0.8710  4.0600  2.27e+00  18.70\n",
      "9      9   0.7370 -1.040         0.8230  3.3000  1.70e+00  15.90\n",
      "10    10   0.7840 -0.999         0.8540  2.7200  1.30e+00  13.60\n",
      "11    12   0.8380 -0.950         0.8950  1.9100  7.42e-01  10.00\n",
      "12    14   0.9410 -0.887         0.9620  1.3900  4.63e-01   7.50\n",
      "13    16   0.9290 -0.912         0.9230  1.0400  2.94e-01   6.06\n",
      "14    18   0.9410 -0.965         0.9520  0.7970  1.81e-01   5.25\n",
      "15    20   0.9420 -1.050         0.9560  0.6230  1.21e-01   4.67\n",
      "16    22   0.8640 -1.170         0.9050  0.4950  7.66e-02   4.16\n",
      "17    24   0.8580 -1.180         0.8760  0.3990  5.23e-02   3.72\n",
      "18    26   0.8640 -1.210         0.8760  0.3270  3.57e-02   3.34\n",
      "19    28   0.8240 -1.230         0.8080  0.2700  2.45e-02   3.00\n",
      "20    30   0.8280 -1.240         0.7990  0.2260  1.58e-02   2.71\n",
      "21    32   0.1930 -1.910        -0.0351  0.1900  1.10e-02   2.45\n",
      "22    34   0.8630 -1.260         0.8350  0.1620  7.86e-03   2.22\n",
      "23    36   0.9160 -1.240         0.8960  0.1390  5.17e-03   2.01\n",
      "24    38   0.9380 -1.200         0.9210  0.1200  3.30e-03   1.83\n",
      "25    40   0.8900 -1.180         0.8620  0.1040  2.29e-03   1.67\n",
      "26    42   0.8700 -1.180         0.8390  0.0911  1.69e-03   1.52\n",
      "27    44   0.9500 -1.150         0.9380  0.0800  1.25e-03   1.39\n",
      "28    46   0.9500 -1.130         0.9400  0.0705  8.82e-04   1.27\n",
      "29    48   0.9400 -1.130         0.9310  0.0625  6.48e-04   1.17\n",
      "30    50   0.9010 -1.140         0.8870  0.0556  4.76e-04   1.07\n"
     ]
    },
    {
     "data": {
      "text/html": [
       "<strong>png:</strong> 2"
      ],
      "text/latex": [
       "\\textbf{png:} 2"
      ],
      "text/markdown": [
       "**png:** 2"
      ],
      "text/plain": [
       "png \n",
       "  2 "
      ]
     },
     "metadata": {},
     "output_type": "display_data"
    }
   ],
   "source": [
    "# Choose a set of soft-thresholding powers\n",
    "powers = c(c(1:10), seq(from = 12, to=50, by=2))\n",
    "# Call the network topology analysis function\n",
    "sft = pickSoftThreshold(datExpr, powerVector = powers, verbose = 5)\n",
    "# Plot the results:\n",
    "sizeGrWindow(9, 5)\n",
    "pdf(\"wgcna_scaletopology.pdf\")\n",
    "par(mfrow = c(1,2));\n",
    "cex1 = 0.9;\n",
    "# Scale-free topology fit index as a function of the soft-thresholding power\n",
    "plot(sft$fitIndices[,1], -sign(sft$fitIndices[,3])*sft$fitIndices[,2],\n",
    "xlab=\"Soft Threshold (power)\",ylab=\"Scale Free Topology Model Fit,signed R^2\",type=\"n\",\n",
    "main = paste(\"Scale independence\"));\n",
    "text(sft$fitIndices[,1], -sign(sft$fitIndices[,3])*sft$fitIndices[,2],\n",
    "labels=powers,cex=cex1,col=\"red\");\n",
    "# this line corresponds to using an R^2 cut-off of h\n",
    "abline(h=0.90,col=\"red\")\n",
    "# Mean connectivity as a function of the soft-thresholding power\n",
    "plot(sft$fitIndices[,1], sft$fitIndices[,5],\n",
    "xlab=\"Soft Threshold (power)\",ylab=\"Mean Connectivity\", type=\"n\",\n",
    "main = paste(\"Mean connectivity\"))\n",
    "text(sft$fitIndices[,1], sft$fitIndices[,5], labels=powers, cex=cex1,col=\"red\")\n",
    "dev.off()"
   ]
  },
  {
   "cell_type": "code",
   "execution_count": 19,
   "metadata": {},
   "outputs": [
    {
     "name": "stdout",
     "output_type": "stream",
     "text": [
      " Calculating module eigengenes block-wise from all genes\n",
      "   Flagging genes and samples with too many missing values...\n",
      "    ..step 1\n",
      " ..Working on block 1 .\n",
      "    TOM calculation: adjacency..\n",
      "    ..will use 2 parallel threads.\n",
      "     Fraction of slow calculations: 0.000000\n",
      "    ..connectivity..\n",
      "    ..matrix multiplication (system BLAS)..\n",
      "    ..normalization..\n",
      "    ..done.\n",
      "   ..saving TOM for block 1 into file wgcna-block.1.RData\n",
      " ....clustering..\n",
      " ....detecting modules..\n",
      " ....calculating module eigengenes..\n",
      " ....checking kME in modules..\n",
      " ..merging modules that are too close..\n",
      "     mergeCloseModules: Merging modules whose distance is less than 0.4\n",
      "       Calculating new MEs...\n"
     ]
    }
   ],
   "source": [
    "net = blockwiseModules(datExpr, power = 10,\n",
    "TOMType = \"unsigned\", minModuleSize = 5,\n",
    "reassignThreshold = 0, mergeCutHeight = 0.4,\n",
    "numericLabels = TRUE, pamRespectsDendro = FALSE,\n",
    "saveTOMs = TRUE,\n",
    "saveTOMFileBase = \"wgcna\",\n",
    "verbose = 3)"
   ]
  },
  {
   "cell_type": "code",
   "execution_count": 20,
   "metadata": {},
   "outputs": [
    {
     "data": {
      "text/html": [
       "<strong>png:</strong> 2"
      ],
      "text/latex": [
       "\\textbf{png:} 2"
      ],
      "text/markdown": [
       "**png:** 2"
      ],
      "text/plain": [
       "png \n",
       "  2 "
      ]
     },
     "metadata": {},
     "output_type": "display_data"
    }
   ],
   "source": [
    "# open a graphics window\n",
    "sizeGrWindow(12, 9)\n",
    "pdf(\"wgcna_netdendograms.pdf\")\n",
    "# Convert labels to colors for plotting\n",
    "mergedColors = labels2colors(net$colors)\n",
    "# Plot the dendrogram and the module colors underneath\n",
    "plotDendroAndColors(net$dendrograms[[1]], mergedColors[net$blockGenes[[1]]],\n",
    "\"Module colors\",\n",
    "dendroLabels = FALSE, hang = 0.03,\n",
    "addGuide = TRUE, guideHang = 0.05)\n",
    "dev.off()"
   ]
  },
  {
   "cell_type": "code",
   "execution_count": 21,
   "metadata": {},
   "outputs": [],
   "source": [
    "moduleLabels = net$colors\n",
    "moduleColors = labels2colors(net$colors)\n",
    "MEs = net$MEs;\n",
    "geneTree = net$dendrograms[[1]];"
   ]
  },
  {
   "cell_type": "markdown",
   "metadata": {},
   "source": [
    "## 3"
   ]
  },
  {
   "cell_type": "code",
   "execution_count": null,
   "metadata": {},
   "outputs": [],
   "source": [
    "#datTraits$cases.0.project.primary_site <- match(datTraits$cases.0.project.primary_site, unique(datTraits$cases.0.project.primary_site))\n",
    "#datTraits$cases.0.project.disease_type <- match(datTraits$cases.0.project.disease_type, unique(datTraits$cases.0.project.disease_type))"
   ]
  },
  {
   "cell_type": "code",
   "execution_count": 22,
   "metadata": {},
   "outputs": [],
   "source": [
    "datTraits$SMTS <- match(datTraits$SMTS, unique(datTraits$SMTS))\n",
    "datTraits$SMTSD <- match(datTraits$SMTSD, unique(datTraits$SMTSD))"
   ]
  },
  {
   "cell_type": "code",
   "execution_count": null,
   "metadata": {},
   "outputs": [],
   "source": [
    "#datTraits$cancer.type <- match(datTraits$cancer.type, unique(datTraits$cancer.type))\n",
    "datTraits$Subtype_Selected <- match(datTraits$Subtype_Selected, unique(datTraits$Subtype_Selected))\n",
    "datTraits$Subtype_Selected_Lum <- match(datTraits$Subtype_Selected_Lum, unique(datTraits$Subtype_Selected_Lum))"
   ]
  },
  {
   "cell_type": "code",
   "execution_count": null,
   "metadata": {},
   "outputs": [],
   "source": [
    "#datTraits$cancer.type <- match(datTraits$cancer.type, unique(datTraits$cancer.type))\n",
    "datTraits$Type <- match(datTraits$Type, unique(datTraits$Type))\n",
    "datTraits$Subtype <- match(datTraits$Subtype, unique(datTraits$Subtype))"
   ]
  },
  {
   "cell_type": "code",
   "execution_count": 23,
   "metadata": {},
   "outputs": [],
   "source": [
    "# Define numbers of genes and samples\n",
    "nGenes = ncol(datExpr);\n",
    "nSamples = nrow(datExpr);\n",
    "# Recalculate MEs with color labels\n",
    "MEs0 = moduleEigengenes(datExpr, moduleColors)$eigengenes\n",
    "MEs = orderMEs(MEs0)\n",
    "moduleTraitCor = cor(MEs, datTraits, use = \"p\");\n",
    "moduleTraitPvalue = corPvalueStudent(moduleTraitCor, nSamples);"
   ]
  },
  {
   "cell_type": "code",
   "execution_count": 24,
   "metadata": {},
   "outputs": [
    {
     "data": {
      "text/html": [
       "<strong>png:</strong> 2"
      ],
      "text/latex": [
       "\\textbf{png:} 2"
      ],
      "text/markdown": [
       "**png:** 2"
      ],
      "text/plain": [
       "png \n",
       "  2 "
      ]
     },
     "metadata": {},
     "output_type": "display_data"
    }
   ],
   "source": [
    "pdf(\"wgcna_moduleTrait.pdf\", width=9, height=18)\n",
    "# Will display correlations and their p-values\n",
    "textMatrix = paste(signif(moduleTraitCor, 2), \"\\n(\",\n",
    "signif(moduleTraitPvalue, 1), \")\", sep = \"\");\n",
    "dim(textMatrix) = dim(moduleTraitCor)\n",
    "par(mar = c(6, 8.5, 3, 3));\n",
    "# Display the correlation values within a heatmap plot\n",
    "labeledHeatmap(Matrix = moduleTraitCor,\n",
    "xLabels = labels,\n",
    "yLabels = names(MEs),\n",
    "ySymbols = names(MEs),\n",
    "colorLabels = FALSE,\n",
    "colors = blueWhiteRed(50),\n",
    "textMatrix = textMatrix,\n",
    "setStdMargins = FALSE,\n",
    "cex.text = 0.5,\n",
    "zlim = c(-1,1),\n",
    "main = paste(\"Module-trait relationships\"))\n",
    "dev.off()"
   ]
  },
  {
   "cell_type": "code",
   "execution_count": 25,
   "metadata": {},
   "outputs": [
    {
     "name": "stderr",
     "output_type": "stream",
     "text": [
      "Warning message in storage.mode(y) <- \"double\":\n",
      "“NAs introduced by coercion”\n"
     ]
    }
   ],
   "source": [
    "# Define variable weight containing the weight column of datTrait\n",
    "weight = as.data.frame(rownames(datTraits));\n",
    "names(weight) = \"weight\"\n",
    "# names (colors) of the modules\n",
    "modNames = substring(names(MEs), 3)\n",
    "geneModuleMembership = as.data.frame(cor(datExpr, MEs, use = \"p\"));\n",
    "MMPvalue = as.data.frame(corPvalueStudent(as.matrix(geneModuleMembership), nSamples));\n",
    "names(geneModuleMembership) = paste(\"MM\", modNames, sep=\"\");\n",
    "names(MMPvalue) = paste(\"p.MM\", modNames, sep=\"\");\n",
    "geneTraitSignificance = as.data.frame(cor(datExpr, weight, use = \"p\"));\n",
    "GSPvalue = as.data.frame(corPvalueStudent(as.matrix(geneTraitSignificance), nSamples));\n",
    "names(geneTraitSignificance) = paste(\"GS.\", names(weight), sep=\"\");\n",
    "names(GSPvalue) = paste(\"p.GS.\", names(weight), sep=\"\");"
   ]
  },
  {
   "cell_type": "code",
   "execution_count": 26,
   "metadata": {},
   "outputs": [
    {
     "ename": "ERROR",
     "evalue": "Error in abs(geneModuleMembership[moduleGenes, column]): non-numeric argument to mathematical function\n",
     "output_type": "error",
     "traceback": [
      "Error in abs(geneModuleMembership[moduleGenes, column]): non-numeric argument to mathematical function\nTraceback:\n",
      "1. verboseScatterplot(abs(geneModuleMembership[moduleGenes, column]), \n .     abs(geneTraitSignificance[moduleGenes, 1]), xlab = paste(\"Module Membership in\", \n .         module, \"module\"), ylab = \"Gene significance\", main = paste(\"Module membership vs. gene significance\\n\"), \n .     cex.main = 1.2, cex.lab = 1.2, cex.axis = 1.2, col = module)"
     ]
    }
   ],
   "source": [
    "module = \"gray\"\n",
    "column = match(module, modNames);\n",
    "moduleGenes = moduleColors==module;\n",
    "sizeGrWindow(7, 7);\n",
    "pdf(\"wgcna_modulemembership.pdf\")\n",
    "par(mfrow = c(1,1));\n",
    "verboseScatterplot(abs(geneModuleMembership[moduleGenes, column]),\n",
    "    abs(geneTraitSignificance[moduleGenes, 1]),\n",
    "    xlab = paste(\"Module Membership in\", module, \"module\"),\n",
    "    ylab = \"Gene significance\",\n",
    "    main = paste(\"Module membership vs. gene significance\\n\"),\n",
    "    cex.main = 1.2, cex.lab = 1.2, cex.axis = 1.2, col = module)\n",
    "dev.off()"
   ]
  },
  {
   "cell_type": "code",
   "execution_count": null,
   "metadata": {},
   "outputs": [],
   "source": [
    "# Create the starting data frame\n",
    "geneInfo0 = data.frame(\n",
    "moduleColor = moduleColors,\n",
    "geneTraitSignificance,\n",
    "GSPvalue)\n",
    "# Order modules by their significance for weight\n",
    "modOrder = order(-abs(cor(MEs, weight, use = \"p\")));\n",
    "# Add module membership information in the chosen order\n",
    "for (mod in 1:ncol(geneModuleMembership))\n",
    "{\n",
    "oldNames = names(geneInfo0)\n",
    "geneInfo0 = data.frame(geneInfo0, geneModuleMembership[, modOrder[mod]],\n",
    "MMPvalue[, modOrder[mod]]);\n",
    "names(geneInfo0) = c(oldNames, paste(\"MM.\", modNames[modOrder[mod]], sep=\"\"),\n",
    "paste(\"p.MM.\", modNames[modOrder[mod]], sep=\"\"))\n",
    "}\n",
    "# Order the genes in the geneInfo variable first by module color, then by geneTraitSignificance\n",
    "geneOrder = order(geneInfo0$moduleColor, -abs(geneInfo0$GS.weight));\n",
    "geneInfo = geneInfo0[geneOrder, ]\n",
    "write.csv(geneInfo, file = \"geneInfo.csv\")"
   ]
  },
  {
   "cell_type": "code",
   "execution_count": null,
   "metadata": {},
   "outputs": [],
   "source": [
    "# Read in the probe annotation\n",
    "annot = read.csv(file = \"geneInfo.csv\");\n",
    "# Match probes in the data set to the probe IDs in the annotation file\n",
    "probes = names(datExpr)\n",
    "allLLIDs = probes\n",
    "# $ Choose interesting modules\n",
    "intModules = c(\"greenyellow\", \"darkorange\", \"darkgreen\")\n",
    "for (module in intModules)\n",
    "{\n",
    "# Select module probes\n",
    "modGenes = (moduleColors==module)\n",
    "# Get their entrez ID codes\n",
    "modLLIDs = probes[modGenes];\n",
    "# Write them into a file\n",
    "fileName = paste(\"LocusLinkIDs-\", module, \".txt\", sep=\"\");\n",
    "write.table(as.data.frame(modLLIDs), file = fileName,\n",
    "row.names = FALSE, col.names = FALSE, quote=FALSE)\n",
    "}\n",
    "# As background in the enrichment analysis, we will use all probes in the analysis.\n",
    "fileName = paste(\"LocusLinkIDs-all.txt\", sep=\"\");\n",
    "write.table(as.data.frame(allLLIDs), file = fileName,\n",
    "row.names = FALSE, col.names = FALSE, quote=FALSE)"
   ]
  },
  {
   "cell_type": "code",
   "execution_count": null,
   "metadata": {},
   "outputs": [],
   "source": [
    "require(\"biomaRt\")\n",
    "mart <- useMart(\"ENSEMBL_MART_ENSEMBL\")\n",
    "mart <- useDataset(\"hsapiens_gene_ensembl\", mart)\n",
    "\n",
    "ens <- allLLIDs\n",
    "ensLookup <- gsub(\"\\\\.[0-9]*$\", \"\", ens)\n",
    "\n",
    "annotLookup <- getBM(\n",
    "  mart=mart,\n",
    "  attributes=c(\"ensembl_transcript_id\", \"ensembl_gene_id\", \"gene_biotype\", \"external_gene_name\"),\n",
    "  filter=\"ensembl_gene_id\",\n",
    "  values=ensLookup,\n",
    "  uniqueRows=TRUE)\n",
    "\n",
    "annotLookup <- data.frame(\n",
    "  ens[match(annotLookup$ensembl_gene_id, ensLookup)],\n",
    "  annotLookup)\n",
    "\n",
    "colnames(annotLookup) <- c(\n",
    "  \"original_id\",\n",
    "  c(\"ensembl_transcript_id\", \"ensembl_gene_id\", \"gene_biotype\", \"external_gene_name\"))\n",
    "\n",
    "annotLookup"
   ]
  },
  {
   "cell_type": "markdown",
   "metadata": {},
   "source": [
    "## 5 "
   ]
  },
  {
   "cell_type": "code",
   "execution_count": 27,
   "metadata": {},
   "outputs": [
    {
     "data": {
      "text/html": [
       "<strong>png:</strong> 2"
      ],
      "text/latex": [
       "\\textbf{png:} 2"
      ],
      "text/markdown": [
       "**png:** 2"
      ],
      "text/plain": [
       "png \n",
       "  2 "
      ]
     },
     "metadata": {},
     "output_type": "display_data"
    }
   ],
   "source": [
    "# Re-cluster samples\n",
    "sampleTree3 = hclust(dist(MEs0), method = \"average\")\n",
    "# Convert traits to a color representation: white means low, red means high, grey means missing entry\n",
    "traitColors = labels2colors(datTraits);\n",
    "# Plot the sample dendrogram and the colors underneath.\n",
    "pdf(\"wgcna_nethier.pdf\", width=10)\n",
    "# Set the plot margin: bottom, left, top & right\n",
    "par(mar = c(5, 4, 1.4, 0.2) + 0.1,\n",
    "    xpd = NA) # allow content to go into outer margin \n",
    "plotDendroAndColors(sampleTree3, traitColors,\n",
    "groupLabels = labels,\n",
    "main = \"Network dendrogram and trait heatmap\",\n",
    "dendroLabels=FALSE,\n",
    "#rowText=allTraits[keepSamples,labels],\n",
    "#rowTextIgnore=labels[[2]],\n",
    "addGuide=TRUE)\n",
    "dev.off()"
   ]
  },
  {
   "cell_type": "code",
   "execution_count": null,
   "metadata": {},
   "outputs": [],
   "source": [
    "rownames(allTraits)=allTraits$file_name\n",
    "unique(allTraits[rownames(datTraits),'Subtype_Selected'])"
   ]
  },
  {
   "cell_type": "code",
   "execution_count": null,
   "metadata": {},
   "outputs": [],
   "source": [
    "pdf(\"wgcna_nethier_legend.pdf\", width=10)\n",
    "add_legend(\"topleft\", legend = unique(allTraits[rownames(datTraits),'Subtype_Selected']), pch = 1, pt.cex = 1, cex = 1.5, bty = 'n', ncol=2,\n",
    "       inset = c(0.1, 0.), # place outside\n",
    "       title = \"SMTS\", \n",
    "       col = traitColors)\n",
    "dev.off()"
   ]
  },
  {
   "cell_type": "code",
   "execution_count": null,
   "metadata": {},
   "outputs": [],
   "source": [
    "collectGarbage()"
   ]
  },
  {
   "cell_type": "code",
   "execution_count": null,
   "metadata": {},
   "outputs": [],
   "source": [
    "clust = cutreeStatic(sampleTree3, cutHeight = 0.4, minSize = 10)\n",
    "table(clust)"
   ]
  },
  {
   "cell_type": "code",
   "execution_count": null,
   "metadata": {},
   "outputs": [],
   "source": [
    "# Re-cluster samples after cut\n",
    "sampleTree4 = hclust(dist(MEs0[(clust==1),]), method = \"average\")\n",
    "# Convert traits to a color representation: white means low, red means high, grey means missing entry\n",
    "traitColors = labels2colors(datTraits[(clust==1),]);\n",
    "# Plot the sample dendrogram and the colors underneath.\n",
    "svg(\"nethiercut.svg\")\n",
    "plotDendroAndColors(sampleTree4, traitColors,\n",
    "groupLabels = labels,\n",
    "main = \"Network dendrogram and trait heatmap\",\n",
    "dendroLabels=FALSE)\n",
    "dev.off()"
   ]
  },
  {
   "cell_type": "code",
   "execution_count": null,
   "metadata": {},
   "outputs": [],
   "source": [
    "# Calculate topological overlap anew: this could be done more efficiently by saving the TOM\n",
    "# calculated during module detection, but let us do it again here.\n",
    "dissTOM = 1-TOMsimilarityFromExpr(datExpr, power = 6);\n",
    "# Transform dissTOM with a power to make moderately strong connections more visible in the heatmap\n",
    "plotTOM = dissTOM^7;\n",
    "# Set diagonal to NA for a nicer plot\n",
    "diag(plotTOM) = NA;\n",
    "# Call the plot function\n",
    "sizeGrWindow(9,9)\n",
    "svg(\"networkmap.svg\")\n",
    "TOMplot(plotTOM, geneTree, moduleColors, main = \"Network heatmap plot, all genes\")\n",
    "dev.off()"
   ]
  },
  {
   "cell_type": "code",
   "execution_count": null,
   "metadata": {},
   "outputs": [],
   "source": [
    "#selct genes to be faster\n",
    "nSelect = nGenes*0.7\n",
    "# For reproducibility, we set the random seed\n",
    "set.seed(10);\n",
    "select = sample(nGenes, size = nSelect);\n",
    "selectTOM = dissTOM[select, select];\n",
    "# There’s no simple way of restricting a clustering tree to a subset of genes, so we must re-cluster.\n",
    "selectTree = hclust(as.dist(selectTOM), method = \"average\")\n",
    "selectColors = moduleColors[select];\n",
    "# Open a graphical window\n",
    "sizeGrWindow(9,9)\n",
    "svg(\"networkmap.svg\")\n",
    "# Taking the dissimilarity to a power, say 10, makes the plot more informative by effectively changing\n",
    "# the color palette; setting the diagonal to NA also improves the clarity of the plot\n",
    "plotDiss = selectTOM^7;\n",
    "diag(plotDiss) = NA;\n",
    "TOMplot(plotDiss, selectTree, selectColors, main = \"Network heatmap plot, selected genes\")\n",
    "dev.off()"
   ]
  },
  {
   "cell_type": "code",
   "execution_count": null,
   "metadata": {},
   "outputs": [],
   "source": [
    "# Recalculate module eigengenes\n",
    "MEs = moduleEigengenes(datExpr, moduleColors)$eigengenes\n",
    "# Isolate weight from the clinical traits\n",
    "weight = as.data.frame(datTraits$SMTS);\n",
    "names(weight) = \"SMTS\"\n",
    "# Add the weight to existing module eigengenes\n",
    "MET = orderMEs(cbind(MEs, weight))\n",
    "# Plot the relationships among the eigengenes and the trait\n",
    "sizeGrWindow(5,7.5);\n",
    "svg(\"eigenHeat.svg\")\n",
    "par(cex = 0.9)\n",
    "plotEigengeneNetworks(MET, \"\", marDendro = c(0,4,1,2), marHeatmap = c(3,4,1,2), cex.lab = 0.8, xLabelsAngle = 90)\n",
    "dev.off()"
   ]
  },
  {
   "cell_type": "code",
   "execution_count": null,
   "metadata": {},
   "outputs": [],
   "source": [
    "# Plot the dendrogram\n",
    "sizeGrWindow(6,6);\n",
    "svg(\"eigendendogram.svg\")\n",
    "par(cex = 1.0)\n",
    "plotEigengeneNetworks(MET, \"Eigengene dendrogram\", marDendro = c(0,4,2,0),\n",
    "plotHeatmaps = FALSE)\n",
    "# Plot the heatmap matrix (note: this plot will overwrite the dendrogram plot)\n",
    "par(cex = 1.0)\n",
    "plotEigengeneNetworks(MET, \"Eigengene adjacency heatmap\", marHeatmap = c(3,4,2,2),\n",
    "plotDendrograms = FALSE, xLabelsAngle = 90)\n",
    "dev.off()"
   ]
  },
  {
   "cell_type": "code",
   "execution_count": 28,
   "metadata": {},
   "outputs": [],
   "source": [
    "write.csv(cutree(sampleTree3, k=11), \"wgcna/wgcna_level_2_labels.csv\")\n",
    "write.csv(cutree(sampleTree3, k=78), \"wgcna/wgcna_level_1_labels.csv\")\n",
    "write.csv(cutree(sampleTree3, k=436), \"wgcna/wgcna_level_0_labels.csv\")"
   ]
  },
  {
   "cell_type": "code",
   "execution_count": 29,
   "metadata": {},
   "outputs": [],
   "source": [
    "write.csv(geneModuleMembership, \"wgcna/wgcna_level_0_word-dist.csv\")"
   ]
  },
  {
   "cell_type": "code",
   "execution_count": 30,
   "metadata": {},
   "outputs": [],
   "source": [
    "write.csv(MEs, \"wgcna/wgcna_level_0_topic-dist.csv\")"
   ]
  },
  {
   "cell_type": "code",
   "execution_count": null,
   "metadata": {},
   "outputs": [],
   "source": []
  }
 ],
 "metadata": {
  "kernelspec": {
   "display_name": "R",
   "language": "R",
   "name": "ir"
  },
  "language_info": {
   "codemirror_mode": "r",
   "file_extension": ".r",
   "mimetype": "text/x-r-source",
   "name": "R",
   "pygments_lexer": "r",
   "version": "3.6.3"
  }
 },
 "nbformat": 4,
 "nbformat_minor": 4
}

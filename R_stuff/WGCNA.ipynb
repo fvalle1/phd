{
 "cells": [
  {
   "cell_type": "code",
   "execution_count": 2,
   "metadata": {},
   "outputs": [
    {
     "data": {
      "text/html": [
       "'/home/jovyan/work/datasets/gtex/10'"
      ],
      "text/latex": [
       "'/home/jovyan/work/datasets/gtex/10'"
      ],
      "text/markdown": [
       "'/home/jovyan/work/datasets/gtex/10'"
      ],
      "text/plain": [
       "[1] \"/home/jovyan/work/datasets/gtex/10\""
      ]
     },
     "metadata": {},
     "output_type": "display_data"
    }
   ],
   "source": [
    "# Display the current working directory\n",
    "getwd();\n",
    "# If necessary, change the path below to the directory where the data files are stored.\n",
    "# \".\" means current directory. On Windows use a forward slash / instead of the usual \\.\n",
    "workingDir = \"/home/jovyan/work/datasets/cancers/breast/\";\n",
    "setwd(workingDir);\n",
    "# Load WGCNA package\n",
    "library(WGCNA)\n",
    "# The following setting is important, do not omit.\n",
    "options(stringsAsFactors = FALSE);"
   ]
  },
  {
   "cell_type": "code",
   "execution_count": 3,
   "metadata": {},
   "outputs": [],
   "source": [
    "add_legend <- function(...) {\n",
    "  opar <- par(fig=c(0, 1, 0, 1), oma=c(0, 0, 0, 0), \n",
    "    mar=c(0, 0, 0, 0), new=TRUE)\n",
    "  on.exit(par(opar))\n",
    "  plot(0, 0, type='n', bty='n', xaxt='n', yaxt='n')\n",
    "  legend(...)\n",
    "}"
   ]
  },
  {
   "cell_type": "code",
   "execution_count": 20,
   "metadata": {},
   "outputs": [],
   "source": [
    "datExpr <- t(read.csv(\"mainTable.csv\", check.names=FALSE, row.names = \"0\"))\n",
    "genes <- dimnames(datExpr)[[2]]\n",
    "samples <- dimnames(datExpr)[[1]]\n",
    "datExpr <- as.data.frame(apply(datExpr,2, as.numeric)) #numeric\n",
    "dimnames(datExpr)[[1]] <- samples\n",
    "allTraits <- read.csv(\"files.dat\")"
   ]
  },
  {
   "cell_type": "code",
   "execution_count": 13,
   "metadata": {},
   "outputs": [],
   "source": [
    "log2_1 <- function(x){\n",
    "    log2(x+1)\n",
    "}\n",
    "datExpr <- as.data.frame(apply(datExpr,2, log2_1))\n",
    "dimnames(datExpr)[[1]] <- samples"
   ]
  },
  {
   "cell_type": "code",
   "execution_count": 14,
   "metadata": {},
   "outputs": [
    {
     "data": {
      "text/html": [
       "<table>\n",
       "<caption>A data.frame: 10 × 5</caption>\n",
       "<thead>\n",
       "\t<tr><th></th><th scope=col>ENSG00000000971</th><th scope=col>ENSG00000001561</th><th scope=col>ENSG00000002834</th><th scope=col>ENSG00000002933</th><th scope=col>ENSG00000003249</th></tr>\n",
       "\t<tr><th></th><th scope=col>&lt;dbl&gt;</th><th scope=col>&lt;dbl&gt;</th><th scope=col>&lt;dbl&gt;</th><th scope=col>&lt;dbl&gt;</th><th scope=col>&lt;dbl&gt;</th></tr>\n",
       "</thead>\n",
       "<tbody>\n",
       "\t<tr><th scope=row>87fcecde-b317-4518-bea1-cc8d14a18107.FPKM.txt.gz</th><td>1.163499</td><td>4.0009014</td><td>6.884232</td><td>1.480265</td><td>2.952334</td></tr>\n",
       "\t<tr><th scope=row>bbf9a30d-3067-491b-9aea-0cb9bed91969.FPKM.txt.gz</th><td>2.707083</td><td>2.9963887</td><td>5.663345</td><td>3.127633</td><td>2.744161</td></tr>\n",
       "\t<tr><th scope=row>c909a75f-23e8-4c96-82f2-72e46fdb8155.FPKM.txt.gz</th><td>1.389567</td><td>1.6599246</td><td>4.275007</td><td>3.317594</td><td>3.667892</td></tr>\n",
       "\t<tr><th scope=row>1c89ff2f-6e0a-4244-952b-1391dba1b815.FPKM.txt.gz</th><td>2.759156</td><td>2.6392322</td><td>5.669594</td><td>3.959770</td><td>3.884598</td></tr>\n",
       "\t<tr><th scope=row>2a6ae2e8-733f-4349-8eec-d25e2b4abf86.FPKM.txt.gz</th><td>3.152183</td><td>3.1953476</td><td>5.288728</td><td>2.144046</td><td>3.028569</td></tr>\n",
       "\t<tr><th scope=row>0a2c1866-d6e1-4add-bcb0-b297ba1394ac.FPKM.txt.gz</th><td>3.574102</td><td>0.9335726</td><td>5.008541</td><td>2.646163</td><td>3.321928</td></tr>\n",
       "\t<tr><th scope=row>cf1a1478-68c1-431b-86cb-c4ddb105accf.FPKM.txt.gz</th><td>2.831877</td><td>3.2218771</td><td>5.928844</td><td>3.047887</td><td>3.097611</td></tr>\n",
       "\t<tr><th scope=row>eab58571-a6f1-4bc4-aa01-0df9c4beb79f.FPKM.txt.gz</th><td>3.751678</td><td>2.2868811</td><td>5.042207</td><td>3.400538</td><td>2.080658</td></tr>\n",
       "\t<tr><th scope=row>07ad35fc-1e35-43b3-a252-193323d5e680.FPKM.txt.gz</th><td>3.150560</td><td>3.9726927</td><td>6.067596</td><td>3.739848</td><td>3.111031</td></tr>\n",
       "\t<tr><th scope=row>700fa398-8999-430e-a52d-0e7a40a2d45b.FPKM.txt.gz</th><td>2.939227</td><td>2.4594316</td><td>5.673556</td><td>5.442612</td><td>3.389567</td></tr>\n",
       "</tbody>\n",
       "</table>\n"
      ],
      "text/latex": [
       "A data.frame: 10 × 5\n",
       "\\begin{tabular}{r|lllll}\n",
       "  & ENSG00000000971 & ENSG00000001561 & ENSG00000002834 & ENSG00000002933 & ENSG00000003249\\\\\n",
       "  & <dbl> & <dbl> & <dbl> & <dbl> & <dbl>\\\\\n",
       "\\hline\n",
       "\t87fcecde-b317-4518-bea1-cc8d14a18107.FPKM.txt.gz & 1.163499 & 4.0009014 & 6.884232 & 1.480265 & 2.952334\\\\\n",
       "\tbbf9a30d-3067-491b-9aea-0cb9bed91969.FPKM.txt.gz & 2.707083 & 2.9963887 & 5.663345 & 3.127633 & 2.744161\\\\\n",
       "\tc909a75f-23e8-4c96-82f2-72e46fdb8155.FPKM.txt.gz & 1.389567 & 1.6599246 & 4.275007 & 3.317594 & 3.667892\\\\\n",
       "\t1c89ff2f-6e0a-4244-952b-1391dba1b815.FPKM.txt.gz & 2.759156 & 2.6392322 & 5.669594 & 3.959770 & 3.884598\\\\\n",
       "\t2a6ae2e8-733f-4349-8eec-d25e2b4abf86.FPKM.txt.gz & 3.152183 & 3.1953476 & 5.288728 & 2.144046 & 3.028569\\\\\n",
       "\t0a2c1866-d6e1-4add-bcb0-b297ba1394ac.FPKM.txt.gz & 3.574102 & 0.9335726 & 5.008541 & 2.646163 & 3.321928\\\\\n",
       "\tcf1a1478-68c1-431b-86cb-c4ddb105accf.FPKM.txt.gz & 2.831877 & 3.2218771 & 5.928844 & 3.047887 & 3.097611\\\\\n",
       "\teab58571-a6f1-4bc4-aa01-0df9c4beb79f.FPKM.txt.gz & 3.751678 & 2.2868811 & 5.042207 & 3.400538 & 2.080658\\\\\n",
       "\t07ad35fc-1e35-43b3-a252-193323d5e680.FPKM.txt.gz & 3.150560 & 3.9726927 & 6.067596 & 3.739848 & 3.111031\\\\\n",
       "\t700fa398-8999-430e-a52d-0e7a40a2d45b.FPKM.txt.gz & 2.939227 & 2.4594316 & 5.673556 & 5.442612 & 3.389567\\\\\n",
       "\\end{tabular}\n"
      ],
      "text/markdown": [
       "\n",
       "A data.frame: 10 × 5\n",
       "\n",
       "| <!--/--> | ENSG00000000971 &lt;dbl&gt; | ENSG00000001561 &lt;dbl&gt; | ENSG00000002834 &lt;dbl&gt; | ENSG00000002933 &lt;dbl&gt; | ENSG00000003249 &lt;dbl&gt; |\n",
       "|---|---|---|---|---|---|\n",
       "| 87fcecde-b317-4518-bea1-cc8d14a18107.FPKM.txt.gz | 1.163499 | 4.0009014 | 6.884232 | 1.480265 | 2.952334 |\n",
       "| bbf9a30d-3067-491b-9aea-0cb9bed91969.FPKM.txt.gz | 2.707083 | 2.9963887 | 5.663345 | 3.127633 | 2.744161 |\n",
       "| c909a75f-23e8-4c96-82f2-72e46fdb8155.FPKM.txt.gz | 1.389567 | 1.6599246 | 4.275007 | 3.317594 | 3.667892 |\n",
       "| 1c89ff2f-6e0a-4244-952b-1391dba1b815.FPKM.txt.gz | 2.759156 | 2.6392322 | 5.669594 | 3.959770 | 3.884598 |\n",
       "| 2a6ae2e8-733f-4349-8eec-d25e2b4abf86.FPKM.txt.gz | 3.152183 | 3.1953476 | 5.288728 | 2.144046 | 3.028569 |\n",
       "| 0a2c1866-d6e1-4add-bcb0-b297ba1394ac.FPKM.txt.gz | 3.574102 | 0.9335726 | 5.008541 | 2.646163 | 3.321928 |\n",
       "| cf1a1478-68c1-431b-86cb-c4ddb105accf.FPKM.txt.gz | 2.831877 | 3.2218771 | 5.928844 | 3.047887 | 3.097611 |\n",
       "| eab58571-a6f1-4bc4-aa01-0df9c4beb79f.FPKM.txt.gz | 3.751678 | 2.2868811 | 5.042207 | 3.400538 | 2.080658 |\n",
       "| 07ad35fc-1e35-43b3-a252-193323d5e680.FPKM.txt.gz | 3.150560 | 3.9726927 | 6.067596 | 3.739848 | 3.111031 |\n",
       "| 700fa398-8999-430e-a52d-0e7a40a2d45b.FPKM.txt.gz | 2.939227 | 2.4594316 | 5.673556 | 5.442612 | 3.389567 |\n",
       "\n"
      ],
      "text/plain": [
       "                                                 ENSG00000000971\n",
       "87fcecde-b317-4518-bea1-cc8d14a18107.FPKM.txt.gz 1.163499       \n",
       "bbf9a30d-3067-491b-9aea-0cb9bed91969.FPKM.txt.gz 2.707083       \n",
       "c909a75f-23e8-4c96-82f2-72e46fdb8155.FPKM.txt.gz 1.389567       \n",
       "1c89ff2f-6e0a-4244-952b-1391dba1b815.FPKM.txt.gz 2.759156       \n",
       "2a6ae2e8-733f-4349-8eec-d25e2b4abf86.FPKM.txt.gz 3.152183       \n",
       "0a2c1866-d6e1-4add-bcb0-b297ba1394ac.FPKM.txt.gz 3.574102       \n",
       "cf1a1478-68c1-431b-86cb-c4ddb105accf.FPKM.txt.gz 2.831877       \n",
       "eab58571-a6f1-4bc4-aa01-0df9c4beb79f.FPKM.txt.gz 3.751678       \n",
       "07ad35fc-1e35-43b3-a252-193323d5e680.FPKM.txt.gz 3.150560       \n",
       "700fa398-8999-430e-a52d-0e7a40a2d45b.FPKM.txt.gz 2.939227       \n",
       "                                                 ENSG00000001561\n",
       "87fcecde-b317-4518-bea1-cc8d14a18107.FPKM.txt.gz 4.0009014      \n",
       "bbf9a30d-3067-491b-9aea-0cb9bed91969.FPKM.txt.gz 2.9963887      \n",
       "c909a75f-23e8-4c96-82f2-72e46fdb8155.FPKM.txt.gz 1.6599246      \n",
       "1c89ff2f-6e0a-4244-952b-1391dba1b815.FPKM.txt.gz 2.6392322      \n",
       "2a6ae2e8-733f-4349-8eec-d25e2b4abf86.FPKM.txt.gz 3.1953476      \n",
       "0a2c1866-d6e1-4add-bcb0-b297ba1394ac.FPKM.txt.gz 0.9335726      \n",
       "cf1a1478-68c1-431b-86cb-c4ddb105accf.FPKM.txt.gz 3.2218771      \n",
       "eab58571-a6f1-4bc4-aa01-0df9c4beb79f.FPKM.txt.gz 2.2868811      \n",
       "07ad35fc-1e35-43b3-a252-193323d5e680.FPKM.txt.gz 3.9726927      \n",
       "700fa398-8999-430e-a52d-0e7a40a2d45b.FPKM.txt.gz 2.4594316      \n",
       "                                                 ENSG00000002834\n",
       "87fcecde-b317-4518-bea1-cc8d14a18107.FPKM.txt.gz 6.884232       \n",
       "bbf9a30d-3067-491b-9aea-0cb9bed91969.FPKM.txt.gz 5.663345       \n",
       "c909a75f-23e8-4c96-82f2-72e46fdb8155.FPKM.txt.gz 4.275007       \n",
       "1c89ff2f-6e0a-4244-952b-1391dba1b815.FPKM.txt.gz 5.669594       \n",
       "2a6ae2e8-733f-4349-8eec-d25e2b4abf86.FPKM.txt.gz 5.288728       \n",
       "0a2c1866-d6e1-4add-bcb0-b297ba1394ac.FPKM.txt.gz 5.008541       \n",
       "cf1a1478-68c1-431b-86cb-c4ddb105accf.FPKM.txt.gz 5.928844       \n",
       "eab58571-a6f1-4bc4-aa01-0df9c4beb79f.FPKM.txt.gz 5.042207       \n",
       "07ad35fc-1e35-43b3-a252-193323d5e680.FPKM.txt.gz 6.067596       \n",
       "700fa398-8999-430e-a52d-0e7a40a2d45b.FPKM.txt.gz 5.673556       \n",
       "                                                 ENSG00000002933\n",
       "87fcecde-b317-4518-bea1-cc8d14a18107.FPKM.txt.gz 1.480265       \n",
       "bbf9a30d-3067-491b-9aea-0cb9bed91969.FPKM.txt.gz 3.127633       \n",
       "c909a75f-23e8-4c96-82f2-72e46fdb8155.FPKM.txt.gz 3.317594       \n",
       "1c89ff2f-6e0a-4244-952b-1391dba1b815.FPKM.txt.gz 3.959770       \n",
       "2a6ae2e8-733f-4349-8eec-d25e2b4abf86.FPKM.txt.gz 2.144046       \n",
       "0a2c1866-d6e1-4add-bcb0-b297ba1394ac.FPKM.txt.gz 2.646163       \n",
       "cf1a1478-68c1-431b-86cb-c4ddb105accf.FPKM.txt.gz 3.047887       \n",
       "eab58571-a6f1-4bc4-aa01-0df9c4beb79f.FPKM.txt.gz 3.400538       \n",
       "07ad35fc-1e35-43b3-a252-193323d5e680.FPKM.txt.gz 3.739848       \n",
       "700fa398-8999-430e-a52d-0e7a40a2d45b.FPKM.txt.gz 5.442612       \n",
       "                                                 ENSG00000003249\n",
       "87fcecde-b317-4518-bea1-cc8d14a18107.FPKM.txt.gz 2.952334       \n",
       "bbf9a30d-3067-491b-9aea-0cb9bed91969.FPKM.txt.gz 2.744161       \n",
       "c909a75f-23e8-4c96-82f2-72e46fdb8155.FPKM.txt.gz 3.667892       \n",
       "1c89ff2f-6e0a-4244-952b-1391dba1b815.FPKM.txt.gz 3.884598       \n",
       "2a6ae2e8-733f-4349-8eec-d25e2b4abf86.FPKM.txt.gz 3.028569       \n",
       "0a2c1866-d6e1-4add-bcb0-b297ba1394ac.FPKM.txt.gz 3.321928       \n",
       "cf1a1478-68c1-431b-86cb-c4ddb105accf.FPKM.txt.gz 3.097611       \n",
       "eab58571-a6f1-4bc4-aa01-0df9c4beb79f.FPKM.txt.gz 2.080658       \n",
       "07ad35fc-1e35-43b3-a252-193323d5e680.FPKM.txt.gz 3.111031       \n",
       "700fa398-8999-430e-a52d-0e7a40a2d45b.FPKM.txt.gz 3.389567       "
      ]
     },
     "metadata": {},
     "output_type": "display_data"
    }
   ],
   "source": [
    "datExpr[1:10,1:5]"
   ]
  },
  {
   "cell_type": "code",
   "execution_count": 21,
   "metadata": {},
   "outputs": [
    {
     "data": {
      "text/html": [
       "<table>\n",
       "<caption>A data.frame: 6 × 47</caption>\n",
       "<thead>\n",
       "\t<tr><th></th><th scope=col>file_name</th><th scope=col>cases.0.submitter_id</th><th scope=col>cases.0.diagnoses.0.primary_diagnosis</th><th scope=col>cases.0.diagnoses.0.morphology</th><th scope=col>cases.0.diagnoses.0.tissue_or_organ_of_origin</th><th scope=col>cases.0.diagnoses.0.tumor_grade</th><th scope=col>cases.0.diagnoses.0.tumor_stage</th><th scope=col>cases.0.project.disease_type</th><th scope=col>cases.0.project.primary_site</th><th scope=col>cases.0.samples.0.longest_dimension</th><th scope=col>⋯</th><th scope=col>cancer.type</th><th scope=col>Subtype_mRNA</th><th scope=col>Subtype_DNAmeth</th><th scope=col>Subtype_protein</th><th scope=col>Subtype_miRNA</th><th scope=col>Subtype_CNA</th><th scope=col>Subtype_Integrative</th><th scope=col>Subtype_other</th><th scope=col>Subtype_Selected</th><th scope=col>Subtype_Selected_Lum</th></tr>\n",
       "\t<tr><th></th><th scope=col>&lt;chr&gt;</th><th scope=col>&lt;chr&gt;</th><th scope=col>&lt;chr&gt;</th><th scope=col>&lt;chr&gt;</th><th scope=col>&lt;chr&gt;</th><th scope=col>&lt;chr&gt;</th><th scope=col>&lt;chr&gt;</th><th scope=col>&lt;chr&gt;</th><th scope=col>&lt;chr&gt;</th><th scope=col>&lt;chr&gt;</th><th scope=col>⋯</th><th scope=col>&lt;chr&gt;</th><th scope=col>&lt;chr&gt;</th><th scope=col>&lt;chr&gt;</th><th scope=col>&lt;chr&gt;</th><th scope=col>&lt;chr&gt;</th><th scope=col>&lt;chr&gt;</th><th scope=col>&lt;chr&gt;</th><th scope=col>&lt;chr&gt;</th><th scope=col>&lt;chr&gt;</th><th scope=col>&lt;chr&gt;</th></tr>\n",
       "</thead>\n",
       "<tbody>\n",
       "\t<tr><th scope=row>1</th><td>87fcecde-b317-4518-bea1-cc8d14a18107.FPKM.txt.gz</td><td>TCGA-BH-A0W3</td><td>Infiltrating duct carcinoma, NOS</td><td>8500/3</td><td>Breast, NOS</td><td>not reported</td><td>stage iia </td><td>Breast Invasive Carcinoma</td><td>Breast</td><td>unknown</td><td>⋯</td><td>BRCA</td><td>LumB  </td><td>unknown</td><td>unknown</td><td>unknown</td><td>unknown</td><td>unknown</td><td>unknown</td><td>BRCA.LumB  </td><td>BRCA.Lum   </td></tr>\n",
       "\t<tr><th scope=row>2</th><td>bbf9a30d-3067-491b-9aea-0cb9bed91969.FPKM.txt.gz</td><td>TCGA-A8-A07F</td><td>Infiltrating duct carcinoma, NOS</td><td>8500/3</td><td>Breast, NOS</td><td>not reported</td><td>stage iib </td><td>Breast Invasive Carcinoma</td><td>Breast</td><td>unknown</td><td>⋯</td><td>BRCA</td><td>LumA  </td><td>unknown</td><td>unknown</td><td>unknown</td><td>unknown</td><td>unknown</td><td>unknown</td><td>BRCA.LumA  </td><td>BRCA.Lum   </td></tr>\n",
       "\t<tr><th scope=row>3</th><td>c909a75f-23e8-4c96-82f2-72e46fdb8155.FPKM.txt.gz</td><td>TCGA-GM-A3XL</td><td>Infiltrating duct carcinoma, NOS</td><td>8500/3</td><td>Breast, NOS</td><td>not reported</td><td>stage iia </td><td>Breast Invasive Carcinoma</td><td>Breast</td><td>unknown</td><td>⋯</td><td>BRCA</td><td>Basal </td><td>unknown</td><td>unknown</td><td>unknown</td><td>unknown</td><td>unknown</td><td>unknown</td><td>BRCA.Basal </td><td>BRCA.Basal </td></tr>\n",
       "\t<tr><th scope=row>4</th><td>1c89ff2f-6e0a-4244-952b-1391dba1b815.FPKM.txt.gz</td><td>TCGA-LL-A441</td><td>Infiltrating duct carcinoma, NOS</td><td>8500/3</td><td>Breast, NOS</td><td>not reported</td><td>stage ia  </td><td>Breast Invasive Carcinoma</td><td>Breast</td><td>unknown</td><td>⋯</td><td>BRCA</td><td>Normal</td><td>unknown</td><td>unknown</td><td>unknown</td><td>unknown</td><td>unknown</td><td>unknown</td><td>BRCA.Normal</td><td>BRCA.Normal</td></tr>\n",
       "\t<tr><th scope=row>5</th><td>2a6ae2e8-733f-4349-8eec-d25e2b4abf86.FPKM.txt.gz</td><td>TCGA-BH-A0HP</td><td>Lobular carcinoma, NOS          </td><td>8520/3</td><td>Breast, NOS</td><td>not reported</td><td>stage iiia</td><td>Breast Invasive Carcinoma</td><td>Breast</td><td>unknown</td><td>⋯</td><td>BRCA</td><td>LumA  </td><td>unknown</td><td>unknown</td><td>unknown</td><td>unknown</td><td>unknown</td><td>unknown</td><td>BRCA.LumA  </td><td>BRCA.Lum   </td></tr>\n",
       "\t<tr><th scope=row>6</th><td>0a2c1866-d6e1-4add-bcb0-b297ba1394ac.FPKM.txt.gz</td><td>TCGA-D8-A1Y1</td><td>Infiltrating duct carcinoma, NOS</td><td>8500/3</td><td>Breast, NOS</td><td>not reported</td><td>stage iiia</td><td>Breast Invasive Carcinoma</td><td>Breast</td><td>unknown</td><td>⋯</td><td>BRCA</td><td>LumB  </td><td>unknown</td><td>unknown</td><td>unknown</td><td>unknown</td><td>unknown</td><td>unknown</td><td>BRCA.LumB  </td><td>BRCA.Lum   </td></tr>\n",
       "</tbody>\n",
       "</table>\n"
      ],
      "text/latex": [
       "A data.frame: 6 × 47\n",
       "\\begin{tabular}{r|lllllllllllllllllllll}\n",
       "  & file\\_name & cases.0.submitter\\_id & cases.0.diagnoses.0.primary\\_diagnosis & cases.0.diagnoses.0.morphology & cases.0.diagnoses.0.tissue\\_or\\_organ\\_of\\_origin & cases.0.diagnoses.0.tumor\\_grade & cases.0.diagnoses.0.tumor\\_stage & cases.0.project.disease\\_type & cases.0.project.primary\\_site & cases.0.samples.0.longest\\_dimension & ⋯ & cancer.type & Subtype\\_mRNA & Subtype\\_DNAmeth & Subtype\\_protein & Subtype\\_miRNA & Subtype\\_CNA & Subtype\\_Integrative & Subtype\\_other & Subtype\\_Selected & Subtype\\_Selected\\_Lum\\\\\n",
       "  & <chr> & <chr> & <chr> & <chr> & <chr> & <chr> & <chr> & <chr> & <chr> & <chr> & ⋯ & <chr> & <chr> & <chr> & <chr> & <chr> & <chr> & <chr> & <chr> & <chr> & <chr>\\\\\n",
       "\\hline\n",
       "\t1 & 87fcecde-b317-4518-bea1-cc8d14a18107.FPKM.txt.gz & TCGA-BH-A0W3 & Infiltrating duct carcinoma, NOS & 8500/3 & Breast, NOS & not reported & stage iia  & Breast Invasive Carcinoma & Breast & unknown & ⋯ & BRCA & LumB   & unknown & unknown & unknown & unknown & unknown & unknown & BRCA.LumB   & BRCA.Lum   \\\\\n",
       "\t2 & bbf9a30d-3067-491b-9aea-0cb9bed91969.FPKM.txt.gz & TCGA-A8-A07F & Infiltrating duct carcinoma, NOS & 8500/3 & Breast, NOS & not reported & stage iib  & Breast Invasive Carcinoma & Breast & unknown & ⋯ & BRCA & LumA   & unknown & unknown & unknown & unknown & unknown & unknown & BRCA.LumA   & BRCA.Lum   \\\\\n",
       "\t3 & c909a75f-23e8-4c96-82f2-72e46fdb8155.FPKM.txt.gz & TCGA-GM-A3XL & Infiltrating duct carcinoma, NOS & 8500/3 & Breast, NOS & not reported & stage iia  & Breast Invasive Carcinoma & Breast & unknown & ⋯ & BRCA & Basal  & unknown & unknown & unknown & unknown & unknown & unknown & BRCA.Basal  & BRCA.Basal \\\\\n",
       "\t4 & 1c89ff2f-6e0a-4244-952b-1391dba1b815.FPKM.txt.gz & TCGA-LL-A441 & Infiltrating duct carcinoma, NOS & 8500/3 & Breast, NOS & not reported & stage ia   & Breast Invasive Carcinoma & Breast & unknown & ⋯ & BRCA & Normal & unknown & unknown & unknown & unknown & unknown & unknown & BRCA.Normal & BRCA.Normal\\\\\n",
       "\t5 & 2a6ae2e8-733f-4349-8eec-d25e2b4abf86.FPKM.txt.gz & TCGA-BH-A0HP & Lobular carcinoma, NOS           & 8520/3 & Breast, NOS & not reported & stage iiia & Breast Invasive Carcinoma & Breast & unknown & ⋯ & BRCA & LumA   & unknown & unknown & unknown & unknown & unknown & unknown & BRCA.LumA   & BRCA.Lum   \\\\\n",
       "\t6 & 0a2c1866-d6e1-4add-bcb0-b297ba1394ac.FPKM.txt.gz & TCGA-D8-A1Y1 & Infiltrating duct carcinoma, NOS & 8500/3 & Breast, NOS & not reported & stage iiia & Breast Invasive Carcinoma & Breast & unknown & ⋯ & BRCA & LumB   & unknown & unknown & unknown & unknown & unknown & unknown & BRCA.LumB   & BRCA.Lum   \\\\\n",
       "\\end{tabular}\n"
      ],
      "text/markdown": [
       "\n",
       "A data.frame: 6 × 47\n",
       "\n",
       "| <!--/--> | file_name &lt;chr&gt; | cases.0.submitter_id &lt;chr&gt; | cases.0.diagnoses.0.primary_diagnosis &lt;chr&gt; | cases.0.diagnoses.0.morphology &lt;chr&gt; | cases.0.diagnoses.0.tissue_or_organ_of_origin &lt;chr&gt; | cases.0.diagnoses.0.tumor_grade &lt;chr&gt; | cases.0.diagnoses.0.tumor_stage &lt;chr&gt; | cases.0.project.disease_type &lt;chr&gt; | cases.0.project.primary_site &lt;chr&gt; | cases.0.samples.0.longest_dimension &lt;chr&gt; | ⋯ ⋯ | cancer.type &lt;chr&gt; | Subtype_mRNA &lt;chr&gt; | Subtype_DNAmeth &lt;chr&gt; | Subtype_protein &lt;chr&gt; | Subtype_miRNA &lt;chr&gt; | Subtype_CNA &lt;chr&gt; | Subtype_Integrative &lt;chr&gt; | Subtype_other &lt;chr&gt; | Subtype_Selected &lt;chr&gt; | Subtype_Selected_Lum &lt;chr&gt; |\n",
       "|---|---|---|---|---|---|---|---|---|---|---|---|---|---|---|---|---|---|---|---|---|---|\n",
       "| 1 | 87fcecde-b317-4518-bea1-cc8d14a18107.FPKM.txt.gz | TCGA-BH-A0W3 | Infiltrating duct carcinoma, NOS | 8500/3 | Breast, NOS | not reported | stage iia  | Breast Invasive Carcinoma | Breast | unknown | ⋯ | BRCA | LumB   | unknown | unknown | unknown | unknown | unknown | unknown | BRCA.LumB   | BRCA.Lum    |\n",
       "| 2 | bbf9a30d-3067-491b-9aea-0cb9bed91969.FPKM.txt.gz | TCGA-A8-A07F | Infiltrating duct carcinoma, NOS | 8500/3 | Breast, NOS | not reported | stage iib  | Breast Invasive Carcinoma | Breast | unknown | ⋯ | BRCA | LumA   | unknown | unknown | unknown | unknown | unknown | unknown | BRCA.LumA   | BRCA.Lum    |\n",
       "| 3 | c909a75f-23e8-4c96-82f2-72e46fdb8155.FPKM.txt.gz | TCGA-GM-A3XL | Infiltrating duct carcinoma, NOS | 8500/3 | Breast, NOS | not reported | stage iia  | Breast Invasive Carcinoma | Breast | unknown | ⋯ | BRCA | Basal  | unknown | unknown | unknown | unknown | unknown | unknown | BRCA.Basal  | BRCA.Basal  |\n",
       "| 4 | 1c89ff2f-6e0a-4244-952b-1391dba1b815.FPKM.txt.gz | TCGA-LL-A441 | Infiltrating duct carcinoma, NOS | 8500/3 | Breast, NOS | not reported | stage ia   | Breast Invasive Carcinoma | Breast | unknown | ⋯ | BRCA | Normal | unknown | unknown | unknown | unknown | unknown | unknown | BRCA.Normal | BRCA.Normal |\n",
       "| 5 | 2a6ae2e8-733f-4349-8eec-d25e2b4abf86.FPKM.txt.gz | TCGA-BH-A0HP | Lobular carcinoma, NOS           | 8520/3 | Breast, NOS | not reported | stage iiia | Breast Invasive Carcinoma | Breast | unknown | ⋯ | BRCA | LumA   | unknown | unknown | unknown | unknown | unknown | unknown | BRCA.LumA   | BRCA.Lum    |\n",
       "| 6 | 0a2c1866-d6e1-4add-bcb0-b297ba1394ac.FPKM.txt.gz | TCGA-D8-A1Y1 | Infiltrating duct carcinoma, NOS | 8500/3 | Breast, NOS | not reported | stage iiia | Breast Invasive Carcinoma | Breast | unknown | ⋯ | BRCA | LumB   | unknown | unknown | unknown | unknown | unknown | unknown | BRCA.LumB   | BRCA.Lum    |\n",
       "\n"
      ],
      "text/plain": [
       "  file_name                                        cases.0.submitter_id\n",
       "1 87fcecde-b317-4518-bea1-cc8d14a18107.FPKM.txt.gz TCGA-BH-A0W3        \n",
       "2 bbf9a30d-3067-491b-9aea-0cb9bed91969.FPKM.txt.gz TCGA-A8-A07F        \n",
       "3 c909a75f-23e8-4c96-82f2-72e46fdb8155.FPKM.txt.gz TCGA-GM-A3XL        \n",
       "4 1c89ff2f-6e0a-4244-952b-1391dba1b815.FPKM.txt.gz TCGA-LL-A441        \n",
       "5 2a6ae2e8-733f-4349-8eec-d25e2b4abf86.FPKM.txt.gz TCGA-BH-A0HP        \n",
       "6 0a2c1866-d6e1-4add-bcb0-b297ba1394ac.FPKM.txt.gz TCGA-D8-A1Y1        \n",
       "  cases.0.diagnoses.0.primary_diagnosis cases.0.diagnoses.0.morphology\n",
       "1 Infiltrating duct carcinoma, NOS      8500/3                        \n",
       "2 Infiltrating duct carcinoma, NOS      8500/3                        \n",
       "3 Infiltrating duct carcinoma, NOS      8500/3                        \n",
       "4 Infiltrating duct carcinoma, NOS      8500/3                        \n",
       "5 Lobular carcinoma, NOS                8520/3                        \n",
       "6 Infiltrating duct carcinoma, NOS      8500/3                        \n",
       "  cases.0.diagnoses.0.tissue_or_organ_of_origin cases.0.diagnoses.0.tumor_grade\n",
       "1 Breast, NOS                                   not reported                   \n",
       "2 Breast, NOS                                   not reported                   \n",
       "3 Breast, NOS                                   not reported                   \n",
       "4 Breast, NOS                                   not reported                   \n",
       "5 Breast, NOS                                   not reported                   \n",
       "6 Breast, NOS                                   not reported                   \n",
       "  cases.0.diagnoses.0.tumor_stage cases.0.project.disease_type\n",
       "1 stage iia                       Breast Invasive Carcinoma   \n",
       "2 stage iib                       Breast Invasive Carcinoma   \n",
       "3 stage iia                       Breast Invasive Carcinoma   \n",
       "4 stage ia                        Breast Invasive Carcinoma   \n",
       "5 stage iiia                      Breast Invasive Carcinoma   \n",
       "6 stage iiia                      Breast Invasive Carcinoma   \n",
       "  cases.0.project.primary_site cases.0.samples.0.longest_dimension ⋯\n",
       "1 Breast                       unknown                             ⋯\n",
       "2 Breast                       unknown                             ⋯\n",
       "3 Breast                       unknown                             ⋯\n",
       "4 Breast                       unknown                             ⋯\n",
       "5 Breast                       unknown                             ⋯\n",
       "6 Breast                       unknown                             ⋯\n",
       "  cancer.type Subtype_mRNA Subtype_DNAmeth Subtype_protein Subtype_miRNA\n",
       "1 BRCA        LumB         unknown         unknown         unknown      \n",
       "2 BRCA        LumA         unknown         unknown         unknown      \n",
       "3 BRCA        Basal        unknown         unknown         unknown      \n",
       "4 BRCA        Normal       unknown         unknown         unknown      \n",
       "5 BRCA        LumA         unknown         unknown         unknown      \n",
       "6 BRCA        LumB         unknown         unknown         unknown      \n",
       "  Subtype_CNA Subtype_Integrative Subtype_other Subtype_Selected\n",
       "1 unknown     unknown             unknown       BRCA.LumB       \n",
       "2 unknown     unknown             unknown       BRCA.LumA       \n",
       "3 unknown     unknown             unknown       BRCA.Basal      \n",
       "4 unknown     unknown             unknown       BRCA.Normal     \n",
       "5 unknown     unknown             unknown       BRCA.LumA       \n",
       "6 unknown     unknown             unknown       BRCA.LumB       \n",
       "  Subtype_Selected_Lum\n",
       "1 BRCA.Lum            \n",
       "2 BRCA.Lum            \n",
       "3 BRCA.Basal          \n",
       "4 BRCA.Normal         \n",
       "5 BRCA.Lum            \n",
       "6 BRCA.Lum            "
      ]
     },
     "metadata": {},
     "output_type": "display_data"
    }
   ],
   "source": [
    "head(allTraits)"
   ]
  },
  {
   "cell_type": "code",
   "execution_count": 27,
   "metadata": {},
   "outputs": [
    {
     "data": {
      "text/html": [
       "<table>\n",
       "<caption>A data.frame: 6 × 2</caption>\n",
       "<thead>\n",
       "\t<tr><th></th><th scope=col>Subtype_Selected</th><th scope=col>Subtype_Selected_Lum</th></tr>\n",
       "\t<tr><th></th><th scope=col>&lt;chr&gt;</th><th scope=col>&lt;chr&gt;</th></tr>\n",
       "</thead>\n",
       "<tbody>\n",
       "\t<tr><th scope=row>87fcecde-b317-4518-bea1-cc8d14a18107.FPKM.txt.gz</th><td>BRCA.LumB  </td><td>BRCA.Lum   </td></tr>\n",
       "\t<tr><th scope=row>bbf9a30d-3067-491b-9aea-0cb9bed91969.FPKM.txt.gz</th><td>BRCA.LumA  </td><td>BRCA.Lum   </td></tr>\n",
       "\t<tr><th scope=row>c909a75f-23e8-4c96-82f2-72e46fdb8155.FPKM.txt.gz</th><td>BRCA.Basal </td><td>BRCA.Basal </td></tr>\n",
       "\t<tr><th scope=row>1c89ff2f-6e0a-4244-952b-1391dba1b815.FPKM.txt.gz</th><td>BRCA.Normal</td><td>BRCA.Normal</td></tr>\n",
       "\t<tr><th scope=row>2a6ae2e8-733f-4349-8eec-d25e2b4abf86.FPKM.txt.gz</th><td>BRCA.LumA  </td><td>BRCA.Lum   </td></tr>\n",
       "\t<tr><th scope=row>0a2c1866-d6e1-4add-bcb0-b297ba1394ac.FPKM.txt.gz</th><td>BRCA.LumB  </td><td>BRCA.Lum   </td></tr>\n",
       "</tbody>\n",
       "</table>\n"
      ],
      "text/latex": [
       "A data.frame: 6 × 2\n",
       "\\begin{tabular}{r|ll}\n",
       "  & Subtype\\_Selected & Subtype\\_Selected\\_Lum\\\\\n",
       "  & <chr> & <chr>\\\\\n",
       "\\hline\n",
       "\t87fcecde-b317-4518-bea1-cc8d14a18107.FPKM.txt.gz & BRCA.LumB   & BRCA.Lum   \\\\\n",
       "\tbbf9a30d-3067-491b-9aea-0cb9bed91969.FPKM.txt.gz & BRCA.LumA   & BRCA.Lum   \\\\\n",
       "\tc909a75f-23e8-4c96-82f2-72e46fdb8155.FPKM.txt.gz & BRCA.Basal  & BRCA.Basal \\\\\n",
       "\t1c89ff2f-6e0a-4244-952b-1391dba1b815.FPKM.txt.gz & BRCA.Normal & BRCA.Normal\\\\\n",
       "\t2a6ae2e8-733f-4349-8eec-d25e2b4abf86.FPKM.txt.gz & BRCA.LumA   & BRCA.Lum   \\\\\n",
       "\t0a2c1866-d6e1-4add-bcb0-b297ba1394ac.FPKM.txt.gz & BRCA.LumB   & BRCA.Lum   \\\\\n",
       "\\end{tabular}\n"
      ],
      "text/markdown": [
       "\n",
       "A data.frame: 6 × 2\n",
       "\n",
       "| <!--/--> | Subtype_Selected &lt;chr&gt; | Subtype_Selected_Lum &lt;chr&gt; |\n",
       "|---|---|---|\n",
       "| 87fcecde-b317-4518-bea1-cc8d14a18107.FPKM.txt.gz | BRCA.LumB   | BRCA.Lum    |\n",
       "| bbf9a30d-3067-491b-9aea-0cb9bed91969.FPKM.txt.gz | BRCA.LumA   | BRCA.Lum    |\n",
       "| c909a75f-23e8-4c96-82f2-72e46fdb8155.FPKM.txt.gz | BRCA.Basal  | BRCA.Basal  |\n",
       "| 1c89ff2f-6e0a-4244-952b-1391dba1b815.FPKM.txt.gz | BRCA.Normal | BRCA.Normal |\n",
       "| 2a6ae2e8-733f-4349-8eec-d25e2b4abf86.FPKM.txt.gz | BRCA.LumA   | BRCA.Lum    |\n",
       "| 0a2c1866-d6e1-4add-bcb0-b297ba1394ac.FPKM.txt.gz | BRCA.LumB   | BRCA.Lum    |\n",
       "\n"
      ],
      "text/plain": [
       "                                                 Subtype_Selected\n",
       "87fcecde-b317-4518-bea1-cc8d14a18107.FPKM.txt.gz BRCA.LumB       \n",
       "bbf9a30d-3067-491b-9aea-0cb9bed91969.FPKM.txt.gz BRCA.LumA       \n",
       "c909a75f-23e8-4c96-82f2-72e46fdb8155.FPKM.txt.gz BRCA.Basal      \n",
       "1c89ff2f-6e0a-4244-952b-1391dba1b815.FPKM.txt.gz BRCA.Normal     \n",
       "2a6ae2e8-733f-4349-8eec-d25e2b4abf86.FPKM.txt.gz BRCA.LumA       \n",
       "0a2c1866-d6e1-4add-bcb0-b297ba1394ac.FPKM.txt.gz BRCA.LumB       \n",
       "                                                 Subtype_Selected_Lum\n",
       "87fcecde-b317-4518-bea1-cc8d14a18107.FPKM.txt.gz BRCA.Lum            \n",
       "bbf9a30d-3067-491b-9aea-0cb9bed91969.FPKM.txt.gz BRCA.Lum            \n",
       "c909a75f-23e8-4c96-82f2-72e46fdb8155.FPKM.txt.gz BRCA.Basal          \n",
       "1c89ff2f-6e0a-4244-952b-1391dba1b815.FPKM.txt.gz BRCA.Normal         \n",
       "2a6ae2e8-733f-4349-8eec-d25e2b4abf86.FPKM.txt.gz BRCA.Lum            \n",
       "0a2c1866-d6e1-4add-bcb0-b297ba1394ac.FPKM.txt.gz BRCA.Lum            "
      ]
     },
     "metadata": {},
     "output_type": "display_data"
    }
   ],
   "source": [
    "#labels <- c('primary_site', 'malignacy', 'disease_type', 'stage')\n",
    "labels <- c('Subtype_Selected','Subtype_Selected_Lum')\n",
    "#labels <- c('cases.0.project.primary_site', 'cases.0.project.disease_type')\n",
    "#labels <- c('SMTS', 'SMTSD')\n",
    "datTraits <- allTraits[,labels]\n",
    "rownames(datTraits) <- allTraits$file_name\n",
    "datTraits <- datTraits[rownames(datExpr),]\n",
    "head(datTraits)"
   ]
  },
  {
   "cell_type": "code",
   "execution_count": 28,
   "metadata": {},
   "outputs": [
    {
     "data": {
      "text/plain": [
       "< table of extent 0 >"
      ]
     },
     "metadata": {},
     "output_type": "display_data"
    }
   ],
   "source": [
    "table( dimnames(datExpr)[[1]]==datTraits$file_name)"
   ]
  },
  {
   "cell_type": "code",
   "execution_count": 29,
   "metadata": {},
   "outputs": [],
   "source": [
    "y = datTraits$Subtype_Selected"
   ]
  },
  {
   "cell_type": "code",
   "execution_count": 30,
   "metadata": {},
   "outputs": [],
   "source": [
    "meanExpressionBySample=apply( datExpr,1,mean, na.rm=T)\n",
    "NumberMissingBySample=apply( is.na(data.frame(datExpr)),1, sum)"
   ]
  },
  {
   "cell_type": "markdown",
   "metadata": {},
   "source": [
    "## 1"
   ]
  },
  {
   "cell_type": "code",
   "execution_count": 31,
   "metadata": {},
   "outputs": [
    {
     "name": "stdout",
     "output_type": "stream",
     "text": [
      " Flagging genes and samples with too many missing values...\n",
      "  ..step 1\n"
     ]
    },
    {
     "data": {
      "text/html": [
       "TRUE"
      ],
      "text/latex": [
       "TRUE"
      ],
      "text/markdown": [
       "TRUE"
      ],
      "text/plain": [
       "[1] TRUE"
      ]
     },
     "metadata": {},
     "output_type": "display_data"
    }
   ],
   "source": [
    "gsg = goodSamplesGenes(datExpr, verbose = 3);\n",
    "gsg$allOK"
   ]
  },
  {
   "cell_type": "code",
   "execution_count": 32,
   "metadata": {},
   "outputs": [
    {
     "data": {
      "text/html": [
       "<strong>png:</strong> 2"
      ],
      "text/latex": [
       "\\textbf{png:} 2"
      ],
      "text/markdown": [
       "**png:** 2"
      ],
      "text/plain": [
       "png \n",
       "  2 "
      ]
     },
     "metadata": {},
     "output_type": "display_data"
    }
   ],
   "source": [
    "sampleTree = hclust(dist(datExpr), method = \"average\");\n",
    "# Plot the sample tree: Open a graphic output window of size 12 by 9 inches\n",
    "# The user should change the dimensions if the window is too large or too small.\n",
    "sizeGrWindow(12,9)\n",
    "svg(\"samplehier.svg\")\n",
    "par(cex = 0.6);\n",
    "par(mar = c(0,4,2,0))\n",
    "plot(sampleTree, main = \"Sample clustering to detect outliers\", sub=\"\", xlab=\"\", cex.lab = 1.5,\n",
    "cex.axis = 1.5, cex.main = 2)\n",
    "dev.off()"
   ]
  },
  {
   "cell_type": "code",
   "execution_count": 34,
   "metadata": {},
   "outputs": [
    {
     "data": {
      "text/plain": [
       "clust\n",
       "   0    1 \n",
       "  10 1212 "
      ]
     },
     "metadata": {},
     "output_type": "display_data"
    }
   ],
   "source": [
    "# Determine cluster under the line\n",
    "clust = cutreeStatic(sampleTree, cutHeight = 1e5, minSize = 10)\n",
    "table(clust)"
   ]
  },
  {
   "cell_type": "code",
   "execution_count": 35,
   "metadata": {},
   "outputs": [],
   "source": [
    "# clust 1 contains the samples we want to keep.\n",
    "keepSamples = (clust==1)\n",
    "datExpr = datExpr[keepSamples, ]\n",
    "nGenes = ncol(datExpr)\n",
    "nSamples = nrow(datExpr)\n",
    "\n",
    "genes <- dimnames(datExpr)[[2]]\n",
    "samples <- dimnames(datExpr)[[1]]\n",
    "datExpr <- as.data.frame(apply(datExpr,2, as.numeric)) #numeric\n",
    "dimnames(datExpr)[[1]] <- samples"
   ]
  },
  {
   "cell_type": "code",
   "execution_count": 36,
   "metadata": {},
   "outputs": [
    {
     "data": {
      "text/html": [
       "<table>\n",
       "<caption>A data.frame: 6 × 3000</caption>\n",
       "<thead>\n",
       "\t<tr><th></th><th scope=col>ENSG00000000971</th><th scope=col>ENSG00000001561</th><th scope=col>ENSG00000002834</th><th scope=col>ENSG00000002933</th><th scope=col>ENSG00000003249</th><th scope=col>ENSG00000003436</th><th scope=col>ENSG00000003989</th><th scope=col>ENSG00000004776</th><th scope=col>ENSG00000004799</th><th scope=col>ENSG00000004838</th><th scope=col>⋯</th><th scope=col>ENSG00000273237</th><th scope=col>ENSG00000273243</th><th scope=col>ENSG00000273245</th><th scope=col>ENSG00000273284</th><th scope=col>ENSG00000273302</th><th scope=col>ENSG00000273338</th><th scope=col>ENSG00000273350</th><th scope=col>ENSG00000273449</th><th scope=col>ENSG00000273472</th><th scope=col>ENSG00000273474</th></tr>\n",
       "\t<tr><th></th><th scope=col>&lt;dbl&gt;</th><th scope=col>&lt;dbl&gt;</th><th scope=col>&lt;dbl&gt;</th><th scope=col>&lt;dbl&gt;</th><th scope=col>&lt;dbl&gt;</th><th scope=col>&lt;dbl&gt;</th><th scope=col>&lt;dbl&gt;</th><th scope=col>&lt;dbl&gt;</th><th scope=col>&lt;dbl&gt;</th><th scope=col>&lt;dbl&gt;</th><th scope=col>⋯</th><th scope=col>&lt;dbl&gt;</th><th scope=col>&lt;dbl&gt;</th><th scope=col>&lt;dbl&gt;</th><th scope=col>&lt;dbl&gt;</th><th scope=col>&lt;dbl&gt;</th><th scope=col>&lt;dbl&gt;</th><th scope=col>&lt;dbl&gt;</th><th scope=col>&lt;dbl&gt;</th><th scope=col>&lt;dbl&gt;</th><th scope=col>&lt;dbl&gt;</th></tr>\n",
       "</thead>\n",
       "<tbody>\n",
       "\t<tr><th scope=row>87fcecde-b317-4518-bea1-cc8d14a18107.FPKM.txt.gz</th><td> 1.24</td><td>15.01</td><td>117.13</td><td> 1.79</td><td> 6.74</td><td>0.29</td><td>29.54</td><td>0.95</td><td> 0.74</td><td>11.48</td><td>⋯</td><td>0.85</td><td>0.20</td><td>0.05</td><td>0.60</td><td>0.33</td><td>0.81</td><td>2.52</td><td>0.44</td><td>19.19</td><td>0.49</td></tr>\n",
       "\t<tr><th scope=row>bbf9a30d-3067-491b-9aea-0cb9bed91969.FPKM.txt.gz</th><td> 5.53</td><td> 6.98</td><td> 49.68</td><td> 7.74</td><td> 5.70</td><td>1.00</td><td>96.04</td><td>0.93</td><td> 5.51</td><td> 1.39</td><td>⋯</td><td>1.07</td><td>0.54</td><td>0.08</td><td>0.70</td><td>0.43</td><td>0.27</td><td>4.53</td><td>0.74</td><td> 1.74</td><td>0.21</td></tr>\n",
       "\t<tr><th scope=row>c909a75f-23e8-4c96-82f2-72e46fdb8155.FPKM.txt.gz</th><td> 1.62</td><td> 2.16</td><td> 18.36</td><td> 8.97</td><td>11.71</td><td>0.33</td><td> 0.20</td><td>0.15</td><td> 1.02</td><td> 0.30</td><td>⋯</td><td>0.56</td><td>0.43</td><td>0.15</td><td>0.31</td><td>0.12</td><td>2.03</td><td>0.59</td><td>1.05</td><td> 0.18</td><td>0.87</td></tr>\n",
       "\t<tr><th scope=row>1c89ff2f-6e0a-4244-952b-1391dba1b815.FPKM.txt.gz</th><td> 5.77</td><td> 5.23</td><td> 49.90</td><td>14.56</td><td>13.77</td><td>1.57</td><td> 1.90</td><td>7.72</td><td> 7.37</td><td> 0.83</td><td>⋯</td><td>0.66</td><td>1.25</td><td>0.20</td><td>0.57</td><td>0.59</td><td>0.60</td><td>0.74</td><td>2.11</td><td> 1.32</td><td>1.76</td></tr>\n",
       "\t<tr><th scope=row>2a6ae2e8-733f-4349-8eec-d25e2b4abf86.FPKM.txt.gz</th><td> 7.89</td><td> 8.16</td><td> 38.09</td><td> 3.42</td><td> 7.16</td><td>1.50</td><td> 6.29</td><td>7.43</td><td>14.57</td><td> 6.38</td><td>⋯</td><td>0.45</td><td>0.38</td><td>0.39</td><td>0.54</td><td>0.26</td><td>0.21</td><td>3.98</td><td>0.50</td><td> 6.38</td><td>0.61</td></tr>\n",
       "\t<tr><th scope=row>0a2c1866-d6e1-4add-bcb0-b297ba1394ac.FPKM.txt.gz</th><td>10.91</td><td> 0.91</td><td> 31.19</td><td> 5.26</td><td> 9.00</td><td>0.86</td><td>41.32</td><td>2.56</td><td> 3.36</td><td> 5.20</td><td>⋯</td><td>0.94</td><td>0.08</td><td>0.02</td><td>0.36</td><td>0.11</td><td>0.00</td><td>3.80</td><td>0.43</td><td> 0.95</td><td>0.04</td></tr>\n",
       "</tbody>\n",
       "</table>\n"
      ],
      "text/latex": [
       "A data.frame: 6 × 3000\n",
       "\\begin{tabular}{r|lllllllllllllllllllll}\n",
       "  & ENSG00000000971 & ENSG00000001561 & ENSG00000002834 & ENSG00000002933 & ENSG00000003249 & ENSG00000003436 & ENSG00000003989 & ENSG00000004776 & ENSG00000004799 & ENSG00000004838 & ⋯ & ENSG00000273237 & ENSG00000273243 & ENSG00000273245 & ENSG00000273284 & ENSG00000273302 & ENSG00000273338 & ENSG00000273350 & ENSG00000273449 & ENSG00000273472 & ENSG00000273474\\\\\n",
       "  & <dbl> & <dbl> & <dbl> & <dbl> & <dbl> & <dbl> & <dbl> & <dbl> & <dbl> & <dbl> & ⋯ & <dbl> & <dbl> & <dbl> & <dbl> & <dbl> & <dbl> & <dbl> & <dbl> & <dbl> & <dbl>\\\\\n",
       "\\hline\n",
       "\t87fcecde-b317-4518-bea1-cc8d14a18107.FPKM.txt.gz &  1.24 & 15.01 & 117.13 &  1.79 &  6.74 & 0.29 & 29.54 & 0.95 &  0.74 & 11.48 & ⋯ & 0.85 & 0.20 & 0.05 & 0.60 & 0.33 & 0.81 & 2.52 & 0.44 & 19.19 & 0.49\\\\\n",
       "\tbbf9a30d-3067-491b-9aea-0cb9bed91969.FPKM.txt.gz &  5.53 &  6.98 &  49.68 &  7.74 &  5.70 & 1.00 & 96.04 & 0.93 &  5.51 &  1.39 & ⋯ & 1.07 & 0.54 & 0.08 & 0.70 & 0.43 & 0.27 & 4.53 & 0.74 &  1.74 & 0.21\\\\\n",
       "\tc909a75f-23e8-4c96-82f2-72e46fdb8155.FPKM.txt.gz &  1.62 &  2.16 &  18.36 &  8.97 & 11.71 & 0.33 &  0.20 & 0.15 &  1.02 &  0.30 & ⋯ & 0.56 & 0.43 & 0.15 & 0.31 & 0.12 & 2.03 & 0.59 & 1.05 &  0.18 & 0.87\\\\\n",
       "\t1c89ff2f-6e0a-4244-952b-1391dba1b815.FPKM.txt.gz &  5.77 &  5.23 &  49.90 & 14.56 & 13.77 & 1.57 &  1.90 & 7.72 &  7.37 &  0.83 & ⋯ & 0.66 & 1.25 & 0.20 & 0.57 & 0.59 & 0.60 & 0.74 & 2.11 &  1.32 & 1.76\\\\\n",
       "\t2a6ae2e8-733f-4349-8eec-d25e2b4abf86.FPKM.txt.gz &  7.89 &  8.16 &  38.09 &  3.42 &  7.16 & 1.50 &  6.29 & 7.43 & 14.57 &  6.38 & ⋯ & 0.45 & 0.38 & 0.39 & 0.54 & 0.26 & 0.21 & 3.98 & 0.50 &  6.38 & 0.61\\\\\n",
       "\t0a2c1866-d6e1-4add-bcb0-b297ba1394ac.FPKM.txt.gz & 10.91 &  0.91 &  31.19 &  5.26 &  9.00 & 0.86 & 41.32 & 2.56 &  3.36 &  5.20 & ⋯ & 0.94 & 0.08 & 0.02 & 0.36 & 0.11 & 0.00 & 3.80 & 0.43 &  0.95 & 0.04\\\\\n",
       "\\end{tabular}\n"
      ],
      "text/markdown": [
       "\n",
       "A data.frame: 6 × 3000\n",
       "\n",
       "| <!--/--> | ENSG00000000971 &lt;dbl&gt; | ENSG00000001561 &lt;dbl&gt; | ENSG00000002834 &lt;dbl&gt; | ENSG00000002933 &lt;dbl&gt; | ENSG00000003249 &lt;dbl&gt; | ENSG00000003436 &lt;dbl&gt; | ENSG00000003989 &lt;dbl&gt; | ENSG00000004776 &lt;dbl&gt; | ENSG00000004799 &lt;dbl&gt; | ENSG00000004838 &lt;dbl&gt; | ⋯ ⋯ | ENSG00000273237 &lt;dbl&gt; | ENSG00000273243 &lt;dbl&gt; | ENSG00000273245 &lt;dbl&gt; | ENSG00000273284 &lt;dbl&gt; | ENSG00000273302 &lt;dbl&gt; | ENSG00000273338 &lt;dbl&gt; | ENSG00000273350 &lt;dbl&gt; | ENSG00000273449 &lt;dbl&gt; | ENSG00000273472 &lt;dbl&gt; | ENSG00000273474 &lt;dbl&gt; |\n",
       "|---|---|---|---|---|---|---|---|---|---|---|---|---|---|---|---|---|---|---|---|---|---|\n",
       "| 87fcecde-b317-4518-bea1-cc8d14a18107.FPKM.txt.gz |  1.24 | 15.01 | 117.13 |  1.79 |  6.74 | 0.29 | 29.54 | 0.95 |  0.74 | 11.48 | ⋯ | 0.85 | 0.20 | 0.05 | 0.60 | 0.33 | 0.81 | 2.52 | 0.44 | 19.19 | 0.49 |\n",
       "| bbf9a30d-3067-491b-9aea-0cb9bed91969.FPKM.txt.gz |  5.53 |  6.98 |  49.68 |  7.74 |  5.70 | 1.00 | 96.04 | 0.93 |  5.51 |  1.39 | ⋯ | 1.07 | 0.54 | 0.08 | 0.70 | 0.43 | 0.27 | 4.53 | 0.74 |  1.74 | 0.21 |\n",
       "| c909a75f-23e8-4c96-82f2-72e46fdb8155.FPKM.txt.gz |  1.62 |  2.16 |  18.36 |  8.97 | 11.71 | 0.33 |  0.20 | 0.15 |  1.02 |  0.30 | ⋯ | 0.56 | 0.43 | 0.15 | 0.31 | 0.12 | 2.03 | 0.59 | 1.05 |  0.18 | 0.87 |\n",
       "| 1c89ff2f-6e0a-4244-952b-1391dba1b815.FPKM.txt.gz |  5.77 |  5.23 |  49.90 | 14.56 | 13.77 | 1.57 |  1.90 | 7.72 |  7.37 |  0.83 | ⋯ | 0.66 | 1.25 | 0.20 | 0.57 | 0.59 | 0.60 | 0.74 | 2.11 |  1.32 | 1.76 |\n",
       "| 2a6ae2e8-733f-4349-8eec-d25e2b4abf86.FPKM.txt.gz |  7.89 |  8.16 |  38.09 |  3.42 |  7.16 | 1.50 |  6.29 | 7.43 | 14.57 |  6.38 | ⋯ | 0.45 | 0.38 | 0.39 | 0.54 | 0.26 | 0.21 | 3.98 | 0.50 |  6.38 | 0.61 |\n",
       "| 0a2c1866-d6e1-4add-bcb0-b297ba1394ac.FPKM.txt.gz | 10.91 |  0.91 |  31.19 |  5.26 |  9.00 | 0.86 | 41.32 | 2.56 |  3.36 |  5.20 | ⋯ | 0.94 | 0.08 | 0.02 | 0.36 | 0.11 | 0.00 | 3.80 | 0.43 |  0.95 | 0.04 |\n",
       "\n"
      ],
      "text/plain": [
       "                                                 ENSG00000000971\n",
       "87fcecde-b317-4518-bea1-cc8d14a18107.FPKM.txt.gz  1.24          \n",
       "bbf9a30d-3067-491b-9aea-0cb9bed91969.FPKM.txt.gz  5.53          \n",
       "c909a75f-23e8-4c96-82f2-72e46fdb8155.FPKM.txt.gz  1.62          \n",
       "1c89ff2f-6e0a-4244-952b-1391dba1b815.FPKM.txt.gz  5.77          \n",
       "2a6ae2e8-733f-4349-8eec-d25e2b4abf86.FPKM.txt.gz  7.89          \n",
       "0a2c1866-d6e1-4add-bcb0-b297ba1394ac.FPKM.txt.gz 10.91          \n",
       "                                                 ENSG00000001561\n",
       "87fcecde-b317-4518-bea1-cc8d14a18107.FPKM.txt.gz 15.01          \n",
       "bbf9a30d-3067-491b-9aea-0cb9bed91969.FPKM.txt.gz  6.98          \n",
       "c909a75f-23e8-4c96-82f2-72e46fdb8155.FPKM.txt.gz  2.16          \n",
       "1c89ff2f-6e0a-4244-952b-1391dba1b815.FPKM.txt.gz  5.23          \n",
       "2a6ae2e8-733f-4349-8eec-d25e2b4abf86.FPKM.txt.gz  8.16          \n",
       "0a2c1866-d6e1-4add-bcb0-b297ba1394ac.FPKM.txt.gz  0.91          \n",
       "                                                 ENSG00000002834\n",
       "87fcecde-b317-4518-bea1-cc8d14a18107.FPKM.txt.gz 117.13         \n",
       "bbf9a30d-3067-491b-9aea-0cb9bed91969.FPKM.txt.gz  49.68         \n",
       "c909a75f-23e8-4c96-82f2-72e46fdb8155.FPKM.txt.gz  18.36         \n",
       "1c89ff2f-6e0a-4244-952b-1391dba1b815.FPKM.txt.gz  49.90         \n",
       "2a6ae2e8-733f-4349-8eec-d25e2b4abf86.FPKM.txt.gz  38.09         \n",
       "0a2c1866-d6e1-4add-bcb0-b297ba1394ac.FPKM.txt.gz  31.19         \n",
       "                                                 ENSG00000002933\n",
       "87fcecde-b317-4518-bea1-cc8d14a18107.FPKM.txt.gz  1.79          \n",
       "bbf9a30d-3067-491b-9aea-0cb9bed91969.FPKM.txt.gz  7.74          \n",
       "c909a75f-23e8-4c96-82f2-72e46fdb8155.FPKM.txt.gz  8.97          \n",
       "1c89ff2f-6e0a-4244-952b-1391dba1b815.FPKM.txt.gz 14.56          \n",
       "2a6ae2e8-733f-4349-8eec-d25e2b4abf86.FPKM.txt.gz  3.42          \n",
       "0a2c1866-d6e1-4add-bcb0-b297ba1394ac.FPKM.txt.gz  5.26          \n",
       "                                                 ENSG00000003249\n",
       "87fcecde-b317-4518-bea1-cc8d14a18107.FPKM.txt.gz  6.74          \n",
       "bbf9a30d-3067-491b-9aea-0cb9bed91969.FPKM.txt.gz  5.70          \n",
       "c909a75f-23e8-4c96-82f2-72e46fdb8155.FPKM.txt.gz 11.71          \n",
       "1c89ff2f-6e0a-4244-952b-1391dba1b815.FPKM.txt.gz 13.77          \n",
       "2a6ae2e8-733f-4349-8eec-d25e2b4abf86.FPKM.txt.gz  7.16          \n",
       "0a2c1866-d6e1-4add-bcb0-b297ba1394ac.FPKM.txt.gz  9.00          \n",
       "                                                 ENSG00000003436\n",
       "87fcecde-b317-4518-bea1-cc8d14a18107.FPKM.txt.gz 0.29           \n",
       "bbf9a30d-3067-491b-9aea-0cb9bed91969.FPKM.txt.gz 1.00           \n",
       "c909a75f-23e8-4c96-82f2-72e46fdb8155.FPKM.txt.gz 0.33           \n",
       "1c89ff2f-6e0a-4244-952b-1391dba1b815.FPKM.txt.gz 1.57           \n",
       "2a6ae2e8-733f-4349-8eec-d25e2b4abf86.FPKM.txt.gz 1.50           \n",
       "0a2c1866-d6e1-4add-bcb0-b297ba1394ac.FPKM.txt.gz 0.86           \n",
       "                                                 ENSG00000003989\n",
       "87fcecde-b317-4518-bea1-cc8d14a18107.FPKM.txt.gz 29.54          \n",
       "bbf9a30d-3067-491b-9aea-0cb9bed91969.FPKM.txt.gz 96.04          \n",
       "c909a75f-23e8-4c96-82f2-72e46fdb8155.FPKM.txt.gz  0.20          \n",
       "1c89ff2f-6e0a-4244-952b-1391dba1b815.FPKM.txt.gz  1.90          \n",
       "2a6ae2e8-733f-4349-8eec-d25e2b4abf86.FPKM.txt.gz  6.29          \n",
       "0a2c1866-d6e1-4add-bcb0-b297ba1394ac.FPKM.txt.gz 41.32          \n",
       "                                                 ENSG00000004776\n",
       "87fcecde-b317-4518-bea1-cc8d14a18107.FPKM.txt.gz 0.95           \n",
       "bbf9a30d-3067-491b-9aea-0cb9bed91969.FPKM.txt.gz 0.93           \n",
       "c909a75f-23e8-4c96-82f2-72e46fdb8155.FPKM.txt.gz 0.15           \n",
       "1c89ff2f-6e0a-4244-952b-1391dba1b815.FPKM.txt.gz 7.72           \n",
       "2a6ae2e8-733f-4349-8eec-d25e2b4abf86.FPKM.txt.gz 7.43           \n",
       "0a2c1866-d6e1-4add-bcb0-b297ba1394ac.FPKM.txt.gz 2.56           \n",
       "                                                 ENSG00000004799\n",
       "87fcecde-b317-4518-bea1-cc8d14a18107.FPKM.txt.gz  0.74          \n",
       "bbf9a30d-3067-491b-9aea-0cb9bed91969.FPKM.txt.gz  5.51          \n",
       "c909a75f-23e8-4c96-82f2-72e46fdb8155.FPKM.txt.gz  1.02          \n",
       "1c89ff2f-6e0a-4244-952b-1391dba1b815.FPKM.txt.gz  7.37          \n",
       "2a6ae2e8-733f-4349-8eec-d25e2b4abf86.FPKM.txt.gz 14.57          \n",
       "0a2c1866-d6e1-4add-bcb0-b297ba1394ac.FPKM.txt.gz  3.36          \n",
       "                                                 ENSG00000004838 ⋯\n",
       "87fcecde-b317-4518-bea1-cc8d14a18107.FPKM.txt.gz 11.48           ⋯\n",
       "bbf9a30d-3067-491b-9aea-0cb9bed91969.FPKM.txt.gz  1.39           ⋯\n",
       "c909a75f-23e8-4c96-82f2-72e46fdb8155.FPKM.txt.gz  0.30           ⋯\n",
       "1c89ff2f-6e0a-4244-952b-1391dba1b815.FPKM.txt.gz  0.83           ⋯\n",
       "2a6ae2e8-733f-4349-8eec-d25e2b4abf86.FPKM.txt.gz  6.38           ⋯\n",
       "0a2c1866-d6e1-4add-bcb0-b297ba1394ac.FPKM.txt.gz  5.20           ⋯\n",
       "                                                 ENSG00000273237\n",
       "87fcecde-b317-4518-bea1-cc8d14a18107.FPKM.txt.gz 0.85           \n",
       "bbf9a30d-3067-491b-9aea-0cb9bed91969.FPKM.txt.gz 1.07           \n",
       "c909a75f-23e8-4c96-82f2-72e46fdb8155.FPKM.txt.gz 0.56           \n",
       "1c89ff2f-6e0a-4244-952b-1391dba1b815.FPKM.txt.gz 0.66           \n",
       "2a6ae2e8-733f-4349-8eec-d25e2b4abf86.FPKM.txt.gz 0.45           \n",
       "0a2c1866-d6e1-4add-bcb0-b297ba1394ac.FPKM.txt.gz 0.94           \n",
       "                                                 ENSG00000273243\n",
       "87fcecde-b317-4518-bea1-cc8d14a18107.FPKM.txt.gz 0.20           \n",
       "bbf9a30d-3067-491b-9aea-0cb9bed91969.FPKM.txt.gz 0.54           \n",
       "c909a75f-23e8-4c96-82f2-72e46fdb8155.FPKM.txt.gz 0.43           \n",
       "1c89ff2f-6e0a-4244-952b-1391dba1b815.FPKM.txt.gz 1.25           \n",
       "2a6ae2e8-733f-4349-8eec-d25e2b4abf86.FPKM.txt.gz 0.38           \n",
       "0a2c1866-d6e1-4add-bcb0-b297ba1394ac.FPKM.txt.gz 0.08           \n",
       "                                                 ENSG00000273245\n",
       "87fcecde-b317-4518-bea1-cc8d14a18107.FPKM.txt.gz 0.05           \n",
       "bbf9a30d-3067-491b-9aea-0cb9bed91969.FPKM.txt.gz 0.08           \n",
       "c909a75f-23e8-4c96-82f2-72e46fdb8155.FPKM.txt.gz 0.15           \n",
       "1c89ff2f-6e0a-4244-952b-1391dba1b815.FPKM.txt.gz 0.20           \n",
       "2a6ae2e8-733f-4349-8eec-d25e2b4abf86.FPKM.txt.gz 0.39           \n",
       "0a2c1866-d6e1-4add-bcb0-b297ba1394ac.FPKM.txt.gz 0.02           \n",
       "                                                 ENSG00000273284\n",
       "87fcecde-b317-4518-bea1-cc8d14a18107.FPKM.txt.gz 0.60           \n",
       "bbf9a30d-3067-491b-9aea-0cb9bed91969.FPKM.txt.gz 0.70           \n",
       "c909a75f-23e8-4c96-82f2-72e46fdb8155.FPKM.txt.gz 0.31           \n",
       "1c89ff2f-6e0a-4244-952b-1391dba1b815.FPKM.txt.gz 0.57           \n",
       "2a6ae2e8-733f-4349-8eec-d25e2b4abf86.FPKM.txt.gz 0.54           \n",
       "0a2c1866-d6e1-4add-bcb0-b297ba1394ac.FPKM.txt.gz 0.36           \n",
       "                                                 ENSG00000273302\n",
       "87fcecde-b317-4518-bea1-cc8d14a18107.FPKM.txt.gz 0.33           \n",
       "bbf9a30d-3067-491b-9aea-0cb9bed91969.FPKM.txt.gz 0.43           \n",
       "c909a75f-23e8-4c96-82f2-72e46fdb8155.FPKM.txt.gz 0.12           \n",
       "1c89ff2f-6e0a-4244-952b-1391dba1b815.FPKM.txt.gz 0.59           \n",
       "2a6ae2e8-733f-4349-8eec-d25e2b4abf86.FPKM.txt.gz 0.26           \n",
       "0a2c1866-d6e1-4add-bcb0-b297ba1394ac.FPKM.txt.gz 0.11           \n",
       "                                                 ENSG00000273338\n",
       "87fcecde-b317-4518-bea1-cc8d14a18107.FPKM.txt.gz 0.81           \n",
       "bbf9a30d-3067-491b-9aea-0cb9bed91969.FPKM.txt.gz 0.27           \n",
       "c909a75f-23e8-4c96-82f2-72e46fdb8155.FPKM.txt.gz 2.03           \n",
       "1c89ff2f-6e0a-4244-952b-1391dba1b815.FPKM.txt.gz 0.60           \n",
       "2a6ae2e8-733f-4349-8eec-d25e2b4abf86.FPKM.txt.gz 0.21           \n",
       "0a2c1866-d6e1-4add-bcb0-b297ba1394ac.FPKM.txt.gz 0.00           \n",
       "                                                 ENSG00000273350\n",
       "87fcecde-b317-4518-bea1-cc8d14a18107.FPKM.txt.gz 2.52           \n",
       "bbf9a30d-3067-491b-9aea-0cb9bed91969.FPKM.txt.gz 4.53           \n",
       "c909a75f-23e8-4c96-82f2-72e46fdb8155.FPKM.txt.gz 0.59           \n",
       "1c89ff2f-6e0a-4244-952b-1391dba1b815.FPKM.txt.gz 0.74           \n",
       "2a6ae2e8-733f-4349-8eec-d25e2b4abf86.FPKM.txt.gz 3.98           \n",
       "0a2c1866-d6e1-4add-bcb0-b297ba1394ac.FPKM.txt.gz 3.80           \n",
       "                                                 ENSG00000273449\n",
       "87fcecde-b317-4518-bea1-cc8d14a18107.FPKM.txt.gz 0.44           \n",
       "bbf9a30d-3067-491b-9aea-0cb9bed91969.FPKM.txt.gz 0.74           \n",
       "c909a75f-23e8-4c96-82f2-72e46fdb8155.FPKM.txt.gz 1.05           \n",
       "1c89ff2f-6e0a-4244-952b-1391dba1b815.FPKM.txt.gz 2.11           \n",
       "2a6ae2e8-733f-4349-8eec-d25e2b4abf86.FPKM.txt.gz 0.50           \n",
       "0a2c1866-d6e1-4add-bcb0-b297ba1394ac.FPKM.txt.gz 0.43           \n",
       "                                                 ENSG00000273472\n",
       "87fcecde-b317-4518-bea1-cc8d14a18107.FPKM.txt.gz 19.19          \n",
       "bbf9a30d-3067-491b-9aea-0cb9bed91969.FPKM.txt.gz  1.74          \n",
       "c909a75f-23e8-4c96-82f2-72e46fdb8155.FPKM.txt.gz  0.18          \n",
       "1c89ff2f-6e0a-4244-952b-1391dba1b815.FPKM.txt.gz  1.32          \n",
       "2a6ae2e8-733f-4349-8eec-d25e2b4abf86.FPKM.txt.gz  6.38          \n",
       "0a2c1866-d6e1-4add-bcb0-b297ba1394ac.FPKM.txt.gz  0.95          \n",
       "                                                 ENSG00000273474\n",
       "87fcecde-b317-4518-bea1-cc8d14a18107.FPKM.txt.gz 0.49           \n",
       "bbf9a30d-3067-491b-9aea-0cb9bed91969.FPKM.txt.gz 0.21           \n",
       "c909a75f-23e8-4c96-82f2-72e46fdb8155.FPKM.txt.gz 0.87           \n",
       "1c89ff2f-6e0a-4244-952b-1391dba1b815.FPKM.txt.gz 1.76           \n",
       "2a6ae2e8-733f-4349-8eec-d25e2b4abf86.FPKM.txt.gz 0.61           \n",
       "0a2c1866-d6e1-4add-bcb0-b297ba1394ac.FPKM.txt.gz 0.04           "
      ]
     },
     "metadata": {},
     "output_type": "display_data"
    }
   ],
   "source": [
    "head(datExpr)"
   ]
  },
  {
   "cell_type": "code",
   "execution_count": 38,
   "metadata": {},
   "outputs": [
    {
     "data": {
      "text/html": [
       "<table>\n",
       "<caption>A data.frame: 6 × 2</caption>\n",
       "<thead>\n",
       "\t<tr><th></th><th scope=col>Subtype_Selected</th><th scope=col>Subtype_Selected_Lum</th></tr>\n",
       "\t<tr><th></th><th scope=col>&lt;chr&gt;</th><th scope=col>&lt;chr&gt;</th></tr>\n",
       "</thead>\n",
       "<tbody>\n",
       "\t<tr><th scope=row>87fcecde-b317-4518-bea1-cc8d14a18107.FPKM.txt.gz</th><td>BRCA.LumB  </td><td>BRCA.Lum   </td></tr>\n",
       "\t<tr><th scope=row>bbf9a30d-3067-491b-9aea-0cb9bed91969.FPKM.txt.gz</th><td>BRCA.LumA  </td><td>BRCA.Lum   </td></tr>\n",
       "\t<tr><th scope=row>c909a75f-23e8-4c96-82f2-72e46fdb8155.FPKM.txt.gz</th><td>BRCA.Basal </td><td>BRCA.Basal </td></tr>\n",
       "\t<tr><th scope=row>1c89ff2f-6e0a-4244-952b-1391dba1b815.FPKM.txt.gz</th><td>BRCA.Normal</td><td>BRCA.Normal</td></tr>\n",
       "\t<tr><th scope=row>2a6ae2e8-733f-4349-8eec-d25e2b4abf86.FPKM.txt.gz</th><td>BRCA.LumA  </td><td>BRCA.Lum   </td></tr>\n",
       "\t<tr><th scope=row>0a2c1866-d6e1-4add-bcb0-b297ba1394ac.FPKM.txt.gz</th><td>BRCA.LumB  </td><td>BRCA.Lum   </td></tr>\n",
       "</tbody>\n",
       "</table>\n"
      ],
      "text/latex": [
       "A data.frame: 6 × 2\n",
       "\\begin{tabular}{r|ll}\n",
       "  & Subtype\\_Selected & Subtype\\_Selected\\_Lum\\\\\n",
       "  & <chr> & <chr>\\\\\n",
       "\\hline\n",
       "\t87fcecde-b317-4518-bea1-cc8d14a18107.FPKM.txt.gz & BRCA.LumB   & BRCA.Lum   \\\\\n",
       "\tbbf9a30d-3067-491b-9aea-0cb9bed91969.FPKM.txt.gz & BRCA.LumA   & BRCA.Lum   \\\\\n",
       "\tc909a75f-23e8-4c96-82f2-72e46fdb8155.FPKM.txt.gz & BRCA.Basal  & BRCA.Basal \\\\\n",
       "\t1c89ff2f-6e0a-4244-952b-1391dba1b815.FPKM.txt.gz & BRCA.Normal & BRCA.Normal\\\\\n",
       "\t2a6ae2e8-733f-4349-8eec-d25e2b4abf86.FPKM.txt.gz & BRCA.LumA   & BRCA.Lum   \\\\\n",
       "\t0a2c1866-d6e1-4add-bcb0-b297ba1394ac.FPKM.txt.gz & BRCA.LumB   & BRCA.Lum   \\\\\n",
       "\\end{tabular}\n"
      ],
      "text/markdown": [
       "\n",
       "A data.frame: 6 × 2\n",
       "\n",
       "| <!--/--> | Subtype_Selected &lt;chr&gt; | Subtype_Selected_Lum &lt;chr&gt; |\n",
       "|---|---|---|\n",
       "| 87fcecde-b317-4518-bea1-cc8d14a18107.FPKM.txt.gz | BRCA.LumB   | BRCA.Lum    |\n",
       "| bbf9a30d-3067-491b-9aea-0cb9bed91969.FPKM.txt.gz | BRCA.LumA   | BRCA.Lum    |\n",
       "| c909a75f-23e8-4c96-82f2-72e46fdb8155.FPKM.txt.gz | BRCA.Basal  | BRCA.Basal  |\n",
       "| 1c89ff2f-6e0a-4244-952b-1391dba1b815.FPKM.txt.gz | BRCA.Normal | BRCA.Normal |\n",
       "| 2a6ae2e8-733f-4349-8eec-d25e2b4abf86.FPKM.txt.gz | BRCA.LumA   | BRCA.Lum    |\n",
       "| 0a2c1866-d6e1-4add-bcb0-b297ba1394ac.FPKM.txt.gz | BRCA.LumB   | BRCA.Lum    |\n",
       "\n"
      ],
      "text/plain": [
       "                                                 Subtype_Selected\n",
       "87fcecde-b317-4518-bea1-cc8d14a18107.FPKM.txt.gz BRCA.LumB       \n",
       "bbf9a30d-3067-491b-9aea-0cb9bed91969.FPKM.txt.gz BRCA.LumA       \n",
       "c909a75f-23e8-4c96-82f2-72e46fdb8155.FPKM.txt.gz BRCA.Basal      \n",
       "1c89ff2f-6e0a-4244-952b-1391dba1b815.FPKM.txt.gz BRCA.Normal     \n",
       "2a6ae2e8-733f-4349-8eec-d25e2b4abf86.FPKM.txt.gz BRCA.LumA       \n",
       "0a2c1866-d6e1-4add-bcb0-b297ba1394ac.FPKM.txt.gz BRCA.LumB       \n",
       "                                                 Subtype_Selected_Lum\n",
       "87fcecde-b317-4518-bea1-cc8d14a18107.FPKM.txt.gz BRCA.Lum            \n",
       "bbf9a30d-3067-491b-9aea-0cb9bed91969.FPKM.txt.gz BRCA.Lum            \n",
       "c909a75f-23e8-4c96-82f2-72e46fdb8155.FPKM.txt.gz BRCA.Basal          \n",
       "1c89ff2f-6e0a-4244-952b-1391dba1b815.FPKM.txt.gz BRCA.Normal         \n",
       "2a6ae2e8-733f-4349-8eec-d25e2b4abf86.FPKM.txt.gz BRCA.Lum            \n",
       "0a2c1866-d6e1-4add-bcb0-b297ba1394ac.FPKM.txt.gz BRCA.Lum            "
      ]
     },
     "metadata": {},
     "output_type": "display_data"
    }
   ],
   "source": [
    "rownames(allTraits) <- allTraits$file_name\n",
    "datTraits <- allTraits[keepSamples,labels]\n",
    "rownames(datTraits) <- rownames(allTraits[keepSamples,labels])\n",
    "datTraits <- datTraits[rownames(datExpr),]\n",
    "head(datTraits)"
   ]
  },
  {
   "cell_type": "code",
   "execution_count": 39,
   "metadata": {},
   "outputs": [],
   "source": [
    "collectGarbage();"
   ]
  },
  {
   "cell_type": "code",
   "execution_count": 40,
   "metadata": {},
   "outputs": [
    {
     "data": {
      "text/html": [
       "<strong>png:</strong> 2"
      ],
      "text/latex": [
       "\\textbf{png:} 2"
      ],
      "text/markdown": [
       "**png:** 2"
      ],
      "text/plain": [
       "png \n",
       "  2 "
      ]
     },
     "metadata": {},
     "output_type": "display_data"
    }
   ],
   "source": [
    "# Re-cluster samples\n",
    "sampleTree2 = hclust(dist(datExpr), method = \"average\")\n",
    "fontsize=.5\n",
    "# Convert traits to a color representation: white means low, red means high, grey means missing entry\n",
    "traitColors = labels2colors(datTraits);\n",
    "# Plot the sample dendrogram and the colors underneath.\n",
    "pdf(\"samplehiercut.pdf\")\n",
    "plotDendroAndColors(sampleTree2, traitColors,\n",
    "    groupLabels = labels,\n",
    "    main = \"Sample dendrogram and trait heatmap\",\n",
    "    dendroLabels=FALSE,\n",
    "    rowText=datTraits,\n",
    "    rowTextIgnore=labels[[2]]\n",
    "    )\n",
    "dev.off()"
   ]
  },
  {
   "cell_type": "markdown",
   "metadata": {},
   "source": [
    "## 2"
   ]
  },
  {
   "cell_type": "code",
   "execution_count": 41,
   "metadata": {},
   "outputs": [
    {
     "name": "stdout",
     "output_type": "stream",
     "text": [
      "pickSoftThreshold: will use block size 3000.\n",
      " pickSoftThreshold: calculating connectivity for given powers...\n",
      "   ..working on genes 1 through 3000 of 3000\n"
     ]
    },
    {
     "name": "stderr",
     "output_type": "stream",
     "text": [
      "Warning message:\n",
      "“executing %dopar% sequentially: no parallel backend registered”\n"
     ]
    },
    {
     "name": "stdout",
     "output_type": "stream",
     "text": [
      "   Power SFT.R.sq  slope truncated.R.sq mean.k. median.k. max.k.\n",
      "1      1   0.0953 -0.693         0.6750 253.000  2.43e+02  538.0\n",
      "2      2   0.9030 -1.160         0.8780  64.500  4.15e+01  276.0\n",
      "3      3   0.9070 -1.150         0.8960  31.700  1.05e+01  218.0\n",
      "4      4   0.9380 -1.050         0.9310  20.700  3.47e+00  182.0\n",
      "5      5   0.9120 -1.020         0.8870  15.300  1.47e+00  156.0\n",
      "6      6   0.9250 -1.000         0.9070  11.900  7.08e-01  135.0\n",
      "7      7   0.9200 -0.988         0.9000   9.620  3.54e-01  118.0\n",
      "8      8   0.9070 -0.990         0.8870   7.970  1.93e-01  104.0\n",
      "9      9   0.8900 -0.996         0.8650   6.720  1.12e-01   92.1\n",
      "10    10   0.8800 -0.992         0.8520   5.760  6.47e-02   82.1\n",
      "11    12   0.8860 -0.964         0.8530   4.390  2.41e-02   66.0\n",
      "12    14   0.9240 -0.949         0.9080   3.470  8.64e-03   56.8\n",
      "13    16   0.8730 -1.040         0.8360   2.840  3.41e-03   55.2\n",
      "14    18   0.8000 -1.130         0.7490   2.380  1.31e-03   53.8\n",
      "15    20   0.8350 -1.140         0.7910   2.050  5.54e-04   52.5\n",
      "16    22   0.8310 -1.170         0.7820   1.790  2.33e-04   51.4\n",
      "17    24   0.7880 -1.200         0.7290   1.590  9.40e-05   50.4\n",
      "18    26   0.7770 -1.230         0.7230   1.430  3.92e-05   49.5\n",
      "19    28   0.7910 -1.200         0.7600   1.310  1.61e-05   48.7\n",
      "20    30   0.7740 -1.210         0.7470   1.200  6.73e-06   47.9\n",
      "21    32   0.7410 -1.210         0.7250   1.120  2.92e-06   47.2\n",
      "22    34   0.7380 -1.210         0.7270   1.040  1.26e-06   46.5\n",
      "23    36   0.7260 -1.190         0.7350   0.983  5.45e-07   45.9\n",
      "24    38   0.6920 -1.190         0.7300   0.931  2.22e-07   45.3\n",
      "25    40   0.2400 -1.540         0.0388   0.886  9.19e-08   44.7\n",
      "26    42   0.2410 -1.520         0.0402   0.846  3.99e-08   44.2\n",
      "27    44   0.7520 -1.130         0.8120   0.811  1.67e-08   43.7\n",
      "28    46   0.7350 -1.120         0.8000   0.781  6.99e-09   43.2\n",
      "29    48   0.7360 -1.100         0.8070   0.753  2.99e-09   42.8\n",
      "30    50   0.7230 -1.090         0.8130   0.729  1.27e-09   42.3\n"
     ]
    },
    {
     "data": {
      "text/html": [
       "<strong>png:</strong> 2"
      ],
      "text/latex": [
       "\\textbf{png:} 2"
      ],
      "text/markdown": [
       "**png:** 2"
      ],
      "text/plain": [
       "png \n",
       "  2 "
      ]
     },
     "metadata": {},
     "output_type": "display_data"
    }
   ],
   "source": [
    "# Choose a set of soft-thresholding powers\n",
    "powers = c(c(1:10), seq(from = 12, to=50, by=2))\n",
    "# Call the network topology analysis function\n",
    "sft = pickSoftThreshold(datExpr, powerVector = powers, verbose = 5)\n",
    "# Plot the results:\n",
    "sizeGrWindow(9, 5)\n",
    "pdf(\"scaletopology.pdf\")\n",
    "par(mfrow = c(1,2));\n",
    "cex1 = 0.9;\n",
    "# Scale-free topology fit index as a function of the soft-thresholding power\n",
    "plot(sft$fitIndices[,1], -sign(sft$fitIndices[,3])*sft$fitIndices[,2],\n",
    "xlab=\"Soft Threshold (power)\",ylab=\"Scale Free Topology Model Fit,signed R^2\",type=\"n\",\n",
    "main = paste(\"Scale independence\"));\n",
    "text(sft$fitIndices[,1], -sign(sft$fitIndices[,3])*sft$fitIndices[,2],\n",
    "labels=powers,cex=cex1,col=\"red\");\n",
    "# this line corresponds to using an R^2 cut-off of h\n",
    "abline(h=0.90,col=\"red\")\n",
    "# Mean connectivity as a function of the soft-thresholding power\n",
    "plot(sft$fitIndices[,1], sft$fitIndices[,5],\n",
    "xlab=\"Soft Threshold (power)\",ylab=\"Mean Connectivity\", type=\"n\",\n",
    "main = paste(\"Mean connectivity\"))\n",
    "text(sft$fitIndices[,1], sft$fitIndices[,5], labels=powers, cex=cex1,col=\"red\")\n",
    "dev.off()"
   ]
  },
  {
   "cell_type": "code",
   "execution_count": 42,
   "metadata": {},
   "outputs": [
    {
     "name": "stdout",
     "output_type": "stream",
     "text": [
      " Calculating module eigengenes block-wise from all genes\n",
      "   Flagging genes and samples with too many missing values...\n",
      "    ..step 1\n",
      " ..Working on block 1 .\n",
      "    TOM calculation: adjacency..\n",
      "    ..will not use multithreading.\n",
      "     Fraction of slow calculations: 0.000000\n",
      "    ..connectivity..\n",
      "    ..matrix multiplication (system BLAS)..\n",
      "    ..normalization..\n",
      "    ..done.\n",
      "   ..saving TOM for block 1 into file wgcna-block.1.RData\n",
      " ....clustering..\n",
      " ....detecting modules..\n",
      " ....calculating module eigengenes..\n",
      " ....checking kME in modules..\n",
      "     ..removing 1 genes from module 1 because their KME is too low.\n",
      " ..merging modules that are too close..\n",
      "     mergeCloseModules: Merging modules whose distance is less than 0.8\n",
      "       Calculating new MEs...\n"
     ]
    }
   ],
   "source": [
    "net = blockwiseModules(datExpr, power = 10,\n",
    "TOMType = \"unsigned\", minModuleSize = 10,\n",
    "reassignThreshold = 0, mergeCutHeight = 0.8,\n",
    "numericLabels = TRUE, pamRespectsDendro = FALSE,\n",
    "saveTOMs = TRUE,\n",
    "saveTOMFileBase = \"wgcna\",\n",
    "verbose = 3)"
   ]
  },
  {
   "cell_type": "code",
   "execution_count": 43,
   "metadata": {},
   "outputs": [
    {
     "data": {
      "text/html": [
       "<strong>png:</strong> 2"
      ],
      "text/latex": [
       "\\textbf{png:} 2"
      ],
      "text/markdown": [
       "**png:** 2"
      ],
      "text/plain": [
       "png \n",
       "  2 "
      ]
     },
     "metadata": {},
     "output_type": "display_data"
    }
   ],
   "source": [
    "# open a graphics window\n",
    "sizeGrWindow(12, 9)\n",
    "pdf(\"netdendograms.pdf\")\n",
    "# Convert labels to colors for plotting\n",
    "mergedColors = labels2colors(net$colors)\n",
    "# Plot the dendrogram and the module colors underneath\n",
    "plotDendroAndColors(net$dendrograms[[1]], mergedColors[net$blockGenes[[1]]],\n",
    "\"Module colors\",\n",
    "dendroLabels = FALSE, hang = 0.03,\n",
    "addGuide = TRUE, guideHang = 0.05)\n",
    "dev.off()"
   ]
  },
  {
   "cell_type": "code",
   "execution_count": 44,
   "metadata": {},
   "outputs": [],
   "source": [
    "moduleLabels = net$colors\n",
    "moduleColors = labels2colors(net$colors)\n",
    "MEs = net$MEs;\n",
    "geneTree = net$dendrograms[[1]];"
   ]
  },
  {
   "cell_type": "markdown",
   "metadata": {},
   "source": [
    "## 3"
   ]
  },
  {
   "cell_type": "code",
   "execution_count": null,
   "metadata": {},
   "outputs": [],
   "source": [
    "datTraits$cases.0.project.primary_site <- match(datTraits$cases.0.project.primary_site, unique(datTraits$cases.0.project.primary_site))\n",
    "datTraits$cases.0.project.disease_type <- match(datTraits$cases.0.project.disease_type, unique(datTraits$cases.0.project.disease_type))"
   ]
  },
  {
   "cell_type": "code",
   "execution_count": 145,
   "metadata": {},
   "outputs": [],
   "source": [
    "datTraits$SMTS <- match(datTraits$SMTS, unique(datTraits$SMTS))\n",
    "datTraits$SMTSD <- match(datTraits$SMTSD, unique(datTraits$SMTSD))"
   ]
  },
  {
   "cell_type": "code",
   "execution_count": 45,
   "metadata": {},
   "outputs": [],
   "source": [
    "datTraits$Subtype_Selected <- match(datTraits$Subtype_Selected, unique(datTraits$Subtype_Selected))"
   ]
  },
  {
   "cell_type": "code",
   "execution_count": 46,
   "metadata": {},
   "outputs": [
    {
     "name": "stderr",
     "output_type": "stream",
     "text": [
      "Warning message in storage.mode(y) <- \"double\":\n",
      "“NAs introduced by coercion”\n"
     ]
    }
   ],
   "source": [
    "# Define numbers of genes and samples\n",
    "nGenes = ncol(datExpr);\n",
    "nSamples = nrow(datExpr);\n",
    "# Recalculate MEs with color labels\n",
    "MEs0 = moduleEigengenes(datExpr, moduleColors)$eigengenes\n",
    "MEs = orderMEs(MEs0)\n",
    "moduleTraitCor = cor(MEs, datTraits, use = \"p\");\n",
    "moduleTraitPvalue = corPvalueStudent(moduleTraitCor, nSamples);"
   ]
  },
  {
   "cell_type": "code",
   "execution_count": 47,
   "metadata": {},
   "outputs": [
    {
     "data": {
      "text/html": [
       "<strong>png:</strong> 2"
      ],
      "text/latex": [
       "\\textbf{png:} 2"
      ],
      "text/markdown": [
       "**png:** 2"
      ],
      "text/plain": [
       "png \n",
       "  2 "
      ]
     },
     "metadata": {},
     "output_type": "display_data"
    }
   ],
   "source": [
    "pdf(\"moduleTrait.pdf\", width=9, height=18)\n",
    "# Will display correlations and their p-values\n",
    "textMatrix = paste(signif(moduleTraitCor, 2), \"\\n(\",\n",
    "signif(moduleTraitPvalue, 1), \")\", sep = \"\");\n",
    "dim(textMatrix) = dim(moduleTraitCor)\n",
    "par(mar = c(6, 8.5, 3, 3));\n",
    "# Display the correlation values within a heatmap plot\n",
    "labeledHeatmap(Matrix = moduleTraitCor,\n",
    "xLabels = labels,\n",
    "yLabels = names(MEs),\n",
    "ySymbols = names(MEs),\n",
    "colorLabels = FALSE,\n",
    "colors = blueWhiteRed(50),\n",
    "textMatrix = textMatrix,\n",
    "setStdMargins = FALSE,\n",
    "cex.text = 0.5,\n",
    "zlim = c(-1,1),\n",
    "main = paste(\"Module-trait relationships\"))\n",
    "dev.off()"
   ]
  },
  {
   "cell_type": "code",
   "execution_count": 50,
   "metadata": {},
   "outputs": [
    {
     "name": "stderr",
     "output_type": "stream",
     "text": [
      "Warning message in storage.mode(y) <- \"double\":\n",
      "“NAs introduced by coercion”\n"
     ]
    }
   ],
   "source": [
    "# Define variable weight containing the weight column of datTrait\n",
    "weight = as.data.frame(rownames(datTraits));\n",
    "names(weight) = \"weight\"\n",
    "# names (colors) of the modules\n",
    "modNames = substring(names(MEs), 3)\n",
    "geneModuleMembership = as.data.frame(cor(datExpr, MEs, use = \"p\"));\n",
    "MMPvalue = as.data.frame(corPvalueStudent(as.matrix(geneModuleMembership), nSamples));\n",
    "names(geneModuleMembership) = paste(\"MM\", modNames, sep=\"\");\n",
    "names(MMPvalue) = paste(\"p.MM\", modNames, sep=\"\");\n",
    "geneTraitSignificance = as.data.frame(cor(datExpr, weight, use = \"p\"));\n",
    "GSPvalue = as.data.frame(corPvalueStudent(as.matrix(geneTraitSignificance), nSamples));\n",
    "names(geneTraitSignificance) = paste(\"GS.\", names(weight), sep=\"\");\n",
    "names(GSPvalue) = paste(\"p.GS.\", names(weight), sep=\"\");"
   ]
  },
  {
   "cell_type": "code",
   "execution_count": 51,
   "metadata": {},
   "outputs": [
    {
     "name": "stderr",
     "output_type": "stream",
     "text": [
      "Warning message in sqrt(nSamples - 2):\n",
      "“NaNs produced”\n",
      "Warning message in min(x):\n",
      "“no non-missing arguments to min; returning Inf”\n",
      "Warning message in max(x):\n",
      "“no non-missing arguments to max; returning -Inf”\n"
     ]
    },
    {
     "ename": "ERROR",
     "evalue": "Error in plot.window(...): need finite 'ylim' values\n",
     "output_type": "error",
     "traceback": [
      "Error in plot.window(...): need finite 'ylim' values\nTraceback:\n",
      "1. verboseScatterplot(abs(geneModuleMembership[moduleGenes, column]), \n .     abs(geneTraitSignificance[moduleGenes, 1]), xlab = paste(\"Module Membership in\", \n .         module, \"module\"), ylab = \"Gene significance for primary_site\", \n .     main = paste(\"Module membership vs. gene significance\\n\"), \n .     cex.main = 1.2, cex.lab = 1.2, cex.axis = 1.2, col = module)",
      "2. plot(x[order1], y[order1], main = mainX, xlab = xlab, ylab = ylab, \n .     cex.axis = cex.axis, cex.lab = cex.lab, cex.main = cex.main, \n .     col = col[order1], bg = bg[order1], pch = pch[order1], cex = cex[order1], \n .     ...)",
      "3. plot.default(x[order1], y[order1], main = mainX, xlab = xlab, \n .     ylab = ylab, cex.axis = cex.axis, cex.lab = cex.lab, cex.main = cex.main, \n .     col = col[order1], bg = bg[order1], pch = pch[order1], cex = cex[order1], \n .     ...)",
      "4. localWindow(xlim, ylim, log, asp, ...)",
      "5. plot.window(...)"
     ]
    }
   ],
   "source": [
    "module = \"red\"\n",
    "column = match(module, modNames);\n",
    "moduleGenes = moduleColors==module;\n",
    "sizeGrWindow(7, 7);\n",
    "pdf(\"modulemembership.pdf\")\n",
    "par(mfrow = c(1,1));\n",
    "verboseScatterplot(abs(geneModuleMembership[moduleGenes, column]),\n",
    "    abs(geneTraitSignificance[moduleGenes, 1]),\n",
    "    xlab = paste(\"Module Membership in\", module, \"module\"),\n",
    "    ylab = \"Gene significance for primary_site\",\n",
    "    main = paste(\"Module membership vs. gene significance\\n\"),\n",
    "    cex.main = 1.2, cex.lab = 1.2, cex.axis = 1.2, col = module)\n",
    "dev.off()"
   ]
  },
  {
   "cell_type": "code",
   "execution_count": 150,
   "metadata": {},
   "outputs": [],
   "source": [
    "# Create the starting data frame\n",
    "geneInfo0 = data.frame(\n",
    "moduleColor = moduleColors,\n",
    "geneTraitSignificance,\n",
    "GSPvalue)\n",
    "# Order modules by their significance for weight\n",
    "modOrder = order(-abs(cor(MEs, weight, use = \"p\")));\n",
    "# Add module membership information in the chosen order\n",
    "for (mod in 1:ncol(geneModuleMembership))\n",
    "{\n",
    "oldNames = names(geneInfo0)\n",
    "geneInfo0 = data.frame(geneInfo0, geneModuleMembership[, modOrder[mod]],\n",
    "MMPvalue[, modOrder[mod]]);\n",
    "names(geneInfo0) = c(oldNames, paste(\"MM.\", modNames[modOrder[mod]], sep=\"\"),\n",
    "paste(\"p.MM.\", modNames[modOrder[mod]], sep=\"\"))\n",
    "}\n",
    "# Order the genes in the geneInfo variable first by module color, then by geneTraitSignificance\n",
    "geneOrder = order(geneInfo0$moduleColor, -abs(geneInfo0$GS.weight));\n",
    "geneInfo = geneInfo0[geneOrder, ]\n",
    "write.csv(geneInfo, file = \"geneInfo.csv\")"
   ]
  },
  {
   "cell_type": "code",
   "execution_count": null,
   "metadata": {},
   "outputs": [],
   "source": [
    "# Read in the probe annotation\n",
    "annot = read.csv(file = \"geneInfo.csv\");\n",
    "# Match probes in the data set to the probe IDs in the annotation file\n",
    "probes = names(datExpr)\n",
    "allLLIDs = probes\n",
    "# $ Choose interesting modules\n",
    "intModules = c(\"greenyellow\", \"darkorange\", \"darkgreen\")\n",
    "for (module in intModules)\n",
    "{\n",
    "# Select module probes\n",
    "modGenes = (moduleColors==module)\n",
    "# Get their entrez ID codes\n",
    "modLLIDs = probes[modGenes];\n",
    "# Write them into a file\n",
    "fileName = paste(\"LocusLinkIDs-\", module, \".txt\", sep=\"\");\n",
    "write.table(as.data.frame(modLLIDs), file = fileName,\n",
    "row.names = FALSE, col.names = FALSE, quote=FALSE)\n",
    "}\n",
    "# As background in the enrichment analysis, we will use all probes in the analysis.\n",
    "fileName = paste(\"LocusLinkIDs-all.txt\", sep=\"\");\n",
    "write.table(as.data.frame(allLLIDs), file = fileName,\n",
    "row.names = FALSE, col.names = FALSE, quote=FALSE)"
   ]
  },
  {
   "cell_type": "code",
   "execution_count": null,
   "metadata": {},
   "outputs": [],
   "source": [
    "require(\"biomaRt\")\n",
    "mart <- useMart(\"ENSEMBL_MART_ENSEMBL\")\n",
    "mart <- useDataset(\"hsapiens_gene_ensembl\", mart)\n",
    "\n",
    "ens <- allLLIDs\n",
    "ensLookup <- gsub(\"\\\\.[0-9]*$\", \"\", ens)\n",
    "\n",
    "annotLookup <- getBM(\n",
    "  mart=mart,\n",
    "  attributes=c(\"ensembl_transcript_id\", \"ensembl_gene_id\", \"gene_biotype\", \"external_gene_name\"),\n",
    "  filter=\"ensembl_gene_id\",\n",
    "  values=ensLookup,\n",
    "  uniqueRows=TRUE)\n",
    "\n",
    "annotLookup <- data.frame(\n",
    "  ens[match(annotLookup$ensembl_gene_id, ensLookup)],\n",
    "  annotLookup)\n",
    "\n",
    "colnames(annotLookup) <- c(\n",
    "  \"original_id\",\n",
    "  c(\"ensembl_transcript_id\", \"ensembl_gene_id\", \"gene_biotype\", \"external_gene_name\"))\n",
    "\n",
    "annotLookup"
   ]
  },
  {
   "cell_type": "markdown",
   "metadata": {},
   "source": [
    "## 5 "
   ]
  },
  {
   "cell_type": "code",
   "execution_count": 52,
   "metadata": {},
   "outputs": [
    {
     "data": {
      "text/html": [
       "<strong>png:</strong> 2"
      ],
      "text/latex": [
       "\\textbf{png:} 2"
      ],
      "text/markdown": [
       "**png:** 2"
      ],
      "text/plain": [
       "png \n",
       "  2 "
      ]
     },
     "metadata": {},
     "output_type": "display_data"
    }
   ],
   "source": [
    "# Re-cluster samples\n",
    "sampleTree3 = hclust(dist(MEs0), method = \"average\")\n",
    "# Convert traits to a color representation: white means low, red means high, grey means missing entry\n",
    "traitColors = labels2colors(datTraits);\n",
    "# Plot the sample dendrogram and the colors underneath.\n",
    "pdf(\"nethier.pdf\", width=10)\n",
    "# Set the plot margin: bottom, left, top & right\n",
    "par(mar = c(5, 4, 1.4, 0.2) + 0.1,\n",
    "    xpd = NA) # allow content to go into outer margin \n",
    "plotDendroAndColors(sampleTree3, traitColors,\n",
    "groupLabels = labels,\n",
    "main = \"Network dendrogram and trait heatmap\",\n",
    "dendroLabels=FALSE,\n",
    "#rowText=allTraits[keepSamples,labels],\n",
    "#rowTextIgnore=labels[[2]],\n",
    "addGuide=TRUE)\n",
    "dev.off()"
   ]
  },
  {
   "cell_type": "code",
   "execution_count": 54,
   "metadata": {},
   "outputs": [
    {
     "data": {
      "text/html": [
       "<style>\n",
       ".list-inline {list-style: none; margin:0; padding: 0}\n",
       ".list-inline>li {display: inline-block}\n",
       ".list-inline>li:not(:last-child)::after {content: \"\\00b7\"; padding: 0 .5ex}\n",
       "</style>\n",
       "<ol class=list-inline><li>'BRCA.LumB'</li><li>'BRCA.LumA'</li><li>'BRCA.Basal'</li><li>'BRCA.Normal'</li><li>'unknown'</li><li>'BRCA.Her2'</li></ol>\n"
      ],
      "text/latex": [
       "\\begin{enumerate*}\n",
       "\\item 'BRCA.LumB'\n",
       "\\item 'BRCA.LumA'\n",
       "\\item 'BRCA.Basal'\n",
       "\\item 'BRCA.Normal'\n",
       "\\item 'unknown'\n",
       "\\item 'BRCA.Her2'\n",
       "\\end{enumerate*}\n"
      ],
      "text/markdown": [
       "1. 'BRCA.LumB'\n",
       "2. 'BRCA.LumA'\n",
       "3. 'BRCA.Basal'\n",
       "4. 'BRCA.Normal'\n",
       "5. 'unknown'\n",
       "6. 'BRCA.Her2'\n",
       "\n",
       "\n"
      ],
      "text/plain": [
       "[1] \"BRCA.LumB\"   \"BRCA.LumA\"   \"BRCA.Basal\"  \"BRCA.Normal\" \"unknown\"    \n",
       "[6] \"BRCA.Her2\"  "
      ]
     },
     "metadata": {},
     "output_type": "display_data"
    }
   ],
   "source": [
    "rownames(allTraits)=allTraits$file_name\n",
    "unique(allTraits[rownames(datTraits),'Subtype_Selected'])"
   ]
  },
  {
   "cell_type": "code",
   "execution_count": 55,
   "metadata": {},
   "outputs": [
    {
     "name": "stderr",
     "output_type": "stream",
     "text": [
      "Warning message in par(fig = c(0, 1, 0, 1), oma = c(0, 0, 0, 0), mar = c(0, 0, 0, :\n",
      "“calling par(new=TRUE) with no plot”\n"
     ]
    },
    {
     "ename": "ERROR",
     "evalue": "Error in legend(...): 'legend' is of length 0\n",
     "output_type": "error",
     "traceback": [
      "Error in legend(...): 'legend' is of length 0\nTraceback:\n",
      "1. add_legend(\"topleft\", legend = unique(allTraits[rownames(datTraits), \n .     \"SMTS\"]), pch = 1, pt.cex = 1, cex = 1.5, bty = \"n\", ncol = 2, \n .     inset = c(0.1, 0), title = \"SMTS\", col = traitColors)",
      "2. legend(...)   # at line 6 of file <text>",
      "3. stop(\"'legend' is of length 0\")"
     ]
    }
   ],
   "source": [
    "svg(\"nethier_legend.svg\", width=10)\n",
    "add_legend(\"topleft\", legend = unique(allTraits[rownames(datTraits),'SMTS']), pch = 1, pt.cex = 1, cex = 1.5, bty = 'n', ncol=2,\n",
    "       inset = c(0.1, 0.), # place outside\n",
    "       title = \"SMTS\", \n",
    "       col = traitColors)\n",
    "dev.off()"
   ]
  },
  {
   "cell_type": "code",
   "execution_count": 56,
   "metadata": {},
   "outputs": [],
   "source": [
    "collectGarbage()"
   ]
  },
  {
   "cell_type": "code",
   "execution_count": 42,
   "metadata": {},
   "outputs": [
    {
     "data": {
      "text/plain": [
       "clust\n",
       "  0   1 \n",
       " 20 946 "
      ]
     },
     "metadata": {},
     "output_type": "display_data"
    }
   ],
   "source": [
    "clust = cutreeStatic(sampleTree3, cutHeight = 0.4, minSize = 10)\n",
    "table(clust)"
   ]
  },
  {
   "cell_type": "code",
   "execution_count": 43,
   "metadata": {},
   "outputs": [
    {
     "data": {
      "text/html": [
       "<strong>png:</strong> 2"
      ],
      "text/latex": [
       "\\textbf{png:} 2"
      ],
      "text/markdown": [
       "**png:** 2"
      ],
      "text/plain": [
       "png \n",
       "  2 "
      ]
     },
     "metadata": {},
     "output_type": "display_data"
    }
   ],
   "source": [
    "# Re-cluster samples after cut\n",
    "sampleTree4 = hclust(dist(MEs0[(clust==1),]), method = \"average\")\n",
    "# Convert traits to a color representation: white means low, red means high, grey means missing entry\n",
    "traitColors = labels2colors(datTraits[(clust==1),]);\n",
    "# Plot the sample dendrogram and the colors underneath.\n",
    "svg(\"nethiercut.svg\")\n",
    "plotDendroAndColors(sampleTree4, traitColors,\n",
    "groupLabels = labels,\n",
    "main = \"Network dendrogram and trait heatmap\",\n",
    "dendroLabels=FALSE)\n",
    "dev.off()"
   ]
  },
  {
   "cell_type": "code",
   "execution_count": null,
   "metadata": {},
   "outputs": [],
   "source": [
    "# Calculate topological overlap anew: this could be done more efficiently by saving the TOM\n",
    "# calculated during module detection, but let us do it again here.\n",
    "dissTOM = 1-TOMsimilarityFromExpr(datExpr, power = 6);\n",
    "# Transform dissTOM with a power to make moderately strong connections more visible in the heatmap\n",
    "plotTOM = dissTOM^7;\n",
    "# Set diagonal to NA for a nicer plot\n",
    "diag(plotTOM) = NA;\n",
    "# Call the plot function\n",
    "sizeGrWindow(9,9)\n",
    "svg(\"networkmap.svg\")\n",
    "TOMplot(plotTOM, geneTree, moduleColors, main = \"Network heatmap plot, all genes\")\n",
    "dev.off()"
   ]
  },
  {
   "cell_type": "code",
   "execution_count": null,
   "metadata": {},
   "outputs": [],
   "source": [
    "#selct genes to be faster\n",
    "nSelect = nGenes*0.7\n",
    "# For reproducibility, we set the random seed\n",
    "set.seed(10);\n",
    "select = sample(nGenes, size = nSelect);\n",
    "selectTOM = dissTOM[select, select];\n",
    "# There’s no simple way of restricting a clustering tree to a subset of genes, so we must re-cluster.\n",
    "selectTree = hclust(as.dist(selectTOM), method = \"average\")\n",
    "selectColors = moduleColors[select];\n",
    "# Open a graphical window\n",
    "sizeGrWindow(9,9)\n",
    "svg(\"networkmap.svg\")\n",
    "# Taking the dissimilarity to a power, say 10, makes the plot more informative by effectively changing\n",
    "# the color palette; setting the diagonal to NA also improves the clarity of the plot\n",
    "plotDiss = selectTOM^7;\n",
    "diag(plotDiss) = NA;\n",
    "TOMplot(plotDiss, selectTree, selectColors, main = \"Network heatmap plot, selected genes\")\n",
    "dev.off()"
   ]
  },
  {
   "cell_type": "code",
   "execution_count": null,
   "metadata": {},
   "outputs": [],
   "source": [
    "# Recalculate module eigengenes\n",
    "MEs = moduleEigengenes(datExpr, moduleColors)$eigengenes\n",
    "# Isolate weight from the clinical traits\n",
    "weight = as.data.frame(datTraits$SMTS);\n",
    "names(weight) = \"SMTS\"\n",
    "# Add the weight to existing module eigengenes\n",
    "MET = orderMEs(cbind(MEs, weight))\n",
    "# Plot the relationships among the eigengenes and the trait\n",
    "sizeGrWindow(5,7.5);\n",
    "svg(\"eigenHeat.svg\")\n",
    "par(cex = 0.9)\n",
    "plotEigengeneNetworks(MET, \"\", marDendro = c(0,4,1,2), marHeatmap = c(3,4,1,2), cex.lab = 0.8, xLabelsAngle = 90)\n",
    "dev.off()"
   ]
  },
  {
   "cell_type": "code",
   "execution_count": null,
   "metadata": {},
   "outputs": [],
   "source": [
    "# Plot the dendrogram\n",
    "sizeGrWindow(6,6);\n",
    "svg(\"eigendendogram.svg\")\n",
    "par(cex = 1.0)\n",
    "plotEigengeneNetworks(MET, \"Eigengene dendrogram\", marDendro = c(0,4,2,0),\n",
    "plotHeatmaps = FALSE)\n",
    "# Plot the heatmap matrix (note: this plot will overwrite the dendrogram plot)\n",
    "par(cex = 1.0)\n",
    "plotEigengeneNetworks(MET, \"Eigengene adjacency heatmap\", marHeatmap = c(3,4,2,2),\n",
    "plotDendrograms = FALSE, xLabelsAngle = 90)\n",
    "dev.off()"
   ]
  },
  {
   "cell_type": "code",
   "execution_count": 58,
   "metadata": {},
   "outputs": [],
   "source": [
    "# 8 29 149\n",
    "write.csv(cutree(sampleTree3, k=8), \"wgcna/wgcna_level_2_labels.csv\")\n",
    "write.csv(cutree(sampleTree3, k=29), \"wgcna/wgcna_level_1_labels.csv\")\n",
    "write.csv(cutree(sampleTree3, k=149), \"wgcna/wgcna_level_0_labels.csv\")"
   ]
  },
  {
   "cell_type": "code",
   "execution_count": 59,
   "metadata": {},
   "outputs": [],
   "source": [
    "write.csv(geneModuleMembership, \"wgcna/wgcna_level_0_word-dist.csv\")"
   ]
  },
  {
   "cell_type": "code",
   "execution_count": 60,
   "metadata": {},
   "outputs": [],
   "source": [
    "write.csv(MEs, \"wgcna/wgcna_level_0_topic-dist.csv\")"
   ]
  },
  {
   "cell_type": "code",
   "execution_count": null,
   "metadata": {},
   "outputs": [],
   "source": []
  }
 ],
 "metadata": {
  "kernelspec": {
   "display_name": "R",
   "language": "R",
   "name": "ir"
  },
  "language_info": {
   "codemirror_mode": "r",
   "file_extension": ".r",
   "mimetype": "text/x-r-source",
   "name": "R",
   "pygments_lexer": "r",
   "version": "3.6.2"
  }
 },
 "nbformat": 4,
 "nbformat_minor": 2
}

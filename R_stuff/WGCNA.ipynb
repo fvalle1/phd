{
 "cells": [
  {
   "cell_type": "code",
   "execution_count": 32,
   "metadata": {},
   "outputs": [
    {
     "data": {
      "text/html": [
       "'/home/jovyan/work/phd/cancers/unified_lung'"
      ],
      "text/latex": [
       "'/home/jovyan/work/phd/cancers/unified\\_lung'"
      ],
      "text/markdown": [
       "'/home/jovyan/work/phd/cancers/unified_lung'"
      ],
      "text/plain": [
       "[1] \"/home/jovyan/work/phd/cancers/unified_lung\""
      ]
     },
     "metadata": {},
     "output_type": "display_data"
    },
    {
     "name": "stdout",
     "output_type": "stream",
     "text": [
      "Allowing multi-threading with up to 2 threads.\n"
     ]
    }
   ],
   "source": [
    "# Display the current working directory\n",
    "getwd();\n",
    "# If necessary, change the path below to the directory where the data files are stored.\n",
    "# \".\" means current directory. On Windows use a forward slash / instead of the usual \\.\n",
    "workingDir = \"/home/jovyan/work/phd/topics/datasets/gtexrandom\";\n",
    "setwd(workingDir);\n",
    "# Load WGCNA package\n",
    "library(WGCNA)\n",
    "allowWGCNAThreads()\n",
    "# The following setting is important, do not omit.\n",
    "options(stringsAsFactors = FALSE);"
   ]
  },
  {
   "cell_type": "code",
   "execution_count": 33,
   "metadata": {},
   "outputs": [],
   "source": [
    "add_legend <- function(...) {\n",
    "  opar <- par(fig=c(0, 1, 0, 1), oma=c(0, 0, 0, 0), \n",
    "    mar=c(0, 0, 0, 0), new=TRUE)\n",
    "  on.exit(par(opar))\n",
    "  plot(0, 0, type='n', bty='n', xaxt='n', yaxt='n')\n",
    "  legend(...)\n",
    "}"
   ]
  },
  {
   "cell_type": "code",
   "execution_count": 34,
   "metadata": {},
   "outputs": [],
   "source": [
    "datExpr <- t(read.csv(\"mainTable.csv\", check.names=FALSE, row.names = \"\")) # 0, eng, Name\n",
    "genes <- dimnames(datExpr)[[2]]\n",
    "samples <- dimnames(datExpr)[[1]]\n",
    "datExpr <- as.data.frame(apply(datExpr,2, as.numeric)) #numeric\n",
    "dimnames(datExpr)[[1]] <- samples\n",
    "allTraits <- read.csv(\"files.dat\")"
   ]
  },
  {
   "cell_type": "code",
   "execution_count": 35,
   "metadata": {},
   "outputs": [],
   "source": [
    "log2_1 <- function(x){\n",
    "    log2(x+1)\n",
    "}\n",
    "datExpr <- as.data.frame(apply(datExpr,2, log2_1))\n",
    "dimnames(datExpr)[[1]] <- samples"
   ]
  },
  {
   "cell_type": "code",
   "execution_count": 36,
   "metadata": {},
   "outputs": [
    {
     "data": {
      "text/html": [
       "<table>\n",
       "<caption>A data.frame: 10 × 5</caption>\n",
       "<thead>\n",
       "\t<tr><th></th><th scope=col>ENSG00000229344.1</th><th scope=col>ENSG00000198744.5</th><th scope=col>ENSG00000187730.8</th><th scope=col>ENSG00000169717.6</th><th scope=col>ENSG00000162592.9</th></tr>\n",
       "\t<tr><th></th><th scope=col>&lt;dbl&gt;</th><th scope=col>&lt;dbl&gt;</th><th scope=col>&lt;dbl&gt;</th><th scope=col>&lt;dbl&gt;</th><th scope=col>&lt;dbl&gt;</th></tr>\n",
       "</thead>\n",
       "<tbody>\n",
       "\t<tr><th scope=row>GTEX-PLZ4-1226-SM-2I5FE</th><td>5.392317</td><td>5.672425</td><td>0.000000</td><td>0</td><td>0</td></tr>\n",
       "\t<tr><th scope=row>GTEX-1EMGI-2726-SM-7P8S4</th><td>6.857981</td><td>7.754888</td><td>0.000000</td><td>0</td><td>0</td></tr>\n",
       "\t<tr><th scope=row>GTEX-1C2JI-0008-SM-EXOHZ</th><td>3.584963</td><td>2.321928</td><td>0.000000</td><td>0</td><td>0</td></tr>\n",
       "\t<tr><th scope=row>GTEX-1S5ZU-2526-SM-E6CIF</th><td>2.321928</td><td>2.807355</td><td>0.000000</td><td>0</td><td>0</td></tr>\n",
       "\t<tr><th scope=row>GTEX-11EMC-3226-SM-5EGKW</th><td>5.357552</td><td>7.467606</td><td>5.930737</td><td>0</td><td>0</td></tr>\n",
       "\t<tr><th scope=row>GTEX-11ZUS-2926-SM-5FQSL</th><td>5.169925</td><td>6.129283</td><td>6.894818</td><td>0</td><td>0</td></tr>\n",
       "\t<tr><th scope=row>GTEX-18465-0226-SM-7LG5M</th><td>4.807355</td><td>5.392317</td><td>0.000000</td><td>0</td><td>0</td></tr>\n",
       "\t<tr><th scope=row>GTEX-1I1GU-0926-SM-ACKVS</th><td>3.584963</td><td>4.523562</td><td>0.000000</td><td>0</td><td>0</td></tr>\n",
       "\t<tr><th scope=row>GTEX-1JMLX-2326-SM-CXZJP</th><td>2.000000</td><td>2.584963</td><td>0.000000</td><td>0</td><td>0</td></tr>\n",
       "\t<tr><th scope=row>GTEX-1B996-1726-SM-7IGMW</th><td>3.169925</td><td>3.459432</td><td>0.000000</td><td>0</td><td>0</td></tr>\n",
       "</tbody>\n",
       "</table>\n"
      ],
      "text/latex": [
       "A data.frame: 10 × 5\n",
       "\\begin{tabular}{r|lllll}\n",
       "  & ENSG00000229344.1 & ENSG00000198744.5 & ENSG00000187730.8 & ENSG00000169717.6 & ENSG00000162592.9\\\\\n",
       "  & <dbl> & <dbl> & <dbl> & <dbl> & <dbl>\\\\\n",
       "\\hline\n",
       "\tGTEX-PLZ4-1226-SM-2I5FE & 5.392317 & 5.672425 & 0.000000 & 0 & 0\\\\\n",
       "\tGTEX-1EMGI-2726-SM-7P8S4 & 6.857981 & 7.754888 & 0.000000 & 0 & 0\\\\\n",
       "\tGTEX-1C2JI-0008-SM-EXOHZ & 3.584963 & 2.321928 & 0.000000 & 0 & 0\\\\\n",
       "\tGTEX-1S5ZU-2526-SM-E6CIF & 2.321928 & 2.807355 & 0.000000 & 0 & 0\\\\\n",
       "\tGTEX-11EMC-3226-SM-5EGKW & 5.357552 & 7.467606 & 5.930737 & 0 & 0\\\\\n",
       "\tGTEX-11ZUS-2926-SM-5FQSL & 5.169925 & 6.129283 & 6.894818 & 0 & 0\\\\\n",
       "\tGTEX-18465-0226-SM-7LG5M & 4.807355 & 5.392317 & 0.000000 & 0 & 0\\\\\n",
       "\tGTEX-1I1GU-0926-SM-ACKVS & 3.584963 & 4.523562 & 0.000000 & 0 & 0\\\\\n",
       "\tGTEX-1JMLX-2326-SM-CXZJP & 2.000000 & 2.584963 & 0.000000 & 0 & 0\\\\\n",
       "\tGTEX-1B996-1726-SM-7IGMW & 3.169925 & 3.459432 & 0.000000 & 0 & 0\\\\\n",
       "\\end{tabular}\n"
      ],
      "text/markdown": [
       "\n",
       "A data.frame: 10 × 5\n",
       "\n",
       "| <!--/--> | ENSG00000229344.1 &lt;dbl&gt; | ENSG00000198744.5 &lt;dbl&gt; | ENSG00000187730.8 &lt;dbl&gt; | ENSG00000169717.6 &lt;dbl&gt; | ENSG00000162592.9 &lt;dbl&gt; |\n",
       "|---|---|---|---|---|---|\n",
       "| GTEX-PLZ4-1226-SM-2I5FE | 5.392317 | 5.672425 | 0.000000 | 0 | 0 |\n",
       "| GTEX-1EMGI-2726-SM-7P8S4 | 6.857981 | 7.754888 | 0.000000 | 0 | 0 |\n",
       "| GTEX-1C2JI-0008-SM-EXOHZ | 3.584963 | 2.321928 | 0.000000 | 0 | 0 |\n",
       "| GTEX-1S5ZU-2526-SM-E6CIF | 2.321928 | 2.807355 | 0.000000 | 0 | 0 |\n",
       "| GTEX-11EMC-3226-SM-5EGKW | 5.357552 | 7.467606 | 5.930737 | 0 | 0 |\n",
       "| GTEX-11ZUS-2926-SM-5FQSL | 5.169925 | 6.129283 | 6.894818 | 0 | 0 |\n",
       "| GTEX-18465-0226-SM-7LG5M | 4.807355 | 5.392317 | 0.000000 | 0 | 0 |\n",
       "| GTEX-1I1GU-0926-SM-ACKVS | 3.584963 | 4.523562 | 0.000000 | 0 | 0 |\n",
       "| GTEX-1JMLX-2326-SM-CXZJP | 2.000000 | 2.584963 | 0.000000 | 0 | 0 |\n",
       "| GTEX-1B996-1726-SM-7IGMW | 3.169925 | 3.459432 | 0.000000 | 0 | 0 |\n",
       "\n"
      ],
      "text/plain": [
       "                         ENSG00000229344.1 ENSG00000198744.5 ENSG00000187730.8\n",
       "GTEX-PLZ4-1226-SM-2I5FE  5.392317          5.672425          0.000000         \n",
       "GTEX-1EMGI-2726-SM-7P8S4 6.857981          7.754888          0.000000         \n",
       "GTEX-1C2JI-0008-SM-EXOHZ 3.584963          2.321928          0.000000         \n",
       "GTEX-1S5ZU-2526-SM-E6CIF 2.321928          2.807355          0.000000         \n",
       "GTEX-11EMC-3226-SM-5EGKW 5.357552          7.467606          5.930737         \n",
       "GTEX-11ZUS-2926-SM-5FQSL 5.169925          6.129283          6.894818         \n",
       "GTEX-18465-0226-SM-7LG5M 4.807355          5.392317          0.000000         \n",
       "GTEX-1I1GU-0926-SM-ACKVS 3.584963          4.523562          0.000000         \n",
       "GTEX-1JMLX-2326-SM-CXZJP 2.000000          2.584963          0.000000         \n",
       "GTEX-1B996-1726-SM-7IGMW 3.169925          3.459432          0.000000         \n",
       "                         ENSG00000169717.6 ENSG00000162592.9\n",
       "GTEX-PLZ4-1226-SM-2I5FE  0                 0                \n",
       "GTEX-1EMGI-2726-SM-7P8S4 0                 0                \n",
       "GTEX-1C2JI-0008-SM-EXOHZ 0                 0                \n",
       "GTEX-1S5ZU-2526-SM-E6CIF 0                 0                \n",
       "GTEX-11EMC-3226-SM-5EGKW 0                 0                \n",
       "GTEX-11ZUS-2926-SM-5FQSL 0                 0                \n",
       "GTEX-18465-0226-SM-7LG5M 0                 0                \n",
       "GTEX-1I1GU-0926-SM-ACKVS 0                 0                \n",
       "GTEX-1JMLX-2326-SM-CXZJP 0                 0                \n",
       "GTEX-1B996-1726-SM-7IGMW 0                 0                "
      ]
     },
     "metadata": {},
     "output_type": "display_data"
    }
   ],
   "source": [
    "datExpr[1:10,1:5]"
   ]
  },
  {
   "cell_type": "code",
   "execution_count": 37,
   "metadata": {},
   "outputs": [
    {
     "data": {
      "text/html": [
       "<table>\n",
       "<caption>A data.frame: 6 × 63</caption>\n",
       "<thead>\n",
       "\t<tr><th></th><th scope=col>SAMPID</th><th scope=col>SMATSSCR</th><th scope=col>SMCENTER</th><th scope=col>SMPTHNTS</th><th scope=col>SMRIN</th><th scope=col>SMTS</th><th scope=col>SMTSD</th><th scope=col>SMUBRID</th><th scope=col>SMTSISCH</th><th scope=col>SMTSPAX</th><th scope=col>⋯</th><th scope=col>SME1ANTI</th><th scope=col>SMSPLTRD</th><th scope=col>SMBSMMRT</th><th scope=col>SME1SNSE</th><th scope=col>SME1PCTS</th><th scope=col>SMRRNART</th><th scope=col>SME1MPRT</th><th scope=col>SMNUM5CD</th><th scope=col>SMDPMPRT</th><th scope=col>SME2PCTS</th></tr>\n",
       "\t<tr><th></th><th scope=col>&lt;chr&gt;</th><th scope=col>&lt;dbl&gt;</th><th scope=col>&lt;chr&gt;</th><th scope=col>&lt;chr&gt;</th><th scope=col>&lt;dbl&gt;</th><th scope=col>&lt;chr&gt;</th><th scope=col>&lt;chr&gt;</th><th scope=col>&lt;chr&gt;</th><th scope=col>&lt;dbl&gt;</th><th scope=col>&lt;dbl&gt;</th><th scope=col>⋯</th><th scope=col>&lt;dbl&gt;</th><th scope=col>&lt;dbl&gt;</th><th scope=col>&lt;dbl&gt;</th><th scope=col>&lt;dbl&gt;</th><th scope=col>&lt;dbl&gt;</th><th scope=col>&lt;dbl&gt;</th><th scope=col>&lt;dbl&gt;</th><th scope=col>&lt;lgl&gt;</th><th scope=col>&lt;dbl&gt;</th><th scope=col>&lt;dbl&gt;</th></tr>\n",
       "</thead>\n",
       "<tbody>\n",
       "\t<tr><th scope=row>1</th><td>GTEX-1117F-0003-SM-58Q7G     </td><td>NA</td><td>B1    </td><td>                                            </td><td> NA</td><td>Blood         </td><td>Whole Blood                 </td><td>0013756</td><td>1188</td><td>  NA</td><td>⋯</td><td>      NA</td><td>      NA</td><td>        NA</td><td>      NA</td><td>     NA</td><td>        NA</td><td>     NA</td><td>NA</td><td>NA</td><td>     NA</td></tr>\n",
       "\t<tr><th scope=row>2</th><td>GTEX-1117F-0003-SM-5DWSB     </td><td>NA</td><td>B1    </td><td>                                            </td><td> NA</td><td>Blood         </td><td>Whole Blood                 </td><td>0013756</td><td>1188</td><td>  NA</td><td>⋯</td><td>      NA</td><td>      NA</td><td>        NA</td><td>      NA</td><td>     NA</td><td>        NA</td><td>     NA</td><td>NA</td><td>NA</td><td>     NA</td></tr>\n",
       "\t<tr><th scope=row>3</th><td>GTEX-1117F-0003-SM-6WBT7     </td><td>NA</td><td>B1    </td><td>                                            </td><td> NA</td><td>Blood         </td><td>Whole Blood                 </td><td>0013756</td><td>1188</td><td>  NA</td><td>⋯</td><td>      NA</td><td>      NA</td><td>        NA</td><td>      NA</td><td>     NA</td><td>        NA</td><td>     NA</td><td>NA</td><td>NA</td><td>     NA</td></tr>\n",
       "\t<tr><th scope=row>4</th><td>GTEX-1117F-0011-R10a-SM-AHZ7F</td><td>NA</td><td>B1, A1</td><td>                                            </td><td> NA</td><td>Brain         </td><td>Brain - Frontal Cortex (BA9)</td><td>0009834</td><td>1193</td><td>  NA</td><td>⋯</td><td>      NA</td><td>      NA</td><td>        NA</td><td>      NA</td><td>     NA</td><td>        NA</td><td>     NA</td><td>NA</td><td>NA</td><td>     NA</td></tr>\n",
       "\t<tr><th scope=row>5</th><td>GTEX-1117F-0011-R10b-SM-CYKQ8</td><td>NA</td><td>B1, A1</td><td>                                            </td><td>7.2</td><td>Brain         </td><td>Brain - Frontal Cortex (BA9)</td><td>0009834</td><td>1193</td><td>  NA</td><td>⋯</td><td>      NA</td><td>      NA</td><td>        NA</td><td>      NA</td><td>     NA</td><td>        NA</td><td>     NA</td><td>NA</td><td>NA</td><td>     NA</td></tr>\n",
       "\t<tr><th scope=row>6</th><td>GTEX-1117F-0226-SM-5GZZ7     </td><td> 0</td><td>B1    </td><td>2 pieces, ~15% vessel stroma, rep delineated</td><td>6.8</td><td>Adipose Tissue</td><td>Adipose - Subcutaneous      </td><td>0002190</td><td>1214</td><td>1125</td><td>⋯</td><td>14648800</td><td>11999300</td><td>0.00315785</td><td>14669500</td><td>50.0354</td><td>0.00310538</td><td>0.99474</td><td>NA</td><td> 0</td><td>50.1944</td></tr>\n",
       "</tbody>\n",
       "</table>\n"
      ],
      "text/latex": [
       "A data.frame: 6 × 63\n",
       "\\begin{tabular}{r|lllllllllllllllllllll}\n",
       "  & SAMPID & SMATSSCR & SMCENTER & SMPTHNTS & SMRIN & SMTS & SMTSD & SMUBRID & SMTSISCH & SMTSPAX & ⋯ & SME1ANTI & SMSPLTRD & SMBSMMRT & SME1SNSE & SME1PCTS & SMRRNART & SME1MPRT & SMNUM5CD & SMDPMPRT & SME2PCTS\\\\\n",
       "  & <chr> & <dbl> & <chr> & <chr> & <dbl> & <chr> & <chr> & <chr> & <dbl> & <dbl> & ⋯ & <dbl> & <dbl> & <dbl> & <dbl> & <dbl> & <dbl> & <dbl> & <lgl> & <dbl> & <dbl>\\\\\n",
       "\\hline\n",
       "\t1 & GTEX-1117F-0003-SM-58Q7G      & NA & B1     &                                              &  NA & Blood          & Whole Blood                  & 0013756 & 1188 &   NA & ⋯ &       NA &       NA &         NA &       NA &      NA &         NA &      NA & NA & NA &      NA\\\\\n",
       "\t2 & GTEX-1117F-0003-SM-5DWSB      & NA & B1     &                                              &  NA & Blood          & Whole Blood                  & 0013756 & 1188 &   NA & ⋯ &       NA &       NA &         NA &       NA &      NA &         NA &      NA & NA & NA &      NA\\\\\n",
       "\t3 & GTEX-1117F-0003-SM-6WBT7      & NA & B1     &                                              &  NA & Blood          & Whole Blood                  & 0013756 & 1188 &   NA & ⋯ &       NA &       NA &         NA &       NA &      NA &         NA &      NA & NA & NA &      NA\\\\\n",
       "\t4 & GTEX-1117F-0011-R10a-SM-AHZ7F & NA & B1, A1 &                                              &  NA & Brain          & Brain - Frontal Cortex (BA9) & 0009834 & 1193 &   NA & ⋯ &       NA &       NA &         NA &       NA &      NA &         NA &      NA & NA & NA &      NA\\\\\n",
       "\t5 & GTEX-1117F-0011-R10b-SM-CYKQ8 & NA & B1, A1 &                                              & 7.2 & Brain          & Brain - Frontal Cortex (BA9) & 0009834 & 1193 &   NA & ⋯ &       NA &       NA &         NA &       NA &      NA &         NA &      NA & NA & NA &      NA\\\\\n",
       "\t6 & GTEX-1117F-0226-SM-5GZZ7      &  0 & B1     & 2 pieces, \\textasciitilde{}15\\% vessel stroma, rep delineated & 6.8 & Adipose Tissue & Adipose - Subcutaneous       & 0002190 & 1214 & 1125 & ⋯ & 14648800 & 11999300 & 0.00315785 & 14669500 & 50.0354 & 0.00310538 & 0.99474 & NA &  0 & 50.1944\\\\\n",
       "\\end{tabular}\n"
      ],
      "text/markdown": [
       "\n",
       "A data.frame: 6 × 63\n",
       "\n",
       "| <!--/--> | SAMPID &lt;chr&gt; | SMATSSCR &lt;dbl&gt; | SMCENTER &lt;chr&gt; | SMPTHNTS &lt;chr&gt; | SMRIN &lt;dbl&gt; | SMTS &lt;chr&gt; | SMTSD &lt;chr&gt; | SMUBRID &lt;chr&gt; | SMTSISCH &lt;dbl&gt; | SMTSPAX &lt;dbl&gt; | ⋯ ⋯ | SME1ANTI &lt;dbl&gt; | SMSPLTRD &lt;dbl&gt; | SMBSMMRT &lt;dbl&gt; | SME1SNSE &lt;dbl&gt; | SME1PCTS &lt;dbl&gt; | SMRRNART &lt;dbl&gt; | SME1MPRT &lt;dbl&gt; | SMNUM5CD &lt;lgl&gt; | SMDPMPRT &lt;dbl&gt; | SME2PCTS &lt;dbl&gt; |\n",
       "|---|---|---|---|---|---|---|---|---|---|---|---|---|---|---|---|---|---|---|---|---|---|\n",
       "| 1 | GTEX-1117F-0003-SM-58Q7G      | NA | B1     | <!----> |  NA | Blood          | Whole Blood                  | 0013756 | 1188 |   NA | ⋯ |       NA |       NA |         NA |       NA |      NA |         NA |      NA | NA | NA |      NA |\n",
       "| 2 | GTEX-1117F-0003-SM-5DWSB      | NA | B1     | <!----> |  NA | Blood          | Whole Blood                  | 0013756 | 1188 |   NA | ⋯ |       NA |       NA |         NA |       NA |      NA |         NA |      NA | NA | NA |      NA |\n",
       "| 3 | GTEX-1117F-0003-SM-6WBT7      | NA | B1     | <!----> |  NA | Blood          | Whole Blood                  | 0013756 | 1188 |   NA | ⋯ |       NA |       NA |         NA |       NA |      NA |         NA |      NA | NA | NA |      NA |\n",
       "| 4 | GTEX-1117F-0011-R10a-SM-AHZ7F | NA | B1, A1 | <!----> |  NA | Brain          | Brain - Frontal Cortex (BA9) | 0009834 | 1193 |   NA | ⋯ |       NA |       NA |         NA |       NA |      NA |         NA |      NA | NA | NA |      NA |\n",
       "| 5 | GTEX-1117F-0011-R10b-SM-CYKQ8 | NA | B1, A1 | <!----> | 7.2 | Brain          | Brain - Frontal Cortex (BA9) | 0009834 | 1193 |   NA | ⋯ |       NA |       NA |         NA |       NA |      NA |         NA |      NA | NA | NA |      NA |\n",
       "| 6 | GTEX-1117F-0226-SM-5GZZ7      |  0 | B1     | 2 pieces, ~15% vessel stroma, rep delineated | 6.8 | Adipose Tissue | Adipose - Subcutaneous       | 0002190 | 1214 | 1125 | ⋯ | 14648800 | 11999300 | 0.00315785 | 14669500 | 50.0354 | 0.00310538 | 0.99474 | NA |  0 | 50.1944 |\n",
       "\n"
      ],
      "text/plain": [
       "  SAMPID                        SMATSSCR SMCENTER\n",
       "1 GTEX-1117F-0003-SM-58Q7G      NA       B1      \n",
       "2 GTEX-1117F-0003-SM-5DWSB      NA       B1      \n",
       "3 GTEX-1117F-0003-SM-6WBT7      NA       B1      \n",
       "4 GTEX-1117F-0011-R10a-SM-AHZ7F NA       B1, A1  \n",
       "5 GTEX-1117F-0011-R10b-SM-CYKQ8 NA       B1, A1  \n",
       "6 GTEX-1117F-0226-SM-5GZZ7       0       B1      \n",
       "  SMPTHNTS                                     SMRIN SMTS          \n",
       "1                                               NA   Blood         \n",
       "2                                               NA   Blood         \n",
       "3                                               NA   Blood         \n",
       "4                                               NA   Brain         \n",
       "5                                              7.2   Brain         \n",
       "6 2 pieces, ~15% vessel stroma, rep delineated 6.8   Adipose Tissue\n",
       "  SMTSD                        SMUBRID SMTSISCH SMTSPAX ⋯ SME1ANTI SMSPLTRD\n",
       "1 Whole Blood                  0013756 1188       NA    ⋯       NA       NA\n",
       "2 Whole Blood                  0013756 1188       NA    ⋯       NA       NA\n",
       "3 Whole Blood                  0013756 1188       NA    ⋯       NA       NA\n",
       "4 Brain - Frontal Cortex (BA9) 0009834 1193       NA    ⋯       NA       NA\n",
       "5 Brain - Frontal Cortex (BA9) 0009834 1193       NA    ⋯       NA       NA\n",
       "6 Adipose - Subcutaneous       0002190 1214     1125    ⋯ 14648800 11999300\n",
       "  SMBSMMRT   SME1SNSE SME1PCTS SMRRNART   SME1MPRT SMNUM5CD SMDPMPRT SME2PCTS\n",
       "1         NA       NA      NA          NA      NA  NA       NA            NA \n",
       "2         NA       NA      NA          NA      NA  NA       NA            NA \n",
       "3         NA       NA      NA          NA      NA  NA       NA            NA \n",
       "4         NA       NA      NA          NA      NA  NA       NA            NA \n",
       "5         NA       NA      NA          NA      NA  NA       NA            NA \n",
       "6 0.00315785 14669500 50.0354  0.00310538 0.99474  NA        0       50.1944 "
      ]
     },
     "metadata": {},
     "output_type": "display_data"
    }
   ],
   "source": [
    "head(allTraits)"
   ]
  },
  {
   "cell_type": "code",
   "execution_count": 39,
   "metadata": {},
   "outputs": [
    {
     "data": {
      "text/html": [
       "<table>\n",
       "<caption>A data.frame: 6 × 2</caption>\n",
       "<thead>\n",
       "\t<tr><th></th><th scope=col>SMTS</th><th scope=col>SMTSD</th></tr>\n",
       "\t<tr><th></th><th scope=col>&lt;chr&gt;</th><th scope=col>&lt;chr&gt;</th></tr>\n",
       "</thead>\n",
       "<tbody>\n",
       "\t<tr><th scope=row>GTEX-PLZ4-1226-SM-2I5FE</th><td>Thyroid</td><td>Thyroid                            </td></tr>\n",
       "\t<tr><th scope=row>GTEX-1EMGI-2726-SM-7P8S4</th><td>Colon  </td><td>Colon - Transverse                 </td></tr>\n",
       "\t<tr><th scope=row>GTEX-1C2JI-0008-SM-EXOHZ</th><td>Skin   </td><td>Cells - Cultured fibroblasts       </td></tr>\n",
       "\t<tr><th scope=row>GTEX-1S5ZU-2526-SM-E6CIF</th><td>Skin   </td><td>Skin - Not Sun Exposed (Suprapubic)</td></tr>\n",
       "\t<tr><th scope=row>GTEX-11EMC-3226-SM-5EGKW</th><td>Brain  </td><td>Brain - Cortex                     </td></tr>\n",
       "\t<tr><th scope=row>GTEX-11ZUS-2926-SM-5FQSL</th><td>Brain  </td><td>Brain - Cortex                     </td></tr>\n",
       "</tbody>\n",
       "</table>\n"
      ],
      "text/latex": [
       "A data.frame: 6 × 2\n",
       "\\begin{tabular}{r|ll}\n",
       "  & SMTS & SMTSD\\\\\n",
       "  & <chr> & <chr>\\\\\n",
       "\\hline\n",
       "\tGTEX-PLZ4-1226-SM-2I5FE & Thyroid & Thyroid                            \\\\\n",
       "\tGTEX-1EMGI-2726-SM-7P8S4 & Colon   & Colon - Transverse                 \\\\\n",
       "\tGTEX-1C2JI-0008-SM-EXOHZ & Skin    & Cells - Cultured fibroblasts       \\\\\n",
       "\tGTEX-1S5ZU-2526-SM-E6CIF & Skin    & Skin - Not Sun Exposed (Suprapubic)\\\\\n",
       "\tGTEX-11EMC-3226-SM-5EGKW & Brain   & Brain - Cortex                     \\\\\n",
       "\tGTEX-11ZUS-2926-SM-5FQSL & Brain   & Brain - Cortex                     \\\\\n",
       "\\end{tabular}\n"
      ],
      "text/markdown": [
       "\n",
       "A data.frame: 6 × 2\n",
       "\n",
       "| <!--/--> | SMTS &lt;chr&gt; | SMTSD &lt;chr&gt; |\n",
       "|---|---|---|\n",
       "| GTEX-PLZ4-1226-SM-2I5FE | Thyroid | Thyroid                             |\n",
       "| GTEX-1EMGI-2726-SM-7P8S4 | Colon   | Colon - Transverse                  |\n",
       "| GTEX-1C2JI-0008-SM-EXOHZ | Skin    | Cells - Cultured fibroblasts        |\n",
       "| GTEX-1S5ZU-2526-SM-E6CIF | Skin    | Skin - Not Sun Exposed (Suprapubic) |\n",
       "| GTEX-11EMC-3226-SM-5EGKW | Brain   | Brain - Cortex                      |\n",
       "| GTEX-11ZUS-2926-SM-5FQSL | Brain   | Brain - Cortex                      |\n",
       "\n"
      ],
      "text/plain": [
       "                         SMTS    SMTSD                              \n",
       "GTEX-PLZ4-1226-SM-2I5FE  Thyroid Thyroid                            \n",
       "GTEX-1EMGI-2726-SM-7P8S4 Colon   Colon - Transverse                 \n",
       "GTEX-1C2JI-0008-SM-EXOHZ Skin    Cells - Cultured fibroblasts       \n",
       "GTEX-1S5ZU-2526-SM-E6CIF Skin    Skin - Not Sun Exposed (Suprapubic)\n",
       "GTEX-11EMC-3226-SM-5EGKW Brain   Brain - Cortex                     \n",
       "GTEX-11ZUS-2926-SM-5FQSL Brain   Brain - Cortex                     "
      ]
     },
     "metadata": {},
     "output_type": "display_data"
    }
   ],
   "source": [
    "#labels <- c('Subtype_Selected','Subtype_Selected_Lum')\n",
    "#labels <- c('cancer.type','Subtype_Selected')\n",
    "#labels <- c('primary_sites', 'tissue_hd')\n",
    "#labels <-c(\"Type\",\"Subtype\")\n",
    "labels<-c(\"SMTS\",\"SMTSD\")\n",
    "datTraits <- allTraits[,labels]\n",
    "rownames(datTraits) <- allTraits$SAMPID #<--CHECK\n",
    "datTraits <- datTraits[rownames(datExpr),]\n",
    "head(datTraits)"
   ]
  },
  {
   "cell_type": "code",
   "execution_count": 40,
   "metadata": {},
   "outputs": [
    {
     "data": {
      "text/plain": [
       "\n",
       "FALSE \n",
       " 1000 "
      ]
     },
     "metadata": {},
     "output_type": "display_data"
    }
   ],
   "source": [
    "table( dimnames(datExpr)[[1]]==datTraits$SMTS)"
   ]
  },
  {
   "cell_type": "code",
   "execution_count": 41,
   "metadata": {},
   "outputs": [],
   "source": [
    "y = datTraits$SMTS"
   ]
  },
  {
   "cell_type": "code",
   "execution_count": 42,
   "metadata": {},
   "outputs": [],
   "source": [
    "meanExpressionBySample=apply( datExpr,1,mean, na.rm=T)\n",
    "NumberMissingBySample=apply( is.na(data.frame(datExpr)),1, sum)"
   ]
  },
  {
   "cell_type": "markdown",
   "metadata": {},
   "source": [
    "## 1"
   ]
  },
  {
   "cell_type": "code",
   "execution_count": 43,
   "metadata": {},
   "outputs": [
    {
     "name": "stdout",
     "output_type": "stream",
     "text": [
      " Flagging genes and samples with too many missing values...\n",
      "  ..step 1\n"
     ]
    },
    {
     "data": {
      "text/html": [
       "TRUE"
      ],
      "text/latex": [
       "TRUE"
      ],
      "text/markdown": [
       "TRUE"
      ],
      "text/plain": [
       "[1] TRUE"
      ]
     },
     "metadata": {},
     "output_type": "display_data"
    }
   ],
   "source": [
    "gsg = goodSamplesGenes(datExpr, verbose = 3);\n",
    "gsg$allOK"
   ]
  },
  {
   "cell_type": "code",
   "execution_count": 44,
   "metadata": {},
   "outputs": [
    {
     "data": {
      "text/html": [
       "<strong>png:</strong> 2"
      ],
      "text/latex": [
       "\\textbf{png:} 2"
      ],
      "text/markdown": [
       "**png:** 2"
      ],
      "text/plain": [
       "png \n",
       "  2 "
      ]
     },
     "metadata": {},
     "output_type": "display_data"
    }
   ],
   "source": [
    "sampleTree = hclust(dist(datExpr), method = \"average\");\n",
    "# Plot the sample tree: Open a graphic output window of size 12 by 9 inches\n",
    "# The user should change the dimensions if the window is too large or too small.\n",
    "sizeGrWindow(12,9)\n",
    "pdf(\"wgcna_nsamplehier.pdf\")\n",
    "par(cex = 0.6);\n",
    "par(mar = c(0,4,2,0))\n",
    "plot(sampleTree, main = \"Sample clustering to detect outliers\", sub=\"\", xlab=\"\", cex.lab = 1.5,\n",
    "cex.axis = 1.5, cex.main = 2)\n",
    "dev.off()"
   ]
  },
  {
   "cell_type": "code",
   "execution_count": 45,
   "metadata": {},
   "outputs": [
    {
     "data": {
      "text/plain": [
       "clust\n",
       "   1 \n",
       "1000 "
      ]
     },
     "metadata": {},
     "output_type": "display_data"
    }
   ],
   "source": [
    "# Determine cluster under the line\n",
    "clust = cutreeStatic(sampleTree, cutHeight = 450, minSize = 10)\n",
    "table(clust)"
   ]
  },
  {
   "cell_type": "code",
   "execution_count": 46,
   "metadata": {},
   "outputs": [],
   "source": [
    "# clust 1 contains the samples we want to keep.\n",
    "keepSamples = (clust==1)\n",
    "datExpr = datExpr[keepSamples, ]\n",
    "nGenes = ncol(datExpr)\n",
    "nSamples = nrow(datExpr)\n",
    "\n",
    "genes <- dimnames(datExpr)[[2]]\n",
    "samples <- dimnames(datExpr)[[1]]\n",
    "datExpr <- as.data.frame(apply(datExpr,2, as.numeric)) #numeric\n",
    "dimnames(datExpr)[[1]] <- samples"
   ]
  },
  {
   "cell_type": "code",
   "execution_count": 47,
   "metadata": {},
   "outputs": [
    {
     "data": {
      "text/html": [
       "<table>\n",
       "<caption>A data.frame: 6 × 3000</caption>\n",
       "<thead>\n",
       "\t<tr><th></th><th scope=col>ENSG00000229344.1</th><th scope=col>ENSG00000198744.5</th><th scope=col>ENSG00000187730.8</th><th scope=col>ENSG00000169717.6</th><th scope=col>ENSG00000162592.9</th><th scope=col>ENSG00000235054.3</th><th scope=col>ENSG00000228750.6</th><th scope=col>ENSG00000232208.2</th><th scope=col>ENSG00000235263.1</th><th scope=col>ENSG00000171819.4</th><th scope=col>⋯</th><th scope=col>ENSG00000210107.1</th><th scope=col>ENSG00000210112.1</th><th scope=col>ENSG00000210127.1</th><th scope=col>ENSG00000210144.1</th><th scope=col>ENSG00000210154.1</th><th scope=col>ENSG00000210156.1</th><th scope=col>ENSG00000210176.1</th><th scope=col>ENSG00000210191.1</th><th scope=col>ENSG00000210195.2</th><th scope=col>ENSG00000210196.2</th></tr>\n",
       "\t<tr><th></th><th scope=col>&lt;dbl&gt;</th><th scope=col>&lt;dbl&gt;</th><th scope=col>&lt;dbl&gt;</th><th scope=col>&lt;dbl&gt;</th><th scope=col>&lt;dbl&gt;</th><th scope=col>&lt;dbl&gt;</th><th scope=col>&lt;dbl&gt;</th><th scope=col>&lt;dbl&gt;</th><th scope=col>&lt;dbl&gt;</th><th scope=col>&lt;dbl&gt;</th><th scope=col>⋯</th><th scope=col>&lt;dbl&gt;</th><th scope=col>&lt;dbl&gt;</th><th scope=col>&lt;dbl&gt;</th><th scope=col>&lt;dbl&gt;</th><th scope=col>&lt;dbl&gt;</th><th scope=col>&lt;dbl&gt;</th><th scope=col>&lt;dbl&gt;</th><th scope=col>&lt;dbl&gt;</th><th scope=col>&lt;dbl&gt;</th><th scope=col>&lt;dbl&gt;</th></tr>\n",
       "</thead>\n",
       "<tbody>\n",
       "\t<tr><th scope=row>GTEX-PLZ4-1226-SM-2I5FE</th><td>5.392317</td><td>5.672425</td><td>0.000000</td><td>0</td><td>0</td><td>0</td><td>0</td><td>0</td><td>0</td><td>0.000000</td><td>⋯</td><td>0.000000</td><td>2.000000</td><td>0.000000</td><td>1.000000</td><td>0.000000</td><td>0.000000</td><td>0.000000</td><td>1.000000</td><td>0.000000</td><td>0.000000</td></tr>\n",
       "\t<tr><th scope=row>GTEX-1EMGI-2726-SM-7P8S4</th><td>6.857981</td><td>7.754888</td><td>0.000000</td><td>0</td><td>0</td><td>0</td><td>0</td><td>0</td><td>0</td><td>6.247928</td><td>⋯</td><td>3.169925</td><td>3.459432</td><td>1.584963</td><td>2.000000</td><td>0.000000</td><td>1.584963</td><td>2.584963</td><td>0.000000</td><td>1.584963</td><td>0.000000</td></tr>\n",
       "\t<tr><th scope=row>GTEX-1C2JI-0008-SM-EXOHZ</th><td>3.584963</td><td>2.321928</td><td>0.000000</td><td>0</td><td>0</td><td>0</td><td>0</td><td>0</td><td>0</td><td>0.000000</td><td>⋯</td><td>0.000000</td><td>0.000000</td><td>0.000000</td><td>2.584963</td><td>0.000000</td><td>0.000000</td><td>1.584963</td><td>0.000000</td><td>1.000000</td><td>1.000000</td></tr>\n",
       "\t<tr><th scope=row>GTEX-1S5ZU-2526-SM-E6CIF</th><td>2.321928</td><td>2.807355</td><td>0.000000</td><td>0</td><td>0</td><td>0</td><td>0</td><td>0</td><td>0</td><td>3.000000</td><td>⋯</td><td>0.000000</td><td>0.000000</td><td>1.584963</td><td>3.584963</td><td>0.000000</td><td>0.000000</td><td>0.000000</td><td>0.000000</td><td>0.000000</td><td>1.000000</td></tr>\n",
       "\t<tr><th scope=row>GTEX-11EMC-3226-SM-5EGKW</th><td>5.357552</td><td>7.467606</td><td>5.930737</td><td>0</td><td>0</td><td>0</td><td>0</td><td>0</td><td>0</td><td>1.584963</td><td>⋯</td><td>1.000000</td><td>4.169925</td><td>2.321928</td><td>3.906891</td><td>3.459432</td><td>3.807355</td><td>2.807355</td><td>3.000000</td><td>2.000000</td><td>3.321928</td></tr>\n",
       "\t<tr><th scope=row>GTEX-11ZUS-2926-SM-5FQSL</th><td>5.169925</td><td>6.129283</td><td>6.894818</td><td>0</td><td>0</td><td>0</td><td>0</td><td>0</td><td>0</td><td>0.000000</td><td>⋯</td><td>0.000000</td><td>4.247928</td><td>1.000000</td><td>2.584963</td><td>6.044394</td><td>2.584963</td><td>2.321928</td><td>1.584963</td><td>2.000000</td><td>1.000000</td></tr>\n",
       "</tbody>\n",
       "</table>\n"
      ],
      "text/latex": [
       "A data.frame: 6 × 3000\n",
       "\\begin{tabular}{r|lllllllllllllllllllll}\n",
       "  & ENSG00000229344.1 & ENSG00000198744.5 & ENSG00000187730.8 & ENSG00000169717.6 & ENSG00000162592.9 & ENSG00000235054.3 & ENSG00000228750.6 & ENSG00000232208.2 & ENSG00000235263.1 & ENSG00000171819.4 & ⋯ & ENSG00000210107.1 & ENSG00000210112.1 & ENSG00000210127.1 & ENSG00000210144.1 & ENSG00000210154.1 & ENSG00000210156.1 & ENSG00000210176.1 & ENSG00000210191.1 & ENSG00000210195.2 & ENSG00000210196.2\\\\\n",
       "  & <dbl> & <dbl> & <dbl> & <dbl> & <dbl> & <dbl> & <dbl> & <dbl> & <dbl> & <dbl> & ⋯ & <dbl> & <dbl> & <dbl> & <dbl> & <dbl> & <dbl> & <dbl> & <dbl> & <dbl> & <dbl>\\\\\n",
       "\\hline\n",
       "\tGTEX-PLZ4-1226-SM-2I5FE & 5.392317 & 5.672425 & 0.000000 & 0 & 0 & 0 & 0 & 0 & 0 & 0.000000 & ⋯ & 0.000000 & 2.000000 & 0.000000 & 1.000000 & 0.000000 & 0.000000 & 0.000000 & 1.000000 & 0.000000 & 0.000000\\\\\n",
       "\tGTEX-1EMGI-2726-SM-7P8S4 & 6.857981 & 7.754888 & 0.000000 & 0 & 0 & 0 & 0 & 0 & 0 & 6.247928 & ⋯ & 3.169925 & 3.459432 & 1.584963 & 2.000000 & 0.000000 & 1.584963 & 2.584963 & 0.000000 & 1.584963 & 0.000000\\\\\n",
       "\tGTEX-1C2JI-0008-SM-EXOHZ & 3.584963 & 2.321928 & 0.000000 & 0 & 0 & 0 & 0 & 0 & 0 & 0.000000 & ⋯ & 0.000000 & 0.000000 & 0.000000 & 2.584963 & 0.000000 & 0.000000 & 1.584963 & 0.000000 & 1.000000 & 1.000000\\\\\n",
       "\tGTEX-1S5ZU-2526-SM-E6CIF & 2.321928 & 2.807355 & 0.000000 & 0 & 0 & 0 & 0 & 0 & 0 & 3.000000 & ⋯ & 0.000000 & 0.000000 & 1.584963 & 3.584963 & 0.000000 & 0.000000 & 0.000000 & 0.000000 & 0.000000 & 1.000000\\\\\n",
       "\tGTEX-11EMC-3226-SM-5EGKW & 5.357552 & 7.467606 & 5.930737 & 0 & 0 & 0 & 0 & 0 & 0 & 1.584963 & ⋯ & 1.000000 & 4.169925 & 2.321928 & 3.906891 & 3.459432 & 3.807355 & 2.807355 & 3.000000 & 2.000000 & 3.321928\\\\\n",
       "\tGTEX-11ZUS-2926-SM-5FQSL & 5.169925 & 6.129283 & 6.894818 & 0 & 0 & 0 & 0 & 0 & 0 & 0.000000 & ⋯ & 0.000000 & 4.247928 & 1.000000 & 2.584963 & 6.044394 & 2.584963 & 2.321928 & 1.584963 & 2.000000 & 1.000000\\\\\n",
       "\\end{tabular}\n"
      ],
      "text/markdown": [
       "\n",
       "A data.frame: 6 × 3000\n",
       "\n",
       "| <!--/--> | ENSG00000229344.1 &lt;dbl&gt; | ENSG00000198744.5 &lt;dbl&gt; | ENSG00000187730.8 &lt;dbl&gt; | ENSG00000169717.6 &lt;dbl&gt; | ENSG00000162592.9 &lt;dbl&gt; | ENSG00000235054.3 &lt;dbl&gt; | ENSG00000228750.6 &lt;dbl&gt; | ENSG00000232208.2 &lt;dbl&gt; | ENSG00000235263.1 &lt;dbl&gt; | ENSG00000171819.4 &lt;dbl&gt; | ⋯ ⋯ | ENSG00000210107.1 &lt;dbl&gt; | ENSG00000210112.1 &lt;dbl&gt; | ENSG00000210127.1 &lt;dbl&gt; | ENSG00000210144.1 &lt;dbl&gt; | ENSG00000210154.1 &lt;dbl&gt; | ENSG00000210156.1 &lt;dbl&gt; | ENSG00000210176.1 &lt;dbl&gt; | ENSG00000210191.1 &lt;dbl&gt; | ENSG00000210195.2 &lt;dbl&gt; | ENSG00000210196.2 &lt;dbl&gt; |\n",
       "|---|---|---|---|---|---|---|---|---|---|---|---|---|---|---|---|---|---|---|---|---|---|\n",
       "| GTEX-PLZ4-1226-SM-2I5FE | 5.392317 | 5.672425 | 0.000000 | 0 | 0 | 0 | 0 | 0 | 0 | 0.000000 | ⋯ | 0.000000 | 2.000000 | 0.000000 | 1.000000 | 0.000000 | 0.000000 | 0.000000 | 1.000000 | 0.000000 | 0.000000 |\n",
       "| GTEX-1EMGI-2726-SM-7P8S4 | 6.857981 | 7.754888 | 0.000000 | 0 | 0 | 0 | 0 | 0 | 0 | 6.247928 | ⋯ | 3.169925 | 3.459432 | 1.584963 | 2.000000 | 0.000000 | 1.584963 | 2.584963 | 0.000000 | 1.584963 | 0.000000 |\n",
       "| GTEX-1C2JI-0008-SM-EXOHZ | 3.584963 | 2.321928 | 0.000000 | 0 | 0 | 0 | 0 | 0 | 0 | 0.000000 | ⋯ | 0.000000 | 0.000000 | 0.000000 | 2.584963 | 0.000000 | 0.000000 | 1.584963 | 0.000000 | 1.000000 | 1.000000 |\n",
       "| GTEX-1S5ZU-2526-SM-E6CIF | 2.321928 | 2.807355 | 0.000000 | 0 | 0 | 0 | 0 | 0 | 0 | 3.000000 | ⋯ | 0.000000 | 0.000000 | 1.584963 | 3.584963 | 0.000000 | 0.000000 | 0.000000 | 0.000000 | 0.000000 | 1.000000 |\n",
       "| GTEX-11EMC-3226-SM-5EGKW | 5.357552 | 7.467606 | 5.930737 | 0 | 0 | 0 | 0 | 0 | 0 | 1.584963 | ⋯ | 1.000000 | 4.169925 | 2.321928 | 3.906891 | 3.459432 | 3.807355 | 2.807355 | 3.000000 | 2.000000 | 3.321928 |\n",
       "| GTEX-11ZUS-2926-SM-5FQSL | 5.169925 | 6.129283 | 6.894818 | 0 | 0 | 0 | 0 | 0 | 0 | 0.000000 | ⋯ | 0.000000 | 4.247928 | 1.000000 | 2.584963 | 6.044394 | 2.584963 | 2.321928 | 1.584963 | 2.000000 | 1.000000 |\n",
       "\n"
      ],
      "text/plain": [
       "                         ENSG00000229344.1 ENSG00000198744.5 ENSG00000187730.8\n",
       "GTEX-PLZ4-1226-SM-2I5FE  5.392317          5.672425          0.000000         \n",
       "GTEX-1EMGI-2726-SM-7P8S4 6.857981          7.754888          0.000000         \n",
       "GTEX-1C2JI-0008-SM-EXOHZ 3.584963          2.321928          0.000000         \n",
       "GTEX-1S5ZU-2526-SM-E6CIF 2.321928          2.807355          0.000000         \n",
       "GTEX-11EMC-3226-SM-5EGKW 5.357552          7.467606          5.930737         \n",
       "GTEX-11ZUS-2926-SM-5FQSL 5.169925          6.129283          6.894818         \n",
       "                         ENSG00000169717.6 ENSG00000162592.9 ENSG00000235054.3\n",
       "GTEX-PLZ4-1226-SM-2I5FE  0                 0                 0                \n",
       "GTEX-1EMGI-2726-SM-7P8S4 0                 0                 0                \n",
       "GTEX-1C2JI-0008-SM-EXOHZ 0                 0                 0                \n",
       "GTEX-1S5ZU-2526-SM-E6CIF 0                 0                 0                \n",
       "GTEX-11EMC-3226-SM-5EGKW 0                 0                 0                \n",
       "GTEX-11ZUS-2926-SM-5FQSL 0                 0                 0                \n",
       "                         ENSG00000228750.6 ENSG00000232208.2 ENSG00000235263.1\n",
       "GTEX-PLZ4-1226-SM-2I5FE  0                 0                 0                \n",
       "GTEX-1EMGI-2726-SM-7P8S4 0                 0                 0                \n",
       "GTEX-1C2JI-0008-SM-EXOHZ 0                 0                 0                \n",
       "GTEX-1S5ZU-2526-SM-E6CIF 0                 0                 0                \n",
       "GTEX-11EMC-3226-SM-5EGKW 0                 0                 0                \n",
       "GTEX-11ZUS-2926-SM-5FQSL 0                 0                 0                \n",
       "                         ENSG00000171819.4 ⋯ ENSG00000210107.1\n",
       "GTEX-PLZ4-1226-SM-2I5FE  0.000000          ⋯ 0.000000         \n",
       "GTEX-1EMGI-2726-SM-7P8S4 6.247928          ⋯ 3.169925         \n",
       "GTEX-1C2JI-0008-SM-EXOHZ 0.000000          ⋯ 0.000000         \n",
       "GTEX-1S5ZU-2526-SM-E6CIF 3.000000          ⋯ 0.000000         \n",
       "GTEX-11EMC-3226-SM-5EGKW 1.584963          ⋯ 1.000000         \n",
       "GTEX-11ZUS-2926-SM-5FQSL 0.000000          ⋯ 0.000000         \n",
       "                         ENSG00000210112.1 ENSG00000210127.1 ENSG00000210144.1\n",
       "GTEX-PLZ4-1226-SM-2I5FE  2.000000          0.000000          1.000000         \n",
       "GTEX-1EMGI-2726-SM-7P8S4 3.459432          1.584963          2.000000         \n",
       "GTEX-1C2JI-0008-SM-EXOHZ 0.000000          0.000000          2.584963         \n",
       "GTEX-1S5ZU-2526-SM-E6CIF 0.000000          1.584963          3.584963         \n",
       "GTEX-11EMC-3226-SM-5EGKW 4.169925          2.321928          3.906891         \n",
       "GTEX-11ZUS-2926-SM-5FQSL 4.247928          1.000000          2.584963         \n",
       "                         ENSG00000210154.1 ENSG00000210156.1 ENSG00000210176.1\n",
       "GTEX-PLZ4-1226-SM-2I5FE  0.000000          0.000000          0.000000         \n",
       "GTEX-1EMGI-2726-SM-7P8S4 0.000000          1.584963          2.584963         \n",
       "GTEX-1C2JI-0008-SM-EXOHZ 0.000000          0.000000          1.584963         \n",
       "GTEX-1S5ZU-2526-SM-E6CIF 0.000000          0.000000          0.000000         \n",
       "GTEX-11EMC-3226-SM-5EGKW 3.459432          3.807355          2.807355         \n",
       "GTEX-11ZUS-2926-SM-5FQSL 6.044394          2.584963          2.321928         \n",
       "                         ENSG00000210191.1 ENSG00000210195.2 ENSG00000210196.2\n",
       "GTEX-PLZ4-1226-SM-2I5FE  1.000000          0.000000          0.000000         \n",
       "GTEX-1EMGI-2726-SM-7P8S4 0.000000          1.584963          0.000000         \n",
       "GTEX-1C2JI-0008-SM-EXOHZ 0.000000          1.000000          1.000000         \n",
       "GTEX-1S5ZU-2526-SM-E6CIF 0.000000          0.000000          1.000000         \n",
       "GTEX-11EMC-3226-SM-5EGKW 3.000000          2.000000          3.321928         \n",
       "GTEX-11ZUS-2926-SM-5FQSL 1.584963          2.000000          1.000000         "
      ]
     },
     "metadata": {},
     "output_type": "display_data"
    }
   ],
   "source": [
    "head(datExpr)"
   ]
  },
  {
   "cell_type": "code",
   "execution_count": 48,
   "metadata": {},
   "outputs": [
    {
     "data": {
      "text/html": [
       "<table>\n",
       "<caption>A data.frame: 6 × 2</caption>\n",
       "<thead>\n",
       "\t<tr><th></th><th scope=col>SMTS</th><th scope=col>SMTSD</th></tr>\n",
       "\t<tr><th></th><th scope=col>&lt;chr&gt;</th><th scope=col>&lt;chr&gt;</th></tr>\n",
       "</thead>\n",
       "<tbody>\n",
       "\t<tr><th scope=row>GTEX-PLZ4-1226-SM-2I5FE</th><td>Thyroid</td><td>Thyroid                            </td></tr>\n",
       "\t<tr><th scope=row>GTEX-1EMGI-2726-SM-7P8S4</th><td>Colon  </td><td>Colon - Transverse                 </td></tr>\n",
       "\t<tr><th scope=row>GTEX-1C2JI-0008-SM-EXOHZ</th><td>Skin   </td><td>Cells - Cultured fibroblasts       </td></tr>\n",
       "\t<tr><th scope=row>GTEX-1S5ZU-2526-SM-E6CIF</th><td>Skin   </td><td>Skin - Not Sun Exposed (Suprapubic)</td></tr>\n",
       "\t<tr><th scope=row>GTEX-11EMC-3226-SM-5EGKW</th><td>Brain  </td><td>Brain - Cortex                     </td></tr>\n",
       "\t<tr><th scope=row>GTEX-11ZUS-2926-SM-5FQSL</th><td>Brain  </td><td>Brain - Cortex                     </td></tr>\n",
       "</tbody>\n",
       "</table>\n"
      ],
      "text/latex": [
       "A data.frame: 6 × 2\n",
       "\\begin{tabular}{r|ll}\n",
       "  & SMTS & SMTSD\\\\\n",
       "  & <chr> & <chr>\\\\\n",
       "\\hline\n",
       "\tGTEX-PLZ4-1226-SM-2I5FE & Thyroid & Thyroid                            \\\\\n",
       "\tGTEX-1EMGI-2726-SM-7P8S4 & Colon   & Colon - Transverse                 \\\\\n",
       "\tGTEX-1C2JI-0008-SM-EXOHZ & Skin    & Cells - Cultured fibroblasts       \\\\\n",
       "\tGTEX-1S5ZU-2526-SM-E6CIF & Skin    & Skin - Not Sun Exposed (Suprapubic)\\\\\n",
       "\tGTEX-11EMC-3226-SM-5EGKW & Brain   & Brain - Cortex                     \\\\\n",
       "\tGTEX-11ZUS-2926-SM-5FQSL & Brain   & Brain - Cortex                     \\\\\n",
       "\\end{tabular}\n"
      ],
      "text/markdown": [
       "\n",
       "A data.frame: 6 × 2\n",
       "\n",
       "| <!--/--> | SMTS &lt;chr&gt; | SMTSD &lt;chr&gt; |\n",
       "|---|---|---|\n",
       "| GTEX-PLZ4-1226-SM-2I5FE | Thyroid | Thyroid                             |\n",
       "| GTEX-1EMGI-2726-SM-7P8S4 | Colon   | Colon - Transverse                  |\n",
       "| GTEX-1C2JI-0008-SM-EXOHZ | Skin    | Cells - Cultured fibroblasts        |\n",
       "| GTEX-1S5ZU-2526-SM-E6CIF | Skin    | Skin - Not Sun Exposed (Suprapubic) |\n",
       "| GTEX-11EMC-3226-SM-5EGKW | Brain   | Brain - Cortex                      |\n",
       "| GTEX-11ZUS-2926-SM-5FQSL | Brain   | Brain - Cortex                      |\n",
       "\n"
      ],
      "text/plain": [
       "                         SMTS    SMTSD                              \n",
       "GTEX-PLZ4-1226-SM-2I5FE  Thyroid Thyroid                            \n",
       "GTEX-1EMGI-2726-SM-7P8S4 Colon   Colon - Transverse                 \n",
       "GTEX-1C2JI-0008-SM-EXOHZ Skin    Cells - Cultured fibroblasts       \n",
       "GTEX-1S5ZU-2526-SM-E6CIF Skin    Skin - Not Sun Exposed (Suprapubic)\n",
       "GTEX-11EMC-3226-SM-5EGKW Brain   Brain - Cortex                     \n",
       "GTEX-11ZUS-2926-SM-5FQSL Brain   Brain - Cortex                     "
      ]
     },
     "metadata": {},
     "output_type": "display_data"
    }
   ],
   "source": [
    "rownames(allTraits) <- allTraits$SAMPID#<--check\n",
    "datTraits <- allTraits[keepSamples,labels]\n",
    "rownames(datTraits) <- rownames(allTraits[keepSamples,labels])\n",
    "datTraits <- datTraits[rownames(datExpr),]\n",
    "head(datTraits)"
   ]
  },
  {
   "cell_type": "code",
   "execution_count": 49,
   "metadata": {},
   "outputs": [],
   "source": [
    "collectGarbage();"
   ]
  },
  {
   "cell_type": "code",
   "execution_count": 50,
   "metadata": {},
   "outputs": [
    {
     "data": {
      "text/html": [
       "<strong>png:</strong> 2"
      ],
      "text/latex": [
       "\\textbf{png:} 2"
      ],
      "text/markdown": [
       "**png:** 2"
      ],
      "text/plain": [
       "png \n",
       "  2 "
      ]
     },
     "metadata": {},
     "output_type": "display_data"
    }
   ],
   "source": [
    "# Re-cluster samples\n",
    "sampleTree2 = hclust(dist(datExpr), method = \"average\")\n",
    "fontsize=.5\n",
    "# Convert traits to a color representation: white means low, red means high, grey means missing entry\n",
    "traitColors = labels2colors(datTraits);\n",
    "# Plot the sample dendrogram and the colors underneath.\n",
    "pdf(\"wgcna_samplehiercut.pdf\")\n",
    "plotDendroAndColors(sampleTree2, traitColors,\n",
    "    groupLabels = labels,\n",
    "    main = \"Sample dendrogram and trait heatmap\",\n",
    "    dendroLabels=FALSE,\n",
    "    rowText=datTraits,\n",
    "    rowTextIgnore=labels[[2]]\n",
    "    )\n",
    "dev.off()"
   ]
  },
  {
   "cell_type": "markdown",
   "metadata": {},
   "source": [
    "## 2"
   ]
  },
  {
   "cell_type": "code",
   "execution_count": 51,
   "metadata": {},
   "outputs": [
    {
     "name": "stdout",
     "output_type": "stream",
     "text": [
      "pickSoftThreshold: will use block size 3000.\n",
      " pickSoftThreshold: calculating connectivity for given powers...\n",
      "   ..working on genes 1 through 3000 of 3000\n",
      "   Power SFT.R.sq  slope truncated.R.sq mean.k. median.k. max.k.\n",
      "1      1   0.1690 -0.742          0.300   773.0   501.000   1430\n",
      "2      2   0.1120 -0.551          0.881   585.0   152.000   1280\n",
      "3      3   0.0439 -0.317          0.968   515.0    92.700   1210\n",
      "4      4   0.0536 -0.315          0.982   469.0    68.100   1160\n",
      "5      5   0.0643 -0.318          0.985   433.0    57.000   1110\n",
      "6      6   0.0776 -0.321          0.984   403.0    47.200   1070\n",
      "7      7   0.0940 -0.324          0.992   377.0    39.900   1040\n",
      "8      8   0.1150 -0.337          0.989   354.0    34.300   1000\n",
      "9      9   0.1340 -0.339          0.986   334.0    29.600    972\n",
      "10    10   0.1540 -0.338          0.978   315.0    25.700    943\n",
      "11    12   0.1850 -0.354          0.954   283.0    19.700    889\n",
      "12    14   0.2590 -0.368          0.936   256.0    15.200    841\n",
      "13    16   0.3060 -0.378          0.900   233.0    12.100    798\n",
      "14    18   0.3590 -0.392          0.865   213.0     9.620    759\n",
      "15    20   0.4450 -0.408          0.871   195.0     7.640    723\n",
      "16    22   0.5250 -0.420          0.878   180.0     6.080    689\n",
      "17    24   0.5580 -0.429          0.849   166.0     4.900    659\n",
      "18    26   0.6170 -0.446          0.841   154.0     3.920    630\n",
      "19    28   0.6840 -0.460          0.856   143.0     3.160    604\n",
      "20    30   0.7250 -0.474          0.860   134.0     2.630    579\n",
      "21    32   0.7710 -0.493          0.869   125.0     2.210    556\n",
      "22    34   0.7910 -0.502          0.861   117.0     1.850    534\n",
      "23    36   0.8230 -0.515          0.860   109.0     1.560    514\n",
      "24    38   0.8310 -0.529          0.844   103.0     1.300    494\n",
      "25    40   0.8420 -0.540          0.849    96.5     1.130    476\n",
      "26    42   0.8530 -0.561          0.845    90.9     0.983    459\n",
      "27    44   0.8650 -0.569          0.848    85.7     0.860    443\n",
      "28    46   0.8610 -0.588          0.843    80.9     0.742    428\n",
      "29    48   0.8700 -0.599          0.844    76.5     0.663    414\n",
      "30    50   0.8830 -0.615          0.856    72.4     0.583    400\n"
     ]
    },
    {
     "data": {
      "text/html": [
       "<strong>png:</strong> 2"
      ],
      "text/latex": [
       "\\textbf{png:} 2"
      ],
      "text/markdown": [
       "**png:** 2"
      ],
      "text/plain": [
       "png \n",
       "  2 "
      ]
     },
     "metadata": {},
     "output_type": "display_data"
    }
   ],
   "source": [
    "# Choose a set of soft-thresholding powers\n",
    "powers = c(c(1:10), seq(from = 12, to=50, by=2))\n",
    "# Call the network topology analysis function\n",
    "sft = pickSoftThreshold(datExpr, powerVector = powers, verbose = 5)\n",
    "# Plot the results:\n",
    "sizeGrWindow(9, 5)\n",
    "pdf(\"wgcna_scaletopology.pdf\")\n",
    "par(mfrow = c(1,2));\n",
    "cex1 = 0.9;\n",
    "# Scale-free topology fit index as a function of the soft-thresholding power\n",
    "plot(sft$fitIndices[,1], -sign(sft$fitIndices[,3])*sft$fitIndices[,2],\n",
    "xlab=\"Soft Threshold (power)\",ylab=\"Scale Free Topology Model Fit,signed R^2\",type=\"n\",\n",
    "main = paste(\"Scale independence\"));\n",
    "text(sft$fitIndices[,1], -sign(sft$fitIndices[,3])*sft$fitIndices[,2],\n",
    "labels=powers,cex=cex1,col=\"red\");\n",
    "# this line corresponds to using an R^2 cut-off of h\n",
    "abline(h=0.90,col=\"red\")\n",
    "# Mean connectivity as a function of the soft-thresholding power\n",
    "plot(sft$fitIndices[,1], sft$fitIndices[,5],\n",
    "xlab=\"Soft Threshold (power)\",ylab=\"Mean Connectivity\", type=\"n\",\n",
    "main = paste(\"Mean connectivity\"))\n",
    "text(sft$fitIndices[,1], sft$fitIndices[,5], labels=powers, cex=cex1,col=\"red\")\n",
    "dev.off()"
   ]
  },
  {
   "cell_type": "code",
   "execution_count": 52,
   "metadata": {},
   "outputs": [
    {
     "name": "stdout",
     "output_type": "stream",
     "text": [
      " Calculating module eigengenes block-wise from all genes\n",
      "   Flagging genes and samples with too many missing values...\n",
      "    ..step 1\n",
      " ..Working on block 1 .\n",
      "    TOM calculation: adjacency..\n",
      "    ..will use 2 parallel threads.\n",
      "     Fraction of slow calculations: 0.000000\n",
      "    ..connectivity..\n",
      "    ..matrix multiplication (system BLAS)..\n",
      "    ..normalization..\n",
      "    ..done.\n",
      "   ..saving TOM for block 1 into file wgcna-block.1.RData\n",
      " ....clustering..\n",
      " ....detecting modules..\n",
      " ....calculating module eigengenes..\n",
      " ....checking kME in modules..\n",
      "     ..removing 1 genes from module 33 because their KME is too low.\n",
      " ..merging modules that are too close..\n",
      "     mergeCloseModules: Merging modules whose distance is less than 0.4\n",
      "       Calculating new MEs...\n"
     ]
    }
   ],
   "source": [
    "net = blockwiseModules(datExpr, power = 10,\n",
    "TOMType = \"unsigned\", minModuleSize = 5,\n",
    "reassignThreshold = 0, mergeCutHeight = 0.4,\n",
    "numericLabels = TRUE, pamRespectsDendro = FALSE,\n",
    "saveTOMs = TRUE,\n",
    "saveTOMFileBase = \"wgcna\",\n",
    "verbose = 3)"
   ]
  },
  {
   "cell_type": "code",
   "execution_count": 53,
   "metadata": {},
   "outputs": [
    {
     "data": {
      "text/html": [
       "<strong>png:</strong> 2"
      ],
      "text/latex": [
       "\\textbf{png:} 2"
      ],
      "text/markdown": [
       "**png:** 2"
      ],
      "text/plain": [
       "png \n",
       "  2 "
      ]
     },
     "metadata": {},
     "output_type": "display_data"
    }
   ],
   "source": [
    "# open a graphics window\n",
    "sizeGrWindow(12, 9)\n",
    "pdf(\"wgcna_netdendograms.pdf\")\n",
    "# Convert labels to colors for plotting\n",
    "mergedColors = labels2colors(net$colors)\n",
    "# Plot the dendrogram and the module colors underneath\n",
    "plotDendroAndColors(net$dendrograms[[1]], mergedColors[net$blockGenes[[1]]],\n",
    "\"Module colors\",\n",
    "dendroLabels = FALSE, hang = 0.03,\n",
    "addGuide = TRUE, guideHang = 0.05)\n",
    "dev.off()"
   ]
  },
  {
   "cell_type": "code",
   "execution_count": 54,
   "metadata": {},
   "outputs": [],
   "source": [
    "moduleLabels = net$colors\n",
    "moduleColors = labels2colors(net$colors)\n",
    "MEs = net$MEs;\n",
    "geneTree = net$dendrograms[[1]];"
   ]
  },
  {
   "cell_type": "markdown",
   "metadata": {},
   "source": [
    "## 3"
   ]
  },
  {
   "cell_type": "code",
   "execution_count": null,
   "metadata": {},
   "outputs": [],
   "source": [
    "#datTraits$cases.0.project.primary_site <- match(datTraits$cases.0.project.primary_site, unique(datTraits$cases.0.project.primary_site))\n",
    "#datTraits$cases.0.project.disease_type <- match(datTraits$cases.0.project.disease_type, unique(datTraits$cases.0.project.disease_type))"
   ]
  },
  {
   "cell_type": "code",
   "execution_count": 55,
   "metadata": {},
   "outputs": [],
   "source": [
    "datTraits$SMTS <- match(datTraits$SMTS, unique(datTraits$SMTS))\n",
    "datTraits$SMTSD <- match(datTraits$SMTSD, unique(datTraits$SMTSD))"
   ]
  },
  {
   "cell_type": "code",
   "execution_count": null,
   "metadata": {},
   "outputs": [],
   "source": [
    "#datTraits$cancer.type <- match(datTraits$cancer.type, unique(datTraits$cancer.type))\n",
    "datTraits$Subtype_Selected <- match(datTraits$Subtype_Selected, unique(datTraits$Subtype_Selected))\n",
    "datTraits$Subtype_Selected_Lum <- match(datTraits$Subtype_Selected_Lum, unique(datTraits$Subtype_Selected_Lum))"
   ]
  },
  {
   "cell_type": "code",
   "execution_count": 23,
   "metadata": {},
   "outputs": [],
   "source": [
    "#datTraits$cancer.type <- match(datTraits$cancer.type, unique(datTraits$cancer.type))\n",
    "datTraits$Type <- match(datTraits$Type, unique(datTraits$Type))\n",
    "datTraits$Subtype <- match(datTraits$Subtype, unique(datTraits$Subtype))"
   ]
  },
  {
   "cell_type": "code",
   "execution_count": 57,
   "metadata": {},
   "outputs": [],
   "source": [
    "# Define numbers of genes and samples\n",
    "nGenes = ncol(datExpr);\n",
    "nSamples = nrow(datExpr);\n",
    "# Recalculate MEs with color labels\n",
    "MEs0 = moduleEigengenes(datExpr, moduleColors)$eigengenes\n",
    "MEs = orderMEs(MEs0)\n",
    "moduleTraitCor = cor(MEs, datTraits, use = \"p\");\n",
    "moduleTraitPvalue = corPvalueStudent(moduleTraitCor, nSamples);"
   ]
  },
  {
   "cell_type": "code",
   "execution_count": 58,
   "metadata": {},
   "outputs": [
    {
     "data": {
      "text/html": [
       "<strong>png:</strong> 2"
      ],
      "text/latex": [
       "\\textbf{png:} 2"
      ],
      "text/markdown": [
       "**png:** 2"
      ],
      "text/plain": [
       "png \n",
       "  2 "
      ]
     },
     "metadata": {},
     "output_type": "display_data"
    }
   ],
   "source": [
    "pdf(\"wgcna_moduleTrait.pdf\", width=9, height=18)\n",
    "# Will display correlations and their p-values\n",
    "textMatrix = paste(signif(moduleTraitCor, 2), \"\\n(\",\n",
    "signif(moduleTraitPvalue, 1), \")\", sep = \"\");\n",
    "dim(textMatrix) = dim(moduleTraitCor)\n",
    "par(mar = c(6, 8.5, 3, 3));\n",
    "# Display the correlation values within a heatmap plot\n",
    "labeledHeatmap(Matrix = moduleTraitCor,\n",
    "xLabels = labels,\n",
    "yLabels = names(MEs),\n",
    "ySymbols = names(MEs),\n",
    "colorLabels = FALSE,\n",
    "colors = blueWhiteRed(50),\n",
    "textMatrix = textMatrix,\n",
    "setStdMargins = FALSE,\n",
    "cex.text = 0.5,\n",
    "zlim = c(-1,1),\n",
    "main = paste(\"Module-trait relationships\"))\n",
    "dev.off()"
   ]
  },
  {
   "cell_type": "code",
   "execution_count": 59,
   "metadata": {},
   "outputs": [
    {
     "name": "stderr",
     "output_type": "stream",
     "text": [
      "Warning message in storage.mode(y) <- \"double\":\n",
      "“NAs introduced by coercion”\n"
     ]
    }
   ],
   "source": [
    "# Define variable weight containing the weight column of datTrait\n",
    "weight = as.data.frame(rownames(datTraits));\n",
    "names(weight) = \"weight\"\n",
    "# names (colors) of the modules\n",
    "modNames = substring(names(MEs), 3)\n",
    "geneModuleMembership = as.data.frame(cor(datExpr, MEs, use = \"p\"));\n",
    "MMPvalue = as.data.frame(corPvalueStudent(as.matrix(geneModuleMembership), nSamples));\n",
    "names(geneModuleMembership) = paste(\"MM\", modNames, sep=\"\");\n",
    "names(MMPvalue) = paste(\"p.MM\", modNames, sep=\"\");\n",
    "geneTraitSignificance = as.data.frame(cor(datExpr, weight, use = \"p\"));\n",
    "GSPvalue = as.data.frame(corPvalueStudent(as.matrix(geneTraitSignificance), nSamples));\n",
    "names(geneTraitSignificance) = paste(\"GS.\", names(weight), sep=\"\");\n",
    "names(GSPvalue) = paste(\"p.GS.\", names(weight), sep=\"\");"
   ]
  },
  {
   "cell_type": "code",
   "execution_count": 60,
   "metadata": {},
   "outputs": [
    {
     "ename": "ERROR",
     "evalue": "Error in abs(geneModuleMembership[moduleGenes, column]): non-numeric argument to mathematical function\n",
     "output_type": "error",
     "traceback": [
      "Error in abs(geneModuleMembership[moduleGenes, column]): non-numeric argument to mathematical function\nTraceback:\n",
      "1. verboseScatterplot(abs(geneModuleMembership[moduleGenes, column]), \n .     abs(geneTraitSignificance[moduleGenes, 1]), xlab = paste(\"Module Membership in\", \n .         module, \"module\"), ylab = \"Gene significance\", main = paste(\"Module membership vs. gene significance\\n\"), \n .     cex.main = 1.2, cex.lab = 1.2, cex.axis = 1.2, col = module)"
     ]
    }
   ],
   "source": [
    "module = \"gray\"\n",
    "column = match(module, modNames);\n",
    "moduleGenes = moduleColors==module;\n",
    "sizeGrWindow(7, 7);\n",
    "pdf(\"wgcna_modulemembership.pdf\")\n",
    "par(mfrow = c(1,1));\n",
    "verboseScatterplot(abs(geneModuleMembership[moduleGenes, column]),\n",
    "    abs(geneTraitSignificance[moduleGenes, 1]),\n",
    "    xlab = paste(\"Module Membership in\", module, \"module\"),\n",
    "    ylab = \"Gene significance\",\n",
    "    main = paste(\"Module membership vs. gene significance\\n\"),\n",
    "    cex.main = 1.2, cex.lab = 1.2, cex.axis = 1.2, col = module)\n",
    "dev.off()"
   ]
  },
  {
   "cell_type": "code",
   "execution_count": null,
   "metadata": {},
   "outputs": [],
   "source": [
    "# Create the starting data frame\n",
    "geneInfo0 = data.frame(\n",
    "moduleColor = moduleColors,\n",
    "geneTraitSignificance,\n",
    "GSPvalue)\n",
    "# Order modules by their significance for weight\n",
    "modOrder = order(-abs(cor(MEs, weight, use = \"p\")));\n",
    "# Add module membership information in the chosen order\n",
    "for (mod in 1:ncol(geneModuleMembership))\n",
    "{\n",
    "oldNames = names(geneInfo0)\n",
    "geneInfo0 = data.frame(geneInfo0, geneModuleMembership[, modOrder[mod]],\n",
    "MMPvalue[, modOrder[mod]]);\n",
    "names(geneInfo0) = c(oldNames, paste(\"MM.\", modNames[modOrder[mod]], sep=\"\"),\n",
    "paste(\"p.MM.\", modNames[modOrder[mod]], sep=\"\"))\n",
    "}\n",
    "# Order the genes in the geneInfo variable first by module color, then by geneTraitSignificance\n",
    "geneOrder = order(geneInfo0$moduleColor, -abs(geneInfo0$GS.weight));\n",
    "geneInfo = geneInfo0[geneOrder, ]\n",
    "write.csv(geneInfo, file = \"geneInfo.csv\")"
   ]
  },
  {
   "cell_type": "code",
   "execution_count": null,
   "metadata": {},
   "outputs": [],
   "source": [
    "# Read in the probe annotation\n",
    "annot = read.csv(file = \"geneInfo.csv\");\n",
    "# Match probes in the data set to the probe IDs in the annotation file\n",
    "probes = names(datExpr)\n",
    "allLLIDs = probes\n",
    "# $ Choose interesting modules\n",
    "intModules = c(\"greenyellow\", \"darkorange\", \"darkgreen\")\n",
    "for (module in intModules)\n",
    "{\n",
    "# Select module probes\n",
    "modGenes = (moduleColors==module)\n",
    "# Get their entrez ID codes\n",
    "modLLIDs = probes[modGenes];\n",
    "# Write them into a file\n",
    "fileName = paste(\"LocusLinkIDs-\", module, \".txt\", sep=\"\");\n",
    "write.table(as.data.frame(modLLIDs), file = fileName,\n",
    "row.names = FALSE, col.names = FALSE, quote=FALSE)\n",
    "}\n",
    "# As background in the enrichment analysis, we will use all probes in the analysis.\n",
    "fileName = paste(\"LocusLinkIDs-all.txt\", sep=\"\");\n",
    "write.table(as.data.frame(allLLIDs), file = fileName,\n",
    "row.names = FALSE, col.names = FALSE, quote=FALSE)"
   ]
  },
  {
   "cell_type": "code",
   "execution_count": null,
   "metadata": {},
   "outputs": [],
   "source": [
    "require(\"biomaRt\")\n",
    "mart <- useMart(\"ENSEMBL_MART_ENSEMBL\")\n",
    "mart <- useDataset(\"hsapiens_gene_ensembl\", mart)\n",
    "\n",
    "ens <- allLLIDs\n",
    "ensLookup <- gsub(\"\\\\.[0-9]*$\", \"\", ens)\n",
    "\n",
    "annotLookup <- getBM(\n",
    "  mart=mart,\n",
    "  attributes=c(\"ensembl_transcript_id\", \"ensembl_gene_id\", \"gene_biotype\", \"external_gene_name\"),\n",
    "  filter=\"ensembl_gene_id\",\n",
    "  values=ensLookup,\n",
    "  uniqueRows=TRUE)\n",
    "\n",
    "annotLookup <- data.frame(\n",
    "  ens[match(annotLookup$ensembl_gene_id, ensLookup)],\n",
    "  annotLookup)\n",
    "\n",
    "colnames(annotLookup) <- c(\n",
    "  \"original_id\",\n",
    "  c(\"ensembl_transcript_id\", \"ensembl_gene_id\", \"gene_biotype\", \"external_gene_name\"))\n",
    "\n",
    "annotLookup"
   ]
  },
  {
   "cell_type": "markdown",
   "metadata": {},
   "source": [
    "## 5 "
   ]
  },
  {
   "cell_type": "code",
   "execution_count": 61,
   "metadata": {},
   "outputs": [
    {
     "data": {
      "text/html": [
       "<strong>png:</strong> 2"
      ],
      "text/latex": [
       "\\textbf{png:} 2"
      ],
      "text/markdown": [
       "**png:** 2"
      ],
      "text/plain": [
       "png \n",
       "  2 "
      ]
     },
     "metadata": {},
     "output_type": "display_data"
    }
   ],
   "source": [
    "# Re-cluster samples\n",
    "sampleTree3 = hclust(dist(MEs0), method = \"average\")\n",
    "# Convert traits to a color representation: white means low, red means high, grey means missing entry\n",
    "traitColors = labels2colors(datTraits);\n",
    "# Plot the sample dendrogram and the colors underneath.\n",
    "pdf(\"wgcna_nethier.pdf\", width=10)\n",
    "# Set the plot margin: bottom, left, top & right\n",
    "par(mar = c(5, 4, 1.4, 0.2) + 0.1,\n",
    "    xpd = NA) # allow content to go into outer margin \n",
    "plotDendroAndColors(sampleTree3, traitColors,\n",
    "groupLabels = labels,\n",
    "main = \"Network dendrogram and trait heatmap\",\n",
    "dendroLabels=FALSE,\n",
    "#rowText=allTraits[keepSamples,labels],\n",
    "#rowTextIgnore=labels[[2]],\n",
    "addGuide=TRUE)\n",
    "dev.off()"
   ]
  },
  {
   "cell_type": "code",
   "execution_count": null,
   "metadata": {},
   "outputs": [],
   "source": [
    "rownames(allTraits)=allTraits$file_name\n",
    "unique(allTraits[rownames(datTraits),'Subtype_Selected'])"
   ]
  },
  {
   "cell_type": "code",
   "execution_count": null,
   "metadata": {},
   "outputs": [],
   "source": [
    "pdf(\"wgcna_nethier_legend.pdf\", width=10)\n",
    "add_legend(\"topleft\", legend = unique(allTraits[rownames(datTraits),'Subtype_Selected']), pch = 1, pt.cex = 1, cex = 1.5, bty = 'n', ncol=2,\n",
    "       inset = c(0.1, 0.), # place outside\n",
    "       title = \"SMTS\", \n",
    "       col = traitColors)\n",
    "dev.off()"
   ]
  },
  {
   "cell_type": "code",
   "execution_count": null,
   "metadata": {},
   "outputs": [],
   "source": [
    "collectGarbage()"
   ]
  },
  {
   "cell_type": "code",
   "execution_count": null,
   "metadata": {},
   "outputs": [],
   "source": [
    "clust = cutreeStatic(sampleTree3, cutHeight = 0.4, minSize = 10)\n",
    "table(clust)"
   ]
  },
  {
   "cell_type": "code",
   "execution_count": null,
   "metadata": {},
   "outputs": [],
   "source": [
    "# Re-cluster samples after cut\n",
    "sampleTree4 = hclust(dist(MEs0[(clust==1),]), method = \"average\")\n",
    "# Convert traits to a color representation: white means low, red means high, grey means missing entry\n",
    "traitColors = labels2colors(datTraits[(clust==1),]);\n",
    "# Plot the sample dendrogram and the colors underneath.\n",
    "svg(\"nethiercut.svg\")\n",
    "plotDendroAndColors(sampleTree4, traitColors,\n",
    "groupLabels = labels,\n",
    "main = \"Network dendrogram and trait heatmap\",\n",
    "dendroLabels=FALSE)\n",
    "dev.off()"
   ]
  },
  {
   "cell_type": "code",
   "execution_count": null,
   "metadata": {},
   "outputs": [],
   "source": [
    "# Calculate topological overlap anew: this could be done more efficiently by saving the TOM\n",
    "# calculated during module detection, but let us do it again here.\n",
    "dissTOM = 1-TOMsimilarityFromExpr(datExpr, power = 6);\n",
    "# Transform dissTOM with a power to make moderately strong connections more visible in the heatmap\n",
    "plotTOM = dissTOM^7;\n",
    "# Set diagonal to NA for a nicer plot\n",
    "diag(plotTOM) = NA;\n",
    "# Call the plot function\n",
    "sizeGrWindow(9,9)\n",
    "svg(\"networkmap.svg\")\n",
    "TOMplot(plotTOM, geneTree, moduleColors, main = \"Network heatmap plot, all genes\")\n",
    "dev.off()"
   ]
  },
  {
   "cell_type": "code",
   "execution_count": null,
   "metadata": {},
   "outputs": [],
   "source": [
    "#selct genes to be faster\n",
    "nSelect = nGenes*0.7\n",
    "# For reproducibility, we set the random seed\n",
    "set.seed(10);\n",
    "select = sample(nGenes, size = nSelect);\n",
    "selectTOM = dissTOM[select, select];\n",
    "# There’s no simple way of restricting a clustering tree to a subset of genes, so we must re-cluster.\n",
    "selectTree = hclust(as.dist(selectTOM), method = \"average\")\n",
    "selectColors = moduleColors[select];\n",
    "# Open a graphical window\n",
    "sizeGrWindow(9,9)\n",
    "svg(\"networkmap.svg\")\n",
    "# Taking the dissimilarity to a power, say 10, makes the plot more informative by effectively changing\n",
    "# the color palette; setting the diagonal to NA also improves the clarity of the plot\n",
    "plotDiss = selectTOM^7;\n",
    "diag(plotDiss) = NA;\n",
    "TOMplot(plotDiss, selectTree, selectColors, main = \"Network heatmap plot, selected genes\")\n",
    "dev.off()"
   ]
  },
  {
   "cell_type": "code",
   "execution_count": null,
   "metadata": {},
   "outputs": [],
   "source": [
    "# Recalculate module eigengenes\n",
    "MEs = moduleEigengenes(datExpr, moduleColors)$eigengenes\n",
    "# Isolate weight from the clinical traits\n",
    "weight = as.data.frame(datTraits$SMTS);\n",
    "names(weight) = \"SMTS\"\n",
    "# Add the weight to existing module eigengenes\n",
    "MET = orderMEs(cbind(MEs, weight))\n",
    "# Plot the relationships among the eigengenes and the trait\n",
    "sizeGrWindow(5,7.5);\n",
    "svg(\"eigenHeat.svg\")\n",
    "par(cex = 0.9)\n",
    "plotEigengeneNetworks(MET, \"\", marDendro = c(0,4,1,2), marHeatmap = c(3,4,1,2), cex.lab = 0.8, xLabelsAngle = 90)\n",
    "dev.off()"
   ]
  },
  {
   "cell_type": "code",
   "execution_count": null,
   "metadata": {},
   "outputs": [],
   "source": [
    "# Plot the dendrogram\n",
    "sizeGrWindow(6,6);\n",
    "svg(\"eigendendogram.svg\")\n",
    "par(cex = 1.0)\n",
    "plotEigengeneNetworks(MET, \"Eigengene dendrogram\", marDendro = c(0,4,2,0),\n",
    "plotHeatmaps = FALSE)\n",
    "# Plot the heatmap matrix (note: this plot will overwrite the dendrogram plot)\n",
    "par(cex = 1.0)\n",
    "plotEigengeneNetworks(MET, \"Eigengene adjacency heatmap\", marHeatmap = c(3,4,2,2),\n",
    "plotDendrograms = FALSE, xLabelsAngle = 90)\n",
    "dev.off()"
   ]
  },
  {
   "cell_type": "code",
   "execution_count": 63,
   "metadata": {},
   "outputs": [],
   "source": [
    "write.csv(cutree(sampleTree3, k=2), \"wgcna/wgcna_level_5_labels.csv\")\n",
    "write.csv(cutree(sampleTree3, k=4), \"wgcna/wgcna_level_4_labels.csv\")\n",
    "write.csv(cutree(sampleTree3, k=12), \"wgcna/wgcna_level_3_labels.csv\")\n",
    "write.csv(cutree(sampleTree3, k=33), \"wgcna/wgcna_level_2_labels.csv\")\n",
    "write.csv(cutree(sampleTree3, k=208), \"wgcna/wgcna_level_1_labels.csv\")\n",
    "write.csv(cutree(sampleTree3, k=949), \"wgcna/wgcna_level_0_labels.csv\")"
   ]
  },
  {
   "cell_type": "code",
   "execution_count": 64,
   "metadata": {},
   "outputs": [],
   "source": [
    "write.csv(geneModuleMembership, \"wgcna/wgcna_level_0_word-dist.csv\")"
   ]
  },
  {
   "cell_type": "code",
   "execution_count": 65,
   "metadata": {},
   "outputs": [],
   "source": [
    "write.csv(MEs, \"wgcna/wgcna_level_0_topic-dist.csv\")"
   ]
  },
  {
   "cell_type": "code",
   "execution_count": null,
   "metadata": {},
   "outputs": [],
   "source": []
  }
 ],
 "metadata": {
  "kernelspec": {
   "display_name": "R",
   "language": "R",
   "name": "ir"
  },
  "language_info": {
   "codemirror_mode": "r",
   "file_extension": ".r",
   "mimetype": "text/x-r-source",
   "name": "R",
   "pygments_lexer": "r",
   "version": "3.6.3"
  }
 },
 "nbformat": 4,
 "nbformat_minor": 4
}

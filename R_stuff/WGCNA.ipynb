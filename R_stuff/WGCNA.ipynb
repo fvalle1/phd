{
 "cells": [
  {
   "cell_type": "code",
   "execution_count": 70,
   "metadata": {},
   "outputs": [
    {
     "data": {
      "text/html": [
       "'/home/jovyan/work/phd/datasets/unbalanced'"
      ],
      "text/latex": [
       "'/home/jovyan/work/phd/datasets/unbalanced'"
      ],
      "text/markdown": [
       "'/home/jovyan/work/phd/datasets/unbalanced'"
      ],
      "text/plain": [
       "[1] \"/home/jovyan/work/phd/datasets/unbalanced\""
      ]
     },
     "metadata": {},
     "output_type": "display_data"
    }
   ],
   "source": [
    "# Display the current working directory\n",
    "getwd();\n",
    "# If necessary, change the path below to the directory where the data files are stored.\n",
    "# \".\" means current directory. On Windows use a forward slash / instead of the usual \\.\n",
    "workingDir = \"/home/jovyan/work/phd/datasets/unbalanced/\";\n",
    "setwd(workingDir);\n",
    "# Load WGCNA package\n",
    "library(WGCNA)\n",
    "# The following setting is important, do not omit.\n",
    "options(stringsAsFactors = FALSE);"
   ]
  },
  {
   "cell_type": "code",
   "execution_count": 71,
   "metadata": {},
   "outputs": [],
   "source": [
    "add_legend <- function(...) {\n",
    "  opar <- par(fig=c(0, 1, 0, 1), oma=c(0, 0, 0, 0), \n",
    "    mar=c(0, 0, 0, 0), new=TRUE)\n",
    "  on.exit(par(opar))\n",
    "  plot(0, 0, type='n', bty='n', xaxt='n', yaxt='n')\n",
    "  legend(...)\n",
    "}"
   ]
  },
  {
   "cell_type": "code",
   "execution_count": 96,
   "metadata": {},
   "outputs": [],
   "source": [
    "datExpr <- t(read.csv(\"mainTable.csv\", check.names=FALSE, row.names = \"ensg\"))\n",
    "genes <- dimnames(datExpr)[[2]]\n",
    "samples <- dimnames(datExpr)[[1]]\n",
    "datExpr <- as.data.frame(apply(datExpr,2, as.numeric)) #numeric\n",
    "dimnames(datExpr)[[1]] <- samples\n",
    "allTraits <- read.csv(\"files.dat\")"
   ]
  },
  {
   "cell_type": "code",
   "execution_count": 5,
   "metadata": {},
   "outputs": [
    {
     "ename": "ERROR",
     "evalue": "Error in apply(datExpr, 2, log1): object 'datExpr' not found\n",
     "output_type": "error",
     "traceback": [
      "Error in apply(datExpr, 2, log1): object 'datExpr' not found\nTraceback:\n",
      "1. as.data.frame(apply(datExpr, 2, log1))",
      "2. apply(datExpr, 2, log1)"
     ]
    }
   ],
   "source": [
    "log1 <- function(x){\n",
    "    log(x+1)\n",
    "}\n",
    "datExpr <- as.data.frame(apply(datExpr,2, log2))\n",
    "dimnames(datExpr)[[1]] <- samples"
   ]
  },
  {
   "cell_type": "code",
   "execution_count": 97,
   "metadata": {},
   "outputs": [
    {
     "data": {
      "text/html": [
       "<table>\n",
       "<caption>A data.frame: 10 × 5</caption>\n",
       "<thead>\n",
       "\t<tr><th></th><th scope=col>ENSG00000172179</th><th scope=col>ENSG00000170477</th><th scope=col>ENSG00000171401</th><th scope=col>ENSG00000115138</th><th scope=col>ENSG00000163209</th></tr>\n",
       "\t<tr><th></th><th scope=col>&lt;dbl&gt;</th><th scope=col>&lt;dbl&gt;</th><th scope=col>&lt;dbl&gt;</th><th scope=col>&lt;dbl&gt;</th><th scope=col>&lt;dbl&gt;</th></tr>\n",
       "</thead>\n",
       "<tbody>\n",
       "\t<tr><th scope=row>GTEX-1117F-2426-SM-5EGGH</th><td>430.52410</td><td>205.93553</td><td>369.1534</td><td>423.18932</td><td>238.3773</td></tr>\n",
       "\t<tr><th scope=row>GTEX-111CU-0926-SM-5EGIK</th><td>301.79219</td><td>180.69427</td><td>315.7691</td><td>424.26025</td><td>191.2650</td></tr>\n",
       "\t<tr><th scope=row>GTEX-111YS-1126-SM-5GZYQ</th><td>  9.44658</td><td>152.65697</td><td>197.3795</td><td> 34.49421</td><td>114.8609</td></tr>\n",
       "\t<tr><th scope=row>GTEX-1122O-1926-SM-5EGIQ</th><td>273.11832</td><td>152.70703</td><td>290.6506</td><td>371.47950</td><td>207.1419</td></tr>\n",
       "\t<tr><th scope=row>GTEX-113JC-2226-SM-5EGJG</th><td>287.49936</td><td> 83.05799</td><td>133.7996</td><td>306.57446</td><td>110.5678</td></tr>\n",
       "\t<tr><th scope=row>GTEX-117YW-2226-SM-5N9DB</th><td>385.89756</td><td>190.95811</td><td>233.6855</td><td>195.97702</td><td>133.7426</td></tr>\n",
       "\t<tr><th scope=row>GTEX-117YX-1026-SM-5H11V</th><td>328.31810</td><td>273.87678</td><td>302.9630</td><td>308.09987</td><td>230.9467</td></tr>\n",
       "\t<tr><th scope=row>GTEX-11DXX-1326-SM-5GIDZ</th><td> 16.77433</td><td>173.68213</td><td>276.4686</td><td>144.46671</td><td>192.5999</td></tr>\n",
       "\t<tr><th scope=row>GTEX-11DXX-1526-SM-5H115</th><td>363.22682</td><td>399.18619</td><td>574.7119</td><td>411.27001</td><td>331.2084</td></tr>\n",
       "\t<tr><th scope=row>GTEX-11EI6-2426-SM-5PNVS</th><td> 15.47128</td><td>189.21967</td><td>202.8216</td><td>326.42362</td><td>129.0424</td></tr>\n",
       "</tbody>\n",
       "</table>\n"
      ],
      "text/latex": [
       "A data.frame: 10 × 5\n",
       "\\begin{tabular}{r|lllll}\n",
       "  & ENSG00000172179 & ENSG00000170477 & ENSG00000171401 & ENSG00000115138 & ENSG00000163209\\\\\n",
       "  & <dbl> & <dbl> & <dbl> & <dbl> & <dbl>\\\\\n",
       "\\hline\n",
       "\tGTEX-1117F-2426-SM-5EGGH & 430.52410 & 205.93553 & 369.1534 & 423.18932 & 238.3773\\\\\n",
       "\tGTEX-111CU-0926-SM-5EGIK & 301.79219 & 180.69427 & 315.7691 & 424.26025 & 191.2650\\\\\n",
       "\tGTEX-111YS-1126-SM-5GZYQ &   9.44658 & 152.65697 & 197.3795 &  34.49421 & 114.8609\\\\\n",
       "\tGTEX-1122O-1926-SM-5EGIQ & 273.11832 & 152.70703 & 290.6506 & 371.47950 & 207.1419\\\\\n",
       "\tGTEX-113JC-2226-SM-5EGJG & 287.49936 &  83.05799 & 133.7996 & 306.57446 & 110.5678\\\\\n",
       "\tGTEX-117YW-2226-SM-5N9DB & 385.89756 & 190.95811 & 233.6855 & 195.97702 & 133.7426\\\\\n",
       "\tGTEX-117YX-1026-SM-5H11V & 328.31810 & 273.87678 & 302.9630 & 308.09987 & 230.9467\\\\\n",
       "\tGTEX-11DXX-1326-SM-5GIDZ &  16.77433 & 173.68213 & 276.4686 & 144.46671 & 192.5999\\\\\n",
       "\tGTEX-11DXX-1526-SM-5H115 & 363.22682 & 399.18619 & 574.7119 & 411.27001 & 331.2084\\\\\n",
       "\tGTEX-11EI6-2426-SM-5PNVS &  15.47128 & 189.21967 & 202.8216 & 326.42362 & 129.0424\\\\\n",
       "\\end{tabular}\n"
      ],
      "text/markdown": [
       "\n",
       "A data.frame: 10 × 5\n",
       "\n",
       "| <!--/--> | ENSG00000172179 &lt;dbl&gt; | ENSG00000170477 &lt;dbl&gt; | ENSG00000171401 &lt;dbl&gt; | ENSG00000115138 &lt;dbl&gt; | ENSG00000163209 &lt;dbl&gt; |\n",
       "|---|---|---|---|---|---|\n",
       "| GTEX-1117F-2426-SM-5EGGH | 430.52410 | 205.93553 | 369.1534 | 423.18932 | 238.3773 |\n",
       "| GTEX-111CU-0926-SM-5EGIK | 301.79219 | 180.69427 | 315.7691 | 424.26025 | 191.2650 |\n",
       "| GTEX-111YS-1126-SM-5GZYQ |   9.44658 | 152.65697 | 197.3795 |  34.49421 | 114.8609 |\n",
       "| GTEX-1122O-1926-SM-5EGIQ | 273.11832 | 152.70703 | 290.6506 | 371.47950 | 207.1419 |\n",
       "| GTEX-113JC-2226-SM-5EGJG | 287.49936 |  83.05799 | 133.7996 | 306.57446 | 110.5678 |\n",
       "| GTEX-117YW-2226-SM-5N9DB | 385.89756 | 190.95811 | 233.6855 | 195.97702 | 133.7426 |\n",
       "| GTEX-117YX-1026-SM-5H11V | 328.31810 | 273.87678 | 302.9630 | 308.09987 | 230.9467 |\n",
       "| GTEX-11DXX-1326-SM-5GIDZ |  16.77433 | 173.68213 | 276.4686 | 144.46671 | 192.5999 |\n",
       "| GTEX-11DXX-1526-SM-5H115 | 363.22682 | 399.18619 | 574.7119 | 411.27001 | 331.2084 |\n",
       "| GTEX-11EI6-2426-SM-5PNVS |  15.47128 | 189.21967 | 202.8216 | 326.42362 | 129.0424 |\n",
       "\n"
      ],
      "text/plain": [
       "                         ENSG00000172179 ENSG00000170477 ENSG00000171401\n",
       "GTEX-1117F-2426-SM-5EGGH 430.52410       205.93553       369.1534       \n",
       "GTEX-111CU-0926-SM-5EGIK 301.79219       180.69427       315.7691       \n",
       "GTEX-111YS-1126-SM-5GZYQ   9.44658       152.65697       197.3795       \n",
       "GTEX-1122O-1926-SM-5EGIQ 273.11832       152.70703       290.6506       \n",
       "GTEX-113JC-2226-SM-5EGJG 287.49936        83.05799       133.7996       \n",
       "GTEX-117YW-2226-SM-5N9DB 385.89756       190.95811       233.6855       \n",
       "GTEX-117YX-1026-SM-5H11V 328.31810       273.87678       302.9630       \n",
       "GTEX-11DXX-1326-SM-5GIDZ  16.77433       173.68213       276.4686       \n",
       "GTEX-11DXX-1526-SM-5H115 363.22682       399.18619       574.7119       \n",
       "GTEX-11EI6-2426-SM-5PNVS  15.47128       189.21967       202.8216       \n",
       "                         ENSG00000115138 ENSG00000163209\n",
       "GTEX-1117F-2426-SM-5EGGH 423.18932       238.3773       \n",
       "GTEX-111CU-0926-SM-5EGIK 424.26025       191.2650       \n",
       "GTEX-111YS-1126-SM-5GZYQ  34.49421       114.8609       \n",
       "GTEX-1122O-1926-SM-5EGIQ 371.47950       207.1419       \n",
       "GTEX-113JC-2226-SM-5EGJG 306.57446       110.5678       \n",
       "GTEX-117YW-2226-SM-5N9DB 195.97702       133.7426       \n",
       "GTEX-117YX-1026-SM-5H11V 308.09987       230.9467       \n",
       "GTEX-11DXX-1326-SM-5GIDZ 144.46671       192.5999       \n",
       "GTEX-11DXX-1526-SM-5H115 411.27001       331.2084       \n",
       "GTEX-11EI6-2426-SM-5PNVS 326.42362       129.0424       "
      ]
     },
     "metadata": {},
     "output_type": "display_data"
    }
   ],
   "source": [
    "datExpr[1:10,1:5]"
   ]
  },
  {
   "cell_type": "code",
   "execution_count": 98,
   "metadata": {},
   "outputs": [
    {
     "data": {
      "text/html": [
       "<table>\n",
       "<caption>A data.frame: 6 × 3</caption>\n",
       "<thead>\n",
       "\t<tr><th scope=col>SAMPID</th><th scope=col>SMTS</th><th scope=col>SMTSD</th></tr>\n",
       "\t<tr><th scope=col>&lt;chr&gt;</th><th scope=col>&lt;chr&gt;</th><th scope=col>&lt;chr&gt;</th></tr>\n",
       "</thead>\n",
       "<tbody>\n",
       "\t<tr><td>GTEX-1117F-2426-SM-5EGGH</td><td>Uterus </td><td>Uterus </td></tr>\n",
       "\t<tr><td>GTEX-111CU-0926-SM-5EGIK</td><td>Stomach</td><td>Stomach</td></tr>\n",
       "\t<tr><td>GTEX-111YS-1126-SM-5GZYQ</td><td>Stomach</td><td>Stomach</td></tr>\n",
       "\t<tr><td>GTEX-1122O-1926-SM-5EGIQ</td><td>Stomach</td><td>Stomach</td></tr>\n",
       "\t<tr><td>GTEX-113JC-2226-SM-5EGJG</td><td>Uterus </td><td>Uterus </td></tr>\n",
       "\t<tr><td>GTEX-117YW-2226-SM-5N9DB</td><td>Stomach</td><td>Stomach</td></tr>\n",
       "</tbody>\n",
       "</table>\n"
      ],
      "text/latex": [
       "A data.frame: 6 × 3\n",
       "\\begin{tabular}{r|lll}\n",
       " SAMPID & SMTS & SMTSD\\\\\n",
       " <chr> & <chr> & <chr>\\\\\n",
       "\\hline\n",
       "\t GTEX-1117F-2426-SM-5EGGH & Uterus  & Uterus \\\\\n",
       "\t GTEX-111CU-0926-SM-5EGIK & Stomach & Stomach\\\\\n",
       "\t GTEX-111YS-1126-SM-5GZYQ & Stomach & Stomach\\\\\n",
       "\t GTEX-1122O-1926-SM-5EGIQ & Stomach & Stomach\\\\\n",
       "\t GTEX-113JC-2226-SM-5EGJG & Uterus  & Uterus \\\\\n",
       "\t GTEX-117YW-2226-SM-5N9DB & Stomach & Stomach\\\\\n",
       "\\end{tabular}\n"
      ],
      "text/markdown": [
       "\n",
       "A data.frame: 6 × 3\n",
       "\n",
       "| SAMPID &lt;chr&gt; | SMTS &lt;chr&gt; | SMTSD &lt;chr&gt; |\n",
       "|---|---|---|\n",
       "| GTEX-1117F-2426-SM-5EGGH | Uterus  | Uterus  |\n",
       "| GTEX-111CU-0926-SM-5EGIK | Stomach | Stomach |\n",
       "| GTEX-111YS-1126-SM-5GZYQ | Stomach | Stomach |\n",
       "| GTEX-1122O-1926-SM-5EGIQ | Stomach | Stomach |\n",
       "| GTEX-113JC-2226-SM-5EGJG | Uterus  | Uterus  |\n",
       "| GTEX-117YW-2226-SM-5N9DB | Stomach | Stomach |\n",
       "\n"
      ],
      "text/plain": [
       "  SAMPID                   SMTS    SMTSD  \n",
       "1 GTEX-1117F-2426-SM-5EGGH Uterus  Uterus \n",
       "2 GTEX-111CU-0926-SM-5EGIK Stomach Stomach\n",
       "3 GTEX-111YS-1126-SM-5GZYQ Stomach Stomach\n",
       "4 GTEX-1122O-1926-SM-5EGIQ Stomach Stomach\n",
       "5 GTEX-113JC-2226-SM-5EGJG Uterus  Uterus \n",
       "6 GTEX-117YW-2226-SM-5N9DB Stomach Stomach"
      ]
     },
     "metadata": {},
     "output_type": "display_data"
    }
   ],
   "source": [
    "head(allTraits)"
   ]
  },
  {
   "cell_type": "code",
   "execution_count": 99,
   "metadata": {},
   "outputs": [
    {
     "data": {
      "text/html": [
       "<table>\n",
       "<caption>A data.frame: 6 × 2</caption>\n",
       "<thead>\n",
       "\t<tr><th></th><th scope=col>SMTS</th><th scope=col>SMTSD</th></tr>\n",
       "\t<tr><th></th><th scope=col>&lt;chr&gt;</th><th scope=col>&lt;chr&gt;</th></tr>\n",
       "</thead>\n",
       "<tbody>\n",
       "\t<tr><th scope=row>GTEX-1117F-2426-SM-5EGGH</th><td>Uterus </td><td>Uterus </td></tr>\n",
       "\t<tr><th scope=row>GTEX-111CU-0926-SM-5EGIK</th><td>Stomach</td><td>Stomach</td></tr>\n",
       "\t<tr><th scope=row>GTEX-111YS-1126-SM-5GZYQ</th><td>Stomach</td><td>Stomach</td></tr>\n",
       "\t<tr><th scope=row>GTEX-1122O-1926-SM-5EGIQ</th><td>Stomach</td><td>Stomach</td></tr>\n",
       "\t<tr><th scope=row>GTEX-113JC-2226-SM-5EGJG</th><td>Uterus </td><td>Uterus </td></tr>\n",
       "\t<tr><th scope=row>GTEX-117YW-2226-SM-5N9DB</th><td>Stomach</td><td>Stomach</td></tr>\n",
       "</tbody>\n",
       "</table>\n"
      ],
      "text/latex": [
       "A data.frame: 6 × 2\n",
       "\\begin{tabular}{r|ll}\n",
       "  & SMTS & SMTSD\\\\\n",
       "  & <chr> & <chr>\\\\\n",
       "\\hline\n",
       "\tGTEX-1117F-2426-SM-5EGGH & Uterus  & Uterus \\\\\n",
       "\tGTEX-111CU-0926-SM-5EGIK & Stomach & Stomach\\\\\n",
       "\tGTEX-111YS-1126-SM-5GZYQ & Stomach & Stomach\\\\\n",
       "\tGTEX-1122O-1926-SM-5EGIQ & Stomach & Stomach\\\\\n",
       "\tGTEX-113JC-2226-SM-5EGJG & Uterus  & Uterus \\\\\n",
       "\tGTEX-117YW-2226-SM-5N9DB & Stomach & Stomach\\\\\n",
       "\\end{tabular}\n"
      ],
      "text/markdown": [
       "\n",
       "A data.frame: 6 × 2\n",
       "\n",
       "| <!--/--> | SMTS &lt;chr&gt; | SMTSD &lt;chr&gt; |\n",
       "|---|---|---|\n",
       "| GTEX-1117F-2426-SM-5EGGH | Uterus  | Uterus  |\n",
       "| GTEX-111CU-0926-SM-5EGIK | Stomach | Stomach |\n",
       "| GTEX-111YS-1126-SM-5GZYQ | Stomach | Stomach |\n",
       "| GTEX-1122O-1926-SM-5EGIQ | Stomach | Stomach |\n",
       "| GTEX-113JC-2226-SM-5EGJG | Uterus  | Uterus  |\n",
       "| GTEX-117YW-2226-SM-5N9DB | Stomach | Stomach |\n",
       "\n"
      ],
      "text/plain": [
       "                         SMTS    SMTSD  \n",
       "GTEX-1117F-2426-SM-5EGGH Uterus  Uterus \n",
       "GTEX-111CU-0926-SM-5EGIK Stomach Stomach\n",
       "GTEX-111YS-1126-SM-5GZYQ Stomach Stomach\n",
       "GTEX-1122O-1926-SM-5EGIQ Stomach Stomach\n",
       "GTEX-113JC-2226-SM-5EGJG Uterus  Uterus \n",
       "GTEX-117YW-2226-SM-5N9DB Stomach Stomach"
      ]
     },
     "metadata": {},
     "output_type": "display_data"
    }
   ],
   "source": [
    "#labels <- c('primary_site', 'malignacy', 'disease_type', 'stage')\n",
    "#labels <- c('cases.0.project.primary_site', 'cases.0.project.disease_type')\n",
    "labels <- c('SMTS', 'SMTSD')\n",
    "datTraits <- allTraits[,labels]\n",
    "rownames(datTraits) <- allTraits$SAMPID\n",
    "datTraits <- datTraits[rownames(datExpr),]\n",
    "head(datTraits)"
   ]
  },
  {
   "cell_type": "code",
   "execution_count": 100,
   "metadata": {},
   "outputs": [
    {
     "data": {
      "text/plain": [
       "< table of extent 0 >"
      ]
     },
     "metadata": {},
     "output_type": "display_data"
    }
   ],
   "source": [
    "table( dimnames(datExpr)[[1]]==datTraits$file_name)"
   ]
  },
  {
   "cell_type": "code",
   "execution_count": 101,
   "metadata": {},
   "outputs": [],
   "source": [
    "y = datTraits$primary_site"
   ]
  },
  {
   "cell_type": "code",
   "execution_count": 102,
   "metadata": {},
   "outputs": [],
   "source": [
    "meanExpressionBySample=apply( datExpr,1,mean, na.rm=T)\n",
    "NumberMissingBySample=apply( is.na(data.frame(datExpr)),1, sum)"
   ]
  },
  {
   "cell_type": "markdown",
   "metadata": {},
   "source": [
    "## 1"
   ]
  },
  {
   "cell_type": "code",
   "execution_count": 103,
   "metadata": {},
   "outputs": [
    {
     "name": "stdout",
     "output_type": "stream",
     "text": [
      " Flagging genes and samples with too many missing values...\n",
      "  ..step 1\n"
     ]
    },
    {
     "data": {
      "text/html": [
       "TRUE"
      ],
      "text/latex": [
       "TRUE"
      ],
      "text/markdown": [
       "TRUE"
      ],
      "text/plain": [
       "[1] TRUE"
      ]
     },
     "metadata": {},
     "output_type": "display_data"
    }
   ],
   "source": [
    "gsg = goodSamplesGenes(datExpr, verbose = 3);\n",
    "gsg$allOK"
   ]
  },
  {
   "cell_type": "code",
   "execution_count": 104,
   "metadata": {},
   "outputs": [
    {
     "data": {
      "text/html": [
       "<strong>png:</strong> 2"
      ],
      "text/latex": [
       "\\textbf{png:} 2"
      ],
      "text/markdown": [
       "**png:** 2"
      ],
      "text/plain": [
       "png \n",
       "  2 "
      ]
     },
     "metadata": {},
     "output_type": "display_data"
    }
   ],
   "source": [
    "sampleTree = hclust(dist(datExpr), method = \"average\");\n",
    "# Plot the sample tree: Open a graphic output window of size 12 by 9 inches\n",
    "# The user should change the dimensions if the window is too large or too small.\n",
    "sizeGrWindow(12,9)\n",
    "svg(\"samplehier.svg\")\n",
    "par(cex = 0.6);\n",
    "par(mar = c(0,4,2,0))\n",
    "plot(sampleTree, main = \"Sample clustering to detect outliers\", sub=\"\", xlab=\"\", cex.lab = 1.5,\n",
    "cex.axis = 1.5, cex.main = 2)\n",
    "dev.off()"
   ]
  },
  {
   "cell_type": "code",
   "execution_count": 82,
   "metadata": {},
   "outputs": [
    {
     "data": {
      "text/plain": [
       "clust\n",
       "  0 \n",
       "590 "
      ]
     },
     "metadata": {},
     "output_type": "display_data"
    }
   ],
   "source": [
    "# Determine cluster under the line\n",
    "clust = cutreeStatic(sampleTree, cutHeight = 80, minSize = 10)\n",
    "table(clust)"
   ]
  },
  {
   "cell_type": "code",
   "execution_count": 83,
   "metadata": {},
   "outputs": [],
   "source": [
    "# clust 1 contains the samples we want to keep.\n",
    "keepSamples = (clust==1)\n",
    "datExpr = datExpr[keepSamples, ]\n",
    "nGenes = ncol(datExpr)\n",
    "nSamples = nrow(datExpr)\n",
    "\n",
    "genes <- dimnames(datExpr)[[2]]\n",
    "samples <- dimnames(datExpr)[[1]]\n",
    "datExpr <- as.data.frame(apply(datExpr,2, as.numeric)) #numeric\n",
    "dimnames(datExpr)[[1]] <- samples"
   ]
  },
  {
   "cell_type": "code",
   "execution_count": 94,
   "metadata": {},
   "outputs": [
    {
     "data": {
      "text/html": [
       "<table>\n",
       "<caption>A data.frame: 6 × 1000</caption>\n",
       "<thead>\n",
       "\t<tr><th></th><th scope=col>ENSG00000172179</th><th scope=col>ENSG00000170477</th><th scope=col>ENSG00000171401</th><th scope=col>ENSG00000115138</th><th scope=col>ENSG00000163209</th><th scope=col>ENSG00000126233</th><th scope=col>ENSG00000172016</th><th scope=col>ENSG00000143536</th><th scope=col>ENSG00000205420</th><th scope=col>ENSG00000259384</th><th scope=col>⋯</th><th scope=col>ENSG00000151640</th><th scope=col>ENSG00000125966</th><th scope=col>ENSG00000160221</th><th scope=col>ENSG00000146677</th><th scope=col>ENSG00000023445</th><th scope=col>ENSG00000164442</th><th scope=col>ENSG00000107968</th><th scope=col>ENSG00000170776</th><th scope=col>ENSG00000112699</th><th scope=col>ENSG00000058668</th></tr>\n",
       "\t<tr><th></th><th scope=col>&lt;dbl&gt;</th><th scope=col>&lt;dbl&gt;</th><th scope=col>&lt;dbl&gt;</th><th scope=col>&lt;dbl&gt;</th><th scope=col>&lt;dbl&gt;</th><th scope=col>&lt;dbl&gt;</th><th scope=col>&lt;dbl&gt;</th><th scope=col>&lt;dbl&gt;</th><th scope=col>&lt;dbl&gt;</th><th scope=col>&lt;dbl&gt;</th><th scope=col>⋯</th><th scope=col>&lt;dbl&gt;</th><th scope=col>&lt;dbl&gt;</th><th scope=col>&lt;dbl&gt;</th><th scope=col>&lt;dbl&gt;</th><th scope=col>&lt;dbl&gt;</th><th scope=col>&lt;dbl&gt;</th><th scope=col>&lt;dbl&gt;</th><th scope=col>&lt;dbl&gt;</th><th scope=col>&lt;dbl&gt;</th><th scope=col>&lt;dbl&gt;</th></tr>\n",
       "</thead>\n",
       "<tbody>\n",
       "\t<tr><th scope=row>GTEX-1117F-2426-SM-5EGGH</th><td>430.52410</td><td>205.93553</td><td>369.1534</td><td>423.18932</td><td>238.3773</td><td>67.43703</td><td>231.1503</td><td> 94.50833</td><td>253.0820</td><td>500.5849</td><td>⋯</td><td>238.73625</td><td>144.04207</td><td>283.410440</td><td>415.8660</td><td>274.7387</td><td>706.6089</td><td>463.9232</td><td>658.1502</td><td>303.1924</td><td>824.3174</td></tr>\n",
       "\t<tr><th scope=row>GTEX-111CU-0926-SM-5EGIK</th><td>301.79219</td><td>180.69427</td><td>315.7691</td><td>424.26025</td><td>191.2650</td><td>54.26048</td><td>493.4988</td><td>129.27817</td><td>232.3946</td><td>427.2023</td><td>⋯</td><td>141.14262</td><td> 66.52108</td><td> 25.374728</td><td>316.3982</td><td>439.7803</td><td>570.3765</td><td>245.6543</td><td>413.7504</td><td>596.8782</td><td>300.3242</td></tr>\n",
       "\t<tr><th scope=row>GTEX-111YS-1126-SM-5GZYQ</th><td>  9.44658</td><td>152.65697</td><td>197.3795</td><td> 34.49421</td><td>114.8609</td><td>42.63184</td><td>245.4965</td><td> 49.82509</td><td>123.8175</td><td>  0.0000</td><td>⋯</td><td>104.33445</td><td> 47.25917</td><td> 24.634728</td><td>193.6591</td><td>394.0167</td><td>497.6364</td><td>279.7428</td><td>455.8880</td><td>505.6150</td><td>420.1634</td></tr>\n",
       "\t<tr><th scope=row>GTEX-1122O-1926-SM-5EGIQ</th><td>273.11832</td><td>152.70703</td><td>290.6506</td><td>371.47950</td><td>207.1419</td><td>43.00711</td><td>254.8930</td><td>108.94982</td><td>194.3359</td><td>408.5765</td><td>⋯</td><td> 83.03365</td><td> 67.27421</td><td>236.709145</td><td>256.4134</td><td>402.6800</td><td>494.0637</td><td>237.6012</td><td>366.5620</td><td>457.9542</td><td>254.9423</td></tr>\n",
       "\t<tr><th scope=row>GTEX-113JC-2226-SM-5EGJG</th><td>287.49936</td><td> 83.05799</td><td>133.7996</td><td>306.57446</td><td>110.5678</td><td>92.69862</td><td>  0.0000</td><td> 44.73147</td><td>115.5102</td><td>447.3137</td><td>⋯</td><td>348.41381</td><td> 78.30794</td><td> 28.321062</td><td>336.7511</td><td>421.8781</td><td>870.5978</td><td>555.4896</td><td>609.7611</td><td>327.9174</td><td>777.1489</td></tr>\n",
       "\t<tr><th scope=row>GTEX-117YW-2226-SM-5N9DB</th><td>385.89756</td><td>190.95811</td><td>233.6855</td><td>195.97702</td><td>133.7426</td><td>67.57256</td><td>383.3902</td><td> 72.29031</td><td>120.7268</td><td>261.1645</td><td>⋯</td><td>117.31274</td><td> 56.34510</td><td>  8.626746</td><td>267.6042</td><td>652.7477</td><td>529.3885</td><td>534.7666</td><td>536.2470</td><td>540.8032</td><td>556.5293</td></tr>\n",
       "</tbody>\n",
       "</table>\n"
      ],
      "text/latex": [
       "A data.frame: 6 × 1000\n",
       "\\begin{tabular}{r|llllllllllllllllllllllllllllllllllllllllllllllllllllllllllllllllllllllllllllllllllllllllllllllllllllllllllllllllllllllllllllllllllllllllllllllllllllllllllllllllllllllllllllllllllllllllllllllllllllllllllllllllllllllllllllllllllllllllllllllllllllllllllllllllllllllllllllllllllllllllllllllllllllllllllllllllllllllllllllllllllllllllllllllllllllllllllllllllllllllllllllllllllllllllllllllllllllllllllllllllllllllllllllllllllllllllllllllllllllllllllllllllllllllllllllllllllllllllllllllllllllllllllllllllllllllllllllllllllllllllllllllllllllllllllllllllllllllllllllllllllllllllllllllllllllllllllllllllllllllllllllllllllllllllllllllllllllllllllllllllllllllllllllllllllllllllllllllllllllllllllllllllllllllllllllllllllllllllllllllllllllllllllllllllllllllllllllllllllllllllllllllllllllllllllllllllllllllllllllllllllllllllllllllllllllllllllllllllllllllllllllllllllllllllllllllllllllllllllllllllllllllllllllllllllllllllllllllllllllllllllllllllllllllllllllllllllllllllllllllllllllllllllllllllllllllllllllllllllllllll}\n",
       "  & ENSG00000172179 & ENSG00000170477 & ENSG00000171401 & ENSG00000115138 & ENSG00000163209 & ENSG00000126233 & ENSG00000172016 & ENSG00000143536 & ENSG00000205420 & ENSG00000259384 & ENSG00000135346 & ENSG00000163661 & ENSG00000225217 & ENSG00000099953 & ENSG00000125780 & ENSG00000167656 & ENSG00000169509 & ENSG00000173110 & ENSG00000187288 & ENSG00000241794 & ENSG00000164816 & ENSG00000159763 & ENSG00000196754 & ENSG00000166819 & ENSG00000186081 & ENSG00000169474 & ENSG00000198576 & ENSG00000211892 & ENSG00000229344 & ENSG00000148677 & ENSG00000133710 & ENSG00000171195 & ENSG00000169469 & ENSG00000169245 & ENSG00000099194 & ENSG00000187021 & ENSG00000105427 & ENSG00000102837 & ENSG00000136244 & ENSG00000223609 & ENSG00000171564 & ENSG00000081277 & ENSG00000268751 & ENSG00000121552 & ENSG00000135245 & ENSG00000064886 & ENSG00000241556 & ENSG00000169429 & ENSG00000123610 & ENSG00000125538 & ENSG00000091704 & ENSG00000169347 & ENSG00000124102 & ENSG00000134339 & ENSG00000131400 & ENSG00000088836 & ENSG00000108342 & ENSG00000128965 & ENSG00000173432 & ENSG00000204936 & ENSG00000140465 & ENSG00000124253 & ENSG00000158104 & ENSG00000160282 & ENSG00000140519 & ENSG00000167588 & ENSG00000272468 & ENSG00000187608 & ENSG00000174827 & ENSG00000106483 & ENSG00000188505 & ENSG00000239839 & ENSG00000224846 & ENSG00000140403 & ENSG00000108691 & ENSG00000170323 & ENSG00000224858 & ENSG00000165887 & ENSG00000163631 & ENSG00000125618 & ENSG00000260246 & ENSG00000178363 & ENSG00000073756 & ENSG00000101443 & ENSG00000137392 & ENSG00000219073 & ENSG00000166923 & ENSG00000160882 & ENSG00000148346 & ENSG00000119508 & ENSG00000143546 & ENSG00000139194 & ENSG00000125740 & ENSG00000175445 & ENSG00000206172 & ENSG00000135919 & ENSG00000135744 & ENSG00000168925 & ENSG00000203785 & ENSG00000137959 & ENSG00000240045 & ENSG00000172023 & ENSG00000181649 & ENSG00000103316 & ENSG00000172602 & ENSG00000101255 & ENSG00000075886 & ENSG00000126709 & ENSG00000171766 & ENSG00000133048 & ENSG00000244021 & ENSG00000175592 & ENSG00000179761 & ENSG00000118271 & ENSG00000211893 & ENSG00000118785 & ENSG00000180914 & ENSG00000139540 & ENSG00000106366 & ENSG00000105697 & ENSG00000205362 & ENSG00000229314 & ENSG00000163734 & ENSG00000179388 & ENSG00000158874 & ENSG00000236472 & ENSG00000138207 & ENSG00000142789 & ENSG00000159251 & ENSG00000164530 & ENSG00000197616 & ENSG00000143320 & ENSG00000062282 & ENSG00000163221 & ENSG00000183036 & ENSG00000175793 & ENSG00000253445 & ENSG00000196549 & ENSG00000172724 & ENSG00000088882 & ENSG00000166825 & ENSG00000135480 & ENSG00000142615 & ENSG00000103044 & ENSG00000137699 & ENSG00000104808 & ENSG00000272899 & ENSG00000175535 & ENSG00000162438 & ENSG00000101447 & ENSG00000013588 & ENSG00000102802 & ENSG00000019169 & ENSG00000241935 & ENSG00000136689 & ENSG00000056736 & ENSG00000103569 & ENSG00000204444 & ENSG00000181885 & ENSG00000053438 & ENSG00000113296 & ENSG00000241458 & ENSG00000120694 & ENSG00000189001 & ENSG00000140379 & ENSG00000111012 & ENSG00000162692 & ENSG00000105369 & ENSG00000137965 & ENSG00000138030 & ENSG00000006016 & ENSG00000168928 & ENSG00000167772 & ENSG00000119917 & ENSG00000214940 & ENSG00000249992 & ENSG00000163347 & ENSG00000143882 & ENSG00000112299 & ENSG00000257017 & ENSG00000228314 & ENSG00000196878 & ENSG00000253364 & ENSG00000160307 & ENSG00000211899 & ENSG00000169031 & ENSG00000246203 & ENSG00000179751 & ENSG00000160801 & ENSG00000204983 & ENSG00000171560 & ENSG00000185745 & ENSG00000165474 & ENSG00000185559 & ENSG00000186832 & ENSG00000163739 & ENSG00000261616 & ENSG00000115523 & ENSG00000100985 & ENSG00000171346 & ENSG00000158022 & ENSG00000258345 & ENSG00000188257 & ENSG00000108405 & ENSG00000158089 & ENSG00000100292 & ENSG00000183696 & ENSG00000064205 & ENSG00000240338 & ENSG00000118849 & ENSG00000245293 & ENSG00000081041 & ENSG00000124713 & ENSG00000145358 & ENSG00000137809 & ENSG00000128342 & ENSG00000124635 & ENSG00000197614 & ENSG00000136872 & ENSG00000126878 & ENSG00000111913 & ENSG00000162772 & ENSG00000034971 & ENSG00000198417 & ENSG00000196352 & ENSG00000135094 & ENSG00000161634 & ENSG00000170890 & ENSG00000132541 & ENSG00000232347 & ENSG00000272661 & ENSG00000071282 & ENSG00000184292 & ENSG00000151012 & ENSG00000270640 & ENSG00000162267 & ENSG00000134184 & ENSG00000188536 & ENSG00000197249 & ENSG00000167711 & ENSG00000090339 & ENSG00000143632 & ENSG00000183578 & ENSG00000135447 & ENSG00000134824 & ENSG00000129204 & ENSG00000176387 & ENSG00000182272 & ENSG00000173267 & ENSG00000225972 & ENSG00000237973 & ENSG00000178934 & ENSG00000145423 & ENSG00000132002 & ENSG00000247228 & ENSG00000155465 & ENSG00000158457 & ENSG00000170290 & ENSG00000070190 & ENSG00000074410 & ENSG00000166920 & ENSG00000134548 & ENSG00000162078 & ENSG00000211897 & ENSG00000196739 & ENSG00000163132 & ENSG00000110245 & ENSG00000180139 & ENSG00000180667 & ENSG00000178343 & ENSG00000041982 & ENSG00000089199 & ENSG00000171557 & ENSG00000130173 & ENSG00000261898 & ENSG00000213963 & ENSG00000157601 & ENSG00000171747 & ENSG00000166292 & ENSG00000273179 & ENSG00000115386 & ENSG00000142748 & ENSG00000156150 & ENSG00000159423 & ENSG00000161055 & ENSG00000263934 & ENSG00000230185 & ENSG00000143369 & ENSG00000130513 & ENSG00000124466 & ENSG00000230202 & ENSG00000131409 & ENSG00000143333 & ENSG00000107984 & ENSG00000103888 & ENSG00000163464 & ENSG00000163545 & ENSG00000108602 & ENSG00000186340 & ENSG00000135114 & ENSG00000170482 & ENSG00000135069 & ENSG00000233913 & ENSG00000018625 & ENSG00000203814 & ENSG00000149328 & ENSG00000225093 & ENSG00000228078 & ENSG00000075073 & ENSG00000243989 & ENSG00000175063 & ENSG00000172867 & ENSG00000047457 & ENSG00000136960 & ENSG00000185022 & ENSG00000114200 & ENSG00000117399 & ENSG00000186847 & ENSG00000091986 & ENSG00000122304 & ENSG00000164761 & ENSG00000153132 & ENSG00000243955 & ENSG00000118729 & ENSG00000104043 & ENSG00000081181 & ENSG00000185761 & ENSG00000130203 & ENSG00000144354 & ENSG00000196565 & ENSG00000189334 & ENSG00000023839 & ENSG00000079435 & ENSG00000234638 & ENSG00000122861 & ENSG00000172346 & ENSG00000064692 & ENSG00000151692 & ENSG00000119535 & ENSG00000175646 & ENSG00000272510 & ENSG00000118514 & ENSG00000138166 & ENSG00000105825 & ENSG00000134321 & ENSG00000272841 & ENSG00000158373 & ENSG00000184557 & ENSG00000104435 & ENSG00000249007 & ENSG00000138615 & ENSG00000117394 & ENSG00000227063 & ENSG00000132465 & ENSG00000187116 & ENSG00000138115 & ENSG00000111087 & ENSG00000213058 & ENSG00000103034 & ENSG00000170049 & ENSG00000213144 & ENSG00000176920 & ENSG00000008517 & ENSG00000114270 & ENSG00000182327 & ENSG00000011422 & ENSG00000151929 & ENSG00000085265 & ENSG00000262500 & ENSG00000173391 & ENSG00000018280 & ENSG00000167371 & ENSG00000147465 & ENSG00000167600 & ENSG00000059804 & ENSG00000242110 & ENSG00000101670 & ENSG00000089127 & ENSG00000119927 & ENSG00000066583 & ENSG00000145287 & ENSG00000131459 & ENSG00000120088 & ENSG00000167992 & ENSG00000115590 & ENSG00000006128 & ENSG00000160808 & ENSG00000111799 & ENSG00000107742 & ENSG00000178531 & ENSG00000104951 & ENSG00000101265 & ENSG00000106809 & ENSG00000077522 & ENSG00000132692 & ENSG00000231503 & ENSG00000111245 & ENSG00000243566 & ENSG00000131781 & ENSG00000146674 & ENSG00000259884 & ENSG00000100604 & ENSG00000115556 & ENSG00000105088 & ENSG00000076382 & ENSG00000139926 & ENSG00000042832 & ENSG00000232573 & ENSG00000138100 & ENSG00000172005 & ENSG00000106258 & ENSG00000152527 & ENSG00000163220 & ENSG00000197361 & ENSG00000008516 & ENSG00000136999 & ENSG00000243480 & ENSG00000170525 & ENSG00000163975 & ENSG00000180596 & ENSG00000230076 & ENSG00000243649 & ENSG00000168298 & ENSG00000116132 & ENSG00000131094 & ENSG00000139200 & ENSG00000088325 & ENSG00000188933 & ENSG00000068078 & ENSG00000259479 & ENSG00000182253 & ENSG00000077009 & ENSG00000168386 & ENSG00000010438 & ENSG00000121898 & ENSG00000254461 & ENSG00000145824 & ENSG00000139572 & ENSG00000115896 & ENSG00000254855 & ENSG00000241357 & ENSG00000132837 & ENSG00000143178 & ENSG00000017427 & ENSG00000134864 & ENSG00000255118 & ENSG00000162896 & ENSG00000224114 & ENSG00000171051 & ENSG00000196091 & ENSG00000186715 & ENSG00000128298 & ENSG00000227507 & ENSG00000148795 & ENSG00000176974 & ENSG00000175206 & ENSG00000143387 & ENSG00000211890 & ENSG00000179954 & ENSG00000249379 & ENSG00000244734 & ENSG00000124107 & ENSG00000059915 & ENSG00000112096 & ENSG00000171812 & ENSG00000177575 & ENSG00000124772 & ENSG00000130600 & ENSG00000158270 & ENSG00000103257 & ENSG00000198502 & ENSG00000259330 & ENSG00000137077 & ENSG00000159200 & ENSG00000178381 & ENSG00000135842 & ENSG00000257663 & ENSG00000233098 & ENSG00000077943 & ENSG00000154096 & ENSG00000105011 & ENSG00000260466 & ENSG00000163909 & ENSG00000025423 & ENSG00000125347 & ENSG00000237940 & ENSG00000103710 & ENSG00000168038 & ENSG00000211445 & ENSG00000103404 & ENSG00000124766 & ENSG00000127564 & ENSG00000199477 & ENSG00000167900 & ENSG00000232931 & ENSG00000157315 & ENSG00000164237 & ENSG00000231970 & ENSG00000215861 & ENSG00000162747 & ENSG00000185585 & ENSG00000104213 & ENSG00000008438 & ENSG00000183044 & ENSG00000211896 & ENSG00000080493 & ENSG00000156804 & ENSG00000224328 & ENSG00000153234 & ENSG00000086300 & ENSG00000237886 & ENSG00000176170 & ENSG00000168490 & ENSG00000100031 & ENSG00000168679 & ENSG00000204388 & ENSG00000198523 & ENSG00000165449 & ENSG00000176909 & ENSG00000113924 & ENSG00000185955 & ENSG00000119681 & ENSG00000142494 & ENSG00000054598 & ENSG00000089692 & ENSG00000088340 & ENSG00000266903 & ENSG00000124225 & ENSG00000121577 & ENSG00000256185 & ENSG00000123689 & ENSG00000123360 & ENSG00000081052 & ENSG00000110492 & ENSG00000261604 & ENSG00000166402 & ENSG00000141682 & ENSG00000101493 & ENSG00000253875 & ENSG00000104332 & ENSG00000106772 & ENSG00000137825 & ENSG00000262539 & ENSG00000158246 & ENSG00000137857 & ENSG00000261054 & ENSG00000168878 & ENSG00000095397 & ENSG00000116883 & ENSG00000139211 & ENSG00000127951 & ENSG00000254744 & ENSG00000272668 & ENSG00000145990 & ENSG00000121236 & ENSG00000118194 & ENSG00000263388 & ENSG00000112655 & ENSG00000226605 & ENSG00000092054 & ENSG00000146205 & ENSG00000154263 & ENSG00000166793 & ENSG00000168993 & ENSG00000129170 & ENSG00000122952 & ENSG00000183486 & ENSG00000162998 & ENSG00000158050 & ENSG00000072832 & ENSG00000111331 & ENSG00000077063 & ENSG00000164949 & ENSG00000105835 & ENSG00000233806 & ENSG00000125775 & ENSG00000112210 & ENSG00000136842 & ENSG00000148926 & ENSG00000219529 & ENSG00000152377 & ENSG00000019549 & ENSG00000092295 & ENSG00000153002 & ENSG00000171236 & ENSG00000170835 & ENSG00000130707 & ENSG00000198848 & ENSG00000174236 & ENSG00000246985 & ENSG00000063438 & ENSG00000159674 & ENSG00000242396 & ENSG00000187134 & ENSG00000124602 & ENSG00000153814 & ENSG00000157017 & ENSG00000144214 & ENSG00000113790 & ENSG00000182013 & ENSG00000105894 & ENSG00000183496 & ENSG00000226102 & ENSG00000110076 & ENSG00000135318 & ENSG00000211895 & ENSG00000254400 & ENSG00000150995 & ENSG00000161682 & ENSG00000172828 & ENSG00000176153 & ENSG00000198300 & ENSG00000151490 & ENSG00000270164 & ENSG00000215030 & ENSG00000164309 & ENSG00000198542 & ENSG00000131037 & ENSG00000236682 & ENSG00000259952 & ENSG00000011426 & ENSG00000185615 & ENSG00000095739 & ENSG00000128591 & ENSG00000116194 & ENSG00000009413 & ENSG00000091513 & ENSG00000025708 & ENSG00000211677 & ENSG00000102554 & ENSG00000166741 & ENSG00000229619 & ENSG00000137124 & ENSG00000225614 & ENSG00000260235 & ENSG00000107954 & ENSG00000042062 & ENSG00000100628 & ENSG00000108823 & ENSG00000131771 & ENSG00000168530 & ENSG00000232133 & ENSG00000203760 & ENSG00000038427 & ENSG00000196668 & ENSG00000138356 & ENSG00000122877 & ENSG00000173898 & ENSG00000020577 & ENSG00000115963 & ENSG00000111206 & ENSG00000158887 & ENSG00000164056 & ENSG00000241644 & ENSG00000183160 & ENSG00000040608 & ENSG00000090382 & ENSG00000039560 & ENSG00000136997 & ENSG00000117472 & ENSG00000154175 & ENSG00000167535 & ENSG00000112303 & ENSG00000174807 & ENSG00000226147 & ENSG00000130222 & ENSG00000086289 & ENSG00000099994 & ENSG00000107551 & ENSG00000101220 & ENSG00000254815 & ENSG00000131398 & ENSG00000173531 & ENSG00000111696 & ENSG00000244124 & ENSG00000134057 & ENSG00000272814 & ENSG00000065320 & ENSG00000157303 & ENSG00000121039 & ENSG00000220161 & ENSG00000072571 & ENSG00000211679 & ENSG00000181856 & ENSG00000135218 & ENSG00000260500 & ENSG00000170509 & ENSG00000135547 & ENSG00000105655 & ENSG00000228109 & ENSG00000091622 & ENSG00000250011 & ENSG00000163110 & ENSG00000213088 & ENSG00000229644 & ENSG00000236360 & ENSG00000260799 & ENSG00000139629 & ENSG00000272512 & ENSG00000137094 & ENSG00000006327 & ENSG00000099337 & ENSG00000107562 & ENSG00000105928 & ENSG00000184363 & ENSG00000169604 & ENSG00000120729 & ENSG00000137309 & ENSG00000110852 & ENSG00000109061 & ENSG00000168016 & ENSG00000185361 & ENSG00000126803 & ENSG00000239969 & ENSG00000115884 & ENSG00000229367 & ENSG00000139329 & ENSG00000231721 & ENSG00000177989 & ENSG00000112972 & ENSG00000101210 & ENSG00000108551 & ENSG00000135077 & ENSG00000104879 & ENSG00000273108 & ENSG00000248256 & ENSG00000164932 & ENSG00000117525 & ENSG00000132530 & ENSG00000159958 & ENSG00000163520 & ENSG00000100889 & ENSG00000188404 & ENSG00000269235 & ENSG00000100162 & ENSG00000145632 & ENSG00000260517 & ENSG00000154553 & ENSG00000234793 & ENSG00000063180 & ENSG00000152766 & ENSG00000182175 & ENSG00000143556 & ENSG00000227218 & ENSG00000122367 & ENSG00000261087 & ENSG00000151468 & ENSG00000164879 & ENSG00000182575 & ENSG00000167964 & ENSG00000143196 & ENSG00000133874 & ENSG00000196843 & ENSG00000106327 & ENSG00000119922 & ENSG00000156113 & ENSG00000137801 & ENSG00000134201 & ENSG00000112208 & ENSG00000088002 & ENSG00000147872 & ENSG00000170801 & ENSG00000259279 & ENSG00000114115 & ENSG00000169860 & ENSG00000026508 & ENSG00000163874 & ENSG00000156535 & ENSG00000204381 & ENSG00000118520 & ENSG00000110328 & ENSG00000253333 & ENSG00000081803 & ENSG00000180573 & ENSG00000211675 & ENSG00000118137 & ENSG00000136859 & ENSG00000003989 & ENSG00000168389 & ENSG00000103485 & ENSG00000237649 & ENSG00000171227 & ENSG00000105048 & ENSG00000266642 & ENSG00000213199 & ENSG00000168785 & ENSG00000262877 & ENSG00000132561 & ENSG00000172382 & ENSG00000121152 & ENSG00000163017 & ENSG00000266495 & ENSG00000068976 & ENSG00000106823 & ENSG00000263065 & ENSG00000164823 & ENSG00000213901 & ENSG00000113657 & ENSG00000213626 & ENSG00000130595 & ENSG00000197380 & ENSG00000171621 & ENSG00000184678 & ENSG00000120875 & ENSG00000197019 & ENSG00000113916 & ENSG00000184113 & ENSG00000267042 & ENSG00000129009 & ENSG00000117228 & ENSG00000105472 & ENSG00000163710 & ENSG00000163171 & ENSG00000095303 & ENSG00000225760 & ENSG00000169710 & ENSG00000185437 & ENSG00000154146 & ENSG00000204291 & ENSG00000182919 & ENSG00000124257 & ENSG00000146700 & ENSG00000228502 & ENSG00000248485 & ENSG00000091972 & ENSG00000260912 & ENSG00000111664 & ENSG00000167549 & ENSG00000165272 & ENSG00000149596 & ENSG00000177425 & ENSG00000176788 & ENSG00000271787 & ENSG00000106333 & ENSG00000091947 & ENSG00000109063 & ENSG00000117115 & ENSG00000164078 & ENSG00000134755 & ENSG00000083454 & ENSG00000183801 & ENSG00000183615 & ENSG00000177875 & ENSG00000162804 & ENSG00000196562 & ENSG00000265073 & ENSG00000267128 & ENSG00000163993 & ENSG00000154258 & ENSG00000161638 & ENSG00000145335 & ENSG00000260244 & ENSG00000174705 & ENSG00000178826 & ENSG00000099958 & ENSG00000185567 & ENSG00000197093 & ENSG00000137804 & ENSG00000013297 & ENSG00000144655 & ENSG00000138061 & ENSG00000232533 & ENSG00000188761 & ENSG00000138172 & ENSG00000233476 & ENSG00000159899 & ENSG00000117594 & ENSG00000123146 & ENSG00000130844 & ENSG00000169116 & ENSG00000066230 & ENSG00000146453 & ENSG00000205364 & ENSG00000243244 & ENSG00000235272 & ENSG00000125144 & ENSG00000165030 & ENSG00000169515 & ENSG00000188613 & ENSG00000136059 & ENSG00000254501 & ENSG00000163297 & ENSG00000175806 & ENSG00000166851 & ENSG00000179008 & ENSG00000154556 & ENSG00000131435 & ENSG00000143228 & ENSG00000082196 & ENSG00000273485 & ENSG00000130635 & ENSG00000166278 & ENSG00000074181 & ENSG00000119711 & ENSG00000166341 & ENSG00000168405 & ENSG00000166803 & ENSG00000106799 & ENSG00000139880 & ENSG00000142178 & ENSG00000077616 & ENSG00000137274 & ENSG00000263535 & ENSG00000170312 & ENSG00000160013 & ENSG00000130176 & ENSG00000169908 & ENSG00000091436 & ENSG00000087250 & ENSG00000224220 & ENSG00000162512 & ENSG00000214193 & ENSG00000122641 & ENSG00000129167 & ENSG00000174514 & ENSG00000168477 & ENSG00000127472 & ENSG00000142102 & ENSG00000261762 & ENSG00000267225 & ENSG00000177374 & ENSG00000164125 & ENSG00000225138 & ENSG00000090104 & ENSG00000169169 & ENSG00000169385 & ENSG00000162433 & ENSG00000169992 & ENSG00000227242 & ENSG00000055163 & ENSG00000124731 & ENSG00000259539 & ENSG00000094804 & ENSG00000120820 & ENSG00000225544 & ENSG00000196167 & ENSG00000272789 & ENSG00000104140 & ENSG00000131471 & ENSG00000238260 & ENSG00000173334 & ENSG00000154277 & ENSG00000158516 & ENSG00000134690 & ENSG00000010310 & ENSG00000184545 & ENSG00000242142 & ENSG00000120738 & ENSG00000142765 & ENSG00000169282 & ENSG00000166963 & ENSG00000182230 & ENSG00000150907 & ENSG00000256377 & ENSG00000148671 & ENSG00000136235 & ENSG00000139344 & ENSG00000272810 & ENSG00000108797 & ENSG00000101213 & ENSG00000172345 & ENSG00000166924 & ENSG00000140488 & ENSG00000011028 & ENSG00000253276 & ENSG00000010030 & ENSG00000128602 & ENSG00000125414 & ENSG00000178878 & ENSG00000254681 & ENSG00000174951 & ENSG00000125398 & ENSG00000160867 & ENSG00000173175 & ENSG00000164850 & ENSG00000172508 & ENSG00000149257 & ENSG00000185215 & ENSG00000107317 & ENSG00000123358 & ENSG00000166123 & ENSG00000124701 & ENSG00000139044 & ENSG00000183570 & ENSG00000131711 & ENSG00000272821 & ENSG00000183048 & ENSG00000175048 & ENSG00000077157 & ENSG00000173546 & ENSG00000151640 & ENSG00000125966 & ENSG00000160221 & ENSG00000146677 & ENSG00000023445 & ENSG00000164442 & ENSG00000107968 & ENSG00000170776 & ENSG00000112699 & ENSG00000058668\\\\\n",
       "  & <dbl> & <dbl> & <dbl> & <dbl> & <dbl> & <dbl> & <dbl> & <dbl> & <dbl> & <dbl> & <dbl> & <dbl> & <dbl> & <dbl> & <dbl> & <dbl> & <dbl> & <dbl> & <dbl> & <dbl> & <dbl> & <dbl> & <dbl> & <dbl> & <dbl> & <dbl> & <dbl> & <dbl> & <dbl> & <dbl> & <dbl> & <dbl> & <dbl> & <dbl> & <dbl> & <dbl> & <dbl> & <dbl> & <dbl> & <dbl> & <dbl> & <dbl> & <dbl> & <dbl> & <dbl> & <dbl> & <dbl> & <dbl> & <dbl> & <dbl> & <dbl> & <dbl> & <dbl> & <dbl> & <dbl> & <dbl> & <dbl> & <dbl> & <dbl> & <dbl> & <dbl> & <dbl> & <dbl> & <dbl> & <dbl> & <dbl> & <dbl> & <dbl> & <dbl> & <dbl> & <dbl> & <dbl> & <dbl> & <dbl> & <dbl> & <dbl> & <dbl> & <dbl> & <dbl> & <dbl> & <dbl> & <dbl> & <dbl> & <dbl> & <dbl> & <dbl> & <dbl> & <dbl> & <dbl> & <dbl> & <dbl> & <dbl> & <dbl> & <dbl> & <dbl> & <dbl> & <dbl> & <dbl> & <dbl> & <dbl> & <dbl> & <dbl> & <dbl> & <dbl> & <dbl> & <dbl> & <dbl> & <dbl> & <dbl> & <dbl> & <dbl> & <dbl> & <dbl> & <dbl> & <dbl> & <dbl> & <dbl> & <dbl> & <dbl> & <dbl> & <dbl> & <dbl> & <dbl> & <dbl> & <dbl> & <dbl> & <dbl> & <dbl> & <dbl> & <dbl> & <dbl> & <dbl> & <dbl> & <dbl> & <dbl> & <dbl> & <dbl> & <dbl> & <dbl> & <dbl> & <dbl> & <dbl> & <dbl> & <dbl> & <dbl> & <dbl> & <dbl> & <dbl> & <dbl> & <dbl> & <dbl> & <dbl> & <dbl> & <dbl> & <dbl> & <dbl> & <dbl> & <dbl> & <dbl> & <dbl> & <dbl> & <dbl> & <dbl> & <dbl> & <dbl> & <dbl> & <dbl> & <dbl> & <dbl> & <dbl> & <dbl> & <dbl> & <dbl> & <dbl> & <dbl> & <dbl> & <dbl> & <dbl> & <dbl> & <dbl> & <dbl> & <dbl> & <dbl> & <dbl> & <dbl> & <dbl> & <dbl> & <dbl> & <dbl> & <dbl> & <dbl> & <dbl> & <dbl> & <dbl> & <dbl> & <dbl> & <dbl> & <dbl> & <dbl> & <dbl> & <dbl> & <dbl> & <dbl> & <dbl> & <dbl> & <dbl> & <dbl> & <dbl> & <dbl> & <dbl> & <dbl> & <dbl> & <dbl> & <dbl> & <dbl> & <dbl> & <dbl> & <dbl> & <dbl> & <dbl> & <dbl> & <dbl> & <dbl> & <dbl> & <dbl> & <dbl> & <dbl> & <dbl> & <dbl> & <dbl> & <dbl> & <dbl> & <dbl> & <dbl> & <dbl> & <dbl> & <dbl> & <dbl> & <dbl> & <dbl> & <dbl> & <dbl> & <dbl> & <dbl> & <dbl> & <dbl> & <dbl> & <dbl> & <dbl> & <dbl> & <dbl> & <dbl> & <dbl> & <dbl> & <dbl> & <dbl> & <dbl> & <dbl> & <dbl> & <dbl> & <dbl> & <dbl> & <dbl> & <dbl> & <dbl> & <dbl> & <dbl> & <dbl> & <dbl> & <dbl> & <dbl> & <dbl> & <dbl> & <dbl> & <dbl> & <dbl> & <dbl> & <dbl> & <dbl> & <dbl> & <dbl> & <dbl> & <dbl> & <dbl> & <dbl> & <dbl> & <dbl> & <dbl> & <dbl> & <dbl> & <dbl> & <dbl> & <dbl> & <dbl> & <dbl> & <dbl> & <dbl> & <dbl> & <dbl> & <dbl> & <dbl> & <dbl> & <dbl> & <dbl> & <dbl> & <dbl> & <dbl> & <dbl> & <dbl> & <dbl> & <dbl> & <dbl> & <dbl> & <dbl> & <dbl> & <dbl> & <dbl> & <dbl> & <dbl> & <dbl> & <dbl> & <dbl> & <dbl> & <dbl> & <dbl> & <dbl> & <dbl> & <dbl> & <dbl> & <dbl> & <dbl> & <dbl> & <dbl> & <dbl> & <dbl> & <dbl> & <dbl> & <dbl> & <dbl> & <dbl> & <dbl> & <dbl> & <dbl> & <dbl> & <dbl> & <dbl> & <dbl> & <dbl> & <dbl> & <dbl> & <dbl> & <dbl> & <dbl> & <dbl> & <dbl> & <dbl> & <dbl> & <dbl> & <dbl> & <dbl> & <dbl> & <dbl> & <dbl> & <dbl> & <dbl> & <dbl> & <dbl> & <dbl> & <dbl> & <dbl> & <dbl> & <dbl> & <dbl> & <dbl> & <dbl> & <dbl> & <dbl> & <dbl> & <dbl> & <dbl> & <dbl> & <dbl> & <dbl> & <dbl> & <dbl> & <dbl> & <dbl> & <dbl> & <dbl> & <dbl> & <dbl> & <dbl> & <dbl> & <dbl> & <dbl> & <dbl> & <dbl> & <dbl> & <dbl> & <dbl> & <dbl> & <dbl> & <dbl> & <dbl> & <dbl> & <dbl> & <dbl> & <dbl> & <dbl> & <dbl> & <dbl> & <dbl> & <dbl> & <dbl> & <dbl> & <dbl> & <dbl> & <dbl> & <dbl> & <dbl> & <dbl> & <dbl> & <dbl> & <dbl> & <dbl> & <dbl> & <dbl> & <dbl> & <dbl> & <dbl> & <dbl> & <dbl> & <dbl> & <dbl> & <dbl> & <dbl> & <dbl> & <dbl> & <dbl> & <dbl> & <dbl> & <dbl> & <dbl> & <dbl> & <dbl> & <dbl> & <dbl> & <dbl> & <dbl> & <dbl> & <dbl> & <dbl> & <dbl> & <dbl> & <dbl> & <dbl> & <dbl> & <dbl> & <dbl> & <dbl> & <dbl> & <dbl> & <dbl> & <dbl> & <dbl> & <dbl> & <dbl> & <dbl> & <dbl> & <dbl> & <dbl> & <dbl> & <dbl> & <dbl> & <dbl> & <dbl> & <dbl> & <dbl> & <dbl> & <dbl> & <dbl> & <dbl> & <dbl> & <dbl> & <dbl> & <dbl> & <dbl> & <dbl> & <dbl> & <dbl> & <dbl> & <dbl> & <dbl> & <dbl> & <dbl> & <dbl> & <dbl> & <dbl> & <dbl> & <dbl> & <dbl> & <dbl> & <dbl> & <dbl> & <dbl> & <dbl> & <dbl> & <dbl> & <dbl> & <dbl> & <dbl> & <dbl> & <dbl> & <dbl> & <dbl> & <dbl> & <dbl> & <dbl> & <dbl> & <dbl> & <dbl> & <dbl> & <dbl> & <dbl> & <dbl> & <dbl> & <dbl> & <dbl> & <dbl> & <dbl> & <dbl> & <dbl> & <dbl> & <dbl> & <dbl> & <dbl> & <dbl> & <dbl> & <dbl> & <dbl> & <dbl> & <dbl> & <dbl> & <dbl> & <dbl> & <dbl> & <dbl> & <dbl> & <dbl> & <dbl> & <dbl> & <dbl> & <dbl> & <dbl> & <dbl> & <dbl> & <dbl> & <dbl> & <dbl> & <dbl> & <dbl> & <dbl> & <dbl> & <dbl> & <dbl> & <dbl> & <dbl> & <dbl> & <dbl> & <dbl> & <dbl> & <dbl> & <dbl> & <dbl> & <dbl> & <dbl> & <dbl> & <dbl> & <dbl> & <dbl> & <dbl> & <dbl> & <dbl> & <dbl> & <dbl> & <dbl> & <dbl> & <dbl> & <dbl> & <dbl> & <dbl> & <dbl> & <dbl> & <dbl> & <dbl> & <dbl> & <dbl> & <dbl> & <dbl> & <dbl> & <dbl> & <dbl> & <dbl> & <dbl> & <dbl> & <dbl> & <dbl> & <dbl> & <dbl> & <dbl> & <dbl> & <dbl> & <dbl> & <dbl> & <dbl> & <dbl> & <dbl> & <dbl> & <dbl> & <dbl> & <dbl> & <dbl> & <dbl> & <dbl> & <dbl> & <dbl> & <dbl> & <dbl> & <dbl> & <dbl> & <dbl> & <dbl> & <dbl> & <dbl> & <dbl> & <dbl> & <dbl> & <dbl> & <dbl> & <dbl> & <dbl> & <dbl> & <dbl> & <dbl> & <dbl> & <dbl> & <dbl> & <dbl> & <dbl> & <dbl> & <dbl> & <dbl> & <dbl> & <dbl> & <dbl> & <dbl> & <dbl> & <dbl> & <dbl> & <dbl> & <dbl> & <dbl> & <dbl> & <dbl> & <dbl> & <dbl> & <dbl> & <dbl> & <dbl> & <dbl> & <dbl> & <dbl> & <dbl> & <dbl> & <dbl> & <dbl> & <dbl> & <dbl> & <dbl> & <dbl> & <dbl> & <dbl> & <dbl> & <dbl> & <dbl> & <dbl> & <dbl> & <dbl> & <dbl> & <dbl> & <dbl> & <dbl> & <dbl> & <dbl> & <dbl> & <dbl> & <dbl> & <dbl> & <dbl> & <dbl> & <dbl> & <dbl> & <dbl> & <dbl> & <dbl> & <dbl> & <dbl> & <dbl> & <dbl> & <dbl> & <dbl> & <dbl> & <dbl> & <dbl> & <dbl> & <dbl> & <dbl> & <dbl> & <dbl> & <dbl> & <dbl> & <dbl> & <dbl> & <dbl> & <dbl> & <dbl> & <dbl> & <dbl> & <dbl> & <dbl> & <dbl> & <dbl> & <dbl> & <dbl> & <dbl> & <dbl> & <dbl> & <dbl> & <dbl> & <dbl> & <dbl> & <dbl> & <dbl> & <dbl> & <dbl> & <dbl> & <dbl> & <dbl> & <dbl> & <dbl> & <dbl> & <dbl> & <dbl> & <dbl> & <dbl> & <dbl> & <dbl> & <dbl> & <dbl> & <dbl> & <dbl> & <dbl> & <dbl> & <dbl> & <dbl> & <dbl> & <dbl> & <dbl> & <dbl> & <dbl> & <dbl> & <dbl> & <dbl> & <dbl> & <dbl> & <dbl> & <dbl> & <dbl> & <dbl> & <dbl> & <dbl> & <dbl> & <dbl> & <dbl> & <dbl> & <dbl> & <dbl> & <dbl> & <dbl> & <dbl> & <dbl> & <dbl> & <dbl> & <dbl> & <dbl> & <dbl> & <dbl> & <dbl> & <dbl> & <dbl> & <dbl> & <dbl> & <dbl> & <dbl> & <dbl> & <dbl> & <dbl> & <dbl> & <dbl> & <dbl> & <dbl> & <dbl> & <dbl> & <dbl> & <dbl> & <dbl> & <dbl> & <dbl> & <dbl> & <dbl> & <dbl> & <dbl> & <dbl> & <dbl> & <dbl> & <dbl> & <dbl> & <dbl> & <dbl> & <dbl> & <dbl> & <dbl> & <dbl> & <dbl> & <dbl> & <dbl> & <dbl> & <dbl> & <dbl> & <dbl> & <dbl> & <dbl> & <dbl> & <dbl> & <dbl> & <dbl> & <dbl> & <dbl> & <dbl> & <dbl> & <dbl> & <dbl> & <dbl> & <dbl> & <dbl> & <dbl> & <dbl> & <dbl> & <dbl> & <dbl> & <dbl> & <dbl> & <dbl> & <dbl> & <dbl> & <dbl> & <dbl> & <dbl> & <dbl> & <dbl> & <dbl> & <dbl> & <dbl> & <dbl> & <dbl> & <dbl> & <dbl> & <dbl> & <dbl> & <dbl> & <dbl> & <dbl> & <dbl> & <dbl> & <dbl> & <dbl> & <dbl> & <dbl> & <dbl> & <dbl> & <dbl> & <dbl> & <dbl> & <dbl> & <dbl> & <dbl> & <dbl> & <dbl> & <dbl> & <dbl> & <dbl> & <dbl> & <dbl> & <dbl> & <dbl> & <dbl> & <dbl> & <dbl> & <dbl> & <dbl> & <dbl> & <dbl> & <dbl> & <dbl> & <dbl> & <dbl> & <dbl> & <dbl> & <dbl> & <dbl> & <dbl> & <dbl> & <dbl> & <dbl> & <dbl> & <dbl> & <dbl> & <dbl> & <dbl> & <dbl> & <dbl> & <dbl> & <dbl> & <dbl> & <dbl> & <dbl> & <dbl> & <dbl> & <dbl> & <dbl> & <dbl> & <dbl> & <dbl> & <dbl> & <dbl> & <dbl> & <dbl> & <dbl> & <dbl> & <dbl> & <dbl> & <dbl> & <dbl> & <dbl> & <dbl> & <dbl> & <dbl> & <dbl> & <dbl> & <dbl> & <dbl> & <dbl> & <dbl> & <dbl> & <dbl> & <dbl> & <dbl> & <dbl> & <dbl> & <dbl> & <dbl> & <dbl> & <dbl> & <dbl> & <dbl> & <dbl> & <dbl> & <dbl> & <dbl> & <dbl> & <dbl> & <dbl> & <dbl> & <dbl> & <dbl> & <dbl> & <dbl> & <dbl> & <dbl> & <dbl> & <dbl> & <dbl> & <dbl> & <dbl> & <dbl> & <dbl> & <dbl> & <dbl> & <dbl> & <dbl>\\\\\n",
       "\\hline\n",
       "\tGTEX-1117F-2426-SM-5EGGH & 430.52410 & 205.93553 & 369.1534 & 423.18932 & 238.3773 & 67.43703 & 231.1503 &  94.50833 & 253.0820 & 500.5849 & 101.14956 & 284.91987 & 558.10499 & 495.97702 &  50.17194 & 124.24501 & 84.79969 & 324.8231 & 136.23296 &  92.79723 & 127.79847 &  34.87990 & 202.25454 & 171.50147 & 251.0456 & 162.01172 & 141.03411 & 447.8972 & 350.0802 &  75.46310 & 120.72682 & 127.08279 & 134.93653 &  96.51748 & 477.3996 & 135.049725 & 206.48829 &  65.98332 & 456.6815 & 541.987593 & 180.2814 &  98.46987 & 229.1604 & 213.0601 & 550.9696 & 49.29299 & 184.03625 & 303.36873 & 188.59648 &  68.92992 & 500.000000 & 342.53250 &  50.17194 &  79.51851 & 182.04853 & 102.78618 & 168.57159 & 114.07787 & 262.1524 & 18.47246 &  57.444064 & 111.169907 & 105.24159 & 132.88365 & 178.32471 &  82.09754 &   0.00000 & 384.9999 & 104.54430 & 758.72150 & 60.95659 &  0.00000 &  0.00000 & 390.6891 & 275.5956 & 683.5419 & 333.69974 & 15.094954 & 336.66719 &  57.56996 & 517.1927 & 49.763791 & 158.68848 & 592.5762 & 511.0196 & 301.0780 & 282.3953 & 144.78436 &  79.83409 & 257.99042 & 420.2418 & 481.6600 & 108.6784 & 317.6801 & 560.96959 & 358.8565 & 106.14306 & 392.314918 & 145.62805 & 212.76333 &  0.00000 & 326.57369 & 316.3177 & 71.67715 & 305.0153 & 287.0463 & 488.166462 & 646.5811 & 409.8453 & 644.62562 & 105.24159 & 260.5731 & 135.44522 & 165.3519 & 532.4811 & 693.8991 & 83.91534 & 102.50288 & 693.4281 & 158.49625 & 488.1665 & 209.92952 & 198.4042 & 206.66059 & 136.62523 & 62.33987 & 131.67250 & 460.1102 & 591.57599 & 427.94713 & 122.21863 & 789.5424 &  97.42356 & 179.53514 & 917.71703 & 177.5683 &  0.00000 &  65.25094 & 223.4501 & 555.88799 & 272.9662 &  73.40484 & 265.786862 & 191.1500 & 192.44800 & 139.39653 & 108.94982 & 470.653055 & 150.385753 &  57.02686 & 295.2147 & 275.0178 & 190.996507 & 95.873134 & 209.0176 & 441.0070 & 195.90282 & 263.1570 & 161.07001 & 229.1014 & 497.45293 & 17.55565 & 525.2098 & 185.51924 & 195.04684 &  88.27604 & 620.20258 &  27.84606 & 458.9763 & 311.7363 & 231.93289 & 373.0096 & 562.8190 & 339.4377 & 56.462205 & 740.93909 & 708.21490 & 258.9044 & 125.76141 & 247.92306 & 266.85730 &  56.40367 &  0.00000 &  87.08184 & 265.7640 &  84.3019 &  88.83049 & 299.63887 & 480.8900 & 601.3686 & 119.7865 & 268.8180 &  70.15934 & 300.10816 & 58.69809 &  89.85566 & 233.7426 & 262.41009 & 100.50406 &  62.33987 & 440.66727 &   0.0000 & 342.3847 & 405.2242 & 67.90634 & 445.1541 & 526.4536 & 400.89888 & 161.306011 & 571.83616 & 14.02551 & 287.2238 & 195.0468 & 294.35463 & 731.56025 & 469.9330 &  50.69066 & 856.3387 & 134.14165 & 335.2759 & 589.33622 & 490.4002 & 135.3323 & 248.2590 & 589.4818 & 321.27250 & 71.299189 & 361.82387 & 356.5597 & 37.43996 & 0 & 527.7241 & 188.2839 &  18.47246 & 455.02850 & 242.76062 & 1054.978467 & 904.3574 & 253.9531 & 325.0507 & 427.4262 & 315.6882 & 802.2368 & 434.5538 & 568.6781 & 53.03704 & 356.5597 & 626.02139 & 469.4323 & 297.8379 & 402.5915 & 131.6725 & 558.73650 & 610.2448 & 31.39424 & 280.2607 & 271.7649 & 43.63751 & 391.64766 & 498.9139 & 154.34959 &  0.00000 &  63.76566 & 497.5905 & 539.1630 & 387.7744 & 176.63831 & 748.3816 & 338.8603 & 292.903348 & 641.8190 & 100.36022 & 150.33487 & 157.77309 & 0 & 130.15876 & 435.2617 & 239.8898 & 245.7594 & 755.4589 &  511.5200 & 151.80315 &   0.00000 & 402.4142 & 158.30376 & 327.76873 &  85.68662 & 557.2587 & 548.5749 & 210.63483 & 753.1381 & 414.8934 & 396.9933 &  95.81374 & 325.45940 &  56.78375 & 162.8540 &  56.66691 & 865.67824 &  80.78495 & 107.92928 & 235.9240 & 749.3455 & 272.2029 & 114.99097 & 691.1692 & 183.75396 & 184.0363 & 771.76764 & 372.3559 & 212.39972 & 161.5416 & 182.57856 & 867.7367 & 665.2630 & 276.29866 & 127.08279 & 244.0421 & 649.34552 & 282.3138 & 50.32470 & 198.84120 &  39.39653 & 570.2658 & 609.10651 & 261.09362 & 449.37754 & 531.6508 & 283.24850 & 167.491255 & 149.4160 & 130.04166 & 312.8788 & 678.5289 & 364.1546 & 827.0062 & 535.68481 & 663.0376 & 378.1360 & 207.2792 & 82.61112 & 213.65195 & 555.3053 & 448.34934 & 225.33842 & 580.63241 & 318.3010 & 691.7670 &  18.33277 &   0.0000 & 400.9885 & 604.3082 &  0.00000 & 228.3033 & 252.45652 & 103.49200 & 151.14680 &  29.17214 & 585.0499 & 642.5090 & 322.75871 & 102.9276 & 316.6876 & 575.0339 &  79.96676 & 468.2573 & 623.9933 &  79.80920 & 118.840092 & 360.52573 & 587.7990 & 736.0189 & 155.43433 & 141.68397 & 704.2207 & 250.4620 &  39.07777 & 176.9349 & 265.0075 & 753.4497 &  45.80670 & 631.5421 & 207.89513 & 294.61694 & 136.0083 & 458.79650 & 238.81895 & 734.3408 & 379.4936 & 753.83830 & 188.51839 & 467.1293 & 801.8478 & 136.56925 & 356.681515 & 0 & 143.93572 & 240.2449 & 185.6388 &  967.9304 & 131.67250 & 118.65006 & 266.4028 & 367.58159 & 252.50666 & 671.2871 & 109.42361 & 652.5912 & 114.143279 & 159.9794 & 172.0278 & 536.3522 & 599.8647 & 577.68936 & 150.18213 & 118.2057 & 199.711172 & 547.7354 & 312.71380 &  25.31422 & 602.0147 & 360.5257 & 104.334450 & 609.97160 & 492.9318 & 612.68077 &  48.48084 &  13.19187 & 148.5427 & 124.73199 & 598.5956 & 130.56787 & 697.6134 & 285.41952 & 436.59724 & 574.8193 & 618.7253 & 101.292617 & 405.1372 & 463.0522 & 0 &  72.59592 & 513.91420 & 575.35511 & 156.2670 &  0.00000 &  66.44828 &  94.38838 & 312.26727 &  67.61771 & 218.6501 & 204.6491 &  87.71945 & 217.88740 & 418.5867 & 374.0928 & 898.0711 &  334.86573 & 626.7536 & 154.89298 & 1074.1467 & 207.7585 & 672.9281 & 692.4813 & 400.3602 & 573.6875 & 490.20736 & 822.01364 & 540.1903 & 369.1534 & 448.9286 & 457.7731 & 716.0880 & 460.8218 & 458.1351 & 517.4327 &   0.0000 & 276.468585 & 350.5891 & 375.8090 & 101.43553 &  25.94232 & 507.5960 & 559.3653 & 395.2334 & 517.47260 & 739.2317 & 336.68118 & 930.2182 & 603.4964 & 676.4208 &  53.72464 &   0.0000 & 211.6032 & 622.6509 & 152.40637 & 388.9474 & 0 & 220.19475 & 153.45597 & 615.1981 & 679.05114 &  99.99279 & 325.3687 & 590.3279 &  32.68824 & 802.8459 & 0 & 301.7566 & 280.24000 & 438.68109 & 407.1248 & 312.56511 & 280.2400 & 250.91891 & 611.5824 & 780.0900 & 455.15160 & 377.71567 &   4.709162 & 284.79969 & 636.5273 & 423.72578 & 258.30376 & 563.51739 & 298.6411 & 114.27402 & 609.6768 & 558.3158 & 0 & 497.2233 & 427.5752 &  76.83326 & 742.2906 &  77.69462 & 601.4355 & 258.32784 & 645.5492 & 460.46644 & 631.0522 & 529.9758 & 105.6584 & 348.92860 & 396.9012 & 377.1886 & 210.0978 &  92.68344 & 622.9972 & 459.3951 & 395.6986 & 339.2867 & 143.40277 & 589.40902 & 300.6837 & 197.81956 &  80.1407 & 0 & 683.4155 & 0 &  90.65828 & 143.4562 & 489.62718 & 406.17762 & 614.8121 & 21.871918 & 113.22478 & 277.1886 & 454.4733 & 253.2566 & 628.4107 & 241.6299 & 390.01423 & 789.2391 & 593.8286 & 334.96484 & 408.6614 & 666.2490 & 712.1015 & 646.1398 & 0 & 490.83326 & 575.7557 & 229.21928 & 372.24660 & 158.11102 & 394.1106 & 643.8626 &  64.20084 & 240.4631 & 620.2614 & 154.79433 & 792.1246 & 0 & 169.4212 & 289.3168 & 529.3150 & 109.01759 & 311.8526 & 181.88506 & 373.98481 & 787.4059 & 542.49221 & 33.06731 & 479.493566 & 567.4404 &  586.8143 & 0 & 538.4741 & 286.05656 &  33.18198 &  71.40476 & 595.62890 & 396.439863 & 190.34240 & 577.0300 & 444.29435 & 130.50950 & 124.9749 & 16.221004 & 0 &  70.46949 & 142.9214 & 591.7670 &  700.1127 & 565.9068 & 556.0104 & 209.4236 & 634.7134 & 518.9825 & 329.8072 & 653.1537 & 489.14192 & 623.4386 & 317.60036 & 0 & 570.0440 & 707.7884 & 583.6682 & 568.1730 & 155.0901 & 113.22478 & 0 & 600.6522 & 635.89588 & 329.60168 & 356.0715 & 343.89581 & 126.24332 & 546.7279 & 581.3012 & 159.50262 & 253.5555 & 811.0614 & 365.6496 & 347.3787 & 335.04972 & 411.0196 & 678.5289 & 562.5855 & 164.61627 & 434.26970 & 665.0477 & 144.67856 & 546.4668 & 0 & 755.2285 & 519.5741 & 438.0591 & 409.0007 & 667.6662 & 360.1697 &  73.35279 & 415.8660 & 567.2425 & 206.72945 & 232.1928 &  77.75354 & 437.5039 & 596.1392 & 633.7354 & 158.976349 &  56.52072 & 324.5496 & 370.5978 & 298.5683 & 289.00575 & 402.236781 & 274.2222 & 652.3876 & 570.6531 & 191.8386 & 0 & 745.6970 & 687.2829 & 107.99754 & 0 &  52.08497 &  90.98115 & 256.29140 & 539.0599 & 550.0165 & 657.8939 & 695.5359 & 439.8487 &  76.56196 & 671.2871 &  53.69481 & 645.0551 & 694.0167 &  67.59062 & 492.8370 & 347.2488 & 551.2859 &   0.0000 & 184.91987 & 189.41387 & 1113.5068 & 491.8863 & 511.0196 & 475.5956 & 303.1748 & 481.6600 & 265.74114 & 225.2779 & 491.7432 & 0 & 580.1417 & 408.4915 & 460.7034 &  27.11866 & 531.8678 & 356.5597 & 146.51909 &  70.372089 & 107.92928 & 583.9708 & 275.531490 & 736.0189 &   0.0000 & 613.9756 & 138.73625 & 567.2991 & 193.96027 & 127.20232 & 548.2848 & 511.8941 & 499.0501 & 449.7612 & 566.98772 &  46.44592 &  712.2051 & 566.1921 & 708.1084 &  62.70465 & 234.68151 & 629.99406 & 900.5905 & 434.34078 & 634.2164 &  17.42786 & 690.6891 & 712.5155 &  88.83049 & 595.5359 & 621.83937 & 775.8889 & 325.7765 & 457.34957 & 500.5400 &  53.38623 & 580.6840 &   0.0000 & 406.4366 & 325.3536 & 499.7744 & 239.0393 & 654.0554 & 538.4741 & 249.87615 & 502.5472 & 223.17396 & 156.3158 & 101.86342 & 0 & 658.5714 & 540.4971 & 623.3044 & 744.1284 & 241.30524 &  39.83504 & 1033.4273 & 0 & 372.1373 & 453.79172 & 287.36164 & 423.4195 & 349.3135 & 808.7463 & 650.2394 & 558.82649 & 643.8126 & 835.5351 & 427.8728 & 217.5045 & 461.7063 & 736.2821 & 712.6188 & 299.81955 & 894.3101 & 562.8190 & 648.9768 & 426.60369 & 760.2884 & 231.5856 &  0.00000 & 496.2549 & 387.1844 & 444.6918 & 609.5924 & 402.9453 & 354.2258 & 28.74723 & 205.93553 & 255.75326 & 539.5406 & 493.1683 & 510.05572 & 576.5800 & 300.8810 & 652.6225 & 617.2127 & 683.1624 & 0 & 683.2890 & 479.4416 & 364.1546 & 138.84651 & 183.1472 & 103.42157 & 106.07392 & 502.3255 & 583.2384 & 425.77650 & 561.1763 & 778.7250 & 0 &  5.89814 &  99.99279 & 649.8091 & 849.8251 & 381.76233 & 382.9850 & 586.6166 &  50.40610 & 124.18402 & 566.9027 & 427.27697 & 158.40004 & 379.07720 & 584.4235 & 504.2644 & 640.4290 &  37.31749 & 716.2895 & 412.6808 & 579.1293 & 392.7896 & 882.5277 & 444.5594 & 580.9672 & 299.0229 &  95.887979 & 440.6673 & 600.7420 & 197.74631 & 143.6695 & 753.2161 & 479.28554 & 241.95389 & 422.1104 &   0.0000 & 669.6272 & 275.3605 & 196.5692 & 48.74863 & 244.6521 & 700.6747 &  39.53919 & 418.5074 & 0 & 762.2784 & 253.9283 & 693.7815 & 438.5431 & 640.2074 & 631.1249 &  32.837693 & 484.5992 & 437.2952 & 307.65591 & 351.60151 & 385.9970 & 165.21423 & 212.53205 & 345.9300 & 1028.8866 & 645.2365 & 590.4484 &  75.06922 &  0.00000 & 652.5443 & 381.65997 & 456.985561 & 125.0355 & 151.1468 & 686.9131 & 134.14165 & 614.2005 &  8.475822 &   0.0000 & 577.9522 & 571.3696 & 631.5602 & 721.7231 & 444.22800 & 213.45495 & 406.5228 & 757.2132 &  62.143067 & 426.9033 & 231.64354 & 296.1068 &  85.19988 & 438.3359 & 234.51125 & 344.2678 & 482.3749 &  68.69711 & 597.0163 & 448.22029 & 269.3989 & 585.7732 & 269.79962 & 172.2466 &  70.9820 & 466.2775 & 142.27712 & 542.9281 & 189.7240 & 167.67187 & 375.48875 & 34.25547 & 620.0850 & 72.202878 & 198.6593 & 652.6538 & 88.58086 & 391.45645 & 525.7765 & 143.8293 & 534.8374 & 487.97058 & 538.7845 & 689.7240 & 534.0206 & 154.64624 & 607.0819 & 59.75073 & 579.1814 & 299.38555 & 143.98890 &  89.04856 & 186.9871 & 455.4589 & 297.8928 & 117.1847 & 729.0940 & 643.4962 & 419.6922 & 585.5242 & 288.2447 &  81.92594 & 473.8768 & 496.43986 & 492.2198 & 487.3321 & 277.3996 & 572.4377 & 780.2193 & 639.1974 & 238.73625 & 144.04207 & 283.410440 & 415.8660 & 274.7387 & 706.6089 & 463.9232 & 658.1502 & 303.1924 & 824.3174\\\\\n",
       "\tGTEX-111CU-0926-SM-5EGIK & 301.79219 & 180.69427 & 315.7691 & 424.26025 & 191.2650 & 54.26048 & 493.4988 & 129.27817 & 232.3946 & 427.2023 & 124.06196 &  78.36662 &  98.99383 &  92.09792 & 138.73625 &  83.56816 & 60.91876 & 149.0570 & 192.94123 & 135.38878 &  86.32249 &   0.00000 &  89.57679 & 143.72277 & 250.9442 & 268.90755 &  51.64186 & 294.1670 & 451.9164 & 120.22610 & 154.59684 & 128.45141 & 191.37990 & 325.51986 & 523.2277 & 102.005765 & 121.47465 & 509.92952 & 113.2248 &   0.000000 & 319.2668 &  57.86972 & 158.0145 & 259.5742 & 274.1143 & 45.89069 &  33.75398 & 289.27796 &  89.60005 & 499.86468 & 466.049513 & 516.10815 & 159.35928 & 157.14341 &  99.26959 & 235.92400 & 131.67250 & 252.00450 & 442.7606 & 36.49086 &   9.947027 &  27.715161 &  95.23336 &  76.13704 & 113.42209 & 201.14956 &  28.33292 & 352.2307 &  69.41224 &  40.06472 & 77.63567 &  0.00000 &  0.00000 & 390.6891 & 375.2749 & 505.4848 & 164.06209 & 11.701675 & 406.17762 & 195.04684 &   0.0000 &  8.831802 & 113.61914 & 450.6526 & 509.3814 & 461.2942 & 247.1187 & 112.43281 & 568.76206 &  82.91189 & 360.9991 & 265.3977 & 560.7034 & 190.0722 &   0.00000 & 127.3217 & 193.13048 & 354.596837 &  94.00540 &  82.37494 &  0.00000 & 314.14328 & 473.0640 & 76.11150 & 433.6997 & 252.7571 &  25.314215 & 529.5356 & 537.8512 & 136.34515 &  69.34089 & 327.8877 &  43.29594 & 361.8239 & 499.6389 & 273.7470 & 11.42871 &  49.51835 & 431.3971 & 146.57133 & 434.6957 & 369.04171 & 443.3627 & 114.73067 & 174.28686 &  0.00000 & 290.97731 & 587.2583 &  70.61106 &  77.37432 & 129.57230 & 237.2674 & 272.31216 & 140.97982 &  63.61722 & 665.1195 &  0.00000 &  91.34160 & 101.8634 &  90.42721 & 303.2982 & 310.14820 & 271.742967 & 142.2771 &  73.79463 &  84.30995 &  55.70914 & 434.198575 & 102.644598 & 301.93461 & 435.8959 & 102.3610 &  45.733163 &  6.577909 & 440.6673 & 379.2855 &  67.41894 & 215.6720 & 145.83820 & 179.8258 &  63.05919 & 13.64408 & 436.0364 & 155.77777 & 116.22100 & 156.65716 &  94.78531 & 141.79200 & 317.9670 & 237.5457 & 288.40117 & 362.1759 & 349.8251 & 327.2173 &  6.471733 &  88.37772 &  64.47792 & 154.0523 &  61.61695 & 234.93653 &  23.69518 & 531.68698 &  0.00000 & 218.77677 & 637.3300 & 182.6193 &  42.56741 & 261.70633 & 193.4705 & 864.6379 & 481.2498 & 156.9005 & 220.53925 &  40.67543 & 43.85058 & 301.70311 & 161.8709 &  16.82569 &  43.70146 & 283.28900 &  71.65081 &   0.0000 & 329.8658 & 220.4141 & 63.72856 & 388.3621 & 228.8654 & 210.76879 & 168.661258 &  95.09163 &  0.00000 & 574.8730 & 622.7857 &  36.81537 & 112.43281 & 202.8569 &  33.12466 & 329.4106 & 368.14493 & 336.5553 & 101.93461 & 526.0026 & 151.8031 & 576.1019 & 384.6995 & 106.21217 &  9.757035 & 379.38959 & 468.2011 &  0.00000 & 0 & 245.4702 & 360.9991 & 249.54393 &  87.05028 &  35.92963 &    9.767821 & 211.8692 & 959.1148 & 104.9631 & 349.1853 & 297.9660 & 196.4953 & 184.0363 & 341.0477 & 89.99490 & 315.0397 & 121.28806 & 210.1986 & 425.7765 & 542.7271 & 133.5140 &  92.97910 & 577.3205 &  0.00000 & 187.4600 & 323.3275 & 34.55099 &  93.56106 & 463.2850 & 493.21557 & 28.10750 & 236.68118 & 636.8070 & 305.8663 & 122.0330 & 199.02288 & 169.1087 & 313.8814 &   8.705543 & 320.1634 & 210.36655 & 301.06008 &  59.17751 & 0 &  50.68050 & 405.3980 & 722.1104 & 345.7200 & 333.7711 & 1124.0195 & 370.92906 &   0.00000 & 397.3611 &  30.48615 & 115.57492 & 264.24705 & 348.0265 & 541.0409 & 139.39653 & 332.9411 & 177.2308 & 252.9321 &  71.29039 &  24.15962 &  42.74989 & 199.7473 & 774.88637 &  81.31142 & 239.31416 &  79.45198 & 463.2850 & 321.2258 & 174.6313 &  64.93855 & 331.4261 & 117.88740 & 519.3378 & 147.09273 & 508.3639 & 424.94453 & 161.6358 & 134.93653 & 355.3361 & 418.1898 &  26.17113 & 399.00472 & 243.0018 &  82.30156 & 210.5008 & 24.22061 &  51.73261 & 699.09549 & 113.4221 &  25.71313 & 157.72475 & 131.26652 & 508.4490 & 272.98790 &  17.120683 & 623.1893 & 103.70307 & 203.0689 & 219.4087 & 369.2650 & 166.4938 &  61.72985 & 169.4212 & 160.8336 & 220.6018 & 67.10216 &  54.15148 & 348.8001 &  88.36990 & 109.69365 &  41.21854 & 357.4102 & 628.7251 & 111.63648 & 529.7558 & 204.6840 & 345.2727 &  0.00000 & 645.4340 & 192.14363 & 267.03872 & 165.67252 &   0.00000 & 149.9782 & 157.1434 &  83.77818 & 524.4507 & 277.0829 & 257.7731 &  77.35744 & 314.1923 & 525.2098 &  22.93418 &   6.018577 & 112.49898 & 171.6332 & 284.8398 & 139.67075 & 685.54914 & 279.0146 & 524.2221 &  38.28332 & 276.7655 & 252.3562 & 464.2702 & 413.17541 & 192.8276 &   0.00000 & 630.54234 & 399.0047 &  31.89242 &  66.53018 & 220.7581 & 177.2730 & 140.87119 &  35.07235 & 179.0355 & 110.0305 &  58.38079 &   9.882377 & 0 & 212.20100 & 226.0628 & 781.1214 &  328.9392 & 457.53123 & 897.58480 & 130.6262 & 129.51352 & 335.72705 & 186.3542 &  83.36592 & 488.5086 &  23.731897 & 565.8783 & 595.3498 & 239.5885 & 574.9534 & 110.83572 & 115.96292 & 208.9837 & 202.431968 & 425.4745 & 129.21928 &  91.22666 & 145.1541 & 588.9230 &  21.735481 &  20.00021 & 253.1319 & 132.25051 & 323.00493 &  18.72610 & 350.0802 & 116.47863 & 335.5439 &  46.05853 & 440.2586 & 332.88365 &  97.92205 & 305.8143 & 336.8070 &  99.284093 & 103.9840 & 168.7509 & 0 &  50.14137 & 124.97487 &  84.43857 & 229.3959 & 48.73834 & 753.76067 &  77.21390 & 170.88494 &  83.09043 & 341.3594 & 391.7432 & 101.86342 & 207.41629 & 443.0285 & 391.7432 & 362.0586 &  668.08869 & 176.9349 &  64.85575 &  290.5928 & 679.3116 & 203.4920 & 417.7121 & 167.4461 & 390.3038 & 100.57593 & 226.30344 & 155.2869 & 544.5263 & 308.6104 & 387.5780 & 237.2674 & 328.1253 & 417.4726 & 411.3534 &   0.0000 &   6.906969 & 282.0894 & 223.1432 & 393.07373 &  38.07294 & 202.8923 & 230.8303 & 471.3146 & 131.96179 & 230.9467 &  80.13242 & 779.7013 & 162.9473 & 413.0931 & 328.76200 &   0.0000 & 523.7258 & 530.1953 & 659.88713 & 532.5890 & 0 &  72.85736 &  29.11320 & 198.2948 &  36.45724 &  67.43703 & 295.1961 & 716.2895 & 276.97717 & 201.9346 & 0 & 467.1859 &  65.09483 & 149.92719 & 142.4385 &  83.08232 & 486.0466 & 105.03276 & 465.1913 & 241.9539 &  93.61385 &  94.11814 & 512.267272 &  10.65091 & 243.5095 &  45.44918 &  75.44600 & 105.51957 & 637.2256 &  73.20521 & 302.1835 & 117.5684 & 0 & 696.8091 & 185.9572 & 140.16305 & 411.9356 &  91.71644 & 164.4318 & 119.21942 & 302.3610 &   0.00000 & 146.6758 & 199.2043 & 470.8187 &  23.15553 & 231.7883 & 790.0263 & 102.2190 & 194.11063 & 272.1810 & 193.7344 & 163.7378 & 199.8557 &   0.00000 & 117.37671 & 151.2985 &  66.31169 & 101.5069 & 0 & 334.2270 & 0 &  74.00209 & 529.4621 &  99.55207 &  64.17310 & 209.8622 &  5.909219 & 466.78921 & 299.2768 & 200.1802 & 294.8227 & 210.8357 & 268.8628 &  78.14017 & 411.0196 & 582.4513 &  91.11930 & 617.8515 & 216.0598 & 266.5165 & 403.0336 & 0 &  35.29845 & 287.5977 & 118.90338 & 378.03101 & 432.62497 & 320.1947 & 520.9063 & 226.12299 & 425.5501 & 132.0196 & 120.78929 & 456.9856 & 0 & 487.8725 & 616.8321 & 244.0952 & 822.68938 & 115.9629 & 320.64869 &  55.03097 & 128.1550 &  61.71104 &  0.00000 &   8.746284 & 159.8365 & 1037.6125 & 0 & 254.9176 &  32.82620 & 105.38064 & 901.01085 & 112.10154 &  36.345146 &  36.15438 & 748.4622 &  58.26523 & 123.87869 & 512.9695 & 73.187835 & 0 & 262.45688 & 802.9011 & 191.6859 &  286.7106 & 219.1247 & 294.7479 & 133.5140 & 493.4045 & 757.3647 & 542.0887 & 493.3100 &  66.48469 & 414.8121 &  74.28686 & 0 & 244.8901 & 273.9848 & 122.2805 & 223.5114 & 284.5992 &  44.93237 & 0 & 305.7450 & 187.73516 &  51.41980 & 234.3692 & 119.91226 & 273.11832 & 190.6121 & 447.1187 & 342.93482 & 241.2782 & 398.3678 & 172.5087 & 299.9459 & 169.59938 & 881.0250 & 286.9082 & 526.2283 & 779.70130 &  96.51748 & 294.5982 &  94.36588 & 348.2848 & 0 & 622.0717 & 166.7665 & 296.8091 & 344.0686 & 435.3323 & 311.4700 & 157.62803 & 340.4086 & 222.5275 &  40.70808 & 420.4767 &   0.00000 & 335.4593 & 140.5992 & 444.5594 &   0.000000 & 260.64422 & 779.6364 & 282.0281 & 374.4161 &   0.00000 &  20.589293 & 199.0592 & 362.7607 & 223.8481 & 266.1065 & 0 & 341.9674 & 274.9320 &  57.29867 & 0 &   0.00000 & 479.02507 & 112.10154 & 264.4318 & 447.2488 & 428.3181 & 331.3246 & 130.9176 & 550.17576 & 256.5353 &  78.22408 & 661.8826 & 222.4040 &  47.16557 & 216.4143 & 182.1302 & 260.4546 &   0.0000 & 579.70130 &   0.00000 &  294.5608 & 162.6205 & 366.6757 & 667.9480 & 641.6671 & 502.5029 & 107.31347 & 479.2335 & 136.9606 & 0 & 150.0292 & 646.2707 & 249.1597 &  92.85030 & 217.8874 & 404.4394 &  62.28367 &  31.138686 & 333.85670 & 312.4990 &  15.600822 & 366.3345 &   0.0000 & 343.0151 & 622.45806 & 252.1051 &  54.33969 & 349.18531 & 157.2405 & 149.7229 & 188.9084 & 232.9411 & 109.69365 & 486.29472 &  362.4101 & 228.4514 & 316.3499 & 219.62923 & 110.36655 &  64.93855 & 539.2661 & 121.66101 & 177.0195 & 262.80737 & 393.2628 & 360.5257 & 120.41407 & 214.1106 &  48.51176 & 358.0145 & 474.5237 &  71.53663 & 105.1024 &  67.14745 & 260.5731 &   0.0000 & 399.0955 & 370.2658 & 811.6344 & 388.3621 & 322.5583 & 326.1832 & 260.00318 & 348.0265 & 334.32657 & 429.9391 &  88.49495 & 0 & 200.8989 & 226.3936 & 478.0310 & 264.8465 &  94.44087 & 249.82509 &  632.9303 & 0 & 126.4837 &  48.43960 &  25.58028 & 207.3135 & 214.5351 & 286.3938 & 315.0560 &  80.14070 & 172.1591 & 323.7258 & 362.2930 & 589.7724 & 427.0529 & 440.3949 & 315.6882 &   0.00000 & 289.7047 & 302.1835 & 272.9662 &  26.71163 & 284.8598 & 475.1142 &  0.00000 & 739.4891 & 252.5067 & 204.9979 & 401.7031 & 359.4549 & 151.8535 & 33.98215 & 149.00566 &  71.87014 & 188.6355 & 568.9299 & 150.84287 & 317.5365 & 549.1212 & 151.9542 & 271.3916 & 393.9227 & 0 & 343.1489 & 471.0944 & 142.4922 &  58.67888 & 572.7920 & 280.52925 & 125.51986 & 159.3593 & 239.4240 &  87.75087 & 217.0886 & 310.3665 & 0 & 29.13678 & 924.05529 & 172.2466 & 509.0007 &  88.67452 & 140.1084 & 332.2793 & 279.90873 & 527.42617 & 148.1816 & 171.10543 & 373.55222 &  74.86330 & 560.0210 & 278.0520 & 166.7211 & 408.32134 & 259.5742 & 278.4713 & 262.0352 & 335.5721 & 575.3818 & 228.8359 & 335.1346 & 591.6954 & 102.927618 & 635.8959 & 168.7509 &  23.04490 & 899.4353 & 402.3255 & 122.34225 &  90.15717 & 663.9087 &   0.0000 & 221.8781 & 308.8820 & 371.0393 &  0.00000 & 337.0583 & 287.7352 & 224.64081 & 364.9615 & 0 & 407.8097 & 192.7896 & 310.3330 & 502.1924 & 273.7038 & 166.3117 & 223.909248 & 334.3834 & 200.9347 & 144.20146 &  41.14262 & 301.8278 &  54.21094 & 385.59897 & 167.4913 &  466.6757 & 617.4526 & 221.3503 &  55.65030 & 25.50777 & 345.6149 & 122.83570 &  18.002052 & 259.0482 & 748.6232 & 254.9176 &  43.58419 & 458.6164 & 24.549566 &   0.0000 & 221.4747 & 232.3658 & 268.5267 & 419.7708 &  93.84740 &  72.20288 & 414.2413 & 319.0457 & 109.356018 & 425.7011 &  85.18390 & 589.8208 & 273.29204 & 175.4888 &   0.00000 & 510.9778 & 331.0486 & 130.68455 & 376.8714 & 170.79665 & 574.7387 & 296.7722 & 637.34742 & 337.6290 & 407.7243 & 251.7780 &   0.00000 & 770.5287 & 671.5619 &  73.12701 & 115.57492 & 24.62256 & 300.1982 & 11.496663 &   0.0000 & 156.4622 & 15.83370 &  67.15651 & 327.1426 & 515.8256 & 235.1063 &  75.16351 & 186.0367 & 311.2700 & 433.4854 & 132.07735 & 263.1104 & 45.78569 & 287.1055 & 193.50825 & 519.06149 & 560.25875 & 407.3820 & 218.7768 & 614.9341 & 495.9770 & 436.8768 & 459.8127 & 353.8538 & 585.7235 & 716.8923 & 495.83787 & 702.3477 & 114.27402 & 235.8959 & 370.5978 & 607.8097 & 193.6214 & 325.6256 & 300.6478 & 141.14262 &  66.52108 &  25.374728 & 316.3982 & 439.7803 & 570.3765 & 245.6543 & 413.7504 & 596.8782 & 300.3242\\\\\n",
       "\tGTEX-111YS-1126-SM-5GZYQ &   9.44658 & 152.65697 & 197.3795 &  34.49421 & 114.8609 & 42.63184 & 245.4965 &  49.82509 & 123.8175 &   0.0000 &   0.00000 & 305.05017 & 113.61914 &  57.93733 &  64.67157 &  54.55731 & 84.09264 & 115.4454 & 203.13952 &  93.46297 &  49.69225 & 117.75989 &  52.78711 &  93.68923 & 211.9024 & 160.92822 & 180.07446 & 172.6831 & 451.0329 & 121.97106 & 129.63106 & 187.93137 &  92.09030 &  25.84586 & 373.1183 &   4.878023 &  75.60839 &  36.37878 & 210.5008 &   0.000000 & 394.7666 &  50.19231 & 191.5330 & 223.2047 & 310.1146 & 47.68483 &  13.65327 & 107.45054 &  60.27419 & 317.15271 &   8.067131 & 140.16305 &  21.41248 &  48.85150 &  72.76156 & 119.47175 & 129.98308 & 213.29058 & 210.3330 & 23.54820 &  23.229236 &  23.964244 &  69.55485 &  19.24467 &  59.33060 & 124.48871 &  21.83472 & 307.6901 &  65.70912 &  28.00061 & 30.25238 &  0.00000 &  0.00000 & 395.2334 & 431.3971 & 500.0000 &  72.83124 & 53.136898 & 499.36744 &  46.17381 &   0.0000 & 19.232044 & 305.55427 & 356.6815 & 129.8072 & 452.2307 & 138.0729 &  36.53566 & 194.63566 & 235.07801 & 276.1498 & 155.4343 & 572.8737 & 181.8442 &  11.10180 & 160.7390 & 122.65085 &   6.409647 &  86.18760 & 102.29004 & 30.33424 &  40.52300 & 344.7182 & 34.48285 & 399.1862 & 190.3810 &  39.802195 & 438.5431 & 496.2086 &  76.16257 &  38.93465 & 350.7160 &  66.63021 & 358.7365 & 489.8692 & 263.1803 & 16.88987 &  10.71254 & 450.2712 &  48.93374 & 372.6831 & 176.89253 & 193.6968 & 252.40637 &  34.22134 & 20.90166 & 297.23250 & 755.6889 & 329.21928 & 284.69947 & 127.14257 & 232.9985 & 180.52925 &  84.95189 &  41.55424 & 593.4988 & 39.86787 &  69.83963 &   0.0000 & 155.09007 & 209.4574 & 220.57053 &  29.513525 & 241.4136 &  44.96406 &  42.39546 &  64.87415 &   8.403704 &   3.770552 & 603.09981 & 401.7922 & 207.3135 &  30.334239 & 14.456852 & 295.3079 & 339.1218 &  40.09750 & 197.7463 & 133.51402 & 347.6382 & 279.78431 & 29.16036 & 421.4902 & 108.13396 &  22.58919 &  98.09758 & 128.03625 & 168.30227 & 280.7561 & 159.5504 & 124.00090 &   0.0000 & 492.1722 & 228.7177 & 22.983399 &  51.88372 &  69.88408 & 103.7734 &  57.56996 & 115.38053 & 253.23170 & 482.01790 &  0.00000 & 151.04556 & 724.6028 & 163.3664 &  10.77280 &  71.75613 & 202.2190 & 613.8937 & 554.1948 & 108.4745 & 200.86303 &  10.12063 & 59.70305 & 109.76108 & 305.4675 &  31.99647 &  19.57255 &  92.80481 &  96.39919 & 195.7915 & 244.2811 & 188.8695 & 49.36473 & 324.5648 & 223.6340 & 156.75454 &  15.237815 & 144.36067 & 25.86998 & 382.9850 & 689.2391 &  39.25372 &  52.58684 & 209.7274 &  31.37102 & 303.5272 & 430.15876 & 304.5093 & 120.97653 & 648.7519 & 381.6600 & 519.9672 & 318.5391 &  41.94310 & 70.681785 & 169.73290 & 419.3772 &  0.00000 & 0 & 228.3033 & 369.9330 & 258.25560 &  95.27808 &  55.43433 &  599.480598 & 110.0305 & 556.4683 & 186.9477 & 279.7636 & 423.3428 & 130.9176 & 297.4529 & 163.0871 & 22.20626 & 253.6053 &  68.77774 & 207.7243 & 405.5716 & 648.2203 & 116.4786 & 327.11268 & 570.7635 &  0.00000 & 186.1558 & 221.7231 & 38.48235 &  85.77422 & 309.3222 & 407.55326 & 38.70316 & 181.84416 & 289.5884 & 281.7009 & 129.8072 &  27.88174 & 223.3581 & 306.1776 &  50.741410 & 538.0591 & 154.25057 & 314.53514 &  36.33393 & 0 &  41.35941 & 379.0772 & 562.6147 & 330.4219 & 192.2198 &  751.7276 & 441.27815 &   9.44658 & 382.8835 &  52.89713 &  73.14439 & 449.56952 & 215.3157 & 602.9232 & 138.23906 & 220.2574 & 102.5029 & 201.5426 &  27.40529 &  26.26737 &  37.49560 & 152.5067 & 717.09265 & 116.86420 & 264.06209 &  47.76773 & 385.3996 & 242.3578 & 325.7765 &  92.75172 & 261.5181 &  42.51370 & 279.8051 & 444.29435 & 377.2941 &  36.41241 & 116.8642 &  64.08985 & 328.5550 & 490.9293 &  73.02269 &  74.79459 & 223.9092 & 202.43197 & 182.7819 & 66.43918 &  66.93897 & 788.56964 & 391.4565 &  48.60450 & 188.94735 &  60.18866 & 424.9445 &  84.96791 &  21.188440 & 606.8241 &  58.13030 & 187.8921 & 377.5051 & 303.4392 & 152.3060 &  38.87957 & 175.0178 & 155.9737 & 133.5712 & 53.19678 &  88.69793 & 366.6757 &  96.67996 &  91.68588 &  35.24196 & 280.4880 & 649.0570 & 164.61627 & 402.5915 & 192.7517 & 277.8839 &  0.00000 & 679.5715 & 123.51143 & 570.21034 &  93.90761 &   0.00000 & 167.1746 & 127.9768 & 314.99097 & 357.7731 & 270.9952 & 249.8761 &  51.33897 & 269.5548 & 538.5776 &  66.33902 &   0.000000 &  35.71578 & 221.6610 & 229.8952 &  47.62261 & 580.58083 & 352.2307 & 574.3892 &  26.37556 & 233.1132 & 197.8562 & 405.5716 & 333.68546 & 185.6388 &   0.00000 &  55.07037 & 259.5265 & 118.07844 & 125.76141 & 240.1357 & 250.2076 & 177.06176 &  29.63106 & 207.7927 & 201.5783 & 201.64963 &  48.583897 & 0 & 309.06841 & 121.9091 & 692.1246 &  403.9138 &  89.53026 & 755.61228 & 283.1877 &  73.17915 &  97.60703 & 187.4207 & 159.07218 & 349.3135 &  31.823006 & 583.9456 & 717.8914 & 240.2995 & 453.3563 & 172.94440 &  61.20222 & 218.0148 &   0.000000 & 446.0743 &  72.65697 & 103.63275 & 137.6846 & 427.8728 &   0.000000 &  51.70237 & 102.4320 &  52.41640 & 138.57071 & 320.75805 & 341.4136 & 104.05418 & 658.4512 &  85.51924 & 485.1499 & 173.07486 & 343.84259 & 254.8437 & 357.8939 &  12.481777 & 165.9925 & 147.7159 & 0 &  81.87688 & 125.03553 &  41.44603 & 192.7138 & 20.32638 & 525.51230 &  27.88174 & 166.49379 & 212.53205 & 360.7626 & 185.7583 & 101.00637 &  95.12148 & 340.5720 & 221.7851 & 427.3516 &  894.74908 & 231.3826 & 143.77604 &  251.7276 & 548.1557 & 358.7365 & 464.7315 & 208.1340 & 432.0485 &  88.31516 & 239.36908 & 206.3158 & 407.9805 & 473.1726 & 455.7655 & 163.1337 & 370.3765 & 414.1596 & 541.8527 &   0.0000 &   7.416288 & 368.7061 & 192.3720 &  44.91123 &  15.53607 & 117.6961 & 189.4139 & 380.6324 & 103.56239 & 210.4001 &  87.27106 & 718.0904 & 162.3399 & 448.0265 &  46.75925 &   0.0000 & 189.3362 & 487.6271 & 385.59897 & 538.6811 & 0 & 173.33543 &  36.32272 & 128.0956 &  99.69672 &   0.00000 & 242.2233 & 475.1142 & 314.32301 & 510.9778 & 0 & 433.6997 &  46.01659 & 174.50221 & 135.2759 &  69.02830 & 408.0658 & 122.58919 & 470.2103 & 479.3376 & 117.69610 &  65.13158 & 453.543091 &   0.00000 & 198.3678 &  49.79444 &  90.29611 &  97.19573 & 620.5353 &  64.53328 & 267.1520 & 316.7519 & 0 & 564.7890 & 243.6961 & 126.54369 & 317.4566 &  57.41500 & 185.0799 & 186.35421 & 293.5460 &   0.00000 & 266.4938 & 425.0204 & 411.4367 &  12.08960 & 387.7744 & 724.5077 & 187.7352 &  72.23786 & 225.9724 &  87.9941 & 167.9874 & 311.7529 &   0.00000 & 146.72795 & 234.3124 &  65.40689 & 105.5890 & 0 & 274.6528 & 0 & 184.19731 & 483.7943 & 149.46716 &  56.93939 & 156.4622 & 55.797368 & 174.67427 & 247.1448 & 338.6673 & 246.2576 & 168.9299 & 167.9424 &  70.61106 & 563.3141 & 574.2545 &  36.54686 & 545.3188 & 314.7632 & 432.5530 & 389.1419 & 0 & 200.97055 & 239.8350 &  95.53872 &  92.65308 & 431.03401 &  81.1471 & 487.3813 & 273.92000 & 434.7666 & 190.7275 &  31.81143 & 315.2183 & 0 & 559.8425 & 417.1527 & 259.0722 & 702.90111 & 144.9429 & 272.55230 & 112.03519 & 282.5582 &  85.10394 & 10.34238 &  58.496250 & 219.3456 & 1043.3585 & 0 & 278.6387 &  18.57397 &  38.85753 & 762.78986 & 142.22330 &  29.678042 &  14.69158 & 385.0999 & 112.96127 & 155.18851 & 417.0726 &  4.868260 & 0 &  27.82227 & 702.2368 & 155.7288 &  517.3527 & 359.3354 & 282.3342 & 279.3272 & 388.0686 & 784.7997 & 541.4136 & 454.5968 & 248.82579 & 432.1928 &  26.89134 & 0 & 192.5999 & 243.8825 & 269.5994 & 307.3306 & 212.4990 & 140.65367 & 0 & 168.0774 & 143.34936 &  59.13922 & 290.7275 & 145.36493 & 241.60290 & 234.6531 & 390.9773 &  66.26613 & 200.8630 & 399.2768 & 225.5803 & 180.9003 &  81.58213 & 685.9224 & 302.4852 & 549.8251 & 604.35195 & 385.49930 & 223.7564 &  76.15406 & 280.9003 & 0 & 499.5485 & 146.3622 & 218.2374 & 376.7655 & 472.6831 & 257.7731 &  51.98438 & 327.5901 & 225.1568 &  16.71010 & 162.0586 &   0.00000 & 395.1401 & 140.2722 & 425.1719 &  13.575812 &  47.23838 & 727.7055 & 321.0856 & 380.1159 &   0.00000 &  27.715161 & 168.8404 & 279.6182 & 163.2268 & 275.2535 & 0 & 368.4819 & 407.8951 &  39.18777 & 0 &   0.00000 & 398.36777 &  55.05067 & 402.5915 & 523.8405 & 333.3853 & 302.5560 & 128.6290 & 420.94534 & 287.9510 & 102.92762 & 594.5561 & 254.3743 & 117.88740 & 229.3370 & 227.7092 & 324.6864 &   0.0000 & 455.88799 &  23.16782 &  342.5325 & 209.0176 & 261.4474 & 523.6875 & 418.5074 & 532.1928 & 126.30344 & 544.8571 & 106.7639 & 0 & 124.9142 & 533.9494 & 227.6497 &  26.63968 & 315.0722 & 308.6614 &  45.69113 &   6.397226 &  22.53983 & 276.8925 &  14.169436 & 538.6121 &   0.0000 & 390.1108 & 702.01466 & 311.3867 &  33.14759 & 378.24086 & 269.9552 & 147.5604 & 178.2828 & 176.2136 & 153.90347 & 377.71567 &  530.4876 & 277.7367 & 447.8325 & 356.55972 &  85.01593 & 237.74014 & 682.1455 & 100.93472 & 342.2637 & 120.72682 & 420.7893 & 217.5045 &   0.00000 & 219.0931 &  66.74834 & 373.9848 & 404.7015 & 117.37671 & 220.5080 &  48.47053 & 256.9734 &   0.0000 & 365.8783 & 323.8634 & 791.1092 & 301.7031 & 360.6442 & 364.1546 & 109.76108 & 366.3345 &  39.61595 & 425.7011 & 173.24863 & 0 & 141.5218 & 283.8952 & 323.8023 & 274.3730 &  36.51326 &  36.79301 &  962.1869 & 0 & 225.4594 &  67.88832 & 212.39972 & 256.3158 & 171.0173 & 372.2466 & 364.1546 & 167.44607 & 263.4361 & 342.4653 & 335.2476 & 576.6595 & 446.0743 & 529.7558 & 289.1419 &  53.41612 & 276.3199 & 261.4003 & 212.4990 & 108.27026 & 318.2374 & 382.1710 &  0.00000 & 643.6795 & 350.7160 & 114.9259 & 384.8998 & 364.2702 & 163.5058 & 40.83858 &  92.38718 & 169.42116 & 221.4747 & 538.6121 &  84.59918 & 312.3666 & 485.5990 & 284.4386 & 257.5312 & 325.9423 & 0 & 348.5427 & 431.1067 & 153.8041 &  84.35015 & 504.0016 & 218.74511 &  50.35523 & 128.6290 & 215.4454 &  78.98544 & 207.3135 & 349.1853 & 0 & 22.46577 & 789.42115 & 182.0485 & 666.5336 &  52.47658 & 268.6164 & 297.2509 & 212.23414 & 324.35168 & 219.6922 & 102.43197 & 111.76950 &  58.84208 & 596.4399 & 308.4404 & 177.4840 & 397.54468 & 260.6205 & 205.9355 & 268.7956 & 180.7767 & 470.4872 & 267.4913 & 288.2056 & 613.4837 &  25.821739 & 618.7451 & 353.9779 &  17.68334 & 839.9598 & 494.3453 &  48.76921 & 122.77411 & 565.8783 & 110.7018 & 412.4328 & 255.1393 & 145.1541 & 16.71010 & 388.4598 & 332.0918 &  28.48694 & 385.9970 & 0 & 367.2425 & 170.6199 & 262.8307 & 487.9706 & 264.4087 & 215.0560 &  45.270085 & 400.2703 & 150.9442 &  28.15499 &  72.23786 & 236.5133 &  35.01577 &  98.57190 & 155.9737 &  786.1707 & 603.1219 & 403.2982 &  83.80239 &  0.00000 & 366.7892 & 113.35635 &  17.363916 & 229.6604 & 736.8070 & 228.3626 & 118.58665 & 406.8671 & 23.216954 & 114.7307 & 128.9244 & 227.2919 & 365.5352 & 425.4745 &  56.86159 & 119.15627 & 410.6013 & 287.3616 & 126.183166 & 425.0962 &  24.26940 & 545.6149 &  38.91262 & 143.5095 &   0.00000 & 402.4142 & 268.1899 &  94.14068 & 487.9706 &  97.42356 & 514.2005 & 277.6315 & 687.52886 & 153.0071 & 359.0961 & 361.4710 &   0.00000 & 729.8292 & 607.8524 &  90.98883 & 183.43067 & 35.64819 & 322.1568 &  8.739495 &   0.0000 & 322.2341 & 25.36263 &  23.69518 & 340.2313 & 401.4355 & 207.3135 &  44.40309 & 167.8072 & 228.9834 & 339.0668 & 130.91762 & 191.8386 & 87.68018 & 433.8424 &  53.31646 & 426.00257 & 465.30600 & 241.0884 & 324.1535 & 497.2693 & 358.3760 & 396.8091 & 403.7382 & 409.1700 & 602.6800 & 656.2853 & 359.81270 & 698.5273 & 115.70437 & 380.7355 & 246.9365 & 480.3227 & 185.3197 & 488.4598 & 353.6053 & 104.33445 &  47.25917 &  24.634728 & 193.6591 & 394.0167 & 497.6364 & 279.7428 & 455.8880 & 505.6150 & 420.1634\\\\\n",
       "\tGTEX-1122O-1926-SM-5EGIQ & 273.11832 & 152.70703 & 290.6506 & 371.47950 & 207.1419 & 43.00711 & 254.8930 & 108.94982 & 194.3359 & 408.5765 &  87.90784 & 203.35111 & 174.28686 &  64.94775 & 124.36691 &  84.47070 & 34.07332 & 136.3451 & 139.39653 & 121.10122 &  60.33118 &  11.06305 &  61.88025 & 124.97487 & 217.7280 & 310.40011 &  59.87463 & 180.7355 & 592.4813 &  57.99525 & 119.28254 &  90.61210 &  80.90851 &  77.71146 & 308.9668 & 124.610401 & 111.10313 &  33.05584 & 147.3527 &   0.000000 & 256.1693 &  74.46778 & 186.7501 & 143.1890 & 283.3295 & 30.73119 &  92.78965 &  59.65536 &  29.77197 & 126.78354 & 446.139759 & 301.70311 &  97.79759 & 130.97583 &  59.65536 &  77.26458 &  36.74829 & 123.81754 & 364.2702 & 35.45650 &  16.632982 &   6.068383 &  75.08637 &  38.33863 &  94.78531 & 166.08374 &   0.00000 & 308.9837 &  85.47936 &  61.11724 & 58.01455 &  0.00000 &  0.00000 & 333.4139 & 286.4533 & 465.7068 & 166.90268 & 21.499513 & 368.36965 & 134.93653 &   0.0000 & 16.349873 &  30.90597 & 211.7695 & 483.8952 & 423.4195 & 173.8984 & 108.94982 & 119.66070 & 126.06279 & 287.7744 & 184.6794 & 389.4333 & 205.2068 &  11.21129 & 111.4367 &  95.53872 & 338.598316 &  39.79125 & 118.33277 & 16.11783 & 266.69838 & 284.8197 & 26.85542 & 271.1495 & 182.9038 &   4.149533 & 511.1866 & 503.4304 & 129.68979 &  55.52272 & 284.8398 &  43.39209 & 458.9763 & 454.9053 & 171.5015 & 15.70437 &  36.96061 & 273.4872 & 103.49200 & 349.0570 & 281.86461 & 149.9782 &  87.57014 & 109.49116 & 21.10122 & 346.85833 & 629.9208 &  84.19731 & 145.41759 &  73.73406 & 175.4460 & 208.61044 & 128.68811 &   0.00000 & 602.4142 &  0.00000 &  36.17684 & 227.5305 & 174.84612 & 188.9863 & 212.79634 & 244.174905 & 100.2883 &  57.99525 &  42.77134 &  58.67888 & 404.001568 & 125.761413 & 192.86546 & 322.2959 & 101.5069 &   3.370843 & 12.261971 & 317.2007 & 281.2909 &  29.46649 & 182.3342 &  70.22143 & 174.2869 &  45.97464 & 10.49405 & 396.4399 & 158.30376 &  27.98873 & 117.31274 & 107.92928 & 360.52573 & 345.6149 & 188.7525 & 102.29004 & 342.7070 & 461.0582 & 237.4622 &  4.949137 & 107.45054 &  56.77401 & 135.2759 &  23.89091 & 257.31321 & 128.62898 & 399.81955 & 32.80322 & 111.03632 & 627.1650 & 211.6365 &  39.31965 & 219.53476 & 221.7851 & 586.1955 & 402.9453 & 105.7970 & 122.95879 &  49.87615 & 70.52260 & 190.07219 &  77.3068 & 136.06452 &  47.65372 & 102.00577 &  67.62674 &   0.0000 & 139.6708 & 249.4416 & 95.43452 & 226.8434 & 199.1318 & 111.76950 & 116.221004 &  83.44685 & 11.01895 & 254.0771 & 493.8286 &  25.03553 &  69.70621 & 176.8078 &  42.61037 & 380.7355 & 210.13139 & 257.7248 & 139.88976 & 354.8437 & 374.8461 & 527.8728 & 282.9038 &  54.85353 & 39.988201 & 448.15573 & 404.6142 &  0.00000 & 0 & 227.3217 & 389.7240 & 124.12300 & 107.24489 &  73.09225 &   27.881740 & 215.9629 & 388.1665 & 164.3856 & 256.7059 & 281.7828 & 143.1356 & 211.1031 & 149.4160 & 24.64689 & 335.0639 &  89.63106 & 235.4170 & 481.0957 & 769.3487 & 140.1084 &  85.04794 & 543.4628 &  0.00000 & 152.8571 & 298.0939 & 14.13020 & 129.39590 & 245.5229 & 262.94732 & 57.60867 &  89.33622 & 460.8218 & 181.1882 & 124.1230 & 182.00768 & 162.2930 & 245.8382 &  64.874153 & 358.1351 & 198.58647 & 340.68087 &  70.20369 & 0 &  33.25074 & 355.3361 & 453.2317 & 224.2145 & 221.4436 &  736.8943 & 478.76414 &   0.00000 & 372.7920 &  92.21978 &  79.39375 & 322.68168 & 174.8032 & 489.6272 &  99.34208 & 303.2277 & 131.8461 & 177.4418 &  55.09007 &  23.45013 &  41.93231 & 148.6457 & 632.82261 & 107.10762 & 149.36473 &  50.02922 & 307.6730 & 580.4002 & 183.3902 &  59.42619 & 239.7255 &  58.50587 & 313.2741 &  54.07217 & 365.4206 &  69.27843 & 179.2439 &  70.99082 & 269.9552 & 382.3749 &  20.32638 &  97.15160 & 218.1103 & 112.23414 & 191.4182 & 20.96405 &  47.26957 & 699.54845 & 175.4460 &  32.14664 &  82.79003 &  92.18933 & 481.8135 &  95.23336 &   0.000000 & 426.1531 &  84.84777 & 161.4945 & 111.5033 & 269.5771 & 135.6144 &  39.23174 & 174.1575 & 153.9531 & 190.6506 & 29.31350 &  48.12989 & 266.6529 &  21.49951 &  72.21162 &  29.11320 & 272.7049 & 476.3412 & 112.69729 & 220.4454 & 189.4527 & 202.5383 & 65.59013 & 761.3974 &  46.07950 & 386.39385 & 139.94446 &  33.47971 & 149.3135 & 148.2848 &  59.76980 & 301.3820 & 226.7236 & 214.3067 &  40.46852 & 209.1192 & 480.6840 &  27.01103 &   0.000000 &  77.34056 & 163.3199 & 185.3197 & 138.34969 & 495.93065 & 268.3023 & 549.5056 &  43.13555 & 201.6140 & 196.6800 & 402.7685 & 188.24474 & 186.2352 &   4.98259 & 138.29439 & 202.3255 &  20.22610 &  78.24086 & 218.8717 & 257.3859 &  57.27927 &  39.40751 & 212.6973 & 197.5997 &  32.52713 &  24.950602 & 0 &  95.79146 & 112.1679 & 666.9594 &  301.7566 & 110.96949 & 806.33951 & 118.0148 &  56.24745 & 116.73579 & 136.9048 &  62.98462 & 492.7422 &  15.484241 & 537.5387 & 553.2629 & 212.8953 & 479.8569 &  91.02722 & 109.82848 & 215.0235 & 118.713429 & 393.9227 &  74.10570 &  92.18171 & 349.3135 & 364.5010 &   8.656639 &  18.35818 & 124.3669 &  67.77112 &  60.16014 & 177.61040 & 309.0515 &  76.41763 & 278.9103 &  86.17966 & 439.7803 & 183.87501 &  95.63541 & 188.8695 & 202.6800 &   0.000000 & 102.1480 & 123.3888 & 0 &  39.62691 &  97.94401 &  52.30601 & 171.9403 &  0.00000 & 520.90634 & 160.69159 &  88.34644 &  79.22723 & 335.7974 & 277.0406 & 108.54247 & 156.70586 & 305.6757 & 288.2252 & 352.3562 &  920.94534 & 100.7196 &  33.22783 &  343.6295 & 460.8218 & 183.0255 & 387.1844 & 134.9365 & 336.0645 & 196.53225 &  67.87029 & 185.5990 & 444.6256 & 201.2211 & 320.4610 & 298.4225 & 287.0661 & 348.5427 & 368.2573 &   0.0000 &  11.804072 & 276.1072 & 147.9231 & 144.46671 &   0.00000 & 120.9141 & 260.3359 & 317.3447 & 136.84890 & 210.9695 &  83.56816 & 748.6232 & 137.7401 & 383.3902 &  92.39478 &   0.0000 & 250.7668 & 479.3376 & 688.63063 & 484.5992 & 0 &  32.18127 &  59.48351 & 151.1974 &  36.09822 &  40.46852 & 188.8695 & 582.1200 & 173.85517 & 241.1697 & 0 & 324.7624 &  58.64045 &  95.71717 & 122.4040 & 116.34987 & 294.6731 &  85.95721 & 463.5754 & 254.1763 &  32.50410 &  89.88662 & 408.321337 &  23.25380 & 198.2948 &  13.48518 &  59.52172 & 111.50332 & 458.1954 &  95.50152 & 231.7883 & 129.8658 & 0 & 717.3927 & 153.3563 & 141.84598 & 281.3525 &  41.99703 & 151.7024 &  75.58276 & 227.8877 &   0.00000 & 203.3863 & 194.7479 & 315.2508 &   0.00000 & 249.7485 & 699.7744 &   0.0000 &  71.77367 & 222.8049 & 164.2471 & 161.1645 & 133.2851 &   0.00000 & 144.36067 & 175.4032 &  25.97847 & 100.0000 & 0 & 257.0949 & 0 &  71.64203 & 263.6219 & 142.27712 &  33.70831 & 210.9695 & 25.193113 & 199.67503 & 239.6159 & 158.0628 & 229.1309 & 173.5522 & 176.7231 &  62.26493 & 267.6493 & 490.3038 &  78.91867 & 495.0002 & 173.4222 & 341.7110 & 424.2603 & 0 &  74.65708 & 246.6497 &  83.71359 & 344.06865 & 371.47950 & 299.3312 & 466.6188 & 128.33292 & 250.9442 & 175.4032 &  23.37654 & 394.2984 & 0 & 431.1794 & 386.7896 & 170.4872 & 843.25419 & 154.5968 & 237.51785 & 111.16991 & 145.5229 &  87.45216 & 10.44440 &  15.432396 & 159.7412 & 1212.2181 & 0 & 231.2375 &  30.56787 &  61.13613 & 713.03131 &  74.76022 &  26.147064 &  40.58835 & 431.5421 &  42.91071 &  87.01871 & 424.9445 & 14.274017 & 0 &  21.56165 & 723.9360 & 141.3594 &  204.0191 & 174.7173 & 240.5176 & 123.6952 & 417.5525 & 914.4403 & 451.2227 & 454.1019 & 107.38202 & 300.8810 &  46.72795 & 0 & 200.9347 & 166.5848 & 111.4367 & 208.8481 & 138.0729 &  39.25372 & 0 & 136.9606 &  74.47639 &  57.39561 & 314.4210 &  63.79348 & 241.79200 & 198.4042 & 362.1759 &  96.72424 & 193.3573 & 376.3412 & 197.1957 & 236.5133 & 117.44064 & 563.1977 & 243.8027 & 439.5063 & 553.07575 & 109.82848 & 227.3217 &  42.40621 & 288.0098 & 0 & 464.5010 & 125.2779 & 254.8190 & 372.5741 & 343.1489 & 258.3038 &  90.80443 & 335.5298 & 164.9845 &  90.15717 & 162.1524 &   0.00000 & 327.0379 & 159.9318 & 371.4795 &   0.000000 &  20.62681 & 727.8914 & 214.5025 & 328.1105 &   0.00000 &   2.779102 & 164.4318 & 317.2488 & 185.8777 & 173.2052 & 0 & 287.8725 & 364.1546 &  98.76847 & 0 &   0.00000 & 307.94634 &  55.52272 & 211.5366 & 465.1913 & 349.3135 & 254.3496 & 157.9663 & 415.38053 & 256.3158 &  33.66262 & 588.0441 & 249.6974 &  38.06186 & 179.2855 & 124.3669 & 226.8434 &   0.0000 & 536.70215 &   0.00000 &  188.0490 & 164.3394 & 336.8070 & 499.2768 & 368.1449 & 445.3518 &  94.74043 & 583.5671 & 118.2692 & 0 &  77.3068 & 557.6522 & 196.3474 & 171.28159 & 239.2867 & 308.4915 &  80.97437 &  35.027092 & 101.79219 & 258.7125 &   7.329926 & 350.0802 &   0.0000 & 360.2884 & 617.65222 & 261.9648 &  43.08205 & 274.20062 & 148.2848 & 163.0405 & 195.4196 & 240.1084 &  67.23801 & 432.76874 &  439.2317 & 243.7760 & 333.2708 & 484.54901 &  87.67232 &  84.51086 & 479.8051 &  87.93137 & 174.3730 & 133.45683 & 369.1534 & 180.1159 &  58.11102 & 173.2920 &  51.45010 & 336.0505 & 351.0962 &  41.93231 & 113.8159 &  65.03050 & 281.8646 &   0.0000 & 333.8852 & 263.8537 & 766.5336 & 437.0164 & 214.3067 & 253.9283 & 100.07212 & 375.0607 &  54.88312 & 388.8500 &  27.14257 & 0 & 197.0486 & 176.2136 & 334.7099 & 273.3571 &  47.30076 &  31.85772 &  564.7315 & 0 & 106.6261 &  47.39427 &  52.87713 & 189.8789 & 117.2488 & 260.1459 & 421.1791 &  82.25262 & 124.7320 & 291.1116 & 301.3820 & 551.3175 & 381.5575 & 431.2520 & 354.3496 &   0.00000 & 238.5431 & 167.5816 & 227.5305 &  26.44764 & 277.3363 & 343.7361 &  0.00000 & 668.0887 & 220.7268 & 156.3158 & 336.4292 & 322.5275 & 193.9979 & 41.20769 & 114.27402 &  37.26178 & 224.7928 & 411.6864 & 115.18588 & 314.9747 & 497.1773 & 140.8712 & 249.6207 & 286.6117 & 0 & 309.9295 & 411.6864 & 170.2658 &  18.94134 & 462.1759 & 175.14637 & 174.54525 & 110.2322 & 248.1041 &  39.87881 & 170.3101 & 308.9668 & 0 & 16.55583 & 647.99419 & 154.6956 & 487.5780 &  38.28332 & 127.8580 & 314.2413 & 192.71379 & 415.38053 & 101.6496 &  82.42383 &  84.33407 &  62.60185 & 456.0104 & 226.2132 & 159.2158 & 262.33987 & 250.0037 & 258.9763 & 202.9630 & 258.3038 & 438.1975 & 207.4505 & 279.2439 & 613.2782 &   9.222097 & 556.1632 & 209.2207 &  17.84916 & 796.4630 & 334.9224 & 140.81684 &  79.16891 & 422.7279 & 111.5033 & 233.7996 & 258.4482 & 132.0196 &  0.00000 & 311.7861 & 227.3814 &  19.78654 & 333.9565 & 0 & 334.5112 & 107.5875 & 247.4566 & 430.3050 & 235.1911 & 182.2934 &  75.300543 & 307.7243 & 166.7665 &  55.09991 &  55.88554 & 236.5133 &  27.28593 &  91.62473 & 178.8686 &  426.5287 & 551.0012 & 233.2565 &  48.31580 &  0.00000 & 307.3135 &  63.58937 &   7.882841 & 181.8851 & 759.8425 & 222.7125 &  38.30545 & 414.8121 & 19.042523 &   0.0000 & 169.9107 & 206.2467 & 349.3135 & 252.8321 &  84.38231 &  31.84615 & 357.4102 & 271.4136 &  39.374567 & 414.3230 &  11.82534 & 469.0976 &  92.72138 & 139.9445 &  30.78948 & 453.5431 & 278.8686 & 104.75384 & 326.0778 & 108.67838 & 506.8241 & 235.6989 & 802.51396 & 139.1768 & 325.2930 & 300.1802 &  15.74318 & 477.5577 & 601.1227 &  80.70251 &  79.29386 & 36.52446 & 275.4246 &  8.826374 &   0.0000 & 143.5095 & 41.71639 &  53.69481 & 252.4314 & 355.5816 & 181.5575 &  59.17751 & 187.8529 & 211.7363 & 300.1262 &  72.08038 & 189.1030 & 21.03889 & 318.1739 &  58.18815 & 474.63128 & 418.90338 & 310.2658 & 222.7741 & 545.3188 & 334.5964 & 357.6522 & 410.3498 & 462.6439 & 446.4015 & 667.2425 & 460.70343 & 687.4059 &  85.86176 & 215.4454 & 275.7663 & 522.3423 & 155.7778 & 342.8142 & 238.8465 &  83.03365 &  67.27421 & 236.709145 & 256.4134 & 402.6800 & 494.0637 & 237.6012 & 366.5620 & 457.9542 & 254.9423\\\\\n",
       "\tGTEX-113JC-2226-SM-5EGJG & 287.49936 &  83.05799 & 133.7996 & 306.57446 & 110.5678 & 92.69862 &   0.0000 &  44.73147 & 115.5102 & 447.3137 &  99.15355 & 275.93689 & 365.42064 & 229.48413 &  41.55424 & 112.43281 & 48.03685 & 253.1569 &  63.51507 &   0.00000 &   0.00000 & 153.15686 & 164.06209 & 218.65006 & 349.3135 &  32.89513 & 206.69502 & 227.2322 & 365.0765 &  85.08794 &  96.61351 &  58.35191 &  53.21673 & 215.99520 & 291.1692 &   0.000000 & 207.41629 &  16.25968 & 202.3255 &  93.470520 &   0.0000 & 102.50288 & 239.6434 & 185.5591 & 482.3749 & 38.41604 & 102.92762 & 296.34741 & 269.75514 &   0.00000 &  33.170522 &   0.00000 &  78.15695 &  17.26155 & 298.60468 & 117.24875 & 304.17686 &  77.01948 & 117.5684 & 84.54298 & 222.774108 &  62.433489 & 151.39960 & 190.91971 &  46.57133 &  42.43847 & 156.46221 & 641.7515 &  55.97365 & 715.17777 & 35.56929 & 87.42068 & 35.35491 & 456.1937 & 348.9286 & 608.1510 & 307.86098 & 41.532601 &  44.32884 & 208.13396 &   0.0000 & 36.154380 & 254.64624 & 249.9017 &   0.0000 &   0.0000 & 122.2186 &  60.57788 & 124.85348 & 515.78522 & 573.2541 & 463.6915 & 343.6162 & 302.3433 & 547.18378 & 450.5891 & 279.20224 &   0.000000 & 132.59620 & 551.47535 & 23.30291 &   0.00000 & 322.1258 & 87.51510 & 356.9248 & 131.6146 & 111.636476 & 836.3697 & 406.0912 & 229.18982 & 125.82174 & 229.8952 & 151.90386 & 144.7315 & 271.3256 & 246.3099 & 56.60845 & 132.25051 & 714.5677 &   0.00000 & 845.9841 &  38.62591 & 161.1645 & 360.16965 &   0.00000 &  0.00000 &  96.66519 &   0.0000 & 279.26472 & 848.98480 & 105.79701 & 409.5080 & 114.40464 & 451.66456 & 547.80011 & 170.1327 &  0.00000 & 185.07994 & 194.4109 & 569.98847 & 242.9214 &  93.90761 &   7.952489 & 181.8851 & 214.20866 & 126.72361 &  51.12656 &   0.000000 &  28.475101 &  47.62261 & 499.3674 & 526.6037 &  23.302906 & 60.994403 &  62.6112 & 295.0468 & 214.79579 & 279.5559 &  56.46221 & 236.8489 & 523.99326 & 29.13678 & 543.7960 & 157.72475 & 336.03643 &  51.35918 & 457.04629 &  24.36691 & 670.7359 & 350.9696 & 160.40713 &   0.0000 & 332.4523 & 503.0777 & 33.204908 & 663.00851 & 740.76926 & 289.8982 & 123.75637 &  49.71269 & 161.07001 & 102.43197 &  0.00000 & 448.47826 & 147.3527 & 389.0447 & 132.76874 &  31.18518 & 407.8097 &  21.5368 &   0.0000 & 477.1886 &  42.42772 & 135.10629 & 61.74866 & 241.16974 & 192.7138 & 327.03794 & 275.10352 &  51.63178 & 134.02774 &   0.0000 & 107.5875 & 455.1516 & 18.58665 & 404.0016 & 537.1559 & 527.72409 &   7.809059 & 503.51840 & 16.05330 & 485.5491 & 192.6759 & 279.68054 & 700.45014 & 340.5992 & 163.73784 & 649.6814 &  45.06966 & 351.6015 & 532.69687 & 713.7504 & 468.6501 & 187.4600 & 634.0740 &  84.34211 & 70.611056 &  81.44274 & 358.0145 & 71.38717 & 0 & 423.8787 & 125.2173 &  17.98932 & 712.41213 & 397.26927 &   70.681785 & 962.5891 & 220.9453 & 286.2352 & 503.5184 & 314.0124 & 751.0962 & 187.8529 & 490.3520 & 68.37414 & 403.3863 & 390.59285 & 566.8176 & 275.7450 & 368.2573 & 151.6519 & 735.04972 & 690.5688 &  0.00000 & 185.2398 & 121.8471 & 54.38918 & 165.67252 & 174.8891 &  47.45658 & 36.86007 &  53.81408 & 258.9044 & 618.7847 & 584.6744 &   0.00000 & 828.4014 & 277.6736 & 153.306492 & 609.9716 &  55.83656 &  16.91554 & 177.86291 & 0 & 184.79969 & 605.3763 & 149.1597 & 364.7315 & 680.4776 &    0.0000 &  55.57180 & 215.28324 & 403.4744 & 129.86583 &  48.09889 & 103.70307 & 599.4580 & 219.4717 & 213.35635 & 321.9401 & 394.1106 & 367.6944 & 108.94982 & 129.21928 & 166.35723 & 114.1433 &  83.39830 & 786.41861 & 114.99097 & 132.01958 & 156.5110 & 341.2511 & 469.6550 & 257.77309 & 297.3244 & 158.35191 & 615.5021 & 359.45485 & 335.8678 &  62.06802 & 241.0341 &  43.19973 & 630.1771 & 814.5677 & 628.90967 &  56.07150 & 369.3766 & 841.70086 & 317.3447 & 69.46574 &  59.32103 &  34.64180 & 487.8725 & 442.08866 & 291.32245 & 493.59311 & 437.0164 & 168.61643 & 186.947663 & 123.5114 & 109.22074 & 311.7529 & 655.0901 & 467.0727 & 786.1707 & 422.18771 & 685.7981 & 428.9834 & 311.5033 & 73.81193 &  85.39158 & 651.2385 & 453.16934 & 351.97935 & 271.25958 & 530.0856 & 539.0255 & 111.83597 &   0.0000 & 462.7607 & 435.5439 & 89.03299 & 128.2143 & 127.50070 &  57.09486 & 172.90089 & 545.94316 & 569.4044 & 391.3608 & 153.75446 & 125.7614 & 511.8526 & 398.0025 &  91.09629 & 431.6146 & 610.9152 & 124.73199 & 147.404660 &  45.83820 & 422.9588 & 845.4916 & 134.99314 &  19.44653 & 720.6526 & 320.3045 &  13.77658 & 405.0502 & 249.1597 & 653.0133 &  73.46554 & 571.4795 & 285.31973 & 190.03355 & 232.2793 & 288.00977 & 239.80767 & 717.3927 & 239.5885 & 720.94534 &  72.42137 & 500.5849 & 860.3626 & 171.19354 & 194.822704 & 0 & 287.38132 & 213.0272 & 199.5304 & 1035.9750 & 607.80974 &  55.84636 & 275.0178 & 422.72790 & 292.78965 & 708.3213 & 149.26223 & 543.7294 &  38.128337 & 378.7641 & 271.3916 & 694.0167 & 737.5039 & 465.53518 & 213.25768 & 426.5287 &   5.162268 & 539.4720 & 323.43480 & 165.76400 & 216.3177 & 480.5292 & 113.224780 & 655.79614 & 146.5713 & 565.93538 &  58.37116 &  27.67944 & 142.0617 &  41.68397 & 641.6164 &  68.34719 & 609.8664 &  33.41106 & 663.09587 & 680.0900 & 628.7066 &   9.449283 & 374.4161 & 599.9098 & 0 & 214.37199 & 622.36156 & 473.17263 & 141.4677 &  0.00000 &  25.04766 & 663.22682 & 300.18022 &  52.52671 & 122.3423 & 247.0667 &  65.86457 &  86.81336 & 382.5786 & 306.6606 & 868.8600 &   92.88819 & 647.7839 & 148.18156 & 1053.2356 & 362.8774 & 389.5303 & 607.4249 & 432.4811 & 292.8844 & 349.56952 & 564.35676 & 649.0891 & 302.3078 & 540.5312 & 351.6015 & 815.9871 & 571.2045 & 456.9248 & 643.6795 & 162.9939 & 420.006486 & 496.7169 & 612.0601 &  41.60831 &   0.00000 & 630.7975 & 378.2409 & 454.7203 & 397.81956 & 714.4658 & 253.15686 & 793.5460 & 574.8998 & 430.2319 &  27.08279 & 116.0275 & 122.8357 & 629.5907 &  52.83713 & 499.6389 & 0 & 322.86648 & 240.27222 & 629.2782 & 714.77137 & 149.82509 & 318.2692 & 326.8434 &  74.33857 & 742.2906 & 0 & 632.5530 & 328.14015 & 386.39385 & 381.8646 & 562.26376 & 275.7663 & 388.36208 & 673.8768 & 805.6909 & 464.90406 & 449.12118 &   8.046666 & 209.89585 & 614.4046 & 323.67987 & 445.28590 & 470.04397 & 283.9153 & 164.93855 & 526.0778 & 337.4344 & 0 & 393.4517 & 397.3611 & 409.25457 & 709.4869 & 158.68848 & 584.3481 & 211.33671 & 600.4951 & 396.34741 & 689.7240 & 514.5677 & 126.3034 & 348.67144 & 474.6313 & 174.6743 & 243.1356 & 134.48285 & 541.3797 & 533.4139 & 533.0200 & 664.4000 &  98.60104 & 505.35458 & 243.9889 & 251.52583 & 116.3499 & 0 & 683.1624 & 0 & 154.54742 &  82.0567 & 623.20851 & 558.10499 & 518.9429 & 41.153471 & 132.13509 & 419.6922 & 579.7532 & 356.1937 & 536.5623 & 491.2650 & 460.58499 & 687.6517 & 562.6439 & 342.76062 & 337.2534 & 687.2829 & 661.0287 & 806.8778 & 0 & 472.08257 & 650.0802 & 179.16057 &  26.29142 &  77.07868 & 255.3852 & 581.7112 & 515.29946 & 173.1183 & 513.3399 & 174.28686 & 702.0147 & 0 & 291.4373 & 229.4841 & 572.5196 &  81.05665 & 272.9009 &  84.46267 & 440.39494 & 748.9447 & 393.92266 & 53.14688 & 369.821848 & 594.0871 &  350.0802 & 0 & 549.4096 & 153.30649 &  29.11320 &  18.70076 & 482.22203 & 366.334462 &  85.03994 & 850.3826 & 544.62562 & 251.97935 & 113.1589 & 38.780366 & 0 &  42.78207 & 163.8769 & 539.0943 &  598.1853 & 657.3647 & 475.6490 & 272.3995 & 525.0583 & 264.1084 & 411.7695 & 654.6431 & 352.23069 & 466.9027 &  60.44509 & 0 & 451.6015 & 593.7344 & 482.3240 & 452.7946 & 157.3859 & 128.86539 & 0 & 435.6144 & 459.69351 & 542.12233 & 487.1351 & 322.63544 &  86.32249 & 667.3839 & 599.9098 & 158.78450 & 582.1455 & 900.2252 & 491.1212 & 367.6944 & 267.44607 & 147.5085 & 577.0565 & 615.3400 &  76.67224 & 679.96054 & 582.9850 & 201.43553 & 571.4795 & 0 & 680.4776 & 567.8072 & 387.6762 & 419.7708 & 558.8865 & 107.8610 &  45.89069 & 396.5323 & 488.3132 & 554.22580 & 254.1515 & 257.02200 & 437.3648 & 491.2650 & 341.6975 & 213.750352 &  19.54736 & 277.3363 & 430.5241 & 451.8535 & 217.02456 & 337.503943 & 443.8293 & 712.9283 & 590.5688 & 155.0901 & 0 & 673.6064 & 716.0880 &  22.03300 & 0 & 132.36583 &  42.35244 & 382.37494 & 480.5292 & 520.9063 & 417.6323 & 819.1306 & 489.4818 &  60.82415 & 727.3329 & 315.25079 & 438.8190 & 657.5615 &  79.46030 & 582.0690 & 271.0393 & 274.6098 & 185.1599 &  65.71827 & 337.75403 & 1044.0869 & 703.3423 & 502.3699 & 513.7094 & 184.1973 & 470.0440 & 163.13371 & 210.2994 & 378.6596 & 0 & 286.9279 & 603.2321 & 629.7742 &  61.94600 & 679.3116 & 256.6328 & 254.12670 & 406.695024 &  59.12007 & 819.9672 & 117.759893 & 796.2318 & 111.9024 & 745.5327 &  35.53546 & 561.8532 & 102.29004 &  22.49046 & 465.1339 & 556.1021 & 629.3702 & 423.5727 & 558.67647 &  40.95810 & 1032.1928 & 579.0251 & 786.4805 &  30.47447 & 361.11724 & 507.25346 & 827.1463 & 577.29413 & 597.4529 &  33.22783 & 500.1802 & 808.1617 &  79.53514 & 588.8500 & 349.95270 & 801.2345 & 398.2765 & 491.98168 & 510.6432 & 197.08537 & 466.6757 & 120.4767 & 438.9567 & 505.0066 & 306.4366 & 233.3137 & 683.1624 & 644.0620 &  81.49195 & 554.7203 & 153.30649 & 123.6952 &  69.06406 & 0 & 507.7670 & 618.4677 & 676.0221 & 823.0741 & 218.90338 &  45.03799 &  868.5450 & 0 & 415.4616 & 637.95517 & 264.40870 & 433.7711 & 389.7240 & 809.1171 & 574.0118 & 520.94534 & 591.5282 & 620.0261 & 508.8735 & 102.7862 & 465.7640 & 743.3794 & 837.0687 & 232.99846 & 902.4309 & 666.6757 & 665.4493 & 641.31201 & 566.8460 & 297.1406 &  0.00000 & 473.2269 & 356.3158 & 493.6873 & 713.6479 & 392.8844 & 286.9674 & 34.74389 & 184.31799 & 183.71359 & 593.7815 & 342.1021 & 463.34312 & 513.8733 & 431.2520 & 600.3377 & 594.9768 & 625.6822 & 0 & 753.2940 & 434.4118 & 348.4138 & 116.09202 & 215.1209 &  16.73579 &  70.10611 & 627.6124 & 427.7241 & 246.33609 & 547.4760 & 684.1722 & 0 &  0.00000 & 288.24474 & 680.2193 & 811.8941 & 524.06959 & 462.1173 & 521.3736 &  65.83715 &  68.71503 & 460.9400 & 515.50206 & 157.96629 & 550.20760 & 698.7548 & 602.3034 & 569.7663 &  71.17592 & 756.7576 & 322.3886 & 604.0016 & 351.3491 & 709.6979 & 523.5344 & 584.2225 & 261.2824 &  13.473351 & 653.9779 & 602.9011 &  47.57075 & 113.6191 & 754.6123 & 500.71955 & 118.71343 & 433.6997 &   0.0000 & 628.8359 & 339.1080 & 162.0117 &  0.00000 & 403.2101 & 693.5460 &  34.76657 & 545.7463 & 0 & 755.9186 & 361.3532 & 686.6661 & 453.0445 & 581.5319 & 622.0910 &   6.237043 & 499.7292 & 507.5105 & 211.47002 & 429.05719 & 369.3766 &  94.56077 & 157.96629 & 280.7973 & 1025.8566 & 636.9990 & 657.8033 & 184.63930 &  0.00000 & 557.6522 & 351.09619 & 329.572302 & 109.1531 & 230.0124 & 699.8872 & 247.56037 & 665.1052 & 21.026417 &   0.0000 & 555.1516 & 618.9034 & 582.8581 & 623.7640 & 405.57163 &   0.00000 & 365.3060 & 723.9360 &   5.489014 & 354.5968 & 150.43662 & 199.8196 &  36.34515 & 651.2859 & 104.12430 & 372.4650 & 343.5495 &  49.10835 & 712.4121 & 460.52573 & 257.6038 & 455.1516 &  12.95336 & 150.9949 &  24.2572 & 517.9511 &  42.42772 & 944.3151 & 169.6439 & 248.46537 & 296.31042 & 30.06509 & 655.7196 & 64.284017 & 280.2193 & 812.3087 & 65.59929 & 414.73067 & 564.9328 & 113.5535 & 512.1430 & 395.79146 & 559.0063 & 745.8612 & 388.6550 & 185.63882 & 582.6040 & 26.25534 & 691.5282 & 160.69159 &  72.48249 &  48.96457 & 241.5759 & 448.3493 & 285.0799 & 202.9276 & 651.7276 & 635.4558 & 830.1039 & 979.6202 & 256.9491 &  31.06891 & 165.5810 & 230.83026 & 522.3423 & 409.7611 & 285.9771 & 532.5890 & 800.4501 & 609.5713 & 348.41381 &  78.30794 &  28.321062 & 336.7511 & 421.8781 & 870.5978 & 555.4896 & 609.7611 & 327.9174 & 777.1489\\\\\n",
       "\tGTEX-117YW-2226-SM-5N9DB & 385.89756 & 190.95811 & 233.6855 & 195.97702 & 133.7426 & 67.57256 & 383.3902 &  72.29031 & 120.7268 & 261.1645 &  66.19320 & 603.09981 & 572.62863 &  62.77936 &  26.80750 & 111.96882 & 17.74714 & 880.6066 &  48.53238 &  17.54288 &   0.00000 &  21.00147 & 178.95206 &  74.59687 & 160.6916 & 201.97019 & 696.57843 & 359.6935 & 350.4620 &  81.90141 & 135.83963 &  90.73522 &  67.02058 & 523.68752 & 527.0903 &  14.064779 &  54.20104 & 212.23414 & 679.1814 &   6.094663 & 537.9898 &  35.65946 & 127.1426 & 137.9621 & 625.0962 & 52.16538 &  25.95437 & 771.83616 & 523.61099 & 661.80918 &  89.266302 &  77.66936 & 310.85245 &  19.83684 &  37.40657 &  89.89435 & 717.29275 & 645.87757 & 101.9346 & 43.52019 &  18.065711 &  19.887128 &  87.87646 &  41.21854 &  43.26388 &  73.62152 &  11.25133 & 497.4988 &  43.41345 & 215.60730 & 43.02853 & 94.12566 &  0.00000 & 691.0493 & 874.2478 & 340.5176 & 120.41407 &  4.485571 & 259.95558 & 160.26469 &   0.0000 & 13.012695 & 724.03143 & 359.8127 & 187.5387 & 318.8876 & 438.3359 &  25.19311 & 570.51485 & 511.72795 & 235.0497 & 294.3921 & 521.5290 & 224.5496 & 145.78569 & 382.7819 & 122.09490 & 126.183166 &  39.19876 & 155.48344 & 30.13535 &  76.34966 & 572.3286 & 45.27009 & 689.9659 & 826.7723 &  62.751346 & 529.2782 & 520.3201 & 141.25106 &  38.69213 & 771.0806 &  78.70145 & 489.6756 & 558.8565 & 356.0715 & 42.11560 &  10.64019 & 738.7156 & 459.03625 & 428.6881 & 182.49715 & 433.9850 & 372.35586 &  56.41342 & 20.76430 & 236.26102 & 331.4407 & 453.16934 & 585.42451 &  74.07981 & 500.7196 & 113.35635 &  77.21390 & 244.20146 & 696.2318 &  0.00000 &  29.53704 & 229.0719 & 214.76323 & 204.4044 & 522.72790 &  77.711457 & 368.3696 &  47.40466 & 169.91074 & 295.04684 &  92.090303 & 164.616266 & 478.18842 & 641.0579 & 482.3240 &  35.490346 &  0.000000 & 407.6388 & 333.1275 &  93.10779 & 218.5232 & 145.25954 & 315.4292 & 306.98740 & 37.47335 & 671.9731 &  79.77601 & 167.26516 & 233.65690 & 319.02988 & 294.63566 & 379.4936 & 146.9365 &  90.67367 & 109.1531 & 361.7063 & 357.2890 &  0.000000 & 473.93081 &  55.96386 & 131.4407 &  95.92508 & 120.16339 & 137.90664 & 658.61642 &  0.00000 & 193.24392 & 846.4750 & 114.7958 &  73.73406 & 123.87869 & 110.2322 & 517.8316 & 823.8882 & 150.9949 & 225.58028 &  21.69825 & 41.34858 & 724.60280 & 185.3197 & 261.98825 & 163.96952 &  63.60793 &  27.94119 &   0.0000 & 177.4418 & 163.5058 & 36.01957 & 356.8032 & 387.0858 &  86.29869 & 158.062791 & 268.63885 & 13.42209 & 704.7669 & 351.2227 &  62.60185 &  58.40966 & 707.8951 &  70.23029 & 283.3700 & 118.33277 & 212.6643 &  89.46044 & 723.5536 & 471.6442 & 576.4208 & 743.7960 & 310.60132 & 14.352403 & 242.81424 & 337.9205 & 11.75222 & 0 & 667.6662 & 485.9473 & 547.37869 & 186.07642 &  24.28159 &  480.838505 & 487.0365 & 514.6900 &  99.6678 & 780.2193 & 158.1110 & 170.0884 & 386.9871 & 242.9214 & 14.69158 & 128.8063 & 210.76879 & 247.4306 & 335.6003 & 529.0572 & 242.3309 & 457.16768 & 879.0837 & 18.81477 & 150.2840 & 280.3847 & 68.43699 &  94.89746 & 449.4416 & 332.71125 & 56.79348 & 263.80738 & 589.6998 & 269.9996 & 192.1817 &  39.78030 & 210.9695 & 523.9933 & 126.002566 & 751.6488 & 193.31949 & 669.34870 &  51.24797 & 0 &  11.42471 & 457.2283 & 562.4686 & 253.8538 & 162.1993 &  922.0620 &  95.18116 &   0.00000 & 300.3422 & 321.22580 &  60.83362 & 274.86759 & 377.1886 & 866.9239 & 201.07798 & 315.8337 & 191.1116 & 553.1069 &  78.83516 & 167.76210 &  56.45245 & 145.6806 & 340.77606 & 307.89513 & 324.92936 &  54.65611 & 784.4863 & 209.3560 & 291.8768 & 163.69146 & 199.5304 & 106.83269 & 383.7943 & 252.53172 & 327.5603 &  58.39041 & 209.1192 & 127.67944 & 314.1596 & 785.7359 & 143.82929 &  62.26493 & 155.0901 & 501.07798 & 250.6907 & 99.32758 & 150.18213 & 588.63063 & 397.2693 &  60.13162 & 257.82142 & 105.79701 & 560.6146 & 134.02774 &   8.789728 & 749.5855 & 126.60369 & 215.2183 & 187.6959 & 880.3485 & 359.9318 &  95.36005 & 140.5992 & 109.0176 & 257.8214 &  0.00000 & 165.12239 & 686.4186 & 502.45856 & 119.97509 & 101.22111 & 401.3462 & 849.3855 & 240.27222 & 548.6714 & 145.7332 & 455.2131 &  0.00000 & 767.1718 &  52.31605 & 366.56202 & 178.45040 &  32.96403 & 180.1986 & 135.1628 & 381.96682 & 323.1586 & 489.9176 & 234.1701 & 115.05597 & 557.2587 & 817.0426 &  20.96405 &   8.907776 & 140.16305 & 138.8465 & 320.2574 &  47.34233 & 468.98582 & 610.7897 & 468.3696 & 256.92480 & 275.5529 & 125.2779 & 402.7685 & 288.26430 & 514.3638 &   0.00000 & 189.64656 & 228.9834 & 187.30257 &  80.01648 & 483.7439 & 297.8013 & 265.74114 & 109.22074 & 263.5058 & 417.0726 & 333.02716 & 101.435529 & 0 &  62.75135 & 172.7267 & 255.6797 &  451.8535 & 369.48802 & 791.34878 & 266.4028 & 134.31235 & 183.06610 & 418.2692 &  29.23106 & 458.3158 &   6.289536 & 388.8500 & 710.7479 & 352.7321 & 418.2692 &  72.84865 & 104.75384 & 155.7778 &   6.803788 & 642.7774 &  94.54579 & 240.21764 & 159.3593 & 497.9568 &  16.555825 & 275.76634 & 111.6365 & 147.61224 &  56.86159 & 203.42157 & 185.1199 & 146.25759 & 645.8284 &  31.15031 & 561.3237 & 375.38184 & 372.57412 & 286.9871 & 421.7231 &  62.143067 & 197.8196 & 107.5190 & 0 & 164.98454 & 204.99792 & 123.57271 & 110.3665 &  0.00000 & 561.26474 &  96.53225 &  57.98560 &  51.40970 & 119.6607 & 323.1432 & 205.79701 &  60.08406 & 270.5093 & 188.4403 & 532.4811 & 1000.70273 & 324.1688 &  95.12148 &  644.8901 & 471.6991 & 365.0765 & 725.8330 & 454.7820 & 152.5568 & 117.82366 & 348.80008 & 315.1047 & 767.4545 & 424.5648 & 440.5992 & 440.1903 & 586.3443 & 567.8354 & 572.3012 &   0.0000 &   7.364203 & 372.1373 & 378.5551 &  26.47166 & 175.27486 & 200.1442 & 185.3197 & 705.7450 &  46.38317 & 225.0962 &  98.51361 & 572.5196 & 289.4527 & 613.7913 &  26.02666 &   0.0000 & 226.9332 & 623.9360 & 688.01957 & 343.0820 & 0 & 536.03643 &  34.19857 & 161.9178 & 277.98900 &  32.72275 & 139.8350 & 758.9464 & 276.31991 & 348.1557 & 0 & 591.0733 &  44.32884 & 151.14680 & 507.9805 & 201.18534 & 449.0570 & 124.79275 & 753.5275 & 447.7677 &  39.00073 &  53.11693 & 286.631456 &  98.09758 & 411.2700 &  57.86972 & 101.93461 & 392.12459 & 474.9534 &  86.67893 & 444.5594 & 520.3593 & 0 & 789.3605 & 269.9552 & 110.03049 & 412.2673 &  64.33945 & 207.5875 & 496.11603 & 421.4125 &  32.72275 & 365.9925 & 356.3158 & 324.3517 & 240.49031 & 420.6331 & 472.7920 & 186.9871 &  50.83272 & 416.9123 & 225.8217 & 270.8408 & 339.0393 &   0.00000 &  58.57317 & 301.2569 & 168.03244 & 269.4435 & 0 & 309.3560 & 0 &  22.60152 & 142.3847 &  93.26659 &  44.07396 & 253.3812 & 16.992500 &  90.25753 & 373.6605 & 467.0161 & 399.9098 & 200.0721 & 343.3894 &  56.77401 & 776.2880 & 678.5289 &  48.61480 & 628.2810 & 308.7293 & 604.9195 & 566.1636 & 0 & 164.33945 & 169.8663 &  73.34411 & 254.10192 & 513.01072 & 118.2057 & 576.3412 & 236.14877 & 125.3384 & 167.7621 & 118.14206 & 271.4575 & 0 & 589.2391 & 327.6497 & 357.4102 & 830.42372 & 103.4216 &  90.21122 & 130.04166 & 385.8976 &  90.42721 & 52.88713 & 117.759893 & 261.4945 & 1196.8667 & 0 & 311.9024 &  56.31581 &  50.92398 & 745.77913 & 139.45141 &   8.812802 &  39.98820 & 462.7023 & 135.10629 & 289.18080 & 462.1759 &  4.833385 & 0 &  48.12989 & 775.2882 & 225.0962 & 1004.5760 & 168.7956 & 377.7157 & 100.2883 & 542.1560 & 874.1804 & 728.4477 & 551.4438 & 301.39981 & 559.8425 &  94.17824 & 0 & 176.6383 & 185.1999 & 382.3749 & 409.8453 & 129.5135 &  42.38471 & 0 & 217.5045 & 258.03867 &  15.61377 & 161.2117 & 167.76210 & 342.85444 & 637.2952 & 587.3075 &  53.97296 & 285.0599 & 481.4038 & 267.8523 & 376.4474 &  65.66337 & 730.1039 & 557.0159 & 655.6889 & 549.50555 & 477.66304 & 288.4012 &  74.13160 & 371.4795 & 0 & 453.7296 & 155.9247 & 267.7846 & 208.3384 & 514.3638 & 163.1803 &  87.93921 & 210.6348 & 232.9124 & 188.00977 & 130.0417 &   0.00000 & 416.6715 & 151.1468 & 596.4861 &   6.900092 &  65.71827 & 935.6452 & 215.2508 & 251.8031 &  25.50777 &  48.697174 & 138.1283 & 473.1726 & 152.9571 & 360.9991 & 0 & 448.1557 & 549.0891 & 246.02183 & 0 &   0.00000 & 309.11921 & 126.66366 & 445.5492 & 838.2840 & 391.2650 & 352.7321 & 126.4236 & 538.50859 & 397.4529 & 168.57159 & 877.5446 & 335.2900 &  13.60601 & 252.6069 & 266.8119 & 309.2207 &   0.0000 & 492.26736 & 102.71541 &  561.2647 & 268.6164 & 303.3687 & 554.1639 & 672.9281 & 746.3524 & 140.65367 & 518.0307 & 144.7844 & 0 & 121.1635 & 567.7790 & 133.4568 &  70.30121 & 324.5648 & 529.3885 &  41.82439 &  49.077548 &  79.79260 & 392.1246 &  14.064779 & 578.9208 &   0.0000 & 378.5551 & 729.46207 & 266.4938 &  95.64284 & 316.49471 & 174.8891 & 254.0523 & 265.5581 & 147.8713 & 165.30600 & 406.86708 &  665.7068 & 500.8092 & 660.0508 & 421.87812 & 227.38142 & 250.36032 & 875.4554 & 178.40851 & 315.3967 &  71.14949 & 463.5174 & 332.7400 &   0.00000 & 280.8591 &  28.38033 & 718.6857 & 717.8914 &  81.71320 & 419.7708 &  45.74367 & 192.7896 &   0.0000 & 359.3354 & 287.1647 & 908.3213 & 417.6323 & 438.1283 & 524.7548 & 290.40023 & 295.2893 &  49.35449 & 352.8571 &  51.56115 & 0 & 216.8000 & 419.5348 & 123.0818 & 394.2045 &  73.75137 &  55.64049 &  874.3488 & 0 & 337.1419 & 130.10023 & 241.98085 & 260.9046 & 115.8337 & 520.4767 & 402.8569 & 146.20523 & 347.1187 & 653.0601 & 414.9747 & 615.8256 & 552.9196 & 738.5431 & 441.8865 &   0.00000 & 384.0967 & 474.6850 & 311.6697 & 152.90713 & 468.7621 & 444.0952 & 50.99491 & 570.5425 & 472.4650 & 281.7419 & 496.4861 & 319.8337 & 154.4485 & 32.50410 & 155.92471 & 156.70586 & 322.6817 & 382.2730 & 126.60369 & 111.5699 & 732.8226 & 310.6181 & 413.7504 & 458.4963 & 0 & 413.5863 & 389.0447 & 180.3227 &  96.88649 & 441.1426 & 296.64305 &  84.60720 & 162.2930 & 217.7918 &  73.55222 & 268.6837 & 335.6285 & 0 & 19.33302 & 889.60296 & 210.0641 & 571.9457 & 131.09217 & 276.9349 & 388.6550 & 103.84362 & 427.64967 & 158.7365 &  99.49417 & 132.71125 &  83.85081 & 810.8524 & 338.3359 & 390.6891 & 306.28125 & 229.8072 & 231.4116 & 297.0670 & 221.2569 & 576.2880 & 482.3240 & 426.8285 & 581.8646 &   0.000000 & 499.9549 & 331.3101 &  47.34233 & 793.9579 & 711.9979 & 119.15627 &  61.64518 & 374.3084 &   0.0000 & 439.3004 & 316.1565 & 192.8655 & 50.57893 & 373.2269 & 647.8648 &  26.14706 & 379.2855 & 0 & 406.6089 & 208.5425 & 355.4589 & 354.9669 & 391.6477 & 235.4734 &  15.975834 & 473.4439 & 154.5968 &  38.01753 &  65.02131 & 202.1835 &  69.04618 &  42.72843 & 492.5999 &  902.3200 & 744.4601 & 532.6969 & 111.96882 & 36.63642 & 452.5443 & 201.32836 & 149.364733 & 246.9105 & 668.2292 & 320.3045 &  41.57587 & 463.4593 & 50.182127 &   0.0000 & 298.3495 & 313.4057 & 153.1569 & 323.6186 &  86.57605 &  31.35941 & 422.4966 & 416.9925 &  26.975132 & 380.7355 &  50.56877 & 221.4125 &  72.34275 & 242.3309 &  55.34588 & 276.0647 & 202.3610 & 142.92142 & 483.2384 &  28.80632 & 604.3957 & 361.1172 & 738.71557 & 100.1442 & 334.3550 & 617.3727 &   0.00000 & 882.0179 & 643.6295 &  53.66498 & 226.00257 & 49.35449 & 382.5786 & 24.610401 & 143.1356 & 427.2023 &  0.00000 &   0.00000 & 421.4125 & 395.5127 & 134.0847 &  89.23522 & 191.0349 & 378.0310 & 446.5322 & 273.46554 & 246.1267 & 15.08196 & 384.3984 &  90.91971 & 435.68481 & 445.54916 & 273.6388 & 341.8999 & 588.5330 & 230.1880 & 645.0551 & 729.4621 & 629.9025 & 790.2074 & 682.2730 & 426.30344 & 681.6344 & 125.76141 & 508.9159 & 385.9970 & 460.8809 & 197.3428 & 510.3498 & 513.5453 & 117.31274 &  56.34510 &   8.626746 & 267.6042 & 652.7477 & 529.3885 & 534.7666 & 536.2470 & 540.8032 & 556.5293\\\\\n",
       "\\end{tabular}\n"
      ],
      "text/markdown": [
       "\n",
       "A data.frame: 6 × 1000\n",
       "\n",
       "| <!--/--> | ENSG00000172179 &lt;dbl&gt; | ENSG00000170477 &lt;dbl&gt; | ENSG00000171401 &lt;dbl&gt; | ENSG00000115138 &lt;dbl&gt; | ENSG00000163209 &lt;dbl&gt; | ENSG00000126233 &lt;dbl&gt; | ENSG00000172016 &lt;dbl&gt; | ENSG00000143536 &lt;dbl&gt; | ENSG00000205420 &lt;dbl&gt; | ENSG00000259384 &lt;dbl&gt; | ⋯ ⋯ | ENSG00000151640 &lt;dbl&gt; | ENSG00000125966 &lt;dbl&gt; | ENSG00000160221 &lt;dbl&gt; | ENSG00000146677 &lt;dbl&gt; | ENSG00000023445 &lt;dbl&gt; | ENSG00000164442 &lt;dbl&gt; | ENSG00000107968 &lt;dbl&gt; | ENSG00000170776 &lt;dbl&gt; | ENSG00000112699 &lt;dbl&gt; | ENSG00000058668 &lt;dbl&gt; |\n",
       "|---|---|---|---|---|---|---|---|---|---|---|---|---|---|---|---|---|---|---|---|---|---|\n",
       "| GTEX-1117F-2426-SM-5EGGH | 430.52410 | 205.93553 | 369.1534 | 423.18932 | 238.3773 | 67.43703 | 231.1503 |  94.50833 | 253.0820 | 500.5849 | ⋯ | 238.73625 | 144.04207 | 283.410440 | 415.8660 | 274.7387 | 706.6089 | 463.9232 | 658.1502 | 303.1924 | 824.3174 |\n",
       "| GTEX-111CU-0926-SM-5EGIK | 301.79219 | 180.69427 | 315.7691 | 424.26025 | 191.2650 | 54.26048 | 493.4988 | 129.27817 | 232.3946 | 427.2023 | ⋯ | 141.14262 |  66.52108 |  25.374728 | 316.3982 | 439.7803 | 570.3765 | 245.6543 | 413.7504 | 596.8782 | 300.3242 |\n",
       "| GTEX-111YS-1126-SM-5GZYQ |   9.44658 | 152.65697 | 197.3795 |  34.49421 | 114.8609 | 42.63184 | 245.4965 |  49.82509 | 123.8175 |   0.0000 | ⋯ | 104.33445 |  47.25917 |  24.634728 | 193.6591 | 394.0167 | 497.6364 | 279.7428 | 455.8880 | 505.6150 | 420.1634 |\n",
       "| GTEX-1122O-1926-SM-5EGIQ | 273.11832 | 152.70703 | 290.6506 | 371.47950 | 207.1419 | 43.00711 | 254.8930 | 108.94982 | 194.3359 | 408.5765 | ⋯ |  83.03365 |  67.27421 | 236.709145 | 256.4134 | 402.6800 | 494.0637 | 237.6012 | 366.5620 | 457.9542 | 254.9423 |\n",
       "| GTEX-113JC-2226-SM-5EGJG | 287.49936 |  83.05799 | 133.7996 | 306.57446 | 110.5678 | 92.69862 |   0.0000 |  44.73147 | 115.5102 | 447.3137 | ⋯ | 348.41381 |  78.30794 |  28.321062 | 336.7511 | 421.8781 | 870.5978 | 555.4896 | 609.7611 | 327.9174 | 777.1489 |\n",
       "| GTEX-117YW-2226-SM-5N9DB | 385.89756 | 190.95811 | 233.6855 | 195.97702 | 133.7426 | 67.57256 | 383.3902 |  72.29031 | 120.7268 | 261.1645 | ⋯ | 117.31274 |  56.34510 |   8.626746 | 267.6042 | 652.7477 | 529.3885 | 534.7666 | 536.2470 | 540.8032 | 556.5293 |\n",
       "\n"
      ],
      "text/plain": [
       "                         ENSG00000172179 ENSG00000170477 ENSG00000171401\n",
       "GTEX-1117F-2426-SM-5EGGH 430.52410       205.93553       369.1534       \n",
       "GTEX-111CU-0926-SM-5EGIK 301.79219       180.69427       315.7691       \n",
       "GTEX-111YS-1126-SM-5GZYQ   9.44658       152.65697       197.3795       \n",
       "GTEX-1122O-1926-SM-5EGIQ 273.11832       152.70703       290.6506       \n",
       "GTEX-113JC-2226-SM-5EGJG 287.49936        83.05799       133.7996       \n",
       "GTEX-117YW-2226-SM-5N9DB 385.89756       190.95811       233.6855       \n",
       "                         ENSG00000115138 ENSG00000163209 ENSG00000126233\n",
       "GTEX-1117F-2426-SM-5EGGH 423.18932       238.3773        67.43703       \n",
       "GTEX-111CU-0926-SM-5EGIK 424.26025       191.2650        54.26048       \n",
       "GTEX-111YS-1126-SM-5GZYQ  34.49421       114.8609        42.63184       \n",
       "GTEX-1122O-1926-SM-5EGIQ 371.47950       207.1419        43.00711       \n",
       "GTEX-113JC-2226-SM-5EGJG 306.57446       110.5678        92.69862       \n",
       "GTEX-117YW-2226-SM-5N9DB 195.97702       133.7426        67.57256       \n",
       "                         ENSG00000172016 ENSG00000143536 ENSG00000205420\n",
       "GTEX-1117F-2426-SM-5EGGH 231.1503         94.50833       253.0820       \n",
       "GTEX-111CU-0926-SM-5EGIK 493.4988        129.27817       232.3946       \n",
       "GTEX-111YS-1126-SM-5GZYQ 245.4965         49.82509       123.8175       \n",
       "GTEX-1122O-1926-SM-5EGIQ 254.8930        108.94982       194.3359       \n",
       "GTEX-113JC-2226-SM-5EGJG   0.0000         44.73147       115.5102       \n",
       "GTEX-117YW-2226-SM-5N9DB 383.3902         72.29031       120.7268       \n",
       "                         ENSG00000259384 ⋯ ENSG00000151640 ENSG00000125966\n",
       "GTEX-1117F-2426-SM-5EGGH 500.5849        ⋯ 238.73625       144.04207      \n",
       "GTEX-111CU-0926-SM-5EGIK 427.2023        ⋯ 141.14262        66.52108      \n",
       "GTEX-111YS-1126-SM-5GZYQ   0.0000        ⋯ 104.33445        47.25917      \n",
       "GTEX-1122O-1926-SM-5EGIQ 408.5765        ⋯  83.03365        67.27421      \n",
       "GTEX-113JC-2226-SM-5EGJG 447.3137        ⋯ 348.41381        78.30794      \n",
       "GTEX-117YW-2226-SM-5N9DB 261.1645        ⋯ 117.31274        56.34510      \n",
       "                         ENSG00000160221 ENSG00000146677 ENSG00000023445\n",
       "GTEX-1117F-2426-SM-5EGGH 283.410440      415.8660        274.7387       \n",
       "GTEX-111CU-0926-SM-5EGIK  25.374728      316.3982        439.7803       \n",
       "GTEX-111YS-1126-SM-5GZYQ  24.634728      193.6591        394.0167       \n",
       "GTEX-1122O-1926-SM-5EGIQ 236.709145      256.4134        402.6800       \n",
       "GTEX-113JC-2226-SM-5EGJG  28.321062      336.7511        421.8781       \n",
       "GTEX-117YW-2226-SM-5N9DB   8.626746      267.6042        652.7477       \n",
       "                         ENSG00000164442 ENSG00000107968 ENSG00000170776\n",
       "GTEX-1117F-2426-SM-5EGGH 706.6089        463.9232        658.1502       \n",
       "GTEX-111CU-0926-SM-5EGIK 570.3765        245.6543        413.7504       \n",
       "GTEX-111YS-1126-SM-5GZYQ 497.6364        279.7428        455.8880       \n",
       "GTEX-1122O-1926-SM-5EGIQ 494.0637        237.6012        366.5620       \n",
       "GTEX-113JC-2226-SM-5EGJG 870.5978        555.4896        609.7611       \n",
       "GTEX-117YW-2226-SM-5N9DB 529.3885        534.7666        536.2470       \n",
       "                         ENSG00000112699 ENSG00000058668\n",
       "GTEX-1117F-2426-SM-5EGGH 303.1924        824.3174       \n",
       "GTEX-111CU-0926-SM-5EGIK 596.8782        300.3242       \n",
       "GTEX-111YS-1126-SM-5GZYQ 505.6150        420.1634       \n",
       "GTEX-1122O-1926-SM-5EGIQ 457.9542        254.9423       \n",
       "GTEX-113JC-2226-SM-5EGJG 327.9174        777.1489       \n",
       "GTEX-117YW-2226-SM-5N9DB 540.8032        556.5293       "
      ]
     },
     "metadata": {},
     "output_type": "display_data"
    }
   ],
   "source": [
    "head(datExpr)"
   ]
  },
  {
   "cell_type": "code",
   "execution_count": 95,
   "metadata": {},
   "outputs": [
    {
     "data": {
      "text/html": [
       "<table>\n",
       "<caption>A data.frame: 6 × 2</caption>\n",
       "<thead>\n",
       "\t<tr><th></th><th scope=col>SMTS</th><th scope=col>SMTSD</th></tr>\n",
       "\t<tr><th></th><th scope=col>&lt;chr&gt;</th><th scope=col>&lt;chr&gt;</th></tr>\n",
       "</thead>\n",
       "<tbody>\n",
       "\t<tr><th scope=row>NA</th><td>NA</td><td>NA</td></tr>\n",
       "\t<tr><th scope=row>NA.1</th><td>NA</td><td>NA</td></tr>\n",
       "\t<tr><th scope=row>NA.2</th><td>NA</td><td>NA</td></tr>\n",
       "\t<tr><th scope=row>NA.3</th><td>NA</td><td>NA</td></tr>\n",
       "\t<tr><th scope=row>NA.4</th><td>NA</td><td>NA</td></tr>\n",
       "\t<tr><th scope=row>NA.5</th><td>NA</td><td>NA</td></tr>\n",
       "</tbody>\n",
       "</table>\n"
      ],
      "text/latex": [
       "A data.frame: 6 × 2\n",
       "\\begin{tabular}{r|ll}\n",
       "  & SMTS & SMTSD\\\\\n",
       "  & <chr> & <chr>\\\\\n",
       "\\hline\n",
       "\tNA & NA & NA\\\\\n",
       "\tNA.1 & NA & NA\\\\\n",
       "\tNA.2 & NA & NA\\\\\n",
       "\tNA.3 & NA & NA\\\\\n",
       "\tNA.4 & NA & NA\\\\\n",
       "\tNA.5 & NA & NA\\\\\n",
       "\\end{tabular}\n"
      ],
      "text/markdown": [
       "\n",
       "A data.frame: 6 × 2\n",
       "\n",
       "| <!--/--> | SMTS &lt;chr&gt; | SMTSD &lt;chr&gt; |\n",
       "|---|---|---|\n",
       "| NA | NA | NA |\n",
       "| NA.1 | NA | NA |\n",
       "| NA.2 | NA | NA |\n",
       "| NA.3 | NA | NA |\n",
       "| NA.4 | NA | NA |\n",
       "| NA.5 | NA | NA |\n",
       "\n"
      ],
      "text/plain": [
       "     SMTS SMTSD\n",
       "NA   NA   NA   \n",
       "NA.1 NA   NA   \n",
       "NA.2 NA   NA   \n",
       "NA.3 NA   NA   \n",
       "NA.4 NA   NA   \n",
       "NA.5 NA   NA   "
      ]
     },
     "metadata": {},
     "output_type": "display_data"
    }
   ],
   "source": [
    "rownames(allTraits) <- allTraits$SAMPID\n",
    "datTraits <- allTraits[keepSamples,labels]\n",
    "rownames(datTraits) <- rownames(allTraits[keepSamples,labels])\n",
    "datTraits <- datTraits[rownames(datExpr),]\n",
    "head(datTraits)"
   ]
  },
  {
   "cell_type": "code",
   "execution_count": 32,
   "metadata": {},
   "outputs": [],
   "source": [
    "collectGarbage();"
   ]
  },
  {
   "cell_type": "code",
   "execution_count": 33,
   "metadata": {},
   "outputs": [
    {
     "data": {
      "text/html": [
       "<strong>png:</strong> 2"
      ],
      "text/latex": [
       "\\textbf{png:} 2"
      ],
      "text/markdown": [
       "**png:** 2"
      ],
      "text/plain": [
       "png \n",
       "  2 "
      ]
     },
     "metadata": {},
     "output_type": "display_data"
    }
   ],
   "source": [
    "# Re-cluster samples\n",
    "sampleTree2 = hclust(dist(datExpr), method = \"average\")\n",
    "fontsize=.5\n",
    "# Convert traits to a color representation: white means low, red means high, grey means missing entry\n",
    "traitColors = labels2colors(datTraits);\n",
    "# Plot the sample dendrogram and the colors underneath.\n",
    "pdf(\"samplehiercut.pdf\")\n",
    "plotDendroAndColors(sampleTree2, traitColors,\n",
    "    groupLabels = labels,\n",
    "    main = \"Sample dendrogram and trait heatmap\",\n",
    "    dendroLabels=FALSE,\n",
    "    rowText=datTraits,\n",
    "    rowTextIgnore=labels[[2]]\n",
    "    )\n",
    "dev.off()"
   ]
  },
  {
   "cell_type": "markdown",
   "metadata": {},
   "source": [
    "## 2"
   ]
  },
  {
   "cell_type": "code",
   "execution_count": 105,
   "metadata": {},
   "outputs": [
    {
     "name": "stdout",
     "output_type": "stream",
     "text": [
      "pickSoftThreshold: will use block size 1000.\n",
      " pickSoftThreshold: calculating connectivity for given powers...\n",
      "   ..working on genes 1 through 1000 of 1000\n",
      "   Power SFT.R.sq  slope truncated.R.sq mean.k. median.k. max.k.\n",
      "1      1    0.823  0.548          0.811  278.00   278.000  465.0\n",
      "2      2    0.562 -0.252          0.632  129.00   115.000  297.0\n",
      "3      3    0.841 -0.583          0.835   74.20    58.900  214.0\n",
      "4      4    0.872 -0.734          0.876   47.80    32.700  165.0\n",
      "5      5    0.893 -0.847          0.905   33.10    19.000  132.0\n",
      "6      6    0.911 -0.917          0.932   24.00    12.000  108.0\n",
      "7      7    0.911 -0.980          0.940   18.00     8.150   90.5\n",
      "8      8    0.914 -1.020          0.946   13.90     5.570   76.9\n",
      "9      9    0.900 -1.070          0.948   11.00     3.830   66.0\n",
      "10    10    0.890 -1.100          0.933    8.79     2.830   57.3\n",
      "11    12    0.863 -1.190          0.926    5.88     1.450   44.1\n",
      "12    14    0.897 -1.220          0.952    4.09     0.894   34.8\n",
      "13    16    0.877 -1.270          0.941    2.94     0.546   28.0\n",
      "14    18    0.893 -1.280          0.958    2.17     0.337   22.8\n",
      "15    20    0.893 -1.310          0.950    1.63     0.214   18.9\n"
     ]
    },
    {
     "data": {
      "text/html": [
       "<strong>png:</strong> 2"
      ],
      "text/latex": [
       "\\textbf{png:} 2"
      ],
      "text/markdown": [
       "**png:** 2"
      ],
      "text/plain": [
       "png \n",
       "  2 "
      ]
     },
     "metadata": {},
     "output_type": "display_data"
    }
   ],
   "source": [
    "# Choose a set of soft-thresholding powers\n",
    "powers = c(c(1:10), seq(from = 12, to=20, by=2))\n",
    "# Call the network topology analysis function\n",
    "sft = pickSoftThreshold(datExpr, powerVector = powers, verbose = 5)\n",
    "# Plot the results:\n",
    "sizeGrWindow(9, 5)\n",
    "pdf(\"scaletopology.pdf\")\n",
    "par(mfrow = c(1,2));\n",
    "cex1 = 0.9;\n",
    "# Scale-free topology fit index as a function of the soft-thresholding power\n",
    "plot(sft$fitIndices[,1], -sign(sft$fitIndices[,3])*sft$fitIndices[,2],\n",
    "xlab=\"Soft Threshold (power)\",ylab=\"Scale Free Topology Model Fit,signed R^2\",type=\"n\",\n",
    "main = paste(\"Scale independence\"));\n",
    "text(sft$fitIndices[,1], -sign(sft$fitIndices[,3])*sft$fitIndices[,2],\n",
    "labels=powers,cex=cex1,col=\"red\");\n",
    "# this line corresponds to using an R^2 cut-off of h\n",
    "abline(h=0.90,col=\"red\")\n",
    "# Mean connectivity as a function of the soft-thresholding power\n",
    "plot(sft$fitIndices[,1], sft$fitIndices[,5],\n",
    "xlab=\"Soft Threshold (power)\",ylab=\"Mean Connectivity\", type=\"n\",\n",
    "main = paste(\"Mean connectivity\"))\n",
    "text(sft$fitIndices[,1], sft$fitIndices[,5], labels=powers, cex=cex1,col=\"red\")\n",
    "dev.off()"
   ]
  },
  {
   "cell_type": "code",
   "execution_count": 106,
   "metadata": {},
   "outputs": [
    {
     "name": "stdout",
     "output_type": "stream",
     "text": [
      " Calculating module eigengenes block-wise from all genes\n",
      "   Flagging genes and samples with too many missing values...\n",
      "    ..step 1\n",
      " ..Working on block 1 .\n",
      "    TOM calculation: adjacency..\n",
      "    ..will not use multithreading.\n",
      "     Fraction of slow calculations: 0.000000\n",
      "    ..connectivity..\n",
      "    ..matrix multiplication (system BLAS)..\n",
      "    ..normalization..\n",
      "    ..done.\n",
      "   ..saving TOM for block 1 into file wgcna-block.1.RData\n",
      " ....clustering..\n",
      " ....detecting modules..\n",
      " ....calculating module eigengenes..\n",
      " ....checking kME in modules..\n",
      "     ..removing 13 genes from module 1 because their KME is too low.\n",
      "     ..removing 2 genes from module 2 because their KME is too low.\n",
      "     ..removing 1 genes from module 3 because their KME is too low.\n",
      "     ..removing 1 genes from module 4 because their KME is too low.\n",
      " ..merging modules that are too close..\n",
      "     mergeCloseModules: Merging modules whose distance is less than 0.15\n",
      "       Calculating new MEs...\n"
     ]
    }
   ],
   "source": [
    "net = blockwiseModules(datExpr, power = 6,\n",
    "TOMType = \"unsigned\", minModuleSize = 30,\n",
    "reassignThreshold = 0, mergeCutHeight = 0.15,\n",
    "numericLabels = TRUE, pamRespectsDendro = FALSE,\n",
    "saveTOMs = TRUE,\n",
    "saveTOMFileBase = \"wgcna\",\n",
    "verbose = 3)"
   ]
  },
  {
   "cell_type": "code",
   "execution_count": 107,
   "metadata": {},
   "outputs": [
    {
     "data": {
      "text/html": [
       "<strong>png:</strong> 2"
      ],
      "text/latex": [
       "\\textbf{png:} 2"
      ],
      "text/markdown": [
       "**png:** 2"
      ],
      "text/plain": [
       "png \n",
       "  2 "
      ]
     },
     "metadata": {},
     "output_type": "display_data"
    }
   ],
   "source": [
    "# open a graphics window\n",
    "sizeGrWindow(12, 9)\n",
    "pdf(\"netdendograms.pdf\")\n",
    "# Convert labels to colors for plotting\n",
    "mergedColors = labels2colors(net$colors)\n",
    "# Plot the dendrogram and the module colors underneath\n",
    "plotDendroAndColors(net$dendrograms[[1]], mergedColors[net$blockGenes[[1]]],\n",
    "\"Module colors\",\n",
    "dendroLabels = FALSE, hang = 0.03,\n",
    "addGuide = TRUE, guideHang = 0.05)\n",
    "dev.off()"
   ]
  },
  {
   "cell_type": "code",
   "execution_count": 108,
   "metadata": {},
   "outputs": [],
   "source": [
    "moduleLabels = net$colors\n",
    "moduleColors = labels2colors(net$colors)\n",
    "MEs = net$MEs;\n",
    "geneTree = net$dendrograms[[1]];"
   ]
  },
  {
   "cell_type": "markdown",
   "metadata": {},
   "source": [
    "## 3"
   ]
  },
  {
   "cell_type": "code",
   "execution_count": 46,
   "metadata": {},
   "outputs": [],
   "source": [
    "datTraits$cases.0.project.primary_site <- match(datTraits$cases.0.project.primary_site, unique(datTraits$cases.0.project.primary_site))\n",
    "datTraits$cases.0.project.disease_type <- match(datTraits$cases.0.project.disease_type, unique(datTraits$cases.0.project.disease_type))"
   ]
  },
  {
   "cell_type": "code",
   "execution_count": 109,
   "metadata": {},
   "outputs": [],
   "source": [
    "datTraits$SMTS <- match(datTraits$SMTS, unique(datTraits$SMTS))\n",
    "datTraits$SMTSD <- match(datTraits$SMTSD, unique(datTraits$SMTSD))"
   ]
  },
  {
   "cell_type": "code",
   "execution_count": 40,
   "metadata": {},
   "outputs": [
    {
     "ename": "ERROR",
     "evalue": "Error in `$<-.data.frame`(`*tmp*`, primary_site, value = integer(0)): replacement has 0 rows, data has 1000\n",
     "output_type": "error",
     "traceback": [
      "Error in `$<-.data.frame`(`*tmp*`, primary_site, value = integer(0)): replacement has 0 rows, data has 1000\nTraceback:\n",
      "1. `$<-`(`*tmp*`, primary_site, value = integer(0))",
      "2. `$<-.data.frame`(`*tmp*`, primary_site, value = integer(0))",
      "3. stop(sprintf(ngettext(N, \"replacement has %d row, data has %d\", \n .     \"replacement has %d rows, data has %d\"), N, nrows), domain = NA)"
     ]
    }
   ],
   "source": [
    "datTraits$primary_site <- match(datTraits$primary_site, unique(datTraits$primary_site))\n",
    "#datTraits$secondary_site <- match(datTraits$secondary_site, unique(datTraits$secondary_site))\n",
    "datTraits$malignacy <- match(datTraits$malignacy, unique(datTraits$malignacy))\n",
    "datTraits$disease_type <- match(datTraits$disease_type, unique(datTraits$disease_type))\n",
    "datTraits$stage <- match(datTraits$stage, unique(datTraits$stage))"
   ]
  },
  {
   "cell_type": "code",
   "execution_count": 110,
   "metadata": {},
   "outputs": [],
   "source": [
    "# Define numbers of genes and samples\n",
    "nGenes = ncol(datExpr);\n",
    "nSamples = nrow(datExpr);\n",
    "# Recalculate MEs with color labels\n",
    "MEs0 = moduleEigengenes(datExpr, moduleColors)$eigengenes\n",
    "MEs = orderMEs(MEs0)\n",
    "moduleTraitCor = cor(MEs, datTraits, use = \"p\");\n",
    "moduleTraitPvalue = corPvalueStudent(moduleTraitCor, nSamples);"
   ]
  },
  {
   "cell_type": "code",
   "execution_count": 111,
   "metadata": {},
   "outputs": [
    {
     "data": {
      "text/html": [
       "<strong>png:</strong> 2"
      ],
      "text/latex": [
       "\\textbf{png:} 2"
      ],
      "text/markdown": [
       "**png:** 2"
      ],
      "text/plain": [
       "png \n",
       "  2 "
      ]
     },
     "metadata": {},
     "output_type": "display_data"
    }
   ],
   "source": [
    "pdf(\"moduleTrait.pdf\", width=9, height=18)\n",
    "# Will display correlations and their p-values\n",
    "textMatrix = paste(signif(moduleTraitCor, 2), \"\\n(\",\n",
    "signif(moduleTraitPvalue, 1), \")\", sep = \"\");\n",
    "dim(textMatrix) = dim(moduleTraitCor)\n",
    "par(mar = c(6, 8.5, 3, 3));\n",
    "# Display the correlation values within a heatmap plot\n",
    "labeledHeatmap(Matrix = moduleTraitCor,\n",
    "xLabels = labels,\n",
    "yLabels = names(MEs),\n",
    "ySymbols = names(MEs),\n",
    "colorLabels = FALSE,\n",
    "colors = blueWhiteRed(50),\n",
    "textMatrix = textMatrix,\n",
    "setStdMargins = FALSE,\n",
    "cex.text = 0.5,\n",
    "zlim = c(-1,1),\n",
    "main = paste(\"Module-trait relationships\"))\n",
    "dev.off()"
   ]
  },
  {
   "cell_type": "code",
   "execution_count": 112,
   "metadata": {},
   "outputs": [],
   "source": [
    "# Define variable weight containing the weight column of datTrait\n",
    "weight = as.data.frame(datTraits$SMTS);\n",
    "names(weight) = \"weight\"\n",
    "# names (colors) of the modules\n",
    "modNames = substring(names(MEs), 3)\n",
    "geneModuleMembership = as.data.frame(cor(datExpr, MEs, use = \"p\"));\n",
    "MMPvalue = as.data.frame(corPvalueStudent(as.matrix(geneModuleMembership), nSamples));\n",
    "names(geneModuleMembership) = paste(\"MM\", modNames, sep=\"\");\n",
    "names(MMPvalue) = paste(\"p.MM\", modNames, sep=\"\");\n",
    "geneTraitSignificance = as.data.frame(cor(datExpr, weight, use = \"p\"));\n",
    "GSPvalue = as.data.frame(corPvalueStudent(as.matrix(geneTraitSignificance), nSamples));\n",
    "names(geneTraitSignificance) = paste(\"GS.\", names(weight), sep=\"\");\n",
    "names(GSPvalue) = paste(\"p.GS.\", names(weight), sep=\"\");"
   ]
  },
  {
   "cell_type": "code",
   "execution_count": 113,
   "metadata": {},
   "outputs": [
    {
     "data": {
      "text/html": [
       "<strong>png:</strong> 2"
      ],
      "text/latex": [
       "\\textbf{png:} 2"
      ],
      "text/markdown": [
       "**png:** 2"
      ],
      "text/plain": [
       "png \n",
       "  2 "
      ]
     },
     "metadata": {},
     "output_type": "display_data"
    }
   ],
   "source": [
    "module = \"yellow\"\n",
    "column = match(module, modNames);\n",
    "moduleGenes = moduleColors==module;\n",
    "sizeGrWindow(7, 7);\n",
    "pdf(\"modulemembership.pdf\")\n",
    "par(mfrow = c(1,1));\n",
    "verboseScatterplot(abs(geneModuleMembership[moduleGenes, column]),\n",
    "    abs(geneTraitSignificance[moduleGenes, 1]),\n",
    "    xlab = paste(\"Module Membership in\", module, \"module\"),\n",
    "    ylab = \"Gene significance for primary_site\",\n",
    "    main = paste(\"Module membership vs. gene significance\\n\"),\n",
    "    cex.main = 1.2, cex.lab = 1.2, cex.axis = 1.2, col = module)\n",
    "dev.off()"
   ]
  },
  {
   "cell_type": "code",
   "execution_count": 114,
   "metadata": {},
   "outputs": [],
   "source": [
    "# Create the starting data frame\n",
    "geneInfo0 = data.frame(\n",
    "moduleColor = moduleColors,\n",
    "geneTraitSignificance,\n",
    "GSPvalue)\n",
    "# Order modules by their significance for weight\n",
    "modOrder = order(-abs(cor(MEs, weight, use = \"p\")));\n",
    "# Add module membership information in the chosen order\n",
    "for (mod in 1:ncol(geneModuleMembership))\n",
    "{\n",
    "oldNames = names(geneInfo0)\n",
    "geneInfo0 = data.frame(geneInfo0, geneModuleMembership[, modOrder[mod]],\n",
    "MMPvalue[, modOrder[mod]]);\n",
    "names(geneInfo0) = c(oldNames, paste(\"MM.\", modNames[modOrder[mod]], sep=\"\"),\n",
    "paste(\"p.MM.\", modNames[modOrder[mod]], sep=\"\"))\n",
    "}\n",
    "# Order the genes in the geneInfo variable first by module color, then by geneTraitSignificance\n",
    "geneOrder = order(geneInfo0$moduleColor, -abs(geneInfo0$GS.weight));\n",
    "geneInfo = geneInfo0[geneOrder, ]\n",
    "write.csv(geneInfo, file = \"geneInfo.csv\")"
   ]
  },
  {
   "cell_type": "code",
   "execution_count": 115,
   "metadata": {},
   "outputs": [],
   "source": [
    "# Read in the probe annotation\n",
    "annot = read.csv(file = \"geneInfo.csv\");\n",
    "# Match probes in the data set to the probe IDs in the annotation file\n",
    "probes = names(datExpr)\n",
    "allLLIDs = probes\n",
    "# $ Choose interesting modules\n",
    "intModules = c(\"greenyellow\", \"darkorange\", \"darkgreen\")\n",
    "for (module in intModules)\n",
    "{\n",
    "# Select module probes\n",
    "modGenes = (moduleColors==module)\n",
    "# Get their entrez ID codes\n",
    "modLLIDs = probes[modGenes];\n",
    "# Write them into a file\n",
    "fileName = paste(\"LocusLinkIDs-\", module, \".txt\", sep=\"\");\n",
    "write.table(as.data.frame(modLLIDs), file = fileName,\n",
    "row.names = FALSE, col.names = FALSE, quote=FALSE)\n",
    "}\n",
    "# As background in the enrichment analysis, we will use all probes in the analysis.\n",
    "fileName = paste(\"LocusLinkIDs-all.txt\", sep=\"\");\n",
    "write.table(as.data.frame(allLLIDs), file = fileName,\n",
    "row.names = FALSE, col.names = FALSE, quote=FALSE)"
   ]
  },
  {
   "cell_type": "code",
   "execution_count": 121,
   "metadata": {},
   "outputs": [
    {
     "name": "stderr",
     "output_type": "stream",
     "text": [
      "Loading required package: biomaRt\n"
     ]
    },
    {
     "ename": "ERROR",
     "evalue": "Error in .processResults(postRes, mart = mart, sep = sep, fullXmlQuery = fullXmlQuery, : Query ERROR: caught BioMart::Exception::Database: Could not connect to mysql database ensembl_mart_99: DBI connect('database=ensembl_mart_99;host=127.0.0.1;port=5316','ensro',...) failed: Can't connect to MySQL server on '127.0.0.1' (111) at /net/isilonP/public/ro/ensweb/live/mart/www_99/biomart-perl/lib/BioMart/Configuration/DBLocation.pm line 98.\n\n",
     "output_type": "error",
     "traceback": [
      "Error in .processResults(postRes, mart = mart, sep = sep, fullXmlQuery = fullXmlQuery, : Query ERROR: caught BioMart::Exception::Database: Could not connect to mysql database ensembl_mart_99: DBI connect('database=ensembl_mart_99;host=127.0.0.1;port=5316','ensro',...) failed: Can't connect to MySQL server on '127.0.0.1' (111) at /net/isilonP/public/ro/ensweb/live/mart/www_99/biomart-perl/lib/BioMart/Configuration/DBLocation.pm line 98.\n\nTraceback:\n",
      "1. getBM(mart = mart, attributes = c(\"ensembl_transcript_id\", \"ensembl_gene_id\", \n .     \"gene_biotype\", \"external_gene_name\"), filter = \"ensembl_gene_id\", \n .     values = ensLookup, uniqueRows = TRUE)",
      "2. .processResults(postRes, mart = mart, sep = sep, fullXmlQuery = fullXmlQuery, \n .     verbose = verbose, callHeader = callHeader, quote = quote, \n .     attributes = attributes)",
      "3. stop(postRes)"
     ]
    }
   ],
   "source": [
    "require(\"biomaRt\")\n",
    "mart <- useMart(\"ENSEMBL_MART_ENSEMBL\")\n",
    "mart <- useDataset(\"hsapiens_gene_ensembl\", mart)\n",
    "\n",
    "ens <- allLLIDs\n",
    "ensLookup <- gsub(\"\\\\.[0-9]*$\", \"\", ens)\n",
    "\n",
    "annotLookup <- getBM(\n",
    "  mart=mart,\n",
    "  attributes=c(\"ensembl_transcript_id\", \"ensembl_gene_id\", \"gene_biotype\", \"external_gene_name\"),\n",
    "  filter=\"ensembl_gene_id\",\n",
    "  values=ensLookup,\n",
    "  uniqueRows=TRUE)\n",
    "\n",
    "annotLookup <- data.frame(\n",
    "  ens[match(annotLookup$ensembl_gene_id, ensLookup)],\n",
    "  annotLookup)\n",
    "\n",
    "colnames(annotLookup) <- c(\n",
    "  \"original_id\",\n",
    "  c(\"ensembl_transcript_id\", \"ensembl_gene_id\", \"gene_biotype\", \"external_gene_name\"))\n",
    "\n",
    "annotLookup"
   ]
  },
  {
   "cell_type": "markdown",
   "metadata": {},
   "source": [
    "## 5 "
   ]
  },
  {
   "cell_type": "code",
   "execution_count": 116,
   "metadata": {},
   "outputs": [
    {
     "data": {
      "text/html": [
       "<strong>png:</strong> 2"
      ],
      "text/latex": [
       "\\textbf{png:} 2"
      ],
      "text/markdown": [
       "**png:** 2"
      ],
      "text/plain": [
       "png \n",
       "  2 "
      ]
     },
     "metadata": {},
     "output_type": "display_data"
    }
   ],
   "source": [
    "# Re-cluster samples\n",
    "sampleTree3 = hclust(dist(MEs0), method = \"average\")\n",
    "# Convert traits to a color representation: white means low, red means high, grey means missing entry\n",
    "traitColors = labels2colors(datTraits);\n",
    "# Plot the sample dendrogram and the colors underneath.\n",
    "svg(\"nethier.svg\", width=10)\n",
    "# Set the plot margin: bottom, left, top & right\n",
    "par(mar = c(5, 4, 1.4, 0.2) + 0.1,\n",
    "    xpd = NA) # allow content to go into outer margin \n",
    "plotDendroAndColors(sampleTree3, traitColors,\n",
    "groupLabels = labels,\n",
    "main = \"Network dendrogram and trait heatmap\",\n",
    "dendroLabels=FALSE,\n",
    "#rowText=allTraits[keepSamples,labels],\n",
    "#rowTextIgnore=labels[[2]],\n",
    "addGuide=TRUE)\n",
    "dev.off()"
   ]
  },
  {
   "cell_type": "code",
   "execution_count": 134,
   "metadata": {
    "scrolled": true
   },
   "outputs": [],
   "source": []
  },
  {
   "cell_type": "code",
   "execution_count": 138,
   "metadata": {},
   "outputs": [
    {
     "data": {
      "text/html": [
       "<ol class=list-inline>\n",
       "\t<li>'Uterus'</li>\n",
       "\t<li>'Stomach'</li>\n",
       "\t<li>'Kidney'</li>\n",
       "</ol>\n"
      ],
      "text/latex": [
       "\\begin{enumerate*}\n",
       "\\item 'Uterus'\n",
       "\\item 'Stomach'\n",
       "\\item 'Kidney'\n",
       "\\end{enumerate*}\n"
      ],
      "text/markdown": [
       "1. 'Uterus'\n",
       "2. 'Stomach'\n",
       "3. 'Kidney'\n",
       "\n",
       "\n"
      ],
      "text/plain": [
       "[1] \"Uterus\"  \"Stomach\" \"Kidney\" "
      ]
     },
     "metadata": {},
     "output_type": "display_data"
    }
   ],
   "source": [
    "rownames(allTraits)=allTraits$SAMPID\n",
    "unique(allTraits[rownames(datTraits),'SMTS'])"
   ]
  },
  {
   "cell_type": "code",
   "execution_count": 139,
   "metadata": {},
   "outputs": [
    {
     "name": "stderr",
     "output_type": "stream",
     "text": [
      "Warning message in par(fig = c(0, 1, 0, 1), oma = c(0, 0, 0, 0), mar = c(0, 0, 0, :\n",
      "“calling par(new=TRUE) with no plot”"
     ]
    },
    {
     "data": {
      "text/html": [
       "<strong>png:</strong> 2"
      ],
      "text/latex": [
       "\\textbf{png:} 2"
      ],
      "text/markdown": [
       "**png:** 2"
      ],
      "text/plain": [
       "png \n",
       "  2 "
      ]
     },
     "metadata": {},
     "output_type": "display_data"
    }
   ],
   "source": [
    "svg(\"nethier_legend.svg\", width=10)\n",
    "add_legend(\"topleft\", legend = unique(allTraits[rownames(datTraits),'SMTS']), pch = 1, pt.cex = 1, cex = 1.5, bty = 'n', ncol=2,\n",
    "       inset = c(0.1, 0.), # place outside\n",
    "       title = \"SMTS\", \n",
    "       col = traitColors)\n",
    "dev.off()"
   ]
  },
  {
   "cell_type": "code",
   "execution_count": 140,
   "metadata": {},
   "outputs": [],
   "source": [
    "collectGarbage()"
   ]
  },
  {
   "cell_type": "code",
   "execution_count": 61,
   "metadata": {},
   "outputs": [
    {
     "data": {
      "text/plain": [
       "clust\n",
       "  1 \n",
       "590 "
      ]
     },
     "metadata": {},
     "output_type": "display_data"
    }
   ],
   "source": [
    "clust = cutreeStatic(sampleTree3, cutHeight = 0.4, minSize = 10)\n",
    "table(clust)"
   ]
  },
  {
   "cell_type": "code",
   "execution_count": 62,
   "metadata": {},
   "outputs": [
    {
     "data": {
      "text/html": [
       "<strong>png:</strong> 2"
      ],
      "text/latex": [
       "\\textbf{png:} 2"
      ],
      "text/markdown": [
       "**png:** 2"
      ],
      "text/plain": [
       "png \n",
       "  2 "
      ]
     },
     "metadata": {},
     "output_type": "display_data"
    }
   ],
   "source": [
    "# Re-cluster samples after cut\n",
    "sampleTree4 = hclust(dist(MEs0[(clust==1),]), method = \"average\")\n",
    "# Convert traits to a color representation: white means low, red means high, grey means missing entry\n",
    "traitColors = labels2colors(datTraits[(clust==1),]);\n",
    "# Plot the sample dendrogram and the colors underneath.\n",
    "svg(\"nethiercut.svg\")\n",
    "plotDendroAndColors(sampleTree4, traitColors,\n",
    "groupLabels = labels,\n",
    "main = \"Network dendrogram and trait heatmap\",\n",
    "dendroLabels=FALSE)\n",
    "dev.off()"
   ]
  },
  {
   "cell_type": "code",
   "execution_count": 63,
   "metadata": {},
   "outputs": [
    {
     "name": "stdout",
     "output_type": "stream",
     "text": [
      "TOM calculation: adjacency..\n",
      "..will not use multithreading.\n",
      " Fraction of slow calculations: 0.000000\n",
      "..connectivity..\n",
      "..matrix multiplication (system BLAS)..\n",
      "..normalization..\n",
      "..done.\n"
     ]
    },
    {
     "data": {
      "text/html": [
       "<strong>png:</strong> 2"
      ],
      "text/latex": [
       "\\textbf{png:} 2"
      ],
      "text/markdown": [
       "**png:** 2"
      ],
      "text/plain": [
       "png \n",
       "  2 "
      ]
     },
     "metadata": {},
     "output_type": "display_data"
    }
   ],
   "source": [
    "# Calculate topological overlap anew: this could be done more efficiently by saving the TOM\n",
    "# calculated during module detection, but let us do it again here.\n",
    "dissTOM = 1-TOMsimilarityFromExpr(datExpr, power = 6);\n",
    "# Transform dissTOM with a power to make moderately strong connections more visible in the heatmap\n",
    "plotTOM = dissTOM^7;\n",
    "# Set diagonal to NA for a nicer plot\n",
    "diag(plotTOM) = NA;\n",
    "# Call the plot function\n",
    "sizeGrWindow(9,9)\n",
    "svg(\"networkmap.svg\")\n",
    "TOMplot(plotTOM, geneTree, moduleColors, main = \"Network heatmap plot, all genes\")\n",
    "dev.off()"
   ]
  },
  {
   "cell_type": "code",
   "execution_count": 64,
   "metadata": {},
   "outputs": [
    {
     "data": {
      "text/html": [
       "<strong>png:</strong> 2"
      ],
      "text/latex": [
       "\\textbf{png:} 2"
      ],
      "text/markdown": [
       "**png:** 2"
      ],
      "text/plain": [
       "png \n",
       "  2 "
      ]
     },
     "metadata": {},
     "output_type": "display_data"
    }
   ],
   "source": [
    "#selct genes to be faster\n",
    "nSelect = nGenes*0.7\n",
    "# For reproducibility, we set the random seed\n",
    "set.seed(10);\n",
    "select = sample(nGenes, size = nSelect);\n",
    "selectTOM = dissTOM[select, select];\n",
    "# There’s no simple way of restricting a clustering tree to a subset of genes, so we must re-cluster.\n",
    "selectTree = hclust(as.dist(selectTOM), method = \"average\")\n",
    "selectColors = moduleColors[select];\n",
    "# Open a graphical window\n",
    "sizeGrWindow(9,9)\n",
    "svg(\"networkmap.svg\")\n",
    "# Taking the dissimilarity to a power, say 10, makes the plot more informative by effectively changing\n",
    "# the color palette; setting the diagonal to NA also improves the clarity of the plot\n",
    "plotDiss = selectTOM^7;\n",
    "diag(plotDiss) = NA;\n",
    "TOMplot(plotDiss, selectTree, selectColors, main = \"Network heatmap plot, selected genes\")\n",
    "dev.off()"
   ]
  },
  {
   "cell_type": "code",
   "execution_count": 60,
   "metadata": {},
   "outputs": [
    {
     "ename": "ERROR",
     "evalue": "Error in names(weight) = \"SMTS\": 'names' attribute [1] must be the same length as the vector [0]\n",
     "output_type": "error",
     "traceback": [
      "Error in names(weight) = \"SMTS\": 'names' attribute [1] must be the same length as the vector [0]\nTraceback:\n"
     ]
    }
   ],
   "source": [
    "# Recalculate module eigengenes\n",
    "MEs = moduleEigengenes(datExpr, moduleColors)$eigengenes\n",
    "# Isolate weight from the clinical traits\n",
    "weight = as.data.frame(datTraits$SMTS);\n",
    "names(weight) = \"SMTS\"\n",
    "# Add the weight to existing module eigengenes\n",
    "MET = orderMEs(cbind(MEs, weight))\n",
    "# Plot the relationships among the eigengenes and the trait\n",
    "sizeGrWindow(5,7.5);\n",
    "svg(\"eigenHeat.svg\")\n",
    "par(cex = 0.9)\n",
    "plotEigengeneNetworks(MET, \"\", marDendro = c(0,4,1,2), marHeatmap = c(3,4,1,2), cex.lab = 0.8, xLabelsAngle = 90)\n",
    "dev.off()"
   ]
  },
  {
   "cell_type": "code",
   "execution_count": null,
   "metadata": {},
   "outputs": [],
   "source": [
    "# Plot the dendrogram\n",
    "sizeGrWindow(6,6);\n",
    "svg(\"eigendendogram.svg\")\n",
    "par(cex = 1.0)\n",
    "plotEigengeneNetworks(MET, \"Eigengene dendrogram\", marDendro = c(0,4,2,0),\n",
    "plotHeatmaps = FALSE)\n",
    "# Plot the heatmap matrix (note: this plot will overwrite the dendrogram plot)\n",
    "par(cex = 1.0)\n",
    "plotEigengeneNetworks(MET, \"Eigengene adjacency heatmap\", marHeatmap = c(3,4,2,2),\n",
    "plotDendrograms = FALSE, xLabelsAngle = 90)\n",
    "dev.off()"
   ]
  },
  {
   "cell_type": "code",
   "execution_count": 67,
   "metadata": {},
   "outputs": [],
   "source": [
    "write.csv(cutree(sampleTree3, k=1), \"wgcna/wgcna_level_2_labels.csv\")"
   ]
  },
  {
   "cell_type": "code",
   "execution_count": 144,
   "metadata": {},
   "outputs": [],
   "source": [
    "write.csv(geneModuleMembership, \"wgcna/wgcna_level_0_word-dist.csv\")"
   ]
  },
  {
   "cell_type": "code",
   "execution_count": 143,
   "metadata": {},
   "outputs": [],
   "source": [
    "write.csv(MEs, \"wgcna/wgcna_level_0_topic-dist.csv\")"
   ]
  },
  {
   "cell_type": "code",
   "execution_count": null,
   "metadata": {},
   "outputs": [],
   "source": []
  }
 ],
 "metadata": {
  "kernelspec": {
   "display_name": "R",
   "language": "R",
   "name": "ir"
  },
  "language_info": {
   "codemirror_mode": "r",
   "file_extension": ".r",
   "mimetype": "text/x-r-source",
   "name": "R",
   "pygments_lexer": "r",
   "version": "3.6.1"
  }
 },
 "nbformat": 4,
 "nbformat_minor": 2
}

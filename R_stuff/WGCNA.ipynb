{
 "cells": [
  {
   "cell_type": "code",
   "execution_count": 1,
   "metadata": {},
   "outputs": [
    {
     "data": {
      "text/html": [
       "'/home/jovyan/work/phd/R_stuff'"
      ],
      "text/latex": [
       "'/home/jovyan/work/phd/R\\_stuff'"
      ],
      "text/markdown": [
       "'/home/jovyan/work/phd/R_stuff'"
      ],
      "text/plain": [
       "[1] \"/home/jovyan/work/phd/R_stuff\""
      ]
     },
     "metadata": {},
     "output_type": "display_data"
    },
    {
     "name": "stderr",
     "output_type": "stream",
     "text": [
      "Loading required package: dynamicTreeCut\n",
      "\n",
      "Loading required package: fastcluster\n",
      "\n",
      "\n",
      "Attaching package: ‘fastcluster’\n",
      "\n",
      "\n",
      "The following object is masked from ‘package:stats’:\n",
      "\n",
      "    hclust\n",
      "\n",
      "\n",
      "\n",
      "\n",
      "\n",
      "Attaching package: ‘WGCNA’\n",
      "\n",
      "\n",
      "The following object is masked from ‘package:stats’:\n",
      "\n",
      "    cor\n",
      "\n",
      "\n"
     ]
    }
   ],
   "source": [
    "# Display the current working directory\n",
    "getwd();\n",
    "# If necessary, change the path below to the directory where the data files are stored.\n",
    "# \".\" means current directory. On Windows use a forward slash / instead of the usual \\.\n",
    "workingDir = \"/home/jovyan/work/phd/datasets/gtex/10/\";\n",
    "setwd(workingDir);\n",
    "# Load WGCNA package\n",
    "library(WGCNA)\n",
    "# The following setting is important, do not omit.\n",
    "options(stringsAsFactors = FALSE);"
   ]
  },
  {
   "cell_type": "code",
   "execution_count": 2,
   "metadata": {},
   "outputs": [],
   "source": [
    "add_legend <- function(...) {\n",
    "  opar <- par(fig=c(0, 1, 0, 1), oma=c(0, 0, 0, 0), \n",
    "    mar=c(0, 0, 0, 0), new=TRUE)\n",
    "  on.exit(par(opar))\n",
    "  plot(0, 0, type='n', bty='n', xaxt='n', yaxt='n')\n",
    "  legend(...)\n",
    "}"
   ]
  },
  {
   "cell_type": "code",
   "execution_count": 31,
   "metadata": {},
   "outputs": [],
   "source": [
    "datExpr <- t(read.csv(\"mainTable.csv\", check.names=FALSE, row.names = \"Name\"))\n",
    "genes <- dimnames(datExpr)[[2]]\n",
    "samples <- dimnames(datExpr)[[1]]\n",
    "datExpr <- as.data.frame(apply(datExpr,2, as.numeric)) #numeric\n",
    "dimnames(datExpr)[[1]] <- samples\n",
    "allTraits <- read.csv(\"files.dat\")"
   ]
  },
  {
   "cell_type": "code",
   "execution_count": 32,
   "metadata": {},
   "outputs": [],
   "source": [
    "#log1 <- function(x){\n",
    "#    log(x+1)\n",
    "#}\n",
    "#datExpr <- as.data.frame(apply(datExpr,2, log2))\n",
    "#dimnames(datExpr)[[1]] <- samples"
   ]
  },
  {
   "cell_type": "code",
   "execution_count": 33,
   "metadata": {},
   "outputs": [
    {
     "data": {
      "text/html": [
       "<table>\n",
       "<caption>A data.frame: 10 × 5</caption>\n",
       "<thead>\n",
       "\t<tr><th></th><th scope=col>ENSG00000268903.1</th><th scope=col>ENSG00000269981.1</th><th scope=col>ENSG00000250575.1</th><th scope=col>ENSG00000225972.1</th><th scope=col>ENSG00000229344.1</th></tr>\n",
       "\t<tr><th></th><th scope=col>&lt;dbl&gt;</th><th scope=col>&lt;dbl&gt;</th><th scope=col>&lt;dbl&gt;</th><th scope=col>&lt;dbl&gt;</th><th scope=col>&lt;dbl&gt;</th></tr>\n",
       "</thead>\n",
       "<tbody>\n",
       "\t<tr><th scope=row>GTEX-1GZ2Q-0011-R6a-SM-9OSWM</th><td>1.5407307</td><td>1.0756848</td><td>0.04130508</td><td>3.384729</td><td>4.648230</td></tr>\n",
       "\t<tr><th scope=row>GTEX-RU72-0011-R5A-SM-2TF6U</th><td>0.5387131</td><td>0.9234649</td><td>0.00000000</td><td>4.357606</td><td>4.573163</td></tr>\n",
       "\t<tr><th scope=row>GTEX-WHSE-0011-R3A-SM-3P5ZM</th><td>1.6813864</td><td>1.8539515</td><td>0.00000000</td><td>2.824944</td><td>3.551053</td></tr>\n",
       "\t<tr><th scope=row>GTEX-14PQA-0011-R1b-SM-6EU1G</th><td>1.0888986</td><td>1.4068320</td><td>0.00000000</td><td>2.663053</td><td>3.461037</td></tr>\n",
       "\t<tr><th scope=row>GTEX-13CF2-0011-R1a-SM-5LZY1</th><td>0.6294616</td><td>0.3673478</td><td>0.00000000</td><td>2.986187</td><td>3.395850</td></tr>\n",
       "\t<tr><th scope=row>GTEX-1B8L1-0011-R10b-SM-7P8Q4</th><td>1.7003749</td><td>1.4544202</td><td>0.01863528</td><td>3.180135</td><td>3.350255</td></tr>\n",
       "\t<tr><th scope=row>GTEX-1445S-3026-SM-5O9BR</th><td>1.7047481</td><td>1.0739780</td><td>0.00000000</td><td>2.843746</td><td>3.433665</td></tr>\n",
       "\t<tr><th scope=row>GTEX-1B8SF-0011-R8b-SM-7P8SX</th><td>0.4893772</td><td>0.5572702</td><td>0.24513985</td><td>5.333202</td><td>5.566052</td></tr>\n",
       "\t<tr><th scope=row>GTEX-15ER7-0011-R7a-SM-6M46N</th><td>0.3870975</td><td>0.2946825</td><td>0.00000000</td><td>2.408745</td><td>3.159126</td></tr>\n",
       "\t<tr><th scope=row>GTEX-14ASI-0011-R5b-SM-6EU2M</th><td>0.1258394</td><td>0.2370465</td><td>0.00000000</td><td>9.024613</td><td>3.470412</td></tr>\n",
       "</tbody>\n",
       "</table>\n"
      ],
      "text/latex": [
       "A data.frame: 10 × 5\n",
       "\\begin{tabular}{r|lllll}\n",
       "  & ENSG00000268903.1 & ENSG00000269981.1 & ENSG00000250575.1 & ENSG00000225972.1 & ENSG00000229344.1\\\\\n",
       "  & <dbl> & <dbl> & <dbl> & <dbl> & <dbl>\\\\\n",
       "\\hline\n",
       "\tGTEX-1GZ2Q-0011-R6a-SM-9OSWM & 1.5407307 & 1.0756848 & 0.04130508 & 3.384729 & 4.648230\\\\\n",
       "\tGTEX-RU72-0011-R5A-SM-2TF6U & 0.5387131 & 0.9234649 & 0.00000000 & 4.357606 & 4.573163\\\\\n",
       "\tGTEX-WHSE-0011-R3A-SM-3P5ZM & 1.6813864 & 1.8539515 & 0.00000000 & 2.824944 & 3.551053\\\\\n",
       "\tGTEX-14PQA-0011-R1b-SM-6EU1G & 1.0888986 & 1.4068320 & 0.00000000 & 2.663053 & 3.461037\\\\\n",
       "\tGTEX-13CF2-0011-R1a-SM-5LZY1 & 0.6294616 & 0.3673478 & 0.00000000 & 2.986187 & 3.395850\\\\\n",
       "\tGTEX-1B8L1-0011-R10b-SM-7P8Q4 & 1.7003749 & 1.4544202 & 0.01863528 & 3.180135 & 3.350255\\\\\n",
       "\tGTEX-1445S-3026-SM-5O9BR & 1.7047481 & 1.0739780 & 0.00000000 & 2.843746 & 3.433665\\\\\n",
       "\tGTEX-1B8SF-0011-R8b-SM-7P8SX & 0.4893772 & 0.5572702 & 0.24513985 & 5.333202 & 5.566052\\\\\n",
       "\tGTEX-15ER7-0011-R7a-SM-6M46N & 0.3870975 & 0.2946825 & 0.00000000 & 2.408745 & 3.159126\\\\\n",
       "\tGTEX-14ASI-0011-R5b-SM-6EU2M & 0.1258394 & 0.2370465 & 0.00000000 & 9.024613 & 3.470412\\\\\n",
       "\\end{tabular}\n"
      ],
      "text/markdown": [
       "\n",
       "A data.frame: 10 × 5\n",
       "\n",
       "| <!--/--> | ENSG00000268903.1 &lt;dbl&gt; | ENSG00000269981.1 &lt;dbl&gt; | ENSG00000250575.1 &lt;dbl&gt; | ENSG00000225972.1 &lt;dbl&gt; | ENSG00000229344.1 &lt;dbl&gt; |\n",
       "|---|---|---|---|---|---|\n",
       "| GTEX-1GZ2Q-0011-R6a-SM-9OSWM | 1.5407307 | 1.0756848 | 0.04130508 | 3.384729 | 4.648230 |\n",
       "| GTEX-RU72-0011-R5A-SM-2TF6U | 0.5387131 | 0.9234649 | 0.00000000 | 4.357606 | 4.573163 |\n",
       "| GTEX-WHSE-0011-R3A-SM-3P5ZM | 1.6813864 | 1.8539515 | 0.00000000 | 2.824944 | 3.551053 |\n",
       "| GTEX-14PQA-0011-R1b-SM-6EU1G | 1.0888986 | 1.4068320 | 0.00000000 | 2.663053 | 3.461037 |\n",
       "| GTEX-13CF2-0011-R1a-SM-5LZY1 | 0.6294616 | 0.3673478 | 0.00000000 | 2.986187 | 3.395850 |\n",
       "| GTEX-1B8L1-0011-R10b-SM-7P8Q4 | 1.7003749 | 1.4544202 | 0.01863528 | 3.180135 | 3.350255 |\n",
       "| GTEX-1445S-3026-SM-5O9BR | 1.7047481 | 1.0739780 | 0.00000000 | 2.843746 | 3.433665 |\n",
       "| GTEX-1B8SF-0011-R8b-SM-7P8SX | 0.4893772 | 0.5572702 | 0.24513985 | 5.333202 | 5.566052 |\n",
       "| GTEX-15ER7-0011-R7a-SM-6M46N | 0.3870975 | 0.2946825 | 0.00000000 | 2.408745 | 3.159126 |\n",
       "| GTEX-14ASI-0011-R5b-SM-6EU2M | 0.1258394 | 0.2370465 | 0.00000000 | 9.024613 | 3.470412 |\n",
       "\n"
      ],
      "text/plain": [
       "                              ENSG00000268903.1 ENSG00000269981.1\n",
       "GTEX-1GZ2Q-0011-R6a-SM-9OSWM  1.5407307         1.0756848        \n",
       "GTEX-RU72-0011-R5A-SM-2TF6U   0.5387131         0.9234649        \n",
       "GTEX-WHSE-0011-R3A-SM-3P5ZM   1.6813864         1.8539515        \n",
       "GTEX-14PQA-0011-R1b-SM-6EU1G  1.0888986         1.4068320        \n",
       "GTEX-13CF2-0011-R1a-SM-5LZY1  0.6294616         0.3673478        \n",
       "GTEX-1B8L1-0011-R10b-SM-7P8Q4 1.7003749         1.4544202        \n",
       "GTEX-1445S-3026-SM-5O9BR      1.7047481         1.0739780        \n",
       "GTEX-1B8SF-0011-R8b-SM-7P8SX  0.4893772         0.5572702        \n",
       "GTEX-15ER7-0011-R7a-SM-6M46N  0.3870975         0.2946825        \n",
       "GTEX-14ASI-0011-R5b-SM-6EU2M  0.1258394         0.2370465        \n",
       "                              ENSG00000250575.1 ENSG00000225972.1\n",
       "GTEX-1GZ2Q-0011-R6a-SM-9OSWM  0.04130508        3.384729         \n",
       "GTEX-RU72-0011-R5A-SM-2TF6U   0.00000000        4.357606         \n",
       "GTEX-WHSE-0011-R3A-SM-3P5ZM   0.00000000        2.824944         \n",
       "GTEX-14PQA-0011-R1b-SM-6EU1G  0.00000000        2.663053         \n",
       "GTEX-13CF2-0011-R1a-SM-5LZY1  0.00000000        2.986187         \n",
       "GTEX-1B8L1-0011-R10b-SM-7P8Q4 0.01863528        3.180135         \n",
       "GTEX-1445S-3026-SM-5O9BR      0.00000000        2.843746         \n",
       "GTEX-1B8SF-0011-R8b-SM-7P8SX  0.24513985        5.333202         \n",
       "GTEX-15ER7-0011-R7a-SM-6M46N  0.00000000        2.408745         \n",
       "GTEX-14ASI-0011-R5b-SM-6EU2M  0.00000000        9.024613         \n",
       "                              ENSG00000229344.1\n",
       "GTEX-1GZ2Q-0011-R6a-SM-9OSWM  4.648230         \n",
       "GTEX-RU72-0011-R5A-SM-2TF6U   4.573163         \n",
       "GTEX-WHSE-0011-R3A-SM-3P5ZM   3.551053         \n",
       "GTEX-14PQA-0011-R1b-SM-6EU1G  3.461037         \n",
       "GTEX-13CF2-0011-R1a-SM-5LZY1  3.395850         \n",
       "GTEX-1B8L1-0011-R10b-SM-7P8Q4 3.350255         \n",
       "GTEX-1445S-3026-SM-5O9BR      3.433665         \n",
       "GTEX-1B8SF-0011-R8b-SM-7P8SX  5.566052         \n",
       "GTEX-15ER7-0011-R7a-SM-6M46N  3.159126         \n",
       "GTEX-14ASI-0011-R5b-SM-6EU2M  3.470412         "
      ]
     },
     "metadata": {},
     "output_type": "display_data"
    }
   ],
   "source": [
    "datExpr[1:10,1:5]"
   ]
  },
  {
   "cell_type": "code",
   "execution_count": 34,
   "metadata": {},
   "outputs": [
    {
     "data": {
      "text/html": [
       "<table>\n",
       "<caption>A data.frame: 6 × 63</caption>\n",
       "<thead>\n",
       "\t<tr><th></th><th scope=col>SAMPID</th><th scope=col>SMATSSCR</th><th scope=col>SMCENTER</th><th scope=col>SMPTHNTS</th><th scope=col>SMRIN</th><th scope=col>SMTS</th><th scope=col>SMTSD</th><th scope=col>SMUBRID</th><th scope=col>SMTSISCH</th><th scope=col>SMTSPAX</th><th scope=col>⋯</th><th scope=col>SME1ANTI</th><th scope=col>SMSPLTRD</th><th scope=col>SMBSMMRT</th><th scope=col>SME1SNSE</th><th scope=col>SME1PCTS</th><th scope=col>SMRRNART</th><th scope=col>SME1MPRT</th><th scope=col>SMNUM5CD</th><th scope=col>SMDPMPRT</th><th scope=col>SME2PCTS</th></tr>\n",
       "\t<tr><th></th><th scope=col>&lt;chr&gt;</th><th scope=col>&lt;dbl&gt;</th><th scope=col>&lt;chr&gt;</th><th scope=col>&lt;chr&gt;</th><th scope=col>&lt;dbl&gt;</th><th scope=col>&lt;chr&gt;</th><th scope=col>&lt;chr&gt;</th><th scope=col>&lt;chr&gt;</th><th scope=col>&lt;dbl&gt;</th><th scope=col>&lt;dbl&gt;</th><th scope=col>⋯</th><th scope=col>&lt;dbl&gt;</th><th scope=col>&lt;dbl&gt;</th><th scope=col>&lt;dbl&gt;</th><th scope=col>&lt;dbl&gt;</th><th scope=col>&lt;dbl&gt;</th><th scope=col>&lt;dbl&gt;</th><th scope=col>&lt;dbl&gt;</th><th scope=col>&lt;lgl&gt;</th><th scope=col>&lt;dbl&gt;</th><th scope=col>&lt;dbl&gt;</th></tr>\n",
       "</thead>\n",
       "<tbody>\n",
       "\t<tr><th scope=row>1</th><td>GTEX-1117F-0226-SM-5GZZ7</td><td>0</td><td>B1</td><td>2 pieces, ~15% vessel stroma, rep delineated                                      </td><td>6.8</td><td>Adipose Tissue</td><td>Adipose - Subcutaneous      </td><td>0002190</td><td>1214</td><td>1125</td><td>⋯</td><td>14648800</td><td>11999300</td><td>0.00315785</td><td>14669500</td><td>50.0354</td><td>0.00310538</td><td>0.994740</td><td>NA</td><td>0</td><td>50.1944</td></tr>\n",
       "\t<tr><th scope=row>2</th><td>GTEX-1117F-0426-SM-5EGHI</td><td>0</td><td>B1</td><td>2 pieces, !5% fibrous connective tissue, delineated (rep)                         </td><td>7.1</td><td>Muscle        </td><td>Muscle - Skeletal           </td><td>0011907</td><td>1220</td><td>1119</td><td>⋯</td><td>13191500</td><td>11550200</td><td>0.00396788</td><td>13340500</td><td>50.2809</td><td>0.00699464</td><td>0.995041</td><td>NA</td><td>0</td><td>49.9455</td></tr>\n",
       "\t<tr><th scope=row>3</th><td>GTEX-1117F-0526-SM-5EGHJ</td><td>0</td><td>B1</td><td>2 pieces, clean, Monckebeg medial sclerosis, rep delineated                       </td><td>8.0</td><td>Blood Vessel  </td><td>Artery - Tibial             </td><td>0007610</td><td>1221</td><td>1120</td><td>⋯</td><td>13175400</td><td>11000300</td><td>0.00427126</td><td>13150900</td><td>49.9535</td><td>0.00286826</td><td>0.994001</td><td>NA</td><td>0</td><td>50.2667</td></tr>\n",
       "\t<tr><th scope=row>4</th><td>GTEX-1117F-0626-SM-5N9CS</td><td>1</td><td>B1</td><td>2 pieces, up to 4mm aderent fat/nerve/vessel, delineated                          </td><td>6.9</td><td>Blood Vessel  </td><td>Artery - Coronary           </td><td>0001621</td><td>1243</td><td>1098</td><td>⋯</td><td>15164200</td><td>11617900</td><td>0.00336188</td><td>15291900</td><td>50.2096</td><td>0.00533653</td><td>0.992257</td><td>NA</td><td>0</td><td>50.0865</td></tr>\n",
       "\t<tr><th scope=row>5</th><td>GTEX-1117F-0726-SM-5GIEN</td><td>1</td><td>B1</td><td>2 pieces, no abnormalities                                                        </td><td>6.3</td><td>Heart         </td><td>Heart - Atrial Appendage    </td><td>0006631</td><td>1244</td><td>1097</td><td>⋯</td><td>13627100</td><td> 9266070</td><td>0.00344234</td><td>13756700</td><td>50.2367</td><td>0.03058410</td><td>0.995711</td><td>NA</td><td>0</td><td>49.9563</td></tr>\n",
       "\t<tr><th scope=row>6</th><td>GTEX-1117F-1326-SM-5EGHH</td><td>1</td><td>B1</td><td>2 pieces, diffuse mesothelial hyperplasia; ~10% vessel/fibrous tissue (delineated)</td><td>5.9</td><td>Adipose Tissue</td><td>Adipose - Visceral (Omentum)</td><td>0010414</td><td>1277</td><td>1066</td><td>⋯</td><td>13379400</td><td> 9631060</td><td>0.00485657</td><td>13408700</td><td>50.0547</td><td>0.01033100</td><td>0.990378</td><td>NA</td><td>0</td><td>50.1311</td></tr>\n",
       "</tbody>\n",
       "</table>\n"
      ],
      "text/latex": [
       "A data.frame: 6 × 63\n",
       "\\begin{tabular}{r|lllllllllllllllllllll}\n",
       "  & SAMPID & SMATSSCR & SMCENTER & SMPTHNTS & SMRIN & SMTS & SMTSD & SMUBRID & SMTSISCH & SMTSPAX & ⋯ & SME1ANTI & SMSPLTRD & SMBSMMRT & SME1SNSE & SME1PCTS & SMRRNART & SME1MPRT & SMNUM5CD & SMDPMPRT & SME2PCTS\\\\\n",
       "  & <chr> & <dbl> & <chr> & <chr> & <dbl> & <chr> & <chr> & <chr> & <dbl> & <dbl> & ⋯ & <dbl> & <dbl> & <dbl> & <dbl> & <dbl> & <dbl> & <dbl> & <lgl> & <dbl> & <dbl>\\\\\n",
       "\\hline\n",
       "\t1 & GTEX-1117F-0226-SM-5GZZ7 & 0 & B1 & 2 pieces, \\textasciitilde{}15\\% vessel stroma, rep delineated                                       & 6.8 & Adipose Tissue & Adipose - Subcutaneous       & 0002190 & 1214 & 1125 & ⋯ & 14648800 & 11999300 & 0.00315785 & 14669500 & 50.0354 & 0.00310538 & 0.994740 & NA & 0 & 50.1944\\\\\n",
       "\t2 & GTEX-1117F-0426-SM-5EGHI & 0 & B1 & 2 pieces, !5\\% fibrous connective tissue, delineated (rep)                          & 7.1 & Muscle         & Muscle - Skeletal            & 0011907 & 1220 & 1119 & ⋯ & 13191500 & 11550200 & 0.00396788 & 13340500 & 50.2809 & 0.00699464 & 0.995041 & NA & 0 & 49.9455\\\\\n",
       "\t3 & GTEX-1117F-0526-SM-5EGHJ & 0 & B1 & 2 pieces, clean, Monckebeg medial sclerosis, rep delineated                        & 8.0 & Blood Vessel   & Artery - Tibial              & 0007610 & 1221 & 1120 & ⋯ & 13175400 & 11000300 & 0.00427126 & 13150900 & 49.9535 & 0.00286826 & 0.994001 & NA & 0 & 50.2667\\\\\n",
       "\t4 & GTEX-1117F-0626-SM-5N9CS & 1 & B1 & 2 pieces, up to 4mm aderent fat/nerve/vessel, delineated                           & 6.9 & Blood Vessel   & Artery - Coronary            & 0001621 & 1243 & 1098 & ⋯ & 15164200 & 11617900 & 0.00336188 & 15291900 & 50.2096 & 0.00533653 & 0.992257 & NA & 0 & 50.0865\\\\\n",
       "\t5 & GTEX-1117F-0726-SM-5GIEN & 1 & B1 & 2 pieces, no abnormalities                                                         & 6.3 & Heart          & Heart - Atrial Appendage     & 0006631 & 1244 & 1097 & ⋯ & 13627100 &  9266070 & 0.00344234 & 13756700 & 50.2367 & 0.03058410 & 0.995711 & NA & 0 & 49.9563\\\\\n",
       "\t6 & GTEX-1117F-1326-SM-5EGHH & 1 & B1 & 2 pieces, diffuse mesothelial hyperplasia; \\textasciitilde{}10\\% vessel/fibrous tissue (delineated) & 5.9 & Adipose Tissue & Adipose - Visceral (Omentum) & 0010414 & 1277 & 1066 & ⋯ & 13379400 &  9631060 & 0.00485657 & 13408700 & 50.0547 & 0.01033100 & 0.990378 & NA & 0 & 50.1311\\\\\n",
       "\\end{tabular}\n"
      ],
      "text/markdown": [
       "\n",
       "A data.frame: 6 × 63\n",
       "\n",
       "| <!--/--> | SAMPID &lt;chr&gt; | SMATSSCR &lt;dbl&gt; | SMCENTER &lt;chr&gt; | SMPTHNTS &lt;chr&gt; | SMRIN &lt;dbl&gt; | SMTS &lt;chr&gt; | SMTSD &lt;chr&gt; | SMUBRID &lt;chr&gt; | SMTSISCH &lt;dbl&gt; | SMTSPAX &lt;dbl&gt; | ⋯ ⋯ | SME1ANTI &lt;dbl&gt; | SMSPLTRD &lt;dbl&gt; | SMBSMMRT &lt;dbl&gt; | SME1SNSE &lt;dbl&gt; | SME1PCTS &lt;dbl&gt; | SMRRNART &lt;dbl&gt; | SME1MPRT &lt;dbl&gt; | SMNUM5CD &lt;lgl&gt; | SMDPMPRT &lt;dbl&gt; | SME2PCTS &lt;dbl&gt; |\n",
       "|---|---|---|---|---|---|---|---|---|---|---|---|---|---|---|---|---|---|---|---|---|---|\n",
       "| 1 | GTEX-1117F-0226-SM-5GZZ7 | 0 | B1 | 2 pieces, ~15% vessel stroma, rep delineated                                       | 6.8 | Adipose Tissue | Adipose - Subcutaneous       | 0002190 | 1214 | 1125 | ⋯ | 14648800 | 11999300 | 0.00315785 | 14669500 | 50.0354 | 0.00310538 | 0.994740 | NA | 0 | 50.1944 |\n",
       "| 2 | GTEX-1117F-0426-SM-5EGHI | 0 | B1 | 2 pieces, !5% fibrous connective tissue, delineated (rep)                          | 7.1 | Muscle         | Muscle - Skeletal            | 0011907 | 1220 | 1119 | ⋯ | 13191500 | 11550200 | 0.00396788 | 13340500 | 50.2809 | 0.00699464 | 0.995041 | NA | 0 | 49.9455 |\n",
       "| 3 | GTEX-1117F-0526-SM-5EGHJ | 0 | B1 | 2 pieces, clean, Monckebeg medial sclerosis, rep delineated                        | 8.0 | Blood Vessel   | Artery - Tibial              | 0007610 | 1221 | 1120 | ⋯ | 13175400 | 11000300 | 0.00427126 | 13150900 | 49.9535 | 0.00286826 | 0.994001 | NA | 0 | 50.2667 |\n",
       "| 4 | GTEX-1117F-0626-SM-5N9CS | 1 | B1 | 2 pieces, up to 4mm aderent fat/nerve/vessel, delineated                           | 6.9 | Blood Vessel   | Artery - Coronary            | 0001621 | 1243 | 1098 | ⋯ | 15164200 | 11617900 | 0.00336188 | 15291900 | 50.2096 | 0.00533653 | 0.992257 | NA | 0 | 50.0865 |\n",
       "| 5 | GTEX-1117F-0726-SM-5GIEN | 1 | B1 | 2 pieces, no abnormalities                                                         | 6.3 | Heart          | Heart - Atrial Appendage     | 0006631 | 1244 | 1097 | ⋯ | 13627100 |  9266070 | 0.00344234 | 13756700 | 50.2367 | 0.03058410 | 0.995711 | NA | 0 | 49.9563 |\n",
       "| 6 | GTEX-1117F-1326-SM-5EGHH | 1 | B1 | 2 pieces, diffuse mesothelial hyperplasia; ~10% vessel/fibrous tissue (delineated) | 5.9 | Adipose Tissue | Adipose - Visceral (Omentum) | 0010414 | 1277 | 1066 | ⋯ | 13379400 |  9631060 | 0.00485657 | 13408700 | 50.0547 | 0.01033100 | 0.990378 | NA | 0 | 50.1311 |\n",
       "\n"
      ],
      "text/plain": [
       "  SAMPID                   SMATSSCR SMCENTER\n",
       "1 GTEX-1117F-0226-SM-5GZZ7 0        B1      \n",
       "2 GTEX-1117F-0426-SM-5EGHI 0        B1      \n",
       "3 GTEX-1117F-0526-SM-5EGHJ 0        B1      \n",
       "4 GTEX-1117F-0626-SM-5N9CS 1        B1      \n",
       "5 GTEX-1117F-0726-SM-5GIEN 1        B1      \n",
       "6 GTEX-1117F-1326-SM-5EGHH 1        B1      \n",
       "  SMPTHNTS                                                                          \n",
       "1 2 pieces, ~15% vessel stroma, rep delineated                                      \n",
       "2 2 pieces, !5% fibrous connective tissue, delineated (rep)                         \n",
       "3 2 pieces, clean, Monckebeg medial sclerosis, rep delineated                       \n",
       "4 2 pieces, up to 4mm aderent fat/nerve/vessel, delineated                          \n",
       "5 2 pieces, no abnormalities                                                        \n",
       "6 2 pieces, diffuse mesothelial hyperplasia; ~10% vessel/fibrous tissue (delineated)\n",
       "  SMRIN SMTS           SMTSD                        SMUBRID SMTSISCH SMTSPAX ⋯\n",
       "1 6.8   Adipose Tissue Adipose - Subcutaneous       0002190 1214     1125    ⋯\n",
       "2 7.1   Muscle         Muscle - Skeletal            0011907 1220     1119    ⋯\n",
       "3 8.0   Blood Vessel   Artery - Tibial              0007610 1221     1120    ⋯\n",
       "4 6.9   Blood Vessel   Artery - Coronary            0001621 1243     1098    ⋯\n",
       "5 6.3   Heart          Heart - Atrial Appendage     0006631 1244     1097    ⋯\n",
       "6 5.9   Adipose Tissue Adipose - Visceral (Omentum) 0010414 1277     1066    ⋯\n",
       "  SME1ANTI SMSPLTRD SMBSMMRT   SME1SNSE SME1PCTS SMRRNART   SME1MPRT SMNUM5CD\n",
       "1 14648800 11999300 0.00315785 14669500 50.0354  0.00310538 0.994740 NA      \n",
       "2 13191500 11550200 0.00396788 13340500 50.2809  0.00699464 0.995041 NA      \n",
       "3 13175400 11000300 0.00427126 13150900 49.9535  0.00286826 0.994001 NA      \n",
       "4 15164200 11617900 0.00336188 15291900 50.2096  0.00533653 0.992257 NA      \n",
       "5 13627100  9266070 0.00344234 13756700 50.2367  0.03058410 0.995711 NA      \n",
       "6 13379400  9631060 0.00485657 13408700 50.0547  0.01033100 0.990378 NA      \n",
       "  SMDPMPRT SME2PCTS\n",
       "1 0        50.1944 \n",
       "2 0        49.9455 \n",
       "3 0        50.2667 \n",
       "4 0        50.0865 \n",
       "5 0        49.9563 \n",
       "6 0        50.1311 "
      ]
     },
     "metadata": {},
     "output_type": "display_data"
    }
   ],
   "source": [
    "head(allTraits)"
   ]
  },
  {
   "cell_type": "code",
   "execution_count": 36,
   "metadata": {},
   "outputs": [
    {
     "data": {
      "text/html": [
       "<table>\n",
       "<caption>A data.frame: 6 × 2</caption>\n",
       "<thead>\n",
       "\t<tr><th></th><th scope=col>SMTS</th><th scope=col>SMTSD</th></tr>\n",
       "\t<tr><th></th><th scope=col>&lt;chr&gt;</th><th scope=col>&lt;chr&gt;</th></tr>\n",
       "</thead>\n",
       "<tbody>\n",
       "\t<tr><th scope=row>GTEX-1GZ2Q-0011-R6a-SM-9OSWM</th><td>Brain</td><td>Brain - Nucleus accumbens (basal ganglia)</td></tr>\n",
       "\t<tr><th scope=row>GTEX-RU72-0011-R5A-SM-2TF6U</th><td>Brain</td><td>Brain - Caudate (basal ganglia)          </td></tr>\n",
       "\t<tr><th scope=row>GTEX-WHSE-0011-R3A-SM-3P5ZM</th><td>Brain</td><td>Brain - Anterior cingulate cortex (BA24) </td></tr>\n",
       "\t<tr><th scope=row>GTEX-14PQA-0011-R1b-SM-6EU1G</th><td>Brain</td><td>Brain - Hippocampus                      </td></tr>\n",
       "\t<tr><th scope=row>GTEX-13CF2-0011-R1a-SM-5LZY1</th><td>Brain</td><td>Brain - Hippocampus                      </td></tr>\n",
       "\t<tr><th scope=row>GTEX-1B8L1-0011-R10b-SM-7P8Q4</th><td>Brain</td><td>Brain - Frontal Cortex (BA9)             </td></tr>\n",
       "</tbody>\n",
       "</table>\n"
      ],
      "text/latex": [
       "A data.frame: 6 × 2\n",
       "\\begin{tabular}{r|ll}\n",
       "  & SMTS & SMTSD\\\\\n",
       "  & <chr> & <chr>\\\\\n",
       "\\hline\n",
       "\tGTEX-1GZ2Q-0011-R6a-SM-9OSWM & Brain & Brain - Nucleus accumbens (basal ganglia)\\\\\n",
       "\tGTEX-RU72-0011-R5A-SM-2TF6U & Brain & Brain - Caudate (basal ganglia)          \\\\\n",
       "\tGTEX-WHSE-0011-R3A-SM-3P5ZM & Brain & Brain - Anterior cingulate cortex (BA24) \\\\\n",
       "\tGTEX-14PQA-0011-R1b-SM-6EU1G & Brain & Brain - Hippocampus                      \\\\\n",
       "\tGTEX-13CF2-0011-R1a-SM-5LZY1 & Brain & Brain - Hippocampus                      \\\\\n",
       "\tGTEX-1B8L1-0011-R10b-SM-7P8Q4 & Brain & Brain - Frontal Cortex (BA9)             \\\\\n",
       "\\end{tabular}\n"
      ],
      "text/markdown": [
       "\n",
       "A data.frame: 6 × 2\n",
       "\n",
       "| <!--/--> | SMTS &lt;chr&gt; | SMTSD &lt;chr&gt; |\n",
       "|---|---|---|\n",
       "| GTEX-1GZ2Q-0011-R6a-SM-9OSWM | Brain | Brain - Nucleus accumbens (basal ganglia) |\n",
       "| GTEX-RU72-0011-R5A-SM-2TF6U | Brain | Brain - Caudate (basal ganglia)           |\n",
       "| GTEX-WHSE-0011-R3A-SM-3P5ZM | Brain | Brain - Anterior cingulate cortex (BA24)  |\n",
       "| GTEX-14PQA-0011-R1b-SM-6EU1G | Brain | Brain - Hippocampus                       |\n",
       "| GTEX-13CF2-0011-R1a-SM-5LZY1 | Brain | Brain - Hippocampus                       |\n",
       "| GTEX-1B8L1-0011-R10b-SM-7P8Q4 | Brain | Brain - Frontal Cortex (BA9)              |\n",
       "\n"
      ],
      "text/plain": [
       "                              SMTS  SMTSD                                    \n",
       "GTEX-1GZ2Q-0011-R6a-SM-9OSWM  Brain Brain - Nucleus accumbens (basal ganglia)\n",
       "GTEX-RU72-0011-R5A-SM-2TF6U   Brain Brain - Caudate (basal ganglia)          \n",
       "GTEX-WHSE-0011-R3A-SM-3P5ZM   Brain Brain - Anterior cingulate cortex (BA24) \n",
       "GTEX-14PQA-0011-R1b-SM-6EU1G  Brain Brain - Hippocampus                      \n",
       "GTEX-13CF2-0011-R1a-SM-5LZY1  Brain Brain - Hippocampus                      \n",
       "GTEX-1B8L1-0011-R10b-SM-7P8Q4 Brain Brain - Frontal Cortex (BA9)             "
      ]
     },
     "metadata": {},
     "output_type": "display_data"
    }
   ],
   "source": [
    "#labels <- c('primary_site', 'malignacy', 'disease_type', 'stage')\n",
    "#labels <- c('cases.0.project.primary_site', 'cases.0.project.disease_type')\n",
    "labels <- c('SMTS', 'SMTSD')\n",
    "datTraits <- allTraits[,labels]\n",
    "rownames(datTraits) <- allTraits$SAMPID\n",
    "datTraits <- datTraits[rownames(datExpr),]\n",
    "head(datTraits)"
   ]
  },
  {
   "cell_type": "code",
   "execution_count": 37,
   "metadata": {},
   "outputs": [
    {
     "data": {
      "text/plain": [
       "< table of extent 0 >"
      ]
     },
     "metadata": {},
     "output_type": "display_data"
    }
   ],
   "source": [
    "table( dimnames(datExpr)[[1]]==datTraits$file_name)"
   ]
  },
  {
   "cell_type": "code",
   "execution_count": 38,
   "metadata": {},
   "outputs": [],
   "source": [
    "y = datTraits$primary_site"
   ]
  },
  {
   "cell_type": "code",
   "execution_count": 39,
   "metadata": {},
   "outputs": [],
   "source": [
    "meanExpressionBySample=apply( datExpr,1,mean, na.rm=T)\n",
    "NumberMissingBySample=apply( is.na(data.frame(datExpr)),1, sum)"
   ]
  },
  {
   "cell_type": "markdown",
   "metadata": {},
   "source": [
    "## 1"
   ]
  },
  {
   "cell_type": "code",
   "execution_count": 17,
   "metadata": {},
   "outputs": [
    {
     "name": "stdout",
     "output_type": "stream",
     "text": [
      " Flagging genes and samples with too many missing values...\n",
      "  ..step 1\n"
     ]
    },
    {
     "data": {
      "text/html": [
       "TRUE"
      ],
      "text/latex": [
       "TRUE"
      ],
      "text/markdown": [
       "TRUE"
      ],
      "text/plain": [
       "[1] TRUE"
      ]
     },
     "metadata": {},
     "output_type": "display_data"
    }
   ],
   "source": [
    "gsg = goodSamplesGenes(datExpr, verbose = 3);\n",
    "gsg$allOK"
   ]
  },
  {
   "cell_type": "code",
   "execution_count": 18,
   "metadata": {},
   "outputs": [
    {
     "data": {
      "text/html": [
       "<strong>png:</strong> 2"
      ],
      "text/latex": [
       "\\textbf{png:} 2"
      ],
      "text/markdown": [
       "**png:** 2"
      ],
      "text/plain": [
       "png \n",
       "  2 "
      ]
     },
     "metadata": {},
     "output_type": "display_data"
    }
   ],
   "source": [
    "sampleTree = hclust(dist(datExpr), method = \"average\");\n",
    "# Plot the sample tree: Open a graphic output window of size 12 by 9 inches\n",
    "# The user should change the dimensions if the window is too large or too small.\n",
    "sizeGrWindow(12,9)\n",
    "svg(\"samplehier.svg\")\n",
    "par(cex = 0.6);\n",
    "par(mar = c(0,4,2,0))\n",
    "plot(sampleTree, main = \"Sample clustering to detect outliers\", sub=\"\", xlab=\"\", cex.lab = 1.5,\n",
    "cex.axis = 1.5, cex.main = 2)\n",
    "dev.off()"
   ]
  },
  {
   "cell_type": "code",
   "execution_count": 26,
   "metadata": {},
   "outputs": [
    {
     "data": {
      "text/plain": [
       "clust\n",
       "  1   2 \n",
       "919  81 "
      ]
     },
     "metadata": {},
     "output_type": "display_data"
    }
   ],
   "source": [
    "# Determine cluster under the line\n",
    "clust = cutreeStatic(sampleTree, cutHeight = 83, minSize = 10)\n",
    "table(clust)"
   ]
  },
  {
   "cell_type": "code",
   "execution_count": 40,
   "metadata": {},
   "outputs": [],
   "source": [
    "# clust 1 contains the samples we want to keep.\n",
    "keepSamples = (clust==1)\n",
    "datExpr = datExpr[keepSamples, ]\n",
    "nGenes = ncol(datExpr)\n",
    "nSamples = nrow(datExpr)\n",
    "\n",
    "genes <- dimnames(datExpr)[[2]]\n",
    "samples <- dimnames(datExpr)[[1]]\n",
    "datExpr <- as.data.frame(apply(datExpr,2, as.numeric)) #numeric\n",
    "dimnames(datExpr)[[1]] <- samples"
   ]
  },
  {
   "cell_type": "code",
   "execution_count": 41,
   "metadata": {},
   "outputs": [
    {
     "data": {
      "text/html": [
       "<table>\n",
       "<caption>A data.frame: 6 × 3000</caption>\n",
       "<thead>\n",
       "\t<tr><th></th><th scope=col>ENSG00000268903.1</th><th scope=col>ENSG00000269981.1</th><th scope=col>ENSG00000250575.1</th><th scope=col>ENSG00000225972.1</th><th scope=col>ENSG00000229344.1</th><th scope=col>ENSG00000198744.5</th><th scope=col>ENSG00000205116.3</th><th scope=col>ENSG00000178821.12</th><th scope=col>ENSG00000233542.1</th><th scope=col>ENSG00000187730.8</th><th scope=col>⋯</th><th scope=col>ENSG00000210117.1</th><th scope=col>ENSG00000210127.1</th><th scope=col>ENSG00000210140.1</th><th scope=col>ENSG00000210144.1</th><th scope=col>ENSG00000210154.1</th><th scope=col>ENSG00000210156.1</th><th scope=col>ENSG00000210176.1</th><th scope=col>ENSG00000210191.1</th><th scope=col>ENSG00000210195.2</th><th scope=col>ENSG00000210196.2</th></tr>\n",
       "\t<tr><th></th><th scope=col>&lt;dbl&gt;</th><th scope=col>&lt;dbl&gt;</th><th scope=col>&lt;dbl&gt;</th><th scope=col>&lt;dbl&gt;</th><th scope=col>&lt;dbl&gt;</th><th scope=col>&lt;dbl&gt;</th><th scope=col>&lt;dbl&gt;</th><th scope=col>&lt;dbl&gt;</th><th scope=col>&lt;dbl&gt;</th><th scope=col>&lt;dbl&gt;</th><th scope=col>⋯</th><th scope=col>&lt;dbl&gt;</th><th scope=col>&lt;dbl&gt;</th><th scope=col>&lt;dbl&gt;</th><th scope=col>&lt;dbl&gt;</th><th scope=col>&lt;dbl&gt;</th><th scope=col>&lt;dbl&gt;</th><th scope=col>&lt;dbl&gt;</th><th scope=col>&lt;dbl&gt;</th><th scope=col>&lt;dbl&gt;</th><th scope=col>&lt;dbl&gt;</th></tr>\n",
       "</thead>\n",
       "<tbody>\n",
       "\t<tr><th scope=row>GTEX-1GZ2Q-0011-R6a-SM-9OSWM</th><td>1.5407307</td><td>1.0756848</td><td>0.04130508</td><td>3.384729</td><td>4.648230</td><td>3.467297</td><td>1.807797</td><td>1.0024684</td><td>0.68783309</td><td>3.880326</td><td>⋯</td><td>1.0719260</td><td>0.9218751</td><td>1.438650</td><td>2.286659</td><td>2.1161350</td><td>1.284262</td><td>2.056045</td><td>1.7549226</td><td>1.517761</td><td>0.9309823</td></tr>\n",
       "\t<tr><th scope=row>GTEX-RU72-0011-R5A-SM-2TF6U</th><td>0.5387131</td><td>0.9234649</td><td>0.00000000</td><td>4.357606</td><td>4.573163</td><td>4.576153</td><td>2.289804</td><td>0.8763017</td><td>0.49127576</td><td>3.944490</td><td>⋯</td><td>3.2414198</td><td>1.2068686</td><td>1.787584</td><td>1.917511</td><td>2.5564518</td><td>2.466403</td><td>5.306781</td><td>2.9156062</td><td>1.774783</td><td>1.7500690</td></tr>\n",
       "\t<tr><th scope=row>GTEX-WHSE-0011-R3A-SM-3P5ZM</th><td>1.6813864</td><td>1.8539515</td><td>0.00000000</td><td>2.824944</td><td>3.551053</td><td>3.895690</td><td>2.185377</td><td>1.3974816</td><td>1.14708494</td><td>4.002229</td><td>⋯</td><td>0.5388298</td><td>0.3014370</td><td>1.053266</td><td>1.175882</td><td>0.5388298</td><td>1.005766</td><td>1.338941</td><td>0.7060634</td><td>1.043452</td><td>0.7280316</td></tr>\n",
       "\t<tr><th scope=row>GTEX-14PQA-0011-R1b-SM-6EU1G</th><td>1.0888986</td><td>1.4068320</td><td>0.00000000</td><td>2.663053</td><td>3.461037</td><td>3.312730</td><td>3.896300</td><td>0.7738051</td><td>0.26136376</td><td>2.066989</td><td>⋯</td><td>1.3872939</td><td>1.1362292</td><td>1.854265</td><td>2.155476</td><td>1.9470524</td><td>1.859262</td><td>1.934560</td><td>4.1762317</td><td>1.295549</td><td>1.2739652</td></tr>\n",
       "\t<tr><th scope=row>GTEX-13CF2-0011-R1a-SM-5LZY1</th><td>0.6294616</td><td>0.3673478</td><td>0.00000000</td><td>2.986187</td><td>3.395850</td><td>4.100989</td><td>2.573375</td><td>0.3361150</td><td>0.06252399</td><td>1.214319</td><td>⋯</td><td>1.3299885</td><td>2.5556757</td><td>2.679651</td><td>3.553632</td><td>1.8812954</td><td>1.924687</td><td>2.402430</td><td>1.6084374</td><td>3.794590</td><td>2.2346274</td></tr>\n",
       "\t<tr><th scope=row>GTEX-1B8L1-0011-R10b-SM-7P8Q4</th><td>1.7003749</td><td>1.4544202</td><td>0.01863528</td><td>3.180135</td><td>3.350255</td><td>3.110399</td><td>1.941328</td><td>0.9738046</td><td>0.97757396</td><td>4.969119</td><td>⋯</td><td>1.9207389</td><td>0.8548408</td><td>0.730443</td><td>1.352738</td><td>1.5623463</td><td>1.896119</td><td>1.550749</td><td>0.8385454</td><td>1.244731</td><td>2.0163686</td></tr>\n",
       "</tbody>\n",
       "</table>\n"
      ],
      "text/latex": [
       "A data.frame: 6 × 3000\n",
       "\\begin{tabular}{r|lllllllllllllllllllll}\n",
       "  & ENSG00000268903.1 & ENSG00000269981.1 & ENSG00000250575.1 & ENSG00000225972.1 & ENSG00000229344.1 & ENSG00000198744.5 & ENSG00000205116.3 & ENSG00000178821.12 & ENSG00000233542.1 & ENSG00000187730.8 & ⋯ & ENSG00000210117.1 & ENSG00000210127.1 & ENSG00000210140.1 & ENSG00000210144.1 & ENSG00000210154.1 & ENSG00000210156.1 & ENSG00000210176.1 & ENSG00000210191.1 & ENSG00000210195.2 & ENSG00000210196.2\\\\\n",
       "  & <dbl> & <dbl> & <dbl> & <dbl> & <dbl> & <dbl> & <dbl> & <dbl> & <dbl> & <dbl> & ⋯ & <dbl> & <dbl> & <dbl> & <dbl> & <dbl> & <dbl> & <dbl> & <dbl> & <dbl> & <dbl>\\\\\n",
       "\\hline\n",
       "\tGTEX-1GZ2Q-0011-R6a-SM-9OSWM & 1.5407307 & 1.0756848 & 0.04130508 & 3.384729 & 4.648230 & 3.467297 & 1.807797 & 1.0024684 & 0.68783309 & 3.880326 & ⋯ & 1.0719260 & 0.9218751 & 1.438650 & 2.286659 & 2.1161350 & 1.284262 & 2.056045 & 1.7549226 & 1.517761 & 0.9309823\\\\\n",
       "\tGTEX-RU72-0011-R5A-SM-2TF6U & 0.5387131 & 0.9234649 & 0.00000000 & 4.357606 & 4.573163 & 4.576153 & 2.289804 & 0.8763017 & 0.49127576 & 3.944490 & ⋯ & 3.2414198 & 1.2068686 & 1.787584 & 1.917511 & 2.5564518 & 2.466403 & 5.306781 & 2.9156062 & 1.774783 & 1.7500690\\\\\n",
       "\tGTEX-WHSE-0011-R3A-SM-3P5ZM & 1.6813864 & 1.8539515 & 0.00000000 & 2.824944 & 3.551053 & 3.895690 & 2.185377 & 1.3974816 & 1.14708494 & 4.002229 & ⋯ & 0.5388298 & 0.3014370 & 1.053266 & 1.175882 & 0.5388298 & 1.005766 & 1.338941 & 0.7060634 & 1.043452 & 0.7280316\\\\\n",
       "\tGTEX-14PQA-0011-R1b-SM-6EU1G & 1.0888986 & 1.4068320 & 0.00000000 & 2.663053 & 3.461037 & 3.312730 & 3.896300 & 0.7738051 & 0.26136376 & 2.066989 & ⋯ & 1.3872939 & 1.1362292 & 1.854265 & 2.155476 & 1.9470524 & 1.859262 & 1.934560 & 4.1762317 & 1.295549 & 1.2739652\\\\\n",
       "\tGTEX-13CF2-0011-R1a-SM-5LZY1 & 0.6294616 & 0.3673478 & 0.00000000 & 2.986187 & 3.395850 & 4.100989 & 2.573375 & 0.3361150 & 0.06252399 & 1.214319 & ⋯ & 1.3299885 & 2.5556757 & 2.679651 & 3.553632 & 1.8812954 & 1.924687 & 2.402430 & 1.6084374 & 3.794590 & 2.2346274\\\\\n",
       "\tGTEX-1B8L1-0011-R10b-SM-7P8Q4 & 1.7003749 & 1.4544202 & 0.01863528 & 3.180135 & 3.350255 & 3.110399 & 1.941328 & 0.9738046 & 0.97757396 & 4.969119 & ⋯ & 1.9207389 & 0.8548408 & 0.730443 & 1.352738 & 1.5623463 & 1.896119 & 1.550749 & 0.8385454 & 1.244731 & 2.0163686\\\\\n",
       "\\end{tabular}\n"
      ],
      "text/markdown": [
       "\n",
       "A data.frame: 6 × 3000\n",
       "\n",
       "| <!--/--> | ENSG00000268903.1 &lt;dbl&gt; | ENSG00000269981.1 &lt;dbl&gt; | ENSG00000250575.1 &lt;dbl&gt; | ENSG00000225972.1 &lt;dbl&gt; | ENSG00000229344.1 &lt;dbl&gt; | ENSG00000198744.5 &lt;dbl&gt; | ENSG00000205116.3 &lt;dbl&gt; | ENSG00000178821.12 &lt;dbl&gt; | ENSG00000233542.1 &lt;dbl&gt; | ENSG00000187730.8 &lt;dbl&gt; | ⋯ ⋯ | ENSG00000210117.1 &lt;dbl&gt; | ENSG00000210127.1 &lt;dbl&gt; | ENSG00000210140.1 &lt;dbl&gt; | ENSG00000210144.1 &lt;dbl&gt; | ENSG00000210154.1 &lt;dbl&gt; | ENSG00000210156.1 &lt;dbl&gt; | ENSG00000210176.1 &lt;dbl&gt; | ENSG00000210191.1 &lt;dbl&gt; | ENSG00000210195.2 &lt;dbl&gt; | ENSG00000210196.2 &lt;dbl&gt; |\n",
       "|---|---|---|---|---|---|---|---|---|---|---|---|---|---|---|---|---|---|---|---|---|---|\n",
       "| GTEX-1GZ2Q-0011-R6a-SM-9OSWM | 1.5407307 | 1.0756848 | 0.04130508 | 3.384729 | 4.648230 | 3.467297 | 1.807797 | 1.0024684 | 0.68783309 | 3.880326 | ⋯ | 1.0719260 | 0.9218751 | 1.438650 | 2.286659 | 2.1161350 | 1.284262 | 2.056045 | 1.7549226 | 1.517761 | 0.9309823 |\n",
       "| GTEX-RU72-0011-R5A-SM-2TF6U | 0.5387131 | 0.9234649 | 0.00000000 | 4.357606 | 4.573163 | 4.576153 | 2.289804 | 0.8763017 | 0.49127576 | 3.944490 | ⋯ | 3.2414198 | 1.2068686 | 1.787584 | 1.917511 | 2.5564518 | 2.466403 | 5.306781 | 2.9156062 | 1.774783 | 1.7500690 |\n",
       "| GTEX-WHSE-0011-R3A-SM-3P5ZM | 1.6813864 | 1.8539515 | 0.00000000 | 2.824944 | 3.551053 | 3.895690 | 2.185377 | 1.3974816 | 1.14708494 | 4.002229 | ⋯ | 0.5388298 | 0.3014370 | 1.053266 | 1.175882 | 0.5388298 | 1.005766 | 1.338941 | 0.7060634 | 1.043452 | 0.7280316 |\n",
       "| GTEX-14PQA-0011-R1b-SM-6EU1G | 1.0888986 | 1.4068320 | 0.00000000 | 2.663053 | 3.461037 | 3.312730 | 3.896300 | 0.7738051 | 0.26136376 | 2.066989 | ⋯ | 1.3872939 | 1.1362292 | 1.854265 | 2.155476 | 1.9470524 | 1.859262 | 1.934560 | 4.1762317 | 1.295549 | 1.2739652 |\n",
       "| GTEX-13CF2-0011-R1a-SM-5LZY1 | 0.6294616 | 0.3673478 | 0.00000000 | 2.986187 | 3.395850 | 4.100989 | 2.573375 | 0.3361150 | 0.06252399 | 1.214319 | ⋯ | 1.3299885 | 2.5556757 | 2.679651 | 3.553632 | 1.8812954 | 1.924687 | 2.402430 | 1.6084374 | 3.794590 | 2.2346274 |\n",
       "| GTEX-1B8L1-0011-R10b-SM-7P8Q4 | 1.7003749 | 1.4544202 | 0.01863528 | 3.180135 | 3.350255 | 3.110399 | 1.941328 | 0.9738046 | 0.97757396 | 4.969119 | ⋯ | 1.9207389 | 0.8548408 | 0.730443 | 1.352738 | 1.5623463 | 1.896119 | 1.550749 | 0.8385454 | 1.244731 | 2.0163686 |\n",
       "\n"
      ],
      "text/plain": [
       "                              ENSG00000268903.1 ENSG00000269981.1\n",
       "GTEX-1GZ2Q-0011-R6a-SM-9OSWM  1.5407307         1.0756848        \n",
       "GTEX-RU72-0011-R5A-SM-2TF6U   0.5387131         0.9234649        \n",
       "GTEX-WHSE-0011-R3A-SM-3P5ZM   1.6813864         1.8539515        \n",
       "GTEX-14PQA-0011-R1b-SM-6EU1G  1.0888986         1.4068320        \n",
       "GTEX-13CF2-0011-R1a-SM-5LZY1  0.6294616         0.3673478        \n",
       "GTEX-1B8L1-0011-R10b-SM-7P8Q4 1.7003749         1.4544202        \n",
       "                              ENSG00000250575.1 ENSG00000225972.1\n",
       "GTEX-1GZ2Q-0011-R6a-SM-9OSWM  0.04130508        3.384729         \n",
       "GTEX-RU72-0011-R5A-SM-2TF6U   0.00000000        4.357606         \n",
       "GTEX-WHSE-0011-R3A-SM-3P5ZM   0.00000000        2.824944         \n",
       "GTEX-14PQA-0011-R1b-SM-6EU1G  0.00000000        2.663053         \n",
       "GTEX-13CF2-0011-R1a-SM-5LZY1  0.00000000        2.986187         \n",
       "GTEX-1B8L1-0011-R10b-SM-7P8Q4 0.01863528        3.180135         \n",
       "                              ENSG00000229344.1 ENSG00000198744.5\n",
       "GTEX-1GZ2Q-0011-R6a-SM-9OSWM  4.648230          3.467297         \n",
       "GTEX-RU72-0011-R5A-SM-2TF6U   4.573163          4.576153         \n",
       "GTEX-WHSE-0011-R3A-SM-3P5ZM   3.551053          3.895690         \n",
       "GTEX-14PQA-0011-R1b-SM-6EU1G  3.461037          3.312730         \n",
       "GTEX-13CF2-0011-R1a-SM-5LZY1  3.395850          4.100989         \n",
       "GTEX-1B8L1-0011-R10b-SM-7P8Q4 3.350255          3.110399         \n",
       "                              ENSG00000205116.3 ENSG00000178821.12\n",
       "GTEX-1GZ2Q-0011-R6a-SM-9OSWM  1.807797          1.0024684         \n",
       "GTEX-RU72-0011-R5A-SM-2TF6U   2.289804          0.8763017         \n",
       "GTEX-WHSE-0011-R3A-SM-3P5ZM   2.185377          1.3974816         \n",
       "GTEX-14PQA-0011-R1b-SM-6EU1G  3.896300          0.7738051         \n",
       "GTEX-13CF2-0011-R1a-SM-5LZY1  2.573375          0.3361150         \n",
       "GTEX-1B8L1-0011-R10b-SM-7P8Q4 1.941328          0.9738046         \n",
       "                              ENSG00000233542.1 ENSG00000187730.8 ⋯\n",
       "GTEX-1GZ2Q-0011-R6a-SM-9OSWM  0.68783309        3.880326          ⋯\n",
       "GTEX-RU72-0011-R5A-SM-2TF6U   0.49127576        3.944490          ⋯\n",
       "GTEX-WHSE-0011-R3A-SM-3P5ZM   1.14708494        4.002229          ⋯\n",
       "GTEX-14PQA-0011-R1b-SM-6EU1G  0.26136376        2.066989          ⋯\n",
       "GTEX-13CF2-0011-R1a-SM-5LZY1  0.06252399        1.214319          ⋯\n",
       "GTEX-1B8L1-0011-R10b-SM-7P8Q4 0.97757396        4.969119          ⋯\n",
       "                              ENSG00000210117.1 ENSG00000210127.1\n",
       "GTEX-1GZ2Q-0011-R6a-SM-9OSWM  1.0719260         0.9218751        \n",
       "GTEX-RU72-0011-R5A-SM-2TF6U   3.2414198         1.2068686        \n",
       "GTEX-WHSE-0011-R3A-SM-3P5ZM   0.5388298         0.3014370        \n",
       "GTEX-14PQA-0011-R1b-SM-6EU1G  1.3872939         1.1362292        \n",
       "GTEX-13CF2-0011-R1a-SM-5LZY1  1.3299885         2.5556757        \n",
       "GTEX-1B8L1-0011-R10b-SM-7P8Q4 1.9207389         0.8548408        \n",
       "                              ENSG00000210140.1 ENSG00000210144.1\n",
       "GTEX-1GZ2Q-0011-R6a-SM-9OSWM  1.438650          2.286659         \n",
       "GTEX-RU72-0011-R5A-SM-2TF6U   1.787584          1.917511         \n",
       "GTEX-WHSE-0011-R3A-SM-3P5ZM   1.053266          1.175882         \n",
       "GTEX-14PQA-0011-R1b-SM-6EU1G  1.854265          2.155476         \n",
       "GTEX-13CF2-0011-R1a-SM-5LZY1  2.679651          3.553632         \n",
       "GTEX-1B8L1-0011-R10b-SM-7P8Q4 0.730443          1.352738         \n",
       "                              ENSG00000210154.1 ENSG00000210156.1\n",
       "GTEX-1GZ2Q-0011-R6a-SM-9OSWM  2.1161350         1.284262         \n",
       "GTEX-RU72-0011-R5A-SM-2TF6U   2.5564518         2.466403         \n",
       "GTEX-WHSE-0011-R3A-SM-3P5ZM   0.5388298         1.005766         \n",
       "GTEX-14PQA-0011-R1b-SM-6EU1G  1.9470524         1.859262         \n",
       "GTEX-13CF2-0011-R1a-SM-5LZY1  1.8812954         1.924687         \n",
       "GTEX-1B8L1-0011-R10b-SM-7P8Q4 1.5623463         1.896119         \n",
       "                              ENSG00000210176.1 ENSG00000210191.1\n",
       "GTEX-1GZ2Q-0011-R6a-SM-9OSWM  2.056045          1.7549226        \n",
       "GTEX-RU72-0011-R5A-SM-2TF6U   5.306781          2.9156062        \n",
       "GTEX-WHSE-0011-R3A-SM-3P5ZM   1.338941          0.7060634        \n",
       "GTEX-14PQA-0011-R1b-SM-6EU1G  1.934560          4.1762317        \n",
       "GTEX-13CF2-0011-R1a-SM-5LZY1  2.402430          1.6084374        \n",
       "GTEX-1B8L1-0011-R10b-SM-7P8Q4 1.550749          0.8385454        \n",
       "                              ENSG00000210195.2 ENSG00000210196.2\n",
       "GTEX-1GZ2Q-0011-R6a-SM-9OSWM  1.517761          0.9309823        \n",
       "GTEX-RU72-0011-R5A-SM-2TF6U   1.774783          1.7500690        \n",
       "GTEX-WHSE-0011-R3A-SM-3P5ZM   1.043452          0.7280316        \n",
       "GTEX-14PQA-0011-R1b-SM-6EU1G  1.295549          1.2739652        \n",
       "GTEX-13CF2-0011-R1a-SM-5LZY1  3.794590          2.2346274        \n",
       "GTEX-1B8L1-0011-R10b-SM-7P8Q4 1.244731          2.0163686        "
      ]
     },
     "metadata": {},
     "output_type": "display_data"
    }
   ],
   "source": [
    "head(datExpr)"
   ]
  },
  {
   "cell_type": "code",
   "execution_count": 42,
   "metadata": {},
   "outputs": [
    {
     "data": {
      "text/html": [
       "<table>\n",
       "<caption>A data.frame: 6 × 2</caption>\n",
       "<thead>\n",
       "\t<tr><th></th><th scope=col>SMTS</th><th scope=col>SMTSD</th></tr>\n",
       "\t<tr><th></th><th scope=col>&lt;chr&gt;</th><th scope=col>&lt;chr&gt;</th></tr>\n",
       "</thead>\n",
       "<tbody>\n",
       "\t<tr><th scope=row>GTEX-1GZ2Q-0011-R6a-SM-9OSWM</th><td>Brain</td><td>Brain - Nucleus accumbens (basal ganglia)</td></tr>\n",
       "\t<tr><th scope=row>NA</th><td>NA   </td><td>NA                                       </td></tr>\n",
       "\t<tr><th scope=row>GTEX-WHSE-0011-R3A-SM-3P5ZM</th><td>Brain</td><td>Brain - Anterior cingulate cortex (BA24) </td></tr>\n",
       "\t<tr><th scope=row>GTEX-14PQA-0011-R1b-SM-6EU1G</th><td>Brain</td><td>Brain - Hippocampus                      </td></tr>\n",
       "\t<tr><th scope=row>GTEX-13CF2-0011-R1a-SM-5LZY1</th><td>Brain</td><td>Brain - Hippocampus                      </td></tr>\n",
       "\t<tr><th scope=row>GTEX-1B8L1-0011-R10b-SM-7P8Q4</th><td>Brain</td><td>Brain - Frontal Cortex (BA9)             </td></tr>\n",
       "</tbody>\n",
       "</table>\n"
      ],
      "text/latex": [
       "A data.frame: 6 × 2\n",
       "\\begin{tabular}{r|ll}\n",
       "  & SMTS & SMTSD\\\\\n",
       "  & <chr> & <chr>\\\\\n",
       "\\hline\n",
       "\tGTEX-1GZ2Q-0011-R6a-SM-9OSWM & Brain & Brain - Nucleus accumbens (basal ganglia)\\\\\n",
       "\tNA & NA    & NA                                       \\\\\n",
       "\tGTEX-WHSE-0011-R3A-SM-3P5ZM & Brain & Brain - Anterior cingulate cortex (BA24) \\\\\n",
       "\tGTEX-14PQA-0011-R1b-SM-6EU1G & Brain & Brain - Hippocampus                      \\\\\n",
       "\tGTEX-13CF2-0011-R1a-SM-5LZY1 & Brain & Brain - Hippocampus                      \\\\\n",
       "\tGTEX-1B8L1-0011-R10b-SM-7P8Q4 & Brain & Brain - Frontal Cortex (BA9)             \\\\\n",
       "\\end{tabular}\n"
      ],
      "text/markdown": [
       "\n",
       "A data.frame: 6 × 2\n",
       "\n",
       "| <!--/--> | SMTS &lt;chr&gt; | SMTSD &lt;chr&gt; |\n",
       "|---|---|---|\n",
       "| GTEX-1GZ2Q-0011-R6a-SM-9OSWM | Brain | Brain - Nucleus accumbens (basal ganglia) |\n",
       "| NA | NA    | NA                                        |\n",
       "| GTEX-WHSE-0011-R3A-SM-3P5ZM | Brain | Brain - Anterior cingulate cortex (BA24)  |\n",
       "| GTEX-14PQA-0011-R1b-SM-6EU1G | Brain | Brain - Hippocampus                       |\n",
       "| GTEX-13CF2-0011-R1a-SM-5LZY1 | Brain | Brain - Hippocampus                       |\n",
       "| GTEX-1B8L1-0011-R10b-SM-7P8Q4 | Brain | Brain - Frontal Cortex (BA9)              |\n",
       "\n"
      ],
      "text/plain": [
       "                              SMTS  SMTSD                                    \n",
       "GTEX-1GZ2Q-0011-R6a-SM-9OSWM  Brain Brain - Nucleus accumbens (basal ganglia)\n",
       "NA                            NA    NA                                       \n",
       "GTEX-WHSE-0011-R3A-SM-3P5ZM   Brain Brain - Anterior cingulate cortex (BA24) \n",
       "GTEX-14PQA-0011-R1b-SM-6EU1G  Brain Brain - Hippocampus                      \n",
       "GTEX-13CF2-0011-R1a-SM-5LZY1  Brain Brain - Hippocampus                      \n",
       "GTEX-1B8L1-0011-R10b-SM-7P8Q4 Brain Brain - Frontal Cortex (BA9)             "
      ]
     },
     "metadata": {},
     "output_type": "display_data"
    }
   ],
   "source": [
    "rownames(allTraits) <- allTraits$SAMPID\n",
    "datTraits <- allTraits[keepSamples,labels]\n",
    "rownames(datTraits) <- rownames(allTraits[keepSamples,labels])\n",
    "datTraits <- datTraits[rownames(datExpr),]\n",
    "head(datTraits)"
   ]
  },
  {
   "cell_type": "code",
   "execution_count": 43,
   "metadata": {},
   "outputs": [],
   "source": [
    "collectGarbage();"
   ]
  },
  {
   "cell_type": "code",
   "execution_count": 44,
   "metadata": {},
   "outputs": [
    {
     "name": "stderr",
     "output_type": "stream",
     "text": [
      "Warning message in ends - starts:\n",
      "“longer object length is not a multiple of shorter object length”\n",
      "Warning message in ends - starts:\n",
      "“longer object length is not a multiple of shorter object length”\n",
      "Warning message in ends - starts:\n",
      "“longer object length is not a multiple of shorter object length”\n",
      "Warning message in ends - starts:\n",
      "“longer object length is not a multiple of shorter object length”\n",
      "Warning message in ends - starts:\n",
      "“longer object length is not a multiple of shorter object length”\n",
      "Warning message in ends - starts:\n",
      "“longer object length is not a multiple of shorter object length”\n",
      "Warning message in ends - starts:\n",
      "“longer object length is not a multiple of shorter object length”\n",
      "Warning message in ends - starts:\n",
      "“longer object length is not a multiple of shorter object length”\n",
      "Warning message in ends - starts:\n",
      "“longer object length is not a multiple of shorter object length”\n",
      "Warning message in ends - starts:\n",
      "“longer object length is not a multiple of shorter object length”\n",
      "Warning message in ends - starts:\n",
      "“longer object length is not a multiple of shorter object length”\n",
      "Warning message in ends - starts:\n",
      "“longer object length is not a multiple of shorter object length”\n"
     ]
    },
    {
     "data": {
      "text/html": [
       "<strong>png:</strong> 2"
      ],
      "text/latex": [
       "\\textbf{png:} 2"
      ],
      "text/markdown": [
       "**png:** 2"
      ],
      "text/plain": [
       "png \n",
       "  2 "
      ]
     },
     "metadata": {},
     "output_type": "display_data"
    }
   ],
   "source": [
    "# Re-cluster samples\n",
    "sampleTree2 = hclust(dist(datExpr), method = \"average\")\n",
    "fontsize=.5\n",
    "# Convert traits to a color representation: white means low, red means high, grey means missing entry\n",
    "traitColors = labels2colors(datTraits);\n",
    "# Plot the sample dendrogram and the colors underneath.\n",
    "pdf(\"samplehiercut.pdf\")\n",
    "plotDendroAndColors(sampleTree2, traitColors,\n",
    "    groupLabels = labels,\n",
    "    main = \"Sample dendrogram and trait heatmap\",\n",
    "    dendroLabels=FALSE,\n",
    "    rowText=datTraits,\n",
    "    rowTextIgnore=labels[[2]]\n",
    "    )\n",
    "dev.off()"
   ]
  },
  {
   "cell_type": "markdown",
   "metadata": {},
   "source": [
    "## 2"
   ]
  },
  {
   "cell_type": "code",
   "execution_count": 45,
   "metadata": {},
   "outputs": [
    {
     "name": "stdout",
     "output_type": "stream",
     "text": [
      "pickSoftThreshold: will use block size 3000.\n",
      " pickSoftThreshold: calculating connectivity for given powers...\n",
      "   ..working on genes 1 through 3000 of 3000\n"
     ]
    },
    {
     "name": "stderr",
     "output_type": "stream",
     "text": [
      "Warning message:\n",
      "“executing %dopar% sequentially: no parallel backend registered”\n",
      "Warning message in eval(xpr, envir = envir):\n",
      "“Some correlations are NA in block 1 : 3000 .”\n"
     ]
    },
    {
     "name": "stdout",
     "output_type": "stream",
     "text": [
      "   Power SFT.R.sq  slope truncated.R.sq mean.k. median.k. max.k.\n",
      "1      1    0.153  0.546          0.750  351.00   342.000  677.0\n",
      "2      2    0.232 -0.379          0.577  121.00   122.000  287.0\n",
      "3      3    0.465 -0.671          0.606   66.60    62.400  187.0\n",
      "4      4    0.636 -0.682          0.676   44.60    36.600  139.0\n",
      "5      5    0.722 -0.820          0.809   32.70    23.500  120.0\n",
      "6      6    0.723 -0.989          0.858   25.40    16.000  110.0\n",
      "7      7    0.750 -1.090          0.898   20.40    11.100  101.0\n",
      "8      8    0.771 -1.160          0.925   16.80     8.130   93.4\n",
      "9      9    0.801 -1.200          0.944   14.10     5.990   86.8\n",
      "10    10    0.823 -1.240          0.954   12.00     4.520   80.9\n",
      "11    12    0.810 -1.310          0.941    9.08     2.540   70.9\n",
      "12    14    0.805 -1.360          0.933    7.09     1.590   62.7\n",
      "13    16    0.801 -1.370          0.925    5.69     0.998   55.8\n",
      "14    18    0.811 -1.360          0.923    4.65     0.646   49.9\n",
      "15    20    0.816 -1.350          0.913    3.87     0.424   44.8\n"
     ]
    },
    {
     "data": {
      "text/html": [
       "<strong>png:</strong> 2"
      ],
      "text/latex": [
       "\\textbf{png:} 2"
      ],
      "text/markdown": [
       "**png:** 2"
      ],
      "text/plain": [
       "png \n",
       "  2 "
      ]
     },
     "metadata": {},
     "output_type": "display_data"
    }
   ],
   "source": [
    "# Choose a set of soft-thresholding powers\n",
    "powers = c(c(1:10), seq(from = 12, to=20, by=2))\n",
    "# Call the network topology analysis function\n",
    "sft = pickSoftThreshold(datExpr, powerVector = powers, verbose = 5)\n",
    "# Plot the results:\n",
    "sizeGrWindow(9, 5)\n",
    "pdf(\"scaletopology.pdf\")\n",
    "par(mfrow = c(1,2));\n",
    "cex1 = 0.9;\n",
    "# Scale-free topology fit index as a function of the soft-thresholding power\n",
    "plot(sft$fitIndices[,1], -sign(sft$fitIndices[,3])*sft$fitIndices[,2],\n",
    "xlab=\"Soft Threshold (power)\",ylab=\"Scale Free Topology Model Fit,signed R^2\",type=\"n\",\n",
    "main = paste(\"Scale independence\"));\n",
    "text(sft$fitIndices[,1], -sign(sft$fitIndices[,3])*sft$fitIndices[,2],\n",
    "labels=powers,cex=cex1,col=\"red\");\n",
    "# this line corresponds to using an R^2 cut-off of h\n",
    "abline(h=0.90,col=\"red\")\n",
    "# Mean connectivity as a function of the soft-thresholding power\n",
    "plot(sft$fitIndices[,1], sft$fitIndices[,5],\n",
    "xlab=\"Soft Threshold (power)\",ylab=\"Mean Connectivity\", type=\"n\",\n",
    "main = paste(\"Mean connectivity\"))\n",
    "text(sft$fitIndices[,1], sft$fitIndices[,5], labels=powers, cex=cex1,col=\"red\")\n",
    "dev.off()"
   ]
  },
  {
   "cell_type": "code",
   "execution_count": 46,
   "metadata": {},
   "outputs": [
    {
     "name": "stdout",
     "output_type": "stream",
     "text": [
      " Calculating module eigengenes block-wise from all genes\n",
      "   Flagging genes and samples with too many missing values...\n",
      "    ..step 1\n",
      "  ..Excluding 1 genes from the calculation due to too many missing samples or zero variance.\n",
      "    ..step 2\n",
      " ..Working on block 1 .\n",
      "    TOM calculation: adjacency..\n",
      "    ..will not use multithreading.\n",
      "     Fraction of slow calculations: 0.000000\n",
      "    ..connectivity..\n",
      "    ..matrix multiplication (system BLAS)..\n",
      "    ..normalization..\n",
      "    ..done.\n",
      "   ..saving TOM for block 1 into file wgcna-block.1.RData\n",
      " ....clustering..\n",
      " ....detecting modules..\n",
      " ....calculating module eigengenes..\n",
      " ....checking kME in modules..\n",
      "     ..removing 19 genes from module 1 because their KME is too low.\n",
      "     ..removing 15 genes from module 2 because their KME is too low.\n",
      "     ..removing 5 genes from module 3 because their KME is too low.\n",
      "     ..removing 10 genes from module 4 because their KME is too low.\n",
      "     ..removing 4 genes from module 5 because their KME is too low.\n",
      "     ..removing 3 genes from module 7 because their KME is too low.\n",
      "     ..removing 1 genes from module 8 because their KME is too low.\n",
      "     ..removing 3 genes from module 9 because their KME is too low.\n",
      "     ..removing 3 genes from module 10 because their KME is too low.\n",
      "     ..removing 2 genes from module 11 because their KME is too low.\n",
      "     ..removing 2 genes from module 14 because their KME is too low.\n",
      "     ..removing 1 genes from module 15 because their KME is too low.\n",
      "     ..removing 2 genes from module 16 because their KME is too low.\n",
      "     ..removing 1 genes from module 18 because their KME is too low.\n",
      " ..merging modules that are too close..\n",
      "     mergeCloseModules: Merging modules whose distance is less than 0.15\n",
      "       Calculating new MEs...\n"
     ]
    }
   ],
   "source": [
    "net = blockwiseModules(datExpr, power = 6,\n",
    "TOMType = \"unsigned\", minModuleSize = 30,\n",
    "reassignThreshold = 0, mergeCutHeight = 0.15,\n",
    "numericLabels = TRUE, pamRespectsDendro = FALSE,\n",
    "saveTOMs = TRUE,\n",
    "saveTOMFileBase = \"wgcna\",\n",
    "verbose = 3)"
   ]
  },
  {
   "cell_type": "code",
   "execution_count": 47,
   "metadata": {},
   "outputs": [
    {
     "data": {
      "text/html": [
       "<strong>png:</strong> 2"
      ],
      "text/latex": [
       "\\textbf{png:} 2"
      ],
      "text/markdown": [
       "**png:** 2"
      ],
      "text/plain": [
       "png \n",
       "  2 "
      ]
     },
     "metadata": {},
     "output_type": "display_data"
    }
   ],
   "source": [
    "# open a graphics window\n",
    "sizeGrWindow(12, 9)\n",
    "pdf(\"netdendograms.pdf\")\n",
    "# Convert labels to colors for plotting\n",
    "mergedColors = labels2colors(net$colors)\n",
    "# Plot the dendrogram and the module colors underneath\n",
    "plotDendroAndColors(net$dendrograms[[1]], mergedColors[net$blockGenes[[1]]],\n",
    "\"Module colors\",\n",
    "dendroLabels = FALSE, hang = 0.03,\n",
    "addGuide = TRUE, guideHang = 0.05)\n",
    "dev.off()"
   ]
  },
  {
   "cell_type": "code",
   "execution_count": 48,
   "metadata": {},
   "outputs": [],
   "source": [
    "moduleLabels = net$colors\n",
    "moduleColors = labels2colors(net$colors)\n",
    "MEs = net$MEs;\n",
    "geneTree = net$dendrograms[[1]];"
   ]
  },
  {
   "cell_type": "markdown",
   "metadata": {},
   "source": [
    "## 3"
   ]
  },
  {
   "cell_type": "code",
   "execution_count": null,
   "metadata": {},
   "outputs": [],
   "source": [
    "datTraits$cases.0.project.primary_site <- match(datTraits$cases.0.project.primary_site, unique(datTraits$cases.0.project.primary_site))\n",
    "datTraits$cases.0.project.disease_type <- match(datTraits$cases.0.project.disease_type, unique(datTraits$cases.0.project.disease_type))"
   ]
  },
  {
   "cell_type": "code",
   "execution_count": 49,
   "metadata": {},
   "outputs": [],
   "source": [
    "datTraits$SMTS <- match(datTraits$SMTS, unique(datTraits$SMTS))\n",
    "datTraits$SMTSD <- match(datTraits$SMTSD, unique(datTraits$SMTSD))"
   ]
  },
  {
   "cell_type": "code",
   "execution_count": null,
   "metadata": {},
   "outputs": [],
   "source": [
    "datTraits$primary_site <- match(datTraits$primary_site, unique(datTraits$primary_site))\n",
    "#datTraits$secondary_site <- match(datTraits$secondary_site, unique(datTraits$secondary_site))\n",
    "datTraits$malignacy <- match(datTraits$malignacy, unique(datTraits$malignacy))\n",
    "datTraits$disease_type <- match(datTraits$disease_type, unique(datTraits$disease_type))\n",
    "datTraits$stage <- match(datTraits$stage, unique(datTraits$stage))"
   ]
  },
  {
   "cell_type": "code",
   "execution_count": 50,
   "metadata": {},
   "outputs": [],
   "source": [
    "# Define numbers of genes and samples\n",
    "nGenes = ncol(datExpr);\n",
    "nSamples = nrow(datExpr);\n",
    "# Recalculate MEs with color labels\n",
    "MEs0 = moduleEigengenes(datExpr, moduleColors)$eigengenes\n",
    "MEs = orderMEs(MEs0)\n",
    "moduleTraitCor = cor(MEs, datTraits, use = \"p\");\n",
    "moduleTraitPvalue = corPvalueStudent(moduleTraitCor, nSamples);"
   ]
  },
  {
   "cell_type": "code",
   "execution_count": 51,
   "metadata": {},
   "outputs": [
    {
     "data": {
      "text/html": [
       "<strong>png:</strong> 2"
      ],
      "text/latex": [
       "\\textbf{png:} 2"
      ],
      "text/markdown": [
       "**png:** 2"
      ],
      "text/plain": [
       "png \n",
       "  2 "
      ]
     },
     "metadata": {},
     "output_type": "display_data"
    }
   ],
   "source": [
    "pdf(\"moduleTrait.pdf\", width=9, height=18)\n",
    "# Will display correlations and their p-values\n",
    "textMatrix = paste(signif(moduleTraitCor, 2), \"\\n(\",\n",
    "signif(moduleTraitPvalue, 1), \")\", sep = \"\");\n",
    "dim(textMatrix) = dim(moduleTraitCor)\n",
    "par(mar = c(6, 8.5, 3, 3));\n",
    "# Display the correlation values within a heatmap plot\n",
    "labeledHeatmap(Matrix = moduleTraitCor,\n",
    "xLabels = labels,\n",
    "yLabels = names(MEs),\n",
    "ySymbols = names(MEs),\n",
    "colorLabels = FALSE,\n",
    "colors = blueWhiteRed(50),\n",
    "textMatrix = textMatrix,\n",
    "setStdMargins = FALSE,\n",
    "cex.text = 0.5,\n",
    "zlim = c(-1,1),\n",
    "main = paste(\"Module-trait relationships\"))\n",
    "dev.off()"
   ]
  },
  {
   "cell_type": "code",
   "execution_count": 52,
   "metadata": {},
   "outputs": [],
   "source": [
    "# Define variable weight containing the weight column of datTrait\n",
    "weight = as.data.frame(datTraits$SMTS);\n",
    "names(weight) = \"weight\"\n",
    "# names (colors) of the modules\n",
    "modNames = substring(names(MEs), 3)\n",
    "geneModuleMembership = as.data.frame(cor(datExpr, MEs, use = \"p\"));\n",
    "MMPvalue = as.data.frame(corPvalueStudent(as.matrix(geneModuleMembership), nSamples));\n",
    "names(geneModuleMembership) = paste(\"MM\", modNames, sep=\"\");\n",
    "names(MMPvalue) = paste(\"p.MM\", modNames, sep=\"\");\n",
    "geneTraitSignificance = as.data.frame(cor(datExpr, weight, use = \"p\"));\n",
    "GSPvalue = as.data.frame(corPvalueStudent(as.matrix(geneTraitSignificance), nSamples));\n",
    "names(geneTraitSignificance) = paste(\"GS.\", names(weight), sep=\"\");\n",
    "names(GSPvalue) = paste(\"p.GS.\", names(weight), sep=\"\");"
   ]
  },
  {
   "cell_type": "code",
   "execution_count": 53,
   "metadata": {},
   "outputs": [
    {
     "data": {
      "text/html": [
       "<strong>png:</strong> 2"
      ],
      "text/latex": [
       "\\textbf{png:} 2"
      ],
      "text/markdown": [
       "**png:** 2"
      ],
      "text/plain": [
       "png \n",
       "  2 "
      ]
     },
     "metadata": {},
     "output_type": "display_data"
    }
   ],
   "source": [
    "module = \"yellow\"\n",
    "column = match(module, modNames);\n",
    "moduleGenes = moduleColors==module;\n",
    "sizeGrWindow(7, 7);\n",
    "pdf(\"modulemembership.pdf\")\n",
    "par(mfrow = c(1,1));\n",
    "verboseScatterplot(abs(geneModuleMembership[moduleGenes, column]),\n",
    "    abs(geneTraitSignificance[moduleGenes, 1]),\n",
    "    xlab = paste(\"Module Membership in\", module, \"module\"),\n",
    "    ylab = \"Gene significance for primary_site\",\n",
    "    main = paste(\"Module membership vs. gene significance\\n\"),\n",
    "    cex.main = 1.2, cex.lab = 1.2, cex.axis = 1.2, col = module)\n",
    "dev.off()"
   ]
  },
  {
   "cell_type": "code",
   "execution_count": 74,
   "metadata": {},
   "outputs": [],
   "source": [
    "# Create the starting data frame\n",
    "geneInfo0 = data.frame(\n",
    "moduleColor = moduleColors,\n",
    "geneTraitSignificance,\n",
    "GSPvalue)\n",
    "# Order modules by their significance for weight\n",
    "modOrder = order(-abs(cor(MEs, weight, use = \"p\")));\n",
    "# Add module membership information in the chosen order\n",
    "for (mod in 1:ncol(geneModuleMembership))\n",
    "{\n",
    "oldNames = names(geneInfo0)\n",
    "geneInfo0 = data.frame(geneInfo0, geneModuleMembership[, modOrder[mod]],\n",
    "MMPvalue[, modOrder[mod]]);\n",
    "names(geneInfo0) = c(oldNames, paste(\"MM.\", modNames[modOrder[mod]], sep=\"\"),\n",
    "paste(\"p.MM.\", modNames[modOrder[mod]], sep=\"\"))\n",
    "}\n",
    "# Order the genes in the geneInfo variable first by module color, then by geneTraitSignificance\n",
    "geneOrder = order(geneInfo0$moduleColor, -abs(geneInfo0$GS.weight));\n",
    "geneInfo = geneInfo0[geneOrder, ]\n",
    "write.csv(geneInfo, file = \"geneInfo.csv\")"
   ]
  },
  {
   "cell_type": "code",
   "execution_count": 75,
   "metadata": {},
   "outputs": [],
   "source": [
    "# Read in the probe annotation\n",
    "annot = read.csv(file = \"geneInfo.csv\");\n",
    "# Match probes in the data set to the probe IDs in the annotation file\n",
    "probes = names(datExpr)\n",
    "allLLIDs = probes\n",
    "# $ Choose interesting modules\n",
    "intModules = c(\"greenyellow\", \"darkorange\", \"darkgreen\")\n",
    "for (module in intModules)\n",
    "{\n",
    "# Select module probes\n",
    "modGenes = (moduleColors==module)\n",
    "# Get their entrez ID codes\n",
    "modLLIDs = probes[modGenes];\n",
    "# Write them into a file\n",
    "fileName = paste(\"LocusLinkIDs-\", module, \".txt\", sep=\"\");\n",
    "write.table(as.data.frame(modLLIDs), file = fileName,\n",
    "row.names = FALSE, col.names = FALSE, quote=FALSE)\n",
    "}\n",
    "# As background in the enrichment analysis, we will use all probes in the analysis.\n",
    "fileName = paste(\"LocusLinkIDs-all.txt\", sep=\"\");\n",
    "write.table(as.data.frame(allLLIDs), file = fileName,\n",
    "row.names = FALSE, col.names = FALSE, quote=FALSE)"
   ]
  },
  {
   "cell_type": "code",
   "execution_count": null,
   "metadata": {},
   "outputs": [],
   "source": [
    "require(\"biomaRt\")\n",
    "mart <- useMart(\"ENSEMBL_MART_ENSEMBL\")\n",
    "mart <- useDataset(\"hsapiens_gene_ensembl\", mart)\n",
    "\n",
    "ens <- allLLIDs\n",
    "ensLookup <- gsub(\"\\\\.[0-9]*$\", \"\", ens)\n",
    "\n",
    "annotLookup <- getBM(\n",
    "  mart=mart,\n",
    "  attributes=c(\"ensembl_transcript_id\", \"ensembl_gene_id\", \"gene_biotype\", \"external_gene_name\"),\n",
    "  filter=\"ensembl_gene_id\",\n",
    "  values=ensLookup,\n",
    "  uniqueRows=TRUE)\n",
    "\n",
    "annotLookup <- data.frame(\n",
    "  ens[match(annotLookup$ensembl_gene_id, ensLookup)],\n",
    "  annotLookup)\n",
    "\n",
    "colnames(annotLookup) <- c(\n",
    "  \"original_id\",\n",
    "  c(\"ensembl_transcript_id\", \"ensembl_gene_id\", \"gene_biotype\", \"external_gene_name\"))\n",
    "\n",
    "annotLookup"
   ]
  },
  {
   "cell_type": "markdown",
   "metadata": {},
   "source": [
    "## 5 "
   ]
  },
  {
   "cell_type": "code",
   "execution_count": 56,
   "metadata": {},
   "outputs": [
    {
     "data": {
      "text/html": [
       "<strong>png:</strong> 2"
      ],
      "text/latex": [
       "\\textbf{png:} 2"
      ],
      "text/markdown": [
       "**png:** 2"
      ],
      "text/plain": [
       "png \n",
       "  2 "
      ]
     },
     "metadata": {},
     "output_type": "display_data"
    }
   ],
   "source": [
    "# Re-cluster samples\n",
    "sampleTree3 = hclust(dist(MEs0), method = \"average\")\n",
    "# Convert traits to a color representation: white means low, red means high, grey means missing entry\n",
    "traitColors = labels2colors(datTraits);\n",
    "# Plot the sample dendrogram and the colors underneath.\n",
    "svg(\"nethier.svg\", width=10)\n",
    "# Set the plot margin: bottom, left, top & right\n",
    "par(mar = c(5, 4, 1.4, 0.2) + 0.1,\n",
    "    xpd = NA) # allow content to go into outer margin \n",
    "plotDendroAndColors(sampleTree3, traitColors,\n",
    "groupLabels = labels,\n",
    "main = \"Network dendrogram and trait heatmap\",\n",
    "dendroLabels=FALSE,\n",
    "#rowText=allTraits[keepSamples,labels],\n",
    "#rowTextIgnore=labels[[2]],\n",
    "addGuide=TRUE)\n",
    "dev.off()"
   ]
  },
  {
   "cell_type": "code",
   "execution_count": 57,
   "metadata": {},
   "outputs": [
    {
     "data": {
      "text/html": [
       "<style>\n",
       ".list-inline {list-style: none; margin:0; padding: 0}\n",
       ".list-inline>li {display: inline-block}\n",
       ".list-inline>li:not(:last-child)::after {content: \"\\00b7\"; padding: 0 .5ex}\n",
       "</style>\n",
       "<ol class=list-inline><li>'Brain'</li><li>NA</li><li>'Skin'</li><li>'Esophagus'</li><li>'Blood Vessel'</li><li>'Adipose Tissue'</li><li>'Blood'</li><li>'Heart'</li><li>'Muscle'</li><li>'Colon'</li><li>'Thyroid'</li></ol>\n"
      ],
      "text/latex": [
       "\\begin{enumerate*}\n",
       "\\item 'Brain'\n",
       "\\item NA\n",
       "\\item 'Skin'\n",
       "\\item 'Esophagus'\n",
       "\\item 'Blood Vessel'\n",
       "\\item 'Adipose Tissue'\n",
       "\\item 'Blood'\n",
       "\\item 'Heart'\n",
       "\\item 'Muscle'\n",
       "\\item 'Colon'\n",
       "\\item 'Thyroid'\n",
       "\\end{enumerate*}\n"
      ],
      "text/markdown": [
       "1. 'Brain'\n",
       "2. NA\n",
       "3. 'Skin'\n",
       "4. 'Esophagus'\n",
       "5. 'Blood Vessel'\n",
       "6. 'Adipose Tissue'\n",
       "7. 'Blood'\n",
       "8. 'Heart'\n",
       "9. 'Muscle'\n",
       "10. 'Colon'\n",
       "11. 'Thyroid'\n",
       "\n",
       "\n"
      ],
      "text/plain": [
       " [1] \"Brain\"          NA               \"Skin\"           \"Esophagus\"     \n",
       " [5] \"Blood Vessel\"   \"Adipose Tissue\" \"Blood\"          \"Heart\"         \n",
       " [9] \"Muscle\"         \"Colon\"          \"Thyroid\"       "
      ]
     },
     "metadata": {},
     "output_type": "display_data"
    }
   ],
   "source": [
    "rownames(allTraits)=allTraits$SAMPID\n",
    "unique(allTraits[rownames(datTraits),'SMTS'])"
   ]
  },
  {
   "cell_type": "code",
   "execution_count": 55,
   "metadata": {},
   "outputs": [
    {
     "name": "stderr",
     "output_type": "stream",
     "text": [
      "Warning message in par(fig = c(0, 1, 0, 1), oma = c(0, 0, 0, 0), mar = c(0, 0, 0, :\n",
      "“calling par(new=TRUE) with no plot”\n"
     ]
    },
    {
     "data": {
      "text/html": [
       "<strong>png:</strong> 2"
      ],
      "text/latex": [
       "\\textbf{png:} 2"
      ],
      "text/markdown": [
       "**png:** 2"
      ],
      "text/plain": [
       "png \n",
       "  2 "
      ]
     },
     "metadata": {},
     "output_type": "display_data"
    }
   ],
   "source": [
    "svg(\"nethier_legend.svg\", width=10)\n",
    "add_legend(\"topleft\", legend = unique(allTraits[rownames(datTraits),'SMTS']), pch = 1, pt.cex = 1, cex = 1.5, bty = 'n', ncol=2,\n",
    "       inset = c(0.1, 0.), # place outside\n",
    "       title = \"SMTS\", \n",
    "       col = traitColors)\n",
    "dev.off()"
   ]
  },
  {
   "cell_type": "code",
   "execution_count": 79,
   "metadata": {},
   "outputs": [],
   "source": [
    "collectGarbage()"
   ]
  },
  {
   "cell_type": "code",
   "execution_count": 80,
   "metadata": {},
   "outputs": [
    {
     "data": {
      "text/plain": [
       "clust\n",
       "   1 \n",
       "1000 "
      ]
     },
     "metadata": {},
     "output_type": "display_data"
    }
   ],
   "source": [
    "clust = cutreeStatic(sampleTree3, cutHeight = 0.4, minSize = 10)\n",
    "table(clust)"
   ]
  },
  {
   "cell_type": "code",
   "execution_count": 81,
   "metadata": {},
   "outputs": [
    {
     "data": {
      "text/html": [
       "<strong>png:</strong> 2"
      ],
      "text/latex": [
       "\\textbf{png:} 2"
      ],
      "text/markdown": [
       "**png:** 2"
      ],
      "text/plain": [
       "png \n",
       "  2 "
      ]
     },
     "metadata": {},
     "output_type": "display_data"
    }
   ],
   "source": [
    "# Re-cluster samples after cut\n",
    "sampleTree4 = hclust(dist(MEs0[(clust==1),]), method = \"average\")\n",
    "# Convert traits to a color representation: white means low, red means high, grey means missing entry\n",
    "traitColors = labels2colors(datTraits[(clust==1),]);\n",
    "# Plot the sample dendrogram and the colors underneath.\n",
    "svg(\"nethiercut.svg\")\n",
    "plotDendroAndColors(sampleTree4, traitColors,\n",
    "groupLabels = labels,\n",
    "main = \"Network dendrogram and trait heatmap\",\n",
    "dendroLabels=FALSE)\n",
    "dev.off()"
   ]
  },
  {
   "cell_type": "code",
   "execution_count": 34,
   "metadata": {},
   "outputs": [
    {
     "name": "stdout",
     "output_type": "stream",
     "text": [
      "TOM calculation: adjacency..\n",
      "..will not use multithreading.\n",
      " Fraction of slow calculations: 0.000000\n",
      "..connectivity..\n",
      "..matrix multiplication (system BLAS)..\n",
      "..normalization..\n",
      "..done.\n"
     ]
    },
    {
     "ename": "ERROR",
     "evalue": "Error in x[, iy]: subscript out of bounds\n",
     "output_type": "error",
     "traceback": [
      "Error in x[, iy]: subscript out of bounds\nTraceback:\n",
      "1. TOMplot(plotTOM, geneTree, moduleColors, main = \"Network heatmap plot, all genes\")",
      "2. .heatmap(as.matrix(dissim), Rowv = dendro, Colv = dendro, scale = \"none\", \n .     revC = TRUE, ColSideColors = as.character(labeltree), RowSideColors = as.character(labelrow), \n .     labRow = FALSE, labCol = FALSE, setLayout = setLayout, ...)"
     ]
    }
   ],
   "source": [
    "# Calculate topological overlap anew: this could be done more efficiently by saving the TOM\n",
    "# calculated during module detection, but let us do it again here.\n",
    "dissTOM = 1-TOMsimilarityFromExpr(datExpr, power = 6);\n",
    "# Transform dissTOM with a power to make moderately strong connections more visible in the heatmap\n",
    "plotTOM = dissTOM^7;\n",
    "# Set diagonal to NA for a nicer plot\n",
    "diag(plotTOM) = NA;\n",
    "# Call the plot function\n",
    "sizeGrWindow(9,9)\n",
    "svg(\"networkmap.svg\")\n",
    "TOMplot(plotTOM, geneTree, moduleColors, main = \"Network heatmap plot, all genes\")\n",
    "dev.off()"
   ]
  },
  {
   "cell_type": "code",
   "execution_count": 82,
   "metadata": {},
   "outputs": [
    {
     "ename": "ERROR",
     "evalue": "Error in hclust(as.dist(selectTOM), method = \"average\"): NaN dissimilarity value.\n",
     "output_type": "error",
     "traceback": [
      "Error in hclust(as.dist(selectTOM), method = \"average\"): NaN dissimilarity value.\nTraceback:\n",
      "1. hclust(as.dist(selectTOM), method = \"average\")"
     ]
    }
   ],
   "source": [
    "#selct genes to be faster\n",
    "nSelect = nGenes*0.7\n",
    "# For reproducibility, we set the random seed\n",
    "set.seed(10);\n",
    "select = sample(nGenes, size = nSelect);\n",
    "selectTOM = dissTOM[select, select];\n",
    "# There’s no simple way of restricting a clustering tree to a subset of genes, so we must re-cluster.\n",
    "selectTree = hclust(as.dist(selectTOM), method = \"average\")\n",
    "selectColors = moduleColors[select];\n",
    "# Open a graphical window\n",
    "sizeGrWindow(9,9)\n",
    "svg(\"networkmap.svg\")\n",
    "# Taking the dissimilarity to a power, say 10, makes the plot more informative by effectively changing\n",
    "# the color palette; setting the diagonal to NA also improves the clarity of the plot\n",
    "plotDiss = selectTOM^7;\n",
    "diag(plotDiss) = NA;\n",
    "TOMplot(plotDiss, selectTree, selectColors, main = \"Network heatmap plot, selected genes\")\n",
    "dev.off()"
   ]
  },
  {
   "cell_type": "code",
   "execution_count": 83,
   "metadata": {},
   "outputs": [
    {
     "data": {
      "text/html": [
       "<strong>png:</strong> 2"
      ],
      "text/latex": [
       "\\textbf{png:} 2"
      ],
      "text/markdown": [
       "**png:** 2"
      ],
      "text/plain": [
       "png \n",
       "  2 "
      ]
     },
     "metadata": {},
     "output_type": "display_data"
    }
   ],
   "source": [
    "# Recalculate module eigengenes\n",
    "MEs = moduleEigengenes(datExpr, moduleColors)$eigengenes\n",
    "# Isolate weight from the clinical traits\n",
    "weight = as.data.frame(datTraits$SMTS);\n",
    "names(weight) = \"SMTS\"\n",
    "# Add the weight to existing module eigengenes\n",
    "MET = orderMEs(cbind(MEs, weight))\n",
    "# Plot the relationships among the eigengenes and the trait\n",
    "sizeGrWindow(5,7.5);\n",
    "svg(\"eigenHeat.svg\")\n",
    "par(cex = 0.9)\n",
    "plotEigengeneNetworks(MET, \"\", marDendro = c(0,4,1,2), marHeatmap = c(3,4,1,2), cex.lab = 0.8, xLabelsAngle = 90)\n",
    "dev.off()"
   ]
  },
  {
   "cell_type": "code",
   "execution_count": 84,
   "metadata": {},
   "outputs": [
    {
     "data": {
      "text/html": [
       "<strong>png:</strong> 2"
      ],
      "text/latex": [
       "\\textbf{png:} 2"
      ],
      "text/markdown": [
       "**png:** 2"
      ],
      "text/plain": [
       "png \n",
       "  2 "
      ]
     },
     "metadata": {},
     "output_type": "display_data"
    }
   ],
   "source": [
    "# Plot the dendrogram\n",
    "sizeGrWindow(6,6);\n",
    "svg(\"eigendendogram.svg\")\n",
    "par(cex = 1.0)\n",
    "plotEigengeneNetworks(MET, \"Eigengene dendrogram\", marDendro = c(0,4,2,0),\n",
    "plotHeatmaps = FALSE)\n",
    "# Plot the heatmap matrix (note: this plot will overwrite the dendrogram plot)\n",
    "par(cex = 1.0)\n",
    "plotEigengeneNetworks(MET, \"Eigengene adjacency heatmap\", marHeatmap = c(3,4,2,2),\n",
    "plotDendrograms = FALSE, xLabelsAngle = 90)\n",
    "dev.off()"
   ]
  },
  {
   "cell_type": "code",
   "execution_count": 64,
   "metadata": {},
   "outputs": [],
   "source": [
    "# 2 14 26 38 50\n",
    "write.csv(cutree(sampleTree3, k=50), \"wgcna/wgcna_level_0_labels.csv\")"
   ]
  },
  {
   "cell_type": "code",
   "execution_count": 65,
   "metadata": {},
   "outputs": [],
   "source": [
    "write.csv(geneModuleMembership, \"wgcna/wgcna_level_0_word-dist.csv\")"
   ]
  },
  {
   "cell_type": "code",
   "execution_count": 66,
   "metadata": {},
   "outputs": [],
   "source": [
    "write.csv(MEs, \"wgcna/wgcna_level_0_topic-dist.csv\")"
   ]
  },
  {
   "cell_type": "code",
   "execution_count": null,
   "metadata": {},
   "outputs": [],
   "source": []
  }
 ],
 "metadata": {
  "kernelspec": {
   "display_name": "R",
   "language": "R",
   "name": "ir"
  },
  "language_info": {
   "codemirror_mode": "r",
   "file_extension": ".r",
   "mimetype": "text/x-r-source",
   "name": "R",
   "pygments_lexer": "r",
   "version": "3.6.2"
  }
 },
 "nbformat": 4,
 "nbformat_minor": 2
}

{
 "cells": [
  {
   "cell_type": "markdown",
   "metadata": {},
   "source": [
    "http://pklab.med.harvard.edu/scw2014/subpop_tutorial.html"
   ]
  },
  {
   "cell_type": "code",
   "execution_count": null,
   "metadata": {},
   "outputs": [],
   "source": [
    "sessionInfo()"
   ]
  },
  {
   "cell_type": "code",
   "execution_count": null,
   "metadata": {},
   "outputs": [],
   "source": [
    "library(DESeq)\n",
    "library(statmod)\n",
    "library(fastICA)\n",
    "library(ggplot2)"
   ]
  },
  {
   "cell_type": "code",
   "execution_count": null,
   "metadata": {},
   "outputs": [],
   "source": [
    "directory <-\"/home/jovyan/work/fvalle/phd/datasets/tcga/oversampling_10tissue\""
   ]
  },
  {
   "cell_type": "code",
   "execution_count": null,
   "metadata": {},
   "outputs": [],
   "source": [
    "targets <- read.delim(paste(directory,\"/files.dat\", sep=''), sep=',', row.names=1)\n",
    "head(targets)"
   ]
  },
  {
   "cell_type": "code",
   "execution_count": null,
   "metadata": {},
   "outputs": [],
   "source": [
    "rawdata <- read.delim(paste(directory,\"/mainTable_all.csv\", sep=''), sep=',', row.names=1)\n",
    "head(rawdata)"
   ]
  },
  {
   "cell_type": "code",
   "execution_count": null,
   "metadata": {},
   "outputs": [],
   "source": [
    "group <- factor(paste0(targets$primary_site,\".\",targets$disease_type))"
   ]
  },
  {
   "cell_type": "code",
   "execution_count": null,
   "metadata": {},
   "outputs": [],
   "source": [
    "lib.size<-estimateSizeFactorsForMatrix(rawdata)"
   ]
  },
  {
   "cell_type": "code",
   "execution_count": null,
   "metadata": {},
   "outputs": [],
   "source": [
    "ed <- t(t(rawdata)/lib.size)"
   ]
  },
  {
   "cell_type": "code",
   "execution_count": null,
   "metadata": {},
   "outputs": [],
   "source": [
    "means <- rowMeans(ed)\n",
    "vars <- apply(ed,1,var)\n",
    "cv2 <- vars/means^2\n",
    "svg(paste(directory,\"/cv2_mean.svg\", sep=''))\n",
    "par(mar=c(3.5,3.5,1,1),mgp=c(2,0.65,0),cex=0.9)\n",
    "smoothScatter(log(means),log(cv2))\n",
    "title('ee')\n",
    "dev.off()"
   ]
  },
  {
   "cell_type": "code",
   "execution_count": null,
   "metadata": {},
   "outputs": [],
   "source": [
    "minMeanForFit <- unname( quantile( means[which(cv2>1e-10)], .90 ) )\n",
    "useForFit <- means >= minMeanForFit # & spikeins\n",
    "fit <- glmgam.fit( cbind( a0 = 1, a1tilde = 1/means[useForFit] ),cv2[useForFit] )\n",
    "a0 <- unname( fit$coefficients[\"a0\"] )\n",
    "a1 <- unname( fit$coefficients[\"a1tilde\"])\n",
    "fit$coefficients"
   ]
  },
  {
   "cell_type": "code",
   "execution_count": null,
   "metadata": {},
   "outputs": [],
   "source": [
    "# repeat previous plot\n",
    "par(mar=c(3.5,3.5,1,1),mgp=c(2,0.65,0),cex=0.9); \n",
    "smoothScatter(log(means),log(cv2));\n",
    "xg <- exp(seq( min(log(means[means>0])), max(log(means)), length.out=1000 ))\n",
    "vfit <- a1/xg + a0\n",
    "# add fit line\n",
    "lines( log(xg), log(vfit), col=\"black\", lwd=3 )\n",
    "df <- ncol(ed) - 1\n",
    "# add confidence interval\n",
    "lines(log(xg),log(vfit * qchisq(0.975,df)/df),lty=2,col=\"black\")\n",
    "lines(log(xg),log(vfit * qchisq(0.1,df)/df),lty=2,col=\"black\")"
   ]
  },
  {
   "cell_type": "code",
   "execution_count": null,
   "metadata": {},
   "outputs": [],
   "source": [
    "genesafit <- a1/means+a0\n",
    "varFitRatio <- vars/(genesafit*means^2)\n",
    "varorder <- order(varFitRatio,decreasing=T)\n",
    "oed <- ed[varorder,]\n",
    "\n",
    "# repeat previous plot\n",
    "par(mar=c(3.5,3.5,1,1),mgp=c(2,0.65,0),cex=0.9)\n",
    "smoothScatter(log(means),log(cv2), main=\"Highly variable selection\"); \n",
    "lines(log(xg), log(vfit), col=\"black\", lwd=3 ); \n",
    "lines(log(xg),log(vfit * qchisq(0.975,df)/df),lty=2,col=\"black\"); \n",
    "lines(log(xg),log(vfit * qchisq(0.025,df)/df),lty=2,col=\"black\");\n",
    "# add top 100 genes\n",
    "points(log(means[varorder[1:100]]),log(cv2[varorder[1:100]]),col=2)"
   ]
  },
  {
   "cell_type": "code",
   "execution_count": null,
   "metadata": {},
   "outputs": [],
   "source": [
    "genesafit <- a1/means+a0\n",
    "varFitRatio <- vars/(genesafit*means^2)\n",
    "varorder <- order(varFitRatio,decreasing=T)\n",
    "oed <- ed[varorder,]\n",
    "\n",
    "svg(paste(directory,\"/cv2_mean.svg\", sep=''))\n",
    "# repeat previous plot\n",
    "par(mar=c(3.5,3.5,1,1),mgp=c(2,0.65,0),cex=0.9)\n",
    "smoothScatter(log(means),log(cv2), main=\"Highly variable selection\"); \n",
    "lines(log(xg), log(vfit), col=\"black\", lwd=3 ); \n",
    "lines(log(xg),log(vfit * qchisq(0.975,df)/df),lty=2,col=\"black\"); \n",
    "lines(log(xg),log(vfit * qchisq(0.025,df)/df),lty=2,col=\"black\");\n",
    "# add top 100 genes\n",
    "points(log(means[varorder[1:100]]),log(cv2[varorder[1:100]]),col=2)\n",
    "dev.off()"
   ]
  },
  {
   "cell_type": "code",
   "execution_count": null,
   "metadata": {},
   "outputs": [],
   "source": [
    "m = ncol(rawdata)\n",
    "fdr=0.0001\n",
    "testDenom <- (means*a1 + means^2*cv2)/(1+cv2/m)\n",
    "p <- 1-pchisq(vars * (m-1)/testDenom,m-1)\n",
    "padj <- p.adjust(p,\"BH\")\n",
    "sig <- padj < fdr\n",
    "sig[is.na(sig)] <- FALSE"
   ]
  },
  {
   "cell_type": "code",
   "execution_count": null,
   "metadata": {},
   "outputs": [],
   "source": [
    "write.csv(table(genes=names(means)[varorder]),paste(directory,\"/hv.csv\", sep=''), row.names=FALSE)"
   ]
  },
  {
   "cell_type": "code",
   "execution_count": null,
   "metadata": {},
   "outputs": [],
   "source": [
    "#https://github.com/hemberg-lab/scRNA.seq.funcs/blob/master/R/brennecke.R\n",
    "#https://www.nature.com/articles/nmeth.2645\n",
    "Brennecke_getVariableGenes <- function(expr_mat, spikes=NA, suppress.plot=FALSE, fdr=0.1, minBiolDisp=0.5) {\n",
    "        # require(statmod)\n",
    "\n",
    "        rowVars <- function(x) { unlist(apply(x,1,var))}\n",
    "\n",
    "        colGenes = \"black\"\n",
    "        colSp = \"grey35\"\n",
    "\n",
    "\n",
    "        fullCountTable <- expr_mat;\n",
    "\n",
    "        if (is.character(spikes)) {\n",
    "                sp = rownames(fullCountTable) %in% spikes;\n",
    "                countsSp <- fullCountTable[sp,];\n",
    "                countsGenes <- fullCountTable[!sp,];\n",
    "        } else if (is.numeric(spikes)) {\n",
    "                countsSp <- fullCountTable[spikes,];\n",
    "                countsGenes <- fullCountTable[-spikes,];\n",
    "        } else {\n",
    "                countsSp = fullCountTable;\n",
    "                countsGenes = fullCountTable;\n",
    "        }\n",
    "\n",
    "        meansSp = rowMeans(countsSp)\n",
    "        varsSp = rowVars(countsSp)\n",
    "        cv2Sp = varsSp/meansSp^2\n",
    "        meansGenes = rowMeans(countsGenes)\n",
    "        varsGenes = rowVars(countsGenes)\n",
    "        cv2Genes = varsGenes/meansGenes^2\n",
    "        # Fit Model\n",
    "        minMeanForFit <- unname( quantile( meansSp[ which( cv2Sp > 0.01 ) ], 0.40))\n",
    "        useForFit <- meansSp >= minMeanForFit\n",
    "#        if (sum(useForFit) < 50) {\n",
    "#                warning(\"Too few spike-ins exceed minMeanForFit, recomputing using all genes.\")\n",
    "#                meansAll = c(meansGenes, meansSp)\n",
    "#                cv2All = c(cv2Genes,cv2Sp)\n",
    "#                minMeanForFit <- unname( quantile( meansAll[ which( cv2All > 0.3 ) ], 0.80))\n",
    "#                useForFit <- meansSp >= minMeanForFit\n",
    "#        }\n",
    "        if (sum(useForFit) < 30) {warning(paste(\"Only\", sum(useForFit), \"spike-ins to be used in fitting, may result in poor fit.\"))}\n",
    "        fit <- glmgam.fit( cbind( a0 = 1, a1tilde = 1/meansSp[useForFit] ), cv2Sp[useForFit] )\n",
    "        a0 <- unname( fit$coefficients[\"a0\"] )\n",
    "        a1 <- unname( fit$coefficients[\"a1tilde\"])\n",
    "\n",
    "        # Test\n",
    "        psia1theta <- a1\n",
    "        minBiolDisp <- minBiolDisp^2\n",
    "        m = ncol(countsSp);\n",
    "        cv2th <- a0 + minBiolDisp + a0 * minBiolDisp\n",
    "        testDenom <- (meansGenes*psia1theta + meansGenes^2*cv2th)/(1+cv2th/m)\n",
    "        p <- 1-pchisq(varsGenes * (m-1)/testDenom,m-1)\n",
    "        padj <- p.adjust(p,\"BH\")\n",
    "        sig <- padj < fdr\n",
    "        sig[is.na(sig)] <- FALSE\n",
    "        if (!suppress.plot) {\n",
    "                plot( meansGenes,cv2Genes, xaxt=\"n\", yaxt=\"n\", log=\"xy\",\n",
    "                        xlab = \"average normalized read count\",\n",
    "                        ylab = \"squared coefficient of variation (CV^2)\", col=\"white\")\n",
    "                axis( 1, 10^(-2:5), c( \"0.01\", \"0.1\", \"1\", \"10\", \"100\", \"1000\",\n",
    "                        expression(10^4), expression(10^5) ) )\n",
    "                axis( 2, 10^(-2:3), c( \"0.01\", \"0.1\", \"1\", \"10\", \"100\",\"1000\" ), las=2 )\n",
    "                abline( h=10^(-2:1), v=10^(-1:5), col=\"#D0D0D0\", lwd=2 )\n",
    "                # Plot the genes, use a different color if they are highly variable\n",
    "                points( meansGenes, cv2Genes, pch=20, cex=.2,\n",
    "                        col = ifelse( padj < .1, \"#C0007090\", colGenes ) )\n",
    "\t\tpoints( meansSp, cv2Sp, pch=20, cex=.5, col=\"blue1\")\n",
    "                # Add the technical noise fit\n",
    "                xg <- 10^seq( -2, 6, length.out=1000 )\n",
    "                lines( xg, (a1)/xg + a0, col=\"#FF000080\", lwd=3 )\n",
    "                # Add a curve showing the expectation for the chosen biological CV^2 thershold\n",
    "                lines( xg, psia1theta/xg + a0 + minBiolDisp, lty=\"dashed\", col=\"#C0007090\", lwd=3)\n",
    "        }\n",
    "        return(names(meansGenes)[sig])\n",
    "}\n"
   ]
  },
  {
   "cell_type": "code",
   "execution_count": null,
   "metadata": {},
   "outputs": [],
   "source": [
    "Brennecke_getVariableGenes(rawdata)"
   ]
  },
  {
   "cell_type": "code",
   "execution_count": null,
   "metadata": {},
   "outputs": [],
   "source": [
    "winsorize <- function (x, fraction=0.05) {\n",
    "   if(length(fraction) != 1 || fraction < 0 ||\n",
    "         fraction > 0.5) {\n",
    "      stop(\"bad value for 'fraction'\")\n",
    "   }\n",
    "   lim <- quantile(x, probs=c(fraction, 1-fraction))\n",
    "   x[ x < lim[1] ] <- lim[1]\n",
    "   x[ x > lim[2] ] <- lim[2]\n",
    "   x\n",
    "}\n",
    "\n",
    "# winsorize to remove 2 most extreme cells (from each side)\n",
    "wed <- t(apply(ed, 1, winsorize, fraction=2/ncol(ed)))\n",
    "\n",
    "# now let's recalculate the most variable genes with the winsorized matrix (wed)\n",
    "means = rowMeans(wed); vars = apply(wed,1,var); cv2 <- vars/means^2\n",
    "useForFit <- means >= unname( quantile( means[ which( cv2 > .3 ) ], .1 ) ) \n",
    "fit <- glmgam.fit( cbind( a0 = 1, a1tilde = 1/means[useForFit] ),cv2[useForFit] )\n",
    "afit <- fit$coef[\"a1tilde\"]/means+fit$coef[\"a0\"]\n",
    "vfit <- fit$coef[\"a1tilde\"]/xg+fit$coef[\"a0\"]\n",
    "varFitRatio <- vars/(afit*means^2)\n",
    "varorder <- order(varFitRatio,decreasing=T)\n",
    "oed <- wed[varorder,]\n",
    "\n",
    "xg <- exp(seq( min(log(means[means>0])), max(log(means)), length.out=1000 ))\n",
    "par(mar=c(3.5,3.5,1,1),mgp=c(2,0.65,0),cex=0.9); smoothScatter(log(means),log(cv2)); lines( log(xg), log(vfit), col=\"black\", lwd=3 ); lines(log(xg),log(vfit * qchisq(0.975,df)/df),lty=2,col=\"black\"); lines(log(xg),log(vfit * qchisq(0.025,df)/df),lty=2,col=\"black\");\n",
    "# add top 100 genes\n",
    "points(log(means[varorder[1:100]]),log(cv2[varorder[1:100]]),col=2)"
   ]
  },
  {
   "cell_type": "code",
   "execution_count": null,
   "metadata": {},
   "outputs": [],
   "source": [
    "names(means)[varorder]"
   ]
  },
  {
   "cell_type": "code",
   "execution_count": null,
   "metadata": {},
   "outputs": [],
   "source": []
  }
 ],
 "metadata": {
  "kernelspec": {
   "display_name": "R",
   "language": "R",
   "name": "ir"
  },
  "language_info": {
   "codemirror_mode": "r",
   "file_extension": ".r",
   "mimetype": "text/x-r-source",
   "name": "R",
   "pygments_lexer": "r",
   "version": "3.6.1"
  }
 },
 "nbformat": 4,
 "nbformat_minor": 2
}

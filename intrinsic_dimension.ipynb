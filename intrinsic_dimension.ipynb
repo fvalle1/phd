{
 "cells": [
  {
   "cell_type": "code",
   "execution_count": null,
   "metadata": {},
   "outputs": [],
   "source": [
    "import os, sys, gc\n",
    "import pandas as pd\n",
    "import numpy as np\n",
    "from sklearn.decomposition import PCA\n",
    "import findspark\n",
    "findspark.init()\n",
    "import pyspark as spark\n",
    "from pyspark.sql.functions import udf, col\n",
    "from pyspark.sql.types import StringType\n",
    "conf = spark.SparkConf().set('spark.driver.host','127.0.0.1')\n",
    "sc = spark.SparkContext(master='local', appName='myAppName',conf=conf)\n",
    "sql = spark.SQLContext(sc)"
   ]
  },
  {
   "cell_type": "code",
   "execution_count": null,
   "metadata": {},
   "outputs": [],
   "source": [
    "sys.path.append(\"/home/fvalle/phd/TWO-NN/\")\n",
    "from TwoNN import twonn_dimension"
   ]
  },
  {
   "cell_type": "code",
   "execution_count": null,
   "metadata": {},
   "outputs": [],
   "source": [
    "os.chdir(\"/home/fvalle/phd/datasets/gtex/log/10\")"
   ]
  },
  {
   "cell_type": "code",
   "execution_count": null,
   "metadata": {},
   "outputs": [],
   "source": [
    "genes = sql.read.option(\"header\",'true').csv('/home/fvalle/phd/master_thesis/genes.txt')\n",
    "genes.registerTempTable(\"genes\")\n",
    "genes.select(\"type_of_gene\").distinct().show()\n",
    "pc = sql.sql(\"SELECT * FROM genes WHERE type_of_gene='protein-coding'\")"
   ]
  },
  {
   "cell_type": "code",
   "execution_count": null,
   "metadata": {},
   "outputs": [],
   "source": [
    "pc_list=pd.read_csv(\"http://stephenslab.github.io/count-clustering/project/utilities/gene_names_all_gtex.txt\", header=None).values.ravel().astype(str)"
   ]
  },
  {
   "cell_type": "code",
   "execution_count": null,
   "metadata": {},
   "outputs": [],
   "source": [
    "df = sql.read.option(\"header\",True).option(\"delimiter\",'\\t').csv(\"/home/fvalle/phd/datasets/gtex/10/GTEx_Analysis_2017-06-05_v8_RNASeQCv1.1.9_gene_tpm.gct.gz\")\n",
    "df = df.withColumn('ensg',udf(lambda x: x[:15], StringType())(col('Name')))\n",
    "df = df.withColumn('type',udf(lambda x: 'pc' if x in pc_list else 'nc', StringType())(col('ensg')))\n",
    "df.registerTempTable(\"df\")\n",
    "df = sql.sql(\"SELECT * FROM df WHERE type='pc'\")"
   ]
  },
  {
   "cell_type": "code",
   "execution_count": null,
   "metadata": {},
   "outputs": [],
   "source": [
    "df_files = pd.read_csv(\"https://storage.googleapis.com/gtex_analysis_v8/annotations/GTEx_Analysis_v8_Annotations_SampleAttributesDS.txt\", sep='\\t').loc[:,['SAMPID','SMTS', 'SMTSD']]\n",
    "df_files.set_index('SAMPID', inplace=True)\n",
    "df_files = df_files.reindex(index=df.columns).dropna(how='all', axis=0)"
   ]
  },
  {
   "cell_type": "code",
   "execution_count": null,
   "metadata": {},
   "outputs": [],
   "source": [
    "tissues = df_files.groupby('SMTS').count().sort_values('SMTSD', ascending=False).index"
   ]
  },
  {
   "cell_type": "code",
   "execution_count": null,
   "metadata": {},
   "outputs": [],
   "source": [
    "model=PCA()"
   ]
  },
  {
   "cell_type": "code",
   "execution_count": null,
   "metadata": {},
   "outputs": [],
   "source": [
    "selected = []\n",
    "expl_var = {}\n",
    "twonn_dims = []\n",
    "N=100\n",
    "for i in np.arange(1,len(tissues)-1,1,dtype=int):\n",
    "    print(i)\n",
    "    selected=np.concatenate((selected, df_files[df_files['SMTS']==tissues[i]][:N].index.values))\n",
    "    np.random.shuffle(selected)\n",
    "    data=df.select(list(selected)).toPandas().astype(float).applymap(lambda x: np.log(x+1)).transpose().astype(float).values\n",
    "    model.fit(data)\n",
    "    expl_var[i]=model.explained_variance_\n",
    "    twonn_dims.append(twonn_dimension(data))\n",
    "    gc.collect()"
   ]
  },
  {
   "cell_type": "code",
   "execution_count": null,
   "metadata": {},
   "outputs": [],
   "source": [
    "try:\n",
    "    pd.DataFrame(data=expl_var).to_csv(\"intr_dim.csv\")\n",
    "except:\n",
    "    pass\n",
    "try:\n",
    "    pd.DataFrame(data=twonn_dims).to_csv(\"twonn.csv\")\n",
    "except:\n",
    "    pass"
   ]
  },
  {
   "cell_type": "code",
   "execution_count": null,
   "metadata": {},
   "outputs": [],
   "source": [
    "import matplotlib.pyplot as plt\n",
    "from scipy.optimize import curve_fit"
   ]
  },
  {
   "cell_type": "code",
   "execution_count": null,
   "metadata": {},
   "outputs": [],
   "source": [
    "np.cumsum(expl_var[3])"
   ]
  },
  {
   "cell_type": "code",
   "execution_count": null,
   "metadata": {},
   "outputs": [],
   "source": [
    "fig, ax=plt.subplots()\n",
    "#list(map(lambda data: ax.plot(data[1]), expl_var.items()))\n",
    "ax.plot(np.cumsum(expl_var[3])/np.nansum(expl_var[3]))\n",
    "ax.set_yscale('log')\n",
    "#ax.set_xscale('log')\n",
    "#ax.set_ylim(1e-1,1e5)\n",
    "plt.show()"
   ]
  },
  {
   "cell_type": "code",
   "execution_count": null,
   "metadata": {},
   "outputs": [],
   "source": [
    "x=np.array([i for i in expl_var.keys()])\n",
    "parab = lambda x,a,b,c: a+ b*x+c*x*x\n",
    "fig=plt.figure(figsize=(15,8))\n",
    "for thr in [0.7,0.75,0.8]:\n",
    "    plot_data=[]\n",
    "    for k in expl_var.keys():\n",
    "        var=np.array(expl_var[k])\n",
    "        var = np.cumsum(var)/np.nansum(var)\n",
    "        plot_data.append(len(var[var<thr]))\n",
    "    #par, pot = curve_fit(parab, x,plot_data)\n",
    "    #plt.plot(x, parab(x, *par), ls=':', lw=2, label=\"%d+%.2f x%.3f xx\"%(par[0],par[1],par[2]))\n",
    "    plt.plot(x,plot_data, marker='o', label=\"thr %.1e\"%thr)\n",
    "plt.xlabel('# tissues', fontsize=20)\n",
    "plt.ylabel('intrinsic\\ndimension', fontsize=20)\n",
    "plt.plot(x,x)\n",
    "#plt.plot(x,1.06*x+2)\n",
    "plt.xticks(fontsize=20)\n",
    "plt.yticks(fontsize=20)\n",
    "plt.legend(fontsize=20)\n",
    "n_tissues=np.array([n for n in expl_var.keys()])\n",
    "plt.xticks(ticks=n_tissues, labels=n_tissues+1, rotation=90)\n",
    "plt.show()\n",
    "fig.savefig(\"intrinsic_dimension.pdf\")"
   ]
  },
  {
   "cell_type": "code",
   "execution_count": null,
   "metadata": {},
   "outputs": [],
   "source": [
    "plot_data"
   ]
  },
  {
   "cell_type": "code",
   "execution_count": null,
   "metadata": {},
   "outputs": [],
   "source": [
    "pd.DataFrame(data=list(map(lambda x: np.concatenate([expl_var[x],[np.nan for _ in range(1200-len(expl_var[x]))]]), expl_var))).to_csv(\"intrdim.csv\",index=False, header=True)"
   ]
  },
  {
   "cell_type": "code",
   "execution_count": null,
   "metadata": {},
   "outputs": [],
   "source": [
    "df_ev=pd.read_csv(\"intrdim.csv\",  header=0).transpose()\n",
    "df_ev.columns=df_ev.columns.astype(int)\n",
    "expl_var=df_ev.to_dict('list')"
   ]
  },
  {
   "cell_type": "code",
   "execution_count": null,
   "metadata": {},
   "outputs": [],
   "source": [
    "fig=plt.figure()\n",
    "plt.plot(twonn_dims, marker='o', label='twonn')\n",
    "plt.xticks(fontsize=20)\n",
    "plt.yticks(fontsize=20)\n",
    "plt.legend(fontsize=20)\n",
    "plt.xlabel('# tissues', fontsize=20)\n",
    "plt.ylabel('intrinsic\\ndimension', fontsize=20)\n",
    "#plt.ylim(6,11)\n",
    "n_tissues=np.array([n for n in expl_var.keys()])\n",
    "plt.xticks(ticks=n_tissues-1, labels=n_tissues, rotation=90)\n",
    "plt.show()\n",
    "fig.savefig(\"intrinsic_dimension_twonn.pdf\")"
   ]
  },
  {
   "cell_type": "code",
   "execution_count": null,
   "metadata": {},
   "outputs": [],
   "source": [
    "sc.stop()"
   ]
  }
 ],
 "metadata": {
  "kernelspec": {
   "display_name": "Python 3",
   "language": "python",
   "name": "python3"
  },
  "language_info": {
   "codemirror_mode": {
    "name": "ipython",
    "version": 3
   },
   "file_extension": ".py",
   "mimetype": "text/x-python",
   "name": "python",
   "nbconvert_exporter": "python",
   "pygments_lexer": "ipython3",
   "version": "3.6.9"
  }
 },
 "nbformat": 4,
 "nbformat_minor": 2
}

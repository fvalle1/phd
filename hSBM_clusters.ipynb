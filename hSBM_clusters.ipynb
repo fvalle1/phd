{
 "cells": [
  {
   "cell_type": "code",
   "execution_count": 7,
   "metadata": {},
   "outputs": [],
   "source": [
    "import requests as rq\n",
    "import json\n",
    "import pandas as pd\n",
    "import numpy as np\n",
    "from matplotlib import pyplot as plt\n",
    "import matplotlib.cm as cm\n",
    "from TCGA_files import get_tcga_tissue\n",
    "#from ensembleAPI import geneinfo, genesinfo\n",
    "from sklearn import metrics\n",
    "from hsbmpy import *\n",
    "import os"
   ]
  },
  {
   "cell_type": "code",
   "execution_count": null,
   "metadata": {},
   "outputs": [],
   "source": [
    "import importlib, hsbmpy\n",
    "importlib.reload(hsbmpy)\n",
    "from hsbmpy import *"
   ]
  },
  {
   "cell_type": "markdown",
   "metadata": {},
   "source": [
    "## query many"
   ]
  },
  {
   "cell_type": "code",
   "execution_count": 8,
   "metadata": {},
   "outputs": [
    {
     "data": {
      "text/html": [
       "<div>\n",
       "<style scoped>\n",
       "    .dataframe tbody tr th:only-of-type {\n",
       "        vertical-align: middle;\n",
       "    }\n",
       "\n",
       "    .dataframe tbody tr th {\n",
       "        vertical-align: top;\n",
       "    }\n",
       "\n",
       "    .dataframe thead th {\n",
       "        text-align: right;\n",
       "    }\n",
       "</style>\n",
       "<table border=\"1\" class=\"dataframe\">\n",
       "  <thead>\n",
       "    <tr style=\"text-align: right;\">\n",
       "      <th></th>\n",
       "      <th>Cluster 1</th>\n",
       "      <th>Cluster 2</th>\n",
       "      <th>Cluster 3</th>\n",
       "      <th>Cluster 4</th>\n",
       "      <th>Cluster 5</th>\n",
       "      <th>Cluster 6</th>\n",
       "      <th>Cluster 7</th>\n",
       "      <th>Cluster 8</th>\n",
       "    </tr>\n",
       "  </thead>\n",
       "  <tbody>\n",
       "    <tr>\n",
       "      <th>0</th>\n",
       "      <td>87fcecde-b317-4518-bea1-cc8d14a18107.FPKM.txt.gz</td>\n",
       "      <td>8682197b-7b3d-4d3f-8f3d-8be702aa02fd.FPKM.txt.gz</td>\n",
       "      <td>8dfe19ae-aec1-4de5-9b94-1a48c05c11c5.FPKM.txt.gz</td>\n",
       "      <td>c592e62e-5de0-4c40-8e4c-f56b9546a545.FPKM.txt.gz</td>\n",
       "      <td>899a4fae-569f-463c-8cb1-049b9d50b9f4.FPKM.txt.gz</td>\n",
       "      <td>97be5457-526d-42ee-ace4-d900b8c6fd5f.FPKM.txt.gz</td>\n",
       "      <td>b5dc51e7-76d4-480f-bc2f-a0fc74947c35.FPKM.txt.gz</td>\n",
       "      <td>55030097-d293-41e0-a554-38f40282b6dc.FPKM.txt.gz</td>\n",
       "    </tr>\n",
       "    <tr>\n",
       "      <th>1</th>\n",
       "      <td>eaf65f67-8d04-49ec-8bf6-883237d6e67e.FPKM.txt.gz</td>\n",
       "      <td>e1877a07-b5ec-4ada-89cb-525e5abf966a.FPKM.txt.gz</td>\n",
       "      <td>1d102e83-ede2-460e-ab2e-f42d8db6970e.FPKM.txt.gz</td>\n",
       "      <td>cf7e72eb-b82f-44c8-894c-3995571ffe81.FPKM.txt.gz</td>\n",
       "      <td>446db9e9-d5aa-48ba-a84d-cf6a7d8f8fc4.FPKM.txt.gz</td>\n",
       "      <td>9f0d673f-ff69-4d01-910c-f04921b538a2.FPKM.txt.gz</td>\n",
       "      <td>1651f9c4-219f-4d46-adcc-6003c91eb059.FPKM.txt.gz</td>\n",
       "      <td>d5f0ea64-6660-49ac-a37e-3cd747045147.FPKM.txt.gz</td>\n",
       "    </tr>\n",
       "    <tr>\n",
       "      <th>2</th>\n",
       "      <td>c64c76e7-635c-458e-a032-07775aeb03d9.FPKM.txt.gz</td>\n",
       "      <td>205e7e19-1169-41a2-ac34-f8e1088e1015.FPKM.txt.gz</td>\n",
       "      <td>a6f657a3-439e-4afd-be04-413f2ed02828.FPKM.txt.gz</td>\n",
       "      <td>ca223822-8759-42a7-8058-ccd90a02320f.FPKM.txt.gz</td>\n",
       "      <td>70029e42-3b29-48f5-908e-7cd203103277.FPKM.txt.gz</td>\n",
       "      <td>b033c85a-2395-4ced-a84d-ac1fbce674bf.FPKM.txt.gz</td>\n",
       "      <td>0733fd68-9cd5-440a-a849-fb14ef76c00d.FPKM.txt.gz</td>\n",
       "      <td>NaN</td>\n",
       "    </tr>\n",
       "    <tr>\n",
       "      <th>3</th>\n",
       "      <td>b8e564b0-affd-4137-a10c-be4fe254a905.FPKM.txt.gz</td>\n",
       "      <td>bceffa81-996d-4775-a452-23b31a25daf9.FPKM.txt.gz</td>\n",
       "      <td>f641a19d-8497-4bc7-9df1-5228adfd5334.FPKM.txt.gz</td>\n",
       "      <td>bdd8c340-250b-474a-8802-7653b7884ced.FPKM.txt.gz</td>\n",
       "      <td>dc0592cf-5a96-4aed-86b2-eb7de5492b7c.FPKM.txt.gz</td>\n",
       "      <td>07d9b7c5-d77b-4b89-8c65-10e98149bdeb.FPKM.txt.gz</td>\n",
       "      <td>0f5282f4-e702-41f2-b93f-a1966203879f.FPKM.txt.gz</td>\n",
       "      <td>NaN</td>\n",
       "    </tr>\n",
       "    <tr>\n",
       "      <th>4</th>\n",
       "      <td>9bfd1930-f3c9-48f2-8b02-4d01b70b4ea0.FPKM.txt.gz</td>\n",
       "      <td>1f853089-c40d-4bee-9833-837f327b275a.FPKM.txt.gz</td>\n",
       "      <td>111d998f-4133-436a-9990-64cb293a986e.FPKM.txt.gz</td>\n",
       "      <td>23f8f5e2-25b8-4b43-b939-66e7e3f55977.FPKM.txt.gz</td>\n",
       "      <td>7af2075c-0386-4971-ae25-375330ef6cec.FPKM.txt.gz</td>\n",
       "      <td>ba08bef5-b401-4327-8923-bd5cfe44bb11.FPKM.txt.gz</td>\n",
       "      <td>d6b9e128-8f20-43a1-9d16-b3e2b3d60e34.FPKM.txt.gz</td>\n",
       "      <td>NaN</td>\n",
       "    </tr>\n",
       "  </tbody>\n",
       "</table>\n",
       "</div>"
      ],
      "text/plain": [
       "                                          Cluster 1  \\\n",
       "0  87fcecde-b317-4518-bea1-cc8d14a18107.FPKM.txt.gz   \n",
       "1  eaf65f67-8d04-49ec-8bf6-883237d6e67e.FPKM.txt.gz   \n",
       "2  c64c76e7-635c-458e-a032-07775aeb03d9.FPKM.txt.gz   \n",
       "3  b8e564b0-affd-4137-a10c-be4fe254a905.FPKM.txt.gz   \n",
       "4  9bfd1930-f3c9-48f2-8b02-4d01b70b4ea0.FPKM.txt.gz   \n",
       "\n",
       "                                          Cluster 2  \\\n",
       "0  8682197b-7b3d-4d3f-8f3d-8be702aa02fd.FPKM.txt.gz   \n",
       "1  e1877a07-b5ec-4ada-89cb-525e5abf966a.FPKM.txt.gz   \n",
       "2  205e7e19-1169-41a2-ac34-f8e1088e1015.FPKM.txt.gz   \n",
       "3  bceffa81-996d-4775-a452-23b31a25daf9.FPKM.txt.gz   \n",
       "4  1f853089-c40d-4bee-9833-837f327b275a.FPKM.txt.gz   \n",
       "\n",
       "                                          Cluster 3  \\\n",
       "0  8dfe19ae-aec1-4de5-9b94-1a48c05c11c5.FPKM.txt.gz   \n",
       "1  1d102e83-ede2-460e-ab2e-f42d8db6970e.FPKM.txt.gz   \n",
       "2  a6f657a3-439e-4afd-be04-413f2ed02828.FPKM.txt.gz   \n",
       "3  f641a19d-8497-4bc7-9df1-5228adfd5334.FPKM.txt.gz   \n",
       "4  111d998f-4133-436a-9990-64cb293a986e.FPKM.txt.gz   \n",
       "\n",
       "                                          Cluster 4  \\\n",
       "0  c592e62e-5de0-4c40-8e4c-f56b9546a545.FPKM.txt.gz   \n",
       "1  cf7e72eb-b82f-44c8-894c-3995571ffe81.FPKM.txt.gz   \n",
       "2  ca223822-8759-42a7-8058-ccd90a02320f.FPKM.txt.gz   \n",
       "3  bdd8c340-250b-474a-8802-7653b7884ced.FPKM.txt.gz   \n",
       "4  23f8f5e2-25b8-4b43-b939-66e7e3f55977.FPKM.txt.gz   \n",
       "\n",
       "                                          Cluster 5  \\\n",
       "0  899a4fae-569f-463c-8cb1-049b9d50b9f4.FPKM.txt.gz   \n",
       "1  446db9e9-d5aa-48ba-a84d-cf6a7d8f8fc4.FPKM.txt.gz   \n",
       "2  70029e42-3b29-48f5-908e-7cd203103277.FPKM.txt.gz   \n",
       "3  dc0592cf-5a96-4aed-86b2-eb7de5492b7c.FPKM.txt.gz   \n",
       "4  7af2075c-0386-4971-ae25-375330ef6cec.FPKM.txt.gz   \n",
       "\n",
       "                                          Cluster 6  \\\n",
       "0  97be5457-526d-42ee-ace4-d900b8c6fd5f.FPKM.txt.gz   \n",
       "1  9f0d673f-ff69-4d01-910c-f04921b538a2.FPKM.txt.gz   \n",
       "2  b033c85a-2395-4ced-a84d-ac1fbce674bf.FPKM.txt.gz   \n",
       "3  07d9b7c5-d77b-4b89-8c65-10e98149bdeb.FPKM.txt.gz   \n",
       "4  ba08bef5-b401-4327-8923-bd5cfe44bb11.FPKM.txt.gz   \n",
       "\n",
       "                                          Cluster 7  \\\n",
       "0  b5dc51e7-76d4-480f-bc2f-a0fc74947c35.FPKM.txt.gz   \n",
       "1  1651f9c4-219f-4d46-adcc-6003c91eb059.FPKM.txt.gz   \n",
       "2  0733fd68-9cd5-440a-a849-fb14ef76c00d.FPKM.txt.gz   \n",
       "3  0f5282f4-e702-41f2-b93f-a1966203879f.FPKM.txt.gz   \n",
       "4  d6b9e128-8f20-43a1-9d16-b3e2b3d60e34.FPKM.txt.gz   \n",
       "\n",
       "                                          Cluster 8  \n",
       "0  55030097-d293-41e0-a554-38f40282b6dc.FPKM.txt.gz  \n",
       "1  d5f0ea64-6660-49ac-a37e-3cd747045147.FPKM.txt.gz  \n",
       "2                                               NaN  \n",
       "3                                               NaN  \n",
       "4                                               NaN  "
      ]
     },
     "execution_count": 8,
     "metadata": {},
     "output_type": "execute_result"
    }
   ],
   "source": [
    "level = 1\n",
    "algorithm = 'topsbm'\n",
    "directory = \"/home/jovyan/work/phd/datasets/cancers/breast\"\n",
    "L=get_max_available_L(directory, algorithm)\n",
    "df_clusters = pd.read_csv(\"%s/%s/%s_level_%d_clusters.csv\"%(directory,algorithm,algorithm,L), header=[0])\n",
    "df_clusters.head()"
   ]
  },
  {
   "cell_type": "code",
   "execution_count": 9,
   "metadata": {},
   "outputs": [],
   "source": [
    "#df_files = pd.read_csv(\"https://storage.googleapis.com/gtex_analysis_v8/annotations/GTEx_Analysis_v8_Annotations_SampleAttributesDS.txt\", sep='\\t')\n",
    "#df_files.set_index('SAMPID', inplace=True)\n",
    "#df_files.dropna(how='all', axis=0).to_csv(\"%s/files.dat\"%directory, index=True, header=True)"
   ]
  },
  {
   "cell_type": "code",
   "execution_count": 10,
   "metadata": {},
   "outputs": [
    {
     "data": {
      "text/plain": [
       "Index(['cases.0.submitter_id', 'cases.0.diagnoses.0.primary_diagnosis',\n",
       "       'cases.0.diagnoses.0.morphology',\n",
       "       'cases.0.diagnoses.0.tissue_or_organ_of_origin',\n",
       "       'cases.0.diagnoses.0.tumor_grade', 'cases.0.diagnoses.0.tumor_stage',\n",
       "       'cases.0.project.disease_type', 'cases.0.project.primary_site',\n",
       "       'cases.0.samples.0.longest_dimension', 'Tumor.Type',\n",
       "       'Included_in_previous_marker_papers', 'vital_status', 'days_to_birth',\n",
       "       'days_to_death', 'days_to_last_followup',\n",
       "       'age_at_initial_pathologic_diagnosis', 'pathologic_stage',\n",
       "       'Tumor_Grade', 'BRCA_Pathology', 'BRCA_Subtype_PAM50', 'MSI_status',\n",
       "       'HPV_Status', 'tobacco_smoking_history', 'CNV Clusters',\n",
       "       'Mutation Clusters', 'DNA.Methylation Clusters', 'mRNA Clusters',\n",
       "       'miRNA Clusters', 'lncRNA Clusters', 'Protein Clusters',\n",
       "       'PARADIGM Clusters', 'Pan-Gyn Clusters', 'birth_year', 'death_year',\n",
       "       'age', 'age_binned', 'cancer.type', 'Subtype_mRNA', 'Subtype_DNAmeth',\n",
       "       'Subtype_protein', 'Subtype_miRNA', 'Subtype_CNA',\n",
       "       'Subtype_Integrative', 'Subtype_other', 'Subtype_Selected',\n",
       "       'Subtype_Selected_Lum'],\n",
       "      dtype='object')"
      ]
     },
     "execution_count": 10,
     "metadata": {},
     "output_type": "execute_result"
    }
   ],
   "source": [
    "df_files = pd.read_csv(\"%s/files.dat\"%directory, index_col=[0], header=[0]).dropna(axis=1, how='all').dropna(axis=0, how='all')\n",
    "samples = pd.read_csv(\"%s/%s/%s_level_0_clusters.csv\"%(directory,algorithm,algorithm), header=[0]).astype(str).values.ravel()\n",
    "samples=samples[samples!=\"nan\"]\n",
    "df_files=df_files.reindex(index=samples).dropna(how=\"all\", axis=0)\n",
    "labels=df_files.columns\n",
    "labels"
   ]
  },
  {
   "cell_type": "code",
   "execution_count": null,
   "metadata": {},
   "outputs": [],
   "source": [
    "df_files[\"dataset_status\"]=df_files[\"dataset\"]+\"_\"+df_files[\"status\"]\n",
    "labels=[\"dataset_status\"]"
   ]
  },
  {
   "cell_type": "code",
   "execution_count": 11,
   "metadata": {},
   "outputs": [],
   "source": [
    "labels=['primary_site', 'disease_type']\n",
    "#labels = ['subtype', 'pathologic_stage', 'vital_status','days_to_death_binned']\n",
    "labels = ['primary_site', 'disease_type', 'primary_diagnosis', \n",
    "       'methylation_subtype', 'expression_subtype',\n",
    "       'hypermutated', 'cancer',\n",
    "       'anatomic_organ_subdivision', 'tumor_site',\n",
    "       'age_at_initial_pathologic_diagnosis', 'days_to_death',\n",
    "       'distant_metastasis_pathologic_spread', 'gender', 'histological_type',\n",
    "       'history_of_colon_polyps',     'lymphatic_invasion_present', 'lymphnode_pathologic_spread',\n",
    "       'person_neoplasm_cancer_status', 'preoperative_pretreatment_cea_level',\n",
    "       'primary_tumor_pathologic_spread', 'prior_diagnosis', 'residual_tumor',\n",
    "       'synchronous_colon_cancer_present', 'tumor_stage',\n",
    "       'vascular_invasion_present', 'vital_status'] #crectal\n",
    "\n",
    "#labels = ['cases.0.diagnoses.0.morphology',\n",
    "#       'cases.0.diagnoses.0.primary_diagnosis',\n",
    "#       'cases.0.diagnoses.0.tissue_or_organ_of_origin',\n",
    "#       'cases.0.diagnoses.0.tumor_grade', 'cases.0.diagnoses.0.tumor_stage',\n",
    "#       'cases.0.project.disease_type', 'cases.0.project.primary_site',\n",
    "#       'cases.0.samples.0.longest_dimension'] #lung\n",
    "\n",
    "labels = [\"Survival(days)\", 'Sample_characteristics_ch0', 'Sample_characteristics_ch1',\n",
    "       'Sample_characteristics_ch2', 'Sample_characteristics_ch3',\n",
    "       'Sample_characteristics_ch4', 'Sample_characteristics_ch5',\n",
    "       'Sample_characteristics_ch6', 'Sample_characteristics_ch7',\n",
    "       'Sample_characteristics_ch8', 'Sample_growth_protocol_ch1']# pancreas\n",
    "labels = ['Subtype_Selected']\n",
    "#labels=['SMTS', \"SMTSD\"]"
   ]
  },
  {
   "cell_type": "code",
   "execution_count": null,
   "metadata": {},
   "outputs": [],
   "source": [
    "labels = ['cases.0.diagnoses.0.tumor_grade', 'cases.0.diagnoses.0.tumor_stage',\n",
    "         'cases.0.diagnoses.0.primary_diagnosis']"
   ]
  },
  {
   "cell_type": "code",
   "execution_count": null,
   "metadata": {},
   "outputs": [],
   "source": [
    "for normalise in [True, False]:\n",
    "    for label in labels:\n",
    "        for level in np.arange(L+1)[::-1]:\n",
    "            if level==0:\n",
    "                #pass\n",
    "                continue\n",
    "            print(normalise, label, level)\n",
    "            try:\n",
    "                cluster = get_cluster_given_l(level, directory,algorithm=algorithm)\n",
    "                fraction_sites = get_fraction_sites(cluster,df_files=df_files,label=label, normalise=normalise)\n",
    "\n",
    "                #fsdf = pd.DataFrame(data=fraction_sites)\n",
    "                #fsdf = fsdf.drop('Other', axis=1)\n",
    "                #fsdf = fsdf.divide(fsdf.sum(axis=1), axis=0).fillna(0)\n",
    "                #fraction_sites = fsdf.sort_values(by=fsdf.columns.to_list(), ascending=True).to_dict(orient='list')\n",
    "\n",
    "                clustersinfo = get_clustersinfo(cluster,fraction_sites)\n",
    "                plot_cluster_composition(fraction_sites,directory,level,label=label, normalise=normalise,algorithm=algorithm)\n",
    "                make_heatmap(fraction_sites, directory, label, level, normalise=normalise,algorithm=algorithm)\n",
    "\n",
    "                clustersinfo = get_clustersinfo(cluster,fraction_sites)            \n",
    "                if not normalise:\n",
    "                    plot_maximum(clustersinfo,cluster,label,level, directory,algorithm=algorithm)\n",
    "                    plot_maximum_size(clustersinfo,label,level, directory,algorithm=algorithm)\n",
    "                    plot_maximum_label(clustersinfo,label,level, directory,algorithm=algorithm)\n",
    "                    plot_sizes(level,directory, algorithm=algorithm)\n",
    "            except:\n",
    "                print(*sys.exc_info())\n",
    "            shuffle_files(df_files,label).to_csv(\"%s/files_shuffles.dat\"%directory, index=True)\n",
    "            fraction_sites_shuffle = get_fraction_sites(cluster, pd.read_csv(\"%s/files_shuffles.dat\"%directory, index_col=[0]),label=label, normalise=normalise)\n",
    "            clustersinfo_shuffle = get_clustersinfo(cluster, fraction_sites_shuffle)\n",
    "            plot_cluster_composition(fraction_sites_shuffle,directory,level, label=label, shuffled=True, normalise=normalise)\n",
    "            if not normalise:\n",
    "                plot_maximum(clustersinfo,cluster,label,level,directory,clustersinfo_shuffle,algorithm=algorithm)\n",
    "                plot_maximum_size(clustersinfo,label,level, directory,clustersinfo_shuffle,algorithm=algorithm)\n",
    "                plot_maximum_label(clustersinfo,label,level, directory,clustersinfo_shuffle,algorithm=algorithm)\n",
    "                plot_labels_size(clustersinfo,label,level, directory,clustersinfo_shuffle,algorithm=algorithm)"
   ]
  },
  {
   "cell_type": "code",
   "execution_count": null,
   "metadata": {},
   "outputs": [],
   "source": [
    "##useful for R clustree plot\n",
    "def reindex(x):\n",
    "    i=1\n",
    "    last=x[0]\n",
    "    new = []\n",
    "    for xi in x:\n",
    "        if xi == last:\n",
    "            pass\n",
    "        else:\n",
    "            i+=1\n",
    "            last=xi\n",
    "        new.append(i)\n",
    "    return new\n",
    "\n",
    "df_clusters = pd.read_csv(\"%s/%s/%s_level_%d_clusters.csv\"%(directory,algorithm,algorithm,L), header=[0])\n",
    "df_labels = pd.DataFrame()\n",
    "shape = df_clusters.dropna().shape\n",
    "files = df_clusters.dropna().values.reshape(shape[0]*shape[1],)\n",
    "for level in np.arange(L+1)[::-1]:\n",
    "    print(level)\n",
    "    df_clusters = pd.read_csv(\"%s/%s/%s_level_%d_clusters.csv\"%(directory,algorithm,algorithm,level), header=[0])\n",
    "    currentlevellabels = []\n",
    "    for file in files:\n",
    "        s = df_clusters[df_clusters.isin([file])].any(0)\n",
    "        a = s.index[s]\n",
    "        currentlevellabels.append(int(a[0][8:])-1)\n",
    "    df_labels.insert(0,'l%d'%level,currentlevellabels)\n",
    "    del currentlevellabels\n",
    "filelabels = []\n",
    "filesublabels = []\n",
    "for file in files:\n",
    "    try:\n",
    "        filelabels.append(get_file(file, df_files)[labels[0]])\n",
    "        filesublabels.append(get_file(file, df_files)[labels[1]])\n",
    "    except:\n",
    "        filelabels.append('unknown')\n",
    "        filesublabels.append('unknown')\n",
    "        print(*sys.exc_info())\n",
    "df_labels.insert(0,'tissue', filelabels)\n",
    "df_labels.insert(0,'subtissue', filesublabels)\n",
    "df_labels.sort_values(by=['tissue','subtissue'], inplace=True)\n",
    "df_labels.sort_values(by=[\"l%d\"%l for l in np.arange(L+1)[:0:-1]], axis=0, inplace=True)\n",
    "filelabels = df_labels['tissue']\n",
    "filesublabels = df_labels['subtissue']\n",
    "df_labels = df_labels.apply(reindex, axis=0)\n",
    "df_labels['tissue']=filelabels\n",
    "df_labels['subtissue']=filesublabels\n",
    "df_labels.to_csv(\"%s/%s/topsbm_labels.csv\"%(directory,algorithm), index=False, header=True)"
   ]
  },
  {
   "cell_type": "code",
   "execution_count": null,
   "metadata": {},
   "outputs": [],
   "source": [
    "if \"clustersizes.txt\" in os.listdir(directory):\n",
    "    with open(\"%s/clustersizes.txt\"%directory, 'r') as f:\n",
    "        xl=np.array(f.read().split()).astype(int)\n",
    "else:\n",
    "    try:\n",
    "        xl = getclustersizesarray(directory, L)\n",
    "        with open(\"%s/clustersizes.txt\" % directory, 'w') as f:\n",
    "            for x in xl:\n",
    "                f.write(\"%d\\n\" % x)\n",
    "    except:\n",
    "        print(*sys.exc_info())\n",
    "        print(\"cannot save clustersizes.txt\")\n",
    "\n",
    "if \"topicsizes.txt\" in os.listdir(directory):\n",
    "    with open(\"%s/topicsizes.txt\"%directory) as f:\n",
    "        tl=np.array(f.read().split()).astype(int)\n",
    "else:\n",
    "    try:\n",
    "        tl = gettopicsizesarray(directory, L)\n",
    "        with open(\"%s/topicsizes.txt\" % directory, 'w') as f:\n",
    "            for x in tl:\n",
    "                f.write(\"%d\\n\" % x)\n",
    "    except:\n",
    "        print(\"cannot save topicsizes.txt\")"
   ]
  },
  {
   "cell_type": "code",
   "execution_count": null,
   "metadata": {},
   "outputs": [],
   "source": [
    "scores = get_scores(directory, labels, verbose=False)\n",
    "scores['hsbm'] = scores[labels[0]]"
   ]
  },
  {
   "cell_type": "code",
   "execution_count": null,
   "metadata": {},
   "outputs": [],
   "source": [
    "fig=plt.figure(figsize=(18,15))\n",
    "ax = fig.subplots(1)\n",
    "add_score_lines(ax,scores,labels, alpha=1)\n",
    "ax.set_xscale('log')\n",
    "ax.set_ylim(0,1)\n",
    "\n",
    "plt.show()\n",
    "fig.savefig(\"%s/metric_scores_hierstructure.pdf\"%(directory))"
   ]
  },
  {
   "cell_type": "code",
   "execution_count": null,
   "metadata": {},
   "outputs": [],
   "source": [
    "fig=plt.figure(figsize=(18,15))\n",
    "ax = fig.subplots(1)\n",
    "#add_score_lines(ax,scores,[labels[0]],xl, h=True, c=True, alpha=1)\n",
    "h = np.array(scores['hsbm']['h'])\n",
    "c = np.array(scores['hsbm']['c'])\n",
    "ax.plot(scores['hsbm']['xl'],h, marker='o', ls='--', lw=10, ms=40, label='homogeneity')\n",
    "ax.plot(scores['hsbm']['xl'],c, marker='o', ls='-.', lw=10,ms=40, label='completeness')\n",
    "ax.plot(scores['hsbm']['xl'],scores['hsbm']['V'], marker='o', ms=40, ls='-', lw=10, label='score')\n",
    "ax.set_xscale('log')\n",
    "ax.set_ylim(0,1)\n",
    "#ax.plot(xl, 2*h*c/(h+c), ls='-',c='g')\n",
    "plt.xticks(fontsize=35)\n",
    "plt.yticks(fontsize=35)\n",
    "plt.legend(fontsize=35)\n",
    "\n",
    "ax.tick_params(labelsize=35, width=8, length=20)\n",
    "ax.tick_params(which=\"minor\", labelsize=35, width=5, length=15)\n",
    "\n",
    "plt.xlabel('number of clusters', fontsize=35)\n",
    "plt.ylabel('measure', fontsize=35)\n",
    "plt.show()\n",
    "fig.savefig(\"%s/metric_scores_primarysite.pdf\"%(directory))"
   ]
  },
  {
   "cell_type": "code",
   "execution_count": 12,
   "metadata": {},
   "outputs": [],
   "source": [
    "label = \"Subtype_Selected\"\n",
    "scores = {}\n",
    "scores['hsbm'] = get_scores(directory, labels, df_files=df_files, verbose=False)[label]\n",
    "scores['hierarchical'] = get_scores(directory, labels, algorithm='hierarchical', verbose=False)[label]\n",
    "scores['lda'] = get_scores(directory, labels, algorithm='lda', verbose=False)[label]\n",
    "#scores['kmeans'] = get_scores(directory, labels, algorithm='kmeans', verbose=False)[label]\n",
    "#scores['tm']=get_scores(directory, labels, algorithm='tm', verbose=False)[label]\n",
    "#scores['cc']=get_scores(directory, labels, algorithm='cc', verbose=False)[label]\n",
    "scores['wgcna']=get_scores(directory, labels, algorithm='wgcna', verbose=False)[label]\n",
    "scores['shuffle'] = get_scores_shuffled(directory, df_files, label=label, algorithm='topsbm')"
   ]
  },
  {
   "cell_type": "code",
   "execution_count": null,
   "metadata": {},
   "outputs": [],
   "source": [
    "scores['hierarchical-log'] = get_scores(directory, labels, algorithm='hierarchical-log', verbose=False)[label]\n",
    "#scores['lda-tpm'] = get_scores(directory, labels, algorithm='lda-tpm', verbose=False)[label]\n",
    "#scores['hsbm-log2'] = get_scores(directory, labels, algorithm='topsbm-log', verbose=False)[label]\n",
    "#scores['hsbm-log10'] = get_scores(directory, labels, algorithm='topsbm-log10', verbose=False)[label]"
   ]
  },
  {
   "cell_type": "code",
   "execution_count": null,
   "metadata": {},
   "outputs": [],
   "source": [
    "scores[\"tissues\"] = get_scores(directory, labels, verbose=False)[\"SMTS\"]\n",
    "scores[\"sub_tissues\"] = get_scores(directory, labels, verbose=False)[\"SMTSD\"]"
   ]
  },
  {
   "cell_type": "code",
   "execution_count": 13,
   "metadata": {},
   "outputs": [
    {
     "name": "stdout",
     "output_type": "stream",
     "text": [
      "No score for tm\n",
      "No score for hierarchical-log\n"
     ]
    },
    {
     "data": {
      "image/png": "[encoded data removed]",
      "text/plain": [
       "<Figure size 1440x1080 with 1 Axes>"
      ]
     },
     "metadata": {},
     "output_type": "display_data"
    }
   ],
   "source": [
    "fig=plt.figure(figsize=(20,15))\n",
    "ax = fig.subplots(1)\n",
    "add_score_lines(ax,scores,labels=['hsbm', 'tm', 'hierarchical-log', 'lda', 'wgcna', 'shuffle'])\n",
    "#add_score_lines(ax,scores,labels=[\"tissues\", \"sub_tissues\",'shuffle'])\n",
    "#add_score_lines(ax,scores,labels=[\"hsbm\", \"hsbm-log2\",\"hsbm-log10\",'shuffle'])\n",
    "#ax.set_xscale('linear')\n",
    "plt.xlim(1,2000)\n",
    "plt.show()\n",
    "fig.savefig(\"%s/metric_scores_all.pdf\"%(directory))"
   ]
  },
  {
   "cell_type": "code",
   "execution_count": null,
   "metadata": {},
   "outputs": [],
   "source": [
    "scores.keys()"
   ]
  }
 ],
 "metadata": {
  "kernelspec": {
   "display_name": "Python 3",
   "language": "python",
   "name": "python3"
  },
  "language_info": {
   "codemirror_mode": {
    "name": "ipython",
    "version": 3
   },
   "file_extension": ".py",
   "mimetype": "text/x-python",
   "name": "python",
   "nbconvert_exporter": "python",
   "pygments_lexer": "ipython3",
   "version": "3.7.6"
  },
  "widgets": {
   "application/vnd.jupyter.widget-state+json": {
    "state": {},
    "version_major": 2,
    "version_minor": 0
   }
  }
 },
 "nbformat": 4,
 "nbformat_minor": 4
}

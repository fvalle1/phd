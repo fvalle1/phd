{
 "cells": [
  {
   "cell_type": "code",
   "execution_count": null,
   "metadata": {},
   "outputs": [],
   "source": [
    "import requests as rq\n",
    "import json\n",
    "import pandas as pd\n",
    "import numpy as np\n",
    "from matplotlib import pyplot as plt\n",
    "import matplotlib.cm as cm\n",
    "from TCGA_files import get_tcga_tissue\n",
    "#from ensembleAPI import geneinfo, genesinfo\n",
    "from sklearn import metrics\n",
    "from hsbmpy import *\n",
    "import os"
   ]
  },
  {
   "cell_type": "code",
   "execution_count": null,
   "metadata": {},
   "outputs": [],
   "source": [
    "import importlib, hsbmpy\n",
    "importlib.reload(hsbmpy)\n",
    "from hsbmpy import *"
   ]
  },
  {
   "cell_type": "markdown",
   "metadata": {},
   "source": [
    "## query many"
   ]
  },
  {
   "cell_type": "code",
   "execution_count": null,
   "metadata": {},
   "outputs": [],
   "source": [
    "level = 1\n",
    "algorithm = 'hierarchical'\n",
    "directory = \"/home/jovyan/work/phd/datasets/cancers/breast\"\n",
    "L=get_max_available_L(directory, algorithm)\n",
    "df_clusters = pd.read_csv(\"%s/%s/%s_level_%d_clusters.csv\"%(directory,algorithm,algorithm,L), header=[0])\n",
    "df_clusters.head()"
   ]
  },
  {
   "cell_type": "code",
   "execution_count": null,
   "metadata": {},
   "outputs": [],
   "source": [
    "#df_files = pd.read_csv(\"https://storage.googleapis.com/gtex_analysis_v8/annotations/GTEx_Analysis_v8_Annotations_SampleAttributesDS.txt\", sep='\\t')\n",
    "#df_files.set_index('SAMPID', inplace=True)\n",
    "#df_files.dropna(how='all', axis=0).to_csv(\"%s/files.dat\"%directory, index=True, header=True)"
   ]
  },
  {
   "cell_type": "code",
   "execution_count": null,
   "metadata": {},
   "outputs": [],
   "source": [
    "df_files = pd.read_csv(\"%s/files.dat\"%directory, index_col=[0], header=[0]).dropna(axis=1, how='all').dropna(axis=0, how='all')\n",
    "samples = pd.read_csv(\"%s/%s/%s_level_0_clusters.csv\"%(directory,algorithm,algorithm), header=[0]).astype(str).values.ravel()\n",
    "samples=samples[samples!=\"nan\"]\n",
    "df_files=df_files.reindex(index=samples).dropna(how=\"all\", axis=0)\n",
    "labels=df_files.columns\n",
    "labels"
   ]
  },
  {
   "cell_type": "code",
   "execution_count": null,
   "metadata": {},
   "outputs": [],
   "source": [
    "df_files[\"dataset_status\"]=df_files[\"dataset\"]+\"_\"+df_files[\"status\"]\n",
    "labels=[\"dataset_status\"]"
   ]
  },
  {
   "cell_type": "code",
   "execution_count": null,
   "metadata": {},
   "outputs": [],
   "source": [
    "df_files[\"Subtype_Selected\"].unique()"
   ]
  },
  {
   "cell_type": "code",
   "execution_count": null,
   "metadata": {},
   "outputs": [],
   "source": [
    "labels=['primary_site', 'disease_type']\n",
    "#labels = ['subtype', 'pathologic_stage', 'vital_status','days_to_death_binned']\n",
    "labels = ['primary_site', 'disease_type', 'primary_diagnosis', \n",
    "       'methylation_subtype', 'expression_subtype',\n",
    "       'hypermutated', 'cancer',\n",
    "       'anatomic_organ_subdivision', 'tumor_site',\n",
    "       'age_at_initial_pathologic_diagnosis', 'days_to_death',\n",
    "       'distant_metastasis_pathologic_spread', 'gender', 'histological_type',\n",
    "       'history_of_colon_polyps',     'lymphatic_invasion_present', 'lymphnode_pathologic_spread',\n",
    "       'person_neoplasm_cancer_status', 'preoperative_pretreatment_cea_level',\n",
    "       'primary_tumor_pathologic_spread', 'prior_diagnosis', 'residual_tumor',\n",
    "       'synchronous_colon_cancer_present', 'tumor_stage',\n",
    "       'vascular_invasion_present', 'vital_status'] #crectal\n",
    "\n",
    "#labels = ['cases.0.diagnoses.0.morphology',\n",
    "#       'cases.0.diagnoses.0.primary_diagnosis',\n",
    "#       'cases.0.diagnoses.0.tissue_or_organ_of_origin',\n",
    "#       'cases.0.diagnoses.0.tumor_grade', 'cases.0.diagnoses.0.tumor_stage',\n",
    "#       'cases.0.project.disease_type', 'cases.0.project.primary_site',\n",
    "#       'cases.0.samples.0.longest_dimension'] #lung\n",
    "\n",
    "labels = [\"Survival(days)\", 'Sample_characteristics_ch0', 'Sample_characteristics_ch1',\n",
    "       'Sample_characteristics_ch2', 'Sample_characteristics_ch3',\n",
    "       'Sample_characteristics_ch4', 'Sample_characteristics_ch5',\n",
    "       'Sample_characteristics_ch6', 'Sample_characteristics_ch7',\n",
    "       'Sample_characteristics_ch8', 'Sample_growth_protocol_ch1']# pancreas\n",
    "labels = [\"Subtype_Selected\",'cancer.type']\n",
    "#labels=['SMTS', \"SMTSD\"]\n",
    "labels = [\"Subtype_Selected_Lum\"]"
   ]
  },
  {
   "cell_type": "code",
   "execution_count": null,
   "metadata": {},
   "outputs": [],
   "source": [
    "labels = ['cases.0.diagnoses.0.tumor_grade', 'cases.0.diagnoses.0.tumor_stage',\n",
    "         'cases.0.diagnoses.0.primary_diagnosis']"
   ]
  },
  {
   "cell_type": "code",
   "execution_count": null,
   "metadata": {
    "jupyter": {
     "outputs_hidden": true
    }
   },
   "outputs": [],
   "source": [
    "for normalise in [True, False]:\n",
    "    for label in labels:\n",
    "        for level in np.arange(L+1)[::-1]:\n",
    "            if level==0:\n",
    "                #pass\n",
    "                continue\n",
    "            print(normalise, label, level)\n",
    "            try:\n",
    "                cluster = get_cluster_given_l(level, directory,algorithm=algorithm)\n",
    "                fraction_sites = get_fraction_sites(cluster,df_files=df_files,label=label, normalise=normalise)\n",
    "\n",
    "                clustersinfo = get_clustersinfo(cluster,fraction_sites)\n",
    "                plot_cluster_composition(fraction_sites,directory,level,label=label, normalise=normalise,algorithm=algorithm)\n",
    "                make_heatmap(fraction_sites, directory, label, level, normalise=normalise,algorithm=algorithm)\n",
    "\n",
    "                clustersinfo = get_clustersinfo(cluster,fraction_sites)            \n",
    "                if not normalise:\n",
    "                    plot_maximum(clustersinfo,cluster,label,level, directory,algorithm=algorithm)\n",
    "                    plot_maximum_size(clustersinfo,label,level, directory,algorithm=algorithm)\n",
    "                    plot_maximum_label(clustersinfo,label,level, directory,algorithm=algorithm)\n",
    "                    plot_sizes(level,directory, algorithm=algorithm)\n",
    "            except:\n",
    "                print(*sys.exc_info())\n",
    "            shuffle_files(df_files,label).to_csv(\"%s/files_shuffles.dat\"%directory, index=True)\n",
    "            fraction_sites_shuffle = get_fraction_sites(cluster, df_files=pd.read_csv(\"%s/files_shuffles.dat\"%directory, index_col=[0]),label=label, normalise=normalise)\n",
    "            clustersinfo_shuffle = get_clustersinfo(cluster, fraction_sites_shuffle)\n",
    "            plot_cluster_composition(fraction_sites_shuffle,directory,level, label=label, shuffled=True, normalise=normalise, algorithm=algorithm)\n",
    "            if not normalise:\n",
    "                plot_maximum(clustersinfo,cluster,label,level,directory,clustersinfo_shuffle,algorithm=algorithm)\n",
    "                plot_maximum_size(clustersinfo,label,level, directory,clustersinfo_shuffle,algorithm=algorithm)\n",
    "                plot_maximum_label(clustersinfo,label,level, directory,clustersinfo_shuffle,algorithm=algorithm)\n",
    "                plot_labels_size(clustersinfo,label,level, directory,clustersinfo_shuffle,algorithm=algorithm)"
   ]
  },
  {
   "cell_type": "code",
   "execution_count": null,
   "metadata": {},
   "outputs": [],
   "source": [
    "##useful for R clustree plot\n",
    "def reindex(x):\n",
    "    i=1\n",
    "    last=x[0]\n",
    "    new = []\n",
    "    for xi in x:\n",
    "        if xi == last:\n",
    "            pass\n",
    "        else:\n",
    "            i+=1\n",
    "            last=xi\n",
    "        new.append(i)\n",
    "    return new\n",
    "\n",
    "df_clusters = pd.read_csv(\"%s/%s/%s_level_%d_clusters.csv\"%(directory,algorithm,algorithm,L), header=[0])\n",
    "df_labels = pd.DataFrame()\n",
    "shape = df_clusters.dropna().shape\n",
    "files = df_clusters.dropna().values.reshape(shape[0]*shape[1],)\n",
    "for level in np.arange(L+1)[::-1]:\n",
    "    print(level)\n",
    "    df_clusters = pd.read_csv(\"%s/%s/%s_level_%d_clusters.csv\"%(directory,algorithm,algorithm,level), header=[0])\n",
    "    currentlevellabels = []\n",
    "    for file in files:\n",
    "        s = df_clusters[df_clusters.isin([file])].any(0)\n",
    "        a = s.index[s]\n",
    "        currentlevellabels.append(int(a[0][8:])-1)\n",
    "    df_labels.insert(0,'l%d'%level,currentlevellabels)\n",
    "    del currentlevellabels\n",
    "filelabels = []\n",
    "filesublabels = []\n",
    "for file in files:\n",
    "    try:\n",
    "        filelabels.append(get_file(file, df_files)[labels[0]])\n",
    "        filesublabels.append(get_file(file, df_files)[labels[1]])\n",
    "    except:\n",
    "        filelabels.append('unknown')\n",
    "        filesublabels.append('unknown')\n",
    "        print(*sys.exc_info())\n",
    "df_labels.insert(0,'tissue', filelabels)\n",
    "df_labels.insert(0,'subtissue', filesublabels)\n",
    "df_labels.sort_values(by=['tissue','subtissue'], inplace=True)\n",
    "df_labels.sort_values(by=[\"l%d\"%l for l in np.arange(L+1)[:0:-1]], axis=0, inplace=True)\n",
    "filelabels = df_labels['tissue']\n",
    "filesublabels = df_labels['subtissue']\n",
    "df_labels = df_labels.apply(reindex, axis=0)\n",
    "df_labels['tissue']=filelabels\n",
    "df_labels['subtissue']=filesublabels\n",
    "df_labels.to_csv(\"%s/%s/topsbm_labels.csv\"%(directory,algorithm), index=False, header=True)"
   ]
  },
  {
   "cell_type": "code",
   "execution_count": null,
   "metadata": {},
   "outputs": [],
   "source": [
    "if \"clustersizes.txt\" in os.listdir(directory):\n",
    "    with open(\"%s/clustersizes.txt\"%directory, 'r') as f:\n",
    "        xl=np.array(f.read().split()).astype(int)\n",
    "else:\n",
    "    try:\n",
    "        xl = getclustersizesarray(directory, L)\n",
    "        with open(\"%s/clustersizes.txt\" % directory, 'w') as f:\n",
    "            for x in xl:\n",
    "                f.write(\"%d\\n\" % x)\n",
    "    except:\n",
    "        print(*sys.exc_info())\n",
    "        print(\"cannot save clustersizes.txt\")\n",
    "\n",
    "if \"topicsizes.txt\" in os.listdir(directory):\n",
    "    with open(\"%s/topicsizes.txt\"%directory) as f:\n",
    "        tl=np.array(f.read().split()).astype(int)\n",
    "else:\n",
    "    try:\n",
    "        tl = gettopicsizesarray(directory, L)\n",
    "        with open(\"%s/topicsizes.txt\" % directory, 'w') as f:\n",
    "            for x in tl:\n",
    "                f.write(\"%d\\n\" % x)\n",
    "    except:\n",
    "        print(\"cannot save topicsizes.txt\")"
   ]
  },
  {
   "cell_type": "code",
   "execution_count": null,
   "metadata": {},
   "outputs": [],
   "source": [
    "scores = get_scores(directory, labels, verbose=False)\n",
    "scores['hsbm'] = scores[labels[0]]"
   ]
  },
  {
   "cell_type": "code",
   "execution_count": null,
   "metadata": {},
   "outputs": [],
   "source": [
    "fig=plt.figure(figsize=(18,15))\n",
    "ax = fig.subplots(1)\n",
    "add_score_lines(ax,scores,labels, alpha=1)\n",
    "ax.set_xscale('log')\n",
    "ax.set_ylim(0,1)\n",
    "\n",
    "plt.show()\n",
    "fig.savefig(\"%s/metric_scores_hierstructure.pdf\"%(directory))"
   ]
  },
  {
   "cell_type": "code",
   "execution_count": null,
   "metadata": {},
   "outputs": [],
   "source": [
    "fig=plt.figure(figsize=(18,15))\n",
    "ax = fig.subplots(1)\n",
    "#add_score_lines(ax,scores,[labels[0]],xl, h=True, c=True, alpha=1)\n",
    "h = np.array(scores['hsbm']['h'])\n",
    "c = np.array(scores['hsbm']['c'])\n",
    "ax.plot(scores['hsbm']['xl'],h, marker='o', ls='--', lw=10, ms=40, label='homogeneity')\n",
    "ax.plot(scores['hsbm']['xl'],c, marker='o', ls='-.', lw=10,ms=40, label='completeness')\n",
    "ax.plot(scores['hsbm']['xl'],scores['hsbm']['V'], marker='o', ms=40, ls='-', lw=10, label='score')\n",
    "ax.set_xscale('log')\n",
    "ax.set_ylim(0,1)\n",
    "#ax.plot(xl, 2*h*c/(h+c), ls='-',c='g')\n",
    "plt.xticks(fontsize=35)\n",
    "plt.yticks(fontsize=35)\n",
    "plt.legend(fontsize=35)\n",
    "\n",
    "ax.tick_params(labelsize=35, width=8, length=20)\n",
    "ax.tick_params(which=\"minor\", labelsize=35, width=5, length=15)\n",
    "\n",
    "plt.xlabel('number of clusters', fontsize=35)\n",
    "plt.ylabel('measure', fontsize=35)\n",
    "plt.show()\n",
    "fig.savefig(\"%s/metric_scores_primarysite.pdf\"%(directory))"
   ]
  },
  {
   "cell_type": "code",
   "execution_count": null,
   "metadata": {},
   "outputs": [],
   "source": [
    "label = \"Subtype_Selected_Lum\"\n",
    "scores = {}\n",
    "scores['hsbm'] = get_scores(directory, labels, df_files=df_files, verbose=False)[label]\n",
    "scores['hierarchical'] = get_scores(directory, labels, algorithm='hierarchical', verbose=False)[label]\n",
    "scores['lda'] = get_scores(directory, labels, algorithm='lda', verbose=False)[label]\n",
    "#scores['kmeans'] = get_scores(directory, labels, algorithm='kmeans', verbose=False)[label]\n",
    "scores['tm']=get_scores(directory, labels, algorithm='tm', verbose=False)[label]\n",
    "#scores['cc']=get_scores(directory, labels, algorithm='cc', verbose=False)[label]\n",
    "scores['wgcna']=get_scores(directory, labels, algorithm='wgcna', verbose=False)[label]\n",
    "scores['shuffle'] = get_scores_shuffled(directory, df_files, label=label, algorithm='topsbm')"
   ]
  },
  {
   "cell_type": "code",
   "execution_count": null,
   "metadata": {},
   "outputs": [],
   "source": [
    "scores['hierarchical'] = get_scores(directory, labels, algorithm='hierarchical-log', verbose=False)[label]\n",
    "#scores['lda-tpm'] = get_scores(directory, labels, algorithm='lda-tpm', verbose=False)[label]\n",
    "#scores['hsbm-log2'] = get_scores(directory, labels, algorithm='topsbm-log', verbose=False)[label]\n",
    "#scores['hsbm-log10'] = get_scores(directory, labels, algorithm='topsbm-log10', verbose=False)[label]"
   ]
  },
  {
   "cell_type": "code",
   "execution_count": null,
   "metadata": {},
   "outputs": [],
   "source": [
    "scores[\"tissues\"] = get_scores(directory, labels, verbose=False)[\"SMTS\"]\n",
    "scores[\"sub_tissues\"] = get_scores(directory, labels, verbose=False)[\"SMTSD\"]"
   ]
  },
  {
   "cell_type": "code",
   "execution_count": null,
   "metadata": {},
   "outputs": [],
   "source": [
    "from hsbmpy import normalise_score\n",
    "normalise_score(scores, base_algorithm=\"tm\")"
   ]
  },
  {
   "cell_type": "code",
   "execution_count": null,
   "metadata": {},
   "outputs": [],
   "source": [
    "fig=plt.figure(figsize=(20,15))\n",
    "ax = fig.subplots(1)\n",
    "add_score_lines(ax,scores,labels=['hsbm', 'tm', 'hierarchical', 'lda', 'wgcna', 'shuffle'])\n",
    "#add_score_lines(ax,scores,labels=[\"tissues\", \"sub_tissues\",'shuffle'])\n",
    "#add_score_lines(ax,scores,labels=[\"hsbm\", \"hsbm-log2\",\"hsbm-log10\",'shuffle'])\n",
    "#ax.set_xscale('linear')\n",
    "plt.xlim(1,2000)\n",
    "plt.show()\n",
    "fig.savefig(\"%s/metric_scores_all_normtm.pdf\"%(directory))"
   ]
  },
  {
   "cell_type": "code",
   "execution_count": null,
   "metadata": {},
   "outputs": [],
   "source": []
  }
 ],
 "metadata": {
  "kernelspec": {
   "display_name": "Python 3",
   "language": "python",
   "name": "python3"
  },
  "language_info": {
   "codemirror_mode": {
    "name": "ipython",
    "version": 3
   },
   "file_extension": ".py",
   "mimetype": "text/x-python",
   "name": "python",
   "nbconvert_exporter": "python",
   "pygments_lexer": "ipython3",
   "version": "3.7.6"
  },
  "widgets": {
   "application/vnd.jupyter.widget-state+json": {
    "state": {},
    "version_major": 2,
    "version_minor": 0
   }
  }
 },
 "nbformat": 4,
 "nbformat_minor": 4
}

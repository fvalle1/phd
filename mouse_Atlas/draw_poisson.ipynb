{
 "cells": [
  {
   "cell_type": "code",
   "execution_count": null,
   "metadata": {},
   "outputs": [],
   "source": [
    "import numpy as np\n",
    "from scipy import stats\n",
    "import matplotlib.pyplot as plt\n",
    "import logging, sys, gc\n",
    "import pandas as pd\n",
    "from scipy.stats import binned_statistic\n",
    "from scipy.optimize import curve_fit\n",
    "from frontiers_analysis import load_tissue"
   ]
  },
  {
   "cell_type": "code",
   "execution_count": null,
   "metadata": {},
   "outputs": [],
   "source": [
    "tissue=\"Stomach\"\n",
    "df = pd.read_csv(f\"mca/mainTable_{tissue}.csv\", index_col=0)\n",
    "M = df.sum(0)\n",
    "f = df.divide(M,1).mean(1)\n",
    "O = df.apply(lambda x: (x>0).sum(), 1)"
   ]
  },
  {
   "cell_type": "code",
   "execution_count": null,
   "metadata": {},
   "outputs": [],
   "source": [
    "from methods import mazzolini as sampling\n",
    "from methods import mazzolini_broad as poissonian_sampling\n",
    "from methods import mazzolini_nbinom as nbinom_sampling\n",
    "from methods import mazzolini_gaus as gaus_sampling\n",
    "from methods import mazzolini_timesM as times_sampling"
   ]
  },
  {
   "cell_type": "code",
   "execution_count": null,
   "metadata": {},
   "outputs": [],
   "source": [
    "M_tilde = 25000"
   ]
  },
  {
   "cell_type": "markdown",
   "metadata": {},
   "source": [
    "# Create models"
   ]
  },
  {
   "cell_type": "code",
   "execution_count": null,
   "metadata": {},
   "outputs": [],
   "source": [
    "method_delta = sampling(M=M, f=f)\n",
    "method_pois = poissonian_sampling(M=M, f=f, M_tilde=M_tilde)\n",
    "#method_nbinom = nbinom_sampling(M=M, f=f, M_tilde=M_tilde)\n",
    "#method_gaus = gaus_sampling(M=M, f=f)\n",
    "\n",
    "models = [method_delta, method_pois]\n",
    "for method in models:\n",
    "    print(method)\n",
    "    method.run()"
   ]
  },
  {
   "cell_type": "markdown",
   "metadata": {},
   "source": [
    "## Zipf"
   ]
  },
  {
   "cell_type": "code",
   "execution_count": null,
   "metadata": {},
   "outputs": [],
   "source": [
    "plt.plot(np.sort(f/f.sum())[::-1], lw=10, c=\"gray\", alpha=0.5, label=\"data\")\n",
    "for model in models:\n",
    "    plt.plot(model.get_f(), lw=10, alpha=0.5, label=model.name_, c=model.color_)\n",
    "\n",
    "plt.xlabel(\"i\")\n",
    "plt.ylabel(\"f\")\n",
    "\n",
    "plt.xscale(\"log\")\n",
    "plt.yscale(\"log\")\n",
    "\n",
    "plt.legend()"
   ]
  },
  {
   "cell_type": "markdown",
   "metadata": {},
   "source": [
    "## Heaps"
   ]
  },
  {
   "cell_type": "code",
   "execution_count": null,
   "metadata": {},
   "outputs": [],
   "source": [
    "bins = np.logspace(np.log10(M.min()), np.log10(M.max()), 35)\n",
    "#bins = np.linspace(M.min(), M.max(), 35)\n",
    "    \n",
    "h=df.apply(lambda x: (x>0).sum(),0)\n",
    "plt.scatter(M, h, c=\"gray\", alpha=0.8)\n",
    "means, edges, _ = binned_statistic(M, h, bins=bins)\n",
    "var, edges, _ = binned_statistic(M, h, statistic=\"std\", bins=bins)\n",
    "cnt, edges, _ = binned_statistic(M, h, statistic=\"count\", bins=bins)\n",
    "var = var*var\n",
    "mask = cnt > 10\n",
    "means = means[mask]\n",
    "var = var[mask]\n",
    "l_edges = (edges[:-1])[mask]\n",
    "r_edges = (edges[1:])[mask]\n",
    "plt.hlines(means, l_edges, r_edges, lw=5, color=\"gray\", ls=\"--\")\n",
    "\n",
    "for model in models:\n",
    "    print(model.name_)\n",
    "    means, edges, _ = binned_statistic(M, model.get_h(), bins=bins)\n",
    "    var, edges, _ = binned_statistic(M, model.get_h(), statistic=\"std\", bins=bins)\n",
    "    cnt, edges, _ = binned_statistic(M, model.get_h(), statistic=\"count\", bins=bins)\n",
    "    var = var*var\n",
    "    mask = cnt > 10\n",
    "    means = means[mask]\n",
    "    var = var[mask]\n",
    "    l_edges = (edges[:-1])[mask]\n",
    "    r_edges = (edges[1:])[mask]\n",
    "\n",
    "    plt.hlines(means, l_edges, r_edges, lw=5, color=\"dark\"+model.color_, ls=\"--\")\n",
    "\n",
    "    plt.scatter(M, model.get_h(), alpha=0.2, c=model.color_, label=model.name_)\n",
    "    \n",
    "    model.hmean = means.copy()\n",
    "    model.hvar = var.copy()\n",
    "    model.cnt = cnt.copy()\n",
    "\n",
    "\n",
    "plt.xlabel(\"M\")\n",
    "plt.ylabel(\"h\")\n",
    "\n",
    "plt.legend()"
   ]
  },
  {
   "cell_type": "markdown",
   "metadata": {},
   "source": [
    "### Fluctuations"
   ]
  },
  {
   "cell_type": "code",
   "execution_count": null,
   "metadata": {},
   "outputs": [],
   "source": [
    "x = np.logspace(np.log10(300),np.log10(2000))\n",
    "\n",
    "for model in models:\n",
    "    plt.scatter(model.hmean, model.hvar, s=50, label=model.name_, c=model.color_)\n",
    "\n",
    "plt.scatter(means, var, label=\"data\", c=\"gray\")\n",
    "    \n",
    "popt, pcov= curve_fit(lambda x, C: C*x, models[0].hmean, models[0].hvar)\n",
    "plt.plot(x, popt[0]*x, lw=5, ls=\"--\", c=\"cyan\", alpha=0.8, label=\"C*<h>\")\n",
    "\n",
    "popt, pcov= curve_fit(lambda x, C: C*x*x, models[0].hmean, models[0].hvar)\n",
    "plt.plot(x, popt[0]*x**2, lw=5, ls=\"--\", c=\"purple\", alpha=0.8, label =\"C*<h>^2\")\n",
    "    \n",
    "plt.xlabel(\"<h>\")\n",
    "plt.ylabel(\"var(h)\")\n",
    "\n",
    "plt.xscale(\"log\")\n",
    "plt.yscale(\"log\")\n",
    "\n",
    "plt.legend()\n",
    "\n",
    "#plt.ylim(1e2,1e3)"
   ]
  },
  {
   "cell_type": "markdown",
   "metadata": {},
   "source": [
    "## Abundance - frequency"
   ]
  },
  {
   "cell_type": "code",
   "execution_count": null,
   "metadata": {},
   "outputs": [],
   "source": [
    "bins = np.logspace(np.log10(M.min()), np.log10(M.max()), 35)\n",
    "#bins = np.linspace(M.min(), M.max(), 35)\n",
    "    \n",
    "plt.scatter(df.sum(1), df.divide(df.sum(0),1).mean(1), c=\"gray\", alpha=0.8)\n",
    "\n",
    "\n",
    "for model in models:\n",
    "    print(model.name_)\n",
    "    df_model = pd.DataFrame(data=model.table)\n",
    "    plt.scatter(df_model.sum(1), df_model.divide(df_model.sum(0),1).mean(1), alpha=0.2, c=model.color_, label=model.name_)\n",
    "    del df_model\n",
    "    \n",
    "plt.xlabel(\"a\")\n",
    "plt.ylabel(\"f\")\n",
    "plt.yscale(\"log\")\n",
    "plt.xscale(\"log\")\n",
    "\n",
    "plt.legend()"
   ]
  },
  {
   "cell_type": "markdown",
   "metadata": {},
   "source": [
    "## CV^2"
   ]
  },
  {
   "cell_type": "code",
   "execution_count": null,
   "metadata": {
    "jupyter": {
     "outputs_hidden": true
    }
   },
   "outputs": [],
   "source": [
    "for model in models:\n",
    "    means = np.mean(model.table,0)\n",
    "    mean = means[means>0]\n",
    "    var = np.var(model.table,0)\n",
    "    cv2 = var[means>0]/mean/mean\n",
    "    plt.scatter(mean,cv2, alpha=0.5, label=model.name_,c=model.color_)\n",
    "\n",
    "x = np.linspace(1e-4,1e2,10)\n",
    "plt.plot(x,1/x, alpha=0.5, label=\"<>\",c=\"gray\", ls=\"--\", lw=5)\n",
    "\n",
    "    \n",
    "plt.xscale(\"log\")\n",
    "plt.yscale(\"log\")\n",
    "\n",
    "plt.xlabel(\"<>\")\n",
    "plt.ylabel(\"CV^2\")\n",
    "\n",
    "plt.ylim(1e-2,1e5)\n",
    "plt.xlim(5e-5,1e2)\n",
    "\n",
    "\n",
    "plt.legend()"
   ]
  },
  {
   "cell_type": "markdown",
   "metadata": {},
   "source": [
    "## U"
   ]
  },
  {
   "cell_type": "code",
   "execution_count": null,
   "metadata": {},
   "outputs": [],
   "source": [
    "for model in models:\n",
    "    plt.hist(model.get_O(), lw=10, ls=\"--\", histtype=\"step\", label=model.name_, color=model.color_, alpha=0.4)\n",
    "    \n",
    "plt.hist(O/O.sum(), color=\"gray\", label=\"data\")\n",
    "plt.legend()"
   ]
  },
  {
   "cell_type": "markdown",
   "metadata": {},
   "source": [
    "## Predicted occurrences"
   ]
  },
  {
   "cell_type": "code",
   "execution_count": null,
   "metadata": {},
   "outputs": [],
   "source": [
    "fig, axs = plt.subplots(1, 2, figsize=(30, 15))\n",
    "\n",
    "for ax in axs:\n",
    "    #ax.scatter(O/df.shape[1], model.get_O(), label=model.name_, color=model.color_, alpha=0.5, s=350)\n",
    "    ax.plot([0,1], [0,1], lw=20, alpha=0.7,ls=\"--\", c=\"black\")\n",
    "    #ax.set_title(model.name_, fontsize=35)\n",
    "    \n",
    "axs[0].scatter(O/df.shape[1],O_sampling, alpha=0.5, s=350, color=\"gray\", marker=\"o\")    \n",
    "axs[1].scatter(O/df.shape[1],O_pois, alpha=0.5, s=350, color=\"gray\", marker=\"o\")    \n",
    "\n",
    "for ax in axs:\n",
    "    ax.tick_params(labelsize=40, width=5, size=10)\n",
    "    ax.set_xlabel(\"$O_i$ from data\", fontsize=65)\n",
    "    ax.set_ylabel(\"$O_i$ predicted\", fontsize=65)\n",
    "    \n",
    "axs[0].set_title(\"Sampling model $\\\\rho(f)=\\\\delta$\", fontsize=55)\n",
    "axs[1].set_title(\"Sampling model $\\\\rho(f)={poisson}$\", fontsize=55)\n",
    "\n",
    "plt.tight_layout()\n",
    "plt.show()\n",
    "fig.savefig(f\"Oreal_Opred_poissonModel_{tissue}.pdf\")"
   ]
  },
  {
   "cell_type": "code",
   "execution_count": null,
   "metadata": {},
   "outputs": [],
   "source": [
    "R = len(models[1].table)\n",
    "print(R)\n",
    "M_pred = np.sum(models[1].table, 1)\n",
    "O_pred = np.array(models[1].get_O())\n",
    "mask = np.argwhere((O_pred>0) & (O_pred<70/R)) \n",
    "O_pred = O_pred[mask]\n",
    "#O_pred[2210:2220]\n",
    "plt.hist(O_pred*R)\n",
    "plt.xlabel(\"o\")\n",
    "plt.show()"
   ]
  },
  {
   "cell_type": "code",
   "execution_count": null,
   "metadata": {},
   "outputs": [],
   "source": [
    "M = df.sum(0)\n",
    "O_est = list(map(lambda x: (x>0).sum()/float(len(x)), np.array(models[1].table).T))\n",
    "for i in range(len(M)):\n",
    "    assert(M_pred[i]==M[i])\n",
    "for o_est, o in zip(O_est,models[1].get_O()):\n",
    "    assert(o_est==o)"
   ]
  },
  {
   "cell_type": "code",
   "execution_count": null,
   "metadata": {},
   "outputs": [],
   "source": [
    "bins = np.linspace(0,5000,10)\n",
    "plt.hist(M, histtype=\"step\", lw=10, bins=bins, density=False)\n",
    "plt.hist(M_pred, histtype=\"step\", ls=\"--\", lw=10, bins=bins, density=False)\n",
    "plt.show()"
   ]
  },
  {
   "cell_type": "code",
   "execution_count": null,
   "metadata": {},
   "outputs": [],
   "source": [
    "#plt.scatter(O/df.shbape[1],df.sum(1))\n",
    "\n",
    "df_model = pd.DataFrame(data=models[1].table).transpose()"
   ]
  },
  {
   "cell_type": "code",
   "execution_count": null,
   "metadata": {},
   "outputs": [],
   "source": [
    "assert(len(models[1].get_O())==df_model.shape[0])"
   ]
  },
  {
   "cell_type": "code",
   "execution_count": null,
   "metadata": {},
   "outputs": [],
   "source": [
    "import plotly.graph_objects as go"
   ]
  },
  {
   "cell_type": "code",
   "execution_count": null,
   "metadata": {},
   "outputs": [],
   "source": [
    "fig = go.Figure()\n",
    "fig.add_scatter(x=O/df.shape[1], y=df.divide(df.sum(0),1).mean(1), mode=\"markers\", name=\"data\")\n",
    "fig.add_scatter(x=models[1].get_O(), y=df_model.divide(df_model.sum(0),1).mean(1), mode=\"markers\", name=\"sampling_rho\")\n",
    "\n",
    "fig.update_traces(opacity=0.8)\n",
    "\n",
    "lay = dict()\n",
    "lay[\"xaxis\"]=dict()\n",
    "lay[\"xaxis\"][\"title\"]=\"o\"\n",
    "lay[\"yaxis\"]=dict()\n",
    "lay[\"yaxis\"][\"title\"]=\"f\"\n",
    "#lay[\"yaxis\"][\"type\"]=\"log\"\n",
    "#lay[\"yaxis\"][\"exponentformat\"]=\"e\"\n",
    "fig.update_layout(lay)\n"
   ]
  },
  {
   "cell_type": "code",
   "execution_count": null,
   "metadata": {},
   "outputs": [],
   "source": [
    "from sklearn.metrics import r2_score"
   ]
  },
  {
   "cell_type": "code",
   "execution_count": null,
   "metadata": {},
   "outputs": [],
   "source": [
    "print(r2_score(O/df.shape[1],O_sampling),r2_score(O/df.shape[1],O_pois))"
   ]
  },
  {
   "cell_type": "code",
   "execution_count": null,
   "metadata": {},
   "outputs": [],
   "source": [
    "Os = []\n",
    "for i in range(5):\n",
    "    method = sampling(M=M, f=f)\n",
    "    method.run()\n",
    "    print(i, method)\n",
    "    Os.append(method.get_O())\n",
    "O_sampling = np.average(Os, axis=0)"
   ]
  },
  {
   "cell_type": "code",
   "execution_count": null,
   "metadata": {},
   "outputs": [],
   "source": [
    "Os = []\n",
    "sparsities = []\n",
    "for i in range(5):\n",
    "    model = times_sampling(M=M, f=f, multiplier=5)\n",
    "    model.run()\n",
    "    print(i, model)\n",
    "    Os.append(model.get_O())\n",
    "    E = (np.array(model.table)>0).sum()\n",
    "    N = np.array(model.table).shape[0] * np.array(model.table).shape[1]\n",
    "    sparsities.append(1-float(E)/N)\n",
    "    \n",
    "O_pois = np.average(Os, axis=0)\n",
    "\n",
    "print(data_sparsity, np.average(sparsities))"
   ]
  },
  {
   "cell_type": "code",
   "execution_count": null,
   "metadata": {},
   "outputs": [],
   "source": [
    "def O_teo_sampling(f, M):\n",
    "    R = len(M)\n",
    "    return [1- 1/R * sum([(1-fi)**m for m in M]) for fi in f]\n",
    "\n",
    "def O_teo_pois_sampling(f, M, Mt):\n",
    "    R = len(M)\n",
    "    def a(fi, m):\n",
    "        return (1-np.exp(-m/Mt)*fi/(fi-1))**Mt\n",
    "    return [1. - 1./R * (1-fi)**Mt * sum([a(fi,m) for m in M]) for fi in f]"
   ]
  },
  {
   "cell_type": "code",
   "execution_count": null,
   "metadata": {},
   "outputs": [],
   "source": [
    "O_teo_sampling_data = O_teo_sampling(f,M)"
   ]
  },
  {
   "cell_type": "code",
   "execution_count": null,
   "metadata": {},
   "outputs": [],
   "source": [
    "O_teo_pois_sampling_data = O_teo_pois_sampling(f,M,M_tilde)"
   ]
  },
  {
   "cell_type": "code",
   "execution_count": null,
   "metadata": {},
   "outputs": [],
   "source": [
    "from scipy.special import gammaincc, gamma\n",
    "def Gamma(a,z):\n",
    "    return gammaincc(a,z)*gamma(a)\n",
    "\n",
    "Gamma(3,2)*np.exp(2)"
   ]
  },
  {
   "cell_type": "code",
   "execution_count": null,
   "metadata": {},
   "outputs": [],
   "source": [
    "fig, axs = plt.subplots(1, 2, figsize=(30, 15))\n",
    "\n",
    "for ax in axs:\n",
    "    #ax.scatter(O/df.shape[1], model.get_O(), label=model.name_, color=model.color_, alpha=0.5, s=350)\n",
    "    ax.plot([0,1], [0,1], lw=20, alpha=0.7,ls=\"--\", c=\"black\")\n",
    "    #ax.set_title(model.name_, fontsize=35)\n",
    "    \n",
    "axs[0].scatter(O_teo_sampling_data,O_sampling, alpha=0.5, s=350, color=\"gray\", marker=\"o\")    \n",
    "axs[1].scatter(O_teo_pois_sampling_data,O_pois, alpha=0.5, s=350, color=\"gray\", marker=\"o\")    \n",
    "\n",
    "for ax in axs:\n",
    "    ax.tick_params(labelsize=40, width=5, size=10)\n",
    "    ax.set_ylabel(\"$O_i$ from sampling\", fontsize=65)\n",
    "    ax.set_xlabel(\"$O_i$ from theoretical prediction\", fontsize=65)\n",
    "    \n",
    "axs[0].set_title(\"Sampling model $\\\\rho(f)=\\\\delta$\", fontsize=55)\n",
    "axs[1].set_title(\"Sampling model $\\\\rho(f)={poisson}$\", fontsize=55)\n",
    "\n",
    "plt.tight_layout()\n",
    "plt.show()\n",
    "fig.savefig(f\"Oreal_Opred_poissonModelteo_{tissue}.pdf\")"
   ]
  },
  {
   "cell_type": "markdown",
   "metadata": {},
   "source": [
    "# Sparsity"
   ]
  },
  {
   "cell_type": "markdown",
   "metadata": {},
   "source": [
    "## Simulations\n",
    "### Sampling"
   ]
  },
  {
   "cell_type": "code",
   "execution_count": null,
   "metadata": {},
   "outputs": [],
   "source": [
    "sparsities = []\n",
    "for sample in range(10):\n",
    "    model = sampling(M=M, f=f)\n",
    "    model.run()\n",
    "    E = (np.array(model.table)>0).sum()\n",
    "    N = np.array(model.table).shape[0] * np.array(model.table).shape[1]\n",
    "    sparsities.append(1-float(E)/N)"
   ]
  },
  {
   "cell_type": "markdown",
   "metadata": {},
   "source": [
    "### Sampling from Poisson"
   ]
  },
  {
   "cell_type": "code",
   "execution_count": null,
   "metadata": {},
   "outputs": [],
   "source": [
    "#sparsities_pois_5 = []\n",
    "#for sample in range(25):\n",
    "#    model = poissonian_sampling(M=M, f=f, M_tilde=500000)\n",
    "#    model.run()\n",
    "#    E = (np.array(model.table)>0).sum().sum()\n",
    "#    N = np.array(model.table).shape[0] * np.array(model.table).shape[1]\n",
    "#    sparsities_pois_5.append(1-float(E)/N)"
   ]
  },
  {
   "cell_type": "code",
   "execution_count": null,
   "metadata": {},
   "outputs": [],
   "source": [
    "#sparsities_pois = []\n",
    "#for sample in range(25):\n",
    "#    model = poissonian_sampling(M=M, f=f, M_tilde=M_tilde)\n",
    "#    model.run()\n",
    "#    E = (np.array(model.table)>0).sum().sum()\n",
    "#    N = np.array(model.table).shape[0] * np.array(model.table).shape[1]\n",
    "#    sparsities_pois.append(1-float(E)/N)"
   ]
  },
  {
   "cell_type": "markdown",
   "metadata": {},
   "source": [
    "### Sampling from gaus"
   ]
  },
  {
   "cell_type": "code",
   "execution_count": null,
   "metadata": {},
   "outputs": [],
   "source": [
    "sparsities_pois = []\n",
    "for sample in range(25):\n",
    "    model = gaus_sampling(M=M, f=f)\n",
    "    model.run()\n",
    "    E = (np.array(model.table)>0).sum().sum()\n",
    "    N = np.array(model.table).shape[0] * np.array(model.table).shape[1]\n",
    "    sparsities_pois.append(1-float(E)/N)"
   ]
  },
  {
   "cell_type": "markdown",
   "metadata": {},
   "source": [
    "### Data"
   ]
  },
  {
   "cell_type": "code",
   "execution_count": null,
   "metadata": {},
   "outputs": [],
   "source": [
    "E = (df>0).sum().sum()\n",
    "N = df.shape[0] * df.shape[1]\n",
    "data_sparsity=[1-E/N]"
   ]
  },
  {
   "cell_type": "markdown",
   "metadata": {},
   "source": [
    "## Plot"
   ]
  },
  {
   "cell_type": "code",
   "execution_count": null,
   "metadata": {},
   "outputs": [],
   "source": [
    "fig = plt.figure(figsize=(8,8))\n",
    "\n",
    "#plt.boxplot([data_sparsity,sparsities,sparsities_pois_5, sparsities_pois], labels=[\"data\", \"sampling\", \"poissonian \\n sampling \\n (M=500000)\", f\"\\n (M={M_tilde})\"], medianprops={\"lw\":10, \"color\":\"red\"}, whiskerprops={\"lw\":5}, capprops={\"lw\":5})\n",
    "plt.boxplot([data_sparsity,sparsities, sparsities_pois], labels=[\"data\", \"sampling\", f\"gaussian\"], medianprops={\"lw\":10, \"color\":\"red\"}, whiskerprops={\"lw\":5}, capprops={\"lw\":5})\n",
    "\n",
    "\n",
    "\n",
    "plt.ylabel(\"Sparsity\", fontsize=45)\n",
    "plt.xticks(rotation=90)\n",
    "plt.tick_params(size=10, width=5, labelsize=35)\n",
    "plt.tight_layout()\n",
    "plt.show()\n",
    "fig.savefig(f\"Sparsity_box_{tissue}.pdf\")"
   ]
  },
  {
   "cell_type": "markdown",
   "metadata": {},
   "source": [
    "# P0"
   ]
  },
  {
   "cell_type": "code",
   "execution_count": null,
   "metadata": {},
   "outputs": [],
   "source": [
    "import multiprocessing as mp\n",
    "from time import time\n",
    "from scipy.special import gamma, gammainc"
   ]
  },
  {
   "cell_type": "code",
   "execution_count": null,
   "metadata": {},
   "outputs": [],
   "source": [
    "def p_sampling(f, M):\n",
    "    return [np.exp(-fi*M) for fi in f]\n",
    "\n",
    "def p_poisson_sampling(f, M, M_tilde):\n",
    "    def a(fi):\n",
    "        #return fi * (M-M_tilde)/(1-fi)\n",
    "        return fi / (fi-1.) * np.exp(-M/M_tilde) * M_tilde\n",
    "    return [np.power(1-fi,M_tilde) * np.exp(-a(fi)) for fi in f]"
   ]
  },
  {
   "cell_type": "code",
   "execution_count": null,
   "metadata": {},
   "outputs": [],
   "source": [
    "NSample = 100\n",
    "M_sampled = M.sample(NSample)"
   ]
  },
  {
   "cell_type": "code",
   "execution_count": null,
   "metadata": {},
   "outputs": [],
   "source": [
    "O_sampling = [1-1./NSample*np.sum([p_sampling([ftilde],m) for m in M_sampled]) for ftilde in f]"
   ]
  },
  {
   "cell_type": "code",
   "execution_count": null,
   "metadata": {},
   "outputs": [],
   "source": [
    "def get_term_at(ftilde):\n",
    "    return 1-1./NSample*np.sum([p_poisson_sampling([ftilde], m, M_tilde=M_tilde) for m in M_sampled])\n",
    "\n",
    "start = time()\n",
    "pool = mp.Pool(4)\n",
    "temp = pool.map_async(get_term_at, f)\n",
    "\n",
    "pool.close()\n",
    "pool.join()\n",
    "\n",
    "O_poisson_sampling=temp.get()\n",
    "\n",
    "time()-start"
   ]
  },
  {
   "cell_type": "code",
   "execution_count": null,
   "metadata": {},
   "outputs": [],
   "source": [
    "fig,axs = plt.subplots(1,2, figsize=(30,10))\n",
    "\n",
    "axs[0].scatter(O_poisson_sampling, models[1].get_O())\n",
    "axs[0].plot([0,1],[0,1], lw=10, c=\"red\", ls=\"--\", alpha=0.8)\n",
    "\n",
    "axs[0].set_ylabel(\"O_poisson_sampling\")\n",
    "axs[0].set_xlabel(\"O_poisson_sampling_teo\")\n",
    "\n",
    "axs[1].scatter(O_sampling, models[0].get_O())\n",
    "axs[1].plot([0,1],[0,1], lw=10, c=\"red\", ls=\"--\", alpha=0.8)\n",
    "\n",
    "axs[1].set_ylabel(\"O_sampling\")\n",
    "axs[1].set_xlabel(\"O_sampling_teo\")\n",
    "\n",
    "plt.show()"
   ]
  },
  {
   "cell_type": "code",
   "execution_count": null,
   "metadata": {},
   "outputs": [],
   "source": [
    "fig, axs = plt.subplots(1,2, figsize=(30,10))\n",
    "axs[0].scatter(O/len(M), O_sampling)\n",
    "axs[0].scatter(O/len(M), O_poisson_sampling)\n",
    "axs[0].plot([0,1],[0,1], lw=10, c=\"red\", ls=\"--\", alpha=0.8)\n",
    "\n",
    "\n",
    "axs[0].set_ylabel(\"O_sampling\")\n",
    "axs[0].set_xlabel(\"O_data\")\n",
    "\n",
    "axs[1].scatter(O_sampling, O_poisson_sampling)\n",
    "axs[1].plot([0,1],[0,1], lw=10, c=\"red\", ls=\"--\", alpha=0.8)\n",
    "\n",
    "\n",
    "axs[1].set_ylabel(\"O_sampling_teo\")\n",
    "axs[1].set_xlabel(\"O_poisson_sampling_teo\")\n",
    "\n",
    "plt.show()"
   ]
  },
  {
   "cell_type": "code",
   "execution_count": null,
   "metadata": {},
   "outputs": [],
   "source": [
    "pom_sampling = p_sampling(f.sort_values(), 1000)\n",
    "pom_poisson_sampling = p_poisson_sampling(f.sort_values(), 1000, M_tilde)"
   ]
  },
  {
   "cell_type": "code",
   "execution_count": null,
   "metadata": {},
   "outputs": [],
   "source": [
    "fig = go.Figure()\n",
    "fig.add_scatter(x=f.sort_values(),y=pom_sampling, mode=\"lines\", name=\"sampling\", line=dict(dash=\"longdash\", width=5))\n",
    "fig.add_scatter(x=f.sort_values(),y=pom_poisson_sampling, mode=\"lines\", name=\"poisson\", line_dash=\"dashdot\", line_width=5)\n",
    "\n",
    "fig.update_traces(opacity=0.8)\n",
    "fig.update_layout(xaxis_title=\"f\",\n",
    "                  xaxis_type=\"log\",\n",
    "                  xaxis_range=(-5,np.log10(3e-2)),\n",
    "                  xaxis_exponentformat=\"e\",\n",
    "                  yaxis_type=\"log\",\n",
    "                  yaxis_title=\"P(0|M)\")\n",
    "fig.show()"
   ]
  },
  {
   "cell_type": "code",
   "execution_count": null,
   "metadata": {},
   "outputs": [],
   "source": [
    "import gc\n",
    "gc.collect()"
   ]
  },
  {
   "cell_type": "code",
   "execution_count": null,
   "metadata": {},
   "outputs": [],
   "source": [
    "def p0m(df, M, limits = (100,110)):\n",
    "    M_sorted = M.sort_values(ascending=True)\n",
    "    quantiles = np.quantile(M, q=np.linspace(0,1,10)[:-1])\n",
    "    #quantiles = np.linspace(M.min(), M.max(), 20)\n",
    "    M_classes = pd.Series(index=M.index, data=np.digitize(M, quantiles))\n",
    "    f = df.mean(1)\n",
    "    f = f/f.sum()\n",
    "    f_ = df.apply(lambda x: x[x>0].mean(), 1)\n",
    "    f_ = f_/f_.sum()\n",
    "    ret = {}\n",
    "    for g in f.sort_values(ascending=False).index[limits[0]:limits[1]]:\n",
    "        genexpr = df.loc[g,:]\n",
    "        ret[g] =  [(genexpr[M_classes[M_classes==c].index]==0).astype(int).sum()/len(M_classes[M_classes==c]) for c in np.arange(len(quantiles))+1]\n",
    "        del genexpr\n",
    "        gc.collect()\n",
    "    return ret, quantiles, (f.sort_values(ascending=False)[limits[0]:limits[1]].mean(), f_.sort_values(ascending=False)[limits[0]:limits[1]].mean())"
   ]
  },
  {
   "cell_type": "code",
   "execution_count": null,
   "metadata": {},
   "outputs": [],
   "source": [
    "p0mdata, M_bins, f_mean = p0m(df, M, limits = (500,510))\n",
    "tmp=np.average([v for v in p0mdata.values()], axis=0)"
   ]
  },
  {
   "cell_type": "code",
   "execution_count": null,
   "metadata": {},
   "outputs": [],
   "source": [
    "xM = M_bins\n",
    "pom_sampling = np.ravel([p_sampling([f_mean[0]], m) for m in xM])\n",
    "pom_poisson_sampling = np.ravel([p_poisson_sampling([f_mean[0]], m, M_tilde) for m in xM])"
   ]
  },
  {
   "cell_type": "code",
   "execution_count": null,
   "metadata": {},
   "outputs": [],
   "source": [
    "fig = go.Figure()\n",
    "fig.add_scatter(x=xM, y=pom_sampling, mode=\"lines\", name=\"sampling\", line=dict(dash=\"dash\"))\n",
    "fig.add_scatter(x=xM, y=pom_poisson_sampling, mode=\"lines\", name=\"poisson\", line_dash=\"dashdot\")\n",
    "fig.add_scatter(x=xM, y=tmp, mode=\"lines\", name=\"data\")\n",
    "\n",
    "fig.update_layout(xaxis_title=\"M\", \n",
    "                  yaxis_type=\"log\",\n",
    "                  yaxis_title=\"P(0|M)\")\n",
    "fig.show()"
   ]
  },
  {
   "cell_type": "code",
   "execution_count": null,
   "metadata": {},
   "outputs": [],
   "source": []
  }
 ],
 "metadata": {
  "kernelspec": {
   "display_name": "Python 3",
   "language": "python",
   "name": "python3"
  },
  "language_info": {
   "codemirror_mode": {
    "name": "ipython",
    "version": 3
   },
   "file_extension": ".py",
   "mimetype": "text/x-python",
   "name": "python",
   "nbconvert_exporter": "python",
   "pygments_lexer": "ipython3",
   "version": "3.8.6"
  }
 },
 "nbformat": 4,
 "nbformat_minor": 4
}

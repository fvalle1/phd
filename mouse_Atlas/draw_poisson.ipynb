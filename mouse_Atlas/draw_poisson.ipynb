{
 "cells": [
  {
   "cell_type": "code",
   "execution_count": null,
   "metadata": {},
   "outputs": [],
   "source": [
    "import numpy as np\n",
    "from scipy import stats\n",
    "import matplotlib.pyplot as plt\n",
    "import logging, sys, gc, os\n",
    "import pandas as pd\n",
    "from scipy.stats import binned_statistic\n",
    "from scipy.optimize import curve_fit\n",
    "from frontiers_analysis import load_tissue\n",
    "os.chdir(\"The_single_cell_transcriptome_as_a_component_system/MouseCellAtlas/\")"
   ]
  },
  {
   "cell_type": "code",
   "execution_count": null,
   "metadata": {},
   "outputs": [],
   "source": [
    "df_genes = pd.read_csv(\"MGImarkerQuery_20200914_050053.txt\", sep=\"\\t\").set_index(\"Symbol\")\n",
    "pc = df_genes[df_genes[\"Feature Type\"]==\"protein coding gene\"].index.values\n",
    "nc = df_genes[df_genes[\"Feature Type\"]!=\"protein coding gene\"].index.values"
   ]
  },
  {
   "cell_type": "code",
   "execution_count": null,
   "metadata": {},
   "outputs": [],
   "source": [
    "tissue=\"Muscle\"\n",
    "df = pd.read_csv(f\"mca/mainTable_{tissue}.csv\", index_col=0)\n",
    "#df = pd.read_csv(f\"../Smartseq3.HEK.fwdprimer.UMIcounts.txt\", index_col=0, sep=\"\\t\")\n",
    "#df = pd.read_csv(f\"../Smartseq3.Fibroblasts.NovaSeq.UMIcounts.txt\", index_col=0, sep=\"\\t\")\n",
    "#df = df[df.index.isin(nc)]\n",
    "M = df.sum(0)\n",
    "f = df.divide(M,1).mean(1)\n",
    "O = df.apply(lambda x: (x>0).sum()/float(len(x)), 1)"
   ]
  },
  {
   "cell_type": "code",
   "execution_count": null,
   "metadata": {},
   "outputs": [],
   "source": [
    "#f = df.divide(df.sum(0),1).mean(1)\n",
    "#f.to_csv(\"A_ss3_fibro.dat\")"
   ]
  },
  {
   "cell_type": "code",
   "execution_count": null,
   "metadata": {},
   "outputs": [],
   "source": [
    "%load_ext autoreload\n",
    "%autoreload 2\n",
    "from methods import mazzolini as sampling\n",
    "from methods import mazzolini_broad as poissonian_sampling\n",
    "from methods import mazzolini_nbinom as nbinom_sampling\n",
    "from methods import mazzolini_gaus as gaus_sampling\n",
    "from methods import mazzolini_timesM as times_sampling"
   ]
  },
  {
   "cell_type": "code",
   "execution_count": null,
   "metadata": {},
   "outputs": [],
   "source": [
    "M_tilde = 1000000"
   ]
  },
  {
   "cell_type": "markdown",
   "metadata": {},
   "source": [
    "# Create models"
   ]
  },
  {
   "cell_type": "code",
   "execution_count": null,
   "metadata": {},
   "outputs": [],
   "source": [
    "method_delta = sampling(M=M, f=f)\n",
    "method_pois = poissonian_sampling(M=M, f=f, M_tilde=M_tilde)\n",
    "#method_nbinom = nbinom_sampling(M=M, f=f, M_tilde=M_tilde)\n",
    "#method_gaus = gaus_sampling(M=M, f=f)\n",
    "\n",
    "models = [method_delta, method_pois]\n",
    "for method in models:\n",
    "    print(method)\n",
    "    method.run()"
   ]
  },
  {
   "cell_type": "markdown",
   "metadata": {},
   "source": [
    "## Zipf"
   ]
  },
  {
   "cell_type": "code",
   "execution_count": null,
   "metadata": {},
   "outputs": [],
   "source": [
    "plt.plot(np.sort(f/f.sum())[::-1], lw=10, c=\"gray\", alpha=0.5, label=\"data\")\n",
    "for model in models:\n",
    "    plt.plot(model.get_f(), lw=10, alpha=0.5, label=model.name_, c=model.color_)\n",
    "\n",
    "plt.xlabel(\"i\")\n",
    "plt.ylabel(\"f\")\n",
    "\n",
    "plt.xscale(\"log\")\n",
    "plt.yscale(\"log\")\n",
    "\n",
    "plt.legend()"
   ]
  },
  {
   "cell_type": "markdown",
   "metadata": {},
   "source": [
    "## Heaps"
   ]
  },
  {
   "cell_type": "code",
   "execution_count": null,
   "metadata": {},
   "outputs": [],
   "source": [
    "bins = np.logspace(np.log10(M.min()), np.log10(M.max()), 35)\n",
    "#bins = np.linspace(M.min(), M.max(), 35)\n",
    "    \n",
    "h=df.apply(lambda x: (x>0).sum(),0)\n",
    "plt.scatter(M, h, c=\"gray\", alpha=0.8)\n",
    "means, edges, _ = binned_statistic(M, h, bins=bins)\n",
    "var, edges, _ = binned_statistic(M, h, statistic=\"std\", bins=bins)\n",
    "cnt, edges, _ = binned_statistic(M, h, statistic=\"count\", bins=bins)\n",
    "var = var*var\n",
    "mask = cnt > 10\n",
    "means = means[mask]\n",
    "var = var[mask]\n",
    "l_edges = (edges[:-1])[mask]\n",
    "r_edges = (edges[1:])[mask]\n",
    "plt.hlines(means, l_edges, r_edges, lw=5, color=\"gray\", ls=\"--\")\n",
    "\n",
    "for model in models:\n",
    "    print(model.name_)\n",
    "    means, edges, _ = binned_statistic(M, model.get_h(), bins=bins)\n",
    "    var, edges, _ = binned_statistic(M, model.get_h(), statistic=\"std\", bins=bins)\n",
    "    cnt, edges, _ = binned_statistic(M, model.get_h(), statistic=\"count\", bins=bins)\n",
    "    var = var*var\n",
    "    mask = cnt > 10\n",
    "    means = means[mask]\n",
    "    var = var[mask]\n",
    "    l_edges = (edges[:-1])[mask]\n",
    "    r_edges = (edges[1:])[mask]\n",
    "\n",
    "    plt.hlines(means, l_edges, r_edges, lw=5, color=\"dark\"+model.color_, ls=\"--\")\n",
    "\n",
    "    plt.scatter(M, model.get_h(), alpha=0.2, c=model.color_, label=model.name_)\n",
    "    \n",
    "    model.hmean = means.copy()\n",
    "    model.hvar = var.copy()\n",
    "    model.cnt = cnt.copy()\n",
    "\n",
    "\n",
    "plt.xlabel(\"M\")\n",
    "plt.ylabel(\"h\")\n",
    "\n",
    "plt.legend()"
   ]
  },
  {
   "cell_type": "markdown",
   "metadata": {},
   "source": [
    "### Fluctuations"
   ]
  },
  {
   "cell_type": "code",
   "execution_count": null,
   "metadata": {},
   "outputs": [],
   "source": [
    "x = np.logspace(np.log10(300),np.log10(2000))\n",
    "\n",
    "for model in models:\n",
    "    plt.scatter(model.hmean, model.hvar, s=50, label=model.name_, c=model.color_)\n",
    "\n",
    "plt.scatter(means, var, label=\"data\", c=\"gray\")\n",
    "    \n",
    "popt, pcov= curve_fit(lambda x, C: C*x, models[0].hmean, models[0].hvar)\n",
    "plt.plot(x, popt[0]*x, lw=5, ls=\"--\", c=\"cyan\", alpha=0.8, label=\"C*<h>\")\n",
    "\n",
    "popt, pcov= curve_fit(lambda x, C: C*x*x, models[0].hmean, models[0].hvar)\n",
    "plt.plot(x, popt[0]*x**2, lw=5, ls=\"--\", c=\"purple\", alpha=0.8, label =\"C*<h>^2\")\n",
    "    \n",
    "plt.xlabel(\"<h>\")\n",
    "plt.ylabel(\"var(h)\")\n",
    "\n",
    "plt.xscale(\"log\")\n",
    "plt.yscale(\"log\")\n",
    "\n",
    "plt.legend()\n",
    "\n",
    "#plt.ylim(1e2,1e3)"
   ]
  },
  {
   "cell_type": "markdown",
   "metadata": {},
   "source": [
    "## CV^2"
   ]
  },
  {
   "cell_type": "code",
   "execution_count": null,
   "metadata": {},
   "outputs": [],
   "source": [
    "for model in models:\n",
    "    means = np.mean(model.table,0)\n",
    "    mean = means[means>0]\n",
    "    var = np.var(model.table,0)\n",
    "    cv2 = var[means>0]/mean/mean\n",
    "    plt.scatter(mean,cv2, alpha=0.5, label=model.name_,c=model.color_)\n",
    "\n",
    "x = np.linspace(1e-4,1e2,10)\n",
    "plt.plot(x,1/x, alpha=0.5, label=\"<>\",c=\"gray\", ls=\"--\", lw=5)\n",
    "\n",
    "    \n",
    "plt.xscale(\"log\")\n",
    "plt.yscale(\"log\")\n",
    "\n",
    "plt.xlabel(\"<>\")\n",
    "plt.ylabel(\"CV^2\")\n",
    "\n",
    "plt.ylim(1e-2,1e5)\n",
    "plt.xlim(5e-5,1e2)\n",
    "\n",
    "\n",
    "plt.legend()"
   ]
  },
  {
   "cell_type": "markdown",
   "metadata": {},
   "source": [
    "## U"
   ]
  },
  {
   "cell_type": "code",
   "execution_count": null,
   "metadata": {},
   "outputs": [],
   "source": [
    "bins=np.linspace(-0.05,1.05,20)\n",
    "for model in models:\n",
    "    plt.hist(model.get_O(), lw=10, ls=\"--\", density=True, histtype=\"step\", label=model.name_, color=model.color_, alpha=0.4, bins=bins)\n",
    "    \n",
    "plt.hist(O, color=\"gray\", label=\"data\", density=True, bins=bins)\n",
    "plt.legend()"
   ]
  },
  {
   "cell_type": "markdown",
   "metadata": {},
   "source": [
    "# Sparsity"
   ]
  },
  {
   "cell_type": "markdown",
   "metadata": {},
   "source": [
    "## Simulations"
   ]
  },
  {
   "cell_type": "markdown",
   "metadata": {},
   "source": [
    "### Sampling"
   ]
  },
  {
   "cell_type": "code",
   "execution_count": null,
   "metadata": {},
   "outputs": [],
   "source": [
    "sparsities = []\n",
    "occurrences = []\n",
    "for sample in range(50):\n",
    "    model = sampling(M=M, f=f)\n",
    "    model.run()\n",
    "    E = (np.array(model.table)>0).sum()\n",
    "    N = np.array(model.table).shape[0] * np.array(model.table).shape[1]\n",
    "    sparsities.append(1-float(E)/N)\n",
    "    occurrences.append(model.get_O())\n",
    "    \n",
    "method_delta.O = np.average(occurrences, 0)\n",
    "method_delta.O_err = np.std(occurrences, 0)"
   ]
  },
  {
   "cell_type": "markdown",
   "metadata": {},
   "source": [
    "### Sampling from Poisson"
   ]
  },
  {
   "cell_type": "code",
   "execution_count": null,
   "metadata": {},
   "outputs": [],
   "source": [
    "sparsities_pois = []\n",
    "occurrences = []\n",
    "for sample in range(250):\n",
    "    model = poissonian_sampling(M=M, f=f, M_tilde=M_tilde)\n",
    "    model.run()\n",
    "    E = (np.array(model.table)>0).sum().sum()\n",
    "    N = np.array(model.table).shape[0] * np.array(model.table).shape[1]\n",
    "    sparsities_pois.append(1-float(E)/N)\n",
    "    occurrences.append(model.get_O())\n",
    "    \n",
    "method_pois.O = np.average(occurrences, 0)\n",
    "method_pois.O_err = np.std(occurrences, 0)"
   ]
  },
  {
   "cell_type": "markdown",
   "metadata": {},
   "source": [
    "### Sampling from gaus"
   ]
  },
  {
   "cell_type": "code",
   "execution_count": null,
   "metadata": {},
   "outputs": [],
   "source": [
    "sparsities_gaus = []\n",
    "for sample in range(50):\n",
    "    model = gaus_sampling(M=M, f=f)\n",
    "    model.run()\n",
    "    E = (np.array(model.table)>0).sum().sum()\n",
    "    N = np.array(model.table).shape[0] * np.array(model.table).shape[1]\n",
    "    sparsities_gaus.append(1-float(E)/N)"
   ]
  },
  {
   "cell_type": "markdown",
   "metadata": {},
   "source": [
    "## U"
   ]
  },
  {
   "cell_type": "code",
   "execution_count": null,
   "metadata": {},
   "outputs": [],
   "source": [
    "bins=np.linspace(-0.05,1.05,20)\n",
    "for model in models:\n",
    "    plt.hist(model.get_O(), lw=10, ls=\"--\", density=True, histtype=\"step\", label=model.name_, color=model.color_, alpha=0.4, bins=bins)\n",
    "    \n",
    "plt.hist(O, color=\"gray\", label=\"data\", density=True, bins=bins)\n",
    "plt.legend()"
   ]
  },
  {
   "cell_type": "markdown",
   "metadata": {},
   "source": [
    "### Data"
   ]
  },
  {
   "cell_type": "code",
   "execution_count": null,
   "metadata": {},
   "outputs": [],
   "source": [
    "E = (df>0).sum().sum()\n",
    "N = df.shape[0] * df.shape[1]\n",
    "data_sparsity=[1-E/N]"
   ]
  },
  {
   "cell_type": "markdown",
   "metadata": {},
   "source": [
    "## Plot"
   ]
  },
  {
   "cell_type": "code",
   "execution_count": null,
   "metadata": {},
   "outputs": [],
   "source": [
    "fig = plt.figure(figsize=(8,8))\n",
    "\n",
    "#plt.boxplot([data_sparsity,sparsities,sparsities_pois_5, sparsities_pois], labels=[\"data\", \"sampling\", \"poissonian \\n sampling \\n (M=500000)\", f\"\\n (M={M_tilde})\"], medianprops={\"lw\":10, \"color\":\"red\"}, whiskerprops={\"lw\":5}, capprops={\"lw\":5})\n",
    "plt.boxplot([data_sparsity,sparsities, sparsities_pois], labels=[\"data\", \"sampling\", f\"gaussian\"], medianprops={\"lw\":10, \"color\":\"red\"}, whiskerprops={\"lw\":5}, capprops={\"lw\":5})\n",
    "\n",
    "\n",
    "\n",
    "plt.ylabel(\"Sparsity\", fontsize=45)\n",
    "plt.xticks(rotation=90)\n",
    "plt.tick_params(size=10, width=5, labelsize=35)\n",
    "plt.tight_layout()\n",
    "plt.show()\n",
    "fig.savefig(f\"Sparsity_box_{tissue}.pdf\")"
   ]
  },
  {
   "cell_type": "markdown",
   "metadata": {},
   "source": [
    "# P0"
   ]
  },
  {
   "cell_type": "code",
   "execution_count": null,
   "metadata": {},
   "outputs": [],
   "source": [
    "import multiprocessing as mp\n",
    "from time import time\n",
    "from scipy.special import gamma, gammainc"
   ]
  },
  {
   "cell_type": "code",
   "execution_count": null,
   "metadata": {},
   "outputs": [],
   "source": [
    "def p_sampling(f, M):\n",
    "    return [np.exp(-fi*M) for fi in f]\n",
    "\n",
    "#def p_poisson_sampling(f, M, M_tilde):\n",
    "#    def a(fi):\n",
    "#        return fi / (fi-1.) * np.exp(-M/M_tilde)\n",
    "#    return [np.power(1-fi,M_tilde) * np.power(1-a(fi),M_tilde) for fi in f]\n",
    "\n",
    "def p_poisson_sampling(f, M, M_tilde):\n",
    "    def a(fi):\n",
    "        #return fi * (M-M_tilde)/(1-fi)\n",
    "        return fi * M_tilde * np.exp(-M/M_tilde)\n",
    "    \n",
    "    #norm = 1 + np.exp(-M_tilde) * np.exp(a(1)) \n",
    "    return [np.exp(-fi*M_tilde) * np.exp(a(fi)) for fi in f]\n",
    "\n",
    "def p_poisson_sampling_caselle(n, x):\n",
    "    n = n[0]\n",
    "    return np.exp(-x)*np.power(x,2*n) / gamma(n+1)**2 * np.sqrt(2*np.pi*n)"
   ]
  },
  {
   "cell_type": "code",
   "execution_count": null,
   "metadata": {},
   "outputs": [],
   "source": [
    "#NSample = 500\n",
    "#M_sampled = M.sample(NSample, replace=False)\n",
    "M_sampled = M\n",
    "NSample = M.shape[0]"
   ]
  },
  {
   "cell_type": "code",
   "execution_count": null,
   "metadata": {},
   "outputs": [],
   "source": [
    "def get_term_at(ftilde):\n",
    "    return 1-1./NSample*np.sum([p_sampling([ftilde],m) for m in M_sampled])\n",
    "\n",
    "start = time()\n",
    "pool = mp.Pool(12)\n",
    "temp = pool.map_async(get_term_at, f)\n",
    "\n",
    "pool.close()\n",
    "pool.join()\n",
    "\n",
    "O_sampling=temp.get()\n",
    "\n",
    "time()-start"
   ]
  },
  {
   "cell_type": "code",
   "execution_count": null,
   "metadata": {
    "tags": []
   },
   "outputs": [],
   "source": [
    "def get_term_at(ftilde):\n",
    "    return 1-1./NSample*np.sum([p_poisson_sampling([ftilde], m, M_tilde=M_tilde) for m in M_sampled])\n",
    "\n",
    "start = time()\n",
    "pool = mp.Pool(12)\n",
    "temp = pool.map_async(get_term_at, f)\n",
    "\n",
    "pool.close()\n",
    "pool.join()\n",
    "\n",
    "O_poisson_sampling=temp.get()\n",
    "\n",
    "time()-start"
   ]
  },
  {
   "cell_type": "code",
   "execution_count": null,
   "metadata": {},
   "outputs": [],
   "source": [
    "fig,axs = plt.subplots(1,2, figsize=(30,10))\n",
    "\n",
    "axs[0].scatter(x=O_poisson_sampling, y=models[1].get_O())\n",
    "axs[0].errorbar(x=O_poisson_sampling, y=models[1].get_O(), marker=\"o\", lw=0, elinewidth=1, yerr=models[1].O_err)\n",
    "axs[0].plot([0,1],[0,1], lw=10, c=\"red\", ls=\"--\", alpha=0.8)\n",
    "axs[0].tick_params(labelsize=25)\n",
    "\n",
    "axs[0].set_ylabel(\"O_poisson_sampling\",fontsize=35)\n",
    "axs[0].set_xlabel(\"O_poisson_sampling_teo\",fontsize=35)\n",
    "\n",
    "axs[1].errorbar(x=O_sampling, y=models[0].get_O(), marker=\"o\", lw=0, elinewidth=1, yerr=models[0].O_err)\n",
    "axs[1].plot([0,1],[0,1], lw=10, c=\"red\", ls=\"--\", alpha=0.8)\n",
    "\n",
    "axs[1].set_ylabel(\"O_sampling\",fontsize=35)\n",
    "axs[1].set_xlabel(\"O_sampling_teo\",fontsize=35)\n",
    "\n",
    "axs[1].tick_params(labelsize=25)\n",
    "\n",
    "plt.show()\n",
    "fig.savefig(f\"Poisson_sampling_teo_{tissue}.pdf\")"
   ]
  },
  {
   "cell_type": "code",
   "execution_count": null,
   "metadata": {},
   "outputs": [],
   "source": [
    "fig, ax = plt.subplots(1,1, figsize=(18,15))\n",
    "\n",
    "ax.errorbar(O, models[0].O, marker=\"o\", ms=8, lw=0, c=\"gray\", elinewidth=2, yerr=models[0].O_err, alpha=0.6)\n",
    "\n",
    "#ax.errorbar(O, O_sampling, marker=\"o\", ms=10, lw=0, c=\"gray\", elinewidth=2, yerr=models[0].O_err, alpha=0.8)\n",
    "\n",
    "ax.plot([0,1],[0,1], lw=10, c=\"red\", ls=\"--\", alpha=1)\n",
    "\n",
    "#ax.legend(fontsize=35, loc=\"lower right\")\n",
    "\n",
    "ax.set_xlabel(\"$o_i$ from data\",fontsize=35)\n",
    "ax.set_ylabel(\"$o_i$ predicted\",fontsize=35)\n",
    "ax.set_xlim(0,1)\n",
    "ax.set_ylim(0,1)\n",
    "\n",
    "ax.tick_params(labelsize=25)\n",
    "\n",
    "plt.show()\n",
    "fig.savefig(f\"Poisson_sampling_err.pdf\")"
   ]
  },
  {
   "cell_type": "code",
   "execution_count": null,
   "metadata": {},
   "outputs": [],
   "source": [
    "fig, axs = plt.subplots(1,2, figsize=(30,10))\n",
    "\n",
    "axs[0].scatter(O/len(M), O_sampling, label=\"O sampling (teo)\")\n",
    "axs[0].scatter(O/len(M), O_poisson_sampling, label=\"O poisson sampling (teo)\")\n",
    "axs[0].plot([0,1],[0,1], lw=10, c=\"red\", ls=\"--\", alpha=0.8)\n",
    "\n",
    "axs[0].legend(fontsize=35, loc=\"lower right\")\n",
    "\n",
    "#axs[0].set_ylabel(\"O_sampling (teo)\")\n",
    "axs[0].set_xlabel(\"O_data\",fontsize=35)\n",
    "\n",
    "axs[0].tick_params(labelsize=25)\n",
    "\n",
    "#axs[1].scatter(O_sampling, O_poisson_sampling)\n",
    "axs[1].scatter(O/len(M), models[0].get_O(), label=\"O sampling (sim)\")\n",
    "axs[1].scatter(O/len(M), models[1].get_O(), label=\"O poisson sampling (sim)\")\n",
    "axs[1].plot([0,1],[0,1], lw=10, c=\"red\", ls=\"--\", alpha=0.8)\n",
    "\n",
    "axs[1].legend(fontsize=35, loc=\"lower right\")\n",
    "axs[1].set_xlabel(\"O_data\",fontsize=35)\n",
    "axs[1].tick_params(labelsize=25)\n",
    "\n",
    "plt.show()"
   ]
  },
  {
   "cell_type": "code",
   "execution_count": null,
   "metadata": {},
   "outputs": [],
   "source": [
    "df_findzeros = pd.DataFrame()\n",
    "df_findzeros = df_findzeros.join(pd.Series(name=\"O_real\", index = O.index, data=O), how=\"outer\")\n",
    "df_findzeros = df_findzeros.join(pd.Series(name=\"O_sampling_teo\", index = O.index, data=O_sampling), how=\"outer\")\n",
    "df_findzeros = df_findzeros.join(pd.Series(name=\"O_sampling\", index = O.index, data=models[0].get_O()), how=\"outer\")\n",
    "df_findzeros = df_findzeros.join(pd.Series(name=\"O_sampling_err\", index = O.index, data=models[0].O_err), how=\"outer\")"
   ]
  },
  {
   "cell_type": "code",
   "execution_count": null,
   "metadata": {},
   "outputs": [],
   "source": [
    "df_findzeros[\"O_real-O_pred\"]=df_findzeros[\"O_real\"]-df_findzeros[\"O_sampling\"]\n",
    "df_findzeros[\"Z\"]=(df_findzeros[\"O_real-O_pred\"]).abs()/(1e-10+df_findzeros[\"O_sampling_err\"])\n",
    "for g in df_findzeros[(df_findzeros[\"O_sampling\"]<df_findzeros[\"O_real\"]) & (df_findzeros[\"Z\"]>3)].index:\n",
    "    print(g)"
   ]
  },
  {
   "cell_type": "code",
   "execution_count": null,
   "metadata": {},
   "outputs": [],
   "source": [
    "fig,ax = plt.subplots()\n",
    "df_findzeros[(df_findzeros[\"O_sampling\"]<df_findzeros[\"O_real\"]) & (df_findzeros[\"Z\"]>0)][\"O_real\"].hist(ax=ax)\n",
    "\n",
    "ax.set_xlabel(\"Occurrence\")\n",
    "ax.set_ylabel(\"#\")\n",
    "ax.set_title(\"geni con Z (Opred-Oreal<0) > 3\")"
   ]
  },
  {
   "cell_type": "code",
   "execution_count": null,
   "metadata": {},
   "outputs": [],
   "source": [
    "#tissue=\"HEK\"\n",
    "fig,ax = plt.subplots(figsize=(18,15))\n",
    "bins = np.linspace(-0.25, np.sqrt(2)/2., num=50)\n",
    "\n",
    "ax.hist((model.get_O()-O), density=True, bins=bins, color=\"gray\")\n",
    "#ax.hist(np.concatenate(diffs), density=True, histtype=\"step\", color=\"blue\", bins=bins, ls=\"--\", lw=5)\n",
    "ax.hist(np.concatenate([occ-np.array(model.get_O()) for occ in occurrences]), density=True, histtype=\"step\", color=\"blue\", bins=bins, ls=\"--\", lw=5)\n",
    "\n",
    "\n",
    "ax.tick_params(labelsize=40, length=10, width=10)\n",
    "ax.tick_params(which=\"minor\", labelsize=40, length=8, width=5)\n",
    "\n",
    "ax.set_xlabel(\"$o_i$ predicted - $o_i$ from data\", fontsize=60)\n",
    "ax.set_ylabel(\"pdf\", fontsize=60)\n",
    "#ax.legend()\n",
    "\n",
    "#ax.set_yscale(\"log\")\n",
    "\n",
    "#plt.ylim(1e-3,100)\n",
    "\n",
    "plt.tight_layout()\n",
    "\n",
    "plt.show()\n",
    "fig.savefig(f\"O_pred_hist_{tissue}.pdf\")"
   ]
  },
  {
   "cell_type": "markdown",
   "metadata": {},
   "source": [
    "# END"
   ]
  },
  {
   "cell_type": "code",
   "execution_count": null,
   "metadata": {},
   "outputs": [],
   "source": [
    "pom_sampling = p_sampling(f.sort_values(), 1000)\n",
    "pom_poisson_sampling = p_poisson_sampling(f.sort_values(), 1000, M_tilde)"
   ]
  },
  {
   "cell_type": "code",
   "execution_count": null,
   "metadata": {},
   "outputs": [],
   "source": [
    "import plotly.graph_objects as go"
   ]
  },
  {
   "cell_type": "code",
   "execution_count": null,
   "metadata": {},
   "outputs": [],
   "source": [
    "fig = go.Figure()\n",
    "fig.add_scatter(x=f.sort_values(),y=pom_sampling, mode=\"lines\", name=\"sampling\", line=dict(dash=\"longdash\", width=5))\n",
    "fig.add_scatter(x=f.sort_values(),y=pom_poisson_sampling, mode=\"lines\", name=\"poisson\", line_dash=\"dashdot\", line_width=5)\n",
    "\n",
    "fig.update_traces(opacity=0.8)\n",
    "fig.update_layout(xaxis_title=\"f\",\n",
    "                  xaxis_type=\"log\",\n",
    "                  xaxis_range=(-5,np.log10(3e-2)),\n",
    "                  xaxis_exponentformat=\"e\",\n",
    "                  yaxis_type=\"log\",\n",
    "                  yaxis_title=\"P(0|M)\")\n",
    "fig.show()"
   ]
  },
  {
   "cell_type": "code",
   "execution_count": null,
   "metadata": {},
   "outputs": [],
   "source": [
    "import gc\n",
    "gc.collect()"
   ]
  },
  {
   "cell_type": "code",
   "execution_count": null,
   "metadata": {},
   "outputs": [],
   "source": [
    "def p0m(df, M, limits = (100,110)):\n",
    "    M_sorted = M.sort_values(ascending=True)\n",
    "    quantiles = np.quantile(M, q=np.linspace(0,1,10)[:-1])\n",
    "    #quantiles = np.linspace(M.min(), M.max(), 20)\n",
    "    M_classes = pd.Series(index=M.index, data=np.digitize(M, quantiles))\n",
    "    f = df.mean(1)\n",
    "    f = f/f.sum()\n",
    "    f_ = df.apply(lambda x: x[x>0].mean(), 1)\n",
    "    f_ = f_/f_.sum()\n",
    "    ret = {}\n",
    "    for g in f.sort_values(ascending=False).index[limits[0]:limits[1]]:\n",
    "        genexpr = df.loc[g,:]\n",
    "        ret[g] =  [(genexpr[M_classes[M_classes==c].index]==0).astype(int).sum()/len(M_classes[M_classes==c]) for c in np.arange(len(quantiles))+1]\n",
    "        del genexpr\n",
    "        gc.collect()\n",
    "    return ret, quantiles, (f.sort_values(ascending=False)[limits[0]:limits[1]].mean(), f_.sort_values(ascending=False)[limits[0]:limits[1]].mean())"
   ]
  },
  {
   "cell_type": "code",
   "execution_count": null,
   "metadata": {},
   "outputs": [],
   "source": [
    "p0mdata, M_bins, f_mean = p0m(df, M, limits = (500,510))\n",
    "tmp=np.average([v for v in p0mdata.values()], axis=0)"
   ]
  },
  {
   "cell_type": "code",
   "execution_count": null,
   "metadata": {},
   "outputs": [],
   "source": [
    "xM = M_bins\n",
    "pom_sampling = np.ravel([p_sampling([f_mean[0]], m) for m in xM])\n",
    "pom_poisson_sampling = np.ravel([p_poisson_sampling([f_mean[0]], m, M_tilde) for m in xM])"
   ]
  },
  {
   "cell_type": "code",
   "execution_count": null,
   "metadata": {},
   "outputs": [],
   "source": [
    "fig = go.Figure()\n",
    "fig.add_scatter(x=xM, y=pom_sampling, mode=\"lines\", name=\"sampling\", line=dict(dash=\"dash\"))\n",
    "fig.add_scatter(x=xM, y=pom_poisson_sampling, mode=\"lines\", name=\"poisson\", line_dash=\"dashdot\")\n",
    "fig.add_scatter(x=xM, y=tmp, mode=\"lines\", name=\"data\")\n",
    "\n",
    "fig.update_layout(xaxis_title=\"M\", \n",
    "                  yaxis_type=\"log\",\n",
    "                  yaxis_title=\"P(0|M)\")\n",
    "fig.show()"
   ]
  },
  {
   "cell_type": "code",
   "execution_count": null,
   "metadata": {},
   "outputs": [],
   "source": []
  }
 ],
 "metadata": {
  "kernelspec": {
   "display_name": "Python 3",
   "language": "python",
   "name": "python3"
  },
  "language_info": {
   "codemirror_mode": {
    "name": "ipython",
    "version": 3
   },
   "file_extension": ".py",
   "mimetype": "text/x-python",
   "name": "python",
   "nbconvert_exporter": "python",
   "pygments_lexer": "ipython3",
   "version": "3.8.8"
  }
 },
 "nbformat": 4,
 "nbformat_minor": 4
}

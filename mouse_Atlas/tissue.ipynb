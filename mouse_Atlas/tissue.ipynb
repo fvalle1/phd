{
 "cells": [
  {
   "cell_type": "code",
   "execution_count": 1,
   "metadata": {},
   "outputs": [
    {
     "data": {
      "text/plain": [
       "PyObject <module 'frontiers_colors' from '/home/fvalle/phd/mouse_Atlas/frontiers_colors.py'>"
      ]
     },
     "execution_count": 1,
     "metadata": {},
     "output_type": "execute_result"
    }
   ],
   "source": [
    "using Pandas\n",
    "using DataFrames\n",
    "using PyCall\n",
    "using PyPlot\n",
    "using CSV\n",
    "using LsqFit\n",
    "using Printf\n",
    "using KernelDensity\n",
    "\n",
    "include(\"tacos.jl\")\n",
    "\n",
    "numpy = pyimport(\"numpy\")\n",
    "scipy_integrate = pyimport(\"scipy.integrate\")\n",
    "pushfirst!(PyVector(pyimport(\"sys\").\"path\"), \"\")\n",
    "frontiers = pyimport(\"frontiers_colors\")"
   ]
  },
  {
   "cell_type": "code",
   "execution_count": null,
   "metadata": {},
   "outputs": [],
   "source": [
    "fig, ax = subplots(1,2, figsize=(12,5))\n",
    "data[\"freq\"].hist(ax=ax[1], bins=10)\n",
    "ax[1].set_yscale(\"log\")\n",
    "ax[1].set_xlabel(\"Frequency\", fontsize=24)\n",
    "ax[1].set_ylabel(\"pdf\", fontsize=24)\n",
    "\n",
    "f = data[\"freq\"].sort_values(ascending=false)\n",
    "ax[2].plot(f/f.sum())\n",
    "ax[2].set_xscale(\"log\")\n",
    "ax[2].set_yscale(\"log\")\n",
    "ax[2].set_xlabel(\"Rank, i\", fontsize=24)\n",
    "ax[2].set_ylabel(\"f_i\", fontsize=24)\n",
    "fig.savefig(\"f_distribution.pdf\")\n",
    "show()"
   ]
  },
  {
   "cell_type": "code",
   "execution_count": null,
   "metadata": {},
   "outputs": [],
   "source": [
    "tissue = \"Bone-Marrow_c-kit\"\n",
    "\n",
    "data = Dict()\n",
    "data[\"data\"]=load_pickle(\"mca/data_$(tissue)_data.pkl\")\n",
    "data[\"mazzolini\"]=load_pickle(\"mca/data_$(tissue)_mazzolini.pkl\")\n",
    "#data[\"null_1\"]=load_pickle(\"data_$(tissue)_null_1.pkl\")"
   ]
  },
  {
   "cell_type": "code",
   "execution_count": null,
   "metadata": {},
   "outputs": [],
   "source": [
    "fig, ax = subplots(2,2, figsize=(12,10))\n",
    "f = data[\"data\"][\"means_nonzero\"].sort_values(ascending=false)\n",
    "\n",
    "ax[1].hist(f/f.sum(),  bins=10)\n",
    "ax[1].set_yscale(\"log\")\n",
    "ax[1].set_xlabel(\"Frequency\", fontsize=24)\n",
    "ax[1].set_ylabel(\"pdf\", fontsize=24)\n",
    "\n",
    "ax[2].plot(f/f.sum())\n",
    "ax[2].set_xscale(\"log\")\n",
    "ax[2].set_yscale(\"log\")\n",
    "ax[2].set_ylim(1e-6,1e-1)\n",
    "ax[2].set_xlabel(\"Rank, i\", fontsize=24)\n",
    "ax[2].set_ylabel(\"f_i\", fontsize=24)\n",
    "\n",
    "\n",
    "f = data[\"data\"][\"means\"].sort_values(ascending=false)\n",
    "\n",
    "ax[3].hist(f/f.sum(), bins=10)\n",
    "ax[3].set_yscale(\"log\")\n",
    "ax[3].set_xlabel(\"Frequency\", fontsize=24)\n",
    "ax[3].set_ylabel(\"pdf\", fontsize=24)\n",
    "\n",
    "ax[4].plot(f/f.sum())\n",
    "ax[4].set_xscale(\"log\")\n",
    "ax[4].set_yscale(\"log\")\n",
    "ax[4].set_ylim(1e-6,1e-1)\n",
    "ax[4].set_xlabel(\"Rank, i\", fontsize=24)\n",
    "ax[4].set_ylabel(\"f_i\", fontsize=24)\n",
    "fig.savefig(\"f_distribution.pdf\")\n",
    "show()"
   ]
  },
  {
   "cell_type": "code",
   "execution_count": null,
   "metadata": {},
   "outputs": [],
   "source": [
    "bins=10\n",
    "rang = (0-0.5/bins, 1+0.5/bins)\n",
    "fig, ax = subplots(1,2, figsize=(10,5))\n",
    "\n",
    "data[\"data\"][\"O\"].hist(histtype=\"step\", lw=5, ax=ax[1], range=rang, bins=bins, label=\"data\")\n",
    "data[\"mazzolini\"][\"O\"].hist(histtype=\"step\", lw=5, ax=ax[1], range=rang, bins=bins, ls=\"--\", label=\"mazzolini\")\n",
    "data[\"null_1\"][\"O\"].hist(histtype=\"step\", lw=5, ax=ax[1], range=rang, bins=bins, ls=\":\", label=\"null\")\n",
    "\n",
    "ax[1].legend(fontsize=20)\n",
    "ax[1].set_xlabel(\"O_i\")\n",
    "\n",
    "data[\"data\"][\"O\"].hist(histtype=\"step\", lw=5, ax=ax[2], range=rang, bins=bins, label=\"data\")\n",
    "data[\"mazzolini\"][\"O\"].hist(histtype=\"step\", lw=5, ax=ax[2], range=rang, bins=bins, ls=\"--\", label=\"mazzolini\")\n",
    "data[\"null_1\"][\"O\"].hist(histtype=\"step\", lw=5, ax=ax[2], range=rang, bins=bins, ls=\":\", label=\"null\")\n",
    "\n",
    "ax[2].set_yscale(\"log\")\n",
    "ax[2].legend(fontsize=20)\n",
    "ax[2].set_xlabel(\"O_i\")\n",
    "\n",
    "fig.savefig(\"null_1_U.pdf\")"
   ]
  },
  {
   "cell_type": "code",
   "execution_count": null,
   "metadata": {},
   "outputs": [],
   "source": [
    "fig, ax = PyPlot.subplots()\n",
    "\n",
    "function fx(X)\n",
    "    ret = Vector{Float64}()\n",
    "    for x in X.values\n",
    "        append!(ret, exp(-x))\n",
    "    end\n",
    "   return ret\n",
    "end\n",
    "\n",
    "ax.scatter(data[\"data\"][\"means\"], 1-data[\"data\"][\"O\"], alpha=0.3, label=\"data\")\n",
    "ax.plot(data[\"data\"][\"means\"].sort_values(), fx(data[\"data\"][\"means\"].sort_values()), c=\"yellow\", ls=\"--\", alpha=0.5, label=\"1-exp(-x)\")\n",
    "ax.scatter(data[\"mazzolini\"][\"means\"], 1-data[\"mazzolini\"][\"O\"], c=\"orange\", alpha=0.2, label=\"mazzolini\")\n",
    "ax.scatter(data[\"null_1\"][\"means\"], 1-data[\"null_1\"][\"O\"], marker=\"x\", s=10, c=\"green\", alpha=0.8, label=\"null_1\")\n",
    "\n",
    "\n",
    "ax.legend()\n",
    "ax.set_xscale(\"log\")\n",
    "#ax.set_yscale(\"log\")\n",
    "ax.set_xlim(1e-4,30)\n",
    "ax.set_ylim(-0.1,1.1)\n",
    "\n",
    "ax.set_xlabel(\"mean\", fontsize=24)\n",
    "ax.set_ylabel(\"P(0)\", fontsize=24)\n",
    "\n",
    "fig.savefig(\"null_1_P_mean.pdf\")\n",
    "show()"
   ]
  },
  {
   "cell_type": "code",
   "execution_count": null,
   "metadata": {},
   "outputs": [],
   "source": [
    "data[\"data\"][\"means\"].sort_values()"
   ]
  },
  {
   "cell_type": "code",
   "execution_count": null,
   "metadata": {},
   "outputs": [],
   "source": [
    "fig, ax = PyPlot.subplots()\n",
    "ax.plot(data[\"data\"][\"freq\"].sort_values(ascending=false).values, label=\"data\")\n",
    "ax.plot(data[\"mazzolini\"][\"freq\"].sort_values(ascending=false).values, label=\"mazzolini\")\n",
    "ax.plot(data[\"null_1\"][\"freq\"].sort_values(ascending=false).values, label=\"null\")\n",
    "\n",
    "ax.legend()\n",
    "ax.set_yscale(\"log\")\n",
    "ax.set_xscale(\"log\")\n",
    "\n",
    "ax.set_xlabel(\"Rank, i\", fontsize=24)\n",
    "ax.set_ylabel(\"f_i\", fontsize=24)\n",
    "show()\n",
    "\n",
    "fig.savefig(\"null_1_zipf.pdf\")"
   ]
  },
  {
   "cell_type": "code",
   "execution_count": null,
   "metadata": {},
   "outputs": [],
   "source": [
    "fig, ax = PyPlot.subplots(figsize=(10,5))\n",
    "ax.scatter(data[\"data\"][\"M\"].values, data[\"data\"][\"diffWords\"].values, label=\"data\")\n",
    "ax.scatter(data[\"mazzolini\"][\"M\"].values, data[\"mazzolini\"][\"diffWords\"].values, label=\"mazzolini\")\n",
    "ax.scatter(data[\"null_1\"][\"M\"].values, data[\"null_1\"][\"diffWords\"].values, label=\"null\")\n",
    "\n",
    "\n",
    "ax.legend()\n",
    "ax.set_yscale(\"log\")\n",
    "ax.set_xscale(\"log\")\n",
    "ax.set_xlim(500,data[\"data\"][\"M\"].max()+1e4)\n",
    "ax.set_ylim(10,data[\"mazzolini\"][\"diffWords\"].max()+5e3)\n",
    "\n",
    "ax.set_xlabel(\"Size\", fontsize=24)\n",
    "\n",
    "ax.set_ylabel(\"# genes expressed\", fontsize=24)\n",
    "show()\n",
    "\n",
    "fig.savefig(\"null_1_heaps.pdf\")"
   ]
  },
  {
   "cell_type": "code",
   "execution_count": null,
   "metadata": {},
   "outputs": [],
   "source": [
    "for g in data[\"data\"][\"freq\"].sort_values(ascending=false).index\n",
    "    println(g)\n",
    "end"
   ]
  },
  {
   "cell_type": "code",
   "execution_count": null,
   "metadata": {},
   "outputs": [],
   "source": [
    "keys(load_pickle(\"data_$(tissue)_data.pkl\"))"
   ]
  },
  {
   "cell_type": "code",
   "execution_count": null,
   "metadata": {},
   "outputs": [],
   "source": [
    "tissues"
   ]
  },
  {
   "cell_type": "code",
   "execution_count": null,
   "metadata": {},
   "outputs": [],
   "source": [
    "integrals = []\n",
    "used_tissues = []\n",
    "tissues = (split(split(f,\"data_\")[2],\"_data\")[1] for f in readdir(\"mca\") if occursin(\".pkl\",f) && !occursin(\"mazzolini\",f) && !occursin(\"data_all.pkl\",f))\n",
    "\n",
    "function fit_func(x,a,b)\n",
    "    return a*x^b\n",
    "end\n",
    "\n",
    "for tissue in tissues\n",
    "    println(tissue)\n",
    "    integral=load_pickle(\"mca/data_$(tissue)_data.pkl\")[\"heaps_integral\"][1]\n",
    "    params = load_pickle(\"mca/data_$(tissue)_data.pkl\")[\"heaps_fit\"]\n",
    "    integral=scipy_integrate.quad(fit_func, 500, 1000, args=(params[1], params[2]))[1]\n",
    "    append!(integrals, integral::Float64)\n",
    "end\n",
    "integrals = DataFrames.DataFrame(data=integrals, index = collect(tissues))\n",
    "sort!(integrals, rev=true)"
   ]
  },
  {
   "cell_type": "code",
   "execution_count": null,
   "metadata": {},
   "outputs": [],
   "source": [
    "CSV.write(\"integral_heaps.csv\", integrals)"
   ]
  },
  {
   "cell_type": "code",
   "execution_count": null,
   "metadata": {},
   "outputs": [],
   "source": [
    "fig, ax = PyPlot.subplots(figsize=(18,15))\n",
    "for (itissue, tissue) in enumerate(integrals.index)\n",
    "    ax.plot(itissue, integrals[itissue,1], marker=\"o\", c=frontiers.get_color(tissue), lw=0, ms=15)\n",
    "end\n",
    "locs, labels = xticks()\n",
    "ax.set_xticks(0:length(integrals.index))\n",
    "ax.set_xticklabels(rotation=90, labels = integrals.index)\n",
    "\n",
    "ax.set_ylabel(\"Heaps' integral\", fontsize=35)\n",
    "\n",
    "ax.tick_params(labelsize=25, width=8, length=20)\n",
    "\n",
    "fig.savefig(\"itegral_heapfs_scatter_plot_mca.pdf\")\n",
    "fig.savefig(\"itegral_heapfs_scatter_plot_mca.png\")"
   ]
  },
  {
   "cell_type": "code",
   "execution_count": null,
   "metadata": {},
   "outputs": [],
   "source": []
  },
  {
   "cell_type": "code",
   "execution_count": null,
   "metadata": {},
   "outputs": [],
   "source": [
    "CSV.write(\"integral.csv\", integrals)"
   ]
  },
  {
   "cell_type": "code",
   "execution_count": null,
   "metadata": {},
   "outputs": [],
   "source": [
    "integrals.rank=1:length(integrals.index)"
   ]
  },
  {
   "cell_type": "code",
   "execution_count": null,
   "metadata": {},
   "outputs": [],
   "source": [
    "mca_tm"
   ]
  },
  {
   "cell_type": "code",
   "execution_count": null,
   "metadata": {},
   "outputs": [],
   "source": [
    "mca_tm = CSV.read(\"integral.csv\")\n",
    "select!(mca_tm,Not(:GTex))\n",
    "mca_tm = DataFrames.dropmissing(mca_tm)\n",
    "sort!(mca_tm,:TM)\n",
    "mca_tm.TM = 1:11\n",
    "sort!(mca_tm,:MCA)\n",
    "mca_tm.MCA = 1:11\n",
    "sort!(mca_tm, :MCA)"
   ]
  },
  {
   "cell_type": "code",
   "execution_count": null,
   "metadata": {},
   "outputs": [],
   "source": [
    "fig, ax = PyPlot.subplots(figsize=(18,15))\n",
    "ax.scatter(mca_tm.MCA, mca_tm.TM, c=\"gray\", s=2500)\n",
    "ax.set_xlabel(\"MCA integral's rank\", fontsize=35)\n",
    "ax.set_ylabel(\"TM integral's rank\", fontsize=35)\n",
    "\n",
    "ax.tick_params(labelsize=35, width=8, length=35)\n",
    "\n",
    "\n",
    "fig.savefig(\"heaps_rank_both.pdf\")\n",
    "fig.savefig(\"heaps_rank_both.svg\")"
   ]
  },
  {
   "cell_type": "code",
   "execution_count": null,
   "metadata": {},
   "outputs": [],
   "source": [
    "data = Dict()\n",
    "data[\"data\"]=load_pickle(\"mca/data_Bone-Marrow_c-kit_data.pkl\")\n",
    "data[\"mazzolini\"]=load_pickle(\"mca/data_Bone-Marrow_c-kit_mazzolini.pkl\")\n",
    "\n",
    "\n",
    "fig, ax = PyPlot.subplots(figsize=(18,15))\n",
    "\n",
    "ax.scatter(data[\"data\"][\"M\"], data[\"data\"][\"diffWords\"], c=\"gray\", alpha=0.3, s=225)\n",
    "\n",
    "ax.set_xlabel(\"UMI per cell\", fontsize=35)\n",
    "ax.set_ylabel(\"Number of expressed genes\", fontsize=35)\n",
    "\n",
    "#ax.set_xscale(\"log\")\n",
    "#ax.set_yscale(\"log\")\n",
    "\n",
    "ax.tick_params(labelsize=35, width=8, length=35)\n",
    "\n",
    "PyPlot.show()\n",
    "fig.savefig(\"heaps_boneMarrow_MCA.pdf\")"
   ]
  },
  {
   "cell_type": "code",
   "execution_count": null,
   "metadata": {},
   "outputs": [],
   "source": [
    "fig, ax = PyPlot.subplots(figsize=(18,15))\n",
    "\n",
    "ax.scatter(data[\"data\"][\"M\"], data[\"data\"][\"diffWords\"], c=\"gray\", alpha=0.3, s=225, label=\"data\")\n",
    "ax.scatter(data[\"mazzolini\"][\"M\"], data[\"mazzolini\"][\"diffWords\"], c=\"red\", alpha=0.3, s=225, label=\"Sampling model\")\n",
    "\n",
    "ax.set_xlabel(\"UMI per cell\", fontsize=35)\n",
    "ax.set_ylabel(\"Number of expressed genes\", fontsize=35)\n",
    "\n",
    "ax.tick_params(labelsize=35, width=8, length=35)\n",
    "\n",
    "#ax.set_xscale(\"log\")\n",
    "#ax.set_yscale(\"log\")\n",
    "\n",
    "ax.legend(fontsize=35)\n",
    "\n",
    "PyPlot.show()\n",
    "fig.savefig(\"heaps_boneMarrow_sampling_MCA.pdf\")"
   ]
  },
  {
   "cell_type": "code",
   "execution_count": null,
   "metadata": {},
   "outputs": [],
   "source": [
    "f_gtex = CSV.read(\"A_gtex.dat\", header=true).abundance\n",
    "f_gtex = sort(f_gtex./sum(f_gtex), rev=true);"
   ]
  },
  {
   "cell_type": "code",
   "execution_count": null,
   "metadata": {},
   "outputs": [],
   "source": [
    "f_mca = Tacos.load_pickle(\"mca/data_all.pkl\")[\"freq\"]\n",
    "f_mca = sort(f_mca./sum(f_mca), rev=true);"
   ]
  },
  {
   "cell_type": "code",
   "execution_count": null,
   "metadata": {},
   "outputs": [],
   "source": [
    "f_tm = Tacos.load_pickle(\"tm/data_all.pkl\")[\"freq\"]\n",
    "f_tm = sort(f_tm./sum(f_tm), rev=true);"
   ]
  },
  {
   "cell_type": "code",
   "execution_count": null,
   "metadata": {},
   "outputs": [],
   "source": [
    "fig, ax = PyPlot.subplots(figsize=(18,15))\n",
    "\n",
    "X = collect(1:1e5)\n",
    "\n",
    "ax.plot(X,[1e-1*x^-0.8 for x in X], lw=20, ls=\"--\", color=\"gray\")\n",
    "\n",
    "ax.plot(f_gtex, label=\"GTEx\", lw=15, color=\"gray\", alpha=0.7)\n",
    "ax.plot(f_mca, label=\"Mouse Cell Atlas\", lw=15, color=\"blue\", alpha=0.6)\n",
    "ax.plot(f_tm, label=\"Tabula Muris\", lw=15, color=\"red\", alpha=0.5)\n",
    "\n",
    "\n",
    "ax.annotate(L\"$k*i^{-0.8}$\", (1e2,1e-2), fontsize=35)\n",
    "\n",
    "\n",
    "ax.legend(fontsize=35)\n",
    "ax.set_yscale(\"log\")\n",
    "ax.set_xscale(\"log\")\n",
    "\n",
    "ax.tick_params(labelsize=35, width=8, length=20)\n",
    "ax.set_xlabel(L\"Rank, $i$\", fontsize=35)\n",
    "ax.set_ylabel(L\"Frequency, $f_i$\", fontsize=35)\n",
    "\n",
    "ax.set_xlim(1,1e5)\n",
    "ax.set_ylim(1e-9,1e0)\n",
    "show()\n",
    "\n",
    "fig.savefig(\"zipf_alldatasets.pdf\")"
   ]
  },
  {
   "cell_type": "code",
   "execution_count": null,
   "metadata": {},
   "outputs": [],
   "source": [
    "fit_func = function(X, p)\n",
    "    return p[1]*[x^(-p[2]) for x in X]\n",
    "end\n",
    "\n",
    "fit_func_exp = function(X, p)\n",
    "    return p[1]*[exp(-p[2]*x) for x in X]\n",
    "end"
   ]
  },
  {
   "cell_type": "code",
   "execution_count": null,
   "metadata": {},
   "outputs": [],
   "source": [
    "optimize_fit = function(f)\n",
    "    maxmimum_r2 = -Inf\n",
    "    optimal_fit = nothing\n",
    "    optimal_limits = nothing\n",
    "    fit_exp = nothing\n",
    "    for left_side::Int32=range(2,102,step=10), right_side::Int32=range(5e2,2e4,step=100)\n",
    "        #println(left_side,\" \", right_side)\n",
    "        \n",
    "        x_data = left_side:right_side\n",
    "        y_data = f[left_side:right_side]\n",
    "        fit = curve_fit(fit_func, x_data, y_data, [1e-1, 0.8])\n",
    "        popt, pcov = (coef(fit), estimate_covar(fit))\n",
    "        r_squared = Tacos.estimate_r2(fit_func, popt, x_data, y_data)\n",
    "        \n",
    "        if r_squared > maxmimum_r2\n",
    "            maxmimum_r2 = r_squared\n",
    "            optimal_fit = fit\n",
    "            optimal_limits = (left_side, right_side)\n",
    "        end    \n",
    "    end\n",
    "    return maxmimum_r2, optimal_fit, optimal_limits\n",
    "end"
   ]
  },
  {
   "cell_type": "code",
   "execution_count": null,
   "metadata": {},
   "outputs": [],
   "source": [
    "r2, fit,  limits = optimize_fit(f_gtex);"
   ]
  },
  {
   "cell_type": "code",
   "execution_count": null,
   "metadata": {},
   "outputs": [],
   "source": [
    "fig, ax = PyPlot.subplots(figsize=(18,15))\n",
    "\n",
    "popt = coef(fit)\n",
    "\n",
    "ax.plot(f_gtex, label=\"GTEx\", lw=15, color=\"gray\", alpha=0.7)\n",
    "ax.plot(f_mca, label=\"Mouse Cell Atlas\", lw=15, color=\"blue\", alpha=0.6)\n",
    "ax.plot(f_tm, label=\"Tabula Muris\", lw=15, color=\"red\", alpha=0.5)\n",
    "\n",
    "X = collect(1:1e5)\n",
    "\n",
    "#ax.plot(X,[1e-1*x^-0.8 for x in X], ls=\"--\", color=\"gray\")\n",
    "ax.plot(X,[popt[1]*x^-popt[2] for x in X], ls=\":\", lw=5, color=\"green\", label=\"$(@sprintf(\"%.2f\", popt[1]))*x^-$(@sprintf(\"%.2f\", popt[2]))\")\n",
    "\n",
    "#ax.annotate(L\"$k*i^{-0.8}$\", (1e2,1e-2), fontsize=22)\n",
    "ax.annotate(\"R^2=$(@sprintf(\"%.4f\", r2))\", (10^((log10(limits[1])+log10(limits[2]))/2),1e-6), fontsize=35)\n",
    "\n",
    "ax.vlines([limits[1] limits[2]], 1e-9, 1e-1, colors=\"gray\", ls=\"-.\", lw=15, alpha =0.5)\n",
    "ax.annotate(\"$(limits[1])\", (limits[1],2e-9), fontsize=35, alpha=0.8)\n",
    "ax.annotate(\"$(limits[2])\", (limits[2],2e-9), fontsize=35, alpha=0.8)\n",
    "\n",
    "\n",
    "ax.legend(fontsize=35)\n",
    "ax.set_yscale(\"log\")\n",
    "ax.set_xscale(\"log\")\n",
    "\n",
    "ax.set_xlabel(L\"Rank, $i$\", fontsize=35)\n",
    "ax.set_ylabel(L\"Frequency, $f_i$\", fontsize=35)\n",
    "\n",
    "ax.tick_params(labelsize=35, width=8, length=20)\n",
    "\n",
    "\n",
    "ax.set_xlim(1,1e5)\n",
    "ax.set_ylim(1e-9,1e0)\n",
    "show()\n",
    "\n",
    "fig.savefig(\"zipf_alldatasets_fit_gtex.pdf\")"
   ]
  },
  {
   "cell_type": "code",
   "execution_count": null,
   "metadata": {},
   "outputs": [],
   "source": [
    "limits = (Int64(round(mean([82 102 62]))), Int64(round(mean([5600 1300 5100]))))\n",
    "\n",
    "fig, ax = PyPlot.subplots(figsize=(18,15))\n",
    "\n",
    "ax.plot(f_gtex, label=\"GTEx\", lw=15, color=\"gray\", alpha=0.7)\n",
    "ax.plot(f_mca, label=\"Mouse Cell Atlas\", lw=15, color=\"blue\", alpha=0.6)\n",
    "ax.plot(f_tm, label=\"Tabula Muris\", lw=15, color=\"red\", alpha=0.5)\n",
    "\n",
    "X = collect(1:1e5)\n",
    "\n",
    "ax.vlines([limits[1] limits[2]], 1e-9, 1e-1, colors=\"gray\", ls=\"-.\", lw=15, alpha =0.5)\n",
    "ax.annotate(\"$(limits[1])\", (limits[1],2e-9), fontsize=35, alpha=0.8)\n",
    "ax.annotate(\"$(limits[2])\", (limits[2],2e-9), fontsize=35, alpha=0.8)\n",
    "\n",
    "\n",
    "ax.legend(fontsize=35)\n",
    "ax.set_yscale(\"log\")\n",
    "ax.set_xscale(\"log\")\n",
    "\n",
    "ax.set_xlabel(L\"Rank, $i$\", fontsize=35)\n",
    "ax.set_ylabel(L\"Frequency, $f_i$\", fontsize=35)\n",
    "\n",
    "ax.tick_params(labelsize=35, width=8, length=20)\n",
    "\n",
    "ax.set_xlim(1,1e5)\n",
    "ax.set_ylim(1e-9,1e0)\n",
    "show()\n",
    "\n",
    "fig.savefig(\"zipf_alldatasets_fit_avg.pdf\")"
   ]
  },
  {
   "cell_type": "code",
   "execution_count": null,
   "metadata": {},
   "outputs": [],
   "source": [
    "first_regime = DataFrames.DataFrame()\n",
    "first_regime.mca = sort(CSV.read(\"A_mca.dat\"), cols=2, rev=true).Column1[1:82]\n",
    "first_regime.tm = sort(CSV.read(\"A_tm.dat\"), cols=2, rev=true).Column1[1:82]\n",
    "first_regime.gtex = sort(CSV.read(\"A_gtex.dat\"), cols=2, rev=true).ensg[1:82]\n",
    "CSV.write(\"first_regime.csv\",first_regime)"
   ]
  },
  {
   "cell_type": "code",
   "execution_count": 39,
   "metadata": {},
   "outputs": [
    {
     "name": "stdout",
     "output_type": "stream",
     "text": [
      "mainTable_Bladder.csv\n",
      "mainTable_Bone-Marrow.csv\n",
      "mainTable_Bone-Marrow_c-kit.csv\n",
      "mainTable_Bone_Marrow_Mesenchyme.csv\n",
      "mainTable_Brain.csv\n",
      "mainTable_Embryonic-Mesenchyme.csv\n",
      "mainTable_Embryonic-Stem-Cell.csv\n",
      "mainTable_Fetal-Liver.csv\n",
      "mainTable_Fetal_Brain.csv\n",
      "mainTable_Fetal_Intestine.csv\n",
      "mainTable_Fetal_Kidney.csv\n",
      "mainTable_Fetal_Lung.csv\n",
      "mainTable_Fetal_Stomache.csv\n",
      "mainTable_Kidney.csv\n",
      "mainTable_Liver.csv\n",
      "mainTable_Lung.csv\n",
      "mainTable_Male_Fetal_Gonad.csv\n",
      "mainTable_MammaryGland.Involution.csv\n",
      "mainTable_MammaryGland.Lactation.csv\n",
      "mainTable_MammaryGland.Pregnancy.csv\n",
      "mainTable_MammaryGland.Virgin.csv\n",
      "mainTable_Mesenchymal-Stem-Cell-Cultured.csv\n",
      "mainTable_Muscle.csv\n",
      "mainTable_Neonatal-Calvaria.csv\n",
      "mainTable_Neonatal-Heart.csv\n",
      "mainTable_Neonatal-Muscle.csv\n",
      "mainTable_Neonatal-Rib.csv\n",
      "mainTable_Neonatal-Skin.csv\n",
      "mainTable_Ovary.csv\n",
      "mainTable_Pancreas.csv\n",
      "mainTable_Peripheral_Blood.csv\n",
      "mainTable_Placenta.csv\n",
      "mainTable_Prostate.csv\n",
      "mainTable_Small-Intestine.csv\n",
      "mainTable_Spleen.csv\n",
      "mainTable_Stomach.csv\n",
      "mainTable_Testis.csv\n",
      "mainTable_Thymus.csv\n",
      "mainTable_Trophoblast-Stem-Cell.csv\n"
     ]
    },
    {
     "data": {
      "image/png": "[encoded data removed]",
      "text/plain": [
       "Figure(PyObject <Figure size 1800x1000 with 1 Axes>)"
      ]
     },
     "metadata": {},
     "output_type": "display_data"
    },
    {
     "name": "stdout",
     "output_type": "stream",
     "text": [
      "mainTable_Uterus.csv\n"
     ]
    }
   ],
   "source": [
    "fig, ax = PyPlot.subplots(figsize=(18,10))\n",
    "\n",
    "data_source= \"mca\"\n",
    "n_bins=30\n",
    "\n",
    "bin_counts=zeros(n_bins)\n",
    "bin_edges = zeros(n_bins+1)\n",
    "\n",
    "bin_pdf = zeros(n_bins)\n",
    "\n",
    "for tissue in [f for f in readdir(\"$(data_source)\") if occursin(\"mainTable\",f)]\n",
    "    println(tissue)\n",
    "    if occursin(\"Marrow\", tissue)\n",
    "        continue\n",
    "    end\n",
    "    df = CSV.read(\"$(data_source)/$(tissue)\");\n",
    "    df_values = convert(Array, select!(df,Not(1)));\n",
    "    #df_values=df_values./sum(df_values, dims = 1)\n",
    "    df_values = reshape(df_values,1,size(df_values)[1]*size(df_values)[2])\n",
    "    df_values = df_values[df_values.>0]\n",
    "    x=[log2(dge) for dge in df_values];\n",
    "    bc, be = ax.hist(x, lw=10, histtype=\"step\", density=true, bins = n_bins)\n",
    "    bin_counts+=bc\n",
    "    x_bins = (be[2:length(be)] + be[1:length(be)-1])/2\n",
    "    bin_pdf += pdf(kde(x), x_bins)\n",
    "    bin_edges=be\n",
    "end\n",
    "GC.gc()"
   ]
  },
  {
   "cell_type": "code",
   "execution_count": 43,
   "metadata": {},
   "outputs": [
    {
     "data": {
      "image/png": "[encoded data removed]",
      "text/plain": [
       "Figure(PyObject <Figure size 1800x1000 with 1 Axes>)"
      ]
     },
     "metadata": {},
     "output_type": "display_data"
    }
   ],
   "source": [
    "fig, ax = PyPlot.subplots(figsize=(18,10))\n",
    "\n",
    "\n",
    "#bin_count, bin_edges = ax.hist(x, lw=10, histtype=\"step\", density=true, bins = 20)\n",
    "\n",
    "x_bins = (bin_edges[2:length(bin_edges)]+ bin_edges[1:length(bin_edges)-1])/2\n",
    "\n",
    "rang = 2:n_bins\n",
    "ax.plot(x_bins[rang], bin_counts[rang], lw=15, alpha=0.8, label=\"data\")\n",
    "\n",
    "ax.plot(x_bins[rang], bin_pdf[rang], lw=15, alpha=0.6, label=\"KDE\")\n",
    "\n",
    "ax.set_xlabel(\"Log2(reads)\", fontsize=35)\n",
    "ax.set_ylabel(\"pdf\", fontsize=35)\n",
    "\n",
    "#ax.set_yscale(\"log\")\n",
    "\n",
    "ax.legend(fontsize=35)\n",
    "PyPlot.show()\n",
    "\n",
    "fig.savefig(\"all_hist_tm.pdf\")"
   ]
  },
  {
   "cell_type": "code",
   "execution_count": null,
   "metadata": {},
   "outputs": [],
   "source": [
    "data_source = \"mca\"\n",
    "data = Tacos.load_pickle(\"$(data_source)/data_all.pkl\");"
   ]
  },
  {
   "cell_type": "code",
   "execution_count": null,
   "metadata": {},
   "outputs": [],
   "source": [
    "fig, ax = PyPlot.subplots(figsize=(18,15))\n",
    "\n",
    "ax.scatter(data[\"means\"], data[\"var\"], c=\"gray\", s=225, alpha=0.3, label=\"data\")\n",
    "\n",
    "x = range(1e-5,10, length=10)\n",
    "ax.plot(x,x, lw=5, color=\"red\", ls=\"--\", label=L\"$m_g$ (Poisson)\")\n",
    "\n",
    "x = range(0.5,5e5, length=10)\n",
    "ax.plot(x,[x_i^2 for x_i in x], lw=5, color=\"blue\", ls=\"--\", label=L\"$m_g^2$ (Taylor)\")\n",
    "\n",
    "\n",
    "ax.set_xlabel(L\"Mean expression level, $m_g$\", fontsize=35)\n",
    "ax.set_ylabel(L\"Variance of expression level, $v_g$\", fontsize=35)\n",
    "\n",
    "ax.set_xscale(\"log\")\n",
    "ax.set_yscale(\"log\")\n",
    "\n",
    "ax.tick_params(labelsize=35, width=8, length=20)\n",
    "\n",
    "ax.set_xlim(1e-5, data[\"means\"].max()*1.5)\n",
    "ax.set_ylim(1e-6, data[\"var\"].max()*1.5)\n",
    "\n",
    "ax.legend(fontsize=22)\n",
    "\n",
    "PyPlot.show()\n",
    "fig.savefig(\"var_mean_$(data_source).pdf\")"
   ]
  },
  {
   "cell_type": "code",
   "execution_count": null,
   "metadata": {},
   "outputs": [],
   "source": [
    "fig, ax = PyPlot.subplots(figsize=(18,15))\n",
    "\n",
    "means = [m for (m,v) in zip(data[\"means\"], data[\"var\"]) if v>1e-6]\n",
    "vars = [v for v in data[\"var\"] if v>1e-6]\n",
    "\n",
    "ax.scatter(means, [v/m/m for (m,v) in zip(means, vars)], c=\"gray\", alpha=0.3, s=225, label=\"data\")\n",
    "\n",
    "x = range(1e-5,10, length=10)\n",
    "ax.plot(x,[1/x_i for x_i in x], lw=5, color=\"red\", ls=\"--\", label=L\"$m_g^{-1}$ (Poisson)\")\n",
    "\n",
    "x = range(0.5,5e5, length=10)\n",
    "ax.plot(x,[1 for _ in x], lw=5, color=\"blue\", ls=\"--\", label=L\"$1$ (Taylor)\")\n",
    "\n",
    "\n",
    "ax.set_ylabel(L\"Coefficient of variation squared, $CV^2_g$\", fontsize=35)\n",
    "ax.set_xlabel(L\"Mean expression level, $m_g$\", fontsize=35)\n",
    "\n",
    "ax.set_xscale(\"log\")\n",
    "ax.set_yscale(\"log\")\n",
    "\n",
    "ax.tick_params(labelsize=35, width=8, length=20)\n",
    "\n",
    "ax.set_xlim(1e-5, maximum(means)*1.5)\n",
    "ax.set_ylim(5e-2, 1e5)\n",
    "\n",
    "ax.legend(fontsize=35)\n",
    "\n",
    "PyPlot.show()\n",
    "fig.savefig(\"cv2_mean_$(data_source).pdf\")"
   ]
  },
  {
   "cell_type": "code",
   "execution_count": null,
   "metadata": {},
   "outputs": [],
   "source": [
    "fig, ax = PyPlot.subplots(figsize=(18,15))\n",
    "\n",
    "ax.hist(data[\"M\"], density=true, color=\"gray\", histtype=\"step\", lw=10, bins=100)\n",
    "\n",
    "m = mean(data[\"M\"])\n",
    "ax.vlines([m], 0,1e-3, lw=15, alpha=0.8,  ls=\"-.\")\n",
    "ax.annotate(\"Average: $(@sprintf(\"%.0f\", m))\", (m*1.1,5e-4), fontsize=35)\n",
    "\n",
    "ax.set_xlabel(L\"Reads per cell, $M$\", fontsize=35)\n",
    "ax.set_ylabel(\"Probability density function\", fontsize=35)\n",
    "\n",
    "#ax.set_xscale(\"log\")\n",
    "#ax.set_yscale(\"log\")\n",
    "\n",
    "#ax.set_xlim(1,3e8)\n",
    "\n",
    "#ax.legend(fontsize=22)\n",
    "\n",
    "PyPlot.show()\n",
    "fig.savefig(\"M_hist_gtex.pdf\")"
   ]
  },
  {
   "cell_type": "code",
   "execution_count": null,
   "metadata": {},
   "outputs": [],
   "source": []
  }
 ],
 "metadata": {
  "kernelspec": {
   "display_name": "Julia 1.3.0",
   "language": "julia",
   "name": "julia-1.3"
  },
  "language_info": {
   "file_extension": ".jl",
   "mimetype": "application/julia",
   "name": "julia",
   "version": "1.3.0"
  }
 },
 "nbformat": 4,
 "nbformat_minor": 4
}

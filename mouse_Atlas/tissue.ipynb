{
 "cells": [
  {
   "cell_type": "code",
   "execution_count": null,
   "metadata": {},
   "outputs": [],
   "source": [
    "using Pandas\n",
    "using DataFrames\n",
    "using PyCall\n",
    "using PyPlot\n",
    "using CSV\n",
    "using LsqFit\n",
    "using Printf\n",
    "\n",
    "pickle = pyimport(\"pickle\")\n",
    "numpy = pyimport(\"numpy\")\n",
    "scipy_integrate = pyimport(\"scipy.integrate\")"
   ]
  },
  {
   "cell_type": "code",
   "execution_count": null,
   "metadata": {},
   "outputs": [],
   "source": [
    "function load_pickle(filename)\n",
    "    @pywith pybuiltin(\"open\")(filename,\"rb\") as f begin\n",
    "       data = nothing\n",
    "       data = pickle.load(f)\n",
    "       return data\n",
    "    end\n",
    "end"
   ]
  },
  {
   "cell_type": "code",
   "execution_count": null,
   "metadata": {},
   "outputs": [],
   "source": [
    "data = load_pickle(\"data.pkl\")"
   ]
  },
  {
   "cell_type": "code",
   "execution_count": null,
   "metadata": {},
   "outputs": [],
   "source": [
    "fig, ax = subplots(1,2, figsize=(12,5))\n",
    "data[\"freq\"].hist(ax=ax[1], bins=10)\n",
    "ax[1].set_yscale(\"log\")\n",
    "ax[1].set_xlabel(\"Frequency\", fontsize=24)\n",
    "ax[1].set_ylabel(\"pdf\", fontsize=24)\n",
    "\n",
    "f = data[\"freq\"].sort_values(ascending=false)\n",
    "ax[2].plot(f/f.sum())\n",
    "ax[2].set_xscale(\"log\")\n",
    "ax[2].set_yscale(\"log\")\n",
    "ax[2].set_xlabel(\"Rank, i\", fontsize=24)\n",
    "ax[2].set_ylabel(\"f_i\", fontsize=24)\n",
    "fig.savefig(\"f_distribution.pdf\")\n",
    "show()"
   ]
  },
  {
   "cell_type": "code",
   "execution_count": null,
   "metadata": {},
   "outputs": [],
   "source": [
    "tissue = \"Bone-Marrow_c-kit\"\n",
    "\n",
    "data = Dict()\n",
    "data[\"data\"]=load_pickle(\"mca/data_$(tissue)_data.pkl\")\n",
    "data[\"mazzolini\"]=load_pickle(\"mca/data_$(tissue)_mazzolini.pkl\")\n",
    "#data[\"null_1\"]=load_pickle(\"data_$(tissue)_null_1.pkl\")"
   ]
  },
  {
   "cell_type": "code",
   "execution_count": null,
   "metadata": {},
   "outputs": [],
   "source": [
    "fig, ax = subplots(2,2, figsize=(12,10))\n",
    "f = data[\"data\"][\"means_nonzero\"].sort_values(ascending=false)\n",
    "\n",
    "ax[1].hist(f/f.sum(),  bins=10)\n",
    "ax[1].set_yscale(\"log\")\n",
    "ax[1].set_xlabel(\"Frequency\", fontsize=24)\n",
    "ax[1].set_ylabel(\"pdf\", fontsize=24)\n",
    "\n",
    "ax[2].plot(f/f.sum())\n",
    "ax[2].set_xscale(\"log\")\n",
    "ax[2].set_yscale(\"log\")\n",
    "ax[2].set_ylim(1e-6,1e-1)\n",
    "ax[2].set_xlabel(\"Rank, i\", fontsize=24)\n",
    "ax[2].set_ylabel(\"f_i\", fontsize=24)\n",
    "\n",
    "\n",
    "f = data[\"data\"][\"means\"].sort_values(ascending=false)\n",
    "\n",
    "ax[3].hist(f/f.sum(), bins=10)\n",
    "ax[3].set_yscale(\"log\")\n",
    "ax[3].set_xlabel(\"Frequency\", fontsize=24)\n",
    "ax[3].set_ylabel(\"pdf\", fontsize=24)\n",
    "\n",
    "ax[4].plot(f/f.sum())\n",
    "ax[4].set_xscale(\"log\")\n",
    "ax[4].set_yscale(\"log\")\n",
    "ax[4].set_ylim(1e-6,1e-1)\n",
    "ax[4].set_xlabel(\"Rank, i\", fontsize=24)\n",
    "ax[4].set_ylabel(\"f_i\", fontsize=24)\n",
    "fig.savefig(\"f_distribution.pdf\")\n",
    "show()"
   ]
  },
  {
   "cell_type": "code",
   "execution_count": null,
   "metadata": {},
   "outputs": [],
   "source": [
    "bins=10\n",
    "rang = (0-0.5/bins, 1+0.5/bins)\n",
    "fig, ax = subplots(1,2, figsize=(10,5))\n",
    "\n",
    "data[\"data\"][\"O\"].hist(histtype=\"step\", lw=5, ax=ax[1], range=rang, bins=bins, label=\"data\")\n",
    "data[\"mazzolini\"][\"O\"].hist(histtype=\"step\", lw=5, ax=ax[1], range=rang, bins=bins, ls=\"--\", label=\"mazzolini\")\n",
    "data[\"null_1\"][\"O\"].hist(histtype=\"step\", lw=5, ax=ax[1], range=rang, bins=bins, ls=\":\", label=\"null\")\n",
    "\n",
    "ax[1].legend(fontsize=20)\n",
    "ax[1].set_xlabel(\"O_i\")\n",
    "\n",
    "data[\"data\"][\"O\"].hist(histtype=\"step\", lw=5, ax=ax[2], range=rang, bins=bins, label=\"data\")\n",
    "data[\"mazzolini\"][\"O\"].hist(histtype=\"step\", lw=5, ax=ax[2], range=rang, bins=bins, ls=\"--\", label=\"mazzolini\")\n",
    "data[\"null_1\"][\"O\"].hist(histtype=\"step\", lw=5, ax=ax[2], range=rang, bins=bins, ls=\":\", label=\"null\")\n",
    "\n",
    "ax[2].set_yscale(\"log\")\n",
    "ax[2].legend(fontsize=20)\n",
    "ax[2].set_xlabel(\"O_i\")\n",
    "\n",
    "fig.savefig(\"null_1_U.pdf\")"
   ]
  },
  {
   "cell_type": "code",
   "execution_count": null,
   "metadata": {},
   "outputs": [],
   "source": [
    "fig, ax = PyPlot.subplots()\n",
    "\n",
    "function fx(X)\n",
    "    ret = Vector{Float64}()\n",
    "    for x in X.values\n",
    "        append!(ret, exp(-x))\n",
    "    end\n",
    "   return ret\n",
    "end\n",
    "\n",
    "ax.scatter(data[\"data\"][\"means\"], 1-data[\"data\"][\"O\"], alpha=0.3, label=\"data\")\n",
    "ax.plot(data[\"data\"][\"means\"].sort_values(), fx(data[\"data\"][\"means\"].sort_values()), c=\"yellow\", ls=\"--\", alpha=0.5, label=\"1-exp(-x)\")\n",
    "ax.scatter(data[\"mazzolini\"][\"means\"], 1-data[\"mazzolini\"][\"O\"], c=\"orange\", alpha=0.2, label=\"mazzolini\")\n",
    "ax.scatter(data[\"null_1\"][\"means\"], 1-data[\"null_1\"][\"O\"], marker=\"x\", s=10, c=\"green\", alpha=0.8, label=\"null_1\")\n",
    "\n",
    "\n",
    "ax.legend()\n",
    "ax.set_xscale(\"log\")\n",
    "#ax.set_yscale(\"log\")\n",
    "ax.set_xlim(1e-4,30)\n",
    "ax.set_ylim(-0.1,1.1)\n",
    "\n",
    "ax.set_xlabel(\"mean\", fontsize=24)\n",
    "ax.set_ylabel(\"P(0)\", fontsize=24)\n",
    "\n",
    "fig.savefig(\"null_1_P_mean.pdf\")\n",
    "show()"
   ]
  },
  {
   "cell_type": "code",
   "execution_count": null,
   "metadata": {},
   "outputs": [],
   "source": [
    "data[\"data\"][\"means\"].sort_values()"
   ]
  },
  {
   "cell_type": "code",
   "execution_count": null,
   "metadata": {},
   "outputs": [],
   "source": [
    "fig, ax = PyPlot.subplots()\n",
    "ax.plot(data[\"data\"][\"freq\"].sort_values(ascending=false).values, label=\"data\")\n",
    "ax.plot(data[\"mazzolini\"][\"freq\"].sort_values(ascending=false).values, label=\"mazzolini\")\n",
    "ax.plot(data[\"null_1\"][\"freq\"].sort_values(ascending=false).values, label=\"null\")\n",
    "\n",
    "ax.legend()\n",
    "ax.set_yscale(\"log\")\n",
    "ax.set_xscale(\"log\")\n",
    "\n",
    "ax.set_xlabel(\"Rank, i\", fontsize=24)\n",
    "ax.set_ylabel(\"f_i\", fontsize=24)\n",
    "show()\n",
    "\n",
    "fig.savefig(\"null_1_zipf.pdf\")"
   ]
  },
  {
   "cell_type": "code",
   "execution_count": null,
   "metadata": {},
   "outputs": [],
   "source": [
    "fig, ax = PyPlot.subplots(figsize=(10,5))\n",
    "ax.scatter(data[\"data\"][\"M\"].values, data[\"data\"][\"diffWords\"].values, label=\"data\")\n",
    "ax.scatter(data[\"mazzolini\"][\"M\"].values, data[\"mazzolini\"][\"diffWords\"].values, label=\"mazzolini\")\n",
    "ax.scatter(data[\"null_1\"][\"M\"].values, data[\"null_1\"][\"diffWords\"].values, label=\"null\")\n",
    "\n",
    "\n",
    "ax.legend()\n",
    "ax.set_yscale(\"log\")\n",
    "ax.set_xscale(\"log\")\n",
    "ax.set_xlim(500,data[\"data\"][\"M\"].max()+1e4)\n",
    "ax.set_ylim(10,data[\"mazzolini\"][\"diffWords\"].max()+5e3)\n",
    "\n",
    "ax.set_xlabel(\"Size\", fontsize=24)\n",
    "\n",
    "ax.set_ylabel(\"# genes expressed\", fontsize=24)\n",
    "show()\n",
    "\n",
    "fig.savefig(\"null_1_heaps.pdf\")"
   ]
  },
  {
   "cell_type": "code",
   "execution_count": null,
   "metadata": {},
   "outputs": [],
   "source": [
    "for g in data[\"data\"][\"freq\"].sort_values(ascending=false).index\n",
    "    println(g)\n",
    "end"
   ]
  },
  {
   "cell_type": "code",
   "execution_count": null,
   "metadata": {},
   "outputs": [],
   "source": [
    "keys(load_pickle(\"data_$(tissue)_data.pkl\"))"
   ]
  },
  {
   "cell_type": "code",
   "execution_count": null,
   "metadata": {},
   "outputs": [],
   "source": [
    "tissues"
   ]
  },
  {
   "cell_type": "code",
   "execution_count": null,
   "metadata": {},
   "outputs": [],
   "source": [
    "integrals = []\n",
    "used_tissues = []\n",
    "tissues = (split(split(f,\"data_\")[2],\"_data\")[1] for f in readdir(\"mca\") if occursin(\".pkl\",f) && !occursin(\"mazzolini\",f) && !occursin(\"data_all.pkl\",f))\n",
    "\n",
    "function fit_func(x,a,b)\n",
    "    return a*x^b\n",
    "end\n",
    "\n",
    "for tissue in tissues\n",
    "    println(tissue)\n",
    "    integral=load_pickle(\"mca/data_$(tissue)_data.pkl\")[\"heaps_integral\"][1]\n",
    "    params = load_pickle(\"mca/data_$(tissue)_data.pkl\")[\"heaps_fit\"]\n",
    "    integral=scipy_integrate.quad(fit_func, 500, 1000, args=(params[1], params[2]))[1]\n",
    "    append!(integrals, integral::Float64)\n",
    "end\n",
    "integrals = DataFrames.DataFrame(data=integrals, index = collect(tissues))\n",
    "sort!(integrals, rev=true)"
   ]
  },
  {
   "cell_type": "code",
   "execution_count": null,
   "metadata": {},
   "outputs": [],
   "source": [
    "CSV.write(\"integral_heaps.csv\", integrals)"
   ]
  },
  {
   "cell_type": "code",
   "execution_count": null,
   "metadata": {},
   "outputs": [],
   "source": [
    "fig = PyPlot.figure(figsize=(18,10))\n",
    "PyPlot.plot(integrals.data, marker=\"P\", c=\"gray\", lw=0, ms=15)\n",
    "locs, labels = xticks()\n",
    "PyPlot.xticks(0:length(integrals.index), labels = integrals.index, rotation=90)\n",
    "PyPlot.ylabel(\"Heaps' integral\", fontsize=20)\n",
    "fig.savefig(\"itegral_heapfs_scatter_plot_mca.pdf\")\n",
    "fig.savefig(\"itegral_heapfs_scatter_plot_mca.png\")"
   ]
  },
  {
   "cell_type": "code",
   "execution_count": null,
   "metadata": {},
   "outputs": [],
   "source": [
    "CSV.write(\"integral.csv\", integrals)"
   ]
  },
  {
   "cell_type": "code",
   "execution_count": null,
   "metadata": {},
   "outputs": [],
   "source": [
    "integrals.rank=1:length(integrals.index)"
   ]
  },
  {
   "cell_type": "code",
   "execution_count": null,
   "metadata": {},
   "outputs": [],
   "source": [
    "mca_tm = CSV.read(\"integral.csv\")\n",
    "select!(mca_tm,Not(:GTex))\n",
    "mca_tm = DataFrames.dropmissing(mca_tm)\n",
    "sort!(mca_tm,:TM)\n",
    "mca_tm.TM = 1:9\n",
    "sort!(mca_tm,:MCA)\n",
    "mca_tm.MCA = 1:9\n",
    "sort!(mca_tm, :MCA)"
   ]
  },
  {
   "cell_type": "code",
   "execution_count": null,
   "metadata": {},
   "outputs": [],
   "source": [
    "fig = PyPlot.figure(figsize=(7,7))\n",
    "PyPlot.scatter(mca_tm.MCA, mca_tm.TM, c=\"gray\")\n",
    "PyPlot.xlabel(\"MCA integral's rank\", fontsize=22)\n",
    "PyPlot.ylabel(\"TM integral's rank\", fontsize=22)\n",
    "fig.savefig(\"heaps_rank_both.pdf\")"
   ]
  },
  {
   "cell_type": "code",
   "execution_count": null,
   "metadata": {},
   "outputs": [],
   "source": [
    "data[\"data\"]=load_pickle(\"mca/data_Bone-Marrow_c-kit_data.pkl\")\n",
    "data[\"mazzolini\"]=load_pickle(\"mca/data_Bone-Marrow_c-kit_mazzolini.pkl\")\n",
    "\n",
    "\n",
    "fig, ax = PyPlot.subplots(figsize=(18,10))\n",
    "\n",
    "ax.scatter(data[\"data\"][\"M\"], data[\"data\"][\"diffWords\"], c=\"gray\", alpha=0.3)\n",
    "\n",
    "ax.set_xlabel(\"Reads per cell\", fontsize=22)\n",
    "ax.set_ylabel(\"Number of expressed genes\", fontsize=22)\n",
    "\n",
    "\n",
    "PyPlot.show()\n",
    "fig.savefig(\"heaps_boneMarrow_MCA.pdf\")"
   ]
  },
  {
   "cell_type": "code",
   "execution_count": null,
   "metadata": {},
   "outputs": [],
   "source": [
    "fig, ax = PyPlot.subplots(figsize=(18,10))\n",
    "\n",
    "ax.scatter(data[\"data\"][\"M\"], data[\"data\"][\"diffWords\"], c=\"gray\", alpha=0.3, label=\"data\")\n",
    "ax.scatter(data[\"mazzolini\"][\"M\"], data[\"mazzolini\"][\"diffWords\"], c=\"red\", alpha=0.3, label=\"Sampling model\")\n",
    "\n",
    "ax.set_xlabel(\"Reads per cell\", fontsize=22)\n",
    "ax.set_ylabel(\"Number of expressed genes\", fontsize=22)\n",
    "\n",
    "ax.legend(fontsize=22)\n",
    "\n",
    "PyPlot.show()\n",
    "fig.savefig(\"heaps_boneMarrow_sampling_MCA.pdf\")"
   ]
  },
  {
   "cell_type": "code",
   "execution_count": null,
   "metadata": {},
   "outputs": [],
   "source": [
    "f_gtex = CSV.read(\"A_gtex.dat\", header=true).abundance\n",
    "f_gtex = sort(f_gtex./sum(f_gtex), rev=true);"
   ]
  },
  {
   "cell_type": "code",
   "execution_count": null,
   "metadata": {},
   "outputs": [],
   "source": [
    "f_mca = load_pickle(\"mca/data_all.pkl\")[\"freq\"]\n",
    "f_mca = sort(f_mca./sum(f_mca), rev=true);"
   ]
  },
  {
   "cell_type": "code",
   "execution_count": null,
   "metadata": {},
   "outputs": [],
   "source": [
    "f_tm = load_pickle(\"tm/data_all.pkl\")[\"freq\"]\n",
    "f_tm = sort(f_tm./sum(f_tm), rev=true);"
   ]
  },
  {
   "cell_type": "code",
   "execution_count": null,
   "metadata": {},
   "outputs": [],
   "source": [
    "fig, ax = PyPlot.subplots(figsize=(18,10))\n",
    "\n",
    "X = collect(1:1e5)\n",
    "\n",
    "ax.plot(X,[1e-1*x^-0.8 for x in X], ls=\"--\", color=\"gray\")\n",
    "\n",
    "ax.plot(f_gtex, label=\"GTEx\", lw=5, color=\"gray\")\n",
    "ax.plot(f_mca, label=\"Mouse Cell Atlas\", lw=5, color=\"blue\")\n",
    "ax.plot(f_tm, label=\"Tabula Muris\", lw=5, color=\"red\")\n",
    "\n",
    "\n",
    "ax.annotate(L\"$k*i^{-0.8}$\", (1e2,1e-2), fontsize=22)\n",
    "\n",
    "\n",
    "ax.legend(fontsize=22)\n",
    "ax.set_yscale(\"log\")\n",
    "ax.set_xscale(\"log\")\n",
    "\n",
    "ax.set_xlabel(L\"Rank, $i$\", fontsize=22)\n",
    "ax.set_ylabel(L\"Frequency, $f_i$\", fontsize=22)\n",
    "\n",
    "ax.set_xlim(1,1e5)\n",
    "ax.set_ylim(1e-9,1e0)\n",
    "show()\n",
    "\n",
    "fig.savefig(\"zipf_alldatasets.pdf\")"
   ]
  },
  {
   "cell_type": "code",
   "execution_count": null,
   "metadata": {},
   "outputs": [],
   "source": [
    "fit_func = function(X, p)\n",
    "    return p[1]*[x^(-p[2]) for x in X]\n",
    "end"
   ]
  },
  {
   "cell_type": "code",
   "execution_count": null,
   "metadata": {},
   "outputs": [],
   "source": [
    "optimize_fit = function(f)\n",
    "    maxmimum_r2 = -Inf\n",
    "    optimal_fit = nothing\n",
    "    optimal_limits = nothing\n",
    "    for left_side::Int32=range(2,30,step=2), right_side::Int32=range(2e3,2e4,step=20)\n",
    "        #println(left_side,\" \", right_side)\n",
    "        x_data = left_side:right_side\n",
    "        y_data = f[left_side:right_side]\n",
    "        fit = curve_fit(fit_func, x_data, y_data, [1e-1, 0.8])\n",
    "        popt, pcov = (coef(fit), estimate_covar(fit))\n",
    "        residuals = [y - fit_func(x, popt)[1] for (x, y) in zip(x_data,y_data)]\n",
    "        ss_res = sum([r^2 for r in residuals])\n",
    "        ss_tot = sum([y^2 for y in [y1 - mean(y_data) for y1 in y_data]])\n",
    "        r_squared = 1 - (ss_res / ss_tot)\n",
    "        if r_squared > maxmimum_r2\n",
    "            maxmimum_r2 = r_squared\n",
    "            optimal_fit = fit\n",
    "            optimal_limits = (left_side, right_side)\n",
    "        end\n",
    "    end\n",
    "    return maxmimum_r2, optimal_fit, optimal_limits\n",
    "end"
   ]
  },
  {
   "cell_type": "code",
   "execution_count": null,
   "metadata": {},
   "outputs": [],
   "source": [
    "r2, fit, limits = optimize_fit(f_tm)"
   ]
  },
  {
   "cell_type": "code",
   "execution_count": null,
   "metadata": {},
   "outputs": [],
   "source": [
    "fig, ax = PyPlot.subplots(figsize=(18,10))\n",
    "\n",
    "X = collect(1:1e5)\n",
    "\n",
    "popt = coef(fit)\n",
    "\n",
    "ax.plot(f_gtex.Column1, label=\"GTEx\", lw=5, color=\"gray\", alpha=0.8)\n",
    "ax.plot(f_mca, label=\"Mouse Cell Atlas\", lw=5, color=\"blue\", alpha=0.8)\n",
    "ax.plot(f_tm, label=\"Tabula Muris\", lw=5, color=\"red\", alpha=0.8)\n",
    "\n",
    "#ax.plot(X,[1e-1*x^-0.8 for x in X], ls=\"--\", color=\"gray\")\n",
    "ax.plot(X,[popt[1]*x^-popt[2] for x in X], ls=\":\", lw=5, color=\"green\", label=\"$(@sprintf(\"%.2f\", popt[1]))*x^-$(@sprintf(\"%.2f\", popt[2]))\")\n",
    "\n",
    "#ax.annotate(L\"$k*i^{-0.8}$\", (1e2,1e-2), fontsize=22)\n",
    "ax.annotate(\"R^2=$(@sprintf(\"%.4f\", r2))\", (1e2,1e-2), fontsize=22)\n",
    "\n",
    "ax.vlines([limits[1] limits[2]], 1e-9, 1e-1, colors=\"gray\", ls=\"-.\", alpha =.5)\n",
    "ax.annotate(\"$(limits[1])\", (limits[1],2e-9), fontsize=22, alpha=0.8)\n",
    "ax.annotate(\"$(limits[2])\", (limits[2],2e-9), fontsize=22, alpha=0.8)\n",
    "\n",
    "\n",
    "ax.legend(fontsize=22)\n",
    "ax.set_yscale(\"log\")\n",
    "ax.set_xscale(\"log\")\n",
    "\n",
    "ax.set_xlabel(L\"Rank, $i$\", fontsize=22)\n",
    "ax.set_ylabel(L\"Frequency, $f_i$\", fontsize=22)\n",
    "\n",
    "ax.set_xlim(1,1e5)\n",
    "ax.set_ylim(1e-9,1e0)\n",
    "show()\n",
    "\n",
    "fig.savefig(\"zipf_alldatasets_fit_tm.pdf\")"
   ]
  },
  {
   "cell_type": "code",
   "execution_count": null,
   "metadata": {},
   "outputs": [],
   "source": []
  },
  {
   "cell_type": "code",
   "execution_count": null,
   "metadata": {},
   "outputs": [],
   "source": []
  },
  {
   "cell_type": "code",
   "execution_count": null,
   "metadata": {},
   "outputs": [],
   "source": []
  },
  {
   "cell_type": "code",
   "execution_count": null,
   "metadata": {},
   "outputs": [],
   "source": [
    "df = CSV.read(\"mainTable_Stomach.csv\");\n",
    "df_values = convert(Array, select!(df,Not(1)));\n",
    "df_values = reshape(df_values,1,size(df_values)[1]*size(df_values)[2])"
   ]
  },
  {
   "cell_type": "code",
   "execution_count": null,
   "metadata": {},
   "outputs": [],
   "source": [
    "fig, ax = PyPlot.subplots(figsize=(18,10))\n",
    "\n",
    "ax.hist(df_values[df_values .> 0], lw=4, histtype=\"step\")\n",
    "\n",
    "ax.set_xlabel(L\"Rank, $i$\", fontsize=22)\n",
    "ax.set_ylabel(L\"Frequency, $f_i$\", fontsize=22)\n",
    "\n",
    "ax.set_yscale(\"log\")\n",
    "show()\n",
    "\n",
    "fig.savefig(\"all_hist.pdf\")"
   ]
  },
  {
   "cell_type": "code",
   "execution_count": null,
   "metadata": {},
   "outputs": [],
   "source": []
  },
  {
   "cell_type": "code",
   "execution_count": null,
   "metadata": {},
   "outputs": [],
   "source": []
  },
  {
   "cell_type": "code",
   "execution_count": null,
   "metadata": {},
   "outputs": [],
   "source": [
    "data = load_pickle(\"data_gtex.pkl\")\n",
    "\n",
    "fig, ax = PyPlot.subplots(figsize=(18,10))\n",
    "\n",
    "ax.scatter(data[\"means\"], data[\"var\"], c=\"gray\", alpha=0.3, label=\"data\")\n",
    "\n",
    "x = range(1e-5,10, length=10)\n",
    "ax.plot(x,x, lw=5, color=\"red\", ls=\"--\", label=L\"$m_g$ (Poisson)\")\n",
    "\n",
    "x = range(0.5,5e5, length=10)\n",
    "ax.plot(x,[x_i^2 for x_i in x], lw=5, color=\"blue\", ls=\"--\", label=L\"$m_g^2$ (Taylor)\")\n",
    "\n",
    "\n",
    "ax.set_xlabel(L\"Mean expression level, $m_g$\", fontsize=22)\n",
    "ax.set_ylabel(L\"Variance of expression level, $v_g$\", fontsize=22)\n",
    "\n",
    "ax.set_xscale(\"log\")\n",
    "ax.set_yscale(\"log\")\n",
    "\n",
    "ax.set_xlim(1e-5, data[\"means\"].max()*1.5)\n",
    "ax.set_ylim(1e-6, data[\"var\"].max()*1.5)\n",
    "\n",
    "ax.legend(fontsize=22)\n",
    "\n",
    "PyPlot.show()\n",
    "fig.savefig(\"sigma2_var_gtex.pdf\")"
   ]
  },
  {
   "cell_type": "code",
   "execution_count": null,
   "metadata": {},
   "outputs": [],
   "source": [
    "fig, ax = PyPlot.subplots(figsize=(18,10))\n",
    "\n",
    "means = [m for (m,v) in zip(data[\"means\"], data[\"var\"]) if v>1e-6]\n",
    "vars = [v for v in data[\"var\"] if v>1e-6]\n",
    "\n",
    "ax.scatter(means, [v/m/m for (m,v) in zip(means, vars)], c=\"gray\", alpha=0.3, label=\"data\")\n",
    "\n",
    "x = range(1e-5,10, length=10)\n",
    "ax.plot(x,[1/x_i for x_i in x], lw=5, color=\"red\", ls=\"--\", label=L\"$m_g^{-1}$ (Poisson)\")\n",
    "\n",
    "x = range(0.5,5e5, length=10)\n",
    "ax.plot(x,[1 for _ in x], lw=5, color=\"blue\", ls=\"--\", label=L\"$1$ (Taylor)\")\n",
    "\n",
    "\n",
    "ax.set_ylabel(L\"Coefficient of variation squared, $CV^2_g$\", fontsize=22)\n",
    "ax.set_xlabel(L\"Mean expression level, $m_g$\", fontsize=22)\n",
    "\n",
    "ax.set_xscale(\"log\")\n",
    "ax.set_yscale(\"log\")\n",
    "\n",
    "ax.set_xlim(1e-5, maximum(means)*1.5)\n",
    "ax.set_ylim(5e-2, 1e5)\n",
    "\n",
    "ax.legend(fontsize=22)\n",
    "\n",
    "PyPlot.show()\n",
    "fig.savefig(\"cv2_var_gtex.pdf\")"
   ]
  },
  {
   "cell_type": "code",
   "execution_count": null,
   "metadata": {},
   "outputs": [],
   "source": []
  }
 ],
 "metadata": {
  "kernelspec": {
   "display_name": "Julia 1.3.0",
   "language": "julia",
   "name": "julia-1.3"
  },
  "language_info": {
   "file_extension": ".jl",
   "mimetype": "application/julia",
   "name": "julia",
   "version": "1.3.0"
  }
 },
 "nbformat": 4,
 "nbformat_minor": 4
}

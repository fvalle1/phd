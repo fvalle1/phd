{
 "cells": [
  {
   "cell_type": "code",
   "execution_count": 1,
   "id": "swedish-trainer",
   "metadata": {},
   "outputs": [
    {
     "data": {
      "text/html": [
       "<script>\n",
       "// Immediately-invoked-function-expression to avoid global variables.\n",
       "(function() {\n",
       "    var warning_div = document.getElementById(\"webio-warning-16610025081210000304\");\n",
       "    var hide = function () {\n",
       "        var script = document.getElementById(\"webio-setup-14067481520974200364\");\n",
       "        var parent = script && script.parentElement;\n",
       "        var grandparent = parent && parent.parentElement;\n",
       "        if (grandparent) {\n",
       "            grandparent.style.display = \"none\";\n",
       "        }\n",
       "        warning_div.style.display = \"none\";\n",
       "    };\n",
       "    if (typeof Jupyter !== \"undefined\") {\n",
       "        console.log(\"WebIO detected Jupyter notebook environment.\");\n",
       "        // Jupyter notebook.\n",
       "        var extensions = (\n",
       "            Jupyter\n",
       "            && Jupyter.notebook.config.data\n",
       "            && Jupyter.notebook.config.data.load_extensions\n",
       "        );\n",
       "        if (extensions && extensions[\"webio-jupyter-notebook\"]) {\n",
       "            // Extension already loaded.\n",
       "            console.log(\"Jupyter WebIO nbextension detected; not loading ad-hoc.\");\n",
       "            hide();\n",
       "            return;\n",
       "        }\n",
       "    } else if (window.location.pathname.includes(\"/lab\")) {\n",
       "        // Guessing JupyterLa\n",
       "        console.log(\"Jupyter Lab detected; make sure the @webio/jupyter-lab-provider labextension is installed.\");\n",
       "        hide();\n",
       "        return;\n",
       "    }\n",
       "})();\n",
       "\n",
       "</script>\n",
       "<p\n",
       "    id=\"webio-warning-16610025081210000304\"\n",
       "    class=\"output_text output_stderr\"\n",
       "    style=\"padding: 1em; font-weight: bold;\"\n",
       ">\n",
       "    Unable to load WebIO. Please make sure WebIO works for your Jupyter client.\n",
       "    For troubleshooting, please see <a href=\"https://juliagizmos.github.io/WebIO.jl/latest/providers/ijulia/\">\n",
       "    the WebIO/IJulia documentation</a>.\n",
       "    <!-- TODO: link to installation docs. -->\n",
       "</p>\n"
      ],
      "text/plain": [
       "HTML{String}(\"<script>\\n// Immediately-invoked-function-expression to avoid global variables.\\n(function() {\\n    var warning_div = document.getElementById(\\\"webio-warning-16610025081210000304\\\");\\n    var hide = function () {\\n        var script = document.getElementById(\\\"webio-setup-14067481520974200364\\\");\\n        var parent = script && script.parentElement;\\n        var grandparent = parent && parent.parentElement;\\n        if (grandparent) {\\n            grandparent.style.display = \\\"none\\\";\\n        }\\n        warning_div.style.display = \\\"none\\\";\\n    };\\n    if (typeof Jupyter !== \\\"undefined\\\") {\\n        console.log(\\\"WebIO detected Jupyter notebook environment.\\\");\\n        // Jupyter notebook.\\n        var extensions = (\\n            Jupyter\\n            && Jupyter.notebook.config.data\\n            && Jupyter.notebook.config.data.load_extensions\\n        );\\n        if (extensions && extensions[\\\"webio-jupyter-notebook\\\"]) {\\n            // Extension already loaded.\\n            console.log(\\\"Jupyter WebIO nbextension detected; not loading ad-hoc.\\\");\\n            hide();\\n            return;\\n        }\\n    } else if (window.location.pathname.includes(\\\"/lab\\\")) {\\n        // Guessing JupyterLa\\n        console.log(\\\"Jupyter Lab detected; make sure the @webio/jupyter-lab-provider labextension is installed.\\\");\\n        hide();\\n        return;\\n    }\\n})();\\n\\n</script>\\n<p\\n    id=\\\"webio-warning-16610025081210000304\\\"\\n    class=\\\"output_text output_stderr\\\"\\n    style=\\\"padding: 1em; font-weight: bold;\\\"\\n>\\n    Unable to load WebIO. Please make sure WebIO works for your Jupyter client.\\n    For troubleshooting, please see <a href=\\\"https://juliagizmos.github.io/WebIO.jl/latest/providers/ijulia/\\\">\\n    the WebIO/IJulia documentation</a>.\\n    <!-- TODO: link to installation docs. -->\\n</p>\\n\")"
      ]
     },
     "metadata": {},
     "output_type": "display_data"
    }
   ],
   "source": [
    "using Plotly\n",
    "using DataFrames\n",
    "using CSV\n",
    "using Statistics"
   ]
  },
  {
   "cell_type": "code",
   "execution_count": 122,
   "id": "reported-society",
   "metadata": {},
   "outputs": [],
   "source": [
    "df = CSV.read(\"The_single_cell_transcriptome_as_a_component_system/MouseCellAtlas/mca/mainTable_Bladder.csv\", DataFrame);"
   ]
  },
  {
   "cell_type": "code",
   "execution_count": 123,
   "id": "rolled-level",
   "metadata": {
    "collapsed": true,
    "jupyter": {
     "outputs_hidden": true
    }
   },
   "outputs": [
    {
     "name": "stderr",
     "output_type": "stream",
     "text": [
      "┌ Warning: thread = 1 warning: only found 10 / 11 columns around data row: 2. Filling remaining columns with `missing`\n",
      "└ @ CSV /opt/julia/packages/CSV/la2cd/src/file.jl:603\n",
      "┌ Warning: thread = 1 warning: only found 10 / 11 columns around data row: 3. Filling remaining columns with `missing`\n",
      "└ @ CSV /opt/julia/packages/CSV/la2cd/src/file.jl:603\n",
      "┌ Warning: thread = 1 warning: only found 10 / 11 columns around data row: 4. Filling remaining columns with `missing`\n",
      "└ @ CSV /opt/julia/packages/CSV/la2cd/src/file.jl:603\n",
      "┌ Warning: thread = 1 warning: only found 10 / 11 columns around data row: 5. Filling remaining columns with `missing`\n",
      "└ @ CSV /opt/julia/packages/CSV/la2cd/src/file.jl:603\n",
      "┌ Warning: thread = 1 warning: only found 10 / 11 columns around data row: 6. Filling remaining columns with `missing`\n",
      "└ @ CSV /opt/julia/packages/CSV/la2cd/src/file.jl:603\n",
      "┌ Warning: thread = 1 warning: only found 10 / 11 columns around data row: 7. Filling remaining columns with `missing`\n",
      "└ @ CSV /opt/julia/packages/CSV/la2cd/src/file.jl:603\n",
      "┌ Warning: thread = 1 warning: only found 10 / 11 columns around data row: 8. Filling remaining columns with `missing`\n",
      "└ @ CSV /opt/julia/packages/CSV/la2cd/src/file.jl:603\n",
      "┌ Warning: thread = 1 warning: only found 10 / 11 columns around data row: 9. Filling remaining columns with `missing`\n",
      "└ @ CSV /opt/julia/packages/CSV/la2cd/src/file.jl:603\n",
      "┌ Warning: thread = 1 warning: only found 10 / 11 columns around data row: 10. Filling remaining columns with `missing`\n",
      "└ @ CSV /opt/julia/packages/CSV/la2cd/src/file.jl:603\n",
      "┌ Warning: thread = 1 warning: only found 10 / 11 columns around data row: 11. Filling remaining columns with `missing`\n",
      "└ @ CSV /opt/julia/packages/CSV/la2cd/src/file.jl:603\n",
      "┌ Warning: thread = 1 warning: only found 10 / 11 columns around data row: 12. Filling remaining columns with `missing`\n",
      "└ @ CSV /opt/julia/packages/CSV/la2cd/src/file.jl:603\n",
      "┌ Warning: thread = 1 warning: only found 10 / 11 columns around data row: 13. Filling remaining columns with `missing`\n",
      "└ @ CSV /opt/julia/packages/CSV/la2cd/src/file.jl:603\n",
      "┌ Warning: thread = 1 warning: only found 10 / 11 columns around data row: 14. Filling remaining columns with `missing`\n",
      "└ @ CSV /opt/julia/packages/CSV/la2cd/src/file.jl:603\n",
      "┌ Warning: thread = 1 warning: only found 10 / 11 columns around data row: 15. Filling remaining columns with `missing`\n",
      "└ @ CSV /opt/julia/packages/CSV/la2cd/src/file.jl:603\n",
      "┌ Warning: thread = 1 warning: only found 10 / 11 columns around data row: 16. Filling remaining columns with `missing`\n",
      "└ @ CSV /opt/julia/packages/CSV/la2cd/src/file.jl:603\n",
      "┌ Warning: thread = 1 warning: only found 10 / 11 columns around data row: 17. Filling remaining columns with `missing`\n",
      "└ @ CSV /opt/julia/packages/CSV/la2cd/src/file.jl:603\n",
      "┌ Warning: thread = 1 warning: only found 10 / 11 columns around data row: 18. Filling remaining columns with `missing`\n",
      "└ @ CSV /opt/julia/packages/CSV/la2cd/src/file.jl:603\n",
      "┌ Warning: thread = 1 warning: only found 10 / 11 columns around data row: 19. Filling remaining columns with `missing`\n",
      "└ @ CSV /opt/julia/packages/CSV/la2cd/src/file.jl:603\n",
      "┌ Warning: thread = 1 warning: only found 10 / 11 columns around data row: 20. Filling remaining columns with `missing`\n",
      "└ @ CSV /opt/julia/packages/CSV/la2cd/src/file.jl:603\n",
      "┌ Warning: thread = 1 warning: only found 10 / 11 columns around data row: 21. Filling remaining columns with `missing`\n",
      "└ @ CSV /opt/julia/packages/CSV/la2cd/src/file.jl:603\n",
      "┌ Warning: thread = 1 warning: only found 10 / 11 columns around data row: 22. Filling remaining columns with `missing`\n",
      "└ @ CSV /opt/julia/packages/CSV/la2cd/src/file.jl:603\n",
      "┌ Warning: thread = 1 warning: only found 10 / 11 columns around data row: 23. Filling remaining columns with `missing`\n",
      "└ @ CSV /opt/julia/packages/CSV/la2cd/src/file.jl:603\n",
      "┌ Warning: thread = 1 warning: only found 10 / 11 columns around data row: 24. Filling remaining columns with `missing`\n",
      "└ @ CSV /opt/julia/packages/CSV/la2cd/src/file.jl:603\n",
      "┌ Warning: thread = 1 warning: only found 10 / 11 columns around data row: 25. Filling remaining columns with `missing`\n",
      "└ @ CSV /opt/julia/packages/CSV/la2cd/src/file.jl:603\n",
      "┌ Warning: thread = 1 warning: only found 10 / 11 columns around data row: 26. Filling remaining columns with `missing`\n",
      "└ @ CSV /opt/julia/packages/CSV/la2cd/src/file.jl:603\n",
      "┌ Warning: thread = 1 warning: only found 10 / 11 columns around data row: 27. Filling remaining columns with `missing`\n",
      "└ @ CSV /opt/julia/packages/CSV/la2cd/src/file.jl:603\n",
      "┌ Warning: thread = 1 warning: only found 10 / 11 columns around data row: 28. Filling remaining columns with `missing`\n",
      "└ @ CSV /opt/julia/packages/CSV/la2cd/src/file.jl:603\n",
      "┌ Warning: thread = 1 warning: only found 10 / 11 columns around data row: 29. Filling remaining columns with `missing`\n",
      "└ @ CSV /opt/julia/packages/CSV/la2cd/src/file.jl:603\n",
      "┌ Warning: thread = 1 warning: only found 10 / 11 columns around data row: 30. Filling remaining columns with `missing`\n",
      "└ @ CSV /opt/julia/packages/CSV/la2cd/src/file.jl:603\n",
      "┌ Warning: thread = 1 warning: only found 10 / 11 columns around data row: 31. Filling remaining columns with `missing`\n",
      "└ @ CSV /opt/julia/packages/CSV/la2cd/src/file.jl:603\n",
      "┌ Warning: thread = 1 warning: only found 10 / 11 columns around data row: 32. Filling remaining columns with `missing`\n",
      "└ @ CSV /opt/julia/packages/CSV/la2cd/src/file.jl:603\n",
      "┌ Warning: thread = 1 warning: only found 10 / 11 columns around data row: 33. Filling remaining columns with `missing`\n",
      "└ @ CSV /opt/julia/packages/CSV/la2cd/src/file.jl:603\n",
      "┌ Warning: thread = 1 warning: only found 10 / 11 columns around data row: 34. Filling remaining columns with `missing`\n",
      "└ @ CSV /opt/julia/packages/CSV/la2cd/src/file.jl:603\n",
      "┌ Warning: thread = 1 warning: only found 10 / 11 columns around data row: 35. Filling remaining columns with `missing`\n",
      "└ @ CSV /opt/julia/packages/CSV/la2cd/src/file.jl:603\n",
      "┌ Warning: thread = 1 warning: only found 10 / 11 columns around data row: 36. Filling remaining columns with `missing`\n",
      "└ @ CSV /opt/julia/packages/CSV/la2cd/src/file.jl:603\n",
      "┌ Warning: thread = 1 warning: only found 10 / 11 columns around data row: 37. Filling remaining columns with `missing`\n",
      "└ @ CSV /opt/julia/packages/CSV/la2cd/src/file.jl:603\n",
      "┌ Warning: thread = 1 warning: only found 10 / 11 columns around data row: 38. Filling remaining columns with `missing`\n",
      "└ @ CSV /opt/julia/packages/CSV/la2cd/src/file.jl:603\n",
      "┌ Warning: thread = 1 warning: only found 10 / 11 columns around data row: 39. Filling remaining columns with `missing`\n",
      "└ @ CSV /opt/julia/packages/CSV/la2cd/src/file.jl:603\n",
      "┌ Warning: thread = 1 warning: only found 10 / 11 columns around data row: 40. Filling remaining columns with `missing`\n",
      "└ @ CSV /opt/julia/packages/CSV/la2cd/src/file.jl:603\n",
      "┌ Warning: thread = 1 warning: only found 10 / 11 columns around data row: 41. Filling remaining columns with `missing`\n",
      "└ @ CSV /opt/julia/packages/CSV/la2cd/src/file.jl:603\n",
      "┌ Warning: thread = 1 warning: only found 10 / 11 columns around data row: 42. Filling remaining columns with `missing`\n",
      "└ @ CSV /opt/julia/packages/CSV/la2cd/src/file.jl:603\n",
      "┌ Warning: thread = 1 warning: only found 10 / 11 columns around data row: 43. Filling remaining columns with `missing`\n",
      "└ @ CSV /opt/julia/packages/CSV/la2cd/src/file.jl:603\n",
      "┌ Warning: thread = 1 warning: only found 10 / 11 columns around data row: 44. Filling remaining columns with `missing`\n",
      "└ @ CSV /opt/julia/packages/CSV/la2cd/src/file.jl:603\n",
      "┌ Warning: thread = 1 warning: only found 10 / 11 columns around data row: 45. Filling remaining columns with `missing`\n",
      "└ @ CSV /opt/julia/packages/CSV/la2cd/src/file.jl:603\n",
      "┌ Warning: thread = 1 warning: only found 10 / 11 columns around data row: 46. Filling remaining columns with `missing`\n",
      "└ @ CSV /opt/julia/packages/CSV/la2cd/src/file.jl:603\n",
      "┌ Warning: thread = 1 warning: only found 10 / 11 columns around data row: 47. Filling remaining columns with `missing`\n",
      "└ @ CSV /opt/julia/packages/CSV/la2cd/src/file.jl:603\n",
      "┌ Warning: thread = 1 warning: only found 10 / 11 columns around data row: 48. Filling remaining columns with `missing`\n",
      "└ @ CSV /opt/julia/packages/CSV/la2cd/src/file.jl:603\n",
      "┌ Warning: thread = 1 warning: only found 10 / 11 columns around data row: 49. Filling remaining columns with `missing`\n",
      "└ @ CSV /opt/julia/packages/CSV/la2cd/src/file.jl:603\n",
      "┌ Warning: thread = 1 warning: only found 10 / 11 columns around data row: 50. Filling remaining columns with `missing`\n",
      "└ @ CSV /opt/julia/packages/CSV/la2cd/src/file.jl:603\n",
      "┌ Warning: thread = 1 warning: only found 10 / 11 columns around data row: 51. Filling remaining columns with `missing`\n",
      "└ @ CSV /opt/julia/packages/CSV/la2cd/src/file.jl:603\n",
      "┌ Warning: thread = 1 warning: only found 10 / 11 columns around data row: 52. Filling remaining columns with `missing`\n",
      "└ @ CSV /opt/julia/packages/CSV/la2cd/src/file.jl:603\n",
      "┌ Warning: thread = 1 warning: only found 10 / 11 columns around data row: 53. Filling remaining columns with `missing`\n",
      "└ @ CSV /opt/julia/packages/CSV/la2cd/src/file.jl:603\n",
      "┌ Warning: thread = 1 warning: only found 10 / 11 columns around data row: 54. Filling remaining columns with `missing`\n",
      "└ @ CSV /opt/julia/packages/CSV/la2cd/src/file.jl:603\n",
      "┌ Warning: thread = 1 warning: only found 10 / 11 columns around data row: 55. Filling remaining columns with `missing`\n",
      "└ @ CSV /opt/julia/packages/CSV/la2cd/src/file.jl:603\n",
      "┌ Warning: thread = 1 warning: only found 10 / 11 columns around data row: 56. Filling remaining columns with `missing`\n",
      "└ @ CSV /opt/julia/packages/CSV/la2cd/src/file.jl:603\n",
      "┌ Warning: thread = 1 warning: only found 10 / 11 columns around data row: 57. Filling remaining columns with `missing`\n",
      "└ @ CSV /opt/julia/packages/CSV/la2cd/src/file.jl:603\n",
      "┌ Warning: thread = 1 warning: only found 10 / 11 columns around data row: 58. Filling remaining columns with `missing`\n",
      "└ @ CSV /opt/julia/packages/CSV/la2cd/src/file.jl:603\n",
      "┌ Warning: thread = 1 warning: only found 10 / 11 columns around data row: 59. Filling remaining columns with `missing`\n",
      "└ @ CSV /opt/julia/packages/CSV/la2cd/src/file.jl:603\n",
      "┌ Warning: thread = 1 warning: only found 10 / 11 columns around data row: 60. Filling remaining columns with `missing`\n",
      "└ @ CSV /opt/julia/packages/CSV/la2cd/src/file.jl:603\n",
      "┌ Warning: thread = 1 warning: only found 10 / 11 columns around data row: 61. Filling remaining columns with `missing`\n",
      "└ @ CSV /opt/julia/packages/CSV/la2cd/src/file.jl:603\n",
      "┌ Warning: thread = 1 warning: only found 10 / 11 columns around data row: 62. Filling remaining columns with `missing`\n",
      "└ @ CSV /opt/julia/packages/CSV/la2cd/src/file.jl:603\n",
      "┌ Warning: thread = 1 warning: only found 10 / 11 columns around data row: 63. Filling remaining columns with `missing`\n",
      "└ @ CSV /opt/julia/packages/CSV/la2cd/src/file.jl:603\n",
      "┌ Warning: thread = 1 warning: only found 10 / 11 columns around data row: 64. Filling remaining columns with `missing`\n",
      "└ @ CSV /opt/julia/packages/CSV/la2cd/src/file.jl:603\n",
      "┌ Warning: thread = 1 warning: only found 10 / 11 columns around data row: 65. Filling remaining columns with `missing`\n",
      "└ @ CSV /opt/julia/packages/CSV/la2cd/src/file.jl:603\n",
      "┌ Warning: thread = 1 warning: only found 10 / 11 columns around data row: 66. Filling remaining columns with `missing`\n",
      "└ @ CSV /opt/julia/packages/CSV/la2cd/src/file.jl:603\n",
      "┌ Warning: thread = 1 warning: only found 10 / 11 columns around data row: 67. Filling remaining columns with `missing`\n",
      "└ @ CSV /opt/julia/packages/CSV/la2cd/src/file.jl:603\n",
      "┌ Warning: thread = 1 warning: only found 10 / 11 columns around data row: 68. Filling remaining columns with `missing`\n",
      "└ @ CSV /opt/julia/packages/CSV/la2cd/src/file.jl:603\n",
      "┌ Warning: thread = 1 warning: only found 10 / 11 columns around data row: 69. Filling remaining columns with `missing`\n",
      "└ @ CSV /opt/julia/packages/CSV/la2cd/src/file.jl:603\n",
      "┌ Warning: thread = 1 warning: only found 10 / 11 columns around data row: 70. Filling remaining columns with `missing`\n",
      "└ @ CSV /opt/julia/packages/CSV/la2cd/src/file.jl:603\n",
      "┌ Warning: thread = 1 warning: only found 10 / 11 columns around data row: 71. Filling remaining columns with `missing`\n",
      "└ @ CSV /opt/julia/packages/CSV/la2cd/src/file.jl:603\n",
      "┌ Warning: thread = 1 warning: only found 10 / 11 columns around data row: 72. Filling remaining columns with `missing`\n",
      "└ @ CSV /opt/julia/packages/CSV/la2cd/src/file.jl:603\n",
      "┌ Warning: thread = 1 warning: only found 10 / 11 columns around data row: 73. Filling remaining columns with `missing`\n",
      "└ @ CSV /opt/julia/packages/CSV/la2cd/src/file.jl:603\n",
      "┌ Warning: thread = 1 warning: only found 10 / 11 columns around data row: 74. Filling remaining columns with `missing`\n",
      "└ @ CSV /opt/julia/packages/CSV/la2cd/src/file.jl:603\n",
      "┌ Warning: thread = 1 warning: only found 10 / 11 columns around data row: 75. Filling remaining columns with `missing`\n",
      "└ @ CSV /opt/julia/packages/CSV/la2cd/src/file.jl:603\n",
      "┌ Warning: thread = 1 warning: only found 10 / 11 columns around data row: 76. Filling remaining columns with `missing`\n",
      "└ @ CSV /opt/julia/packages/CSV/la2cd/src/file.jl:603\n",
      "┌ Warning: thread = 1 warning: only found 10 / 11 columns around data row: 77. Filling remaining columns with `missing`\n",
      "└ @ CSV /opt/julia/packages/CSV/la2cd/src/file.jl:603\n",
      "┌ Warning: thread = 1 warning: only found 10 / 11 columns around data row: 78. Filling remaining columns with `missing`\n",
      "└ @ CSV /opt/julia/packages/CSV/la2cd/src/file.jl:603\n",
      "┌ Warning: thread = 1 warning: only found 10 / 11 columns around data row: 79. Filling remaining columns with `missing`\n",
      "└ @ CSV /opt/julia/packages/CSV/la2cd/src/file.jl:603\n",
      "┌ Warning: thread = 1 warning: only found 10 / 11 columns around data row: 80. Filling remaining columns with `missing`\n",
      "└ @ CSV /opt/julia/packages/CSV/la2cd/src/file.jl:603\n",
      "┌ Warning: thread = 1 warning: only found 10 / 11 columns around data row: 81. Filling remaining columns with `missing`\n",
      "└ @ CSV /opt/julia/packages/CSV/la2cd/src/file.jl:603\n",
      "┌ Warning: thread = 1 warning: only found 10 / 11 columns around data row: 82. Filling remaining columns with `missing`\n",
      "└ @ CSV /opt/julia/packages/CSV/la2cd/src/file.jl:603\n",
      "┌ Warning: thread = 1 warning: only found 10 / 11 columns around data row: 83. Filling remaining columns with `missing`\n",
      "└ @ CSV /opt/julia/packages/CSV/la2cd/src/file.jl:603\n",
      "┌ Warning: thread = 1 warning: only found 10 / 11 columns around data row: 84. Filling remaining columns with `missing`\n",
      "└ @ CSV /opt/julia/packages/CSV/la2cd/src/file.jl:603\n",
      "┌ Warning: thread = 1 warning: only found 10 / 11 columns around data row: 85. Filling remaining columns with `missing`\n",
      "└ @ CSV /opt/julia/packages/CSV/la2cd/src/file.jl:603\n",
      "┌ Warning: thread = 1 warning: only found 10 / 11 columns around data row: 86. Filling remaining columns with `missing`\n",
      "└ @ CSV /opt/julia/packages/CSV/la2cd/src/file.jl:603\n",
      "┌ Warning: thread = 1 warning: only found 10 / 11 columns around data row: 87. Filling remaining columns with `missing`\n",
      "└ @ CSV /opt/julia/packages/CSV/la2cd/src/file.jl:603\n",
      "┌ Warning: thread = 1 warning: only found 10 / 11 columns around data row: 88. Filling remaining columns with `missing`\n",
      "└ @ CSV /opt/julia/packages/CSV/la2cd/src/file.jl:603\n",
      "┌ Warning: thread = 1 warning: only found 10 / 11 columns around data row: 89. Filling remaining columns with `missing`\n",
      "└ @ CSV /opt/julia/packages/CSV/la2cd/src/file.jl:603\n",
      "┌ Warning: thread = 1 warning: only found 10 / 11 columns around data row: 90. Filling remaining columns with `missing`\n",
      "└ @ CSV /opt/julia/packages/CSV/la2cd/src/file.jl:603\n",
      "┌ Warning: thread = 1 warning: only found 10 / 11 columns around data row: 91. Filling remaining columns with `missing`\n",
      "└ @ CSV /opt/julia/packages/CSV/la2cd/src/file.jl:603\n",
      "┌ Warning: thread = 1 warning: only found 10 / 11 columns around data row: 92. Filling remaining columns with `missing`\n",
      "└ @ CSV /opt/julia/packages/CSV/la2cd/src/file.jl:603\n",
      "┌ Warning: thread = 1 warning: only found 10 / 11 columns around data row: 93. Filling remaining columns with `missing`\n",
      "└ @ CSV /opt/julia/packages/CSV/la2cd/src/file.jl:603\n",
      "┌ Warning: thread = 1 warning: only found 10 / 11 columns around data row: 94. Filling remaining columns with `missing`\n",
      "└ @ CSV /opt/julia/packages/CSV/la2cd/src/file.jl:603\n",
      "┌ Warning: thread = 1 warning: only found 10 / 11 columns around data row: 95. Filling remaining columns with `missing`\n",
      "└ @ CSV /opt/julia/packages/CSV/la2cd/src/file.jl:603\n",
      "┌ Warning: thread = 1 warning: only found 10 / 11 columns around data row: 96. Filling remaining columns with `missing`\n",
      "└ @ CSV /opt/julia/packages/CSV/la2cd/src/file.jl:603\n",
      "┌ Warning: thread = 1 warning: only found 10 / 11 columns around data row: 97. Filling remaining columns with `missing`\n",
      "└ @ CSV /opt/julia/packages/CSV/la2cd/src/file.jl:603\n",
      "┌ Warning: thread = 1 warning: only found 10 / 11 columns around data row: 98. Filling remaining columns with `missing`\n",
      "└ @ CSV /opt/julia/packages/CSV/la2cd/src/file.jl:603\n",
      "┌ Warning: thread = 1 warning: only found 10 / 11 columns around data row: 99. Filling remaining columns with `missing`\n",
      "└ @ CSV /opt/julia/packages/CSV/la2cd/src/file.jl:603\n",
      "┌ Warning: thread = 1 warning: only found 10 / 11 columns around data row: 100. Filling remaining columns with `missing`\n",
      "└ @ CSV /opt/julia/packages/CSV/la2cd/src/file.jl:603\n",
      "┌ Warning: thread = 1 warning: only found 10 / 11 columns around data row: 101. Filling remaining columns with `missing`\n",
      "└ @ CSV /opt/julia/packages/CSV/la2cd/src/file.jl:603\n",
      "┌ Warning: thread = 1 warning: only found 10 / 11 columns around data row: 102. Filling remaining columns with `missing`\n",
      "└ @ CSV /opt/julia/packages/CSV/la2cd/src/file.jl:603\n",
      "┌ Warning: thread = 1: too many warnings, silencing any further warnings\n",
      "└ @ CSV /opt/julia/packages/CSV/la2cd/src/file.jl:608\n"
     ]
    }
   ],
   "source": [
    "df_genes = CSV.read(\"MGImarkerQuery_20200914_050053.txt\", DataFrame);"
   ]
  },
  {
   "cell_type": "code",
   "execution_count": 124,
   "id": "prepared-lebanon",
   "metadata": {},
   "outputs": [
    {
     "data": {
      "text/plain": [
       "23-element Array{String,1}:\n",
       " \"RNase MRP RNA gene\"\n",
       " \"telomerase RNA gene\"\n",
       " \"scRNA gene\"\n",
       " \"non-coding RNA gene\"\n",
       " \"sense overlapping lncRNA gene\"\n",
       " \"RNase P RNA gene\"\n",
       " \"bidirectional promoter lncRNA gene\"\n",
       " \"sense intronic lncRNA gene\"\n",
       " \"SRP RNA gene\"\n",
       " \"ribozyme gene\"\n",
       " \"lincRNA gene\"\n",
       " \"antisense lncRNA gene\"\n",
       " \"rRNA gene\"\n",
       " \"tRNA gene\"\n",
       " \"protein coding gene\"\n",
       " \"gene segment\"\n",
       " \"unclassified non-coding RNA gene\"\n",
       " \"snRNA gene\"\n",
       " \"snoRNA gene\"\n",
       " \"miRNA gene\"\n",
       " \"heritable phenotypic marker\"\n",
       " \"unclassified gene\"\n",
       " \"lncRNA gene\""
      ]
     },
     "execution_count": 124,
     "metadata": {},
     "output_type": "execute_result"
    }
   ],
   "source": [
    "unique(df_genes[!,\"Feature Type\"])"
   ]
  },
  {
   "cell_type": "code",
   "execution_count": 125,
   "id": "established-companion",
   "metadata": {},
   "outputs": [],
   "source": [
    "lncgenes = df_genes[df_genes[!,\"Feature Type\"].==\"lncRNA gene\",:Symbol];"
   ]
  },
  {
   "cell_type": "code",
   "execution_count": 126,
   "id": "permanent-snapshot",
   "metadata": {},
   "outputs": [],
   "source": [
    "df_lnc = df[[g in lncgenes for g in df.Column1], :];"
   ]
  },
  {
   "cell_type": "code",
   "execution_count": 127,
   "id": "damaged-luther",
   "metadata": {},
   "outputs": [],
   "source": [
    "f_lnc = []\n",
    "M = [sum(col) for col in eachcol(df_lnc)[2:end]];\n",
    "for row in eachrow(df_lnc)[2:end]\n",
    "    append!(f_lnc, reduce(+, [x/m for (x,m) in zip(row[2:end],M) if m>0], dims=1)) \n",
    "end"
   ]
  },
  {
   "cell_type": "code",
   "execution_count": 128,
   "id": "indirect-interim",
   "metadata": {},
   "outputs": [],
   "source": [
    "f = []\n",
    "M = [sum(col) for col in eachcol(df)[2:end]];\n",
    "for row in eachrow(df)[2:end]\n",
    "    append!(f, reduce(+, [x/m for (x,m) in zip(row[2:end],M) if m>0], dims=1)) \n",
    "end"
   ]
  },
  {
   "cell_type": "code",
   "execution_count": 129,
   "id": "perfect-modification",
   "metadata": {},
   "outputs": [],
   "source": [
    "f = sort(f ./ sum(f), rev=true);\n",
    "f_lnc = sort(f_lnc ./ sum(f_lnc), rev=true);"
   ]
  },
  {
   "cell_type": "code",
   "execution_count": 130,
   "id": "grave-challenge",
   "metadata": {},
   "outputs": [
    {
     "data": {
      "text/plain": [
       "5.0"
      ]
     },
     "execution_count": 130,
     "metadata": {},
     "output_type": "execute_result"
    }
   ],
   "source": [
    "sum(skipmissing([x for x in row[2:end]]))"
   ]
  },
  {
   "cell_type": "code",
   "execution_count": 131,
   "id": "laughing-reservoir",
   "metadata": {},
   "outputs": [
    {
     "data": {
      "text/plain": [
       "\"zipf_lnc_bladder.pdf\""
      ]
     },
     "execution_count": 131,
     "metadata": {},
     "output_type": "execute_result"
    }
   ],
   "source": [
    "trace = Plotly.scatter(y=f, name=\"data\", line_color=\"blue\", line_width=10)\n",
    "tracelnc = Plotly.scatter(y=f_lnc, name=\"lnc\", line_color=\"purple\", line_width=10)\n",
    "\n",
    "\n",
    "layout = Layout(\n",
    "    title = \"Lung MCA\",\n",
    "    xaxis_type=\"log\",\n",
    "    xaxis_tickfont_size=20,\n",
    "    xaxis_title = \"rank, i\",\n",
    "    xaxis_titlefont = 25,\n",
    "    #xaxis_tickformat = \"e\",\n",
    "    yaxis_type=\"log\",\n",
    "    yaxis_tickformat = \"e\",\n",
    "    yaxis_title = \"frequency, fi\",\n",
    "    yaxis_titlefont = 25,\n",
    "    yaxis_tickfont_size=20,\n",
    "    legendfont_size=30\n",
    ")\n",
    "\n",
    "\n",
    "data = [trace, tracelnc]\n",
    "\n",
    "p = Plotly.plot(data, layout)\n",
    "Plotly.savefig(p, \"zipf_lnc_bladder.pdf\")"
   ]
  },
  {
   "cell_type": "code",
   "execution_count": null,
   "id": "chief-walker",
   "metadata": {},
   "outputs": [],
   "source": [
    "cv2lnc = [var(row) / mean(row) / mean(row)  for row in eachrow(df_lnc[2:end,2:end])];\n",
    "meanslnc = [mean(row)  for row in eachrow(df_lnc[2:end,2:end])];\n",
    "\n",
    "cv2 = [var(row) / mean(row) / mean(row)  for row in eachrow(df[2:end,2:end])];\n",
    "means = [mean(row)  for row in eachrow(df[2:end,2:end])];"
   ]
  },
  {
   "cell_type": "code",
   "execution_count": null,
   "id": "honest-phenomenon",
   "metadata": {},
   "outputs": [],
   "source": [
    "trace = Plotly.scatter(x=means, y=cv2, name=\"data\", line_color=\"gray\", mode=\"markers\", line_width=10)\n",
    "tracelnc = Plotly.scatter(x=meanslnc, y=cv2lnc, name=\"lnc\", line_color=\"purple\", mode=\"markers\", line_width=10)\n",
    "\n",
    "\n",
    "layout = Layout(\n",
    "    title = \"Lung MCA\",\n",
    "    xaxis_tickfont_size=20,\n",
    "     xaxis_type=\"log\",\n",
    "    xaxis_title = \"mean\",\n",
    "    xaxis_titlefont = 25,\n",
    "    yaxis_type=\"log\",\n",
    "    yaxis_tickformat = \"e\",\n",
    "    yaxis_title = \"CV2\",\n",
    "    yaxis_titlefont = 25,\n",
    "    yaxis_tickfont_size=20,\n",
    "    legendfont_size=30\n",
    ")\n",
    "\n",
    "\n",
    "data = [trace, tracelnc]\n",
    "\n",
    "p = Plotly.plot(data, layout)\n",
    "Plotly.savefig(p, \"cv2_lnc_bladder.pdf\")"
   ]
  },
  {
   "cell_type": "code",
   "execution_count": null,
   "id": "speaking-throat",
   "metadata": {},
   "outputs": [],
   "source": []
  }
 ],
 "metadata": {
  "kernelspec": {
   "display_name": "Julia 1.5.3",
   "language": "julia",
   "name": "julia-1.5"
  },
  "language_info": {
   "file_extension": ".jl",
   "mimetype": "application/julia",
   "name": "julia",
   "version": "1.5.3"
  }
 },
 "nbformat": 4,
 "nbformat_minor": 5
}

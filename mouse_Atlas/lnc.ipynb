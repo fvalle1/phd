{
 "cells": [
  {
   "cell_type": "code",
   "execution_count": null,
   "id": "optimum-therapy",
   "metadata": {},
   "outputs": [],
   "source": [
    "using Plotly\n",
    "using DataFrames\n",
    "using CSV\n",
    "using Statistics"
   ]
  },
  {
   "cell_type": "code",
   "execution_count": null,
   "id": "declared-mailing",
   "metadata": {},
   "outputs": [],
   "source": [
    "df = CSV.read(\"The_single_cell_transcriptome_as_a_component_system/MouseCellAtlas/mca/mainTable_Bladder.csv\", DataFrame);"
   ]
  },
  {
   "cell_type": "code",
   "execution_count": null,
   "id": "divided-arkansas",
   "metadata": {},
   "outputs": [],
   "source": [
    "df_genes = CSV.read(\"MGImarkerQuery_20200914_050053.txt\", DataFrame);"
   ]
  },
  {
   "cell_type": "code",
   "execution_count": null,
   "id": "worthy-domestic",
   "metadata": {},
   "outputs": [],
   "source": [
    "unique(df_genes[!,\"Feature Type\"])"
   ]
  },
  {
   "cell_type": "code",
   "execution_count": null,
   "id": "historical-pocket",
   "metadata": {},
   "outputs": [],
   "source": [
    "lncgenes = df_genes[df_genes[!,\"Feature Type\"].==\"lncRNA gene\",:Symbol];"
   ]
  },
  {
   "cell_type": "code",
   "execution_count": null,
   "id": "anticipated-privilege",
   "metadata": {},
   "outputs": [],
   "source": [
    "df_lnc = df[[g in lncgenes for g in df.Column1], :];"
   ]
  },
  {
   "cell_type": "code",
   "execution_count": null,
   "id": "parliamentary-longer",
   "metadata": {},
   "outputs": [],
   "source": [
    "f_lnc = []\n",
    "M = [sum(col) for col in eachcol(df_lnc)[2:end]];\n",
    "for row in eachrow(df_lnc)[2:end]\n",
    "    append!(f_lnc, reduce(+, [x/m for (x,m) in zip(row[2:end],M) if m>0], dims=1)) \n",
    "end"
   ]
  },
  {
   "cell_type": "code",
   "execution_count": null,
   "id": "fossil-project",
   "metadata": {},
   "outputs": [],
   "source": [
    "f = []\n",
    "M = [sum(col) for col in eachcol(df)[2:end]];\n",
    "for row in eachrow(df)[2:end]\n",
    "    append!(f, reduce(+, [x/m for (x,m) in zip(row[2:end],M) if m>0], dims=1)) \n",
    "end"
   ]
  },
  {
   "cell_type": "code",
   "execution_count": null,
   "id": "invisible-torture",
   "metadata": {},
   "outputs": [],
   "source": [
    "f = sort(f ./ sum(f), rev=true);\n",
    "f_lnc = sort(f_lnc ./ sum(f_lnc), rev=true);"
   ]
  },
  {
   "cell_type": "code",
   "execution_count": null,
   "id": "passive-tutorial",
   "metadata": {},
   "outputs": [],
   "source": [
    "sum(skipmissing([x for x in row[2:end]]))"
   ]
  },
  {
   "cell_type": "code",
   "execution_count": null,
   "id": "iraqi-mailman",
   "metadata": {},
   "outputs": [],
   "source": [
    "trace = Plotly.scatter(y=f, name=\"data\", line_color=\"blue\", line_width=10)\n",
    "tracelnc = Plotly.scatter(y=f_lnc, name=\"lnc\", line_color=\"purple\", line_width=10)\n",
    "\n",
    "\n",
    "layout = Layout(\n",
    "    title = \"Lung MCA\",\n",
    "    xaxis_type=\"log\",\n",
    "    xaxis_tickfont_size=20,\n",
    "    xaxis_title = \"rank, i\",\n",
    "    xaxis_titlefont = 25,\n",
    "    #xaxis_tickformat = \"e\",\n",
    "    yaxis_type=\"log\",\n",
    "    yaxis_tickformat = \"e\",\n",
    "    yaxis_title = \"frequency, fi\",\n",
    "    yaxis_titlefont = 25,\n",
    "    yaxis_tickfont_size=20,\n",
    "    legendfont_size=30\n",
    ")\n",
    "\n",
    "\n",
    "data = [trace, tracelnc]\n",
    "\n",
    "p = Plotly.plot(data, layout)\n",
    "Plotly.savefig(p, \"zipf_lnc_bladder.pdf\")"
   ]
  },
  {
   "cell_type": "code",
   "execution_count": null,
   "id": "occasional-affair",
   "metadata": {},
   "outputs": [],
   "source": [
    "cv2lnc = [var(row) / mean(row) / mean(row)  for row in eachrow(df_lnc[2:end,2:end])];\n",
    "meanslnc = [mean(row)  for row in eachrow(df_lnc[2:end,2:end])];\n",
    "\n",
    "cv2 = [var(row) / mean(row) / mean(row)  for row in eachrow(df[2:end,2:end])];\n",
    "means = [mean(row)  for row in eachrow(df[2:end,2:end])];"
   ]
  },
  {
   "cell_type": "code",
   "execution_count": null,
   "id": "vocational-construction",
   "metadata": {},
   "outputs": [],
   "source": [
    "trace = Plotly.scatter(x=means, y=cv2, name=\"data\", line_color=\"gray\", mode=\"markers\", line_width=10)\n",
    "tracelnc = Plotly.scatter(x=meanslnc, y=cv2lnc, name=\"lnc\", line_color=\"purple\", mode=\"markers\", line_width=10)\n",
    "\n",
    "\n",
    "layout = Layout(\n",
    "    title = \"Lung MCA\",\n",
    "    xaxis_tickfont_size=20,\n",
    "     xaxis_type=\"log\",\n",
    "    xaxis_title = \"mean\",\n",
    "    xaxis_titlefont = 25,\n",
    "    yaxis_type=\"log\",\n",
    "    yaxis_tickformat = \"e\",\n",
    "    yaxis_title = \"CV2\",\n",
    "    yaxis_titlefont = 25,\n",
    "    yaxis_tickfont_size=20,\n",
    "    legendfont_size=30\n",
    ")\n",
    "\n",
    "\n",
    "data = [trace, tracelnc]\n",
    "\n",
    "p = Plotly.plot(data, layout)\n",
    "Plotly.savefig(p, \"cv2_lnc_bladder.pdf\")"
   ]
  },
  {
   "cell_type": "code",
   "execution_count": null,
   "id": "purple-community",
   "metadata": {},
   "outputs": [],
   "source": []
  }
 ],
 "metadata": {
  "kernelspec": {
   "display_name": "Julia 1.5.3",
   "language": "julia",
   "name": "julia-1.5"
  },
  "language_info": {
   "file_extension": ".jl",
   "mimetype": "application/julia",
   "name": "julia",
   "version": "1.5.3"
  }
 },
 "nbformat": 4,
 "nbformat_minor": 5
}

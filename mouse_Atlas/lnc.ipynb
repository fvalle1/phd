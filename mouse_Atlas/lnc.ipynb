{
 "cells": [
  {
   "cell_type": "code",
   "execution_count": null,
   "id": "injured-museum",
   "metadata": {},
   "outputs": [],
   "source": [
    "using Plotly\n",
    "using DataFrames\n",
    "using CSV\n",
    "using Statistics"
   ]
  },
  {
   "cell_type": "code",
   "execution_count": null,
   "id": "continent-rebel",
   "metadata": {},
   "outputs": [],
   "source": [
    "df = CSV.read(\"The_single_cell_transcriptome_as_a_component_system/MouseCellAtlas/mca/mainTable_Bladder.csv\", DataFrame);"
   ]
  },
  {
   "cell_type": "code",
   "execution_count": null,
   "id": "greek-wheat",
   "metadata": {
    "tags": []
   },
   "outputs": [],
   "source": [
    "df_genes = CSV.read(\"MGImarkerQuery_20200914_050053.txt\", DataFrame);"
   ]
  },
  {
   "cell_type": "code",
   "execution_count": null,
   "id": "falling-wrapping",
   "metadata": {},
   "outputs": [],
   "source": [
    "unique(df_genes[!,\"Feature Type\"])"
   ]
  },
  {
   "cell_type": "code",
   "execution_count": null,
   "id": "significant-saudi",
   "metadata": {},
   "outputs": [],
   "source": [
    "#lncgenes = df_genes[df_genes[!,\"Feature Type\"].==\"lncRNA gene\",:Symbol];\n",
    "lncgenes = df_genes[df_genes[!,\"Feature Type\"].!=\"protein coding gene\",:Symbol];\n",
    "pcgenes = df_genes[df_genes[!,\"Feature Type\"].==\"protein coding gene\",:Symbol];"
   ]
  },
  {
   "cell_type": "code",
   "execution_count": null,
   "id": "enormous-space",
   "metadata": {},
   "outputs": [],
   "source": [
    "df_lnc = df[[!(g in pcgenes) for g in df.Column1], :];\n",
    "df = df[[g in pcgenes for g in df.Column1], :];"
   ]
  },
  {
   "cell_type": "code",
   "execution_count": null,
   "id": "freelance-reader",
   "metadata": {},
   "outputs": [],
   "source": [
    "f_lnc = []\n",
    "M = [sum(col) for col in eachcol(df_lnc)[2:end]];\n",
    "for row in eachrow(df_lnc)[2:end]\n",
    "    append!(f_lnc, reduce(+, [x/m for (x,m) in zip(row[2:end],M) if m>0], dims=1)) \n",
    "end"
   ]
  },
  {
   "cell_type": "code",
   "execution_count": null,
   "id": "charitable-incentive",
   "metadata": {},
   "outputs": [],
   "source": [
    "f = []\n",
    "M = [sum(col) for col in eachcol(df)[2:end]];\n",
    "for row in eachrow(df)[2:end]\n",
    "    append!(f, reduce(+, [x/m for (x,m) in zip(row[2:end],M) if m>0], dims=1)) \n",
    "end"
   ]
  },
  {
   "cell_type": "code",
   "execution_count": null,
   "id": "bizarre-kelly",
   "metadata": {},
   "outputs": [],
   "source": [
    "f = sort(f ./ sum(f), rev=true);\n",
    "f_lnc = sort(f_lnc ./ sum(f_lnc), rev=true);"
   ]
  },
  {
   "cell_type": "code",
   "execution_count": null,
   "id": "backed-trouble",
   "metadata": {},
   "outputs": [],
   "source": [
    "trace = Plotly.scatter(y=f, name=\"protein coding\", line_color=\"blue\", line_width=10)\n",
    "tracelnc = Plotly.scatter(y=f_lnc, name=\"lnc\", line_color=\"purple\", line_width=10)\n",
    "\n",
    "\n",
    "layout = Layout(\n",
    "    title = \"Bladder MCA\",\n",
    "    xaxis_type=\"log\",\n",
    "    xaxis_tickfont_size=20,\n",
    "    xaxis_title = \"rank, i\",\n",
    "    xaxis_titlefont = 25,\n",
    "    #xaxis_tickformat = \"e\",\n",
    "    yaxis_type=\"log\",\n",
    "    yaxis_tickformat = \"e\",\n",
    "    yaxis_title = \"frequency, fi\",\n",
    "    yaxis_titlefont = 25,\n",
    "    yaxis_tickfont_size=20,\n",
    "    legendfont_size=30\n",
    ")\n",
    "\n",
    "\n",
    "data = [trace, tracelnc]\n",
    "\n",
    "p = Plotly.plot(data, layout)\n",
    "#Plotly.show()\n",
    "#Plotly.savefig(p, \"zipf_lnc_bladder.pdf\")"
   ]
  },
  {
   "cell_type": "code",
   "execution_count": null,
   "id": "inappropriate-place",
   "metadata": {},
   "outputs": [],
   "source": [
    "cv2lnc = [var(row) / mean(row) / mean(row)  for row in eachrow(df_lnc[2:end,2:end])];\n",
    "meanslnc = [mean(row)  for row in eachrow(df_lnc[2:end,2:end])];\n",
    "\n",
    "cv2 = [var(row) / mean(row) / mean(row)  for row in eachrow(df[2:end,2:end])];\n",
    "means = [mean(row)  for row in eachrow(df[2:end,2:end])];"
   ]
  },
  {
   "cell_type": "code",
   "execution_count": null,
   "id": "impressive-bahamas",
   "metadata": {},
   "outputs": [],
   "source": [
    "trace = Plotly.scatter(x=means, y=cv2, name=\"protein coding\", line_color=\"gray\", mode=\"markers\", line_width=10)\n",
    "tracelnc = Plotly.scatter(x=meanslnc, y=cv2lnc, name=\"lnc\", line_color=\"purple\", mode=\"markers\", line_width=10)\n",
    "\n",
    "\n",
    "layout = Layout(\n",
    "    title = \"Lung MCA\",\n",
    "    xaxis_tickfont_size=20,\n",
    "     xaxis_type=\"log\",\n",
    "    xaxis_title = \"mean\",\n",
    "    xaxis_titlefont = 25,\n",
    "    yaxis_type=\"log\",\n",
    "    yaxis_tickformat = \"e\",\n",
    "    yaxis_title = \"CV2\",\n",
    "    yaxis_titlefont = 25,\n",
    "    yaxis_tickfont_size=20,\n",
    "    legendfont_size=30\n",
    ")\n",
    "\n",
    "\n",
    "data = [trace, tracelnc]\n",
    "\n",
    "p = Plotly.plot(data, layout)\n",
    "#Plotly.savefig(p, \"cv2_lnc_bladder.pdf\")"
   ]
  },
  {
   "cell_type": "code",
   "execution_count": null,
   "id": "laughing-scheduling",
   "metadata": {},
   "outputs": [],
   "source": [
    "function isnull(x)\n",
    "    return x==0\n",
    "end\n",
    "\n",
    "function isnotnull(x)\n",
    "    return ~isnull(x)\n",
    "end\n",
    "\n",
    "function get_occurrence(row)\n",
    "    return length(filter(isnotnull, [x for x in row]))/length(row)\n",
    "end"
   ]
  },
  {
   "cell_type": "code",
   "execution_count": null,
   "id": "fleet-separation",
   "metadata": {},
   "outputs": [],
   "source": [
    "Olnc = [get_occurrence(row)  for row in eachrow(df_lnc[2:end,2:end])];\n",
    "\n",
    "O = [get_occurrence(row)  for row in eachrow(df[2:end,2:end])];"
   ]
  },
  {
   "cell_type": "code",
   "execution_count": null,
   "id": "blond-bangkok",
   "metadata": {},
   "outputs": [],
   "source": [
    "trace = Plotly.histogram(x=O, name=\"protein coding\", histnorm=\"probability\", marker_color=\"gray\", opacity=0.8)\n",
    "tracelnc = Plotly.histogram(x=Olnc, name=\"lnc\", histnorm=\"probability\", marker_color=\"purple\", opacity=0.3)\n",
    "\n",
    "\n",
    "layout = Layout(\n",
    "    title = \"Bladder MCA\",\n",
    "    xaxis_tickfont_size=20,\n",
    "    #xaxis_type=\"log\",\n",
    "    xaxis_title = \"Occurrence\",\n",
    "    xaxis_titlefont = 25,\n",
    "    yaxis_type=\"log\",\n",
    "    yaxis_tickformat = \"e\",\n",
    "    yaxis_titlefont = 25,\n",
    "    yaxis_tickfont_size=20,\n",
    "    legendfont_size=30,\n",
    "    barmode=\"overlay\"\n",
    ")\n",
    "\n",
    "\n",
    "data = [trace, tracelnc]\n",
    "\n",
    "p = Plotly.plot(data, layout)\n",
    "#Plotly.savefig(p, \"U_lnc_bladder.pdf\")"
   ]
  },
  {
   "cell_type": "code",
   "execution_count": null,
   "id": "precious-impact",
   "metadata": {},
   "outputs": [],
   "source": []
  }
 ],
 "metadata": {
  "kernelspec": {
   "display_name": "Julia 1.5.4",
   "language": "julia",
   "name": "julia-1.5"
  },
  "language_info": {
   "file_extension": ".jl",
   "mimetype": "application/julia",
   "name": "julia",
   "version": "1.5.4"
  }
 },
 "nbformat": 4,
 "nbformat_minor": 5
}

{
 "cells": [
  {
   "cell_type": "code",
   "execution_count": 1,
   "metadata": {
    "Collapsed": "false",
    "slideshow": {
     "slide_type": "slide"
    }
   },
   "outputs": [],
   "source": [
    "import pandas as pd\n",
    "import numpy as np\n",
    "import matplotlib.pyplot as plt\n",
    "from scipy import stats\n",
    "import os, sys, gc\n",
    "import pickle\n",
    "\n",
    "import itertools\n",
    "import seaborn as sns\n",
    "\n",
    "from frontiers_colors import get_color\n",
    "from frontiers_analysis import heaps, load_tissue, save_model, mazzolini\n",
    "\n",
    "os.chdir(\"/home/fvalle/phd/mouse_Atlas/\")\n",
    "sys.path.append(\"/home/fvalle/phd/\")\n",
    "sys.path.append(\"/home/fvalle/phd/master_thesis/\")\n",
    "from tableanalyser import discretize_df_columns, plotvarmen, plotcv2mean, plotoversigmacv2, getovergenes, plotoverpoints\n",
    "from tacos_plot import scatterdense"
   ]
  },
  {
   "cell_type": "markdown",
   "metadata": {
    "Collapsed": "false"
   },
   "source": [
    "# Load Data"
   ]
  },
  {
   "cell_type": "code",
   "execution_count": null,
   "metadata": {
    "Collapsed": "false"
   },
   "outputs": [],
   "source": [
    "data_source =\"mca\"\n",
    "files = os.listdir(data_source)\n",
    "from frontiers_analysis import load_all_data\n",
    "data = load_all_data(data_source)"
   ]
  },
  {
   "cell_type": "code",
   "execution_count": null,
   "metadata": {
    "Collapsed": "false"
   },
   "outputs": [],
   "source": [
    "from frontiers_analysis import get_files, cleanup\n",
    "#get_files()\n",
    "#cleanup()"
   ]
  },
  {
   "cell_type": "code",
   "execution_count": null,
   "metadata": {
    "Collapsed": "false"
   },
   "outputs": [],
   "source": [
    "df_info = pd.read_csv(\"MCA_Figure2_Cell.info_V2.csv\", index_col=0)\n",
    "df_info['Cell_id'] = list(map(lambda ann: ann.replace(\"Adult\",\"\"), df_info['Cell_id'])) #remove adult or fetal\n",
    "df_info['Cell_id'] = list(map(lambda ann: ann.replace(\"Fetal\",\"\"), df_info['Cell_id'])) #remove adult or fetal\n",
    "\n",
    "df_info['tissue'] = list(map(lambda ann: ann.replace(\"Adult\",\"\"), df_info['tissue'])) #remove adult or fetal\n",
    "df_info['tissue'] = list(map(lambda ann: ann.replace(\"Fetal\",\"\"), df_info['tissue'])) #remove adult or fetal\n",
    "df_info['tissue'] = list(map(lambda ann: ann.replace(\"Neonatal\",\"\"), df_info['tissue'])) #remove adult or fetal\n",
    "df_info.info()"
   ]
  },
  {
   "cell_type": "code",
   "execution_count": null,
   "metadata": {
    "Collapsed": "false"
   },
   "outputs": [],
   "source": [
    "df_file=pd.read_csv(\"MCA_CellAssignments.csv\", index_col=0).set_index('Cell.name')\n",
    "df_file['Cell_type'] = list(map(lambda ann: ann.split('(')[0].split(' ')[0], df_file['Annotation'])) #remove adult or fetal\n",
    "print(df_file.info())\n",
    "print(df_file['Tissue'].unique())\n",
    "print(df_file['Cell_type'].unique())\n",
    "df_file.head()"
   ]
  },
  {
   "cell_type": "code",
   "execution_count": null,
   "metadata": {
    "Collapsed": "false"
   },
   "outputs": [],
   "source": [
    "df_info[\"tissue\"].unique()"
   ]
  },
  {
   "cell_type": "code",
   "execution_count": null,
   "metadata": {
    "Collapsed": "false"
   },
   "outputs": [],
   "source": [
    "df_info = df_file\n",
    "df_info[\"id\"] = df_file.index.values\n",
    "df_info.rename(columns={'Tissue':'tissue',\"id\": \"Cell_id\"}, inplace=True)\n",
    "df_info.info()"
   ]
  },
  {
   "cell_type": "markdown",
   "metadata": {
    "Collapsed": "false"
   },
   "source": [
    "# Analyse organs and store data"
   ]
  },
  {
   "cell_type": "code",
   "execution_count": null,
   "metadata": {
    "Collapsed": "false"
   },
   "outputs": [],
   "source": [
    "print(files[0])\n",
    "#data = pd.read_csv(f\"{data_source}/{files[0]}\", sep=\" \")\n",
    "#data = data[data.columns[data.columns.isin(df_info['Cell_id'])]]\n",
    "\n",
    "saved = []\n",
    "\n",
    "#tissues = df_info[df_info['Cell_id'].isin(data.columns) & (df_info['Development_stage']=='Adult')]['tissue'].unique() # only adults\n",
    "#tissues = df_info[df_info['Cell_id'].isin(data.columns)]['tissue'].unique()\n",
    "tissues = [files[0]]\n",
    "frac_of = {}\n",
    "\n",
    "\n",
    "print(tissues)\n",
    "for tissue in tissues:\n",
    "    df = pd.read_csv(f\"{data_source}/{files[0]}\", sep=\",\", index_col=0)\n",
    "    df = clean_df(df)\n",
    "    #df = data.reindex(columns=df_info[df_info['Cell_id'].isin(data.columns) & (df_info['tissue']==tissue)]['Cell_id'])\n",
    "    #df = df.divide(df.sum(0), 1).applymap(lambda cpm: np.log(cpm*1e6+1)) #log(cpm +1)\n",
    "    A = df.sum(axis=1)\n",
    "    O = df.apply(lambda x: len(x[x>0]), 1)\n",
    "    M = df.apply(np.sum, 0)\n",
    "    cell_zeros = df.astype(int).apply(lambda x: len(x[x==0]), 0)\n",
    "    gene_presence = df.apply(lambda x: len(x[~x.isna()]), 1).astype(int)\n",
    "    gene_presence_nonnull = df.apply(lambda x: len(x[~x.isna() & (x>0)]), 1).astype(int)\n",
    "    var = df.apply(lambda x: (x*x).sum(), 1)\n",
    "    \n",
    "    frac_of[tissue] = {'data': A,\n",
    "                            'N': len(M)}\n",
    "    \n",
    "    diffWords = df.apply(lambda x: len(x[x>0]), 0)\n",
    "    n_genes = {}\n",
    "    n_genes[tissue] = diffWords\n",
    "    \n",
    "    n_expressed_genes = pd.Series(index=df.index, data=np.zeros_like(df.index))\n",
    "    n_expressed_genes[A.sort_values(ascending=False).index[:100]]+=1\n",
    "    save_model(df, \"data\", tissue)\n",
    "    #mazzolini(M, A/A.sum(), tissue)\n",
    "    #null_model(df, M, A/gene_presence_nonnull)\n",
    "    heaps(M, diffWords, tissue)\n",
    "    \n",
    "    saved.append(tissue)\n",
    "    df.to_csv(f\"mainTable_{tissue}.csv\", index=True, header=True)"
   ]
  },
  {
   "cell_type": "code",
   "execution_count": null,
   "metadata": {
    "Collapsed": "false"
   },
   "outputs": [],
   "source": [
    "for file in files[15:]:\n",
    "    print(file)\n",
    "    data = pd.read_csv(f\"{data_source}/{file}\", sep=\",\", index_col=0)\n",
    "    #data = pd.read_csv(f\"data/{file}\", sep=\" \")\n",
    "    #data = data[data.columns[data.columns.isin(df_info['Cell_id'])]]\n",
    "    \n",
    "    #if len(data.columns) < 1:\n",
    "    #    print(f\"skipping {file} \\n\")\n",
    "    #    continue\n",
    "    \n",
    "    #tissues = df_info[df_info['Cell_id'].isin(data.columns) & (df_info['Development_stage']=='Adult')]['tissue'].unique()\n",
    "    #tissues = df_info[df_info['Cell_id'].isin(data.columns)]['tissue'].unique()\n",
    "\n",
    "    tissues = [file]\n",
    "    print(tissues)\n",
    "    if len(tissues) < 1:\n",
    "        print(f\"no tissue found \\n\")\n",
    "        continue\n",
    "    for tissue in tissues:\n",
    "        df = clean_df(data)\n",
    "        \n",
    "        #df = data.reindex(columns=df_info[df_info['Cell_id'].isin(data.columns) & (df_info['tissue']==tissue)]['Cell_id'])\n",
    "        if tissue in saved:\n",
    "            df = df.transpose().append(pd.read_csv(f\"mainTable_{tissue}.csv\", index_col=0, header=0).transpose(), ignore_index=False, sort=True).transpose().fillna(0)\n",
    "        #df = df.divide(df.sum(0), 1).applymap(lambda cpm: np.log(cpm*1e6+1)) #log(cpm +1)\n",
    "        A_sub = df.sum(axis=1)\n",
    "        O_sub = df.apply(lambda x: len(x[x>0]), 1)\n",
    "        M_sub = df.apply(np.sum, 0)\n",
    "        cell_zeros_sub = df.apply(lambda x: len(x[x>0]), 0)\n",
    "        diffWords_sub = df.apply(lambda x: len(x[x>0]), 0)\n",
    "        \n",
    "        if tissue in frac_of.keys():\n",
    "            frac_of[tissue]['data'].add(A_sub, fill_value = 0)\n",
    "            frac_of[tissue]['N']+=len(M_sub)\n",
    "        else:\n",
    "            frac_of[tissue] = {'data': A_sub,\n",
    "                                  'N': len(M_sub)}\n",
    "\n",
    "        A = A.add(A_sub, fill_value=0)\n",
    "        O = O.add(O_sub, fill_value=0)\n",
    "        M = M.append(M_sub)\n",
    "        cell_zeros = cell_zeros.append(cell_zeros_sub)\n",
    "        diffWords = diffWords.append(diffWords_sub)\n",
    "        if tissue in n_genes.keys():\n",
    "            n_genes[tissue] = n_genes[tissue].append(diffWords_sub)\n",
    "        else:\n",
    "            n_genes[tissue]= diffWords_sub\n",
    "        \n",
    "        gene_presence = gene_presence.add(df.apply(lambda x: len(x[~x.isna()]), 1), fill_value=0)\n",
    "        gene_presence_nonnull_sub = df.apply(lambda x: len(x[~x.isna() & (x>0)]), 1).astype(int)\n",
    "        gene_presence_nonnull = gene_presence_nonnull.add(gene_presence_nonnull_sub, fill_value=0).astype(int)\n",
    "        var = var.add(df.apply(lambda x: (x*x).sum(), 1), fill_value=0)\n",
    "        \n",
    "        n_expressed_genes_sub = pd.Series(index=df.index, data=np.zeros_like(df.index))\n",
    "        n_expressed_genes_sub[A_sub.sort_values(ascending=False).index[:100]]+=1\n",
    "        n_expressed_genes = n_expressed_genes.add(n_expressed_genes_sub, fill_value=0)\n",
    "\n",
    "        save_model(df,\"data\",tissue)\n",
    "        #mazzolini(M_sub, A_sub/A_sub.sum(), tissue)\n",
    "        #null_model(df, M_sub, A_sub/gene_presence_nonnull_sub)\n",
    "        heaps(M_sub, diffWords_sub, tissue)\n",
    "        saved.append(tissue)\n",
    "        df.to_csv(f\"mainTable_{tissue}.csv\", index=True, header=True)\n",
    "        print(f\"Handling {len(M)} cells\")\n",
    "\n",
    "        del df \n",
    "        del A_sub\n",
    "        del O_sub\n",
    "        del M_sub\n",
    "        del diffWords_sub\n",
    "        del gene_presence_nonnull_sub\n",
    "        gc.collect()\n",
    "        print(\"\\n\")\n",
    "    del tissues\n",
    "    del data\n",
    "    gc.collect()\n",
    "\n",
    "means = A/gene_presence\n",
    "means_nozero = A/gene_presence_nonnull\n",
    "var = var/gene_presence - means*means\n",
    "f = (A/A.sum())\n",
    "O = O / gene_presence\n",
    "O = O.reindex_like(means)\n",
    "cv2 = var/means/means\n",
    "\n",
    "\n",
    "print(\"Saving data.pkl\")\n",
    "data = {\n",
    "    'means': means,\n",
    "    'var': var,\n",
    "    'freq': A/A.sum(),\n",
    "    'O': O,\n",
    "    'M': M,\n",
    "    'cv2': cv2,\n",
    "    'diffWords': diffWords,\n",
    "    'means_nonzero': means_nozero,\n",
    "    'n_expressed': n_expressed_genes,\n",
    "    'n_genes': n_genes,\n",
    "    'frac_of': frac_of,\n",
    "    'cell_zeros': cell_zeros\n",
    "}\n",
    "\n",
    "with open(\"data_all.pkl\",\"wb\") as file:\n",
    "    pickle.dump(data, file, protocol=pickle.HIGHEST_PROTOCOL)"
   ]
  },
  {
   "cell_type": "code",
   "execution_count": null,
   "metadata": {
    "Collapsed": "false"
   },
   "outputs": [],
   "source": [
    "n_expressed_genes = data[\"n_expressed\"]\n",
    "with open(\"100_most_expressed_in_40_tissues.txt\", \"w\") as f:\n",
    "    list(map(lambda x: f.write(x+\"\\n\"),n_expressed_genes[n_expressed_genes>=40].sort_values(ascending=False).index[:100]))"
   ]
  },
  {
   "cell_type": "code",
   "execution_count": null,
   "metadata": {
    "Collapsed": "false"
   },
   "outputs": [],
   "source": [
    "with open(\"genes_first_range_1_26_mca.txt\", \"w\") as file:\n",
    "    list(map(lambda g:file.write(g+\"\\n\"),data[\"freq\"].sort_values(ascending=False)[:26].index))"
   ]
  },
  {
   "cell_type": "markdown",
   "metadata": {
    "Collapsed": "true"
   },
   "source": [
    "# Correlations with Tabula Muris"
   ]
  },
  {
   "cell_type": "code",
   "execution_count": null,
   "metadata": {
    "Collapsed": "false"
   },
   "outputs": [],
   "source": [
    "common_organs = [\"Bladder\", \"Kidney\", \"Liver\", \"Lung\", \"Pancreas\", \"Spleen\"]\n",
    "\n",
    "organ = common_organs[0]"
   ]
  },
  {
   "cell_type": "code",
   "execution_count": null,
   "metadata": {
    "Collapsed": "false"
   },
   "outputs": [],
   "source": [
    "tm = load_all_data(\"tm\")[\"freq\"]\n",
    "mca = load_all_data(\"mca\")[\"freq\"]\n",
    "tm = tm[tm.index.isin(mca.index)]\n",
    "mca = mca[mca.index.isin(tm.index)]\n",
    "tm = pd.Series(name='tm',index=tm.sort_values(ascending=False).index, data=range(1,1+len(tm)))\n",
    "mca = pd.Series(name='mca',index=mca.sort_values(ascending=False).index, data=range(1, len(mca)+1))\n",
    "\n",
    "mca = mca.reindex_like(tm).dropna()"
   ]
  },
  {
   "cell_type": "code",
   "execution_count": null,
   "metadata": {
    "Collapsed": "false"
   },
   "outputs": [],
   "source": [
    "fig, ax = plt.subplots(figsize=(18,15))\n",
    "ax.scatter(mca.values,tm.values, c=\"gray\", s=225, alpha=0.5)\n",
    "\n",
    "ax.plot(np.linspace(0,1.9e4), np.linspace(0,1.9e4), lw=15, ls=\"--\")\n",
    "\n",
    "ax.set_xlabel(\"Mouse Cell Atlas' Rank\", fontsize=35)\n",
    "ax.set_ylabel(\"Tabula Muris' Rank\", fontsize=35)\n",
    "\n",
    "ax.tick_params(labelsize=35, width=8, length=20)\n",
    "\n",
    "fig.savefig(\"rank_correlation.pdf\")\n",
    "plt.show()"
   ]
  },
  {
   "cell_type": "code",
   "execution_count": null,
   "metadata": {
    "Collapsed": "false"
   },
   "outputs": [],
   "source": [
    "df_both = pd.DataFrame()\n",
    "df_both=df_both.append(mca)\n",
    "df_both=df_both.append(tm)\n",
    "df_both=df_both.transpose()\n",
    "\n",
    "pop = df_both.index\n",
    "sampled=df_both.sort_values(by=\"mca\", ascending=True)[:500].index\n",
    "successes = df_both.sort_values(by=\"tm\", ascending=True)[:500].index\n",
    "\n",
    "x = np.isin(successes, sampled).astype(int).sum() # number of successes\n",
    "M = len(pop) # pop size\n",
    "k = len(successes) # successes in pop\n",
    "N = len(sampled) # sample size\n",
    "pval = hypergeom.sf(x-1, M, k, N)\n",
    "#-np.log10(float(pval))\n",
    "pval"
   ]
  },
  {
   "cell_type": "code",
   "execution_count": null,
   "metadata": {
    "Collapsed": "false"
   },
   "outputs": [],
   "source": [
    "df_cmap=pd.DataFrame(index=common_organs, columns=common_organs).fillna(0.5)\n",
    "genes_list = {}\n",
    "lim = 18\n",
    "d_lim = 2000\n",
    "\n",
    "rang=range(0,82)\n",
    "\n",
    "mca = load_tissue(organ)[\"freq\"]\n",
    "tm = load_tissue(organ+\"-counts.csv\",  data_source=\"tm\")[\"freq\"]\n",
    "tm_all = tm[tm.index.isin(mca.index)]\n",
    "mca_all = mca[mca.index.isin(tm.index)]\n",
    "common_genes = mca_all.index\n",
    "\n",
    "population_size = len(mca_all)\n",
    "\n",
    "\n",
    "for tissue_1 in df_cmap.columns:\n",
    "    genes_list[\"tm\"]=load_tissue(tissue_1+\"-counts.csv\", data_source=\"tm\")[\"freq\"]\n",
    "    for tissue_2 in df_cmap.index:\n",
    "        print(tissue_1, tissue_2)\n",
    "        genes_list[\"mca\"]=load_tissue(tissue_2)[\"freq\"]\n",
    "        tm = pd.Series(name='tm',index=genes_list[\"tm\"].sort_values(ascending=True).index, data=range(1,1+len(genes_list[\"tm\"])))\n",
    "        mca = pd.Series(name='mca',index=genes_list[\"mca\"].sort_values(ascending=True).index, data=range(1, len(genes_list[\"mca\"])+1))\n",
    "        tm = tm[tm.index.isin(common_genes)]\n",
    "        mca = mca[mca.index.isin(common_genes)]\n",
    "\n",
    "        x = np.isin(tm.index[rang], mca.index[rang]).astype(int).sum() # number of successes\n",
    "        M = population_size # pop size\n",
    "        k = len(mca.index[rang]) # successes in pop\n",
    "        N = len(tm.index[rang]) # sample size\n",
    "        pval = hypergeom.sf(x-1, M, k, N)\n",
    "        print(x, M, k, N, pval)\n",
    "        log_pval = -np.log10(float(pval))\n",
    "        if log_pval < -np.log10(5e-1):\n",
    "            log_pval=0\n",
    "        df_cmap.at[tissue_1,tissue_2]=log_pval"
   ]
  },
  {
   "cell_type": "code",
   "execution_count": null,
   "metadata": {
    "Collapsed": "false"
   },
   "outputs": [],
   "source": [
    "ax = sns.heatmap(df_cmap)\n",
    "ax.set_title(\"-Log(P-value)\\n Tabula Muris vs Mouse Cell Atlas\", fontsize=25)\n",
    "\n",
    "fig= ax.get_figure()\n",
    "fig.set_size_inches(18,15)\n",
    "fig.savefig(\"logp_regim1.pdf\")"
   ]
  },
  {
   "cell_type": "code",
   "execution_count": null,
   "metadata": {
    "Collapsed": "false"
   },
   "outputs": [],
   "source": [
    "from frontiers_analysis import load_pickle\n",
    "mca_genes = load_pickle(\"mca/data_all.pkl\")[\"freq\"].index"
   ]
  },
  {
   "cell_type": "code",
   "execution_count": null,
   "metadata": {
    "Collapsed": "false"
   },
   "outputs": [],
   "source": [
    "bad_genes = pd.read_csv(\"FACS/Aorta-counts.csv\", index_col=0).index[np.load(\"bad_genes_0.npy\")]\n",
    "isin = np.isin(mca_genes,bad_genes)\n",
    "with open(\"bad_genes_common.csv\", \"w\") as file:\n",
    "    list(map(lambda g: file.write(g+\"\\n\"),mca_genes[isin]))"
   ]
  },
  {
   "cell_type": "code",
   "execution_count": null,
   "metadata": {
    "Collapsed": "false"
   },
   "outputs": [],
   "source": [
    "ax = sns.heatmap(pd.read_csv(\"rs_gtex.csv\"))"
   ]
  },
  {
   "cell_type": "markdown",
   "metadata": {
    "Collapsed": "true",
    "toc-hr-collapsed": true,
    "toc-nb-collapsed": true
   },
   "source": [
    "# Fraction of trascriptome"
   ]
  },
  {
   "cell_type": "code",
   "execution_count": null,
   "metadata": {
    "Collapsed": "false"
   },
   "outputs": [],
   "source": [
    "thresholded = {}\n",
    "\n",
    "frac_of = data[\"frac_of\"]\n",
    "\n",
    "fig,ax = plt.subplots(figsize=(18,15))\n",
    "for tissue in frac_of.keys():\n",
    "    #if \"Lactation\" in tissue:\n",
    "    #    continue\n",
    "    A_tissue = (frac_of[tissue]['data'] / frac_of[tissue]['N']).sort_values(ascending=False)\n",
    "    A_tissue_sum = np.cumsum(A_tissue.values) / A_tissue.sum() #h thr\n",
    "    ax.plot(A_tissue_sum, label = tissue, c=get_color(tissue), lw=15, alpha=.7)\n",
    "    #if len(A_tissue_sum) < 2:\n",
    "    #    continue\n",
    "    thresholded[tissue] = A_tissue_sum[99]\n",
    "    #thresholded[tissue] = np.argwhere(A_tissue_sum>=0.4).ravel()[0] #v thr\n",
    "ax.set_xscale('log')\n",
    "ax.set_xlim(1, 3e4)\n",
    "ax.set_xlabel(\"Number of genes\", fontsize=35)\n",
    "ax.set_ylabel(\"Fraction of trascriptome described\", fontsize=35)\n",
    "\n",
    "# Shrink current axis by 20%\n",
    "box = ax.get_position()\n",
    "#ax.set_position([box.x0, box.y0, box.width * 0.8, box.height])\n",
    "\n",
    "ax.tick_params(labelsize=35, width=8, length=20)\n",
    "\n",
    "# Put a legend to the right of the current axis\n",
    "#ax.legend(loc='center left', bbox_to_anchor=(1, 0.5))\n",
    "plt.show()\n",
    "fig.savefig(\"fracof_mca.pdf\")"
   ]
  },
  {
   "cell_type": "code",
   "execution_count": null,
   "metadata": {
    "Collapsed": "false"
   },
   "outputs": [],
   "source": [
    "gene_to_thr = pd.DataFrame(data= thresholded.items()).set_index(0).sort_values(1, ascending=False)\n",
    "\n",
    "fig,ax = plt.subplots(figsize=(20,10))\n",
    "ax.bar(gene_to_thr.index, gene_to_thr.values.ravel())\n",
    "ax.tick_params(rotation=90)\n",
    "\n",
    "ax.set_ylabel(\"Fraction of trascriptome\\n described by 100 genes\", fontsize=24)\n",
    "#ax.set_ylabel(\"Number of genes\\n to describe 40% of trascriptome\", fontsize=24)\n",
    "\n",
    "plt.tight_layout()\n",
    "plt.show()\n",
    "fig.savefig(\"frac_of_100genes.pdf\")"
   ]
  },
  {
   "cell_type": "code",
   "execution_count": null,
   "metadata": {
    "Collapsed": "false"
   },
   "outputs": [],
   "source": [
    "pd.DataFrame(index=gene_to_thr.sort_values(1).index, data=range(len(gene_to_thr)), columns=['MCA']).to_csv(\"trascriptome_sort.csv\", index=True)"
   ]
  },
  {
   "cell_type": "code",
   "execution_count": null,
   "metadata": {
    "Collapsed": "false"
   },
   "outputs": [],
   "source": [
    "df_sort = pd.read_csv(\"trascriptome_sort.csv\", index_col=0).dropna(how='any', axis=0).astype(int)\n",
    "df_sort['MCA'] = range(len(df_sort))\n",
    "fig = plt.figure(figsize=(10,8))\n",
    "plt.scatter(*df_sort.values.T, s=90)\n",
    "plt.xlim(-1,15)\n",
    "plt.ylim(-1,15)\n",
    "\n",
    "plt.xlabel(\"MCA\", fontsize=20)\n",
    "plt.ylabel(\"tabula_muris\", fontsize=20)\n",
    "plt.show()"
   ]
  },
  {
   "cell_type": "code",
   "execution_count": null,
   "metadata": {
    "Collapsed": "false"
   },
   "outputs": [],
   "source": [
    "for g in frac_of['MammaryGland.Lactation']['data'].sort_values(ascending=False).index[:10]:\n",
    "    print(g)"
   ]
  },
  {
   "cell_type": "markdown",
   "metadata": {
    "Collapsed": "false"
   },
   "source": [
    "## Box plot"
   ]
  },
  {
   "cell_type": "code",
   "execution_count": null,
   "metadata": {
    "Collapsed": "false"
   },
   "outputs": [],
   "source": [
    "fig,ax=plt.subplots(figsize=(45,35))\n",
    "organ_names=n_genes.keys()\n",
    "n_genes_all=list(map(lambda organ: organ[1].values,n_genes.items()))\n",
    "box1=plt.boxplot(np.array(n_genes_all), vert=True, patch_artist=True,notch=True,\n",
    "        boxprops=dict(facecolor='magenta', color='magenta'))\n",
    "ax.set_xticklabels(labels=organ_names,rotation=75)\n",
    "ax.tick_params(axis='y', labelsize=24)\n",
    "ax.tick_params(axis='x', labelsize=18)\n",
    "plt.title('Number of genes detected per cell', fontsize=28)\n",
    "plt.xlabel('Organ', fontsize=28)\n",
    "plt.ylabel('N genes', fontsize=28)\n",
    "ax.spines['right'].set_visible(False)\n",
    "ax.spines['top'].set_visible(False)\n",
    "plt.show()\n",
    "fig.savefig(\"boxplot.pdf\")"
   ]
  },
  {
   "cell_type": "markdown",
   "metadata": {
    "Collapsed": "true"
   },
   "source": [
    "# All Tissues"
   ]
  },
  {
   "cell_type": "markdown",
   "metadata": {
    "Collapsed": "true"
   },
   "source": [
    "## Zipf"
   ]
  },
  {
   "cell_type": "code",
   "execution_count": null,
   "metadata": {
    "Collapsed": "false"
   },
   "outputs": [],
   "source": [
    "fig, ax = plt.subplots(figsize=(18,15))\n",
    "for tissue in data[\"frac_of\"].keys():\n",
    "    try:\n",
    "        info = load_tissue(tissue, data_source=data_source)\n",
    "    except:\n",
    "        print(*sys.exc_info())\n",
    "        continue \n",
    "    if \"Lactation\" in tissue:\n",
    "        continue\n",
    "    f = info[\"freq\"]\n",
    "    ax.plot(f.sort_values(ascending=False).values, label=tissue, c=get_color(tissue), lw=15, alpha=.7)\n",
    "    \n",
    "x =np.linspace(1,6e4,10)\n",
    "\n",
    "exp = 0.8\n",
    "ax.plot(x, 1e-1*np.power(x, -0.8), lw=20, c='gray', ls='--')\n",
    "\n",
    "ax.set_xscale(\"log\")\n",
    "ax.set_yscale(\"log\")\n",
    "\n",
    "ax.annotate('$k*i^{-%.1f}$'%exp, (1e2,1e-2), fontsize=35)\n",
    "\n",
    "# Shrink current axis by 20%\n",
    "box = ax.get_position()\n",
    "#ax.set_position([box.x0, box.y0, box.width * 0.8, box.height])\n",
    "\n",
    "# Put a legend to the right of the current axis\n",
    "#ax.legend(loc='center left', bbox_to_anchor=(1, 0.5), fontsize=18, ncol=2)\n",
    "\n",
    "ax.tick_params(labelsize=35, width=8, length=20)\n",
    "ax.set_xlim(1,1e5)\n",
    "ax.set_ylim(1e-9,1e0)\n",
    "ax.set_xlabel(\"Rank, $i$\", fontsize=35)\n",
    "ax.set_ylabel(\"Frequency, $f_i$\", fontsize=35)\n",
    "\n",
    "plt.show()\n",
    "fig.savefig(f\"zipf_alltissue_{data_source}.pdf\")"
   ]
  },
  {
   "cell_type": "markdown",
   "metadata": {
    "Collapsed": "true"
   },
   "source": [
    "## Heaps"
   ]
  },
  {
   "cell_type": "code",
   "execution_count": null,
   "metadata": {
    "Collapsed": "false"
   },
   "outputs": [],
   "source": [
    "loglog = True\n",
    "filter_mammaryLactation = True\n",
    "\n",
    "fig, ax = plt.subplots(figsize=(18,15))\n",
    "for tissue in data[\"frac_of\"].keys():\n",
    "    try:\n",
    "        info = load_tissue(tissue, data_source=data_source)\n",
    "    except:\n",
    "        print(*sys.exc_info())\n",
    "        continue\n",
    "    if (\"Lactation\" in tissue) and filter_mammaryLactation:\n",
    "        continue\n",
    "    M = info[\"M\"]\n",
    "    diff= info[\"diffWords\"]\n",
    "    skip_bins = 15\n",
    "    n_bins=35\n",
    "    if len(M) <= n_bins:\n",
    "        continue\n",
    "    bin_means, bin_edges, binnumber = stats.binned_statistic(M, diff,statistic='mean', bins=np.linspace(M.min(),max(M), n_bins))\n",
    "    bin_stds, _, _ = stats.binned_statistic(M, diff,statistic='std', bins=np.linspace(M.min(),np.quantile(M, 0.9), n_bins))\n",
    "    x = ((bin_edges[:-1]+bin_edges[1:])/2.)[:-skip_bins]\n",
    "    y = bin_means[:-skip_bins]\n",
    "    ax.plot(x, y, marker='o', lw=5, ms=25, alpha=0.8, c=get_color(tissue), label=tissue)\n",
    "    #ax.errorbar(x,y , bin_stds[:-skip_bins], fmt='none', ecolor='orange', elinewidth=3)\n",
    "\n",
    "if \"mca\" in data_source:\n",
    "    ax.set_xlabel(\"UMI per cell\", fontsize=35)\n",
    "else:\n",
    "    ax.set_xlabel(\"Reads per cell\", fontsize=35)\n",
    "ax.set_ylabel(\"Number of expressed genes\", fontsize=35)\n",
    "\n",
    "if loglog:\n",
    "    ax.set_xscale('log')\n",
    "    ax.set_yscale('log')\n",
    "ax.set_xlim(450,max(data[\"M\"])*0.7) #min UMI is 500\n",
    "\n",
    "ax.tick_params(labelsize=35, width=8, length=20)\n",
    "ax.tick_params(which=\"minor\", labelsize=35, width=5, length=25)\n",
    "\n",
    "\n",
    "    \n",
    "# Shrink current axis by 20%\n",
    "box = ax.get_position()\n",
    "#ax.set_position([box.x0, box.y0, box.width * 0.8, box.height])\n",
    "\n",
    "# Put a legend to the right of the current axis\n",
    "#ax.legend(loc='center left', bbox_to_anchor=(1, 0.5), fontsize=18, ncol=2)\n",
    "\n",
    "plt.show()\n",
    "fig.savefig(\"heaps_alltissues%s_mca%s.pdf\"%(\"\" if filter_mammaryLactation else \"_noLactation\",\"_loglog\" if loglog else \"\"))"
   ]
  },
  {
   "cell_type": "code",
   "execution_count": null,
   "metadata": {
    "Collapsed": "false"
   },
   "outputs": [],
   "source": [
    "fig, ax = plt.subplots(figsize=(18,15))\n",
    "\n",
    "ax.hist(data[\"M\"], density=True, color=\"gray\", histtype=\"step\", lw=15, bins=50)\n",
    "\n",
    "m = np.mean(data[\"M\"])\n",
    "ax.vlines([m], 0,2e-8, lw=10, alpha=.9, ls=\"-.\")\n",
    "ax.annotate(\"Average: %.2e\"%m, (m*1.1,2e-8), fontsize=35)\n",
    "\n",
    "ax.set_xlabel(\"UMI per cell, $M$\", fontsize=35)\n",
    "ax.set_ylabel(\"Probability density function\", fontsize=35)\n",
    "\n",
    "#ax.set_xscale(\"log\")\n",
    "#ax.set_yscale(\"log\")\n",
    "\n",
    "#ax.set_xlim(1,3e8)\n",
    "\n",
    "plt.show()\n",
    "fig.savefig(f\"M_hist_{data_source}.pdf\")"
   ]
  },
  {
   "cell_type": "code",
   "execution_count": null,
   "metadata": {
    "Collapsed": "false"
   },
   "outputs": [],
   "source": [
    "fig, ax = plt.subplots(figsize=(20,10))\n",
    "for tissue in data[\"frac_of\"].keys():\n",
    "    try:\n",
    "        info = load_tissue(tissue)\n",
    "    except:\n",
    "        continue\n",
    "    M = info[\"M\"]\n",
    "    diff= info[\"diffWords\"]\n",
    "    x = M\n",
    "    y = diff\n",
    "    ax.plot(x, y, marker='o', lw=0, ms=10, c=next(palette), alpha=0.6, label=tissue)\n",
    "    #ax.errorbar(x,y , bin_stds[:-skip_bins], fmt='none', ecolor='orange', elinewidth=3)\n",
    "\n",
    "    \n",
    "ax.set_xlabel(\"Realization size\", fontsize=24)\n",
    "ax.set_ylabel(\"#different words\", fontsize=24)\n",
    "\n",
    "#plt.xscale('log')\n",
    "#plt.yscale('log')\n",
    "plt.xlim(0,max(data[\"M\"])*0.7)\n",
    "    \n",
    "# Shrink current axis by 20%\n",
    "box = ax.get_position()\n",
    "ax.set_position([box.x0, box.y0, box.width * 0.8, box.height])\n",
    "\n",
    "# Put a legend to the right of the current axis\n",
    "ax.legend(loc='center left', bbox_to_anchor=(1, 0.5), fontsize=18, ncol=2)\n",
    "\n",
    "plt.show()\n",
    "fig.savefig(\"heaps_alltissues_alldata.pdf\")"
   ]
  },
  {
   "cell_type": "code",
   "execution_count": null,
   "metadata": {
    "Collapsed": "false"
   },
   "outputs": [],
   "source": [
    "integrals = pd.read_csv(\"integral_heaps.csv\", index_col=1)\n",
    "integrals=integrals.sort_values(\"data\", ascending=False)\n",
    "integrals.head()"
   ]
  },
  {
   "cell_type": "code",
   "execution_count": null,
   "metadata": {
    "Collapsed": "false"
   },
   "outputs": [],
   "source": [
    "fig = plt.figure(figsize=(18,10))\n",
    "for x,tissue in enumerate(integrals.index):\n",
    "    plt.plot(x, integrals.at[tissue,\"data\"], marker=\"P\", c=get_color(tissue), lw=0, ms=15)\n",
    "locs, labels = plt.xticks()\n",
    "plt.xticks(range(0,len(integrals.index)), labels = integrals.index, rotation=90)\n",
    "plt.ylabel(\"Heaps' integral\", fontsize=20)\n",
    "fig.savefig(\"itegral_heapfs_scatter_plot_color_mca.pdf\")\n",
    "fig.savefig(\"itegral_heapfs_scatter_plot_color_mca.png\")"
   ]
  },
  {
   "cell_type": "markdown",
   "metadata": {
    "Collapsed": "true"
   },
   "source": [
    "# Null Model"
   ]
  },
  {
   "cell_type": "code",
   "execution_count": null,
   "metadata": {
    "Collapsed": "false"
   },
   "outputs": [],
   "source": [
    "with open(\"data_null.pkl\",\"rb\") as file:\n",
    "    data = pickle.load(file)\n",
    "\n",
    "means_null = data['means']\n",
    "var_null = data['var']\n",
    "f_null = data['freq']\n",
    "O_null = data['O']\n",
    "M_null=data[\"M\"]\n",
    "cv2_null = data['cv2']\n",
    "diffWords_null = data['diffWords']"
   ]
  },
  {
   "cell_type": "markdown",
   "metadata": {
    "Collapsed": "true"
   },
   "source": [
    "# Zipf"
   ]
  },
  {
   "cell_type": "code",
   "execution_count": null,
   "metadata": {
    "Collapsed": "false"
   },
   "outputs": [],
   "source": [
    "fig = plt.figure(figsize=(15,8))\n",
    "x = np.arange(1, len(f))\n",
    "plt.ylabel(\"$Frequency, f_i$\", fontsize=24)\n",
    "plt.xlabel(\"$RANK, i$\", fontsize=24)\n",
    "plt.yscale('log')\n",
    "plt.xscale('log')\n",
    "#plt.ylim(1e-7,1)\n",
    "plt.plot(x, np.power(x,-0.9)*1e-1, 'g--', lw=2, label='$k*i^{-0.5}$')\n",
    "plt.plot(np.sort(f.dropna())[::-1], c='blue', lw=5, label='Genes')\n",
    "if \"f_null\" in vars().keys():\n",
    "    plt.plot(np.sort(f_null/f_null.sum())[::-1], c='orange', ls='--', lw=5, label='null_model')\n",
    "plt.legend(fontsize=24)\n",
    "plt.show()\n",
    "fig.savefig(\"zipf.pdf\")"
   ]
  },
  {
   "cell_type": "code",
   "execution_count": null,
   "metadata": {
    "Collapsed": "false"
   },
   "outputs": [],
   "source": [
    "bins = 100\n",
    "rang = (0-0.5/bins, 1+0.5/bins)\n",
    "fig=plt.figure()\n",
    "plt.hist(np.array(O.dropna(), dtype=float), histtype='step', lw=5, range = rang, color='blue', density=True, bins=bins)\n",
    "if \"O_null\" in vars().keys():\n",
    "    plt.hist(np.array(O_null, dtype=float), histtype='step', lw=5, range = rang, bins=bins, color='orange', ls='--', density=True)\n",
    "plt.xlabel(\"$o_i$\", fontsize=24)\n",
    "plt.ylabel(\"pdf\", fontsize=24)\n",
    "#plt.yscale('log')\n",
    "#plt.xscale('log')\n",
    "plt.show()\n",
    "fig.savefig(\"U.pdf\")"
   ]
  },
  {
   "cell_type": "code",
   "execution_count": null,
   "metadata": {
    "Collapsed": "false"
   },
   "outputs": [],
   "source": [
    "bins = 15\n",
    "rang = (0-0.5/bins, 1+0.5/bins)\n",
    "fig=plt.figure()\n",
    "plt.hist(np.array(O.dropna(), dtype=float), histtype='step', lw=5, range = rang, color='blue', density=True, bins=bins)\n",
    "if \"O_null\" in vars().keys():\n",
    "    plt.hist(np.array(O_null, dtype=float), histtype='step', lw=5, range = rang, bins=bins, color='orange', ls='--', density=True)\n",
    "plt.xlabel(\"$o_i$\", fontsize=24)\n",
    "plt.ylabel(\"pdf\", fontsize=24)\n",
    "plt.yscale('log')\n",
    "#plt.xscale('log')\n",
    "plt.show()\n",
    "fig.savefig(\"U_log.pdf\")"
   ]
  },
  {
   "cell_type": "code",
   "execution_count": null,
   "metadata": {
    "Collapsed": "false"
   },
   "outputs": [],
   "source": [
    "fig, ax=plt.subplots()\n",
    "O.hist(ax=ax, histtype='step', lw=5, color='blue', density=True)\n",
    "#plt.hist(np.array(O_null, dtype=float), histtype='step', lw=5, range = rang, color='orange', ls='--', density=True)\n",
    "plt.xlabel(\"$o_i$\", fontsize=24)\n",
    "plt.ylabel(\"pdf\", fontsize=24)\n",
    "#plt.yscale('log')\n",
    "#plt.xscale('log')\n",
    "plt.show()\n",
    "fig.savefig(\"U_zoom.pdf\")"
   ]
  },
  {
   "cell_type": "code",
   "execution_count": null,
   "metadata": {
    "Collapsed": "false"
   },
   "outputs": [],
   "source": [
    "fig = plt.figure()\n",
    "plt.hist(M, density=False, color='blue', bins = 15, label='files')\n",
    "#plt.hist(M_null, density=False, color='orange', histtype='step', lw=4, ls='--', bins = 15, label='files')\n",
    "plt.title(\"realization size distribution\", fontsize = 24)\n",
    "plt.xlabel(\"total counts per file\", fontsize=24)\n",
    "plt.ylabel(\"#\", fontsize=24)\n",
    "plt.legend(fontsize=24)\n",
    "plt.show()\n",
    "fig.savefig(\"M_distr.png\")"
   ]
  },
  {
   "cell_type": "code",
   "execution_count": null,
   "metadata": {
    "Collapsed": "false"
   },
   "outputs": [],
   "source": [
    "fig = plt.figure()\n",
    "plt.hist(diffWords, density=False, color='blue', bins = 15, label = 'files')\n",
    "plt.title(\"vocabulary size distribution\", fontsize=18)\n",
    "plt.xlabel(\"#different words per file\", fontsize=16)\n",
    "plt.ylabel(\"#\", fontsize=16)\n",
    "plt.legend(fontsize=18)\n",
    "plt.show()\n",
    "fig.savefig(\"gene_expr_distr.png\")"
   ]
  },
  {
   "cell_type": "markdown",
   "metadata": {
    "Collapsed": "false"
   },
   "source": [
    "## Heaps"
   ]
  },
  {
   "cell_type": "code",
   "execution_count": null,
   "metadata": {
    "Collapsed": "false"
   },
   "outputs": [],
   "source": [
    "fig = plt.figure(figsize=(10,6))\n",
    "plt.scatter(data[\"M\"], diffWords, label='samples')\n",
    "if \"M_null\" in vars().keys() and \"diffWords_null\" in vars().keys():\n",
    "    plt.scatter(M_null, diffWords_null, label='null_model')\n",
    "plt.xlabel(\"Realization size\", fontsize=24)\n",
    "plt.ylabel(\"#different words\", fontsize=24)\n",
    "skip_bins = 15\n",
    "n_bins=35\n",
    "bin_means, bin_edges, binnumber = stats.binned_statistic(data[\"M\"], diffWords,statistic='mean', bins=np.linspace(data[\"M\"].min(),max(data[\"M\"]), n_bins))\n",
    "plt.hlines(bin_means[:-skip_bins], bin_edges[:-1][:-skip_bins], bin_edges[1:][:-skip_bins], colors='r', lw=5, label='binned average')\n",
    "bin_stds, _, _ = stats.binned_statistic(data[\"M\"], diffWords,statistic='std', bins=np.linspace(M.min(),np.quantile(M, 0.9), n_bins))\n",
    "plt.errorbar(((bin_edges[:-1]+bin_edges[1:])/2)[:-skip_bins],bin_means[:-skip_bins], bin_stds[:-skip_bins], fmt='none', ecolor='orange', elinewidth=3)\n",
    "#plt.xscale('log')\n",
    "#plt.yscale('log')\n",
    "plt.xlim(0,max(data[\"M\"])*1.1)\n",
    "plt.legend(fontsize=20)\n",
    "plt.show()\n",
    "fig.savefig(\"heaps.pdf\")"
   ]
  },
  {
   "cell_type": "code",
   "execution_count": null,
   "metadata": {
    "Collapsed": "false"
   },
   "outputs": [],
   "source": [
    "fit_func = lambda x, a, b: a + np.power(x, b)\n",
    "from scipy.optimize import curve_fit\n",
    "\n",
    "bin_vars = bin_stds*bin_stds\n",
    "fig, ax = plt.subplots(figsize=(10,6))\n",
    "ax.scatter(bin_means[:-skip_bins], bin_vars[:-skip_bins],s=90, label='')\n",
    "ax.plot(bin_means[:-skip_bins], bin_means[:-skip_bins], label='Poisson')\n",
    "ax.plot(bin_means[:-skip_bins], bin_means[:-skip_bins]**2, label='Taylor')\n",
    "\n",
    "popt, pcov = curve_fit(fit_func, bin_means[:-skip_bins], bin_vars[:-skip_bins])\n",
    "ax.plot(bin_means[:-skip_bins], fit_func(bin_means[:-skip_bins], *popt), label=\"%.0f + x**%.1f\"%(popt[0],popt[1]))\n",
    "\n",
    "ax.set_xlabel(\"Heaps' mean\", fontsize=24)\n",
    "ax.set_ylabel(\"Heaps' var\", fontsize=24)\n",
    "ax.set_xscale('log')\n",
    "ax.set_yscale('log')\n",
    "ax.legend(fontsize=24)\n",
    "#ax.set_ylim(1e3,3e4)\n",
    "ax.set_xlim(np.nanmin(bin_means),np.nanmax(bin_means))\n",
    "plt.show()\n",
    "fig.savefig(\"heaps_Taylor.pdf\")"
   ]
  },
  {
   "cell_type": "code",
   "execution_count": null,
   "metadata": {
    "Collapsed": "false"
   },
   "outputs": [],
   "source": [
    "from scipy.integrate import quad"
   ]
  },
  {
   "cell_type": "code",
   "execution_count": null,
   "metadata": {
    "Collapsed": "false"
   },
   "outputs": [],
   "source": [
    "fit_bins = lambda x, a, b: a + np.power(x,b)\n",
    "\n",
    "fig = plt.figure(figsize=(10,6))\n",
    "plt.scatter(data[\"M\"], diffWords, label='samples')\n",
    "plt.xlabel(\"Realization size\", fontsize=24)\n",
    "plt.ylabel(\"#different words\", fontsize=24)\n",
    "n_bins=35\n",
    "bin_means, bin_edges, binnumber = stats.binned_statistic(data[\"M\"], diffWords,statistic='mean', bins=np.linspace(data[\"M\"].min(),max(data[\"M\"]), n_bins))\n",
    "bin_counts, bin_edges, binnumber = stats.binned_statistic(data[\"M\"], diffWords,statistic='count', bins=np.linspace(data[\"M\"].min(),max(data[\"M\"]), n_bins))\n",
    "\n",
    "skip_bins=(bin_counts<10).astype(int).sum()\n",
    "x_bins = ((bin_edges[:-1]+bin_edges[1:])/2)[:-skip_bins]\n",
    "\n",
    "plt.hlines(bin_means[:-skip_bins], bin_edges[:-1][:-skip_bins], bin_edges[1:][:-skip_bins], colors='r', lw=5, label='binned average')\n",
    "bin_stds, _, _ = stats.binned_statistic(data[\"M\"], diffWords,statistic='std', bins=np.linspace(M.min(),np.quantile(M, 0.9), n_bins))\n",
    "plt.errorbar(x_bins,bin_means[:-skip_bins], bin_stds[:-skip_bins], fmt='none', ecolor='orange', elinewidth=3)\n",
    "\n",
    "popt, pcov = curve_fit(fit_bins, x_bins, bin_means[:-skip_bins])\n",
    "\n",
    "plt.plot(np.linspace(500, 2e4), fit_bins(np.linspace(500, 2e4), *popt), lw=4, c='cyan')\n",
    "\n",
    "#plt.xscale('log')\n",
    "#plt.yscale('log')\n",
    "plt.xlim(0,max(data[\"M\"])*1.1)\n",
    "plt.legend(fontsize=20)\n",
    "plt.show()\n",
    "fig.savefig(\"heaps.pdf\")"
   ]
  },
  {
   "cell_type": "markdown",
   "metadata": {
    "Collapsed": "false"
   },
   "source": [
    "# Scaling"
   ]
  },
  {
   "cell_type": "markdown",
   "metadata": {
    "Collapsed": "true"
   },
   "source": [
    "## CV2"
   ]
  },
  {
   "cell_type": "code",
   "execution_count": null,
   "metadata": {
    "Collapsed": "false"
   },
   "outputs": [],
   "source": [
    "var = data[\"var\"].dropna()\n",
    "means = data[\"means\"].dropna()\n",
    "O = data[\"O\"].dropna()\n",
    "O = O[~O.duplicated()]\n",
    "means = means[~means.duplicated()]\n",
    "var = var[~var.duplicated()]\n",
    "means = means[var[var>1e-7].index].dropna()\n",
    "var = var.reindex_like(means)\n",
    "O = O.reindex_like(means)"
   ]
  },
  {
   "cell_type": "code",
   "execution_count": null,
   "metadata": {
    "Collapsed": "false"
   },
   "outputs": [],
   "source": [
    "df_genes=pd.read_csv(\"genes_gtex.txt\", header=0, index_col=0)\n",
    "df_genes.head()\n",
    "nc=df_genes[df_genes[\"type_of_gene\"]!=\"protein-coding\"].index\n",
    "pc=df_genes[df_genes[\"type_of_gene\"]==\"protein-coding\"].index\n",
    "genelist = pd.read_csv(\"https://stephenslab.github.io/count-clustering/project/utilities/gene_names_all_gtex.txt\", header=None).values.ravel()\n",
    "pc=pc[pc.isin(genelist)]"
   ]
  },
  {
   "cell_type": "code",
   "execution_count": null,
   "metadata": {
    "Collapsed": "false"
   },
   "outputs": [],
   "source": [
    "#select protein coding or noncoding\n",
    "means = means[means.index.isin(pc)]\n",
    "var = var.reindex_like(means)"
   ]
  },
  {
   "cell_type": "code",
   "execution_count": null,
   "metadata": {
    "Collapsed": "false"
   },
   "outputs": [],
   "source": [
    "fig, ax = plt.subplots(figsize=(18,15))\n",
    "ax.set_xlim(1e-3, 5e2)\n",
    "\n",
    "plotcv2mean(means.values.ravel(), var.values.ravel(), ax=ax, normalisation_str='counts', poisson_limit=1, alpha=0.5, s=255, colorbar=True)\n",
    "\n",
    "ax.tick_params(labelsize=35, width=8, length=20)\n",
    "ax.tick_params(axis=\"both\", which=\"minor\", width=5, length=10)\n",
    "\n",
    "upbound = len(data[\"M\"])-1\n",
    "x = np.logspace(-5,7)\n",
    "ax.plot(x,[upbound for _ in x], ls=\"--\", lw=15, c=\"orange\", label=\"R-1\")\n",
    "\n",
    "ax.legend(fontsize=30)\n",
    "ax.set_ylim(5e-1,5e5)\n",
    "plt.show()\n",
    "fig.savefig(f\"cv2_mean_dense_{data_source}.pdf\")\n",
    "fig.savefig(f\"cv2_mean_dense_{data_source}.png\", dpi=400)"
   ]
  },
  {
   "cell_type": "code",
   "execution_count": null,
   "metadata": {
    "Collapsed": "false"
   },
   "outputs": [],
   "source": [
    "import matplotlib.cm as cm\n",
    "from matplotlib.colors import Normalize\n",
    "\n",
    "fig, ax = plt.subplots(figsize=(18,15))\n",
    "\n",
    "#plt.scatter(means, var, c='gray', alpha=0.3, s=80, label='genes')\n",
    "plotvarmen(means.values, var.values, ax=ax, alpha=0.5, s=255, colorbar=True)\n",
    "\n",
    "ax.tick_params(labelsize=35, width=8, length=20)\n",
    "ax.set_ylim(1e-6,np.power(10,np.log10(var.max())+1))\n",
    "ax.set_xlim(1e-5,max(means)*1.5)\n",
    "ax.legend(fontsize=35)\n",
    "plt.show()\n",
    "fig.savefig(f\"var_mean_dense_{data_source}.pdf\")\n",
    "fig.savefig(f\"var_mean_dense_{data_source}.png\", dpi=400)"
   ]
  },
  {
   "cell_type": "markdown",
   "metadata": {
    "Collapsed": "true"
   },
   "source": [
    "# Single cell zipf"
   ]
  },
  {
   "cell_type": "code",
   "execution_count": 3,
   "metadata": {
    "Collapsed": "false"
   },
   "outputs": [],
   "source": [
    "df = pd.read_csv(\"mca/mainTable_Bone-Marrow_c-kit.csv\", header=0, index_col=0)\n",
    "M = df.sum(0)"
   ]
  },
  {
   "cell_type": "code",
   "execution_count": 4,
   "metadata": {
    "Collapsed": "false"
   },
   "outputs": [],
   "source": [
    "top100 = M.sort_values(ascending=False).index[:100].values"
   ]
  },
  {
   "cell_type": "code",
   "execution_count": 5,
   "metadata": {
    "Collapsed": "false"
   },
   "outputs": [],
   "source": [
    "np.save(\"top100_cells_bm.npy\", df[df.columns[df.columns.isin(top100)]].to_numpy())"
   ]
  },
  {
   "cell_type": "code",
   "execution_count": 6,
   "metadata": {
    "Collapsed": "false"
   },
   "outputs": [
    {
     "data": {
      "image/png": "[encoded data removed]",
      "text/plain": [
       "<Figure size 1296x1080 with 1 Axes>"
      ]
     },
     "metadata": {
      "needs_background": "light"
     },
     "output_type": "display_data"
    }
   ],
   "source": [
    "fig, ax = plt.subplots(figsize=(18,15))\n",
    "df[df.columns[df.columns.isin(top100)]].apply(lambda x: ax.plot((x.sort_values(ascending=False)/x.sum()).values), axis=0)\n",
    "\n",
    "x =np.linspace(1,6e3,10)\n",
    "\n",
    "exp = 0.8\n",
    "ax.plot(x, 1e-1*np.power(x, -0.8), lw=20, c='gray', ls='--')\n",
    "ax.annotate('$k*i^{-%.1f}$'%exp, (1e2,1e-2), fontsize=35)\n",
    "\n",
    "\n",
    "ax.set_ylabel(\"$Frequency, f_i$\", fontsize=35)\n",
    "ax.set_xlabel(\"$RANK, i$\", fontsize=35)\n",
    "\n",
    "ax.set_xscale(\"log\")\n",
    "ax.set_yscale(\"log\")\n",
    "\n",
    "ax.tick_params(labelsize=35, width=8, length=20)\n",
    "ax.tick_params(which=\"minor\", width=5, length=15)\n",
    "\n",
    "\n",
    "ax.set_xlim(1,2e4)\n",
    "ax.set_ylim(6e-5,1e-1)\n",
    "\n",
    "plt.show()\n",
    "fig.savefig(\"zipf_top100_mca.pdf\")\n",
    "fig.savefig(\"zipf_top100_mca.png\", dpi=400)\n",
    "\n"
   ]
  },
  {
   "cell_type": "markdown",
   "metadata": {
    "Collapsed": "true"
   },
   "source": [
    "# Mean vs Occurrence"
   ]
  },
  {
   "cell_type": "code",
   "execution_count": null,
   "metadata": {
    "Collapsed": "false"
   },
   "outputs": [],
   "source": [
    "fig=plt.figure(figsize=(10,8))\n",
    "nfiles = len(data[\"M\"])\n",
    "plt.scatter(O*nfiles, means, c='b', alpha=0.8, label='genes')\n",
    "#plt.scatter(O_null*len(M_null), means_null*5, c='orange', alpha=0.8, label='genes')\n",
    "\n",
    "x = np.linspace(1,nfiles)\n",
    "plt.plot(x, x/(nfiles), lw=4, label='bound', c='cyan', ls='--')\n",
    "\n",
    "\n",
    "bin_means, bin_edges, _ = stats.binned_statistic(O*nfiles, means, statistic='mean', bins=np.logspace(-3,6))\n",
    "x = (bin_edges[1:]+bin_edges[:-1])/2\n",
    "plt.scatter(x,bin_means, marker='x', c='r', label='binned average')\n",
    "plt.ylabel(\"$<counts>$\", fontsize=16)\n",
    "plt.xlabel(\"$\\Sigma_j\\Theta(counts)$\", fontsize=16)\n",
    "plt.xscale('log')\n",
    "plt.yscale('log')\n",
    "plt.ylim(means[means!=0].min()/5,np.power(10,np.log10(means.max())+1))\n",
    "plt.xlim(5e-1,nfiles+8000)\n",
    "plt.legend(fontsize=20)\n",
    "plt.show()\n",
    "fig.savefig(\"mean_occ.pdf\")"
   ]
  },
  {
   "cell_type": "code",
   "execution_count": null,
   "metadata": {
    "Collapsed": "false"
   },
   "outputs": [],
   "source": [
    "from scipy.optimize import curve_fit\n",
    "\n",
    "fig=plt.figure(figsize=(12,8))\n",
    "nfiles = len(data[\"M\"])\n",
    "means_nozero = means_nozero.dropna()\n",
    "x_data = O.reindex_like(means_nozero)*nfiles\n",
    "\n",
    "plt.scatter(x_data, means_nozero, c='b', alpha=0.8, label='genes')\n",
    "\n",
    "bin_means, bin_edges, _ = stats.binned_statistic(x_data, means_nozero, statistic='mean', bins=np.logspace(0,5,30))\n",
    "x = (bin_edges[1:]+bin_edges[:-1])/2.\n",
    "plt.scatter(x,bin_means, marker='x', c='r', label='binned average')\n",
    "\n",
    "bin_mins, _, _ = stats.binned_statistic(x_data, means_nozero, statistic='min', bins=np.logspace(0,5,30))\n",
    "#f = lambda x, a, b, c, d:np.exp(-a*x) + b*x + c + d*x*x\n",
    "#f = lambda x, a, C: C + np.power(a, -x)\n",
    "\n",
    "#popt, pcov = curve_fit(f, x[2:], bin_mins[2:] )\n",
    "#plt.scatter(x,bin_mins, marker='x', c='g', label='bound')\n",
    "#plt.plot(x,f(x, *popt), c='g', label='bound')\n",
    "\n",
    "\n",
    "plt.ylabel(\"$<counts(>0)>$\", fontsize=16)\n",
    "plt.xlabel(\"$\\Sigma_j\\Theta(counts)$\", fontsize=16)\n",
    "plt.xscale('log')\n",
    "plt.yscale('log')\n",
    "plt.ylim(0.5,np.power(10,np.log10(means.max())+1))\n",
    "plt.xlim(5e-1,nfiles+10000)\n",
    "plt.legend(fontsize=20)\n",
    "plt.show()\n",
    "fig.savefig(\"mean_occ_non_zero.pdf\")"
   ]
  },
  {
   "cell_type": "markdown",
   "metadata": {
    "Collapsed": "true"
   },
   "source": [
    "# M vs N_zeros"
   ]
  },
  {
   "cell_type": "code",
   "execution_count": null,
   "metadata": {
    "Collapsed": "false"
   },
   "outputs": [],
   "source": [
    "from scipy.optimize import curve_fit\n",
    "\n",
    "x_data = M\n",
    "y_data = cell_zeros/len(A)\n",
    "\n",
    "plt.scatter(x_data, y_data, label='cell')\n",
    "bin_means, bin_edges, _ = stats.binned_statistic(x_data, y_data, statistic='mean', bins=np.linspace(0,8000,10))\n",
    "x = ((bin_edges[1:]+bin_edges[:-1])/2.)[~np.isnan(bin_means)]\n",
    "bin_means = bin_means[~np.isnan(bin_means)]\n",
    "plt.scatter(x,bin_means, marker='x', c='r', label='binned average')\n",
    "\n",
    "fit_func = lambda x, a, C: C + a*x\n",
    "\n",
    "\n",
    "popt, pcov = curve_fit(fit_func, x, bin_means )\n",
    "plt.plot(x,fit_func(x, *popt), c='g', ls='--', label='fit (%.10f x + %.3f)'%(popt[0], popt[1]))\n",
    "\n",
    "plt.xlabel(\"M\")\n",
    "plt.ylabel(\"#zeri/#geni\")\n",
    "\n",
    "plt.legend()\n",
    "plt.show()"
   ]
  },
  {
   "cell_type": "code",
   "execution_count": null,
   "metadata": {
    "Collapsed": "false"
   },
   "outputs": [],
   "source": [
    "from scipy.optimize import curve_fit\n",
    "\n",
    "x_data = M\n",
    "y_data = np.log10(cell_zeros/len(A))\n",
    "\n",
    "plt.scatter(x_data, y_data, label='cell')\n",
    "bin_means, bin_edges, _ = stats.binned_statistic(x_data, y_data, statistic='mean', bins=np.linspace(0,4000,10))\n",
    "x = ((bin_edges[1:]+bin_edges[:-1])/2.)[~np.isnan(bin_means)]\n",
    "bin_means = bin_means[~np.isnan(bin_means)]\n",
    "plt.scatter(x,bin_means, marker='x', c='r', label='binned average')\n",
    "\n",
    "fit_func = lambda x, a, C: C + a*x\n",
    "\n",
    "\n",
    "popt, pcov = curve_fit(fit_func, x, bin_means )\n",
    "plt.plot(x,fit_func(x, *popt), c='g', ls='--', label='fit (%.5f x + %.3f)'%(popt[0], popt[1]))\n",
    "\n",
    "plt.xlabel(\"M\")\n",
    "plt.ylabel(\"log(#zeri/#geni)|M\")\n",
    "plt.xlim(0,8000)\n",
    "\n",
    "plt.legend()\n",
    "plt.show()"
   ]
  },
  {
   "cell_type": "code",
   "execution_count": null,
   "metadata": {
    "Collapsed": "false"
   },
   "outputs": [],
   "source": [
    "from scipy.optimize import curve_fit\n",
    "\n",
    "x_data = M\n",
    "y_data =cell_zeros/len(A)\n",
    "\n",
    "plt.scatter(x_data, np.log2(y_data), label='cell')\n",
    "bin_means, bin_edges, _ = stats.binned_statistic(x_data, y_data, statistic='mean', bins=np.linspace(0,4000,10))\n",
    "x = ((bin_edges[1:]+bin_edges[:-1])/2.)[~np.isnan(bin_means)]\n",
    "bin_means = bin_means[~np.isnan(bin_means)]\n",
    "plt.scatter(x,np.log2(bin_means), marker='x', c='r', label='binned average')\n",
    "\n",
    "fit_func = lambda x, a, C: C + a*x\n",
    "\n",
    "\n",
    "popt, pcov = curve_fit(fit_func, x, bin_means )\n",
    "plt.plot(x,np.log2(fit_func(x, *popt)), c='g', ls='--', label='fit (%.5f x + %.3f)'%(popt[0], popt[1]))\n",
    "\n",
    "plt.xlabel(\"M\")\n",
    "plt.ylabel(\"log(#zeri/#geni|M)\")\n",
    "\n",
    "plt.xlim(0,8000)\n",
    "\n",
    "plt.legend()\n",
    "plt.show()"
   ]
  },
  {
   "cell_type": "markdown",
   "metadata": {
    "Collapsed": "true"
   },
   "source": [
    "# P(0|M)"
   ]
  },
  {
   "cell_type": "code",
   "execution_count": null,
   "metadata": {
    "Collapsed": "false"
   },
   "outputs": [],
   "source": [
    "def p0m(df, M, limits = (100,110)):\n",
    "    M_sorted = M.sort_values(ascending=True)\n",
    "    quantiles = np.quantile(M, q=np.linspace(0,1,10)[:-1])\n",
    "    #quantiles = np.linspace(M.min(), M.max(), 20)\n",
    "    M_classes = pd.Series(index=M.index, data=np.digitize(M, quantiles))\n",
    "    f = df.mean(1)\n",
    "    f = f/f.sum()\n",
    "    f_ = df.apply(lambda x: x[x>0].mean(), 1)\n",
    "    f_ = f_/f_.sum()\n",
    "    ret = {}\n",
    "    for g in f.sort_values(ascending=False).index[limits[0]:limits[1]]:\n",
    "        genexpr = df.loc[g,:]\n",
    "        ret[g] =  [(genexpr[M_classes[M_classes==c].index]==0).astype(int).sum()/len(M_classes[M_classes==c]) for c in np.arange(len(quantiles))+1]\n",
    "        del genexpr\n",
    "        gc.collect()\n",
    "    return ret, quantiles, (f.sort_values(ascending=False)[limits[0]:limits[1]].mean(), f_.sort_values(ascending=False)[limits[0]:limits[1]].mean())"
   ]
  },
  {
   "cell_type": "code",
   "execution_count": null,
   "metadata": {
    "Collapsed": "false"
   },
   "outputs": [],
   "source": [
    "from scipy.optimize import curve_fit\n",
    "fig = plt.figure(figsize=(20,10))\n",
    "palette = itertools.cycle(sns.color_palette(palette=\"Set1\", n_colors=100, desat=.9))\n",
    "\n",
    "def markers():\n",
    "    for m in ['x', 'o', '.', ',', 'v', '>', '<', '1', '2', '3', '4', '5', '6', '7', '8', '9']:\n",
    "        yield m\n",
    "\n",
    "subdf = pd.read_csv(\"mca/mainTable_Bone-Marrow_c-kit.csv\", index_col=0)\n",
    "M = subdf.sum(0)\n",
    "results = pd.DataFrame(columns=[\"rank\", \"a\", \"b\", \"f\", \"f_\"])\n",
    "for under_limit in np.linspace(100, 2e4, num=10, dtype=int):\n",
    "    print(under_limit)\n",
    "    color = next(palette)\n",
    "    markers_cycle = markers()\n",
    "    p0mdata, M_bins, F = p0m(subdf, M, limits=(under_limit,under_limit+5))\n",
    "    tmp = []\n",
    "    for g in p0mdata.keys():\n",
    "        tmp.append(p0mdata[g])\n",
    "        plt.plot(M_bins, p0mdata[g], label=g, c=color, marker = next(markers_cycle))\n",
    "    tmp=np.average(tmp, 0)\n",
    "    try:\n",
    "        popt, pcov = curve_fit(lambda x, a, b: a - b*x, M_bins, tmp)\n",
    "        results = results.append(pd.Series(name=under_limit, data=[under_limit, popt[0], popt[1], F[0], F[1]], index=[\"rank\", \"a\", \"b\", \"f\", \"f_\"]))\n",
    "    except:\n",
    "        print(*sys.exc_info())\n",
    "del subdf\n",
    "del M\n",
    "plt.yscale('log')\n",
    "\n",
    "plt.xlabel(\"M\", fontsize=24)\n",
    "plt.ylabel(\"P(0|M)\")\n",
    "\n",
    "plt.ylim(5e-4,1)\n",
    "\n",
    "#plt.legend(ncol=3)\n",
    "fig.savefig(\"logpm.pdf\")\n",
    "fig.savefig(\"logpm.png\")"
   ]
  },
  {
   "cell_type": "code",
   "execution_count": null,
   "metadata": {
    "Collapsed": "false"
   },
   "outputs": [],
   "source": [
    "results"
   ]
  },
  {
   "cell_type": "code",
   "execution_count": null,
   "metadata": {
    "Collapsed": "false"
   },
   "outputs": [],
   "source": [
    "from matplotlib.ticker import FormatStrFormatter\n",
    "\n",
    "fig, ax = plt.subplots()\n",
    "\n",
    "\n",
    "\n",
    "ax.scatter(results[\"f\"], results[\"b\"], c=\"gray\", alpha=0.5, ls='--')\n",
    "\n",
    "ax.plot(results[\"f\"], results[\"f\"], ls='--')\n",
    "\n",
    "\n",
    "ax.set_xlim(results[\"f\"].min()*0.8, results[\"f\"].max()*1.5)\n",
    "ax.set_ylim(results[\"b\"].min()*0.8, results[\"b\"].max()*1.5)\n",
    "\n",
    "ax.set_xlabel(\"f\", fontsize=22)\n",
    "ax.set_ylabel(\"b\", fontsize=22)\n",
    "\n",
    "ax.set_xlim(results[\"f\"][results[\"f\"]>0].min()/10, results[\"f\"].max()*10)\n",
    "ax.set_ylim(results[\"b\"][results[\"b\"]>0].min()/10, results[\"b\"].max()*10)\n",
    "\n",
    "ax.set_xscale('log')\n",
    "ax.set_yscale('log')\n",
    "\n",
    "ax.xaxis.set_major_formatter(FormatStrFormatter('%.0E'))\n",
    "ax.yaxis.set_major_formatter(FormatStrFormatter('%.0E'))\n",
    "\n",
    "plt.show()\n",
    "fig.savefig(\"p0m_fbrelationship.pdf\")"
   ]
  },
  {
   "cell_type": "code",
   "execution_count": null,
   "metadata": {
    "Collapsed": "false"
   },
   "outputs": [],
   "source": [
    "subdf = pd.read_csv(\"mainTable_Bladder.csv\", index_col=0)\n",
    "M = subdf.sum(0)\n",
    "M_sorted = M.sort_values(ascending=True)\n",
    "quantiles = np.quantile(M, q=np.linspace(0,1,10)[:-1])\n",
    "#quantiles = np.linspace(M.min(), M.max(), 20)\n",
    "M_classes = pd.Series(index=M.index, data=np.digitize(M, quantiles))\n",
    "\n",
    "def extrapolate_b(genexpr):\n",
    "    tmp = [(genexpr[M_classes[M_classes==c].index]==0).astype(int).sum()/len(M_classes[M_classes==c]) for c in np.arange(len(quantiles))+1]\n",
    "    popt, pcov = curve_fit(lambda x, a, b: a - b*x, quantiles, tmp)\n",
    "    del tmp\n",
    "    return popt[1]\n",
    "bs = subdf.apply(extrapolate_b, 1)\n",
    "fs = subdf.mean(1)"
   ]
  },
  {
   "cell_type": "code",
   "execution_count": null,
   "metadata": {
    "Collapsed": "false"
   },
   "outputs": [],
   "source": [
    "from matplotlib.ticker import FormatStrFormatter\n",
    "\n",
    "fig, ax = plt.subplots()\n",
    "\n",
    "ax.scatter(fs,bs, c=\"gray\", alpha=0.5, ls='--')\n",
    "\n",
    "ax.set_xlim(fs.min()*0.8, results[\"f\"].max()*1.5)\n",
    "ax.set_ylim(bs.min()*0.8, results[\"b\"].max()*1.5)\n",
    "\n",
    "ax.set_xlabel(\"f\", fontsize=22)\n",
    "ax.set_ylabel(\"b\", fontsize=22)\n",
    "\n",
    "ax.set_xlim(1e-4, fs.max())\n",
    "\n",
    "ax.xaxis.set_major_formatter(FormatStrFormatter('%.0E'))\n",
    "ax.yaxis.set_major_formatter(FormatStrFormatter('%.0E'))\n",
    "\n",
    "ax.set_xscale('log')\n",
    "#ax.set_yscale('log')\n",
    "\n",
    "\n",
    "plt.show()\n",
    "\n",
    "fig.savefig(\"p0m_allgenes.pdf\")"
   ]
  },
  {
   "cell_type": "markdown",
   "metadata": {
    "Collapsed": "true"
   },
   "source": [
    "# Null model 1"
   ]
  },
  {
   "cell_type": "code",
   "execution_count": null,
   "metadata": {
    "Collapsed": "false"
   },
   "outputs": [],
   "source": [
    "tissue = \"Bone-Marrow_c-kit\"\n",
    "\n",
    "try:\n",
    "    data = load_tissue(tissue, \"null_1\")\n",
    "\n",
    "    means_null_1 = data['means']\n",
    "    var_null_1 = data['var']\n",
    "    f_null_1 = data['freq']\n",
    "    O_null_1 = data['O']\n",
    "    M_null_1 = data[\"M\"]\n",
    "    cv2_null_1 = data['cv2']\n",
    "    diffWords_null_1 = data['diffWords']\n",
    "    means_nozero_null_1 = data['means_nonzero']\n",
    "except:\n",
    "    print(*sys.exc_info())\n",
    "\n",
    "try:\n",
    "    data = load_tissue(tissue, \"mazzolini\")\n",
    "\n",
    "    means_null = data['means']\n",
    "    var_null = data['var']\n",
    "    f_null = data['freq']\n",
    "    O_null = data['O']\n",
    "    M_null = data[\"M\"]\n",
    "    cv2_null = data['cv2']\n",
    "    diffWords_null = data['diffWords']\n",
    "    means_nozero_null = data['means_nonzero']\n",
    "except:\n",
    "    print(*sys.exc_info())\n",
    "    \n",
    "data = load_tissue(tissue, \"data\")\n",
    "\n",
    "means = data['means']\n",
    "var = data['var']\n",
    "f = data['freq']\n",
    "O = data['O']\n",
    "M = data[\"M\"]\n",
    "cv2 = data['cv2']\n",
    "diffWords = data['diffWords']\n",
    "means_nozero = data['means_nonzero']\n",
    "#mazzolini(M, f, tissue)"
   ]
  },
  {
   "cell_type": "code",
   "execution_count": null,
   "metadata": {
    "Collapsed": "false"
   },
   "outputs": [],
   "source": [
    "fig = plt.figure(figsize=(15,8))\n",
    "x = np.arange(1, len(f))\n",
    "plt.ylabel(\"$Frequency, f_i$\", fontsize=24)\n",
    "plt.xlabel(\"$RANK, i$\", fontsize=24)\n",
    "plt.yscale('log')\n",
    "plt.xscale('log')\n",
    "#plt.ylim(1e-7,1)\n",
    "plt.plot(x, 1./x, 'g--', lw=2, label='$i^{-1}$')\n",
    "plt.plot(np.sort(f.reindex_like(f_null_1).dropna())[::-1], c='blue', lw=8, label='Genes')\n",
    "plt.plot(np.sort(f_null.reindex_like(f_null_1).dropna())[::-1], c='orange', ls='--', lw=6, label='null_model')\n",
    "plt.plot(np.sort(f_null_1/f_null_1.sum())[::-1], c='green', ls=':', lw=5, label='null_model_1')\n",
    "plt.legend(fontsize=24)\n",
    "plt.show()\n",
    "fig.savefig(\"zipf_null_0.pdf\")\n",
    "fig.savefig(\"zipf_null_0.png\")"
   ]
  },
  {
   "cell_type": "code",
   "execution_count": null,
   "metadata": {
    "Collapsed": "false"
   },
   "outputs": [],
   "source": [
    "fig = plt.figure(figsize=(10,6))\n",
    "plt.scatter(M, diffWords, label='samples')\n",
    "plt.scatter(M_null, diffWords_null, label='null_model')\n",
    "plt.xlabel(\"Realization size\", fontsize=22)\n",
    "plt.ylabel(\"#different words\", fontsize=22)\n",
    "#bin_means, bin_edges, binnumber = stats.binned_statistic(M, diffWords,statistic='mean', bins=np.linspace(0,max(M)))\n",
    "#plt.hlines(bin_means[:-15], bin_edges[:-1][:-15], bin_edges[1:][:-15], colors='r', lw=5, label='binned average')\n",
    "#plt.xscale('log')\n",
    "#plt.yscale('log')\n",
    "plt.xlim(0,max(M)*1.1)\n",
    "plt.legend(fontsize=20)\n",
    "plt.show()\n",
    "fig.savefig(\"heaps_null_o.pdf\")\n",
    "fig.savefig(\"heaps_null_o.png\")"
   ]
  },
  {
   "cell_type": "code",
   "execution_count": null,
   "metadata": {
    "Collapsed": "false"
   },
   "outputs": [],
   "source": [
    "fig, ax =plt.subplots(figsize=(15,8))\n",
    "ax.scatter(means_null.reindex_like(means.drop_duplicates()), cv2_null.reindex_like(means.drop_duplicates()), c='orange', label='mazzolini')\n",
    "ax.scatter(means_null_1.reindex_like(means.drop_duplicates()), cv2_null_1.reindex_like(means.drop_duplicates()), c='green', label='null model 0')\n",
    "plotcv2mean(means.values, var.values, ax=ax, normalisation_str='counts')\n",
    "fig.savefig(\"cvmean_loglog.pdf\")"
   ]
  },
  {
   "cell_type": "code",
   "execution_count": null,
   "metadata": {
    "Collapsed": "false"
   },
   "outputs": [],
   "source": [
    "bins = 10\n",
    "rang = (0-0.5/bins, 1+0.5/bins)\n",
    "fig, ax =plt.subplots(1,2, figsize=(20,10))\n",
    "ax[0].hist(np.array(O.dropna(), dtype=float), histtype='step', lw=5, range = rang, color='blue', density=True, bins=bins, label='data')\n",
    "if \"O_null\" in vars().keys():\n",
    "    ax[0].hist(np.array(O_null, dtype=float), histtype='step', lw=5, range = rang, bins=bins, color='orange', ls='--', density=True, label='Mazzolini')\n",
    "    \n",
    "if \"O_null_1\" in vars().keys():\n",
    "    ax[0].hist(np.array(O_null_1, dtype=float), histtype='step', lw=5, range = rang, bins=bins, color='green', ls='--', density=True, label='null_1')\n",
    "ax[0].set_xlabel(\"$o_i$\", fontsize=24)\n",
    "ax[0].set_ylabel(\"pdf\", fontsize=24)\n",
    "ax[0].legend(fontsize=20)\n",
    "\n",
    "ax[1].hist(np.array(O.dropna(), dtype=float), histtype='step', lw=5, range = rang, color='blue', density=True, bins=bins, label='data')\n",
    "if \"O_null\" in vars().keys():\n",
    "    ax[1].hist(np.array(O_null, dtype=float), histtype='step', lw=5, range = rang, bins=bins, color='orange', ls='--', density=True, label='Mazzolini')\n",
    "    \n",
    "if \"O_null_1\" in vars().keys():\n",
    "    ax[1].hist(np.array(O_null_1, dtype=float), histtype='step', lw=5, range = rang, bins=bins, color='green', ls='--', density=True, label='null_1')\n",
    "ax[1].set_xlabel(\"$o_i$\", fontsize=24)\n",
    "ax[1].set_ylabel(\"pdf\", fontsize=24)\n",
    "ax[1].legend(fontsize=20)\n",
    "\n",
    "ax[1].set_yscale('log')\n",
    "ax[1].set_xscale('log')\n",
    "\n",
    "plt.show()\n",
    "fig.savefig(\"U_null_0.pdf\")\n",
    "fig.savefig(\"U_null_0.png\")"
   ]
  },
  {
   "cell_type": "code",
   "execution_count": null,
   "metadata": {
    "Collapsed": "false"
   },
   "outputs": [],
   "source": []
  }
 ],
 "metadata": {
  "kernelspec": {
   "display_name": "Python 3",
   "language": "python",
   "name": "python3"
  },
  "language_info": {
   "codemirror_mode": {
    "name": "ipython",
    "version": 3
   },
   "file_extension": ".py",
   "mimetype": "text/x-python",
   "name": "python",
   "nbconvert_exporter": "python",
   "pygments_lexer": "ipython3",
   "version": "3.6.10"
  }
 },
 "nbformat": 4,
 "nbformat_minor": 4
}

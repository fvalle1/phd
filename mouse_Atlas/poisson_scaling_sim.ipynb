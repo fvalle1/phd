{
 "cells": [
  {
   "cell_type": "code",
   "execution_count": null,
   "id": "959430d6",
   "metadata": {},
   "outputs": [],
   "source": [
    "using Statistics\n",
    "using Distributions\n",
    "using Plotly"
   ]
  },
  {
   "cell_type": "code",
   "execution_count": null,
   "id": "ae23e1a5",
   "metadata": {},
   "outputs": [],
   "source": [
    "N = 1000;\n",
    "p = 1 ./ range(1, 100, length=N);\n",
    "p = p / sum(p);\n",
    "dist = Multinomial(5000, [x for x in p]);"
   ]
  },
  {
   "cell_type": "code",
   "execution_count": null,
   "id": "f5e0ba58",
   "metadata": {},
   "outputs": [],
   "source": [
    "x = [rand(dist) for _ in 1:N];\n",
    "mux = mean(x, dims=1)[1];\n",
    "sigmax = mean(x, dims=1)[1];\n",
    "cv2x = var(x) ./ mux ./ mux;\n",
    "\n",
    "k = 10;\n",
    "y = k * x;\n",
    "muy = mean(y, dims=1)[1];\n",
    "cv2y = var(y) ./ muy ./ muy;\n",
    "\n",
    "X = range(minimum(mux)[1],k * maximum(mux)[1], length=10);"
   ]
  },
  {
   "cell_type": "code",
   "execution_count": null,
   "id": "84401e75",
   "metadata": {},
   "outputs": [],
   "source": [
    "traces = [\n",
    "    scatter(x=mux,y=cv2x, mode=\"markers\", name=\"data\"),\n",
    "    scatter(x=X, y = 1 ./ X, mode = \"lines\", name=\"1/x\"),\n",
    "    scatter(x=muy,y=cv2y, mode=\"markers\", name=\"amplified data\"),\n",
    "    scatter(x=X, y = k ./ X, mode = \"lines\", name = \"k/x\"),\n",
    "]\n",
    "\n",
    "layout = Layout(\n",
    "    xaxis_type=\"log\",\n",
    "    xaxis_title=\"mean\",\n",
    "    yaxis_type=\"log\",\n",
    "    yaxis_title=\"cv2\"\n",
    ")\n",
    "\n",
    "Plotly.plot(traces, layout)"
   ]
  },
  {
   "cell_type": "code",
   "execution_count": null,
   "id": "0b3d7beb",
   "metadata": {},
   "outputs": [],
   "source": []
  }
 ],
 "metadata": {
  "kernelspec": {
   "display_name": "Julia 1.5.4",
   "language": "julia",
   "name": "julia-1.5"
  },
  "language_info": {
   "file_extension": ".jl",
   "mimetype": "application/julia",
   "name": "julia",
   "version": "1.5.4"
  }
 },
 "nbformat": 4,
 "nbformat_minor": 5
}

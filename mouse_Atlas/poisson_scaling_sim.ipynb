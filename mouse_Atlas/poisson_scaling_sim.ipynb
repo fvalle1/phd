{
 "cells": [
  {
   "cell_type": "code",
   "execution_count": 61,
   "id": "4f77f9c7",
   "metadata": {},
   "outputs": [],
   "source": [
    "import numpy as np\n",
    "import plotly.graph_objects as go"
   ]
  },
  {
   "cell_type": "code",
   "execution_count": 39,
   "id": "aae5a466",
   "metadata": {},
   "outputs": [],
   "source": [
    "f = 1./np.linspace(1,500)\n",
    "f = f/f.sum()\n",
    "x = np.random.multinomial(n=100, pvals=f, size=1000).T\n",
    "mu = x.mean(1)\n",
    "sigma_x = x.std(1)\n",
    "cv2_x = x.var(1)/mu/mu\n",
    "\n",
    "k = 500\n",
    "y = k * x\n",
    "mu_y = y.mean(1)\n",
    "cv2_y = y.var(1)/mu_y/mu_y"
   ]
  },
  {
   "cell_type": "code",
   "execution_count": 63,
   "id": "6ce79f56",
   "metadata": {},
   "outputs": [
    {
     "data": {
      "application/vnd.plotly.v1+json": {
       "config": {
        "plotlyServerURL": "https://plot.ly"
       },
       "data": [
        {
         "marker": {
          "size": 10
         },
         "mode": "markers",
         "name": "data",
         "type": "scatter",
         "x": [
          70.381,
          6.311,
          3.23,
          2.214,
          1.691,
          1.322,
          1.118,
          0.928,
          0.84,
          0.774,
          0.61,
          0.631,
          0.575,
          0.513,
          0.488,
          0.459,
          0.394,
          0.401,
          0.369,
          0.355,
          0.333,
          0.335,
          0.314,
          0.311,
          0.281,
          0.297,
          0.264,
          0.249,
          0.257,
          0.224,
          0.215,
          0.221,
          0.211,
          0.219,
          0.197,
          0.189,
          0.163,
          0.187,
          0.168,
          0.179,
          0.196,
          0.178,
          0.181,
          0.163,
          0.164,
          0.138,
          0.145,
          0.136,
          0.131,
          0.15
         ],
         "y": [
          0.004397679268630813,
          0.16275388305840818,
          0.2960921699623335,
          0.4235598543880676,
          0.5621715968736943,
          0.7978078416922006,
          0.8945151865233332,
          1.090145659928645,
          1.1825396825396948,
          1.233439496825105,
          1.6444504165546967,
          1.5743355074957153,
          1.7977315689981188,
          1.990473802005553,
          2.1409567320612344,
          2.137444762460804,
          2.5945270426962788,
          2.5385352081143746,
          2.6060252201437946,
          3.0547510414600656,
          2.976949922895803,
          2.8404989975495933,
          3.320662095825332,
          3.1045894893559822,
          3.521219336127945,
          3.4099808409573265,
          3.734848484848438,
          4.112820760955516,
          3.890308710199992,
          4.58035714285706,
          4.732828555976159,
          4.221023320570888,
          4.458098425462205,
          4.567023206355075,
          4.900693138189497,
          5.074857926709716,
          5.812450600323606,
          5.091109268208902,
          5.944444444444346,
          5.460472519584262,
          4.882965431070434,
          5.754197702310375,
          5.684777631940301,
          5.586623508600173,
          5.915526472337777,
          6.87649653434138,
          7.133174791914358,
          6.893598615916894,
          6.9832177612028,
          7.355555555555508
         ]
        },
        {
         "mode": "lines",
         "name": "1/x",
         "type": "scatter",
         "x": [
          0.131,
          718.3017959183672,
          1436.4725918367346,
          2154.6433877551017,
          2872.814183673469,
          3590.9849795918362,
          4309.155775510204,
          5027.326571428571,
          5745.4973673469385,
          6463.668163265306,
          7181.838959183673,
          7900.00975510204,
          8618.180551020407,
          9336.351346938774,
          10054.52214285714,
          10772.692938775508,
          11490.863734693876,
          12209.034530612244,
          12927.205326530611,
          13645.376122448977,
          14363.546918367345,
          15081.717714285713,
          15799.888510204079,
          16518.05930612245,
          17236.230102040816,
          17954.40089795918,
          18672.57169387755,
          19390.742489795917,
          20108.913285714283,
          20827.084081632653,
          21545.25487755102,
          22263.425673469388,
          22981.596469387754,
          23699.76726530612,
          24417.93806122449,
          25136.108857142855,
          25854.279653061225,
          26572.45044897959,
          27290.621244897957,
          28008.792040816326,
          28726.962836734692,
          29445.133632653058,
          30163.304428571428,
          30881.475224489794,
          31599.64602040816,
          32317.81681632653,
          33035.9876122449,
          33754.15840816326,
          34472.32920408163,
          35190.5
         ],
         "y": [
          7.633587786259541,
          0.0013921724902851932,
          0.000696149725155116,
          0.0004641139251548668,
          0.00034809073475169895,
          0.00027847512748818665,
          0.00023206401719872845,
          0.00019891287860295873,
          0.00017404933569080435,
          0.00015471091255631872,
          0.00013924010350040841,
          0.00012658212217449136,
          0.00011603377233511293,
          0.00010710822277782877,
          9.9457735115777e-05,
          9.282730007095758e-05,
          8.702565995807109e-05,
          8.190655841726523e-05,
          7.73562401726297e-05,
          7.328489819748018e-05,
          6.96206867066555e-05,
          6.630544470758656e-05,
          6.32915858459487e-05,
          6.053979958949222e-05,
          5.8017327111547285e-05,
          5.569665095946848e-05,
          5.355448710516316e-05,
          5.157100098287803e-05,
          4.972919151779411e-05,
          4.80144025961799e-05,
          4.6413932240919806e-05,
          4.491671743004348e-05,
          4.35130780114442e-05,
          4.2194507178300066e-05,
          4.095349891922254e-05,
          3.978340504822539e-05,
          3.867831606291135e-05,
          3.7632961322857637e-05,
          3.664262498923333e-05,
          3.5703074896722844e-05,
          3.4810502094612205e-05,
          3.3961469235481893e-05,
          3.315286633691152e-05,
          3.238187271594378e-05,
          3.164592411428169e-05,
          3.0942684206775176e-05,
          3.0270019826177277e-05,
          2.962597935068514e-05,
          2.9008773793028087e-05,
          2.8416760205169008e-05
         ]
        },
        {
         "marker": {
          "size": 10
         },
         "mode": "markers",
         "name": "ampl data",
         "type": "scatter",
         "x": [
          35190.5,
          3155.5,
          1615,
          1107,
          845.5,
          661,
          559,
          464,
          420,
          387,
          305,
          315.5,
          287.5,
          256.5,
          244,
          229.5,
          197,
          200.5,
          184.5,
          177.5,
          166.5,
          167.5,
          157,
          155.5,
          140.5,
          148.5,
          132,
          124.5,
          128.5,
          112,
          107.5,
          110.5,
          105.5,
          109.5,
          98.5,
          94.5,
          81.5,
          93.5,
          84,
          89.5,
          98,
          89,
          90.5,
          81.5,
          82,
          69,
          72.5,
          68,
          65.5,
          75
         ],
         "y": [
          0.0043976792686308,
          0.16275388305840902,
          0.29609216996233073,
          0.4235598543880651,
          0.5621715968736984,
          0.7978078416922052,
          0.8945151865233406,
          1.0901456599286563,
          1.1825396825396826,
          1.2334394968251106,
          1.6444504165546896,
          1.5743355074957115,
          1.7977315689981095,
          1.9904738020055552,
          2.140956732061274,
          2.137444762460782,
          2.594527042696282,
          2.5385352081143773,
          2.6060252201438003,
          3.054751041460028,
          2.976949922895869,
          2.8404989975495654,
          3.3206620958253885,
          3.1045894893559827,
          3.5212193361279622,
          3.4099808409572723,
          3.734848484848485,
          4.112820760955469,
          3.8903087102000034,
          4.580357142857143,
          4.732828555976203,
          4.221023320570832,
          4.458098425462142,
          4.567023206355164,
          4.900693138189595,
          5.074857926709779,
          5.812450600323686,
          5.091109268208985,
          5.944444444444445,
          5.4604725195842825,
          4.882965431070387,
          5.754197702310315,
          5.684777631940417,
          5.5866235086002485,
          5.915526472337894,
          6.876496534341524,
          7.133174791914388,
          6.893598615916955,
          6.983217761202727,
          7.355555555555555
         ]
        },
        {
         "mode": "lines",
         "name": "1/x+log(k)",
         "type": "scatter",
         "x": [
          0.131,
          718.3017959183672,
          1436.4725918367346,
          2154.6433877551017,
          2872.814183673469,
          3590.9849795918362,
          4309.155775510204,
          5027.326571428571,
          5745.4973673469385,
          6463.668163265306,
          7181.838959183673,
          7900.00975510204,
          8618.180551020407,
          9336.351346938774,
          10054.52214285714,
          10772.692938775508,
          11490.863734693876,
          12209.034530612244,
          12927.205326530611,
          13645.376122448977,
          14363.546918367345,
          15081.717714285713,
          15799.888510204079,
          16518.05930612245,
          17236.230102040816,
          17954.40089795918,
          18672.57169387755,
          19390.742489795917,
          20108.913285714283,
          20827.084081632653,
          21545.25487755102,
          22263.425673469388,
          22981.596469387754,
          23699.76726530612,
          24417.93806122449,
          25136.108857142855,
          25854.279653061225,
          26572.45044897959,
          27290.621244897957,
          28008.792040816326,
          28726.962836734692,
          29445.133632653058,
          30163.304428571428,
          30881.475224489794,
          31599.64602040816,
          32317.81681632653,
          33035.9876122449,
          33754.15840816326,
          34472.32920408163,
          35190.5
         ],
         "y": [
          3816.793893129771,
          0.6960862451425966,
          0.34807486257755804,
          0.2320569625774334,
          0.17404536737584947,
          0.13923756374409332,
          0.11603200859936423,
          0.09945643930147936,
          0.08702466784540218,
          0.07735545627815936,
          0.0696200517502042,
          0.06329106108724568,
          0.058016886167556465,
          0.05355411138891439,
          0.0497288675578885,
          0.046413650035478794,
          0.04351282997903554,
          0.04095327920863261,
          0.038678120086314854,
          0.036642449098740086,
          0.03481034335332775,
          0.033152722353793275,
          0.03164579292297435,
          0.03026989979474611,
          0.02900866355577364,
          0.02784832547973424,
          0.02677724355258158,
          0.025785500491439014,
          0.024864595758897056,
          0.02400720129808995,
          0.023206966120459905,
          0.02245835871502174,
          0.0217565390057221,
          0.021097253589150034,
          0.020476749459611268,
          0.019891702524112695,
          0.019339158031455674,
          0.018816480661428818,
          0.018321312494616666,
          0.01785153744836142,
          0.017405251047306104,
          0.016980734617740946,
          0.01657643316845576,
          0.01619093635797189,
          0.015822962057140844,
          0.015471342103387587,
          0.015135009913088639,
          0.01481298967534257,
          0.014504386896514045,
          0.014208380102584505
         ]
        }
       ],
       "layout": {
        "autosize": true,
        "template": {
         "data": {
          "bar": [
           {
            "error_x": {
             "color": "#2a3f5f"
            },
            "error_y": {
             "color": "#2a3f5f"
            },
            "marker": {
             "line": {
              "color": "#E5ECF6",
              "width": 0.5
             }
            },
            "type": "bar"
           }
          ],
          "barpolar": [
           {
            "marker": {
             "line": {
              "color": "#E5ECF6",
              "width": 0.5
             }
            },
            "type": "barpolar"
           }
          ],
          "carpet": [
           {
            "aaxis": {
             "endlinecolor": "#2a3f5f",
             "gridcolor": "white",
             "linecolor": "white",
             "minorgridcolor": "white",
             "startlinecolor": "#2a3f5f"
            },
            "baxis": {
             "endlinecolor": "#2a3f5f",
             "gridcolor": "white",
             "linecolor": "white",
             "minorgridcolor": "white",
             "startlinecolor": "#2a3f5f"
            },
            "type": "carpet"
           }
          ],
          "choropleth": [
           {
            "colorbar": {
             "outlinewidth": 0,
             "ticks": ""
            },
            "type": "choropleth"
           }
          ],
          "contour": [
           {
            "colorbar": {
             "outlinewidth": 0,
             "ticks": ""
            },
            "colorscale": [
             [
              0,
              "#0d0887"
             ],
             [
              0.1111111111111111,
              "#46039f"
             ],
             [
              0.2222222222222222,
              "#7201a8"
             ],
             [
              0.3333333333333333,
              "#9c179e"
             ],
             [
              0.4444444444444444,
              "#bd3786"
             ],
             [
              0.5555555555555556,
              "#d8576b"
             ],
             [
              0.6666666666666666,
              "#ed7953"
             ],
             [
              0.7777777777777778,
              "#fb9f3a"
             ],
             [
              0.8888888888888888,
              "#fdca26"
             ],
             [
              1,
              "#f0f921"
             ]
            ],
            "type": "contour"
           }
          ],
          "contourcarpet": [
           {
            "colorbar": {
             "outlinewidth": 0,
             "ticks": ""
            },
            "type": "contourcarpet"
           }
          ],
          "heatmap": [
           {
            "colorbar": {
             "outlinewidth": 0,
             "ticks": ""
            },
            "colorscale": [
             [
              0,
              "#0d0887"
             ],
             [
              0.1111111111111111,
              "#46039f"
             ],
             [
              0.2222222222222222,
              "#7201a8"
             ],
             [
              0.3333333333333333,
              "#9c179e"
             ],
             [
              0.4444444444444444,
              "#bd3786"
             ],
             [
              0.5555555555555556,
              "#d8576b"
             ],
             [
              0.6666666666666666,
              "#ed7953"
             ],
             [
              0.7777777777777778,
              "#fb9f3a"
             ],
             [
              0.8888888888888888,
              "#fdca26"
             ],
             [
              1,
              "#f0f921"
             ]
            ],
            "type": "heatmap"
           }
          ],
          "heatmapgl": [
           {
            "colorbar": {
             "outlinewidth": 0,
             "ticks": ""
            },
            "colorscale": [
             [
              0,
              "#0d0887"
             ],
             [
              0.1111111111111111,
              "#46039f"
             ],
             [
              0.2222222222222222,
              "#7201a8"
             ],
             [
              0.3333333333333333,
              "#9c179e"
             ],
             [
              0.4444444444444444,
              "#bd3786"
             ],
             [
              0.5555555555555556,
              "#d8576b"
             ],
             [
              0.6666666666666666,
              "#ed7953"
             ],
             [
              0.7777777777777778,
              "#fb9f3a"
             ],
             [
              0.8888888888888888,
              "#fdca26"
             ],
             [
              1,
              "#f0f921"
             ]
            ],
            "type": "heatmapgl"
           }
          ],
          "histogram": [
           {
            "marker": {
             "colorbar": {
              "outlinewidth": 0,
              "ticks": ""
             }
            },
            "type": "histogram"
           }
          ],
          "histogram2d": [
           {
            "colorbar": {
             "outlinewidth": 0,
             "ticks": ""
            },
            "colorscale": [
             [
              0,
              "#0d0887"
             ],
             [
              0.1111111111111111,
              "#46039f"
             ],
             [
              0.2222222222222222,
              "#7201a8"
             ],
             [
              0.3333333333333333,
              "#9c179e"
             ],
             [
              0.4444444444444444,
              "#bd3786"
             ],
             [
              0.5555555555555556,
              "#d8576b"
             ],
             [
              0.6666666666666666,
              "#ed7953"
             ],
             [
              0.7777777777777778,
              "#fb9f3a"
             ],
             [
              0.8888888888888888,
              "#fdca26"
             ],
             [
              1,
              "#f0f921"
             ]
            ],
            "type": "histogram2d"
           }
          ],
          "histogram2dcontour": [
           {
            "colorbar": {
             "outlinewidth": 0,
             "ticks": ""
            },
            "colorscale": [
             [
              0,
              "#0d0887"
             ],
             [
              0.1111111111111111,
              "#46039f"
             ],
             [
              0.2222222222222222,
              "#7201a8"
             ],
             [
              0.3333333333333333,
              "#9c179e"
             ],
             [
              0.4444444444444444,
              "#bd3786"
             ],
             [
              0.5555555555555556,
              "#d8576b"
             ],
             [
              0.6666666666666666,
              "#ed7953"
             ],
             [
              0.7777777777777778,
              "#fb9f3a"
             ],
             [
              0.8888888888888888,
              "#fdca26"
             ],
             [
              1,
              "#f0f921"
             ]
            ],
            "type": "histogram2dcontour"
           }
          ],
          "mesh3d": [
           {
            "colorbar": {
             "outlinewidth": 0,
             "ticks": ""
            },
            "type": "mesh3d"
           }
          ],
          "parcoords": [
           {
            "line": {
             "colorbar": {
              "outlinewidth": 0,
              "ticks": ""
             }
            },
            "type": "parcoords"
           }
          ],
          "pie": [
           {
            "automargin": true,
            "type": "pie"
           }
          ],
          "scatter": [
           {
            "marker": {
             "colorbar": {
              "outlinewidth": 0,
              "ticks": ""
             }
            },
            "type": "scatter"
           }
          ],
          "scatter3d": [
           {
            "line": {
             "colorbar": {
              "outlinewidth": 0,
              "ticks": ""
             }
            },
            "marker": {
             "colorbar": {
              "outlinewidth": 0,
              "ticks": ""
             }
            },
            "type": "scatter3d"
           }
          ],
          "scattercarpet": [
           {
            "marker": {
             "colorbar": {
              "outlinewidth": 0,
              "ticks": ""
             }
            },
            "type": "scattercarpet"
           }
          ],
          "scattergeo": [
           {
            "marker": {
             "colorbar": {
              "outlinewidth": 0,
              "ticks": ""
             }
            },
            "type": "scattergeo"
           }
          ],
          "scattergl": [
           {
            "marker": {
             "colorbar": {
              "outlinewidth": 0,
              "ticks": ""
             }
            },
            "type": "scattergl"
           }
          ],
          "scattermapbox": [
           {
            "marker": {
             "colorbar": {
              "outlinewidth": 0,
              "ticks": ""
             }
            },
            "type": "scattermapbox"
           }
          ],
          "scatterpolar": [
           {
            "marker": {
             "colorbar": {
              "outlinewidth": 0,
              "ticks": ""
             }
            },
            "type": "scatterpolar"
           }
          ],
          "scatterpolargl": [
           {
            "marker": {
             "colorbar": {
              "outlinewidth": 0,
              "ticks": ""
             }
            },
            "type": "scatterpolargl"
           }
          ],
          "scatterternary": [
           {
            "marker": {
             "colorbar": {
              "outlinewidth": 0,
              "ticks": ""
             }
            },
            "type": "scatterternary"
           }
          ],
          "surface": [
           {
            "colorbar": {
             "outlinewidth": 0,
             "ticks": ""
            },
            "colorscale": [
             [
              0,
              "#0d0887"
             ],
             [
              0.1111111111111111,
              "#46039f"
             ],
             [
              0.2222222222222222,
              "#7201a8"
             ],
             [
              0.3333333333333333,
              "#9c179e"
             ],
             [
              0.4444444444444444,
              "#bd3786"
             ],
             [
              0.5555555555555556,
              "#d8576b"
             ],
             [
              0.6666666666666666,
              "#ed7953"
             ],
             [
              0.7777777777777778,
              "#fb9f3a"
             ],
             [
              0.8888888888888888,
              "#fdca26"
             ],
             [
              1,
              "#f0f921"
             ]
            ],
            "type": "surface"
           }
          ],
          "table": [
           {
            "cells": {
             "fill": {
              "color": "#EBF0F8"
             },
             "line": {
              "color": "white"
             }
            },
            "header": {
             "fill": {
              "color": "#C8D4E3"
             },
             "line": {
              "color": "white"
             }
            },
            "type": "table"
           }
          ]
         },
         "layout": {
          "annotationdefaults": {
           "arrowcolor": "#2a3f5f",
           "arrowhead": 0,
           "arrowwidth": 1
          },
          "autotypenumbers": "strict",
          "coloraxis": {
           "colorbar": {
            "outlinewidth": 0,
            "ticks": ""
           }
          },
          "colorscale": {
           "diverging": [
            [
             0,
             "#8e0152"
            ],
            [
             0.1,
             "#c51b7d"
            ],
            [
             0.2,
             "#de77ae"
            ],
            [
             0.3,
             "#f1b6da"
            ],
            [
             0.4,
             "#fde0ef"
            ],
            [
             0.5,
             "#f7f7f7"
            ],
            [
             0.6,
             "#e6f5d0"
            ],
            [
             0.7,
             "#b8e186"
            ],
            [
             0.8,
             "#7fbc41"
            ],
            [
             0.9,
             "#4d9221"
            ],
            [
             1,
             "#276419"
            ]
           ],
           "sequential": [
            [
             0,
             "#0d0887"
            ],
            [
             0.1111111111111111,
             "#46039f"
            ],
            [
             0.2222222222222222,
             "#7201a8"
            ],
            [
             0.3333333333333333,
             "#9c179e"
            ],
            [
             0.4444444444444444,
             "#bd3786"
            ],
            [
             0.5555555555555556,
             "#d8576b"
            ],
            [
             0.6666666666666666,
             "#ed7953"
            ],
            [
             0.7777777777777778,
             "#fb9f3a"
            ],
            [
             0.8888888888888888,
             "#fdca26"
            ],
            [
             1,
             "#f0f921"
            ]
           ],
           "sequentialminus": [
            [
             0,
             "#0d0887"
            ],
            [
             0.1111111111111111,
             "#46039f"
            ],
            [
             0.2222222222222222,
             "#7201a8"
            ],
            [
             0.3333333333333333,
             "#9c179e"
            ],
            [
             0.4444444444444444,
             "#bd3786"
            ],
            [
             0.5555555555555556,
             "#d8576b"
            ],
            [
             0.6666666666666666,
             "#ed7953"
            ],
            [
             0.7777777777777778,
             "#fb9f3a"
            ],
            [
             0.8888888888888888,
             "#fdca26"
            ],
            [
             1,
             "#f0f921"
            ]
           ]
          },
          "colorway": [
           "#636efa",
           "#EF553B",
           "#00cc96",
           "#ab63fa",
           "#FFA15A",
           "#19d3f3",
           "#FF6692",
           "#B6E880",
           "#FF97FF",
           "#FECB52"
          ],
          "font": {
           "color": "#2a3f5f"
          },
          "geo": {
           "bgcolor": "white",
           "lakecolor": "white",
           "landcolor": "#E5ECF6",
           "showlakes": true,
           "showland": true,
           "subunitcolor": "white"
          },
          "hoverlabel": {
           "align": "left"
          },
          "hovermode": "closest",
          "mapbox": {
           "style": "light"
          },
          "paper_bgcolor": "white",
          "plot_bgcolor": "#E5ECF6",
          "polar": {
           "angularaxis": {
            "gridcolor": "white",
            "linecolor": "white",
            "ticks": ""
           },
           "bgcolor": "#E5ECF6",
           "radialaxis": {
            "gridcolor": "white",
            "linecolor": "white",
            "ticks": ""
           }
          },
          "scene": {
           "xaxis": {
            "backgroundcolor": "#E5ECF6",
            "gridcolor": "white",
            "gridwidth": 2,
            "linecolor": "white",
            "showbackground": true,
            "ticks": "",
            "zerolinecolor": "white"
           },
           "yaxis": {
            "backgroundcolor": "#E5ECF6",
            "gridcolor": "white",
            "gridwidth": 2,
            "linecolor": "white",
            "showbackground": true,
            "ticks": "",
            "zerolinecolor": "white"
           },
           "zaxis": {
            "backgroundcolor": "#E5ECF6",
            "gridcolor": "white",
            "gridwidth": 2,
            "linecolor": "white",
            "showbackground": true,
            "ticks": "",
            "zerolinecolor": "white"
           }
          },
          "shapedefaults": {
           "line": {
            "color": "#2a3f5f"
           }
          },
          "ternary": {
           "aaxis": {
            "gridcolor": "white",
            "linecolor": "white",
            "ticks": ""
           },
           "baxis": {
            "gridcolor": "white",
            "linecolor": "white",
            "ticks": ""
           },
           "bgcolor": "#E5ECF6",
           "caxis": {
            "gridcolor": "white",
            "linecolor": "white",
            "ticks": ""
           }
          },
          "title": {
           "x": 0.05
          },
          "xaxis": {
           "automargin": true,
           "gridcolor": "white",
           "linecolor": "white",
           "ticks": "",
           "title": {
            "standoff": 15
           },
           "zerolinecolor": "white",
           "zerolinewidth": 2
          },
          "yaxis": {
           "automargin": true,
           "gridcolor": "white",
           "linecolor": "white",
           "ticks": "",
           "title": {
            "standoff": 15
           },
           "zerolinecolor": "white",
           "zerolinewidth": 2
          }
         }
        },
        "xaxis": {
         "autorange": true,
         "range": [
          -1.2452275316739039,
          4.908924264829773
         ],
         "title": {
          "text": "mu"
         },
         "type": "log"
        },
        "yaxis": {
         "autorange": true,
         "range": [
          -4.99798789006568,
          4.03326116124583
         ],
         "title": {
          "text": "cv2"
         },
         "type": "log"
        }
       }
      },
      "image/png": "[encoded data removed]",
      "text/html": [
       "<div>                            <div id=\"683eabdf-c35b-49ba-967a-9b2ef5bad137\" class=\"plotly-graph-div\" style=\"height:525px; width:100%;\"></div>            <script type=\"text/javascript\">                require([\"plotly\"], function(Plotly) {                    window.PLOTLYENV=window.PLOTLYENV || {};                                    if (document.getElementById(\"683eabdf-c35b-49ba-967a-9b2ef5bad137\")) {                    Plotly.newPlot(                        \"683eabdf-c35b-49ba-967a-9b2ef5bad137\",                        [{\"marker\": {\"size\": 10}, \"mode\": \"markers\", \"name\": \"data\", \"type\": \"scatter\", \"x\": [70.381, 6.311, 3.23, 2.214, 1.691, 1.322, 1.118, 0.928, 0.84, 0.774, 0.61, 0.631, 0.575, 0.513, 0.488, 0.459, 0.394, 0.401, 0.369, 0.355, 0.333, 0.335, 0.314, 0.311, 0.281, 0.297, 0.264, 0.249, 0.257, 0.224, 0.215, 0.221, 0.211, 0.219, 0.197, 0.189, 0.163, 0.187, 0.168, 0.179, 0.196, 0.178, 0.181, 0.163, 0.164, 0.138, 0.145, 0.136, 0.131, 0.15], \"y\": [0.004397679268630813, 0.16275388305840818, 0.2960921699623335, 0.4235598543880676, 0.5621715968736943, 0.7978078416922006, 0.8945151865233332, 1.090145659928645, 1.1825396825396948, 1.233439496825105, 1.6444504165546967, 1.5743355074957153, 1.7977315689981188, 1.990473802005553, 2.1409567320612344, 2.137444762460804, 2.5945270426962788, 2.5385352081143746, 2.6060252201437946, 3.0547510414600656, 2.976949922895803, 2.8404989975495933, 3.320662095825332, 3.1045894893559822, 3.521219336127945, 3.4099808409573265, 3.734848484848438, 4.112820760955516, 3.890308710199992, 4.58035714285706, 4.732828555976159, 4.221023320570888, 4.458098425462205, 4.567023206355075, 4.900693138189497, 5.074857926709716, 5.812450600323606, 5.091109268208902, 5.944444444444346, 5.460472519584262, 4.882965431070434, 5.754197702310375, 5.684777631940301, 5.586623508600173, 5.915526472337777, 6.87649653434138, 7.133174791914358, 6.893598615916894, 6.9832177612028, 7.355555555555508]}, {\"mode\": \"lines\", \"name\": \"1/x\", \"type\": \"scatter\", \"x\": [0.131, 718.3017959183672, 1436.4725918367346, 2154.6433877551017, 2872.814183673469, 3590.9849795918362, 4309.155775510204, 5027.326571428571, 5745.4973673469385, 6463.668163265306, 7181.838959183673, 7900.00975510204, 8618.180551020407, 9336.351346938774, 10054.52214285714, 10772.692938775508, 11490.863734693876, 12209.034530612244, 12927.205326530611, 13645.376122448977, 14363.546918367345, 15081.717714285713, 15799.888510204079, 16518.05930612245, 17236.230102040816, 17954.40089795918, 18672.57169387755, 19390.742489795917, 20108.913285714283, 20827.084081632653, 21545.25487755102, 22263.425673469388, 22981.596469387754, 23699.76726530612, 24417.93806122449, 25136.108857142855, 25854.279653061225, 26572.45044897959, 27290.621244897957, 28008.792040816326, 28726.962836734692, 29445.133632653058, 30163.304428571428, 30881.475224489794, 31599.64602040816, 32317.81681632653, 33035.9876122449, 33754.15840816326, 34472.32920408163, 35190.5], \"y\": [7.633587786259541, 0.0013921724902851932, 0.000696149725155116, 0.0004641139251548668, 0.00034809073475169895, 0.00027847512748818665, 0.00023206401719872845, 0.00019891287860295873, 0.00017404933569080435, 0.00015471091255631872, 0.00013924010350040841, 0.00012658212217449136, 0.00011603377233511293, 0.00010710822277782877, 9.9457735115777e-05, 9.282730007095758e-05, 8.702565995807109e-05, 8.190655841726523e-05, 7.73562401726297e-05, 7.328489819748018e-05, 6.96206867066555e-05, 6.630544470758656e-05, 6.32915858459487e-05, 6.053979958949222e-05, 5.8017327111547285e-05, 5.569665095946848e-05, 5.355448710516316e-05, 5.157100098287803e-05, 4.972919151779411e-05, 4.80144025961799e-05, 4.6413932240919806e-05, 4.491671743004348e-05, 4.35130780114442e-05, 4.2194507178300066e-05, 4.095349891922254e-05, 3.978340504822539e-05, 3.867831606291135e-05, 3.7632961322857637e-05, 3.664262498923333e-05, 3.5703074896722844e-05, 3.4810502094612205e-05, 3.3961469235481893e-05, 3.315286633691152e-05, 3.238187271594378e-05, 3.164592411428169e-05, 3.0942684206775176e-05, 3.0270019826177277e-05, 2.962597935068514e-05, 2.9008773793028087e-05, 2.8416760205169008e-05]}, {\"marker\": {\"size\": 10}, \"mode\": \"markers\", \"name\": \"ampl data\", \"type\": \"scatter\", \"x\": [35190.5, 3155.5, 1615.0, 1107.0, 845.5, 661.0, 559.0, 464.0, 420.0, 387.0, 305.0, 315.5, 287.5, 256.5, 244.0, 229.5, 197.0, 200.5, 184.5, 177.5, 166.5, 167.5, 157.0, 155.5, 140.5, 148.5, 132.0, 124.5, 128.5, 112.0, 107.5, 110.5, 105.5, 109.5, 98.5, 94.5, 81.5, 93.5, 84.0, 89.5, 98.0, 89.0, 90.5, 81.5, 82.0, 69.0, 72.5, 68.0, 65.5, 75.0], \"y\": [0.0043976792686308, 0.16275388305840902, 0.29609216996233073, 0.4235598543880651, 0.5621715968736984, 0.7978078416922052, 0.8945151865233406, 1.0901456599286563, 1.1825396825396826, 1.2334394968251106, 1.6444504165546896, 1.5743355074957115, 1.7977315689981095, 1.9904738020055552, 2.140956732061274, 2.137444762460782, 2.594527042696282, 2.5385352081143773, 2.6060252201438003, 3.054751041460028, 2.976949922895869, 2.8404989975495654, 3.3206620958253885, 3.1045894893559827, 3.5212193361279622, 3.4099808409572723, 3.734848484848485, 4.112820760955469, 3.8903087102000034, 4.580357142857143, 4.732828555976203, 4.221023320570832, 4.458098425462142, 4.567023206355164, 4.900693138189595, 5.074857926709779, 5.812450600323686, 5.091109268208985, 5.944444444444445, 5.4604725195842825, 4.882965431070387, 5.754197702310315, 5.684777631940417, 5.5866235086002485, 5.915526472337894, 6.876496534341524, 7.133174791914388, 6.893598615916955, 6.983217761202727, 7.355555555555555]}, {\"mode\": \"lines\", \"name\": \"1/x+log(k)\", \"type\": \"scatter\", \"x\": [0.131, 718.3017959183672, 1436.4725918367346, 2154.6433877551017, 2872.814183673469, 3590.9849795918362, 4309.155775510204, 5027.326571428571, 5745.4973673469385, 6463.668163265306, 7181.838959183673, 7900.00975510204, 8618.180551020407, 9336.351346938774, 10054.52214285714, 10772.692938775508, 11490.863734693876, 12209.034530612244, 12927.205326530611, 13645.376122448977, 14363.546918367345, 15081.717714285713, 15799.888510204079, 16518.05930612245, 17236.230102040816, 17954.40089795918, 18672.57169387755, 19390.742489795917, 20108.913285714283, 20827.084081632653, 21545.25487755102, 22263.425673469388, 22981.596469387754, 23699.76726530612, 24417.93806122449, 25136.108857142855, 25854.279653061225, 26572.45044897959, 27290.621244897957, 28008.792040816326, 28726.962836734692, 29445.133632653058, 30163.304428571428, 30881.475224489794, 31599.64602040816, 32317.81681632653, 33035.9876122449, 33754.15840816326, 34472.32920408163, 35190.5], \"y\": [3816.793893129771, 0.6960862451425966, 0.34807486257755804, 0.2320569625774334, 0.17404536737584947, 0.13923756374409332, 0.11603200859936423, 0.09945643930147936, 0.08702466784540218, 0.07735545627815936, 0.0696200517502042, 0.06329106108724568, 0.058016886167556465, 0.05355411138891439, 0.0497288675578885, 0.046413650035478794, 0.04351282997903554, 0.04095327920863261, 0.038678120086314854, 0.036642449098740086, 0.03481034335332775, 0.033152722353793275, 0.03164579292297435, 0.03026989979474611, 0.02900866355577364, 0.02784832547973424, 0.02677724355258158, 0.025785500491439014, 0.024864595758897056, 0.02400720129808995, 0.023206966120459905, 0.02245835871502174, 0.0217565390057221, 0.021097253589150034, 0.020476749459611268, 0.019891702524112695, 0.019339158031455674, 0.018816480661428818, 0.018321312494616666, 0.01785153744836142, 0.017405251047306104, 0.016980734617740946, 0.01657643316845576, 0.01619093635797189, 0.015822962057140844, 0.015471342103387587, 0.015135009913088639, 0.01481298967534257, 0.014504386896514045, 0.014208380102584505]}],                        {\"template\": {\"data\": {\"bar\": [{\"error_x\": {\"color\": \"#2a3f5f\"}, \"error_y\": {\"color\": \"#2a3f5f\"}, \"marker\": {\"line\": {\"color\": \"#E5ECF6\", \"width\": 0.5}}, \"type\": \"bar\"}], \"barpolar\": [{\"marker\": {\"line\": {\"color\": \"#E5ECF6\", \"width\": 0.5}}, \"type\": \"barpolar\"}], \"carpet\": [{\"aaxis\": {\"endlinecolor\": \"#2a3f5f\", \"gridcolor\": \"white\", \"linecolor\": \"white\", \"minorgridcolor\": \"white\", \"startlinecolor\": \"#2a3f5f\"}, \"baxis\": {\"endlinecolor\": \"#2a3f5f\", \"gridcolor\": \"white\", \"linecolor\": \"white\", \"minorgridcolor\": \"white\", \"startlinecolor\": \"#2a3f5f\"}, \"type\": \"carpet\"}], \"choropleth\": [{\"colorbar\": {\"outlinewidth\": 0, \"ticks\": \"\"}, \"type\": \"choropleth\"}], \"contour\": [{\"colorbar\": {\"outlinewidth\": 0, \"ticks\": \"\"}, \"colorscale\": [[0.0, \"#0d0887\"], [0.1111111111111111, \"#46039f\"], [0.2222222222222222, \"#7201a8\"], [0.3333333333333333, \"#9c179e\"], [0.4444444444444444, \"#bd3786\"], [0.5555555555555556, \"#d8576b\"], [0.6666666666666666, \"#ed7953\"], [0.7777777777777778, \"#fb9f3a\"], [0.8888888888888888, \"#fdca26\"], [1.0, \"#f0f921\"]], \"type\": \"contour\"}], \"contourcarpet\": [{\"colorbar\": {\"outlinewidth\": 0, \"ticks\": \"\"}, \"type\": \"contourcarpet\"}], \"heatmap\": [{\"colorbar\": {\"outlinewidth\": 0, \"ticks\": \"\"}, \"colorscale\": [[0.0, \"#0d0887\"], [0.1111111111111111, \"#46039f\"], [0.2222222222222222, \"#7201a8\"], [0.3333333333333333, \"#9c179e\"], [0.4444444444444444, \"#bd3786\"], [0.5555555555555556, \"#d8576b\"], [0.6666666666666666, \"#ed7953\"], [0.7777777777777778, \"#fb9f3a\"], [0.8888888888888888, \"#fdca26\"], [1.0, \"#f0f921\"]], \"type\": \"heatmap\"}], \"heatmapgl\": [{\"colorbar\": {\"outlinewidth\": 0, \"ticks\": \"\"}, \"colorscale\": [[0.0, \"#0d0887\"], [0.1111111111111111, \"#46039f\"], [0.2222222222222222, \"#7201a8\"], [0.3333333333333333, \"#9c179e\"], [0.4444444444444444, \"#bd3786\"], [0.5555555555555556, \"#d8576b\"], [0.6666666666666666, \"#ed7953\"], [0.7777777777777778, \"#fb9f3a\"], [0.8888888888888888, \"#fdca26\"], [1.0, \"#f0f921\"]], \"type\": \"heatmapgl\"}], \"histogram\": [{\"marker\": {\"colorbar\": {\"outlinewidth\": 0, \"ticks\": \"\"}}, \"type\": \"histogram\"}], \"histogram2d\": [{\"colorbar\": {\"outlinewidth\": 0, \"ticks\": \"\"}, \"colorscale\": [[0.0, \"#0d0887\"], [0.1111111111111111, \"#46039f\"], [0.2222222222222222, \"#7201a8\"], [0.3333333333333333, \"#9c179e\"], [0.4444444444444444, \"#bd3786\"], [0.5555555555555556, \"#d8576b\"], [0.6666666666666666, \"#ed7953\"], [0.7777777777777778, \"#fb9f3a\"], [0.8888888888888888, \"#fdca26\"], [1.0, \"#f0f921\"]], \"type\": \"histogram2d\"}], \"histogram2dcontour\": [{\"colorbar\": {\"outlinewidth\": 0, \"ticks\": \"\"}, \"colorscale\": [[0.0, \"#0d0887\"], [0.1111111111111111, \"#46039f\"], [0.2222222222222222, \"#7201a8\"], [0.3333333333333333, \"#9c179e\"], [0.4444444444444444, \"#bd3786\"], [0.5555555555555556, \"#d8576b\"], [0.6666666666666666, \"#ed7953\"], [0.7777777777777778, \"#fb9f3a\"], [0.8888888888888888, \"#fdca26\"], [1.0, \"#f0f921\"]], \"type\": \"histogram2dcontour\"}], \"mesh3d\": [{\"colorbar\": {\"outlinewidth\": 0, \"ticks\": \"\"}, \"type\": \"mesh3d\"}], \"parcoords\": [{\"line\": {\"colorbar\": {\"outlinewidth\": 0, \"ticks\": \"\"}}, \"type\": \"parcoords\"}], \"pie\": [{\"automargin\": true, \"type\": \"pie\"}], \"scatter\": [{\"marker\": {\"colorbar\": {\"outlinewidth\": 0, \"ticks\": \"\"}}, \"type\": \"scatter\"}], \"scatter3d\": [{\"line\": {\"colorbar\": {\"outlinewidth\": 0, \"ticks\": \"\"}}, \"marker\": {\"colorbar\": {\"outlinewidth\": 0, \"ticks\": \"\"}}, \"type\": \"scatter3d\"}], \"scattercarpet\": [{\"marker\": {\"colorbar\": {\"outlinewidth\": 0, \"ticks\": \"\"}}, \"type\": \"scattercarpet\"}], \"scattergeo\": [{\"marker\": {\"colorbar\": {\"outlinewidth\": 0, \"ticks\": \"\"}}, \"type\": \"scattergeo\"}], \"scattergl\": [{\"marker\": {\"colorbar\": {\"outlinewidth\": 0, \"ticks\": \"\"}}, \"type\": \"scattergl\"}], \"scattermapbox\": [{\"marker\": {\"colorbar\": {\"outlinewidth\": 0, \"ticks\": \"\"}}, \"type\": \"scattermapbox\"}], \"scatterpolar\": [{\"marker\": {\"colorbar\": {\"outlinewidth\": 0, \"ticks\": \"\"}}, \"type\": \"scatterpolar\"}], \"scatterpolargl\": [{\"marker\": {\"colorbar\": {\"outlinewidth\": 0, \"ticks\": \"\"}}, \"type\": \"scatterpolargl\"}], \"scatterternary\": [{\"marker\": {\"colorbar\": {\"outlinewidth\": 0, \"ticks\": \"\"}}, \"type\": \"scatterternary\"}], \"surface\": [{\"colorbar\": {\"outlinewidth\": 0, \"ticks\": \"\"}, \"colorscale\": [[0.0, \"#0d0887\"], [0.1111111111111111, \"#46039f\"], [0.2222222222222222, \"#7201a8\"], [0.3333333333333333, \"#9c179e\"], [0.4444444444444444, \"#bd3786\"], [0.5555555555555556, \"#d8576b\"], [0.6666666666666666, \"#ed7953\"], [0.7777777777777778, \"#fb9f3a\"], [0.8888888888888888, \"#fdca26\"], [1.0, \"#f0f921\"]], \"type\": \"surface\"}], \"table\": [{\"cells\": {\"fill\": {\"color\": \"#EBF0F8\"}, \"line\": {\"color\": \"white\"}}, \"header\": {\"fill\": {\"color\": \"#C8D4E3\"}, \"line\": {\"color\": \"white\"}}, \"type\": \"table\"}]}, \"layout\": {\"annotationdefaults\": {\"arrowcolor\": \"#2a3f5f\", \"arrowhead\": 0, \"arrowwidth\": 1}, \"autotypenumbers\": \"strict\", \"coloraxis\": {\"colorbar\": {\"outlinewidth\": 0, \"ticks\": \"\"}}, \"colorscale\": {\"diverging\": [[0, \"#8e0152\"], [0.1, \"#c51b7d\"], [0.2, \"#de77ae\"], [0.3, \"#f1b6da\"], [0.4, \"#fde0ef\"], [0.5, \"#f7f7f7\"], [0.6, \"#e6f5d0\"], [0.7, \"#b8e186\"], [0.8, \"#7fbc41\"], [0.9, \"#4d9221\"], [1, \"#276419\"]], \"sequential\": [[0.0, \"#0d0887\"], [0.1111111111111111, \"#46039f\"], [0.2222222222222222, \"#7201a8\"], [0.3333333333333333, \"#9c179e\"], [0.4444444444444444, \"#bd3786\"], [0.5555555555555556, \"#d8576b\"], [0.6666666666666666, \"#ed7953\"], [0.7777777777777778, \"#fb9f3a\"], [0.8888888888888888, \"#fdca26\"], [1.0, \"#f0f921\"]], \"sequentialminus\": [[0.0, \"#0d0887\"], [0.1111111111111111, \"#46039f\"], [0.2222222222222222, \"#7201a8\"], [0.3333333333333333, \"#9c179e\"], [0.4444444444444444, \"#bd3786\"], [0.5555555555555556, \"#d8576b\"], [0.6666666666666666, \"#ed7953\"], [0.7777777777777778, \"#fb9f3a\"], [0.8888888888888888, \"#fdca26\"], [1.0, \"#f0f921\"]]}, \"colorway\": [\"#636efa\", \"#EF553B\", \"#00cc96\", \"#ab63fa\", \"#FFA15A\", \"#19d3f3\", \"#FF6692\", \"#B6E880\", \"#FF97FF\", \"#FECB52\"], \"font\": {\"color\": \"#2a3f5f\"}, \"geo\": {\"bgcolor\": \"white\", \"lakecolor\": \"white\", \"landcolor\": \"#E5ECF6\", \"showlakes\": true, \"showland\": true, \"subunitcolor\": \"white\"}, \"hoverlabel\": {\"align\": \"left\"}, \"hovermode\": \"closest\", \"mapbox\": {\"style\": \"light\"}, \"paper_bgcolor\": \"white\", \"plot_bgcolor\": \"#E5ECF6\", \"polar\": {\"angularaxis\": {\"gridcolor\": \"white\", \"linecolor\": \"white\", \"ticks\": \"\"}, \"bgcolor\": \"#E5ECF6\", \"radialaxis\": {\"gridcolor\": \"white\", \"linecolor\": \"white\", \"ticks\": \"\"}}, \"scene\": {\"xaxis\": {\"backgroundcolor\": \"#E5ECF6\", \"gridcolor\": \"white\", \"gridwidth\": 2, \"linecolor\": \"white\", \"showbackground\": true, \"ticks\": \"\", \"zerolinecolor\": \"white\"}, \"yaxis\": {\"backgroundcolor\": \"#E5ECF6\", \"gridcolor\": \"white\", \"gridwidth\": 2, \"linecolor\": \"white\", \"showbackground\": true, \"ticks\": \"\", \"zerolinecolor\": \"white\"}, \"zaxis\": {\"backgroundcolor\": \"#E5ECF6\", \"gridcolor\": \"white\", \"gridwidth\": 2, \"linecolor\": \"white\", \"showbackground\": true, \"ticks\": \"\", \"zerolinecolor\": \"white\"}}, \"shapedefaults\": {\"line\": {\"color\": \"#2a3f5f\"}}, \"ternary\": {\"aaxis\": {\"gridcolor\": \"white\", \"linecolor\": \"white\", \"ticks\": \"\"}, \"baxis\": {\"gridcolor\": \"white\", \"linecolor\": \"white\", \"ticks\": \"\"}, \"bgcolor\": \"#E5ECF6\", \"caxis\": {\"gridcolor\": \"white\", \"linecolor\": \"white\", \"ticks\": \"\"}}, \"title\": {\"x\": 0.05}, \"xaxis\": {\"automargin\": true, \"gridcolor\": \"white\", \"linecolor\": \"white\", \"ticks\": \"\", \"title\": {\"standoff\": 15}, \"zerolinecolor\": \"white\", \"zerolinewidth\": 2}, \"yaxis\": {\"automargin\": true, \"gridcolor\": \"white\", \"linecolor\": \"white\", \"ticks\": \"\", \"title\": {\"standoff\": 15}, \"zerolinecolor\": \"white\", \"zerolinewidth\": 2}}}, \"xaxis\": {\"title\": {\"text\": \"mu\"}, \"type\": \"log\"}, \"yaxis\": {\"title\": {\"text\": \"cv2\"}, \"type\": \"log\"}},                        {\"responsive\": true}                    ).then(function(){\n",
       "                            \n",
       "var gd = document.getElementById('683eabdf-c35b-49ba-967a-9b2ef5bad137');\n",
       "var x = new MutationObserver(function (mutations, observer) {{\n",
       "        var display = window.getComputedStyle(gd).display;\n",
       "        if (!display || display === 'none') {{\n",
       "            console.log([gd, 'removed!']);\n",
       "            Plotly.purge(gd);\n",
       "            observer.disconnect();\n",
       "        }}\n",
       "}});\n",
       "\n",
       "// Listen for the removal of the full notebook cells\n",
       "var notebookContainer = gd.closest('#notebook-container');\n",
       "if (notebookContainer) {{\n",
       "    x.observe(notebookContainer, {childList: true});\n",
       "}}\n",
       "\n",
       "// Listen for the clearing of the current output cell\n",
       "var outputEl = gd.closest('.output');\n",
       "if (outputEl) {{\n",
       "    x.observe(outputEl, {childList: true});\n",
       "}}\n",
       "\n",
       "                        })                };                });            </script>        </div>"
      ]
     },
     "metadata": {},
     "output_type": "display_data"
    }
   ],
   "source": [
    "abscissa = np.linspace(mu.min(), k*mu.max())\n",
    "\n",
    "fig = go.Figure()\n",
    "fig.add_scatter(x=mu, y=cv2_x, marker={\"size\":10}, mode=\"markers\", name=\"data\")\n",
    "fig.add_scatter(x=abscissa, y=1./abscissa, mode=\"lines\", name=\"1/x\")\n",
    "\n",
    "fig.add_scatter(x = mu_y, y = cv2_y, marker={\"size\":10}, mode=\"markers\", name=\"ampl data\")\n",
    "\n",
    "fig.add_scatter(x = abscissa, y = k/abscissa, mode=\"lines\", name=\"1/x+log(k)\")\n",
    "\n",
    "fig.update_layout({\n",
    "    \"yaxis\":{\n",
    "        \"title\":\"cv2\",\n",
    "        \"type\":\"log\"\n",
    "    },\n",
    "    \"xaxis\":{\n",
    "        \"title\":\"mu\",\n",
    "        \"type\":\"log\"\n",
    "    }\n",
    "})"
   ]
  },
  {
   "cell_type": "code",
   "execution_count": null,
   "id": "2750b4dd",
   "metadata": {},
   "outputs": [],
   "source": []
  }
 ],
 "metadata": {
  "kernelspec": {
   "display_name": "Python 3",
   "language": "python",
   "name": "python3"
  },
  "language_info": {
   "codemirror_mode": {
    "name": "ipython",
    "version": 3
   },
   "file_extension": ".py",
   "mimetype": "text/x-python",
   "name": "python",
   "nbconvert_exporter": "python",
   "pygments_lexer": "ipython3",
   "version": "3.8.8"
  }
 },
 "nbformat": 4,
 "nbformat_minor": 5
}

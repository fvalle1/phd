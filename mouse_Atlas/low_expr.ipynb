{
 "cells": [
  {
   "cell_type": "code",
   "execution_count": null,
   "id": "ad4ba878-23ea-40bf-9785-af3fc758c239",
   "metadata": {},
   "outputs": [],
   "source": [
    "import pandas as pd\n",
    "import numpy as np\n",
    "import matplotlib.pyplot as plt\n",
    "import multiprocessing as mp\n",
    "import os\n",
    "os.chdir(\"The_single_cell_transcriptome_as_a_component_system/MouseCellAtlas/\")"
   ]
  },
  {
   "cell_type": "markdown",
   "id": "c9cc5194-8d71-4294-b1a9-c85e6cc515af",
   "metadata": {},
   "source": [
    "# all data pdf"
   ]
  },
  {
   "cell_type": "code",
   "execution_count": null,
   "id": "5d436dd8-60a1-4e8c-a2d0-bd48d6eb8996",
   "metadata": {},
   "outputs": [],
   "source": [
    "tissue = \"Brain\"\n",
    "df = pd.read_csv(f\"mca/mainTable_{tissue}.csv\", index_col=0, header=0)\n",
    "df_occ = pd.read_csv(f\"OrealOpred_lists/df_o_{tissue}.csv\", index_col=0, header=0)"
   ]
  },
  {
   "cell_type": "code",
   "execution_count": null,
   "id": "c76e2a65-4ca0-4a70-9ffb-f6fdd44444bc",
   "metadata": {},
   "outputs": [],
   "source": [
    "genes = df_occ[(df_occ[\"O_pred\"]-df_occ[\"O_real\"]<-0.003)].index"
   ]
  },
  {
   "cell_type": "code",
   "execution_count": null,
   "id": "4ef4a6f3-2908-4cfc-9a42-5b37994e782c",
   "metadata": {},
   "outputs": [],
   "source": [
    "fig,ax = plt.subplots()\n",
    "for g in genes:\n",
    "    subset = df.loc[g,:]\n",
    "    #subset = subset[subset>0]\n",
    "    subset.hist(histtype=\"step\", bins=np.linspace(-0.5,15.5, 17), ax=ax)\n",
    "    \n",
    "ax.set_yscale(\"log\")\n",
    "ax.set_xlabel(\"UMI\")\n",
    "ax.set_ylabel(\"#\")\n",
    "ax.set_title(\"genes Opred<Oreal\")"
   ]
  },
  {
   "cell_type": "code",
   "execution_count": null,
   "id": "0705df78-1c8d-42c0-840b-9b3067bf2974",
   "metadata": {},
   "outputs": [],
   "source": [
    "fig,ax = plt.subplots()\n",
    "for g in df.sample(25, axis=0).index:\n",
    "    subset = df.loc[g,:]\n",
    "    #subset = subset[subset>0]\n",
    "    subset.hist(histtype=\"step\", bins=np.linspace(-0.5,15.5, 17), ax=ax)\n",
    "    \n",
    "ax.set_yscale(\"log\")\n",
    "ax.set_xlabel(\"UMI\")\n",
    "ax.set_ylabel(\"#\")\n",
    "ax.set_title(\"random genes\")"
   ]
  },
  {
   "cell_type": "code",
   "execution_count": null,
   "id": "33b27815-801a-4b9d-8c30-9eca5176fcf1",
   "metadata": {},
   "outputs": [],
   "source": []
  }
 ],
 "metadata": {
  "kernelspec": {
   "display_name": "Python 3",
   "language": "python",
   "name": "python3"
  },
  "language_info": {
   "codemirror_mode": {
    "name": "ipython",
    "version": 3
   },
   "file_extension": ".py",
   "mimetype": "text/x-python",
   "name": "python",
   "nbconvert_exporter": "python",
   "pygments_lexer": "ipython3",
   "version": "3.8.8"
  }
 },
 "nbformat": 4,
 "nbformat_minor": 5
}

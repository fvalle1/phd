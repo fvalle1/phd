{
 "cells": [
  {
   "cell_type": "code",
   "execution_count": null,
   "metadata": {
    "Collapsed": "false"
   },
   "outputs": [],
   "source": [
    "import pandas as pd\n",
    "import numpy as np\n",
    "import matplotlib.pyplot as plt\n",
    "import sys, gc\n",
    "from frontiers_colors import get_color"
   ]
  },
  {
   "cell_type": "code",
   "execution_count": null,
   "metadata": {
    "Collapsed": "false"
   },
   "outputs": [],
   "source": [
    "#GTEx\n",
    "df = pd.read_csv('https://storage.googleapis.com/gtex_analysis_v8/rna_seq_data/GTEx_Analysis_2017-06-05_v8_RNASeQCv1.1.9_gene_reads.gct.gz', skiprows=2, compression='gzip', sep='\\t')\n",
    "df['ensg'] = [x[:15] for x in df['Name']]\n",
    "df.set_index('Name', inplace=True)\n",
    "df.set_index(['ensg'],inplace=True)\n",
    "df=df.drop(['Description'],1)\n",
    "\n",
    "df_file = pd.read_csv(\"https://storage.googleapis.com/gtex_analysis_v8/annotations/GTEx_Analysis_v8_Annotations_SampleAttributesDS.txt\", sep='\\t').loc[:,['SAMPID','SMTS', 'SMTSD']]\n",
    "df_file.set_index('SAMPID', inplace=True)\n",
    "\n",
    "gc.collect()"
   ]
  },
  {
   "cell_type": "code",
   "execution_count": null,
   "metadata": {
    "Collapsed": "false"
   },
   "outputs": [],
   "source": [
    "A = df.sum(axis=1)\n",
    "A.name=\"abundance\"\n",
    "A.to_csv(\"A_gtex.dat\")"
   ]
  },
  {
   "cell_type": "code",
   "execution_count": null,
   "metadata": {
    "Collapsed": "false"
   },
   "outputs": [],
   "source": [
    "print(\"Saving data.pkl\")\n",
    "mean = df.mean(1)\n",
    "var = df.var(1)\n",
    "data = {\n",
    "    'means': mean,\n",
    "    'var': var,\n",
    "    'freq': A/A.sum(),\n",
    "    'O': df.apply(lambda x: len(x[x>0])/len(x), 1),\n",
    "    'M': df.sum(0),\n",
    "    'cv2': var/mean/mean,\n",
    "    'diffWords': df.apply(lambda x : len(x[x>0])/len(x), 0),\n",
    "    'means_nonzero': df.apply(lambda x : x[x>0].mean(), 1),\n",
    "}\n",
    "\n",
    "del mean\n",
    "del var\n",
    "\n",
    "import pickle\n",
    "with open(\"data_gtex.pkl\",\"wb\") as file:\n",
    "    pickle.dump(data, file, protocol=pickle.HIGHEST_PROTOCOL)"
   ]
  },
  {
   "cell_type": "code",
   "execution_count": null,
   "metadata": {
    "Collapsed": "false"
   },
   "outputs": [],
   "source": [
    "genelist=pd.read_csv(\"https://stephenslab.github.io/count-clustering/project/utilities/gene_names_all_gtex.txt\", header=None).values.ravel()\n",
    "df = df[df.index.isin(genelist)]"
   ]
  },
  {
   "cell_type": "code",
   "execution_count": null,
   "metadata": {
    "Collapsed": "false"
   },
   "outputs": [],
   "source": [
    "plot_data = {}\n",
    "for tissue in np.sort(df_files[\"SMTS\"].unique()):\n",
    "    print(tissue)\n",
    "    f = df.reindex(columns=df_files[df_files[\"SMTS\"]==tissue]['SAMPID'].values).mean(1).sort_values(ascending=False)\n",
    "    plot_data[tissue]=f\n",
    "    del f\n",
    "    gc.collect()"
   ]
  },
  {
   "cell_type": "code",
   "execution_count": null,
   "metadata": {
    "Collapsed": "false"
   },
   "outputs": [],
   "source": [
    "import pickle\n",
    "with open(\"gtex/gtex_fdata.pkl\", \"rb\") as f:\n",
    "    plot_data=pickle.load(f)\n",
    "\n",
    "fig, ax = plt.subplots(figsize=(18,15))\n",
    "\n",
    "for tissue, f in plot_data.items():\n",
    "    try:\n",
    "        ax.plot((f/f.sum()).values, c=get_color(tissue), lw=15, alpha=.7)\n",
    "    except:\n",
    "        print(*sys.exc_info())\n",
    "        print(tissue)\n",
    "        \n",
    "ax.plot(np.linspace(1,6e4,10), 1e-1*np.power(np.linspace(1,6e4,10), -1), lw=20, c='gray', ls='--')\n",
    "ax.annotate('$k*i^-1$',(1e2, 1e-2), fontsize=30)\n",
    "ax.set_xscale('log')\n",
    "ax.set_yscale('log')\n",
    "\n",
    "ax.tick_params(labelsize=35, width=8, length=20)\n",
    "ax.set_xlim(1,1e5)\n",
    "ax.set_ylim(1e-9,1e0)\n",
    "ax.set_xlabel(\"Rank, $i$\", fontsize=35)\n",
    "ax.set_ylabel(\"Frequency, $f_i$\", fontsize=35)\n",
    "\n",
    "plt.show()\n",
    "\n",
    "fig.savefig(\"zipf_alltissue_GTEx.pdf\")"
   ]
  },
  {
   "cell_type": "code",
   "execution_count": null,
   "metadata": {
    "Collapsed": "false"
   },
   "outputs": [],
   "source": [
    "import pickle\n",
    "with open(\"gtex_fdata.pkl\", \"wb\") as f:\n",
    "    pickle.dump(plot_data, f)"
   ]
  },
  {
   "cell_type": "code",
   "execution_count": null,
   "metadata": {
    "Collapsed": "false"
   },
   "outputs": [],
   "source": [
    "color.keys()"
   ]
  },
  {
   "cell_type": "code",
   "execution_count": null,
   "metadata": {
    "Collapsed": "false"
   },
   "outputs": [],
   "source": []
  }
 ],
 "metadata": {
  "kernelspec": {
   "display_name": "Python 3",
   "language": "python",
   "name": "python3"
  },
  "language_info": {
   "codemirror_mode": {
    "name": "ipython",
    "version": 3
   },
   "file_extension": ".py",
   "mimetype": "text/x-python",
   "name": "python",
   "nbconvert_exporter": "python",
   "pygments_lexer": "ipython3",
   "version": "3.8.8"
  }
 },
 "nbformat": 4,
 "nbformat_minor": 4
}

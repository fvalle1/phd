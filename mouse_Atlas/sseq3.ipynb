{
 "cells": [
  {
   "cell_type": "code",
   "execution_count": null,
   "id": "b9a96592-d469-4789-9aed-26b5c02d5156",
   "metadata": {},
   "outputs": [],
   "source": [
    "import numpy as np\n",
    "import pandas as pd\n",
    "import matplotlib.pyplot as plt"
   ]
  },
  {
   "cell_type": "code",
   "execution_count": null,
   "id": "6479c8c2-9d7f-4514-b6b5-806b37b1b090",
   "metadata": {},
   "outputs": [],
   "source": [
    "df = pd.read_csv(\"The_single_cell_transcriptome_as_a_component_system/Smartseq3.HEK.fwdprimer.UMIcounts.txt\", sep=\"\\t\")"
   ]
  },
  {
   "cell_type": "code",
   "execution_count": null,
   "id": "1a6731da-0456-4d2d-b521-b5ea7b5e1a4a",
   "metadata": {},
   "outputs": [],
   "source": [
    "#df_conversion = pd.read_csv(\"https://www.genenames.org/cgi-bin/download/custom?col=gd_app_sym&col=gd_pub_refseq_ids&col=gd_pub_ensembl_id&status=Approved&status=Entry%20Withdrawn&hgnc_dbtag=on&order_by=gd_app_sym_sort&format=text&submit=submit\", sep=\"\\t\")"
   ]
  },
  {
   "cell_type": "code",
   "execution_count": null,
   "id": "5f1e8308-4108-4d72-adf2-fe6f0d73056c",
   "metadata": {},
   "outputs": [],
   "source": [
    "annot = pd.read_csv(\"gene_annotation_umi.csv\", index_col=0)\n",
    "df = df.join(annot, how=\"inner\")"
   ]
  },
  {
   "cell_type": "code",
   "execution_count": null,
   "id": "a47f098d-8eaf-4e7c-966e-6ef795ad202b",
   "metadata": {},
   "outputs": [],
   "source": [
    "#df_coding = pd.DataFrame(data=np.load(\"coding_genes.npy\"))\n",
    "df_coding = df[df[\"0\"]==\"protein-coding\"].drop(\"0\",axis=1)\n",
    "df.drop(\"0\",axis=1, inplace=True)"
   ]
  },
  {
   "cell_type": "code",
   "execution_count": null,
   "id": "2063487a-638a-4fe5-b522-5311576482ef",
   "metadata": {},
   "outputs": [],
   "source": [
    "f = df.divide(df.sum(0),1).mean(1)\n",
    "fc = df_coding.divide(df_coding.sum(0),1).mean(1)"
   ]
  },
  {
   "cell_type": "code",
   "execution_count": null,
   "id": "9c46ae52-8b39-400b-87c4-6992f580f0b1",
   "metadata": {},
   "outputs": [],
   "source": [
    "assert(abs(f.sum()-1)<1e-10)\n",
    "assert(abs(fc.sum()-1)<1e-10)"
   ]
  },
  {
   "cell_type": "code",
   "execution_count": null,
   "id": "7e3d10ef-f69f-4ae8-9a31-468d061d6e29",
   "metadata": {},
   "outputs": [],
   "source": [
    "x = np.linspace(1,len(f), len(f))\n",
    "\n",
    "f_sorted = f.sort_values(ascending=False)\n",
    "\n",
    "plt.scatter(x,f_sorted)\n",
    "\n",
    "mask = f_sorted.index.isin(annot[annot[\"0\"]!=\"protein-coding\"].index)\n",
    "plt.scatter(x[mask],f_sorted[mask])\n",
    "\n",
    "\n",
    "plt.plot(np.sort(f.values)[::-1])\n",
    "plt.plot(np.sort(fc.values)[::-1])\n",
    "\n",
    "plt.xscale(\"log\")\n",
    "plt.yscale(\"log\")\n",
    "plt.xlim(1,4e4)"
   ]
  },
  {
   "cell_type": "code",
   "execution_count": null,
   "id": "997ee620-2853-4090-b7f4-a1fd79cbc0a5",
   "metadata": {},
   "outputs": [],
   "source": [
    "f_sorted"
   ]
  },
  {
   "cell_type": "code",
   "execution_count": null,
   "id": "14a4ace4-60f0-44eb-9c3a-a33f1a6198c9",
   "metadata": {},
   "outputs": [],
   "source": []
  }
 ],
 "metadata": {
  "kernelspec": {
   "display_name": "Python 3",
   "language": "python",
   "name": "python3"
  },
  "language_info": {
   "codemirror_mode": {
    "name": "ipython",
    "version": 3
   },
   "file_extension": ".py",
   "mimetype": "text/x-python",
   "name": "python",
   "nbconvert_exporter": "python",
   "pygments_lexer": "ipython3",
   "version": "3.8.8"
  }
 },
 "nbformat": 4,
 "nbformat_minor": 5
}

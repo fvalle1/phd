{
 "cells": [
  {
   "cell_type": "code",
   "execution_count": null,
   "id": "ad4ba878-23ea-40bf-9785-af3fc758c239",
   "metadata": {},
   "outputs": [],
   "source": [
    "import pandas as pd\n",
    "import numpy as np\n",
    "import matplotlib.pyplot as plt\n",
    "import multiprocessing as mp\n",
    "import os\n",
    "os.chdir(\"The_single_cell_transcriptome_as_a_component_system/MouseCellAtlas/\")"
   ]
  },
  {
   "cell_type": "markdown",
   "id": "c9cc5194-8d71-4294-b1a9-c85e6cc515af",
   "metadata": {},
   "source": [
    "# all data pdf"
   ]
  },
  {
   "cell_type": "code",
   "execution_count": null,
   "id": "5d436dd8-60a1-4e8c-a2d0-bd48d6eb8996",
   "metadata": {},
   "outputs": [],
   "source": [
    "n_bins = 50\n",
    "bins = np.logspace(0,2, n_bins)\n",
    "def get_tissue_bc(tissue, bins=bins):\n",
    "    df = pd.read_csv(f\"mca/mainTable_{tissue}.csv\", index_col=0, header=0)\n",
    "    #f = df.divide(df.sum(0),1).mean(1).values\n",
    "    #f = f/f.sum()\n",
    "    all_data = df.values\n",
    "    all_data = all_data[all_data>0]\n",
    "    bc = np.histogram(all_data, bins=bins)[0]\n",
    "    return bc"
   ]
  },
  {
   "cell_type": "code",
   "execution_count": null,
   "id": "246c296b-3a49-4474-aa84-e7dd68718001",
   "metadata": {},
   "outputs": [],
   "source": [
    "pool = mp.Pool(12)\n",
    "\n",
    "arr = [\"Brain\", \"Liver\", \"Muscle\", \"Bladder\", \"Prostate\", \"Pancreas\", \"Stomach\", \"Kidney\", \"Ovary\", \"Uterus\", \"Lung\"]\n",
    "w = pool.map_async(get_tissue_bc, arr, error_callback=lambda err:print(err))\n",
    "\n",
    "pool.close()\n",
    "pool.join()\n",
    "bin_counts = np.mean(w.get(), axis=0)"
   ]
  },
  {
   "cell_type": "code",
   "execution_count": null,
   "id": "f8204633-1107-4e67-8f62-56ea342a70f2",
   "metadata": {},
   "outputs": [],
   "source": [
    "plt.figure(figsize=(9,8))\n",
    "\n",
    "plt.hlines(bin_counts, bins[:-1],bins[1:], lw=10, color=\"gray\")\n",
    "\n",
    "plt.xlabel(\"f\")\n",
    "plt.ylabel(\"pdf\")\n",
    "#plt.yscale(\"log\")\n",
    "plt.xscale(\"log\")"
   ]
  },
  {
   "cell_type": "code",
   "execution_count": null,
   "id": "5c914f89-b801-4efd-a9fd-4d3c6329a378",
   "metadata": {},
   "outputs": [],
   "source": [
    "df = pd.read_csv(f\"mca/mainTable_Kidney.csv\", index_col=0, header=0)"
   ]
  },
  {
   "cell_type": "code",
   "execution_count": null,
   "id": "efd70f51-aa58-4a39-b8cd-d41fdbd4ff14",
   "metadata": {},
   "outputs": [],
   "source": [
    "M = df.sum(0)\n",
    "f = df.divide(df.sum(0),1).mean(1)\n",
    "f = f/f.sum()\n",
    "M_tilde = 25000"
   ]
  },
  {
   "cell_type": "code",
   "execution_count": null,
   "id": "b51a4ab6-bf1c-499f-a2da-25fc7751ec19",
   "metadata": {},
   "outputs": [],
   "source": [
    "all_data = df.values\n",
    "all_data = all_data[all_data>0]"
   ]
  },
  {
   "cell_type": "code",
   "execution_count": null,
   "id": "0ac48ada-18a0-40c7-a155-f3ce7310920a",
   "metadata": {},
   "outputs": [],
   "source": [
    "plt.figure(figsize=(9,8))\n",
    "\n",
    "plt.hist(all_data, bins=np.linspace(1,100,100), lw=10, color=\"gray\", density=True)\n",
    "plt.scatter(1,1)\n",
    "\n",
    "plt.xlabel(\"f\")\n",
    "plt.xlabel(\"pdf\")\n",
    "plt.yscale(\"log\")"
   ]
  },
  {
   "cell_type": "code",
   "execution_count": null,
   "id": "cac0458d-0e37-4510-b0b3-85ce8bff81ba",
   "metadata": {},
   "outputs": [],
   "source": [
    "X = [fi*M*np.exp(-M/M_tilde) for fi in f]"
   ]
  },
  {
   "cell_type": "code",
   "execution_count": null,
   "id": "2278a286-211a-4a37-95a0-322b7ecda6ae",
   "metadata": {},
   "outputs": [],
   "source": [
    "P1 = pd.DataFrame(data=[(np.exp(fi*M)*(M/M_tilde)*x*np.exp(x)).values for fi,x in zip(f,X)], index=f.index, columns=M.index)"
   ]
  },
  {
   "cell_type": "code",
   "execution_count": null,
   "id": "c006fae3-e5b8-438a-9fd6-64af2274ae71",
   "metadata": {},
   "outputs": [],
   "source": [
    "P10 =[x*M/M_tilde for x in X]"
   ]
  },
  {
   "cell_type": "code",
   "execution_count": null,
   "id": "c76e2a65-4ca0-4a70-9ffb-f6fdd44444bc",
   "metadata": {},
   "outputs": [],
   "source": [
    "np.mean(P10)*0.95"
   ]
  },
  {
   "cell_type": "code",
   "execution_count": null,
   "id": "4ef4a6f3-2908-4cfc-9a42-5b37994e782c",
   "metadata": {},
   "outputs": [],
   "source": []
  }
 ],
 "metadata": {
  "kernelspec": {
   "display_name": "Python 3",
   "language": "python",
   "name": "python3"
  },
  "language_info": {
   "codemirror_mode": {
    "name": "ipython",
    "version": 3
   },
   "file_extension": ".py",
   "mimetype": "text/x-python",
   "name": "python",
   "nbconvert_exporter": "python",
   "pygments_lexer": "ipython3",
   "version": "3.8.8"
  }
 },
 "nbformat": 4,
 "nbformat_minor": 5
}

{
 "cells": [
  {
   "cell_type": "code",
   "execution_count": 1,
   "metadata": {},
   "outputs": [],
   "source": [
    "using Pandas\n",
    "using DataFrames\n",
    "using PyCall\n",
    "using PyPlot\n",
    "using CSV\n",
    "using LsqFit\n",
    "using Printf\n",
    "using KernelDensity\n",
    "using Distributions\n",
    "\n",
    "include(\"tacos.jl\") # Tools to Analyse Components Systems\n",
    "using Main.Tacos\n",
    "\n",
    "scipy_integrate = pyimport(\"scipy.integrate\")\n",
    "scipy_stats = pyimport(\"scipy.stats\")\n",
    "pushfirst!(PyVector(pyimport(\"sys\").\"path\"), \"\")\n",
    "frontiers = pyimport(\"frontiers_colors\");"
   ]
  },
  {
   "cell_type": "markdown",
   "metadata": {},
   "source": [
    "# Global Zipf "
   ]
  },
  {
   "cell_type": "code",
   "execution_count": null,
   "metadata": {},
   "outputs": [],
   "source": [
    "f_gtex = CSV.read(\"A_gtex.dat\", header=true).abundance\n",
    "f_gtex = sort(f_gtex./sum(f_gtex), rev=true);"
   ]
  },
  {
   "cell_type": "code",
   "execution_count": null,
   "metadata": {},
   "outputs": [],
   "source": [
    "f_mca = load_pickle(\"mca/data_all.pkl\")[\"freq\"]\n",
    "f_mca = sort(f_mca./sum(f_mca), rev=true);"
   ]
  },
  {
   "cell_type": "code",
   "execution_count": null,
   "metadata": {},
   "outputs": [],
   "source": [
    "f_tm = load_pickle(\"tm/data_all.pkl\")[\"freq\"]\n",
    "f_tm = sort(f_tm./sum(f_tm), rev=true);"
   ]
  },
  {
   "cell_type": "code",
   "execution_count": null,
   "metadata": {},
   "outputs": [],
   "source": [
    "fig, ax = PyPlot.subplots(figsize=(18,15))\n",
    "\n",
    "X = collect(1:1e5)\n",
    "\n",
    "ax.plot(X,[1e-1*x^-0.8 for x in X], lw=20, ls=\"--\", color=\"gray\")\n",
    "\n",
    "#ax.plot(f_gtex, label=\"GTEx\", lw=15, color=\"gray\", alpha=0.7)\n",
    "ax.plot(f_mca, label=\"Mouse Cell Atlas\", lw=15, color=\"blue\", alpha=0.6)\n",
    "#ax.plot(f_tm, label=\"Tabula Muris\", lw=15, color=\"red\", alpha=0.5)\n",
    "\n",
    "\n",
    "ax.annotate(L\"$k*i^{-0.8}$\", (1e2,1e-2), fontsize=35)\n",
    "\n",
    "\n",
    "ax.legend(fontsize=35)\n",
    "ax.set_yscale(\"log\")\n",
    "ax.set_xscale(\"log\")\n",
    "\n",
    "ax.tick_params(labelsize=35, width=8, length=20)\n",
    "ax.set_xlabel(L\"Rank, $i$\", fontsize=35)\n",
    "ax.set_ylabel(L\"Frequency, $f_i$\", fontsize=35)\n",
    "\n",
    "ax.set_xlim(1,1e5)\n",
    "ax.set_ylim(1e-9,1e0)\n",
    "show()\n",
    "\n",
    "fig.savefig(\"zipf_alldatasets.pdf\")"
   ]
  },
  {
   "cell_type": "markdown",
   "metadata": {},
   "source": [
    "## Fit ranges"
   ]
  },
  {
   "cell_type": "code",
   "execution_count": null,
   "metadata": {},
   "outputs": [],
   "source": [
    "fit_func = function(X, p)\n",
    "    return p[1]*[x^(-p[2]) for x in X]\n",
    "end\n",
    "\n",
    "fit_func_exp = function(X, p)\n",
    "    return p[1]*[exp(-p[2]*x) for x in X]\n",
    "end"
   ]
  },
  {
   "cell_type": "code",
   "execution_count": null,
   "metadata": {},
   "outputs": [],
   "source": [
    "bounds = Dict()\n",
    "\n",
    "bounds[\"dx\"] = Dict()\n",
    "bounds[\"sx\"] = Dict()\n",
    "\n",
    "bounds[\"sx\"][\"min\"]=2\n",
    "bounds[\"sx\"][\"max\"]=122\n",
    "bounds[\"sx\"][\"step\"]=10\n",
    "\n",
    "bounds[\"dx\"][\"min\"]=5e2\n",
    "bounds[\"dx\"][\"max\"]=2e4\n",
    "bounds[\"dx\"][\"step\"]=100\n",
    "\n",
    "optimize_fit = function(f)\n",
    "    maxmimum_r2 = -Inf\n",
    "    optimal_fit = nothing\n",
    "    optimal_limits = nothing\n",
    "    fit_exp = nothing\n",
    "    \n",
    "    Rs = zeros(Float64, Int64((bounds[\"sx\"][\"max\"]- bounds[\"sx\"][\"min\"])/ bounds[\"sx\"][\"step\"]+1), Int64(( bounds[\"dx\"][\"max\"]- bounds[\"dx\"][\"min\"])/ bounds[\"dx\"][\"step\"]+1))\n",
    "    for left_side::Int32=range(bounds[\"sx\"][\"min\"],bounds[\"sx\"][\"max\"],step=bounds[\"sx\"][\"step\"]), right_side::Int32=range(bounds[\"dx\"][\"min\"],bounds[\"dx\"][\"max\"],step=bounds[\"dx\"][\"step\"])\n",
    "        #println(left_side,\" \", right_side)\n",
    "        \n",
    "        x_data = left_side:right_side\n",
    "        y_data = f[left_side:right_side]\n",
    "        fit = curve_fit(fit_func, x_data, y_data, [1e-1, 0.8])\n",
    "        popt, pcov = (coef(fit), estimate_covar(fit))\n",
    "        r_squared = estimate_r2(fit_func, popt, x_data, y_data)\n",
    "        Rs[Int64((left_side-bounds[\"sx\"][\"min\"])/bounds[\"sx\"][\"step\"]+1),Int64((right_side-bounds[\"dx\"][\"min\"])/bounds[\"dx\"][\"step\"]+1)]=r_squared\n",
    "        if r_squared > maxmimum_r2\n",
    "            maxmimum_r2 = r_squared\n",
    "            optimal_fit = fit\n",
    "            optimal_limits = (left_side, right_side)\n",
    "        end    \n",
    "    end\n",
    "    return maxmimum_r2, optimal_fit, optimal_limits, Rs, bounds\n",
    "end"
   ]
  },
  {
   "cell_type": "code",
   "execution_count": null,
   "metadata": {},
   "outputs": [],
   "source": [
    "r2, fit,  limits, Rs, windows = optimize_fit(f_gtex);"
   ]
  },
  {
   "cell_type": "code",
   "execution_count": null,
   "metadata": {},
   "outputs": [],
   "source": [
    "fig, ax = PyPlot.subplots(figsize=(18,15))\n",
    "\n",
    "popt = coef(fit)\n",
    "\n",
    "ax.plot(f_gtex, label=\"GTEx\", lw=15, color=\"gray\", alpha=0.7)\n",
    "ax.plot(f_mca, label=\"Mouse Cell Atlas\", lw=15, color=\"blue\", alpha=0.6)\n",
    "ax.plot(f_tm, label=\"Tabula Muris\", lw=15, color=\"red\", alpha=0.5)\n",
    "\n",
    "X = collect(1:1e5)\n",
    "\n",
    "#ax.plot(X,[1e-1*x^-0.8 for x in X], ls=\"--\", color=\"gray\")\n",
    "ax.plot(X,[popt[1]*x^-popt[2] for x in X], ls=\":\", lw=5, color=\"green\", label=\"$(@sprintf(\"%.2f\", popt[1]))*x^-$(@sprintf(\"%.2f\", popt[2]))\")\n",
    "\n",
    "#ax.annotate(L\"$k*i^{-0.8}$\", (1e2,1e-2), fontsize=22)\n",
    "ax.annotate(\"R^2=$(@sprintf(\"%.4f\", r2))\", (10^((log10(limits[1])+log10(limits[2]))/2),1e-6), fontsize=35)\n",
    "\n",
    "ax.vlines([limits[1] limits[2]], 1e-9, 1e-1, colors=\"gray\", ls=\"-.\", lw=15, alpha =0.5)\n",
    "ax.annotate(\"$(limits[1])\", (limits[1],2e-9), fontsize=35, alpha=0.8)\n",
    "ax.annotate(\"$(limits[2])\", (limits[2],2e-9), fontsize=35, alpha=0.8)\n",
    "\n",
    "\n",
    "ax.legend(fontsize=35)\n",
    "ax.set_yscale(\"log\")\n",
    "ax.set_xscale(\"log\")\n",
    "\n",
    "ax.set_xlabel(L\"Rank, $i$\", fontsize=35)\n",
    "ax.set_ylabel(L\"Frequency, $f_i$\", fontsize=35)\n",
    "\n",
    "ax.tick_params(labelsize=35, width=8, length=20)\n",
    "\n",
    "\n",
    "ax.set_xlim(1,1e5)\n",
    "ax.set_ylim(1e-9,1e0)\n",
    "show()\n",
    "\n",
    "fig.savefig(\"zipf_alldatasets_fit_gtex.pdf\")"
   ]
  },
  {
   "cell_type": "code",
   "execution_count": null,
   "metadata": {},
   "outputs": [],
   "source": [
    "CSV.write(\"rs_gtex.csv\", DataFrames.DataFrame(Rs))"
   ]
  },
  {
   "cell_type": "code",
   "execution_count": null,
   "metadata": {},
   "outputs": [],
   "source": [
    "fig,ax = PyPlot.subplots(1, 2, figsize=(18,8))\n",
    "\n",
    "for (dataset, limits, sx_max, color) in zip([\"tm\", \"mca\", \"gtex\"],[(12,1000); (72,4100); (62,5100)],[82 122 122], [\"red\" \"blue\" \"gray\"])\n",
    "    Rs = Matrix(CSV.read(\"rs_$(dataset).csv\"))\n",
    "    ax[1].plot(range(bounds[\"sx\"][\"min\"],sx_max-1,step=bounds[\"sx\"][\"step\"]), Rs[:,Int64((limits[2]-bounds[\"dx\"][\"min\"])/bounds[\"dx\"][\"step\"]+1)], lw=15, color=color)\n",
    "    ax[2].plot(range(bounds[\"dx\"][\"min\"],bounds[\"dx\"][\"max\"],step=bounds[\"dx\"][\"step\"]), Rs[Int64((limits[1]-bounds[\"sx\"][\"min\"])/bounds[\"sx\"][\"step\"]+1),:], lw=15, color=color)\n",
    "        \n",
    "    ax[1].vlines([limits[1]], 0.95, 1, colors=color, ls=\"-.\", lw=10, alpha =0.5)\n",
    "    ax[2].vlines([limits[2]], 0.98, 1, colors=color, ls=\"-.\", lw=10, alpha =0.5)\n",
    "end\n",
    "\n",
    "ax[1].set_ylabel(L\"R^2\", fontsize=35)\n",
    "ax[1].set_xlabel(\"left bound\", fontsize=35)\n",
    "#ax[1].set_xscale(\"log\")\n",
    "\n",
    "ax[2].set_xlabel(\"right bound\", fontsize=35)\n",
    "#ax[2].set_xscale(\"log\")\n",
    "\n",
    "ax[1].tick_params(axis=\"x\", rotation=10)\n",
    "ax[2].tick_params(axis=\"x\", rotation=10)\n",
    "#ax[2].set_ylim(0.98,0.999)\n",
    "\n",
    "PyPlot.show()\n",
    "fig.savefig(\"bounds.pdf\")"
   ]
  },
  {
   "cell_type": "code",
   "execution_count": null,
   "metadata": {},
   "outputs": [],
   "source": [
    "fig,ax = PyPlot.subplots(3, 2, figsize=(18,24))\n",
    "\n",
    "for ((idataset,dataset), limits, sx_max, color) in zip(enumerate([\"tm\", \"mca\", \"gtex\"]),[(12,1000); (72,4100); (62,5100)],[82 122 122], [\"red\" \"blue\" \"gray\"])\n",
    "    Rs = Matrix(CSV.read(\"rs_$(dataset).csv\"))\n",
    "    \n",
    "    lax = idataset\n",
    "    rax= idataset+3\n",
    "    \n",
    "    ax[lax].plot(range(bounds[\"sx\"][\"min\"],sx_max,step=bounds[\"sx\"][\"step\"]), Rs[:,Int64((limits[2]-bounds[\"dx\"][\"min\"])/bounds[\"dx\"][\"step\"]+1)], lw=15, color=color)\n",
    "    ax[rax].plot(range(bounds[\"dx\"][\"min\"],bounds[\"dx\"][\"max\"],step=bounds[\"dx\"][\"step\"]), Rs[Int64((limits[1]-bounds[\"sx\"][\"min\"])/bounds[\"sx\"][\"step\"]+1),:], lw=15, color=color)\n",
    "    \n",
    "    ax[lax].vlines([limits[1]], 0.95, 1, colors=color, ls=\"-.\", lw=10, alpha =0.5)\n",
    "    ax[rax].vlines([limits[2]], 0.98, 1, colors=color, ls=\"-.\", lw=10, alpha =0.5)\n",
    "    \n",
    "    ax[lax].set_ylabel(L\"R^2\", fontsize=35)\n",
    "\n",
    "    ax[rax].set_xscale(\"log\")\n",
    "    \n",
    "    ax[lax].tick_params(axis=\"x\", rotation=10)\n",
    "    ax[lax].tick_params(axis=\"x\", rotation=10)\n",
    "    \n",
    "    ax[lax].tick_params(labelsize=35, width=8, length=20)\n",
    "    ax[lax].tick_params(axis=\"both\", which=\"minor\", width=5, length=10)\n",
    "    \n",
    "    ax[rax].tick_params(labelsize=35, width=8, length=20)\n",
    "    ax[rax].tick_params(axis=\"both\", which=\"minor\", width=5, length=10)\n",
    "\n",
    "end\n",
    "\n",
    "ax[3].set_xlabel(\"left bound\", fontsize=35)\n",
    "ax[6].set_xlabel(\"right bound\", fontsize=35)\n",
    "\n",
    "ax[1].set_title(\"Tabula Muris\", fontsize=35)\n",
    "ax[2].set_title(\"Mouse Cell Atlas\", fontsize=35)\n",
    "ax[3].set_title(\"GTEx\", fontsize=35)\n",
    "\n",
    "\n",
    "ax[1].set_ylim(0.99,1)\n",
    "ax[4].set_ylim(0.98,1)\n",
    "ax[5].set_ylim(0.9950,1)\n",
    "\n",
    "\n",
    "PyPlot.show()\n",
    "fig.savefig(\"bounds_panel.pdf\")"
   ]
  },
  {
   "cell_type": "code",
   "execution_count": null,
   "metadata": {},
   "outputs": [],
   "source": [
    "limits = (Int64(round(mean([12 72 62]))), Int64(round(mean([1000 4100 5100])))) #tm mca gtex\n",
    "\n",
    "fig, ax = PyPlot.subplots(figsize=(18,15))\n",
    "\n",
    "ax.plot(f_gtex, label=\"GTEx\", lw=15, color=\"gray\", alpha=0.7)\n",
    "ax.plot(f_mca, label=\"Mouse Cell Atlas\", lw=15, color=\"blue\", alpha=0.6)\n",
    "ax.plot(f_tm, label=\"Tabula Muris\", lw=15, color=\"red\", alpha=0.5)\n",
    "\n",
    "X = collect(1:1e5)\n",
    "\n",
    "ax.vlines([limits[1] limits[2]], 1e-9, 1e-1, colors=\"gray\", ls=\"-.\", lw=15, alpha =0.5)\n",
    "ax.annotate(\"$(limits[1])\", (limits[1],2e-9), fontsize=35, alpha=0.8)\n",
    "ax.annotate(\"$(limits[2])\", (limits[2],2e-9), fontsize=35, alpha=0.8)\n",
    "\n",
    "\n",
    "ax.legend(fontsize=35)\n",
    "ax.set_yscale(\"log\")\n",
    "ax.set_xscale(\"log\")\n",
    "\n",
    "ax.set_xlabel(L\"Rank, $i$\", fontsize=35)\n",
    "ax.set_ylabel(L\"Frequency, $f_i$\", fontsize=35)\n",
    "\n",
    "ax.tick_params(labelsize=35, width=8, length=20)\n",
    "\n",
    "ax.set_xlim(1,1e5)\n",
    "ax.set_ylim(1e-9,1e0)\n",
    "show()\n",
    "\n",
    "fig.savefig(\"zipf_alldatasets_fit_avg.pdf\")"
   ]
  },
  {
   "cell_type": "markdown",
   "metadata": {},
   "source": [
    "### Save first regime for GO"
   ]
  },
  {
   "cell_type": "code",
   "execution_count": null,
   "metadata": {},
   "outputs": [],
   "source": [
    "first_regime = DataFrames.DataFrame()\n",
    "first_regime.mca = sort(CSV.read(\"A_mca.dat\"), 2, rev=true).Column1[1:limits[1]]\n",
    "first_regime.tm = sort(CSV.read(\"A_tm.dat\"), 2, rev=true).Column1[1:limits[1]]\n",
    "first_regime.gtex = sort(CSV.read(\"A_gtex.dat\"), 2, rev=true).ensg[1:limits[1]]\n",
    "CSV.write(\"first_regime.csv\",first_regime)\n",
    "\n",
    "first_common = first_regime\n",
    "filter(isin, first_regime.mca)"
   ]
  },
  {
   "cell_type": "markdown",
   "metadata": {},
   "source": [
    "# Global scaling"
   ]
  },
  {
   "cell_type": "markdown",
   "metadata": {},
   "source": [
    "## Var vs Mean"
   ]
  },
  {
   "cell_type": "code",
   "execution_count": null,
   "metadata": {},
   "outputs": [],
   "source": [
    "data_source = \"mca\"\n",
    "data = load_pickle(\"$(data_source)/data_all.pkl\");"
   ]
  },
  {
   "cell_type": "code",
   "execution_count": null,
   "metadata": {},
   "outputs": [],
   "source": [
    "fig, ax = PyPlot.subplots(figsize=(18,15))\n",
    "\n",
    "ax.scatter(data[\"means\"], data[\"var\"], c=\"gray\", s=225, alpha=0.3, label=\"data\")\n",
    "\n",
    "x = range(1e-5,10, length=10)\n",
    "ax.plot(x,x, lw=5, color=\"red\", ls=\"--\", label=L\"$m_g$ (Poisson)\")\n",
    "\n",
    "x = range(0.5,5e5, length=10)\n",
    "ax.plot(x,[x_i^2 for x_i in x], lw=5, color=\"blue\", ls=\"--\", label=L\"$m_g^2$ (Taylor)\")\n",
    "\n",
    "ax.set_xlabel(L\"Mean expression level, $m_g$\", fontsize=35)\n",
    "ax.set_ylabel(L\"Variance of expression level, $v_g$\", fontsize=35)\n",
    "\n",
    "ax.set_xscale(\"log\")\n",
    "ax.set_yscale(\"log\")\n",
    "\n",
    "ax.tick_params(labelsize=35, width=8, length=20)\n",
    "\n",
    "ax.set_xlim(1e-5, data[\"means\"].max()*1.5)\n",
    "ax.set_ylim(1e-6, data[\"var\"].max()*1.5)\n",
    "\n",
    "ax.legend(fontsize=35)\n",
    "\n",
    "PyPlot.show()\n",
    "fig.savefig(\"var_mean_$(data_source).pdf\")"
   ]
  },
  {
   "cell_type": "markdown",
   "metadata": {},
   "source": [
    "## CV2 mean"
   ]
  },
  {
   "cell_type": "code",
   "execution_count": null,
   "metadata": {},
   "outputs": [],
   "source": [
    "fig, ax = PyPlot.subplots(figsize=(18,15))\n",
    "\n",
    "means = [m for (m,v) in zip(data[\"means\"], data[\"var\"]) if v>1e-6]\n",
    "vars = [v for v in data[\"var\"] if v>1e-6]\n",
    "\n",
    "ax.scatter(means, [v/m/m for (m,v) in zip(means, vars)], c=\"gray\", alpha=0.3, s=225, label=\"data\")\n",
    "\n",
    "x = range(1e-5,10, length=10)\n",
    "ax.plot(x,[1/x_i for x_i in x], lw=5, color=\"red\", ls=\"--\", label=L\"$m_g^{-1}$ (Poisson)\")\n",
    "\n",
    "x = range(0.5,5e5, length=10)\n",
    "ax.plot(x,[1 for _ in x], lw=5, color=\"blue\", ls=\"--\", label=L\"$1$ (Taylor)\")\n",
    "\n",
    "ax.set_ylabel(L\"Coefficient of variation squared, $CV^2_g$\", fontsize=35)\n",
    "ax.set_xlabel(L\"Mean expression level, $m_g$\", fontsize=35)\n",
    "\n",
    "ax.set_xscale(\"log\")\n",
    "ax.set_yscale(\"log\")\n",
    "\n",
    "ax.tick_params(labelsize=35, width=8, length=20)\n",
    "\n",
    "ax.set_xlim(1e-5, maximum(means)*1.5)\n",
    "ax.set_ylim(5e-2, 1e5)\n",
    "\n",
    "ax.legend(fontsize=35)\n",
    "\n",
    "PyPlot.show()\n",
    "fig.savefig(\"cv2_mean_$(data_source).pdf\")"
   ]
  },
  {
   "cell_type": "markdown",
   "metadata": {},
   "source": [
    "# Histogram of all data"
   ]
  },
  {
   "cell_type": "code",
   "execution_count": null,
   "metadata": {},
   "outputs": [],
   "source": [
    "fig, ax = PyPlot.subplots(figsize=(18,15))\n",
    "\n",
    "data_source= \"mca\"\n",
    "n_bins=50\n",
    "\n",
    "bin_counts=zeros(n_bins)\n",
    "bin_edges = zeros(n_bins+1)\n",
    "\n",
    "bin_pdf = zeros(n_bins)\n",
    "\n",
    "for tissue in [f for f in readdir(\"$(data_source)\") if occursin(\"mainTable\",f)]\n",
    "    println(tissue)\n",
    "    if occursin(\"Marrow.csv\", tissue)\n",
    "        continue\n",
    "    end\n",
    "    df = CSV.read(\"$(data_source)/$(tissue)\");\n",
    "    df_values = convert(Array, select!(df,Not(1)));\n",
    "    #df_values=df_values./sum(df_values, dims = 1)\n",
    "    df_values = reshape(df_values,1,size(df_values)[1]*size(df_values)[2])\n",
    "    df_values = df_values[df_values.>10]\n",
    "    x=[log2(dge) for dge in df_values];\n",
    "    bc, be = ax.hist(x, lw=10, histtype=\"step\", density=false, bins = n_bins)\n",
    "    bin_counts+=bc\n",
    "    x_bins = (be[2:length(be)] + be[1:length(be)-1])/2\n",
    "    bin_pdf += pdf(kde(x), x_bins)\n",
    "    bin_edges=be\n",
    "end\n",
    "GC.gc()"
   ]
  },
  {
   "cell_type": "code",
   "execution_count": null,
   "metadata": {},
   "outputs": [],
   "source": [
    "fig, ax = PyPlot.subplots(figsize=(18,15))\n",
    "\n",
    "\n",
    "#bin_count, bin_edges = ax.hist(x, lw=10, histtype=\"step\", density=true, bins = 20)\n",
    "\n",
    "x_bins = (bin_edges[2:length(bin_edges)]+ bin_edges[1:length(bin_edges)-1])/2\n",
    "\n",
    "rang = 2:n_bins\n",
    "ax.hist(bin_edges[2:length(bin_edges)-1], bins=bin_edges[2:length(bin_edges)-1], weights=bin_counts[rang] / sum(bin_counts[rang]), histtype=\"step\", lw=15, alpha=0.8, label=\"data\")\n",
    "\n",
    "ax.plot(x_bins[rang], bin_pdf[rang] / sum(bin_pdf[rang]), lw=15, alpha=0.6, label=\"KDE\")\n",
    "\n",
    "ax.set_xlabel(\"Log2(UMI)\", fontsize=35)\n",
    "ax.set_ylabel(\"Probability density function\", fontsize=35)\n",
    "\n",
    "#ax.set_yscale(\"log\")\n",
    "\n",
    "ax.legend(fontsize=35)\n",
    "PyPlot.show()\n",
    "\n",
    "fig.savefig(\"all_hist_$(data_source).pdf\")\n",
    "fig.savefig(\"all_hist_$(data_source).png\", dpi=400)"
   ]
  },
  {
   "cell_type": "markdown",
   "metadata": {},
   "source": [
    "# Global U"
   ]
  },
  {
   "cell_type": "code",
   "execution_count": null,
   "metadata": {},
   "outputs": [],
   "source": [
    "data = load_pickle(\"mca/data_all.pkl\");"
   ]
  },
  {
   "cell_type": "code",
   "execution_count": null,
   "metadata": {},
   "outputs": [],
   "source": [
    "fig, ax = PyPlot.subplots(figsize=(18,15))\n",
    "\n",
    "bins = -0.05:0.1:1.05\n",
    "\n",
    "bin_counts, bin_edges = ax.hist(data[\"O\"].values[data[\"O\"].index.isin(CSV.read(\"tm/mainTable_Aorta-counts.csv.csv\").Column1)], color=\"blue\", lw=10, histtype=\"step\", bins=bins)\n",
    "\n",
    "x_bins = (bin_edges[1:length(bin_edges)-1]+bin_edges[2:length(bin_edges)])/2\n",
    "ax.hist(x_bins, weights=bin_counts, bins=bins, histtype=\"stepfilled\", lw=0, alpha=0.8)\n",
    "\n",
    "ax.set_xlabel(L\"Occurrence, O_i\", fontsize=35)\n",
    "ax.set_ylabel(\"Number of genes\", fontsize=35)\n",
    "\n",
    "ax.tick_params(labelsize=35, width=8, length=20)\n",
    "ax.tick_params(which=\"minor\", width=6, length=10)\n",
    "\n",
    "PyPlot.show()\n",
    "fig.savefig(\"U_mca.pdf\")"
   ]
  },
  {
   "cell_type": "markdown",
   "metadata": {},
   "source": [
    "# Pdf of Frequencies"
   ]
  },
  {
   "cell_type": "code",
   "execution_count": null,
   "metadata": {},
   "outputs": [],
   "source": [
    "data = load_pickle(\"mca/data_all.pkl\");"
   ]
  },
  {
   "cell_type": "code",
   "execution_count": null,
   "metadata": {},
   "outputs": [],
   "source": [
    "fig, ax = PyPlot.subplots(figsize=(18,15))\n",
    "\n",
    "\n",
    "#ax.plot(sort!(data[\"freq\"].values,rev=true), label=\"nan=0\", lw=10)\n",
    "#ax.plot(sort!(data[\"means\"].values/sum(filter(!isnan, data[\"means\"].values)),rev=true), label=\"w/o nan\", lw=10)\n",
    "ax.plot(sort!(data[\"means_nonzero\"].values/sum(filter(!isnan, data[\"means_nonzero\"].values)),rev=true), ms=50, label=\"m0\", lw=10)\n",
    "\n",
    "ax.set_xscale(\"log\")\n",
    "ax.set_yscale(\"log\")\n",
    "\n",
    "ax.legend(fontsize=35)\n",
    "ax.set_yscale(\"log\")\n",
    "ax.set_xscale(\"log\")\n",
    "\n",
    "ax.set_ylim(1e-9,1e-1)\n",
    "\n",
    "ax.tick_params(labelsize=35, width=8, length=20)\n",
    "ax.set_xlabel(L\"Rank, $i$\", fontsize=35)\n",
    "ax.set_ylabel(L\"Frequency, $f_i$\", fontsize=35)"
   ]
  },
  {
   "cell_type": "code",
   "execution_count": null,
   "metadata": {},
   "outputs": [],
   "source": [
    "fig, ax = PyPlot.subplots(figsize=(18,15))\n",
    "\n",
    "f = filter(!isnan, data[\"means_nonzero\"].values)\n",
    "f = f / sum(f)\n",
    "#f = data[\"freq\"].values\n",
    "f = f[f .> 0]\n",
    "f = f[f .< 5e-3]\n",
    "\n",
    "a_old = mean(f)*mean(f)/std(f)/std(f)\n",
    "b_old = std(f)*std(f)/mean(f)\n",
    "\n",
    "f = f.-mean(f)\n",
    "\n",
    "a = mean(f)*mean(f)/std(f)/std(f)\n",
    "b = std(f)*std(f)/mean(f)\n",
    "\n",
    "println(mean(f), \" \", a_old,\" \",b_old)\n",
    "print(mean(f), \" \", a,\" \",b)\n",
    "\n",
    "\n",
    "#x_bins = sort!([10. ^ -x for x in 1:0.2:8])\n",
    "x_bins = sort!([10. ^ x for x in log10(minimum(f)):0.01:log10(maximum(f))])\n",
    "bin_counts, bin_edges = ax.hist(f, bins=x_bins, density=false, color=\"blue\", histtype=\"step\", lw=15)\n",
    "\n",
    "ax.plot(x_bins, pdf.(Gamma(a_old,b_old),x_bins), lw = 10)\n",
    "\n",
    "ax.set_xlabel(L\"Frequency, f_i\", fontsize=35)\n",
    "ax.set_ylabel(\"Probability density function\", fontsize=35)\n",
    "\n",
    "ax.tick_params(labelsize=35, width=8, length=20)\n",
    "ax.tick_params(which=\"minor\", width=6, length=10)\n",
    "ax.tick_params(axis=\"x\", which=\"both\", rotation=45)\n",
    "\n",
    "#kde_values = pdf(kde(f), x_bins)\n",
    "#ax.plot(x_bins,kde_values/sum(kde_values)*30000)\n",
    "\n",
    "#ax.set_xscale(\"log\")\n",
    "ax.set_yscale(\"log\")\n",
    "\n",
    "ax.set_ylim(5e-1,1e4)\n",
    "\n",
    "PyPlot.tight_layout()\n",
    "PyPlot.show()\n",
    "fig.savefig(\"freqnan_pdf_mca.pdf\")"
   ]
  },
  {
   "cell_type": "markdown",
   "metadata": {},
   "source": [
    "# UMI count histogram"
   ]
  },
  {
   "cell_type": "code",
   "execution_count": null,
   "metadata": {},
   "outputs": [],
   "source": [
    "data = load_pickle(\"mca/data_all.pkl\");"
   ]
  },
  {
   "cell_type": "code",
   "execution_count": null,
   "metadata": {},
   "outputs": [],
   "source": [
    "fig, ax = PyPlot.subplots(figsize=(18,15))\n",
    "\n",
    "x_bins = sort!([10^i for i in log10(500):0.01:5])\n",
    "bin_counts, bin_edges = ax.hist(data[\"M\"], density=true, color=\"blue\", histtype=\"step\", lw=10, bins=x_bins)\n",
    "\n",
    "m = mean(data[\"M\"])\n",
    "ax.vlines([m], 0,1e-3, lw=15, alpha=0.8,  ls=\"-.\")\n",
    "ax.annotate(\"Average: $(@sprintf(\"%.0f\", m))\", (m*1.1,5e-4), fontsize=35)\n",
    "\n",
    "m = median(data[\"M\"])\n",
    "ax.vlines([m], 0,2e-3, lw=15, alpha=0.8,  ls=\"-.\")\n",
    "ax.annotate(\"Median: $(@sprintf(\"%.0f\", m))\", (m*1.1,10e-4), fontsize=35)\n",
    "\n",
    "x_bins=(bin_edges[1:length(bin_edges)-1]+bin_edges[2:length(bin_edges)])/2\n",
    "\n",
    "scaled_pois = function(X, par)\n",
    "    mu = par[1]\n",
    "    C = par[2]\n",
    "    a = par[3]\n",
    "    d = Poisson(mu)\n",
    "    return C*[pdf(d,round(Int, x/a::Float64)) for x in X]\n",
    "end\n",
    "\n",
    "fit_pois = curve_fit(scaled_pois, x_bins, bin_counts, [0.5, 0.1, 1000])\n",
    "popt = coef(fit_pois)\n",
    "println(popt)\n",
    "\n",
    "#ax.plot(x_bins, scaled_pois(x_bins, popt), lw=10, color=\"orange\")\n",
    "\n",
    "ax.set_xlabel(L\"UMI per cell, $M$\", fontsize=35)\n",
    "ax.set_ylabel(\"Probability density function\", fontsize=35)\n",
    "\n",
    "ax.tick_params(labelsize=35, width=8, length=20)\n",
    "\n",
    "ax.set_xscale(\"log\")\n",
    "#ax.set_yscale(\"log\")\n",
    "\n",
    "#ax.set_xlim(1,3e8)\n",
    "\n",
    "#ax.legend(fontsize=22)\n",
    "\n",
    "PyPlot.show()\n",
    "fig.savefig(\"M_hist_mca.pdf\")\n",
    "fig.savefig(\"M_hist_mca.eps\")"
   ]
  },
  {
   "cell_type": "markdown",
   "metadata": {},
   "source": [
    "# Heaps' integral"
   ]
  },
  {
   "cell_type": "code",
   "execution_count": null,
   "metadata": {},
   "outputs": [],
   "source": [
    "integrals = []\n",
    "used_tissues = []\n",
    "tissues = (split(split(f,\"data_\")[2],\"_data\")[1] for f in readdir(\"mca\") if occursin(\".pkl\",f) && !occursin(\"mazzolini\",f) && !occursin(\"data_all.pkl\",f))\n",
    "\n",
    "function fit_func(x,a,b)\n",
    "    return a*x^b\n",
    "end\n",
    "\n",
    "for tissue in tissues\n",
    "    println(tissue)\n",
    "    integral=load_pickle(\"mca/data_$(tissue)_data.pkl\")[\"heaps_integral\"][1]\n",
    "    params = load_pickle(\"mca/data_$(tissue)_data.pkl\")[\"heaps_fit\"]\n",
    "    integral=scipy_integrate.quad(fit_func, 500, 1000, args=(params[1], params[2]))[1]\n",
    "    append!(integrals, integral::Float64)\n",
    "end\n",
    "integrals = DataFrames.DataFrame(data=integrals, index = collect(tissues))\n",
    "sort!(integrals, rev=true)"
   ]
  },
  {
   "cell_type": "code",
   "execution_count": null,
   "metadata": {},
   "outputs": [],
   "source": [
    "CSV.write(\"integral_heaps.csv\", integrals)"
   ]
  },
  {
   "cell_type": "code",
   "execution_count": null,
   "metadata": {},
   "outputs": [],
   "source": [
    "fig, ax = PyPlot.subplots(figsize=(18,15))\n",
    "for (itissue, tissue) in enumerate(integrals.index)\n",
    "    ax.plot(itissue, integrals[itissue,1], marker=\"o\", c=frontiers.get_color(tissue), lw=0, ms=15)\n",
    "end\n",
    "locs, labels = xticks()\n",
    "ax.set_xticks(0:length(integrals.index))\n",
    "ax.set_xticklabels(rotation=90, labels = integrals.index)\n",
    "\n",
    "ax.set_ylabel(\"Heaps' integral\", fontsize=35)\n",
    "\n",
    "ax.tick_params(labelsize=25, width=8, length=20)\n",
    "\n",
    "fig.savefig(\"itegral_heapfs_scatter_plot_mca.pdf\")\n",
    "fig.savefig(\"itegral_heapfs_scatter_plot_mca.png\")"
   ]
  },
  {
   "cell_type": "code",
   "execution_count": null,
   "metadata": {},
   "outputs": [],
   "source": [
    "CSV.write(\"integral.csv\", integrals)"
   ]
  },
  {
   "cell_type": "code",
   "execution_count": null,
   "metadata": {},
   "outputs": [],
   "source": [
    "integrals.rank=1:length(integrals.index)"
   ]
  },
  {
   "cell_type": "code",
   "execution_count": null,
   "metadata": {},
   "outputs": [],
   "source": [
    "mca_tm"
   ]
  },
  {
   "cell_type": "code",
   "execution_count": null,
   "metadata": {},
   "outputs": [],
   "source": [
    "mca_tm = CSV.read(\"integral.csv\")\n",
    "select!(mca_tm,Not(:GTex))\n",
    "mca_tm = DataFrames.dropmissing(mca_tm)\n",
    "sort!(mca_tm,:TM)\n",
    "mca_tm.TM = 1:11\n",
    "sort!(mca_tm,:MCA)\n",
    "mca_tm.MCA = 1:11\n",
    "sort!(mca_tm, :MCA)"
   ]
  },
  {
   "cell_type": "code",
   "execution_count": null,
   "metadata": {},
   "outputs": [],
   "source": [
    "fig, ax = PyPlot.subplots(figsize=(18,15))\n",
    "ax.scatter(mca_tm.MCA, mca_tm.TM, c=\"gray\", s=2500)\n",
    "ax.set_xlabel(\"MCA integral's rank\", fontsize=35)\n",
    "ax.set_ylabel(\"TM integral's rank\", fontsize=35)\n",
    "\n",
    "ax.tick_params(labelsize=35, width=8, length=35)\n",
    "\n",
    "\n",
    "fig.savefig(\"heaps_rank_both.pdf\")\n",
    "fig.savefig(\"heaps_rank_both.svg\")"
   ]
  },
  {
   "cell_type": "markdown",
   "metadata": {},
   "source": [
    "# Analyse single organ"
   ]
  },
  {
   "cell_type": "code",
   "execution_count": 2,
   "metadata": {},
   "outputs": [],
   "source": [
    "tissue = \"Bone-Marrow_c-kit\"\n",
    "\n",
    "data = Dict()\n",
    "data[\"data\"]=load_pickle(\"mca/data_$(tissue)_data.pkl\")\n",
    "data[\"mazzolini\"]=load_pickle(\"mca/data_$(tissue)_mazzolini.pkl\");\n",
    "#data[\"null_1\"]=load_pickle(\"data_$(tissue)_null_1.pkl\")"
   ]
  },
  {
   "cell_type": "code",
   "execution_count": 3,
   "metadata": {},
   "outputs": [
    {
     "data": {
      "image/png": "[encoded data removed]",
      "text/plain": [
       "Figure(PyObject <Figure size 1200x1000 with 4 Axes>)"
      ]
     },
     "metadata": {},
     "output_type": "display_data"
    }
   ],
   "source": [
    "fig, ax = subplots(2,2, figsize=(12,10))\n",
    "f = data[\"data\"][\"means_nonzero\"].sort_values(ascending=false)\n",
    "\n",
    "ax[1].hist(f/f.sum(),  bins=50)\n",
    "ax[1].set_yscale(\"log\")\n",
    "ax[1].set_xlabel(\"Frequency\", fontsize=24)\n",
    "ax[1].set_ylabel(\"pdf\", fontsize=24)\n",
    "\n",
    "ax[2].plot(f/f.sum())\n",
    "ax[2].set_xscale(\"log\")\n",
    "ax[2].set_yscale(\"log\")\n",
    "ax[2].set_ylim(1e-6,1e-1)\n",
    "ax[2].set_xlabel(\"Rank, i\", fontsize=24)\n",
    "ax[2].set_ylabel(\"f_i\", fontsize=24)\n",
    "\n",
    "\n",
    "f = data[\"data\"][\"means\"].sort_values(ascending=false)\n",
    "\n",
    "ax[3].hist(f/f.sum(), bins=50)\n",
    "ax[3].set_yscale(\"log\")\n",
    "ax[3].set_xlabel(\"Frequency\", fontsize=24)\n",
    "ax[3].set_ylabel(\"pdf\", fontsize=24)\n",
    "\n",
    "ax[4].plot(f/f.sum())\n",
    "ax[4].set_xscale(\"log\")\n",
    "ax[4].set_yscale(\"log\")\n",
    "ax[4].set_ylim(1e-6,1e-1)\n",
    "ax[4].set_xlabel(\"Rank, i\", fontsize=24)\n",
    "ax[4].set_ylabel(\"f_i\", fontsize=24)\n",
    "fig.savefig(\"f_distribution.pdf\")\n",
    "show()"
   ]
  },
  {
   "cell_type": "code",
   "execution_count": 24,
   "metadata": {},
   "outputs": [
    {
     "data": {
      "image/png": "[encoded data removed]",
      "text/plain": [
       "Figure(PyObject <Figure size 3600x1500 with 2 Axes>)"
      ]
     },
     "metadata": {},
     "output_type": "display_data"
    },
    {
     "name": "stderr",
     "output_type": "stream",
     "text": [
      "The PostScript backend does not support transparency; partially transparent artists will be rendered opaque.\n",
      "The PostScript backend does not support transparency; partially transparent artists will be rendered opaque.\n",
      "The PostScript backend does not support transparency; partially transparent artists will be rendered opaque.\n",
      "The PostScript backend does not support transparency; partially transparent artists will be rendered opaque.\n",
      "The PostScript backend does not support transparency; partially transparent artists will be rendered opaque.\n",
      "The PostScript backend does not support transparency; partially transparent artists will be rendered opaque.\n",
      "The PostScript backend does not support transparency; partially transparent artists will be rendered opaque.\n",
      "The PostScript backend does not support transparency; partially transparent artists will be rendered opaque.\n"
     ]
    }
   ],
   "source": [
    "bins=10\n",
    "rang = (0-0.5/bins, 1+0.5/bins)\n",
    "fig, ax = subplots(1,2, figsize=(36,15))\n",
    "\n",
    "ax[1].hist(data[\"data\"][\"O\"], histtype=\"stepfilled\", lw=15, color=\"gray\", alpha=0.8, range=rang, bins=bins, label=\"data\", density=true)\n",
    "ax[1].hist(data[\"mazzolini\"][\"O\"],histtype=\"step\", lw=15, color=\"red\",range=rang, bins=bins, ls=\"--\", label=\"mazzolini\", density=true)\n",
    "\n",
    "ax[1].legend(fontsize=35)\n",
    "ax[1].set_xlabel(\"O_i\", fontsize=35)\n",
    "ax[1].set_xlabel(\"Probability density function\", fontsize=35)\n",
    "\n",
    "ax[1].tick_params(labelsize=35)\n",
    "\n",
    "ax[2].hist(data[\"data\"][\"O\"],histtype=\"stepfilled\", lw=15, color=\"gray\", alpha=0.8, range=rang, bins=bins, label=\"data\", density=true)\n",
    "ax[2].hist(data[\"mazzolini\"][\"O\"],histtype=\"step\", lw=15, range=rang, bins=bins, color=\"red\", ls=\"--\", label=\"mazzolini\", density=true)\n",
    "\n",
    "ax[2].set_yscale(\"log\")\n",
    "ax[2].legend(fontsize=35)\n",
    "ax[2].set_xlabel(\"O_i\", fontsize=35)\n",
    "ax[2].set_xlabel(\"Probability density function\", fontsize=35)\n",
    "\n",
    "ax[2].tick_params(labelsize=35)\n",
    "\n",
    "fig.savefig(\"null_U.pdf\")\n",
    "fig.savefig(\"U_bone_mazzolini.eps\")"
   ]
  },
  {
   "cell_type": "code",
   "execution_count": 5,
   "metadata": {},
   "outputs": [
    {
     "ename": "MethodError",
     "evalue": "MethodError: no method matching -(::Int64, ::Array{Float64,1})\nClosest candidates are:\n  -(!Matched::PyObject, ::Any) at /opt/julia/packages/PyCall/zqDXB/src/pyoperators.jl:13\n  -(::Union{Int128, Int16, Int32, Int64, Int8, UInt128, UInt16, UInt32, UInt64, UInt8}) at int.jl:51\n  -(::T, !Matched::T) where T<:Union{Int128, Int16, Int32, Int64, Int8, UInt128, UInt16, UInt32, UInt64, UInt8} at int.jl:52\n  ...",
     "output_type": "error",
     "traceback": [
      "MethodError: no method matching -(::Int64, ::Array{Float64,1})\nClosest candidates are:\n  -(!Matched::PyObject, ::Any) at /opt/julia/packages/PyCall/zqDXB/src/pyoperators.jl:13\n  -(::Union{Int128, Int16, Int32, Int64, Int8, UInt128, UInt16, UInt32, UInt64, UInt8}) at int.jl:51\n  -(::T, !Matched::T) where T<:Union{Int128, Int16, Int32, Int64, Int8, UInt128, UInt16, UInt32, UInt64, UInt8} at int.jl:52\n  ...",
      "",
      "Stacktrace:",
      " [1] top-level scope at In[5]:13"
     ]
    }
   ],
   "source": [
    "fig, ax = PyPlot.subplots()\n",
    "\n",
    "function fx(X)\n",
    "    ret = Vector{Float64}()\n",
    "    for x in X.values\n",
    "        append!(ret, exp(-x))\n",
    "    end\n",
    "   return ret\n",
    "end\n",
    "\n",
    "ax.scatter(data[\"data\"][\"means\"], 1-data[\"data\"][\"O\"], alpha=0.3, label=\"data\")\n",
    "ax.plot(data[\"data\"][\"means\"].sort_values(), fx(data[\"data\"][\"means\"].sort_values()), c=\"yellow\", ls=\"--\", alpha=0.5, label=\"1-exp(-x)\")\n",
    "ax.scatter(data[\"mazzolini\"][\"means\"], 1-data[\"mazzolini\"][\"O\"], c=\"orange\", alpha=0.2, label=\"mazzolini\")\n",
    "\n",
    "ax.legend()\n",
    "ax.set_xscale(\"log\")\n",
    "#ax.set_yscale(\"log\")\n",
    "ax.set_xlim(1e-4,30)\n",
    "ax.set_ylim(-0.1,1.1)\n",
    "\n",
    "ax.set_xlabel(\"mean\", fontsize=24)\n",
    "ax.set_ylabel(\"P(0)\", fontsize=24)\n",
    "\n",
    "fig.savefig(\"null_P_mean.pdf\")\n",
    "show()"
   ]
  },
  {
   "cell_type": "code",
   "execution_count": 6,
   "metadata": {},
   "outputs": [
    {
     "ename": "ErrorException",
     "evalue": "type Array has no field sort_values",
     "output_type": "error",
     "traceback": [
      "type Array has no field sort_values",
      "",
      "Stacktrace:",
      " [1] getproperty(::Array{Float64,1}, ::Symbol) at ./Base.jl:33",
      " [2] top-level scope at In[6]:3"
     ]
    }
   ],
   "source": [
    "fig, ax = PyPlot.subplots()\n",
    "ax.plot(data[\"data\"][\"freq\"].sort_values(ascending=false).values, label=\"data\")\n",
    "ax.plot(data[\"mazzolini\"][\"freq\"].sort_values(ascending=false).values, label=\"mazzolini\")\n",
    "\n",
    "ax.legend()\n",
    "ax.set_yscale(\"log\")\n",
    "ax.set_xscale(\"log\")\n",
    "\n",
    "ax.set_xlabel(\"Rank, i\", fontsize=24)\n",
    "ax.set_ylabel(\"f_i\", fontsize=24)\n",
    "show()\n",
    "\n",
    "fig.savefig(\"null_zipf.pdf\")"
   ]
  },
  {
   "cell_type": "code",
   "execution_count": 7,
   "metadata": {},
   "outputs": [
    {
     "ename": "ErrorException",
     "evalue": "type Array has no field values",
     "output_type": "error",
     "traceback": [
      "type Array has no field values",
      "",
      "Stacktrace:",
      " [1] getproperty(::Array{Float64,1}, ::Symbol) at ./Base.jl:33",
      " [2] top-level scope at In[7]:3"
     ]
    }
   ],
   "source": [
    "fig, ax = PyPlot.subplots(figsize=(10,5))\n",
    "ax.scatter(data[\"data\"][\"M\"].values, data[\"data\"][\"diffWords\"].values, label=\"data\")\n",
    "ax.scatter(data[\"mazzolini\"][\"M\"].values, data[\"mazzolini\"][\"diffWords\"].values, label=\"mazzolini\")\n",
    "\n",
    "\n",
    "ax.legend()\n",
    "ax.set_yscale(\"log\")\n",
    "ax.set_xscale(\"log\")\n",
    "ax.set_xlim(500,data[\"data\"][\"M\"].max()+1e4)\n",
    "ax.set_ylim(10,data[\"mazzolini\"][\"diffWords\"].max()+5e3)\n",
    "\n",
    "ax.set_xlabel(\"Size\", fontsize=24)\n",
    "\n",
    "ax.set_ylabel(\"# genes expressed\", fontsize=24)\n",
    "show()\n",
    "\n",
    "fig.savefig(\"null_heaps.pdf\")"
   ]
  },
  {
   "cell_type": "markdown",
   "metadata": {},
   "source": [
    "## Bone-Marrow"
   ]
  },
  {
   "cell_type": "markdown",
   "metadata": {},
   "source": [
    "### Heaps"
   ]
  },
  {
   "cell_type": "code",
   "execution_count": null,
   "metadata": {},
   "outputs": [],
   "source": [
    "loglog=true\n",
    "\n",
    "fig, ax = PyPlot.subplots(figsize=(18,15))\n",
    "\n",
    "log_bins = [10^x for x in log10(minimum(data[\"data\"][\"M\"].values)):0.1:log10(maximum(data[\"data\"][\"M\"].values))]\n",
    "ax.scatter(data[\"data\"][\"M\"], data[\"data\"][\"diffWords\"], c=\"gray\", alpha=0.3, s=225, label=\"data\")\n",
    "bin_means, bin_edges = scipy_stats.binned_statistic(data[\"data\"][\"M\"], data[\"data\"][\"diffWords\"], bins=log_bins)\n",
    "\n",
    "x_bins = (bin_edges[1:13] + bin_edges[2:14])/2\n",
    "ax.plot(x_bins, bin_means[1:13], c=\"blue\", alpha=0.9, lw=5, ms=25, marker=\"o\", label=\"binned_data\")\n",
    "\n",
    "\n",
    "ax.set_xlabel(\"UMI per cell\", fontsize=35)\n",
    "ax.set_ylabel(\"Number of expressed genes\", fontsize=35)\n",
    "\n",
    "if loglog\n",
    "    ax.set_xscale(\"log\")\n",
    "    ax.set_yscale(\"log\")\n",
    "end\n",
    "\n",
    "ax.legend(fontsize=35)\n",
    "\n",
    "ax.tick_params(labelsize=35, width=8, length=35)\n",
    "\n",
    "PyPlot.show()\n",
    "if loglog\n",
    "    fig.savefig(\"heaps_boneMarrow_MCA_loglog.pdf\")\n",
    "    fig.savefig(\"heaps_boneMarrow_MCA_loglog.png\", dpi=400)\n",
    "else\n",
    "    fig.savefig(\"heaps_boneMarrow_MCA.pdf\")\n",
    "    fig.savefig(\"heaps_boneMarrow_MCA.png\", dpi=400)\n",
    "end"
   ]
  },
  {
   "cell_type": "code",
   "execution_count": null,
   "metadata": {},
   "outputs": [],
   "source": [
    "fig, ax = PyPlot.subplots(figsize=(18,15))\n",
    "\n",
    "ax.scatter(data[\"data\"][\"M\"], data[\"data\"][\"diffWords\"], c=\"gray\", alpha=0.3, s=225, label=\"data\")\n",
    "ax.scatter(data[\"mazzolini\"][\"M\"], data[\"mazzolini\"][\"diffWords\"], c=\"red\", alpha=0.3, s=225, label=\"sampling model\")\n",
    "\n",
    "x_bins = (bin_edges[1:13] + bin_edges[2:14])/2\n",
    "ax.plot(x_bins, bin_means[1:13], c=\"blue\", alpha=0.9, ms=25, marker=\"o\", label=\"binned_data\")\n",
    "\n",
    "\n",
    "ax.set_xlabel(\"UMI per cell\", fontsize=35)\n",
    "ax.set_ylabel(\"Number of expressed genes\", fontsize=35)\n",
    "\n",
    "ax.tick_params(labelsize=35, width=8, length=35)\n",
    "ax.tick_params(which=\"minor\", labelsize=35, width=5, length=25)\n",
    "\n",
    "\n",
    "if loglog\n",
    "    ax.set_xscale(\"log\")\n",
    "    ax.set_yscale(\"log\")\n",
    "end\n",
    "\n",
    "ax.legend(fontsize=35)\n",
    "\n",
    "PyPlot.show()\n",
    "if loglog\n",
    "    fig.savefig(\"heaps_boneMarrow_sampling_MCA_loglog.pdf\")\n",
    "    fig.savefig(\"heaps_boneMarrow_sampling_MCA_loglog.png\", dpi=400)\n",
    "else\n",
    "    fig.savefig(\"heaps_boneMarrow_sampling_MCA.pdf\")\n",
    "    fig.savefig(\"heaps_boneMarrow_sampling_MCA.png\", dpi=400)\n",
    "end"
   ]
  },
  {
   "cell_type": "markdown",
   "metadata": {},
   "source": [
    "### U"
   ]
  },
  {
   "cell_type": "code",
   "execution_count": null,
   "metadata": {},
   "outputs": [],
   "source": [
    "100/length(data[\"data\"][\"M\"])"
   ]
  },
  {
   "cell_type": "code",
   "execution_count": null,
   "metadata": {},
   "outputs": [],
   "source": [
    "fig, ax = PyPlot.subplots(figsize=(18,15))\n",
    "\n",
    "density=true\n",
    "\n",
    "bins = [10^x for x in range(log10(3e-5), log10(1.05), length=10)]\n",
    "#bins = 0.003:0.05:1.05\n",
    "bin_counts, bin_edges = ax.hist(data[\"data\"][\"O\"].values[data[\"data\"][\"O\"].index.isin(CSV.read(\"tm/mainTable_Aorta-counts.csv.csv\").Column1)], color=\"gray\", lw=10, histtype=\"step\", bins=bins, density=density)\n",
    "\n",
    "x_bins = (bin_edges[1:length(bin_edges)-1]+bin_edges[2:length(bin_edges)])/2\n",
    "ax.hist(x_bins, weights=bin_counts, bins=bins, histtype=\"stepfilled\", color=\"gray\", lw=0, alpha=0.3)\n",
    "\n",
    "bin_counts, bin_edges = ax.hist(data[\"mazzolini\"][\"O\"].dropna(), color=\"red\", lw=10, histtype=\"step\", bins=bins, density=density)\n",
    "\n",
    "\n",
    "ax.set_xlabel(L\"Occurrence, O_i\", fontsize=35)\n",
    "ax.set_ylabel(\"Number of genes\", fontsize=35)\n",
    "\n",
    "ax.tick_params(labelsize=35, width=8, length=20)\n",
    "ax.tick_params(which=\"minor\", width=6, length=10)\n",
    "\n",
    "ax.set_yscale(\"log\")\n",
    "ax.set_xscale(\"log\")\n",
    "\n",
    "PyPlot.show()\n",
    "fig.savefig(\"U_$(tissue)_mca.pdf\")"
   ]
  },
  {
   "cell_type": "markdown",
   "metadata": {},
   "source": [
    "# Count Zeros"
   ]
  },
  {
   "cell_type": "code",
   "execution_count": null,
   "metadata": {},
   "outputs": [],
   "source": [
    "data = load_pickle(\"mca/data_all.pkl\")\n",
    "data[\"O\"].sum()*length(data[\"M\"])"
   ]
  },
  {
   "cell_type": "code",
   "execution_count": null,
   "metadata": {},
   "outputs": [],
   "source": [
    "1-mean(data[\"O\"].values[data[\"O\"].values .> 0])"
   ]
  },
  {
   "cell_type": "code",
   "execution_count": null,
   "metadata": {},
   "outputs": [],
   "source": [
    "length(data[\"M\"].dropna())"
   ]
  }
 ],
 "metadata": {
  "kernelspec": {
   "display_name": "Julia 1.4.1",
   "language": "julia",
   "name": "julia-1.4"
  },
  "language_info": {
   "file_extension": ".jl",
   "mimetype": "application/julia",
   "name": "julia",
   "version": "1.4.1"
  },
  "widgets": {
   "application/vnd.jupyter.widget-state+json": {
    "state": {},
    "version_major": 2,
    "version_minor": 0
   }
  }
 },
 "nbformat": 4,
 "nbformat_minor": 4
}

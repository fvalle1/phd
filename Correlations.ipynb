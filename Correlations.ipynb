{
 "cells": [
  {
   "cell_type": "code",
   "execution_count": null,
   "metadata": {},
   "outputs": [],
   "source": [
    "import pandas as pd\n",
    "import seaborn as sns\n",
    "import numpy as np\n",
    "import matplotlib.pyplot as plt"
   ]
  },
  {
   "cell_type": "code",
   "execution_count": null,
   "metadata": {},
   "outputs": [],
   "source": [
    "df = pd.read_csv(\"datasets/gtex/10/mainTable.csv\", index_col=0)\n",
    "df.head()"
   ]
  },
  {
   "cell_type": "code",
   "execution_count": null,
   "metadata": {},
   "outputs": [],
   "source": [
    "corrMatrix = df.corr()"
   ]
  },
  {
   "cell_type": "code",
   "execution_count": null,
   "metadata": {},
   "outputs": [],
   "source": [
    "ax = sns.heatmap(corrMatrix, annot=False, xticklabels=False, yticklabels=False)\n",
    "ax.set_title(\"data correlation\")\n",
    "\n",
    "fig = ax.get_figure()\n",
    "fig.savefig(\"gtex_pearson_tpm.png\")"
   ]
  },
  {
   "cell_type": "code",
   "execution_count": null,
   "metadata": {},
   "outputs": [],
   "source": [
    "import tensorflow as tf\n",
    "import tensorflow_probability as tfp"
   ]
  },
  {
   "cell_type": "code",
   "execution_count": null,
   "metadata": {},
   "outputs": [],
   "source": [
    "ax = sns.heatmap(tfp.stats.correlation(df.values).numpy(), annot=False, xticklabels=False, yticklabels=False)\n",
    "ax.set_title(\"data correlation\")\n",
    "\n",
    "fig = ax.get_figure()"
   ]
  },
  {
   "cell_type": "code",
   "execution_count": null,
   "metadata": {},
   "outputs": [],
   "source": [
    "def logfunc(read, alpha=1):\n",
    "    return np.log10(read+alpha) "
   ]
  },
  {
   "cell_type": "code",
   "execution_count": null,
   "metadata": {},
   "outputs": [],
   "source": [
    "data_tensor = tf.convert_to_tensor(df.values, dtype=tf.float16)"
   ]
  },
  {
   "cell_type": "code",
   "execution_count": null,
   "metadata": {},
   "outputs": [],
   "source": [
    "def log10(x):\n",
    "    numerator = tf.math.log(x)\n",
    "    denominator = tf.math.log(tf.constant(10, dtype=numerator.dtype))\n",
    "    return numerator / denominator"
   ]
  },
  {
   "cell_type": "code",
   "execution_count": null,
   "metadata": {},
   "outputs": [],
   "source": [
    "with tf.device(\"CPU\"):\n",
    "    correlations = []\n",
    "    for alpha in np.logspace(0,10,11):\n",
    "        newdf= log10(data_tensor+tf.constant(alpha, dtype=data_tensor.dtype))\n",
    "        avg_corr = tf.math.reduce_mean(corrMatrix, axis=None)\n",
    "        correlations.append((alpha, avg_corr))\n",
    "        ax = sns.heatmap(tfp.stats.correlation(newdf).numpy(), annot=False, xticklabels=False, yticklabels=False)\n",
    "        ax = sns.heatmap(corrMatrix, annot=False, xticklabels=False, yticklabels=False)\n",
    "        fig = ax.get_figure()\n",
    "        fig.savefig(f\"gtex_pearson_tpm_{alpha}.png\")\n",
    "        plt.show()"
   ]
  },
  {
   "cell_type": "code",
   "execution_count": null,
   "metadata": {},
   "outputs": [],
   "source": [
    "import hiplot as hip\n",
    "\n",
    "df = pd.DataFrame(index=['g1', 'g2', 'g3'], columns=['c1', 'c2', 'c3'], data=[[1,1,1],[4,10,4],[10,4,4]])\n",
    "df_files = pd.DataFrame(index=['c1', 'c2', 'c3'], columns=['primary_site'], data=['a','a','b'])\n",
    "\n",
    "df = df.append(df_files.transpose(), ignore_index=False)\n",
    "\n",
    "data = [df[c].to_dict() for c in df.columns]\n",
    "hip.Experiment.from_iterable(data).display(force_full_width=True)"
   ]
  },
  {
   "cell_type": "code",
   "execution_count": null,
   "metadata": {},
   "outputs": [],
   "source": [
    "data"
   ]
  },
  {
   "cell_type": "code",
   "execution_count": null,
   "metadata": {},
   "outputs": [],
   "source": []
  }
 ],
 "metadata": {
  "kernelspec": {
   "display_name": "Python 3",
   "language": "python",
   "name": "python3"
  },
  "language_info": {
   "codemirror_mode": {
    "name": "ipython",
    "version": 3
   },
   "file_extension": ".py",
   "mimetype": "text/x-python",
   "name": "python",
   "nbconvert_exporter": "python",
   "pygments_lexer": "ipython3",
   "version": "3.7.6"
  },
  "widgets": {
   "application/vnd.jupyter.widget-state+json": {
    "state": {},
    "version_major": 2,
    "version_minor": 0
   }
  }
 },
 "nbformat": 4,
 "nbformat_minor": 4
}

{
 "cells": [
  {
   "cell_type": "code",
   "execution_count": null,
   "id": "cooked-basic",
   "metadata": {},
   "outputs": [],
   "source": [
    "import pandas as pd\n",
    "import numpy as np"
   ]
  },
  {
   "cell_type": "code",
   "execution_count": null,
   "id": "junior-delhi",
   "metadata": {},
   "outputs": [],
   "source": [
    "df = pd.DataFrame(\n",
    "    index=[\"w_%d\"%w for w in range(10)],\n",
    "    columns=[\"doc_%d\"%d for d in range(100)],\n",
    "    data = np.random.randint(0,10,1000).reshape(10,100)\n",
    ")\n",
    "\n",
    "df_files = pd.DataFrame(index=df.columns, data=np.random.randint(0,4, df.shape[1]))"
   ]
  },
  {
   "cell_type": "code",
   "execution_count": null,
   "id": "polished-prototype",
   "metadata": {},
   "outputs": [],
   "source": [
    "with open(\"train-data.txt\", \"w\") as file:\n",
    "    for doc in df.columns:\n",
    "        total = (df[doc]>0).sum()\n",
    "        file.write(str(total))\n",
    "        for iw,(w,c) in enumerate(df[doc].items()):\n",
    "            if c>0:\n",
    "                file.write(f\" {iw}:{c}\")\n",
    "        file.write(\"\\n\")"
   ]
  },
  {
   "cell_type": "code",
   "execution_count": null,
   "id": "thorough-concern",
   "metadata": {},
   "outputs": [],
   "source": [
    "df_files.to_csv(\"train-label.txt\", index=False, header=False)"
   ]
  },
  {
   "cell_type": "code",
   "execution_count": null,
   "id": "engaging-salvation",
   "metadata": {},
   "outputs": [],
   "source": []
  }
 ],
 "metadata": {
  "kernelspec": {
   "display_name": "Python 3",
   "language": "python",
   "name": "python3"
  },
  "language_info": {
   "codemirror_mode": {
    "name": "ipython",
    "version": 3
   },
   "file_extension": ".py",
   "mimetype": "text/x-python",
   "name": "python",
   "nbconvert_exporter": "python",
   "pygments_lexer": "ipython3",
   "version": "3.8.8"
  }
 },
 "nbformat": 4,
 "nbformat_minor": 5
}

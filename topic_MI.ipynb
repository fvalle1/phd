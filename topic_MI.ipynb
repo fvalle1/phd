{
 "cells": [
  {
   "cell_type": "code",
   "execution_count": null,
   "id": "settled-produce",
   "metadata": {},
   "outputs": [],
   "source": [
    "import pandas as pd\n",
    "import numpy as np\n",
    "import os\n",
    "import sys\n",
    "import tensorflow as tf\n",
    "from scipy.stats import entropy\n",
    "import seaborn as sns"
   ]
  },
  {
   "cell_type": "code",
   "execution_count": null,
   "id": "brown-death",
   "metadata": {},
   "outputs": [],
   "source": [
    "directory = \"keywordTCGA/brca/\"\n",
    "os.chdir(directory)"
   ]
  },
  {
   "cell_type": "code",
   "execution_count": null,
   "id": "earned-trace",
   "metadata": {},
   "outputs": [],
   "source": [
    "df_first = pd.read_csv(\"topsbm/topsbm_level_2_topic-dist.csv\", index_col=1).drop(\"i_doc\", 1)\n",
    "df_second = pd.read_csv(\"trisbm/trisbm_level_1_metadatum-dist.csv\", index_col=1).drop(\"i_doc\", 1)\n",
    "df_second = df_second.reindex(index=df_first.index)"
   ]
  },
  {
   "cell_type": "code",
   "execution_count": null,
   "id": "broad-stopping",
   "metadata": {},
   "outputs": [],
   "source": [
    "tf.shape([1,2,3])"
   ]
  },
  {
   "cell_type": "code",
   "execution_count": null,
   "id": "private-domestic",
   "metadata": {},
   "outputs": [],
   "source": [
    "@tf.function\n",
    "def get_entropy(x: tf.Tensor, y: tf.Tensor, epsilon = 1e-7)->float:\n",
    "    #entropy(x.numpy(), y.numpy(), base=np.exp(1))\n",
    "    #tf.keras.losses.KLD(x,y)\n",
    "    \n",
    "    x = tf.clip_by_value(x, tf.constant(epsilon, dtype=x.dtype), tf.constant(1, dtype=x.dtype))\n",
    "    y = tf.clip_by_value(y, tf.constant(epsilon, dtype=y.dtype), tf.constant(1, dtype=y.dtype))\n",
    "    \n",
    "    return x*tf.math.log(x/y)\n",
    "\n",
    "@tf.function\n",
    "def get_array_entropy(first: tf.Tensor, second: tf.Tensor):\n",
    "    return tf.map_fn(lambda xi: \n",
    "          tf.map_fn(lambda yi: get_entropy(xi,yi), second),\n",
    "          first)\n",
    "\n",
    "@tf.function\n",
    "def get_all_rows_entropy(first: tf.Tensor, second: tf.Tensor):\n",
    "    return tf.reduce_sum(\n",
    "        tf.map_fn(lambda xi: \n",
    "          tf.reduce_sum(\n",
    "              tf.map_fn(lambda yi: get_array_entropy(xi,yi), second),\n",
    "              axis=0),\n",
    "          first, parallel_iterations=12),\n",
    "        axis=0)"
   ]
  },
  {
   "cell_type": "code",
   "execution_count": null,
   "id": "manual-testimony",
   "metadata": {
    "tags": []
   },
   "outputs": [],
   "source": [
    "first = tf.convert_to_tensor(df_first.values, dtype=tf.float64)\n",
    "second = tf.convert_to_tensor(df_second.values, dtype=tf.float64)\n",
    "get_array_entropy(first[0], second[1])[:2,:3]"
   ]
  },
  {
   "cell_type": "code",
   "execution_count": null,
   "id": "rubber-hollywood",
   "metadata": {},
   "outputs": [],
   "source": [
    "kld_matrix = get_array_entropy(tf.reduce_mean(first,0), np.nanmean(second, 0)).numpy()"
   ]
  },
  {
   "cell_type": "code",
   "execution_count": null,
   "id": "continuing-sustainability",
   "metadata": {},
   "outputs": [],
   "source": [
    "sns.heatmap(kld_matrix/kld_matrix.max(),\n",
    "           xticklabels=df_second.columns,\n",
    "           yticklabels=df_first.columns\n",
    "           )"
   ]
  },
  {
   "cell_type": "code",
   "execution_count": null,
   "id": "frequent-yellow",
   "metadata": {},
   "outputs": [],
   "source": [
    "kld_matrix"
   ]
  },
  {
   "cell_type": "code",
   "execution_count": null,
   "id": "veterinary-invasion",
   "metadata": {},
   "outputs": [],
   "source": []
  }
 ],
 "metadata": {
  "kernelspec": {
   "display_name": "Python 3",
   "language": "python",
   "name": "python3"
  },
  "language_info": {
   "codemirror_mode": {
    "name": "ipython",
    "version": 3
   },
   "file_extension": ".py",
   "mimetype": "text/x-python",
   "name": "python",
   "nbconvert_exporter": "python",
   "pygments_lexer": "ipython3",
   "version": "3.8.8"
  }
 },
 "nbformat": 4,
 "nbformat_minor": 5
}

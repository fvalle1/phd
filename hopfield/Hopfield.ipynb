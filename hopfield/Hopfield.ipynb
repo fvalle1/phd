{
 "cells": [
  {
   "cell_type": "code",
   "execution_count": null,
   "metadata": {},
   "outputs": [],
   "source": [
    "import pandas as pd\n",
    "import numpy as np\n",
    "import tensorflow as tf\n",
    "from topicpy import gtex\n",
    "import multiprocessing as mp"
   ]
  },
  {
   "cell_type": "code",
   "execution_count": null,
   "metadata": {},
   "outputs": [],
   "source": [
    "df = pd.read_csv('../datasets/gtex/10/lda/lda_level_3_topic-dist.csv', index_col=1).drop(\"i_doc\", axis=1)\n",
    "df=df.transpose().reset_index()\n",
    "df.rename({\"index\":\"id\"}, axis=1, inplace=True)\n",
    "#df.set_index(\"id\", inplace=True)\n",
    "df = df.set_index(\"id\").transpose()\n",
    "df = df.subtract(df.mean(axis=0),1).abs().divide(df.std(axis=0),1) \n",
    "df.head(2)"
   ]
  },
  {
   "cell_type": "code",
   "execution_count": null,
   "metadata": {},
   "outputs": [],
   "source": [
    "def get_tissue(sample):\n",
    "    return gtex.get_gtex_tissue(sample, samples=pd.read_csv('../datasets/gtex/10/files.dat', index_col=0))[\"SMTS\"]\n",
    "\n",
    "pool = mp.Pool(2)\n",
    "work = pool.map_async(get_tissue, df.index)\n",
    "\n",
    "pool.close()\n",
    "\n",
    "pool.join()\n",
    "df[\"tissue\"] = work.get()\n",
    "df.head()"
   ]
  },
  {
   "cell_type": "code",
   "execution_count": null,
   "metadata": {},
   "outputs": [],
   "source": [
    "import importlib, hopfield\n",
    "importlib.reload(hopfield)\n",
    "from hopfield import Hopfield"
   ]
  },
  {
   "cell_type": "code",
   "execution_count": null,
   "metadata": {},
   "outputs": [],
   "source": [
    "threshold_f = lambda p: p>0.4\n",
    "data_df=df.groupby(\"tissue\").mean().applymap(threshold_f).astype(int)\n",
    "data_tensor = tf.convert_to_tensor(data_df.values*2-1, dtype=tf.int8)"
   ]
  },
  {
   "cell_type": "code",
   "execution_count": null,
   "metadata": {},
   "outputs": [],
   "source": [
    "model = Hopfield(data_df.shape[1])\n",
    "model.load(data_tensor)\n",
    "print(model)\n",
    "model.train()"
   ]
  },
  {
   "cell_type": "code",
   "execution_count": null,
   "metadata": {},
   "outputs": [],
   "source": [
    "@tf.function\n",
    "def hamming(A, B):\n",
    "    assert(A.shape==B.shape)\n",
    "    return tf.divide(tf.cast(tf.reduce_sum(tf.abs(tf.subtract(tf.cast(A, dtype=tf.int64),tf.cast(B, dtype=tf.int64)))), tf.float64), 2*tf.cast(A.shape[0], tf.float64))\n",
    "\n",
    "def process_sample(sample):\n",
    "    return df_threshold.loc[:,sample].values*2-1\n",
    "\n",
    "def predict(sample, model):\n",
    "        reconstructed = model.reconstruct(sample)\n",
    "        return data_df.index[tf.argmin([hamming(reconstructed, data) for data in data_tensor])]"
   ]
  },
  {
   "cell_type": "code",
   "execution_count": null,
   "metadata": {},
   "outputs": [],
   "source": [
    "import logging\n",
    "logging.getLogger(\"hopfield\").setLevel(\"INFO\")"
   ]
  },
  {
   "cell_type": "code",
   "execution_count": null,
   "metadata": {},
   "outputs": [],
   "source": [
    "df_threshold = df.transpose().drop(\"tissue\", axis=0).applymap(threshold_f).astype(int)\n",
    "reals = []\n",
    "preds = []\n",
    "for sample in df.index:\n",
    "    pred = predict(process_sample(sample), model)\n",
    "    real = df.loc[sample,\"tissue\"]\n",
    "    if type(real)!=str:\n",
    "        real=real.values[0]\n",
    "    reals.append(real)\n",
    "    preds.append(pred)"
   ]
  },
  {
   "cell_type": "code",
   "execution_count": null,
   "metadata": {},
   "outputs": [],
   "source": [
    "from sklearn.metrics import accuracy_score, roc_auc_score"
   ]
  },
  {
   "cell_type": "code",
   "execution_count": null,
   "metadata": {},
   "outputs": [],
   "source": [
    "print(\"Acc \",accuracy_score(reals, preds))\n",
    "try:\n",
    "    print(\"AUC \",roc_auc_score(tf.one_hot(tf.unique(preds)[1],3),tf.one_hot(tf.unique(reals)[1],3), multi_class=\"ovr\"))\n",
    "except:\n",
    "    pass"
   ]
  },
  {
   "cell_type": "code",
   "execution_count": null,
   "metadata": {},
   "outputs": [],
   "source": [
    "threshold_f = lambda p: p>0.3\n",
    "data_df=df.groupby(\"tissue\").mean().applymap(threshold_f).astype(int)\n",
    "data_tensor = tf.convert_to_tensor(data_df.values*2-1, dtype=tf.int8)\n",
    "dist_matrix = tf.map_fn(lambda A: tf.map_fn(lambda B: tf.cast(hamming(A,B),tf.float64), tf.cast(data_tensor,tf.float64)), tf.cast(data_tensor,tf.float64)).numpy()"
   ]
  },
  {
   "cell_type": "code",
   "execution_count": null,
   "metadata": {},
   "outputs": [],
   "source": [
    "import seaborn as sns\n",
    "sns.heatmap(dist_matrix, vmin=0, vmax=1)"
   ]
  },
  {
   "cell_type": "code",
   "execution_count": null,
   "metadata": {},
   "outputs": [],
   "source": [
    "for i,data in enumerate(data_tensor):\n",
    "    print(predict(data, model), data_df.index[i])"
   ]
  },
  {
   "cell_type": "code",
   "execution_count": null,
   "metadata": {},
   "outputs": [],
   "source": [
    "for i, (p, r) in enumerate(zip(preds,reals)):\n",
    "    print(p,r)\n",
    "    if i >10:\n",
    "        break"
   ]
  },
  {
   "cell_type": "code",
   "execution_count": null,
   "metadata": {},
   "outputs": [],
   "source": []
  }
 ],
 "metadata": {
  "kernelspec": {
   "display_name": "Python 3",
   "language": "python",
   "name": "python3"
  },
  "language_info": {
   "codemirror_mode": {
    "name": "ipython",
    "version": 3
   },
   "file_extension": ".py",
   "mimetype": "text/x-python",
   "name": "python",
   "nbconvert_exporter": "python",
   "pygments_lexer": "ipython3",
   "version": "3.8.6"
  }
 },
 "nbformat": 4,
 "nbformat_minor": 4
}

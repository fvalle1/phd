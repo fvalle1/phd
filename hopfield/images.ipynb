{
 "cells": [
  {
   "cell_type": "code",
   "execution_count": 2,
   "id": "significant-dinner",
   "metadata": {},
   "outputs": [],
   "source": [
    "%load_ext autoreload\n",
    "%autoreload 2\n",
    "from hopfield import Hopfield\n",
    "import tensorflow as tf\n",
    "import numpy as np\n",
    "import os\n",
    "from tensorflow.keras.preprocessing.image import load_img, img_to_array, array_to_img"
   ]
  },
  {
   "cell_type": "code",
   "execution_count": 3,
   "id": "streaming-stage",
   "metadata": {},
   "outputs": [],
   "source": [
    "w, h = 100, 100"
   ]
  },
  {
   "cell_type": "code",
   "execution_count": 4,
   "id": "exact-inspiration",
   "metadata": {},
   "outputs": [],
   "source": [
    "imgs = [load_img(file, color_mode=\"grayscale\", target_size=(w,h), interpolation=\"nearest\") for file in filter(lambda file: \".jpeg\" in file, os.listdir())]"
   ]
  },
  {
   "cell_type": "code",
   "execution_count": 5,
   "id": "certified-bicycle",
   "metadata": {},
   "outputs": [],
   "source": [
    "img_idx = 0\n",
    "img = imgs[img_idx]"
   ]
  },
  {
   "cell_type": "code",
   "execution_count": 6,
   "id": "indirect-single",
   "metadata": {},
   "outputs": [],
   "source": [
    "img_arr = img_to_array(img)"
   ]
  },
  {
   "cell_type": "code",
   "execution_count": 7,
   "id": "scheduled-token",
   "metadata": {},
   "outputs": [
    {
     "data": {
      "image/png": "[encoded data removed]",
      "text/plain": [
       "<PIL.Image.Image image mode=L size=100x100 at 0x7FDA880F4850>"
      ]
     },
     "execution_count": 7,
     "metadata": {},
     "output_type": "execute_result"
    }
   ],
   "source": [
    "array_to_img(img_arr)"
   ]
  },
  {
   "cell_type": "code",
   "execution_count": 8,
   "id": "twelve-editing",
   "metadata": {},
   "outputs": [],
   "source": [
    "def preprocess(img):\n",
    "    img_arr = img_to_array(img)\n",
    "    img_arr = np.where(img_arr > 255/2, img_arr, 0)\n",
    "    img_arr = np.where(img_arr <= 255/2, img_arr, 1)\n",
    "    return img_arr"
   ]
  },
  {
   "cell_type": "code",
   "execution_count": 9,
   "id": "induced-humanity",
   "metadata": {},
   "outputs": [],
   "source": [
    "imgs_arr = np.array(list(map(preprocess, imgs)))"
   ]
  },
  {
   "cell_type": "code",
   "execution_count": 10,
   "id": "lightweight-delay",
   "metadata": {},
   "outputs": [
    {
     "data": {
      "image/png": "[encoded data removed]",
      "text/plain": [
       "<PIL.Image.Image image mode=L size=100x100 at 0x7FDA880F4A30>"
      ]
     },
     "execution_count": 10,
     "metadata": {},
     "output_type": "execute_result"
    }
   ],
   "source": [
    "array_to_img(imgs_arr[img_idx])"
   ]
  },
  {
   "cell_type": "code",
   "execution_count": 11,
   "id": "formed-portugal",
   "metadata": {},
   "outputs": [],
   "source": [
    "data_tensor = tf.convert_to_tensor(imgs_arr.reshape((len(imgs_arr),-1)))"
   ]
  },
  {
   "cell_type": "code",
   "execution_count": 21,
   "id": "toxic-blade",
   "metadata": {},
   "outputs": [],
   "source": [
    "from time import time"
   ]
  },
  {
   "cell_type": "code",
   "execution_count": 31,
   "id": "oriented-scanning",
   "metadata": {},
   "outputs": [
    {
     "name": "stderr",
     "output_type": "stream",
     "text": [
      "[2021-02-01 16:37:00,866] Creating model..\n",
      "[2021-02-01 16:37:00,944] Loading data...\n"
     ]
    },
    {
     "name": "stdout",
     "output_type": "stream",
     "text": [
      "WARNING:tensorflow:5 out of the last 5 calls to <function Hopfield.load_all_weights at 0x7fd9a022ddc0> triggered tf.function retracing. Tracing is expensive and the excessive number of tracings could be due to (1) creating @tf.function repeatedly in a loop, (2) passing tensors with different shapes, (3) passing Python objects instead of tensors. For (1), please define your @tf.function outside of the loop. For (2), @tf.function has experimental_relax_shapes=True option that relaxes argument shapes that can avoid unnecessary retracing. For (3), please refer to https://www.tensorflow.org/guide/function#controlling_retracing and https://www.tensorflow.org/api_docs/python/tf/function for  more details.\n"
     ]
    },
    {
     "name": "stderr",
     "output_type": "stream",
     "text": [
      "[2021-02-01 16:39:26,224] Training...\n"
     ]
    },
    {
     "name": "stdout",
     "output_type": "stream",
     "text": [
      "145.28000140190125\n",
      "Hopfield model with 10000 neurons and 1 memories loaded (max. 1380) \n",
      "3.035383939743042\n"
     ]
    }
   ],
   "source": [
    "model = Hopfield(data_tensor.shape[1])\n",
    "start = time()\n",
    "model.load(data_tensor)\n",
    "print(time()-start)\n",
    "print(model)\n",
    "start = time()\n",
    "model.train()\n",
    "print(time()-start)"
   ]
  },
  {
   "cell_type": "code",
   "execution_count": 25,
   "id": "burning-fetish",
   "metadata": {},
   "outputs": [
    {
     "data": {
      "image/png": "[encoded data removed]",
      "text/plain": [
       "<PIL.Image.Image image mode=L size=100x100 at 0x7FD9D8652790>"
      ]
     },
     "execution_count": 25,
     "metadata": {},
     "output_type": "execute_result"
    }
   ],
   "source": [
    "corrupted_arr = imgs_arr[0].copy()\n",
    "#corrupted_arr[90:,10:]=1\n",
    "corrupted_arr[20:90,10:30]=0\n",
    "array_to_img(corrupted_arr)"
   ]
  },
  {
   "cell_type": "code",
   "execution_count": 26,
   "id": "scheduled-medium",
   "metadata": {},
   "outputs": [
    {
     "data": {
      "image/png": "[encoded data removed]",
      "text/plain": [
       "<PIL.Image.Image image mode=L size=100x100 at 0x7FD9D86526A0>"
      ]
     },
     "execution_count": 26,
     "metadata": {},
     "output_type": "execute_result"
    }
   ],
   "source": [
    "array_to_img(imgs_arr[0])"
   ]
  },
  {
   "cell_type": "code",
   "execution_count": 27,
   "id": "complimentary-cover",
   "metadata": {},
   "outputs": [
    {
     "name": "stderr",
     "output_type": "stream",
     "text": [
      "[2021-02-01 15:53:26,694] Reconstructing...\n",
      "[2021-02-01 15:53:26,706] Training...\n"
     ]
    }
   ],
   "source": [
    "reconstructed_arr = model.reconstruct(corrupted_arr.reshape((1,-1))).numpy().reshape((w,h, 1))"
   ]
  },
  {
   "cell_type": "code",
   "execution_count": 28,
   "id": "internal-surveillance",
   "metadata": {},
   "outputs": [
    {
     "data": {
      "image/png": "[encoded data removed]",
      "text/plain": [
       "<PIL.Image.Image image mode=L size=100x100 at 0x7FD9D83F8AF0>"
      ]
     },
     "execution_count": 28,
     "metadata": {},
     "output_type": "execute_result"
    }
   ],
   "source": [
    "array_to_img(reconstructed_arr)"
   ]
  },
  {
   "cell_type": "code",
   "execution_count": 29,
   "id": "forty-probe",
   "metadata": {},
   "outputs": [],
   "source": [
    "np.savetxt(\"X.txt\", imgs_arr.reshape((1,-1)).astype(int), fmt=\"%d\")"
   ]
  },
  {
   "cell_type": "code",
   "execution_count": 30,
   "id": "special-certificate",
   "metadata": {},
   "outputs": [],
   "source": [
    "np.savetxt(\"corrupted.txt\", corrupted_arr.reshape((1,-1)).astype(int), fmt=\"%d\")"
   ]
  },
  {
   "cell_type": "code",
   "execution_count": 37,
   "id": "ranking-dancing",
   "metadata": {},
   "outputs": [
    {
     "data": {
      "image/png": "[encoded data removed]",
      "text/plain": [
       "<PIL.Image.Image image mode=L size=100x100 at 0x7FD9A016D850>"
      ]
     },
     "execution_count": 37,
     "metadata": {},
     "output_type": "execute_result"
    }
   ],
   "source": [
    "array_to_img(np.genfromtxt(\"X_out.csv\").reshape((w,h,1)))"
   ]
  },
  {
   "cell_type": "code",
   "execution_count": 40,
   "id": "selected-heath",
   "metadata": {},
   "outputs": [
    {
     "data": {
      "text/plain": [
       "array([-1., -1., -1., ..., -1., -1., -1.])"
      ]
     },
     "execution_count": 40,
     "metadata": {},
     "output_type": "execute_result"
    }
   ],
   "source": [
    "np.genfromtxt(\"X_out.csv\")"
   ]
  },
  {
   "cell_type": "code",
   "execution_count": null,
   "id": "infectious-connectivity",
   "metadata": {},
   "outputs": [],
   "source": []
  }
 ],
 "metadata": {
  "kernelspec": {
   "display_name": "Python 3",
   "language": "python",
   "name": "python3"
  },
  "language_info": {
   "codemirror_mode": {
    "name": "ipython",
    "version": 3
   },
   "file_extension": ".py",
   "mimetype": "text/x-python",
   "name": "python",
   "nbconvert_exporter": "python",
   "pygments_lexer": "ipython3",
   "version": "3.8.6"
  }
 },
 "nbformat": 4,
 "nbformat_minor": 5
}

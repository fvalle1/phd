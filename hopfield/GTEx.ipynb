{
 "cells": [
  {
   "cell_type": "code",
   "execution_count": null,
   "id": "elect-program",
   "metadata": {},
   "outputs": [],
   "source": [
    "import pandas as pd\n",
    "import numpy as np\n",
    "import logging\n",
    "log = logging.getLogger(\"gtex\")\n",
    "hdl = logging.StreamHandler()\n",
    "hdl.setLevel(logging.DEBUG)\n",
    "log.addHandler(hdl)\n",
    "log.setLevel(logging.DEBUG)"
   ]
  },
  {
   "cell_type": "code",
   "execution_count": null,
   "id": "average-cleaning",
   "metadata": {},
   "outputs": [],
   "source": [
    "genelist=pd.read_csv(\"https://stephenslab.github.io/count-clustering/project/utilities/gene_names_all_gtex.txt\", header=None).values.ravel()\n",
    "url = \"https://storage.googleapis.com/gtex_analysis_v8/rna_seq_data/GTEx_Analysis_2017-06-05_v8_RNASeQCv1.1.9_gene_median_tpm.gct.gz\"\n",
    "df_tissues = pd.read_csv(url, compression=\"gzip\", sep=\"\\t\", skiprows=2, index_col=0).drop(\"Description\",1)\n",
    "\n",
    "#filter proteincoding\n",
    "df_tissues.index=[g[:15] for g in df_tissues.index]\n",
    "df_tissues = df_tissues[df_tissues.index.isin(genelist)]\n",
    "\n",
    "# group by tissue\n",
    "df_tissues = df_tissues.transpose()\n",
    "df_tissues[\"tissue\"]=[t.split(\" -\")[0] for t in df_tissues.index]\n",
    "df_tissues=df_tissues.groupby(\"tissue\").mean()\n",
    "\n",
    "#center\n",
    "df_tissues = df_tissues.applymap(lambda tpm: np.log2(tpm+1))\n",
    "df_tissues = df_tissues.subtract(df_tissues.mean(0),1)\n",
    "\n",
    "print(df_tissues.shape)\n",
    "df_tissues.head(2)"
   ]
  },
  {
   "cell_type": "code",
   "execution_count": null,
   "id": "capital-clarity",
   "metadata": {},
   "outputs": [],
   "source": [
    "from sklearn.decomposition import PCA\n",
    "from sklearn.manifold import MDS"
   ]
  },
  {
   "cell_type": "code",
   "execution_count": null,
   "id": "duplicate-corpus",
   "metadata": {},
   "outputs": [],
   "source": [
    "pca = PCA(31)\n",
    "#mds = MDS(int(31/0.138))\n",
    "data = pca.fit_transform(df_tissues.values)\n",
    "#data = (df_tissues.values>0).astype(int)"
   ]
  },
  {
   "cell_type": "code",
   "execution_count": null,
   "id": "meaningful-senate",
   "metadata": {},
   "outputs": [],
   "source": [
    "from hopfield4py import Hopfield\n",
    "from hopfield4py.hopfield_helper import *\n",
    "import tensorflow as tf"
   ]
  },
  {
   "cell_type": "code",
   "execution_count": null,
   "id": "gothic-party",
   "metadata": {},
   "outputs": [],
   "source": [
    "data_tf=tf.convert_to_tensor((data>0).astype(int)*2-1, dtype=tf.int8)"
   ]
  },
  {
   "cell_type": "code",
   "execution_count": null,
   "id": "documentary-universal",
   "metadata": {},
   "outputs": [],
   "source": [
    "import matplotlib.pyplot as plt\n",
    "plt.scatter([x[0] for x in data], [x[1] for x in data])"
   ]
  },
  {
   "cell_type": "code",
   "execution_count": null,
   "id": "ranking-realtor",
   "metadata": {},
   "outputs": [],
   "source": [
    "model = Hopfield(data.shape[1])\n",
    "model.load_Kanter_Sompolinsky87(data_tf)\n",
    "model.train()\n",
    "print(model)"
   ]
  },
  {
   "cell_type": "code",
   "execution_count": null,
   "id": "considered-volunteer",
   "metadata": {},
   "outputs": [],
   "source": [
    "reals = df_tissues.index\n",
    "preds = get_predicted_labels(df_tissues.index, data_tf, data_tf, model)"
   ]
  },
  {
   "cell_type": "code",
   "execution_count": null,
   "id": "difficult-elimination",
   "metadata": {},
   "outputs": [],
   "source": [
    "import seaborn as sns\n",
    "from sklearn.metrics import confusion_matrix"
   ]
  },
  {
   "cell_type": "code",
   "execution_count": null,
   "id": "alert-harassment",
   "metadata": {},
   "outputs": [],
   "source": [
    "classes=[l.split(\"-\")[0] for l in df_tissues.index]"
   ]
  },
  {
   "cell_type": "code",
   "execution_count": null,
   "id": "standing-minutes",
   "metadata": {},
   "outputs": [],
   "source": [
    "@tf.function\n",
    "def get_distance_matrix(data_tensor, model, distance=hamming):\n",
    "    return tf.map_fn(lambda A: tf.map_fn(lambda B: tf.reduce_min([tf.cast(distance(B,model.reconstruct(A)),tf.float64)]), tf.cast(data_tensor,tf.float64), parallel_iterations=6), tf.cast(data_tensor,tf.float64), parallel_iterations=6)\n",
    "\n",
    "dist_matrix = get_distance_matrix(data_tf, model, dilutedhamming)"
   ]
  },
  {
   "cell_type": "code",
   "execution_count": null,
   "id": "systematic-companion",
   "metadata": {},
   "outputs": [],
   "source": [
    "ax = sns.heatmap(dist_matrix, \n",
    "            vmin=0, \n",
    "            vmax=1, \n",
    "            xticklabels=classes, \n",
    "            yticklabels=classes,\n",
    "            cbar_kws={\"label\":\"hamming\"})\n",
    "\n",
    "ax.set_xlabel(\"memories\", fontsize=35)\n",
    "ax.set_ylabel(\"memories\", fontsize=35)\n",
    "\n",
    "ax.tick_params(labelsize=30)\n",
    "ax.get_figure().set_figwidth(15)\n",
    "ax.get_figure().set_figheight(15)\n",
    "plt.tight_layout()\n",
    "plt.show()\n",
    "ax.get_figure().savefig(\"hammings_after_pca.pdf\")"
   ]
  },
  {
   "cell_type": "code",
   "execution_count": null,
   "id": "progressive-warrant",
   "metadata": {},
   "outputs": [],
   "source": [
    "cm = sns.clustermap(confusion_matrix(reals, preds, normalize=\"true\"),\n",
    "                    vmin = 0,\n",
    "                    vmax=1,  \n",
    "                    row_cluster=False, \n",
    "                    col_cluster=False, \n",
    "                    xticklabels=classes, \n",
    "                    yticklabels=classes,\n",
    "                    annot=False,\n",
    "                    annot_kws={\"fontsize\":15})\n",
    "ax = cm.ax_heatmap\n",
    "fig = ax.get_figure()\n",
    "ax.set_ylabel(\"real\", fontsize=35, rotation=90)\n",
    "ax.set_yticklabels(labels=classes, rotation=0)\n",
    "ax.yaxis.tick_left()\n",
    "ax.yaxis.set_label_position(\"left\")\n",
    "\n",
    "ax.set_xticklabels(labels=classes, rotation=90)\n",
    "ax.set_xlabel(\"predicted\",fontsize=35)\n",
    "ax.tick_params(labelsize=15)\n",
    "\n",
    "cax = cm.ax_cbar\n",
    "cax.tick_params(labelsize=30)\n",
    "cax.set_title(\"P()\", fontsize=30)\n",
    "plt.tight_layout()\n",
    "cm.savefig(f\"predict.pdf\")\n",
    "\n",
    "plt.show()"
   ]
  },
  {
   "cell_type": "markdown",
   "id": "prompt-auction",
   "metadata": {},
   "source": [
    "# From Original dataset"
   ]
  },
  {
   "cell_type": "code",
   "execution_count": null,
   "id": "japanese-difference",
   "metadata": {},
   "outputs": [],
   "source": [
    "df_files = pd.read_csv(\"https://storage.googleapis.com/gtex_analysis_v8/annotations/GTEx_Analysis_v8_Annotations_SampleAttributesDS.txt\", index_col=0, sep=\"\\t\")"
   ]
  },
  {
   "cell_type": "markdown",
   "id": "floating-breath",
   "metadata": {},
   "source": [
    "[GTEx.ipynb](../GTEx.ipynb)"
   ]
  },
  {
   "cell_type": "code",
   "execution_count": null,
   "id": "handy-heath",
   "metadata": {},
   "outputs": [],
   "source": [
    "df = pd.read_csv(\"gtex.csv\", index_col=0)"
   ]
  },
  {
   "cell_type": "markdown",
   "id": "danish-father",
   "metadata": {},
   "source": [
    "## Preprocess"
   ]
  },
  {
   "cell_type": "code",
   "execution_count": null,
   "id": "arbitrary-revolution",
   "metadata": {},
   "outputs": [],
   "source": [
    "# transpose\n",
    "log.info(\"transpose\")\n",
    "df = df.transpose()\n",
    "\n",
    "#center\n",
    "log.info(\"center\")\n",
    "df = df.applymap(lambda tpm: np.log2(tpm+1))\n",
    "df = df.subtract(df.mean(0),1)\n",
    "\n",
    "#group by tissue\n",
    "df[\"tissue\"]=df_files.reindex(index=df.index)[\"SMTS\"]\n",
    "\n",
    "df.head(2)"
   ]
  },
  {
   "cell_type": "markdown",
   "id": "african-speaker",
   "metadata": {},
   "source": [
    "## PCA on the whole log(FPKM+1) dataset"
   ]
  },
  {
   "cell_type": "code",
   "execution_count": null,
   "id": "brazilian-impression",
   "metadata": {},
   "outputs": [],
   "source": [
    "pca = PCA(200)\n",
    "data = pca.fit_transform(df.drop(\"tissue\",1).values)\n",
    "with open(\"pca.pkl\",\"wb\") as file:\n",
    "    import pickle\n",
    "    pickle.dump(pca, file)"
   ]
  },
  {
   "cell_type": "markdown",
   "id": "conceptual-liabilities",
   "metadata": {},
   "source": [
    "## Train Hopfield in low-dimensional-space"
   ]
  },
  {
   "cell_type": "code",
   "execution_count": null,
   "id": "described-original",
   "metadata": {},
   "outputs": [],
   "source": [
    "df_tissues = pd.DataFrame(data=data, index=df.index)\n",
    "df_tissues[\"tissue\"]=df_files.reindex(index=df_tissues.index)[\"SMTS\"]\n",
    "df_tissues = df_tissues.groupby(\"tissue\").mean()"
   ]
  },
  {
   "cell_type": "code",
   "execution_count": null,
   "id": "unexpected-smart",
   "metadata": {},
   "outputs": [],
   "source": [
    "df_tissues.to_csv(\"tissues_pca.csv\")\n",
    "#df_tissues=pd.read_csv(\"tissues_pca.csv\", index_col=0)\n",
    "data = df_tissues.values"
   ]
  },
  {
   "cell_type": "code",
   "execution_count": null,
   "id": "upper-cycle",
   "metadata": {},
   "outputs": [],
   "source": [
    "data_tf=tf.convert_to_tensor((data>0).astype(int)*2-1, dtype=tf.int8)"
   ]
  },
  {
   "cell_type": "code",
   "execution_count": null,
   "id": "contained-blowing",
   "metadata": {},
   "outputs": [],
   "source": [
    "model = Hopfield(data.shape[1])\n",
    "model.load_Kanter_Sompolinsky87(data_tf)\n",
    "model.train()\n",
    "print(model)"
   ]
  },
  {
   "cell_type": "markdown",
   "id": "cheap-steel",
   "metadata": {},
   "source": [
    "### Fast check with memories"
   ]
  },
  {
   "cell_type": "code",
   "execution_count": null,
   "id": "welsh-communications",
   "metadata": {},
   "outputs": [],
   "source": [
    "@tf.function\n",
    "def get_distance_matrix(data_tensor, model, distance=hamming):\n",
    "    return tf.map_fn(lambda A: tf.map_fn(lambda B: tf.reduce_min([tf.cast(distance(B,model.reconstruct(A)),tf.float64)]), tf.cast(data_tensor,tf.float64), parallel_iterations=6), tf.cast(data_tensor,tf.float64), parallel_iterations=6)\n",
    "\n",
    "dist_matrix = get_distance_matrix(data_tf, model, dilutedhamming)"
   ]
  },
  {
   "cell_type": "code",
   "execution_count": null,
   "id": "russian-clark",
   "metadata": {},
   "outputs": [],
   "source": [
    "classes=[l.split(\"-\")[0] for l in df_tissues.index]"
   ]
  },
  {
   "cell_type": "code",
   "execution_count": null,
   "id": "static-spirit",
   "metadata": {},
   "outputs": [],
   "source": [
    "ax = sns.heatmap(dist_matrix, \n",
    "            vmin=0, \n",
    "            vmax=1, \n",
    "            xticklabels=classes, \n",
    "            yticklabels=classes,\n",
    "            cbar_kws={\"label\":\"hamming\"})\n",
    "\n",
    "ax.set_xlabel(\"memories\")\n",
    "ax.set_ylabel(\"memories\")\n",
    "plt.show()"
   ]
  },
  {
   "cell_type": "markdown",
   "id": "impressive-tucson",
   "metadata": {},
   "source": [
    "## Get some random sample"
   ]
  },
  {
   "cell_type": "code",
   "execution_count": null,
   "id": "organized-fitting",
   "metadata": {},
   "outputs": [],
   "source": [
    "#sample\n",
    "log.info(\"sample\")\n",
    "df = df.drop(\"tissue\", 1).sample(n=1000, axis=1)"
   ]
  },
  {
   "cell_type": "markdown",
   "id": "radio-style",
   "metadata": {},
   "source": [
    "## Test on new samples"
   ]
  },
  {
   "cell_type": "code",
   "execution_count": null,
   "id": "hairy-tournament",
   "metadata": {},
   "outputs": [],
   "source": [
    "new_data = pca.fit_transform(df)\n",
    "new_data_tf=tf.convert_to_tensor((new_data>0).astype(int)*2-1, tf.int8)\n",
    "reals = df_files.reindex(index=df.index)[\"SMTS\"]\n",
    "preds = get_predicted_labels(classes, new_data_tf, data_tf, model)"
   ]
  },
  {
   "cell_type": "code",
   "execution_count": null,
   "id": "harmful-council",
   "metadata": {},
   "outputs": [],
   "source": [
    "new_data_tf[0][:10], model.reconstruct(new_data_tf[0])[:10]"
   ]
  },
  {
   "cell_type": "code",
   "execution_count": null,
   "id": "hungarian-christianity",
   "metadata": {},
   "outputs": [],
   "source": [
    "plt.scatter([x[0] for x in data], [x[1] for x in data])\n",
    "for label in classes[:5]:\n",
    "    mask = reals==label\n",
    "    plt.scatter([x[0] for x in new_data[mask]], [x[3] for x in new_data[mask]], alpha=0.5)"
   ]
  },
  {
   "cell_type": "code",
   "execution_count": null,
   "id": "ultimate-branch",
   "metadata": {},
   "outputs": [],
   "source": [
    "point = new_data_tf[np.random.randint(0,new_data_tf.shape[1])]\n",
    "np.argmin([hamming(model.reconstruct(point), memory).numpy() for memory in data_tf])"
   ]
  },
  {
   "cell_type": "code",
   "execution_count": null,
   "id": "medium-craps",
   "metadata": {},
   "outputs": [],
   "source": [
    "cm = sns.clustermap(confusion_matrix(reals, preds, normalize=\"true\"),\n",
    "                    vmin = 0,\n",
    "                    vmax=0.6,  \n",
    "                    row_cluster=False, \n",
    "                    col_cluster=False, \n",
    "                    xticklabels=classes, \n",
    "                    yticklabels=classes,\n",
    "                    annot=False,\n",
    "                    annot_kws={\"fontsize\":15})\n",
    "ax = cm.ax_heatmap\n",
    "fig = ax.get_figure()\n",
    "ax.set_ylabel(\"real\", fontsize=35, rotation=90)\n",
    "ax.set_yticklabels(labels=classes, rotation=0)\n",
    "ax.yaxis.tick_left()\n",
    "ax.yaxis.set_label_position(\"left\")\n",
    "\n",
    "ax.set_xticklabels(labels=classes, rotation=90)\n",
    "ax.set_xlabel(\"predicted\",fontsize=35)\n",
    "ax.tick_params(labelsize=15)\n",
    "\n",
    "cax = cm.ax_cbar\n",
    "cax.tick_params(labelsize=30)\n",
    "cax.set_title(\"P()\", fontsize=30)\n",
    "plt.tight_layout()\n",
    "#cm.savefig(f\"predict_{label}.pdf\")\n",
    "\n",
    "plt.show()"
   ]
  },
  {
   "cell_type": "code",
   "execution_count": null,
   "id": "dying-warning",
   "metadata": {},
   "outputs": [],
   "source": []
  }
 ],
 "metadata": {
  "kernelspec": {
   "display_name": "Python 3",
   "language": "python",
   "name": "python3"
  },
  "language_info": {
   "codemirror_mode": {
    "name": "ipython",
    "version": 3
   },
   "file_extension": ".py",
   "mimetype": "text/x-python",
   "name": "python",
   "nbconvert_exporter": "python",
   "pygments_lexer": "ipython3",
   "version": "3.8.8"
  }
 },
 "nbformat": 4,
 "nbformat_minor": 5
}

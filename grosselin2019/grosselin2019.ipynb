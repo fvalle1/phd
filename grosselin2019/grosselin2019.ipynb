{
 "cells": [
  {
   "cell_type": "code",
   "execution_count": null,
   "metadata": {
    "id": "fbqcBBaLSZyG"
   },
   "outputs": [],
   "source": [
    "import os\n",
    "import pandas as pd\n",
    "os.chdir(\"/content/drive/MyDrive/phd/datasets/grosselin2019\")"
   ]
  },
  {
   "cell_type": "code",
   "execution_count": null,
   "metadata": {
    "colab": {
     "base_uri": "https://localhost:8080/"
    },
    "id": "rRqAag0STLya",
    "outputId": "09b4c257-8e03-4fc9-bbb3-569acb7aeb70"
   },
   "outputs": [],
   "source": [
    "os.listdir()"
   ]
  },
  {
   "cell_type": "code",
   "execution_count": null,
   "metadata": {
    "colab": {
     "base_uri": "https://localhost:8080/"
    },
    "id": "8HQUVR-STecm",
    "outputId": "36676785-29f2-4db6-e366-0b68e872e966"
   },
   "outputs": [],
   "source": [
    "os.listdir(\"scRNA/filtered_gene_bc_matrices_HBCx-22/mm10\")"
   ]
  },
  {
   "cell_type": "code",
   "execution_count": null,
   "metadata": {
    "colab": {
     "base_uri": "https://localhost:8080/",
     "height": 131
    },
    "id": "vuPsGev7TicE",
    "outputId": "ca65ee04-00c1-4d98-a9ae-68f0e8dd7909"
   },
   "outputs": [],
   "source": [
    "pd.read_excel(\"Grosselin2019_SuppTables.xls\").head(2)"
   ]
  },
  {
   "cell_type": "code",
   "execution_count": null,
   "metadata": {
    "colab": {
     "base_uri": "https://localhost:8080/",
     "height": 111
    },
    "id": "_5QawjzYUOcq",
    "outputId": "4c598974-2487-460b-8829-f04795234e7b"
   },
   "outputs": [],
   "source": [
    "pd.read_csv(\"scRNA/filtered_gene_bc_matrices_HBCx-22/mm10/matrix.mtx\", sep=\" \", skiprows=1).head(2)"
   ]
  },
  {
   "cell_type": "code",
   "execution_count": null,
   "metadata": {
    "colab": {
     "base_uri": "https://localhost:8080/",
     "height": 111
    },
    "id": "XESxJ8mTUojQ",
    "outputId": "0956da20-78dd-4169-9947-e78eb350a7d6"
   },
   "outputs": [],
   "source": [
    "pd.read_csv(\"scRNA/filtered_gene_bc_matrices_HBCx-22/mm10/genes.tsv\", sep=\"\\t\", header=None).head(2)"
   ]
  },
  {
   "cell_type": "code",
   "execution_count": null,
   "metadata": {
    "colab": {
     "base_uri": "https://localhost:8080/",
     "height": 111
    },
    "id": "MBJmR5mhU6Ba",
    "outputId": "63a340d3-5ca8-4c3d-bb71-4e6ed52b43e1"
   },
   "outputs": [],
   "source": [
    "pd.read_csv(\"scRNA/filtered_gene_bc_matrices_HBCx-22/mm10/barcodes.tsv\", sep=\"\\t\", header=None).head(2)"
   ]
  },
  {
   "cell_type": "code",
   "execution_count": null,
   "metadata": {
    "id": "lgOL4yULVJss"
   },
   "outputs": [],
   "source": []
  }
 ],
 "metadata": {
  "colab": {
   "name": "grosslin2019.ipynb",
   "provenance": []
  },
  "kernelspec": {
   "display_name": "Python 3",
   "language": "python",
   "name": "python3"
  },
  "language_info": {
   "codemirror_mode": {
    "name": "ipython",
    "version": 3
   },
   "file_extension": ".py",
   "mimetype": "text/x-python",
   "name": "python",
   "nbconvert_exporter": "python",
   "pygments_lexer": "ipython3",
   "version": "3.8.6"
  }
 },
 "nbformat": 4,
 "nbformat_minor": 4
}

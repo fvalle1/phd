{
  "nbformat": 4,
  "nbformat_minor": 0,
  "metadata": {
    "colab": {
      "name": "grosslin2019.ipynb",
      "provenance": []
    },
    "kernelspec": {
      "name": "python3",
      "display_name": "Python 3"
    }
  },
  "cells": [
    {
      "cell_type": "code",
      "metadata": {
        "id": "fbqcBBaLSZyG"
      },
      "source": [
        "import os\n",
        "import pandas as pd\n",
        "os.chdir(\"/content/drive/MyDrive/phd/datasets/grosselin2019\")"
      ],
      "execution_count": 10,
      "outputs": []
    },
    {
      "cell_type": "code",
      "metadata": {
        "colab": {
          "base_uri": "https://localhost:8080/"
        },
        "id": "rRqAag0STLya",
        "outputId": "09b4c257-8e03-4fc9-bbb3-569acb7aeb70"
      },
      "source": [
        "os.listdir()"
      ],
      "execution_count": null,
      "outputs": [
        {
          "output_type": "execute_result",
          "data": {
            "text/plain": [
              "['Grosselin2019_SuppTables.xls',\n",
              " 'scChIP',\n",
              " '.~lock.Grosselin2019_SuppTables.xls#',\n",
              " 'scRNA']"
            ]
          },
          "metadata": {
            "tags": []
          },
          "execution_count": 5
        }
      ]
    },
    {
      "cell_type": "code",
      "metadata": {
        "colab": {
          "base_uri": "https://localhost:8080/"
        },
        "id": "8HQUVR-STecm",
        "outputId": "36676785-29f2-4db6-e366-0b68e872e966"
      },
      "source": [
        "os.listdir(\"scRNA/filtered_gene_bc_matrices_HBCx-22/mm10\")"
      ],
      "execution_count": 15,
      "outputs": [
        {
          "output_type": "execute_result",
          "data": {
            "text/plain": [
              "['barcodes.tsv', 'matrix.mtx', 'genes.tsv']"
            ]
          },
          "metadata": {
            "tags": []
          },
          "execution_count": 15
        }
      ]
    },
    {
      "cell_type": "code",
      "metadata": {
        "id": "vuPsGev7TicE",
        "colab": {
          "base_uri": "https://localhost:8080/",
          "height": 131
        },
        "outputId": "ca65ee04-00c1-4d98-a9ae-68f0e8dd7909"
      },
      "source": [
        "pd.read_excel(\"Grosselin2019_SuppTables.xls\").head(2)"
      ],
      "execution_count": 14,
      "outputs": [
        {
          "output_type": "execute_result",
          "data": {
            "text/html": [
              "<div>\n",
              "<style scoped>\n",
              "    .dataframe tbody tr th:only-of-type {\n",
              "        vertical-align: middle;\n",
              "    }\n",
              "\n",
              "    .dataframe tbody tr th {\n",
              "        vertical-align: top;\n",
              "    }\n",
              "\n",
              "    .dataframe thead th {\n",
              "        text-align: right;\n",
              "    }\n",
              "</style>\n",
              "<table border=\"1\" class=\"dataframe\">\n",
              "  <thead>\n",
              "    <tr style=\"text-align: right;\">\n",
              "      <th></th>\n",
              "      <th>ID</th>\n",
              "      <th>chr</th>\n",
              "      <th>start</th>\n",
              "      <th>end</th>\n",
              "      <th>Count.C1</th>\n",
              "      <th>Count.notC1</th>\n",
              "      <th>log2FC.C1</th>\n",
              "      <th>pval.C1</th>\n",
              "      <th>qval.C1</th>\n",
              "      <th>Gene</th>\n",
              "      <th>Peak_cumulative_clusters</th>\n",
              "    </tr>\n",
              "  </thead>\n",
              "  <tbody>\n",
              "    <tr>\n",
              "      <th>0</th>\n",
              "      <td>chr1_181650000_181700000</td>\n",
              "      <td>chr1</td>\n",
              "      <td>181650000</td>\n",
              "      <td>181700000</td>\n",
              "      <td>0.003623</td>\n",
              "      <td>0.026477</td>\n",
              "      <td>-1.607161</td>\n",
              "      <td>0.000026</td>\n",
              "      <td>0.007210</td>\n",
              "      <td>NaN</td>\n",
              "      <td>NaN</td>\n",
              "    </tr>\n",
              "    <tr>\n",
              "      <th>1</th>\n",
              "      <td>chr1_187550000_187600000</td>\n",
              "      <td>chr1</td>\n",
              "      <td>187550000</td>\n",
              "      <td>187600000</td>\n",
              "      <td>0.007246</td>\n",
              "      <td>0.018330</td>\n",
              "      <td>-1.685595</td>\n",
              "      <td>0.000034</td>\n",
              "      <td>0.007442</td>\n",
              "      <td>NaN</td>\n",
              "      <td>NaN</td>\n",
              "    </tr>\n",
              "  </tbody>\n",
              "</table>\n",
              "</div>"
            ],
            "text/plain": [
              "                         ID   chr  ...  Gene  Peak_cumulative_clusters\n",
              "0  chr1_181650000_181700000  chr1  ...   NaN                       NaN\n",
              "1  chr1_187550000_187600000  chr1  ...   NaN                       NaN\n",
              "\n",
              "[2 rows x 11 columns]"
            ]
          },
          "metadata": {
            "tags": []
          },
          "execution_count": 14
        }
      ]
    },
    {
      "cell_type": "code",
      "metadata": {
        "colab": {
          "base_uri": "https://localhost:8080/",
          "height": 111
        },
        "id": "_5QawjzYUOcq",
        "outputId": "4c598974-2487-460b-8829-f04795234e7b"
      },
      "source": [
        "pd.read_csv(\"scRNA/filtered_gene_bc_matrices_HBCx-22/mm10/matrix.mtx\", sep=\" \", skiprows=1).head(2)"
      ],
      "execution_count": 20,
      "outputs": [
        {
          "output_type": "execute_result",
          "data": {
            "text/html": [
              "<div>\n",
              "<style scoped>\n",
              "    .dataframe tbody tr th:only-of-type {\n",
              "        vertical-align: middle;\n",
              "    }\n",
              "\n",
              "    .dataframe tbody tr th {\n",
              "        vertical-align: top;\n",
              "    }\n",
              "\n",
              "    .dataframe thead th {\n",
              "        text-align: right;\n",
              "    }\n",
              "</style>\n",
              "<table border=\"1\" class=\"dataframe\">\n",
              "  <thead>\n",
              "    <tr style=\"text-align: right;\">\n",
              "      <th></th>\n",
              "      <th></th>\n",
              "      <th>%</th>\n",
              "    </tr>\n",
              "  </thead>\n",
              "  <tbody>\n",
              "    <tr>\n",
              "      <th>27998</th>\n",
              "      <th>1191</th>\n",
              "      <td>1775155</td>\n",
              "    </tr>\n",
              "    <tr>\n",
              "      <th>14</th>\n",
              "      <th>1</th>\n",
              "      <td>3</td>\n",
              "    </tr>\n",
              "  </tbody>\n",
              "</table>\n",
              "</div>"
            ],
            "text/plain": [
              "                  %\n",
              "27998 1191  1775155\n",
              "14    1           3"
            ]
          },
          "metadata": {
            "tags": []
          },
          "execution_count": 20
        }
      ]
    },
    {
      "cell_type": "code",
      "metadata": {
        "colab": {
          "base_uri": "https://localhost:8080/",
          "height": 111
        },
        "id": "XESxJ8mTUojQ",
        "outputId": "0956da20-78dd-4169-9947-e78eb350a7d6"
      },
      "source": [
        "pd.read_csv(\"scRNA/filtered_gene_bc_matrices_HBCx-22/mm10/genes.tsv\", sep=\"\\t\", header=None).head(2)"
      ],
      "execution_count": 22,
      "outputs": [
        {
          "output_type": "execute_result",
          "data": {
            "text/html": [
              "<div>\n",
              "<style scoped>\n",
              "    .dataframe tbody tr th:only-of-type {\n",
              "        vertical-align: middle;\n",
              "    }\n",
              "\n",
              "    .dataframe tbody tr th {\n",
              "        vertical-align: top;\n",
              "    }\n",
              "\n",
              "    .dataframe thead th {\n",
              "        text-align: right;\n",
              "    }\n",
              "</style>\n",
              "<table border=\"1\" class=\"dataframe\">\n",
              "  <thead>\n",
              "    <tr style=\"text-align: right;\">\n",
              "      <th></th>\n",
              "      <th>0</th>\n",
              "      <th>1</th>\n",
              "    </tr>\n",
              "  </thead>\n",
              "  <tbody>\n",
              "    <tr>\n",
              "      <th>0</th>\n",
              "      <td>mm10_ENSMUSG00000051951</td>\n",
              "      <td>mm10_Xkr4</td>\n",
              "    </tr>\n",
              "    <tr>\n",
              "      <th>1</th>\n",
              "      <td>mm10_ENSMUSG00000089699</td>\n",
              "      <td>mm10_Gm1992</td>\n",
              "    </tr>\n",
              "  </tbody>\n",
              "</table>\n",
              "</div>"
            ],
            "text/plain": [
              "                         0            1\n",
              "0  mm10_ENSMUSG00000051951    mm10_Xkr4\n",
              "1  mm10_ENSMUSG00000089699  mm10_Gm1992"
            ]
          },
          "metadata": {
            "tags": []
          },
          "execution_count": 22
        }
      ]
    },
    {
      "cell_type": "code",
      "metadata": {
        "colab": {
          "base_uri": "https://localhost:8080/",
          "height": 111
        },
        "id": "MBJmR5mhU6Ba",
        "outputId": "63a340d3-5ca8-4c3d-bb71-4e6ed52b43e1"
      },
      "source": [
        "pd.read_csv(\"scRNA/filtered_gene_bc_matrices_HBCx-22/mm10/barcodes.tsv\", sep=\"\\t\", header=None).head(2)"
      ],
      "execution_count": 23,
      "outputs": [
        {
          "output_type": "execute_result",
          "data": {
            "text/html": [
              "<div>\n",
              "<style scoped>\n",
              "    .dataframe tbody tr th:only-of-type {\n",
              "        vertical-align: middle;\n",
              "    }\n",
              "\n",
              "    .dataframe tbody tr th {\n",
              "        vertical-align: top;\n",
              "    }\n",
              "\n",
              "    .dataframe thead th {\n",
              "        text-align: right;\n",
              "    }\n",
              "</style>\n",
              "<table border=\"1\" class=\"dataframe\">\n",
              "  <thead>\n",
              "    <tr style=\"text-align: right;\">\n",
              "      <th></th>\n",
              "      <th>0</th>\n",
              "    </tr>\n",
              "  </thead>\n",
              "  <tbody>\n",
              "    <tr>\n",
              "      <th>0</th>\n",
              "      <td>AAACCTGAGCCACGCT-1</td>\n",
              "    </tr>\n",
              "    <tr>\n",
              "      <th>1</th>\n",
              "      <td>AAACCTGTCGGACAAG-1</td>\n",
              "    </tr>\n",
              "  </tbody>\n",
              "</table>\n",
              "</div>"
            ],
            "text/plain": [
              "                    0\n",
              "0  AAACCTGAGCCACGCT-1\n",
              "1  AAACCTGTCGGACAAG-1"
            ]
          },
          "metadata": {
            "tags": []
          },
          "execution_count": 23
        }
      ]
    },
    {
      "cell_type": "code",
      "metadata": {
        "id": "lgOL4yULVJss"
      },
      "source": [
        ""
      ],
      "execution_count": null,
      "outputs": []
    }
  ]
}
{
 "cells": [
  {
   "cell_type": "markdown",
   "metadata": {},
   "source": [
    "# Create a table with TCGA data"
   ]
  },
  {
   "cell_type": "code",
   "execution_count": null,
   "metadata": {},
   "outputs": [],
   "source": [
    "%load_ext watermark\n",
    "%watermark -v -m  -u -n -p pandas,numpy,matplotlib,regex -a Filippo_Valle -g -r -b -w"
   ]
  },
  {
   "cell_type": "code",
   "execution_count": null,
   "metadata": {},
   "outputs": [],
   "source": [
    "# import libraries\n",
    "import os\n",
    "import sys\n",
    "import pandas as pd\n",
    "import numpy as np\n",
    "import regex as re\n",
    "from matplotlib import pyplot as plt\n",
    "import time"
   ]
  },
  {
   "cell_type": "markdown",
   "metadata": {},
   "source": [
    "Set *working_dir* to the directory where you downloaded files in *data*"
   ]
  },
  {
   "cell_type": "code",
   "execution_count": null,
   "metadata": {},
   "outputs": [],
   "source": [
    "working_dir = \"/home/jovyan/work/phd/miRNA\"\n",
    "os.chdir(working_dir)"
   ]
  },
  {
   "cell_type": "markdown",
   "metadata": {},
   "source": [
    "Prepare a list of genes that satisfied filters described by *Dey et al.* [Visualizing the structure of RNA-seq expression data using grade of membership models](https://journals.plos.org/plosgenetics/article?id=10.1371/journal.pgen.1006599)"
   ]
  },
  {
   "cell_type": "code",
   "execution_count": null,
   "metadata": {},
   "outputs": [],
   "source": [
    "df_genes = pd.read_csv(\"https://stephenslab.github.io/count-clustering/project/utilities/gene_names_all_gtex.txt\", header=None).set_index(0)\n",
    "select_genes = df_genes.index.values"
   ]
  },
  {
   "cell_type": "code",
   "execution_count": null,
   "metadata": {},
   "outputs": [],
   "source": [
    "gene_type = \"gene\" # \"mirna\" or \"gene\""
   ]
  },
  {
   "cell_type": "code",
   "execution_count": null,
   "metadata": {},
   "outputs": [],
   "source": [
    "if gene_type == \"mirna\":\n",
    "    df = pd.DataFrame()\n",
    "    dirs = os.listdir(\"data_mirna/\")\n",
    "else:\n",
    "    df = df_genes.copy()\n",
    "    dirs = os.listdir(\"data/\")"
   ]
  },
  {
   "cell_type": "code",
   "execution_count": null,
   "metadata": {},
   "outputs": [],
   "source": [
    "len(dirs)"
   ]
  },
  {
   "cell_type": "code",
   "execution_count": null,
   "metadata": {},
   "outputs": [],
   "source": [
    "len(df)"
   ]
  },
  {
   "cell_type": "code",
   "execution_count": null,
   "metadata": {},
   "outputs": [],
   "source": [
    "if gene_type == \"mirna\":\n",
    "    ##miRNA\n",
    "    def getFilenameFromDir(directory):\n",
    "        for element in os.listdir(directory):\n",
    "            if re.match(\"[a-zA-Z0-9]{8}-[a-zA-Z0-9]{4}-[a-zA-Z0-9]{4}-[a-zA-Z0-9\\-]{4}-[a-zA-Z0-9\\-]{12}[\\.mirbase21\\.mirnas\\.quantification][\\.txt]{0,4}[\\.gz]{0,3}\",element):\n",
    "                cfile = element\n",
    "                print(element)\n",
    "                return cfile\n",
    "else:\n",
    "    #fpkm\n",
    "    def getFilenameFromDir(directory):\n",
    "        if \".DS_Store\" in directory:\n",
    "            return None\n",
    "        for element in os.listdir(directory):\n",
    "            if re.match(\"[a-zA-Z0-9]{8}-[a-zA-Z0-9]{4}-[a-zA-Z0-9]{4}-[a-zA-Z0-9\\-]{4}-[a-zA-Z0-9\\-]{12}[\\.FPKM]{5}.txt[\\.gz]{0,3}\",element):\n",
    "                cfile = element\n",
    "                print(element)\n",
    "                return cfile\n",
    "        raise BaseException(\"Not found %s\"%os.listdir(directory))"
   ]
  },
  {
   "cell_type": "code",
   "execution_count": null,
   "metadata": {
    "tags": []
   },
   "outputs": [],
   "source": [
    "maxacceptables = 15000\n",
    "added = len(df.columns)\n",
    "for i,cdirectory in enumerate(dirs):\n",
    "    if re.match(\"manifest\\.txt\",cdirectory):\n",
    "        print(\"SKIPPING %s \"%cdirectory)\n",
    "        continue\n",
    "    if \"Icon\" in cdirectory:\n",
    "        print(\"SKIPPING %s \"%cdirectory)\n",
    "        continue\n",
    "    if \".DS_Store\" in cdirectory:\n",
    "        print(\"SKIPPING %s \"%cdirectory)\n",
    "        continue\n",
    "    if gene_type == \"mirna\":\n",
    "        ## mi RNA\n",
    "        cfile = getFilenameFromDir(\"data_mirna/%s\"%cdirectory) # miRNA only!\n",
    "        cdf = pd.read_csv((\"%s/data_mirna/%s/%s\"%(working_dir,cdirectory,cfile)), sep='\\t') # miRNA only!\n",
    "        cdf.drop(labels=[\"reads_per_million_miRNA_mapped\",\"cross-mapped\"], axis=1, inplace=True) #miRNA only\n",
    "        cdf.set_index(\"miRNA_ID\", inplace=True)\n",
    "        cdf.rename(columns={\"read_count\": cfile}, inplace=True)\n",
    "        old_L = len(df.columns)\n",
    "        df = df.join(cdf, how=\"outer\")    \n",
    "    else:\n",
    "        ## FPKM\n",
    "        cfile = getFilenameFromDir(\"data/%s\"%cdirectory)\n",
    "        cdf = pd.read_csv((\"data/%s/%s\"%(cdirectory,cfile)), sep='\\t', header=None)\n",
    "        cdf.columns = [\"gene\", cfile[:]]\n",
    "        cdf['gene'] = [gene[:15] for gene in cdf['gene']]\n",
    "        cdf.set_index('gene',inplace=True)\n",
    "        cdf = cdf.reindex(index=df_genes.index)\n",
    "        old_L = len(df.columns)\n",
    "        df = df.join(cdf, how=\"outer\")\n",
    "    \n",
    "    ## common\n",
    "    if len(df.columns) != old_L+1:\n",
    "        print(*sys.exc_info())\n",
    "        raise(Exception(\"Not able to add: %s\"%cfile))\n",
    "    if added >= maxacceptables:\n",
    "        break\n",
    "print(added, i)"
   ]
  },
  {
   "cell_type": "code",
   "execution_count": null,
   "metadata": {},
   "outputs": [],
   "source": [
    "#df = pd.read_csv((\"%s/mainTable.csv\"%working_dir))"
   ]
  },
  {
   "cell_type": "code",
   "execution_count": null,
   "metadata": {},
   "outputs": [],
   "source": [
    "print((\"genes:%d\\trealizations:%d\"%(len(df.index),len(df.columns))))"
   ]
  },
  {
   "cell_type": "code",
   "execution_count": null,
   "metadata": {},
   "outputs": [],
   "source": [
    "if gene_type == \"mirna\":\n",
    "    df.dropna(how='all', axis=0).round(decimals=2).to_csv(\"mainTable_mirna.csv\", index=True)\n",
    "else:\n",
    "    df_files = pd.read_csv(\"files_fpkm.dat\").set_index(\"file_name\").reindex(index=df.columns)\n",
    "    df.columns = df_files[\"cases.0.samples.0.portions.0.analytes.0.aliquots.0.submitter_id\"]\n",
    "    df.dropna(how='all', axis=0).round(decimals=2).to_csv(\"mainTable_fpkm.csv\", index=True)"
   ]
  },
  {
   "cell_type": "code",
   "execution_count": null,
   "metadata": {},
   "outputs": [],
   "source": []
  }
 ],
 "metadata": {
  "kernelspec": {
   "display_name": "Python 3",
   "language": "python",
   "name": "python3"
  },
  "language_info": {
   "codemirror_mode": {
    "name": "ipython",
    "version": 3
   },
   "file_extension": ".py",
   "mimetype": "text/x-python",
   "name": "python",
   "nbconvert_exporter": "python",
   "pygments_lexer": "ipython3",
   "version": "3.8.8"
  }
 },
 "nbformat": 4,
 "nbformat_minor": 4
}

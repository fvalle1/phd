{
 "cells": [
  {
   "cell_type": "markdown",
   "metadata": {},
   "source": [
    "# Create a table with TCGA data"
   ]
  },
  {
   "cell_type": "code",
   "execution_count": null,
   "metadata": {},
   "outputs": [],
   "source": [
    "%load_ext watermark\n",
    "%watermark -v -m  -u -n -p pandas,numpy,matplotlib,regex -a Filippo_Valle -g -r -b -w"
   ]
  },
  {
   "cell_type": "code",
   "execution_count": 1,
   "metadata": {},
   "outputs": [],
   "source": [
    "# import libraries\n",
    "import os\n",
    "import sys\n",
    "import pandas as pd\n",
    "import numpy as np\n",
    "import regex as re\n",
    "from matplotlib import pyplot as plt\n",
    "import time"
   ]
  },
  {
   "cell_type": "markdown",
   "metadata": {},
   "source": [
    "Set *working_dir* to the directory where you downloaded files in *data*"
   ]
  },
  {
   "cell_type": "code",
   "execution_count": 2,
   "metadata": {},
   "outputs": [
    {
     "ename": "FileNotFoundError",
     "evalue": "[Errno 2] No such file or directory: 'data_miRNA'",
     "output_type": "error",
     "traceback": [
      "\u001b[0;31m---------------------------------------------------------------------------\u001b[0m",
      "\u001b[0;31mFileNotFoundError\u001b[0m                         Traceback (most recent call last)",
      "\u001b[0;32m<ipython-input-2-a513f20a2fb6>\u001b[0m in \u001b[0;36m<module>\u001b[0;34m\u001b[0m\n\u001b[1;32m      1\u001b[0m \u001b[0mworking_dir\u001b[0m \u001b[0;34m=\u001b[0m \u001b[0;34m\"/home/jovyan/work/phd/miRNA/\"\u001b[0m\u001b[0;34m\u001b[0m\u001b[0;34m\u001b[0m\u001b[0m\n\u001b[1;32m      2\u001b[0m \u001b[0mos\u001b[0m\u001b[0;34m.\u001b[0m\u001b[0mchdir\u001b[0m\u001b[0;34m(\u001b[0m\u001b[0mworking_dir\u001b[0m\u001b[0;34m)\u001b[0m\u001b[0;34m\u001b[0m\u001b[0;34m\u001b[0m\u001b[0m\n\u001b[0;32m----> 3\u001b[0;31m \u001b[0mdirs\u001b[0m \u001b[0;34m=\u001b[0m \u001b[0mos\u001b[0m\u001b[0;34m.\u001b[0m\u001b[0mlistdir\u001b[0m\u001b[0;34m(\u001b[0m\u001b[0;34m\"data_miRNA\"\u001b[0m\u001b[0;34m)\u001b[0m\u001b[0;34m\u001b[0m\u001b[0;34m\u001b[0m\u001b[0m\n\u001b[0m",
      "\u001b[0;31mFileNotFoundError\u001b[0m: [Errno 2] No such file or directory: 'data_miRNA'"
     ]
    }
   ],
   "source": [
    "working_dir = \"/home/jovyan/work/phd/miRNA/\"\n",
    "os.chdir(working_dir)\n",
    "dirs = os.listdir(\"data_miRNA\")"
   ]
  },
  {
   "cell_type": "code",
   "execution_count": 3,
   "metadata": {},
   "outputs": [
    {
     "ename": "NameError",
     "evalue": "name 'dirs' is not defined",
     "output_type": "error",
     "traceback": [
      "\u001b[0;31m---------------------------------------------------------------------------\u001b[0m",
      "\u001b[0;31mNameError\u001b[0m                                 Traceback (most recent call last)",
      "\u001b[0;32m<ipython-input-3-ffe66f7b8046>\u001b[0m in \u001b[0;36m<module>\u001b[0;34m\u001b[0m\n\u001b[0;32m----> 1\u001b[0;31m \u001b[0mlen\u001b[0m\u001b[0;34m(\u001b[0m\u001b[0mdirs\u001b[0m\u001b[0;34m)\u001b[0m\u001b[0;34m\u001b[0m\u001b[0;34m\u001b[0m\u001b[0m\n\u001b[0m",
      "\u001b[0;31mNameError\u001b[0m: name 'dirs' is not defined"
     ]
    }
   ],
   "source": [
    "len(dirs)"
   ]
  },
  {
   "cell_type": "markdown",
   "metadata": {},
   "source": [
    "Prepare a list of genes that satisfied filters described by *Dey et al.* [Visualizing the structure of RNA-seq expression data using grade of membership models](https://journals.plos.org/plosgenetics/article?id=10.1371/journal.pgen.1006599)"
   ]
  },
  {
   "cell_type": "code",
   "execution_count": null,
   "metadata": {},
   "outputs": [],
   "source": [
    "df_genes = pd.read_csv(\"https://stephenslab.github.io/count-clustering/project/utilities/gene_names_all_gtex.txt\", header=None).set_index(0)\n",
    "select_genes = df_genes.index.values"
   ]
  },
  {
   "cell_type": "code",
   "execution_count": null,
   "metadata": {},
   "outputs": [],
   "source": [
    "#df = df_genes.copy()\n",
    "#print(len(df['gene']))\n",
    "#df = df.loc[select_genes,:]\n",
    "df=pd.read_csv(\"miRNA.txt\", index_col=0)\n",
    "df.head()"
   ]
  },
  {
   "cell_type": "code",
   "execution_count": null,
   "metadata": {},
   "outputs": [],
   "source": [
    "len(df)"
   ]
  },
  {
   "cell_type": "code",
   "execution_count": null,
   "metadata": {},
   "outputs": [],
   "source": [
    "#fpkm\n",
    "def getFilenameFromDir(directory):\n",
    "    if \".DS_Store\" in directory:\n",
    "        return None\n",
    "    for element in os.listdir(directory):\n",
    "        if re.match(\"[a-zA-Z0-9]{8}-[a-zA-Z0-9]{4}-[a-zA-Z0-9]{4}-[a-zA-Z0-9\\-]{4}-[a-zA-Z0-9\\-]{12}[\\.FPKM]{5}.txt[\\.gz]{0,3}\",element):\n",
    "            cfile = element\n",
    "            print(element)\n",
    "            return cfile\n",
    "    raise BaseException(\"Not found %s\"%os.listdir(directory))"
   ]
  },
  {
   "cell_type": "code",
   "execution_count": null,
   "metadata": {},
   "outputs": [],
   "source": [
    "#counts\n",
    "def getFilenameFromDir(directory):\n",
    "    for element in os.listdir(directory):\n",
    "        if re.match(\"[a-zA-Z0-9]{8}-[a-zA-Z0-9]{4}-[a-zA-Z0-9]{4}-[a-zA-Z0-9\\-]{4}-[a-zA-Z0-9\\-]{12}[\\.htseq]{6}[\\.\\_counts]{7}[\\.txt]{0,4}[\\.gz]{0,3}\",element):\n",
    "            cfile = element\n",
    "            print(element)\n",
    "            return cfile\n",
    "    print(\"Nothing found\")\n",
    "    print(os.listdir(directory))"
   ]
  },
  {
   "cell_type": "code",
   "execution_count": null,
   "metadata": {},
   "outputs": [],
   "source": [
    "#fpkm-uq\n",
    "def getFilenameFromDir(directory):\n",
    "    if \".DS_Store\" in directory:\n",
    "        return None\n",
    "    for element in os.listdir(directory):\n",
    "        if re.match(\"[a-zA-Z0-9]{8}-[a-zA-Z0-9]{4}-[a-zA-Z0-9]{4}-[a-zA-Z0-9\\-]{4}-[a-zA-Z0-9\\-]{12}[\\.FPKM-UQ]{0,8}[\\.txt]{0,4}[\\.gz]{0,3}\",element):\n",
    "            cfile = element\n",
    "            print(element)\n",
    "            return cfile"
   ]
  },
  {
   "cell_type": "code",
   "execution_count": null,
   "metadata": {},
   "outputs": [],
   "source": [
    "##miRNA\n",
    "def getFilenameFromDir(directory):\n",
    "    for element in os.listdir(directory):\n",
    "        if re.match(\"[a-zA-Z0-9]{8}-[a-zA-Z0-9]{4}-[a-zA-Z0-9]{4}-[a-zA-Z0-9\\-]{4}-[a-zA-Z0-9\\-]{12}[\\.mirbase21\\.mirnas\\.quantification][\\.txt]{0,4}[\\.gz]{0,3}\",element):\n",
    "            cfile = element\n",
    "            print(element)\n",
    "            return cfile"
   ]
  },
  {
   "cell_type": "code",
   "execution_count": null,
   "metadata": {},
   "outputs": [],
   "source": [
    "maxacceptables = 15000\n",
    "added = len(df.columns)\n",
    "for i,cdirectory in enumerate(dirs):\n",
    "    if re.match(\"manifest\\.txt\",cdirectory):\n",
    "        print(\"SKIPPING %s \"%cdirectory)\n",
    "        continue\n",
    "    if \"Icon\" in cdirectory:\n",
    "        print(\"SKIPPING %s \"%cdirectory)\n",
    "        continue\n",
    "    if \".DS_Store\" in cdirectory:\n",
    "        print(\"SKIPPING %s \"%cdirectory)\n",
    "        continue\n",
    "    ## mi RNA\n",
    "    cfile = getFilenameFromDir(\"data_miRNA/%s\"%cdirectory) # miRNA only!\n",
    "    cdf = pd.read_csv((\"%s/data_miRNA/%s/%s\"%(working_dir,cdirectory,cfile)), sep='\\t') # miRNA only!\n",
    "    cdf.drop(labels=[\"reads_per_million_miRNA_mapped\",\"cross-mapped\"], axis=1, inplace=True) #miRNA only\n",
    "    cdf.set_index(\"miRNA_ID\", inplace=True)\n",
    "    cdf.rename(columns={\"read_count\": cfile}, inplace=True)\n",
    "    old_L = len(df.columns)\n",
    "    df = df.join(cdf, on=\"miRNA_ID\", how=\"outer\")\n",
    "    \n",
    "    ## FPKM\n",
    "    #cfile = getFilenameFromDir(\"data/%s\"%cdirectory)\n",
    "    #cdf = pd.read_csv((\"data/%s/%s\"%(cdirectory,cfile)), sep='\\t', header=None)\n",
    "    #cdf.columns = [\"gene\", cfile[:]]\n",
    "    #cdf['gene'] = [gene[:15] for gene in cdf['gene']]\n",
    "    #cdf.set_index('gene',inplace=True)\n",
    "    #cdf = cdf.reindex(index=df_genes.index)\n",
    "    #old_L = len(df.columns)\n",
    "    #df = df.join(cdf, how=\"outer\")\n",
    "    \n",
    "    ## common\n",
    "    if len(df.columns) != old_L+1:\n",
    "        print(*sys.exc_info())\n",
    "        raise(Exception(\"Not able to add: %s\"%cfile))\n",
    "    if added >= maxacceptables:\n",
    "        break\n",
    "print(added, i)"
   ]
  },
  {
   "cell_type": "code",
   "execution_count": null,
   "metadata": {},
   "outputs": [],
   "source": [
    "#df = pd.read_csv((\"%s/mainTable.csv\"%working_dir))"
   ]
  },
  {
   "cell_type": "code",
   "execution_count": null,
   "metadata": {},
   "outputs": [],
   "source": [
    "print((\"genes:%d\\trealizations:%d\"%(len(df.index),len(df.columns))))"
   ]
  },
  {
   "cell_type": "code",
   "execution_count": null,
   "metadata": {},
   "outputs": [],
   "source": [
    "df.dropna().round().astype(float)"
   ]
  },
  {
   "cell_type": "code",
   "execution_count": null,
   "metadata": {},
   "outputs": [],
   "source": [
    "df.dropna(how='all', axis=0).round(decimals=2).to_csv(\"mainTable_miRNA.csv\", index=True)"
   ]
  },
  {
   "cell_type": "code",
   "execution_count": null,
   "metadata": {},
   "outputs": [],
   "source": [
    "df.head(2)"
   ]
  }
 ],
 "metadata": {
  "kernelspec": {
   "display_name": "Python 3",
   "language": "python",
   "name": "python3"
  },
  "language_info": {
   "codemirror_mode": {
    "name": "ipython",
    "version": 3
   },
   "file_extension": ".py",
   "mimetype": "text/x-python",
   "name": "python",
   "nbconvert_exporter": "python",
   "pygments_lexer": "ipython3",
   "version": "3.8.6"
  }
 },
 "nbformat": 4,
 "nbformat_minor": 4
}

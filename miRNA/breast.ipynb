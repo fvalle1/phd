{
 "cells": [
  {
   "cell_type": "code",
   "execution_count": null,
   "id": "handmade-flash",
   "metadata": {},
   "outputs": [],
   "source": [
    "import pandas as pd\n",
    "import scanpy as sc\n",
    "import json\n",
    "import requests"
   ]
  },
  {
   "cell_type": "markdown",
   "id": "breeding-oxygen",
   "metadata": {},
   "source": [
    "# Preprocessing"
   ]
  },
  {
   "cell_type": "markdown",
   "id": "quarterly-slope",
   "metadata": {},
   "source": [
    "## Gene Names"
   ]
  },
  {
   "cell_type": "code",
   "execution_count": null,
   "id": "serious-welsh",
   "metadata": {},
   "outputs": [],
   "source": [
    "df_conversion = pd.read_csv(\"https://www.genenames.org/cgi-bin/download/custom?col=gd_app_sym&col=md_ensembl_id&status=Approved&status=Entry%20Withdrawn&hgnc_dbtag=on&order_by=gd_app_sym_sort&format=text&submit=submit\", sep=\"\\t\").set_index(\"Approved symbol\")\n",
    "df_conversion.rename(columns={\"Ensembl ID(supplied by Ensembl)\":\"ensg\"}, inplace=True)\n",
    "df_conversion.head(2)"
   ]
  },
  {
   "cell_type": "markdown",
   "id": "operating-karma",
   "metadata": {},
   "source": [
    "## bioMART\n",
    "https://www.ensembl.org/biomart/martview/cf9b27b6e78e9d6a1be079a4ea60f7fe"
   ]
  },
  {
   "cell_type": "code",
   "execution_count": null,
   "id": "eligible-merit",
   "metadata": {},
   "outputs": [],
   "source": [
    "df_mart = pd.read_csv(\"mart_export.txt\").set_index(\"Gene stable ID\")\n",
    "df_mart.head(2)"
   ]
  },
  {
   "cell_type": "markdown",
   "id": "understanding-pharmaceutical",
   "metadata": {},
   "source": [
    "# TCGA tumor"
   ]
  },
  {
   "cell_type": "code",
   "execution_count": null,
   "id": "informal-original",
   "metadata": {},
   "outputs": [],
   "source": [
    "df_tcga = pd.read_csv(\"mainTable_all.csv\", sep=\",\", index_col=0)"
   ]
  },
  {
   "cell_type": "code",
   "execution_count": null,
   "id": "simple-hospital",
   "metadata": {},
   "outputs": [],
   "source": [
    "df_tcga"
   ]
  },
  {
   "cell_type": "code",
   "execution_count": null,
   "id": "registered-authentication",
   "metadata": {},
   "outputs": [],
   "source": [
    "# isolate pc\n",
    "df_tcga = df_tcga.join(df_mart, how=\"inner\")\n",
    "df_tcga = df_tcga[df_tcga[\"Gene type\"]==\"protein_coding\"]\n",
    "df_tcga = df_tcga.drop([\"miRBase ID\", \"Gene type\"],1)\n",
    "cases = [\"-\".join(case.split(\"-\")[:3]) for case in df_tcga.columns]\n",
    "df_tcga.head(2)"
   ]
  },
  {
   "cell_type": "code",
   "execution_count": null,
   "id": "municipal-petroleum",
   "metadata": {},
   "outputs": [],
   "source": [
    "filters = {\n",
    "        \"op\": \"in\",\n",
    "        \"content\":{\n",
    "            \"field\": \"cases.project.project_id\",\n",
    "            \"value\": [\"TCGA-BRCA\"]\n",
    "            }\n",
    "    }"
   ]
  },
  {
   "cell_type": "code",
   "execution_count": null,
   "id": "ethical-failure",
   "metadata": {},
   "outputs": [],
   "source": [
    "params = {\n",
    "    \"filters\": json.dumps(filters),\n",
    "    \"fields\": \"submitter_id,primary_site,project.project_id,demographic.vital_status,demographic.gender,diagnoses.age_at_diagnosis,diagnoses.days_to_last_follow_up,demographic.days_to_death,demographic.days_to_birth,diagnoses.last_known_disease_status,diagnoses.tumor_stage,exposures.years_smoked,exposures.cigarettes_per_day\",\n",
    "    \"format\": \"TSV\",\n",
    "    \"size\": \"50000\"\n",
    "    }\n",
    "response = requests.get(\"https://api.gdc.cancer.gov/cases\", headers = {\"Content-Type\": \"application/json\"}, params = params)\n",
    "#print(response.content.decode(\"UTF-8\"))\n",
    "with open(\"files.txt\",\"w\") as files:\n",
    "    files.write(response.content.decode(\"utf-8\"))"
   ]
  },
  {
   "cell_type": "code",
   "execution_count": null,
   "id": "revised-zimbabwe",
   "metadata": {},
   "outputs": [],
   "source": [
    "df_manifest = pd.read_csv(\"files.txt\", sep=\"\\t\").set_index(\"submitter_id\")\n",
    "df_manifest = df_manifest.reindex(index=cases).dropna(how=\"all\", axis=0)\n",
    "df_manifest[\"sample_submitter_id\"] = [\"-\".join(case.split(\"-\")[:4]) for case in df_tcga.columns]\n",
    "df_manifest[\"file\"] = df_tcga.columns\n",
    "df_manifest.head(2)"
   ]
  },
  {
   "cell_type": "code",
   "execution_count": null,
   "id": "thermal-nomination",
   "metadata": {},
   "outputs": [],
   "source": [
    "df_biolinks = pd.read_csv(\"TCGA_biolinks.csv\", index_col=0)\n",
    "df_biolinks = df_biolinks[df_biolinks[\"cancer.type\"]==\"BRCA\"]\n",
    "df_biolinks.set_index(\"pan.samplesID\", inplace=True)"
   ]
  },
  {
   "cell_type": "code",
   "execution_count": null,
   "id": "extensive-begin",
   "metadata": {},
   "outputs": [],
   "source": [
    "df_files = df_manifest.reset_index().set_index(\"file\").join(df_biolinks).reset_index()\n",
    "df_files.head()"
   ]
  },
  {
   "cell_type": "markdown",
   "id": "center-reminder",
   "metadata": {},
   "source": [
    "## miRNA"
   ]
  },
  {
   "cell_type": "code",
   "execution_count": null,
   "id": "understood-reynolds",
   "metadata": {},
   "outputs": [],
   "source": [
    "df_tcga_mirna = pd.read_csv(\"mainTable_mirna.csv\", index_col=0)\n",
    "mirna_submitter_ids = [\"-\".join(case.split(\"-\")[:4]) for case in df_tcga_mirna.columns]\n",
    "df_tcga_mirna.head(2)"
   ]
  },
  {
   "cell_type": "code",
   "execution_count": null,
   "id": "seasonal-testing",
   "metadata": {},
   "outputs": [],
   "source": [
    "df_manifest_mirna = pd.read_csv(\"files_miRNA.dat\")\n",
    "df_manifest_mirna[\"sample_submitter_id\"] = [\"-\".join(case.split(\"-\")[:4]) for case in df_manifest_mirna[\"cases.0.samples.0.portions.0.analytes.0.aliquots.0.submitter_id\"]]\n",
    "df_manifest_mirna.head(2)"
   ]
  },
  {
   "cell_type": "code",
   "execution_count": null,
   "id": "academic-beads",
   "metadata": {},
   "outputs": [],
   "source": [
    "df_tcga_mirna[df_tcga_mirna.columns[df_tcga_mirna.columns.isin(df_manifest_mirna[\"file_name\"])]]"
   ]
  },
  {
   "cell_type": "code",
   "execution_count": null,
   "id": "athletic-tuning",
   "metadata": {},
   "outputs": [],
   "source": [
    "df_tcga_mirna.columns.duplicated().sum()"
   ]
  },
  {
   "cell_type": "code",
   "execution_count": null,
   "id": "mature-basket",
   "metadata": {},
   "outputs": [],
   "source": [
    "df_all = df_files.reset_index().set_index(\"sample_submitter_id\").join(df_manifest_mirna.set_index(\"sample_submitter_id\").rename(columns={\"file_name\":\"file_mirna\"}), how=\"outer\")"
   ]
  },
  {
   "cell_type": "code",
   "execution_count": null,
   "id": "unable-mission",
   "metadata": {},
   "outputs": [],
   "source": [
    "df_all[\"index\"].dropna()"
   ]
  },
  {
   "cell_type": "code",
   "execution_count": null,
   "id": "technological-insulin",
   "metadata": {},
   "outputs": [],
   "source": [
    "df_tcga_mirna = df_tcga_mirna.reindex(columns=df_all[\"file_mirna\"].dropna())\n",
    "df_tcga_mirna.columns = df_all.index.drop_duplicates()\n",
    "df_tcga = df_tcga.reindex(columns=df_all[\"file\"].dropna())\n",
    "df_tcga.columns = df_all.index.drop_duplicates()\n",
    "df_tcga.reindex(columns=df_all.index).append(df_tcga_mirna)"
   ]
  },
  {
   "cell_type": "code",
   "execution_count": null,
   "id": "continent-border",
   "metadata": {},
   "outputs": [],
   "source": [
    "import numpy as np\n",
    "np.unique([case.split(\"-\")[3] for case in pd.read_csv(\"files_fpkm.dat\")[\"cases.0.samples.0.portions.0.analytes.0.aliquots.0.submitter_id\"]], return_counts=True)"
   ]
  },
  {
   "cell_type": "code",
   "execution_count": null,
   "id": "driving-picking",
   "metadata": {},
   "outputs": [],
   "source": []
  }
 ],
 "metadata": {
  "kernelspec": {
   "display_name": "Python 3",
   "language": "python",
   "name": "python3"
  },
  "language_info": {
   "codemirror_mode": {
    "name": "ipython",
    "version": 3
   },
   "file_extension": ".py",
   "mimetype": "text/x-python",
   "name": "python",
   "nbconvert_exporter": "python",
   "pygments_lexer": "ipython3",
   "version": "3.8.8"
  }
 },
 "nbformat": 4,
 "nbformat_minor": 5
}

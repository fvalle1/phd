{
 "cells": [
  {
   "cell_type": "markdown",
   "id": "advised-marine",
   "metadata": {},
   "source": [
    "# Process data"
   ]
  },
  {
   "cell_type": "code",
   "execution_count": null,
   "id": "initial-webster",
   "metadata": {},
   "outputs": [],
   "source": [
    "import pandas as pd\n",
    "import numpy as np"
   ]
  },
  {
   "cell_type": "code",
   "execution_count": null,
   "id": "purple-fifty",
   "metadata": {},
   "outputs": [],
   "source": [
    "df_messanger = pd.read_csv(\"mainTable_fpkm.csv\", index_col=0)\n",
    "df_miRNA = pd.read_csv(\"mainTable_miRNA.csv\", index_col=0)"
   ]
  },
  {
   "cell_type": "code",
   "execution_count": null,
   "id": "naked-daughter",
   "metadata": {},
   "outputs": [],
   "source": [
    "df_files = pd.read_csv(\"files_manifest.dat\")"
   ]
  },
  {
   "cell_type": "code",
   "execution_count": null,
   "id": "dutch-wedding",
   "metadata": {},
   "outputs": [],
   "source": [
    "df_files.drop_duplicates(subset=[\"file_fpkm\"], keep=\"first\", inplace=True)\n",
    "df_files.drop_duplicates(subset=[\"file_miRNA\"], keep=\"first\", inplace=True)"
   ]
  },
  {
   "cell_type": "code",
   "execution_count": null,
   "id": "anticipated-neighbor",
   "metadata": {},
   "outputs": [],
   "source": [
    "df_files.set_index(\"file_fpkm\", inplace=True)\n",
    "df_files = df_files.reindex(index=df_messanger.columns).dropna(how=\"all\", axis=0)\n",
    "df_messanger = df_messanger.reindex(columns=df_files.index)\n",
    "df_messanger.columns = df_files[\"cases.0.submitter_id\"]\n",
    "df_messanger.head(2)"
   ]
  },
  {
   "cell_type": "code",
   "execution_count": null,
   "id": "polished-mission",
   "metadata": {},
   "outputs": [],
   "source": [
    "df_files = df_files.reset_index().set_index(\"file_miRNA\")\n",
    "df_files = df_files.reindex(index=df_miRNA.columns).dropna(how=\"all\", axis=0)\n",
    "df_miRNA = df_miRNA.reindex(columns=df_files.index)\n",
    "df_miRNA.columns = df_files[\"cases.0.submitter_id\"]\n",
    "df_miRNA.head(2)"
   ]
  },
  {
   "cell_type": "code",
   "execution_count": null,
   "id": "controlled-action",
   "metadata": {},
   "outputs": [],
   "source": [
    "df = df_messanger.append(df_miRNA.reindex(columns=df_messanger.columns))\n",
    "df.to_csv(\"mainTable_all.csv\", index=True)"
   ]
  },
  {
   "cell_type": "code",
   "execution_count": null,
   "id": "sustained-literacy",
   "metadata": {},
   "outputs": [],
   "source": [
    "df"
   ]
  },
  {
   "cell_type": "code",
   "execution_count": null,
   "id": "electrical-gender",
   "metadata": {},
   "outputs": [],
   "source": [
    "df_files = df_files.reset_index().set_index(\"cases.0.submitter_id\")"
   ]
  },
  {
   "cell_type": "code",
   "execution_count": null,
   "id": "herbal-victorian",
   "metadata": {},
   "outputs": [],
   "source": [
    "df_files = df_files.reset_index().set_index(\"cases.0.samples.0.portions.0.analytes.0.aliquots.0.submitter_id.1\")"
   ]
  },
  {
   "cell_type": "code",
   "execution_count": null,
   "id": "colonial-personality",
   "metadata": {},
   "outputs": [],
   "source": [
    "df_biolinks = pd.read_csv(\"TCGA_biolinks.csv\", index_col=0)\n",
    "df_biolinks = df_biolinks[df_biolinks[\"cancer.type\"]==\"BRCA\"]\n",
    "df_biolinks.set_index(\"pan.samplesID\", inplace=True)"
   ]
  },
  {
   "cell_type": "code",
   "execution_count": null,
   "id": "directed-denial",
   "metadata": {},
   "outputs": [],
   "source": [
    "df_files = df_files.join(df_biolinks).dropna(how=\"all\", axis=1).reset_index().set_index(\"cases.0.submitter_id\")\n",
    "df_files = df_files.reindex(index=df.columns).dropna(how=\"all\", axis=0)\n",
    "df_files.to_csv(\"files.dat\")\n",
    "df_files.head(2)"
   ]
  },
  {
   "cell_type": "markdown",
   "id": "final-safety",
   "metadata": {},
   "source": [
    "# Filter genes\n",
    "## HVG"
   ]
  },
  {
   "cell_type": "code",
   "execution_count": null,
   "id": "intellectual-visitor",
   "metadata": {},
   "outputs": [],
   "source": [
    "import scanpy as sc"
   ]
  },
  {
   "cell_type": "code",
   "execution_count": null,
   "id": "ranking-bikini",
   "metadata": {},
   "outputs": [],
   "source": [
    "adata = sc.AnnData(X=df_messanger.reindex(columns=df_files.index).dropna(how=\"all\", axis=1).transpose(), obs=df_files[df_files.index.isin(df_messanger.columns)])"
   ]
  },
  {
   "cell_type": "code",
   "execution_count": null,
   "id": "essential-surprise",
   "metadata": {},
   "outputs": [],
   "source": [
    "sc.pp.log1p(adata, copy=False)\n",
    "sc.pp.highly_variable_genes(adata, n_top_genes=3000, n_bins=50)\n",
    "sc.pl.highly_variable_genes(adata, log=False, save='hvg.pdf')"
   ]
  },
  {
   "cell_type": "code",
   "execution_count": null,
   "id": "revised-scratch",
   "metadata": {},
   "outputs": [],
   "source": [
    "hvg = adata.var[adata.var['highly_variable']==True].index\n",
    "samples = adata.obs.index"
   ]
  },
  {
   "cell_type": "code",
   "execution_count": null,
   "id": "recovered-nickel",
   "metadata": {},
   "outputs": [],
   "source": [
    "hvg"
   ]
  },
  {
   "cell_type": "code",
   "execution_count": null,
   "id": "religious-namibia",
   "metadata": {},
   "outputs": [],
   "source": [
    "df.reindex(index=hvg, columns=samples).to_csv(\"mainTable_hv5000.csv\")"
   ]
  },
  {
   "cell_type": "markdown",
   "id": "central-collar",
   "metadata": {},
   "source": [
    "## HVmiRNA"
   ]
  },
  {
   "cell_type": "code",
   "execution_count": null,
   "id": "educated-cattle",
   "metadata": {},
   "outputs": [],
   "source": [
    "adata = sc.AnnData(X=df_miRNA.reindex(columns=df_files.index).dropna(how=\"all\", axis=1).transpose(), obs=df_files.reindex(index=df_miRNA.columns).dropna(how=\"all\", axis=0))"
   ]
  },
  {
   "cell_type": "code",
   "execution_count": null,
   "id": "interested-configuration",
   "metadata": {},
   "outputs": [],
   "source": [
    "sc.pp.log1p(adata, copy=False)\n",
    "sc.pp.highly_variable_genes(adata, n_top_genes=1000, n_bins=50)\n",
    "sc.pl.highly_variable_genes(adata, log=False, save='hvmiRNA.pdf')"
   ]
  },
  {
   "cell_type": "markdown",
   "id": "blind-surprise",
   "metadata": {},
   "source": [
    "# Make Graph"
   ]
  },
  {
   "cell_type": "code",
   "execution_count": null,
   "id": "dressed-focus",
   "metadata": {},
   "outputs": [],
   "source": [
    "import graph_tool.all as gt\n",
    "from time import time\n",
    "import seaborn as sns"
   ]
  },
  {
   "cell_type": "code",
   "execution_count": null,
   "id": "circular-transformation",
   "metadata": {},
   "outputs": [],
   "source": [
    "%load_ext autoreload\n",
    "%autoreload 2\n",
    "\n",
    "import sys\n",
    "sys.path.append(\"../trisbm\")\n",
    "\n",
    "from trisbm import trisbm"
   ]
  },
  {
   "cell_type": "code",
   "execution_count": null,
   "id": "quiet-worth",
   "metadata": {},
   "outputs": [],
   "source": [
    "model = trisbm()\n",
    "model.make_graph(df.reindex(index=np.concatenate([hvg, df_miRNA.index])), get_kind=lambda word: 1 if \"ENSG\" in word else 2)"
   ]
  },
  {
   "cell_type": "code",
   "execution_count": null,
   "id": "handmade-failing",
   "metadata": {},
   "outputs": [],
   "source": [
    "model._get_shape()"
   ]
  },
  {
   "cell_type": "code",
   "execution_count": null,
   "id": "swiss-voltage",
   "metadata": {},
   "outputs": [],
   "source": [
    "g = model.g\n",
    "g"
   ]
  },
  {
   "cell_type": "code",
   "execution_count": null,
   "id": "coordinate-norfolk",
   "metadata": {},
   "outputs": [],
   "source": [
    "g.save(\"graph_hv5000_tri_log.xml.gz\")\n",
    "g=gt.load_graph(\"graph_hv5000_tri_log.xml.gz\")\n",
    "g"
   ]
  },
  {
   "cell_type": "code",
   "execution_count": null,
   "id": "damaged-equation",
   "metadata": {},
   "outputs": [],
   "source": [
    "gt.adjacency(g, weight=g.ep[\"count\"]).toarray().max()"
   ]
  },
  {
   "cell_type": "code",
   "execution_count": null,
   "id": "unusual-smith",
   "metadata": {},
   "outputs": [],
   "source": [
    "sns.heatmap(gt.adjacency(g, weight=g.ep[\"count\"]).toarray())"
   ]
  },
  {
   "cell_type": "code",
   "execution_count": null,
   "id": "driven-palestinian",
   "metadata": {},
   "outputs": [],
   "source": [
    "np.log2(df[\"TCGA-D8-A140\"][\"ENSG00000000938\"]+1)"
   ]
  },
  {
   "cell_type": "code",
   "execution_count": null,
   "id": "upper-taiwan",
   "metadata": {},
   "outputs": [],
   "source": [
    "clabel = g.vp['kind']\n",
    "state_args = {'clabel': clabel, 'pclabel': clabel}\n",
    "state_args[\"eweight\"] = g.ep.count"
   ]
  },
  {
   "cell_type": "code",
   "execution_count": null,
   "id": "simple-darwin",
   "metadata": {},
   "outputs": [],
   "source": [
    "state = gt.NestedBlockState(g)"
   ]
  },
  {
   "cell_type": "code",
   "execution_count": null,
   "id": "cognitive-breath",
   "metadata": {},
   "outputs": [],
   "source": [
    "state = gt.minimize_nested_blockmodel_dl(g, \n",
    "                                deg_corr=True,\n",
    "                                overlap=False,\n",
    "                                state_args=state_args,\n",
    "                                mcmc_args={'sequential': False},\n",
    "                                mcmc_equilibrate_args={'mcmc_args': {'sequential': False}},\n",
    "                                mcmc_multilevel_args={\n",
    "                                      'mcmc_equilibrate_args': {\n",
    "                                          'mcmc_args': {'sequential': False}\n",
    "                                      },\n",
    "                                      'anneal_args': {\n",
    "                                          'mcmc_equilibrate_args': {\n",
    "                                               'mcmc_args': {'sequential': False}\n",
    "                                          }\n",
    "                                      }\n",
    "                                  },\n",
    "                                verbose=True)"
   ]
  },
  {
   "cell_type": "code",
   "execution_count": null,
   "id": "sustainable-conference",
   "metadata": {},
   "outputs": [],
   "source": [
    "for _ in range(100):\n",
    "    state.multiflip_mcmc_sweep(beta=np.inf, niter=10, verbose=True)"
   ]
  },
  {
   "cell_type": "code",
   "execution_count": null,
   "id": "historical-account",
   "metadata": {},
   "outputs": [],
   "source": [
    "state.draw(subsample_edges=1000)"
   ]
  },
  {
   "cell_type": "markdown",
   "id": "binary-upgrade",
   "metadata": {},
   "source": [
    "## sbmtm"
   ]
  },
  {
   "cell_type": "code",
   "execution_count": null,
   "id": "enabling-dayton",
   "metadata": {},
   "outputs": [],
   "source": [
    "import sys\n",
    "sys.path.append(\"../hSBM_Topicmodel/\")"
   ]
  },
  {
   "cell_type": "code",
   "execution_count": null,
   "id": "sublime-norway",
   "metadata": {},
   "outputs": [],
   "source": [
    "from sbmtm import sbmtm"
   ]
  },
  {
   "cell_type": "code",
   "execution_count": null,
   "id": "present-cisco",
   "metadata": {},
   "outputs": [],
   "source": [
    "model = sbmtm()\n",
    "model.make_graph_from_BoW_df(df.reindex(index=hvg).dropna(how=\"any\", axis=1))\n",
    "model.save_graph(\"graph_hv.xml.gz\")"
   ]
  },
  {
   "cell_type": "markdown",
   "id": "auburn-dress",
   "metadata": {},
   "source": [
    "### log"
   ]
  },
  {
   "cell_type": "code",
   "execution_count": null,
   "id": "pediatric-genius",
   "metadata": {},
   "outputs": [],
   "source": [
    "model = sbmtm()\n",
    "model.make_graph_from_BoW_df(df.reindex(index=hvg).dropna(how=\"any\", axis=1).applymap(lambda fpkm: np.log(fpkm+1)))\n",
    "model.save_graph(\"graph_hv_log.xml.gz\")"
   ]
  },
  {
   "cell_type": "code",
   "execution_count": null,
   "id": "falling-frost",
   "metadata": {},
   "outputs": [],
   "source": [
    "model.fit()"
   ]
  },
  {
   "cell_type": "code",
   "execution_count": null,
   "id": "sustainable-walnut",
   "metadata": {},
   "outputs": [],
   "source": []
  }
 ],
 "metadata": {
  "kernelspec": {
   "display_name": "Python 3",
   "language": "python",
   "name": "python3"
  },
  "language_info": {
   "codemirror_mode": {
    "name": "ipython",
    "version": 3
   },
   "file_extension": ".py",
   "mimetype": "text/x-python",
   "name": "python",
   "nbconvert_exporter": "python",
   "pygments_lexer": "ipython3",
   "version": "3.8.6"
  }
 },
 "nbformat": 4,
 "nbformat_minor": 5
}

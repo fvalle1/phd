{
 "cells": [
  {
   "cell_type": "markdown",
   "id": "signed-mainstream",
   "metadata": {},
   "source": [
    "# Process data"
   ]
  },
  {
   "cell_type": "code",
   "execution_count": null,
   "id": "median-wallet",
   "metadata": {},
   "outputs": [],
   "source": [
    "import pandas as pd\n",
    "import numpy as np"
   ]
  },
  {
   "cell_type": "code",
   "execution_count": null,
   "id": "adverse-duration",
   "metadata": {},
   "outputs": [],
   "source": [
    "df_messanger = pd.read_csv(\"mainTable_fpkm.csv\", index_col=0)\n",
    "df_miRNA = pd.read_csv(\"mainTable_mirna.csv\", index_col=0)"
   ]
  },
  {
   "cell_type": "code",
   "execution_count": null,
   "id": "apparent-cleveland",
   "metadata": {},
   "outputs": [],
   "source": [
    "df_files = pd.read_csv(\"files_manifest.dat\")\n",
    "df_files.head(2)"
   ]
  },
  {
   "cell_type": "code",
   "execution_count": null,
   "id": "corporate-biotechnology",
   "metadata": {},
   "outputs": [],
   "source": [
    "df_files.drop_duplicates(subset=[\"file_fpkm\"], keep=\"first\", inplace=True)\n",
    "df_files.drop_duplicates(subset=[\"file_miRNA\"], keep=\"first\", inplace=True)"
   ]
  },
  {
   "cell_type": "code",
   "execution_count": null,
   "id": "solved-questionnaire",
   "metadata": {},
   "outputs": [],
   "source": [
    "df_files.set_index(\"file_fpkm\", inplace=True)\n",
    "df_files = df_files.reindex(index=df_messanger.columns).dropna(how=\"all\", axis=0)\n",
    "df_messanger = df_messanger.reindex(columns=df_files.index)\n",
    "df_messanger.columns = df_files[\"cases.0.submitter_id\"]\n",
    "df_messanger.head(2)"
   ]
  },
  {
   "cell_type": "code",
   "execution_count": null,
   "id": "opposite-silver",
   "metadata": {},
   "outputs": [],
   "source": [
    "df_files = df_files.reset_index().set_index(\"file_miRNA\")\n",
    "df_files = df_files.reindex(index=df_miRNA.columns).dropna(how=\"all\", axis=0)\n",
    "df_miRNA = df_miRNA.reindex(columns=df_files.index)\n",
    "df_miRNA.columns = df_files[\"cases.0.submitter_id\"]\n",
    "df_miRNA.head(2)"
   ]
  },
  {
   "cell_type": "code",
   "execution_count": null,
   "id": "activated-advisory",
   "metadata": {},
   "outputs": [],
   "source": [
    "df = df_messanger.append(df_miRNA.reindex(columns=df_messanger.columns))\n",
    "df.to_csv(\"mainTable_all.csv\", index=True)"
   ]
  },
  {
   "cell_type": "code",
   "execution_count": null,
   "id": "compatible-cricket",
   "metadata": {},
   "outputs": [],
   "source": [
    "df.head(2)"
   ]
  },
  {
   "cell_type": "code",
   "execution_count": null,
   "id": "unlike-portrait",
   "metadata": {},
   "outputs": [],
   "source": [
    "df_files = df_files.reset_index().set_index(\"cases.0.submitter_id\")"
   ]
  },
  {
   "cell_type": "code",
   "execution_count": null,
   "id": "informational-assignment",
   "metadata": {},
   "outputs": [],
   "source": [
    "df_files = df_files.reset_index().set_index(\"cases.0.samples.0.portions.0.analytes.0.aliquots.0.submitter_id.1\")"
   ]
  },
  {
   "cell_type": "code",
   "execution_count": null,
   "id": "freelance-region",
   "metadata": {},
   "outputs": [],
   "source": [
    "df_biolinks = pd.read_csv(\"TCGA_biolinks.csv\", index_col=0)\n",
    "df_biolinks = df_biolinks[df_biolinks[\"cancer.type\"]==\"BRCA\"]\n",
    "df_biolinks.set_index(\"pan.samplesID\", inplace=True)"
   ]
  },
  {
   "cell_type": "code",
   "execution_count": null,
   "id": "adapted-answer",
   "metadata": {},
   "outputs": [],
   "source": [
    "df_files = df_files.set_index(\"cases.0.samples.0.portions.0.analytes.0.aliquots.0.submitter_id.1\").join(df_biolinks).dropna(how=\"all\", axis=1).reset_index().set_index(\"cases.0.submitter_id\")\n",
    "#df_files = df_files.reindex(index=df.columns).dropna(how=\"all\", axis=0)\n",
    "df_files.to_csv(\"files.dat\")\n",
    "df_files.head(2)"
   ]
  },
  {
   "cell_type": "code",
   "execution_count": null,
   "id": "greek-wells",
   "metadata": {},
   "outputs": [],
   "source": [
    "df_files.loc[\"TCGA-D8-A140\",:]"
   ]
  },
  {
   "cell_type": "markdown",
   "id": "binding-museum",
   "metadata": {},
   "source": [
    "# Filter genes\n",
    "## HVG"
   ]
  },
  {
   "cell_type": "code",
   "execution_count": null,
   "id": "another-entrepreneur",
   "metadata": {},
   "outputs": [],
   "source": [
    "import scanpy as sc"
   ]
  },
  {
   "cell_type": "code",
   "execution_count": null,
   "id": "governmental-desktop",
   "metadata": {},
   "outputs": [],
   "source": [
    "adata = sc.AnnData(X=df_messanger.reindex(columns=df_files.index).dropna(how=\"all\", axis=1).transpose(), obs=df_files[df_files.index.isin(df_messanger.columns)])"
   ]
  },
  {
   "cell_type": "code",
   "execution_count": null,
   "id": "cellular-marathon",
   "metadata": {},
   "outputs": [],
   "source": [
    "sc.pp.log1p(adata, copy=False)\n",
    "sc.pp.highly_variable_genes(adata, n_top_genes=3000, n_bins=50)\n",
    "sc.pl.highly_variable_genes(adata, log=False, save='hvg.pdf')"
   ]
  },
  {
   "cell_type": "code",
   "execution_count": null,
   "id": "occasional-chain",
   "metadata": {},
   "outputs": [],
   "source": [
    "hvg = adata.var[adata.var['highly_variable']==True].index\n",
    "samples = adata.obs.index"
   ]
  },
  {
   "cell_type": "code",
   "execution_count": null,
   "id": "polished-european",
   "metadata": {},
   "outputs": [],
   "source": [
    "hvg"
   ]
  },
  {
   "cell_type": "code",
   "execution_count": null,
   "id": "filled-sending",
   "metadata": {},
   "outputs": [],
   "source": [
    "df.reindex(index=hvg, columns=samples).to_csv(\"mainTable_hv.csv\")"
   ]
  },
  {
   "cell_type": "markdown",
   "id": "unlikely-october",
   "metadata": {},
   "source": [
    "## HVmiRNA"
   ]
  },
  {
   "cell_type": "code",
   "execution_count": null,
   "id": "stuck-acoustic",
   "metadata": {},
   "outputs": [],
   "source": [
    "adata = sc.AnnData(X=df_miRNA.reindex(columns=df_files.index).dropna(how=\"all\", axis=1).transpose(), obs=df_files)"
   ]
  },
  {
   "cell_type": "code",
   "execution_count": null,
   "id": "addressed-allah",
   "metadata": {},
   "outputs": [],
   "source": [
    "sc.pp.log1p(adata, copy=False)\n",
    "sc.pp.highly_variable_genes(adata, n_top_genes=1000, n_bins=50)\n",
    "sc.pl.highly_variable_genes(adata, log=False, save='hvmiRNA.pdf')"
   ]
  },
  {
   "cell_type": "markdown",
   "id": "adolescent-backing",
   "metadata": {},
   "source": [
    "# Make Graph"
   ]
  },
  {
   "cell_type": "code",
   "execution_count": null,
   "id": "cooked-chamber",
   "metadata": {},
   "outputs": [],
   "source": [
    "import graph_tool.all as gt\n",
    "from time import time\n",
    "import seaborn as sns"
   ]
  },
  {
   "cell_type": "code",
   "execution_count": null,
   "id": "occupied-brooks",
   "metadata": {},
   "outputs": [],
   "source": [
    "%load_ext autoreload\n",
    "%autoreload 2\n",
    "\n",
    "import sys\n",
    "sys.path.append(\"../trisbm\")\n",
    "\n",
    "from trisbm import trisbm"
   ]
  },
  {
   "cell_type": "code",
   "execution_count": null,
   "id": "smaller-tobacco",
   "metadata": {},
   "outputs": [],
   "source": [
    "model = trisbm()\n",
    "model.make_graph(df.reindex(index=np.concatenate([hvg, df_miRNA.index])), get_kind=lambda word: 1 if \"ENSG\" in word else 2)"
   ]
  },
  {
   "cell_type": "code",
   "execution_count": null,
   "id": "freelance-making",
   "metadata": {},
   "outputs": [],
   "source": [
    "model._get_shape()"
   ]
  },
  {
   "cell_type": "code",
   "execution_count": null,
   "id": "italic-clothing",
   "metadata": {},
   "outputs": [],
   "source": [
    "g = model.g\n",
    "g"
   ]
  },
  {
   "cell_type": "code",
   "execution_count": null,
   "id": "analyzed-reserve",
   "metadata": {},
   "outputs": [],
   "source": [
    "g.save(\"graph.xml.gz\")\n",
    "g=gt.load_graph(\"graph.xml.gz\")\n",
    "g"
   ]
  },
  {
   "cell_type": "code",
   "execution_count": null,
   "id": "contrary-diary",
   "metadata": {},
   "outputs": [],
   "source": [
    "gt.adjacency(g, weight=g.ep[\"count\"]).toarray().max()"
   ]
  },
  {
   "cell_type": "code",
   "execution_count": null,
   "id": "hourly-meaning",
   "metadata": {},
   "outputs": [],
   "source": [
    "sns.heatmap(gt.adjacency(g, weight=g.ep[\"count\"]).toarray())"
   ]
  },
  {
   "cell_type": "code",
   "execution_count": null,
   "id": "pursuant-ontario",
   "metadata": {},
   "outputs": [],
   "source": [
    "np.log2(df[\"TCGA-D8-A140\"][\"ENSG00000000938\"]+1)"
   ]
  },
  {
   "cell_type": "code",
   "execution_count": null,
   "id": "technical-scene",
   "metadata": {},
   "outputs": [],
   "source": [
    "clabel = g.vp['kind']\n",
    "state_args = {'clabel': clabel, 'pclabel': clabel}\n",
    "state_args[\"eweight\"] = g.ep.count"
   ]
  },
  {
   "cell_type": "code",
   "execution_count": null,
   "id": "frequent-flooring",
   "metadata": {},
   "outputs": [],
   "source": [
    "state = gt.NestedBlockState(g)"
   ]
  },
  {
   "cell_type": "code",
   "execution_count": null,
   "id": "committed-viewer",
   "metadata": {},
   "outputs": [],
   "source": [
    "state = gt.minimize_nested_blockmodel_dl(g, \n",
    "                                deg_corr=True,\n",
    "                                overlap=False,\n",
    "                                state_args=state_args,\n",
    "                                mcmc_args={'sequential': False},\n",
    "                                mcmc_equilibrate_args={'mcmc_args': {'sequential': False}},\n",
    "                                mcmc_multilevel_args={\n",
    "                                      'mcmc_equilibrate_args': {\n",
    "                                          'mcmc_args': {'sequential': False}\n",
    "                                      },\n",
    "                                      'anneal_args': {\n",
    "                                          'mcmc_equilibrate_args': {\n",
    "                                               'mcmc_args': {'sequential': False}\n",
    "                                          }\n",
    "                                      }\n",
    "                                  },\n",
    "                                verbose=True)"
   ]
  },
  {
   "cell_type": "code",
   "execution_count": null,
   "id": "superior-analyst",
   "metadata": {},
   "outputs": [],
   "source": [
    "for _ in range(100):\n",
    "    state.multiflip_mcmc_sweep(beta=np.inf, niter=10, verbose=True)"
   ]
  },
  {
   "cell_type": "code",
   "execution_count": null,
   "id": "neural-danger",
   "metadata": {},
   "outputs": [],
   "source": [
    "state.draw(subsample_edges=1000)"
   ]
  },
  {
   "cell_type": "markdown",
   "id": "classified-farming",
   "metadata": {},
   "source": [
    "## sbmtm"
   ]
  },
  {
   "cell_type": "code",
   "execution_count": null,
   "id": "neural-roads",
   "metadata": {},
   "outputs": [],
   "source": [
    "import sys\n",
    "sys.path.append(\"../hSBM_Topicmodel/\")"
   ]
  },
  {
   "cell_type": "code",
   "execution_count": null,
   "id": "incorporated-clause",
   "metadata": {},
   "outputs": [],
   "source": [
    "from sbmtm import sbmtm"
   ]
  },
  {
   "cell_type": "code",
   "execution_count": null,
   "id": "duplicate-fight",
   "metadata": {},
   "outputs": [],
   "source": [
    "model = sbmtm()\n",
    "model.make_graph_from_BoW_df(df.reindex(index=hvg).dropna(how=\"any\", axis=1))\n",
    "model.save_graph(\"graph_hv.xml.gz\")"
   ]
  },
  {
   "cell_type": "markdown",
   "id": "grateful-closer",
   "metadata": {},
   "source": [
    "### log"
   ]
  },
  {
   "cell_type": "code",
   "execution_count": null,
   "id": "hispanic-school",
   "metadata": {},
   "outputs": [],
   "source": [
    "model = sbmtm()\n",
    "model.make_graph_from_BoW_df(df.reindex(index=hvg).dropna(how=\"any\", axis=1).applymap(lambda fpkm: np.log(fpkm+1)))\n",
    "model.save_graph(\"graph_hv_log.xml.gz\")"
   ]
  },
  {
   "cell_type": "code",
   "execution_count": null,
   "id": "thorough-collins",
   "metadata": {},
   "outputs": [],
   "source": [
    "model.fit()"
   ]
  },
  {
   "cell_type": "code",
   "execution_count": null,
   "id": "french-reverse",
   "metadata": {},
   "outputs": [],
   "source": []
  }
 ],
 "metadata": {
  "kernelspec": {
   "display_name": "Python 3",
   "language": "python",
   "name": "python3"
  },
  "language_info": {
   "codemirror_mode": {
    "name": "ipython",
    "version": 3
   },
   "file_extension": ".py",
   "mimetype": "text/x-python",
   "name": "python",
   "nbconvert_exporter": "python",
   "pygments_lexer": "ipython3",
   "version": "3.8.8"
  }
 },
 "nbformat": 4,
 "nbformat_minor": 5
}

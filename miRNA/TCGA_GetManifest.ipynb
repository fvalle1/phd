{
 "cells": [
  {
   "cell_type": "code",
   "execution_count": 2,
   "metadata": {},
   "outputs": [],
   "source": [
    "import requests\n",
    "import json\n",
    "import pandas as pd"
   ]
  },
  {
   "cell_type": "code",
   "execution_count": 3,
   "metadata": {},
   "outputs": [],
   "source": [
    "files_endpt = \"https://api.gdc.cancer.gov/files\"\n",
    "\n",
    "# The 'fields' parameter is passed as a comma-separated string of single names.\n",
    "fields = [\n",
    "    \"file_name\",\n",
    "    #\"analysis.workflow_type\",\n",
    "    #\"experimental_strategy\",\n",
    "    \"cases.project.primary_site\",\n",
    "    \"cases.project.disease_type\",\n",
    "    \"cases.diagnoses.primary_diagnosis\",\n",
    "    \"cases.submitter_id\",\n",
    "    \"cases.samples.portions.analytes.aliquots.submitter_id\",\n",
    "    \"cases.diagnoses.tumor_stage\",\n",
    "    \"cases.diagnoses.tumor_grade\",\n",
    "    \"cases.diagnoses.progression_or_recurrence\"\n",
    "    \"cases.diagnoses.vital_status\",\n",
    "    \"cases.diagnoses.days_to_birth\",\n",
    "    \"cases.diagnoses.days_to_death\",\n",
    "    \"cases.diagnoses.morphology\",\n",
    "    \"cases.diagnoses.tissue_or_organ_of_origin\",\n",
    "    \"cases.samples.longest_dimension\",\n",
    "    \"cases.samples.shortest_dimension\",\n",
    "    \"cases.samples.pathology_report_uuid\"\n",
    "    #\"cases.project.project_id\"\n",
    "]\n",
    "\n",
    "fields = ','.join(fields)"
   ]
  },
  {
   "cell_type": "code",
   "execution_count": 4,
   "metadata": {},
   "outputs": [],
   "source": [
    "#miRNA filters\n",
    "filters = {\n",
    "    \"op\": \"and\",\n",
    "    \"content\":[\n",
    "        {\n",
    "        \"op\": \"in\",\n",
    "        \"content\":{\n",
    "            \"field\": \"files.data_type\",\n",
    "            \"value\": [\"miRNA Expression Quantification\"]\n",
    "            }\n",
    "        },\n",
    "          {\n",
    "        \"op\": \"in\",\n",
    "        \"content\":{\n",
    "               \"field\": \"files.experimental_strategy\",\n",
    "                \"value\": [\"miRNA-Seq\"]\n",
    "                }\n",
    "        },\n",
    "        {\n",
    "        \"op\": \"in\",\n",
    "        \"content\":{\n",
    "            \"field\": \"files.data_format\",\n",
    "            \"value\": [\"TXT\"]\n",
    "            }\n",
    "        },\n",
    "        {\n",
    "        \"op\": \"in\",\n",
    "        \"content\":{\n",
    "            \"field\": \"cases.project.project_id\",\n",
    "            \"value\": ['TCGA-BRCA']\n",
    "            }\n",
    "        },\n",
    "        {\n",
    "        \"op\": \"in\",\n",
    "        \"content\":{\n",
    "            \"field\": \"cases.project.program.name\",\n",
    "            \"value\": [\"TCGA\"]\n",
    "            }\n",
    "        }\n",
    "        \n",
    "    ]\n",
    "}"
   ]
  },
  {
   "cell_type": "code",
   "execution_count": 5,
   "metadata": {},
   "outputs": [],
   "source": [
    "# A POST is used, so the filter parameters can be passed directly as a Dict object.\n",
    "##remove manifest to have file fields\n",
    "params = {\n",
    "   \"return_type\": \"manifest\",\n",
    "    \"filters\": filters,\n",
    "    \"fields\": fields,\n",
    "    \"format\": \"TSV\",\n",
    "    \"size\": \"15000\"\n",
    "    }"
   ]
  },
  {
   "cell_type": "code",
   "execution_count": null,
   "metadata": {},
   "outputs": [],
   "source": [
    "# The parameters are passed to 'json' rather than 'params' in this case\n",
    "response = requests.post(files_endpt, headers = {\"Content-Type\": \"application/json\"}, json = params)\n",
    "\n",
    "#print(response.content.decode(\"utf-8\"))"
   ]
  },
  {
   "cell_type": "code",
   "execution_count": null,
   "metadata": {},
   "outputs": [],
   "source": [
    "len(response.content.decode(\"utf-8\"))"
   ]
  },
  {
   "cell_type": "code",
   "execution_count": null,
   "metadata": {},
   "outputs": [],
   "source": [
    "with open(\"manifest.txt\",\"w\") as manifest:\n",
    "    manifest.write(response.content.decode(\"utf-8\"))"
   ]
  },
  {
   "cell_type": "code",
   "execution_count": 21,
   "metadata": {},
   "outputs": [],
   "source": [
    "params = {\n",
    "    \"filters\": json.dumps(filters),\n",
    "    \"fields\": \"primary_site,cases.project.project_id,file_name,cases.demographic.vital_status,cases.demographic.gender,cases.diagnoses.age_at_diagnosis,cases.diagnoses.days_to_last_follow_up,cases.demographic.days_to_death,cases.demographic.days_to_birth,cases.submitter_id,samples.portions.analytes.aliquots.submitter_id,cases.diagnoses.last_known_disease_status,cases.diagnoses.tumor_stage,cases.exposures.years_smoked,cases.exposures.cigarettes_per_day,cases.samples.portions.analytes.aliquots.submitter_id,cases.samples.longest_dimension,cases.samples.shortest_dimension,cases.samples.tumor_descriptor\",\n",
    "    \"format\": \"TSV\",\n",
    "    \"size\": \"50000\"\n",
    "    }\n",
    "response = requests.get(\"https://api.gdc.cancer.gov/files\", headers = {\"Content-Type\": \"application/json\"}, params = params)\n",
    "#print(response.content.decode(\"UTF-8\"))\n",
    "with open(\"files.txt\",\"w\") as files:\n",
    "    files.write(response.content.decode(\"utf-8\"))"
   ]
  },
  {
   "cell_type": "code",
   "execution_count": 22,
   "metadata": {},
   "outputs": [
    {
     "data": {
      "text/html": [
       "<div>\n",
       "<style scoped>\n",
       "    .dataframe tbody tr th:only-of-type {\n",
       "        vertical-align: middle;\n",
       "    }\n",
       "\n",
       "    .dataframe tbody tr th {\n",
       "        vertical-align: top;\n",
       "    }\n",
       "\n",
       "    .dataframe thead th {\n",
       "        text-align: right;\n",
       "    }\n",
       "</style>\n",
       "<table border=\"1\" class=\"dataframe\">\n",
       "  <thead>\n",
       "    <tr style=\"text-align: right;\">\n",
       "      <th></th>\n",
       "      <th>cases.0.demographic.days_to_birth</th>\n",
       "      <th>cases.0.demographic.days_to_death</th>\n",
       "      <th>cases.0.demographic.gender</th>\n",
       "      <th>cases.0.demographic.vital_status</th>\n",
       "      <th>cases.0.diagnoses.0.age_at_diagnosis</th>\n",
       "      <th>cases.0.diagnoses.0.days_to_last_follow_up</th>\n",
       "      <th>cases.0.diagnoses.0.last_known_disease_status</th>\n",
       "      <th>cases.0.diagnoses.0.tumor_stage</th>\n",
       "      <th>cases.0.exposures.0.cigarettes_per_day</th>\n",
       "      <th>cases.0.exposures.0.years_smoked</th>\n",
       "      <th>cases.0.project.project_id</th>\n",
       "      <th>cases.0.samples.0.longest_dimension</th>\n",
       "      <th>cases.0.samples.0.portions.0.analytes.0.aliquots.0.submitter_id</th>\n",
       "      <th>cases.0.samples.0.shortest_dimension</th>\n",
       "      <th>cases.0.samples.0.tumor_descriptor</th>\n",
       "      <th>cases.0.submitter_id</th>\n",
       "    </tr>\n",
       "    <tr>\n",
       "      <th>file_name</th>\n",
       "      <th></th>\n",
       "      <th></th>\n",
       "      <th></th>\n",
       "      <th></th>\n",
       "      <th></th>\n",
       "      <th></th>\n",
       "      <th></th>\n",
       "      <th></th>\n",
       "      <th></th>\n",
       "      <th></th>\n",
       "      <th></th>\n",
       "      <th></th>\n",
       "      <th></th>\n",
       "      <th></th>\n",
       "      <th></th>\n",
       "      <th></th>\n",
       "    </tr>\n",
       "  </thead>\n",
       "  <tbody>\n",
       "    <tr>\n",
       "      <th>da8cb4c3-4599-41d8-9f1e-6854d9996435.FPKM.txt.gz</th>\n",
       "      <td>-27977.0</td>\n",
       "      <td>NaN</td>\n",
       "      <td>female</td>\n",
       "      <td>Alive</td>\n",
       "      <td>27977.0</td>\n",
       "      <td>224.0</td>\n",
       "      <td>not reported</td>\n",
       "      <td>stage iia</td>\n",
       "      <td>NaN</td>\n",
       "      <td>NaN</td>\n",
       "      <td>TCGA-BRCA</td>\n",
       "      <td>NaN</td>\n",
       "      <td>TCGA-AN-A0AK-01A-21R-A00Z-07</td>\n",
       "      <td>NaN</td>\n",
       "      <td>NaN</td>\n",
       "      <td>TCGA-AN-A0AK</td>\n",
       "    </tr>\n",
       "    <tr>\n",
       "      <th>0978e2a7-73fc-4389-9e63-3d6fd42832e8.FPKM.txt.gz</th>\n",
       "      <td>-26274.0</td>\n",
       "      <td>NaN</td>\n",
       "      <td>female</td>\n",
       "      <td>Alive</td>\n",
       "      <td>26274.0</td>\n",
       "      <td>954.0</td>\n",
       "      <td>not reported</td>\n",
       "      <td>stage iiia</td>\n",
       "      <td>NaN</td>\n",
       "      <td>NaN</td>\n",
       "      <td>TCGA-BRCA</td>\n",
       "      <td>NaN</td>\n",
       "      <td>TCGA-A7-A26E-01B-06R-A277-07</td>\n",
       "      <td>NaN</td>\n",
       "      <td>NaN</td>\n",
       "      <td>TCGA-A7-A26E</td>\n",
       "    </tr>\n",
       "  </tbody>\n",
       "</table>\n",
       "</div>"
      ],
      "text/plain": [
       "                                                  cases.0.demographic.days_to_birth  \\\n",
       "file_name                                                                             \n",
       "da8cb4c3-4599-41d8-9f1e-6854d9996435.FPKM.txt.gz                           -27977.0   \n",
       "0978e2a7-73fc-4389-9e63-3d6fd42832e8.FPKM.txt.gz                           -26274.0   \n",
       "\n",
       "                                                  cases.0.demographic.days_to_death  \\\n",
       "file_name                                                                             \n",
       "da8cb4c3-4599-41d8-9f1e-6854d9996435.FPKM.txt.gz                                NaN   \n",
       "0978e2a7-73fc-4389-9e63-3d6fd42832e8.FPKM.txt.gz                                NaN   \n",
       "\n",
       "                                                 cases.0.demographic.gender  \\\n",
       "file_name                                                                     \n",
       "da8cb4c3-4599-41d8-9f1e-6854d9996435.FPKM.txt.gz                     female   \n",
       "0978e2a7-73fc-4389-9e63-3d6fd42832e8.FPKM.txt.gz                     female   \n",
       "\n",
       "                                                 cases.0.demographic.vital_status  \\\n",
       "file_name                                                                           \n",
       "da8cb4c3-4599-41d8-9f1e-6854d9996435.FPKM.txt.gz                            Alive   \n",
       "0978e2a7-73fc-4389-9e63-3d6fd42832e8.FPKM.txt.gz                            Alive   \n",
       "\n",
       "                                                  cases.0.diagnoses.0.age_at_diagnosis  \\\n",
       "file_name                                                                                \n",
       "da8cb4c3-4599-41d8-9f1e-6854d9996435.FPKM.txt.gz                               27977.0   \n",
       "0978e2a7-73fc-4389-9e63-3d6fd42832e8.FPKM.txt.gz                               26274.0   \n",
       "\n",
       "                                                  cases.0.diagnoses.0.days_to_last_follow_up  \\\n",
       "file_name                                                                                      \n",
       "da8cb4c3-4599-41d8-9f1e-6854d9996435.FPKM.txt.gz                                       224.0   \n",
       "0978e2a7-73fc-4389-9e63-3d6fd42832e8.FPKM.txt.gz                                       954.0   \n",
       "\n",
       "                                                 cases.0.diagnoses.0.last_known_disease_status  \\\n",
       "file_name                                                                                        \n",
       "da8cb4c3-4599-41d8-9f1e-6854d9996435.FPKM.txt.gz                                  not reported   \n",
       "0978e2a7-73fc-4389-9e63-3d6fd42832e8.FPKM.txt.gz                                  not reported   \n",
       "\n",
       "                                                 cases.0.diagnoses.0.tumor_stage  \\\n",
       "file_name                                                                          \n",
       "da8cb4c3-4599-41d8-9f1e-6854d9996435.FPKM.txt.gz                       stage iia   \n",
       "0978e2a7-73fc-4389-9e63-3d6fd42832e8.FPKM.txt.gz                      stage iiia   \n",
       "\n",
       "                                                  cases.0.exposures.0.cigarettes_per_day  \\\n",
       "file_name                                                                                  \n",
       "da8cb4c3-4599-41d8-9f1e-6854d9996435.FPKM.txt.gz                                     NaN   \n",
       "0978e2a7-73fc-4389-9e63-3d6fd42832e8.FPKM.txt.gz                                     NaN   \n",
       "\n",
       "                                                  cases.0.exposures.0.years_smoked  \\\n",
       "file_name                                                                            \n",
       "da8cb4c3-4599-41d8-9f1e-6854d9996435.FPKM.txt.gz                               NaN   \n",
       "0978e2a7-73fc-4389-9e63-3d6fd42832e8.FPKM.txt.gz                               NaN   \n",
       "\n",
       "                                                 cases.0.project.project_id  \\\n",
       "file_name                                                                     \n",
       "da8cb4c3-4599-41d8-9f1e-6854d9996435.FPKM.txt.gz                  TCGA-BRCA   \n",
       "0978e2a7-73fc-4389-9e63-3d6fd42832e8.FPKM.txt.gz                  TCGA-BRCA   \n",
       "\n",
       "                                                  cases.0.samples.0.longest_dimension  \\\n",
       "file_name                                                                               \n",
       "da8cb4c3-4599-41d8-9f1e-6854d9996435.FPKM.txt.gz                                  NaN   \n",
       "0978e2a7-73fc-4389-9e63-3d6fd42832e8.FPKM.txt.gz                                  NaN   \n",
       "\n",
       "                                                 cases.0.samples.0.portions.0.analytes.0.aliquots.0.submitter_id  \\\n",
       "file_name                                                                                                          \n",
       "da8cb4c3-4599-41d8-9f1e-6854d9996435.FPKM.txt.gz                       TCGA-AN-A0AK-01A-21R-A00Z-07                \n",
       "0978e2a7-73fc-4389-9e63-3d6fd42832e8.FPKM.txt.gz                       TCGA-A7-A26E-01B-06R-A277-07                \n",
       "\n",
       "                                                  cases.0.samples.0.shortest_dimension  \\\n",
       "file_name                                                                                \n",
       "da8cb4c3-4599-41d8-9f1e-6854d9996435.FPKM.txt.gz                                   NaN   \n",
       "0978e2a7-73fc-4389-9e63-3d6fd42832e8.FPKM.txt.gz                                   NaN   \n",
       "\n",
       "                                                  cases.0.samples.0.tumor_descriptor  \\\n",
       "file_name                                                                              \n",
       "da8cb4c3-4599-41d8-9f1e-6854d9996435.FPKM.txt.gz                                 NaN   \n",
       "0978e2a7-73fc-4389-9e63-3d6fd42832e8.FPKM.txt.gz                                 NaN   \n",
       "\n",
       "                                                 cases.0.submitter_id  \n",
       "file_name                                                              \n",
       "da8cb4c3-4599-41d8-9f1e-6854d9996435.FPKM.txt.gz         TCGA-AN-A0AK  \n",
       "0978e2a7-73fc-4389-9e63-3d6fd42832e8.FPKM.txt.gz         TCGA-A7-A26E  "
      ]
     },
     "execution_count": 22,
     "metadata": {},
     "output_type": "execute_result"
    }
   ],
   "source": [
    "df_files = pd.read_csv(\"files.txt\", sep='\\t')\n",
    "df_files.drop(\"id\", axis=1, inplace=True)\n",
    "df_files.set_index(\"file_name\", inplace=True)\n",
    "df_files.head(2)"
   ]
  },
  {
   "cell_type": "code",
   "execution_count": 23,
   "metadata": {},
   "outputs": [
    {
     "data": {
      "text/plain": [
       "array([], dtype=float64)"
      ]
     },
     "execution_count": 23,
     "metadata": {},
     "output_type": "execute_result"
    }
   ],
   "source": [
    "df_files[\"cases.0.samples.0.tumor_descriptor\"].dropna().unique()"
   ]
  },
  {
   "cell_type": "code",
   "execution_count": null,
   "metadata": {},
   "outputs": [],
   "source": [
    "df_files.to_csv(\"files_miRNA.dat\", header=True)"
   ]
  },
  {
   "cell_type": "markdown",
   "metadata": {},
   "source": [
    "## Files"
   ]
  },
  {
   "cell_type": "code",
   "execution_count": 6,
   "metadata": {},
   "outputs": [],
   "source": [
    "# Tissue project filters\n",
    "filters = {\n",
    "    \"op\": \"and\",\n",
    "    \"content\":[\n",
    "        {\n",
    "        \"op\": \"in\",\n",
    "        \"content\":{\n",
    "            \"field\": \"files.data_type\",\n",
    "            \"value\": [\"Gene Expression Quantification\"]\n",
    "            }\n",
    "        },\n",
    "        {\n",
    "        \"op\": \"in\",\n",
    "        \"content\":{\n",
    "               \"field\": \"files.analysis.workflow_type\",\n",
    "                \"value\": [\"HTSeq - FPKM\"]\n",
    "                }\n",
    "        },\n",
    "        {\n",
    "        \"op\": \"in\",\n",
    "        \"content\":{\n",
    "            \"field\": \"files.data_format\",\n",
    "            \"value\": [\"TXT\"]\n",
    "            }\n",
    "        },\n",
    "        {\n",
    "        \"op\": \"in\",\n",
    "        \"content\":{\n",
    "            \"field\": \"cases.project.project_id\",\n",
    "            \"value\": [\"TCGA-BRCA\"]\n",
    "            }\n",
    "        }\n",
    "        \n",
    "    ]\n",
    "}"
   ]
  },
  {
   "cell_type": "code",
   "execution_count": null,
   "metadata": {},
   "outputs": [],
   "source": [
    "params = {\n",
    "    \"filters\": json.dumps(filters),\n",
    "    \"fields\": \"primary_site,cases.project.project_id,file_name,cases.demographic.vital_status,cases.demographic.gender,cases.diagnoses.age_at_diagnosis,cases.diagnoses.days_to_last_follow_up,cases.demographic.days_to_death,cases.demographic.days_to_birth,cases.submitter_id,samples.portions.analytes.aliquots.submitter_id,cases.diagnoses.last_known_disease_status,cases.diagnoses.tumor_stage,cases.exposures.years_smoked,cases.exposures.cigarettes_per_day,cases.samples.portions.analytes.aliquots.submitter_id\",\n",
    "    \"format\": \"TSV\",\n",
    "    \"size\": \"50000\"\n",
    "    }\n",
    "response = requests.get(\"https://api.gdc.cancer.gov/files\", headers = {\"Content-Type\": \"application/json\"}, params = params)\n",
    "#print(response.content.decode(\"UTF-8\"))\n",
    "with open(\"files.txt\",\"w\") as files:\n",
    "    files.write(response.content.decode(\"utf-8\"))"
   ]
  },
  {
   "cell_type": "code",
   "execution_count": null,
   "metadata": {},
   "outputs": [],
   "source": [
    "df_files = pd.read_csv(\"files.txt\", sep='\\t')\n",
    "df_files.drop(\"id\", axis=1, inplace=True)\n",
    "df_files.set_index(\"file_name\", inplace=True)\n",
    "df_files.head(2)"
   ]
  },
  {
   "cell_type": "code",
   "execution_count": null,
   "metadata": {},
   "outputs": [],
   "source": [
    "df_files.to_csv(\"files_fpkm.dat\", header=True)"
   ]
  },
  {
   "cell_type": "markdown",
   "metadata": {},
   "source": [
    "# Merge"
   ]
  },
  {
   "cell_type": "code",
   "execution_count": null,
   "metadata": {},
   "outputs": [],
   "source": [
    "df_messangers = pd.read_csv(\"files_fpkm.dat\")\n",
    "df_messangers.head(2)"
   ]
  },
  {
   "cell_type": "code",
   "execution_count": null,
   "metadata": {},
   "outputs": [],
   "source": [
    "df_miRNA = pd.read_csv(\"files_miRNA.dat\")\n",
    "df_miRNA.head(2)"
   ]
  },
  {
   "cell_type": "code",
   "execution_count": null,
   "metadata": {},
   "outputs": [],
   "source": [
    "df_messangers = df_messangers.loc[~df_messangers[\"cases.0.submitter_id\"].duplicated(keep=\"first\"),:].rename(columns={\"file_name\":\"file_fpkm\"})\n",
    "df_miRNA = df_miRNA.loc[~df_miRNA[\"cases.0.submitter_id\"].duplicated(keep=\"first\"),:].rename(columns={\"file_name\":\"file_miRNA\"})"
   ]
  },
  {
   "cell_type": "code",
   "execution_count": null,
   "metadata": {},
   "outputs": [],
   "source": [
    "df_files = df_miRNA.set_index(\"cases.0.submitter_id\").transpose().append(df_messangers.set_index(\"cases.0.submitter_id\").transpose()).transpose()\n",
    "df_files.head(2)"
   ]
  },
  {
   "cell_type": "code",
   "execution_count": null,
   "metadata": {},
   "outputs": [],
   "source": [
    "df_files.to_csv(\"files_manifest.dat\")"
   ]
  },
  {
   "cell_type": "code",
   "execution_count": null,
   "metadata": {},
   "outputs": [],
   "source": [
    "pd.read_csv(\"data_miRNA/002f73df-6c1d-4187-bab8-09908ed64a75/09a8fbb6-a236-4c64-be34-932db3fd3f06.mirbase21.mirnas.quantification.txt\", sep=\"\\t\")[\"miRNA_ID\"].to_csv(\"miRNA.txt\", index=False, header=True)"
   ]
  },
  {
   "cell_type": "code",
   "execution_count": null,
   "metadata": {},
   "outputs": [],
   "source": []
  }
 ],
 "metadata": {
  "kernelspec": {
   "display_name": "Python 3",
   "language": "python",
   "name": "python3"
  },
  "language_info": {
   "codemirror_mode": {
    "name": "ipython",
    "version": 3
   },
   "file_extension": ".py",
   "mimetype": "text/x-python",
   "name": "python",
   "nbconvert_exporter": "python",
   "pygments_lexer": "ipython3",
   "version": "3.8.6"
  },
  "widgets": {
   "application/vnd.jupyter.widget-state+json": {
    "state": {},
    "version_major": 2,
    "version_minor": 0
   }
  }
 },
 "nbformat": 4,
 "nbformat_minor": 4
}

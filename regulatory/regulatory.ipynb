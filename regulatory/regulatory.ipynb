{
 "cells": [
  {
   "cell_type": "code",
   "execution_count": null,
   "id": "injured-agency",
   "metadata": {},
   "outputs": [],
   "source": [
    "import networkx as nx\n",
    "import logging\n",
    "import multiprocessing as mp\n",
    "import pandas as pd\n",
    "import sys\n",
    "log = logging.getLogger(\"regulatory\")\n",
    "log.setLevel(logging.DEBUG)"
   ]
  },
  {
   "cell_type": "markdown",
   "id": "social-appraisal",
   "metadata": {},
   "source": [
    "http://www.regnetworkweb.org/source.jsp"
   ]
  },
  {
   "cell_type": "code",
   "execution_count": null,
   "id": "pharmaceutical-inspection",
   "metadata": {},
   "outputs": [],
   "source": [
    "g = nx.Graph()"
   ]
  },
  {
   "cell_type": "code",
   "execution_count": null,
   "id": "urban-chaos",
   "metadata": {},
   "outputs": [],
   "source": [
    "def process_ENCODE_row(row):\n",
    "    miRNA, gene = row.replace(\"\\n\", \"\").split(\"\\t\")[:2]\n",
    "    if \"M\" not in miRNA: #miRNA regulate genes, first edge should be mirna\n",
    "        return None\n",
    "    else:\n",
    "        return (miRNA, gene)\n",
    "    \n",
    "with open(\"human/ENCODE\", \"r\") as file:\n",
    "    pool = mp.Pool()\n",
    "    w = pool.map_async(process_ENCODE_row, file.readlines(), error_callback=lambda err: log.error(err))\n",
    "    pool.close()\n",
    "    \n",
    "pool.join()\n",
    "\n",
    "g.add_edges_from([wi for wi in w.get() if wi is not None])"
   ]
  },
  {
   "cell_type": "code",
   "execution_count": null,
   "id": "prompt-detector",
   "metadata": {},
   "outputs": [],
   "source": [
    "nodes = g.nodes()\n",
    "\n",
    "def process_row(row):\n",
    "        node = row.replace(\"\\n\", \"\").split(\"\\t\")\n",
    "        if node[0] in nodes:\n",
    "            return node[0], {\"name\":node[1].replace(\"hsa-miR\", \"hsa-mir\")}\n",
    "        else:\n",
    "            return None\n",
    "        \n",
    "with open(\"human/human.node\", \"r\") as file:\n",
    "    pool = mp.Pool()\n",
    "    w = pool.map_async(process_row, file.readlines(), error_callback=lambda err: log.error(err))\n",
    "    pool.close()\n",
    "    \n",
    "pool.join()\n",
    "g.add_nodes_from([wi for wi in w.get() if wi is not None])"
   ]
  },
  {
   "cell_type": "code",
   "execution_count": null,
   "id": "tutorial-discussion",
   "metadata": {},
   "outputs": [],
   "source": [
    "df_adjiacency = pd.DataFrame(g.nodes(data=True), columns = [\"id\", \"data\"]).set_index(\"id\")\n",
    "def get_name(id):\n",
    "    try:\n",
    "        return df_adjiacency.loc[id,\"data\"][\"name\"]\n",
    "    except:\n",
    "        return None\n",
    "df_adjiacency[\"name\"] = list(map(get_name, df_adjiacency.index))\n",
    "\n",
    "def get_name(id):\n",
    "    try:\n",
    "        return df_adjiacency.at[id,\"name\"]\n",
    "    except:\n",
    "        return None"
   ]
  },
  {
   "cell_type": "code",
   "execution_count": null,
   "id": "compound-society",
   "metadata": {},
   "outputs": [],
   "source": [
    "df_adjiacency.head()"
   ]
  },
  {
   "cell_type": "code",
   "execution_count": null,
   "id": "classical-blocking",
   "metadata": {},
   "outputs": [],
   "source": [
    "for gene in list(map(get_name,g.neighbors(\"MIMAT0002882\"))):\n",
    "    print(gene)"
   ]
  },
  {
   "cell_type": "code",
   "execution_count": null,
   "id": "spectacular-sandwich",
   "metadata": {},
   "outputs": [],
   "source": [
    "nx.write_gpickle(g, \"graph.pkl.gz\")"
   ]
  },
  {
   "cell_type": "code",
   "execution_count": null,
   "id": "latin-raleigh",
   "metadata": {},
   "outputs": [],
   "source": [
    "df_adjiacency.reset_index().to_csv(\"graph_metadata.csv\")"
   ]
  },
  {
   "cell_type": "code",
   "execution_count": null,
   "id": "hydraulic-porcelain",
   "metadata": {},
   "outputs": [],
   "source": []
  }
 ],
 "metadata": {
  "kernelspec": {
   "display_name": "Python 3",
   "language": "python",
   "name": "python3"
  },
  "language_info": {
   "codemirror_mode": {
    "name": "ipython",
    "version": 3
   },
   "file_extension": ".py",
   "mimetype": "text/x-python",
   "name": "python",
   "nbconvert_exporter": "python",
   "pygments_lexer": "ipython3",
   "version": "3.8.6"
  }
 },
 "nbformat": 4,
 "nbformat_minor": 5
}

{
 "cells": [
  {
   "cell_type": "code",
   "execution_count": 36,
   "id": "romantic-deposit",
   "metadata": {},
   "outputs": [],
   "source": [
    "import networkx as nx\n",
    "import logging\n",
    "import multiprocessing as mp\n",
    "import pandas as pd\n",
    "import sys\n",
    "log = logging.getLogger(\"regulatory\")\n",
    "log.setLevel(logging.DEBUG)"
   ]
  },
  {
   "cell_type": "markdown",
   "id": "spatial-mother",
   "metadata": {},
   "source": [
    "http://www.regnetworkweb.org/source.jsp"
   ]
  },
  {
   "cell_type": "code",
   "execution_count": 113,
   "id": "false-speaker",
   "metadata": {},
   "outputs": [],
   "source": [
    "g = nx.Graph()"
   ]
  },
  {
   "cell_type": "code",
   "execution_count": 114,
   "id": "occasional-occasions",
   "metadata": {},
   "outputs": [],
   "source": [
    "def process_ENCODE_row(row):\n",
    "    miRNA, gene = row.replace(\"\\n\", \"\").split(\"\\t\")[:2]\n",
    "    if \"M\" not in miRNA: #miRNA regulate genes, first edge should be mirna\n",
    "        return None\n",
    "    else:\n",
    "        return (miRNA, gene)\n",
    "    \n",
    "with open(\"human/ENCODE\", \"r\") as file:\n",
    "    pool = mp.Pool()\n",
    "    w = pool.map_async(process_ENCODE_row, file.readlines(), error_callback=lambda err: log.error(err))\n",
    "    pool.close()\n",
    "    \n",
    "pool.join()\n",
    "\n",
    "g.add_edges_from([wi for wi in w.get() if wi is not None])"
   ]
  },
  {
   "cell_type": "code",
   "execution_count": 115,
   "id": "dutch-generator",
   "metadata": {},
   "outputs": [],
   "source": [
    "nodes = g.nodes()\n",
    "\n",
    "def process_row(row):\n",
    "        node = row.replace(\"\\n\", \"\").split(\"\\t\")\n",
    "        if node[0] in nodes:\n",
    "            return node[0], {\"name\":node[1].replace(\"hsa-miR\", \"hsa-mir\")}\n",
    "        else:\n",
    "            return None\n",
    "        \n",
    "with open(\"human/human.node\", \"r\") as file:\n",
    "    pool = mp.Pool()\n",
    "    w = pool.map_async(process_row, file.readlines(), error_callback=lambda err: log.error(err))\n",
    "    pool.close()\n",
    "    \n",
    "pool.join()\n",
    "g.add_nodes_from([wi for wi in w.get() if wi is not None])"
   ]
  },
  {
   "cell_type": "code",
   "execution_count": 116,
   "id": "proud-volunteer",
   "metadata": {},
   "outputs": [],
   "source": [
    "df_adjiacency = pd.DataFrame(g.nodes(data=True), columns = [\"id\", \"data\"]).set_index(\"id\")\n",
    "def get_name(id):\n",
    "    try:\n",
    "        return df_adjiacency.loc[id,\"data\"][\"name\"]\n",
    "    except:\n",
    "        return None\n",
    "df_adjiacency[\"name\"] = list(map(get_name, df_adjiacency.index))\n",
    "\n",
    "def get_name(id):\n",
    "    try:\n",
    "        return df_adjiacency.at[id,\"name\"]\n",
    "    except:\n",
    "        return None"
   ]
  },
  {
   "cell_type": "code",
   "execution_count": 117,
   "id": "after-advancement",
   "metadata": {},
   "outputs": [
    {
     "data": {
      "text/html": [
       "<div>\n",
       "<style scoped>\n",
       "    .dataframe tbody tr th:only-of-type {\n",
       "        vertical-align: middle;\n",
       "    }\n",
       "\n",
       "    .dataframe tbody tr th {\n",
       "        vertical-align: top;\n",
       "    }\n",
       "\n",
       "    .dataframe thead th {\n",
       "        text-align: right;\n",
       "    }\n",
       "</style>\n",
       "<table border=\"1\" class=\"dataframe\">\n",
       "  <thead>\n",
       "    <tr style=\"text-align: right;\">\n",
       "      <th></th>\n",
       "      <th>data</th>\n",
       "      <th>name</th>\n",
       "    </tr>\n",
       "    <tr>\n",
       "      <th>id</th>\n",
       "      <th></th>\n",
       "      <th></th>\n",
       "    </tr>\n",
       "  </thead>\n",
       "  <tbody>\n",
       "    <tr>\n",
       "      <th>MIMAT0000062</th>\n",
       "      <td>{'name': 'hsa-let-7a-5p'}</td>\n",
       "      <td>hsa-let-7a-5p</td>\n",
       "    </tr>\n",
       "    <tr>\n",
       "      <th>10072</th>\n",
       "      <td>{'name': 'DPP3'}</td>\n",
       "      <td>DPP3</td>\n",
       "    </tr>\n",
       "    <tr>\n",
       "      <th>10076</th>\n",
       "      <td>{'name': 'PTPRU'}</td>\n",
       "      <td>PTPRU</td>\n",
       "    </tr>\n",
       "    <tr>\n",
       "      <th>10138</th>\n",
       "      <td>{'name': 'YAF2'}</td>\n",
       "      <td>YAF2</td>\n",
       "    </tr>\n",
       "    <tr>\n",
       "      <th>10297</th>\n",
       "      <td>{'name': 'APC2'}</td>\n",
       "      <td>APC2</td>\n",
       "    </tr>\n",
       "  </tbody>\n",
       "</table>\n",
       "</div>"
      ],
      "text/plain": [
       "                                   data           name\n",
       "id                                                    \n",
       "MIMAT0000062  {'name': 'hsa-let-7a-5p'}  hsa-let-7a-5p\n",
       "10072                  {'name': 'DPP3'}           DPP3\n",
       "10076                 {'name': 'PTPRU'}          PTPRU\n",
       "10138                  {'name': 'YAF2'}           YAF2\n",
       "10297                  {'name': 'APC2'}           APC2"
      ]
     },
     "execution_count": 117,
     "metadata": {},
     "output_type": "execute_result"
    }
   ],
   "source": [
    "df_adjiacency.head()"
   ]
  },
  {
   "cell_type": "code",
   "execution_count": 123,
   "id": "electric-liberal",
   "metadata": {},
   "outputs": [
    {
     "name": "stdout",
     "output_type": "stream",
     "text": [
      "PPIF\n",
      "SERF2\n",
      "MRVI1\n",
      "CEBPB\n",
      "PAPD7\n",
      "GPRASP2\n",
      "NR2C2AP\n",
      "TCEANC2\n",
      "VTI1A\n",
      "E2F7\n",
      "AP2B1\n",
      "DDX6\n",
      "E2F2\n",
      "EGR1\n",
      "HNRNPA3\n",
      "FGFR1\n",
      "PLA2G15\n",
      "FLRT3\n",
      "DPCD\n",
      "CLIP3\n",
      "ZBTB44\n",
      "HUNK\n",
      "HLF\n",
      "HOXC10\n",
      "KCNC1\n",
      "MAF\n",
      "ALDH6A1\n",
      "BCL2L15\n",
      "MYO6\n",
      "NCAM1\n",
      "NOVA1\n",
      "PCDH7\n",
      "PIGA\n",
      "PLXNA2\n",
      "CSNK1G1\n",
      "C1orf123\n",
      "PPP2R5E\n",
      "SMEK1\n",
      "ENAH\n",
      "RAB22A\n",
      "TSHZ3\n",
      "GPR107\n",
      "ZNF410\n",
      "SCD\n",
      "SFRP2\n",
      "SPOCK1\n",
      "STX3\n",
      "VCP\n",
      "TRIM26\n",
      "MAPKAPK3\n",
      "SLTM\n",
      "SRCIN1\n",
      "MLL2\n",
      "ST8SIA2\n",
      "CAMK2G\n",
      "CCDC115\n",
      "CCDC97\n",
      "DLGAP2\n",
      "CENPBD1\n",
      "CDH1\n"
     ]
    }
   ],
   "source": [
    "for gene in list(map(get_name,g.neighbors(\"MIMAT0002882\"))):\n",
    "    print(gene)"
   ]
  },
  {
   "cell_type": "code",
   "execution_count": 119,
   "id": "dated-subject",
   "metadata": {},
   "outputs": [],
   "source": [
    "nx.write_gpickle(g, \"graph.pkl.gz\")"
   ]
  },
  {
   "cell_type": "code",
   "execution_count": 120,
   "id": "diverse-sandwich",
   "metadata": {},
   "outputs": [],
   "source": [
    "df_adjiacency.reset_index().to_csv(\"graph_metadata.csv\")"
   ]
  },
  {
   "cell_type": "code",
   "execution_count": null,
   "id": "flush-advocate",
   "metadata": {},
   "outputs": [],
   "source": []
  }
 ],
 "metadata": {
  "kernelspec": {
   "display_name": "Python 3",
   "language": "python",
   "name": "python3"
  },
  "language_info": {
   "codemirror_mode": {
    "name": "ipython",
    "version": 3
   },
   "file_extension": ".py",
   "mimetype": "text/x-python",
   "name": "python",
   "nbconvert_exporter": "python",
   "pygments_lexer": "ipython3",
   "version": "3.8.6"
  }
 },
 "nbformat": 4,
 "nbformat_minor": 5
}

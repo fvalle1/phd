{
 "cells": [
  {
   "cell_type": "code",
   "execution_count": null,
   "id": "going-penny",
   "metadata": {},
   "outputs": [],
   "source": [
    "import pandas as pd\n",
    "import networkx as nx"
   ]
  },
  {
   "cell_type": "code",
   "execution_count": null,
   "id": "grand-vatican",
   "metadata": {},
   "outputs": [],
   "source": [
    "%load_ext autoreload\n",
    "%autoreload 2\n",
    "from mirdip import mirDIP_Http"
   ]
  },
  {
   "cell_type": "markdown",
   "id": "middle-sensitivity",
   "metadata": {},
   "source": [
    "http://ophid.utoronto.ca/mirDIP/api_Python.jsp"
   ]
  },
  {
   "cell_type": "code",
   "execution_count": null,
   "id": "accompanied-malta",
   "metadata": {},
   "outputs": [],
   "source": [
    "microRNAs = \"hsa-miR-603, hsa-let-7a-3p, hsa-miR-625-5p, hsa-miR-7852-3p, hsa-miR-17-5p\""
   ]
  },
  {
   "cell_type": "code",
   "execution_count": null,
   "id": "anonymous-latino",
   "metadata": {},
   "outputs": [],
   "source": [
    "minimumScore = \"Very High\"\n",
    "\n",
    "\n",
    "o = mirDIP_Http()   # note: re-instance with every search !!!\n",
    "\n",
    "o.unidirectionalSearchOnMicroRNAs(microRNAs, minimumScore)"
   ]
  },
  {
   "cell_type": "code",
   "execution_count": null,
   "id": "complimentary-syndication",
   "metadata": {},
   "outputs": [],
   "source": [
    "# print results\n",
    "print(\"\\n  Unidirectional Search on microRNAs  \\n\");\n",
    "print(\"Generated at: \" + o.getGeneratedAt());\n",
    "print(\"Micro RNAs: \" + o.getMicroRNAs());\n",
    "print(\"Minimum Score: \" + o.getMinimumScore());\n",
    "print(\"Results Size: \" + o.getResulsSize());\n",
    "print(\"Results: \\r\\n\" + o.getResuls());      # formatted as tab-delimited spreadsheet"
   ]
  },
  {
   "cell_type": "code",
   "execution_count": null,
   "id": "prescription-tunisia",
   "metadata": {},
   "outputs": [],
   "source": [
    "o.getResuls()"
   ]
  },
  {
   "cell_type": "markdown",
   "id": "registered-daughter",
   "metadata": {},
   "source": [
    "# Network"
   ]
  },
  {
   "cell_type": "code",
   "execution_count": null,
   "id": "prescribed-anime",
   "metadata": {},
   "outputs": [],
   "source": [
    "pd.read_csv(\"HUMAN.mirDIP_top90k.Translated.tsv\", sep=\"\\t\", header=None)"
   ]
  },
  {
   "cell_type": "code",
   "execution_count": null,
   "id": "working-music",
   "metadata": {},
   "outputs": [],
   "source": [
    "g = nx.read_edgelist(\"HUMAN.mirDIP_top90k.Translated.tsv\")"
   ]
  },
  {
   "cell_type": "code",
   "execution_count": null,
   "id": "academic-mortality",
   "metadata": {},
   "outputs": [],
   "source": [
    "for g in list(g.neighbors(\"hsa-miR-22-3p\")):\n",
    "    print(g)"
   ]
  },
  {
   "cell_type": "code",
   "execution_count": null,
   "id": "wrong-buddy",
   "metadata": {},
   "outputs": [],
   "source": []
  }
 ],
 "metadata": {
  "kernelspec": {
   "display_name": "Python 3",
   "language": "python",
   "name": "python3"
  },
  "language_info": {
   "codemirror_mode": {
    "name": "ipython",
    "version": 3
   },
   "file_extension": ".py",
   "mimetype": "text/x-python",
   "name": "python",
   "nbconvert_exporter": "python",
   "pygments_lexer": "ipython3",
   "version": "3.8.6"
  }
 },
 "nbformat": 4,
 "nbformat_minor": 5
}

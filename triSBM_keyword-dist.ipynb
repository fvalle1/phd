{
 "cells": [
  {
   "cell_type": "code",
   "execution_count": null,
<<<<<<< HEAD
   "id": "turned-terrain",
=======
   "id": "outer-radius",
>>>>>>> a3c49c2ad9b1e1cf320e4bc1c5e84ff5c83085dd
   "metadata": {},
   "outputs": [],
   "source": [
    "import pandas as pd\n",
    "import numpy as np\n",
    "import os\n",
    "import tensorflow as tf"
   ]
  },
  {
   "cell_type": "code",
   "execution_count": null,
<<<<<<< HEAD
   "id": "sensitive-enlargement",
=======
   "id": "appreciated-swimming",
>>>>>>> a3c49c2ad9b1e1cf320e4bc1c5e84ff5c83085dd
   "metadata": {},
   "outputs": [],
   "source": [
    "working_dir = \"datasets/tcga/COAD/mirna_allsamples\"\n",
    "alg = \"trisbm\"\n",
    "L = 1\n",
    "os.chdir(working_dir)"
   ]
  },
  {
   "cell_type": "code",
   "execution_count": null,
<<<<<<< HEAD
   "id": "arranged-jewelry",
=======
   "id": "hearing-wedding",
>>>>>>> a3c49c2ad9b1e1cf320e4bc1c5e84ff5c83085dd
   "metadata": {},
   "outputs": [],
   "source": [
    "df_Pgt = pd.read_csv(f\"{alg}/{alg}_level_{L}_word-dist.csv\", index_col=0)\n",
    "df_Pgt.head(2)"
   ]
  },
  {
   "cell_type": "code",
   "execution_count": null,
<<<<<<< HEAD
   "id": "artistic-naples",
=======
   "id": "absolute-burke",
>>>>>>> a3c49c2ad9b1e1cf320e4bc1c5e84ff5c83085dd
   "metadata": {},
   "outputs": [],
   "source": [
    "df_Pts = pd.read_csv(f\"{alg}/{alg}_level_{L}_topic-dist.csv\", index_col=1).drop(\"i_doc\", 1)\n",
    "df_Pts.head(2)"
   ]
  },
  {
   "cell_type": "code",
   "execution_count": null,
<<<<<<< HEAD
   "id": "continental-radical",
=======
   "id": "continued-patrick",
>>>>>>> a3c49c2ad9b1e1cf320e4bc1c5e84ff5c83085dd
   "metadata": {},
   "outputs": [],
   "source": [
    "df_Pmk = pd.read_csv(f\"{alg}/{alg}_level_{L}_keyword-dist.csv\", index_col=0)\n",
    "df_Pmk.head(2)"
   ]
  },
  {
   "cell_type": "code",
   "execution_count": null,
<<<<<<< HEAD
   "id": "residential-survey",
=======
   "id": "interested-island",
>>>>>>> a3c49c2ad9b1e1cf320e4bc1c5e84ff5c83085dd
   "metadata": {},
   "outputs": [],
   "source": [
    "df = pd.read_csv(f\"mainTable_all.csv\", index_col=0)\n",
    "df = df[df.index.isin(np.concatenate([df_Pmk.index, df_Pgt.index]))]\n",
    "df = df.reindex(columns=df_Pts.index)\n",
    "df = df.applymap(lambda fpkm: np.log2(fpkm+1))\n",
    "print(df.shape)\n",
    "df.head(2)"
   ]
  },
  {
   "cell_type": "code",
   "execution_count": null,
<<<<<<< HEAD
   "id": "frozen-sender",
=======
   "id": "welcome-clothing",
>>>>>>> a3c49c2ad9b1e1cf320e4bc1c5e84ff5c83085dd
   "metadata": {},
   "outputs": [],
   "source": [
    "es = df[df.index.isin(filter(lambda g: \"ENSG\" in g, df.index))].sum(0)\n",
    "emirna = df[df.index.isin(filter(lambda g: \"ENSG\" not in g, df.index))].sum(1)"
   ]
  },
  {
   "cell_type": "code",
   "execution_count": null,
<<<<<<< HEAD
   "id": "vietnamese-twelve",
=======
   "id": "considered-feelings",
>>>>>>> a3c49c2ad9b1e1cf320e4bc1c5e84ff5c83085dd
   "metadata": {},
   "outputs": [],
   "source": [
    "df_Psm = pd.read_csv(f\"{alg}/{alg}_level_{L}_metadatum-dist.csv\", index_col=1).drop(\"i_doc\", 1)\n",
    "df_Psm = pd.DataFrame(data=df_Psm.values*np.repeat(es.values,df_Psm.shape[1]).reshape(df_Psm.shape),\n",
    "                           index=df_Psm.index,\n",
    "                           columns=df_Psm.columns\n",
    "                          )\n",
    "df_Psm = df_Psm.divide(df_Psm.sum(0),1)\n",
    "df_Psm.head(2)"
   ]
  },
  {
   "cell_type": "code",
   "execution_count": null,
<<<<<<< HEAD
   "id": "round-analyst",
=======
   "id": "cross-speaker",
>>>>>>> a3c49c2ad9b1e1cf320e4bc1c5e84ff5c83085dd
   "metadata": {},
   "outputs": [],
   "source": [
    "df_Pmk.head(2)"
   ]
  },
  {
   "cell_type": "code",
   "execution_count": null,
<<<<<<< HEAD
   "id": "aggregate-baltimore",
=======
   "id": "instrumental-restoration",
>>>>>>> a3c49c2ad9b1e1cf320e4bc1c5e84ff5c83085dd
   "metadata": {},
   "outputs": [],
   "source": [
    "df_Pmk = pd.read_csv(f\"{alg}/{alg}_level_{L}_keyword-dist.csv\", index_col=0)\n",
    "df_Pmk = pd.DataFrame(data=df_Pmk.values*np.repeat(emirna.values, df_Pmk.shape[1]).reshape(df_Pmk.shape),\n",
    "                           index=df_Pmk.index,\n",
    "                           columns=df_Pmk.columns\n",
    "                          )\n",
    "df_Pmk = df_Pmk.divide(df_Pmk.sum(1),0)\n",
    "df_Pmk.head(2)"
   ]
  },
  {
   "cell_type": "code",
   "execution_count": null,
<<<<<<< HEAD
   "id": "strategic-order",
=======
   "id": "recreational-arnold",
>>>>>>> a3c49c2ad9b1e1cf320e4bc1c5e84ff5c83085dd
   "metadata": {},
   "outputs": [],
   "source": [
    "Pgs = np.matmul(df_Pgt.values, df_Pts.values.T)\n",
    "Pgm = np.matmul(Pgs, df_Psm.fillna(0).values)\n",
    "Pgk = np.matmul(Pgm / np.sum(Pgm,0), df_Pmk.divide(df_Pmk.sum(1),0).values.T)\n",
    "df_Pgm = pd.DataFrame(data=Pgm, index=df_Pgt.index, columns=df_Psm.columns)\n",
    "df_Pgk = pd.DataFrame(index = df_Pgt.index, columns = df_Pmk.index, data = Pgk/np.sum(Pgk,0)[np.newaxis,:])"
   ]
  },
  {
   "cell_type": "code",
   "execution_count": null,
<<<<<<< HEAD
   "id": "first-proposition",
=======
   "id": "supposed-hepatitis",
>>>>>>> a3c49c2ad9b1e1cf320e4bc1c5e84ff5c83085dd
   "metadata": {},
   "outputs": [],
   "source": [
    "df_Pgk.head(2)"
   ]
  },
  {
   "cell_type": "code",
   "execution_count": null,
<<<<<<< HEAD
   "id": "leading-bikini",
=======
   "id": "sudden-diagram",
>>>>>>> a3c49c2ad9b1e1cf320e4bc1c5e84ff5c83085dd
   "metadata": {},
   "outputs": [],
   "source": [
    "import seaborn as sns\n",
    "cm = sns.clustermap(df_Pgk.subtract(df_Pgm.mean(1),0).divide(df_Pgm.mean(1),0).dropna(how=\"all\", axis=1),\n",
    "              )"
   ]
  },
  {
   "cell_type": "code",
   "execution_count": null,
<<<<<<< HEAD
   "id": "blind-sequence",
=======
   "id": "static-commercial",
>>>>>>> a3c49c2ad9b1e1cf320e4bc1c5e84ff5c83085dd
   "metadata": {},
   "outputs": [],
   "source": [
    "for g in df_Pgk.loc[df_Pgk.index[cm.dendrogram_col.reordered_ind[:30]],:].index:\n",
    "    print(g)"
   ]
  },
  {
   "cell_type": "code",
   "execution_count": null,
<<<<<<< HEAD
   "id": "civilian-harvey",
=======
   "id": "after-stroke",
>>>>>>> a3c49c2ad9b1e1cf320e4bc1c5e84ff5c83085dd
   "metadata": {},
   "outputs": [],
   "source": [
    "for mirna in df_Pgk.loc[np.random.choice(df_Pgk.index),:].sort_values(ascending=False)[:20].items():\n",
    "    print(mirna[0])"
   ]
  },
  {
   "cell_type": "markdown",
<<<<<<< HEAD
   "id": "quantitative-literacy",
=======
   "id": "catholic-anniversary",
>>>>>>> a3c49c2ad9b1e1cf320e4bc1c5e84ff5c83085dd
   "metadata": {},
   "source": [
    "## Distinctivness"
   ]
  },
  {
   "cell_type": "code",
   "execution_count": null,
<<<<<<< HEAD
   "id": "flying-hydrogen",
=======
   "id": "ambient-night",
>>>>>>> a3c49c2ad9b1e1cf320e4bc1c5e84ff5c83085dd
   "metadata": {},
   "outputs": [],
   "source": [
    "@tf.function\n",
    "def kullbach_liebler(theta_k, theta_l):\n",
    "    # dey-visualizing paper\n",
    "    return tf.subtract(tf.add(tf.math.multiply(theta_k, tf.math.log(tf.math.divide(theta_k, theta_l))), theta_l),\n",
    "                       theta_k)\n",
    "\n",
    "@tf.function\n",
    "def distinctivness(theta_k):\n",
    "    return tf.reduce_min(tf.sort(theta_k)[:, 1:], axis=1)\n",
    "\n",
    "@tf.function\n",
    "def get_distinctivness(data):\n",
    "    KL_tensor = tf.map_fn(fn=lambda k: tf.map_fn(fn=lambda l: kullbach_liebler(k, l), elems=data), elems=data, parallel_iterations=3)\n",
    "    KL_tensor_min = tf.map_fn(distinctivness, tf.transpose(KL_tensor, perm=[2, 0, 1]), parallel_iterations=3)\n",
    "    return KL_tensor_min"
   ]
  },
  {
   "cell_type": "code",
   "execution_count": null,
<<<<<<< HEAD
   "id": "opened-assumption",
=======
   "id": "false-antenna",
>>>>>>> a3c49c2ad9b1e1cf320e4bc1c5e84ff5c83085dd
   "metadata": {},
   "outputs": [],
   "source": [
    "out = get_distinctivness(tf.convert_to_tensor(df_Pgm.values)).numpy()\n",
    "out.shape"
   ]
  },
  {
   "cell_type": "code",
   "execution_count": null,
<<<<<<< HEAD
   "id": "polish-calvin",
=======
   "id": "excess-north",
>>>>>>> a3c49c2ad9b1e1cf320e4bc1c5e84ff5c83085dd
   "metadata": {},
   "outputs": [],
   "source": [
    "df_D = pd.DataFrame(data=out, columns=df_Pgm.index, index=df_Pgm.columns)\n",
    "df_D.head(2)"
   ]
  },
  {
   "cell_type": "code",
   "execution_count": null,
<<<<<<< HEAD
   "id": "disturbed-laser",
=======
   "id": "resident-green",
>>>>>>> a3c49c2ad9b1e1cf320e4bc1c5e84ff5c83085dd
   "metadata": {},
   "outputs": [],
   "source": [
    "for g in df_D.transpose()[\"Metadatum 4\"].sort_values(ascending=False).items():\n",
    "    print(g[0])"
   ]
  },
  {
   "cell_type": "code",
   "execution_count": null,
<<<<<<< HEAD
   "id": "geological-secondary",
=======
   "id": "unauthorized-contemporary",
>>>>>>> a3c49c2ad9b1e1cf320e4bc1c5e84ff5c83085dd
   "metadata": {},
   "outputs": [],
   "source": []
  }
 ],
 "metadata": {
  "kernelspec": {
   "display_name": "Python 3",
   "language": "python",
   "name": "python3"
  },
  "language_info": {
   "codemirror_mode": {
    "name": "ipython",
    "version": 3
   },
   "file_extension": ".py",
   "mimetype": "text/x-python",
   "name": "python",
   "nbconvert_exporter": "python",
   "pygments_lexer": "ipython3",
   "version": "3.8.6"
  }
 },
 "nbformat": 4,
 "nbformat_minor": 5
}

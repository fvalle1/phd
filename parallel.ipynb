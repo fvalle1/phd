{
 "cells": [
  {
   "cell_type": "code",
   "execution_count": null,
   "metadata": {},
   "outputs": [],
   "source": [
    "import pandas as pd\n",
    "import numpy as np\n",
    "import time"
   ]
  },
  {
   "cell_type": "code",
   "execution_count": null,
   "metadata": {},
   "outputs": [],
   "source": [
    "D = 1000\n",
    "W = 500\n",
    "df = pd.DataFrame(index=[\"w%d\"%w for w in range(W)], columns=[\"doc%d\"%d for d in range(D)], data=np.random.randint(0,100,size=(W,D)))\n",
    "df.head()"
   ]
  },
  {
   "cell_type": "code",
   "execution_count": null,
   "metadata": {},
   "outputs": [],
   "source": [
    "class Graph():\n",
    "    def __init__(self):\n",
    "        self.edges = []\n",
    "        self.size = 0\n",
    "        self.name = \"default\"\n",
    "    def add_edge(self, first, second):\n",
    "        self.edges.append((first,second))\n",
    "        self.size += 1\n",
    "        return self.size - 1\n",
    "    def add_edge_list(self, edges):\n",
    "        self.edges = np.append(self.edges,np.array(edges))\n",
    "        self.edges=self.edges.reshape(int(len(self.edges)/2),2)\n",
    "        self.size = len(self.edges)\n",
    "    def __repr__(self):\n",
    "        return f\"Graph {self.name} with {self.size} edges\""
   ]
  },
  {
   "cell_type": "code",
   "execution_count": null,
   "metadata": {},
   "outputs": [],
   "source": [
    "g = Graph()\n",
    "def make_graph(df, g, counts = True):\n",
    "    D = df.shape[1]\n",
    "    if counts:\n",
    "        ecount = np.zeros(df.shape[0]*df.shape[1])\n",
    "    for i_d in range(D):\n",
    "        title = df.columns[i_d]\n",
    "        text = df[title]\n",
    "        for i_w, word, count in zip(range(len(df.index)), df.index, text):\n",
    "            if count < 1:\n",
    "                continue\n",
    "            if counts:\n",
    "                e = g.add_edge(i_d, D + i_w)\n",
    "                ecount[e] = count\n",
    "            else:\n",
    "                for n in range(count):\n",
    "                    g.add_edge(i_d, D + i_w)\n",
    "%timeit make_graph(df,Graph())"
   ]
  },
  {
   "cell_type": "code",
   "execution_count": null,
   "metadata": {},
   "outputs": [],
   "source": [
    "# pool.map() apply() starmap() _async()\n",
    "import multiprocessing as mp\n",
    "threads = 4\n",
    "print(\"Number of processors: \", mp.cpu_count())"
   ]
  },
  {
   "cell_type": "code",
   "execution_count": null,
   "metadata": {},
   "outputs": [],
   "source": [
    "def func(x,message=\"hello\"):\n",
    "    return [(np.random.randint(D),np.random.randint(D))]\n",
    "data = np.linspace(1,10,10)"
   ]
  },
  {
   "cell_type": "code",
   "execution_count": null,
   "metadata": {},
   "outputs": [],
   "source": [
    "del g\n",
    "g = Graph()\n",
    "start = time.time()\n",
    "pool = mp.Pool(threads)\n",
    "results = np.array(pool.starmap(func,((x, \"apply\") for x in data)))\n",
    "pool.close()\n",
    "pool.join()\n",
    "results=results.reshape(int(len(results)),2)\n",
    "g.add_edge_list(results)\n",
    "end = time.time()\n",
    "print(results, g)\n",
    "print(f\"{end-start}\")\n",
    "g.edges"
   ]
  },
  {
   "cell_type": "code",
   "execution_count": null,
   "metadata": {},
   "outputs": [],
   "source": [
    "%timeit [func(x) for x in data]"
   ]
  },
  {
   "cell_type": "code",
   "execution_count": null,
   "metadata": {},
   "outputs": [],
   "source": [
    "%timeit list(map(func, data))"
   ]
  },
  {
   "cell_type": "code",
   "execution_count": null,
   "metadata": {},
   "outputs": [],
   "source": [
    "start = time.time()\n",
    "g = Graph()\n",
    "make_graph(df,g)\n",
    "end = time.time()\n",
    "print(g)\n",
    "print(f\"{end-start}\")"
   ]
  },
  {
   "cell_type": "code",
   "execution_count": null,
   "metadata": {},
   "outputs": [],
   "source": [
    "def func(i_w, i_d, count):\n",
    "    if count >= 1:\n",
    "        return (i_d, D+i_w) \n",
    "        \n",
    "def make_parallel_graph(df, g, counts = True):\n",
    "    D = df.shape[1]\n",
    "    if counts:\n",
    "        ecount = np.zeros(df.shape[0]*df.shape[1])\n",
    "        \n",
    "    for i_d, (doc,text) in enumerate(df.iteritems()):\n",
    "        title = df.columns[i_d]\n",
    "        text = df[title]\n",
    "        pool = mp.Pool(threads)\n",
    "        results = np.array(pool.starmap(func,((i_w, i_d, count) for i_w, count in zip(range(len(df.index)), text))))\n",
    "        pool.close()\n",
    "        pool.join()\n",
    "        g.add_edge_list(results)"
   ]
  },
  {
   "cell_type": "code",
   "execution_count": null,
   "metadata": {},
   "outputs": [],
   "source": [
    "start = time.time()\n",
    "#del g\n",
    "g = Graph()\n",
    "make_parallel_graph(df,g)\n",
    "end = time.time()\n",
    "print(g)\n",
    "print(f\"{end-start}\")"
   ]
  },
  {
   "cell_type": "code",
   "execution_count": null,
   "metadata": {},
   "outputs": [],
   "source": [
    "start = time.time()\n",
    "del g\n",
    "g = Graph()\n",
    "make_graph(df,g)\n",
    "end = time.time()\n",
    "print(g)\n",
    "print(f\"{end-start}\")"
   ]
  },
  {
   "cell_type": "code",
   "execution_count": null,
   "metadata": {},
   "outputs": [],
   "source": [
    "(df!=0).astype(int).sum().sum()"
   ]
  },
  {
   "cell_type": "code",
   "execution_count": null,
   "metadata": {},
   "outputs": [],
   "source": [
    "g.edges"
   ]
  },
  {
   "cell_type": "code",
   "execution_count": null,
   "metadata": {},
   "outputs": [],
   "source": [
    "g.edges[-1]"
   ]
  },
  {
   "cell_type": "code",
   "execution_count": null,
   "metadata": {},
   "outputs": [],
   "source": [
    "pool.close()"
   ]
  },
  {
   "cell_type": "markdown",
   "metadata": {},
   "source": [
    "# Mazzolini"
   ]
  },
  {
   "cell_type": "code",
   "execution_count": null,
   "metadata": {},
   "outputs": [],
   "source": [
    "import os\n",
    "import pandas as pd\n",
    "os.chdir(\"datasets/gtex/10\")\n",
    "df = pd.read_csv(\"mainTable_counts.csv\", index_col=0)\n",
    "df.shape"
   ]
  },
  {
   "cell_type": "code",
   "execution_count": null,
   "metadata": {},
   "outputs": [],
   "source": [
    "import mazzolini, importlib\n",
    "importlib.reload(mazzolini)\n",
    "from mazzolini import Mazzolini\n",
    "model = Mazzolini(df)\n",
    "    \n",
    "#%timeit model.run()\n",
    "#%timeit mazzolini_tf()\n",
    "#%timeit model.run_parallel()\n",
    "%timeit model.run_parallel_async()"
   ]
  },
  {
   "cell_type": "code",
   "execution_count": null,
   "metadata": {},
   "outputs": [],
   "source": [
    "import os\n",
    "import pandas as pd\n",
    "os.chdir(\"/home/jovyan/work/phd/datasets/gtex/10\")\n",
    "df = pd.read_csv(\"mainTable_counts_hv.csv\", index_col=0)\n",
    "print(df.shape)\n",
    "\n",
    "model = Mazzolini(df)\n",
    "\n",
    "start = time.time()\n",
    "model.run_parallel_async(4).to_csv(\"mainTable_counts_hv_null.csv\", index=True, header=True)\n",
    "print(time.time()-start)"
   ]
  },
  {
   "cell_type": "code",
   "execution_count": null,
   "metadata": {},
   "outputs": [],
   "source": [
    "f = df.sum(1)\n",
    "f = f/f.sum()\n",
    "f_null = pd.read_csv(\"mainTable_counts_hv_null.csv\").sum(1)"
   ]
  },
  {
   "cell_type": "code",
   "execution_count": null,
   "metadata": {},
   "outputs": [],
   "source": [
    "import matplotlib.pyplot as plt\n",
    "fig, ax = plt.subplots()\n",
    "ax.plot(np.sort(f.values)[::-1], lw=5, alpha=0.7)\n",
    "ax.plot(np.sort((f_null/f_null.sum()).values)[::-1])\n",
    "\n",
    "\n",
    "ax.set_xscale(\"log\")\n",
    "ax.set_yscale(\"log\")\n",
    "\n",
    "plt.show()"
   ]
  },
  {
   "cell_type": "code",
   "execution_count": null,
   "metadata": {},
   "outputs": [],
   "source": []
  }
 ],
 "metadata": {
  "kernelspec": {
   "display_name": "Python 3",
   "language": "python",
   "name": "python3"
  },
  "language_info": {
   "codemirror_mode": {
    "name": "ipython",
    "version": 3
   },
   "file_extension": ".py",
   "mimetype": "text/x-python",
   "name": "python",
   "nbconvert_exporter": "python",
   "pygments_lexer": "ipython3",
   "version": "3.7.6"
  },
  "widgets": {
   "application/vnd.jupyter.widget-state+json": {
    "state": {},
    "version_major": 2,
    "version_minor": 0
   }
  }
 },
 "nbformat": 4,
 "nbformat_minor": 4
}

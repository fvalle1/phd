{
 "cells": [
  {
   "cell_type": "code",
   "execution_count": null,
   "metadata": {},
   "outputs": [],
   "source": [
    "import os\n",
    "import numpy as np\n",
    "import pandas as pd\n",
    "import matplotlib.pyplot as plt\n",
    "import tensorflow as tf\n",
    "from hsbmpy import get_max_available_L, get_file\n",
    "import tensorflow as tf"
   ]
  },
  {
   "cell_type": "code",
   "execution_count": null,
   "metadata": {},
   "outputs": [],
   "source": [
    "import importlib, geneontology\n",
    "from geneontology import *\n",
    "importlib.reload(geneontology)\n",
    "from geneontology import *"
   ]
  },
  {
   "cell_type": "code",
   "execution_count": null,
   "metadata": {},
   "outputs": [],
   "source": [
    "algorithm = 'tm'\n",
    "directory = \"/home/jovyan/work/phd/datasets/paper/gtex10seed/\"\n",
    "L=get_max_available_L(directory, algorithm)\n",
    "L=0\n",
    "os.chdir(directory)"
   ]
  },
  {
   "cell_type": "code",
   "execution_count": null,
   "metadata": {},
   "outputs": [],
   "source": [
    "df_Pwt = pd.read_csv(\"%s/%s_level_%d_word-dist.csv\"%(algorithm,algorithm,L), index_col=0)"
   ]
  },
  {
   "cell_type": "code",
   "execution_count": null,
   "metadata": {},
   "outputs": [],
   "source": [
    "fig=plt.figure(figsize=(10,8))\n",
    "plt.title(\"\")\n",
    "for topic in df_Pwt.columns[:5]:\n",
    "    dist = df_Pwt.sort_values(by=[topic], ascending=False)[topic].astype(float)\n",
    "    dist = dist[dist>1e-50].values\n",
    "    if len(dist)<2:\n",
    "        pass\n",
    "    plt.plot(np.sort(dist[dist>0].T)[::-1], marker='x', label=topic)\n",
    "plt.ylabel(\"$P(word | topic)$\", fontsize=35)\n",
    "plt.xlabel(\"words\", fontsize=35)\n",
    "plt.xscale('log')\n",
    "plt.yscale('log')\n",
    "plt.tick_params(which=\"both\",labelsize=35)\n",
    "#plt.legend()\n",
    "plt.show()\n",
    "fig.savefig(\"p_w_tw_%s.pdf\"%algorithm)"
   ]
  },
  {
   "cell_type": "code",
   "execution_count": null,
   "metadata": {},
   "outputs": [],
   "source": [
    "df_Ptd = pd.read_csv(\"%s/%s_level_%d_topic-dist.csv\"%(algorithm,algorithm,L), index_col=1).drop('i_doc',1)"
   ]
  },
  {
   "cell_type": "code",
   "execution_count": null,
   "metadata": {},
   "outputs": [],
   "source": [
    "fig=plt.figure(figsize=(20,10))\n",
    "plt.ylabel(\"$P(topic | sample$)\", fontsize=35)\n",
    "plt.xlabel(\"topics\", fontsize=35)\n",
    "for sample in df_Ptd.index.values[:10]:\n",
    "    plt.plot(df_Ptd.loc[sample,:].astype(float).values, marker='x')\n",
    "    #plt.plot(np.sort(df_Ptd.filter(F.col('doc')==sample[0]).drop('doc').toPandas().astype(float).values[0])[::-1], lw=0.1, marker='x')\n",
    "#plt.plot(np.logspace(0,2),1/np.logspace(0,2))\n",
    "#plt.xscale('log')\n",
    "#plt.yscale('log')\n",
    "plt.ylim(1e-4,1)\n",
    "plt.xlim(0,len(df_Ptd.columns)-2)\n",
    "plt.tick_params(labelsize=35)\n",
    "plt.show()\n",
    "fig.savefig(\"p_t_s_%s.pdf\"%algorithm)"
   ]
  },
  {
   "cell_type": "code",
   "execution_count": null,
   "metadata": {},
   "outputs": [],
   "source": [
    "df_mt = pd.read_csv(\"mainTable.csv\",sep=\",\",index_col=0)\n",
    "df_mt.index = [g[:15] for g in df_mt.index]\n",
    "df_files=pd.read_csv(\"files.dat\", index_col=0)\n",
    "#df_mt=df_mt.reindex(index=df_Pwt.index.values.ravel(),\n",
    "#                    columns=[get_file(sample, df_files).name for sample in df_Ptd.index.values.ravel()])\n",
    "df_mt.dropna(how=\"all\", axis=0, inplace=True)\n",
    "#df_mt=df_mt.applymap(lambda tpm: np.log2(tpm+1))\n",
    "#df_mt=df_mt.where(df_mt<1e6,1e6)\n",
    "df_mt.head()"
   ]
  },
  {
   "cell_type": "code",
   "execution_count": null,
   "metadata": {},
   "outputs": [],
   "source": [
    "Pgt = tf.convert_to_tensor(df_Pwt.values)\n",
    "Pts = tf.transpose(tf.convert_to_tensor(df_Ptd.values))\n",
    "Pgs = tf.matmul(Pgt,Pts)\n",
    "Ps = tf.convert_to_tensor(df_mt.sum(0).values)\n",
    "Ps = tf.divide(Ps, tf.reduce_sum(Ps))#normalize\n",
    "Pg = tf.squeeze(tf.matmul(Pgs, tf.reshape(Ps,[Ps.shape[0],1])))"
   ]
  },
  {
   "cell_type": "code",
   "execution_count": null,
   "metadata": {},
   "outputs": [],
   "source": [
    "print(Pgt.shape,Pts.shape,Pgs.shape,Pg.shape, Ps.shape)"
   ]
  },
  {
   "cell_type": "code",
   "execution_count": null,
   "metadata": {},
   "outputs": [],
   "source": [
    "Pgs_data = Pgs.numpy()\n",
    "Pg_data = Pg.numpy()\n",
    "Pgs_data.shape"
   ]
  },
  {
   "cell_type": "code",
   "execution_count": null,
   "metadata": {},
   "outputs": [],
   "source": [
    "df_Pgs = pd.DataFrame(data=Pgs_data, index=df_Pwt.values.T[0], columns=df_Ptd.index.values.ravel())"
   ]
  },
  {
   "cell_type": "code",
   "execution_count": null,
   "metadata": {},
   "outputs": [],
   "source": [
    "A=df_mt.fillna(0).astype(int).sum(1).values"
   ]
  },
  {
   "cell_type": "code",
   "execution_count": null,
   "metadata": {},
   "outputs": [],
   "source": [
    "fig=plt.figure(figsize=(10,8))\n",
    "plt.plot(np.sort(A)[::-1]/A.sum(), lw=15, ls='-', label='data')\n",
    "plt.plot(np.sort(Pg_data)[::-1]/np.sum(Pg_data), alpha=0.8, lw=15, ls=':', label='P(w)')\n",
    "plt.ylabel(\"$P(word)$\", fontsize=35)\n",
    "plt.xlabel(\"words\", fontsize=35)\n",
    "plt.xscale('log')\n",
    "plt.yscale('log')\n",
    "plt.tick_params(labelsize=35)\n",
    "plt.tick_params(which=\"both\", width=25, length=10, labelsize=35)\n",
    "plt.legend(fontsize=35)\n",
    "plt.show()\n",
    "fig.savefig(\"p_w_%s.pdf\"%algorithm)"
   ]
  },
  {
   "cell_type": "code",
   "execution_count": null,
   "metadata": {},
   "outputs": [],
   "source": [
    "fig=plt.figure(figsize=(10,8))\n",
    "plt.plot(np.sort(df_mt.mean(1).values)[::-1]/df_mt.mean(1).sum(), lw=15, ls='-', label='data')\n",
    "plt.plot(np.sort(df_Ptd.transpose().sum(1).values)[::-1]/df_Ptd.transpose().sum(1).sum(), alpha=0.8, lw=15, ls=':', label='P(t|d)')\n",
    "plt.ylabel(\"$P(word$)\", fontsize=35)\n",
    "plt.xlabel(\"words\", fontsize=35)\n",
    "plt.xscale('log')\n",
    "plt.yscale('log')\n",
    "plt.tick_params(labelsize=35)\n",
    "plt.tick_params(which=\"both\", width=25, length=10, labelsize=35)\n",
    "plt.legend(fontsize=35)\n",
    "plt.show()\n",
    "fig.savefig(\"ptd_w_%s.pdf\"%algorithm)"
   ]
  },
  {
   "cell_type": "code",
   "execution_count": null,
   "metadata": {},
   "outputs": [],
   "source": [
    "df_topics = pd.read_csv(\"%s/%s_level_%d_topics.csv\"%(algorithm,algorithm,L))\n",
    "f = df_mt.sum(1)/df_mt.sum().sum()\n",
    "f = f.sort_values(ascending=False)\n",
    "\n",
    "df_Ptd = pd.read_csv(\"%s/%s_level_%d_topic-dist.csv\"%(algorithm,algorithm,L), index_col=1).drop(\"i_doc\",1)\n",
    "df_Ptd = df_Ptd.transpose()\n",
    "f_t = df_Ptd.sum(1)\n",
    "f_t = f_t / f_t.sum()\n",
    "\n",
    "correlation = []\n",
    "\n",
    "for topic in df_topics.columns:\n",
    "    f_g_value = np.mean(f[[g[:15] for g in df_topics[topic].dropna()]])\n",
    "    f_t_value = f_t[topic]\n",
    "    correlation.append((f_g_value,f_t_value))"
   ]
  },
  {
   "cell_type": "code",
   "execution_count": null,
   "metadata": {},
   "outputs": [],
   "source": [
    "fig=plt.figure(figsize=(18,15))\n",
    "plt.scatter(*np.array(correlation).T, color=\"gray\", s=550, label=\"topic\")\n",
    "\n",
    "plt.xlabel(\"<Frequency>, $<f_i>_t$\", fontsize=35)\n",
    "plt.ylabel(\"$<P(topic)>$\", fontsize=35)\n",
    "\n",
    "plt.title(f\"{algorithm} - Correlation: {np.round(np.corrcoef(*np.array(correlation).T)[0,1], 2)}\", fontsize=35)\n",
    "\n",
    "#plt.xscale(\"log\")\n",
    "#plt.yscale(\"log\")\n",
    "\n",
    "plt.tick_params(which=\"both\", labelsize=35)\n",
    "\n",
    "plt.legend(fontsize=35)\n",
    "plt.show()\n",
    "fig.savefig(\"corr_f_pt_%s_%d.pdf\"%(algorithm,L))"
   ]
  },
  {
   "cell_type": "code",
   "execution_count": null,
   "metadata": {},
   "outputs": [],
   "source": []
  }
 ],
 "metadata": {
  "kernelspec": {
   "display_name": "Python 3",
   "language": "python",
   "name": "python3"
  },
  "language_info": {
   "codemirror_mode": {
    "name": "ipython",
    "version": 3
   },
   "file_extension": ".py",
   "mimetype": "text/x-python",
   "name": "python",
   "nbconvert_exporter": "python",
   "pygments_lexer": "ipython3",
   "version": "3.7.6"
  },
  "widgets": {
   "application/vnd.jupyter.widget-state+json": {
    "state": {},
    "version_major": 2,
    "version_minor": 0
   }
  }
 },
 "nbformat": 4,
 "nbformat_minor": 4
}

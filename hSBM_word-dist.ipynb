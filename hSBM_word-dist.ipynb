{
 "cells": [
  {
   "cell_type": "code",
   "execution_count": null,
   "metadata": {},
   "outputs": [],
   "source": [
    "import os\n",
    "import numpy as np\n",
    "import pandas as pd\n",
    "import plotly.graph_objects as go\n",
    "import tensorflow as tf\n",
    "from hsbmpy import get_max_available_L, get_file\n",
    "import tensorflow as tf"
   ]
  },
  {
   "cell_type": "code",
   "execution_count": null,
   "metadata": {},
   "outputs": [],
   "source": [
    "import importlib, geneontology\n",
    "from geneontology import *\n",
    "importlib.reload(geneontology)\n",
    "from geneontology import *"
   ]
  },
  {
   "cell_type": "code",
   "execution_count": null,
   "metadata": {},
   "outputs": [],
   "source": [
    "algorithm = 'topsbm-log'\n",
    "directory = \"/home/jovyan/work/phd/topics/datasets/gtex10/\"\n",
    "L=get_max_available_L(directory, algorithm)-1\n",
    "os.chdir(directory)"
   ]
  },
  {
   "cell_type": "code",
   "execution_count": null,
   "metadata": {},
   "outputs": [],
   "source": [
    "df_Pwt = pd.read_csv(\"%s/%s_level_%d_word-dist.csv\"%(algorithm,algorithm,L), index_col=0)"
   ]
  },
  {
   "cell_type": "code",
   "execution_count": null,
   "metadata": {},
   "outputs": [],
   "source": [
    "fig=go.Figure()\n",
    "for topic in df_Pwt.columns[:5]:\n",
    "    dist = df_Pwt.sort_values(by=[topic], ascending=False)[topic].astype(float)\n",
    "    dist = dist[dist>1e-50].values\n",
    "    dist = dist/sum(dist)\n",
    "    if len(dist)<2:\n",
    "        pass\n",
    "    fig.add_trace(go.Scatter(y=np.sort(dist[dist>0].T)[::-1], mode=\"lines+markers\", name=topic))\n",
    "    \n",
    "x = np.linspace(1, df_Pwt.shape[0])\n",
    "fig.add_trace(go.Scatter(x=x, y=0.1*x**-0.8, mode=\"lines\", line_width=10, line_color=\"gray\", line_dash=\"dash\", name=\"\"))\n",
    "layout = dict()\n",
    "layout[\"xaxis_title\"]=\"words\"\n",
    "layout[\"xaxis_titlefont_size\"]=35\n",
    "layout[\"xaxis_exponentformat\"]=\"e\"\n",
    "layout[\"xaxis_type\"]=\"log\"\n",
    "layout[\"yaxis_title\"]=\"$P(word | topic)$\"\n",
    "layout[\"yaxis_titlefont_size\"]=45\n",
    "layout[\"yaxis_type\"]=\"log\"\n",
    "layout[\"yaxis_exponentformat\"]=\"e\"\n",
    "fig.update_layout(layout)\n",
    "fig.show()\n",
    "fig.write_image(\"p_w_tw_%s.pdf\"%algorithm)"
   ]
  },
  {
   "cell_type": "code",
   "execution_count": null,
   "metadata": {},
   "outputs": [],
   "source": [
    "df_Ptd = pd.read_csv(\"%s/%s_level_%d_topic-dist.csv\"%(algorithm,algorithm,L), index_col=1).drop('i_doc',1)"
   ]
  },
  {
   "cell_type": "code",
   "execution_count": null,
   "metadata": {},
   "outputs": [],
   "source": [
    "fig=go.Figure()\n",
    "for sample in df_Ptd.index.values[:10]:\n",
    "    fig.add_trace(go.Scatter(y=df_Ptd.loc[sample,:].astype(float).values, mode='markers+lines'))\n",
    "\n",
    "layout=dict()\n",
    "layout[\"showlegend\"]=False\n",
    "layout[\"xaxis_title\"]=\"topics\"\n",
    "layout[\"xaxis_titlefont_size\"]=35\n",
    "layout[\"xaxis_exponentformat\"]=\"e\"\n",
    "layout[\"yaxis_title\"]=\"$P(topic | sample)$\"\n",
    "layout[\"yaxis_titlefont_size\"]=45\n",
    "layout[\"yaxis_exponentformat\"]=\"e\"\n",
    "fig.update_layout(layout)\n",
    "fig.show()\n",
    "fig.write_image(\"p_t_s_%s.pdf\"%algorithm)"
   ]
  },
  {
   "cell_type": "code",
   "execution_count": null,
   "metadata": {},
   "outputs": [],
   "source": [
    "df_mt = pd.read_csv(\"mainTable.csv\",sep=\",\",index_col=0)\n",
    "df_mt.index = [g[:15] for g in df_mt.index]\n",
    "df_files=pd.read_csv(\"files.dat\", index_col=0)\n",
    "df_mt=df_mt.reindex(index=df_Pwt.index.values.ravel(),\n",
    "                    columns=[get_file(sample, df_files).name for sample in df_Ptd.index.values.ravel()])\n",
    "df_mt.dropna(how=\"all\", axis=0, inplace=True)\n",
    "#df_mt=df_mt.applymap(lambda tpm: np.log2(tpm+1))\n",
    "#df_mt=df_mt.where(df_mt<1e6,1e6)\n",
    "df_mt.head()"
   ]
  },
  {
   "cell_type": "code",
   "execution_count": null,
   "metadata": {},
   "outputs": [],
   "source": [
    "Pgt = tf.convert_to_tensor(df_Pwt.values)\n",
    "Pts = tf.transpose(tf.convert_to_tensor(df_Ptd.values))\n",
    "Pgs = tf.matmul(Pgt,Pts)\n",
    "Ps = tf.convert_to_tensor(df_mt.sum(0).values)\n",
    "Ps = tf.divide(Ps, tf.reduce_sum(Ps))#normalize\n",
    "Pg = tf.squeeze(tf.matmul(Pgs, tf.reshape(Ps,[Ps.shape[0],1])))"
   ]
  },
  {
   "cell_type": "code",
   "execution_count": null,
   "metadata": {},
   "outputs": [],
   "source": [
    "print(Pgt.shape,Pts.shape,Pgs.shape,Pg.shape, Ps.shape)"
   ]
  },
  {
   "cell_type": "code",
   "execution_count": null,
   "metadata": {},
   "outputs": [],
   "source": [
    "Pgs_data = Pgs.numpy()\n",
    "Pg_data = Pg.numpy()\n",
    "Pgs_data.shape"
   ]
  },
  {
   "cell_type": "code",
   "execution_count": null,
   "metadata": {},
   "outputs": [],
   "source": [
    "df_Pgs = pd.DataFrame(data=Pgs_data, index=df_Pwt.values.T[0], columns=df_Ptd.index.values.ravel())"
   ]
  },
  {
   "cell_type": "code",
   "execution_count": null,
   "metadata": {},
   "outputs": [],
   "source": [
    "A=df_mt.fillna(0).astype(int).sum(1).values"
   ]
  },
  {
   "cell_type": "code",
   "execution_count": null,
   "metadata": {},
   "outputs": [],
   "source": [
    "fig=go.Figure()\n",
    "fig.add_traces([\n",
    "    go.Scatter(y=np.sort(A)[::-1]/A.sum(), line_width=15, name='data'),\n",
    "    go.Scatter(y=np.sort(Pg_data)[::-1]/np.sum(Pg_data), line_width=15, line_dash='dot', name='P(w)')\n",
    "])\n",
    "\n",
    "layout=dict()\n",
    "layout[\"xaxis_title\"]=\"words\"\n",
    "layout[\"xaxis_titlefont_size\"]=35\n",
    "layout[\"xaxis_exponentformat\"]=\"e\"\n",
    "layout[\"xaxis_type\"]=\"log\"\n",
    "layout[\"yaxis_title\"]=\"$P(word)$\"\n",
    "layout[\"yaxis_titlefont_size\"]=45\n",
    "layout[\"yaxis_exponentformat\"]=\"e\"\n",
    "layout[\"yaxis_type\"]=\"log\"\n",
    "fig.update_layout(layout)\n",
    "fig.show()\n",
    "fig.write_image(\"p_w_%s.pdf\"%algorithm)"
   ]
  },
  {
   "cell_type": "code",
   "execution_count": null,
   "metadata": {},
   "outputs": [],
   "source": [
    "df_topics = pd.read_csv(\"%s/%s_level_%d_topics.csv\"%(algorithm,algorithm,L))\n",
    "f = df_mt.sum(1)/df_mt.sum().sum()\n",
    "f = f.sort_values(ascending=False)\n",
    "\n",
    "df_Ptd = pd.read_csv(\"%s/%s_level_%d_topic-dist.csv\"%(algorithm,algorithm,L), index_col=1).drop(\"i_doc\",1)\n",
    "df_Ptd = df_Ptd.transpose()\n",
    "f_t = df_Ptd.sum(1)\n",
    "f_t = f_t / f_t.sum()\n",
    "\n",
    "correlation = []\n",
    "\n",
    "for topic in df_topics.columns:\n",
    "    f_g_value = np.mean(f[[g[:15] for g in df_topics[topic].dropna()]])\n",
    "    f_t_value = f_t[topic]\n",
    "    correlation.append((f_g_value,f_t_value))"
   ]
  },
  {
   "cell_type": "code",
   "execution_count": null,
   "metadata": {},
   "outputs": [],
   "source": [
    "fig=go.Figure()\n",
    "x,y = np.array(correlation).T\n",
    "fig.add_traces([\n",
    "    go.Scatter(x=x, y=y, line_color=\"gray\", name=\"topic\", mode=\"markers\", marker_size=20),\n",
    "    go.Scatter(x=[x.min(), x.max()], y=[x.min(), x.max()], mode=\"lines\", line_color=\"black\", line_width=18, line_dash=\"dash\", name=\"y=x\")\n",
    "])\n",
    "\n",
    "\n",
    "layout=dict()\n",
    "layout[\"title\"]=f\"{algorithm} - Correlation: {np.round(np.corrcoef(*np.array(correlation).T)[0,1], 2)}\"\n",
    "layout[\"xaxis_title\"]=\"<Frequency>, $<f_i>_t$\"\n",
    "layout[\"xaxis_titlefont_size\"]=35\n",
    "layout[\"xaxis_exponentformat\"]=\"e\"\n",
    "layout[\"xaxis_type\"]=\"log\"\n",
    "layout[\"xaxis_tickfont_size\"]=20\n",
    "layout[\"yaxis_title\"]=\"$<P(topic)>$\"\n",
    "layout[\"yaxis_titlefont_size\"]=45\n",
    "layout[\"yaxis_exponentformat\"]=\"e\"\n",
    "layout[\"yaxis_type\"]=\"log\"\n",
    "layout[\"yaxis_tickfont_size\"]=20\n",
    "fig.update_layout(layout)\n",
    "fig.show()\n",
    "fig.write_image(\"corr_f_pt_%s_%d.pdf\"%(algorithm,L))"
   ]
  },
  {
   "cell_type": "code",
   "execution_count": null,
   "metadata": {},
   "outputs": [],
   "source": []
  }
 ],
 "metadata": {
  "kernelspec": {
   "display_name": "Python 3",
   "language": "python",
   "name": "python3"
  },
  "language_info": {
   "codemirror_mode": {
    "name": "ipython",
    "version": 3
   },
   "file_extension": ".py",
   "mimetype": "text/x-python",
   "name": "python",
   "nbconvert_exporter": "python",
   "pygments_lexer": "ipython3",
   "version": "3.8.6"
  },
  "widgets": {
   "application/vnd.jupyter.widget-state+json": {
    "state": {},
    "version_major": 2,
    "version_minor": 0
   }
  }
 },
 "nbformat": 4,
 "nbformat_minor": 4
}

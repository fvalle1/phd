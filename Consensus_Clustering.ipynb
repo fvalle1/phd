{
 "cells": [
  {
   "cell_type": "markdown",
   "metadata": {},
   "source": [
    "## cc"
   ]
  },
  {
   "cell_type": "code",
   "execution_count": null,
   "metadata": {},
   "outputs": [],
   "source": [
    "import os\n",
    "import pandas as pd\n",
    "import numpy as np\n",
    "import matplotlib.pyplot as plt\n",
    "import networkx as nx\n",
    "import community\n",
    "from master_thesis.hsbmpy import get_file, get_max_available_L"
   ]
  },
  {
   "cell_type": "code",
   "execution_count": null,
   "metadata": {},
   "outputs": [],
   "source": [
    "directory = '/home/fvalle/phd/datasets/tcga/oversampling_10tissue/'\n",
    "L = get_max_available_L(directory)\n",
    "os.chdir(directory)"
   ]
  },
  {
   "cell_type": "code",
   "execution_count": null,
   "metadata": {},
   "outputs": [],
   "source": [
    "for l in range(L+1):\n",
    "    df_hsbm = pd.read_csv(\"topsbm/topsbm_level_%d_clusters.csv\"%l)\n",
    "    df_lda = pd.read_csv(\"lda/lda_level_%d_clusters.csv\"%l)\n",
    "    df_files = pd.read_csv(\"files.dat\", index_col=0)\n",
    "    G = nx.Graph()\n",
    "    for c in df_hsbm.columns:\n",
    "        nodes = [get_file(sample,df_files).name for sample in df_hsbm[c].dropna().values]\n",
    "        for a, node_a in enumerate(nodes):\n",
    "            for node_b in nodes[a+1:]:\n",
    "                if G.has_edge(node_a, node_b):\n",
    "                    # we added this one before, just increase the weight by one\n",
    "                    G[node_a][node_b]['weight'] += 1\n",
    "                else:\n",
    "                    # new edge. add with weight=1\n",
    "                    G.add_edge(node_a, node_b, weight=1)\n",
    "\n",
    "    for c in df_lda.columns:\n",
    "        nodes = [get_file(sample,df_files).name for sample in df_lda[c].dropna().values]\n",
    "        for a, node_a in enumerate(nodes):\n",
    "            for node_b in nodes[a+1:]:\n",
    "                if G.has_edge(node_a, node_b):\n",
    "                    # we added this one before, just increase the weight by one\n",
    "                    G[node_a][node_b]['weight'] += 1\n",
    "                else:\n",
    "                    # new edge. add with weight=1\n",
    "                    G.add_edge(node_a, node_b, weight=1)\n",
    "    remove_edge = []\n",
    "    for edge in G.edges:\n",
    "        if G.get_edge_data(*edge)['weight']<=1:\n",
    "            if (G.degree[edge[0]] > 1) and (G.degree[edge[1]] > 1):\n",
    "                remove_edge.append(edge)\n",
    "    G.remove_edges_from(remove_edge)\n",
    "    \n",
    "    partition = fast_consensus(G, n_p=200, thresh=2,delta=0.01)\n",
    "    \n",
    "    parttition_out={}\n",
    "    for node, c in partition[0].items():\n",
    "        if c in parttition_out.keys():\n",
    "            parttition_out[c].append(node)\n",
    "        else:\n",
    "            parttition_out[c]=[node]\n",
    "    M = np.max([len(parttition_out[c]) for c in parttition_out.keys()])\n",
    "    print(\"level %d with %d clusters\"%(l, np.max([a for a in parttition_out.keys()])))\n",
    "    df_cc = pd.DataFrame(columns=[\"Cluster %d\"%(c+1) for c in np.arange(np.max([a for a in parttition_out.keys()])+1)])\n",
    "    for C,c in zip(df_cc.columns, parttition_out.keys()):\n",
    "        df_cc[C]=np.concatenate([parttition_out[c],['' for _ in range(M-len(parttition_out[c]))]])\n",
    "    df_cc.to_csv(\"cc/cc_level_%d_clusters.csv\"%l, index=False)"
   ]
  },
  {
   "cell_type": "code",
   "execution_count": null,
   "metadata": {},
   "outputs": [],
   "source": [
    "fig=plt.figure(figsize=(10,10))\n",
    "ax=fig.subplots()\n",
    "pos=nx.spring_layout(G, k=.5) # positions for all nodes\n",
    "nx.draw_networkx_edges(G,pos,width=.05,alpha=0.5)\n",
    "plt.show()"
   ]
  },
  {
   "cell_type": "code",
   "execution_count": null,
   "metadata": {},
   "outputs": [],
   "source": []
  },
  {
   "cell_type": "code",
   "execution_count": null,
   "metadata": {},
   "outputs": [],
   "source": []
  }
 ],
 "metadata": {
  "kernelspec": {
   "display_name": "Python 3",
   "language": "python",
   "name": "python3"
  },
  "language_info": {
   "codemirror_mode": {
    "name": "ipython",
    "version": 3
   },
   "file_extension": ".py",
   "mimetype": "text/x-python",
   "name": "python",
   "nbconvert_exporter": "python",
   "pygments_lexer": "ipython3",
   "version": "3.6.9"
  }
 },
 "nbformat": 4,
 "nbformat_minor": 2
}

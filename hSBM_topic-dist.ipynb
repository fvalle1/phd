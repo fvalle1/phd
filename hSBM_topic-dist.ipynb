{
 "cells": [
  {
   "cell_type": "code",
   "execution_count": 2,
   "metadata": {},
   "outputs": [],
   "source": [
    "import pandas as pd\n",
    "from matplotlib import pyplot as plt\n",
    "from TCGA_files import *\n",
    "from gtex import get_gtex_tissue\n",
    "import seaborn as sns\n",
    "import sys, os\n",
    "from hsbmpy import topic_distr_isample, topic_distr_sample,get_file, get_tissue_style, get_max_available_L\n",
    "from TCGA_files import get_tcga_tissue"
   ]
  },
  {
   "cell_type": "code",
   "execution_count": 4,
   "metadata": {},
   "outputs": [],
   "source": [
    "label=\"\"\n",
    "algorithm = \"topsbm\"\n",
    "directory='/home/jovyan/work/phd/datasets/cancers/lung/'\n",
    "L = get_max_available_L(directory, algorithm)\n",
    "os.chdir(directory)"
   ]
  },
  {
   "cell_type": "code",
   "execution_count": null,
   "metadata": {},
   "outputs": [],
   "source": [
    "df = pd.read_csv(\"%s/%s_level_%d_topic-dist.csv\"%(algorithm,algorithm,L))\n",
    "df.head()"
   ]
  },
  {
   "cell_type": "markdown",
   "metadata": {},
   "source": [
    "### Specific topic"
   ]
  },
  {
   "cell_type": "code",
   "execution_count": null,
   "metadata": {},
   "outputs": [],
   "source": [
    "topic = 15"
   ]
  },
  {
   "cell_type": "code",
   "execution_count": null,
   "metadata": {},
   "outputs": [],
   "source": [
    "searchdf = df.sort_values(by=\"Topic %d\"%topic, ascending=False).loc[:,['doc','Topic %d'%topic]]\n",
    "searchdf.head()"
   ]
  },
  {
   "cell_type": "code",
   "execution_count": null,
   "metadata": {},
   "outputs": [],
   "source": [
    "#datatotest = queryFiles([f[0]+'.FPKM.txt.gz' for f in searchdf.values[:30] if f[1]>0.1])\n",
    "#datatotest = queryFiles([f[0] for f in searchdf.values[:10]])\n",
    "datatotest = pd.DataFrame(columns=['primary_site','secondary_site'])\n",
    "for file in [f[0] for f in searchdf.values[:10]]:\n",
    "    datatotest=datatotest.append(get_gtex_tissue(file))\n",
    "datatotest"
   ]
  },
  {
   "cell_type": "code",
   "execution_count": null,
   "metadata": {},
   "outputs": [],
   "source": [
    "makeTopicPie(datatotest, L, ['primary_site','secondary_site'])"
   ]
  },
  {
   "cell_type": "code",
   "execution_count": null,
   "metadata": {},
   "outputs": [],
   "source": [
    "df_file=pd.read_csv(\"files.dat\", index_col=[0])\n",
    "samples = []\n",
    "for sample in df['doc']:\n",
    "    if 'Lung' in get_gtex_tissue(sample)['primary_site']:\n",
    "        samples.append(sample)"
   ]
  },
  {
   "cell_type": "code",
   "execution_count": null,
   "metadata": {},
   "outputs": [],
   "source": [
    "tissuedf = df[df['doc'].isin(samples)].drop('i_doc', axis=1)\n",
    "tissuedf.mean(axis=0).sort_values(ascending=False)"
   ]
  },
  {
   "cell_type": "markdown",
   "metadata": {},
   "source": [
    "## topic distr"
   ]
  },
  {
   "cell_type": "code",
   "execution_count": null,
   "metadata": {},
   "outputs": [],
   "source": [
    "for idoc in searchdf.index.values[:5]:\n",
    "    fig=plt.figure()\n",
    "    ax=fig.subplots()\n",
    "    topic_distr_isample(idoc,df,ax)\n",
    "    plt.show()\n",
    "    fig.savefig(\"topic_distr_%d.png\"%idoc)"
   ]
  },
  {
   "cell_type": "code",
   "execution_count": null,
   "metadata": {},
   "outputs": [],
   "source": [
    "for idoc in np.random.randint(len(df.index), size=10):\n",
    "    topic_distr_isample(idoc, df)"
   ]
  },
  {
   "cell_type": "markdown",
   "metadata": {},
   "source": [
    "## Topic distr"
   ]
  },
  {
   "cell_type": "markdown",
   "metadata": {},
   "source": [
    "### kl"
   ]
  },
  {
   "cell_type": "code",
   "execution_count": null,
   "metadata": {},
   "outputs": [],
   "source": [
    "l=L-1"
   ]
  },
  {
   "cell_type": "code",
   "execution_count": null,
   "metadata": {},
   "outputs": [],
   "source": [
    "df_kl = pd.read_csv(\"%s/topsbm/topic-kl_%d.csv\"%(directory,l), header=None)\n",
    "df_kl.columns = ['first', 'second', 'kl']\n",
    "df_kl.head()"
   ]
  },
  {
   "cell_type": "code",
   "execution_count": null,
   "metadata": {},
   "outputs": [],
   "source": [
    "df_cluster = pd.read_csv(\"%s/topsbm/topsbm_level_%d_clusters.csv\"%(directory,l))\n",
    "df_topics = pd.read_csv(\"%s/topsbm/topsbm_level_%d_topic-dist.csv\"%(directory,l)).loc[:,df.columns[2:]]\n",
    "df_files = pd.read_csv(\"%s/files.dat\"%(directory), index_col=[0], header=0)"
   ]
  },
  {
   "cell_type": "code",
   "execution_count": null,
   "metadata": {},
   "outputs": [],
   "source": [
    "bins = np.linspace(-0.025,1.025,40)"
   ]
  },
  {
   "cell_type": "code",
   "execution_count": null,
   "metadata": {},
   "outputs": [],
   "source": [
    "sites = df_files[label].unique()\n",
    "df_tissue_kl = pd.DataFrame(index=sites, columns=sites, dtype=float)"
   ]
  },
  {
   "cell_type": "code",
   "execution_count": null,
   "metadata": {},
   "outputs": [],
   "source": [
    "for tissue_row in sites:\n",
    "    cluster_row = df_files[df_files['primary_site']==tissue_row].index.values\n",
    "    for tissue_column in sites:\n",
    "        print(tissue_row, tissue_column)\n",
    "        cluster_column = df_files[df_files['primary_site']==tissue_column].index.values\n",
    "        datarc = df_kl[(df_kl['first'].isin(cluster_row) & df_kl['second'].isin(cluster_column))]['kl'].values\n",
    "        datacr = df_kl[(df_kl['first'].isin(cluster_column) & df_kl['second'].isin(cluster_row))]['kl'].values\n",
    "        df_tissue_kl.at[tissue_row,tissue_column]=(np.average(np.concatenate((datarc,datacr))))"
   ]
  },
  {
   "cell_type": "code",
   "execution_count": null,
   "metadata": {},
   "outputs": [],
   "source": [
    "h = sns.clustermap(df_tissue_kl.dropna(axis=0,how='all').dropna(axis=1, how='any'), cmap=sns.diverging_palette(15,250, n=15), metric='euclidean')\n",
    "dn = h.dendrogram_col.dendrogram\n",
    "h.fig.savefig(\"%s/topic_distr_kl_map.pdf\"%directory)"
   ]
  },
  {
   "cell_type": "code",
   "execution_count": null,
   "metadata": {},
   "outputs": [],
   "source": [
    "import scipy.cluster.hierarchy as shc\n",
    "fig = plt.figure(figsize=(12,8))\n",
    "ax = fig.subplots()\n",
    "ax.set_xlabel(\"kl correlation\", fontsize=16)\n",
    "dend = shc.dendrogram(h.dendrogram_col.linkage, labels=df_tissue_kl.columns, orientation='right', distance_sort='discending', ax=ax)\n",
    "fig.savefig(\"%s/topic_dist_dendogram_level(%d).pdf\"%(directory,l))"
   ]
  },
  {
   "cell_type": "markdown",
   "metadata": {},
   "source": [
    "### Topic maps"
   ]
  },
  {
   "cell_type": "code",
   "execution_count": 6,
   "metadata": {},
   "outputs": [],
   "source": [
    "l=L-1"
   ]
  },
  {
   "cell_type": "code",
   "execution_count": 8,
   "metadata": {},
   "outputs": [
    {
     "name": "stdout",
     "output_type": "stream",
     "text": [
      "Working with 12 topics\n"
     ]
    }
   ],
   "source": [
    "df_topics = pd.read_csv(\"%s/%s_level_%d_topic-dist.csv\"%(algorithm,algorithm,l))\n",
    "df_files = pd.read_csv(\"files.dat\", index_col=0).dropna(how='all', axis=0)\n",
    "df_topics.set_index('doc', inplace=True)\n",
    "df_topics.insert(0,'tissue','')\n",
    "df_topics.drop('i_doc', axis=1, inplace=True)\n",
    "label = \"cancer.type\"\n",
    "if label not in df_files.columns:\n",
    "    raise AttributeError(f\"{label} not valid. Available: {df_files.columns}\")\n",
    "print(\"Working with %d topics\"%(df_topics.shape[1]-1))"
   ]
  },
  {
   "cell_type": "code",
   "execution_count": 9,
   "metadata": {},
   "outputs": [],
   "source": [
    "for sample in df_topics.index.values:\n",
    "    try:\n",
    "        df_topics.at[sample,'tissue']=(\"%s\"%(get_file(sample,df_files)[label]))\n",
    "    except:\n",
    "        print(*sys.exc_info())\n",
    "        print(sample)\n",
    "        df_topics.at[sample,'tissue']=\"unknown\""
   ]
  },
  {
   "cell_type": "code",
   "execution_count": 10,
   "metadata": {},
   "outputs": [],
   "source": [
    "df_cmap = df_topics.sort_values(by='tissue').set_index('tissue').transpose()\n",
    "df_cmap = df_cmap.subtract(df_cmap.mean(axis=1),axis=0)\n",
    "#create a color palette with the same number of colors as unique values in the Source column\n",
    "network_pal = sns.color_palette('husl',n_colors=len(df_cmap.columns))\n",
    "\n",
    "#Create a dictionary where the key is the category and the values are the\n",
    "#colors from the palette we just created\n",
    "network_lut = dict(zip(df_cmap.columns, network_pal))\n",
    "network_col = df_cmap.columns.map(network_lut)"
   ]
  },
  {
   "cell_type": "code",
   "execution_count": 11,
   "metadata": {},
   "outputs": [
    {
     "data": {
      "image/png": "[encoded data removed]",
      "text/plain": [
       "<Figure size 720x720 with 5 Axes>"
      ]
     },
     "metadata": {},
     "output_type": "display_data"
    }
   ],
   "source": [
    "cm = sns.clustermap(df_cmap, \n",
    "                    row_cluster=False, \n",
    "                    col_cluster=False, \n",
    "                    metric='euclidean', \n",
    "                    vmin=0, \n",
    "                    cmap='RdYlBu_r', \n",
    "                    col_colors=network_col,\n",
    "                    cbar_pos=(0.95,0.8,0.05,0.2)\n",
    "                    )\n",
    "ax = cm.ax_heatmap\n",
    "\n",
    "ax.tick_params(labelsize=15)\n",
    "ax.set_xlabel(\"tissue\", fontsize=35)\n",
    "ax.set_title(\"P(topic|sample)\", fontsize=25)\n",
    "ax.yaxis.tick_left()\n",
    "ax.yaxis.set_label_position(\"left\")\n",
    "#ax.set_yticklabels(df_cmap.index, rotation=0)\n",
    "\n",
    "\n",
    "cax = cm.ax_cbar\n",
    "cax.tick_params(labelsize=24)\n",
    "cax.set_title(\"P\", fontsize=30)\n",
    "cm.fig.savefig(\"%s/MAP_level%d.pdf\"%(algorithm,l))"
   ]
  },
  {
   "cell_type": "code",
   "execution_count": null,
   "metadata": {},
   "outputs": [],
   "source": [
    "topic = \"Topic 10\"\n",
    "df_single_topic = pd.read_csv(\"%s/%s_level_%d_word-dist.csv\"%(algorithm,algorithm,l), index_col=0).sort_values([topic], ascending=False)[topic].dropna()\n",
    "for g in df_single_topic[df_single_topic>df_single_topic[df_single_topic>0].quantile(0.)].index:\n",
    "    print(g[:15])"
   ]
  },
  {
   "cell_type": "code",
   "execution_count": null,
   "metadata": {},
   "outputs": [],
   "source": [
    "df_topics = pd.read_csv(\"%s/%s_level_%d_topic-dist.csv\"%(algorithm, algorithm,l))\n",
    "df_topics.drop('i_doc', axis=1, inplace=True)\n",
    "df_topics.set_index('doc', inplace=True)\n",
    "for sample in df_topics.index.values:\n",
    "    df_topics.at[sample,'tissue']=\"%s\"%(get_file(sample,df_files)[label])"
   ]
  },
  {
   "cell_type": "code",
   "execution_count": null,
   "metadata": {},
   "outputs": [],
   "source": [
    "fig,ax = plt.subplots(figsize=(25,15))\n",
    "for tissue in np.sort(df_topics['tissue'].unique()):\n",
    "    print(tissue)\n",
    "    marker, c, ls = get_tissue_style(tissue)\n",
    "    try:\n",
    "        df_topics[df_topics['tissue']==tissue].loc[:,df_topics.columns[0:]].mean(axis=0).plot(ls=ls,marker=marker, lw=5, ms=25, alpha=0.8, ax=ax, label=tissue, c=network_lut[tissue])\n",
    "    except:\n",
    "        print(*sys.exc_info())\n",
    "ax.set_ylabel(\"$P(topic | tissue)$\", fontsize=35)\n",
    "#plt.xscale('log')\n",
    "#plt.yscale('log')\n",
    "\n",
    "ax.set_xticks(np.arange(0, df_topics.shape[1],step=2))\n",
    "ax.set_xticklabels(df_topics.columns[:-1:2], rotation=75)\n",
    "ax.tick_params(labelsize=35)\n",
    "\n",
    "\n",
    "# Shrink current axis by 20%\n",
    "#box = ax.get_position()\n",
    "#ax.set_position([box.x0, box.y0, box.width * 0.8, box.height])\n",
    "\n",
    "# Put a legend to the right of the current axis\n",
    "#ax.legend(fontsize=25, ncol=1, loc='center left', bbox_to_anchor=(1, 0.5))\n",
    "ax.legend(fontsize=25, ncol=1, loc='best')\n",
    "\n",
    "plt.tight_layout()\n",
    "plt.show()\n",
    "fig.savefig(\"%s/lifeplot_level%d.pdf\"%(algorithm,l))"
   ]
  },
  {
   "cell_type": "code",
   "execution_count": null,
   "metadata": {},
   "outputs": [],
   "source": [
    "import tensorflow as tf"
   ]
  },
  {
   "cell_type": "code",
   "execution_count": null,
   "metadata": {},
   "outputs": [],
   "source": [
    "label = \"SMTS\"\n",
    "df_files_pd = pd.read_csv(\"files.dat\", index_col=0).dropna(how='all', axis=0)\n",
    "df_topics = pd.read_csv(\"%s/%s_level_%d_topic-dist.csv\"%(algorithm,algorithm,l))\n",
    "df_files = pd.read_csv(\"files.dat\")\n",
    "df_topics.insert(0,\"status\",['healthy' if 'GTEX' in x else 'tumour' for x in df_topics[\"doc\"]])\n",
    "df_topics.insert(0,'tissue',[get_file(x, df_files_pd)[label] if get_file(x, df_files_pd) is not None else np.nan for x in df_topics[\"doc\"]])"
   ]
  },
  {
   "cell_type": "code",
   "execution_count": null,
   "metadata": {},
   "outputs": [],
   "source": [
    "df_topic_list = pd.read_csv(\"%s/%s_level_%d_topics.csv\"%(algorithm,algorithm,l))"
   ]
  },
  {
   "cell_type": "markdown",
   "metadata": {},
   "source": [
    "### only health vs disease"
   ]
  },
  {
   "cell_type": "code",
   "execution_count": null,
   "metadata": {},
   "outputs": [],
   "source": [
    "dftf_h = tf.convert_to_tensor(df_topics[df_topics[\"status\"]==\"healthy\"].drop(['doc','i_doc', 'status', 'tissue'], axis=1).astype(float).values)\n",
    "dftf_d = tf.convert_to_tensor(df_topics[df_topics[\"status\"]==\"tumour\"].drop(['doc','i_doc', 'status', 'tissue'], axis=1).astype(float).values)"
   ]
  },
  {
   "cell_type": "code",
   "execution_count": null,
   "metadata": {},
   "outputs": [],
   "source": [
    "results = tf.sort([tf.math.reduce_mean(dftf_h,0),tf.math.reduce_mean(dftf_d,0)], axis=1, direction='DESCENDING').numpy()"
   ]
  },
  {
   "cell_type": "code",
   "execution_count": null,
   "metadata": {},
   "outputs": [],
   "source": [
    "fig = plt.figure(figsize=(20,10))\n",
    "plt.plot(results[0], marker='o', lw=0.1)\n",
    "plt.plot(results[1],marker='x', lw=0.1)\n",
    "plt.yscale('log')\n",
    "plt.xscale('log')\n",
    "plt.show()"
   ]
  },
  {
   "cell_type": "code",
   "execution_count": null,
   "metadata": {},
   "outputs": [],
   "source": [
    "df_topics.groupby('tissue').count()"
   ]
  },
  {
   "cell_type": "code",
   "execution_count": null,
   "metadata": {},
   "outputs": [],
   "source": [
    "for topic in topic_cols:\n",
    "    plt.figure(figsize=(15,8))\n",
    "    plt.title(topic)\n",
    "    for tissue in df_topics.select('second_tissue').distinct().toPandas().values.T[0]:\n",
    "        tissue_spec=(df_topics.filter(col('second_tissue')==tissue).select([topic]).toPandas().astype(float)-means[topic].values)/sigmas[topic].values\n",
    "        plt.hist(tissue_spec.values.T[0], density=True, histtype='step', label=tissue)\n",
    "    plt.xscale('log')\n",
    "    plt.yscale('log')\n",
    "    plt.legend()\n",
    "    plt.show()"
   ]
  },
  {
   "cell_type": "code",
   "execution_count": null,
   "metadata": {},
   "outputs": [],
   "source": [
    "df_topics_grouped = df_topics.groupby('second_tissue').agg({x: 'avg' for x in topic_cols}).toPandas().set_index('second_tissue')[[\"avg(%s)\"%t for t in topic_cols]].transpose()\n",
    "df_topics_grouped.index=topic_cols"
   ]
  },
  {
   "cell_type": "code",
   "execution_count": null,
   "metadata": {},
   "outputs": [],
   "source": [
    "df_cmap = df_topics_grouped\n",
    "df_cmap=df_cmap.subtract(df_cmap.mean(axis=1), axis=0).divide(df_cmap.std(axis=1), axis=0)\n",
    "df_cmap.sort_index(axis=1, inplace=True)\n",
    "#df_cmap.sort_values(by=[c for c in df_cmap.columns[::2]], inplace=True)\n",
    "#create a color palette with the same number of colors as unique values in the Source column\n",
    "network_pal = sns.color_palette('husl',n_colors=len(df_cmap.columns))\n",
    "\n",
    "#Create a dictionary where the key is the category and the values are the\n",
    "#colors from the palette we just created\n",
    "network_lut = dict(zip(df_cmap.columns, network_pal))\n",
    "network_col = df_cmap.columns.map(network_lut)\n",
    "\n",
    "fig = plt.figure()\n",
    "cm = sns.clustermap(df_cmap, row_cluster=False, col_cluster=False, metric='euclidean', cmap='RdYlBu', col_colors=network_col)\n",
    "cm.fig.savefig(\"%s/MAP_level%d.png\"%(directory,l))"
   ]
  },
  {
   "cell_type": "code",
   "execution_count": null,
   "metadata": {},
   "outputs": [],
   "source": []
  },
  {
   "cell_type": "code",
   "execution_count": null,
   "metadata": {},
   "outputs": [],
   "source": [
    "fig=plt.figure(figsize=(10,8))\n",
    "#plt.plot((df_tissue).values[0], label=look_for[0], ls='--', ms=10)\n",
    "plt.hist((df_tissue_healthy).values[0], label=look_for[1], marker='x', lw=0.5, ms=10)\n",
    "plt.hist((df_tissue_disease).values[0], label=look_for[2], marker='x', lw=0.5, ms=10)\n",
    "plt.xticks(ticks=np.arange(len(topic_cols)), labels=topic_cols, rotation=90)\n",
    "#plt.yscale('log')\n",
    "plt.legend(fontsize=20)\n",
    "plt.show()"
   ]
  },
  {
   "cell_type": "code",
   "execution_count": null,
   "metadata": {},
   "outputs": [],
   "source": [
    "(df_tissue_healthy-df_tissue).values"
   ]
  },
  {
   "cell_type": "code",
   "execution_count": null,
   "metadata": {},
   "outputs": [],
   "source": []
  },
  {
   "cell_type": "markdown",
   "metadata": {},
   "source": [
    "### all"
   ]
  },
  {
   "cell_type": "code",
   "execution_count": null,
   "metadata": {},
   "outputs": [],
   "source": [
    "df_all = tf.convert_to_tensor(df_topics.drop(['i_doc', 'doc', 'status', 'tissue'], axis=1).astype(float).values)"
   ]
  },
  {
   "cell_type": "code",
   "execution_count": null,
   "metadata": {},
   "outputs": [],
   "source": [
    "#normed_df = tf.divide(tf.subtract(df_all,tf.reduce_mean(df_all,0)),tf.math.reduce_mean(df_all, 0))\n",
    "#normed_df = tf.divide(tf.abs(tf.subtract(df_all,tf.reduce_mean(df_all,0))),tf.sqrt(tf.math.reduce_variance(df_all, 0)))\n",
    "normed_df = tf.divide(tf.subtract(df_all,tf.reduce_mean(df_all,0)),tf.sqrt(tf.math.reduce_variance(df_all, 0)))\n",
    "#normed_df = tf.divide(tf.math.divide(df_all,tf.reduce_mean(df_all,0)), tf.cast(tf.shape(df_all)[0], tf.float64))\n",
    "#normed_df = tf.math.multiply(df_all,tf.reduce_mean(df_all,0))"
   ]
  },
  {
   "cell_type": "code",
   "execution_count": null,
   "metadata": {},
   "outputs": [],
   "source": [
    "result = normed_df.numpy()"
   ]
  },
  {
   "cell_type": "code",
   "execution_count": null,
   "metadata": {},
   "outputs": [],
   "source": [
    "fig=plt.figure(figsize=(30,15))\n",
    "topics_i = np.linspace(0,df_all.shape[1]-1,df_all.shape[1]-1, dtype=int)\n",
    "label = 'tissue'\n",
    "for tissue in df_topics['tissue'].unique():\n",
    "    print(tissue)\n",
    "    if tissue is None:\n",
    "        continue\n",
    "    marker, c, ls = get_tissue_style(tissue)\n",
    "    c = network_lut[tissue]\n",
    "    i_docs = df_topics[df_topics['tissue']==tissue][\"i_doc\"].values.astype(int)\n",
    "    plt.plot(np.mean(result[i_docs],axis=0)[topics_i], marker=marker, lw=0.8, ls=ls, label=tissue, ms=18, c=c)\n",
    "    #plt.hist(np.mean(result[0][i_docs],axis=0)[l_topics_i])\n",
    "plt.legend(fontsize=18, ncol=3)\n",
    "plt.ylabel(\"$\\\\frac{\\\\left|P(topic | tissue) - mean\\\\right|}{\\sigma}$\", fontsize=44)\n",
    "plt.xticks(np.linspace(0,len(topics_i)-1,num=len(topics_i)), [\"Topic %d\"%(t+1) for t in topics_i], rotation=75, fontsize=24)\n",
    "plt.tick_params(labelsize=35)\n",
    "#plt.yscale('log')\n",
    "plt.show()\n",
    "fig.savefig(\"%s/%s/lifeplot_normalised_level%d.pdf\"%(directory,algorithm,l))"
   ]
  },
  {
   "cell_type": "code",
   "execution_count": null,
   "metadata": {},
   "outputs": [],
   "source": [
    "for tissue in df_topics['tissue'].unique():\n",
    "    print(tissue)\n",
    "    fig=plt.figure()\n",
    "    plt.title(tissue)\n",
    "    df_visual = df_topics[df_topics['tissue']==tissue].drop(['i_doc', 'doc', 'status', 'tissue'], axis=1).astype(float)\n",
    "    width = np.zeros(len(df_visual.index))\n",
    "    for t in df_visual.columns:\n",
    "        plt.barh(df_visual.index.values,df_visual[t].values,left=width)\n",
    "        width+=df_visual[t].values\n",
    "    plt.show()\n",
    "    fig.savefig(\"%s/topicvisual_%s.png\"%(algorithm,tissue))"
   ]
  },
  {
   "cell_type": "code",
   "execution_count": null,
   "metadata": {},
   "outputs": [],
   "source": []
  }
 ],
 "metadata": {
  "kernelspec": {
   "display_name": "Python 3",
   "language": "python",
   "name": "python3"
  },
  "language_info": {
   "codemirror_mode": {
    "name": "ipython",
    "version": 3
   },
   "file_extension": ".py",
   "mimetype": "text/x-python",
   "name": "python",
   "nbconvert_exporter": "python",
   "pygments_lexer": "ipython3",
   "version": "3.7.6"
  },
  "widgets": {
   "application/vnd.jupyter.widget-state+json": {
    "state": {},
    "version_major": 2,
    "version_minor": 0
   }
  }
 },
 "nbformat": 4,
 "nbformat_minor": 4
}

{
 "cells": [
  {
   "cell_type": "code",
   "execution_count": null,
   "id": "3397a6d8-1df2-44ed-aab6-b5313ab6edfc",
   "metadata": {},
   "outputs": [],
   "source": [
    "import numpy as np\n",
    "import pandas as pd\n",
    "import plotly.graph_objects as go"
   ]
  },
  {
   "cell_type": "code",
   "execution_count": null,
   "id": "7e0dfd8c-9f2a-4df8-92f7-70b7b3ad9be1",
   "metadata": {},
   "outputs": [],
   "source": [
    "rng = np.random.default_rng()"
   ]
  },
  {
   "cell_type": "code",
   "execution_count": null,
   "id": "f85663a0-e76f-4fc9-b91c-b722f810cf71",
   "metadata": {},
   "outputs": [],
   "source": [
    "alpha = 50*(2*np.pi)/360\n",
    "z0 = 0.1"
   ]
  },
  {
   "cell_type": "code",
   "execution_count": null,
   "id": "acd58dcb-c326-48b9-b123-763f76016ae5",
   "metadata": {},
   "outputs": [],
   "source": [
    "z = rng.uniform(0, 1, size=(10000,2))"
   ]
  },
  {
   "cell_type": "code",
   "execution_count": null,
   "id": "c1a79947-e0ab-4a99-9e0c-8d5dd8f8b9bc",
   "metadata": {
    "jupyter": {
     "outputs_hidden": true
    },
    "tags": []
   },
   "outputs": [],
   "source": [
    "data = np.array([z0+z*np.cos(alpha), z*np.sin(alpha)])\n",
    "data_df = pd.DataFrame(data=data.T)"
   ]
  },
  {
   "cell_type": "code",
   "execution_count": null,
   "id": "cca1360b-d92d-4bd2-935e-fc3851c7b83e",
   "metadata": {},
   "outputs": [],
   "source": [
    "fig=go.Figure()\n",
    "#fig.add_scatter(x=data[0], y=data[1])\n",
    "fig.add_scatter(x=z[:,0], y=z[:,1], mode=\"markers\")\n",
    "\n",
    "\n",
    "\n",
    "fig.update_layout({\n",
    "    \"xaxis\":{\n",
    "        \"range\":[-0.1,1.1]\n",
    "    },\n",
    "    \"yaxis\":{\n",
    "        \"range\":[-0.1,1.1]\n",
    "    }\n",
    "})"
   ]
  },
  {
   "cell_type": "code",
   "execution_count": null,
   "id": "1f4d8e14-d2a3-4f1c-ad3f-3fbe8a4f410e",
   "metadata": {},
   "outputs": [],
   "source": [
    "f = data_df.divide(data_df.sum(0),1).mean(1)"
   ]
  },
  {
   "cell_type": "code",
   "execution_count": null,
   "id": "bb076650-0c4b-4f5b-9990-ff29baabcdd6",
   "metadata": {},
   "outputs": [],
   "source": [
    "fig=go.Figure()\n",
    "\n",
    "x = np.linspace(1,1+len(f),len(f))\n",
    "\n",
    "fig.add_scatter(x=x, y=np.sort(f)[::-1], name=\"data\")\n",
    "fig.add_scatter(x=x, y=1e-1/x, line={\"dash\":\"dash\"}, name=\"Zipf\")\n",
    "\n",
    "\n",
    "\n",
    "fig.update_layout({\n",
    "    \"xaxis\":{\n",
    "        \"type\":\"log\"\n",
    "    },\n",
    "    \"yaxis\":{\n",
    "        \"type\":\"log\"\n",
    "    }\n",
    "})"
   ]
  },
  {
   "cell_type": "code",
   "execution_count": null,
   "id": "b1d8d330-8b17-44c3-9278-995a9e290d49",
   "metadata": {},
   "outputs": [],
   "source": []
  }
 ],
 "metadata": {
  "kernelspec": {
   "display_name": "Python 3",
   "language": "python",
   "name": "python3"
  },
  "language_info": {
   "codemirror_mode": {
    "name": "ipython",
    "version": 3
   },
   "file_extension": ".py",
   "mimetype": "text/x-python",
   "name": "python",
   "nbconvert_exporter": "python",
   "pygments_lexer": "ipython3",
   "version": "3.8.8"
  }
 },
 "nbformat": 4,
 "nbformat_minor": 5
}

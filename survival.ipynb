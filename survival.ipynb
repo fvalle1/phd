{
 "cells": [
  {
   "cell_type": "markdown",
   "metadata": {},
   "source": [
    "# Survival *lifelines*\n",
    "[https://lifelines.readthedocs.io/](https://lifelines.readthedocs.io/en/latest/Survival%20Regression.html)"
   ]
  },
  {
   "cell_type": "code",
   "execution_count": null,
   "metadata": {},
   "outputs": [],
   "source": [
    "%load_ext watermark\n",
    "%watermark -v -m  -u -n -p pandas,numpy,matplotlib,lifelines -a Filippo_Valle -g -r -b -w"
   ]
  },
  {
   "cell_type": "code",
   "execution_count": null,
   "metadata": {},
   "outputs": [],
   "source": [
    "import matplotlib.pyplot as plt\n",
    "import pandas as pd\n",
    "import numpy as np\n",
    "import os\n",
    "os.chdir(\"/home/jovyan/work/phd/datasets/cancers/breast\")"
   ]
  },
  {
   "cell_type": "code",
   "execution_count": null,
   "metadata": {},
   "outputs": [],
   "source": [
    "#df_files = pd.read_csv(\"files.txt\", sep=\"\\t\").set_index(\"file_name\").dropna(how=\"all\", thresh=5, axis=1)\n",
    "\n",
    "df_files = pd.read_csv(\"files.dat\", sep=\",\",index_col=0).dropna(how=\"all\", thresh=100, axis=1)\n",
    "#df_files = df_files[df_files[\"dataset\"]==\"tcga\"]\n",
    "df_files.info()"
   ]
  },
  {
   "cell_type": "code",
   "execution_count": null,
   "metadata": {},
   "outputs": [],
   "source": [
    "df_files[\"cases.0.diagnoses.0.last_known_disease_status\"].unique()"
   ]
  },
  {
   "cell_type": "code",
   "execution_count": null,
   "metadata": {},
   "outputs": [],
   "source": [
    "bins = np.linspace(0,100,20)\n",
    "avg = df_files[\"cases.0.diagnoses.0.age_at_diagnosis\"].mean(skipna=True)\n",
    "df_files[\"age_at_diagnosis\"]=pd.cut(df_files[\"cases.0.diagnoses.0.age_at_diagnosis\"].fillna(avg)/365., bins=bins, labels = (bins[1:]+bins[:-1])/2).__array__()"
   ]
  },
  {
   "cell_type": "code",
   "execution_count": null,
   "metadata": {},
   "outputs": [],
   "source": [
    "df_files[\"gender\"] = (df_files[\"cases.0.demographic.gender\"]==\"male\").astype(int)"
   ]
  },
  {
   "cell_type": "code",
   "execution_count": null,
   "metadata": {},
   "outputs": [],
   "source": [
    "for letter in [\"a\", \"b\", \"c\"]:\n",
    "    for (old, new) in zip([\"stage %s%s\"%(i,letter) for i in [\"i\", \"ii\", \"iii\", \"iv\"]],[\"stage %s\"%i for i in [\"i\", \"ii\", \"iii\", \"iv\"]]):\n",
    "        df_files.replace(old, new, inplace=True)\n",
    "df_files[\"cases.0.diagnoses.0.tumor_stage\"].unique()"
   ]
  },
  {
   "cell_type": "code",
   "execution_count": null,
   "metadata": {},
   "outputs": [],
   "source": [
    "df_files[\"tumor_stage\"]=df_files[\"cases.0.diagnoses.0.tumor_stage\"]\n",
    "for i,stage in enumerate([\"stage i\", \"stage ii\", \"stage iii\", \"stage iv\", \"stage v\", \"stage x\"]):\n",
    "    df_files[\"tumor_stage\"].replace(stage, i+1, inplace=True)"
   ]
  },
  {
   "cell_type": "code",
   "execution_count": null,
   "metadata": {},
   "outputs": [],
   "source": [
    "#0 = Alive\n",
    "df_files[\"vital_status\"]=(df_files[\"cases.0.demographic.vital_status\"]==\"Dead\").astype(int)"
   ]
  },
  {
   "cell_type": "code",
   "execution_count": null,
   "metadata": {},
   "outputs": [],
   "source": [
    "df_files.groupby([\"vital_status\",\"cases.0.demographic.vital_status\"]).count()"
   ]
  },
  {
   "cell_type": "code",
   "execution_count": null,
   "metadata": {},
   "outputs": [],
   "source": [
    "print(df_files[\"cases.0.diagnoses.0.last_known_disease_status\"].unique())\n",
    "(df_files[\"cases.0.diagnoses.0.age_at_diagnosis\"]/365).hist(bins=5)\n",
    "plt.show()"
   ]
  },
  {
   "cell_type": "code",
   "execution_count": null,
   "metadata": {},
   "outputs": [],
   "source": [
    "(df_files[\"cases.0.diagnoses.0.days_to_last_follow_up\"]/365).hist(bins=5)\n",
    "plt.show()"
   ]
  },
  {
   "cell_type": "code",
   "execution_count": null,
   "metadata": {},
   "outputs": [],
   "source": [
    "(df_files[\"cases.0.demographic.days_to_death\"]/365).hist(bins=5)"
   ]
  },
  {
   "cell_type": "code",
   "execution_count": null,
   "metadata": {},
   "outputs": [],
   "source": [
    "subset[subset[\"cases.0.submitter_id\"].isin(list(filter(lambda s: \"B6-A0WT\" in s, subset[\"cases.0.submitter_id\"].values)))]"
   ]
  },
  {
   "cell_type": "code",
   "execution_count": null,
   "metadata": {},
   "outputs": [],
   "source": [
    "def get_survival(case):\n",
    "    if case[\"cases.0.demographic.vital_status\"] == 1:\n",
    "        return case[\"cases.0.demographic.days_to_death\"]\n",
    "    else:\n",
    "        return case[\"cases.0.diagnoses.0.days_to_last_follow_up\"]\n",
    "\n",
    "df_files[\"days_survival\"] = df_files.apply(get_survival,1)"
   ]
  },
  {
   "cell_type": "code",
   "execution_count": null,
   "metadata": {
    "jupyter": {
     "outputs_hidden": true
    }
   },
   "outputs": [],
   "source": [
    "bins = np.linspace(0,100,10)\n",
    "df_files[\"smoke\"] = pd.cut(df_files[\"cases.0.exposures.0.years_smoked\"], bins=bins, labels = (bins[1:]+bins[:-1])/2 ).__array__()\n",
    "df_files[\"smoke\"].fillna(0, inplace=True)"
   ]
  },
  {
   "cell_type": "code",
   "execution_count": null,
   "metadata": {},
   "outputs": [],
   "source": [
    "(df_files[\"days_survival\"]/365).hist()"
   ]
  },
  {
   "cell_type": "code",
   "execution_count": null,
   "metadata": {},
   "outputs": [],
   "source": [
    "subset = df_files[~df_files[\"days_survival\"].isna()].sample(80)"
   ]
  },
  {
   "cell_type": "code",
   "execution_count": null,
   "metadata": {},
   "outputs": [],
   "source": [
    "from lifelines.plotting import plot_lifetimes\n",
    "\n",
    "CURRENT_TIME = 5\n",
    "\n",
    "actual_lifetimes = subset[\"days_survival\"].to_numpy()/365\n",
    "observed_lifetimes = np.minimum(actual_lifetimes, CURRENT_TIME)\n",
    "death_observed = actual_lifetimes < CURRENT_TIME\n",
    "\n",
    "ax = plot_lifetimes(observed_lifetimes, event_observed=death_observed, figsize=(18,15))\n",
    "\n",
    "ax.set_xlim(0, CURRENT_TIME*1.1)\n",
    "ax.vlines(CURRENT_TIME, 0, 30, lw=2, linestyles='--')\n",
    "ax.set_xlabel(\"time (years)\", fontsize=35)\n",
    "ax.tick_params(labelsize=35)\n",
    "ax.set_title(f\"Births and deaths of our population, at $t={CURRENT_TIME}$\", fontsize=35)\n",
    "plt.tight_layout()\n",
    "#print(\"Observed lifetimes at time %d:\\n\" % (CURRENT_TIME), observed_lifetimes)"
   ]
  },
  {
   "cell_type": "code",
   "execution_count": null,
   "metadata": {},
   "outputs": [],
   "source": [
    "df_topics =pd.read_csv(\"topsbm/topsbm_level_2_topic-dist.csv\", index_col=1).drop(\"i_doc\",1)\n",
    "df_topics = df_topics.subtract(df_topics.mean(0),1)\n",
    "print(df_topics[df_topics.index.isin(pd.read_csv(\"topsbm/topsbm_level_3_clusters.csv\")[\"Cluster 1\"].dropna())].idxmax(1).hist())\n",
    "signature = df_topics[df_topics.index.isin(pd.read_csv(\"topsbm/topsbm_level_3_clusters.csv\")[\"Cluster 1\"].dropna())].mean(0)\n",
    "from scipy.stats import entropy, pearsonr\n",
    "kl_survival = []\n",
    "for sample in df_topics.index:\n",
    "    h = entropy(df_topics.loc[sample,:].values,signature)\n",
    "    #h = np.mean(df_topics.loc[sample,:].values-signature)\n",
    "    ds = df_files.loc[sample,\"days_survival\"]\n",
    "    if (h < np.inf) and (h!=np.nan) and (str(ds) != \"nan\"):\n",
    "        kl_survival.append([h, ds/365])\n",
    "kl_survival[:1]"
   ]
  },
  {
   "cell_type": "code",
   "execution_count": null,
   "metadata": {},
   "outputs": [],
   "source": [
    "for g in pd.read_csv(\"topsbm/topsbm_level_3_topics.csv\", index_col=0)[\"Topic 3\"].dropna():\n",
    "    print(g[:15])"
   ]
  },
  {
   "cell_type": "code",
   "execution_count": null,
   "metadata": {},
   "outputs": [],
   "source": [
    "plt.plot(list(zip(*kl_survival))[0],list(zip(*kl_survival))[1], lw=0, marker=\"o\")\n",
    "plt.title(pearsonr(list(zip(*kl_survival))[0],list(zip(*kl_survival))[1])[0])\n",
    "plt.xlabel(\"Kullbach libler da signature cluster 1\")\n",
    "plt.ylabel(\"years survival\")\n",
    "plt.show()"
   ]
  },
  {
   "cell_type": "code",
   "execution_count": null,
   "metadata": {},
   "outputs": [],
   "source": [
    "algo = \"topsbm\"\n",
    "l = 3\n",
    "pd.read_csv(f\"{algo}/{algo}_level_{l}_clusters.csv\").columns"
   ]
  },
  {
   "cell_type": "code",
   "execution_count": null,
   "metadata": {},
   "outputs": [],
   "source": [
    "from lifelines.plotting import plot_lifetimes\n",
    "\n",
    "for cluster in [\"Cluster %d\"%(c+1) for c in [0,4]]:\n",
    "#for subtype in df_files[\"Subtype_Selected\"].unique():\n",
    "    subset = df_files[(~df_files[\"days_survival\"].isna()) & df_files.index.isin(pd.read_csv(f\"{algo}/{algo}_level_{l}_clusters.csv\")[cluster].dropna())]\n",
    "    #subset = df_files[(~df_files[\"days_survival\"].isna()) & (df_files[\"Subtype_Selected\"]==subtype)]\n",
    "    \n",
    "    if len(subset) > 500:\n",
    "        subset = subset.sample(100)\n",
    "    \n",
    "    CURRENT_TIME = 3\n",
    "\n",
    "    actual_lifetimes = subset[\"days_survival\"].to_numpy()/365\n",
    "    observed_lifetimes = np.minimum(actual_lifetimes, CURRENT_TIME)\n",
    "    death_observed = actual_lifetimes < CURRENT_TIME\n",
    "    survival = 1 - death_observed.sum()/len(actual_lifetimes)\n",
    "\n",
    "    ax = plot_lifetimes(observed_lifetimes, event_observed=death_observed, figsize=(18,15))\n",
    "\n",
    "    survivals = []\n",
    "    for stat in range(1000):\n",
    "        subset = df_files[(~df_files[\"days_survival\"].isna())].sample(len(pd.read_csv(f\"{algo}/{algo}_level_{l}_clusters.csv\")[cluster].dropna()))\n",
    "        actual_lifetimes = subset[\"days_survival\"].to_numpy()/365\n",
    "        observed_lifetimes = np.minimum(actual_lifetimes, CURRENT_TIME)\n",
    "        death_observed = actual_lifetimes < CURRENT_TIME\n",
    "        survivals.append(1 - death_observed.sum()/len(actual_lifetimes))\n",
    "    \n",
    "    Z = np.abs(survival-np.average(survivals))/np.std(survivals)\n",
    "    print(survival, np.average(survivals), np.std(survivals))\n",
    "    \n",
    "    ax.get_figure().set_size_inches(12,10)\n",
    "    ax.set_xlim(0, CURRENT_TIME*1.1)\n",
    "    ax.set_ylabel(\"patients\", fontsize=35)\n",
    "    ax.vlines(CURRENT_TIME, 0, len(subset), lw=10, linestyles='--')\n",
    "    ax.set_xlabel(\"time (years)\", fontsize=35)\n",
    "    ax.tick_params(labelsize=25)\n",
    "    ax.set_title(f\"{cluster} population at $t={CURRENT_TIME}$,\\n survival {survival.round(2)} (Z={round(Z,2)})\", fontsize=15)\n",
    "    plt.tight_layout()\n",
    "    ax.get_figure().savefig(f\"survival_{algo}_{cluster}_t{CURRENT_TIME}.pdf\")\n",
    "    plt.show()\n",
    "#print(\"Observed lifetimes at time %d:\\n\" % (CURRENT_TIME), observed_lifetimes)"
   ]
  },
  {
   "cell_type": "code",
   "execution_count": null,
   "metadata": {},
   "outputs": [],
   "source": [
    "subset = df_files[~df_files[\"days_survival\"].isna()]\n",
    "data = {}\n",
    "data[\"duration\"]=subset[\"days_survival\"]/365\n",
    "data[\"observed\"]=subset[\"vital_status\"]\n",
    "data[\"entry\"]=subset[\"cases.0.demographic.days_to_birth\"]/365"
   ]
  },
  {
   "cell_type": "code",
   "execution_count": null,
   "metadata": {},
   "outputs": [],
   "source": [
    "from lifelines import KaplanMeierFitter\n",
    "kmf = KaplanMeierFitter()"
   ]
  },
  {
   "cell_type": "code",
   "execution_count": null,
   "metadata": {},
   "outputs": [],
   "source": [
    "df_files[\"vital_status\"].sum()"
   ]
  },
  {
   "cell_type": "code",
   "execution_count": null,
   "metadata": {},
   "outputs": [],
   "source": [
    "T = data[\"duration\"]\n",
    "E = data[\"observed\"]\n",
    "entry = data[\"entry\"]"
   ]
  },
  {
   "cell_type": "code",
   "execution_count": null,
   "metadata": {},
   "outputs": [],
   "source": [
    "kmf.fit(T, event_observed=E)\n",
    "ax = kmf.plot(figsize=(18,15),show_censors=True)\n",
    "\n",
    "ax.set_title('Survival function of Breast', fontsize=35)\n",
    "ax.set_xlabel(\"time (years)\", fontsize=35)\n",
    "ax.set_ylabel(\"Survival(t)\", fontsize=35)\n",
    "ax.tick_params(labelsize=30)\n",
    "ax.set_xlim(0,25)\n",
    "ax.set_ylim(0,1)"
   ]
  },
  {
   "cell_type": "code",
   "execution_count": null,
   "metadata": {},
   "outputs": [],
   "source": [
    "from lifelines.utils import median_survival_times\n",
    "median_ci = median_survival_times(kmf.confidence_interval_)\n",
    "print(kmf.median_survival_time_, \"+-\", median_ci)"
   ]
  },
  {
   "cell_type": "code",
   "execution_count": null,
   "metadata": {},
   "outputs": [],
   "source": [
    "ax = plt.subplot(111)\n",
    "\n",
    "mask = (subset[\"cases.0.demographic.gender\"]==\"male\")\n",
    "\n",
    "kmf.fit(T[mask], event_observed=E[mask], label=\"male\")\n",
    "kmf.plot(ax=ax)\n",
    "\n",
    "kmf.fit(T[~mask], event_observed=E[~mask], label=\"female\")\n",
    "kmf.plot(ax=ax)\n",
    "\n",
    "plt.ylim(0, 1)\n",
    "plt.xlim(0,15)\n",
    "plt.title(\"Survival of different cancer types\")"
   ]
  },
  {
   "cell_type": "code",
   "execution_count": null,
   "metadata": {},
   "outputs": [],
   "source": [
    "(df_files[(df_files[\"Subtype_Selected\"]==\"BRCA.Basal\") & df_files[\"vital_status\"]==1][\"days_survival\"]/365).hist()"
   ]
  },
  {
   "cell_type": "code",
   "execution_count": null,
   "metadata": {},
   "outputs": [],
   "source": [
    "for c in df_files[df_files[\"Subtype_Selected\"]==\"BRCA.LumB\"][\"cases.0.submitter_id\"].values:\n",
    "    print(c,\",\")"
   ]
  },
  {
   "cell_type": "code",
   "execution_count": null,
   "metadata": {},
   "outputs": [],
   "source": [
    "key = 'Subtype_Selected_num'\n",
    "titles, subset[key]=np.unique(subset[\"Subtype_Selected\"].fillna(\"unknown\"), return_inverse=True)\n",
    "labels = subset[key].unique()\n",
    "\n",
    "fig, axs = plt.subplots(3, 3, figsize=(18,15))\n",
    "titles = [\"Cluster %d\"%(c+1) for c in range(8)]\n",
    "#for i, label in enumerate(np.sort(labels)):\n",
    "for i,cluster in enumerate([\"Cluster %d\"%(c+1) for c in range(8)]):\n",
    " \n",
    "    ax = axs.ravel()[i]\n",
    "    \n",
    "    #ix = subset[key] == label\n",
    "    label = cluster\n",
    "    ix =  subset.index.isin(pd.read_csv(\"topsbm/topsbm_level_3_clusters.csv\")[cluster].dropna())\n",
    "    \n",
    "    kmf.fit(T[ix], E[ix], label=label)\n",
    "    kmf.plot(ax=ax, legend=False)\n",
    "    \n",
    "\n",
    "    ax.set_title(titles[i]+f\"({ix.sum()})\")\n",
    "    ax.set_xlim(0, 25)\n",
    "    ax.set_ylim(0.8,1)\n",
    "    \n",
    "    if i==0:\n",
    "        plt.ylabel('Frac. alive after $n$ days')\n",
    "\n",
    "plt.tight_layout()"
   ]
  },
  {
   "cell_type": "code",
   "execution_count": null,
   "metadata": {},
   "outputs": [],
   "source": [
    "import importlib, survival\n",
    "importlib.reload(survival)\n",
    "from survival import fit_cox, add_group_to_subset, save_plot"
   ]
  },
  {
   "cell_type": "code",
   "execution_count": null,
   "metadata": {},
   "outputs": [],
   "source": [
    "df_clusters = pd.read_csv(\"topsbm/topsbm_level_1_topic-dist.csv\",index_col=1).drop(\"i_doc\",1)\n",
    "#df_clusters = pd.read_csv(\"lda/lda_level_2_topic-dist.csv\",index_col=1).drop(\"i_doc\",1)\n",
    "\n",
    "#df_clusters = pd.read_csv(\"topsbm/topsbm_level_1_topic-dist.csv\",index_col=1).drop(\"i_doc\",1)\n",
    "#df_clusters = df_clusters[df_clusters.index.isin(filter(lambda doc: \"GTEX\" not in doc,df_clusters.index))]"
   ]
  },
  {
   "cell_type": "code",
   "execution_count": null,
   "metadata": {},
   "outputs": [],
   "source": [
    "df_files.head(2)"
   ]
  },
  {
   "cell_type": "code",
   "execution_count": null,
   "metadata": {
    "jupyter": {
     "outputs_hidden": true
    }
   },
   "outputs": [],
   "source": [
    "for dataset in [\"TCGA-LUAD\", \"TCGA-LUSC\"]:\n",
    "    mask = (~df_files[\"days_survival\"].isna()) & (df_files[\"cases.0.diagnoses.0.tumor_stage\"]!=\"not reported\") & (df_files[\"cases.0.project.project_id\"]==dataset)\n",
    "    subset = df_files[mask]\n",
    "    subset = subset[[\"days_survival\",\"vital_status\",\"gender\", \"tumor_stage\", \"age_at_diagnosis\"]]\n",
    "    for topic in df_clusters.columns:\n",
    "        top_set = add_group_to_subset(topic, subset, df_clusters, 0.5)\n",
    "        print(top_set[\"group\"].sum())\n",
    "        summary, _, ax = fit_cox(top_set, topic)\n",
    "        if summary is not None:\n",
    "            if summary.at[summary.index[-1],\"-log2(p)\"] > 3:\n",
    "                print(dataset,\": \",topic,\"\\n\",summary.loc[summary.index[-1],[\"coef\", \"p\"]],\"\\n\")\n",
    "        if ax is not None:\n",
    "            ax.set_title(dataset+\" \"+ax.title.get_text(), fontsize=35)\n",
    "            save_plot(ax, dataset, topic)"
   ]
  },
  {
   "cell_type": "code",
   "execution_count": null,
   "metadata": {},
   "outputs": [],
   "source": [
    "mask = (~df_files[\"days_survival\"].isna()) & (df_files[\"cases.0.diagnoses.0.tumor_stage\"]!=\"not reported\")\n",
    "subset = df_files[mask]\n",
    "subset = subset[[\"days_survival\",\"vital_status\",\"gender\", \"tumor_stage\", \"age_at_diagnosis\"]]\n",
    "for topic in df_clusters.columns:\n",
    "    top_set = add_group_to_subset(topic, subset, df_clusters, 0.5)\n",
    "    print(topic, top_set[\"group\"].sum())\n",
    "    summary, _, ax = fit_cox(top_set, topic)\n",
    "    if summary is not None:\n",
    "        if summary.at[summary.index[-1],\"-log2(p)\"] > 3:\n",
    "            print(topic,\"\\n\",summary.loc[summary.index[-1],[\"coef\", \"p\"]],\"\\n\")\n",
    "    if ax is not None:\n",
    "        ax.set_title(ax.title.get_text(), fontsize=35)\n",
    "        save_plot(ax, \"all\", topic)"
   ]
  },
  {
   "cell_type": "code",
   "execution_count": null,
   "metadata": {},
   "outputs": [],
   "source": [
    "summary, _, ax = fit_cox(top_set, \"Topic 3\")\n",
    "print(summary[[\"coef\", \"exp(coef)\", \"p\", \"-log2(p)\", \"corrected_p\", \"-log2(corrected_p)\"]])\n",
    "save_plot(ax, \"all\", \"Topic 3\")"
   ]
  },
  {
   "cell_type": "code",
   "execution_count": null,
   "metadata": {},
   "outputs": [],
   "source": [
    "for g in pd.read_csv(\"datasets/cancers/lung/lda/lda_level_2_topics.csv\",index_col=1)[\"Topic 18\"].values:\n",
    "    print(g[:15])"
   ]
  },
  {
   "cell_type": "code",
   "execution_count": null,
   "metadata": {},
   "outputs": [],
   "source": [
    "(pd.read_csv(\"datasets/cancers/lung/topsbm/topsbm_level_1_topics.csv\",index_col=1)==\"ENSG00000121552\").any()"
   ]
  },
  {
   "cell_type": "code",
   "execution_count": null,
   "metadata": {},
   "outputs": [],
   "source": []
  }
 ],
 "metadata": {
  "kernelspec": {
   "display_name": "Python 3",
   "language": "python",
   "name": "python3"
  },
  "language_info": {
   "codemirror_mode": {
    "name": "ipython",
    "version": 3
   },
   "file_extension": ".py",
   "mimetype": "text/x-python",
   "name": "python",
   "nbconvert_exporter": "python",
   "pygments_lexer": "ipython3",
   "version": "3.8.5"
  },
  "widgets": {
   "application/vnd.jupyter.widget-state+json": {
    "state": {},
    "version_major": 2,
    "version_minor": 0
   }
  }
 },
 "nbformat": 4,
 "nbformat_minor": 4
}

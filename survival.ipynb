{
 "cells": [
  {
   "cell_type": "markdown",
   "metadata": {},
   "source": [
    "# Survival *lifelines*\n",
    "[https://lifelines.readthedocs.io/](https://lifelines.readthedocs.io/en/latest/Survival%20Regression.html)"
   ]
  },
  {
   "cell_type": "code",
   "execution_count": null,
   "metadata": {},
   "outputs": [],
   "source": [
    "import matplotlib.pyplot as plt\n",
    "import pandas as pd\n",
    "import numpy as np\n",
    "import os\n",
    "os.chdir(\"/home/jovyan/work/phd/datasets/cancers/lung\")"
   ]
  },
  {
   "cell_type": "code",
   "execution_count": null,
   "metadata": {},
   "outputs": [],
   "source": [
    "df_files = pd.read_csv(\"files.txt\", sep=\"\\t\").set_index(\"file_name\").dropna(how=\"all\", thresh=5, axis=1)\n",
    "\n",
    "#df_files = pd.read_csv(\"files.dat\", sep=\",\",index_col=0).dropna(how=\"all\", thresh=100, axis=1)\n",
    "#df_files = df_files[df_files[\"dataset\"]==\"tcga\"]\n",
    "df_files.info()"
   ]
  },
  {
   "cell_type": "code",
   "execution_count": null,
   "metadata": {},
   "outputs": [],
   "source": [
    "df_files[\"cases.0.diagnoses.0.last_known_disease_status\"].unique()"
   ]
  },
  {
   "cell_type": "code",
   "execution_count": null,
   "metadata": {},
   "outputs": [],
   "source": [
    "bins = np.linspace(0,100,20)\n",
    "avg = df_files[\"cases.0.diagnoses.0.age_at_diagnosis\"].mean(skipna=True)\n",
    "df_files[\"age_at_diagnosis\"]=pd.cut(df_files[\"cases.0.diagnoses.0.age_at_diagnosis\"].fillna(avg)/365., bins=bins, labels = (bins[1:]+bins[:-1])/2).__array__()"
   ]
  },
  {
   "cell_type": "code",
   "execution_count": null,
   "metadata": {},
   "outputs": [],
   "source": [
    "df_files[\"gender\"] = (df_files[\"cases.0.demographic.gender\"]==\"male\").astype(int)"
   ]
  },
  {
   "cell_type": "code",
   "execution_count": null,
   "metadata": {},
   "outputs": [],
   "source": [
    "for letter in [\"a\", \"b\"]:\n",
    "    for (old, new) in zip([\"stage %s%s\"%(i,letter) for i in [\"i\", \"ii\", \"iii\", \"iv\"]],[\"stage %s\"%i for i in [\"i\", \"ii\", \"iii\", \"iv\"]]):\n",
    "        df_files.replace(old, new, inplace=True)\n",
    "df_files[\"cases.0.diagnoses.0.tumor_stage\"].unique()"
   ]
  },
  {
   "cell_type": "code",
   "execution_count": null,
   "metadata": {},
   "outputs": [],
   "source": [
    "df_files[\"tumor_stage\"]=df_files[\"cases.0.diagnoses.0.tumor_stage\"]\n",
    "for i,stage in enumerate([\"stage i\", \"stage ii\", \"stage iii\", \"stage iv\", \"stage v\"]):\n",
    "    df_files[\"tumor_stage\"].replace(stage, i+1, inplace=True)"
   ]
  },
  {
   "cell_type": "code",
   "execution_count": null,
   "metadata": {},
   "outputs": [],
   "source": [
    "#1 = Alive\n",
    "df_files[\"vital_status\"]=(df_files[\"cases.0.demographic.vital_status\"]==\"Dead\").astype(int)"
   ]
  },
  {
   "cell_type": "code",
   "execution_count": null,
   "metadata": {},
   "outputs": [],
   "source": [
    "print(df_files[\"cases.0.diagnoses.0.last_known_disease_status\"].unique())\n",
    "(df_files[\"cases.0.diagnoses.0.age_at_diagnosis\"]/365).hist()"
   ]
  },
  {
   "cell_type": "code",
   "execution_count": null,
   "metadata": {},
   "outputs": [],
   "source": [
    "def get_survival(case):\n",
    "    if case[\"cases.0.demographic.vital_status\"] == 1:\n",
    "        return case[\"cases.0.demographic.days_to_death\"]\n",
    "    else:\n",
    "        return case[\"cases.0.diagnoses.0.days_to_last_follow_up\"]\n",
    "\n",
    "df_files[\"days_survival\"] = df_files.apply(get_survival,1)"
   ]
  },
  {
   "cell_type": "code",
   "execution_count": null,
   "metadata": {},
   "outputs": [],
   "source": [
    "bins = np.linspace(0,100,10)\n",
    "df_files[\"smoke\"] = pd.cut(df_files[\"cases.0.exposures.0.years_smoked\"], bins=bins, labels = (bins[1:]+bins[:-1])/2 ).__array__()\n",
    "df_files[\"smoke\"].fillna(0, inplace=True)"
   ]
  },
  {
   "cell_type": "code",
   "execution_count": null,
   "metadata": {},
   "outputs": [],
   "source": [
    "(df_files[\"days_survival\"]/365).hist()"
   ]
  },
  {
   "cell_type": "code",
   "execution_count": null,
   "metadata": {},
   "outputs": [],
   "source": [
    "subset = df_files[~df_files[\"days_survival\"].isna()].sample(80)"
   ]
  },
  {
   "cell_type": "code",
   "execution_count": null,
   "metadata": {},
   "outputs": [],
   "source": [
    "from lifelines.plotting import plot_lifetimes\n",
    "\n",
    "CURRENT_TIME = 5\n",
    "\n",
    "actual_lifetimes = subset[\"days_survival\"].to_numpy()/365\n",
    "observed_lifetimes = np.minimum(actual_lifetimes, CURRENT_TIME)\n",
    "death_observed = actual_lifetimes < CURRENT_TIME\n",
    "\n",
    "ax = plot_lifetimes(observed_lifetimes, event_observed=death_observed, figsize=(18,15))\n",
    "\n",
    "ax.set_xlim(0, CURRENT_TIME*1.1)\n",
    "ax.vlines(CURRENT_TIME, 0, 30, lw=2, linestyles='--')\n",
    "ax.set_xlabel(\"time (years)\", fontsize=35)\n",
    "ax.tick_params(labelsize=35)\n",
    "ax.set_title(\"Births and deaths of our population, at $t=70$\", fontsize=35)\n",
    "plt.tight_layout()\n",
    "#print(\"Observed lifetimes at time %d:\\n\" % (CURRENT_TIME), observed_lifetimes)"
   ]
  },
  {
   "cell_type": "code",
   "execution_count": null,
   "metadata": {},
   "outputs": [],
   "source": [
    "subset = df_files[~df_files[\"days_survival\"].isna()]\n",
    "data = {}\n",
    "data[\"duration\"]=subset[\"days_survival\"]/365\n",
    "data[\"observed\"]=subset[\"vital_status\"]\n",
    "data[\"entry\"]=subset[\"cases.0.demographic.days_to_birth\"]/365"
   ]
  },
  {
   "cell_type": "code",
   "execution_count": null,
   "metadata": {},
   "outputs": [],
   "source": [
    "from lifelines import KaplanMeierFitter\n",
    "kmf = KaplanMeierFitter()"
   ]
  },
  {
   "cell_type": "code",
   "execution_count": null,
   "metadata": {},
   "outputs": [],
   "source": [
    "df_files[\"vital_status\"].sum()"
   ]
  },
  {
   "cell_type": "code",
   "execution_count": null,
   "metadata": {},
   "outputs": [],
   "source": [
    "T = data[\"duration\"]\n",
    "E = data[\"observed\"]\n",
    "entry = data[\"entry\"]"
   ]
  },
  {
   "cell_type": "code",
   "execution_count": null,
   "metadata": {},
   "outputs": [],
   "source": [
    "kmf.fit(T, event_observed=E)\n",
    "ax = kmf.plot()\n",
    "\n",
    "ax.set_title('Survival function of Lung', fontsize=35)\n",
    "ax.set_xlabel(\"time (years)\", fontsize=35)\n",
    "ax.set_ylabel(\"Survival(t)\", fontsize=35)\n",
    "ax.tick_params(labelsize=30)\n",
    "ax.set_xlim(0,15)"
   ]
  },
  {
   "cell_type": "code",
   "execution_count": null,
   "metadata": {},
   "outputs": [],
   "source": [
    "from lifelines.utils import median_survival_times\n",
    "median_ci = median_survival_times(kmf.confidence_interval_)\n",
    "print(kmf.median_survival_time_, \"+-\", median_ci)"
   ]
  },
  {
   "cell_type": "code",
   "execution_count": null,
   "metadata": {},
   "outputs": [],
   "source": [
    "ax = plt.subplot(111)\n",
    "\n",
    "mask = (subset[\"cases.0.demographic.gender\"]==\"male\")\n",
    "\n",
    "kmf.fit(T[mask], event_observed=E[mask], label=\"male\")\n",
    "kmf.plot(ax=ax)\n",
    "\n",
    "kmf.fit(T[~mask], event_observed=E[~mask], label=\"female\")\n",
    "kmf.plot(ax=ax)\n",
    "\n",
    "plt.ylim(0, 1)\n",
    "plt.xlim(0,15)\n",
    "plt.title(\"Survival of different cancer types\")"
   ]
  },
  {
   "cell_type": "code",
   "execution_count": null,
   "metadata": {},
   "outputs": [],
   "source": [
    "key = 'cases.0.demographic.gender'\n",
    "labels = subset[key].unique()\n",
    "\n",
    "for i, label in enumerate(np.sort(labels)):\n",
    "    ax = plt.subplot(3, 3, i + 1)\n",
    "\n",
    "    ix = subset[key] == label\n",
    "    kmf.fit(T[ix], E[ix], label=label)\n",
    "    kmf.plot(ax=ax, legend=False)\n",
    "\n",
    "    plt.title(label)\n",
    "    plt.xlim(0, 15)\n",
    "\n",
    "    if i==0:\n",
    "        plt.ylabel('Frac. alive after $n$ days')\n",
    "\n",
    "plt.tight_layout()"
   ]
  },
  {
   "cell_type": "code",
   "execution_count": null,
   "metadata": {},
   "outputs": [],
   "source": [
    "import importlib, survival\n",
    "importlib.reload(survival)\n",
    "from survival import fit_cox, add_group_to_subset, save_plot"
   ]
  },
  {
   "cell_type": "code",
   "execution_count": null,
   "metadata": {},
   "outputs": [],
   "source": [
    "df_clusters = pd.read_csv(\"topsbm/topsbm_level_1_topic-dist.csv\",index_col=1).drop(\"i_doc\",1)\n",
    "df_clusters = pd.read_csv(\"lda/lda_level_2_topic-dist.csv\",index_col=1).drop(\"i_doc\",1)\n",
    "\n",
    "#df_clusters = pd.read_csv(\"topsbm/topsbm_level_1_topic-dist.csv\",index_col=1).drop(\"i_doc\",1)\n",
    "#df_clusters = df_clusters[df_clusters.index.isin(filter(lambda doc: \"GTEX\" not in doc,df_clusters.index))]"
   ]
  },
  {
   "cell_type": "code",
   "execution_count": null,
   "metadata": {},
   "outputs": [],
   "source": [
    "df_files.head(2)"
   ]
  },
  {
   "cell_type": "code",
   "execution_count": null,
   "metadata": {},
   "outputs": [],
   "source": [
    "for dataset in [\"TCGA-LUAD\", \"TCGA-LUSC\"]:\n",
    "    mask = (~df_files[\"days_survival\"].isna()) & (df_files[\"cases.0.diagnoses.0.tumor_stage\"]!=\"not reported\") & (df_files[\"cases.0.project.project_id\"]==dataset)\n",
    "    subset = df_files[mask]\n",
    "    subset = subset[[\"days_survival\",\"vital_status\",\"gender\", \"tumor_stage\", \"age_at_diagnosis\"]]\n",
    "    for topic in df_clusters.columns:\n",
    "        top_set = add_group_to_subset(topic, subset, df_clusters, 0.5)\n",
    "        print(top_set[\"group\"].sum())\n",
    "        summary, _, ax = fit_cox(top_set, topic)\n",
    "        if summary is not None:\n",
    "            if summary.at[summary.index[-1],\"-log2(p)\"] > 3:\n",
    "                print(dataset,\": \",topic,\"\\n\",summary.loc[summary.index[-1],[\"coef\", \"p\"]],\"\\n\")\n",
    "        if ax is not None:\n",
    "            ax.set_title(dataset+\" \"+ax.title.get_text(), fontsize=35)\n",
    "            save_plot(ax, dataset, topic)"
   ]
  },
  {
   "cell_type": "code",
   "execution_count": null,
   "metadata": {},
   "outputs": [],
   "source": [
    "summary, _, ax = fit_cox(top_set, \"Topic 3\")\n",
    "print(summary[[\"coef\", \"exp(coef)\", \"p\", \"-log2(p)\", \"corrected_p\", \"-log2(corrected_p)\"]])\n",
    "save_plot(ax, \"all\", \"Topic 3\")"
   ]
  },
  {
   "cell_type": "code",
   "execution_count": null,
   "metadata": {},
   "outputs": [],
   "source": [
    "for g in pd.read_csv(\"datasets/cancers/lung/lda/lda_level_2_topics.csv\",index_col=1)[\"Topic 18\"].values:\n",
    "    print(g[:15])"
   ]
  },
  {
   "cell_type": "code",
   "execution_count": null,
   "metadata": {},
   "outputs": [],
   "source": [
    "(pd.read_csv(\"datasets/cancers/lung/topsbm/topsbm_level_1_topics.csv\",index_col=1)==\"ENSG00000121552\").any()"
   ]
  },
  {
   "cell_type": "code",
   "execution_count": null,
   "metadata": {},
   "outputs": [],
   "source": []
  }
 ],
 "metadata": {
  "kernelspec": {
   "display_name": "Python 3",
   "language": "python",
   "name": "python3"
  },
  "language_info": {
   "codemirror_mode": {
    "name": "ipython",
    "version": 3
   },
   "file_extension": ".py",
   "mimetype": "text/x-python",
   "name": "python",
   "nbconvert_exporter": "python",
   "pygments_lexer": "ipython3",
   "version": "3.7.6"
  },
  "widgets": {
   "application/vnd.jupyter.widget-state+json": {
    "state": {},
    "version_major": 2,
    "version_minor": 0
   }
  }
 },
 "nbformat": 4,
 "nbformat_minor": 4
}

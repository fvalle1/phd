{
 "cells": [
  {
   "cell_type": "code",
   "execution_count": null,
   "metadata": {},
   "outputs": [],
   "source": [
    "%load_ext autoreload\n",
    "%autoreload 2\n",
    "import matplotlib.pyplot as plt\n",
    "from matplotlib import cm\n",
    "from mpl_toolkits.mplot3d import Axes3D\n",
    "from sklearn.datasets import make_blobs, make_circles\n",
    "from sklearn.metrics import silhouette_score, silhouette_samples\n",
    "from sklearn.cluster import KMeans, AgglomerativeClustering\n",
    "import numpy as np\n",
    "from silhouette import make_figure, make_silhouette"
   ]
  },
  {
   "cell_type": "code",
   "execution_count": null,
   "metadata": {},
   "outputs": [],
   "source": [
    "n_clusters = 5\n",
    "data, cluster_labels = make_blobs(n_samples=500, n_features=2000, centers=n_clusters, center_box=(-10.0, 10.0), cluster_std=[1,1,4,1,1], random_state=42)\n",
    "data = data + np.abs(np.min(data))"
   ]
  },
  {
   "cell_type": "code",
   "execution_count": null,
   "metadata": {},
   "outputs": [],
   "source": [
    "make_figure(data, cluster_labels)"
   ]
  },
  {
   "cell_type": "code",
   "execution_count": null,
   "metadata": {},
   "outputs": [],
   "source": [
    "metrics = ['euclidean', 'correlation', 'cosine']"
   ]
  },
  {
   "cell_type": "markdown",
   "metadata": {},
   "source": [
    "# Null model from data"
   ]
  },
  {
   "cell_type": "code",
   "execution_count": null,
   "metadata": {},
   "outputs": [],
   "source": [
    "import pandas as pd\n",
    "import cloudpickle as pickle"
   ]
  },
  {
   "cell_type": "code",
   "execution_count": null,
   "metadata": {},
   "outputs": [],
   "source": [
    "df = pd.read_csv(\"../topics/datasets/gtex10/mainTable.csv\", index_col=0)\n",
    "df_files = pd.read_csv(\"../topics/datasets/gtex10/files.dat\").set_index(\"SAMPID\")"
   ]
  },
  {
   "cell_type": "code",
   "execution_count": null,
   "metadata": {},
   "outputs": [],
   "source": [
    "df_tissue_gb = df.transpose().applymap(lambda tpm: np.log2(tpm+1)).join(df_files.loc[:,\"SMTS\"]).groupby(\"SMTS\")\n",
    "means = df_tissue_gb.median().values\n",
    "stds = df_tissue_gb.std().values"
   ]
  },
  {
   "cell_type": "code",
   "execution_count": null,
   "metadata": {},
   "outputs": [],
   "source": [
    "n_clusters = means.shape[0]\n",
    "data, cluster_labels = make_blobs(n_samples=df.shape[1], n_features=means.shape[1], centers=means, cluster_std=stds, random_state=42)"
   ]
  },
  {
   "cell_type": "code",
   "execution_count": null,
   "metadata": {},
   "outputs": [],
   "source": [
    "assert(data.T.shape==df.shape)"
   ]
  },
  {
   "cell_type": "code",
   "execution_count": null,
   "metadata": {},
   "outputs": [],
   "source": [
    "with open(\"figs_log.pkl\", \"rb\") as file:\n",
    "    figs = pickle.load(file)"
   ]
  },
  {
   "cell_type": "code",
   "execution_count": null,
   "metadata": {},
   "outputs": [],
   "source": [
    "def orange_color():\n",
    "    while True:\n",
    "        yield \"orange\"\n",
    "        \n",
    "orange_iterator = orange_color()"
   ]
  },
  {
   "cell_type": "code",
   "execution_count": null,
   "metadata": {},
   "outputs": [],
   "source": [
    "make_silhouette(data,\n",
    "                \"SMTS+log\", \n",
    "                df_tissue_gb.count().index, \n",
    "                cluster_labels, \n",
    "                cluster_labels.max()+1, \n",
    "                metrics = [\"euclidean\", \"cosine\", \"correlation\"],\n",
    "                color_iterator=orange_iterator, \n",
    "                figs=figs\n",
    "               )"
   ]
  },
  {
   "cell_type": "code",
   "execution_count": null,
   "metadata": {},
   "outputs": [],
   "source": [
    "figs[0]"
   ]
  },
  {
   "cell_type": "markdown",
   "metadata": {},
   "source": [
    "## Distributions"
   ]
  },
  {
   "cell_type": "code",
   "execution_count": null,
   "metadata": {},
   "outputs": [],
   "source": [
    "from sklearn.metrics.cluster import silhouette_samples\n",
    "from scipy.stats import entropy\n",
    "import plotly.graph_objects as go\n",
    "from topicpy.hsbmpy import color_iterator\n",
    "epsilon = 1e-100"
   ]
  },
  {
   "cell_type": "code",
   "execution_count": null,
   "metadata": {},
   "outputs": [],
   "source": [
    "sample_scores = silhouette_samples(df_mnist.values, y_train)\n",
    "#sample_scores = silhouette_samples(df.transpose().applymap(lambda fpkm: np.log2(fpkm+1)).values, df_files.reindex(index=df.columns)[\"SMTS\"])\n",
    "sample_scores_null = silhouette_samples(data, cluster_labels)"
   ]
  },
  {
   "cell_type": "code",
   "execution_count": null,
   "metadata": {},
   "outputs": [],
   "source": [
    "fig = go.Figure()\n",
    "\n",
    "fig.add_traces(\n",
    "    [go.Histogram(x=sample_scores, marker_color=\"gray\", nbinsx=10, name=\"data\"),\n",
    "    go.Histogram(x=sample_scores_null, marker_color=next(orange_iterator), nbinsx=10, name=\"null\")]\n",
    ")\n",
    "\n",
    "titlefont = {\n",
    "            \"size\":25\n",
    "        }\n",
    "\n",
    "dist_entropy = str(round(entropy(epsilon+np.histogram(sample_scores, bins=np.linspace(-1,1), density=True)[0],epsilon+np.histogram(sample_scores_null, bins=np.linspace(-1,1), density=True)[0]),1))\n",
    "scores_entropy = str(round(sum(abs(sample_scores_null - sample_scores)) / len(sample_scores), 4))\n",
    "\n",
    "layout = {\n",
    "    \"title\": f\"mnist <br> KL:{dist_entropy}  avg_diff:{scores_entropy}\",\n",
    "    \"xaxis\":{\n",
    "        \"title\":\"silhouette\",\n",
    "        \"titlefont\":titlefont,\n",
    "        \"tickfont_size\":25\n",
    "    },\n",
    "    \"yaxis\":{\n",
    "        \"title\":\"pdf\",\n",
    "        \"titlefont\":titlefont,\n",
    "        \"tickfont_size\":25\n",
    "    },\n",
    "    \"legend\":{\n",
    "        \"font\":titlefont\n",
    "    }\n",
    "}\n",
    "\n",
    "fig.update_layout(layout)\n",
    "#fig.write_image(\"mnist_distributions.pdf\")\n",
    "fig.show()"
   ]
  },
  {
   "cell_type": "markdown",
   "metadata": {},
   "source": [
    "# Tailing space"
   ]
  },
  {
   "cell_type": "code",
   "execution_count": null,
   "metadata": {},
   "outputs": [],
   "source": [
    "maxs = df_tissue_gb.max().max(0).values\n",
    "mins = df_tissue_gb.min().min(0).values"
   ]
  },
  {
   "cell_type": "code",
   "execution_count": null,
   "metadata": {},
   "outputs": [],
   "source": [
    "[np.random.uniform(m, M) for m,M in zip(mins, maxs)]"
   ]
  },
  {
   "cell_type": "code",
   "execution_count": null,
   "metadata": {},
   "outputs": [],
   "source": [
    "from sklearn.neighbors import KNeighborsClassifier\n",
    "import multiprocessing as mp"
   ]
  },
  {
   "cell_type": "code",
   "execution_count": null,
   "metadata": {},
   "outputs": [],
   "source": [
    "knn = KNeighborsClassifier(n_neighbors = 3)\n",
    "knn.fit(df.transpose().applymap(lambda fpkm: np.log2(fpkm+1)).values, np.unique(df_files.reindex(index=df.columns)[\"SMTS\"], return_inverse=True)[1])"
   ]
  },
  {
   "cell_type": "code",
   "execution_count": null,
   "metadata": {},
   "outputs": [],
   "source": [
    "data = [[np.random.uniform(m*0.9, M*1.1) for m,M in zip(mins, maxs)] for _ in range(df.shape[1])]"
   ]
  },
  {
   "cell_type": "code",
   "execution_count": null,
   "metadata": {},
   "outputs": [],
   "source": [
    "cluster_labels = knn.predict(data)"
   ]
  },
  {
   "cell_type": "code",
   "execution_count": null,
   "metadata": {},
   "outputs": [],
   "source": [
    "np.unique(cluster_labels)"
   ]
  },
  {
   "cell_type": "code",
   "execution_count": null,
   "metadata": {},
   "outputs": [],
   "source": [
    "np.array(data).shape"
   ]
  },
  {
   "cell_type": "code",
   "execution_count": null,
   "metadata": {},
   "outputs": [],
   "source": [
    "make_silhouette(np.array(data),\n",
    "                \"SMTS+tail+log\", \n",
    "                df_tissue_gb.count().index, \n",
    "                cluster_labels, \n",
    "                cluster_labels.max()+1, \n",
    "                metrics = [\"euclidean\", \"cosine\", \"correlation\"],\n",
    "                color_iterator=orange_itarator, \n",
    "               )"
   ]
  },
  {
   "cell_type": "markdown",
   "metadata": {},
   "source": [
    "# Compare with MNIST"
   ]
  },
  {
   "cell_type": "code",
   "execution_count": null,
   "metadata": {},
   "outputs": [],
   "source": [
    "from tensorflow.keras.datasets import mnist"
   ]
  },
  {
   "cell_type": "code",
   "execution_count": null,
   "metadata": {},
   "outputs": [],
   "source": [
    "(x_train, y_train), (_, _) = mnist.load_data()"
   ]
  },
  {
   "cell_type": "code",
   "execution_count": null,
   "metadata": {},
   "outputs": [],
   "source": [
    "x_train = np.log2(np.ones_like(x_train)+x_train.astype(float))"
   ]
  },
  {
   "cell_type": "code",
   "execution_count": null,
   "metadata": {},
   "outputs": [],
   "source": [
    "x_train = np.concatenate([x_train[y_train==0][:100],\n",
    "                x_train[y_train==1][:100],\n",
    "                x_train[y_train==2][:100],\n",
    "                x_train[y_train==3][:100],\n",
    "                x_train[y_train==4][:100],\n",
    "                x_train[y_train==5][:100],\n",
    "                x_train[y_train==6][:100],\n",
    "                x_train[y_train==7][:100],\n",
    "                x_train[y_train==8][:100],\n",
    "                x_train[y_train==9][:100]\n",
    "               ]).reshape((1000,-1))\n",
    "\n",
    "y_train = np.concatenate([y_train[y_train==0][:100],\n",
    "                y_train[y_train==1][:100],\n",
    "                y_train[y_train==2][:100],\n",
    "                y_train[y_train==3][:100],\n",
    "                y_train[y_train==4][:100],\n",
    "                y_train[y_train==5][:100],\n",
    "                y_train[y_train==6][:100],\n",
    "                y_train[y_train==7][:100],\n",
    "                y_train[y_train==8][:100],\n",
    "                y_train[y_train==9][:100]\n",
    "               ])"
   ]
  },
  {
   "cell_type": "code",
   "execution_count": null,
   "metadata": {},
   "outputs": [],
   "source": [
    "figs = [plt.subplots()[0] for _ in range(3)]"
   ]
  },
  {
   "cell_type": "code",
   "execution_count": null,
   "metadata": {},
   "outputs": [],
   "source": [
    "make_silhouette(x_train,\n",
    "                \"mnist\", \n",
    "                np.unique(y_train), \n",
    "                y_train, \n",
    "                10, \n",
    "                metrics = [\"euclidean\", \"cosine\", \"correlation\"],\n",
    "                figs=figs)"
   ]
  },
  {
   "cell_type": "code",
   "execution_count": null,
   "metadata": {},
   "outputs": [],
   "source": [
    "df_mnist = pd.DataFrame(data=x_train)\n",
    "df_mnist[\"label\"]=y_train\n",
    "df_mnist_gb = df_mnist.groupby(\"label\")\n",
    "means = df_mnist_gb.median()\n",
    "stds = df_mnist_gb.std()"
   ]
  },
  {
   "cell_type": "code",
   "execution_count": null,
   "metadata": {},
   "outputs": [],
   "source": [
    "stds.shape"
   ]
  },
  {
   "cell_type": "code",
   "execution_count": null,
   "metadata": {},
   "outputs": [],
   "source": [
    "data, cluster_labels = make_blobs(n_samples=x_train.shape[0], n_features=x_train.shape[1], centers=means, cluster_std=stds, random_state=42)"
   ]
  },
  {
   "cell_type": "code",
   "execution_count": null,
   "metadata": {},
   "outputs": [],
   "source": [
    "make_silhouette(data,\n",
    "                \"mnist+null\", \n",
    "                np.unique(y_train), \n",
    "                cluster_labels, \n",
    "                10, \n",
    "                color_iterator=orange_itarator,\n",
    "                metrics = [\"euclidean\", \"cosine\", \"correlation\"],\n",
    "                figs=figs)"
   ]
  },
  {
   "cell_type": "code",
   "execution_count": null,
   "metadata": {},
   "outputs": [],
   "source": [
    "figs[0]"
   ]
  },
  {
   "cell_type": "code",
   "execution_count": null,
   "metadata": {},
   "outputs": [],
   "source": []
  }
 ],
 "metadata": {
  "kernelspec": {
   "display_name": "Python 3",
   "language": "python",
   "name": "python3"
  },
  "language_info": {
   "codemirror_mode": {
    "name": "ipython",
    "version": 3
   },
   "file_extension": ".py",
   "mimetype": "text/x-python",
   "name": "python",
   "nbconvert_exporter": "python",
   "pygments_lexer": "ipython3",
   "version": "3.8.6"
  }
 },
 "nbformat": 4,
 "nbformat_minor": 4
}

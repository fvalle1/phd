{
 "cells": [
  {
   "cell_type": "code",
   "execution_count": null,
   "id": "stopped-mustang",
   "metadata": {},
   "outputs": [],
   "source": [
    "import pandas as pd\n",
    "import numpy as np\n",
    "import os\n",
    "import seaborn as sns\n",
    "import matplotlib.pyplot as plt"
   ]
  },
  {
   "cell_type": "code",
   "execution_count": null,
   "id": "exposed-marketing",
   "metadata": {},
   "outputs": [],
   "source": [
    "work_dir=\"keywordTCGA/brca\"\n",
    "os.chdir(work_dir)"
   ]
  },
  {
   "cell_type": "markdown",
   "id": "becoming-contractor",
   "metadata": {},
   "source": [
    "## Survival"
   ]
  },
  {
   "cell_type": "code",
   "execution_count": null,
   "id": "under-census",
   "metadata": {},
   "outputs": [],
   "source": [
    "df_files = pd.read_csv(\"files.dat\", sep=\",\", index_col=0)\n",
    "df_files.info()"
   ]
  },
  {
   "cell_type": "code",
   "execution_count": null,
   "id": "accredited-athens",
   "metadata": {},
   "outputs": [],
   "source": [
    "bins = np.linspace(0,100,20)\n",
    "avg = df_files[\"cases.0.diagnoses.0.age_at_diagnosis\"].mean(skipna=True)\n",
    "df_files[\"age_at_diagnosis\"]=pd.cut(df_files[\"cases.0.diagnoses.0.age_at_diagnosis\"].fillna(avg)/365., bins=bins, labels = (bins[1:]+bins[:-1])/2).__array__()"
   ]
  },
  {
   "cell_type": "code",
   "execution_count": null,
   "id": "systematic-generation",
   "metadata": {},
   "outputs": [],
   "source": [
    "df_files[\"gender\"] = (df_files[\"cases.0.demographic.gender\"]==\"male\").astype(int)"
   ]
  },
  {
   "cell_type": "code",
   "execution_count": null,
   "id": "white-impression",
   "metadata": {},
   "outputs": [],
   "source": [
    "for letter in [\"a\", \"b\", \"c\"]:\n",
    "    for (old, new) in zip([\"stage %s%s\"%(i,letter) for i in [\"i\", \"ii\", \"iii\", \"iv\"]],[\"stage %s\"%i for i in [\"i\", \"ii\", \"iii\", \"iv\"]]):\n",
    "        df_files.replace(old, new, inplace=True)\n",
    "df_files[\"cases.0.diagnoses.0.tumor_stage\"].unique()"
   ]
  },
  {
   "cell_type": "code",
   "execution_count": null,
   "id": "dried-aggregate",
   "metadata": {},
   "outputs": [],
   "source": [
    "df_files[\"tumor_stage\"]=df_files[\"cases.0.diagnoses.0.tumor_stage\"]\n",
    "for i,stage in enumerate([\"stage i\", \"stage ii\", \"stage iii\", \"stage iv\", \"stage v\", \"stage x\"]):\n",
    "    df_files[\"tumor_stage\"].replace(stage, i+1, inplace=True)"
   ]
  },
  {
   "cell_type": "code",
   "execution_count": null,
   "id": "collaborative-gossip",
   "metadata": {},
   "outputs": [],
   "source": [
    "#0 = Alive\n",
    "df_files[\"vital_status\"]=(df_files[\"cases.0.demographic.vital_status\"]==\"Dead\").astype(int)"
   ]
  },
  {
   "cell_type": "code",
   "execution_count": null,
   "id": "caroline-geometry",
   "metadata": {},
   "outputs": [],
   "source": [
    "def get_survival(case):\n",
    "    if case[\"cases.0.demographic.vital_status\"] == 1:\n",
    "        return case[\"cases.0.demographic.days_to_death\"]\n",
    "    else:\n",
    "        return case[\"cases.0.diagnoses.0.days_to_last_follow_up\"]\n",
    "\n",
    "df_files[\"days_survival\"] = df_files.apply(get_survival,1)"
   ]
  },
  {
   "cell_type": "markdown",
   "id": "compact-framing",
   "metadata": {},
   "source": [
    "## Univariate"
   ]
  },
  {
   "cell_type": "code",
   "execution_count": null,
   "id": "nervous-stick",
   "metadata": {},
   "outputs": [],
   "source": [
    "import lifelines\n",
    "import sys\n",
    "sys.path.append(\"/home/jovyan/work/phd/\")\n",
    "from survival import fit_cox, add_group_to_subset, save_plot\n",
    "from topicpy.hsbmpy import get_file\n",
    "from scipy.stats import pearsonr"
   ]
  },
  {
   "cell_type": "code",
   "execution_count": null,
   "id": "bulgarian-pierce",
   "metadata": {},
   "outputs": [],
   "source": [
    "l=1\n",
    "\n",
    "algorithm = \"trisbm\"\n",
    "kind = \"keyword\", \"metadatum\"\n",
    "#kind = \"word\", \"topic\""
   ]
  },
  {
   "cell_type": "code",
   "execution_count": null,
   "id": "automotive-grammar",
   "metadata": {},
   "outputs": [],
   "source": [
    "df_clusters = pd.read_csv(\"trisbm/trisbm_level_1_%s-dist.csv\"%kind[1],index_col=1).drop(\"i_doc\",1)"
   ]
  },
  {
   "cell_type": "code",
   "execution_count": null,
   "id": "sorted-excitement",
   "metadata": {},
   "outputs": [],
   "source": [
    "df_topics = pd.read_csv(\"%s/%s_level_%d_%s-dist.csv\"%(algorithm,algorithm,l,kind[1]))\n",
    "\n",
    "df_topics.set_index('doc', inplace=True)\n",
    "df_topics.insert(0,'stage','')\n",
    "df_topics.drop('i_doc', axis=1, inplace=True)\n",
    "\n",
    "labels=[\"cases.0.diagnoses.0.tumor_stage\"]\n",
    "label = labels[0]\n",
    "\n",
    "if label not in df_files.columns:\n",
    "    raise AttributeError(f\"{label} not valid. Available: {df_files.columns}\")\n",
    "for letter in [\"a\", \"b\"]:\n",
    "    for (old, new) in zip([\"stage %s%s\"%(i,letter) for i in [\"i\", \"ii\", \"iii\", \"iv\"]],[\"stage %s\"%i for i in [\"i\", \"ii\", \"iii\", \"iv\"]]):\n",
    "        df_files.replace(old, new, inplace=True)\n",
    "for sample in df_topics.index.values:\n",
    "    file_data = get_file(sample,df_metadata)\n",
    "    if file_data is None:\n",
    "        continue\n",
    "    df_topics.at[sample,'stage']=(\"%s\"%(file_data[labels[0]]))\n",
    "\n",
    "mask = df_topics[\"stage\"]!=\"not reported\"\n",
    "mask = (mask) & (df_topics[\"stage\"]!=\"\")\n",
    "mask = (mask) & (df_topics[\"stage\"]!=\"stage x\")\n",
    "mask = (mask) & (df_topics[\"stage\"]!=\"nan\")\n",
    "df_topic_stage_gb = df_topics[mask].groupby([\"stage\"]).mean()\n",
    "\n",
    "color_generator=(c for c in sns.palettes.color_palette(n_colors=20, palette=None))"
   ]
  },
  {
   "cell_type": "code",
   "execution_count": null,
   "id": "critical-carpet",
   "metadata": {
    "tags": []
   },
   "outputs": [],
   "source": [
    "for topic in df_topic_stage_gb.columns:\n",
    "    fig, ax = plt.subplots(1,1,figsize=(30,15))\n",
    "    color = next(color_generator)\n",
    "\n",
    "\n",
    "    df_topic_stage_dat = df_topic_stage_gb[topic]\n",
    "    mean = df_topic_stage_dat.mean()\n",
    "    df_topic_stage_dat=df_topic_stage_dat.subtract(mean,1)\n",
    "    #sigma = df_topic_stage_dat.std(0).values[0]\n",
    "    #df_topic_stage_dat=df_topic_stage_dat.divide(sigma,1)\n",
    "    df_topic_stage_dat.plot(ax=ax, marker=\"o\",ms=55, lw=20, c=color, legend=False)\n",
    "\n",
    "    x = ax.lines[0].get_xdata()\n",
    "    y = ax.lines[0].get_ydata()\n",
    "    err = (df_topic_stage_dat.max()-df_topic_stage_dat.min())/2\n",
    "    ax.fill_between(ax.lines[0].get_xdata(), y-err, y+err, color=\"gray\", alpha=0.8)\n",
    "\n",
    "    labs = np.sort(df_topics[mask][\"stage\"].unique())\n",
    "    ax.set_xticks(x)\n",
    "    ax.set_xticklabels(labels=labs, rotation=45)\n",
    "    ax.tick_params(labelsize=35)\n",
    "    ax.set_title(topic+\"\\nPearson:\"+\"{0:.3f}\".format(pearsonr(x,y)[0]), fontsize=35)\n",
    "    ax.set_xlabel(\"\")\n",
    "        \n",
    "    ax.legend(fontsize=35, ncol=3)\n",
    "    ax.set_ylabel(\"$Centered <P(%s|stage)>$\"%kind[1], fontsize=35)\n",
    "    fig.savefig(f\"topic_{topic}.pdf\")\n",
    "    \n",
    "\n",
    "    plt.show()"
   ]
  },
  {
   "cell_type": "code",
   "execution_count": null,
   "id": "centered-charm",
   "metadata": {},
   "outputs": [],
   "source": [
    "def get_cohort(subtype):\n",
    "    if str(subtype)==\"nan\":\n",
    "        return None\n",
    "    else:\n",
    "        if \"Basal\" in subtype:\n",
    "            return \"A\"\n",
    "        else:\n",
    "            return \"B\"\n",
    "df_files[\"cohort\"]=list(map(get_cohort,df_files[\"Subtype_Selected\"]))"
   ]
  },
  {
   "cell_type": "code",
   "execution_count": null,
   "id": "aggregate-turkish",
   "metadata": {
    "tags": []
   },
   "outputs": [],
   "source": [
    "mask = (~df_files[\"days_survival\"].isna()) & (df_files[\"cases.0.diagnoses.0.tumor_stage\"]!=\"not reported\")\n",
    "subset = df_files[mask]\n",
    "df_files=df_files.reset_index()\n",
    "subset = subset[[\"days_survival\",\"vital_status\",\"gender\", \"tumor_stage\", \"age_at_diagnosis\"]]\n",
    "for topic in df_clusters.columns:\n",
    "    top_set = add_group_to_subset(topic, subset, df_clusters.divide(df_clusters.sum(0),1), 0.35)\n",
    "    print(top_set[\"group\"].sum())\n",
    "    summary, _, ax = fit_cox(top_set, topic)\n",
    "    if summary is not None:\n",
    "        if summary.at[summary.index[-1],\"-log2(p)\"]/(np.log2(10)) > 2:\n",
    "            print(topic,\"\\n\",summary.loc[summary.index[-1],[\"coef\", \"p\"]],\"\\n\")\n",
    "            #ax=None\n",
    "            if ax is not None:\n",
    "                ax.set_title(ax.title.get_text(), fontsize=35)\n",
    "                save_plot(ax, \"\", topic)"
   ]
  },
  {
   "cell_type": "markdown",
   "id": "automatic-circulation",
   "metadata": {},
   "source": [
    "## Multivariate"
   ]
  },
  {
   "cell_type": "code",
   "execution_count": null,
   "id": "studied-inspiration",
   "metadata": {},
   "outputs": [],
   "source": [
    "from lifelines import CoxPHFitter\n",
    "from lifelines.datasets import load_rossi"
   ]
  },
  {
   "cell_type": "code",
   "execution_count": null,
   "id": "injured-retreat",
   "metadata": {},
   "outputs": [],
   "source": [
    "algorithm = \"trisbm\"\n",
    "l = 1"
   ]
  },
  {
   "cell_type": "code",
   "execution_count": null,
   "id": "changed-essex",
   "metadata": {},
   "outputs": [],
   "source": [
    "df_covariates = pd.DataFrame(index=df_files.index)\n",
    "df_covariates[\"vital_status\"] = df_files[\"vital_status\"].values.astype(int)\n",
    "df_covariates[\"time\"] = df_files[\"days_survival\"].values"
   ]
  },
  {
   "cell_type": "code",
   "execution_count": null,
   "id": "guided-bachelor",
   "metadata": {},
   "outputs": [],
   "source": [
    "df_topics = pd.read_csv(\"%s/%s_level_%d_topic-dist.csv\"%(algorithm,algorithm,l), index_col=1).drop(\"i_doc\",1)\n",
    "df_topics_std = df_topics.divide(df_topics.sum(0),1)\n",
    "\n",
    "q = np.linspace(0, 1, 20)\n",
    "\n",
    "for topic in df_topics:\n",
    "    quantiles = np.argmin([np.abs(df_topics_std[topic]-q) for q in df_topics_std[topic].quantile(q).values], 0)\n",
    "    df_covariates = df_covariates.join(pd.Series(name=topic, index = df_topics_std.index, data = quantiles), how=\"outer\")"
   ]
  },
  {
   "cell_type": "code",
   "execution_count": null,
   "id": "intimate-package",
   "metadata": {},
   "outputs": [],
   "source": [
    "df_covariates.head(5)"
   ]
  },
  {
   "cell_type": "code",
   "execution_count": null,
   "id": "apparent-marriage",
   "metadata": {},
   "outputs": [],
   "source": [
    "cph = CoxPHFitter()\n",
    "res = cph.fit(df_covariates.dropna(how=\"any\", axis=0), duration_col='time', event_col='vital_status')\n",
    "\n",
    "cph.print_summary()\n",
    "cph.plot()"
   ]
  },
  {
   "cell_type": "code",
   "execution_count": null,
   "id": "fancy-designer",
   "metadata": {},
   "outputs": [],
   "source": [
    "df_metadata = pd.read_csv(\"%s/%s_level_%d_metadatum-dist.csv\"%(algorithm,algorithm,l), index_col=1).drop(\"i_doc\",1)\n",
    "df_metadata_std = df_metadata.subtract(df_metadata.mean(0),1)\n",
    "for topic in df_metadata:\n",
    "    quantiles = np.argmin([np.abs(df_metadata_std[topic]-q) for q in df_metadata_std[topic].quantile(q).values], 0)\n",
    "    df_covariates = df_covariates.join(pd.Series(name=topic, index=df_covariates.index, data = quantiles), how=\"outer\")"
   ]
  },
  {
   "cell_type": "code",
   "execution_count": null,
   "id": "judicial-norfolk",
   "metadata": {},
   "outputs": [],
   "source": [
    "cph_full = CoxPHFitter()\n",
    "res_full = cph_full.fit(df_covariates.dropna(how=\"any\", axis=0), duration_col='time', event_col='vital_status')\n",
    "\n",
    "cph_full.print_summary()\n",
    "cph_full.plot()"
   ]
  },
  {
   "cell_type": "code",
   "execution_count": null,
   "id": "engaged-consensus",
   "metadata": {},
   "outputs": [],
   "source": [
    "fig,ax = plt.subplots()\n",
    "\n",
    "params = {\"ax\":ax, \"histtype\":\"step\", \"bins\":np.linspace(0, 2, 15), \"density\":False, \"lw\":5, \"ls\":\":\"}\n",
    "\n",
    "res.summary[\"exp(coef)\"].hist(**params)\n",
    "res_full.summary[\"exp(coef)\"].hist(**params)\n",
    "#ax.vlines(1, 0, 5, lw=5)\n",
    "ax.set_xlabel(\"exp(coef)\")\n",
    "ax.set_ylabel(\"dimensions (topic+metadata)\")"
   ]
  },
  {
   "cell_type": "code",
   "execution_count": null,
   "id": "absolute-morgan",
   "metadata": {},
   "outputs": [],
   "source": [
    "for topic in df_topics:\n",
    "    fig, axs = plt.subplots(1,2, figsize=(18,5))\n",
    "    axs[0].set_ylabel(\"Survival\")\n",
    "    axs[0].set_xlabel(\"Days\")\n",
    "    axs[1].set_xlabel(\"Days\")\n",
    "    cph.plot_partial_effects_on_outcome(covariates=[topic], \n",
    "                                        values = np.sort(df_covariates[\"Metadatum 3\"].unique()),\n",
    "                                        cmap = 'coolwarm', ax=axs[0])\n",
    "    cph_full.plot_partial_effects_on_outcome(covariates=topic, values=np.sort(df_covariates[topic].unique()), cmap='coolwarm', ax=axs[1])"
   ]
  },
  {
   "cell_type": "code",
   "execution_count": null,
   "id": "hourly-number",
   "metadata": {},
   "outputs": [],
   "source": []
  }
 ],
 "metadata": {
  "kernelspec": {
   "display_name": "Python 3",
   "language": "python",
   "name": "python3"
  },
  "language_info": {
   "codemirror_mode": {
    "name": "ipython",
    "version": 3
   },
   "file_extension": ".py",
   "mimetype": "text/x-python",
   "name": "python",
   "nbconvert_exporter": "python",
   "pygments_lexer": "ipython3",
   "version": "3.8.8"
  }
 },
 "nbformat": 4,
 "nbformat_minor": 5
}

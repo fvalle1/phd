{
 "cells": [
  {
   "cell_type": "code",
   "execution_count": 1,
   "metadata": {},
   "outputs": [],
   "source": [
    "import numpy as np\n",
    "import pandas as pd\n",
    "from textwrap import wrap\n",
    "from matplotlib import pyplot as plt\n",
    "from sklearn import metrics\n",
    "import matplotlib.ticker as mticker\n",
    "import sys, os\n",
    "from hsbmpy import plot_topic_size, get_max_available_L"
   ]
  },
  {
   "cell_type": "code",
   "execution_count": 2,
   "metadata": {},
   "outputs": [],
   "source": [
    "directory=\"/home/fvalle/phd/datasets/gtex/log/10/\"\n",
    "os.chdir(directory)\n",
    "sys.path.append('/home/fvalle/phd/master_thesis/')"
   ]
  },
  {
   "cell_type": "code",
   "execution_count": 3,
   "metadata": {},
   "outputs": [],
   "source": [
    "L = get_max_available_L(directory)"
   ]
  },
  {
   "cell_type": "code",
   "execution_count": 4,
   "metadata": {},
   "outputs": [],
   "source": [
    "df = pd.read_csv(\"mainTable.csv\", index_col=[0])"
   ]
  },
  {
   "cell_type": "markdown",
   "metadata": {},
   "source": [
    "# topic size"
   ]
  },
  {
   "cell_type": "code",
   "execution_count": null,
   "metadata": {},
   "outputs": [],
   "source": [
    "for l in range(0,L+1):\n",
    "    plot_topic_size(directory,l)"
   ]
  },
  {
   "cell_type": "markdown",
   "metadata": {},
   "source": [
    "## Topic O"
   ]
  },
  {
   "cell_type": "code",
   "execution_count": null,
   "metadata": {},
   "outputs": [],
   "source": [
    "df = pd.read_csv(\"mainTable.csv\", index_col=0,header=0)"
   ]
  },
  {
   "cell_type": "code",
   "execution_count": null,
   "metadata": {},
   "outputs": [],
   "source": [
    "df_mv=pd.DataFrame(data=[df.mean(1), df.var(1),df.apply(lambda x: len([x[x>0]])/float(len(x)), 1)], index=['average', 'var', 'O']).transpose()\n",
    "df_mv.head()"
   ]
  },
  {
   "cell_type": "code",
   "execution_count": null,
   "metadata": {},
   "outputs": [],
   "source": [
    "for l in range(0,L+1):\n",
    "    fig = plt.figure(figsize=(15,8))\n",
    "    ax = fig.subplots(1,2)\n",
    "    candles = get_candles(directory,l,df_mv,ax[0])\n",
    "    candlestick2_ohlc(ax[0], candles['open'],candles['high'],candles['low'],candles['close'],width=0.6,colordown='b')\n",
    "    ax[1].hist((np.array(candles['open'])+np.array(candles['close']))/2, weights=candles['size'], range=(-0.05,1.05), bins=10, histtype='step')\n",
    "    ax[1].set_xlabel(\"$O_i\", fontsize=18)\n",
    "    plt.show()\n",
    "    fig.savefig(\"%s/topic_Ocandles_level_%d.pdf\"%(directory,l))"
   ]
  },
  {
   "cell_type": "markdown",
   "metadata": {},
   "source": [
    "# Geneontology"
   ]
  },
  {
   "cell_type": "code",
   "execution_count": 5,
   "metadata": {},
   "outputs": [],
   "source": [
    "from geneontology import get_ontology_df, ensg_to_symbol\n",
    "from tableanalyser import get_symbol\n",
    "import gseapy as gs"
   ]
  },
  {
   "cell_type": "code",
   "execution_count": null,
   "metadata": {},
   "outputs": [],
   "source": [
    "import importlib, geneontology,tableanalyser\n",
    "importlib.reload(geneontology)\n",
    "importlib.reload(tableanalyser)\n",
    "from geneontology import get_ontology_df, ensg_to_symbol\n",
    "from tableanalyser import get_symbol"
   ]
  },
  {
   "cell_type": "code",
   "execution_count": 6,
   "metadata": {},
   "outputs": [],
   "source": [
    "l=L\n",
    "df_topics = pd.read_csv(\"%s/topsbm/topsbm_level_%d_topics.csv\"%(directory,l))"
   ]
  },
  {
   "cell_type": "code",
   "execution_count": 7,
   "metadata": {},
   "outputs": [],
   "source": [
    "df_symbols= pd.read_csv(\"https://www.genenames.org/cgi-bin/download/custom?col=gd_hgnc_id&col=gd_app_sym&col=gd_pub_ensembl_id&col=md_ensembl_id&col=md_eg_id&status=Approved&status=Entry%20Withdrawn&hgnc_dbtag=on&order_by=gd_app_sym_sort&format=text&submit=submit\", index_col=[0], sep='\\t')"
   ]
  },
  {
   "cell_type": "code",
   "execution_count": 8,
   "metadata": {},
   "outputs": [],
   "source": [
    "def get_sea():\n",
    "    for g in df_topics.values.ravel()[[str(s)!='nan' for s in df_topics.values.ravel()]]:\n",
    "        yield get_symbol(g)"
   ]
  },
  {
   "cell_type": "code",
   "execution_count": 9,
   "metadata": {},
   "outputs": [],
   "source": [
    "with open(\"gback.txt\",'w') as f:\n",
    "    list(map(lambda x: f.writelines(x+'\\n')if len(x)>1 else None, get_sea()))\n",
    "    \n",
    "with open(\"gback_ensg.txt\",'w') as f:\n",
    "    list(map(lambda x: f.writelines(x[:15]+'\\n')if len(x)>1 else None, df_topics.values.ravel()[[str(s)!='nan' for s in df_topics.values.ravel()]]))"
   ]
  },
  {
   "cell_type": "code",
   "execution_count": null,
   "metadata": {
    "scrolled": true
   },
   "outputs": [],
   "source": [
    "gs.get_library_name()"
   ]
  },
  {
   "cell_type": "code",
   "execution_count": 10,
   "metadata": {},
   "outputs": [],
   "source": [
    "gene_sets = ['GO_Molecular_Function_2018',\n",
    "             'GO_Biological_Process_2018',\n",
    "             'GO_Cellular_Component_2018',\n",
    "             'Human_Phenotype_Ontology',\n",
    "             'WikiPathways_2019_Human',\n",
    "             '/home/fvalle/MSigDB/h.all.v7.0.symbols.gmt',\n",
    "             '/home/fvalle/MSigDB/c2.cp.v7.0.symbols.gmt'\n",
    "            ]"
   ]
  },
  {
   "cell_type": "code",
   "execution_count": 12,
   "metadata": {
    "scrolled": true
   },
   "outputs": [
    {
     "name": "stdout",
     "output_type": "stream",
     "text": [
      "Topic 1\n"
     ]
    },
    {
     "name": "stderr",
     "output_type": "stream",
     "text": [
      "2020-01-29 10:48:54,589 Warning: No enrich terms using library CUSTOM139961913803688 when cutoff = 0.5\n",
      "2020-01-29 10:48:54,711 Warning: No enrich terms using library CUSTOM139961910615280 when cutoff = 0.5\n"
     ]
    },
    {
     "name": "stdout",
     "output_type": "stream",
     "text": [
      "                                                   Term  Adjusted P-value  \\\n",
      "1502       Autosomal recessive inheritance (HP:0000007)      8.329540e-08   \n",
      "1503              Palmoplantar keratoderma (HP:0000982)      2.336702e-05   \n",
      "222                     muscle contraction (GO:0006936)      4.055928e-04   \n",
      "225                muscle filament sliding (GO:0030049)      4.470801e-04   \n",
      "223   positive regulation of peptide secretion (GO:0...      5.354859e-04   \n",
      "224          actin-myosin filament sliding (GO:0033275)      5.961068e-04   \n",
      "226      extracellular matrix organization (GO:0030198)      1.229326e-03   \n",
      "227                 sarcomere organization (GO:0045214)      2.651894e-03   \n",
      "231    cardiac muscle tissue morphogenesis (GO:0055008)      3.426095e-03   \n",
      "230             cardiac muscle contraction (GO:0060048)      3.806772e-03   \n",
      "229   positive regulation of hormone secretion (GO:0...      4.164888e-03   \n",
      "1962          Striated Muscle Contraction Pathway WP383      4.169001e-03   \n",
      "228            striated muscle contraction (GO:0006941)      4.463228e-03   \n",
      "232          regulation of ATPase activity (GO:0043462)      5.307582e-03   \n",
      "1504        Autosomal dominant inheritance (HP:0000006)      6.656801e-03   \n",
      "233   ventricular cardiac muscle tissue development ...      6.822231e-03   \n",
      "234                      heart contraction (GO:0060047)      7.236762e-03   \n",
      "237                  peptide cross-linking (GO:0018149)      8.157248e-03   \n",
      "236                     myofibril assembly (GO:0030239)      8.701065e-03   \n",
      "235       extracellular matrix disassembly (GO:0022617)      9.304123e-03   \n",
      "\n",
      "                        Gene_set  \n",
      "1502    Human_Phenotype_Ontology  \n",
      "1503    Human_Phenotype_Ontology  \n",
      "222   GO_Biological_Process_2018  \n",
      "225   GO_Biological_Process_2018  \n",
      "223   GO_Biological_Process_2018  \n",
      "224   GO_Biological_Process_2018  \n",
      "226   GO_Biological_Process_2018  \n",
      "227   GO_Biological_Process_2018  \n",
      "231   GO_Biological_Process_2018  \n",
      "230   GO_Biological_Process_2018  \n",
      "229   GO_Biological_Process_2018  \n",
      "1962     WikiPathways_2019_Human  \n",
      "228   GO_Biological_Process_2018  \n",
      "232   GO_Biological_Process_2018  \n",
      "1504    Human_Phenotype_Ontology  \n",
      "233   GO_Biological_Process_2018  \n",
      "234   GO_Biological_Process_2018  \n",
      "237   GO_Biological_Process_2018  \n",
      "236   GO_Biological_Process_2018  \n",
      "235   GO_Biological_Process_2018  \n",
      "Topic 2\n"
     ]
    },
    {
     "name": "stderr",
     "output_type": "stream",
     "text": [
      "2020-01-29 10:50:01,470 Warning: No enrich terms using library CUSTOM139961792114048 when cutoff = 0.5\n",
      "2020-01-29 10:50:01,614 Warning: No enrich terms using library CUSTOM139961792113832 when cutoff = 0.5\n"
     ]
    },
    {
     "name": "stdout",
     "output_type": "stream",
     "text": [
      "                                                   Term  Adjusted P-value  \\\n",
      "282               mitotic nuclear division (GO:0140014)          0.000520   \n",
      "283           sister chromatid segregation (GO:0000819)          0.002707   \n",
      "286   positive regulation of granulocyte chemotaxis ...          0.007828   \n",
      "285   positive regulation of neutrophil migration (G...          0.007973   \n",
      "284   positive regulation of neutrophil chemotaxis (...          0.008579   \n",
      "287    regulation of neutrophil chemotaxis (GO:0090022)          0.011470   \n",
      "289         cellular response to chemokine (GO:1990869)          0.015473   \n",
      "290   mitotic sister chromatid segregation (GO:0000070)          0.016874   \n",
      "288                  response to chemokine (GO:1990868)          0.017684   \n",
      "293          actin-myosin filament sliding (GO:0033275)          0.022398   \n",
      "292                muscle filament sliding (GO:0030049)          0.024435   \n",
      "2554          Striated Muscle Contraction Pathway WP383          0.024861   \n",
      "291   negative regulation of viral life cycle (GO:19...          0.025564   \n",
      "2555          Cardiac Progenitor Differentiation WP2406          0.062322   \n",
      "1917       platelet alpha granule membrane (GO:0031092)          0.067381   \n",
      "1916                         lipid droplet (GO:0005811)          0.071071   \n",
      "1918                               spindle (GO:0005819)          0.071393   \n",
      "294        cardiac muscle cell development (GO:0055013)          0.074999   \n",
      "1915                          cytoskeleton (GO:0005856)          0.082532   \n",
      "2556                                 Adipogenesis WP236          0.084128   \n",
      "\n",
      "                        Gene_set  \n",
      "282   GO_Biological_Process_2018  \n",
      "283   GO_Biological_Process_2018  \n",
      "286   GO_Biological_Process_2018  \n",
      "285   GO_Biological_Process_2018  \n",
      "284   GO_Biological_Process_2018  \n",
      "287   GO_Biological_Process_2018  \n",
      "289   GO_Biological_Process_2018  \n",
      "290   GO_Biological_Process_2018  \n",
      "288   GO_Biological_Process_2018  \n",
      "293   GO_Biological_Process_2018  \n",
      "292   GO_Biological_Process_2018  \n",
      "2554     WikiPathways_2019_Human  \n",
      "291   GO_Biological_Process_2018  \n",
      "2555     WikiPathways_2019_Human  \n",
      "1917  GO_Cellular_Component_2018  \n",
      "1916  GO_Cellular_Component_2018  \n",
      "1918  GO_Cellular_Component_2018  \n",
      "294   GO_Biological_Process_2018  \n",
      "1915  GO_Cellular_Component_2018  \n",
      "2556     WikiPathways_2019_Human  \n",
      "Topic 3\n"
     ]
    },
    {
     "name": "stderr",
     "output_type": "stream",
     "text": [
      "2020-01-29 10:50:04,712 Warning: No enrich terms using library GO_Molecular_Function_2018 when cutoff = 0.5\n",
      "2020-01-29 10:50:07,206 Warning: No enrich terms using library GO_Biological_Process_2018 when cutoff = 0.5\n",
      "2020-01-29 10:50:09,725 Warning: No enrich terms using library GO_Cellular_Component_2018 when cutoff = 0.5\n",
      "2020-01-29 10:50:12,232 Warning: No enrich terms using library Human_Phenotype_Ontology when cutoff = 0.5\n",
      "2020-01-29 10:50:14,800 Warning: No enrich terms using library WikiPathways_2019_Human when cutoff = 0.5\n",
      "2020-01-29 10:50:14,826 Warning: No enrich terms using library CUSTOM139961795217664 when cutoff = 0.5\n",
      "2020-01-29 10:50:14,865 Warning: No enrich terms using library CUSTOM139961795218600 when cutoff = 0.5\n"
     ]
    },
    {
     "name": "stdout",
     "output_type": "stream",
     "text": [
      "Empty DataFrame\n",
      "Columns: [Term, Adjusted P-value, Gene_set]\n",
      "Index: []\n",
      "Topic 4\n"
     ]
    },
    {
     "name": "stderr",
     "output_type": "stream",
     "text": [
      "2020-01-29 10:51:09,865 Warning: No enrich terms using library GO_Cellular_Component_2018 when cutoff = 0.5\n",
      "2020-01-29 10:51:12,872 Warning: No enrich terms using library Human_Phenotype_Ontology when cutoff = 0.5\n",
      "2020-01-29 10:51:15,877 Warning: No enrich terms using library CUSTOM139961807340096 when cutoff = 0.5\n",
      "2020-01-29 10:51:16,024 Warning: No enrich terms using library CUSTOM139961807341032 when cutoff = 0.5\n"
     ]
    },
    {
     "name": "stdout",
     "output_type": "stream",
     "text": [
      "                                                   Term  Adjusted P-value  \\\n",
      "0          immunoglobulin receptor binding (GO:0034987)          0.000083   \n",
      "323      B cell receptor signaling pathway (GO:0050853)          0.001990   \n",
      "322                     retina homeostasis (GO:0001895)          0.002141   \n",
      "324        regulation of B cell activation (GO:0050864)          0.005401   \n",
      "327               phagocytosis, engulfment (GO:0006911)          0.005723   \n",
      "328                           phagocytosis (GO:0006909)          0.006101   \n",
      "326   positive regulation of lymphocyte activation (...          0.006868   \n",
      "325           plasma membrane invagination (GO:0099024)          0.007928   \n",
      "329   positive regulation of B cell activation (GO:0...          0.012830   \n",
      "330   complement activation, classical pathway (GO:0...          0.014854   \n",
      "331   humoral immune response mediated by circulatin...          0.015199   \n",
      "2550              Nuclear Receptors Meta-Pathway WP2882          0.026947   \n",
      "332          defense response to bacterium (GO:0042742)          0.027228   \n",
      "333   positive regulation of respiratory burst (GO:0...          0.044921   \n",
      "336    type I interferon signaling pathway (GO:0060337)          0.056889   \n",
      "337   positive regulation of ERBB signaling pathway ...          0.057558   \n",
      "334   cellular response to unfolded protein (GO:0034...          0.059103   \n",
      "340        regulation of respiratory burst (GO:0060263)          0.059670   \n",
      "335   cellular response to type I interferon (GO:007...          0.060952   \n",
      "339                  glomerular filtration (GO:0003094)          0.062985   \n",
      "\n",
      "                        Gene_set  \n",
      "0     GO_Molecular_Function_2018  \n",
      "323   GO_Biological_Process_2018  \n",
      "322   GO_Biological_Process_2018  \n",
      "324   GO_Biological_Process_2018  \n",
      "327   GO_Biological_Process_2018  \n",
      "328   GO_Biological_Process_2018  \n",
      "326   GO_Biological_Process_2018  \n",
      "325   GO_Biological_Process_2018  \n",
      "329   GO_Biological_Process_2018  \n",
      "330   GO_Biological_Process_2018  \n",
      "331   GO_Biological_Process_2018  \n",
      "2550     WikiPathways_2019_Human  \n",
      "332   GO_Biological_Process_2018  \n",
      "333   GO_Biological_Process_2018  \n",
      "336   GO_Biological_Process_2018  \n",
      "337   GO_Biological_Process_2018  \n",
      "334   GO_Biological_Process_2018  \n",
      "340   GO_Biological_Process_2018  \n",
      "335   GO_Biological_Process_2018  \n",
      "339   GO_Biological_Process_2018  \n",
      "Topic 5\n"
     ]
    },
    {
     "name": "stderr",
     "output_type": "stream",
     "text": [
      "2020-01-29 10:51:28,566 Warning: No enrich terms using library Human_Phenotype_Ontology when cutoff = 0.5\n",
      "2020-01-29 10:51:31,283 Warning: No enrich terms using library CUSTOM139961805002072 when cutoff = 0.5\n",
      "2020-01-29 10:51:31,356 Warning: No enrich terms using library CUSTOM139961805001928 when cutoff = 0.5\n"
     ]
    },
    {
     "name": "stdout",
     "output_type": "stream",
     "text": [
      "                                                  Term  Adjusted P-value  \\\n",
      "108          keratinocyte differentiation (GO:0030216)          0.001619   \n",
      "109        epidermal cell differentiation (GO:0009913)          0.001740   \n",
      "110                 epidermis development (GO:0008544)          0.003581   \n",
      "111  antimicrobial humoral immune response mediated...          0.004036   \n",
      "112                      skin development (GO:0043588)          0.005135   \n",
      "115                 peptide cross-linking (GO:0018149)          0.042769   \n",
      "114         reverse cholesterol transport (GO:0043691)          0.046023   \n",
      "113  high-density lipoprotein particle remodeling (...          0.053693   \n",
      "117         diterpenoid metabolic process (GO:0016101)          0.101466   \n",
      "116      cellular lipid catabolic process (GO:0044242)          0.104060   \n",
      "118  defense response to Gram-positive bacterium (G...          0.110767   \n",
      "121  defense response to Gram-negative bacterium (G...          0.122275   \n",
      "120           striated muscle hypertrophy (GO:0014897)          0.124428   \n",
      "119           acute inflammatory response (GO:0002526)          0.124633   \n",
      "123          neutrophil mediated immunity (GO:0002446)          0.140216   \n",
      "122            retinoid metabolic process (GO:0001523)          0.140753   \n",
      "126     organophosphate catabolic process (GO:0046434)          0.157958   \n",
      "127  cellular response to molecule of bacterial ori...          0.162332   \n",
      "125  negative regulation of lipase activity (GO:006...          0.166733   \n",
      "820                           Golgi lumen (GO:0005796)          0.168534   \n",
      "\n",
      "                       Gene_set  \n",
      "108  GO_Biological_Process_2018  \n",
      "109  GO_Biological_Process_2018  \n",
      "110  GO_Biological_Process_2018  \n",
      "111  GO_Biological_Process_2018  \n",
      "112  GO_Biological_Process_2018  \n",
      "115  GO_Biological_Process_2018  \n",
      "114  GO_Biological_Process_2018  \n",
      "113  GO_Biological_Process_2018  \n",
      "117  GO_Biological_Process_2018  \n",
      "116  GO_Biological_Process_2018  \n",
      "118  GO_Biological_Process_2018  \n",
      "121  GO_Biological_Process_2018  \n",
      "120  GO_Biological_Process_2018  \n",
      "119  GO_Biological_Process_2018  \n",
      "123  GO_Biological_Process_2018  \n",
      "122  GO_Biological_Process_2018  \n",
      "126  GO_Biological_Process_2018  \n",
      "127  GO_Biological_Process_2018  \n",
      "125  GO_Biological_Process_2018  \n",
      "820  GO_Cellular_Component_2018  \n",
      "Topic 6\n"
     ]
    },
    {
     "name": "stderr",
     "output_type": "stream",
     "text": [
      "2020-01-29 10:52:34,046 Warning: No enrich terms using library Human_Phenotype_Ontology when cutoff = 0.5\n",
      "2020-01-29 10:52:37,030 Warning: No enrich terms using library CUSTOM139961803532400 when cutoff = 0.5\n",
      "2020-01-29 10:52:37,170 Warning: No enrich terms using library CUSTOM139961803532184 when cutoff = 0.5\n"
     ]
    },
    {
     "name": "stdout",
     "output_type": "stream",
     "text": [
      "                                                   Term  Adjusted P-value  \\\n",
      "2290              Nuclear Receptors Meta-Pathway WP2882      6.123173e-07   \n",
      "0                         collagen binding (GO:0005518)      1.151331e-05   \n",
      "248      extracellular matrix organization (GO:0030198)      3.574996e-05   \n",
      "249           collagen fibril organization (GO:0030199)      2.980794e-04   \n",
      "2291                                 Adipogenesis WP236      3.150359e-04   \n",
      "250   negative regulation of extrinsic apoptotic sig...      3.605308e-04   \n",
      "251           regulation of cell migration (GO:0030334)      4.900208e-04   \n",
      "2292                      Vitamin B12 Metabolism WP1533      5.328945e-04   \n",
      "252   negative regulation of apoptotic process (GO:0...      5.888781e-04   \n",
      "253    cytokine-mediated signaling pathway (GO:0019221)      1.066645e-03   \n",
      "254   protein complex subunit organization (GO:0071822)      1.309437e-03   \n",
      "2293          Type II interferon signaling (IFNG) WP619      1.494166e-03   \n",
      "2297              VEGFA-VEGFR2 Signaling Pathway WP3888      1.614892e-03   \n",
      "2295                  Vitamin D Receptor Pathway WP2877      1.635738e-03   \n",
      "2294                            Folate Metabolism WP176      1.639663e-03   \n",
      "2296           Senescence and Autophagy in Cancer WP615      1.783698e-03   \n",
      "2298    Hepatitis C and Hepatocellular Carcinoma WP3646      2.682235e-03   \n",
      "255   regulation of cell adhesion mediated by integr...      2.766617e-03   \n",
      "256   positive regulation of apoptotic process (GO:0...      5.456706e-03   \n",
      "2299          Complement and Coagulation Cascades WP558      5.464236e-03   \n",
      "\n",
      "                        Gene_set  \n",
      "2290     WikiPathways_2019_Human  \n",
      "0     GO_Molecular_Function_2018  \n",
      "248   GO_Biological_Process_2018  \n",
      "249   GO_Biological_Process_2018  \n",
      "2291     WikiPathways_2019_Human  \n",
      "250   GO_Biological_Process_2018  \n",
      "251   GO_Biological_Process_2018  \n",
      "2292     WikiPathways_2019_Human  \n",
      "252   GO_Biological_Process_2018  \n",
      "253   GO_Biological_Process_2018  \n",
      "254   GO_Biological_Process_2018  \n",
      "2293     WikiPathways_2019_Human  \n",
      "2297     WikiPathways_2019_Human  \n",
      "2295     WikiPathways_2019_Human  \n",
      "2294     WikiPathways_2019_Human  \n",
      "2296     WikiPathways_2019_Human  \n",
      "2298     WikiPathways_2019_Human  \n",
      "255   GO_Biological_Process_2018  \n",
      "256   GO_Biological_Process_2018  \n",
      "2299     WikiPathways_2019_Human  \n",
      "Topic 7\n",
      "<class 'Exception'> Error analyzing gene list <traceback object at 0x7f4b65134048>\n",
      "Topic 8\n",
      "<class 'Exception'> Error analyzing gene list <traceback object at 0x7f4b651658c8>\n",
      "Topic 9\n"
     ]
    },
    {
     "name": "stderr",
     "output_type": "stream",
     "text": [
      "2020-01-29 10:52:41,248 Warning: No enrich terms using library GO_Molecular_Function_2018 when cutoff = 0.5\n",
      "2020-01-29 10:52:43,780 Warning: No enrich terms using library GO_Biological_Process_2018 when cutoff = 0.5\n",
      "2020-01-29 10:52:46,258 Warning: No enrich terms using library GO_Cellular_Component_2018 when cutoff = 0.5\n",
      "2020-01-29 10:52:48,758 Warning: No enrich terms using library Human_Phenotype_Ontology when cutoff = 0.5\n",
      "2020-01-29 10:52:51,249 Warning: No enrich terms using library WikiPathways_2019_Human when cutoff = 0.5\n"
     ]
    },
    {
     "name": "stdout",
     "output_type": "stream",
     "text": [
      "Empty DataFrame\n",
      "Columns: [Term, Adjusted P-value, Gene_set]\n",
      "Index: []\n",
      "Topic 10\n",
      "<class 'requests.exceptions.ConnectionError'> ('Connection aborted.', ConnectionResetError(104, 'Connection reset by peer')) <traceback object at 0x7f4b651392c8>\n",
      "Topic 11\n",
      "<class 'Exception'> Error analyzing gene list <traceback object at 0x7f4b65139d88>\n",
      "Topic 12\n"
     ]
    },
    {
     "name": "stderr",
     "output_type": "stream",
     "text": [
      "2020-01-29 10:53:23,186 Error fetching enrichment results: GO_Molecular_Function_2018\n"
     ]
    },
    {
     "name": "stdout",
     "output_type": "stream",
     "text": [
      "<class 'pandas.errors.ParserError'> Error tokenizing data. C error: Expected 1 fields in line 4, saw 2\n",
      " <traceback object at 0x7f4b657c7948>\n",
      "Topic 13\n",
      "<class 'Exception'> Error analyzing gene list <traceback object at 0x7f4b635c7a88>\n",
      "Topic 14\n"
     ]
    },
    {
     "name": "stderr",
     "output_type": "stream",
     "text": [
      "2020-01-29 10:53:41,583 Warning: No enrich terms using library GO_Molecular_Function_2018 when cutoff = 0.5\n",
      "2020-01-29 10:53:44,076 Warning: No enrich terms using library GO_Biological_Process_2018 when cutoff = 0.5\n",
      "2020-01-29 10:53:46,570 Warning: No enrich terms using library GO_Cellular_Component_2018 when cutoff = 0.5\n",
      "2020-01-29 10:53:49,056 Warning: No enrich terms using library Human_Phenotype_Ontology when cutoff = 0.5\n",
      "2020-01-29 10:53:51,532 Warning: No enrich terms using library WikiPathways_2019_Human when cutoff = 0.5\n"
     ]
    },
    {
     "name": "stdout",
     "output_type": "stream",
     "text": [
      "Empty DataFrame\n",
      "Columns: [Term, Adjusted P-value, Gene_set]\n",
      "Index: []\n",
      "Topic 15\n",
      "<class 'Exception'> Error analyzing gene list <traceback object at 0x7f4b65134888>\n",
      "Topic 16\n"
     ]
    },
    {
     "name": "stderr",
     "output_type": "stream",
     "text": [
      "2020-01-29 10:53:55,063 Warning: No enrich terms using library GO_Molecular_Function_2018 when cutoff = 0.5\n",
      "2020-01-29 10:53:57,549 Warning: No enrich terms using library GO_Biological_Process_2018 when cutoff = 0.5\n",
      "2020-01-29 10:54:00,027 Warning: No enrich terms using library GO_Cellular_Component_2018 when cutoff = 0.5\n",
      "2020-01-29 10:54:02,499 Warning: No enrich terms using library Human_Phenotype_Ontology when cutoff = 0.5\n",
      "2020-01-29 10:54:04,981 Warning: No enrich terms using library WikiPathways_2019_Human when cutoff = 0.5\n"
     ]
    },
    {
     "name": "stdout",
     "output_type": "stream",
     "text": [
      "Empty DataFrame\n",
      "Columns: [Term, Adjusted P-value, Gene_set]\n",
      "Index: []\n",
      "Topic 17\n"
     ]
    },
    {
     "name": "stderr",
     "output_type": "stream",
     "text": [
      "2020-01-29 10:54:07,921 Warning: No enrich terms using library GO_Molecular_Function_2018 when cutoff = 0.5\n",
      "2020-01-29 10:54:38,189 Error fetching enrichment results: GO_Biological_Process_2018\n"
     ]
    },
    {
     "name": "stdout",
     "output_type": "stream",
     "text": [
      "<class 'pandas.errors.ParserError'> Error tokenizing data. C error: Expected 1 fields in line 4, saw 2\n",
      " <traceback object at 0x7f4b657d7688>\n",
      "Topic 18\n",
      "<class 'Exception'> Error analyzing gene list <traceback object at 0x7f4b64de11c8>\n",
      "Topic 19\n",
      "<class 'Exception'> Error analyzing gene list <traceback object at 0x7f4b656fc508>\n",
      "Topic 20\n"
     ]
    },
    {
     "name": "stderr",
     "output_type": "stream",
     "text": [
      "2020-01-29 10:54:52,156 Warning: No enrich terms using library GO_Molecular_Function_2018 when cutoff = 0.5\n",
      "2020-01-29 10:54:54,660 Warning: No enrich terms using library GO_Biological_Process_2018 when cutoff = 0.5\n",
      "2020-01-29 10:54:57,382 Warning: No enrich terms using library GO_Cellular_Component_2018 when cutoff = 0.5\n",
      "2020-01-29 10:54:59,894 Warning: No enrich terms using library Human_Phenotype_Ontology when cutoff = 0.5\n",
      "2020-01-29 10:55:02,390 Warning: No enrich terms using library WikiPathways_2019_Human when cutoff = 0.5\n"
     ]
    },
    {
     "name": "stdout",
     "output_type": "stream",
     "text": [
      "Empty DataFrame\n",
      "Columns: [Term, Adjusted P-value, Gene_set]\n",
      "Index: []\n",
      "Topic 21\n",
      "<class 'Exception'> Error analyzing gene list <traceback object at 0x7f4b657d7588>\n",
      "Topic 22\n",
      "<class 'KeyboardInterrupt'>  <traceback object at 0x7f4b658f6cc8>\n",
      "Topic 23\n",
      "<class 'KeyboardInterrupt'>  <traceback object at 0x7f4b657c9048>\n",
      "Topic 24\n",
      "<class 'KeyboardInterrupt'>  <traceback object at 0x7f4b657c9588>\n",
      "Topic 25\n",
      "<class 'KeyboardInterrupt'>  <traceback object at 0x7f4b657d56c8>\n",
      "Topic 26\n",
      "<class 'KeyboardInterrupt'>  <traceback object at 0x7f4b657d5a08>\n",
      "Topic 27\n",
      "<class 'KeyboardInterrupt'>  <traceback object at 0x7f4b657d56c8>\n",
      "Topic 28\n",
      "<class 'KeyboardInterrupt'>  <traceback object at 0x7f4b657d5248>\n",
      "Topic 29\n",
      "<class 'KeyboardInterrupt'>  <traceback object at 0x7f4b657d5448>\n",
      "Topic 30\n",
      "<class 'KeyboardInterrupt'>  <traceback object at 0x7f4b657d5fc8>\n",
      "Topic 31\n",
      "<class 'KeyboardInterrupt'>  <traceback object at 0x7f4b65900808>\n"
     ]
    }
   ],
   "source": [
    "threshhold = 5e-1\n",
    "cutoff = 5e-1\n",
    "background = len([g for g in get_sea()])\n",
    "os.system(\"mkdir -p gsea\")\n",
    "for itopic,topic in enumerate(df_topics.columns):\n",
    "    try:\n",
    "        enriched_topic = pd.read_csv(\"gsea/gsea_level_%d_topic_%d.csv\"%(l,itopic+1), index_col=[0])\n",
    "        print(topic)\n",
    "    except:\n",
    "        try:\n",
    "            gene_list = ensg_to_symbol(df_topics.loc[:,topic].dropna().values)\n",
    "            print(topic)\n",
    "            enriched_topic = get_ontology_df(gene_list, cutoff=cutoff, threshhold = threshhold, gene_sets = gene_sets, background=background)\n",
    "            enriched_topic = enriched_topic.sort_values(by=['Adjusted P-value'], ascending=True)[:20]\n",
    "            enriched_topic.to_csv(\"gsea/gsea_level_%d_topic_%d.csv\"%(l,itopic+1))\n",
    "        except:\n",
    "            print(*sys.exc_info())\n",
    "            continue\n",
    "    print(enriched_topic)"
   ]
  },
  {
   "cell_type": "code",
   "execution_count": null,
   "metadata": {},
   "outputs": [],
   "source": [
    "topic_pvalues = []\n",
    "topic_gos = []\n",
    "for itopic,topic in enumerate(df_topics.columns):\n",
    "    try:\n",
    "        enriched_topic = pd.read_csv(\"%s/gsea/gsea_level_%d_topic_%d.csv\"%(directory,l,itopic+1))\n",
    "        if len(enriched_topic.index) >0:\n",
    "            p_val = np.sort(enriched_topic['Adjusted P-value'])[0]\n",
    "            topic_pvalues.append(-np.log10(p_val))\n",
    "            for goc in enriched_topic['Gene_set'][:10].unique():\n",
    "                topic_gos.append(goc)\n",
    "        print(topic)\n",
    "    except:\n",
    "        print(\"error\", sys.exc_info()[0])"
   ]
  },
  {
   "cell_type": "code",
   "execution_count": null,
   "metadata": {},
   "outputs": [],
   "source": [
    "fig = plt.figure()\n",
    "x = np.arange(1,1+len(topic_pvalues))\n",
    "c, _, _ = plt.hist(topic_pvalues, histtype='step', lw=2)\n",
    "plt.plot([-np.log10(0.05) for _ in np.linspace(1,10,num=10)],np.arange(0,np.max(c)+5,(np.max(c)+5)/10), ls='--', lw=5, label=\"$\\\\alpha=0.05$\")\n",
    "plt.xlabel('-log(P-value)', fontsize=16)\n",
    "plt.ylabel(\"number of topics\")\n",
    "#plt.ylim(0,0.055)\n",
    "#plt.yscale('log')\n",
    "plt.legend(fontsize=16)\n",
    "fig.savefig(\"%s/pvaluescrosstopic(%d).png\"%(directory,l))"
   ]
  },
  {
   "cell_type": "code",
   "execution_count": null,
   "metadata": {},
   "outputs": [],
   "source": [
    "fig = plt.figure(figsize=(20,10))\n",
    "gos, goscounts = np.unique(topic_gos,return_counts=True)\n",
    "plt.barh([\"\\n\".join(wrap(str(l).replace('_',' '),20)) for l in gos], goscounts)\n",
    "plt.yticks(fontsize=15)\n",
    "plt.show()\n",
    "fig.savefig(\"%s/pvaluecategories(%d).pdf\"%(directory,l))"
   ]
  },
  {
   "cell_type": "code",
   "execution_count": null,
   "metadata": {},
   "outputs": [],
   "source": []
  },
  {
   "cell_type": "code",
   "execution_count": null,
   "metadata": {},
   "outputs": [],
   "source": []
  },
  {
   "cell_type": "code",
   "execution_count": null,
   "metadata": {},
   "outputs": [],
   "source": []
  },
  {
   "cell_type": "code",
   "execution_count": null,
   "metadata": {},
   "outputs": [],
   "source": []
  },
  {
   "cell_type": "markdown",
   "metadata": {},
   "source": [
    "# WGCNA vs hSBM"
   ]
  },
  {
   "cell_type": "code",
   "execution_count": 5,
   "metadata": {},
   "outputs": [],
   "source": [
    "from scipy.stats import hypergeom"
   ]
  },
  {
   "cell_type": "code",
   "execution_count": 63,
   "metadata": {},
   "outputs": [
    {
     "data": {
      "text/plain": [
       "ENSG00000268903     Topic 1\n",
       "ENSG00000269981     Topic 1\n",
       "ENSG00000250575     Topic 2\n",
       "ENSG00000225972     Topic 1\n",
       "ENSG00000229344     Topic 1\n",
       "                     ...   \n",
       "ENSG00000210156    Topic 12\n",
       "ENSG00000210176    Topic 12\n",
       "ENSG00000210191     Topic 8\n",
       "ENSG00000210195     Topic 4\n",
       "ENSG00000210196     Topic 4\n",
       "Length: 3000, dtype: object"
      ]
     },
     "execution_count": 63,
     "metadata": {},
     "output_type": "execute_result"
    }
   ],
   "source": [
    "hsbm_list = pd.read_csv(\"topsbm/topsbm_level_2_word-dist.csv\", index_col=0).apply(pd.Series.idxmax,axis=1)\n",
    "hsbm_list.index = [g[:15] for g in hsbm_list.index]\n",
    "hsbm_list"
   ]
  },
  {
   "cell_type": "code",
   "execution_count": 64,
   "metadata": {},
   "outputs": [],
   "source": [
    "wgcna_list = pd.read_csv(\"wgcna/wgcna_level_0_word-dist.csv\", index_col=0).apply(pd.Series.idxmax,axis=1)"
   ]
  },
  {
   "cell_type": "code",
   "execution_count": 65,
   "metadata": {},
   "outputs": [],
   "source": [
    "tm_list = pd.read_csv(\"tm/tm_level_0_word-dist.csv\", index_col=0).apply(pd.Series.idxmax,axis=1)"
   ]
  },
  {
   "cell_type": "code",
   "execution_count": 66,
   "metadata": {},
   "outputs": [
    {
     "name": "stdout",
     "output_type": "stream",
     "text": [
      "3000 2878 3000\n"
     ]
    }
   ],
   "source": [
    "print(len(hsbm_list), len(tm_list), len(wgcna_list))"
   ]
  },
  {
   "cell_type": "code",
   "execution_count": 67,
   "metadata": {},
   "outputs": [],
   "source": [
    "#to uniform\n",
    "hsbm_list = hsbm_list[hsbm_list.index.isin(wgcna_list.index)]\n",
    "wgcna_list = wgcna_list[wgcna_list.index.isin(hsbm_list.index)]\n",
    "tm_list = tm_list[tm_list.index.isin(hsbm_list.index)]"
   ]
  },
  {
   "cell_type": "code",
   "execution_count": 68,
   "metadata": {},
   "outputs": [],
   "source": [
    "list_1 = hsbm_list\n",
    "list_2 = wgcna_list"
   ]
  },
  {
   "cell_type": "code",
   "execution_count": 69,
   "metadata": {},
   "outputs": [],
   "source": [
    "population_size = len(list_1[list_1.index.isin(list_2.index)])\n",
    "pop_successes = {module:len(list_2[list_2==module]) for module in list_2.unique()}\n",
    "sample_sizes = {topic:len(list_1[list_1==topic]) for topic in list_1.unique()}\n",
    "num_successes = pd.DataFrame(index=list_1.unique(), columns=list_2.unique()).fillna(0)\n",
    "for g in list_2.index:\n",
    "    if g in list_1:\n",
    "        num_successes.at[list_1[g],list_2[g]]+=1"
   ]
  },
  {
   "cell_type": "code",
   "execution_count": 70,
   "metadata": {},
   "outputs": [],
   "source": [
    "df_cmap=pd.DataFrame(index=list_1.unique(), columns=list_2.unique()).fillna(0.5)\n",
    "for module in df_cmap.columns:\n",
    "    for topic in df_cmap.index:\n",
    "        x = num_successes.at[topic,module].astype(int) # number of successes\n",
    "        M = population_size # pop size\n",
    "        k = pop_successes[module] # successes in pop\n",
    "        N = sample_sizes[topic] # sample size\n",
    "        pval = hypergeom.sf(x-1, M, k, N)\n",
    "        df_cmap.at[topic,module]=-np.log10(float(pval))"
   ]
  },
  {
   "cell_type": "code",
   "execution_count": 71,
   "metadata": {},
   "outputs": [],
   "source": [
    "import seaborn as sns\n",
    "sns.set_context('paper')"
   ]
  },
  {
   "cell_type": "code",
   "execution_count": 72,
   "metadata": {},
   "outputs": [],
   "source": [
    "df_cmap[df_cmap<3]=0"
   ]
  },
  {
   "cell_type": "code",
   "execution_count": 73,
   "metadata": {},
   "outputs": [
    {
     "data": {
      "text/plain": [
       "<Figure size 432x288 with 0 Axes>"
      ]
     },
     "metadata": {},
     "output_type": "display_data"
    },
    {
     "data": {
      "image/png": "[encoded data removed]",
      "text/plain": [
       "<Figure size 720x720 with 5 Axes>"
      ]
     },
     "metadata": {},
     "output_type": "display_data"
    }
   ],
   "source": [
    "#df_cmap = df_cmap.sort_values(by=[c for c in df_cmap.columns], axis=0, ascending=True)\n",
    "#create a color palette with the same number of colors as unique values in the Source column\n",
    "network_pal = sns.color_palette('husl',n_colors=len(df_cmap.columns))\n",
    "\n",
    "#Create a dictionary where the key is the category and the values are the\n",
    "#colors from the palette we just created\n",
    "network_lut = dict(zip(df_cmap.columns, network_pal))\n",
    "network_col = df_cmap.columns.map(network_lut)\n",
    "#Create a dictionary where the key is the category and the values are the\n",
    "#colors from the palette we just created\n",
    "network_lut = dict(zip(df_cmap.columns, network_pal))\n",
    "network_col = df_cmap.columns.map(network_lut)\n",
    "\n",
    "fig = plt.figure()\n",
    "cm = sns.clustermap(df_cmap, row_cluster=False, col_cluster=False, metric='euclidean', vmin=0, cmap='Blues_r', col_colors=network_col)\n",
    "cm.fig.suptitle('$-Log(Pvalue)$')\n",
    "cm.ax_heatmap.set_title('Tissues')\n",
    "cm.fig.savefig(\"topics_hsbm_wgcna.pdf\")"
   ]
  },
  {
   "cell_type": "code",
   "execution_count": 74,
   "metadata": {},
   "outputs": [],
   "source": [
    "from sklearn.metrics import v_measure_score"
   ]
  },
  {
   "cell_type": "code",
   "execution_count": 77,
   "metadata": {},
   "outputs": [
    {
     "name": "stdout",
     "output_type": "stream",
     "text": [
      "hsbm - wgcna 0.334\n",
      "hsbm - tm 0.269\n",
      "tm - wgcna 0.455\n"
     ]
    }
   ],
   "source": [
    "print(\"hsbm - wgcna %.3f\"%v_measure_score(hsbm_list, wgcna_list))\n",
    "print(\"hsbm - tm %.3f\"%v_measure_score(hsbm_list.reindex_like(tm_list), tm_list))\n",
    "print(\"tm - wgcna %.3f\"%v_measure_score(tm_list, wgcna_list.reindex_like(tm_list)))"
   ]
  },
  {
   "cell_type": "code",
   "execution_count": null,
   "metadata": {},
   "outputs": [],
   "source": []
  }
 ],
 "metadata": {
  "kernelspec": {
   "display_name": "Python 3",
   "language": "python",
   "name": "python3"
  },
  "language_info": {
   "codemirror_mode": {
    "name": "ipython",
    "version": 3
   },
   "file_extension": ".py",
   "mimetype": "text/x-python",
   "name": "python",
   "nbconvert_exporter": "python",
   "pygments_lexer": "ipython3",
   "version": "3.6.10"
  }
 },
 "nbformat": 4,
 "nbformat_minor": 4
}

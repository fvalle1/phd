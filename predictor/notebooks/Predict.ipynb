{
 "cells": [
  {
   "cell_type": "code",
   "execution_count": 14,
   "metadata": {},
   "outputs": [],
   "source": [
    "import pandas as pd\n",
    "import os,sys, gc\n",
    "import matplotlib.pyplot as plt\n",
    "from scipy.stats import entropy\n",
    "sys.path.append(\"/home/fvalle/phd/master_thesis/\")\n",
    "sys.path.append(\"/home/fvalle/phd/master_thesis/hsbm/\")\n",
    "from hsbmpy import get_max_available_L"
   ]
  },
  {
   "cell_type": "code",
   "execution_count": 15,
   "metadata": {},
   "outputs": [],
   "source": [
    "#label = 'disease_type'\n",
    "algorithm = \"topsbm\"\n",
    "directory='/home/fvalle/phd/datasets/merged'\n",
    "L = get_max_available_L(directory, algorithm)-1\n",
    "os.chdir(directory)"
   ]
  },
  {
   "cell_type": "code",
   "execution_count": 16,
   "metadata": {},
   "outputs": [
    {
     "data": {
      "text/html": [
       "<div>\n",
       "<style scoped>\n",
       "    .dataframe tbody tr th:only-of-type {\n",
       "        vertical-align: middle;\n",
       "    }\n",
       "\n",
       "    .dataframe tbody tr th {\n",
       "        vertical-align: top;\n",
       "    }\n",
       "\n",
       "    .dataframe thead th {\n",
       "        text-align: right;\n",
       "    }\n",
       "</style>\n",
       "<table border=\"1\" class=\"dataframe\">\n",
       "  <thead>\n",
       "    <tr style=\"text-align: right;\">\n",
       "      <th></th>\n",
       "      <th>subset</th>\n",
       "      <th>primary_site</th>\n",
       "      <th>dataset</th>\n",
       "    </tr>\n",
       "  </thead>\n",
       "  <tbody>\n",
       "    <tr>\n",
       "      <th>TCGA-E8-A2JQ-11A-11R-A180-07</th>\n",
       "      <td>Thyroid_tcga</td>\n",
       "      <td>Thyroid</td>\n",
       "      <td>tcga</td>\n",
       "    </tr>\n",
       "    <tr>\n",
       "      <th>TCGA-EL-A3ZK-11A-11R-A23N-07</th>\n",
       "      <td>Thyroid_tcga</td>\n",
       "      <td>Thyroid</td>\n",
       "      <td>tcga</td>\n",
       "    </tr>\n",
       "    <tr>\n",
       "      <th>TCGA-BJ-A28X-11A-11R-A22L-07</th>\n",
       "      <td>Thyroid_tcga</td>\n",
       "      <td>Thyroid</td>\n",
       "      <td>tcga</td>\n",
       "    </tr>\n",
       "    <tr>\n",
       "      <th>TCGA-BJ-A28R-11A-11R-A16R-07</th>\n",
       "      <td>Thyroid_tcga</td>\n",
       "      <td>Thyroid</td>\n",
       "      <td>tcga</td>\n",
       "    </tr>\n",
       "    <tr>\n",
       "      <th>TCGA-EL-A3T8-11A-11R-A22L-07</th>\n",
       "      <td>Thyroid_tcga</td>\n",
       "      <td>Thyroid</td>\n",
       "      <td>tcga</td>\n",
       "    </tr>\n",
       "  </tbody>\n",
       "</table>\n",
       "</div>"
      ],
      "text/plain": [
       "                                    subset primary_site dataset\n",
       "TCGA-E8-A2JQ-11A-11R-A180-07  Thyroid_tcga      Thyroid    tcga\n",
       "TCGA-EL-A3ZK-11A-11R-A23N-07  Thyroid_tcga      Thyroid    tcga\n",
       "TCGA-BJ-A28X-11A-11R-A22L-07  Thyroid_tcga      Thyroid    tcga\n",
       "TCGA-BJ-A28R-11A-11R-A16R-07  Thyroid_tcga      Thyroid    tcga\n",
       "TCGA-EL-A3T8-11A-11R-A22L-07  Thyroid_tcga      Thyroid    tcga"
      ]
     },
     "execution_count": 16,
     "metadata": {},
     "output_type": "execute_result"
    }
   ],
   "source": [
    "label = 'subset'\n",
    "\n",
    "df_topics = pd.read_csv(\"%s/%s_level_%d_topic-dist.csv\"%(algorithm,algorithm,L)).set_index('doc').drop('i_doc', axis=1)\n",
    "df_words = pd.read_csv(\"%s/%s_level_%d_word-dist.csv\"%(algorithm,algorithm,L), index_col=0)\n",
    "df_words.index=[g[:15] for g in df_words.index]\n",
    "df = pd.read_csv(\"mainTable.csv\", index_col=0).reindex(index=df_words.index)\n",
    "df = df.divide(df.sum(0),1).transpose().fillna(0)\n",
    "df_files=pd.read_csv(\"files.dat\", index_col=0)\n",
    "df_topics.insert(0,'tissue', df_files.reindex(index=df_topics.index)[label])\n",
    "df_topic_tissue = df_topics.groupby('tissue').mean()\n",
    "df_files.head()"
   ]
  },
  {
   "cell_type": "markdown",
   "metadata": {},
   "source": [
    "## Projection based predictions"
   ]
  },
  {
   "cell_type": "code",
   "execution_count": 4,
   "metadata": {},
   "outputs": [],
   "source": [
    "df_Pst = pd.DataFrame(data=pd.np.matmul(df.values,df_words.values), index= df.index, columns=df_words.columns)\n",
    "df_Pst = df_Pst.divide(df_Pst.sum(1), 0)\n",
    "predictions = pd.np.array(list(map(lambda x: list(map(lambda y: entropy(x, y), df_topic_tissue.astype(float).values)), df_Pst.astype(float).values)))\n",
    "\n",
    "df_Pst.insert(0,'tissue', df_files.reindex(index=df_Pst.index)[label])\n",
    "reals = pd.np.unique(df_Pst.tissue, return_inverse=True)[1]"
   ]
  },
  {
   "cell_type": "code",
   "execution_count": 5,
   "metadata": {},
   "outputs": [],
   "source": [
    "from sklearn.metrics import accuracy_score, roc_auc_score"
   ]
  },
  {
   "cell_type": "code",
   "execution_count": 36,
   "metadata": {},
   "outputs": [
    {
     "name": "stdout",
     "output_type": "stream",
     "text": [
      "Accuracy projecting score: 0.424\n"
     ]
    }
   ],
   "source": [
    "print(f\"Accuracy projecting score: {accuracy_score(reals, pd.np.argmin(predictions, axis=1))}\")"
   ]
  },
  {
   "cell_type": "markdown",
   "metadata": {},
   "source": [
    "## NN based predictor"
   ]
  },
  {
   "cell_type": "code",
   "execution_count": 17,
   "metadata": {},
   "outputs": [
    {
     "data": {
      "text/plain": [
       "[name: \"/device:CPU:0\"\n",
       " device_type: \"CPU\"\n",
       " memory_limit: 268435456\n",
       " locality {\n",
       " }\n",
       " incarnation: 5814013091148605438, name: \"/device:XLA_CPU:0\"\n",
       " device_type: \"XLA_CPU\"\n",
       " memory_limit: 17179869184\n",
       " locality {\n",
       " }\n",
       " incarnation: 14304621024670728612\n",
       " physical_device_desc: \"device: XLA_CPU device\"]"
      ]
     },
     "execution_count": 17,
     "metadata": {},
     "output_type": "execute_result"
    }
   ],
   "source": [
    "import tensorflow as tf\n",
    "from tensorflow.keras.models import Sequential\n",
    "from tensorflow.keras.layers import Dense\n",
    "from tensorflow.keras.losses import binary_crossentropy,mean_squared_error, categorical_crossentropy\n",
    "from tensorflow.keras.optimizers import SGD, Adam\n",
    "from tensorflow.keras.datasets import mnist\n",
    "from tensorflow.keras.utils import plot_model,to_categorical\n",
    "from tensorflow.keras.callbacks import Callback, CSVLogger, EarlyStopping\n",
    "from tensorflow.keras.models import load_model\n",
    "from tensorflow.keras import backend as K\n",
    "from tensorflow.keras.wrappers.scikit_learn import KerasClassifier\n",
    "from tensorflow.python.framework.graph_util import convert_variables_to_constants\n",
    "from tensorflow.python.client.device_lib import list_local_devices\n",
    "import matplotlib.pyplot as plt\n",
    "from sklearn.model_selection import train_test_split, GridSearchCV\n",
    "import numpy as np\n",
    "import os,sys, gc\n",
    "list_local_devices()"
   ]
  },
  {
   "cell_type": "code",
   "execution_count": 18,
   "metadata": {},
   "outputs": [
    {
     "name": "stdout",
     "output_type": "stream",
     "text": [
      "(800, 235) (800, 16) (760, 235) (760, 16)\n"
     ]
    }
   ],
   "source": [
    "df_labels=df_files.copy()\n",
    "df_labels=df_labels.reindex(index=df_topics.index)\n",
    "\n",
    "uniq = len(df_labels[label].unique())\n",
    "\n",
    "X_train = df_topics.drop('tissue',1).divide(df_topics.drop('tissue',1).mean(0),1).values.astype(float)\n",
    "Y_train = to_categorical(np.unique(df_labels[label], return_inverse=True)[1])\n",
    "classes=np.unique(df_labels[df_labels.index.isin(df.index)][label], return_inverse=True)[0]\n",
    "\n",
    "inputs = X_train.shape[1]\n",
    "\n",
    "X_tm_train, X_tm_test, Y_tm_train, Y_tm_test = train_test_split(X_train, Y_train, random_state=42, train_size=0.95)\n",
    "\n",
    "print(X_train.shape, Y_train.shape, X_tm_train.shape, Y_tm_train.shape)"
   ]
  },
  {
   "cell_type": "code",
   "execution_count": 33,
   "metadata": {},
   "outputs": [
    {
     "name": "stdout",
     "output_type": "stream",
     "text": [
      "Model: \"sequential\"\n",
      "_________________________________________________________________\n",
      "Layer (type)                 Output Shape              Param #   \n",
      "=================================================================\n",
      "dense (Dense)                (None, 100)               23600     \n",
      "_________________________________________________________________\n",
      "dense_1 (Dense)              (None, 16)                1616      \n",
      "=================================================================\n",
      "Total params: 25,216\n",
      "Trainable params: 25,216\n",
      "Non-trainable params: 0\n",
      "_________________________________________________________________\n",
      "None\n"
     ]
    },
    {
     "data": {
      "image/png": "[encoded data removed]",
      "text/plain": [
       "<IPython.core.display.Image object>"
      ]
     },
     "execution_count": 33,
     "metadata": {},
     "output_type": "execute_result"
    }
   ],
   "source": [
    "K.clear_session()\n",
    "\n",
    "os.system(\"rm -rf log.csv\")\n",
    "csv_logger = CSVLogger('log.csv', append=True, separator=',')\n",
    "es = EarlyStopping(monitor='val_loss', min_delta=1e-10, mode='min', patience=25)\n",
    "\n",
    "model=Sequential()\n",
    "model.add(Dense(units=100, input_dim=inputs, use_bias=True, bias_initializer='ones', activation=\"relu\"))\n",
    "model.add(Dense(units=uniq, input_dim=inputs, activation=\"sigmoid\"))\n",
    "model.compile(loss=binary_crossentropy, optimizer=SGD(lr=0.1), metrics=['accuracy', 'AUC'])\n",
    "K.set_learning_phase(0)\n",
    "\n",
    "print(model.summary())\n",
    "plot_model(model, show_shapes=True)"
   ]
  },
  {
   "cell_type": "code",
   "execution_count": 34,
   "metadata": {
    "collapsed": true,
    "jupyter": {
     "outputs_hidden": true
    }
   },
   "outputs": [
    {
     "name": "stdout",
     "output_type": "stream",
     "text": [
      "Train on 608 samples, validate on 152 samples\n",
      "Epoch 1/500\n",
      "608/608 [==============================] - 1s 2ms/sample - loss: 0.9856 - accuracy: 0.7361 - AUC: 0.5315 - val_loss: 0.5322 - val_accuracy: 0.8898 - val_AUC: 0.5906\n",
      "Epoch 2/500\n",
      "608/608 [==============================] - 0s 345us/sample - loss: 0.3472 - accuracy: 0.9163 - AUC: 0.6579 - val_loss: 0.4411 - val_accuracy: 0.9145 - val_AUC: 0.6609\n",
      "Epoch 3/500\n",
      "608/608 [==============================] - 0s 280us/sample - loss: 0.2680 - accuracy: 0.9312 - AUC: 0.7484 - val_loss: 0.3911 - val_accuracy: 0.9211 - val_AUC: 0.7262\n",
      "Epoch 4/500\n",
      "608/608 [==============================] - 0s 315us/sample - loss: 0.2139 - accuracy: 0.9385 - AUC: 0.8179 - val_loss: 0.3717 - val_accuracy: 0.9235 - val_AUC: 0.7648\n",
      "Epoch 5/500\n",
      "608/608 [==============================] - 0s 322us/sample - loss: 0.1830 - accuracy: 0.9434 - AUC: 0.8614 - val_loss: 0.3450 - val_accuracy: 0.9289 - val_AUC: 0.7910\n",
      "Epoch 6/500\n",
      "608/608 [==============================] - 0s 388us/sample - loss: 0.1616 - accuracy: 0.9484 - AUC: 0.8881 - val_loss: 0.3290 - val_accuracy: 0.9317 - val_AUC: 0.8172\n",
      "Epoch 7/500\n",
      "608/608 [==============================] - 0s 362us/sample - loss: 0.1439 - accuracy: 0.9529 - AUC: 0.9107 - val_loss: 0.3350 - val_accuracy: 0.9297 - val_AUC: 0.8213\n",
      "Epoch 8/500\n",
      "608/608 [==============================] - 0s 401us/sample - loss: 0.1354 - accuracy: 0.9548 - AUC: 0.9229 - val_loss: 0.3105 - val_accuracy: 0.9322 - val_AUC: 0.8372\n",
      "Epoch 9/500\n",
      "608/608 [==============================] - 0s 308us/sample - loss: 0.1234 - accuracy: 0.9576 - AUC: 0.9365 - val_loss: 0.3022 - val_accuracy: 0.9363 - val_AUC: 0.8454\n",
      "Epoch 10/500\n",
      "608/608 [==============================] - 0s 357us/sample - loss: 0.1145 - accuracy: 0.9610 - AUC: 0.9455 - val_loss: 0.2943 - val_accuracy: 0.9367 - val_AUC: 0.8524\n",
      "Epoch 11/500\n",
      "608/608 [==============================] - 0s 279us/sample - loss: 0.1057 - accuracy: 0.9634 - AUC: 0.9567 - val_loss: 0.2897 - val_accuracy: 0.9383 - val_AUC: 0.8589\n",
      "Epoch 12/500\n",
      "608/608 [==============================] - 0s 350us/sample - loss: 0.1007 - accuracy: 0.9644 - AUC: 0.9633 - val_loss: 0.2822 - val_accuracy: 0.9391 - val_AUC: 0.8634\n",
      "Epoch 13/500\n",
      "608/608 [==============================] - 0s 466us/sample - loss: 0.0951 - accuracy: 0.9668 - AUC: 0.9666 - val_loss: 0.2745 - val_accuracy: 0.9404 - val_AUC: 0.8711\n",
      "Epoch 14/500\n",
      "608/608 [==============================] - 0s 455us/sample - loss: 0.0899 - accuracy: 0.9673 - AUC: 0.9707 - val_loss: 0.2722 - val_accuracy: 0.9416 - val_AUC: 0.8764\n",
      "Epoch 15/500\n",
      "608/608 [==============================] - 0s 367us/sample - loss: 0.0867 - accuracy: 0.9679 - AUC: 0.9732 - val_loss: 0.2681 - val_accuracy: 0.9433 - val_AUC: 0.8809\n",
      "Epoch 16/500\n",
      "608/608 [==============================] - 0s 393us/sample - loss: 0.0835 - accuracy: 0.9700 - AUC: 0.9746 - val_loss: 0.2652 - val_accuracy: 0.9428 - val_AUC: 0.8811\n",
      "Epoch 17/500\n",
      "608/608 [==============================] - 0s 380us/sample - loss: 0.0792 - accuracy: 0.9712 - AUC: 0.9782 - val_loss: 0.2721 - val_accuracy: 0.9412 - val_AUC: 0.8815\n",
      "Epoch 18/500\n",
      "608/608 [==============================] - 0s 319us/sample - loss: 0.0779 - accuracy: 0.9706 - AUC: 0.9790 - val_loss: 0.2635 - val_accuracy: 0.9424 - val_AUC: 0.8847\n",
      "Epoch 19/500\n",
      "608/608 [==============================] - 0s 344us/sample - loss: 0.0739 - accuracy: 0.9721 - AUC: 0.9820 - val_loss: 0.2644 - val_accuracy: 0.9449 - val_AUC: 0.8841\n",
      "Epoch 20/500\n",
      "608/608 [==============================] - 0s 377us/sample - loss: 0.0702 - accuracy: 0.9728 - AUC: 0.9855 - val_loss: 0.2597 - val_accuracy: 0.9449 - val_AUC: 0.8847\n",
      "Epoch 21/500\n",
      "608/608 [==============================] - 0s 551us/sample - loss: 0.0686 - accuracy: 0.9735 - AUC: 0.9851 - val_loss: 0.2577 - val_accuracy: 0.9465 - val_AUC: 0.8888\n",
      "Epoch 22/500\n",
      "608/608 [==============================] - 0s 285us/sample - loss: 0.0663 - accuracy: 0.9747 - AUC: 0.9863 - val_loss: 0.2575 - val_accuracy: 0.9470 - val_AUC: 0.8920\n",
      "Epoch 23/500\n",
      "608/608 [==============================] - 0s 368us/sample - loss: 0.0641 - accuracy: 0.9758 - AUC: 0.9874 - val_loss: 0.2625 - val_accuracy: 0.9470 - val_AUC: 0.8900\n",
      "Epoch 24/500\n",
      "608/608 [==============================] - 0s 349us/sample - loss: 0.0651 - accuracy: 0.9760 - AUC: 0.9868 - val_loss: 0.2564 - val_accuracy: 0.9465 - val_AUC: 0.8926\n",
      "Epoch 25/500\n",
      "608/608 [==============================] - 0s 339us/sample - loss: 0.0621 - accuracy: 0.9768 - AUC: 0.9873 - val_loss: 0.2522 - val_accuracy: 0.9486 - val_AUC: 0.8943\n",
      "Epoch 26/500\n",
      "608/608 [==============================] - 0s 308us/sample - loss: 0.0590 - accuracy: 0.9770 - AUC: 0.9900 - val_loss: 0.2544 - val_accuracy: 0.9482 - val_AUC: 0.8942\n",
      "Epoch 27/500\n",
      "608/608 [==============================] - 0s 274us/sample - loss: 0.0576 - accuracy: 0.9784 - AUC: 0.9912 - val_loss: 0.2489 - val_accuracy: 0.9486 - val_AUC: 0.8995\n",
      "Epoch 28/500\n",
      "608/608 [==============================] - 0s 346us/sample - loss: 0.0558 - accuracy: 0.9794 - AUC: 0.9909 - val_loss: 0.2447 - val_accuracy: 0.9507 - val_AUC: 0.9050\n",
      "Epoch 29/500\n",
      "608/608 [==============================] - 0s 346us/sample - loss: 0.0546 - accuracy: 0.9796 - AUC: 0.9920 - val_loss: 0.2488 - val_accuracy: 0.9507 - val_AUC: 0.9012\n",
      "Epoch 30/500\n",
      "608/608 [==============================] - 0s 277us/sample - loss: 0.0527 - accuracy: 0.9806 - AUC: 0.9931 - val_loss: 0.2474 - val_accuracy: 0.9498 - val_AUC: 0.9025\n",
      "Epoch 31/500\n",
      "608/608 [==============================] - 0s 430us/sample - loss: 0.0516 - accuracy: 0.9807 - AUC: 0.9929 - val_loss: 0.2475 - val_accuracy: 0.9502 - val_AUC: 0.9023\n",
      "Epoch 32/500\n",
      "608/608 [==============================] - 0s 479us/sample - loss: 0.0505 - accuracy: 0.9814 - AUC: 0.9942 - val_loss: 0.2443 - val_accuracy: 0.9519 - val_AUC: 0.9064\n",
      "Epoch 33/500\n",
      "608/608 [==============================] - 0s 293us/sample - loss: 0.0504 - accuracy: 0.9822 - AUC: 0.9942 - val_loss: 0.2443 - val_accuracy: 0.9539 - val_AUC: 0.9032\n",
      "Epoch 34/500\n",
      "608/608 [==============================] - 0s 221us/sample - loss: 0.0482 - accuracy: 0.9818 - AUC: 0.9951 - val_loss: 0.2459 - val_accuracy: 0.9523 - val_AUC: 0.9034\n",
      "Epoch 35/500\n",
      "608/608 [==============================] - 0s 341us/sample - loss: 0.0479 - accuracy: 0.9820 - AUC: 0.9949 - val_loss: 0.2459 - val_accuracy: 0.9527 - val_AUC: 0.9044\n",
      "Epoch 36/500\n",
      "608/608 [==============================] - 0s 262us/sample - loss: 0.0468 - accuracy: 0.9825 - AUC: 0.9952 - val_loss: 0.2464 - val_accuracy: 0.9519 - val_AUC: 0.9041\n",
      "Epoch 37/500\n",
      "608/608 [==============================] - 0s 264us/sample - loss: 0.0461 - accuracy: 0.9832 - AUC: 0.9952 - val_loss: 0.2470 - val_accuracy: 0.9527 - val_AUC: 0.9057\n",
      "Epoch 38/500\n",
      "608/608 [==============================] - 0s 366us/sample - loss: 0.0455 - accuracy: 0.9832 - AUC: 0.9957 - val_loss: 0.2481 - val_accuracy: 0.9527 - val_AUC: 0.9054\n",
      "Epoch 39/500\n",
      "608/608 [==============================] - 0s 309us/sample - loss: 0.0446 - accuracy: 0.9844 - AUC: 0.9951 - val_loss: 0.2450 - val_accuracy: 0.9535 - val_AUC: 0.9062\n",
      "Epoch 40/500\n",
      "608/608 [==============================] - 0s 467us/sample - loss: 0.0432 - accuracy: 0.9847 - AUC: 0.9964 - val_loss: 0.2449 - val_accuracy: 0.9552 - val_AUC: 0.9068\n",
      "Epoch 41/500\n",
      "608/608 [==============================] - 0s 361us/sample - loss: 0.0432 - accuracy: 0.9848 - AUC: 0.9959 - val_loss: 0.2411 - val_accuracy: 0.9552 - val_AUC: 0.9080\n",
      "Epoch 42/500\n",
      "608/608 [==============================] - 0s 446us/sample - loss: 0.0420 - accuracy: 0.9860 - AUC: 0.9963 - val_loss: 0.2403 - val_accuracy: 0.9552 - val_AUC: 0.9111\n",
      "Epoch 43/500\n",
      "608/608 [==============================] - 0s 435us/sample - loss: 0.0416 - accuracy: 0.9863 - AUC: 0.9958 - val_loss: 0.2422 - val_accuracy: 0.9564 - val_AUC: 0.9085\n",
      "Epoch 44/500\n",
      "608/608 [==============================] - 0s 393us/sample - loss: 0.0405 - accuracy: 0.9863 - AUC: 0.9971 - val_loss: 0.2402 - val_accuracy: 0.9556 - val_AUC: 0.9089\n",
      "Epoch 45/500\n",
      "608/608 [==============================] - 0s 340us/sample - loss: 0.0402 - accuracy: 0.9866 - AUC: 0.9968 - val_loss: 0.2395 - val_accuracy: 0.9544 - val_AUC: 0.9121\n",
      "Epoch 46/500\n",
      "608/608 [==============================] - 0s 350us/sample - loss: 0.0389 - accuracy: 0.9872 - AUC: 0.9970 - val_loss: 0.2369 - val_accuracy: 0.9568 - val_AUC: 0.9125\n",
      "Epoch 47/500\n",
      "608/608 [==============================] - 0s 427us/sample - loss: 0.0382 - accuracy: 0.9873 - AUC: 0.9975 - val_loss: 0.2377 - val_accuracy: 0.9568 - val_AUC: 0.9125\n",
      "Epoch 48/500\n",
      "608/608 [==============================] - 0s 359us/sample - loss: 0.0379 - accuracy: 0.9880 - AUC: 0.9974 - val_loss: 0.2421 - val_accuracy: 0.9552 - val_AUC: 0.9132\n",
      "Epoch 49/500\n",
      "608/608 [==============================] - 0s 433us/sample - loss: 0.0379 - accuracy: 0.9877 - AUC: 0.9973 - val_loss: 0.2404 - val_accuracy: 0.9556 - val_AUC: 0.9130\n",
      "Epoch 50/500\n",
      "608/608 [==============================] - 0s 322us/sample - loss: 0.0365 - accuracy: 0.9881 - AUC: 0.9978 - val_loss: 0.2401 - val_accuracy: 0.9572 - val_AUC: 0.9141\n",
      "Epoch 51/500\n",
      "608/608 [==============================] - 0s 371us/sample - loss: 0.0365 - accuracy: 0.9884 - AUC: 0.9976 - val_loss: 0.2376 - val_accuracy: 0.9576 - val_AUC: 0.9122\n",
      "Epoch 52/500\n",
      "608/608 [==============================] - 0s 451us/sample - loss: 0.0362 - accuracy: 0.9886 - AUC: 0.9977 - val_loss: 0.2380 - val_accuracy: 0.9576 - val_AUC: 0.9126\n",
      "Epoch 53/500\n",
      "608/608 [==============================] - 0s 365us/sample - loss: 0.0353 - accuracy: 0.9888 - AUC: 0.9981 - val_loss: 0.2431 - val_accuracy: 0.9552 - val_AUC: 0.9087\n",
      "Epoch 54/500\n",
      "608/608 [==============================] - 0s 441us/sample - loss: 0.0527 - accuracy: 0.9873 - AUC: 0.9962 - val_loss: 0.2338 - val_accuracy: 0.9589 - val_AUC: 0.9123\n",
      "Epoch 55/500\n",
      "608/608 [==============================] - 0s 358us/sample - loss: 0.0477 - accuracy: 0.9891 - AUC: 0.9970 - val_loss: 0.2313 - val_accuracy: 0.9593 - val_AUC: 0.9135\n",
      "Epoch 56/500\n",
      "608/608 [==============================] - 0s 332us/sample - loss: 0.0451 - accuracy: 0.9898 - AUC: 0.9972 - val_loss: 0.2326 - val_accuracy: 0.9597 - val_AUC: 0.9140\n",
      "Epoch 57/500\n",
      "608/608 [==============================] - 0s 354us/sample - loss: 0.0433 - accuracy: 0.9900 - AUC: 0.9973 - val_loss: 0.2344 - val_accuracy: 0.9581 - val_AUC: 0.9134\n",
      "Epoch 58/500\n",
      "608/608 [==============================] - 0s 360us/sample - loss: 0.0420 - accuracy: 0.9895 - AUC: 0.9973 - val_loss: 0.2341 - val_accuracy: 0.9593 - val_AUC: 0.9145\n",
      "Epoch 59/500\n",
      "608/608 [==============================] - 0s 311us/sample - loss: 0.0403 - accuracy: 0.9898 - AUC: 0.9974 - val_loss: 0.2334 - val_accuracy: 0.9593 - val_AUC: 0.9175\n",
      "Epoch 60/500\n",
      "608/608 [==============================] - 0s 425us/sample - loss: 0.0387 - accuracy: 0.9898 - AUC: 0.9975 - val_loss: 0.2344 - val_accuracy: 0.9601 - val_AUC: 0.9151\n",
      "Epoch 61/500\n",
      "608/608 [==============================] - 0s 410us/sample - loss: 0.0373 - accuracy: 0.9902 - AUC: 0.9975 - val_loss: 0.2352 - val_accuracy: 0.9589 - val_AUC: 0.9177\n",
      "Epoch 62/500\n",
      "608/608 [==============================] - 0s 338us/sample - loss: 0.0358 - accuracy: 0.9907 - AUC: 0.9975 - val_loss: 0.2338 - val_accuracy: 0.9605 - val_AUC: 0.9156\n",
      "Epoch 63/500\n",
      "608/608 [==============================] - 0s 354us/sample - loss: 0.0344 - accuracy: 0.9901 - AUC: 0.9977 - val_loss: 0.2351 - val_accuracy: 0.9609 - val_AUC: 0.9158\n",
      "Epoch 64/500\n",
      "608/608 [==============================] - 0s 252us/sample - loss: 0.0330 - accuracy: 0.9909 - AUC: 0.9977 - val_loss: 0.2359 - val_accuracy: 0.9609 - val_AUC: 0.9155\n",
      "Epoch 65/500\n",
      "608/608 [==============================] - 0s 310us/sample - loss: 0.0318 - accuracy: 0.9911 - AUC: 0.9978 - val_loss: 0.2352 - val_accuracy: 0.9597 - val_AUC: 0.9154\n",
      "Epoch 66/500\n",
      "608/608 [==============================] - 0s 358us/sample - loss: 0.0310 - accuracy: 0.9916 - AUC: 0.9979 - val_loss: 0.2388 - val_accuracy: 0.9589 - val_AUC: 0.9155\n",
      "Epoch 67/500\n",
      "608/608 [==============================] - 0s 414us/sample - loss: 0.0303 - accuracy: 0.9915 - AUC: 0.9979 - val_loss: 0.2382 - val_accuracy: 0.9593 - val_AUC: 0.9159\n",
      "Epoch 68/500\n",
      "608/608 [==============================] - 0s 505us/sample - loss: 0.0295 - accuracy: 0.9914 - AUC: 0.9988 - val_loss: 0.2385 - val_accuracy: 0.9576 - val_AUC: 0.9159\n",
      "Epoch 69/500\n",
      "608/608 [==============================] - 0s 454us/sample - loss: 0.0291 - accuracy: 0.9915 - AUC: 0.9990 - val_loss: 0.2390 - val_accuracy: 0.9585 - val_AUC: 0.9155\n",
      "Epoch 70/500\n",
      "608/608 [==============================] - 0s 354us/sample - loss: 0.0289 - accuracy: 0.9916 - AUC: 0.9990 - val_loss: 0.2365 - val_accuracy: 0.9593 - val_AUC: 0.9164\n",
      "Epoch 71/500\n",
      "608/608 [==============================] - 0s 306us/sample - loss: 0.0284 - accuracy: 0.9921 - AUC: 0.9990 - val_loss: 0.2361 - val_accuracy: 0.9589 - val_AUC: 0.9167\n",
      "Epoch 72/500\n",
      "608/608 [==============================] - 0s 396us/sample - loss: 0.0279 - accuracy: 0.9923 - AUC: 0.9991 - val_loss: 0.2351 - val_accuracy: 0.9601 - val_AUC: 0.9168\n",
      "Epoch 73/500\n",
      "608/608 [==============================] - 0s 418us/sample - loss: 0.0277 - accuracy: 0.9919 - AUC: 0.9991 - val_loss: 0.2346 - val_accuracy: 0.9609 - val_AUC: 0.9169\n",
      "Epoch 74/500\n",
      "608/608 [==============================] - 0s 321us/sample - loss: 0.0275 - accuracy: 0.9921 - AUC: 0.9991 - val_loss: 0.2307 - val_accuracy: 0.9609 - val_AUC: 0.9163\n",
      "Epoch 75/500\n",
      "608/608 [==============================] - 0s 331us/sample - loss: 0.0358 - accuracy: 0.9915 - AUC: 0.9979 - val_loss: 0.2311 - val_accuracy: 0.9613 - val_AUC: 0.9177\n",
      "Epoch 76/500\n",
      "608/608 [==============================] - 0s 418us/sample - loss: 0.0337 - accuracy: 0.9924 - AUC: 0.9980 - val_loss: 0.2301 - val_accuracy: 0.9622 - val_AUC: 0.9182\n",
      "Epoch 77/500\n",
      "608/608 [==============================] - 0s 459us/sample - loss: 0.0320 - accuracy: 0.9923 - AUC: 0.9981 - val_loss: 0.2306 - val_accuracy: 0.9618 - val_AUC: 0.9182\n",
      "Epoch 78/500\n",
      "608/608 [==============================] - 0s 304us/sample - loss: 0.0307 - accuracy: 0.9925 - AUC: 0.9983 - val_loss: 0.2303 - val_accuracy: 0.9613 - val_AUC: 0.9179\n",
      "Epoch 79/500\n",
      "608/608 [==============================] - 0s 393us/sample - loss: 0.0300 - accuracy: 0.9927 - AUC: 0.9983 - val_loss: 0.2318 - val_accuracy: 0.9618 - val_AUC: 0.9185\n",
      "Epoch 80/500\n",
      "608/608 [==============================] - 0s 252us/sample - loss: 0.0292 - accuracy: 0.9928 - AUC: 0.9983 - val_loss: 0.2321 - val_accuracy: 0.9618 - val_AUC: 0.9184\n",
      "Epoch 81/500\n",
      "608/608 [==============================] - 0s 261us/sample - loss: 0.0285 - accuracy: 0.9928 - AUC: 0.9983 - val_loss: 0.2419 - val_accuracy: 0.9593 - val_AUC: 0.9161\n",
      "Epoch 82/500\n",
      "608/608 [==============================] - 0s 284us/sample - loss: 0.0304 - accuracy: 0.9927 - AUC: 0.9981 - val_loss: 0.2368 - val_accuracy: 0.9613 - val_AUC: 0.9178\n",
      "Epoch 83/500\n",
      "608/608 [==============================] - 0s 257us/sample - loss: 0.0275 - accuracy: 0.9932 - AUC: 0.9992 - val_loss: 0.2334 - val_accuracy: 0.9618 - val_AUC: 0.9193\n",
      "Epoch 84/500\n",
      "608/608 [==============================] - 0s 313us/sample - loss: 0.0266 - accuracy: 0.9934 - AUC: 0.9993 - val_loss: 0.2329 - val_accuracy: 0.9622 - val_AUC: 0.9190\n",
      "Epoch 85/500\n",
      "608/608 [==============================] - 0s 321us/sample - loss: 0.0259 - accuracy: 0.9935 - AUC: 0.9993 - val_loss: 0.2322 - val_accuracy: 0.9622 - val_AUC: 0.9195\n",
      "Epoch 86/500\n",
      "608/608 [==============================] - 0s 366us/sample - loss: 0.0252 - accuracy: 0.9935 - AUC: 0.9993 - val_loss: 0.2327 - val_accuracy: 0.9626 - val_AUC: 0.9198\n",
      "Epoch 87/500\n",
      "608/608 [==============================] - 0s 341us/sample - loss: 0.0247 - accuracy: 0.9932 - AUC: 0.9993 - val_loss: 0.2327 - val_accuracy: 0.9630 - val_AUC: 0.9199\n",
      "Epoch 88/500\n",
      "608/608 [==============================] - 0s 238us/sample - loss: 0.0242 - accuracy: 0.9934 - AUC: 0.9994 - val_loss: 0.2324 - val_accuracy: 0.9626 - val_AUC: 0.9195\n",
      "Epoch 89/500\n",
      "608/608 [==============================] - 0s 345us/sample - loss: 0.0241 - accuracy: 0.9938 - AUC: 0.9994 - val_loss: 0.2331 - val_accuracy: 0.9630 - val_AUC: 0.9198\n",
      "Epoch 90/500\n",
      "608/608 [==============================] - 0s 351us/sample - loss: 0.0240 - accuracy: 0.9933 - AUC: 0.9994 - val_loss: 0.2375 - val_accuracy: 0.9613 - val_AUC: 0.9161\n",
      "Epoch 91/500\n",
      "608/608 [==============================] - 0s 315us/sample - loss: 0.0239 - accuracy: 0.9933 - AUC: 0.9994 - val_loss: 0.2361 - val_accuracy: 0.9626 - val_AUC: 0.9191\n",
      "Epoch 92/500\n",
      "608/608 [==============================] - 0s 205us/sample - loss: 0.0236 - accuracy: 0.9938 - AUC: 0.9995 - val_loss: 0.2354 - val_accuracy: 0.9642 - val_AUC: 0.9196\n",
      "Epoch 93/500\n",
      "608/608 [==============================] - 0s 380us/sample - loss: 0.0232 - accuracy: 0.9940 - AUC: 0.9995 - val_loss: 0.2346 - val_accuracy: 0.9634 - val_AUC: 0.9199\n",
      "Epoch 94/500\n",
      "608/608 [==============================] - 0s 349us/sample - loss: 0.0229 - accuracy: 0.9941 - AUC: 0.9995 - val_loss: 0.2341 - val_accuracy: 0.9634 - val_AUC: 0.9202\n",
      "Epoch 95/500\n",
      "608/608 [==============================] - 0s 343us/sample - loss: 0.0228 - accuracy: 0.9936 - AUC: 0.9995 - val_loss: 0.2343 - val_accuracy: 0.9642 - val_AUC: 0.9202\n",
      "Epoch 96/500\n",
      "608/608 [==============================] - 0s 355us/sample - loss: 0.0226 - accuracy: 0.9940 - AUC: 0.9995 - val_loss: 0.2340 - val_accuracy: 0.9630 - val_AUC: 0.9206\n",
      "Epoch 97/500\n",
      "608/608 [==============================] - 0s 407us/sample - loss: 0.0223 - accuracy: 0.9940 - AUC: 0.9996 - val_loss: 0.2334 - val_accuracy: 0.9638 - val_AUC: 0.9207\n",
      "Epoch 98/500\n",
      "608/608 [==============================] - 0s 295us/sample - loss: 0.0223 - accuracy: 0.9943 - AUC: 0.9996 - val_loss: 0.2339 - val_accuracy: 0.9630 - val_AUC: 0.9206\n",
      "Epoch 99/500\n",
      "608/608 [==============================] - 0s 214us/sample - loss: 0.0221 - accuracy: 0.9943 - AUC: 0.9996 - val_loss: 0.2338 - val_accuracy: 0.9626 - val_AUC: 0.9209\n",
      "Epoch 100/500\n",
      "608/608 [==============================] - 0s 368us/sample - loss: 0.0219 - accuracy: 0.9946 - AUC: 0.9996 - val_loss: 0.2354 - val_accuracy: 0.9626 - val_AUC: 0.9206\n",
      "Epoch 101/500\n",
      "608/608 [==============================] - 0s 391us/sample - loss: 0.0217 - accuracy: 0.9942 - AUC: 0.9996 - val_loss: 0.2361 - val_accuracy: 0.9634 - val_AUC: 0.9206\n"
     ]
    },
    {
     "data": {
      "text/plain": [
       "<tensorflow.python.keras.callbacks.History at 0x7f3c0c59e588>"
      ]
     },
     "execution_count": 34,
     "metadata": {},
     "output_type": "execute_result"
    }
   ],
   "source": [
    "model.fit(X_tm_train, Y_tm_train, epochs=500, batch_size=100, verbose=1, validation_split=0.2, callbacks=[csv_logger, es], shuffle=True, use_multiprocessing=True, workers=12)"
   ]
  },
  {
   "cell_type": "code",
   "execution_count": 21,
   "metadata": {},
   "outputs": [
    {
     "data": {
      "text/plain": [
       "<matplotlib.axes._subplots.AxesSubplot at 0x7f3c498e56d8>"
      ]
     },
     "execution_count": 21,
     "metadata": {},
     "output_type": "execute_result"
    },
    {
     "data": {
      "image/png": "[encoded data removed]",
      "text/plain": [
       "<Figure size 432x288 with 1 Axes>"
      ]
     },
     "metadata": {},
     "output_type": "display_data"
    }
   ],
   "source": [
    "pd.read_csv(\"log.csv\", sep=\",\")[['loss','val_loss']].plot()"
   ]
  },
  {
   "cell_type": "code",
   "execution_count": 22,
   "metadata": {},
   "outputs": [
    {
     "name": "stdout",
     "output_type": "stream",
     "text": [
      "40/1 [================================================================================================================================================================================================================================================================================================================================================================================================================================================================================================================================================================================================================================================================================================================================================================================================================================================================================================================================================================================================================================================================================================================================================================================================================================================] - 0s 297us/sample - loss: 0.1669 - accuracy: 0.9656 - AUC: 0.9210\n"
     ]
    },
    {
     "data": {
      "text/plain": [
       "[0.13192034959793092, 0.965625, 0.9210209]"
      ]
     },
     "execution_count": 22,
     "metadata": {},
     "output_type": "execute_result"
    }
   ],
   "source": [
    "model.evaluate(X_tm_test, Y_tm_test)"
   ]
  },
  {
   "cell_type": "code",
   "execution_count": 23,
   "metadata": {},
   "outputs": [],
   "source": [
    "model.save(\"model.h5\")"
   ]
  },
  {
   "cell_type": "code",
   "execution_count": 24,
   "metadata": {},
   "outputs": [
    {
     "data": {
      "text/plain": [
       "836"
      ]
     },
     "execution_count": 24,
     "metadata": {},
     "output_type": "execute_result"
    }
   ],
   "source": [
    "gc.collect()"
   ]
  },
  {
   "cell_type": "markdown",
   "metadata": {},
   "source": [
    "# evaluate on non used on topsbm training\n"
   ]
  },
  {
   "cell_type": "code",
   "execution_count": 25,
   "metadata": {},
   "outputs": [],
   "source": [
    "df_test_table = pd.read_csv(\"mainTable_test.csv\", index_col = 0)"
   ]
  },
  {
   "cell_type": "code",
   "execution_count": 26,
   "metadata": {},
   "outputs": [
    {
     "data": {
      "text/html": [
       "<div>\n",
       "<style scoped>\n",
       "    .dataframe tbody tr th:only-of-type {\n",
       "        vertical-align: middle;\n",
       "    }\n",
       "\n",
       "    .dataframe tbody tr th {\n",
       "        vertical-align: top;\n",
       "    }\n",
       "\n",
       "    .dataframe thead th {\n",
       "        text-align: right;\n",
       "    }\n",
       "</style>\n",
       "<table border=\"1\" class=\"dataframe\">\n",
       "  <thead>\n",
       "    <tr style=\"text-align: right;\">\n",
       "      <th></th>\n",
       "      <th>Topic 1</th>\n",
       "      <th>Topic 2</th>\n",
       "      <th>Topic 3</th>\n",
       "      <th>Topic 4</th>\n",
       "      <th>Topic 5</th>\n",
       "      <th>Topic 6</th>\n",
       "      <th>Topic 7</th>\n",
       "      <th>Topic 8</th>\n",
       "      <th>Topic 9</th>\n",
       "      <th>Topic 10</th>\n",
       "      <th>...</th>\n",
       "      <th>Topic 226</th>\n",
       "      <th>Topic 227</th>\n",
       "      <th>Topic 228</th>\n",
       "      <th>Topic 229</th>\n",
       "      <th>Topic 230</th>\n",
       "      <th>Topic 231</th>\n",
       "      <th>Topic 232</th>\n",
       "      <th>Topic 233</th>\n",
       "      <th>Topic 234</th>\n",
       "      <th>Topic 235</th>\n",
       "    </tr>\n",
       "  </thead>\n",
       "  <tbody>\n",
       "    <tr>\n",
       "      <th>TCGA-VN-A88P-01A-11R-A352-07</th>\n",
       "      <td>0.286860</td>\n",
       "      <td>0.006081</td>\n",
       "      <td>0.014705</td>\n",
       "      <td>0.098523</td>\n",
       "      <td>0.020375</td>\n",
       "      <td>0.029710</td>\n",
       "      <td>0.073698</td>\n",
       "      <td>0.360171</td>\n",
       "      <td>0.473814</td>\n",
       "      <td>0.772392</td>\n",
       "      <td>...</td>\n",
       "      <td>0.0</td>\n",
       "      <td>0.000000</td>\n",
       "      <td>0.796637</td>\n",
       "      <td>5.284775</td>\n",
       "      <td>7.241109</td>\n",
       "      <td>0.000000</td>\n",
       "      <td>0.0</td>\n",
       "      <td>0.0</td>\n",
       "      <td>0.008073</td>\n",
       "      <td>0.000000</td>\n",
       "    </tr>\n",
       "    <tr>\n",
       "      <th>TCGA-CH-5739-01A-11R-1580-07</th>\n",
       "      <td>0.395807</td>\n",
       "      <td>0.012349</td>\n",
       "      <td>0.036603</td>\n",
       "      <td>0.090145</td>\n",
       "      <td>0.079337</td>\n",
       "      <td>0.118457</td>\n",
       "      <td>0.094612</td>\n",
       "      <td>0.025608</td>\n",
       "      <td>1.106303</td>\n",
       "      <td>0.470970</td>\n",
       "      <td>...</td>\n",
       "      <td>0.0</td>\n",
       "      <td>0.000000</td>\n",
       "      <td>0.833348</td>\n",
       "      <td>0.000000</td>\n",
       "      <td>5.038534</td>\n",
       "      <td>0.586538</td>\n",
       "      <td>0.0</td>\n",
       "      <td>0.0</td>\n",
       "      <td>2.171589</td>\n",
       "      <td>0.545335</td>\n",
       "    </tr>\n",
       "    <tr>\n",
       "      <th>TCGA-V1-A9OH-01A-11R-A41O-07</th>\n",
       "      <td>0.340277</td>\n",
       "      <td>0.032712</td>\n",
       "      <td>0.036728</td>\n",
       "      <td>0.014309</td>\n",
       "      <td>0.060879</td>\n",
       "      <td>0.190469</td>\n",
       "      <td>0.020167</td>\n",
       "      <td>0.138148</td>\n",
       "      <td>0.808482</td>\n",
       "      <td>0.424407</td>\n",
       "      <td>...</td>\n",
       "      <td>0.0</td>\n",
       "      <td>0.000000</td>\n",
       "      <td>0.640219</td>\n",
       "      <td>0.000000</td>\n",
       "      <td>0.000000</td>\n",
       "      <td>0.454763</td>\n",
       "      <td>0.0</td>\n",
       "      <td>0.0</td>\n",
       "      <td>0.207530</td>\n",
       "      <td>0.000000</td>\n",
       "    </tr>\n",
       "    <tr>\n",
       "      <th>TCGA-EJ-7331-01A-11R-2118-07</th>\n",
       "      <td>0.465609</td>\n",
       "      <td>0.021171</td>\n",
       "      <td>0.013290</td>\n",
       "      <td>0.014640</td>\n",
       "      <td>0.107007</td>\n",
       "      <td>0.134686</td>\n",
       "      <td>0.017426</td>\n",
       "      <td>0.019949</td>\n",
       "      <td>1.052003</td>\n",
       "      <td>0.466466</td>\n",
       "      <td>...</td>\n",
       "      <td>0.0</td>\n",
       "      <td>0.000000</td>\n",
       "      <td>0.000000</td>\n",
       "      <td>0.000000</td>\n",
       "      <td>1.302757</td>\n",
       "      <td>0.000000</td>\n",
       "      <td>0.0</td>\n",
       "      <td>0.0</td>\n",
       "      <td>0.552688</td>\n",
       "      <td>0.255846</td>\n",
       "    </tr>\n",
       "    <tr>\n",
       "      <th>TCGA-XK-AAIV-01A-11R-A41O-07</th>\n",
       "      <td>1.007055</td>\n",
       "      <td>0.355887</td>\n",
       "      <td>0.074767</td>\n",
       "      <td>0.087923</td>\n",
       "      <td>0.006790</td>\n",
       "      <td>0.838827</td>\n",
       "      <td>0.284408</td>\n",
       "      <td>0.231949</td>\n",
       "      <td>0.769695</td>\n",
       "      <td>0.723282</td>\n",
       "      <td>...</td>\n",
       "      <td>0.0</td>\n",
       "      <td>4.477105</td>\n",
       "      <td>0.711867</td>\n",
       "      <td>0.000000</td>\n",
       "      <td>0.000000</td>\n",
       "      <td>0.000000</td>\n",
       "      <td>0.0</td>\n",
       "      <td>0.0</td>\n",
       "      <td>0.254764</td>\n",
       "      <td>8.602537</td>\n",
       "    </tr>\n",
       "  </tbody>\n",
       "</table>\n",
       "<p>5 rows × 235 columns</p>\n",
       "</div>"
      ],
      "text/plain": [
       "                               Topic 1   Topic 2   Topic 3   Topic 4  \\\n",
       "TCGA-VN-A88P-01A-11R-A352-07  0.286860  0.006081  0.014705  0.098523   \n",
       "TCGA-CH-5739-01A-11R-1580-07  0.395807  0.012349  0.036603  0.090145   \n",
       "TCGA-V1-A9OH-01A-11R-A41O-07  0.340277  0.032712  0.036728  0.014309   \n",
       "TCGA-EJ-7331-01A-11R-2118-07  0.465609  0.021171  0.013290  0.014640   \n",
       "TCGA-XK-AAIV-01A-11R-A41O-07  1.007055  0.355887  0.074767  0.087923   \n",
       "\n",
       "                               Topic 5   Topic 6   Topic 7   Topic 8  \\\n",
       "TCGA-VN-A88P-01A-11R-A352-07  0.020375  0.029710  0.073698  0.360171   \n",
       "TCGA-CH-5739-01A-11R-1580-07  0.079337  0.118457  0.094612  0.025608   \n",
       "TCGA-V1-A9OH-01A-11R-A41O-07  0.060879  0.190469  0.020167  0.138148   \n",
       "TCGA-EJ-7331-01A-11R-2118-07  0.107007  0.134686  0.017426  0.019949   \n",
       "TCGA-XK-AAIV-01A-11R-A41O-07  0.006790  0.838827  0.284408  0.231949   \n",
       "\n",
       "                               Topic 9  Topic 10  ...  Topic 226  Topic 227  \\\n",
       "TCGA-VN-A88P-01A-11R-A352-07  0.473814  0.772392  ...        0.0   0.000000   \n",
       "TCGA-CH-5739-01A-11R-1580-07  1.106303  0.470970  ...        0.0   0.000000   \n",
       "TCGA-V1-A9OH-01A-11R-A41O-07  0.808482  0.424407  ...        0.0   0.000000   \n",
       "TCGA-EJ-7331-01A-11R-2118-07  1.052003  0.466466  ...        0.0   0.000000   \n",
       "TCGA-XK-AAIV-01A-11R-A41O-07  0.769695  0.723282  ...        0.0   4.477105   \n",
       "\n",
       "                              Topic 228  Topic 229  Topic 230  Topic 231  \\\n",
       "TCGA-VN-A88P-01A-11R-A352-07   0.796637   5.284775   7.241109   0.000000   \n",
       "TCGA-CH-5739-01A-11R-1580-07   0.833348   0.000000   5.038534   0.586538   \n",
       "TCGA-V1-A9OH-01A-11R-A41O-07   0.640219   0.000000   0.000000   0.454763   \n",
       "TCGA-EJ-7331-01A-11R-2118-07   0.000000   0.000000   1.302757   0.000000   \n",
       "TCGA-XK-AAIV-01A-11R-A41O-07   0.711867   0.000000   0.000000   0.000000   \n",
       "\n",
       "                              Topic 232  Topic 233  Topic 234  Topic 235  \n",
       "TCGA-VN-A88P-01A-11R-A352-07        0.0        0.0   0.008073   0.000000  \n",
       "TCGA-CH-5739-01A-11R-1580-07        0.0        0.0   2.171589   0.545335  \n",
       "TCGA-V1-A9OH-01A-11R-A41O-07        0.0        0.0   0.207530   0.000000  \n",
       "TCGA-EJ-7331-01A-11R-2118-07        0.0        0.0   0.552688   0.255846  \n",
       "TCGA-XK-AAIV-01A-11R-A41O-07        0.0        0.0   0.254764   8.602537  \n",
       "\n",
       "[5 rows x 235 columns]"
      ]
     },
     "execution_count": 26,
     "metadata": {},
     "output_type": "execute_result"
    }
   ],
   "source": [
    "#get only HV genes\n",
    "df_test = df_test_table.reindex(index=df_words.index)\n",
    "\n",
    "df_test = df_test.divide(df_test.sum(0),1).transpose().fillna(0)\n",
    "\n",
    "df_test = pd.DataFrame(data=np.matmul(df_test.values,df_words.values), index=df_test.index, columns=df_words.columns)\n",
    "df_test=df_test.divide(df_test.mean(axis=0), axis=1) #normalize P(t|d)\n",
    "df_test.head()"
   ]
  },
  {
   "cell_type": "code",
   "execution_count": 27,
   "metadata": {},
   "outputs": [],
   "source": [
    "classes = np.unique(df_files.reindex(index=df_test.index)[label])\n",
    "X_test = df_test.values\n",
    "Y_test = to_categorical([np.where(classes==t)[0][0] for t in df_files.reindex(index=df_test.index)[label].values.ravel()])"
   ]
  },
  {
   "cell_type": "code",
   "execution_count": 28,
   "metadata": {},
   "outputs": [
    {
     "name": "stdout",
     "output_type": "stream",
     "text": [
      "5131/1 - 1s - loss: 0.3117 - accuracy: 0.9518 - AUC: 0.9046\n"
     ]
    },
    {
     "data": {
      "text/plain": [
       "[0.2472743783411146, 0.9517516, 0.9045803]"
      ]
     },
     "execution_count": 28,
     "metadata": {},
     "output_type": "execute_result"
    }
   ],
   "source": [
    "model.evaluate(X_test, Y_test, verbose=2, workers=12)"
   ]
  },
  {
   "cell_type": "code",
   "execution_count": 29,
   "metadata": {},
   "outputs": [],
   "source": [
    "results = pd.DataFrame(index=classes, columns=classes).fillna(0)"
   ]
  },
  {
   "cell_type": "code",
   "execution_count": 30,
   "metadata": {},
   "outputs": [],
   "source": [
    "for class_pred, y_test in zip(model.predict_classes(X_test), Y_test):\n",
    "    results.at[classes[y_test.argmax()], classes[class_pred]]+=1"
   ]
  },
  {
   "cell_type": "code",
   "execution_count": 31,
   "metadata": {},
   "outputs": [],
   "source": [
    "import seaborn as sns"
   ]
  },
  {
   "cell_type": "code",
   "execution_count": 32,
   "metadata": {},
   "outputs": [
    {
     "data": {
      "image/png": "[encoded data removed]",
      "text/plain": [
       "<Figure size 432x288 with 2 Axes>"
      ]
     },
     "metadata": {},
     "output_type": "display_data"
    }
   ],
   "source": [
    "ax = sns.heatmap(results.divide(results.sum(1),0), annot=False)\n",
    "\n",
    "fig = ax.get_figure()\n",
    "fig.savefig(\"predict.pdf\")"
   ]
  },
  {
   "cell_type": "code",
   "execution_count": null,
   "metadata": {},
   "outputs": [],
   "source": []
  },
  {
   "cell_type": "code",
   "execution_count": null,
   "metadata": {},
   "outputs": [],
   "source": []
  },
  {
   "cell_type": "code",
   "execution_count": null,
   "metadata": {},
   "outputs": [],
   "source": []
  },
  {
   "cell_type": "code",
   "execution_count": null,
   "metadata": {},
   "outputs": [],
   "source": []
  },
  {
   "cell_type": "code",
   "execution_count": null,
   "metadata": {},
   "outputs": [],
   "source": [
    "fig, ax = plt.subplots(1,2, figsize=(20,10))\n",
    "tissue='Breast'\n",
    "df_topic_tissue.transpose().plot(ax=ax[0], marker='o', ms=5)\n",
    "df_topics[df_topics.index.isin(df_files[df_files['primary_site']==tissue].index)].drop('tissue', 1).transpose().plot(ax=ax[1])\n",
    "df_topics[df_topics.index.isin(df_files[df_files['primary_site']==tissue].index)].drop('tissue', 1).transpose().mean(1).plot(ax=ax[1], lw=9, ls=':')\n",
    "ax[1].set_title(tissue)\n",
    "#ax[0].get_legend().remove()\n",
    "ax[1].get_legend().remove()\n",
    "ax[0].set_ylim(0,0.8)\n",
    "ax[1].set_ylim(0,0.8)\n",
    "plt.show()"
   ]
  },
  {
   "cell_type": "code",
   "execution_count": null,
   "metadata": {},
   "outputs": [],
   "source": [
    "import pickle\n",
    "from sbmtm import sbmtm"
   ]
  },
  {
   "cell_type": "code",
   "execution_count": null,
   "metadata": {},
   "outputs": [],
   "source": [
    "with open(\"topsbm/topsbm.pkl\", \"rb\") as f:\n",
    "    model = pickle.load(f)"
   ]
  },
  {
   "cell_type": "code",
   "execution_count": null,
   "metadata": {},
   "outputs": [],
   "source": [
    "df_hsbm = pd.DataFrame(index=model.words, columns=model.documents).fillna(0)\n",
    "for e, count in zip(model.g.get_edges(),model.g.properties[('e', 'count')].get_array()):\n",
    "    df_hsbm.at[df_hsbm.index[e[1]-1000], df_hsbm.columns[e[0]]]=count"
   ]
  },
  {
   "cell_type": "code",
   "execution_count": null,
   "metadata": {},
   "outputs": [],
   "source": [
    "df_hsbm"
   ]
  },
  {
   "cell_type": "code",
   "execution_count": null,
   "metadata": {},
   "outputs": [],
   "source": [
    "df.reindex(index=df_hsbm.columns, columns=df_hsbm.index).transpose()"
   ]
  },
  {
   "cell_type": "code",
   "execution_count": null,
   "metadata": {},
   "outputs": [],
   "source": [
    "gc.collect()"
   ]
  }
 ],
 "metadata": {
  "kernelspec": {
   "display_name": "Python 3",
   "language": "python",
   "name": "python3"
  },
  "language_info": {
   "codemirror_mode": {
    "name": "ipython",
    "version": 3
   },
   "file_extension": ".py",
   "mimetype": "text/x-python",
   "name": "python",
   "nbconvert_exporter": "python",
   "pygments_lexer": "ipython3",
   "version": "3.6.10"
  }
 },
 "nbformat": 4,
 "nbformat_minor": 4
}

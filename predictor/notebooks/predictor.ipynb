{
 "cells": [
  {
   "cell_type": "code",
   "execution_count": null,
   "metadata": {
    "colab": {
     "base_uri": "https://localhost:8080/",
     "height": 34
    },
    "colab_type": "code",
    "executionInfo": {
     "elapsed": 2205,
     "status": "ok",
     "timestamp": 1585580504649,
     "user": {
      "displayName": "Filippo Valle",
      "photoUrl": "https://lh3.googleusercontent.com/a-/AOh14GiSmOTQUwJEm9eOUO5yn38V9kqgHrZZ_vys3fCS=s64",
      "userId": "14300282905640499915"
     },
     "user_tz": -120
    },
    "id": "OM7BoWVULIgX",
    "outputId": "ac79a732-99c1-4781-92bf-0be6094d91f6"
   },
   "outputs": [],
   "source": [
    "from google.colab import drive\n",
    "drive.mount('/content/drive')"
   ]
  },
  {
   "cell_type": "code",
   "execution_count": null,
   "metadata": {
    "colab": {},
    "colab_type": "code",
    "id": "cZ0Axhw2Hfop"
   },
   "outputs": [],
   "source": [
    "import pandas as pd\n",
    "import os,sys, gc\n",
    "import matplotlib.pyplot as plt\n",
    "from scipy.stats import entropy\n",
    "sys.path.append(\"/content/drive/My Drive/phd/\")\n",
    "sys.path.append(\"/content/drive/My Drive/phd/master_thesis/hsbm/\")\n",
    "from hsbmpy import get_max_available_L"
   ]
  },
  {
   "cell_type": "code",
   "execution_count": null,
   "metadata": {
    "colab": {},
    "colab_type": "code",
    "id": "Yhh35xNYHfo1"
   },
   "outputs": [],
   "source": [
    "#label = 'disease_type'\n",
    "algorithm = \"topsbm\"\n",
    "directory='/content/drive/My Drive/phd/datasets/merged'\n",
    "L = get_max_available_L(directory, algorithm)-1\n",
    "os.chdir(directory)"
   ]
  },
  {
   "cell_type": "code",
   "execution_count": null,
   "metadata": {
    "colab": {
     "base_uri": "https://localhost:8080/",
     "height": 204
    },
    "colab_type": "code",
    "executionInfo": {
     "elapsed": 1875,
     "status": "ok",
     "timestamp": 1585586487246,
     "user": {
      "displayName": "Filippo Valle",
      "photoUrl": "https://lh3.googleusercontent.com/a-/AOh14GiSmOTQUwJEm9eOUO5yn38V9kqgHrZZ_vys3fCS=s64",
      "userId": "14300282905640499915"
     },
     "user_tz": -120
    },
    "id": "XXZfXhOYHfo5",
    "outputId": "8daafa77-f1ae-4d01-ef8e-ae7dd82a52f6"
   },
   "outputs": [],
   "source": [
    "label = 'primary_site'\n",
    "\n",
    "df_topics = pd.read_csv(\"%s/%s_level_%d_topic-dist.csv\"%(algorithm,algorithm,L)).set_index('doc').drop('i_doc', axis=1)\n",
    "df_words = pd.read_csv(\"%s/%s_level_%d_word-dist.csv\"%(algorithm,algorithm,L), index_col=0)\n",
    "df_words.index=[g[:15] for g in df_words.index]\n",
    "df = pd.read_csv(\"mainTable.csv\", index_col=0).reindex(index=df_words.index)\n",
    "df = df.divide(df.sum(0),1).transpose().fillna(0)\n",
    "df_files=pd.read_csv(\"files.dat\", index_col=0)\n",
    "df_topics.insert(0,'tissue', df_files.reindex(index=df_topics.index)[label])\n",
    "df_topic_tissue = df_topics.groupby('tissue').mean()\n",
    "df_files.head()"
   ]
  },
  {
   "cell_type": "markdown",
   "metadata": {
    "colab_type": "text",
    "id": "0wYQsLm4HfpA"
   },
   "source": [
    "## Projection based predictions"
   ]
  },
  {
   "cell_type": "code",
   "execution_count": null,
   "metadata": {
    "colab": {},
    "colab_type": "code",
    "id": "MSCa8MVjHfpC"
   },
   "outputs": [],
   "source": [
    "df_Pst = pd.DataFrame(data=pd.np.matmul(df.values,df_words.values), index= df.index, columns=df_words.columns)\n",
    "df_Pst = df_Pst.divide(df_Pst.sum(1), 0)\n",
    "predictions = pd.np.array(list(map(lambda x: list(map(lambda y: entropy(x, y), df_topic_tissue.astype(float).values)), df_Pst.astype(float).values)))\n",
    "\n",
    "df_Pst.insert(0,'tissue', df_files.reindex(index=df_Pst.index)[label])\n",
    "reals = pd.np.unique(df_Pst.tissue, return_inverse=True)[1]"
   ]
  },
  {
   "cell_type": "code",
   "execution_count": null,
   "metadata": {
    "colab": {},
    "colab_type": "code",
    "id": "BF9U9loKHfpG"
   },
   "outputs": [],
   "source": [
    "from sklearn.metrics import accuracy_score, roc_auc_score"
   ]
  },
  {
   "cell_type": "code",
   "execution_count": null,
   "metadata": {
    "colab": {
     "base_uri": "https://localhost:8080/",
     "height": 34
    },
    "colab_type": "code",
    "executionInfo": {
     "elapsed": 558,
     "status": "ok",
     "timestamp": 1585586494927,
     "user": {
      "displayName": "Filippo Valle",
      "photoUrl": "https://lh3.googleusercontent.com/a-/AOh14GiSmOTQUwJEm9eOUO5yn38V9kqgHrZZ_vys3fCS=s64",
      "userId": "14300282905640499915"
     },
     "user_tz": -120
    },
    "id": "Gvk06xF1HfpL",
    "outputId": "1c6a3581-fba5-4a1b-9534-466834e5b552"
   },
   "outputs": [],
   "source": [
    "accuracy_score(reals, pd.np.argmin(predictions, axis=1))"
   ]
  },
  {
   "cell_type": "markdown",
   "metadata": {
    "colab_type": "text",
    "id": "LdnogDbsHfpP"
   },
   "source": [
    "## NN based predictor"
   ]
  },
  {
   "cell_type": "code",
   "execution_count": null,
   "metadata": {
    "colab": {
     "base_uri": "https://localhost:8080/",
     "height": 476
    },
    "colab_type": "code",
    "executionInfo": {
     "elapsed": 986,
     "status": "ok",
     "timestamp": 1585586498000,
     "user": {
      "displayName": "Filippo Valle",
      "photoUrl": "https://lh3.googleusercontent.com/a-/AOh14GiSmOTQUwJEm9eOUO5yn38V9kqgHrZZ_vys3fCS=s64",
      "userId": "14300282905640499915"
     },
     "user_tz": -120
    },
    "id": "KB8z21PkHfpR",
    "outputId": "eecac293-565d-4375-8c6a-88abb7a6004d"
   },
   "outputs": [],
   "source": [
    "import tensorflow as tf\n",
    "from tensorflow.keras.models import Sequential\n",
    "from tensorflow.keras.layers import Dense, Convolution1D\n",
    "from tensorflow.keras.losses import binary_crossentropy,mean_squared_error, categorical_crossentropy\n",
    "from tensorflow.keras.optimizers import SGD, Adam\n",
    "from tensorflow.keras.datasets import mnist\n",
    "from tensorflow.keras.utils import plot_model,to_categorical\n",
    "from tensorflow.keras.callbacks import Callback, CSVLogger, EarlyStopping\n",
    "from tensorflow.keras.models import load_model\n",
    "from tensorflow.keras import backend as K\n",
    "from tensorflow.keras.wrappers.scikit_learn import KerasClassifier\n",
    "from tensorflow.python.framework.graph_util import convert_variables_to_constants\n",
    "from tensorflow.python.client.device_lib import list_local_devices\n",
    "import matplotlib.pyplot as plt\n",
    "from sklearn.model_selection import train_test_split, GridSearchCV\n",
    "import numpy as np\n",
    "import os,sys, gc\n",
    "list_local_devices()"
   ]
  },
  {
   "cell_type": "code",
   "execution_count": null,
   "metadata": {
    "colab": {
     "base_uri": "https://localhost:8080/",
     "height": 34
    },
    "colab_type": "code",
    "executionInfo": {
     "elapsed": 683,
     "status": "ok",
     "timestamp": 1585586503282,
     "user": {
      "displayName": "Filippo Valle",
      "photoUrl": "https://lh3.googleusercontent.com/a-/AOh14GiSmOTQUwJEm9eOUO5yn38V9kqgHrZZ_vys3fCS=s64",
      "userId": "14300282905640499915"
     },
     "user_tz": -120
    },
    "id": "J8SmE2OrHfpV",
    "outputId": "8d9a659a-170c-4c07-82ef-f3d2714809be"
   },
   "outputs": [],
   "source": [
    "df_labels=df_files.copy()\n",
    "df_labels=df_labels.reindex(index=df_topics.index)\n",
    "\n",
    "uniq = len(df_labels[label].unique())\n",
    "\n",
    "X_train = df_topics.drop('tissue',1).divide(df_topics.drop('tissue',1).mean(0),1).values.astype(float)\n",
    "Y_train = to_categorical(np.unique(df_labels[label], return_inverse=True)[1])\n",
    "classes=np.unique(df_labels[df_labels.index.isin(df.index)][label], return_inverse=True)[0]\n",
    "\n",
    "inputs = X_train.shape[1]\n",
    "\n",
    "X_tm_train, X_tm_test, Y_tm_train, Y_tm_test = train_test_split(X_train, Y_train, random_state=42, train_size=0.95)\n",
    "\n",
    "print(X_train.shape, Y_train.shape, X_tm_train.shape, Y_tm_train.shape)"
   ]
  },
  {
   "cell_type": "code",
   "execution_count": null,
   "metadata": {
    "colab": {
     "base_uri": "https://localhost:8080/",
     "height": 533
    },
    "colab_type": "code",
    "executionInfo": {
     "elapsed": 717,
     "status": "ok",
     "timestamp": 1585586505411,
     "user": {
      "displayName": "Filippo Valle",
      "photoUrl": "https://lh3.googleusercontent.com/a-/AOh14GiSmOTQUwJEm9eOUO5yn38V9kqgHrZZ_vys3fCS=s64",
      "userId": "14300282905640499915"
     },
     "user_tz": -120
    },
    "id": "9A-pjO9lHfpa",
    "outputId": "581b281f-846a-4eb3-b6ed-f4545ffc8576"
   },
   "outputs": [],
   "source": [
    "K.clear_session()\n",
    "\n",
    "os.system(\"rm -rf log.csv\")\n",
    "csv_logger = CSVLogger('log.csv', append=True, separator=',')\n",
    "es = EarlyStopping(monitor='val_loss', min_delta=1e-10, mode='min', patience=25)\n",
    "\n",
    "model=Sequential()\n",
    "model.add(Dense(units=100, input_dim=inputs, use_bias=True, bias_initializer=\"ones\", activation=\"relu\"))\n",
    "model.add(Dense(units=uniq, input_dim=inputs, activation=\"softmax\"))\n",
    "model.compile(loss=binary_crossentropy, optimizer=SGD(lr=0.01, momentum=0.3), metrics=['accuracy', 'AUC'])\n",
    "K.set_learning_phase(0)\n",
    "\n",
    "print(model.summary())\n",
    "plot_model(model, show_shapes=True)\n"
   ]
  },
  {
   "cell_type": "code",
   "execution_count": null,
   "metadata": {
    "colab": {
     "base_uri": "https://localhost:8080/",
     "height": 1000
    },
    "colab_type": "code",
    "executionInfo": {
     "elapsed": 46363,
     "status": "ok",
     "timestamp": 1585586554647,
     "user": {
      "displayName": "Filippo Valle",
      "photoUrl": "https://lh3.googleusercontent.com/a-/AOh14GiSmOTQUwJEm9eOUO5yn38V9kqgHrZZ_vys3fCS=s64",
      "userId": "14300282905640499915"
     },
     "user_tz": -120
    },
    "id": "SdHvt7jFHfpf",
    "outputId": "387bea45-362a-4719-b491-49d0be1b4e63"
   },
   "outputs": [],
   "source": [
    "with tf.device(\"GPU\"):\n",
    "    model.fit(X_tm_train, Y_tm_train, epochs=1000, batch_size=500, verbose=1, validation_split=0.2, callbacks=[csv_logger, es], shuffle=True, use_multiprocessing=True, workers=-1)"
   ]
  },
  {
   "cell_type": "code",
   "execution_count": null,
   "metadata": {
    "colab": {
     "base_uri": "https://localhost:8080/",
     "height": 283
    },
    "colab_type": "code",
    "executionInfo": {
     "elapsed": 689,
     "status": "ok",
     "timestamp": 1585586689392,
     "user": {
      "displayName": "Filippo Valle",
      "photoUrl": "https://lh3.googleusercontent.com/a-/AOh14GiSmOTQUwJEm9eOUO5yn38V9kqgHrZZ_vys3fCS=s64",
      "userId": "14300282905640499915"
     },
     "user_tz": -120
    },
    "id": "ANz0bgi2Hfpi",
    "outputId": "a90f98a8-12df-4d62-8529-eca635c5d3ad"
   },
   "outputs": [],
   "source": [
    "pd.read_csv(\"log.csv\", sep=\",\")[['loss','val_loss']].plot()"
   ]
  },
  {
   "cell_type": "code",
   "execution_count": null,
   "metadata": {
    "colab": {
     "base_uri": "https://localhost:8080/",
     "height": 51
    },
    "colab_type": "code",
    "executionInfo": {
     "elapsed": 616,
     "status": "ok",
     "timestamp": 1585586691593,
     "user": {
      "displayName": "Filippo Valle",
      "photoUrl": "https://lh3.googleusercontent.com/a-/AOh14GiSmOTQUwJEm9eOUO5yn38V9kqgHrZZ_vys3fCS=s64",
      "userId": "14300282905640499915"
     },
     "user_tz": -120
    },
    "id": "ie8qRsmeHfpm",
    "outputId": "dc601c94-9b99-48a4-a2d1-9df7ff19d27d"
   },
   "outputs": [],
   "source": [
    "model.evaluate(X_tm_test, Y_tm_test)"
   ]
  },
  {
   "cell_type": "code",
   "execution_count": null,
   "metadata": {
    "colab": {},
    "colab_type": "code",
    "id": "Qcwyj17QHfpp"
   },
   "outputs": [],
   "source": [
    "model.save(\"model.h5\")"
   ]
  },
  {
   "cell_type": "code",
   "execution_count": null,
   "metadata": {
    "colab": {
     "base_uri": "https://localhost:8080/",
     "height": 34
    },
    "colab_type": "code",
    "executionInfo": {
     "elapsed": 773,
     "status": "ok",
     "timestamp": 1585586694433,
     "user": {
      "displayName": "Filippo Valle",
      "photoUrl": "https://lh3.googleusercontent.com/a-/AOh14GiSmOTQUwJEm9eOUO5yn38V9kqgHrZZ_vys3fCS=s64",
      "userId": "14300282905640499915"
     },
     "user_tz": -120
    },
    "id": "eFyBghA0Hfpt",
    "outputId": "e3c1b92b-5d70-40f9-fa2c-c92dd516410b"
   },
   "outputs": [],
   "source": [
    "gc.collect()"
   ]
  },
  {
   "cell_type": "markdown",
   "metadata": {
    "colab_type": "text",
    "id": "xIWNWHbwHfpz"
   },
   "source": [
    "# evaluate on non used on topsbm training\n"
   ]
  },
  {
   "cell_type": "code",
   "execution_count": null,
   "metadata": {
    "colab": {},
    "colab_type": "code",
    "id": "WFz-Y-xXHfp0"
   },
   "outputs": [],
   "source": [
    "df_test_table = pd.read_csv(\"mainTable_test.csv\", index_col = 0)"
   ]
  },
  {
   "cell_type": "code",
   "execution_count": null,
   "metadata": {
    "colab": {
     "base_uri": "https://localhost:8080/",
     "height": 780
    },
    "colab_type": "code",
    "executionInfo": {
     "elapsed": 3363,
     "status": "ok",
     "timestamp": 1585586701397,
     "user": {
      "displayName": "Filippo Valle",
      "photoUrl": "https://lh3.googleusercontent.com/a-/AOh14GiSmOTQUwJEm9eOUO5yn38V9kqgHrZZ_vys3fCS=s64",
      "userId": "14300282905640499915"
     },
     "user_tz": -120
    },
    "id": "GDydAbSeHfp4",
    "outputId": "5ce5f9ab-6845-4306-981f-1ca4e30266f8"
   },
   "outputs": [],
   "source": [
    "#get only HV genes\n",
    "df_test = df_test_table.reindex(index=df_words.index)\n",
    "\n",
    "df_test = df_test.divide(df_test.sum(0),1).transpose().fillna(0)\n",
    "\n",
    "df_test = pd.DataFrame(data=np.matmul(df_test.values,df_words.values), index=df_test.index, columns=df_words.columns)\n",
    "df_test=df_test.divide(df_test.mean(axis=0), axis=1) #normalize P(t|d)\n",
    "df_test.head()"
   ]
  },
  {
   "cell_type": "code",
   "execution_count": null,
   "metadata": {
    "colab": {},
    "colab_type": "code",
    "id": "j79SHXWDHfp7"
   },
   "outputs": [],
   "source": [
    "classes = np.unique(df_files.reindex(index=df_test.index)[label])\n",
    "X_test = df_test.values\n",
    "Y_test = to_categorical([np.where(classes==t)[0][0] for t in df_files.reindex(index=df_test.index)[label].values.ravel()])"
   ]
  },
  {
   "cell_type": "code",
   "execution_count": null,
   "metadata": {
    "colab": {
     "base_uri": "https://localhost:8080/",
     "height": 51
    },
    "colab_type": "code",
    "executionInfo": {
     "elapsed": 1283,
     "status": "ok",
     "timestamp": 1585586706031,
     "user": {
      "displayName": "Filippo Valle",
      "photoUrl": "https://lh3.googleusercontent.com/a-/AOh14GiSmOTQUwJEm9eOUO5yn38V9kqgHrZZ_vys3fCS=s64",
      "userId": "14300282905640499915"
     },
     "user_tz": -120
    },
    "id": "5JLmv_InHfp_",
    "outputId": "c59735d0-7474-4433-9fae-488fa77da5f5"
   },
   "outputs": [],
   "source": [
    "model.evaluate(X_test, Y_test, verbose=2, workers=-1, use_multiprocessing=True)"
   ]
  },
  {
   "cell_type": "code",
   "execution_count": null,
   "metadata": {
    "colab": {},
    "colab_type": "code",
    "id": "Q1jnHCOSHfqC"
   },
   "outputs": [],
   "source": [
    "results = pd.DataFrame(index=classes, columns=classes).fillna(0)"
   ]
  },
  {
   "cell_type": "code",
   "execution_count": null,
   "metadata": {
    "colab": {},
    "colab_type": "code",
    "id": "nOULcgwBHfqF"
   },
   "outputs": [],
   "source": [
    "for class_pred, y_test in zip(np.argmax(model.predict(X_test), axis=-1), Y_test):\n",
    "    results.at[classes[class_pred], classes[y_test.argmax()]]+=1"
   ]
  },
  {
   "cell_type": "code",
   "execution_count": null,
   "metadata": {
    "colab": {},
    "colab_type": "code",
    "id": "mjyZBVaSHfqJ"
   },
   "outputs": [],
   "source": [
    "import seaborn as sns"
   ]
  },
  {
   "cell_type": "code",
   "execution_count": null,
   "metadata": {
    "colab": {
     "base_uri": "https://localhost:8080/",
     "height": 397
    },
    "colab_type": "code",
    "executionInfo": {
     "elapsed": 1164,
     "status": "ok",
     "timestamp": 1585587670852,
     "user": {
      "displayName": "Filippo Valle",
      "photoUrl": "https://lh3.googleusercontent.com/a-/AOh14GiSmOTQUwJEm9eOUO5yn38V9kqgHrZZ_vys3fCS=s64",
      "userId": "14300282905640499915"
     },
     "user_tz": -120
    },
    "id": "wMC0y97WHfqN",
    "outputId": "a1134c7d-e845-4e78-86bc-1e48726954be"
   },
   "outputs": [],
   "source": [
    "ax = sns.heatmap(results.divide(results.sum(1),0), vmax=1, annot=False)\n",
    "\n",
    "fig = ax.get_figure()\n",
    "ax.set_ylabel(\"real\", fontsize=25)\n",
    "ax.set_xlabel(\"predicted\",fontsize=25)\n",
    "im=ax.images\n",
    "ax.tick_params(labelsize=20)\n",
    "fig.savefig(\"predict.pdf\")"
   ]
  },
  {
   "cell_type": "code",
   "execution_count": null,
   "metadata": {
    "colab": {
     "base_uri": "https://localhost:8080/",
     "height": 889
    },
    "colab_type": "code",
    "executionInfo": {
     "elapsed": 1246,
     "status": "ok",
     "timestamp": 1585585615926,
     "user": {
      "displayName": "Filippo Valle",
      "photoUrl": "https://lh3.googleusercontent.com/a-/AOh14GiSmOTQUwJEm9eOUO5yn38V9kqgHrZZ_vys3fCS=s64",
      "userId": "14300282905640499915"
     },
     "user_tz": -120
    },
    "id": "9_T2el1pHfqT",
    "outputId": "1569634a-59f8-4cdd-a686-518e0090fb13"
   },
   "outputs": [],
   "source": [
    "fig, ax= plt.subplots(figsize=(18,15))\n",
    "for c in range(Y_test.shape[1]):\n",
    "  ax.hist(model.predict(X_test).T[1][Y_test.argmax(1)==c], histtype=\"step\", lw=15, bins=10, density=True)\n",
    "\n",
    "ax.tick_params(labelsize=35)\n",
    "\n",
    "plt.show()"
   ]
  },
  {
   "cell_type": "code",
   "execution_count": null,
   "metadata": {
    "colab": {},
    "colab_type": "code",
    "id": "nc5dF_kK-8YY"
   },
   "outputs": [],
   "source": []
  }
 ],
 "metadata": {
  "accelerator": "GPU",
  "colab": {
   "collapsed_sections": [],
   "name": "predictor.ipynb",
   "provenance": [
    {
     "file_id": "1XkfxK_aOyln57OG_3THkjYi1taql8yKY",
     "timestamp": 1582299765417
    }
   ]
  },
  "kernelspec": {
   "display_name": "Python 3",
   "name": "python3"
  },
  "language_info": {
   "codemirror_mode": {
    "name": "ipython",
    "version": 3
   },
   "file_extension": ".py",
   "mimetype": "text/x-python",
   "name": "python",
   "nbconvert_exporter": "python",
   "pygments_lexer": "ipython3",
   "version": "3.6.10"
  }
 },
 "nbformat": 4,
 "nbformat_minor": 0
}

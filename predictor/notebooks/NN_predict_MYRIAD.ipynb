{
 "cells": [
  {
   "cell_type": "code",
   "execution_count": 1,
   "metadata": {},
   "outputs": [],
   "source": [
    "from openvino.inference_engine import IENetwork, IEPlugin\n",
    "import numpy as np\n",
    "import yaml\n",
    "import os"
   ]
  },
  {
   "cell_type": "code",
   "execution_count": 2,
   "metadata": {},
   "outputs": [
    {
     "data": {
      "text/plain": [
       "['notebooks',\n",
       " 'sequential_1.xml',\n",
       " 'sequential_1.bin',\n",
       " 'input.txt',\n",
       " 'sequential_1.mapping',\n",
       " 'run.py',\n",
       " 'run.sh',\n",
       " 'test.txt',\n",
       " 'docker-compose.yml',\n",
       " 'Dockerfile']"
      ]
     },
     "execution_count": 2,
     "metadata": {},
     "output_type": "execute_result"
    }
   ],
   "source": [
    "os.chdir(\"/home/user/predictor\")\n",
    "os.listdir()"
   ]
  },
  {
   "cell_type": "code",
   "execution_count": 3,
   "metadata": {},
   "outputs": [],
   "source": [
    "classes=np.array(['Adipose Tissue', 'Blood', 'Brain', 'Breast', 'Lung', 'Pancreas',\n",
    "       'Skin', 'Testis', 'Thyroid'])\n",
    "\n",
    "y_test=np.genfromtxt(\"test.txt\", dtype=int)"
   ]
  },
  {
   "cell_type": "code",
   "execution_count": 4,
   "metadata": {},
   "outputs": [],
   "source": [
    "model_xml = \"sequential_1.xml\"\n",
    "model_bin = \"sequential_1.bin\""
   ]
  },
  {
   "cell_type": "code",
   "execution_count": 5,
   "metadata": {},
   "outputs": [
    {
     "ename": "RuntimeError",
     "evalue": "Cannot find plugin to use :Tried load plugin : clDNNPlugin,  error: Plugin clDNNPlugin cannot be loaded: cannot load plugin: clDNNPlugin from : clGetPlatformIDs error -1001, skipping\ncannot load plugin: clDNNPlugin from /opt/intel/openvino_2019.3.376/python/python3.7/openvino/inference_engine: Cannot load library '/opt/intel/openvino_2019.3.376/python/python3.7/openvino/inference_engine/libclDNNPlugin.so': /opt/intel/openvino_2019.3.376/python/python3.7/openvino/inference_engine/libclDNNPlugin.so: cannot open shared object file: No such file or directory, skipping\n\n\n\n",
     "output_type": "error",
     "traceback": [
      "\u001b[0;31m---------------------------------------------------------------------------\u001b[0m",
      "\u001b[0;31mRuntimeError\u001b[0m                              Traceback (most recent call last)",
      "\u001b[0;32m<ipython-input-5-37c77130e33b>\u001b[0m in \u001b[0;36m<module>\u001b[0;34m\u001b[0m\n\u001b[1;32m      1\u001b[0m \u001b[0;31m# Plugin initialization for specified device\u001b[0m\u001b[0;34m\u001b[0m\u001b[0;34m\u001b[0m\u001b[0;34m\u001b[0m\u001b[0m\n\u001b[0;32m----> 2\u001b[0;31m \u001b[0mplugin\u001b[0m \u001b[0;34m=\u001b[0m \u001b[0mIEPlugin\u001b[0m\u001b[0;34m(\u001b[0m\u001b[0mdevice\u001b[0m\u001b[0;34m=\u001b[0m\u001b[0;34m\"GPU\"\u001b[0m\u001b[0;34m)\u001b[0m\u001b[0;34m\u001b[0m\u001b[0;34m\u001b[0m\u001b[0m\n\u001b[0m",
      "\u001b[0;32mie_api.pyx\u001b[0m in \u001b[0;36mopenvino.inference_engine.ie_api.IEPlugin.__cinit__\u001b[0;34m()\u001b[0m\n",
      "\u001b[0;31mRuntimeError\u001b[0m: Cannot find plugin to use :Tried load plugin : clDNNPlugin,  error: Plugin clDNNPlugin cannot be loaded: cannot load plugin: clDNNPlugin from : clGetPlatformIDs error -1001, skipping\ncannot load plugin: clDNNPlugin from /opt/intel/openvino_2019.3.376/python/python3.7/openvino/inference_engine: Cannot load library '/opt/intel/openvino_2019.3.376/python/python3.7/openvino/inference_engine/libclDNNPlugin.so': /opt/intel/openvino_2019.3.376/python/python3.7/openvino/inference_engine/libclDNNPlugin.so: cannot open shared object file: No such file or directory, skipping\n\n\n\n"
     ]
    }
   ],
   "source": [
    "# Plugin initialization for specified device\n",
    "plugin = IEPlugin(device=\"GPU\")"
   ]
  },
  {
   "cell_type": "code",
   "execution_count": 20,
   "metadata": {},
   "outputs": [
    {
     "ename": "RuntimeError",
     "evalue": "Can not init Myriad device: NC_ERROR",
     "output_type": "error",
     "traceback": [
      "\u001b[0;31m---------------------------------------------------------------------------\u001b[0m",
      "\u001b[0;31mRuntimeError\u001b[0m                              Traceback (most recent call last)",
      "\u001b[0;32m<ipython-input-20-80936c4f9161>\u001b[0m in \u001b[0;36m<module>\u001b[0;34m\u001b[0m\n\u001b[1;32m      1\u001b[0m \u001b[0mnet\u001b[0m \u001b[0;34m=\u001b[0m \u001b[0mIENetwork\u001b[0m\u001b[0;34m(\u001b[0m\u001b[0mmodel\u001b[0m\u001b[0;34m=\u001b[0m\u001b[0mmodel_xml\u001b[0m\u001b[0;34m,\u001b[0m \u001b[0mweights\u001b[0m\u001b[0;34m=\u001b[0m\u001b[0mmodel_bin\u001b[0m\u001b[0;34m)\u001b[0m\u001b[0;34m\u001b[0m\u001b[0;34m\u001b[0m\u001b[0m\n\u001b[0;32m----> 2\u001b[0;31m \u001b[0mexec_net\u001b[0m \u001b[0;34m=\u001b[0m \u001b[0mplugin\u001b[0m\u001b[0;34m.\u001b[0m\u001b[0mload\u001b[0m\u001b[0;34m(\u001b[0m\u001b[0mnetwork\u001b[0m\u001b[0;34m=\u001b[0m\u001b[0mnet\u001b[0m\u001b[0;34m)\u001b[0m\u001b[0;34m\u001b[0m\u001b[0;34m\u001b[0m\u001b[0m\n\u001b[0m",
      "\u001b[0;32mie_api.pyx\u001b[0m in \u001b[0;36mopenvino.inference_engine.ie_api.IEPlugin.load\u001b[0;34m()\u001b[0m\n",
      "\u001b[0;32mie_api.pyx\u001b[0m in \u001b[0;36mopenvino.inference_engine.ie_api.IEPlugin.load\u001b[0;34m()\u001b[0m\n",
      "\u001b[0;31mRuntimeError\u001b[0m: Can not init Myriad device: NC_ERROR"
     ]
    }
   ],
   "source": [
    "net = IENetwork(model=model_xml, weights=model_bin)\n",
    "exec_net = plugin.load(network=net)"
   ]
  },
  {
   "cell_type": "code",
   "execution_count": null,
   "metadata": {},
   "outputs": [],
   "source": [
    "print(\"Predicting using MYRIAD\")\n",
    "for i,data in enumerate(np.genfromtxt('input.txt')):\n",
    "    res = exec_net.infer(inputs={'dense_1_input': data})\n",
    "    #print(res['dense_1/Softmax'])\n",
    "    print(\"real: %s \\t predicted: %s\"%(classes[y_test[i]],classes[np.argmax(res['dense_1/Softmax'])]))"
   ]
  },
  {
   "cell_type": "code",
   "execution_count": 18,
   "metadata": {},
   "outputs": [
    {
     "name": "stdout",
     "output_type": "stream",
     "text": [
      "dense_1/MatMul:\n",
      "  cpu_time: 103\n",
      "  exec_type: gemm_blas_FP32\n",
      "  execution_index: 0\n",
      "  layer_type: FullyConnected\n",
      "  real_time: 103\n",
      "  status: EXECUTED\n",
      "dense_1/Softmax:\n",
      "  cpu_time: 18\n",
      "  exec_type: ref_any_FP32\n",
      "  execution_index: 1\n",
      "  layer_type: SoftMax\n",
      "  real_time: 18\n",
      "  status: EXECUTED\n",
      "out_dense_1/Softmax:\n",
      "  cpu_time: 11\n",
      "  exec_type: unknown_FP32\n",
      "  execution_index: 2\n",
      "  layer_type: Output\n",
      "  real_time: 11\n",
      "  status: EXECUTED\n",
      "\n"
     ]
    }
   ],
   "source": [
    "print(yaml.dump(exec_net.requests[0].get_perf_counts(), default_flow_style=False))"
   ]
  },
  {
   "cell_type": "code",
   "execution_count": null,
   "metadata": {},
   "outputs": [],
   "source": []
  }
 ],
 "metadata": {
  "kernelspec": {
   "display_name": "Python 3",
   "language": "python",
   "name": "python3"
  },
  "language_info": {
   "codemirror_mode": {
    "name": "ipython",
    "version": 3
   },
   "file_extension": ".py",
   "mimetype": "text/x-python",
   "name": "python",
   "nbconvert_exporter": "python",
   "pygments_lexer": "ipython3",
   "version": "3.6.10"
  }
 },
 "nbformat": 4,
 "nbformat_minor": 4
}

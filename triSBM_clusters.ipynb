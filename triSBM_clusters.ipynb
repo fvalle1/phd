{
 "cells": [
  {
   "cell_type": "code",
   "execution_count": null,
   "id": "virgin-runner",
   "metadata": {},
   "outputs": [],
   "source": [
    "import pandas as pd\n",
    "import numpy as np\n",
    "import os,sys\n",
    "import seaborn as sns\n",
    "import matplotlib.pyplot as plt\n",
    "import logging\n",
    "log = logging.getLogger(\"triSBM_cluster\")\n",
    "log.addHandler(logging.StreamHandler())\n",
    "log.setLevel(logging.DEBUG)"
   ]
  },
  {
   "cell_type": "code",
   "execution_count": null,
   "id": "experienced-seminar",
   "metadata": {},
   "outputs": [],
   "source": [
    "work_dir=\"datasets/tcga/COAD/mirna_allsamples/\"\n",
    "#working_dir=\"../cancers/breast/\"\n",
    "os.chdir(work_dir)"
   ]
  },
  {
   "cell_type": "markdown",
   "id": "third-crack",
   "metadata": {},
   "source": [
    "## Survival"
   ]
  },
  {
   "cell_type": "code",
   "execution_count": null,
   "id": "collaborative-forth",
   "metadata": {},
   "outputs": [],
   "source": [
    "df_files = pd.read_csv(\"files.dat\", sep=\",\")\n",
    "df_files.info()"
   ]
  },
  {
   "cell_type": "code",
   "execution_count": null,
   "id": "electrical-april",
   "metadata": {},
   "outputs": [],
   "source": [
    "bins = np.linspace(0,100,20)\n",
    "avg = df_files[\"cases.0.diagnoses.0.age_at_diagnosis\"].mean(skipna=True)\n",
    "df_files[\"age_at_diagnosis\"]=pd.cut(df_files[\"cases.0.diagnoses.0.age_at_diagnosis\"].fillna(avg)/365., bins=bins, labels = (bins[1:]+bins[:-1])/2).__array__()"
   ]
  },
  {
   "cell_type": "code",
   "execution_count": null,
   "id": "future-capitol",
   "metadata": {},
   "outputs": [],
   "source": [
    "df_files[\"gender\"] = (df_files[\"cases.0.demographic.gender\"]==\"male\").astype(int)"
   ]
  },
  {
   "cell_type": "code",
   "execution_count": null,
   "id": "recognized-prince",
   "metadata": {},
   "outputs": [],
   "source": [
    "for letter in [\"a\", \"b\", \"c\"]:\n",
    "    for (old, new) in zip([\"stage %s%s\"%(i,letter) for i in [\"i\", \"ii\", \"iii\", \"iv\"]],[\"stage %s\"%i for i in [\"i\", \"ii\", \"iii\", \"iv\"]]):\n",
    "        df_files.replace(old, new, inplace=True)\n",
    "df_files[\"cases.0.diagnoses.0.tumor_stage\"].unique()"
   ]
  },
  {
   "cell_type": "code",
   "execution_count": null,
   "id": "cellular-alexander",
   "metadata": {},
   "outputs": [],
   "source": [
    "df_files[\"tumor_stage\"]=df_files[\"cases.0.diagnoses.0.tumor_stage\"]\n",
    "for i,stage in enumerate([\"stage i\", \"stage ii\", \"stage iii\", \"stage iv\", \"stage v\", \"stage x\"]):\n",
    "    df_files[\"tumor_stage\"].replace(stage, i+1, inplace=True)"
   ]
  },
  {
   "cell_type": "code",
   "execution_count": null,
   "id": "refined-module",
   "metadata": {},
   "outputs": [],
   "source": [
    "#0 = Alive\n",
    "df_files[\"vital_status\"]=(df_files[\"cases.0.demographic.vital_status\"]==\"Dead\").astype(int)"
   ]
  },
  {
   "cell_type": "code",
   "execution_count": null,
   "id": "flexible-mother",
   "metadata": {},
   "outputs": [],
   "source": [
    "def get_survival(case):\n",
    "    if case[\"cases.0.demographic.vital_status\"] == 1:\n",
    "        return case[\"cases.0.demographic.days_to_death\"]\n",
    "    else:\n",
    "        return case[\"cases.0.diagnoses.0.days_to_last_follow_up\"]\n",
    "\n",
    "df_files[\"days_survival\"] = df_files.apply(get_survival,1)"
   ]
  },
  {
   "cell_type": "markdown",
   "id": "nonprofit-transsexual",
   "metadata": {},
   "source": [
    "# Regulatory network"
   ]
  },
  {
   "cell_type": "code",
   "execution_count": null,
   "id": "aerial-ambassador",
   "metadata": {},
   "outputs": [],
   "source": [
    "%load_ext autoreload\n",
    "%autoreload 2\n",
    "from regulatory.mixed import Mixed\n",
    "from regulatory.mirdip import MirDip\n",
    "from regulatory.tarbase import TarBase"
   ]
  },
  {
   "cell_type": "code",
   "execution_count": null,
   "id": "equal-billion",
   "metadata": {},
   "outputs": [],
   "source": [
    "import networkx as nx\n",
    "from gseapy import enrichr"
   ]
  },
  {
   "cell_type": "code",
   "execution_count": null,
   "id": "median-coverage",
   "metadata": {},
   "outputs": [],
   "source": [
    "gene_sets = [\"/home/jovyan/work/phd/MSigDB/\"+set for set in ['c1.all.v7.1.symbols.gmt',\n",
    "                                             'c2.all.v7.1.symbols.gmt',\n",
    "                                             #'c3.all.v7.1.symbols.gmt',\n",
    "                                             'c4.all.v7.1.symbols.gmt',\n",
    "                                             'c5.all.v7.1.symbols.gmt',\n",
    "                                             'c6.all.v7.1.symbols.gmt',\n",
    "                                             'c7.all.v7.1.symbols.gmt',\n",
    "                                             'c8.all.v7.2.symbols.gmt',\n",
    "                                             'h.all.v7.2.symbols.gmt',\n",
    "                                                            ]\n",
    "            ]"
   ]
  },
  {
   "cell_type": "code",
   "execution_count": null,
   "id": "laughing-society",
   "metadata": {},
   "outputs": [],
   "source": [
    "#network = Mixed()\n",
    "#network = MirDip()\n",
    "network = TarBase()"
   ]
  },
  {
   "cell_type": "code",
   "execution_count": null,
   "id": "nervous-humor",
   "metadata": {},
   "outputs": [],
   "source": [
    "df_topics = pd.read_csv(\"trisbm/trisbm_level_1_metadata.csv\")\n",
    "#df_key_dist = pd.read_csv(\"trisbm/trisbm_level_1_metadata.csv\")\n",
    "background = df_topics.values.ravel()\n",
    "background = list(filter(lambda x: x!=\"nan\", background.astype(str)))\n",
    "\n",
    "res = {}\n",
    "\n",
    "for metadatum in df_topics.columns:\n",
    "    mirnas = df_topics[metadatum].dropna().values\n",
    "    regulated = pd.DataFrame()\n",
    "    for mirna in network.check_input_data(mirnas):\n",
    "        data = network.get_neighborns(mirna)\n",
    "        data = list(filter(lambda x: str(x)!=\"nan\",data))\n",
    "        regulated=regulated.join(\n",
    "            pd.Series(index=data, \n",
    "                    name=mirna,\n",
    "                    data = 1,\n",
    "                    dtype=object),\n",
    "            how=\"outer\"\n",
    "        )\n",
    "    regulated = regulated.fillna(0).sum(1).sort_values(ascending=False)\n",
    "    regulated = regulated[regulated>regulated.quantile(0.9)] # genes regulated by at least 50% of the metadatum\n",
    "    res[metadatum]=regulated.index\n",
    "    #for gene in regulated.items():\n",
    "    #    print(gene[0])\n",
    "    try:\n",
    "        print(enrichr(list(regulated.index), gene_sets).results.sort_values(\"Adjusted P-value\", ascending=True)[[\"Term\",\"Adjusted P-value\"]])   \n",
    "    except:\n",
    "        log.error(sys.exc_info()[1])\n",
    "    print(\"\\n\\n**************************\\n\\n\")"
   ]
  },
  {
   "cell_type": "code",
   "execution_count": null,
   "id": "proprietary-appraisal",
   "metadata": {},
   "outputs": [],
   "source": [
    "list(map(len,res.values()))"
   ]
  },
  {
   "cell_type": "code",
   "execution_count": null,
   "id": "irish-magic",
   "metadata": {},
   "outputs": [],
   "source": []
  }
 ],
 "metadata": {
  "kernelspec": {
   "display_name": "Python 3",
   "language": "python",
   "name": "python3"
  },
  "language_info": {
   "codemirror_mode": {
    "name": "ipython",
    "version": 3
   },
   "file_extension": ".py",
   "mimetype": "text/x-python",
   "name": "python",
   "nbconvert_exporter": "python",
   "pygments_lexer": "ipython3",
   "version": "3.8.6"
  }
 },
 "nbformat": 4,
 "nbformat_minor": 5
}

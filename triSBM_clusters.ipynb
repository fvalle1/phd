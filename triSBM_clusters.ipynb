{
 "cells": [
  {
   "cell_type": "code",
   "execution_count": null,
   "id": "moved-shower",
   "metadata": {},
   "outputs": [],
   "source": [
    "import pandas as pd\n",
    "import numpy as np\n",
    "import os\n",
    "import seaborn as sns\n",
    "import matplotlib.pyplot as plt"
   ]
  },
  {
   "cell_type": "code",
   "execution_count": null,
   "id": "about-publication",
   "metadata": {},
   "outputs": [],
   "source": [
    "work_dir=\"datasets/tcga/BRCA/mirna_allsamples/\"\n",
    "#working_dir=\"../cancers/breast/\"\n",
    "os.chdir(work_dir)"
   ]
  },
  {
   "cell_type": "markdown",
   "id": "japanese-chase",
   "metadata": {},
   "source": [
    "## Survival"
   ]
  },
  {
   "cell_type": "code",
   "execution_count": null,
   "id": "coated-grain",
   "metadata": {},
   "outputs": [],
   "source": [
    "df_files = pd.read_csv(\"files.dat\", sep=\",\")\n",
    "df_files.info()"
   ]
  },
  {
   "cell_type": "code",
   "execution_count": null,
   "id": "perceived-stand",
   "metadata": {},
   "outputs": [],
   "source": [
    "bins = np.linspace(0,100,20)\n",
    "avg = df_files[\"cases.0.diagnoses.0.age_at_diagnosis\"].mean(skipna=True)\n",
    "df_files[\"age_at_diagnosis\"]=pd.cut(df_files[\"cases.0.diagnoses.0.age_at_diagnosis\"].fillna(avg)/365., bins=bins, labels = (bins[1:]+bins[:-1])/2).__array__()"
   ]
  },
  {
   "cell_type": "code",
   "execution_count": null,
   "id": "unlikely-petersburg",
   "metadata": {},
   "outputs": [],
   "source": [
    "df_files[\"gender\"] = (df_files[\"cases.0.demographic.gender\"]==\"male\").astype(int)"
   ]
  },
  {
   "cell_type": "code",
   "execution_count": null,
   "id": "australian-failure",
   "metadata": {},
   "outputs": [],
   "source": [
    "for letter in [\"a\", \"b\", \"c\"]:\n",
    "    for (old, new) in zip([\"stage %s%s\"%(i,letter) for i in [\"i\", \"ii\", \"iii\", \"iv\"]],[\"stage %s\"%i for i in [\"i\", \"ii\", \"iii\", \"iv\"]]):\n",
    "        df_files.replace(old, new, inplace=True)\n",
    "df_files[\"cases.0.diagnoses.0.tumor_stage\"].unique()"
   ]
  },
  {
   "cell_type": "code",
   "execution_count": null,
   "id": "russian-julian",
   "metadata": {},
   "outputs": [],
   "source": [
    "df_files[\"tumor_stage\"]=df_files[\"cases.0.diagnoses.0.tumor_stage\"]\n",
    "for i,stage in enumerate([\"stage i\", \"stage ii\", \"stage iii\", \"stage iv\", \"stage v\", \"stage x\"]):\n",
    "    df_files[\"tumor_stage\"].replace(stage, i+1, inplace=True)"
   ]
  },
  {
   "cell_type": "code",
   "execution_count": null,
   "id": "toxic-smith",
   "metadata": {},
   "outputs": [],
   "source": [
    "#0 = Alive\n",
    "df_files[\"vital_status\"]=(df_files[\"cases.0.demographic.vital_status\"]==\"Dead\").astype(int)"
   ]
  },
  {
   "cell_type": "code",
   "execution_count": null,
   "id": "special-brazil",
   "metadata": {},
   "outputs": [],
   "source": [
    "def get_survival(case):\n",
    "    if case[\"cases.0.demographic.vital_status\"] == 1:\n",
    "        return case[\"cases.0.demographic.days_to_death\"]\n",
    "    else:\n",
    "        return case[\"cases.0.diagnoses.0.days_to_last_follow_up\"]\n",
    "\n",
    "df_files[\"days_survival\"] = df_files.apply(get_survival,1)"
   ]
  },
  {
   "cell_type": "code",
   "execution_count": null,
   "id": "disabled-festival",
   "metadata": {},
   "outputs": [],
   "source": [
    "import lifelines\n",
    "import sys\n",
    "sys.path.append(\"/home/jovyan/work/phd/\")\n",
    "from survival import fit_cox, add_group_to_subset, save_plot\n",
    "from topicpy.hsbmpy import get_file\n",
    "from scipy.stats import pearsonr"
   ]
  },
  {
   "cell_type": "code",
   "execution_count": null,
   "id": "circular-relaxation",
   "metadata": {},
   "outputs": [],
   "source": [
    "l=1\n",
    "\n",
    "algorithm = \"trisbm\"\n",
    "kind = \"keyword\", \"metadatum\"\n",
    "#kind = \"word\", \"topic\""
   ]
  },
  {
   "cell_type": "code",
   "execution_count": null,
   "id": "instructional-smith",
   "metadata": {},
   "outputs": [],
   "source": [
    "df_clusters = pd.read_csv(\"trisbm/trisbm_level_1_%s-dist.csv\"%kind[1],index_col=1).drop(\"i_doc\",1)"
   ]
  },
  {
   "cell_type": "code",
   "execution_count": null,
   "id": "hollywood-juice",
   "metadata": {},
   "outputs": [],
   "source": [
    "df_topics = pd.read_csv(\"%s/%s_level_%d_%s-dist.csv\"%(algorithm,algorithm,l,kind[1]))\n",
    "df_metadata = pd.read_csv(\"files.dat\", index_col=0).dropna(how='all', axis=0)\n",
    "for letter in [\"a\", \"b\", \"c\"]:\n",
    "    for (old, new) in zip([\"stage %s%s\"%(i,letter) for i in [\"i\", \"ii\", \"iii\", \"iv\"]],[\"stage %s\"%i for i in [\"i\", \"ii\", \"iii\", \"iv\"]]):\n",
    "        df_metadata.replace(old, new, inplace=True)\n",
    "\n",
    "df_topics.set_index('doc', inplace=True)\n",
    "df_topics.insert(0,'stage','')\n",
    "df_topics.insert(0,'cohort','')\n",
    "df_topics.drop('i_doc', axis=1, inplace=True)\n",
    "\n",
    "labels=[\"cases.0.diagnoses.0.tumor_stage\",\"Subtype_Selected\"]\n",
    "label = labels[0]\n",
    "\n",
    "if label not in df_files.columns:\n",
    "    raise AttributeError(f\"{label} not valid. Available: {df_files.columns}\")\n",
    "for letter in [\"a\", \"b\"]:\n",
    "    for (old, new) in zip([\"stage %s%s\"%(i,letter) for i in [\"i\", \"ii\", \"iii\", \"iv\"]],[\"stage %s\"%i for i in [\"i\", \"ii\", \"iii\", \"iv\"]]):\n",
    "        df_files.replace(old, new, inplace=True)\n",
    "for sample in df_topics.index.values:\n",
    "    file_data = get_file(sample,df_metadata)\n",
    "    if file_data is None:\n",
    "        continue\n",
    "    if (file_data[labels[1]]==\"BRCA.Basal\"):\n",
    "        name = \"A\"\n",
    "    else:\n",
    "        name = \"B\"\n",
    "    df_topics.at[sample,'stage']=(\"%s\"%(file_data[labels[0]]))\n",
    "    df_topics.at[sample,'cohort']=(\"%s\"%(name))\n",
    "\n",
    "mask = df_topics[\"stage\"]!=\"not reported\"\n",
    "mask = (mask) & (df_topics[\"stage\"]!=\"\")\n",
    "mask = (mask) & (df_topics[\"stage\"]!=\"stage x\")\n",
    "mask = (mask) & (df_topics[\"stage\"]!=\"nan\")\n",
    "df_topic_stage_gb = df_topics[mask].groupby([\"cohort\", \"stage\"])\n",
    "\n",
    "df_topic_stage = df_topics[mask]\n",
    "\n",
    "color_generator=(c for c in sns.palettes.color_palette(n_colors=20, palette=None))\n",
    "df_topic_stage = df_topic_stage_gb.mean()\n",
    "\n",
    "for topic in df_topic_stage.columns:\n",
    "    fig, axs = plt.subplots(1,3,figsize=(45,15))\n",
    "    color = next(color_generator)\n",
    "    X = []\n",
    "    for ((i,dataset), ax) in zip(enumerate(np.unique([idx[0] for idx in df_topic_stage.index])), axs[:2]):\n",
    "        idxs = int(round(df_topic_stage.index.shape[0]/2))\n",
    "        idx = df_topic_stage.index[i*idxs:(i+1)*idxs]\n",
    "        \n",
    "        df_topic_stage_dat = df_topic_stage.reindex(index=idx, columns = [topic])\n",
    "        mean = df_topic_stage_dat.mean(0).values\n",
    "        df_topic_stage_dat=df_topic_stage_dat.subtract(mean,1)\n",
    "        #sigma = df_topic_stage_dat.std(0).values[0]\n",
    "        #df_topic_stage_dat=df_topic_stage_dat.divide(sigma,1)\n",
    "        df_topic_stage_dat.plot(ax=ax, marker=\"o\",ms=55, lw=20, c=color, legend=False)\n",
    "        \n",
    "        x = ax.lines[0].get_xdata()\n",
    "        y = ax.lines[0].get_ydata()\n",
    "        err = (df_topic_stage_dat.std(0)).values.ravel()\n",
    "        ax.fill_between(ax.lines[0].get_xdata(), y-err, y+err, color=\"gray\", alpha=0.8)\n",
    "        \n",
    "        \n",
    "        labs = np.sort(df_topics[mask][\"stage\"].unique())\n",
    "        ax.set_xticks(x)\n",
    "        ax.set_xticklabels(labels=labs, rotation=45)\n",
    "        ax.tick_params(labelsize=25)\n",
    "        ax.set_title(dataset, fontsize=25)\n",
    "        ax.set_xlabel(\"\")\n",
    "        \n",
    "        X.append(y)\n",
    "        \n",
    "    axs[1].legend(fontsize=35, ncol=3)\n",
    "    axs[0].set_ylabel(\"$Centered <P(%s|stage)>$\"%kind[1], fontsize=35)\n",
    "    \n",
    "    ax = axs[2]\n",
    "    ax.scatter(*X, s=55**2, color=color)\n",
    "    for x,y, text in zip(X[0],X[1],[\"stage i\",\"stage ii\",\"stage iii\",\"stage iv\"]):\n",
    "        ax.annotate(text, (x,y), size=35)\n",
    "    ax.tick_params(labelsize=25)\n",
    "    ax.set_title(\"A vs B,\\n Pearson {:.3f}\".format(pearsonr(X[0],X[1])[0]), fontsize=25)\n",
    "    ax.set_xlabel(\"\")\n",
    "    ax.set_xlabel(\"$Centered <P(%s|stage,A)>$\"%kind[1], fontsize=35)\n",
    "    ax.set_ylabel(\"$Centered <P(%s|stage,B)>$\"%kind[1], fontsize=35)\n",
    "    ax.ticklabel_format(style=\"sci\", useOffset=True)\n",
    "\n",
    "    fig.savefig(f\"{kind[1]}_A_B_{topic}.pdf\")\n",
    "    \n",
    "\n",
    "    plt.show()"
   ]
  },
  {
   "cell_type": "code",
   "execution_count": null,
   "id": "precious-performance",
   "metadata": {},
   "outputs": [],
   "source": [
    "df_topics = pd.read_csv(\"%s/%s_level_%d_%s-dist.csv\"%(algorithm,algorithm,l,kind[1]))\n",
    "\n",
    "df_topics.set_index('doc', inplace=True)\n",
    "df_topics.insert(0,'stage','')\n",
    "df_topics.drop('i_doc', axis=1, inplace=True)\n",
    "\n",
    "labels=[\"cases.0.diagnoses.0.tumor_stage\"]\n",
    "label = labels[0]\n",
    "\n",
    "if label not in df_files.columns:\n",
    "    raise AttributeError(f\"{label} not valid. Available: {df_files.columns}\")\n",
    "for letter in [\"a\", \"b\"]:\n",
    "    for (old, new) in zip([\"stage %s%s\"%(i,letter) for i in [\"i\", \"ii\", \"iii\", \"iv\"]],[\"stage %s\"%i for i in [\"i\", \"ii\", \"iii\", \"iv\"]]):\n",
    "        df_files.replace(old, new, inplace=True)\n",
    "for sample in df_topics.index.values:\n",
    "    file_data = get_file(sample,df_metadata)\n",
    "    if file_data is None:\n",
    "        continue\n",
    "    df_topics.at[sample,'stage']=(\"%s\"%(file_data[labels[0]]))\n",
    "\n",
    "mask = df_topics[\"stage\"]!=\"not reported\"\n",
    "mask = (mask) & (df_topics[\"stage\"]!=\"\")\n",
    "mask = (mask) & (df_topics[\"stage\"]!=\"stage x\")\n",
    "mask = (mask) & (df_topics[\"stage\"]!=\"nan\")\n",
    "df_topic_stage_gb = df_topics[mask].groupby([\"stage\"]).mean()\n",
    "\n",
    "color_generator=(c for c in sns.palettes.color_palette(n_colors=20, palette=None))\n",
    "\n",
    "\n",
    "\n",
    "for topic in df_topic_stage_gb.columns:\n",
    "    fig, ax = plt.subplots(1,1,figsize=(30,15))\n",
    "    color = next(color_generator)\n",
    "\n",
    "\n",
    "    df_topic_stage_dat = df_topic_stage_gb[topic]\n",
    "    mean = df_topic_stage_dat.mean()\n",
    "    df_topic_stage_dat=df_topic_stage_dat.subtract(mean,1)\n",
    "    #sigma = df_topic_stage_dat.std(0).values[0]\n",
    "    #df_topic_stage_dat=df_topic_stage_dat.divide(sigma,1)\n",
    "    df_topic_stage_dat.plot(ax=ax, marker=\"o\",ms=55, lw=20, c=color, legend=False)\n",
    "\n",
    "    x = ax.lines[0].get_xdata()\n",
    "    y = ax.lines[0].get_ydata()\n",
    "    err = (df_topic_stage_dat.max()-df_topic_stage_dat.min())/2\n",
    "    ax.fill_between(ax.lines[0].get_xdata(), y-err, y+err, color=\"gray\", alpha=0.8)\n",
    "\n",
    "    labs = np.sort(df_topics[mask][\"stage\"].unique())\n",
    "    ax.set_xticks(x)\n",
    "    ax.set_xticklabels(labels=labs, rotation=45)\n",
    "    ax.tick_params(labelsize=35)\n",
    "    ax.set_title(topic+\"\\nPearson:\"+\"{0:.3f}\".format(pearsonr(x,y)[0]), fontsize=35)\n",
    "    ax.set_xlabel(\"\")\n",
    "        \n",
    "    axs[1].legend(fontsize=35, ncol=3)\n",
    "    axs[0].set_ylabel(\"$Centered <P(%s|stage)>$\"%kind[1], fontsize=35)\n",
    "    fig.savefig(f\"topic_{topic}.pdf\")\n",
    "    \n",
    "\n",
    "    plt.show()"
   ]
  },
  {
   "cell_type": "code",
   "execution_count": null,
   "id": "focused-target",
   "metadata": {},
   "outputs": [],
   "source": [
    "fig, ax = plt.subplots(figsize=(9,8))\n",
    "from topicpy.hsbmpy import color_iterator\n",
    "for metadatum in df_topics.columns[1:]:\n",
    "    color = next(color_iterator)\n",
    "    subdf = df_topics.loc[:, [\"stage\", metadatum]].replace(\"\",np.nan).replace(\"nan\",np.nan).dropna().sort_values(\"stage\")\n",
    "    ax.scatter(subdf[\"stage\"], subdf[metadatum], label=metadatum, color=color)\n",
    "    ax.plot(subdf[\"stage\"].unique(), subdf.groupby(\"stage\").median()[metadatum], marker=\"x\", color=color)\n",
    "\n",
    "ax.set_ylabel(\"P(sample|metadato)\")\n",
    "ax.legend()"
   ]
  },
  {
   "cell_type": "code",
   "execution_count": null,
   "id": "champion-density",
   "metadata": {},
   "outputs": [],
   "source": [
    "def get_cohort(subtype):\n",
    "    if str(subtype)==\"nan\":\n",
    "        return None\n",
    "    else:\n",
    "        if \"Basal\" in subtype:\n",
    "            return \"A\"\n",
    "        else:\n",
    "            return \"B\"\n",
    "df_files[\"cohort\"]=list(map(get_cohort,df_files[\"Subtype_Selected\"]))"
   ]
  },
  {
   "cell_type": "code",
   "execution_count": null,
   "id": "aerial-shelf",
   "metadata": {},
   "outputs": [],
   "source": [
    "df_files = df_files.set_index(\"cases.0.submitter_id\")\n",
    "mask = (~df_files[\"days_survival\"].isna()) & (df_files[\"cases.0.diagnoses.0.tumor_stage\"]!=\"not reported\")\n",
    "subset = df_files[mask]\n",
    "df_files=df_files.reset_index()\n",
    "subset = subset[[\"days_survival\",\"vital_status\",\"gender\", \"tumor_stage\", \"age_at_diagnosis\"]]\n",
    "for topic in df_clusters.columns:\n",
    "    top_set = add_group_to_subset(topic, subset, df_clusters.divide(df_clusters.sum(0),1), 0.35)\n",
    "    print(top_set[\"group\"].sum())\n",
    "    summary, _, ax = fit_cox(top_set, topic)\n",
    "    if summary is not None:\n",
    "        if summary.at[summary.index[-1],\"-log2(p)\"]/(np.log2(10)) > 2:\n",
    "            print(dataset,\": \",topic,\"\\n\",summary.loc[summary.index[-1],[\"coef\", \"p\"]],\"\\n\")\n",
    "            ax=None\n",
    "            if ax is not None:\n",
    "                ax.set_title(dataset+\" \"+ax.title.get_text(), fontsize=35)\n",
    "                save_plot(ax, dataset, topic)"
   ]
  },
  {
   "cell_type": "markdown",
   "id": "found-registrar",
   "metadata": {},
   "source": [
    "# Regulatory network"
   ]
  },
  {
   "cell_type": "code",
   "execution_count": null,
   "id": "naughty-wiring",
   "metadata": {},
   "outputs": [],
   "source": [
    "df_graph_meta = pd.read_csv(\"/home/jovyan/work/phd/regulatory/graph_metadata.csv\", index_col=0)"
   ]
  },
  {
   "cell_type": "code",
   "execution_count": null,
   "id": "pointed-relief",
   "metadata": {},
   "outputs": [],
   "source": [
    "import networkx as nx\n",
    "sys.path.append(\"/home/jovyan/work/phd/regulatory\")\n",
    "from regulatory import get_neighborns\n",
    "from gseapy import enrichr"
   ]
  },
  {
   "cell_type": "code",
   "execution_count": null,
   "id": "combined-gothic",
   "metadata": {},
   "outputs": [],
   "source": [
    "gene_sets = [\"/home/jovyan/work/phd/MSigDB/\"+set for set in ['c1.all.v7.1.symbols.gmt',\n",
    "                                             'c2.all.v7.1.symbols.gmt',\n",
    "                                             #'c3.all.v7.1.symbols.gmt',\n",
    "                                             'c4.all.v7.1.symbols.gmt',\n",
    "                                             'c5.all.v7.1.symbols.gmt',\n",
    "                                             'c6.all.v7.1.symbols.gmt',\n",
    "                                             'c7.all.v7.1.symbols.gmt',\n",
    "                                             'c8.all.v7.2.symbols.gmt',\n",
    "                                             'h.all.v7.2.symbols.gmt',\n",
    "                                                            ]\n",
    "            ]"
   ]
  },
  {
   "cell_type": "code",
   "execution_count": null,
   "id": "naked-promise",
   "metadata": {},
   "outputs": [],
   "source": [
    "g = nx.read_gpickle(\"/home/jovyan/work/phd/regulatory/graph.pkl.gz\")"
   ]
  },
  {
   "cell_type": "code",
   "execution_count": null,
   "id": "sustained-citizen",
   "metadata": {},
   "outputs": [],
   "source": [
    "df_topics = pd.read_csv(\"trisbm/trisbm_level_1_metadata.csv\")\n",
    "for metadatum in df_topics.columns:\n",
    "    mirnas = df_topics[metadatum].dropna().values\n",
    "    df_nodes = df_graph_meta[df_graph_meta[\"name\"].isin(mirnas)]\n",
    "    regulated = pd.DataFrame()\n",
    "    for mirna in df_nodes[\"id\"]:\n",
    "        data = get_neighborns(mirna, g, df_graph_meta.set_index(\"id\"))\n",
    "        data = list(filter(lambda x: str(x)!=\"nan\",data))\n",
    "        regulated=regulated.join(\n",
    "            pd.Series(index=data, \n",
    "                    name=mirna,\n",
    "                    data = 1,\n",
    "                    dtype=object),\n",
    "            how=\"outer\"\n",
    "        )\n",
    "    regulated = regulated.fillna(0).sum(1).sort_values(ascending=False)\n",
    "    regulated = regulated[regulated>(len(mirnas)*0.1)] # genes regulated by at least 50% of the metadatum\n",
    "    #for gene in regulated.items():\n",
    "    #    print(gene[0])\n",
    "    try:\n",
    "        print(enrichr(list(regulated.index), gene_sets).results.sort_values(\"Adjusted P-value\", ascending=True)[[\"Term\",\"Adjusted P-value\"]])   \n",
    "    except:\n",
    "        pass\n",
    "    print(\"\\n\\n**************************\\n\\n\")"
   ]
  },
  {
   "cell_type": "code",
   "execution_count": null,
   "id": "executed-story",
   "metadata": {},
   "outputs": [],
   "source": []
  }
 ],
 "metadata": {
  "kernelspec": {
   "display_name": "Python 3",
   "language": "python",
   "name": "python3"
  },
  "language_info": {
   "codemirror_mode": {
    "name": "ipython",
    "version": 3
   },
   "file_extension": ".py",
   "mimetype": "text/x-python",
   "name": "python",
   "nbconvert_exporter": "python",
   "pygments_lexer": "ipython3",
   "version": "3.8.6"
  }
 },
 "nbformat": 4,
 "nbformat_minor": 5
}

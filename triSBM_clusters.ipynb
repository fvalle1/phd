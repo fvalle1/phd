{
 "cells": [
  {
   "cell_type": "code",
   "execution_count": null,
   "id": "multiple-relief",
   "metadata": {},
   "outputs": [],
   "source": [
    "import pandas as pd\n",
    "import numpy as np\n",
    "import os\n",
    "import seaborn as sns\n",
    "import matplotlib.pyplot as plt"
   ]
  },
  {
   "cell_type": "code",
   "execution_count": null,
   "id": "worthy-platform",
   "metadata": {},
   "outputs": [],
   "source": [
    "work_dir=\"datasets/tcga/COAD/mirna_allsamples/\"\n",
    "#working_dir=\"../cancers/breast/\"\n",
    "os.chdir(work_dir)"
   ]
  },
  {
   "cell_type": "markdown",
   "id": "checked-branch",
   "metadata": {},
   "source": [
    "# Regulatory network"
   ]
  },
  {
   "cell_type": "code",
   "execution_count": null,
   "id": "knowing-bankruptcy",
   "metadata": {},
   "outputs": [],
   "source": [
    "df_graph_meta = pd.read_csv(\"/home/jovyan/work/phd/regulatory/graph_metadata.csv\", index_col=0)"
   ]
  },
  {
   "cell_type": "code",
   "execution_count": null,
   "id": "interim-feature",
   "metadata": {},
   "outputs": [],
   "source": [
    "import networkx as nx\n",
    "import sys\n",
    "sys.path.append(\"/home/jovyan/work/phd/regulatory\")\n",
    "from regulatory import get_neighborns\n",
    "from gseapy import enrichr"
   ]
  },
  {
   "cell_type": "code",
   "execution_count": null,
   "id": "impressive-grass",
   "metadata": {},
   "outputs": [],
   "source": [
    "gene_sets = [\"/home/jovyan/work/phd/MSigDB/\"+set for set in ['c1.all.v7.1.symbols.gmt',\n",
    "                                             'c2.all.v7.1.symbols.gmt',\n",
    "                                             #'c3.all.v7.1.symbols.gmt',\n",
    "                                             'c4.all.v7.1.symbols.gmt',\n",
    "                                             'c5.all.v7.1.symbols.gmt',\n",
    "                                             'c6.all.v7.1.symbols.gmt',\n",
    "                                             'c7.all.v7.1.symbols.gmt',\n",
    "                                             'c8.all.v7.2.symbols.gmt',\n",
    "                                             'h.all.v7.2.symbols.gmt',\n",
    "                                                            ]\n",
    "            ]"
   ]
  },
  {
   "cell_type": "code",
   "execution_count": null,
   "id": "lucky-insurance",
   "metadata": {},
   "outputs": [],
   "source": [
    "g = nx.read_gpickle(\"/home/jovyan/work/phd/regulatory/graph.pkl.gz\")"
   ]
  },
  {
   "cell_type": "code",
   "execution_count": null,
   "id": "roman-execution",
   "metadata": {},
   "outputs": [],
   "source": [
    "df_topics = pd.read_csv(\"trisbm/trisbm_level_1_metadata.csv\")\n",
    "#df_key_dist = pd.read_csv(\"trisbm/trisbm_level_1_metadata.csv\")\n",
    "background = df_topics.values.ravel()\n",
    "background = list(filter(lambda x: x!=\"nan\", background.astype(str)))\n",
    "\n",
    "res = {}\n",
    "\n",
    "for metadatum in df_topics.columns:\n",
    "    mirnas = df_topics[metadatum].dropna().values\n",
    "    df_nodes = df_graph_meta[df_graph_meta[\"name\"].isin(mirnas)]\n",
    "    regulated = pd.DataFrame()\n",
    "    for mirna in df_nodes[\"id\"]:\n",
    "        data = get_neighborns(mirna, g, df_graph_meta.set_index(\"id\"))\n",
    "        data = list(filter(lambda x: str(x)!=\"nan\",data))\n",
    "        regulated=regulated.join(\n",
    "            pd.Series(index=data, \n",
    "                    name=mirna,\n",
    "                    data = 1,\n",
    "                    dtype=object),\n",
    "            how=\"outer\"\n",
    "        )\n",
    "    regulated = regulated.fillna(0).sum(1).sort_values(ascending=False)\n",
    "    regulated = regulated[regulated>(len(mirnas)*0.05)] # genes regulated by at least 50% of the metadatum\n",
    "    res[metadatum]=regulated.index\n",
    "    #for gene in regulated.items():\n",
    "    #    print(gene[0])\n",
    "    try:\n",
    "        print(enrichr(list(regulated.index), gene_sets).results.sort_values(\"Adjusted P-value\", ascending=True)[[\"Term\",\"Adjusted P-value\"]])   \n",
    "    except:\n",
    "        pass\n",
    "    print(\"\\n\\n**************************\\n\\n\")"
   ]
  },
  {
   "cell_type": "code",
   "execution_count": null,
   "id": "allied-romania",
   "metadata": {},
   "outputs": [],
   "source": [
    "max(map(len,res.values()))"
   ]
  },
  {
   "cell_type": "code",
   "execution_count": null,
   "id": "finite-works",
   "metadata": {},
   "outputs": [],
   "source": [
    "pd.DataFrame(data=[np.concatenate([li, np.repeat(np.nan,max(map(len,res.values()))-len(li))]) for li in res.values()]).transpose().dropna(how=\"all\",axis=1).to_csv(\"metadata_regulated.csv\")"
   ]
  },
  {
   "cell_type": "code",
   "execution_count": null,
   "id": "virgin-reception",
   "metadata": {},
   "outputs": [],
   "source": [
    "regulated"
   ]
  },
  {
   "cell_type": "code",
   "execution_count": null,
   "id": "alternate-lingerie",
   "metadata": {},
   "outputs": [],
   "source": []
  }
 ],
 "metadata": {
  "kernelspec": {
   "display_name": "Python 3",
   "language": "python",
   "name": "python3"
  },
  "language_info": {
   "codemirror_mode": {
    "name": "ipython",
    "version": 3
   },
   "file_extension": ".py",
   "mimetype": "text/x-python",
   "name": "python",
   "nbconvert_exporter": "python",
   "pygments_lexer": "ipython3",
   "version": "3.8.8"
  }
 },
 "nbformat": 4,
 "nbformat_minor": 5
}

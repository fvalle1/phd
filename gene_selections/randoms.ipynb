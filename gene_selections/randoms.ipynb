{
 "cells": [
  {
   "cell_type": "code",
   "execution_count": null,
   "id": "fifty-launch",
   "metadata": {},
   "outputs": [],
   "source": [
    "import pandas as pd\n",
    "import numpy as np\n",
    "import sys, os\n",
    "import seaborn as sns\n",
    "from scipy.stats import hypergeom\n",
    "from sklearn.metrics import normalized_mutual_info_score\n",
    "from topicpy.hsbmpy import get_max_available_L, get_scores, add_score_lines\n",
    "import matplotlib.pyplot as plt\n",
    "import multiprocessing as mp\n",
    "from time import time\n",
    "import logging\n",
    "log = logging.getLogger()"
   ]
  },
  {
   "cell_type": "code",
   "execution_count": null,
   "id": "dirty-barbados",
   "metadata": {},
   "outputs": [],
   "source": [
    "population=pd.read_csv(\"https://stephenslab.github.io/count-clustering/project/utilities/gene_names_all_gtex.txt\", header=None).values.ravel()"
   ]
  },
  {
   "cell_type": "code",
   "execution_count": null,
   "id": "alpha-boxing",
   "metadata": {},
   "outputs": [],
   "source": [
    "os.chdir(\"../topics/datasets/random/\")"
   ]
  },
  {
   "cell_type": "code",
   "execution_count": null,
   "id": "future-commercial",
   "metadata": {},
   "outputs": [],
   "source": [
    "df_files = pd.read_csv(\"random11/files.dat\", index_col=0)"
   ]
  },
  {
   "cell_type": "code",
   "execution_count": null,
   "id": "grand-painting",
   "metadata": {},
   "outputs": [],
   "source": [
    "experiments = [\"random00\", \"random11\",\"random22\",\"random33\",\"random44\",\"random55\",\"random66\",\"random77\",\"random88\",\"random99\"]\n",
    "genes = []\n",
    "for directory in experiments:\n",
    "    genes.append(pd.read_csv(f\"{directory}/mainTable.csv\", index_col=0).index)"
   ]
  },
  {
   "cell_type": "code",
   "execution_count": null,
   "id": "upset-projector",
   "metadata": {},
   "outputs": [],
   "source": [
    "def get_pval(setA, setB):\n",
    "    x = setA.isin(setB).sum() # number of successes\n",
    "    M = len(population) # pop size\n",
    "    k = len(setB) # successes in pop\n",
    "    N = len(setA) # sample size\n",
    "    pval = hypergeom.sf(x-1, M, k, N)\n",
    "    return pval\n",
    "#-np.log10(get_pval(setA, setB)+1)"
   ]
  },
  {
   "cell_type": "code",
   "execution_count": null,
   "id": "aware-occasions",
   "metadata": {},
   "outputs": [],
   "source": [
    "overlaps = list(map(lambda setA: list(map(lambda setB: setA.isin(setB).sum()/float(len(setA)), genes)), genes))"
   ]
  },
  {
   "cell_type": "code",
   "execution_count": null,
   "id": "beautiful-blanket",
   "metadata": {},
   "outputs": [],
   "source": [
    "cm = sns.clustermap(overlaps, \n",
    "               row_cluster=False,\n",
    "               col_cluster=False, \n",
    "               vmin=0,\n",
    "                   vmax=max(list(map(lambda x: max(filter(lambda xi: xi<1,x)), overlaps)))\n",
    ")\n",
    "\n",
    "ax = cm.ax_heatmap\n",
    "ax.yaxis.set_label_position(\"left\")\n",
    "ax.yaxis.tick_left()\n",
    "ax.set_ylabel(\"Random sets\", fontsize=35)\n",
    "ax.set_xlabel(\"Random sets\", fontsize=35)\n",
    "ax.tick_params(labelsize=30)\n",
    "\n",
    "bax = cm.ax_cbar\n",
    "bax.tick_params(labelsize=25)\n",
    "cm.savefig(\"random_overlap.pdf\")"
   ]
  },
  {
   "cell_type": "code",
   "execution_count": null,
   "id": "annoying-singer",
   "metadata": {},
   "outputs": [],
   "source": [
    "algorithm = \"topsbm\""
   ]
  },
  {
   "cell_type": "code",
   "execution_count": null,
   "id": "atmospheric-dispatch",
   "metadata": {},
   "outputs": [],
   "source": [
    "def get_scores_mp(directory):\n",
    "    return directory, get_scores(directory, [\"SMTS\"], algorithm=algorithm)[\"SMTS\"]\n",
    "\n",
    "def get_scores_clbck(packed_score):\n",
    "    global scores\n",
    "    scores[packed_score[0]]=packed_score[1]"
   ]
  },
  {
   "cell_type": "code",
   "execution_count": null,
   "id": "toxic-approach",
   "metadata": {},
   "outputs": [],
   "source": [
    "scores = {}\n",
    "        \n",
    "start = time()\n",
    "    \n",
    "pool = mp.Pool(12)\n",
    "\n",
    "work = [pool.apply_async(get_scores_mp, args=([directory]), callback=get_scores_clbck, error_callback=lambda err:print(err)) for directory in experiments]\n",
    "\n",
    "pool.close()\n",
    "pool.join()\n",
    "\n",
    "print(time()-start)"
   ]
  },
  {
   "cell_type": "code",
   "execution_count": null,
   "id": "billion-dakota",
   "metadata": {},
   "outputs": [],
   "source": [
    "fig, ax = plt.subplots(figsize=(18,15))\n",
    "add_score_lines(ax, scores, labels = experiments)\n",
    "ax.set_xlim(1,100)\n",
    "ax.set_title(algorithm, fontsize=35)\n",
    "fig.savefig(f\"scores_{algorithm}.pdf\")"
   ]
  },
  {
   "cell_type": "code",
   "execution_count": null,
   "id": "monetary-elder",
   "metadata": {},
   "outputs": [],
   "source": [
    "files = pd.DataFrame(index=df_files.reindex(index=pd.read_csv(f\"random11/{algorithm}/{algorithm}_level_1_topic-dist.csv\")[\"doc\"]).index, columns = experiments)\n",
    "\n",
    "def get_exp_labels(experiment):\n",
    "    global files\n",
    "    df_clusters = pd.read_csv(f\"{experiment}/topsbm/topsbm_level_1_clusters.csv\")\n",
    "    exp_data = []\n",
    "    for file in files.index:\n",
    "        exp_data.append(df_clusters.columns[df_clusters[df_clusters==file].any(0)].values[0].split(\" \")[1])\n",
    "    return experiment, exp_data\n",
    "\n",
    "def exb_clbck(exp_data):\n",
    "    global files\n",
    "    files[exp_data[0]]=exp_data[1]"
   ]
  },
  {
   "cell_type": "code",
   "execution_count": null,
   "id": "possible-lyric",
   "metadata": {},
   "outputs": [],
   "source": [
    "scores = {}\n",
    "        \n",
    "start = time()\n",
    "    \n",
    "pool = mp.Pool(12)\n",
    "\n",
    "work = [pool.apply_async(get_exp_labels, args=([directory]), callback=exb_clbck, error_callback=lambda err:print(err)) for directory in experiments]\n",
    "\n",
    "pool.close()\n",
    "pool.join()\n",
    "\n",
    "print(time()-start)"
   ]
  },
  {
   "cell_type": "code",
   "execution_count": null,
   "id": "laughing-heating",
   "metadata": {},
   "outputs": [],
   "source": [
    "partitions = files.transpose().values"
   ]
  },
  {
   "cell_type": "code",
   "execution_count": null,
   "id": "ranging-appliance",
   "metadata": {},
   "outputs": [],
   "source": [
    "partition_overlap = list(map(lambda partitionA: list(map(lambda partitionB: normalized_mutual_info_score(partitionA, partitionB), partitions)), partitions))"
   ]
  },
  {
   "cell_type": "code",
   "execution_count": null,
   "id": "corporate-coupon",
   "metadata": {},
   "outputs": [],
   "source": [
    "hm = sns.clustermap(\n",
    "    partition_overlap, \n",
    "    row_cluster=False,\n",
    "    col_cluster=False,\n",
    "    vmin=0.0\n",
    ")\n",
    "\n",
    "ax = hm.ax_heatmap\n",
    "ax.yaxis.set_label_position(\"left\")\n",
    "ax.yaxis.tick_left()\n",
    "ax.set_ylabel(\"Partitions sets\", fontsize=35)\n",
    "ax.set_xlabel(\"Partitions sets\", fontsize=35)\n",
    "ax.tick_params(labelsize=30)\n",
    "\n",
    "ax.set_title(algorithm, fontsize=35)\n",
    "\n",
    "bax = hm.ax_cbar\n",
    "bax.tick_params(labelsize=25)\n",
    "bax.set_title(\"NMI\", fontsize=35)\n",
    "\n",
    "plt.show()\n",
    "hm.savefig(f\"heatmap_clusters_{algorithm}.pdf\")"
   ]
  },
  {
   "cell_type": "code",
   "execution_count": null,
   "id": "nominated-savage",
   "metadata": {},
   "outputs": [],
   "source": []
  }
 ],
 "metadata": {
  "kernelspec": {
   "display_name": "Python 3",
   "language": "python",
   "name": "python3"
  },
  "language_info": {
   "codemirror_mode": {
    "name": "ipython",
    "version": 3
   },
   "file_extension": ".py",
   "mimetype": "text/x-python",
   "name": "python",
   "nbconvert_exporter": "python",
   "pygments_lexer": "ipython3",
   "version": "3.8.6"
  }
 },
 "nbformat": 4,
 "nbformat_minor": 5
}

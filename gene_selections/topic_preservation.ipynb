{
 "cells": [
  {
   "cell_type": "code",
   "execution_count": null,
   "id": "tracked-pantyhose",
   "metadata": {},
   "outputs": [],
   "source": [
    "import pandas as pd\n",
    "import numpy as np\n",
    "import regex as re\n",
    "import plotly.express as px\n",
    "import seaborn as sns\n",
    "import os, logging\n",
    "from gseapy import enrichr\n",
    "log = logging.getLogger(\"topic_preserve\")\n",
    "#log.addHandler(logging.StreamHandler())\n",
    "log.setLevel(logging.DEBUG)\n",
    "from overlap import get_pval"
   ]
  },
  {
   "cell_type": "code",
   "execution_count": null,
   "id": "dependent-blogger",
   "metadata": {},
   "outputs": [],
   "source": [
    "os.chdir(\"../topics/datasets/gtex10/\")"
   ]
  },
  {
   "cell_type": "code",
   "execution_count": null,
   "id": "recorded-burst",
   "metadata": {},
   "outputs": [],
   "source": [
    "algorithms = [\"topsbm\", \"lda\", \"wgcna\", \"tm\"]"
   ]
  },
  {
   "cell_type": "code",
   "execution_count": null,
   "id": "ordinary-huntington",
   "metadata": {},
   "outputs": [],
   "source": [
    "pop = pd.read_csv(\"topsbm/topsbm_level_0_word-dist.csv\", index_col=0).index"
   ]
  },
  {
   "cell_type": "code",
   "execution_count": null,
   "id": "higher-brooklyn",
   "metadata": {},
   "outputs": [],
   "source": [
    "def get_df_topic_tissue(algorithm, l=3):\n",
    "    df_topic_dist = pd.read_csv(f\"{algorithm}/{algorithm}_level_{l}_topic-dist.csv\",index_col=1).drop(\"i_doc\",1)\n",
    "    df_topic_dist = df_topic_dist.subtract(df_topic_dist.mean(0),1).abs().divide(df_topic_dist.std(0),1)\n",
    "\n",
    "    df_files = pd.read_csv(\"files.dat\", index_col=0)\n",
    "    df_topic_dist[\"tissue\"] = df_files.reindex(index=df_topic_dist.index)[\"SMTS\"]\n",
    "    df_topic_tissue = df_topic_dist.groupby(\"tissue\").mean().transpose()\n",
    "    \n",
    "    return df_topic_tissue\n",
    "\n",
    "def get_most_significant_topictissue(algorithm, tissue, l=3):\n",
    "    return get_df_topic_tissue(algorithm,l)[tissue].sort_values(ascending=False).index[0]\n",
    "\n",
    "def get_most_significant_topictissue_genelist(algorithm, tissue, l=3):\n",
    "    df_topics = pd.read_csv(f\"{algorithm}/{algorithm}_level_{l}_topics.csv\")\n",
    "    topic = get_most_significant_topictissue(algorithm, tissue, l)\n",
    "    \n",
    "    return df_topics[topic].dropna().values"
   ]
  },
  {
   "cell_type": "code",
   "execution_count": null,
   "id": "ordered-parcel",
   "metadata": {},
   "outputs": [],
   "source": [
    "level_map = {\n",
    "    \"topsbm\":2,\n",
    "    \"lda\": 3,\n",
    "    \"wgcna\": 0,\n",
    "    \"tm\": 0\n",
    "}"
   ]
  },
  {
   "cell_type": "code",
   "execution_count": null,
   "id": "necessary-leave",
   "metadata": {},
   "outputs": [],
   "source": [
    "pattern = \"[ch][1-8]{0,1}.all.v7.[12]{1}.symbols.gmt\"\n",
    "mdb_dir = \"/home/jovyan/work/phd/MSigDB/\"\n",
    "gene_sets = [mdb_dir+file for file in list(filter(lambda file: re.match(pattern, file) is not None, os.listdir(mdb_dir)))]"
   ]
  },
  {
   "cell_type": "code",
   "execution_count": null,
   "id": "liked-presentation",
   "metadata": {},
   "outputs": [],
   "source": [
    "#['Adipose Tissue' 'Blood' 'Blood Vessel' 'Brain' 'Colon' 'Esophagus' 'Heart' 'Muscle' 'Skin' 'Thyroid']\n",
    "tissue = \"Heart\"\n",
    "for ialg, algorithm in enumerate(algorithms):\n",
    "    for compare_algo in algorithms[1+ialg:]:\n",
    "        first = get_most_significant_topictissue_genelist(algorithm, tissue, level_map[algorithm])\n",
    "        second = get_most_significant_topictissue_genelist(compare_algo, tissue, level_map[compare_algo])\n",
    "        \n",
    "        p = get_pval(first, second, pop)\n",
    "        if p < 0.01:\n",
    "            log.info(algorithm+\"\\t\"+str(p)+\"\\t\"+compare_algo)\n",
    "            commons = first[np.isin(first,second)]\n",
    "            if len(commons) > 10:\n",
    "                for g in commons:\n",
    "                    print(g)\n",
    "            log.info(algorithm+\"\\t\"+str(p)+\"\\t\"+compare_algo)\n",
    "            log.info(len(commons))\n",
    "            log.info(enrichr(list(commons), gene_sets).results)"
   ]
  },
  {
   "cell_type": "code",
   "execution_count": null,
   "id": "adapted-biography",
   "metadata": {},
   "outputs": [],
   "source": []
  }
 ],
 "metadata": {
  "kernelspec": {
   "display_name": "Python 3",
   "language": "python",
   "name": "python3"
  },
  "language_info": {
   "codemirror_mode": {
    "name": "ipython",
    "version": 3
   },
   "file_extension": ".py",
   "mimetype": "text/x-python",
   "name": "python",
   "nbconvert_exporter": "python",
   "pygments_lexer": "ipython3",
   "version": "3.8.8"
  }
 },
 "nbformat": 4,
 "nbformat_minor": 5
}

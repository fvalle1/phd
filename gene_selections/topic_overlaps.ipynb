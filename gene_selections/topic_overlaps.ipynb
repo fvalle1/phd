{
 "cells": [
  {
   "cell_type": "code",
   "execution_count": null,
   "id": "ef1b3b63",
   "metadata": {},
   "outputs": [],
   "source": [
    "import pandas as pd\n",
    "import numpy as np\n",
    "import os\n",
    "import sys\n",
    "import tensorflow as tf\n",
    "from scipy.stats import entropy, hypergeom\n",
    "import seaborn as sns\n",
    "import matplotlib.pyplot as plt"
   ]
  },
  {
   "cell_type": "code",
   "execution_count": null,
   "id": "974ec2a1",
   "metadata": {},
   "outputs": [],
   "source": [
    "os.chdir(\"/home/jovyan/work/phd/gene_selections\")"
   ]
  },
  {
   "cell_type": "code",
   "execution_count": null,
   "id": "f7c2ce6c",
   "metadata": {},
   "outputs": [],
   "source": [
    "%load_ext autoreload\n",
    "%autoreload\n",
    "from entropy import get_entropy, get_array_entropy\n",
    "from overlap import get_overlap, get_pval"
   ]
  },
  {
   "cell_type": "code",
   "execution_count": null,
   "id": "35a394c3",
   "metadata": {},
   "outputs": [],
   "source": [
    "directory = \"../keywordTCGA/brca/\"\n",
    "#directory = \"../triText/APS/\"\n",
    "os.chdir(directory)"
   ]
  },
  {
   "cell_type": "markdown",
   "id": "388db18c",
   "metadata": {},
   "source": [
    "## KL-div"
   ]
  },
  {
   "cell_type": "code",
   "execution_count": null,
   "id": "46797e26",
   "metadata": {},
   "outputs": [],
   "source": [
    "df_first = pd.read_csv(\"topsbm/topsbm_level_2_topic-dist.csv\", index_col=1).drop(\"i_doc\", 1)\n",
    "df_first = df_first.divide(df_first.sum(0),1)\n",
    "\n",
    "df_second = pd.read_csv(\"trisbm/trisbm_level_1_metadatum-dist.csv\", index_col=1).drop(\"i_doc\", 1)\n",
    "\n",
    "#same subset of stuff\n",
    "assert((~df_first.index.isin(df_second.index)).sum()==0)\n",
    "assert((~df_second.index.isin(df_first.index)).sum()==0)\n",
    "\n",
    "df_second = df_second.reindex(index=df_first.index)\n",
    "df_second = df_second.divide(df_second.sum(0),1)"
   ]
  },
  {
   "cell_type": "code",
   "execution_count": null,
   "id": "6dc96a7a",
   "metadata": {
    "tags": []
   },
   "outputs": [],
   "source": [
    "first = tf.convert_to_tensor(df_first.fillna(0).values.T, dtype=tf.float64)\n",
    "second = tf.convert_to_tensor(df_second.fillna(0).values.T, dtype=tf.float64)\n",
    "kld_matrix = get_array_entropy(first, second).numpy()"
   ]
  },
  {
   "cell_type": "code",
   "execution_count": null,
   "id": "8f8539c3",
   "metadata": {},
   "outputs": [],
   "source": [
    "cm = sns.clustermap(kld_matrix,\n",
    "            xticklabels=df_second.columns,\n",
    "            yticklabels=df_first.columns,\n",
    "            row_cluster=False,\n",
    "            col_cluster=False)\n",
    "\n",
    "ax = cm.ax_heatmap\n",
    "fig = ax.get_figure()\n",
    "ax.set_ylabel(\"hSBM\", fontsize=35, rotation=90)\n",
    "ax.set_xlabel(\"trisbm\", fontsize=35, rotation=0)\n",
    "\n",
    "ax.yaxis.tick_left()\n",
    "ax.yaxis.set_label_position(\"left\")\n",
    "ax.tick_params(labelsize=35)\n",
    "\n",
    "cax = cm.ax_cbar\n",
    "cax.tick_params(labelsize=30)\n",
    "cax.set_title(\"KL-div P(topic|sample)\", fontsize=30)\n",
    "cm.savefig(f\"topic_kl.pdf\")"
   ]
  },
  {
   "cell_type": "markdown",
   "id": "1b5396fd",
   "metadata": {},
   "source": [
    "## Cluster conservation"
   ]
  },
  {
   "cell_type": "code",
   "execution_count": null,
   "id": "10c45163",
   "metadata": {},
   "outputs": [],
   "source": [
    "from sklearn.metrics import adjusted_mutual_info_score"
   ]
  },
  {
   "cell_type": "code",
   "execution_count": null,
   "id": "421647b3",
   "metadata": {},
   "outputs": [],
   "source": [
    "df_first = pd.read_csv(\"topsbm/topsbm_level_0_clusters.csv\")\n",
    "df_second = pd.read_csv(\"trisbm/trisbm_level_1_clusters.csv\")\n",
    "#assert(np.isin(list(filter(lambda sample: str(sample)!=\"nan\",df_first.values.ravel())), \n",
    "#        list(filter(lambda sample: str(sample)!=\"nan\",df_second.values.ravel())), invert=True).sum()==0)"
   ]
  },
  {
   "cell_type": "code",
   "execution_count": null,
   "id": "d42a79e8",
   "metadata": {},
   "outputs": [],
   "source": [
    "samples = df_first.values.ravel()\n",
    "samples = list(filter(lambda sample: str(sample)!=\"nan\",samples))"
   ]
  },
  {
   "cell_type": "code",
   "execution_count": null,
   "id": "df657767",
   "metadata": {},
   "outputs": [],
   "source": [
    "partition = []\n",
    "for sample in samples:\n",
    "    try:\n",
    "        partition.append((\n",
    "                df_first.columns[(df_first==sample).any()].values[0].split(\" \")[1],\n",
    "                df_second.columns[(df_second==sample).any()].values[0].split(\" \")[1]\n",
    "                )\n",
    "            )\n",
    "    except:\n",
    "        pass\n",
    "partition = list(zip(*partition))"
   ]
  },
  {
   "cell_type": "code",
   "execution_count": null,
   "id": "99de0569",
   "metadata": {},
   "outputs": [],
   "source": [
    "adjusted_mutual_info_score(partition[0],partition[1])"
   ]
  },
  {
   "cell_type": "code",
   "execution_count": null,
   "id": "da983bd9",
   "metadata": {},
   "outputs": [],
   "source": [
    "AMI_levels = [[0.12, 0],\n",
    "             [0.31, 0],\n",
    "             [0.25, 0]]"
   ]
  },
  {
   "cell_type": "code",
   "execution_count": null,
   "id": "d2167f61",
   "metadata": {},
   "outputs": [],
   "source": [
    "cm = sns.clustermap(AMI_levels,\n",
    "            xticklabels=[\"l%d\"%l for l in range(2)],\n",
    "            yticklabels=[\"l%d\"%l for l in range(3)],\n",
    "            row_cluster=False,\n",
    "            col_cluster=False,\n",
    "            vmax=1)\n",
    "\n",
    "ax = cm.ax_heatmap\n",
    "fig = ax.get_figure()\n",
    "ax.set_title(\"clusters\", fontsize=35)\n",
    "ax.set_ylabel(\"hSBM\", fontsize=35, rotation=90)\n",
    "ax.set_xlabel(\"trisbm\", fontsize=35, rotation=0)\n",
    "\n",
    "ax.yaxis.tick_left()\n",
    "ax.yaxis.set_label_position(\"left\")\n",
    "ax.tick_params(labelsize=35)\n",
    "\n",
    "cax = cm.ax_cbar\n",
    "cax.tick_params(labelsize=30)\n",
    "cax.set_title(\"AMI\", fontsize=30)"
   ]
  },
  {
   "cell_type": "code",
   "execution_count": null,
   "id": "129559fa",
   "metadata": {},
   "outputs": [],
   "source": [
    "df_cluster_overlap = pd.DataFrame(index=df_first.columns, columns=df_second.columns, data=0.)"
   ]
  },
  {
   "cell_type": "code",
   "execution_count": null,
   "id": "b4154426",
   "metadata": {},
   "outputs": [],
   "source": [
    "def get_overlap(x,y):\n",
    "    return np.isin(x,y).sum().astype(float)/float(len(y))\n",
    "\n",
    "def get_pval(setA, setB):\n",
    "    x = np.isin(setA,setB).sum() # number of successes\n",
    "    M = len(samples) # pop size\n",
    "    k = len(setB) # successes in pop\n",
    "    N = len(setA) # sample size\n",
    "    pval = hypergeom.sf(x-1, M, k, N)\n",
    "    return pval"
   ]
  },
  {
   "cell_type": "code",
   "execution_count": null,
   "id": "3cd0e5dd",
   "metadata": {},
   "outputs": [],
   "source": [
    "for row in df_first.columns:\n",
    "    for column in df_second.columns:\n",
    "        df_cluster_overlap.at[row,column]=get_overlap(df_first[row].dropna().values, df_second[column].dropna().values)"
   ]
  },
  {
   "cell_type": "code",
   "execution_count": null,
   "id": "ebab38ca",
   "metadata": {},
   "outputs": [],
   "source": [
    "cm = sns.clustermap(df_cluster_overlap,\n",
    "            xticklabels=df_second.columns,\n",
    "            yticklabels=df_first.columns,\n",
    "            row_cluster=False,\n",
    "            col_cluster=False)\n",
    "\n",
    "ax = cm.ax_heatmap\n",
    "fig = ax.get_figure()\n",
    "ax.set_ylabel(\"hSBM\", fontsize=35, rotation=90)\n",
    "ax.set_xlabel(\"trisbm\", fontsize=35, rotation=0)\n",
    "\n",
    "ax.yaxis.tick_left()\n",
    "ax.yaxis.set_label_position(\"left\")\n",
    "ax.tick_params(labelsize=35)\n",
    "\n",
    "cax = cm.ax_cbar\n",
    "cax.tick_params(labelsize=30)\n",
    "cax.set_title(\"%sample\\nin common\", fontsize=30)\n",
    "cm.savefig(f\"topic_kl.pdf\")"
   ]
  },
  {
   "cell_type": "markdown",
   "id": "f6f12413",
   "metadata": {},
   "source": [
    "## Topic conservation"
   ]
  },
  {
   "cell_type": "code",
   "execution_count": null,
   "id": "e096aee6",
   "metadata": {},
   "outputs": [],
   "source": [
    "df_first = pd.read_csv(\"topsbm/topsbm_level_2_topics.csv\")\n",
    "df_second = pd.read_csv(\"trisbm/trisbm_level_1_topics.csv\")\n",
    "assert(np.isin(list(filter(lambda sample: str(sample)!=\"nan\",df_first.values.ravel())), \n",
    "        list(filter(lambda sample: str(sample)!=\"nan\",df_second.values.ravel())), invert=True).sum()==0)"
   ]
  },
  {
   "cell_type": "code",
   "execution_count": null,
   "id": "2645b03c",
   "metadata": {},
   "outputs": [],
   "source": [
    "genes = df_first.values.ravel()\n",
    "genes = list(filter(lambda sample: str(sample)!=\"nan\",genes))"
   ]
  },
  {
   "cell_type": "code",
   "execution_count": null,
   "id": "46e74cf5",
   "metadata": {},
   "outputs": [],
   "source": [
    "partition = []\n",
    "for sample in genes:\n",
    "    partition.append((\n",
    "        df_first.columns[(df_first==sample).any()].values[0].split(\" \")[1],\n",
    "        df_second.columns[(df_second==sample).any()].values[0].split(\" \")[1]\n",
    "        )\n",
    "    )\n",
    "partition = list(zip(*partition))"
   ]
  },
  {
   "cell_type": "code",
   "execution_count": null,
   "id": "06a178a0",
   "metadata": {},
   "outputs": [],
   "source": [
    "adjusted_mutual_info_score(partition[0], partition[1])"
   ]
  },
  {
   "cell_type": "code",
   "execution_count": null,
   "id": "584012cf",
   "metadata": {},
   "outputs": [],
   "source": [
    "AMI_levels = [[0.24, 0.09],\n",
    "             [0.25,0.09],\n",
    "             [0.12, 0.09]]"
   ]
  },
  {
   "cell_type": "code",
   "execution_count": null,
   "id": "89399598",
   "metadata": {},
   "outputs": [],
   "source": [
    "cm = sns.clustermap(AMI_levels,\n",
    "            xticklabels=[\"l%d\"%l for l in range(2)],\n",
    "            yticklabels=[\"l%d\"%l for l in range(3)],\n",
    "            row_cluster=False,\n",
    "            col_cluster=False,\n",
    "            vmax=1)\n",
    "\n",
    "ax = cm.ax_heatmap\n",
    "fig = ax.get_figure()\n",
    "ax.set_ylabel(\"hSBM\", fontsize=35, rotation=90)\n",
    "ax.set_xlabel(\"trisbm\", fontsize=35, rotation=0)\n",
    "\n",
    "ax.yaxis.tick_left()\n",
    "ax.yaxis.set_label_position(\"left\")\n",
    "ax.tick_params(labelsize=35)\n",
    "\n",
    "cax = cm.ax_cbar\n",
    "cax.tick_params(labelsize=30)\n",
    "cax.set_title(\"AMI\", fontsize=30)"
   ]
  },
  {
   "cell_type": "code",
   "execution_count": null,
   "id": "1727401a",
   "metadata": {},
   "outputs": [],
   "source": [
    "df_cluster_overlap = pd.DataFrame(index=df_first.columns, columns=df_second.columns, data=0.)"
   ]
  },
  {
   "cell_type": "code",
   "execution_count": null,
   "id": "a03f2a1b",
   "metadata": {},
   "outputs": [],
   "source": [
    "for row in df_first.columns:\n",
    "    for column in df_second.columns:\n",
    "        df_cluster_overlap.at[row,column]=get_pval(df_first[row].dropna().values, df_second[column].dropna().values)"
   ]
  },
  {
   "cell_type": "code",
   "execution_count": null,
   "id": "63f5f9e5",
   "metadata": {},
   "outputs": [],
   "source": [
    "cm = sns.clustermap(df_cluster_overlap,\n",
    "            xticklabels=df_second.columns,\n",
    "            yticklabels=df_first.columns,\n",
    "            row_cluster=False,\n",
    "            col_cluster=False,\n",
    "            vmax=1)\n",
    "\n",
    "ax = cm.ax_heatmap\n",
    "fig = ax.get_figure()\n",
    "ax.set_ylabel(\"hSBM\", fontsize=35, rotation=90)\n",
    "ax.set_xlabel(\"trisbm\", fontsize=35, rotation=0)\n",
    "\n",
    "ax.yaxis.tick_left()\n",
    "ax.yaxis.set_label_position(\"left\")\n",
    "ax.tick_params(labelsize=35)\n",
    "\n",
    "cax = cm.ax_cbar\n",
    "cax.tick_params(labelsize=30)\n",
    "#cax.set_title(\"% gene in common\", fontsize=30)\n",
    "cax.set_title(\"P_hypergeom\", fontsize=30)\n",
    "cm.savefig(f\"topic_overlap.pdf\")"
   ]
  },
  {
   "cell_type": "code",
   "execution_count": null,
   "id": "56d120b0",
   "metadata": {},
   "outputs": [],
   "source": [
    "fig, ax = plt.subplots()\n",
    "\n",
    "df_first.apply(lambda s: (~s.isna()).sum()).hist(ax=ax, histtype=\"step\", lw=15, bins=10)\n",
    "df_second.apply(lambda s: (~s.isna()).sum()).hist(ax=ax, histtype=\"step\", lw=15, ls=\"--\", bins=10)\n",
    "\n",
    "ax.set_xlabel(\"topic size\", fontsize=20)\n",
    "\n",
    "ax.tick_params(labelsize=15)"
   ]
  },
  {
   "cell_type": "code",
   "execution_count": null,
   "id": "51a36941",
   "metadata": {},
   "outputs": [],
   "source": []
  }
 ],
 "metadata": {
  "kernelspec": {
   "display_name": "Python 3",
   "language": "python",
   "name": "python3"
  },
  "language_info": {
   "codemirror_mode": {
    "name": "ipython",
    "version": 3
   },
   "file_extension": ".py",
   "mimetype": "text/x-python",
   "name": "python",
   "nbconvert_exporter": "python",
   "pygments_lexer": "ipython3",
   "version": "3.8.8"
  }
 },
 "nbformat": 4,
 "nbformat_minor": 5
}

{
 "cells": [
  {
   "cell_type": "code",
   "execution_count": null,
   "id": "enclosed-metro",
   "metadata": {},
   "outputs": [],
   "source": [
    "import pandas as pd\n",
    "import numpy as np\n",
    "import sys, os\n",
    "import seaborn as sns\n",
    "from scipy.stats import hypergeom\n",
    "from sklearn.metrics import normalized_mutual_info_score\n",
    "from topicpy.hsbmpy import get_max_available_L, get_scores, add_score_lines\n",
    "import matplotlib.pyplot as plt\n",
    "import multiprocessing as mp\n",
    "from time import time\n",
    "import logging\n",
    "log = logging.getLogger(\"selections\")\n",
    "log.setLevel(logging.DEBUG)"
   ]
  },
  {
   "cell_type": "code",
   "execution_count": null,
   "id": "thirty-ribbon",
   "metadata": {},
   "outputs": [],
   "source": [
    "population=pd.read_csv(\"https://stephenslab.github.io/count-clustering/project/utilities/gene_names_all_gtex.txt\", header=None).values.ravel()"
   ]
  },
  {
   "cell_type": "code",
   "execution_count": null,
   "id": "printable-argument",
   "metadata": {},
   "outputs": [],
   "source": [
    "df_files = pd.read_csv(\"https://storage.googleapis.com/gtex_analysis_v8/annotations/GTEx_Analysis_v8_Annotations_SampleAttributesDS.txt\", sep='\\t').loc[:,['SAMPID','SMTS', 'SMTSD']]\n",
    "df_files.set_index('SAMPID', inplace=True)"
   ]
  },
  {
   "cell_type": "code",
   "execution_count": null,
   "id": "promising-local",
   "metadata": {},
   "outputs": [],
   "source": [
    "palette = sns.diverging_palette(240, 10, sep=20, as_cmap=True)"
   ]
  },
  {
   "cell_type": "code",
   "execution_count": null,
   "id": "passing-creek",
   "metadata": {},
   "outputs": [],
   "source": [
    "work_dir = \"/home/jovyan/work/phd/topics/datasets/\""
   ]
  },
  {
   "cell_type": "code",
   "execution_count": null,
   "id": "fatty-cancer",
   "metadata": {},
   "outputs": [],
   "source": [
    "experiments = [\"gtex10\", \"gtexhk\", \"random/random00\", \"random/random11\", \"random/random22\", \"random/random33\", \"random/random44\", \"random/random55\", \"random/random66\", \"random/random77\", \"random/random88\", \"random/random99\"]\n",
    "#experiments = [\"gtex10\",\"gtexall\",\"gtexhk\",\"random/random11\"]\n",
    "genes = []\n",
    "for directory in experiments:\n",
    "    genes.append(pd.read_csv(f\"{work_dir}/{directory}/mainTable.csv\", index_col=0).index)"
   ]
  },
  {
   "cell_type": "code",
   "execution_count": null,
   "id": "packed-drilling",
   "metadata": {},
   "outputs": [],
   "source": [
    "def get_pval(setA, setB):\n",
    "    x = setA.isin(setB).sum() # number of successes\n",
    "    M = len(population) # pop size\n",
    "    k = len(setB) # successes in pop\n",
    "    N = len(setA) # sample size\n",
    "    pval = hypergeom.sf(x-1, M, k, N)\n",
    "    return pval\n",
    "#-np.log10(get_pval(setA, setB)+1)"
   ]
  },
  {
   "cell_type": "code",
   "execution_count": null,
   "id": "rural-blade",
   "metadata": {},
   "outputs": [],
   "source": [
    "overlaps = list(map(lambda setA: list(map(lambda setB: setA.isin(setB).sum()/float(len(setA)), genes)), genes))"
   ]
  },
  {
   "cell_type": "code",
   "execution_count": null,
   "id": "friendly-orientation",
   "metadata": {},
   "outputs": [],
   "source": [
    "cm = sns.clustermap(\n",
    "    overlaps, \n",
    "    row_cluster=False,\n",
    "    col_cluster=False, \n",
    "    vmin=0,\n",
    "    vmax=max(list(map(lambda x: max(filter(lambda xi: xi<1,x)), overlaps)))\n",
    ")\n",
    "\n",
    "ax = cm.ax_heatmap\n",
    "ax.yaxis.set_label_position(\"left\")\n",
    "ax.yaxis.tick_left()\n",
    "ax.set_ylabel(\"Sets\", fontsize=35)\n",
    "ax.set_xlabel(\"Sets\", fontsize=35)\n",
    "ax.set_xticklabels(experiments, rotation=45)\n",
    "ax.set_yticklabels(experiments, rotation=0)\n",
    "\n",
    "ax.tick_params(labelsize=30)\n",
    "\n",
    "\n",
    "bax = cm.ax_cbar\n",
    "bax.tick_params(labelsize=25)\n",
    "bax.set_title(\"% overlap\", fontsize=35)\n",
    "\n",
    "plt.show()\n",
    "cm.savefig(\"selection_overlap.pdf\")"
   ]
  },
  {
   "cell_type": "code",
   "execution_count": null,
   "id": "federal-paraguay",
   "metadata": {},
   "outputs": [],
   "source": [
    "algorithm = \"topsbm\""
   ]
  },
  {
   "cell_type": "code",
   "execution_count": null,
   "id": "floating-withdrawal",
   "metadata": {},
   "outputs": [],
   "source": [
    "def get_scores_mp(directory):\n",
    "    return directory, get_scores(work_dir+directory, [\"SMTS\"], algorithm=algorithm, df_files=df_files)[\"SMTS\"]\n",
    "\n",
    "def get_scores_clbck(packed_score):\n",
    "    global scores\n",
    "    scores[packed_score[0]]=packed_score[1]"
   ]
  },
  {
   "cell_type": "code",
   "execution_count": null,
   "id": "loving-armstrong",
   "metadata": {},
   "outputs": [],
   "source": [
    "scores = {}\n",
    "        \n",
    "start = time()\n",
    "    \n",
    "pool = mp.Pool(12)\n",
    "\n",
    "work = [pool.apply_async(get_scores_mp, args=([directory]), callback=get_scores_clbck, error_callback=lambda err:print(err)) for directory in experiments]\n",
    "\n",
    "pool.close()\n",
    "pool.join()\n",
    "\n",
    "print(time()-start)"
   ]
  },
  {
   "cell_type": "code",
   "execution_count": null,
   "id": "female-investor",
   "metadata": {},
   "outputs": [],
   "source": [
    "fig, ax = plt.subplots(figsize=(18,15))\n",
    "add_score_lines(ax, scores, labels = experiments)\n",
    "ax.set_title(algorithm, fontsize=30)\n",
    "ax.set_xlim(1,800)\n",
    "fig.savefig(f\"scores_selections_{algorithm}.pdf\")"
   ]
  },
  {
   "cell_type": "code",
   "execution_count": null,
   "id": "welcome-campaign",
   "metadata": {},
   "outputs": [],
   "source": [
    "def get_exp_labels(experiment):\n",
    "    global files\n",
    "    #print(experiment)\n",
    "    levels = {\n",
    "        \"gtex10\":{\n",
    "            \"topsbm\": 2,\n",
    "            \"topsbm-log\": 2,\n",
    "            \"lda\": 3,\n",
    "            \"tm\":0,\n",
    "            \"wgcna\":0\n",
    "        },\n",
    "        \"gtexhk\":{\n",
    "            \"topsbm\": 1,\n",
    "            \"lda\": 1,\n",
    "            \"tm\":0,\n",
    "            \"wgcna\":0\n",
    "        }\n",
    "    }\n",
    "    if experiment in levels.keys():\n",
    "        level = levels[experiment][algorithm]\n",
    "    else:\n",
    "        level = get_max_available_L(work_dir+experiment, algorithm)-1\n",
    "    df_clusters = pd.read_csv(f\"{work_dir}/{experiment}/{algorithm}/{algorithm}_level_{level}_clusters.csv\")\n",
    "    exp_data = []\n",
    "    new_idx = files.index[files.index.isin(df_clusters.values.ravel())]\n",
    "    for file in new_idx:\n",
    "        exp_data.append(df_clusters.columns[df_clusters[df_clusters==file].any(0)].values[0].split(\" \")[1])\n",
    "    return pd.Series(name=experiment, data=exp_data, index = new_idx)\n",
    "\n",
    "def exp_clbck(exp_series):\n",
    "    global files\n",
    "    files = files.join(exp_series, how=\"outer\")"
   ]
  },
  {
   "cell_type": "code",
   "execution_count": null,
   "id": "fatty-estimate",
   "metadata": {},
   "outputs": [],
   "source": [
    "experiments = [\"gtex10\", \"gtexhk\", \"random/random00\", \"random/random11\", \"random/random22\", \"random/random33\", \"random/random44\", \"random/random55\", \"random/random66\", \"random/random77\", \"random/random88\", \"random/random99\"]\n",
    "#experiments = [\"gtex10\", \"gtexhk\", \"random/random11\", \"random/random22\", \"random/random33\"]"
   ]
  },
  {
   "cell_type": "code",
   "execution_count": null,
   "id": "funny-reservoir",
   "metadata": {},
   "outputs": [],
   "source": [
    "files = pd.DataFrame(index=df_files.index)\n",
    "scores = {}\n",
    "        \n",
    "start = time()\n",
    "    \n",
    "pool = mp.Pool(12)\n",
    "\n",
    "work = [pool.apply_async(get_exp_labels, args=([directory]), callback=exp_clbck, error_callback=lambda err:print(err)) for directory in experiments]\n",
    "\n",
    "pool.close()\n",
    "pool.join()\n",
    "\n",
    "print(time()-start)"
   ]
  },
  {
   "cell_type": "code",
   "execution_count": null,
   "id": "beautiful-strand",
   "metadata": {},
   "outputs": [],
   "source": [
    "files.astype(float).apply(np.nanmax,0).astype(int)"
   ]
  },
  {
   "cell_type": "code",
   "execution_count": null,
   "id": "continental-aurora",
   "metadata": {},
   "outputs": [],
   "source": [
    "partitions = files.transpose().values"
   ]
  },
  {
   "cell_type": "code",
   "execution_count": null,
   "id": "spread-count",
   "metadata": {},
   "outputs": [],
   "source": [
    "def score(A, B):\n",
    "    mask = ~(np.isnan(A.astype(float)) | np.isnan(B.astype(float))) #demorgan law\n",
    "    return normalized_mutual_info_score(A[mask], B[mask])\n",
    "\n",
    "partition_overlap = list(map(lambda partitionA: list(map(lambda partitionB: score(partitionA, partitionB), partitions)), partitions))"
   ]
  },
  {
   "cell_type": "code",
   "execution_count": null,
   "id": "arranged-relevance",
   "metadata": {},
   "outputs": [],
   "source": [
    "cm = sns.clustermap(\n",
    "    partition_overlap, \n",
    "    row_cluster=False,\n",
    "    col_cluster=False,\n",
    "    vmin=0.0,\n",
    "    cmap=palette\n",
    ")\n",
    "\n",
    "ax = cm.ax_heatmap\n",
    "ax.set_title(algorithm, fontsize=35)\n",
    "ax.yaxis.set_label_position(\"left\")\n",
    "ax.yaxis.tick_left()\n",
    "ax.set_ylabel(\"Clusters sets\", fontsize=35)\n",
    "ax.set_xlabel(\"Clusters sets\", fontsize=35)\n",
    "ax.tick_params(labelsize=30)\n",
    "ax.set_xticklabels(experiments, rotation=45)\n",
    "ax.set_yticklabels(experiments, rotation=0)\n",
    "\n",
    "bax = cm.ax_cbar\n",
    "bax.tick_params(labelsize=25)\n",
    "bax.set_title(\"NMI\", fontsize=35)\n",
    "\n",
    "plt.show()\n",
    "cm.savefig(f\"cluster_overlap_{algorithm}.pdf\")"
   ]
  },
  {
   "cell_type": "markdown",
   "id": "empty-frederick",
   "metadata": {},
   "source": [
    "# Compare algorithms"
   ]
  },
  {
   "cell_type": "markdown",
   "id": "governing-prize",
   "metadata": {},
   "source": [
    "## topics"
   ]
  },
  {
   "cell_type": "code",
   "execution_count": null,
   "id": "afraid-biography",
   "metadata": {},
   "outputs": [],
   "source": [
    "def get_exp_topic_labels(algorithm, experiment):\n",
    "    global files_topic\n",
    "    #print(experiment)\n",
    "    levels = {\n",
    "        \"gtex10\":{\n",
    "            \"topsbm\": 3,\n",
    "            \"topsbm-log\": 2,\n",
    "            \"lda\": 2,\n",
    "            \"tm\":0,\n",
    "            \"wgcna\":0\n",
    "        },\n",
    "        \"random/random11\":{\n",
    "            \"topsbm\": 1,\n",
    "            \"topsbm-log\": 1,\n",
    "            \"lda\": 2,\n",
    "            \"tm\":0,\n",
    "            \"wgcna\":0\n",
    "        },\n",
    "        \"random/random22\":{\n",
    "            \"topsbm\": 2,\n",
    "            \"topsbm-log\": 1,\n",
    "            \"lda\": 1,\n",
    "            \"tm\":0,\n",
    "            \"wgcna\":0\n",
    "        },\n",
    "        \"gtexhk\":{\n",
    "            \"topsbm\": 2,\n",
    "            \"lda\": 1,\n",
    "            \"tm\":0,\n",
    "            \"wgcna\":0\n",
    "        }\n",
    "    }\n",
    "    level = levels[experiment][algorithm]\n",
    "    df_topics = pd.read_csv(f\"{work_dir}/{experiment}/{algorithm}/{algorithm}_level_{level}_topics.csv\")\n",
    "    exp_data = []\n",
    "    new_idx = files_topic.index[files_topic.index.isin(df_topics.values.ravel())]\n",
    "    df_topics.columns = np.unique(df_topics.columns, return_inverse=True)[1]\n",
    "    for file in new_idx:\n",
    "        exp_data.append(df_topics.columns[df_topics[df_topics==file].any(0)].values[0])\n",
    "    return pd.Series(name=algorithm, data=exp_data, index = new_idx)\n",
    "\n",
    "def exp_topic_clbck(exp_series):\n",
    "    global files_topic\n",
    "    files_topic = files_topic.join(exp_series, how=\"outer\")"
   ]
  },
  {
   "cell_type": "code",
   "execution_count": null,
   "id": "identified-position",
   "metadata": {},
   "outputs": [],
   "source": [
    "algorithms = [\"topsbm\", \"topsbm-log\", \"lda\", \"tm\", \"wgcna\"]\n",
    "experiment = experiments[4]"
   ]
  },
  {
   "cell_type": "code",
   "execution_count": null,
   "id": "tropical-update",
   "metadata": {},
   "outputs": [],
   "source": [
    "files_topic = pd.DataFrame(index=population)\n",
    "scores = {}\n",
    "        \n",
    "start = time()\n",
    "    \n",
    "pool = mp.Pool(6)\n",
    "\n",
    "work = [pool.apply_async(get_exp_topic_labels, args=([alg, experiment]), callback=exp_topic_clbck, error_callback=lambda err:print(err)) for alg in algorithms]\n",
    "\n",
    "pool.close()\n",
    "pool.join()\n",
    "\n",
    "print(time()-start)"
   ]
  },
  {
   "cell_type": "code",
   "execution_count": null,
   "id": "precious-majority",
   "metadata": {},
   "outputs": [],
   "source": [
    "files_topic.max(axis=0).astype(int)"
   ]
  },
  {
   "cell_type": "code",
   "execution_count": null,
   "id": "precise-turner",
   "metadata": {},
   "outputs": [],
   "source": [
    "partitions_topics = files_topic.transpose().values"
   ]
  },
  {
   "cell_type": "code",
   "execution_count": null,
   "id": "iraqi-chamber",
   "metadata": {},
   "outputs": [],
   "source": [
    "def score(A, B):\n",
    "    mask = ~(np.isnan(A.astype(float)) | np.isnan(B.astype(float))) #demorgan law\n",
    "    return normalized_mutual_info_score(A[mask], B[mask])\n",
    "    \n",
    "partition_topics_overlap = list(map(lambda partitionA: list(map(lambda partitionB: score(partitionA, partitionB), partitions_topics)), partitions_topics))"
   ]
  },
  {
   "cell_type": "code",
   "execution_count": null,
   "id": "utility-cargo",
   "metadata": {},
   "outputs": [],
   "source": [
    "cm = sns.clustermap(\n",
    "    partition_topics_overlap, \n",
    "    row_cluster=False,\n",
    "    col_cluster=False,\n",
    "    vmin=0.0,\n",
    "    cmap = palette\n",
    ")\n",
    "\n",
    "ax = cm.ax_heatmap\n",
    "ax.set_title(experiment, fontsize=35)\n",
    "ax.yaxis.set_label_position(\"left\")\n",
    "ax.yaxis.tick_left()\n",
    "ax.set_ylabel(\"Topics\", fontsize=35)\n",
    "ax.set_xlabel(\"Topics\", fontsize=35)\n",
    "ax.tick_params(labelsize=30)\n",
    "ax.set_xticklabels(files_topic.columns, rotation=45)\n",
    "ax.set_yticklabels(files_topic.columns, rotation=0)\n",
    "\n",
    "bax = cm.ax_cbar\n",
    "bax.tick_params(labelsize=25)\n",
    "bax.set_title(\"NMI\", fontsize=35)\n",
    "\n",
    "plt.show()\n",
    "cm.savefig(f\"topic_overlap_{experiment}.pdf\")"
   ]
  },
  {
   "cell_type": "markdown",
   "id": "intimate-catering",
   "metadata": {},
   "source": [
    "## clusters"
   ]
  },
  {
   "cell_type": "code",
   "execution_count": null,
   "id": "ongoing-silicon",
   "metadata": {},
   "outputs": [],
   "source": [
    "def get_exp_cluster_labels(algorithm, experiment):\n",
    "    global files_topic\n",
    "    #print(experiment)\n",
    "    levels = {\n",
    "        \"topsbm\": 1,\n",
    "        \"topsbm-log\":1,\n",
    "        \"lda\": 1,\n",
    "        \"tm\":0,\n",
    "        \"wgcna\":1\n",
    "    }\n",
    "    #level = get_max_available_L(work_dir+experiment, algorithm)\n",
    "    level = levels[algorithm]\n",
    "    df_clusters = pd.read_csv(f\"{work_dir}/{experiment}/{algorithm}/{algorithm}_level_{level}_clusters.csv\")\n",
    "    exp_data = []\n",
    "    new_idx = files_cluster.index[files_cluster.index.isin(df_clusters.values.ravel())]\n",
    "    df_clusters.columns = np.unique(df_clusters.columns, return_inverse=True)[1]\n",
    "    for file in new_idx:\n",
    "        exp_data.append(df_clusters.columns[df_clusters[df_clusters==file].any(0)].values[0])\n",
    "    return pd.Series(name=algorithm, data=exp_data, index = new_idx)\n",
    "\n",
    "def exp_topic_clbck(exp_series):\n",
    "    global files_cluster\n",
    "    files_cluster = files_cluster.join(exp_series, how=\"outer\")"
   ]
  },
  {
   "cell_type": "code",
   "execution_count": null,
   "id": "relative-print",
   "metadata": {},
   "outputs": [],
   "source": [
    "files_cluster = pd.DataFrame(index=df_files.index)\n",
    "scores = {}\n",
    "        \n",
    "start = time()\n",
    "    \n",
    "pool = mp.Pool(4)\n",
    "\n",
    "work = [pool.apply_async(get_exp_cluster_labels, args=([alg, experiment]), callback=exp_topic_clbck, error_callback=lambda err:print(err)) for alg in algorithms]\n",
    "\n",
    "pool.close()\n",
    "pool.join()\n",
    "\n",
    "print(time()-start)"
   ]
  },
  {
   "cell_type": "code",
   "execution_count": null,
   "id": "stupid-monitor",
   "metadata": {},
   "outputs": [],
   "source": [
    "files_cluster.max(axis=0).astype(int)"
   ]
  },
  {
   "cell_type": "code",
   "execution_count": null,
   "id": "institutional-limitation",
   "metadata": {},
   "outputs": [],
   "source": [
    "partitions_clusters = files_cluster.transpose().values"
   ]
  },
  {
   "cell_type": "code",
   "execution_count": null,
   "id": "federal-consistency",
   "metadata": {},
   "outputs": [],
   "source": [
    "partition_clusters_overlap = list(map(lambda partitionA: list(map(lambda partitionB: score(partitionA, partitionB), partitions_clusters)), partitions_clusters))"
   ]
  },
  {
   "cell_type": "code",
   "execution_count": null,
   "id": "grateful-center",
   "metadata": {},
   "outputs": [],
   "source": [
    "cm = sns.clustermap(\n",
    "    partition_clusters_overlap, \n",
    "    row_cluster=False,\n",
    "    col_cluster=False,\n",
    "    vmin=0.0,\n",
    "    cmap = palette\n",
    ")\n",
    "\n",
    "ax = cm.ax_heatmap\n",
    "ax.set_title(experiment, fontsize=35)\n",
    "ax.yaxis.set_label_position(\"left\")\n",
    "ax.yaxis.tick_left()\n",
    "ax.set_ylabel(\"Clusters\", fontsize=35)\n",
    "ax.set_xlabel(\"Clusters\", fontsize=35)\n",
    "ax.tick_params(labelsize=30)\n",
    "ax.set_xticklabels(files_cluster.columns, rotation=45)\n",
    "ax.set_yticklabels(files_cluster.columns, rotation=0)\n",
    "\n",
    "bax = cm.ax_cbar\n",
    "bax.tick_params(labelsize=25)\n",
    "bax.set_title(\"NMI\", fontsize=35)\n",
    "\n",
    "plt.show()\n",
    "cm.savefig(f\"cluster_overlap_{experiment}.pdf\")"
   ]
  },
  {
   "cell_type": "markdown",
   "id": "killing-terror",
   "metadata": {},
   "source": [
    "## Stable genes"
   ]
  },
  {
   "cell_type": "code",
   "execution_count": null,
   "id": "closed-terrorism",
   "metadata": {},
   "outputs": [],
   "source": [
    "def get_topic(algorithm, experiment):\n",
    "    levels = {\n",
    "        \"gtex10\":{\n",
    "            \"topsbm\": 3,\n",
    "            \"topsbm-log\": 2,\n",
    "            \"lda\": 2,\n",
    "            \"tm\":0,\n",
    "            \"wgcna\":0\n",
    "        },\n",
    "        \"random/random11\":{\n",
    "            \"topsbm\": 1,\n",
    "            \"topsbm-log\": 1,\n",
    "            \"lda\": 2,\n",
    "            \"tm\":0,\n",
    "            \"wgcna\":0\n",
    "        },\n",
    "        \"random/random22\":{\n",
    "            \"topsbm\": 2,\n",
    "            \"topsbm-log\": 1,\n",
    "            \"lda\": 1,\n",
    "            \"tm\":0,\n",
    "            \"wgcna\":0\n",
    "        },\n",
    "        \"gtexhk\":{\n",
    "            \"topsbm\": 2,\n",
    "            \"lda\": 1,\n",
    "            \"tm\":0,\n",
    "            \"wgcna\":0\n",
    "        }\n",
    "    }\n",
    "    level = levels[experiment][algorithm]\n",
    "    df_topics = pd.read_csv(f\"{work_dir}/{experiment}/{algorithm}/{algorithm}_level_{level}_topics.csv\")\n",
    "    for topic in df_topics.columns:\n",
    "        yield df_topics[topic].dropna().values"
   ]
  },
  {
   "cell_type": "code",
   "execution_count": null,
   "id": "large-female",
   "metadata": {},
   "outputs": [],
   "source": [
    "genes = pd.read_csv(\"http://stephenslab.github.io/count-clustering/project/utilities/gene_names_all_gtex.txt\", header=None, index_col=0)\n",
    "genes[\"idx\"]=list(range(genes.shape[0]))\n",
    "genes.at[\"ENSG00000000419\",\"idx\"]"
   ]
  },
  {
   "cell_type": "code",
   "execution_count": null,
   "id": "particular-baker",
   "metadata": {},
   "outputs": [],
   "source": [
    "import networkx as nx\n",
    "import graph_tool.all as gt"
   ]
  },
  {
   "cell_type": "code",
   "execution_count": null,
   "id": "rubber-asset",
   "metadata": {},
   "outputs": [],
   "source": [
    "G = gt.Graph()\n",
    "name = G.vp[\"name\"] = G.new_vertex_property(\"string\")"
   ]
  },
  {
   "cell_type": "code",
   "execution_count": null,
   "id": "informal-purple",
   "metadata": {},
   "outputs": [],
   "source": [
    "for gene in genes[\"idx\"].items():\n",
    "    v = G.add_vertex()\n",
    "    assert(v==gene[1])\n",
    "    name[v]=gene[0]"
   ]
  },
  {
   "cell_type": "code",
   "execution_count": null,
   "id": "olympic-classics",
   "metadata": {},
   "outputs": [],
   "source": [
    "for algorithm in [\"topsbm\", \"lda\", \"tm\", \"wgcna\"]:\n",
    "    print(algorithm)\n",
    "    topic_gen = get_topic(algorithm,\"gtex10\")\n",
    "    for topic_genes in topic_gen:\n",
    "        for ig1, g1 in enumerate(topic_genes):\n",
    "            G.add_edge_list(((genes.at[g1,\"idx\"],genes.at[g2,\"idx\"]) for g2 in topic_genes[ig1:]))"
   ]
  },
  {
   "cell_type": "code",
   "execution_count": null,
   "id": "invisible-faith",
   "metadata": {},
   "outputs": [],
   "source": [
    "filter_degree = G.new_vertex_property(\"bool\")\n",
    "for v in G.vertices():\n",
    "    filter_degree[v] = len(G.get_all_neighbors(v)) > 1\n",
    "    \n",
    "G.set_vertex_filter(filter_degree)\n",
    "G.purge_vertices()\n",
    "G.clear_filters()\n",
    "G"
   ]
  },
  {
   "cell_type": "code",
   "execution_count": null,
   "id": "dental-rhythm",
   "metadata": {},
   "outputs": [],
   "source": [
    "adjacency = gt.adjacency(G).toarray()"
   ]
  },
  {
   "cell_type": "code",
   "execution_count": null,
   "id": "direct-chinese",
   "metadata": {},
   "outputs": [],
   "source": [
    "adjacency.max()"
   ]
  },
  {
   "cell_type": "code",
   "execution_count": null,
   "id": "collective-rhythm",
   "metadata": {},
   "outputs": [],
   "source": [
    "g = nx.Graph()\n",
    "for irow, row in enumerate(adjacency):\n",
    "    g.add_edges_from([(irow, icol, {\"weight\":int(w)}) for icol, w in enumerate(row) if w > 5])"
   ]
  },
  {
   "cell_type": "code",
   "execution_count": null,
   "id": "known-paragraph",
   "metadata": {},
   "outputs": [],
   "source": [
    "nx.draw_random(g)"
   ]
  },
  {
   "cell_type": "markdown",
   "id": "suburban-valuable",
   "metadata": {},
   "source": [
    "[python-louvain](https://python-louvain.readthedocs.io/en/latest/api.html)"
   ]
  },
  {
   "cell_type": "code",
   "execution_count": null,
   "id": "parallel-trauma",
   "metadata": {},
   "outputs": [],
   "source": [
    "import community as community_louvain"
   ]
  },
  {
   "cell_type": "code",
   "execution_count": null,
   "id": "fossil-panel",
   "metadata": {},
   "outputs": [],
   "source": [
    "partition = community_louvain.best_partition(g)"
   ]
  },
  {
   "cell_type": "code",
   "execution_count": null,
   "id": "eligible-scheduling",
   "metadata": {},
   "outputs": [],
   "source": [
    "import sys\n",
    "sys.path.append(\"../../Developer/fastconsensus/\")"
   ]
  },
  {
   "cell_type": "code",
   "execution_count": null,
   "id": "insured-installation",
   "metadata": {},
   "outputs": [],
   "source": [
    "%load_ext autoreload\n",
    "%autoreload 2\n",
    "from fast_consensus import fast_consensus, group_to_partition\n",
    "import matplotlib.cm as cm\n",
    "import matplotlib.pyplot as plt"
   ]
  },
  {
   "cell_type": "code",
   "execution_count": null,
   "id": "meaning-suspension",
   "metadata": {},
   "outputs": [],
   "source": [
    "output = fast_consensus(g)"
   ]
  },
  {
   "cell_type": "code",
   "execution_count": null,
   "id": "religious-texas",
   "metadata": {},
   "outputs": [],
   "source": [
    "for iout in range(len(output)): \n",
    "    partition = output[iout]\n",
    "    nodes = [node[0] for node in g.degree() if node[1] > 9]\n",
    "    edges = [edge for edge in g.edges(data=True) if ((edge[2][\"weight\"]>0) & (edge[0] in nodes) & (edge[1] in nodes))]\n",
    "    weights = [edge[2][\"weight\"] for edge in edges]\n",
    "    weights = [5*float(w)/max(weights) for w in weights]\n",
    "    new_partition = {node:part for node,part in partition.items() if node in nodes}\n",
    "\n",
    "    g_plot = nx.Graph()\n",
    "    g_plot.add_edges_from(edges)\n",
    "\n",
    "    pos = nx.spring_layout(g_plot, k=0.1)\n",
    "    # color the nodes according to their partition\n",
    "\n",
    "    fig, ax = plt.subplots(figsize=(9,8))\n",
    "    cmap = cm.get_cmap('viridis', max(new_partition.values()) + 1)\n",
    "    nx.draw_networkx_nodes(g_plot, \n",
    "                            pos,\n",
    "                            nodes,\n",
    "                            node_size=250,\n",
    "                            cmap=cmap, \n",
    "                            node_color=list(new_partition.values()),\n",
    "                            ax=ax)\n",
    "\n",
    "    nx.draw_networkx_edges(g_plot, \n",
    "                            pos,\n",
    "                            edges, \n",
    "                            width=weights,  \n",
    "                            alpha=0.5,\n",
    "                            ax=ax)\n",
    "    plt.show()"
   ]
  },
  {
   "cell_type": "code",
   "execution_count": null,
   "id": "intellectual-seminar",
   "metadata": {},
   "outputs": [],
   "source": [
    "df_partition = pd.DataFrame(data=output[-1].items(), columns=[\"ensg\", \"partition\"])\n",
    "df_partition.groupby(\"partition\").count().sort_values(\"ensg\", ascending=False)"
   ]
  },
  {
   "cell_type": "code",
   "execution_count": null,
   "id": "chronic-perception",
   "metadata": {},
   "outputs": [],
   "source": [
    "for gene in df_partition[df_partition[\"partition\"]==9][\"ensg\"].values:\n",
    "    print(genes[genes[\"idx\"]==gene].index[0])"
   ]
  },
  {
   "cell_type": "code",
   "execution_count": null,
   "id": "southeast-disorder",
   "metadata": {},
   "outputs": [],
   "source": [
    "from gseapy import enrichr"
   ]
  },
  {
   "cell_type": "code",
   "execution_count": null,
   "id": "sharp-regulation",
   "metadata": {},
   "outputs": [],
   "source": [
    "enrichr([genes[genes[\"idx\"]==gene].index[0] for gene in df_partition[df_partition[\"partition\"]==9][\"ensg\"].values], \n",
    "       gene_sets = ['GO_Molecular_Function_2018',\n",
    "             'GO_Biological_Process_2018',\n",
    "             'GO_Cellular_Component_2018',\n",
    "             'Human_Phenotype_Ontology',\n",
    "             'GTEx_Tissue_Sample_Gene_Expression_Profiles_up',\n",
    "             'GTEx_Tissue_Sample_Gene_Expression_Profiles_down',\n",
    "             'Tissue_Protein_Expression_from_Human_Proteome_Map',\n",
    "             'KEGG_2019_Human',\n",
    "             'NCI-60_Cancer_Cell_Lines',\n",
    "             '../MSigDB/c1.all.v7.1.symbols.gmt',\n",
    "            '../MSigDB/c2.all.v7.1.symbols.gmt',\n",
    "            '../MSigDB/c3.all.v7.1.symbols.gmt',\n",
    "            '../MSigDB/c4.all.v7.1.symbols.gmt',\n",
    "            '../MSigDB/c5.all.v7.1.symbols.gmt',\n",
    "            '../MSigDB/c6.all.v7.1.symbols.gmt',\n",
    "            '../MSigDB/c7.all.v7.1.symbols.gmt',\n",
    "            '../MSigDB/c8.all.v7.1.symbols.gmt',\n",
    "            '../MSigDB/h.all.v7.1.symbols.gmt',\n",
    "            ],\n",
    "       background=population,\n",
    "       cutoff=0.05).results"
   ]
  },
  {
   "cell_type": "code",
   "execution_count": null,
   "id": "fifth-lunch",
   "metadata": {},
   "outputs": [],
   "source": [
    "df_partition.to_csv(\"partitions.csv\")"
   ]
  },
  {
   "cell_type": "code",
   "execution_count": null,
   "id": "natural-pasta",
   "metadata": {},
   "outputs": [],
   "source": [
    "df_partition[\"gene\"]=[genes[genes[\"idx\"]==g].index[0] for g in df_partition[\"ensg\"]]"
   ]
  },
  {
   "cell_type": "code",
   "execution_count": null,
   "id": "decreased-democracy",
   "metadata": {},
   "outputs": [],
   "source": []
  }
 ],
 "metadata": {
  "kernelspec": {
   "display_name": "Python 3",
   "language": "python",
   "name": "python3"
  },
  "language_info": {
   "codemirror_mode": {
    "name": "ipython",
    "version": 3
   },
   "file_extension": ".py",
   "mimetype": "text/x-python",
   "name": "python",
   "nbconvert_exporter": "python",
   "pygments_lexer": "ipython3",
   "version": "3.8.6"
  }
 },
 "nbformat": 4,
 "nbformat_minor": 5
}

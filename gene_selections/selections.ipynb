{
 "cells": [
  {
   "cell_type": "code",
   "execution_count": null,
   "id": "electoral-column",
   "metadata": {},
   "outputs": [],
   "source": [
    "import pandas as pd\n",
    "import numpy as np\n",
    "import sys, os\n",
    "import seaborn as sns\n",
    "from scipy.stats import hypergeom\n",
    "from sklearn.metrics import normalized_mutual_info_score\n",
    "from topicpy.hsbmpy import get_max_available_L, get_scores, add_score_lines\n",
    "import matplotlib.pyplot as plt\n",
    "import multiprocessing as mp\n",
    "from time import time\n",
    "import logging\n",
    "log = logging.getLogger()"
   ]
  },
  {
   "cell_type": "code",
   "execution_count": null,
   "id": "strong-commissioner",
   "metadata": {},
   "outputs": [],
   "source": [
    "population=pd.read_csv(\"https://stephenslab.github.io/count-clustering/project/utilities/gene_names_all_gtex.txt\", header=None).values.ravel()"
   ]
  },
  {
   "cell_type": "code",
   "execution_count": null,
   "id": "super-vocabulary",
   "metadata": {},
   "outputs": [],
   "source": [
    "df_files = pd.read_csv(\"https://storage.googleapis.com/gtex_analysis_v8/annotations/GTEx_Analysis_v8_Annotations_SampleAttributesDS.txt\", sep='\\t').loc[:,['SAMPID','SMTS', 'SMTSD']]\n",
    "df_files.set_index('SAMPID', inplace=True)"
   ]
  },
  {
   "cell_type": "code",
   "execution_count": null,
   "id": "loving-number",
   "metadata": {},
   "outputs": [],
   "source": [
    "palette = sns.diverging_palette(240, 10, sep=20, as_cmap=True)"
   ]
  },
  {
   "cell_type": "code",
   "execution_count": null,
   "id": "pointed-vietnamese",
   "metadata": {},
   "outputs": [],
   "source": [
    "work_dir = \"/home/jovyan/work/phd/topics/datasets/\""
   ]
  },
  {
   "cell_type": "code",
   "execution_count": null,
   "id": "reduced-marsh",
   "metadata": {},
   "outputs": [],
   "source": [
    "experiments = [\"gtex10\",\"gtexall\",\"gtexhk\",\"random/random11\"]\n",
    "genes = []\n",
    "for directory in experiments:\n",
    "    genes.append(pd.read_csv(f\"{work_dir}/{directory}/mainTable.csv\", index_col=0).index)"
   ]
  },
  {
   "cell_type": "code",
   "execution_count": null,
   "id": "excessive-aberdeen",
   "metadata": {},
   "outputs": [],
   "source": [
    "def get_pval(setA, setB):\n",
    "    x = setA.isin(setB).sum() # number of successes\n",
    "    M = len(population) # pop size\n",
    "    k = len(setB) # successes in pop\n",
    "    N = len(setA) # sample size\n",
    "    pval = hypergeom.sf(x-1, M, k, N)\n",
    "    return pval\n",
    "#-np.log10(get_pval(setA, setB)+1)"
   ]
  },
  {
   "cell_type": "code",
   "execution_count": null,
   "id": "provincial-committee",
   "metadata": {},
   "outputs": [],
   "source": [
    "overlaps = list(map(lambda setA: list(map(lambda setB: setA.isin(setB).sum()/float(len(setA)), genes)), genes))"
   ]
  },
  {
   "cell_type": "code",
   "execution_count": null,
   "id": "color-message",
   "metadata": {},
   "outputs": [],
   "source": [
    "cm = sns.clustermap(\n",
    "    overlaps, \n",
    "    row_cluster=False,\n",
    "    col_cluster=False, \n",
    "    vmin=0,\n",
    "    vmax=max(list(map(lambda x: max(filter(lambda xi: xi<1,x)), overlaps)))\n",
    ")\n",
    "\n",
    "ax = cm.ax_heatmap\n",
    "ax.yaxis.set_label_position(\"left\")\n",
    "ax.yaxis.tick_left()\n",
    "ax.set_ylabel(\"Sets\", fontsize=35)\n",
    "ax.set_xlabel(\"Sets\", fontsize=35)\n",
    "ax.set_xticklabels(experiments, rotation=45)\n",
    "ax.set_yticklabels(experiments, rotation=0)\n",
    "\n",
    "ax.tick_params(labelsize=30)\n",
    "\n",
    "\n",
    "bax = cm.ax_cbar\n",
    "bax.tick_params(labelsize=25)\n",
    "bax.set_title(\"% overlap\", fontsize=35)\n",
    "\n",
    "plt.show()\n",
    "cm.savefig(\"selection_overlap.pdf\")"
   ]
  },
  {
   "cell_type": "code",
   "execution_count": null,
   "id": "muslim-badge",
   "metadata": {},
   "outputs": [],
   "source": [
    "algorithm = \"lda\""
   ]
  },
  {
   "cell_type": "code",
   "execution_count": null,
   "id": "electronic-tissue",
   "metadata": {},
   "outputs": [],
   "source": [
    "def get_scores_mp(directory):\n",
    "    return directory, get_scores(work_dir+directory, [\"SMTS\"], algorithm=algorithm, df_files=df_files)[\"SMTS\"]\n",
    "\n",
    "def get_scores_clbck(packed_score):\n",
    "    global scores\n",
    "    scores[packed_score[0]]=packed_score[1]"
   ]
  },
  {
   "cell_type": "code",
   "execution_count": null,
   "id": "congressional-combining",
   "metadata": {},
   "outputs": [],
   "source": [
    "scores = {}\n",
    "        \n",
    "start = time()\n",
    "    \n",
    "pool = mp.Pool(12)\n",
    "\n",
    "work = [pool.apply_async(get_scores_mp, args=([directory]), callback=get_scores_clbck, error_callback=lambda err:print(err)) for directory in experiments]\n",
    "\n",
    "pool.close()\n",
    "pool.join()\n",
    "\n",
    "print(time()-start)"
   ]
  },
  {
   "cell_type": "code",
   "execution_count": null,
   "id": "infectious-young",
   "metadata": {},
   "outputs": [],
   "source": [
    "fig, ax = plt.subplots(figsize=(18,15))\n",
    "add_score_lines(ax, scores, labels = experiments)\n",
    "ax.set_title(algorithm, fontsize=30)\n",
    "ax.set_xlim(1,800)\n",
    "fig.savefig(f\"scores_selections_{algorithm}.pdf\")"
   ]
  },
  {
   "cell_type": "code",
   "execution_count": null,
   "id": "sporting-rally",
   "metadata": {},
   "outputs": [],
   "source": [
    "def get_exp_labels(experiment):\n",
    "    global files\n",
    "    #print(experiment)\n",
    "    level = get_max_available_L(work_dir+experiment, algorithm)\n",
    "    df_clusters = pd.read_csv(f\"{work_dir}/{experiment}/{algorithm}/{algorithm}_level_{level}_clusters.csv\")\n",
    "    exp_data = []\n",
    "    new_idx = files.index[files.index.isin(df_clusters.values.ravel())]\n",
    "    for file in new_idx:\n",
    "        exp_data.append(df_clusters.columns[df_clusters[df_clusters==file].any(0)].values[0].split(\" \")[1])\n",
    "    return pd.Series(name=experiment, data=exp_data, index = new_idx)\n",
    "\n",
    "def exp_clbck(exp_series):\n",
    "    global files\n",
    "    files = files.join(exp_series, how=\"outer\")"
   ]
  },
  {
   "cell_type": "code",
   "execution_count": null,
   "id": "therapeutic-category",
   "metadata": {},
   "outputs": [],
   "source": [
    "experiments = [\"gtex10\", \"gtexhk\", \"random/random00\", \"random/random11\", \"random/random22\", \"random/random33\", \"random/random44\", \"random/random55\", \"random/random66\", \"random/random77\", \"random/random88\", \"random/random99\"]\n",
    "experiments = [\"gtex10\", \"gtexhk\", \"random/random11\", \"random/random22\", \"random/random33\"]"
   ]
  },
  {
   "cell_type": "code",
   "execution_count": null,
   "id": "variable-writer",
   "metadata": {},
   "outputs": [],
   "source": [
    "files = pd.DataFrame(index=df_files.index)\n",
    "scores = {}\n",
    "        \n",
    "start = time()\n",
    "    \n",
    "pool = mp.Pool(4)\n",
    "\n",
    "work = [pool.apply_async(get_exp_labels, args=([directory]), callback=exp_clbck, error_callback=lambda err:print(err)) for directory in experiments]\n",
    "\n",
    "pool.close()\n",
    "pool.join()\n",
    "\n",
    "print(time()-start)"
   ]
  },
  {
   "cell_type": "code",
   "execution_count": null,
   "id": "emotional-serbia",
   "metadata": {},
   "outputs": [],
   "source": [
    "partitions = files.transpose().values"
   ]
  },
  {
   "cell_type": "code",
   "execution_count": null,
   "id": "mathematical-guide",
   "metadata": {},
   "outputs": [],
   "source": [
    "def score(A, B):\n",
    "    mask = ~(np.isnan(A.astype(float)) | np.isnan(B.astype(float))) #demorgan law\n",
    "    return normalized_mutual_info_score(A[mask], B[mask])\n",
    "\n",
    "partition_overlap = list(map(lambda partitionA: list(map(lambda partitionB: score(partitionA, partitionB), partitions)), partitions))"
   ]
  },
  {
   "cell_type": "code",
   "execution_count": null,
   "id": "australian-programmer",
   "metadata": {},
   "outputs": [],
   "source": [
    "cm = sns.clustermap(\n",
    "    partition_overlap, \n",
    "    row_cluster=False,\n",
    "    col_cluster=False,\n",
    "    vmin=0.0\n",
    ")\n",
    "\n",
    "ax = cm.ax_heatmap\n",
    "ax.set_title(algorithm, fontsize=35)\n",
    "ax.yaxis.set_label_position(\"left\")\n",
    "ax.yaxis.tick_left()\n",
    "ax.set_ylabel(\"Clusters sets\", fontsize=35)\n",
    "ax.set_xlabel(\"Clusters sets\", fontsize=35)\n",
    "ax.tick_params(labelsize=30)\n",
    "ax.set_xticklabels(experiments, rotation=45)\n",
    "ax.set_yticklabels(experiments, rotation=0)\n",
    "\n",
    "bax = cm.ax_cbar\n",
    "bax.tick_params(labelsize=25)\n",
    "bax.set_title(\"NMI\", fontsize=35)\n",
    "\n",
    "plt.show()\n",
    "cm.savefig(f\"cluster_overlap_{algorithm}.pdf\")"
   ]
  },
  {
   "cell_type": "markdown",
   "id": "decreased-speech",
   "metadata": {},
   "source": [
    "# Compare algorithms"
   ]
  },
  {
   "cell_type": "markdown",
   "id": "pending-sucking",
   "metadata": {},
   "source": [
    "## topics"
   ]
  },
  {
   "cell_type": "code",
   "execution_count": null,
   "id": "fatal-patrick",
   "metadata": {},
   "outputs": [],
   "source": [
    "def get_exp_topic_labels(algorithm, experiment):\n",
    "    global files_topic\n",
    "    #print(experiment)\n",
    "    levels = {\n",
    "        \"gtex10\":{\n",
    "            \"topsbm\": 3,\n",
    "            \"topsbm-log\": 2,\n",
    "            \"lda\": 2,\n",
    "            \"tm\":0,\n",
    "            \"wgcna\":0\n",
    "        },\n",
    "        \"gtexhk\":{\n",
    "            \"topsbm\": 1,\n",
    "            \"lda\": 1,\n",
    "            \"tm\":0,\n",
    "            \"wgcna\":0\n",
    "        }\n",
    "    }\n",
    "    level = levels[experiment][algorithm]\n",
    "    df_topics = pd.read_csv(f\"{work_dir}/{experiment}/{algorithm}/{algorithm}_level_{level}_topics.csv\")\n",
    "    exp_data = []\n",
    "    new_idx = files_topic.index[files_topic.index.isin(df_topics.values.ravel())]\n",
    "    df_topics.columns = np.unique(df_topics.columns, return_inverse=True)[1]\n",
    "    for file in new_idx:\n",
    "        exp_data.append(df_topics.columns[df_topics[df_topics==file].any(0)].values[0])\n",
    "    return pd.Series(name=algorithm, data=exp_data, index = new_idx)\n",
    "\n",
    "def exp_topic_clbck(exp_series):\n",
    "    global files_topic\n",
    "    files_topic = files_topic.join(exp_series, how=\"outer\")"
   ]
  },
  {
   "cell_type": "code",
   "execution_count": null,
   "id": "protected-aberdeen",
   "metadata": {},
   "outputs": [],
   "source": [
    "algorithms = [\"topsbm\", \"topsbm-log\", \"lda\", \"tm\", \"wgcna\"]\n",
    "experiment = experiments[0]"
   ]
  },
  {
   "cell_type": "code",
   "execution_count": null,
   "id": "twelve-growing",
   "metadata": {},
   "outputs": [],
   "source": [
    "files_topic = pd.DataFrame(index=population)\n",
    "scores = {}\n",
    "        \n",
    "start = time()\n",
    "    \n",
    "pool = mp.Pool(2)\n",
    "\n",
    "work = [pool.apply_async(get_exp_topic_labels, args=([alg, experiment]), callback=exp_topic_clbck, error_callback=lambda err:print(err)) for alg in algorithms]\n",
    "\n",
    "pool.close()\n",
    "pool.join()\n",
    "\n",
    "print(time()-start)"
   ]
  },
  {
   "cell_type": "code",
   "execution_count": null,
   "id": "beautiful-revision",
   "metadata": {},
   "outputs": [],
   "source": [
    "files_topic.max(axis=0).astype(int)"
   ]
  },
  {
   "cell_type": "code",
   "execution_count": null,
   "id": "radical-carter",
   "metadata": {},
   "outputs": [],
   "source": [
    "partitions_topics = files_topic.transpose().values"
   ]
  },
  {
   "cell_type": "code",
   "execution_count": null,
   "id": "prerequisite-ballot",
   "metadata": {},
   "outputs": [],
   "source": [
    "def score(A, B):\n",
    "    mask = ~(np.isnan(A.astype(float)) | np.isnan(B.astype(float))) #demorgan law\n",
    "    return normalized_mutual_info_score(A[mask], B[mask])\n",
    "    \n",
    "partition_topics_overlap = list(map(lambda partitionA: list(map(lambda partitionB: score(partitionA, partitionB), partitions_topics)), partitions_topics))"
   ]
  },
  {
   "cell_type": "code",
   "execution_count": null,
   "id": "acknowledged-treat",
   "metadata": {},
   "outputs": [],
   "source": [
    "cm = sns.clustermap(\n",
    "    partition_topics_overlap, \n",
    "    row_cluster=False,\n",
    "    col_cluster=False,\n",
    "    vmin=0.0,\n",
    "    cmap = palette\n",
    ")\n",
    "\n",
    "ax = cm.ax_heatmap\n",
    "ax.set_title(experiment, fontsize=35)\n",
    "ax.yaxis.set_label_position(\"left\")\n",
    "ax.yaxis.tick_left()\n",
    "ax.set_ylabel(\"Topics\", fontsize=35)\n",
    "ax.set_xlabel(\"Topics\", fontsize=35)\n",
    "ax.tick_params(labelsize=30)\n",
    "ax.set_xticklabels(files_topic.columns, rotation=45)\n",
    "ax.set_yticklabels(files_topic.columns, rotation=0)\n",
    "\n",
    "bax = cm.ax_cbar\n",
    "bax.tick_params(labelsize=25)\n",
    "bax.set_title(\"NMI\", fontsize=35)\n",
    "\n",
    "plt.show()\n",
    "cm.savefig(f\"topic_overlap_{experiment}.pdf\")"
   ]
  },
  {
   "cell_type": "markdown",
   "id": "chubby-destruction",
   "metadata": {},
   "source": [
    "## clusters"
   ]
  },
  {
   "cell_type": "code",
   "execution_count": null,
   "id": "mental-intersection",
   "metadata": {},
   "outputs": [],
   "source": [
    "def get_exp_cluster_labels(algorithm, experiment):\n",
    "    global files_topic\n",
    "    #print(experiment)\n",
    "    levels = {\n",
    "        \"topsbm\": 1,\n",
    "        \"topsbm-log\":1,\n",
    "        \"lda\": 1,\n",
    "        \"tm\":0,\n",
    "        \"wgcna\":1\n",
    "    }\n",
    "    #level = get_max_available_L(work_dir+experiment, algorithm)\n",
    "    level = levels[algorithm]\n",
    "    df_clusters = pd.read_csv(f\"{work_dir}/{experiment}/{algorithm}/{algorithm}_level_{level}_clusters.csv\")\n",
    "    exp_data = []\n",
    "    new_idx = files_cluster.index[files_cluster.index.isin(df_clusters.values.ravel())]\n",
    "    df_clusters.columns = np.unique(df_clusters.columns, return_inverse=True)[1]\n",
    "    for file in new_idx:\n",
    "        exp_data.append(df_clusters.columns[df_clusters[df_clusters==file].any(0)].values[0])\n",
    "    return pd.Series(name=algorithm, data=exp_data, index = new_idx)\n",
    "\n",
    "def exp_topic_clbck(exp_series):\n",
    "    global files_cluster\n",
    "    files_cluster = files_cluster.join(exp_series, how=\"outer\")"
   ]
  },
  {
   "cell_type": "code",
   "execution_count": null,
   "id": "invalid-screw",
   "metadata": {},
   "outputs": [],
   "source": [
    "files_cluster = pd.DataFrame(index=df_files.index)\n",
    "scores = {}\n",
    "        \n",
    "start = time()\n",
    "    \n",
    "pool = mp.Pool(4)\n",
    "\n",
    "work = [pool.apply_async(get_exp_cluster_labels, args=([alg, experiment]), callback=exp_topic_clbck, error_callback=lambda err:print(err)) for alg in algorithms]\n",
    "\n",
    "pool.close()\n",
    "pool.join()\n",
    "\n",
    "print(time()-start)"
   ]
  },
  {
   "cell_type": "code",
   "execution_count": null,
   "id": "extraordinary-optics",
   "metadata": {},
   "outputs": [],
   "source": [
    "files_cluster.max(axis=0).astype(int)"
   ]
  },
  {
   "cell_type": "code",
   "execution_count": null,
   "id": "raising-diagram",
   "metadata": {},
   "outputs": [],
   "source": [
    "partitions_clusters = files_cluster.transpose().values"
   ]
  },
  {
   "cell_type": "code",
   "execution_count": null,
   "id": "textile-picking",
   "metadata": {},
   "outputs": [],
   "source": [
    "partition_clusters_overlap = list(map(lambda partitionA: list(map(lambda partitionB: score(partitionA, partitionB), partitions_clusters)), partitions_clusters))"
   ]
  },
  {
   "cell_type": "code",
   "execution_count": null,
   "id": "offshore-ceramic",
   "metadata": {},
   "outputs": [],
   "source": [
    "cm = sns.clustermap(\n",
    "    partition_clusters_overlap, \n",
    "    row_cluster=False,\n",
    "    col_cluster=False,\n",
    "    vmin=0.0,\n",
    "    cmap = palette\n",
    ")\n",
    "\n",
    "ax = cm.ax_heatmap\n",
    "ax.set_title(experiment, fontsize=35)\n",
    "ax.yaxis.set_label_position(\"left\")\n",
    "ax.yaxis.tick_left()\n",
    "ax.set_ylabel(\"Clusters\", fontsize=35)\n",
    "ax.set_xlabel(\"Clusters\", fontsize=35)\n",
    "ax.tick_params(labelsize=30)\n",
    "ax.set_xticklabels(files_cluster.columns, rotation=45)\n",
    "ax.set_yticklabels(files_cluster.columns, rotation=0)\n",
    "\n",
    "bax = cm.ax_cbar\n",
    "bax.tick_params(labelsize=25)\n",
    "bax.set_title(\"NMI\", fontsize=35)\n",
    "\n",
    "plt.show()\n",
    "cm.savefig(f\"cluster_overlap_{experiment}.pdf\")"
   ]
  },
  {
   "cell_type": "code",
   "execution_count": null,
   "id": "southwest-building",
   "metadata": {},
   "outputs": [],
   "source": []
  }
 ],
 "metadata": {
  "kernelspec": {
   "display_name": "Python 3",
   "language": "python",
   "name": "python3"
  },
  "language_info": {
   "codemirror_mode": {
    "name": "ipython",
    "version": 3
   },
   "file_extension": ".py",
   "mimetype": "text/x-python",
   "name": "python",
   "nbconvert_exporter": "python",
   "pygments_lexer": "ipython3",
   "version": "3.8.6"
  }
 },
 "nbformat": 4,
 "nbformat_minor": 5
}

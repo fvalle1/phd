{
 "cells": [
  {
   "cell_type": "code",
   "execution_count": null,
   "id": "ac030171",
   "metadata": {},
   "outputs": [],
   "source": [
    "import pandas as pd\n",
    "import numpy as np\n",
    "import sys, os\n",
    "import seaborn as sns\n",
    "from scipy.stats import hypergeom\n",
    "from sklearn.metrics import normalized_mutual_info_score\n",
    "from topicpy.hsbmpy import get_max_available_L, get_scores, get_scores_shuffled, normalise_score, add_score_lines\n",
    "import matplotlib.pyplot as plt\n",
    "import plotly.graph_objects as go\n",
    "import multiprocessing as mp\n",
    "from time import time"
   ]
  },
  {
   "cell_type": "code",
   "execution_count": null,
   "id": "51ca0e5a",
   "metadata": {},
   "outputs": [],
   "source": [
    "import logging\n",
    "log = logging.getLogger(\"selections\")\n",
    "hdl = logging.StreamHandler()\n",
    "hdl.setLevel(logging.DEBUG)\n",
    "log.addHandler(hdl)\n",
    "log.setLevel(logging.DEBUG)"
   ]
  },
  {
   "cell_type": "code",
   "execution_count": null,
   "id": "bfe79b99",
   "metadata": {},
   "outputs": [],
   "source": [
    "population=pd.read_csv(\"https://stephenslab.github.io/count-clustering/project/utilities/gene_names_all_gtex.txt\", header=None).values.ravel()"
   ]
  },
  {
   "cell_type": "code",
   "execution_count": null,
   "id": "374eefa7",
   "metadata": {},
   "outputs": [],
   "source": [
    "df_files = pd.read_csv(\"https://storage.googleapis.com/gtex_analysis_v8/annotations/GTEx_Analysis_v8_Annotations_SampleAttributesDS.txt\", sep='\\t').loc[:,['SAMPID','SMTS', 'SMTSD']]\n",
    "df_files.set_index('SAMPID', inplace=True)"
   ]
  },
  {
   "cell_type": "code",
   "execution_count": null,
   "id": "6954fbb7",
   "metadata": {},
   "outputs": [],
   "source": [
    "palette = sns.diverging_palette(240, 10, sep=20, as_cmap=True)"
   ]
  },
  {
   "cell_type": "code",
   "execution_count": null,
   "id": "c8fde671",
   "metadata": {},
   "outputs": [],
   "source": [
    "work_dir = \"/home/jovyan/work/phd/topics/datasets/\""
   ]
  },
  {
   "cell_type": "code",
   "execution_count": null,
   "id": "df64999a",
   "metadata": {},
   "outputs": [],
   "source": [
    "algorithms = [\"topsbm\", \"topsbm-log\", \"lda\", \"tm\", \"wgcna\"]\n",
    "experiments = [\"gtex10\", \"gtexhk\", \"random/random00\", \"random/random11\", \"random/random22\", \"random/random33\", \"random/random44\", \"random/random55\", \"random/random66\", \"random/random77\", \"random/random88\", \"random/random99\"]\n",
    "#experiments = [\"gtex10\",\"gtexall\",\"gtexhk\",\"random/random11\"]"
   ]
  },
  {
   "cell_type": "code",
   "execution_count": null,
   "id": "fb59f67e",
   "metadata": {},
   "outputs": [],
   "source": [
    "genes = []\n",
    "for directory in experiments:\n",
    "    genes.append(pd.read_csv(f\"{work_dir}/{directory}/mainTable.csv\", index_col=0).index)"
   ]
  },
  {
   "cell_type": "code",
   "execution_count": null,
   "id": "f47e4c57",
   "metadata": {},
   "outputs": [],
   "source": [
    "def get_pval(setA, setB):\n",
    "    x = setA.isin(setB).sum() # number of successes\n",
    "    M = len(population) # pop size\n",
    "    k = len(setB) # successes in pop\n",
    "    N = len(setA) # sample size\n",
    "    pval = hypergeom.sf(x-1, M, k, N)\n",
    "    return pval\n",
    "#-np.log10(get_pval(setA, setB)+1)"
   ]
  },
  {
   "cell_type": "code",
   "execution_count": null,
   "id": "0c09a2da",
   "metadata": {},
   "outputs": [],
   "source": [
    "overlaps = list(map(lambda setA: list(map(lambda setB: setA.isin(setB).sum()/float(len(setA)), genes)), genes))"
   ]
  },
  {
   "cell_type": "code",
   "execution_count": null,
   "id": "e4aca5b0",
   "metadata": {},
   "outputs": [],
   "source": [
    "cm = sns.clustermap(\n",
    "    overlaps, \n",
    "    row_cluster=False,\n",
    "    col_cluster=False, \n",
    "    vmin=0,\n",
    "    vmax=max(list(map(lambda x: max(filter(lambda xi: xi<1,x)), overlaps)))\n",
    ")\n",
    "\n",
    "ax = cm.ax_heatmap\n",
    "ax.yaxis.set_label_position(\"left\")\n",
    "ax.yaxis.tick_left()\n",
    "ax.set_ylabel(\"Sets\", fontsize=35)\n",
    "ax.set_xlabel(\"Sets\", fontsize=35)\n",
    "ax.set_xticklabels(experiments, rotation=45)\n",
    "ax.set_yticklabels(experiments, rotation=0)\n",
    "\n",
    "ax.tick_params(labelsize=30)\n",
    "\n",
    "\n",
    "bax = cm.ax_cbar\n",
    "bax.tick_params(labelsize=25)\n",
    "bax.set_title(\"% overlap\", fontsize=35)\n",
    "\n",
    "plt.show()\n",
    "cm.savefig(\"selection_overlap.pdf\")"
   ]
  },
  {
   "cell_type": "code",
   "execution_count": null,
   "id": "1e800407",
   "metadata": {},
   "outputs": [],
   "source": [
    "algorithm = \"topsbm\""
   ]
  },
  {
   "cell_type": "code",
   "execution_count": null,
   "id": "62b0bf60",
   "metadata": {},
   "outputs": [],
   "source": [
    "def get_scores_mp(directory):\n",
    "    return directory, get_scores(work_dir+directory, [\"SMTS\"], algorithm=algorithm, df_files=df_files)[\"SMTS\"]\n",
    "\n",
    "def get_scores_clbck(packed_score):\n",
    "    global scores\n",
    "    scores[packed_score[0]]=packed_score[1]"
   ]
  },
  {
   "cell_type": "code",
   "execution_count": null,
   "id": "501c4fe0",
   "metadata": {},
   "outputs": [],
   "source": [
    "scores = {}\n",
    "        \n",
    "start = time()\n",
    "    \n",
    "pool = mp.Pool(12)\n",
    "\n",
    "work = [pool.apply_async(get_scores_mp, args=([directory]), callback=get_scores_clbck, error_callback=lambda err:print(err)) for directory in experiments]\n",
    "\n",
    "pool.close()\n",
    "pool.join()\n",
    "\n",
    "print(time()-start)"
   ]
  },
  {
   "cell_type": "code",
   "execution_count": null,
   "id": "7ec07527",
   "metadata": {},
   "outputs": [],
   "source": [
    "fig, ax = plt.subplots(figsize=(18,15))\n",
    "add_score_lines(ax, scores, labels = experiments)\n",
    "ax.set_title(algorithm, fontsize=30)\n",
    "ax.set_xlim(1,800)\n",
    "fig.savefig(f\"scores_selections_{algorithm}.pdf\")"
   ]
  },
  {
   "cell_type": "code",
   "execution_count": null,
   "id": "c6d677dc",
   "metadata": {},
   "outputs": [],
   "source": [
    "def get_exp_labels(experiment):\n",
    "    global files\n",
    "    #print(experiment)\n",
    "    levels = {\n",
    "        \"gtex10\":{\n",
    "            \"topsbm\": 2,\n",
    "            \"topsbm-log\": 2,\n",
    "            \"lda\": 3,\n",
    "            \"tm\":0,\n",
    "            \"wgcna\":0\n",
    "        },\n",
    "        \"gtexhk\":{\n",
    "            \"topsbm\": 1,\n",
    "            \"lda\": 1,\n",
    "            \"tm\":0,\n",
    "            \"wgcna\":0\n",
    "        }\n",
    "    }\n",
    "    if experiment in levels.keys():\n",
    "        level = levels[experiment][algorithm]\n",
    "    else:\n",
    "        level = get_max_available_L(work_dir+experiment, algorithm)-1\n",
    "    df_clusters = pd.read_csv(f\"{work_dir}/{experiment}/{algorithm}/{algorithm}_level_{level}_clusters.csv\")\n",
    "    exp_data = []\n",
    "    new_idx = files.index[files.index.isin(df_clusters.values.ravel())]\n",
    "    for file in new_idx:\n",
    "        exp_data.append(df_clusters.columns[df_clusters[df_clusters==file].any(0)].values[0].split(\" \")[1])\n",
    "    return pd.Series(name=experiment, data=exp_data, index = new_idx)\n",
    "\n",
    "def exp_clbck(exp_series):\n",
    "    global files\n",
    "    files = files.join(exp_series, how=\"outer\")"
   ]
  },
  {
   "cell_type": "code",
   "execution_count": null,
   "id": "05f68636",
   "metadata": {},
   "outputs": [],
   "source": [
    "experiments = [\"gtex10\", \"gtexhk\", \"random/random00\", \"random/random11\", \"random/random22\", \"random/random33\", \"random/random44\", \"random/random55\", \"random/random66\", \"random/random77\", \"random/random88\", \"random/random99\"]\n",
    "#experiments = [\"gtex10\", \"gtexhk\", \"random/random11\", \"random/random22\", \"random/random33\"]"
   ]
  },
  {
   "cell_type": "code",
   "execution_count": null,
   "id": "886fc43c",
   "metadata": {},
   "outputs": [],
   "source": [
    "files = pd.DataFrame(index=df_files.index)\n",
    "scores = {}\n",
    "        \n",
    "start = time()\n",
    "    \n",
    "pool = mp.Pool(12)\n",
    "\n",
    "work = [pool.apply_async(get_exp_labels, args=([directory]), callback=exp_clbck, error_callback=lambda err:print(err)) for directory in experiments]\n",
    "\n",
    "pool.close()\n",
    "pool.join()\n",
    "\n",
    "print(time()-start)"
   ]
  },
  {
   "cell_type": "code",
   "execution_count": null,
   "id": "26a8e178",
   "metadata": {},
   "outputs": [],
   "source": [
    "files.astype(float).apply(np.nanmax,0).astype(int)"
   ]
  },
  {
   "cell_type": "code",
   "execution_count": null,
   "id": "2b38c956",
   "metadata": {},
   "outputs": [],
   "source": [
    "partitions = files.transpose().values"
   ]
  },
  {
   "cell_type": "code",
   "execution_count": null,
   "id": "366fe189",
   "metadata": {},
   "outputs": [],
   "source": [
    "def score(A, B):\n",
    "    mask = ~(np.isnan(A.astype(float)) | np.isnan(B.astype(float))) #demorgan law\n",
    "    return normalized_mutual_info_score(A[mask], B[mask])\n",
    "\n",
    "partition_overlap = list(map(lambda partitionA: list(map(lambda partitionB: score(partitionA, partitionB), partitions)), partitions))"
   ]
  },
  {
   "cell_type": "code",
   "execution_count": null,
   "id": "8899fd4c",
   "metadata": {},
   "outputs": [],
   "source": [
    "cm = sns.clustermap(\n",
    "    partition_overlap, \n",
    "    row_cluster=False,\n",
    "    col_cluster=False,\n",
    "    vmin=0.0,\n",
    "    cmap=palette\n",
    ")\n",
    "\n",
    "ax = cm.ax_heatmap\n",
    "ax.set_title(algorithm, fontsize=35)\n",
    "ax.yaxis.set_label_position(\"left\")\n",
    "ax.yaxis.tick_left()\n",
    "ax.set_ylabel(\"Clusters sets\", fontsize=35)\n",
    "ax.set_xlabel(\"Clusters sets\", fontsize=35)\n",
    "ax.tick_params(labelsize=30)\n",
    "ax.set_xticklabels(experiments, rotation=45)\n",
    "ax.set_yticklabels(experiments, rotation=0)\n",
    "\n",
    "bax = cm.ax_cbar\n",
    "bax.tick_params(labelsize=25)\n",
    "bax.set_title(\"NMI\", fontsize=35)\n",
    "\n",
    "plt.show()\n",
    "cm.savefig(f\"cluster_overlap_{algorithm}.pdf\")"
   ]
  },
  {
   "cell_type": "markdown",
   "id": "30c125b4",
   "metadata": {},
   "source": [
    "# Compare algorithms"
   ]
  },
  {
   "cell_type": "markdown",
   "id": "e18d14d3",
   "metadata": {},
   "source": [
    "## topics"
   ]
  },
  {
   "cell_type": "code",
   "execution_count": null,
   "id": "9885ef69",
   "metadata": {},
   "outputs": [],
   "source": [
    "def get_exp_topic_labels(algorithm, experiment):\n",
    "    global files_topic\n",
    "    #print(experiment)\n",
    "    levels = {\n",
    "        \"gtex10\":{\n",
    "            \"topsbm\": 3,\n",
    "            \"topsbm-log\": 2,\n",
    "            \"lda\": 2,\n",
    "            \"tm\":0,\n",
    "            \"wgcna\":0\n",
    "        },\n",
    "        \"random/random11\":{\n",
    "            \"topsbm\": 1,\n",
    "            \"topsbm-log\": 1,\n",
    "            \"lda\": 2,\n",
    "            \"tm\":0,\n",
    "            \"wgcna\":0\n",
    "        },\n",
    "        \"random/random22\":{\n",
    "            \"topsbm\": 2,\n",
    "            \"topsbm-log\": 1,\n",
    "            \"lda\": 1,\n",
    "            \"tm\":0,\n",
    "            \"wgcna\":0\n",
    "        },\n",
    "        \"gtexhk\":{\n",
    "            \"topsbm\": 2,\n",
    "            \"lda\": 1,\n",
    "            \"tm\":0,\n",
    "            \"wgcna\":0\n",
    "        }\n",
    "    }\n",
    "    level = levels[experiment][algorithm]\n",
    "    df_topics = pd.read_csv(f\"{work_dir}/{experiment}/{algorithm}/{algorithm}_level_{level}_topics.csv\")\n",
    "    exp_data = []\n",
    "    new_idx = files_topic.index[files_topic.index.isin(df_topics.values.ravel())]\n",
    "    df_topics.columns = np.unique(df_topics.columns, return_inverse=True)[1]\n",
    "    for file in new_idx:\n",
    "        exp_data.append(df_topics.columns[df_topics[df_topics==file].any(0)].values[0])\n",
    "    return pd.Series(name=algorithm, data=exp_data, index = new_idx)\n",
    "\n",
    "def exp_topic_clbck(exp_series):\n",
    "    global files_topic\n",
    "    files_topic = files_topic.join(exp_series, how=\"outer\")"
   ]
  },
  {
   "cell_type": "code",
   "execution_count": null,
   "id": "42ce84f5",
   "metadata": {},
   "outputs": [],
   "source": [
    "experiment = experiments[4]"
   ]
  },
  {
   "cell_type": "code",
   "execution_count": null,
   "id": "aaa89a9d",
   "metadata": {},
   "outputs": [],
   "source": [
    "files_topic = pd.DataFrame(index=population)\n",
    "scores = {}\n",
    "        \n",
    "start = time()\n",
    "    \n",
    "pool = mp.Pool(6)\n",
    "\n",
    "work = [pool.apply_async(get_exp_topic_labels, args=([alg, experiment]), callback=exp_topic_clbck, error_callback=lambda err:print(err)) for alg in algorithms]\n",
    "\n",
    "pool.close()\n",
    "pool.join()\n",
    "\n",
    "print(time()-start)"
   ]
  },
  {
   "cell_type": "code",
   "execution_count": null,
   "id": "dd6af89e",
   "metadata": {},
   "outputs": [],
   "source": [
    "files_topic.max(axis=0).astype(int)"
   ]
  },
  {
   "cell_type": "code",
   "execution_count": null,
   "id": "a0af659c",
   "metadata": {},
   "outputs": [],
   "source": [
    "partitions_topics = files_topic.transpose().values"
   ]
  },
  {
   "cell_type": "code",
   "execution_count": null,
   "id": "2a40c7ee",
   "metadata": {},
   "outputs": [],
   "source": [
    "def score(A, B):\n",
    "    mask = ~(np.isnan(A.astype(float)) | np.isnan(B.astype(float))) #demorgan law\n",
    "    return normalized_mutual_info_score(A[mask], B[mask])\n",
    "    \n",
    "partition_topics_overlap = list(map(lambda partitionA: list(map(lambda partitionB: score(partitionA, partitionB), partitions_topics)), partitions_topics))"
   ]
  },
  {
   "cell_type": "code",
   "execution_count": null,
   "id": "43a808c3",
   "metadata": {},
   "outputs": [],
   "source": [
    "cm = sns.clustermap(\n",
    "    partition_topics_overlap, \n",
    "    row_cluster=False,\n",
    "    col_cluster=False,\n",
    "    vmin=0.0,\n",
    "    cmap = palette\n",
    ")\n",
    "\n",
    "ax = cm.ax_heatmap\n",
    "ax.set_title(experiment, fontsize=35)\n",
    "ax.yaxis.set_label_position(\"left\")\n",
    "ax.yaxis.tick_left()\n",
    "ax.set_ylabel(\"Topics\", fontsize=35)\n",
    "ax.set_xlabel(\"Topics\", fontsize=35)\n",
    "ax.tick_params(labelsize=30)\n",
    "ax.set_xticklabels(files_topic.columns, rotation=45)\n",
    "ax.set_yticklabels(files_topic.columns, rotation=0)\n",
    "\n",
    "bax = cm.ax_cbar\n",
    "bax.tick_params(labelsize=25)\n",
    "bax.set_title(\"NMI\", fontsize=35)\n",
    "\n",
    "plt.show()\n",
    "#cm.savefig(f\"topic_overlap_{experiment}.pdf\")"
   ]
  },
  {
   "cell_type": "markdown",
   "id": "c38ada14",
   "metadata": {},
   "source": [
    "## clusters"
   ]
  },
  {
   "cell_type": "code",
   "execution_count": null,
   "id": "c664ce9b",
   "metadata": {},
   "outputs": [],
   "source": [
    "def get_exp_cluster_labels(algorithm, experiment):\n",
    "    global files_topic\n",
    "    #print(experiment)\n",
    "    levels = {\n",
    "        \"topsbm\": 1,\n",
    "        \"topsbm-log\":1,\n",
    "        \"lda\": 1,\n",
    "        \"tm\":0,\n",
    "        \"wgcna\":1\n",
    "    }\n",
    "    #level = get_max_available_L(work_dir+experiment, algorithm)\n",
    "    level = levels[algorithm]\n",
    "    df_clusters = pd.read_csv(f\"{work_dir}/{experiment}/{algorithm}/{algorithm}_level_{level}_clusters.csv\")\n",
    "    exp_data = []\n",
    "    new_idx = files_cluster.index[files_cluster.index.isin(df_clusters.values.ravel())]\n",
    "    df_clusters.columns = np.unique(df_clusters.columns, return_inverse=True)[1]\n",
    "    for file in new_idx:\n",
    "        exp_data.append(df_clusters.columns[df_clusters[df_clusters==file].any(0)].values[0])\n",
    "    return pd.Series(name=algorithm, data=exp_data, index = new_idx)\n",
    "\n",
    "def exp_topic_clbck(exp_series):\n",
    "    global files_cluster\n",
    "    files_cluster = files_cluster.join(exp_series, how=\"outer\")"
   ]
  },
  {
   "cell_type": "code",
   "execution_count": null,
   "id": "168dcc15",
   "metadata": {},
   "outputs": [],
   "source": [
    "files_cluster = pd.DataFrame(index=df_files.index)\n",
    "scores = {}\n",
    "        \n",
    "start = time()\n",
    "    \n",
    "pool = mp.Pool(4)\n",
    "\n",
    "work = [pool.apply_async(get_exp_cluster_labels, args=([alg, experiment]), callback=exp_topic_clbck, error_callback=lambda err:print(err)) for alg in algorithms]\n",
    "\n",
    "pool.close()\n",
    "pool.join()\n",
    "\n",
    "print(time()-start)"
   ]
  },
  {
   "cell_type": "code",
   "execution_count": null,
   "id": "78be62a9",
   "metadata": {},
   "outputs": [],
   "source": [
    "files_cluster.max(axis=0).astype(int)"
   ]
  },
  {
   "cell_type": "code",
   "execution_count": null,
   "id": "06427bdc",
   "metadata": {},
   "outputs": [],
   "source": [
    "partitions_clusters = files_cluster.transpose().values"
   ]
  },
  {
   "cell_type": "code",
   "execution_count": null,
   "id": "6328b616",
   "metadata": {},
   "outputs": [],
   "source": [
    "partition_clusters_overlap = list(map(lambda partitionA: list(map(lambda partitionB: score(partitionA, partitionB), partitions_clusters)), partitions_clusters))"
   ]
  },
  {
   "cell_type": "code",
   "execution_count": null,
   "id": "72b4df32",
   "metadata": {},
   "outputs": [],
   "source": [
    "cm = sns.clustermap(\n",
    "    partition_clusters_overlap, \n",
    "    row_cluster=False,\n",
    "    col_cluster=False,\n",
    "    vmin=0.0,\n",
    "    cmap = palette\n",
    ")\n",
    "\n",
    "ax = cm.ax_heatmap\n",
    "ax.set_title(experiment, fontsize=35)\n",
    "ax.yaxis.set_label_position(\"left\")\n",
    "ax.yaxis.tick_left()\n",
    "ax.set_ylabel(\"Clusters\", fontsize=35)\n",
    "ax.set_xlabel(\"Clusters\", fontsize=35)\n",
    "ax.tick_params(labelsize=30)\n",
    "ax.set_xticklabels(files_cluster.columns, rotation=45)\n",
    "ax.set_yticklabels(files_cluster.columns, rotation=0)\n",
    "\n",
    "bax = cm.ax_cbar\n",
    "bax.tick_params(labelsize=25)\n",
    "bax.set_title(\"NMI\", fontsize=35)\n",
    "\n",
    "plt.show()\n",
    "#cm.savefig(f\"cluster_overlap_{experiment}.pdf\")"
   ]
  },
  {
   "cell_type": "markdown",
   "id": "2bda723d",
   "metadata": {},
   "source": [
    "# Rank and scores"
   ]
  },
  {
   "cell_type": "code",
   "execution_count": null,
   "id": "b3ee39f6",
   "metadata": {},
   "outputs": [],
   "source": [
    "def get_max_allscores_mp(experiment, algorithm):\n",
    "    log.info(f\"{experiment},{algorithm}\")\n",
    "    try:\n",
    "        scores = {}\n",
    "        scores[\"data\"]=get_scores(work_dir+experiment, [\"SMTS\"], algorithm=algorithm, df_files=df_files)[\"SMTS\"]\n",
    "        scores[\"shuffle\"]=get_scores_shuffled(work_dir+experiment, label=\"SMTS\", algorithm=algorithm, df_files=df_files)\n",
    "        \n",
    "        temp = []\n",
    "        \n",
    "        for _ in range(5):\n",
    "            temp.append(get_scores_shuffled(work_dir+experiment, label=\"SMTS\", algorithm=algorithm, df_files=df_files)[\"V\"])\n",
    "                \n",
    "        scores[\"shuffle\"][\"V\"]=np.average(temp, 0)\n",
    "        normalise_score(scores, base_algorithm=\"shuffle\")\n",
    "        score_data=scores[\"data\"]\n",
    "        mask = np.argsort(score_data[\"xl\"])\n",
    "        return algorithm, experiment, max(score_data[\"V\"])\n",
    "    except:\n",
    "        log.error(sys.exc_info()[1])\n",
    "        return None\n",
    "    \n",
    "def get_allscores_clbck(packed_score):\n",
    "    global all_scores\n",
    "    if packed_score is not None:\n",
    "        all_scores[packed_score[0]][packed_score[1]] = packed_score[2]"
   ]
  },
  {
   "cell_type": "code",
   "execution_count": null,
   "id": "3dbc295c",
   "metadata": {
    "tags": []
   },
   "outputs": [],
   "source": [
    "all_scores = {}\n",
    "        \n",
    "start = time()\n",
    "pool = mp.Pool(12)\n",
    "    \n",
    "for algorithm in algorithms:\n",
    "    log.debug(algorithm)\n",
    "    all_scores[algorithm]={}\n",
    "    [pool.apply_async(get_max_allscores_mp, args=([experiment,algorithm]), callback=get_allscores_clbck, error_callback=lambda err:log.error(err)) for experiment in experiments]\n",
    "\n",
    "pool.close()\n",
    "\n",
    "log.info(\"close\")\n",
    "\n",
    "pool.join()\n",
    "\n",
    "print(time()-start)"
   ]
  },
  {
   "cell_type": "code",
   "execution_count": null,
   "id": "ae85d91f",
   "metadata": {},
   "outputs": [],
   "source": [
    "fig = go.Figure()\n",
    "\n",
    "fig.add_traces(\n",
    "    [\n",
    "        go.Bar(y = [all_scores[algorithm[0]][experiment]\n",
    "                    for experiment in experiments if (experiment in all_scores[algorithm[0]].keys())],\n",
    "               name = algorithm[0]\n",
    "              )\n",
    "        for algorithm in all_scores.items()\n",
    "    ]\n",
    ")\n",
    "\n",
    "\n",
    "\n",
    "layout={\n",
    "    \"xaxis\":{\n",
    "        \"tickmode\":\"array\",\n",
    "        \"tickvals\": list(range(len(experiments))),\n",
    "        \"ticktext\": experiments\n",
    "    },\n",
    "    \"yaxis\":{\n",
    "        \"title\":\"NMI\"\n",
    "    }\n",
    "}\n",
    "\n",
    "fig.update_layout(layout)\n",
    "fig.write_image(\"scores_per_selection.pdf\", engine=\"kaleido\")"
   ]
  },
  {
   "cell_type": "code",
   "execution_count": null,
   "id": "17534e68",
   "metadata": {},
   "outputs": [],
   "source": [
    "randoms_data = {algorithm[0]:[val[1] for val in all_scores[algorithm[0]].items() if \"random\" in val[0]]\n",
    " for algorithm in all_scores.items()}\n",
    "\n",
    "fig = go.Figure()\n",
    "\n",
    "fig.add_traces([\n",
    "    go.Box(y=box_data[1], name=box_data[0])\n",
    "for box_data in randoms_data.items()]\n",
    ")\n",
    "\n",
    "\n",
    "\n",
    "layout={\n",
    "    \"title\": \"random_selections\",\n",
    "    \"xaxis\":{\n",
    "        \"tickmode\":\"array\",\n",
    "        \"tickvals\": list(range(len(randoms_data))),\n",
    "        \"ticktext\": [algo for algo in randoms_data.keys() if len(randoms_data[algo])>0]\n",
    "    },\n",
    "    \"yaxis\":{\n",
    "        \"title\":\"NMI\",\n",
    "        \"range\":[0.5,1]\n",
    "    }\n",
    "}\n",
    "\n",
    "fig.update_layout(layout)\n",
    "fig.write_image(\"random_selections.pdf\", engine=\"kaleido\")"
   ]
  },
  {
   "cell_type": "code",
   "execution_count": null,
   "id": "b3f557df",
   "metadata": {},
   "outputs": [],
   "source": [
    "import plotly\n",
    "plotly.io.orca.config.executable=\"/opt/conda/bin/orca\"\n",
    "plotly.io.orca.config.save()"
   ]
  },
  {
   "cell_type": "code",
   "execution_count": null,
   "id": "c617f6a6",
   "metadata": {},
   "outputs": [],
   "source": [
    "import plotly.io as pio\n",
    "pio.orca.config.use_xvfb = True\n",
    "pio.orca.config.save()"
   ]
  },
  {
   "cell_type": "markdown",
   "id": "8a66a22e",
   "metadata": {},
   "source": [
    "## Stable genes"
   ]
  },
  {
   "cell_type": "code",
   "execution_count": null,
   "id": "03d6f789",
   "metadata": {},
   "outputs": [],
   "source": [
    "def get_topic(algorithm, experiment):\n",
    "    levels = {\n",
    "        \"gtex10\":{\n",
    "            \"topsbm\": 3,\n",
    "            \"topsbm-log\": 2,\n",
    "            \"lda\": 2,\n",
    "            \"tm\":0,\n",
    "            \"wgcna\":0\n",
    "        },\n",
    "        \"random/random11\":{\n",
    "            \"topsbm\": 1,\n",
    "            \"topsbm-log\": 1,\n",
    "            \"lda\": 2,\n",
    "            \"tm\":0,\n",
    "            \"wgcna\":0\n",
    "        },\n",
    "        \"random/random22\":{\n",
    "            \"topsbm\": 2,\n",
    "            \"topsbm-log\": 1,\n",
    "            \"lda\": 1,\n",
    "            \"tm\":0,\n",
    "            \"wgcna\":0\n",
    "        },\n",
    "        \"gtexhk\":{\n",
    "            \"topsbm\": 2,\n",
    "            \"lda\": 1,\n",
    "            \"tm\":0,\n",
    "            \"wgcna\":0\n",
    "        }\n",
    "    }\n",
    "    level = levels[experiment][algorithm]\n",
    "    df_topics = pd.read_csv(f\"{work_dir}/{experiment}/{algorithm}/{algorithm}_level_{level}_topics.csv\")\n",
    "    for topic in df_topics.columns:\n",
    "        yield df_topics[topic].dropna().values"
   ]
  },
  {
   "cell_type": "code",
   "execution_count": null,
   "id": "9f2e7fdb",
   "metadata": {},
   "outputs": [],
   "source": [
    "genes = pd.read_csv(\"http://stephenslab.github.io/count-clustering/project/utilities/gene_names_all_gtex.txt\", header=None, index_col=0)\n",
    "genes[\"idx\"]=list(range(genes.shape[0]))\n",
    "genes.at[\"ENSG00000000419\",\"idx\"]"
   ]
  },
  {
   "cell_type": "code",
   "execution_count": null,
   "id": "dc3e1462",
   "metadata": {},
   "outputs": [],
   "source": [
    "import networkx as nx\n",
    "import graph_tool.all as gt"
   ]
  },
  {
   "cell_type": "code",
   "execution_count": null,
   "id": "d53da3a9",
   "metadata": {},
   "outputs": [],
   "source": [
    "G = gt.Graph()\n",
    "name = G.vp[\"name\"] = G.new_vertex_property(\"string\")"
   ]
  },
  {
   "cell_type": "code",
   "execution_count": null,
   "id": "bc95addc",
   "metadata": {},
   "outputs": [],
   "source": [
    "for gene in genes[\"idx\"].items():\n",
    "    v = G.add_vertex()\n",
    "    assert(v==gene[1])\n",
    "    name[v]=gene[0]"
   ]
  },
  {
   "cell_type": "code",
   "execution_count": null,
   "id": "733d5ecc",
   "metadata": {},
   "outputs": [],
   "source": [
    "for algorithm in [\"topsbm\", \"lda\", \"tm\", \"wgcna\"]:\n",
    "    print(algorithm)\n",
    "    topic_gen = get_topic(algorithm,\"gtex10\")\n",
    "    for topic_genes in topic_gen:\n",
    "        for ig1, g1 in enumerate(topic_genes):\n",
    "            G.add_edge_list(((genes.at[g1,\"idx\"],genes.at[g2,\"idx\"]) for g2 in topic_genes[ig1:]))"
   ]
  },
  {
   "cell_type": "code",
   "execution_count": null,
   "id": "da82e084",
   "metadata": {},
   "outputs": [],
   "source": [
    "filter_degree = G.new_vertex_property(\"bool\")\n",
    "for v in G.vertices():\n",
    "    filter_degree[v] = len(G.get_all_neighbors(v)) > 1\n",
    "    \n",
    "G.set_vertex_filter(filter_degree)\n",
    "G.purge_vertices()\n",
    "G.clear_filters()\n",
    "G"
   ]
  },
  {
   "cell_type": "code",
   "execution_count": null,
   "id": "c2ce8bea",
   "metadata": {},
   "outputs": [],
   "source": [
    "adjacency = gt.adjacency(G).toarray()"
   ]
  },
  {
   "cell_type": "code",
   "execution_count": null,
   "id": "eba155a7",
   "metadata": {},
   "outputs": [],
   "source": [
    "adjacency.max()"
   ]
  },
  {
   "cell_type": "code",
   "execution_count": null,
   "id": "a909ae5f",
   "metadata": {},
   "outputs": [],
   "source": [
    "g = nx.Graph()\n",
    "for irow, row in enumerate(adjacency):\n",
    "    g.add_edges_from([(irow, icol, {\"weight\":int(w)}) for icol, w in enumerate(row) if w > 5])"
   ]
  },
  {
   "cell_type": "code",
   "execution_count": null,
   "id": "0cc9ae33",
   "metadata": {},
   "outputs": [],
   "source": [
    "nx.draw_random(g)"
   ]
  },
  {
   "cell_type": "markdown",
   "id": "62572dde",
   "metadata": {},
   "source": [
    "[python-louvain](https://python-louvain.readthedocs.io/en/latest/api.html)"
   ]
  },
  {
   "cell_type": "code",
   "execution_count": null,
   "id": "028d75af",
   "metadata": {},
   "outputs": [],
   "source": [
    "import community as community_louvain"
   ]
  },
  {
   "cell_type": "code",
   "execution_count": null,
   "id": "ce690bb7",
   "metadata": {},
   "outputs": [],
   "source": [
    "partition = community_louvain.best_partition(g)"
   ]
  },
  {
   "cell_type": "code",
   "execution_count": null,
   "id": "e47ff5aa",
   "metadata": {},
   "outputs": [],
   "source": [
    "import sys\n",
    "sys.path.append(\"../../Developer/fastconsensus/\")"
   ]
  },
  {
   "cell_type": "code",
   "execution_count": null,
   "id": "97eb2b55",
   "metadata": {},
   "outputs": [],
   "source": [
    "%load_ext autoreload\n",
    "%autoreload 2\n",
    "from fast_consensus import fast_consensus, group_to_partition\n",
    "import matplotlib.cm as cm\n",
    "import matplotlib.pyplot as plt"
   ]
  },
  {
   "cell_type": "code",
   "execution_count": null,
   "id": "89b7e6b2",
   "metadata": {},
   "outputs": [],
   "source": [
    "output = fast_consensus(g)"
   ]
  },
  {
   "cell_type": "code",
   "execution_count": null,
   "id": "deebd691",
   "metadata": {},
   "outputs": [],
   "source": [
    "for iout in range(len(output)): \n",
    "    partition = output[iout]\n",
    "    nodes = [node[0] for node in g.degree() if node[1] > 9]\n",
    "    edges = [edge for edge in g.edges(data=True) if ((edge[2][\"weight\"]>0) & (edge[0] in nodes) & (edge[1] in nodes))]\n",
    "    weights = [edge[2][\"weight\"] for edge in edges]\n",
    "    weights = [5*float(w)/max(weights) for w in weights]\n",
    "    new_partition = {node:part for node,part in partition.items() if node in nodes}\n",
    "\n",
    "    g_plot = nx.Graph()\n",
    "    g_plot.add_edges_from(edges)\n",
    "\n",
    "    pos = nx.spring_layout(g_plot, k=0.1)\n",
    "    # color the nodes according to their partition\n",
    "\n",
    "    fig, ax = plt.subplots(figsize=(9,8))\n",
    "    cmap = cm.get_cmap('viridis', max(new_partition.values()) + 1)\n",
    "    nx.draw_networkx_nodes(g_plot, \n",
    "                            pos,\n",
    "                            nodes,\n",
    "                            node_size=250,\n",
    "                            cmap=cmap, \n",
    "                            node_color=list(new_partition.values()),\n",
    "                            ax=ax)\n",
    "\n",
    "    nx.draw_networkx_edges(g_plot, \n",
    "                            pos,\n",
    "                            edges, \n",
    "                            width=weights,  \n",
    "                            alpha=0.5,\n",
    "                            ax=ax)\n",
    "    plt.show()"
   ]
  },
  {
   "cell_type": "code",
   "execution_count": null,
   "id": "1dc47e14",
   "metadata": {},
   "outputs": [],
   "source": [
    "df_partition = pd.DataFrame(data=output[-1].items(), columns=[\"ensg\", \"partition\"])\n",
    "df_partition.groupby(\"partition\").count().sort_values(\"ensg\", ascending=False)"
   ]
  },
  {
   "cell_type": "code",
   "execution_count": null,
   "id": "65182102",
   "metadata": {},
   "outputs": [],
   "source": [
    "for gene in df_partition[df_partition[\"partition\"]==52][\"ensg\"].values:\n",
    "    print(genes[genes[\"idx\"]==gene].index[0])"
   ]
  },
  {
   "cell_type": "code",
   "execution_count": null,
   "id": "d60afca0",
   "metadata": {},
   "outputs": [],
   "source": [
    "from gseapy import enrichr"
   ]
  },
  {
   "cell_type": "code",
   "execution_count": null,
   "id": "aaaf6c00",
   "metadata": {},
   "outputs": [],
   "source": [
    "enrichr([genes[genes[\"idx\"]==gene].index[0] for gene in df_partition[df_partition[\"partition\"]==9][\"ensg\"].values], \n",
    "       gene_sets = ['GO_Molecular_Function_2018',\n",
    "             'GO_Biological_Process_2018',\n",
    "             'GO_Cellular_Component_2018',\n",
    "             'Human_Phenotype_Ontology',\n",
    "             'GTEx_Tissue_Sample_Gene_Expression_Profiles_up',\n",
    "             'GTEx_Tissue_Sample_Gene_Expression_Profiles_down',\n",
    "             'Tissue_Protein_Expression_from_Human_Proteome_Map',\n",
    "             'KEGG_2019_Human',\n",
    "             'NCI-60_Cancer_Cell_Lines',\n",
    "             '../MSigDB/c1.all.v7.1.symbols.gmt',\n",
    "            '../MSigDB/c2.all.v7.1.symbols.gmt',\n",
    "            '../MSigDB/c3.all.v7.1.symbols.gmt',\n",
    "            '../MSigDB/c4.all.v7.1.symbols.gmt',\n",
    "            '../MSigDB/c5.all.v7.1.symbols.gmt',\n",
    "            '../MSigDB/c6.all.v7.1.symbols.gmt',\n",
    "            '../MSigDB/c7.all.v7.1.symbols.gmt',\n",
    "            '../MSigDB/c8.all.v7.1.symbols.gmt',\n",
    "            '../MSigDB/h.all.v7.1.symbols.gmt',\n",
    "            ],\n",
    "       background=population,\n",
    "       cutoff=0.05).results"
   ]
  },
  {
   "cell_type": "code",
   "execution_count": null,
   "id": "399b59ae",
   "metadata": {},
   "outputs": [],
   "source": [
    "df_partition.to_csv(\"partitions.csv\")"
   ]
  },
  {
   "cell_type": "code",
   "execution_count": null,
   "id": "6fd27fc6",
   "metadata": {},
   "outputs": [],
   "source": [
    "df_partition[\"gene\"]=[genes[genes[\"idx\"]==g].index[0] for g in df_partition[\"ensg\"]]"
   ]
  },
  {
   "cell_type": "code",
   "execution_count": null,
   "id": "5c94a75f",
   "metadata": {},
   "outputs": [],
   "source": []
  }
 ],
 "metadata": {
  "kernelspec": {
   "display_name": "Python 3",
   "language": "python",
   "name": "python3"
  },
  "language_info": {
   "codemirror_mode": {
    "name": "ipython",
    "version": 3
   },
   "file_extension": ".py",
   "mimetype": "text/x-python",
   "name": "python",
   "nbconvert_exporter": "python",
   "pygments_lexer": "ipython3",
   "version": "3.8.8"
  }
 },
 "nbformat": 4,
 "nbformat_minor": 5
}

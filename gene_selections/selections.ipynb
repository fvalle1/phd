{
 "cells": [
  {
   "cell_type": "code",
   "execution_count": null,
   "id": "refined-relay",
   "metadata": {},
   "outputs": [],
   "source": [
    "import pandas as pd\n",
    "import numpy as np\n",
    "import sys, os\n",
    "import seaborn as sns\n",
    "from scipy.stats import hypergeom\n",
    "from sklearn.metrics import normalized_mutual_info_score\n",
    "from topicpy.hsbmpy import get_max_available_L, get_scores, add_score_lines\n",
    "import matplotlib.pyplot as plt\n",
    "import multiprocessing as mp\n",
    "from time import time\n",
    "import logging\n",
    "log = logging.getLogger()"
   ]
  },
  {
   "cell_type": "code",
   "execution_count": null,
   "id": "olympic-account",
   "metadata": {},
   "outputs": [],
   "source": [
    "population=pd.read_csv(\"https://stephenslab.github.io/count-clustering/project/utilities/gene_names_all_gtex.txt\", header=None).values.ravel()"
   ]
  },
  {
   "cell_type": "code",
   "execution_count": null,
   "id": "charming-supply",
   "metadata": {},
   "outputs": [],
   "source": [
    "df_files = pd.read_csv(\"https://storage.googleapis.com/gtex_analysis_v8/annotations/GTEx_Analysis_v8_Annotations_SampleAttributesDS.txt\", sep='\\t').loc[:,['SAMPID','SMTS', 'SMTSD']]\n",
    "df_files.set_index('SAMPID', inplace=True)"
   ]
  },
  {
   "cell_type": "code",
   "execution_count": null,
   "id": "suffering-summer",
   "metadata": {},
   "outputs": [],
   "source": [
    "work_dir = \"/home/jovyan/work/phd/topics/datasets/\"\n",
    "algorithm = \"tm\""
   ]
  },
  {
   "cell_type": "code",
   "execution_count": null,
   "id": "armed-investigation",
   "metadata": {},
   "outputs": [],
   "source": [
    "experiments = [\"gtex10\",\"gtexall\",\"gtexhk\",\"random/random11\"]\n",
    "genes = []\n",
    "for directory in experiments:\n",
    "    genes.append(pd.read_csv(f\"{work_dir}/{directory}/mainTable.csv\", index_col=0).index)"
   ]
  },
  {
   "cell_type": "code",
   "execution_count": null,
   "id": "coral-cowboy",
   "metadata": {},
   "outputs": [],
   "source": [
    "def get_pval(setA, setB):\n",
    "    x = setA.isin(setB).sum() # number of successes\n",
    "    M = len(population) # pop size\n",
    "    k = len(setB) # successes in pop\n",
    "    N = len(setA) # sample size\n",
    "    pval = hypergeom.sf(x-1, M, k, N)\n",
    "    return pval\n",
    "#-np.log10(get_pval(setA, setB)+1)"
   ]
  },
  {
   "cell_type": "code",
   "execution_count": null,
   "id": "spare-quest",
   "metadata": {},
   "outputs": [],
   "source": [
    "overlaps = list(map(lambda setA: list(map(lambda setB: setA.isin(setB).sum()/float(len(setA)), genes)), genes))"
   ]
  },
  {
   "cell_type": "code",
   "execution_count": null,
   "id": "featured-pacific",
   "metadata": {},
   "outputs": [],
   "source": [
    "cm = sns.clustermap(\n",
    "    overlaps, \n",
    "    row_cluster=False,\n",
    "    col_cluster=False, \n",
    "    vmin=0,\n",
    "    vmax=max(list(map(lambda x: max(filter(lambda xi: xi<1,x)), overlaps)))\n",
    ")\n",
    "\n",
    "ax = cm.ax_heatmap\n",
    "ax.yaxis.set_label_position(\"left\")\n",
    "ax.yaxis.tick_left()\n",
    "ax.set_ylabel(\"Sets\", fontsize=35)\n",
    "ax.set_xlabel(\"Sets\", fontsize=35)\n",
    "ax.set_xticklabels(experiments, rotation=45)\n",
    "ax.set_yticklabels(experiments, rotation=0)\n",
    "\n",
    "ax.tick_params(labelsize=30)\n",
    "\n",
    "\n",
    "bax = cm.ax_cbar\n",
    "bax.tick_params(labelsize=25)\n",
    "bax.set_title(\"% overlap\", fontsize=35)\n",
    "\n",
    "plt.show()\n",
    "cm.savefig(\"\")"
   ]
  },
  {
   "cell_type": "code",
   "execution_count": null,
   "id": "vulnerable-metallic",
   "metadata": {},
   "outputs": [],
   "source": [
    "def get_scores_mp(directory):\n",
    "    return directory, get_scores(work_dir+directory, [\"SMTS\"], algorithm=algorithm, df_files=df_files)[\"SMTS\"]\n",
    "\n",
    "def get_scores_clbck(packed_score):\n",
    "    global scores\n",
    "    scores[packed_score[0]]=packed_score[1]"
   ]
  },
  {
   "cell_type": "code",
   "execution_count": null,
   "id": "alpha-celebration",
   "metadata": {},
   "outputs": [],
   "source": [
    "scores = {}\n",
    "        \n",
    "start = time()\n",
    "    \n",
    "pool = mp.Pool(12)\n",
    "\n",
    "work = [pool.apply_async(get_scores_mp, args=([directory]), callback=get_scores_clbck, error_callback=lambda err:print(err)) for directory in experiments]\n",
    "\n",
    "pool.close()\n",
    "pool.join()\n",
    "\n",
    "print(time()-start)"
   ]
  },
  {
   "cell_type": "code",
   "execution_count": null,
   "id": "eligible-decade",
   "metadata": {},
   "outputs": [],
   "source": [
    "fig, ax = plt.subplots(figsize=(18,15))\n",
    "add_score_lines(ax, scores, labels = experiments)\n",
    "ax.set_title(algorithm, fontsize=30)\n",
    "ax.set_xlim(1,800)\n",
    "fig.savefig(f\"scores_selections_{algorithm}.pdf\")"
   ]
  },
  {
   "cell_type": "code",
   "execution_count": null,
   "id": "speaking-distributor",
   "metadata": {},
   "outputs": [],
   "source": [
    "algorithm = \"wgcna\""
   ]
  },
  {
   "cell_type": "code",
   "execution_count": null,
   "id": "dramatic-tissue",
   "metadata": {},
   "outputs": [],
   "source": [
    "def get_exp_labels(experiment):\n",
    "    global files\n",
    "    #print(experiment)\n",
    "    level = get_max_available_L(work_dir+experiment, algorithm)\n",
    "    df_clusters = pd.read_csv(f\"{work_dir}/{experiment}/{algorithm}/{algorithm}_level_{level}_clusters.csv\")\n",
    "    exp_data = []\n",
    "    new_idx = files.index[files.index.isin(df_clusters.values.ravel())]\n",
    "    for file in new_idx:\n",
    "        exp_data.append(df_clusters.columns[df_clusters[df_clusters==file].any(0)].values[0].split(\" \")[1])\n",
    "    return pd.Series(name=experiment, data=exp_data, index = new_idx)\n",
    "\n",
    "def exb_clbck(exp_series):\n",
    "    global files\n",
    "    files = files.join(exp_series, how=\"outer\")"
   ]
  },
  {
   "cell_type": "code",
   "execution_count": null,
   "id": "provincial-public",
   "metadata": {},
   "outputs": [],
   "source": [
    "experiments = [\"gtex10\", \"gtexhk\", \"random/random11\", \"random/random22\", \"random/random33\", \"random/random44\", \"random/random55\", \"random/random66\", \"random/random77\"]"
   ]
  },
  {
   "cell_type": "code",
   "execution_count": null,
   "id": "tracked-rogers",
   "metadata": {},
   "outputs": [],
   "source": [
    "files = pd.DataFrame(index=df_files.index)\n",
    "scores = {}\n",
    "        \n",
    "start = time()\n",
    "    \n",
    "pool = mp.Pool(1)\n",
    "\n",
    "work = [pool.apply_async(get_exp_labels, args=([directory]), callback=exb_clbck, error_callback=lambda err:print(err)) for directory in experiments]\n",
    "\n",
    "pool.close()\n",
    "pool.join()\n",
    "\n",
    "print(time()-start)"
   ]
  },
  {
   "cell_type": "code",
   "execution_count": null,
   "id": "rough-arizona",
   "metadata": {},
   "outputs": [],
   "source": [
    "partitions = files.transpose().dropna(how=\"any\", axis=1).values"
   ]
  },
  {
   "cell_type": "code",
   "execution_count": null,
   "id": "large-bristol",
   "metadata": {},
   "outputs": [],
   "source": [
    "partition_overlap = list(map(lambda partitionA: list(map(lambda partitionB: normalized_mutual_info_score(partitionA, partitionB), partitions)), partitions))"
   ]
  },
  {
   "cell_type": "code",
   "execution_count": null,
   "id": "instrumental-selling",
   "metadata": {},
   "outputs": [],
   "source": [
    "cm = sns.clustermap(\n",
    "    partition_overlap, \n",
    "    row_cluster=False,\n",
    "    col_cluster=False,\n",
    "    vmin=0.0\n",
    ")\n",
    "\n",
    "ax = cm.ax_heatmap\n",
    "ax.set_title(algorithm, fontsize=35)\n",
    "ax.yaxis.set_label_position(\"left\")\n",
    "ax.yaxis.tick_left()\n",
    "ax.set_ylabel(\"Partitions sets\", fontsize=35)\n",
    "ax.set_xlabel(\"Partitions sets\", fontsize=35)\n",
    "ax.tick_params(labelsize=30)\n",
    "ax.set_xticklabels(experiments, rotation=45)\n",
    "ax.set_yticklabels(experiments, rotation=0)\n",
    "\n",
    "bax = cm.ax_cbar\n",
    "bax.tick_params(labelsize=25)\n",
    "bax.set_title(\"NMI\", fontsize=35)\n",
    "\n",
    "plt.show()\n",
    "cm.savefig(f\"cluster_overlap_{algorithm}_top.pdf\")"
   ]
  },
  {
   "cell_type": "code",
   "execution_count": null,
   "id": "fewer-heaven",
   "metadata": {},
   "outputs": [],
   "source": []
  }
 ],
 "metadata": {
  "kernelspec": {
   "display_name": "Python 3",
   "language": "python",
   "name": "python3"
  },
  "language_info": {
   "codemirror_mode": {
    "name": "ipython",
    "version": 3
   },
   "file_extension": ".py",
   "mimetype": "text/x-python",
   "name": "python",
   "nbconvert_exporter": "python",
   "pygments_lexer": "ipython3",
   "version": "3.8.6"
  }
 },
 "nbformat": 4,
 "nbformat_minor": 5
}

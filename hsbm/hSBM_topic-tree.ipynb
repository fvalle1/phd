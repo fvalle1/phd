{
 "cells": [
  {
   "cell_type": "code",
   "execution_count": null,
   "id": "classical-january",
   "metadata": {},
   "outputs": [],
   "source": [
    "%load_ext autoreload\n",
    "%autoreload 2\n",
    "import os\n",
    "import pandas as pd\n",
    "import numpy as np\n",
    "from topicpy.hsbmpy import get_max_available_L\n",
    "import seaborn as sns\n",
    "import matplotlib.pyplot as plt\n",
    "from scipy.cluster.hierarchy import dendrogram"
   ]
  },
  {
   "cell_type": "code",
   "execution_count": null,
   "id": "genuine-cedar",
   "metadata": {},
   "outputs": [],
   "source": [
    "directory = \"/home/jovyan/work/phd/topics/datasets/gtexall/\"\n",
    "algorithm = \"topsbm\"\n",
    "L=get_max_available_L(directory, algorithm)-1\n",
    "os.chdir(directory)"
   ]
  },
  {
   "cell_type": "code",
   "execution_count": null,
   "id": "funny-extent",
   "metadata": {},
   "outputs": [],
   "source": [
    "df_topics = pd.read_csv(\"%s/%s_level_%d_topic-dist.csv\"%(algorithm,algorithm,L), index_col=1).drop(\"i_doc\", 1)\n",
    "print(\"Working with\", df_topics.shape[1],\"topics\")\n",
    "df_files = pd.read_csv(\"files.dat\", index_col=0).reindex(index=df_topics.index)\n",
    "df_files.head(2)"
   ]
  },
  {
   "cell_type": "code",
   "execution_count": null,
   "id": "capable-moore",
   "metadata": {},
   "outputs": [],
   "source": [
    "df_topics[\"tissue\"]=df_files[\"SMTS\"]\n",
    "df_tissues = df_topics.groupby(\"tissue\").mean().transpose()\n",
    "correlations = df_tissues.corr()\n",
    "classes = df_tissues.columns"
   ]
  },
  {
   "cell_type": "code",
   "execution_count": null,
   "id": "allied-maria",
   "metadata": {},
   "outputs": [],
   "source": [
    "cm = sns.clustermap(correlations, \n",
    "                    vmax=1,  \n",
    "                    row_cluster=False, \n",
    "                    col_cluster=True, \n",
    "                    xticklabels=classes, \n",
    "                    yticklabels=classes, \n",
    "                    annot=False,\n",
    "                    cbar_pos=(0.99,0.05,0.05,0.7))\n",
    "ax = cm.ax_heatmap\n",
    "fig = ax.get_figure()\n",
    "ax.set_ylabel(\"Tissue\", fontsize=35, rotation=90)\n",
    "ax.set_yticklabels(labels=classes, rotation=0)\n",
    "ax.yaxis.tick_left()\n",
    "ax.yaxis.set_label_position(\"left\")\n",
    "\n",
    "ax.set_xticklabels(labels=classes[cm.dendrogram_col.reordered_ind], rotation=80)\n",
    "ax.set_xlabel(\"Tissue\",fontsize=35)\n",
    "ax.tick_params(labelsize=15)\n",
    "\n",
    "cax = cm.ax_cbar\n",
    "cax.tick_params(labelsize=30)\n",
    "cax.set_title(\"P()\", fontsize=30)\n",
    "plt.tight_layout()\n",
    "cm.savefig(f\"topic_correlation_{algorithm}_level{L}.pdf\")\n",
    "\n",
    "plt.show()"
   ]
  },
  {
   "cell_type": "code",
   "execution_count": null,
   "id": "adequate-humanitarian",
   "metadata": {},
   "outputs": [],
   "source": [
    "fig,ax = plt.subplots(figsize=(10,10))\n",
    "cm.dendrogram_col.rotate=False\n",
    "cm.dendrogram_col.plot(ax, {\"linewidths\":10})\n",
    "ax.set_ylabel(\"Distance\", fontsize=35, rotation=90)\n",
    "\n",
    "ax.set_xticks(np.linspace(5, len(classes)*10-5, len(classes)))\n",
    "ax.set_xticklabels(labels=classes[cm.dendrogram_col.reordered_ind], rotation=90)\n",
    "ax.set_xlabel(\"Tissue\",fontsize=35)\n",
    "ax.tick_params(labelsize=15)\n",
    "plt.tight_layout()\n",
    "fig.savefig(f\"topic_correlation_{algorithm}_level{L}_dendogram_vertical.pdf\")"
   ]
  },
  {
   "cell_type": "code",
   "execution_count": null,
   "id": "remarkable-project",
   "metadata": {},
   "outputs": [],
   "source": [
    "fig,ax = plt.subplots(figsize=(10,10))\n",
    "\n",
    "with plt.rc_context({'lines.linewidth': 10}):\n",
    "    dendrogram(cm.dendrogram_col.linkage, ax=ax, orientation=\"right\")\n",
    "\n",
    "ax.set_xlabel(\"Distance\", fontsize=35, rotation=0)\n",
    "\n",
    "ax.set_yticks(np.linspace(5, len(classes)*10-5, len(classes)))\n",
    "ax.set_yticklabels(labels=classes[cm.dendrogram_col.reordered_ind], rotation=0)\n",
    "ax.set_ylabel(\"Tissue\",fontsize=35)\n",
    "ax.tick_params(labelsize=15)\n",
    "plt.tight_layout()\n",
    "fig.savefig(f\"topic_correlation_{algorithm}_level{L}_dendogram.pdf\")"
   ]
  },
  {
   "cell_type": "code",
   "execution_count": null,
   "id": "social-pottery",
   "metadata": {},
   "outputs": [],
   "source": []
  }
 ],
 "metadata": {
  "kernelspec": {
   "display_name": "Python 3",
   "language": "python",
   "name": "python3"
  },
  "language_info": {
   "codemirror_mode": {
    "name": "ipython",
    "version": 3
   },
   "file_extension": ".py",
   "mimetype": "text/x-python",
   "name": "python",
   "nbconvert_exporter": "python",
   "pygments_lexer": "ipython3",
   "version": "3.8.6"
  }
 },
 "nbformat": 4,
 "nbformat_minor": 5
}

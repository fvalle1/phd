{
 "cells": [
  {
   "cell_type": "code",
   "execution_count": null,
   "metadata": {},
   "outputs": [],
   "source": [
    "import pandas as pd\n",
    "import numpy as np\n",
    "import matplotlib.pyplot as plt\n",
    "from hsbmpy import fraction_bar_plot\n",
    "from tableanalyser import get_ensg, get_symbol\n",
    "from pandarallel import pandarallel\n",
    "pandarallel.initialize(progress_bar=True)"
   ]
  },
  {
   "cell_type": "code",
   "execution_count": null,
   "metadata": {},
   "outputs": [],
   "source": [
    "directory = r'/Volumes/GoogleDrive/My Drive/tesi_magistrale/tesi/gtex/hsbm/oversigma_10tissue'\n",
    "l=3"
   ]
  },
  {
   "cell_type": "code",
   "execution_count": null,
   "metadata": {},
   "outputs": [],
   "source": [
    "df = pd.read_csv(\"gene_tf_matrix.txt.gz\", sep=\"\\t\", low_memory=False).drop([\"#.1\"], axis=1).drop([0,1], axis=0).set_index(\"#\").drop(\"GeneSym\",axis=1)\n",
    "df.head()"
   ]
  },
  {
   "cell_type": "code",
   "execution_count": null,
   "metadata": {},
   "outputs": [],
   "source": [
    "df.parallel_apply(lambda x: np.sum(x.astype(float)), axis=0)"
   ]
  },
  {
   "cell_type": "code",
   "execution_count": null,
   "metadata": {},
   "outputs": [],
   "source": [
    "genes = pd.read_csv(\"gene_symbol.txt\", index_col=0)\n",
    "genes"
   ]
  },
  {
   "cell_type": "code",
   "execution_count": null,
   "metadata": {},
   "outputs": [],
   "source": [
    "df_topics = pd.read_csv(\"%s/topsbm/topsbm_level_%d_topics.csv\"%(directory,l))\n",
    "df_topic_distr = pd.read_csv(\"%s/topsbm/topsbm_level_%d_word-dist.csv\"%(directory,l), index_col=0)"
   ]
  },
  {
   "cell_type": "code",
   "execution_count": null,
   "metadata": {},
   "outputs": [],
   "source": [
    "topic_tf = pd.DataFrame(index=df.columns)\n",
    "for topic in df_topics.columns:\n",
    "    print(topic)\n",
    "    #get P(gene|topic) with symbols\n",
    "    subdf = df_topic_distr[topic][df_topic_distr[topic]>0]\n",
    "    subdf.index=[get_symbol(e) for e in subdf.index]\n",
    "    #get TF for current genes\n",
    "    cdf = df[df.index.isin(subdf.index)].astype(float)\n",
    "    #weight TF for probability\n",
    "    cdf.multiply(subdf, axis=0).fillna(0.)\n",
    "    #sum # of TF\n",
    "    c_series = cdf.apply(lambda x: np.sum(x.astype(float)), axis=0)\n",
    "    topic_tf.insert(0, topic, c_series)"
   ]
  },
  {
   "cell_type": "code",
   "execution_count": null,
   "metadata": {},
   "outputs": [],
   "source": [
    "fraction_tf = topic_tf.fillna(0).transpose()\n",
    "fraction_tf=fraction_tf.divide(fraction_tf.sum(axis=1), axis=0).fillna(0).to_dict('list')"
   ]
  },
  {
   "cell_type": "code",
   "execution_count": null,
   "metadata": {},
   "outputs": [],
   "source": [
    "fig=plt.figure(figsize=(35,8))\n",
    "ax=fig.subplots()\n",
    "x = np.arange(1,1+len(df_topics.columns))\n",
    "fraction_bar_plot(x, fraction_tf, ax)\n",
    "#plt.yscale('log')\n",
    "plt.legend(ncol=20)\n",
    "plt.show()"
   ]
  },
  {
   "cell_type": "code",
   "execution_count": null,
   "metadata": {},
   "outputs": [],
   "source": []
  }
 ],
 "metadata": {
  "kernelspec": {
   "display_name": "Python 3",
   "language": "python",
   "name": "python3"
  },
  "language_info": {
   "codemirror_mode": {
    "name": "ipython",
    "version": 3
   },
   "file_extension": ".py",
   "mimetype": "text/x-python",
   "name": "python",
   "nbconvert_exporter": "python",
   "pygments_lexer": "ipython3",
   "version": "3.6.9"
  }
 },
 "nbformat": 4,
 "nbformat_minor": 2
}

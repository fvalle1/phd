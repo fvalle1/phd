{
 "cells": [
  {
   "cell_type": "code",
   "execution_count": null,
   "metadata": {
    "colab": {
     "base_uri": "https://localhost:8080/",
     "height": 122
    },
    "colab_type": "code",
    "id": "OM7BoWVULIgX",
    "outputId": "60e82754-7621-4ba9-962a-98f457650212"
   },
   "outputs": [],
   "source": [
    "from google.colab import drive\n",
    "drive.mount('/content/drive')"
   ]
  },
  {
   "cell_type": "code",
   "execution_count": null,
   "metadata": {
    "colab": {
     "base_uri": "https://localhost:8080/",
     "height": 71
    },
    "colab_type": "code",
    "id": "cZ0Axhw2Hfop",
    "outputId": "b955794a-671d-48e9-aa36-2da067dbc661"
   },
   "outputs": [],
   "source": [
    "import pandas as pd\n",
    "import os,sys, gc\n",
    "import matplotlib.pyplot as plt\n",
    "from scipy.stats import entropy\n",
    "sys.path.append(\"/content/drive/My Drive/phd/\")\n",
    "sys.path.append(\"/content/drive/My Drive/phd/hsbm-occam\")\n",
    "from hsbmpy import get_max_available_L"
   ]
  },
  {
   "cell_type": "code",
   "execution_count": null,
   "metadata": {
    "colab": {},
    "colab_type": "code",
    "id": "Yhh35xNYHfo1"
   },
   "outputs": [],
   "source": [
    "#label = 'disease_type'\n",
    "algorithm = \"topsbm\"\n",
    "directory='/content/drive/My Drive/phd/datasets/cancers/lung'\n",
    "L = get_max_available_L(directory, algorithm)-1\n",
    "os.chdir(directory)"
   ]
  },
  {
   "cell_type": "code",
   "execution_count": null,
   "metadata": {
    "colab": {
     "base_uri": "https://localhost:8080/",
     "height": 340
    },
    "colab_type": "code",
    "id": "XXZfXhOYHfo5",
    "outputId": "0d373081-286e-4d27-acd6-700af755f330"
   },
   "outputs": [],
   "source": [
    "label = 'cancer.type'\n",
    "\n",
    "df_topics = pd.read_csv(\"%s/%s_level_%d_topic-dist.csv\"%(algorithm,algorithm,L)).set_index('doc').drop('i_doc', axis=1)\n",
    "df_words = pd.read_csv(\"%s/%s_level_%d_word-dist.csv\"%(algorithm,algorithm,L), index_col=0)\n",
    "df_words.index=[g[:15] for g in df_words.index]\n",
    "df = pd.read_csv(\"mainTable.csv\", index_col=0).reindex(index=df_words.index)\n",
    "df = df.divide(df.sum(0),1).transpose().fillna(0)\n",
    "df_files=pd.read_csv(\"files.dat\", index_col=0)\n",
    "df_topics.insert(0,'tissue', df_files.reindex(index=df_topics.index)[label])\n",
    "df_topic_tissue = df_topics.groupby('tissue').mean()\n",
    "df_files.replace(\"Discordant_LUSC\",\"LUAD\", inplace=True)\n",
    "df_files.head()"
   ]
  },
  {
   "cell_type": "markdown",
   "metadata": {
    "colab_type": "text",
    "id": "LdnogDbsHfpP"
   },
   "source": [
    "## NN based predictor"
   ]
  },
  {
   "cell_type": "code",
   "execution_count": null,
   "metadata": {
    "colab": {
     "base_uri": "https://localhost:8080/",
     "height": 496
    },
    "colab_type": "code",
    "id": "KB8z21PkHfpR",
    "outputId": "7e9f2172-0a4a-4b61-dbfa-ffe6c84da903"
   },
   "outputs": [],
   "source": [
    "import tensorflow as tf\n",
    "from tensorflow.keras.models import Sequential\n",
    "from tensorflow.keras.layers import Dense, Convolution1D\n",
    "from tensorflow.keras.losses import binary_crossentropy,mean_squared_error, categorical_crossentropy\n",
    "from tensorflow.keras.optimizers import SGD, Adam\n",
    "from tensorflow.keras.regularizers import l1_l2\n",
    "from tensorflow.keras.datasets import mnist\n",
    "from tensorflow.keras.utils import plot_model,to_categorical\n",
    "from tensorflow.keras.callbacks import Callback, CSVLogger, EarlyStopping\n",
    "from tensorflow.keras.models import load_model\n",
    "from tensorflow.keras import backend as K\n",
    "from tensorflow.keras.wrappers.scikit_learn import KerasClassifier\n",
    "from tensorflow.python.framework.graph_util import convert_variables_to_constants\n",
    "from tensorflow.python.client.device_lib import list_local_devices\n",
    "import matplotlib.pyplot as plt\n",
    "from sklearn.model_selection import train_test_split, GridSearchCV\n",
    "import numpy as np\n",
    "import os,sys, gc\n",
    "list_local_devices()"
   ]
  },
  {
   "cell_type": "code",
   "execution_count": null,
   "metadata": {
    "colab": {
     "base_uri": "https://localhost:8080/",
     "height": 34
    },
    "colab_type": "code",
    "id": "J8SmE2OrHfpV",
    "outputId": "ba00cc22-6573-4f8d-ce06-77cf2c47c771"
   },
   "outputs": [],
   "source": [
    "df_labels=df_files.copy()\n",
    "df_labels=df_labels.reindex(index=df_topics.index)\n",
    "\n",
    "uniq = len(df_labels[label].unique())\n",
    "\n",
    "X_train = df_topics.drop('tissue',1)\n",
    "X_train = X_train.subtract(X_train.mean(0),1).divide(0.5*(X_train.max(0)-X_train.min(0)),1).values.astype(float) #SGD transform\n",
    "Y_train = to_categorical(np.unique(df_labels[label], return_inverse=True)[1])\n",
    "inputs = X_train.shape[1]\n",
    "\n",
    "Y_train = np.abs((np.argmax(Y_train, axis=-1)-1)) #1=\"healthy\"\n",
    "uniq = 1\n",
    "activation_func = \"sigmoid\"\n",
    "lr = 0.01\n",
    "momentum = 0.95\n",
    "l1 = 0.01\n",
    "l2 = 0.0001\n",
    "loss=binary_crossentropy\n",
    "\n",
    "classes=np.unique(df_labels[df_labels.index.isin(df.index)][label], return_inverse=True)[0]\n",
    "\n",
    "X_train, X_test, Y_train, Y_test = train_test_split(X_train, Y_train, random_state=42, train_size=0.8)\n",
    "\n",
    "print(X_train.shape, Y_train.shape, X_test.shape, Y_test.shape)"
   ]
  },
  {
   "cell_type": "code",
   "execution_count": null,
   "metadata": {
    "colab": {
     "base_uri": "https://localhost:8080/",
     "height": 964
    },
    "colab_type": "code",
    "id": "9A-pjO9lHfpa",
    "outputId": "5d48bebf-6d93-4c7d-c928-2a84a4390bdd"
   },
   "outputs": [],
   "source": [
    "K.clear_session()\n",
    "\n",
    "os.system(\"rm -rf log.csv\")\n",
    "csv_logger = CSVLogger('log.csv', append=True, separator=',')\n",
    "es = EarlyStopping(monitor='val_loss', min_delta=1e-3, mode='min', patience=25)\n",
    "\n",
    "model=Sequential()\n",
    "model.add(Dense(units=20, input_dim=inputs, use_bias=True, bias_initializer=\"ones\", activation=\"relu\", kernel_regularizer=l1_l2(l1=l1, l2=l2)))\n",
    "model.add(Dense(units=uniq, activation=activation_func))\n",
    "model.compile(loss=loss, optimizer=SGD(lr=lr, momentum=momentum), metrics=['accuracy', 'AUC'])\n",
    "K.set_learning_phase(0)\n",
    "\n",
    "print(model.summary())\n",
    "plot_model(model, to_file=f\"model_{label}.png\", dpi=600, show_shapes=True)\n"
   ]
  },
  {
   "cell_type": "code",
   "execution_count": null,
   "metadata": {
    "colab": {
     "base_uri": "https://localhost:8080/",
     "height": 1000
    },
    "colab_type": "code",
    "id": "SdHvt7jFHfpf",
    "outputId": "af23ea0f-5ab7-4d90-ad62-4bf352dfc4cd"
   },
   "outputs": [],
   "source": [
    "with tf.device(\"GPU\"):\n",
    "    model.fit(X_train, Y_train, epochs=1000, batch_size=50, verbose=1, validation_split=0.4, callbacks=[csv_logger, es], shuffle=True, use_multiprocessing=True, workers=-1)"
   ]
  },
  {
   "cell_type": "code",
   "execution_count": null,
   "metadata": {
    "colab": {
     "base_uri": "https://localhost:8080/",
     "height": 283
    },
    "colab_type": "code",
    "id": "ANz0bgi2Hfpi",
    "outputId": "7dff4531-d199-48b5-d7a1-ca4f30c79907"
   },
   "outputs": [],
   "source": [
    "pd.read_csv(\"log.csv\", sep=\",\")[['loss','val_loss']].plot()"
   ]
  },
  {
   "cell_type": "code",
   "execution_count": null,
   "metadata": {
    "colab": {
     "base_uri": "https://localhost:8080/",
     "height": 51
    },
    "colab_type": "code",
    "id": "ie8qRsmeHfpm",
    "outputId": "94ce6632-b57e-46f9-eea0-a2eb11c94f29"
   },
   "outputs": [],
   "source": [
    "model.evaluate(X_test, Y_test)"
   ]
  },
  {
   "cell_type": "code",
   "execution_count": null,
   "metadata": {
    "colab": {},
    "colab_type": "code",
    "id": "Qcwyj17QHfpp"
   },
   "outputs": [],
   "source": [
    "model.save(f\"model_{label}.h5\")\n",
    "#model = load_model(\"model.h5\")"
   ]
  },
  {
   "cell_type": "code",
   "execution_count": null,
   "metadata": {
    "colab": {
     "base_uri": "https://localhost:8080/",
     "height": 34
    },
    "colab_type": "code",
    "id": "eFyBghA0Hfpt",
    "outputId": "3c5dd518-116f-4e82-e289-bedb12df0cad"
   },
   "outputs": [],
   "source": [
    "gc.collect()"
   ]
  },
  {
   "cell_type": "markdown",
   "metadata": {
    "colab_type": "text",
    "id": "xIWNWHbwHfpz"
   },
   "source": [
    "# evaluate on non used on topsbm training\n"
   ]
  },
  {
   "cell_type": "code",
   "execution_count": null,
   "metadata": {
    "colab": {
     "base_uri": "https://localhost:8080/",
     "height": 34
    },
    "colab_type": "code",
    "id": "oydLIuRbG8kJ",
    "outputId": "6fb1339c-192e-40c6-c70f-a058933dd04e"
   },
   "outputs": [],
   "source": [
    "classes = df_files[label].unique()\n",
    "print(X_test.shape, Y_test.shape)"
   ]
  },
  {
   "cell_type": "code",
   "execution_count": null,
   "metadata": {
    "colab": {
     "base_uri": "https://localhost:8080/",
     "height": 51
    },
    "colab_type": "code",
    "id": "5JLmv_InHfp_",
    "outputId": "ebcf82ed-a9b5-4228-e55b-f70cf9978128"
   },
   "outputs": [],
   "source": [
    "model.evaluate(X_test, Y_test, verbose=2, workers=-1, use_multiprocessing=True)"
   ]
  },
  {
   "cell_type": "code",
   "execution_count": null,
   "metadata": {
    "colab": {},
    "colab_type": "code",
    "id": "XuS52Or_j_im"
   },
   "outputs": [],
   "source": [
    "from sklearn.metrics import confusion_matrix, roc_curve, roc_auc_score\n",
    "import seaborn as sns"
   ]
  },
  {
   "cell_type": "code",
   "execution_count": null,
   "metadata": {
    "colab": {},
    "colab_type": "code",
    "id": "mdOMEPwJkKT0"
   },
   "outputs": [],
   "source": [
    "y_pred_p = model.predict(X_test)\n",
    "y_true = Y_test\n",
    "y_pred = np.ones(y_pred_p.shape)\n",
    "y_pred[y_pred_p<0.5]=0\n",
    "results = confusion_matrix(y_true, y_pred, normalize=\"true\")"
   ]
  },
  {
   "cell_type": "code",
   "execution_count": null,
   "metadata": {
    "colab": {
     "base_uri": "https://localhost:8080/",
     "height": 734
    },
    "colab_type": "code",
    "id": "wMC0y97WHfqN",
    "outputId": "33b821bd-7ba7-4279-f38d-713971d51061"
   },
   "outputs": [],
   "source": [
    "cm = sns.clustermap(results, \n",
    "                    vmax=1,  \n",
    "                    row_cluster=False, \n",
    "                    col_cluster=False, \n",
    "                    xticklabels=classes, \n",
    "                    yticklabels=classes, \n",
    "                    annot=False,\n",
    "                    annot_kws={\"fontsize\":25})\n",
    "ax = cm.ax_heatmap\n",
    "fig = ax.get_figure()\n",
    "ax.set_ylabel(\"real\", fontsize=35, rotation=90)\n",
    "ax.set_yticklabels(labels=classes, rotation=0)\n",
    "ax.yaxis.tick_left()\n",
    "ax.yaxis.set_label_position(\"left\")\n",
    "\n",
    "ax.set_xticklabels(labels=classes, rotation=45)\n",
    "ax.set_xlabel(\"predicted\",fontsize=35)\n",
    "ax.tick_params(labelsize=35)\n",
    "\n",
    "cax = cm.ax_cbar\n",
    "cax.tick_params(labelsize=30)\n",
    "cax.set_title(\"P()\", fontsize=30)\n",
    "plt.tight_layout()\n",
    "cm.savefig(f\"predict_{label}.pdf\")\n",
    "\n",
    "plt.show()"
   ]
  },
  {
   "cell_type": "code",
   "execution_count": null,
   "metadata": {
    "colab": {
     "base_uri": "https://localhost:8080/",
     "height": 806
    },
    "colab_type": "code",
    "id": "9_T2el1pHfqT",
    "outputId": "9d1cc87d-5455-4216-d8a5-7356b5932ec0"
   },
   "outputs": [],
   "source": [
    "fig, ax= plt.subplots(figsize=(18,15))\n",
    "\n",
    "ax.hist(y_pred_p[Y_test==1], histtype=\"step\", lw=15, bins=10, density=True, label=\"LUAD\")\n",
    "ax.hist(y_pred_p[Y_test==0], histtype=\"step\", lw=15, bins=10, density=True, label=\"LUSC\")\n",
    "\n",
    "ax.tick_params(labelsize=35)\n",
    "ax.legend(fontsize=35, loc=\"upper left\")\n",
    "ax.set_title(\"\", fontsize=35)\n",
    "\n",
    "ax.set_xlim(-0.05,1.05)\n",
    "\n",
    "ax.set_xlabel(\"Z\", fontsize=35)\n",
    "ax.set_ylabel(\"pdf\", fontsize=35)\n",
    "\n",
    "plt.show()"
   ]
  },
  {
   "cell_type": "code",
   "execution_count": null,
   "metadata": {
    "colab": {},
    "colab_type": "code",
    "id": "nc5dF_kK-8YY"
   },
   "outputs": [],
   "source": [
    "fpr, tpr, thresholds = roc_curve(y_true, y_pred_p.T[0])"
   ]
  },
  {
   "cell_type": "code",
   "execution_count": null,
   "metadata": {
    "colab": {
     "base_uri": "https://localhost:8080/",
     "height": 783
    },
    "colab_type": "code",
    "id": "9F92ZJJ1vWVp",
    "outputId": "766005dd-cdd2-44f6-b816-dfa557026784"
   },
   "outputs": [],
   "source": [
    "fig, ax = plt.subplots(figsize=(18,15))\n",
    "\n",
    "ax.plot(fpr,tpr, c=\"gray\", lw=15)\n",
    "\n",
    "ax.plot([0, 1], [0, 1], 'k--', lw=15)\n",
    "ax.set_xlabel('False positive rate', fontsize=35)\n",
    "ax.set_ylabel('True positive rate', fontsize=35)\n",
    "\n",
    "\n",
    "for f, t, thr in zip(fpr[::100], tpr[::100], thresholds[::100]):\n",
    "    ax.annotate(thr, (f, t), fontsize=25)\n",
    "\n",
    "ax.annotate(\"Area Under Curve = %.4f\"%roc_auc_score(y_true, y_pred_p.T[0]), xy=(0.6, 0.5), fontsize=25)\n",
    "\n",
    "ax.tick_params(labelsize=35)\n",
    "\n",
    "plt.show()\n",
    "fig.savefig(f\"roc_{label}.pdf\")"
   ]
  },
  {
   "cell_type": "code",
   "execution_count": null,
   "metadata": {
    "colab": {},
    "colab_type": "code",
    "id": "ecz4ARzeDn9F"
   },
   "outputs": [],
   "source": []
  }
 ],
 "metadata": {
  "accelerator": "GPU",
  "colab": {
   "collapsed_sections": [],
   "name": "predictor_LUAD_LUSC.ipynb",
   "provenance": [],
   "toc_visible": true
  },
  "kernelspec": {
   "display_name": "Python 3",
   "name": "python3"
  },
  "language_info": {
   "codemirror_mode": {
    "name": "ipython",
    "version": 3
   },
   "file_extension": ".py",
   "mimetype": "text/x-python",
   "name": "python",
   "nbconvert_exporter": "python",
   "pygments_lexer": "ipython3",
   "version": "3.6.10"
  }
 },
 "nbformat": 4,
 "nbformat_minor": 0
}

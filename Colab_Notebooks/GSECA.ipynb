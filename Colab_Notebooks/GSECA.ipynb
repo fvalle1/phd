{
 "cells": [
  {
   "cell_type": "code",
   "execution_count": null,
   "metadata": {
    "executionInfo": {
     "elapsed": 1658,
     "status": "ok",
     "timestamp": 1610529355502,
     "user": {
      "displayName": "Filippo Valle",
      "photoUrl": "https://lh3.googleusercontent.com/a-/AOh14GiSmOTQUwJEm9eOUO5yn38V9kqgHrZZ_vys3fCS=s64",
      "userId": "14300282905640499915"
     },
     "user_tz": -60
    },
    "id": "X6T8XzeGBskX"
   },
   "outputs": [],
   "source": [
    "from rpy2 import robjects"
   ]
  },
  {
   "cell_type": "code",
   "execution_count": null,
   "metadata": {
    "colab": {
     "base_uri": "https://localhost:8080/"
    },
    "executionInfo": {
     "elapsed": 5710,
     "status": "ok",
     "timestamp": 1610529634631,
     "user": {
      "displayName": "Filippo Valle",
      "photoUrl": "https://lh3.googleusercontent.com/a-/AOh14GiSmOTQUwJEm9eOUO5yn38V9kqgHrZZ_vys3fCS=s64",
      "userId": "14300282905640499915"
     },
     "user_tz": -60
    },
    "id": "emjI1jpeB9XS",
    "outputId": "9c0a68db-39c8-49e4-8163-f277f65906dd"
   },
   "outputs": [],
   "source": [
    "!rm -rf GSECA\n",
    "!git clone https://github.com/matteocereda/GSECA"
   ]
  },
  {
   "cell_type": "code",
   "execution_count": null,
   "metadata": {
    "colab": {
     "base_uri": "https://localhost:8080/"
    },
    "executionInfo": {
     "elapsed": 612361,
     "status": "ok",
     "timestamp": 1610530247218,
     "user": {
      "displayName": "Filippo Valle",
      "photoUrl": "https://lh3.googleusercontent.com/a-/AOh14GiSmOTQUwJEm9eOUO5yn38V9kqgHrZZ_vys3fCS=s64",
      "userId": "14300282905640499915"
     },
     "user_tz": -60
    },
    "id": "qBCvjLc3CTWn",
    "outputId": "f4ca3a4e-1786-4b6d-8627-91aba02e1b29"
   },
   "outputs": [],
   "source": [
    "!Rscript GSECA/Scripts/config.R"
   ]
  },
  {
   "cell_type": "code",
   "execution_count": null,
   "metadata": {
    "colab": {
     "base_uri": "https://localhost:8080/"
    },
    "executionInfo": {
     "elapsed": 1218,
     "status": "ok",
     "timestamp": 1610530248572,
     "user": {
      "displayName": "Filippo Valle",
      "photoUrl": "https://lh3.googleusercontent.com/a-/AOh14GiSmOTQUwJEm9eOUO5yn38V9kqgHrZZ_vys3fCS=s64",
      "userId": "14300282905640499915"
     },
     "user_tz": -60
    },
    "id": "BW7vd0LQCgKZ",
    "outputId": "2a61b713-40bc-4c4c-ba8c-bc72a6c5ed2f"
   },
   "outputs": [],
   "source": [
    "!Rscript GSECA/Scripts/GSECA.R"
   ]
  }
 ],
 "metadata": {
  "colab": {
   "authorship_tag": "ABX9TyOsls3sSalaPl6rnKTudehC",
   "name": "GSECA.ipynb",
   "provenance": []
  },
  "kernelspec": {
   "display_name": "Python 3",
   "name": "python3"
  }
 },
 "nbformat": 4,
 "nbformat_minor": 0
}

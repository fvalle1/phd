{
 "cells": [
  {
   "cell_type": "code",
   "execution_count": null,
   "metadata": {
    "colab": {
     "base_uri": "https://localhost:8080/"
    },
    "executionInfo": {
     "elapsed": 49685,
     "status": "ok",
     "timestamp": 1610612450493,
     "user": {
      "displayName": "Filippo Valle",
      "photoUrl": "https://lh3.googleusercontent.com/a-/AOh14GiSmOTQUwJEm9eOUO5yn38V9kqgHrZZ_vys3fCS=s64",
      "userId": "14300282905640499915"
     },
     "user_tz": -60
    },
    "id": "TLPh5Op39FA4",
    "outputId": "dda9762a-3401-4325-c833-a19d7c11fd63"
   },
   "outputs": [],
   "source": [
    "!echo \"deb http://downloads.skewed.de/apt bionic main\" >> /etc/apt/sources.list\n",
    "!echo \"deb-src http://downloads.skewed.de/apt bionic main\" >> /etc/apt/sources.list\n",
    "!apt-key adv --keyserver keys.openpgp.org --recv-key 612DEFB798507F25\n",
    "!apt-get update && apt-get install python3-graph-tool --yes"
   ]
  },
  {
   "cell_type": "code",
   "execution_count": null,
   "metadata": {
    "colab": {
     "base_uri": "https://localhost:8080/"
    },
    "executionInfo": {
     "elapsed": 5225,
     "status": "ok",
     "timestamp": 1610612616268,
     "user": {
      "displayName": "Filippo Valle",
      "photoUrl": "https://lh3.googleusercontent.com/a-/AOh14GiSmOTQUwJEm9eOUO5yn38V9kqgHrZZ_vys3fCS=s64",
      "userId": "14300282905640499915"
     },
     "user_tz": -60
    },
    "id": "ZCjzhKjW-9sX",
    "outputId": "e643590f-3216-42e8-e508-f8ee63ba32c6"
   },
   "outputs": [],
   "source": [
    "!git clone -b develop https://github.com/martingerlach/hSBM_Topicmodel"
   ]
  },
  {
   "cell_type": "code",
   "execution_count": null,
   "metadata": {
    "colab": {
     "base_uri": "https://localhost:8080/"
    },
    "executionInfo": {
     "elapsed": 1329,
     "status": "ok",
     "timestamp": 1610612649021,
     "user": {
      "displayName": "Filippo Valle",
      "photoUrl": "https://lh3.googleusercontent.com/a-/AOh14GiSmOTQUwJEm9eOUO5yn38V9kqgHrZZ_vys3fCS=s64",
      "userId": "14300282905640499915"
     },
     "user_tz": -60
    },
    "id": "RAz48UlQ-sjO",
    "outputId": "7ff7fe72-fa36-4ad4-cc59-3a80c9400b75"
   },
   "outputs": [],
   "source": [
    "import os,sys\n",
    "sys.path.append(\"/content/hSBM_Topicmodel\")\n",
    "from sbmtm import sbmtm"
   ]
  },
  {
   "cell_type": "code",
   "execution_count": null,
   "metadata": {
    "executionInfo": {
     "elapsed": 820,
     "status": "ok",
     "timestamp": 1610612673438,
     "user": {
      "displayName": "Filippo Valle",
      "photoUrl": "https://lh3.googleusercontent.com/a-/AOh14GiSmOTQUwJEm9eOUO5yn38V9kqgHrZZ_vys3fCS=s64",
      "userId": "14300282905640499915"
     },
     "user_tz": -60
    },
    "id": "gzxFE-pL-6TI"
   },
   "outputs": [],
   "source": [
    "import graph_tool as gt"
   ]
  },
  {
   "cell_type": "code",
   "execution_count": null,
   "metadata": {
    "colab": {
     "base_uri": "https://localhost:8080/"
    },
    "executionInfo": {
     "elapsed": 1252,
     "status": "ok",
     "timestamp": 1610612804566,
     "user": {
      "displayName": "Filippo Valle",
      "photoUrl": "https://lh3.googleusercontent.com/a-/AOh14GiSmOTQUwJEm9eOUO5yn38V9kqgHrZZ_vys3fCS=s64",
      "userId": "14300282905640499915"
     },
     "user_tz": -60
    },
    "id": "XQLwUo1y-2dU",
    "outputId": "8b9aa106-41c5-4755-cf18-d55e6426f121"
   },
   "outputs": [],
   "source": [
    "G = gt.Graph()\n",
    "G.add_vertex(0)"
   ]
  },
  {
   "cell_type": "code",
   "execution_count": null,
   "metadata": {
    "colab": {
     "base_uri": "https://localhost:8080/",
     "height": 130
    },
    "executionInfo": {
     "elapsed": 922,
     "status": "error",
     "timestamp": 1610612858392,
     "user": {
      "displayName": "Filippo Valle",
      "photoUrl": "https://lh3.googleusercontent.com/a-/AOh14GiSmOTQUwJEm9eOUO5yn38V9kqgHrZZ_vys3fCS=s64",
      "userId": "14300282905640499915"
     },
     "user_tz": -60
    },
    "id": "mCouMv4o_0i1",
    "outputId": "8477fccb-60d7-4318-9549-a7e6c6305807"
   },
   "outputs": [],
   "source": [
    "model = sbmtm()\n",
    "model."
   ]
  },
  {
   "cell_type": "code",
   "execution_count": null,
   "metadata": {
    "id": "ivZiZrpJASU-"
   },
   "outputs": [],
   "source": []
  }
 ],
 "metadata": {
  "colab": {
   "authorship_tag": "ABX9TyMiTx6XQsXgNgMlSkdWnPAC",
   "mount_file_id": "1Kv3-ALjkvglX43rcBekO3krib6pV1sDQ",
   "name": "hSBM_plotgraph.ipynb",
   "provenance": []
  },
  "kernelspec": {
   "display_name": "Python 3",
   "name": "python3"
  }
 },
 "nbformat": 4,
 "nbformat_minor": 0
}

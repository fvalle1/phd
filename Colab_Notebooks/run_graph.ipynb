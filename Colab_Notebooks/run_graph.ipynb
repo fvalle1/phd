{
  "nbformat": 4,
  "nbformat_minor": 0,
  "metadata": {
    "kernelspec": {
      "display_name": "Python 3",
      "language": "python",
      "name": "python3"
    },
    "language_info": {
      "codemirror_mode": {
        "name": "ipython",
        "version": 3
      },
      "file_extension": ".py",
      "mimetype": "text/x-python",
      "name": "python",
      "nbconvert_exporter": "python",
      "pygments_lexer": "ipython3",
      "version": "3.6.9"
    },
    "colab": {
      "name": "run_graph.ipynb",
      "provenance": [],
      "collapsed_sections": [
        "EjZgH93w2wRm",
        "ULe4g3qTtLFY",
        "Ldd2ZxostNve"
      ],
      "toc_visible": true,
      "machine_shape": "hm"
    }
  },
  "cells": [
    {
      "cell_type": "code",
      "metadata": {
        "id": "kTgtAWHOD3B8",
        "colab_type": "code",
        "colab": {
          "base_uri": "https://localhost:8080/",
          "height": 122
        },
        "outputId": "27fe6d55-81d3-46c5-fcca-f86877c14cfe"
      },
      "source": [
        "from google.colab import drive\n",
        "drive.mount('/content/drive')"
      ],
      "execution_count": null,
      "outputs": [
        {
          "output_type": "stream",
          "text": [
            "Go to this URL in a browser: https://accounts.google.com/o/oauth2/auth?client_id=947318989803-6bn6qk8qdgf4n4g3pfee6491hc0brc4i.apps.googleusercontent.com&redirect_uri=urn%3aietf%3awg%3aoauth%3a2.0%3aoob&response_type=code&scope=email%20https%3a%2f%2fwww.googleapis.com%2fauth%2fdocs.test%20https%3a%2f%2fwww.googleapis.com%2fauth%2fdrive%20https%3a%2f%2fwww.googleapis.com%2fauth%2fdrive.photos.readonly%20https%3a%2f%2fwww.googleapis.com%2fauth%2fpeopleapi.readonly\n",
            "\n",
            "Enter your authorization code:\n",
            "··········\n",
            "Mounted at /content/drive\n"
          ],
          "name": "stdout"
        }
      ]
    },
    {
      "cell_type": "markdown",
      "metadata": {
        "id": "kwdF-W4_xZIR",
        "colab_type": "text"
      },
      "source": [
        "# Preprocessing anf run hSBM"
      ]
    },
    {
      "cell_type": "code",
      "metadata": {
        "id": "Hrsc2s1MLFNv",
        "colab_type": "code",
        "colab": {}
      },
      "source": [
        "# import some libraries\n",
        "import pandas as pd\n",
        "import numpy as np\n",
        "import os, sys"
      ],
      "execution_count": 2,
      "outputs": []
    },
    {
      "cell_type": "code",
      "metadata": {
        "id": "Q2FPeqA5xl9G",
        "colab_type": "code",
        "colab": {
          "base_uri": "https://localhost:8080/",
          "height": 799
        },
        "outputId": "b8d870bd-72bc-41d1-abfd-13034fa12214"
      },
      "source": [
        "#install scanpy\n",
        "!pip install scanpy\n",
        "import scanpy as sc"
      ],
      "execution_count": 1,
      "outputs": [
        {
          "output_type": "stream",
          "text": [
            "Collecting scanpy\n",
            "\u001b[?25l  Downloading https://files.pythonhosted.org/packages/eb/83/33131aeae2065c2ab89fd2c4d57ea47f4c87c85517c5dc8e359f37b76ed1/scanpy-1.5.1-py3-none-any.whl (7.2MB)\n",
            "\u001b[K     |████████████████████████████████| 7.2MB 2.3MB/s \n",
            "\u001b[?25hRequirement already satisfied: importlib-metadata>=0.7; python_version < \"3.8\" in /usr/local/lib/python3.6/dist-packages (from scanpy) (1.6.1)\n",
            "Requirement already satisfied: pandas>=0.21 in /usr/local/lib/python3.6/dist-packages (from scanpy) (1.0.4)\n",
            "Requirement already satisfied: networkx in /usr/local/lib/python3.6/dist-packages (from scanpy) (2.4)\n",
            "Requirement already satisfied: patsy in /usr/local/lib/python3.6/dist-packages (from scanpy) (0.5.1)\n",
            "Requirement already satisfied: seaborn in /usr/local/lib/python3.6/dist-packages (from scanpy) (0.10.1)\n",
            "Requirement already satisfied: natsort in /usr/local/lib/python3.6/dist-packages (from scanpy) (5.5.0)\n",
            "Requirement already satisfied: matplotlib>=3.1.2 in /usr/local/lib/python3.6/dist-packages (from scanpy) (3.2.1)\n",
            "Collecting anndata>=0.7\n",
            "\u001b[?25l  Downloading https://files.pythonhosted.org/packages/28/75/6f3b304f4cce11dee2188ad13c8c4a9d075d2a5c2d7b4e3a058ae506b8f6/anndata-0.7.3-py3-none-any.whl (112kB)\n",
            "\u001b[K     |████████████████████████████████| 122kB 46.7MB/s \n",
            "\u001b[?25hRequirement already satisfied: packaging in /usr/local/lib/python3.6/dist-packages (from scanpy) (20.4)\n",
            "Requirement already satisfied: tqdm in /usr/local/lib/python3.6/dist-packages (from scanpy) (4.41.1)\n",
            "Requirement already satisfied: umap-learn>=0.3.10 in /usr/local/lib/python3.6/dist-packages (from scanpy) (0.4.4)\n",
            "Collecting setuptools-scm\n",
            "  Downloading https://files.pythonhosted.org/packages/ad/d3/e54f8b4cde0f6fb4f231629f570c1a33ded18515411dee6df6fe363d976f/setuptools_scm-4.1.2-py2.py3-none-any.whl\n",
            "Requirement already satisfied: tables in /usr/local/lib/python3.6/dist-packages (from scanpy) (3.4.4)\n",
            "Requirement already satisfied: statsmodels>=0.10.0rc2 in /usr/local/lib/python3.6/dist-packages (from scanpy) (0.10.2)\n",
            "Requirement already satisfied: joblib in /usr/local/lib/python3.6/dist-packages (from scanpy) (0.15.1)\n",
            "Requirement already satisfied: h5py>=2.10.0 in /usr/local/lib/python3.6/dist-packages (from scanpy) (2.10.0)\n",
            "Requirement already satisfied: scikit-learn>=0.21.2 in /usr/local/lib/python3.6/dist-packages (from scanpy) (0.22.2.post1)\n",
            "Requirement already satisfied: numba>=0.41.0 in /usr/local/lib/python3.6/dist-packages (from scanpy) (0.48.0)\n",
            "Collecting legacy-api-wrap\n",
            "  Downloading https://files.pythonhosted.org/packages/a4/68/da997bc56bb69dcdcee4054f0bc42266909307b905389fbc54c9158f42da/legacy_api_wrap-1.2-py3-none-any.whl\n",
            "Requirement already satisfied: scipy>=1.3 in /usr/local/lib/python3.6/dist-packages (from scanpy) (1.4.1)\n",
            "Requirement already satisfied: zipp>=0.5 in /usr/local/lib/python3.6/dist-packages (from importlib-metadata>=0.7; python_version < \"3.8\"->scanpy) (3.1.0)\n",
            "Requirement already satisfied: pytz>=2017.2 in /usr/local/lib/python3.6/dist-packages (from pandas>=0.21->scanpy) (2018.9)\n",
            "Requirement already satisfied: numpy>=1.13.3 in /usr/local/lib/python3.6/dist-packages (from pandas>=0.21->scanpy) (1.18.5)\n",
            "Requirement already satisfied: python-dateutil>=2.6.1 in /usr/local/lib/python3.6/dist-packages (from pandas>=0.21->scanpy) (2.8.1)\n",
            "Requirement already satisfied: decorator>=4.3.0 in /usr/local/lib/python3.6/dist-packages (from networkx->scanpy) (4.4.2)\n",
            "Requirement already satisfied: six in /usr/local/lib/python3.6/dist-packages (from patsy->scanpy) (1.12.0)\n",
            "Requirement already satisfied: kiwisolver>=1.0.1 in /usr/local/lib/python3.6/dist-packages (from matplotlib>=3.1.2->scanpy) (1.2.0)\n",
            "Requirement already satisfied: pyparsing!=2.0.4,!=2.1.2,!=2.1.6,>=2.0.1 in /usr/local/lib/python3.6/dist-packages (from matplotlib>=3.1.2->scanpy) (2.4.7)\n",
            "Requirement already satisfied: cycler>=0.10 in /usr/local/lib/python3.6/dist-packages (from matplotlib>=3.1.2->scanpy) (0.10.0)\n",
            "Requirement already satisfied: tbb in /usr/local/lib/python3.6/dist-packages (from umap-learn>=0.3.10->scanpy) (2020.0.133)\n",
            "Requirement already satisfied: setuptools in /usr/local/lib/python3.6/dist-packages (from setuptools-scm->scanpy) (47.1.1)\n",
            "Requirement already satisfied: numexpr>=2.5.2 in /usr/local/lib/python3.6/dist-packages (from tables->scanpy) (2.7.1)\n",
            "Requirement already satisfied: llvmlite<0.32.0,>=0.31.0dev0 in /usr/local/lib/python3.6/dist-packages (from numba>=0.41.0->scanpy) (0.31.0)\n",
            "Collecting get-version>=2.0.4\n",
            "\u001b[?25l  Downloading https://files.pythonhosted.org/packages/23/48/7610e884e62fff2183e7bc8592397c39a020267fb5147905fcd3f9cc820c/get_version-2.1-py3-none-any.whl (43kB)\n",
            "\u001b[K     |████████████████████████████████| 51kB 7.0MB/s \n",
            "\u001b[?25hInstalling collected packages: anndata, setuptools-scm, get-version, legacy-api-wrap, scanpy\n",
            "Successfully installed anndata-0.7.3 get-version-2.1 legacy-api-wrap-1.2 scanpy-1.5.1 setuptools-scm-4.1.2\n"
          ],
          "name": "stdout"
        }
      ]
    },
    {
      "cell_type": "code",
      "metadata": {
        "id": "ITa5RLqTxluy",
        "colab_type": "code",
        "colab": {
          "base_uri": "https://localhost:8080/",
          "height": 1000
        },
        "outputId": "8a1d2ad9-141b-443c-8def-161c18d0e68c"
      },
      "source": [
        "#install graph-tool\n",
        "!echo \"deb http://downloads.skewed.de/apt/ bionic main\" >> /etc/apt/sources.list\n",
        "!apt-key adv --keyserver keys.openpgp.org --recv-key 612DEFB798507F25\n",
        "!apt-get update\n",
        "!apt-get install python3-graph-tool\n",
        "sys.path.append('/content/drive/My Drive/phd/hsbm-occam/')"
      ],
      "execution_count": 3,
      "outputs": [
        {
          "output_type": "stream",
          "text": [
            "Executing: /tmp/apt-key-gpghome.tBSONqGzqb/gpg.1.sh --keyserver keys.openpgp.org --recv-key 612DEFB798507F25\n",
            "gpg: key 612DEFB798507F25: public key \"Tiago de Paula Peixoto <tiago@skewed.de>\" imported\n",
            "gpg: Total number processed: 1\n",
            "gpg:               imported: 1\n",
            "Get:1 http://security.ubuntu.com/ubuntu bionic-security InRelease [88.7 kB]\n",
            "Ign:2 https://developer.download.nvidia.com/compute/cuda/repos/ubuntu1804/x86_64  InRelease\n",
            "Get:3 https://cloud.r-project.org/bin/linux/ubuntu bionic-cran35/ InRelease [3,626 B]\n",
            "Hit:4 http://ppa.launchpad.net/graphics-drivers/ppa/ubuntu bionic InRelease\n",
            "Hit:5 http://archive.ubuntu.com/ubuntu bionic InRelease\n",
            "Ign:6 https://developer.download.nvidia.com/compute/machine-learning/repos/ubuntu1804/x86_64  InRelease\n",
            "Get:7 https://developer.download.nvidia.com/compute/cuda/repos/ubuntu1804/x86_64  Release [697 B]\n",
            "Get:8 https://developer.download.nvidia.com/compute/machine-learning/repos/ubuntu1804/x86_64  Release [564 B]\n",
            "Get:9 https://developer.download.nvidia.com/compute/cuda/repos/ubuntu1804/x86_64  Release.gpg [801 B]\n",
            "Get:10 https://developer.download.nvidia.com/compute/machine-learning/repos/ubuntu1804/x86_64  Release.gpg [833 B]\n",
            "Get:11 http://archive.ubuntu.com/ubuntu bionic-updates InRelease [88.7 kB]\n",
            "Get:12 http://security.ubuntu.com/ubuntu bionic-security/main amd64 Packages [960 kB]\n",
            "Get:13 http://ppa.launchpad.net/marutter/c2d4u3.5/ubuntu bionic InRelease [15.4 kB]\n",
            "Get:14 http://downloads.skewed.de/apt bionic InRelease [4,310 B]\n",
            "Get:15 http://security.ubuntu.com/ubuntu bionic-security/universe amd64 Packages [861 kB]\n",
            "Get:16 https://cloud.r-project.org/bin/linux/ubuntu bionic-cran35/ Packages [93.1 kB]\n",
            "Get:17 http://archive.ubuntu.com/ubuntu bionic-backports InRelease [74.6 kB]\n",
            "Ign:18 https://developer.download.nvidia.com/compute/cuda/repos/ubuntu1804/x86_64  Packages\n",
            "Get:18 https://developer.download.nvidia.com/compute/cuda/repos/ubuntu1804/x86_64  Packages [151 kB]\n",
            "Get:19 https://developer.download.nvidia.com/compute/machine-learning/repos/ubuntu1804/x86_64  Packages [32.9 kB]\n",
            "Get:20 http://ppa.launchpad.net/marutter/c2d4u3.5/ubuntu bionic/main Sources [1,839 kB]\n",
            "Get:21 http://downloads.skewed.de/apt bionic/main amd64 Packages [1,054 B]\n",
            "Get:22 http://archive.ubuntu.com/ubuntu bionic-updates/universe amd64 Packages [1,397 kB]\n",
            "Get:23 http://archive.ubuntu.com/ubuntu bionic-updates/main amd64 Packages [1,254 kB]\n",
            "Get:24 http://ppa.launchpad.net/marutter/c2d4u3.5/ubuntu bionic/main amd64 Packages [887 kB]\n",
            "Fetched 7,755 kB in 3s (2,617 kB/s)\n",
            "Reading package lists... Done\n",
            "Reading package lists... Done\n",
            "Building dependency tree       \n",
            "Reading state information... Done\n",
            "The following package was automatically installed and is no longer required:\n",
            "  libnvidia-common-440\n",
            "Use 'apt autoremove' to remove it.\n",
            "The following additional packages will be installed:\n",
            "  fonts-lyx gir1.2-atk-1.0 gir1.2-freedesktop gir1.2-gdkpixbuf-2.0\n",
            "  gir1.2-gtk-3.0 gir1.2-pango-1.0 javascript-common libcairomm-1.0-1v5\n",
            "  libjs-jquery libjs-jquery-ui libpangoxft-1.0-0 libsigc++-2.0-0v5\n",
            "  python-backports.functools-lru-cache python-cairo python-cycler\n",
            "  python-dateutil python-gi python-gi-cairo python-gv python-matplotlib\n",
            "  python-matplotlib-data python-olefile python-pil python-pyparsing python-six\n",
            "  python-subprocess32 python-tz python3-decorator python3-olefile python3-pil\n",
            "  python3-scipy ttf-bitstream-vera\n",
            "Suggested packages:\n",
            "  apache2 | lighttpd | httpd libjs-jquery-ui-docs python-cycler-doc dvipng\n",
            "  ghostscript inkscape ipython python-cairocffi python-configobj\n",
            "  python-excelerator python-gobject python-matplotlib-doc python-nose\n",
            "  python-qt4 python-scipy python-sip python-tornado python-traits\n",
            "  python-wxgtk3.0 texlive-extra-utils texlive-latex-extra ttf-staypuft\n",
            "  python-pil-doc python-pil-dbg python-pyparsing-doc python3-pil-dbg\n",
            "  python-scipy-doc\n",
            "The following NEW packages will be installed:\n",
            "  fonts-lyx gir1.2-atk-1.0 gir1.2-freedesktop gir1.2-gdkpixbuf-2.0\n",
            "  gir1.2-gtk-3.0 gir1.2-pango-1.0 javascript-common libcairomm-1.0-1v5\n",
            "  libjs-jquery libjs-jquery-ui libpangoxft-1.0-0 libsigc++-2.0-0v5\n",
            "  python-backports.functools-lru-cache python-cairo python-cycler\n",
            "  python-dateutil python-gi python-gi-cairo python-gv python-matplotlib\n",
            "  python-matplotlib-data python-olefile python-pil python-pyparsing python-six\n",
            "  python-subprocess32 python-tz python3-decorator python3-graph-tool\n",
            "  python3-olefile python3-pil python3-scipy ttf-bitstream-vera\n",
            "0 upgraded, 33 newly installed, 0 to remove and 50 not upgraded.\n",
            "Need to get 58.5 MB of archives.\n",
            "After this operation, 360 MB of additional disk space will be used.\n",
            "Get:1 http://archive.ubuntu.com/ubuntu bionic-updates/universe amd64 fonts-lyx all 2.2.4-0ubuntu0.18.04.1 [155 kB]\n",
            "Get:2 http://downloads.skewed.de/apt bionic/main amd64 python3-graph-tool amd64 2.32 [38.8 MB]\n",
            "Get:3 http://archive.ubuntu.com/ubuntu bionic/main amd64 gir1.2-atk-1.0 amd64 2.28.1-1 [17.8 kB]\n",
            "Get:4 http://archive.ubuntu.com/ubuntu bionic/main amd64 gir1.2-freedesktop amd64 1.56.1-1 [9,080 B]\n",
            "Get:5 http://archive.ubuntu.com/ubuntu bionic/main amd64 gir1.2-gdkpixbuf-2.0 amd64 2.36.11-2 [7,748 B]\n",
            "Get:6 http://archive.ubuntu.com/ubuntu bionic-updates/main amd64 libpangoxft-1.0-0 amd64 1.40.14-1ubuntu0.1 [15.0 kB]\n",
            "Get:7 http://archive.ubuntu.com/ubuntu bionic-updates/main amd64 gir1.2-pango-1.0 amd64 1.40.14-1ubuntu0.1 [21.6 kB]\n",
            "Get:8 http://archive.ubuntu.com/ubuntu bionic-updates/main amd64 gir1.2-gtk-3.0 amd64 3.22.30-1ubuntu4 [194 kB]\n",
            "Get:9 http://archive.ubuntu.com/ubuntu bionic/main amd64 javascript-common all 11 [6,066 B]\n",
            "Get:10 http://archive.ubuntu.com/ubuntu bionic/main amd64 libsigc++-2.0-0v5 amd64 2.10.0-2 [10.9 kB]\n",
            "Get:11 http://archive.ubuntu.com/ubuntu bionic/main amd64 libcairomm-1.0-1v5 amd64 1.12.2-3 [37.1 kB]\n",
            "Get:12 http://archive.ubuntu.com/ubuntu bionic/main amd64 libjs-jquery all 3.2.1-1 [152 kB]\n",
            "Get:13 http://archive.ubuntu.com/ubuntu bionic/universe amd64 libjs-jquery-ui all 1.12.1+dfsg-5 [232 kB]\n",
            "Get:14 http://archive.ubuntu.com/ubuntu bionic/universe amd64 python-backports.functools-lru-cache all 1.4-2 [5,960 B]\n",
            "Get:15 http://archive.ubuntu.com/ubuntu bionic/main amd64 python-cairo amd64 1.16.2-1 [56.4 kB]\n",
            "Get:16 http://archive.ubuntu.com/ubuntu bionic/main amd64 python-six all 1.11.0-2 [11.3 kB]\n",
            "Get:17 http://archive.ubuntu.com/ubuntu bionic/universe amd64 python-cycler all 0.10.0-1 [7,520 B]\n",
            "Get:18 http://archive.ubuntu.com/ubuntu bionic/main amd64 python-dateutil all 2.6.1-1 [60.6 kB]\n",
            "Get:19 http://archive.ubuntu.com/ubuntu bionic-updates/main amd64 python-gi amd64 3.26.1-2ubuntu1 [197 kB]\n",
            "Get:20 http://archive.ubuntu.com/ubuntu bionic-updates/universe amd64 python-gi-cairo amd64 3.26.1-2ubuntu1 [6,632 B]\n",
            "Get:21 http://archive.ubuntu.com/ubuntu bionic/universe amd64 python-gv amd64 2.40.1-2 [32.3 kB]\n",
            "Get:22 http://archive.ubuntu.com/ubuntu bionic/universe amd64 ttf-bitstream-vera all 1.10-8 [352 kB]\n",
            "Get:23 http://archive.ubuntu.com/ubuntu bionic/universe amd64 python-matplotlib-data all 2.1.1-2ubuntu3 [3,774 kB]\n",
            "Get:24 http://archive.ubuntu.com/ubuntu bionic/main amd64 python-pyparsing all 2.2.0+dfsg1-2 [52.1 kB]\n",
            "Get:25 http://archive.ubuntu.com/ubuntu bionic/main amd64 python-tz all 2018.3-2 [31.6 kB]\n",
            "Get:26 http://archive.ubuntu.com/ubuntu bionic/universe amd64 python-subprocess32 amd64 3.2.7-3 [27.2 kB]\n",
            "Get:27 http://archive.ubuntu.com/ubuntu bionic/universe amd64 python-matplotlib amd64 2.1.1-2ubuntu3 [3,901 kB]\n",
            "Get:28 http://archive.ubuntu.com/ubuntu bionic/main amd64 python-olefile all 0.45.1-1 [33.2 kB]\n",
            "Get:29 http://archive.ubuntu.com/ubuntu bionic-updates/main amd64 python-pil amd64 5.1.0-1ubuntu0.2 [329 kB]\n",
            "Get:30 http://archive.ubuntu.com/ubuntu bionic/universe amd64 python3-decorator all 4.1.2-1 [9,364 B]\n",
            "Get:31 http://archive.ubuntu.com/ubuntu bionic/main amd64 python3-olefile all 0.45.1-1 [33.3 kB]\n",
            "Get:32 http://archive.ubuntu.com/ubuntu bionic-updates/main amd64 python3-pil amd64 5.1.0-1ubuntu0.2 [329 kB]\n",
            "Get:33 http://archive.ubuntu.com/ubuntu bionic/universe amd64 python3-scipy amd64 0.19.1-2ubuntu1 [9,619 kB]\n",
            "Fetched 58.5 MB in 3s (22.6 MB/s)\n",
            "Extracting templates from packages: 100%\n",
            "Selecting previously unselected package fonts-lyx.\n",
            "(Reading database ... 144328 files and directories currently installed.)\n",
            "Preparing to unpack .../00-fonts-lyx_2.2.4-0ubuntu0.18.04.1_all.deb ...\n",
            "Unpacking fonts-lyx (2.2.4-0ubuntu0.18.04.1) ...\n",
            "Selecting previously unselected package gir1.2-atk-1.0:amd64.\n",
            "Preparing to unpack .../01-gir1.2-atk-1.0_2.28.1-1_amd64.deb ...\n",
            "Unpacking gir1.2-atk-1.0:amd64 (2.28.1-1) ...\n",
            "Selecting previously unselected package gir1.2-freedesktop:amd64.\n",
            "Preparing to unpack .../02-gir1.2-freedesktop_1.56.1-1_amd64.deb ...\n",
            "Unpacking gir1.2-freedesktop:amd64 (1.56.1-1) ...\n",
            "Selecting previously unselected package gir1.2-gdkpixbuf-2.0:amd64.\n",
            "Preparing to unpack .../03-gir1.2-gdkpixbuf-2.0_2.36.11-2_amd64.deb ...\n",
            "Unpacking gir1.2-gdkpixbuf-2.0:amd64 (2.36.11-2) ...\n",
            "Selecting previously unselected package libpangoxft-1.0-0:amd64.\n",
            "Preparing to unpack .../04-libpangoxft-1.0-0_1.40.14-1ubuntu0.1_amd64.deb ...\n",
            "Unpacking libpangoxft-1.0-0:amd64 (1.40.14-1ubuntu0.1) ...\n",
            "Selecting previously unselected package gir1.2-pango-1.0:amd64.\n",
            "Preparing to unpack .../05-gir1.2-pango-1.0_1.40.14-1ubuntu0.1_amd64.deb ...\n",
            "Unpacking gir1.2-pango-1.0:amd64 (1.40.14-1ubuntu0.1) ...\n",
            "Selecting previously unselected package gir1.2-gtk-3.0:amd64.\n",
            "Preparing to unpack .../06-gir1.2-gtk-3.0_3.22.30-1ubuntu4_amd64.deb ...\n",
            "Unpacking gir1.2-gtk-3.0:amd64 (3.22.30-1ubuntu4) ...\n",
            "Selecting previously unselected package javascript-common.\n",
            "Preparing to unpack .../07-javascript-common_11_all.deb ...\n",
            "Unpacking javascript-common (11) ...\n",
            "Selecting previously unselected package libsigc++-2.0-0v5:amd64.\n",
            "Preparing to unpack .../08-libsigc++-2.0-0v5_2.10.0-2_amd64.deb ...\n",
            "Unpacking libsigc++-2.0-0v5:amd64 (2.10.0-2) ...\n",
            "Selecting previously unselected package libcairomm-1.0-1v5:amd64.\n",
            "Preparing to unpack .../09-libcairomm-1.0-1v5_1.12.2-3_amd64.deb ...\n",
            "Unpacking libcairomm-1.0-1v5:amd64 (1.12.2-3) ...\n",
            "Selecting previously unselected package libjs-jquery.\n",
            "Preparing to unpack .../10-libjs-jquery_3.2.1-1_all.deb ...\n",
            "Unpacking libjs-jquery (3.2.1-1) ...\n",
            "Selecting previously unselected package libjs-jquery-ui.\n",
            "Preparing to unpack .../11-libjs-jquery-ui_1.12.1+dfsg-5_all.deb ...\n",
            "Unpacking libjs-jquery-ui (1.12.1+dfsg-5) ...\n",
            "Selecting previously unselected package python-backports.functools-lru-cache.\n",
            "Preparing to unpack .../12-python-backports.functools-lru-cache_1.4-2_all.deb ...\n",
            "Unpacking python-backports.functools-lru-cache (1.4-2) ...\n",
            "Selecting previously unselected package python-cairo:amd64.\n",
            "Preparing to unpack .../13-python-cairo_1.16.2-1_amd64.deb ...\n",
            "Unpacking python-cairo:amd64 (1.16.2-1) ...\n",
            "Selecting previously unselected package python-six.\n",
            "Preparing to unpack .../14-python-six_1.11.0-2_all.deb ...\n",
            "Unpacking python-six (1.11.0-2) ...\n",
            "Selecting previously unselected package python-cycler.\n",
            "Preparing to unpack .../15-python-cycler_0.10.0-1_all.deb ...\n",
            "Unpacking python-cycler (0.10.0-1) ...\n",
            "Selecting previously unselected package python-dateutil.\n",
            "Preparing to unpack .../16-python-dateutil_2.6.1-1_all.deb ...\n",
            "Unpacking python-dateutil (2.6.1-1) ...\n",
            "Selecting previously unselected package python-gi.\n",
            "Preparing to unpack .../17-python-gi_3.26.1-2ubuntu1_amd64.deb ...\n",
            "Unpacking python-gi (3.26.1-2ubuntu1) ...\n",
            "Selecting previously unselected package python-gi-cairo.\n",
            "Preparing to unpack .../18-python-gi-cairo_3.26.1-2ubuntu1_amd64.deb ...\n",
            "Unpacking python-gi-cairo (3.26.1-2ubuntu1) ...\n",
            "Selecting previously unselected package python-gv.\n",
            "Preparing to unpack .../19-python-gv_2.40.1-2_amd64.deb ...\n",
            "Unpacking python-gv (2.40.1-2) ...\n",
            "Selecting previously unselected package ttf-bitstream-vera.\n",
            "Preparing to unpack .../20-ttf-bitstream-vera_1.10-8_all.deb ...\n",
            "Unpacking ttf-bitstream-vera (1.10-8) ...\n",
            "Selecting previously unselected package python-matplotlib-data.\n",
            "Preparing to unpack .../21-python-matplotlib-data_2.1.1-2ubuntu3_all.deb ...\n",
            "Unpacking python-matplotlib-data (2.1.1-2ubuntu3) ...\n",
            "Selecting previously unselected package python-pyparsing.\n",
            "Preparing to unpack .../22-python-pyparsing_2.2.0+dfsg1-2_all.deb ...\n",
            "Unpacking python-pyparsing (2.2.0+dfsg1-2) ...\n",
            "Selecting previously unselected package python-tz.\n",
            "Preparing to unpack .../23-python-tz_2018.3-2_all.deb ...\n",
            "Unpacking python-tz (2018.3-2) ...\n",
            "Selecting previously unselected package python-subprocess32.\n",
            "Preparing to unpack .../24-python-subprocess32_3.2.7-3_amd64.deb ...\n",
            "Unpacking python-subprocess32 (3.2.7-3) ...\n",
            "Selecting previously unselected package python-matplotlib.\n",
            "Preparing to unpack .../25-python-matplotlib_2.1.1-2ubuntu3_amd64.deb ...\n",
            "Unpacking python-matplotlib (2.1.1-2ubuntu3) ...\n",
            "Selecting previously unselected package python-olefile.\n",
            "Preparing to unpack .../26-python-olefile_0.45.1-1_all.deb ...\n",
            "Unpacking python-olefile (0.45.1-1) ...\n",
            "Selecting previously unselected package python-pil:amd64.\n",
            "Preparing to unpack .../27-python-pil_5.1.0-1ubuntu0.2_amd64.deb ...\n",
            "Unpacking python-pil:amd64 (5.1.0-1ubuntu0.2) ...\n",
            "Selecting previously unselected package python3-decorator.\n",
            "Preparing to unpack .../28-python3-decorator_4.1.2-1_all.deb ...\n",
            "Unpacking python3-decorator (4.1.2-1) ...\n",
            "Selecting previously unselected package python3-olefile.\n",
            "Preparing to unpack .../29-python3-olefile_0.45.1-1_all.deb ...\n",
            "Unpacking python3-olefile (0.45.1-1) ...\n",
            "Selecting previously unselected package python3-pil:amd64.\n",
            "Preparing to unpack .../30-python3-pil_5.1.0-1ubuntu0.2_amd64.deb ...\n",
            "Unpacking python3-pil:amd64 (5.1.0-1ubuntu0.2) ...\n",
            "Selecting previously unselected package python3-scipy.\n",
            "Preparing to unpack .../31-python3-scipy_0.19.1-2ubuntu1_amd64.deb ...\n",
            "Unpacking python3-scipy (0.19.1-2ubuntu1) ...\n",
            "Selecting previously unselected package python3-graph-tool.\n",
            "Preparing to unpack .../32-python3-graph-tool_2.32_amd64.deb ...\n",
            "Unpacking python3-graph-tool (2.32) ...\n",
            "Setting up libjs-jquery (3.2.1-1) ...\n",
            "Setting up gir1.2-atk-1.0:amd64 (2.28.1-1) ...\n",
            "Setting up python3-pil:amd64 (5.1.0-1ubuntu0.2) ...\n",
            "Setting up python3-olefile (0.45.1-1) ...\n",
            "Setting up python-backports.functools-lru-cache (1.4-2) ...\n",
            "Setting up gir1.2-freedesktop:amd64 (1.56.1-1) ...\n",
            "Setting up libpangoxft-1.0-0:amd64 (1.40.14-1ubuntu0.1) ...\n",
            "Setting up python-tz (2018.3-2) ...\n",
            "Setting up gir1.2-gdkpixbuf-2.0:amd64 (2.36.11-2) ...\n",
            "Setting up gir1.2-pango-1.0:amd64 (1.40.14-1ubuntu0.1) ...\n",
            "Setting up python-gi (3.26.1-2ubuntu1) ...\n",
            "Setting up python-six (1.11.0-2) ...\n",
            "Setting up python-gv (2.40.1-2) ...\n",
            "Setting up libjs-jquery-ui (1.12.1+dfsg-5) ...\n",
            "Setting up python-cairo:amd64 (1.16.2-1) ...\n",
            "Setting up python-olefile (0.45.1-1) ...\n",
            "Setting up ttf-bitstream-vera (1.10-8) ...\n",
            "Setting up javascript-common (11) ...\n",
            "Setting up python-subprocess32 (3.2.7-3) ...\n",
            "Setting up python3-decorator (4.1.2-1) ...\n",
            "Setting up python-pil:amd64 (5.1.0-1ubuntu0.2) ...\n",
            "Setting up libsigc++-2.0-0v5:amd64 (2.10.0-2) ...\n",
            "Setting up fonts-lyx (2.2.4-0ubuntu0.18.04.1) ...\n",
            "Setting up python-pyparsing (2.2.0+dfsg1-2) ...\n",
            "Setting up python-gi-cairo (3.26.1-2ubuntu1) ...\n",
            "Setting up libcairomm-1.0-1v5:amd64 (1.12.2-3) ...\n",
            "Setting up python3-scipy (0.19.1-2ubuntu1) ...\n",
            "Setting up gir1.2-gtk-3.0:amd64 (3.22.30-1ubuntu4) ...\n",
            "Setting up python-matplotlib-data (2.1.1-2ubuntu3) ...\n",
            "Setting up python3-graph-tool (2.32) ...\n",
            "Setting up python-cycler (0.10.0-1) ...\n",
            "Setting up python-dateutil (2.6.1-1) ...\n",
            "Setting up python-matplotlib (2.1.1-2ubuntu3) ...\n",
            "Processing triggers for fontconfig (2.12.6-0ubuntu2) ...\n",
            "Processing triggers for libc-bin (2.27-3ubuntu1) ...\n",
            "/sbin/ldconfig.real: /usr/local/lib/python3.6/dist-packages/ideep4py/lib/libmkldnn.so.0 is not a symbolic link\n",
            "\n"
          ],
          "name": "stdout"
        }
      ]
    },
    {
      "cell_type": "code",
      "metadata": {
        "id": "TUiCCUZq2NYg",
        "colab_type": "code",
        "colab": {}
      },
      "source": [
        "os.chdir('/content/drive/My Drive/phd/datasets/gtex/10')"
      ],
      "execution_count": null,
      "outputs": []
    },
    {
      "cell_type": "markdown",
      "metadata": {
        "id": "Rpy9eQ2WLFN1",
        "colab_type": "text"
      },
      "source": [
        "# Download data or get the data"
      ]
    },
    {
      "cell_type": "markdown",
      "metadata": {
        "id": "yqSD5nuQx6tW",
        "colab_type": "text"
      },
      "source": [
        "## Use already downloaded (example from TCGA) data"
      ]
    },
    {
      "cell_type": "code",
      "metadata": {
        "id": "pTTrYG9EEHR8",
        "colab_type": "code",
        "colab": {}
      },
      "source": [
        "df = pd.read_csv(\"mainTable_all.csv\", index_col=0)\n",
        "df.index = [g[:15] for g in df.index]\n",
        "df.drop_duplicates(subset=df.index.name, ignore_index=False, inplace=True)\n",
        "df_files = pd.read_csv(\"files.dat\",index_col=0)\n",
        "df_files = df_files[df_files.index.isin(df.columns)]\n",
        "print(df.shape)"
      ],
      "execution_count": null,
      "outputs": []
    },
    {
      "cell_type": "markdown",
      "metadata": {
        "id": "NsGeIge5xzID",
        "colab_type": "text"
      },
      "source": [
        "## Import from GTEx\n",
        "\n",
        "This need to download a big dataset, may require time"
      ]
    },
    {
      "cell_type": "code",
      "metadata": {
        "id": "DA7nomq8tFTN",
        "colab_type": "code",
        "colab": {
          "base_uri": "https://localhost:8080/",
          "height": 765
        },
        "outputId": "230a3e58-0e93-45d1-9cdd-93b72bf7dd51"
      },
      "source": [
        "df = pd.read_csv('https://storage.googleapis.com/gtex_analysis_v8/rna_seq_data/GTEx_Analysis_2017-06-05_v8_RNASeQCv1.1.9_gene_tpm.gct.gz', skiprows=2, sep='\\t', index_col=0)\n",
        "df.index=[g[:15] for g in df.index]\n",
        "df=df[df.index.isin(pd.read_csv(\"http://stephenslab.github.io/count-clustering/project/utilities/gene_names_all_gtex.txt\", header=None).values.ravel())]\n",
        "df_files=pd.read_csv(\"https://storage.googleapis.com/gtex_analysis_v8/annotations/GTEx_Analysis_v8_Annotations_SampleAttributesDS.txt\", sep='\\t', index_col=0)\n",
        "df_files = df_files[df_files.index.isin(df.columns)]\n",
        "df_files.head()"
      ],
      "execution_count": null,
      "outputs": [
        {
          "output_type": "execute_result",
          "data": {
            "text/html": [
              "<div>\n",
              "<style scoped>\n",
              "    .dataframe tbody tr th:only-of-type {\n",
              "        vertical-align: middle;\n",
              "    }\n",
              "\n",
              "    .dataframe tbody tr th {\n",
              "        vertical-align: top;\n",
              "    }\n",
              "\n",
              "    .dataframe thead th {\n",
              "        text-align: right;\n",
              "    }\n",
              "</style>\n",
              "<table border=\"1\" class=\"dataframe\">\n",
              "  <thead>\n",
              "    <tr style=\"text-align: right;\">\n",
              "      <th></th>\n",
              "      <th>SMATSSCR</th>\n",
              "      <th>SMCENTER</th>\n",
              "      <th>SMPTHNTS</th>\n",
              "      <th>SMRIN</th>\n",
              "      <th>SMTS</th>\n",
              "      <th>SMTSD</th>\n",
              "      <th>SMUBRID</th>\n",
              "      <th>SMTSISCH</th>\n",
              "      <th>SMTSPAX</th>\n",
              "      <th>SMNABTCH</th>\n",
              "      <th>SMNABTCHT</th>\n",
              "      <th>SMNABTCHD</th>\n",
              "      <th>SMGEBTCH</th>\n",
              "      <th>SMGEBTCHD</th>\n",
              "      <th>SMGEBTCHT</th>\n",
              "      <th>SMAFRZE</th>\n",
              "      <th>SMGTC</th>\n",
              "      <th>SME2MPRT</th>\n",
              "      <th>SMCHMPRS</th>\n",
              "      <th>SMNTRART</th>\n",
              "      <th>SMNUMGPS</th>\n",
              "      <th>SMMAPRT</th>\n",
              "      <th>SMEXNCRT</th>\n",
              "      <th>SM550NRM</th>\n",
              "      <th>SMGNSDTC</th>\n",
              "      <th>SMUNMPRT</th>\n",
              "      <th>SM350NRM</th>\n",
              "      <th>SMRDLGTH</th>\n",
              "      <th>SMMNCPB</th>\n",
              "      <th>SME1MMRT</th>\n",
              "      <th>SMSFLGTH</th>\n",
              "      <th>SMESTLBS</th>\n",
              "      <th>SMMPPD</th>\n",
              "      <th>SMNTERRT</th>\n",
              "      <th>SMRRNANM</th>\n",
              "      <th>SMRDTTL</th>\n",
              "      <th>SMVQCFL</th>\n",
              "      <th>SMMNCV</th>\n",
              "      <th>SMTRSCPT</th>\n",
              "      <th>SMMPPDPR</th>\n",
              "      <th>SMCGLGTH</th>\n",
              "      <th>SMGAPPCT</th>\n",
              "      <th>SMUNPDRD</th>\n",
              "      <th>SMNTRNRT</th>\n",
              "      <th>SMMPUNRT</th>\n",
              "      <th>SMEXPEFF</th>\n",
              "      <th>SMMPPDUN</th>\n",
              "      <th>SME2MMRT</th>\n",
              "      <th>SME2ANTI</th>\n",
              "      <th>SMALTALG</th>\n",
              "      <th>SME2SNSE</th>\n",
              "      <th>SMMFLGTH</th>\n",
              "      <th>SME1ANTI</th>\n",
              "      <th>SMSPLTRD</th>\n",
              "      <th>SMBSMMRT</th>\n",
              "      <th>SME1SNSE</th>\n",
              "      <th>SME1PCTS</th>\n",
              "      <th>SMRRNART</th>\n",
              "      <th>SME1MPRT</th>\n",
              "      <th>SMNUM5CD</th>\n",
              "      <th>SMDPMPRT</th>\n",
              "      <th>SME2PCTS</th>\n",
              "    </tr>\n",
              "    <tr>\n",
              "      <th>SAMPID</th>\n",
              "      <th></th>\n",
              "      <th></th>\n",
              "      <th></th>\n",
              "      <th></th>\n",
              "      <th></th>\n",
              "      <th></th>\n",
              "      <th></th>\n",
              "      <th></th>\n",
              "      <th></th>\n",
              "      <th></th>\n",
              "      <th></th>\n",
              "      <th></th>\n",
              "      <th></th>\n",
              "      <th></th>\n",
              "      <th></th>\n",
              "      <th></th>\n",
              "      <th></th>\n",
              "      <th></th>\n",
              "      <th></th>\n",
              "      <th></th>\n",
              "      <th></th>\n",
              "      <th></th>\n",
              "      <th></th>\n",
              "      <th></th>\n",
              "      <th></th>\n",
              "      <th></th>\n",
              "      <th></th>\n",
              "      <th></th>\n",
              "      <th></th>\n",
              "      <th></th>\n",
              "      <th></th>\n",
              "      <th></th>\n",
              "      <th></th>\n",
              "      <th></th>\n",
              "      <th></th>\n",
              "      <th></th>\n",
              "      <th></th>\n",
              "      <th></th>\n",
              "      <th></th>\n",
              "      <th></th>\n",
              "      <th></th>\n",
              "      <th></th>\n",
              "      <th></th>\n",
              "      <th></th>\n",
              "      <th></th>\n",
              "      <th></th>\n",
              "      <th></th>\n",
              "      <th></th>\n",
              "      <th></th>\n",
              "      <th></th>\n",
              "      <th></th>\n",
              "      <th></th>\n",
              "      <th></th>\n",
              "      <th></th>\n",
              "      <th></th>\n",
              "      <th></th>\n",
              "      <th></th>\n",
              "      <th></th>\n",
              "      <th></th>\n",
              "      <th></th>\n",
              "      <th></th>\n",
              "      <th></th>\n",
              "    </tr>\n",
              "  </thead>\n",
              "  <tbody>\n",
              "    <tr>\n",
              "      <th>GTEX-1117F-0226-SM-5GZZ7</th>\n",
              "      <td>0.0</td>\n",
              "      <td>B1</td>\n",
              "      <td>2 pieces, ~15% vessel stroma, rep delineated</td>\n",
              "      <td>6.8</td>\n",
              "      <td>Adipose Tissue</td>\n",
              "      <td>Adipose - Subcutaneous</td>\n",
              "      <td>0002190</td>\n",
              "      <td>1214.0</td>\n",
              "      <td>1125.0</td>\n",
              "      <td>BP-43693</td>\n",
              "      <td>RNA Extraction from Paxgene-derived Lysate Pla...</td>\n",
              "      <td>09/17/2013</td>\n",
              "      <td>LCSET-4804</td>\n",
              "      <td>03/05/2014</td>\n",
              "      <td>TruSeq.v1</td>\n",
              "      <td>RNASEQ</td>\n",
              "      <td>NaN</td>\n",
              "      <td>0.986026</td>\n",
              "      <td>345562.0</td>\n",
              "      <td>0.966793</td>\n",
              "      <td>NaN</td>\n",
              "      <td>0.990383</td>\n",
              "      <td>0.756726</td>\n",
              "      <td>NaN</td>\n",
              "      <td>23548.0</td>\n",
              "      <td>1.0</td>\n",
              "      <td>NaN</td>\n",
              "      <td>76.0</td>\n",
              "      <td>NaN</td>\n",
              "      <td>0.002403</td>\n",
              "      <td>136.0</td>\n",
              "      <td>0.0</td>\n",
              "      <td>66833200.0</td>\n",
              "      <td>0.032919</td>\n",
              "      <td>209558.0</td>\n",
              "      <td>67482200.0</td>\n",
              "      <td>8797660.0</td>\n",
              "      <td>NaN</td>\n",
              "      <td>23575.0</td>\n",
              "      <td>33158000.0</td>\n",
              "      <td>NaN</td>\n",
              "      <td>NaN</td>\n",
              "      <td>0.0</td>\n",
              "      <td>0.210067</td>\n",
              "      <td>0.990383</td>\n",
              "      <td>0.749449</td>\n",
              "      <td>66833200.0</td>\n",
              "      <td>0.003919</td>\n",
              "      <td>14462700.0</td>\n",
              "      <td>8914900.0</td>\n",
              "      <td>14575600.0</td>\n",
              "      <td>144.0</td>\n",
              "      <td>14648800.0</td>\n",
              "      <td>11999300.0</td>\n",
              "      <td>0.003158</td>\n",
              "      <td>14669500.0</td>\n",
              "      <td>50.0354</td>\n",
              "      <td>0.003105</td>\n",
              "      <td>0.994740</td>\n",
              "      <td>NaN</td>\n",
              "      <td>0.0</td>\n",
              "      <td>50.1944</td>\n",
              "    </tr>\n",
              "    <tr>\n",
              "      <th>GTEX-1117F-0426-SM-5EGHI</th>\n",
              "      <td>0.0</td>\n",
              "      <td>B1</td>\n",
              "      <td>2 pieces, !5% fibrous connective tissue, delin...</td>\n",
              "      <td>7.1</td>\n",
              "      <td>Muscle</td>\n",
              "      <td>Muscle - Skeletal</td>\n",
              "      <td>0011907</td>\n",
              "      <td>1220.0</td>\n",
              "      <td>1119.0</td>\n",
              "      <td>BP-43495</td>\n",
              "      <td>RNA Extraction from Paxgene-derived Lysate Pla...</td>\n",
              "      <td>09/12/2013</td>\n",
              "      <td>LCSET-4764</td>\n",
              "      <td>02/09/2014</td>\n",
              "      <td>TruSeq.v1</td>\n",
              "      <td>RNASEQ</td>\n",
              "      <td>NaN</td>\n",
              "      <td>0.985786</td>\n",
              "      <td>145441.0</td>\n",
              "      <td>0.978816</td>\n",
              "      <td>NaN</td>\n",
              "      <td>0.990413</td>\n",
              "      <td>0.838961</td>\n",
              "      <td>NaN</td>\n",
              "      <td>20246.0</td>\n",
              "      <td>1.0</td>\n",
              "      <td>NaN</td>\n",
              "      <td>76.0</td>\n",
              "      <td>NaN</td>\n",
              "      <td>0.002413</td>\n",
              "      <td>137.0</td>\n",
              "      <td>0.0</td>\n",
              "      <td>59963600.0</td>\n",
              "      <td>0.020952</td>\n",
              "      <td>423484.0</td>\n",
              "      <td>60544100.0</td>\n",
              "      <td>9601460.0</td>\n",
              "      <td>NaN</td>\n",
              "      <td>20259.0</td>\n",
              "      <td>29785800.0</td>\n",
              "      <td>NaN</td>\n",
              "      <td>NaN</td>\n",
              "      <td>0.0</td>\n",
              "      <td>0.139855</td>\n",
              "      <td>0.990413</td>\n",
              "      <td>0.830918</td>\n",
              "      <td>59963600.0</td>\n",
              "      <td>0.005538</td>\n",
              "      <td>13154500.0</td>\n",
              "      <td>8383440.0</td>\n",
              "      <td>13125800.0</td>\n",
              "      <td>139.0</td>\n",
              "      <td>13191500.0</td>\n",
              "      <td>11550200.0</td>\n",
              "      <td>0.003968</td>\n",
              "      <td>13340500.0</td>\n",
              "      <td>50.2809</td>\n",
              "      <td>0.006995</td>\n",
              "      <td>0.995041</td>\n",
              "      <td>NaN</td>\n",
              "      <td>0.0</td>\n",
              "      <td>49.9455</td>\n",
              "    </tr>\n",
              "    <tr>\n",
              "      <th>GTEX-1117F-0526-SM-5EGHJ</th>\n",
              "      <td>0.0</td>\n",
              "      <td>B1</td>\n",
              "      <td>2 pieces, clean, Monckebeg medial sclerosis, r...</td>\n",
              "      <td>8.0</td>\n",
              "      <td>Blood Vessel</td>\n",
              "      <td>Artery - Tibial</td>\n",
              "      <td>0007610</td>\n",
              "      <td>1221.0</td>\n",
              "      <td>1120.0</td>\n",
              "      <td>BP-43495</td>\n",
              "      <td>RNA Extraction from Paxgene-derived Lysate Pla...</td>\n",
              "      <td>09/12/2013</td>\n",
              "      <td>LCSET-4764</td>\n",
              "      <td>02/09/2014</td>\n",
              "      <td>TruSeq.v1</td>\n",
              "      <td>RNASEQ</td>\n",
              "      <td>NaN</td>\n",
              "      <td>0.983859</td>\n",
              "      <td>223040.0</td>\n",
              "      <td>0.971360</td>\n",
              "      <td>NaN</td>\n",
              "      <td>0.988930</td>\n",
              "      <td>0.767837</td>\n",
              "      <td>NaN</td>\n",
              "      <td>22193.0</td>\n",
              "      <td>1.0</td>\n",
              "      <td>NaN</td>\n",
              "      <td>76.0</td>\n",
              "      <td>NaN</td>\n",
              "      <td>0.002631</td>\n",
              "      <td>126.0</td>\n",
              "      <td>0.0</td>\n",
              "      <td>59839400.0</td>\n",
              "      <td>0.028310</td>\n",
              "      <td>173556.0</td>\n",
              "      <td>60509200.0</td>\n",
              "      <td>9407590.0</td>\n",
              "      <td>NaN</td>\n",
              "      <td>22218.0</td>\n",
              "      <td>29681000.0</td>\n",
              "      <td>NaN</td>\n",
              "      <td>NaN</td>\n",
              "      <td>0.0</td>\n",
              "      <td>0.203524</td>\n",
              "      <td>0.988930</td>\n",
              "      <td>0.759337</td>\n",
              "      <td>59839400.0</td>\n",
              "      <td>0.005929</td>\n",
              "      <td>12951200.0</td>\n",
              "      <td>6139790.0</td>\n",
              "      <td>13090100.0</td>\n",
              "      <td>125.0</td>\n",
              "      <td>13175400.0</td>\n",
              "      <td>11000300.0</td>\n",
              "      <td>0.004271</td>\n",
              "      <td>13150900.0</td>\n",
              "      <td>49.9535</td>\n",
              "      <td>0.002868</td>\n",
              "      <td>0.994001</td>\n",
              "      <td>NaN</td>\n",
              "      <td>0.0</td>\n",
              "      <td>50.2667</td>\n",
              "    </tr>\n",
              "    <tr>\n",
              "      <th>GTEX-1117F-0626-SM-5N9CS</th>\n",
              "      <td>1.0</td>\n",
              "      <td>B1</td>\n",
              "      <td>2 pieces, up to 4mm aderent fat/nerve/vessel, ...</td>\n",
              "      <td>6.9</td>\n",
              "      <td>Blood Vessel</td>\n",
              "      <td>Artery - Coronary</td>\n",
              "      <td>0001621</td>\n",
              "      <td>1243.0</td>\n",
              "      <td>1098.0</td>\n",
              "      <td>BP-43956</td>\n",
              "      <td>RNA Extraction from Paxgene-derived Lysate Pla...</td>\n",
              "      <td>09/25/2013</td>\n",
              "      <td>LCSET-4904</td>\n",
              "      <td>03/22/2014</td>\n",
              "      <td>TruSeq.v1</td>\n",
              "      <td>RNASEQ</td>\n",
              "      <td>NaN</td>\n",
              "      <td>0.990294</td>\n",
              "      <td>174501.0</td>\n",
              "      <td>0.970076</td>\n",
              "      <td>NaN</td>\n",
              "      <td>0.991275</td>\n",
              "      <td>0.769820</td>\n",
              "      <td>NaN</td>\n",
              "      <td>23331.0</td>\n",
              "      <td>1.0</td>\n",
              "      <td>NaN</td>\n",
              "      <td>76.0</td>\n",
              "      <td>NaN</td>\n",
              "      <td>0.003053</td>\n",
              "      <td>136.0</td>\n",
              "      <td>0.0</td>\n",
              "      <td>69859200.0</td>\n",
              "      <td>0.029643</td>\n",
              "      <td>376087.0</td>\n",
              "      <td>70474000.0</td>\n",
              "      <td>3633120.0</td>\n",
              "      <td>NaN</td>\n",
              "      <td>23354.0</td>\n",
              "      <td>34766500.0</td>\n",
              "      <td>NaN</td>\n",
              "      <td>NaN</td>\n",
              "      <td>0.0</td>\n",
              "      <td>0.200257</td>\n",
              "      <td>0.991275</td>\n",
              "      <td>0.763103</td>\n",
              "      <td>69859200.0</td>\n",
              "      <td>0.003671</td>\n",
              "      <td>15167600.0</td>\n",
              "      <td>6124860.0</td>\n",
              "      <td>15220100.0</td>\n",
              "      <td>151.0</td>\n",
              "      <td>15164200.0</td>\n",
              "      <td>11617900.0</td>\n",
              "      <td>0.003362</td>\n",
              "      <td>15291900.0</td>\n",
              "      <td>50.2096</td>\n",
              "      <td>0.005337</td>\n",
              "      <td>0.992257</td>\n",
              "      <td>NaN</td>\n",
              "      <td>0.0</td>\n",
              "      <td>50.0865</td>\n",
              "    </tr>\n",
              "    <tr>\n",
              "      <th>GTEX-1117F-0726-SM-5GIEN</th>\n",
              "      <td>1.0</td>\n",
              "      <td>B1</td>\n",
              "      <td>2 pieces, no abnormalities</td>\n",
              "      <td>6.3</td>\n",
              "      <td>Heart</td>\n",
              "      <td>Heart - Atrial Appendage</td>\n",
              "      <td>0006631</td>\n",
              "      <td>1244.0</td>\n",
              "      <td>1097.0</td>\n",
              "      <td>BP-44261</td>\n",
              "      <td>RNA Extraction from Paxgene-derived Lysate Pla...</td>\n",
              "      <td>10/03/2013</td>\n",
              "      <td>LCSET-4796</td>\n",
              "      <td>02/27/2014</td>\n",
              "      <td>TruSeq.v1</td>\n",
              "      <td>RNASEQ</td>\n",
              "      <td>NaN</td>\n",
              "      <td>0.990734</td>\n",
              "      <td>184394.0</td>\n",
              "      <td>0.978830</td>\n",
              "      <td>NaN</td>\n",
              "      <td>0.993223</td>\n",
              "      <td>0.803478</td>\n",
              "      <td>NaN</td>\n",
              "      <td>22000.0</td>\n",
              "      <td>1.0</td>\n",
              "      <td>NaN</td>\n",
              "      <td>76.0</td>\n",
              "      <td>NaN</td>\n",
              "      <td>0.003114</td>\n",
              "      <td>131.0</td>\n",
              "      <td>0.0</td>\n",
              "      <td>62885700.0</td>\n",
              "      <td>0.020891</td>\n",
              "      <td>1936430.0</td>\n",
              "      <td>63314800.0</td>\n",
              "      <td>8252970.0</td>\n",
              "      <td>NaN</td>\n",
              "      <td>22015.0</td>\n",
              "      <td>31291500.0</td>\n",
              "      <td>NaN</td>\n",
              "      <td>NaN</td>\n",
              "      <td>0.0</td>\n",
              "      <td>0.175352</td>\n",
              "      <td>0.993223</td>\n",
              "      <td>0.798033</td>\n",
              "      <td>62885700.0</td>\n",
              "      <td>0.003772</td>\n",
              "      <td>13636600.0</td>\n",
              "      <td>9075650.0</td>\n",
              "      <td>13612800.0</td>\n",
              "      <td>146.0</td>\n",
              "      <td>13627100.0</td>\n",
              "      <td>9266070.0</td>\n",
              "      <td>0.003442</td>\n",
              "      <td>13756700.0</td>\n",
              "      <td>50.2367</td>\n",
              "      <td>0.030584</td>\n",
              "      <td>0.995711</td>\n",
              "      <td>NaN</td>\n",
              "      <td>0.0</td>\n",
              "      <td>49.9563</td>\n",
              "    </tr>\n",
              "  </tbody>\n",
              "</table>\n",
              "</div>"
            ],
            "text/plain": [
              "                          SMATSSCR SMCENTER  ... SMDPMPRT  SME2PCTS\n",
              "SAMPID                                       ...                   \n",
              "GTEX-1117F-0226-SM-5GZZ7       0.0       B1  ...      0.0   50.1944\n",
              "GTEX-1117F-0426-SM-5EGHI       0.0       B1  ...      0.0   49.9455\n",
              "GTEX-1117F-0526-SM-5EGHJ       0.0       B1  ...      0.0   50.2667\n",
              "GTEX-1117F-0626-SM-5N9CS       1.0       B1  ...      0.0   50.0865\n",
              "GTEX-1117F-0726-SM-5GIEN       1.0       B1  ...      0.0   49.9563\n",
              "\n",
              "[5 rows x 62 columns]"
            ]
          },
          "metadata": {
            "tags": []
          },
          "execution_count": 4
        }
      ]
    },
    {
      "cell_type": "code",
      "metadata": {
        "id": "FGZXp-gSn22T",
        "colab_type": "code",
        "colab": {}
      },
      "source": [
        "df_files.to_csv(\"files.dat\")"
      ],
      "execution_count": null,
      "outputs": []
    },
    {
      "cell_type": "code",
      "metadata": {
        "id": "nRdqQNR8tLbI",
        "colab_type": "code",
        "colab": {
          "base_uri": "https://localhost:8080/",
          "height": 153
        },
        "outputId": "09f06f9e-c547-4ef1-b903-67bf3d8db81e"
      },
      "source": [
        "df = df[df.columns[df.columns.isin(df_files.index)]]\n",
        "df.head(2)"
      ],
      "execution_count": null,
      "outputs": [
        {
          "output_type": "stream",
          "text": [
            "                 GTEX-1117F-0226-SM-5GZZ7  ...  GTEX-ZZPU-2726-SM-5NQ8O\n",
            "ENSG00000227232                    8.7640  ...                   2.1670\n",
            "ENSG00000238009                    0.0000  ...                   0.0212\n",
            "ENSG00000268903                    3.2150  ...                   6.2960\n",
            "ENSG00000269981                    7.0120  ...                  12.5900\n",
            "ENSG00000228463                    0.7821  ...                   2.7890\n",
            "\n",
            "[5 rows x 17382 columns]\n"
          ],
          "name": "stdout"
        }
      ]
    },
    {
      "cell_type": "markdown",
      "metadata": {
        "id": "i8M1VZiryCwS",
        "colab_type": "text"
      },
      "source": [
        "### Sample columns\n",
        "We pick some samples at random. We get $100$ samples from 10 most represented tissues"
      ]
    },
    {
      "cell_type": "code",
      "metadata": {
        "id": "-tsIh9S9LFN7",
        "colab_type": "code",
        "colab": {}
      },
      "source": [
        "rs = np.random.RandomState(seed=314)\n",
        "samples = pd.DataFrame(columns=df_files.columns)\n",
        "for site in df_files.groupby('SMTS').count().sort_values('SMTSD',ascending=False).index[:10]:\n",
        "  samples = samples.append(df_files[df_files['SMTS']==site].sample(100, random_state=rs))"
      ],
      "execution_count": null,
      "outputs": []
    },
    {
      "cell_type": "code",
      "metadata": {
        "id": "m2WtMRH5LFN_",
        "colab_type": "code",
        "colab": {
          "base_uri": "https://localhost:8080/",
          "height": 183
        },
        "outputId": "b4fe6ded-f767-4f1e-f4a5-ec739818450f"
      },
      "source": [
        "# chack and verify the sampling process\n",
        "samples.groupby('SMTS').count().sort_values('SMTSD',ascending=False)"
      ],
      "execution_count": 4,
      "outputs": [
        {
          "output_type": "error",
          "ename": "NameError",
          "evalue": "ignored",
          "traceback": [
            "\u001b[0;31m---------------------------------------------------------------------------\u001b[0m",
            "\u001b[0;31mNameError\u001b[0m                                 Traceback (most recent call last)",
            "\u001b[0;32m<ipython-input-4-4535a8b5fd90>\u001b[0m in \u001b[0;36m<module>\u001b[0;34m()\u001b[0m\n\u001b[1;32m      1\u001b[0m \u001b[0;31m# chack and verify the sampling process\u001b[0m\u001b[0;34m\u001b[0m\u001b[0;34m\u001b[0m\u001b[0;34m\u001b[0m\u001b[0m\n\u001b[0;32m----> 2\u001b[0;31m \u001b[0msamples\u001b[0m\u001b[0;34m.\u001b[0m\u001b[0mgroupby\u001b[0m\u001b[0;34m(\u001b[0m\u001b[0;34m'SMTS'\u001b[0m\u001b[0;34m)\u001b[0m\u001b[0;34m.\u001b[0m\u001b[0mcount\u001b[0m\u001b[0;34m(\u001b[0m\u001b[0;34m)\u001b[0m\u001b[0;34m.\u001b[0m\u001b[0msort_values\u001b[0m\u001b[0;34m(\u001b[0m\u001b[0;34m'SMTSD'\u001b[0m\u001b[0;34m,\u001b[0m\u001b[0mascending\u001b[0m\u001b[0;34m=\u001b[0m\u001b[0;32mFalse\u001b[0m\u001b[0;34m)\u001b[0m\u001b[0;34m\u001b[0m\u001b[0;34m\u001b[0m\u001b[0m\n\u001b[0m",
            "\u001b[0;31mNameError\u001b[0m: name 'samples' is not defined"
          ]
        }
      ]
    },
    {
      "cell_type": "code",
      "metadata": {
        "id": "FYOnZVbZL2ZC",
        "colab_type": "code",
        "colab": {}
      },
      "source": [
        "df[samples.index].to_csv(\"mainTable_tpm_all_seed314.csv\")"
      ],
      "execution_count": null,
      "outputs": []
    },
    {
      "cell_type": "code",
      "metadata": {
        "id": "cSKLkFcaER9P",
        "colab_type": "code",
        "colab": {}
      },
      "source": [
        "df_files.to_csv(\"files.dat\")"
      ],
      "execution_count": null,
      "outputs": []
    },
    {
      "cell_type": "markdown",
      "metadata": {
        "id": "dAmO1tHQLFOE",
        "colab_type": "text"
      },
      "source": [
        "# Select Highly Variable Genes\n",
        "\n",
        "We use scanpy to select hvg"
      ]
    },
    {
      "cell_type": "code",
      "metadata": {
        "id": "Uc32xZSlPCkc",
        "colab_type": "code",
        "colab": {
          "base_uri": "https://localhost:8080/",
          "height": 34
        },
        "outputId": "6c6c9274-3ca4-42c3-8ebe-ae4b939a36b3"
      },
      "source": [
        "samples = samples\n",
        "genes = df.index\n",
        "print(len(samples), len(genes))"
      ],
      "execution_count": null,
      "outputs": [
        {
          "output_type": "stream",
          "text": [
            "1000 15177\n"
          ],
          "name": "stdout"
        }
      ]
    },
    {
      "cell_type": "code",
      "metadata": {
        "id": "jVjvDFzBLFOF",
        "colab_type": "code",
        "colab": {}
      },
      "source": [
        "adata = sc.AnnData(X=df.reindex(index=genes, columns=samples.index).transpose(), obs=samples)"
      ],
      "execution_count": null,
      "outputs": []
    },
    {
      "cell_type": "code",
      "metadata": {
        "id": "R7wsXyxZLFOJ",
        "colab_type": "code",
        "colab": {}
      },
      "source": [
        "sc.pp.log1p(adata, copy=False)\n",
        "sc.pp.highly_variable_genes(adata, n_top_genes=3000, n_bins=50)"
      ],
      "execution_count": null,
      "outputs": []
    },
    {
      "cell_type": "code",
      "metadata": {
        "id": "gdQauaSKLFOQ",
        "colab_type": "code",
        "colab": {
          "base_uri": "https://localhost:8080/",
          "height": 296
        },
        "outputId": "8053d210-05ca-400b-aa64-9f20fa51021a"
      },
      "source": [
        "sc.pl.highly_variable_genes(adata, log=False, save='hvg.pdf')"
      ],
      "execution_count": null,
      "outputs": [
        {
          "output_type": "stream",
          "text": [
            "WARNING: saving figure to file figures/filter_genes_dispersionhvg_tpm314.pdf\n"
          ],
          "name": "stdout"
        },
        {
          "output_type": "display_data",
          "data": {
            "image/png": "[encoded data removed]",
            "text/plain": [
              "<Figure size 864x288 with 2 Axes>"
            ]
          },
          "metadata": {
            "tags": [],
            "needs_background": "light"
          }
        }
      ]
    },
    {
      "cell_type": "code",
      "metadata": {
        "id": "sEo3X6pSLFOU",
        "colab_type": "code",
        "colab": {}
      },
      "source": [
        "hvg = adata.var[adata.var['highly_variable']==True].index\n",
        "samples = adata.obs.index"
      ],
      "execution_count": null,
      "outputs": []
    },
    {
      "cell_type": "markdown",
      "metadata": {
        "id": "6Fxpu6Y6ylyI",
        "colab_type": "text"
      },
      "source": [
        "Save a new table with only hvg"
      ]
    },
    {
      "cell_type": "code",
      "metadata": {
        "id": "R4wI9T8PSq6i",
        "colab_type": "code",
        "colab": {}
      },
      "source": [
        "df.reindex(index=hvg, columns=samples).to_csv(\"mainTable_tpm_all_seed314_hv.csv\")"
      ],
      "execution_count": null,
      "outputs": []
    },
    {
      "cell_type": "markdown",
      "metadata": {
        "id": "EjZgH93w2wRm",
        "colab_type": "text"
      },
      "source": [
        "# Select HouseKeeping"
      ]
    },
    {
      "cell_type": "markdown",
      "metadata": {
        "id": "s1GcJNV4yqKZ",
        "colab_type": "text"
      },
      "source": [
        "We download [Human House Keeping genes](https://www.cell.com/trends/genetics/fulltext/S0168-9525(13)00089-9?_returnURL=https%3A%2F%2Flinkinghub.elsevier.com%2Fretrieve%2Fpii%2FS0168952513000899%3Fshowall%3Dtrue) from [https://www.tau.ac.il/~elieis/HKG/](https://www.tau.ac.il/~elieis/HKG/HK_exons.xlsx)"
      ]
    },
    {
      "cell_type": "code",
      "metadata": {
        "id": "GT-3FIkg22qo",
        "colab_type": "code",
        "colab": {}
      },
      "source": [
        "hk = pd.read_excel(\"HK_exons.xlsx\")[\"Gene Name\"].unique()"
      ],
      "execution_count": null,
      "outputs": []
    },
    {
      "cell_type": "markdown",
      "metadata": {
        "id": "vgoikocwzU3z",
        "colab_type": "text"
      },
      "source": [
        "Here we use [https://www.genenames.org](https://www.genenames.org) to convert  genes' names to Ensamble' ids"
      ]
    },
    {
      "cell_type": "code",
      "metadata": {
        "id": "IyttG6Sr22pU",
        "colab_type": "code",
        "colab": {}
      },
      "source": [
        "hgcn_url = \"https://www.genenames.org/cgi-bin/download/custom?col=gd_hgnc_id&col=gd_app_sym&col=gd_app_name&col=md_ensembl_id&status=Approved&status=Entry%20Withdrawn&hgnc_dbtag=on&order_by=gd_app_name&format=text&submit=submit\"\n",
        "df_conversion=pd.read_csv(hgcn_url, sep=\"\\t\")"
      ],
      "execution_count": null,
      "outputs": []
    },
    {
      "cell_type": "code",
      "metadata": {
        "id": "NJQnZfInEREP",
        "colab_type": "code",
        "colab": {}
      },
      "source": [
        "df_hk_ensg = df_conversion[(df_conversion[\"Approved symbol\"].isin(hk))&(df_conversion[\"Ensembl ID(supplied by Ensembl)\"].isin(df.index))][\"Ensembl ID(supplied by Ensembl)\"].drop_duplicates().values"
      ],
      "execution_count": null,
      "outputs": []
    },
    {
      "cell_type": "code",
      "metadata": {
        "id": "xjQm3_p3IQo1",
        "colab_type": "code",
        "colab": {}
      },
      "source": [
        "df_hk = df.reindex(index=df_hk_ensg)\n",
        "df_hk.to_csv(\"mainTable_hk.csv\", index=True)"
      ],
      "execution_count": null,
      "outputs": []
    },
    {
      "cell_type": "markdown",
      "metadata": {
        "id": "WJw8LIAuLFOa",
        "colab_type": "text"
      },
      "source": [
        "# Run Stochastic Block Model\n",
        "We run [stochastic block model](https://github.com/martingerlach/hSBM_Topicmodel/tree/develop)"
      ]
    },
    {
      "cell_type": "code",
      "metadata": {
        "id": "wc8eyP_LLFOb",
        "colab_type": "code",
        "colab": {
          "base_uri": "https://localhost:8080/",
          "height": 153
        },
        "outputId": "21ec4c0a-5d64-48a9-a7ca-0f8930553d12"
      },
      "source": [
        "from sbmtm import sbmtm\n",
        "\n",
        "# create the model\n",
        "model = sbmtm()"
      ],
      "execution_count": null,
      "outputs": [
        {
          "output_type": "stream",
          "text": [
            "/usr/lib/python3/dist-packages/graph_tool/draw/cairo_draw.py:39: RuntimeWarning: Error importing cairo. Graph drawing will not work.\n",
            "  warnings.warn(msg, RuntimeWarning)\n",
            "/usr/lib/python3/dist-packages/graph_tool/draw/cairo_draw.py:39: RuntimeWarning: Error importing cairo. Graph drawing will not work.\n",
            "  warnings.warn(msg, RuntimeWarning)\n",
            "/usr/lib/python3/dist-packages/graph_tool/draw/cairo_draw.py:39: RuntimeWarning: Error importing cairo. Graph drawing will not work.\n",
            "  warnings.warn(msg, RuntimeWarning)\n",
            "/usr/lib/python3/dist-packages/graph_tool/all.py:40: RuntimeWarning: Error importing draw module, proceeding nevertheless: No module named 'cairo'\n",
            "  warnings.warn(msg, RuntimeWarning)\n"
          ],
          "name": "stderr"
        }
      ]
    },
    {
      "cell_type": "code",
      "metadata": {
        "id": "9IWe7zvuLFOg",
        "colab_type": "code",
        "colab": {
          "base_uri": "https://localhost:8080/",
          "height": 34
        },
        "outputId": "adc3e5ce-089d-43fe-d2a7-15099c7d261b"
      },
      "source": [
        "samples = samples\n",
        "genes = hvg\n",
        "print(len(samples), len(genes))"
      ],
      "execution_count": null,
      "outputs": [
        {
          "output_type": "stream",
          "text": [
            "1000 3000\n"
          ],
          "name": "stdout"
        }
      ]
    },
    {
      "cell_type": "markdown",
      "metadata": {
        "id": "viYv-ehPtIzq",
        "colab_type": "text"
      },
      "source": [
        "### make a graph with the data\n"
      ]
    },
    {
      "cell_type": "code",
      "metadata": {
        "id": "IqIVBZIJDIY8",
        "colab_type": "code",
        "colab": {}
      },
      "source": [
        "df = pd.read_csv(\"mainTable_counts_hv.csv\", index_col=0)\n",
        "genes = df.index\n",
        "samples = pd.Series(index=df.columns)\n",
        "print(len(samples), len(genes))"
      ],
      "execution_count": null,
      "outputs": []
    },
    {
      "cell_type": "code",
      "metadata": {
        "id": "awX5gbUoLFOr",
        "colab_type": "code",
        "colab": {
          "base_uri": "https://localhost:8080/",
          "height": 34
        },
        "outputId": "d9d59938-1a93-450a-d796-303b0ae3cca1"
      },
      "source": [
        "# .applymap(lambda tpm: np.log2(tpm+1))\n",
        "model.make_graph_from_BoW_df(df.reindex(index=genes, columns=samples.index).dropna())\n",
        "model.save_graph(\"graph_tpm_seed314.xml.gz\")\n",
        "model.g"
      ],
      "execution_count": null,
      "outputs": [
        {
          "output_type": "execute_result",
          "data": {
            "text/plain": [
              "<Graph object, undirected, with 4000 vertices and 2032164 edges, 2 internal vertex properties, 1 internal edge property, at 0x7fa2a88a5f98>"
            ]
          },
          "metadata": {
            "tags": []
          },
          "execution_count": 36
        }
      ]
    },
    {
      "cell_type": "markdown",
      "metadata": {
        "id": "ULe4g3qTtLFY",
        "colab_type": "text"
      },
      "source": [
        "### load data\n",
        "Use this only if you **already have a *graph.xml.gz*** file"
      ]
    },
    {
      "cell_type": "code",
      "metadata": {
        "id": "VPMxekzvLFO1",
        "colab_type": "code",
        "colab": {}
      },
      "source": [
        "# load graph\n",
        "model.load_graph(\"graph_counts.xml.gz\")\n",
        "model.g"
      ],
      "execution_count": null,
      "outputs": []
    },
    {
      "cell_type": "markdown",
      "metadata": {
        "id": "Ldd2ZxostNve",
        "colab_type": "text"
      },
      "source": [
        "### load pretrained\n",
        "Use this only if you **already have a *topsbm.pkl*** file with a trained model "
      ]
    },
    {
      "cell_type": "code",
      "metadata": {
        "id": "blowKA-nzRal",
        "colab_type": "code",
        "colab": {}
      },
      "source": [
        "# load pretrainded\n",
        "import graph_tool as gt\n",
        "from graph_tool.inference.nested_blockmodel import NestedBlockState\n",
        "import pickle\n",
        "\n",
        "with open(\"topsbm/topsbm.pkl\", \"rb\") as file:\n",
        "  model = pickle.load(file)\n",
        "\n",
        "model.mul"
      ],
      "execution_count": null,
      "outputs": []
    },
    {
      "cell_type": "markdown",
      "metadata": {
        "id": "QcdDMsOdtTPm",
        "colab_type": "text"
      },
      "source": [
        "## Run"
      ]
    },
    {
      "cell_type": "code",
      "metadata": {
        "id": "9Phpa4YLWzuv",
        "colab_type": "code",
        "colab": {}
      },
      "source": [
        "os.chdir('/content/drive/My Drive/phd/datasets/gtex/10')\n",
        "config = \"seed\"\n",
        "os.system(f\"mkdir -p {config} && mkdir -p {config}/topsbm\")\n",
        "os.chdir(f\"{config}/topsbm\")\n",
        "\n",
        "model.fit(n_init=1, parallel=True, verbose=True, B_min=5, B_max=500)\n",
        "model.multiflip_mcmc_sweep(n_steps=100, verbose=True)\n",
        "model.save_data()"
      ],
      "execution_count": null,
      "outputs": []
    },
    {
      "cell_type": "markdown",
      "metadata": {
        "id": "KIkACZOk4VfP",
        "colab_type": "text"
      },
      "source": [
        "# check models\n",
        "You can use these functions to inspect saved models.\n",
        "\n",
        "Do not use unless needed"
      ]
    },
    {
      "cell_type": "code",
      "metadata": {
        "id": "4YHyOxloazu9",
        "colab_type": "code",
        "colab": {}
      },
      "source": [
        "pd.read_csv(\"mainTable.csv\", index_col=0).applymap(lambda tpm: np.log10(tpm+1)).max().hist()"
      ],
      "execution_count": null,
      "outputs": []
    },
    {
      "cell_type": "code",
      "metadata": {
        "id": "r4Epv3GQT25w",
        "colab_type": "code",
        "colab": {}
      },
      "source": [
        "pd.read_csv(\"mainTable_log.csv\", index_col=0).max().hist()"
      ],
      "execution_count": null,
      "outputs": []
    },
    {
      "cell_type": "code",
      "metadata": {
        "id": "h39hRU-2UAPG",
        "colab_type": "code",
        "colab": {}
      },
      "source": [
        "os.chdir(\"/content/drive/My Drive/phd/TOPSBM_TEST\")\n",
        "os.getcwd()"
      ],
      "execution_count": null,
      "outputs": []
    },
    {
      "cell_type": "code",
      "metadata": {
        "id": "xEMFMbjfhp17",
        "colab_type": "code",
        "colab": {}
      },
      "source": [
        "import graph_tool as gt\n",
        "import seaborn as sns\n",
        "from sbmtm import sbmtm"
      ],
      "execution_count": null,
      "outputs": []
    },
    {
      "cell_type": "code",
      "metadata": {
        "id": "D2uvvdkM4Pyd",
        "colab_type": "code",
        "colab": {}
      },
      "source": [
        "model = sbmtm()"
      ],
      "execution_count": null,
      "outputs": []
    },
    {
      "cell_type": "code",
      "metadata": {
        "id": "Ws8fEIku4df3",
        "colab_type": "code",
        "colab": {}
      },
      "source": [
        "import matplotlib.pyplot as plt\n",
        "def load_and_print(graph=\"graph.xml.gz\", **kwargs):\n",
        "  model.load_graph(graph)\n",
        "  print(model.g)\n",
        "  print(len(model.words),len(model.documents))\n",
        "  data = gt.spectral.adjacency(model.g, weight=model.g.edge_properties[\"count\"]).toarray()\n",
        "  n_doc = len(model.documents)\n",
        "  data = data[n_doc:,:n_doc]\n",
        "  ax = sns.heatmap(data, **kwargs)\n",
        "  ax.set_ylabel(\"words\", fontsize=35, rotation=90)\n",
        "  ax.yaxis.tick_left()\n",
        "  ax.yaxis.set_label_position(\"left\")\n",
        "\n",
        "  ax.set_xlabel(\"documents\",fontsize=35)\n",
        "  ax.tick_params(labelsize=25)\n",
        "  return model, data\n",
        "\n",
        "def load_trained_and_print(graph=\"topsbm.pkl\", **kwargs):\n",
        "  import pickle\n",
        "  with open(graph,\"rb\") as io:\n",
        "    model = pickle.load(io)\n",
        "  print(model.g)\n",
        "  print(len(model.words),len(model.documents))\n",
        "  data = gt.spectral.adjacency(model.g, weight=model.g.edge_properties[\"count\"]).toarray()\n",
        "  n_doc = len(model.documents)\n",
        "  data = data[n_doc:,:n_doc]\n",
        "  ax = sns.heatmap(data, **kwargs)\n",
        "  ax.set_ylabel(\"words\", fontsize=35, rotation=90)\n",
        "  ax.yaxis.tick_left()\n",
        "  ax.yaxis.set_label_position(\"left\")\n",
        "\n",
        "  ax.set_xlabel(\"documents\",fontsize=35)\n",
        "  ax.tick_params(labelsize=25)\n",
        "  return model, data"
      ],
      "execution_count": null,
      "outputs": []
    },
    {
      "cell_type": "code",
      "metadata": {
        "id": "BeDZqwat5Fk3",
        "colab_type": "code",
        "colab": {}
      },
      "source": [
        "load_and_print(\"graph_log.xml.gz\");"
      ],
      "execution_count": null,
      "outputs": []
    },
    {
      "cell_type": "code",
      "metadata": {
        "id": "27fmS6ZW5MJ2",
        "colab_type": "code",
        "colab": {}
      },
      "source": [
        "load_and_print(\"graph_hk.xml.gz\", vmax=5e3);"
      ],
      "execution_count": null,
      "outputs": []
    },
    {
      "cell_type": "code",
      "metadata": {
        "id": "wJkOgu_05Whb",
        "colab_type": "code",
        "colab": {}
      },
      "source": [
        "load_and_print(\"graph_log10.xml.gz\");"
      ],
      "execution_count": null,
      "outputs": []
    },
    {
      "cell_type": "code",
      "metadata": {
        "id": "HUuWNe6AqfMY",
        "colab_type": "code",
        "colab": {}
      },
      "source": [
        "model, data = load_trained_and_print(\"topsbm_old.pkl\");"
      ],
      "execution_count": null,
      "outputs": []
    },
    {
      "cell_type": "code",
      "metadata": {
        "id": "HwTgSbTV42g2",
        "colab_type": "code",
        "colab": {}
      },
      "source": [
        "df.reindex(index=hvg, columns=samples).loc[[g[:15] for g in model.words[:5]],model.documents[:5]]"
      ],
      "execution_count": null,
      "outputs": []
    },
    {
      "cell_type": "code",
      "metadata": {
        "id": "sBO0iai5-sxQ",
        "colab_type": "code",
        "colab": {}
      },
      "source": [
        "model.save_graph(\"graph_tpm_hv.xml.gz\")"
      ],
      "execution_count": null,
      "outputs": []
    },
    {
      "cell_type": "code",
      "metadata": {
        "id": "7Z84xJUv_X8_",
        "colab_type": "code",
        "colab": {}
      },
      "source": [
        ""
      ],
      "execution_count": null,
      "outputs": []
    }
  ]
}
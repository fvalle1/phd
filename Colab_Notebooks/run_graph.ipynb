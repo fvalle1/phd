{
 "cells": [
  {
   "cell_type": "code",
   "execution_count": null,
   "metadata": {
    "colab": {},
    "colab_type": "code",
    "id": "kTgtAWHOD3B8"
   },
   "outputs": [],
   "source": [
    "from google.colab import drive\n",
    "drive.mount('/content/drive')"
   ]
  },
  {
   "cell_type": "code",
   "execution_count": null,
   "metadata": {
    "colab": {
     "base_uri": "https://localhost:8080/",
     "height": 1000
    },
    "colab_type": "code",
    "executionInfo": {
     "elapsed": 21315,
     "status": "ok",
     "timestamp": 1586180412433,
     "user": {
      "displayName": "Filippo Valle",
      "photoUrl": "https://lh3.googleusercontent.com/a-/AOh14GiSmOTQUwJEm9eOUO5yn38V9kqgHrZZ_vys3fCS=s64",
      "userId": "14300282905640499915"
     },
     "user_tz": -120
    },
    "id": "Hrsc2s1MLFNv",
    "outputId": "63d6d018-f49e-4ac9-99a4-b4a246d773b2"
   },
   "outputs": [],
   "source": [
    "import pandas as pd\n",
    "import numpy as np\n",
    "!pip install scanpy\n",
    "import scanpy as sc\n",
    "import os, sys\n",
    "!echo \"deb http://downloads.skewed.de/apt/ bionic main\" >> /etc/apt/sources.list\n",
    "!apt-key adv --keyserver keys.openpgp.org --recv-key 612DEFB798507F25\n",
    "!apt-get update\n",
    "!apt-get install python3-graph-tool\n",
    "sys.path.append('/content/drive/My Drive/phd/hsbm-occam/')"
   ]
  },
  {
   "cell_type": "code",
   "execution_count": null,
   "metadata": {
    "colab": {},
    "colab_type": "code",
    "id": "TUiCCUZq2NYg"
   },
   "outputs": [],
   "source": [
    "os.chdir('/content/drive/My Drive/phd/datasets/gtex/10')"
   ]
  },
  {
   "cell_type": "markdown",
   "metadata": {
    "colab_type": "text",
    "id": "Rpy9eQ2WLFN1"
   },
   "source": [
    "# Download data or get the data"
   ]
  },
  {
   "cell_type": "code",
   "execution_count": null,
   "metadata": {
    "colab": {},
    "colab_type": "code",
    "id": "pTTrYG9EEHR8"
   },
   "outputs": [],
   "source": [
    "df = pd.read_csv(\"mainTable_all.csv\", index_col=0)\n",
    "df.index = [g[:15] for g in df.index]\n",
    "df.drop_duplicates(subset=df.index.name, ignore_index=False, inplace=True)\n",
    "df_files = pd.read_csv(\"files.dat\",index_col=0)"
   ]
  },
  {
   "cell_type": "code",
   "execution_count": null,
   "metadata": {
    "colab": {},
    "colab_type": "code",
    "id": "DA7nomq8tFTN"
   },
   "outputs": [],
   "source": [
    "df = pd.read_csv('https://storage.googleapis.com/gtex_analysis_v8/rna_seq_data/GTEx_Analysis_2017-06-05_v8_RNASeQCv1.1.9_gene_reads.gct.gz', skiprows=2, sep='\\t', index_col=0)\n",
    "df_files=pd.read_csv(\"https://storage.googleapis.com/gtex_analysis_v8/annotations/GTEx_Analysis_v8_Annotations_SampleAttributesDS.txt\", sep='\\t', index_col=0)\n",
    "df_files = df_files[df_files.index.isin(df.columns)]"
   ]
  },
  {
   "cell_type": "code",
   "execution_count": null,
   "metadata": {
    "colab": {},
    "colab_type": "code",
    "id": "nRdqQNR8tLbI"
   },
   "outputs": [],
   "source": [
    "print(df.head())\n",
    "df.to_csv(\"mainTable_all_counts.csv\", index=True, header=True)"
   ]
  },
  {
   "cell_type": "code",
   "execution_count": null,
   "metadata": {
    "colab": {},
    "colab_type": "code",
    "id": "b-C-MOVaLFN2"
   },
   "outputs": [],
   "source": [
    "#df = pd.read_csv('https://storage.googleapis.com/gtex_analysis_v8/rna_seq_data/GTEx_Analysis_2017-06-05_v8_RNASeQCv1.1.9_gene_tpm.gct.gz', skiprows=2, sep='\\t', index_col=0)\n",
    "df_files=pd.read_csv(\"https://storage.googleapis.com/gtex_analysis_v8/annotations/GTEx_Analysis_v8_Annotations_SampleAttributesDS.txt\", sep='\\t', index_col=0)\n",
    "df_files = df_files[df_files.index.isin(df.columns)]"
   ]
  },
  {
   "cell_type": "code",
   "execution_count": null,
   "metadata": {
    "colab": {},
    "colab_type": "code",
    "id": "-tsIh9S9LFN7"
   },
   "outputs": [],
   "source": [
    "rs = np.random.RandomState(seed=42)\n",
    "samples = pd.DataFrame(columns=df_files.columns)\n",
    "for site in df_files.groupby('SMTS').count().sort_values('SMTSD',ascending=False).index[:10]:\n",
    "    samples = samples.append(df_files[df_files['SMTS']==site].sample(100, random_state=rs))"
   ]
  },
  {
   "cell_type": "code",
   "execution_count": null,
   "metadata": {
    "colab": {},
    "colab_type": "code",
    "id": "m2WtMRH5LFN_"
   },
   "outputs": [],
   "source": [
    "samples.groupby('SMTS').count().sort_values('SMTSD',ascending=False)"
   ]
  },
  {
   "cell_type": "code",
   "execution_count": null,
   "metadata": {
    "colab": {},
    "colab_type": "code",
    "id": "FYOnZVbZL2ZC"
   },
   "outputs": [],
   "source": [
    "df[samples.index].to_csv(\"mainTable_counts.csv\")"
   ]
  },
  {
   "cell_type": "code",
   "execution_count": null,
   "metadata": {
    "colab": {},
    "colab_type": "code",
    "id": "cSKLkFcaER9P"
   },
   "outputs": [],
   "source": [
    "df_files.to_csv(\"files.dat\")"
   ]
  },
  {
   "cell_type": "code",
   "execution_count": null,
   "metadata": {
    "colab": {},
    "colab_type": "code",
    "id": "5ocAhlWzSw7C"
   },
   "outputs": [],
   "source": [
    "os.getcwd()"
   ]
  },
  {
   "cell_type": "markdown",
   "metadata": {
    "colab_type": "text",
    "id": "dAmO1tHQLFOE"
   },
   "source": [
    "# Select HVG"
   ]
  },
  {
   "cell_type": "code",
   "execution_count": null,
   "metadata": {
    "colab": {},
    "colab_type": "code",
    "id": "Uc32xZSlPCkc"
   },
   "outputs": [],
   "source": [
    "samples = df_files\n",
    "genes = df.index"
   ]
  },
  {
   "cell_type": "code",
   "execution_count": null,
   "metadata": {
    "colab": {},
    "colab_type": "code",
    "id": "OR8csyKanMEu"
   },
   "outputs": [],
   "source": [
    "hde=pd.read_csv(\"HDE_Lung.csv\",index_col=0).index.values\n",
    "genes = list(filter(lambda g: g in df.index, hde))"
   ]
  },
  {
   "cell_type": "code",
   "execution_count": null,
   "metadata": {
    "colab": {},
    "colab_type": "code",
    "id": "jVjvDFzBLFOF"
   },
   "outputs": [],
   "source": [
    "adata = sc.AnnData(X=df.reindex(index=genes, columns=samples.index).transpose(), obs=samples)"
   ]
  },
  {
   "cell_type": "code",
   "execution_count": null,
   "metadata": {
    "colab": {},
    "colab_type": "code",
    "id": "R7wsXyxZLFOJ"
   },
   "outputs": [],
   "source": [
    "adata_log = sc.pp.log1p(adata, copy=True)\n",
    "sc.pp.highly_variable_genes(adata_log, n_top_genes=3000, n_bins=50)"
   ]
  },
  {
   "cell_type": "code",
   "execution_count": null,
   "metadata": {
    "colab": {},
    "colab_type": "code",
    "id": "gdQauaSKLFOQ"
   },
   "outputs": [],
   "source": [
    "sc.pl.highly_variable_genes(adata_log, log=False, save='hvg_counts.pdf')"
   ]
  },
  {
   "cell_type": "code",
   "execution_count": null,
   "metadata": {
    "colab": {},
    "colab_type": "code",
    "id": "sEo3X6pSLFOU"
   },
   "outputs": [],
   "source": [
    "hvg = adata_log.var[adata_log.var['highly_variable']==True].index\n",
    "samples = adata_log.obs.index"
   ]
  },
  {
   "cell_type": "code",
   "execution_count": null,
   "metadata": {
    "colab": {},
    "colab_type": "code",
    "id": "R4wI9T8PSq6i"
   },
   "outputs": [],
   "source": [
    "df.loc[hvg, samples].to_csv(\"mainTable_hv_counts.csv\")"
   ]
  },
  {
   "cell_type": "markdown",
   "metadata": {
    "colab_type": "text",
    "id": "EjZgH93w2wRm"
   },
   "source": [
    "#Select HK"
   ]
  },
  {
   "cell_type": "code",
   "execution_count": null,
   "metadata": {
    "colab": {},
    "colab_type": "code",
    "id": "GT-3FIkg22qo"
   },
   "outputs": [],
   "source": [
    "hk = pd.read_excel(\"HK_exons.xlsx\")[\"Gene Name\"].unique()"
   ]
  },
  {
   "cell_type": "code",
   "execution_count": null,
   "metadata": {
    "colab": {},
    "colab_type": "code",
    "id": "IyttG6Sr22pU"
   },
   "outputs": [],
   "source": [
    "hgcn_url = \"https://www.genenames.org/cgi-bin/download/custom?col=gd_hgnc_id&col=gd_app_sym&col=gd_app_name&col=md_ensembl_id&status=Approved&status=Entry%20Withdrawn&hgnc_dbtag=on&order_by=gd_app_name&format=text&submit=submit\"\n",
    "df_conversion=pd.read_csv(hgcn_url, sep=\"\\t\")"
   ]
  },
  {
   "cell_type": "code",
   "execution_count": null,
   "metadata": {
    "colab": {},
    "colab_type": "code",
    "id": "NJQnZfInEREP"
   },
   "outputs": [],
   "source": [
    "df_hk_ensg = df_conversion[(df_conversion[\"Approved symbol\"].isin(hk))&(df_conversion[\"Ensembl ID(supplied by Ensembl)\"].isin(df.index))][\"Ensembl ID(supplied by Ensembl)\"].drop_duplicates().values"
   ]
  },
  {
   "cell_type": "code",
   "execution_count": null,
   "metadata": {
    "colab": {},
    "colab_type": "code",
    "id": "xjQm3_p3IQo1"
   },
   "outputs": [],
   "source": [
    "df_hk = df.reindex(index=df_hk_ensg)\n",
    "df_hk.to_csv(\"mainTable_hk.csv\", index=True)"
   ]
  },
  {
   "cell_type": "markdown",
   "metadata": {
    "colab_type": "text",
    "id": "WJw8LIAuLFOa"
   },
   "source": [
    "# Use SBM"
   ]
  },
  {
   "cell_type": "code",
   "execution_count": null,
   "metadata": {
    "colab": {},
    "colab_type": "code",
    "id": "wc8eyP_LLFOb"
   },
   "outputs": [],
   "source": [
    "from sbmtm import sbmtm\n",
    "model = sbmtm()"
   ]
  },
  {
   "cell_type": "code",
   "execution_count": null,
   "metadata": {
    "colab": {},
    "colab_type": "code",
    "id": "9IWe7zvuLFOg"
   },
   "outputs": [],
   "source": [
    "samples = df_files\n",
    "genes = hvg"
   ]
  },
  {
   "cell_type": "code",
   "execution_count": null,
   "metadata": {
    "colab": {},
    "colab_type": "code",
    "id": "awX5gbUoLFOr"
   },
   "outputs": [],
   "source": [
    "model.make_graph_from_BoW_df(df.reindex(index=genes, columns=samples.index).dropna().applymap(lambda tpm: np.log2(tpm+1)))\n",
    "model.save_graph(\"graph.xml.gz\")\n",
    "model.g"
   ]
  },
  {
   "cell_type": "code",
   "execution_count": null,
   "metadata": {
    "colab": {},
    "colab_type": "code",
    "id": "VPMxekzvLFO1"
   },
   "outputs": [],
   "source": [
    "model.load_graph(\"graph.xml.gz\")\n",
    "model.g"
   ]
  },
  {
   "cell_type": "code",
   "execution_count": null,
   "metadata": {
    "colab": {},
    "colab_type": "code",
    "id": "9Phpa4YLWzuv"
   },
   "outputs": [],
   "source": [
    "config = \"counts\"\n",
    "os.system(f\"mkdir -p {config}\")\n",
    "os.chdir(f\"{config}\")\n",
    "model.fit(n_init=1, parallel=True, verbose=True, B_min=5, B_max=500)\n",
    "model.save_data()"
   ]
  },
  {
   "cell_type": "code",
   "execution_count": null,
   "metadata": {
    "colab": {},
    "colab_type": "code",
    "id": "4YHyOxloazu9"
   },
   "outputs": [],
   "source": [
    "pd.read_csv(\"mainTable.csv\", index_col=0).applymap(lambda tpm: np.log10(tpm+1)).max().hist()"
   ]
  },
  {
   "cell_type": "code",
   "execution_count": null,
   "metadata": {
    "colab": {},
    "colab_type": "code",
    "id": "r4Epv3GQT25w"
   },
   "outputs": [],
   "source": [
    "pd.read_csv(\"mainTable_log.csv\", index_col=0).max().hist()"
   ]
  },
  {
   "cell_type": "code",
   "execution_count": null,
   "metadata": {
    "colab": {
     "base_uri": "https://localhost:8080/",
     "height": 34
    },
    "colab_type": "code",
    "executionInfo": {
     "elapsed": 635,
     "status": "ok",
     "timestamp": 1586183062943,
     "user": {
      "displayName": "Filippo Valle",
      "photoUrl": "https://lh3.googleusercontent.com/a-/AOh14GiSmOTQUwJEm9eOUO5yn38V9kqgHrZZ_vys3fCS=s64",
      "userId": "14300282905640499915"
     },
     "user_tz": -120
    },
    "id": "h39hRU-2UAPG",
    "outputId": "826ba4f0-3693-4087-d878-778ad8b35889"
   },
   "outputs": [],
   "source": [
    "os.getcwd()"
   ]
  },
  {
   "cell_type": "code",
   "execution_count": null,
   "metadata": {
    "colab": {},
    "colab_type": "code",
    "id": "xEMFMbjfhp17"
   },
   "outputs": [],
   "source": [
    "import graph_tool as gt\n",
    "import seaborn as sns\n",
    "from sbmtm import sbmtm"
   ]
  },
  {
   "cell_type": "code",
   "execution_count": null,
   "metadata": {
    "colab": {},
    "colab_type": "code",
    "id": "D2uvvdkM4Pyd"
   },
   "outputs": [],
   "source": [
    "model = sbmtm()"
   ]
  },
  {
   "cell_type": "code",
   "execution_count": null,
   "metadata": {
    "colab": {},
    "colab_type": "code",
    "id": "Ws8fEIku4df3"
   },
   "outputs": [],
   "source": [
    "import matplotlib.pyplot as plt\n",
    "def load_and_print(graph=\"graph.xml.gz\", **kwargs):\n",
    "  model.load_graph(graph)\n",
    "  print(model.g)\n",
    "  data = gt.spectral.adjacency(model.g, weight=model.g.edge_properties[\"count\"]).toarray()\n",
    "  data = data[1000:,:1000]\n",
    "  sns.heatmap(data, **kwargs)"
   ]
  },
  {
   "cell_type": "code",
   "execution_count": null,
   "metadata": {
    "colab": {
     "base_uri": "https://localhost:8080/",
     "height": 295
    },
    "colab_type": "code",
    "executionInfo": {
     "elapsed": 7789,
     "status": "ok",
     "timestamp": 1586183773563,
     "user": {
      "displayName": "Filippo Valle",
      "photoUrl": "https://lh3.googleusercontent.com/a-/AOh14GiSmOTQUwJEm9eOUO5yn38V9kqgHrZZ_vys3fCS=s64",
      "userId": "14300282905640499915"
     },
     "user_tz": -120
    },
    "id": "HnZGZs0b4khw",
    "outputId": "2bb69d70-34c2-480f-8e97-1a91c3260779"
   },
   "outputs": [],
   "source": [
    "load_and_print(\"graph.xml.gz\", vmax=2e4)"
   ]
  },
  {
   "cell_type": "code",
   "execution_count": null,
   "metadata": {
    "colab": {
     "base_uri": "https://localhost:8080/",
     "height": 295
    },
    "colab_type": "code",
    "executionInfo": {
     "elapsed": 6854,
     "status": "ok",
     "timestamp": 1586183552113,
     "user": {
      "displayName": "Filippo Valle",
      "photoUrl": "https://lh3.googleusercontent.com/a-/AOh14GiSmOTQUwJEm9eOUO5yn38V9kqgHrZZ_vys3fCS=s64",
      "userId": "14300282905640499915"
     },
     "user_tz": -120
    },
    "id": "BeDZqwat5Fk3",
    "outputId": "305ed758-5cc1-4ed7-922a-6c0d356b977e"
   },
   "outputs": [],
   "source": [
    "load_and_print(\"graph_log.xml.gz\")"
   ]
  },
  {
   "cell_type": "code",
   "execution_count": null,
   "metadata": {
    "colab": {
     "base_uri": "https://localhost:8080/",
     "height": 295
    },
    "colab_type": "code",
    "executionInfo": {
     "elapsed": 19461,
     "status": "ok",
     "timestamp": 1586185680823,
     "user": {
      "displayName": "Filippo Valle",
      "photoUrl": "https://lh3.googleusercontent.com/a-/AOh14GiSmOTQUwJEm9eOUO5yn38V9kqgHrZZ_vys3fCS=s64",
      "userId": "14300282905640499915"
     },
     "user_tz": -120
    },
    "id": "27fmS6ZW5MJ2",
    "outputId": "30b84cb5-fb7c-4a67-dbb7-9f43725fd530"
   },
   "outputs": [],
   "source": [
    "load_and_print(\"graph_hk.xml.gz\", vmax=5e3)"
   ]
  },
  {
   "cell_type": "code",
   "execution_count": null,
   "metadata": {
    "colab": {
     "base_uri": "https://localhost:8080/",
     "height": 295
    },
    "colab_type": "code",
    "executionInfo": {
     "elapsed": 5036,
     "status": "ok",
     "timestamp": 1586183587604,
     "user": {
      "displayName": "Filippo Valle",
      "photoUrl": "https://lh3.googleusercontent.com/a-/AOh14GiSmOTQUwJEm9eOUO5yn38V9kqgHrZZ_vys3fCS=s64",
      "userId": "14300282905640499915"
     },
     "user_tz": -120
    },
    "id": "wJkOgu_05Whb",
    "outputId": "10823db6-8079-4758-d8dc-c329236c07f4"
   },
   "outputs": [],
   "source": [
    "load_and_print(\"graph_log10.xml.gz\")"
   ]
  },
  {
   "cell_type": "code",
   "execution_count": null,
   "metadata": {
    "colab": {},
    "colab_type": "code",
    "id": "AFtlDEqs5dEy"
   },
   "outputs": [],
   "source": []
  }
 ],
 "metadata": {
  "colab": {
   "collapsed_sections": [],
   "machine_shape": "hm",
   "name": "run_graph.ipynb",
   "provenance": [],
   "toc_visible": true
  },
  "kernelspec": {
   "display_name": "Python 3",
   "language": "python",
   "name": "python3"
  },
  "language_info": {
   "codemirror_mode": {
    "name": "ipython",
    "version": 3
   },
   "file_extension": ".py",
   "mimetype": "text/x-python",
   "name": "python",
   "nbconvert_exporter": "python",
   "pygments_lexer": "ipython3",
   "version": "3.6.9"
  }
 },
 "nbformat": 4,
 "nbformat_minor": 0
}

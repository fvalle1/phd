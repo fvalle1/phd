{
 "cells": [
  {
   "cell_type": "code",
   "execution_count": null,
   "metadata": {
    "colab": {
     "base_uri": "https://localhost:8080/"
    },
    "executionInfo": {
     "elapsed": 35294,
     "status": "ok",
     "timestamp": 1610989308167,
     "user": {
      "displayName": "Filippo Valle",
      "photoUrl": "https://lh3.googleusercontent.com/a-/AOh14GiSmOTQUwJEm9eOUO5yn38V9kqgHrZZ_vys3fCS=s64",
      "userId": "14300282905640499915"
     },
     "user_tz": -60
    },
    "id": "kTgtAWHOD3B8",
    "outputId": "b1bf0949-f18a-4e99-fa2e-fd81dea7070b"
   },
   "outputs": [],
   "source": [
    "from google.colab import drive\n",
    "drive.mount('/content/drive')"
   ]
  },
  {
   "cell_type": "markdown",
   "metadata": {
    "id": "kwdF-W4_xZIR"
   },
   "source": [
    "# Preprocessing and run hSBM"
   ]
  },
  {
   "cell_type": "code",
   "execution_count": null,
   "metadata": {
    "executionInfo": {
     "elapsed": 1744,
     "status": "ok",
     "timestamp": 1610991030826,
     "user": {
      "displayName": "Filippo Valle",
      "photoUrl": "https://lh3.googleusercontent.com/a-/AOh14GiSmOTQUwJEm9eOUO5yn38V9kqgHrZZ_vys3fCS=s64",
      "userId": "14300282905640499915"
     },
     "user_tz": -60
    },
    "id": "Hrsc2s1MLFNv"
   },
   "outputs": [],
   "source": [
    "# import some libraries\n",
    "import pandas as pd\n",
    "import numpy as np\n",
    "import os, sys"
   ]
  },
  {
   "cell_type": "code",
   "execution_count": null,
   "metadata": {
    "executionInfo": {
     "elapsed": 13466,
     "status": "ok",
     "timestamp": 1610991044398,
     "user": {
      "displayName": "Filippo Valle",
      "photoUrl": "https://lh3.googleusercontent.com/a-/AOh14GiSmOTQUwJEm9eOUO5yn38V9kqgHrZZ_vys3fCS=s64",
      "userId": "14300282905640499915"
     },
     "user_tz": -60
    },
    "id": "Q2FPeqA5xl9G"
   },
   "outputs": [],
   "source": [
    "#install scanpy\n",
    "!pip install scanpy > /dev/null $2>&1\n",
    "import scanpy as sc"
   ]
  },
  {
   "cell_type": "code",
   "execution_count": null,
   "metadata": {
    "colab": {
     "base_uri": "https://localhost:8080/"
    },
    "executionInfo": {
     "elapsed": 17969,
     "status": "ok",
     "timestamp": 1610991050730,
     "user": {
      "displayName": "Filippo Valle",
      "photoUrl": "https://lh3.googleusercontent.com/a-/AOh14GiSmOTQUwJEm9eOUO5yn38V9kqgHrZZ_vys3fCS=s64",
      "userId": "14300282905640499915"
     },
     "user_tz": -60
    },
    "id": "ITa5RLqTxluy",
    "outputId": "74bbbff4-7e6d-4834-d6e1-54b6f1539239"
   },
   "outputs": [],
   "source": [
    "#install graph-tool\n",
    "!echo \"deb http://downloads.skewed.de/apt/ bionic main\" >> /etc/apt/sources.list\n",
    "!apt-key adv --keyserver keys.openpgp.org --recv-key 612DEFB798507F25\n",
    "!apt-get update > /dev/null $2>&1\n",
    "!apt-get install python3-graph-tool python3-cairo > /dev/null $2>&1\n",
    "sys.path.append('/content/drive/My Drive/phd/hSBM_Topicmodel/')"
   ]
  },
  {
   "cell_type": "code",
   "execution_count": null,
   "metadata": {
    "executionInfo": {
     "elapsed": 14938,
     "status": "ok",
     "timestamp": 1610991050733,
     "user": {
      "displayName": "Filippo Valle",
      "photoUrl": "https://lh3.googleusercontent.com/a-/AOh14GiSmOTQUwJEm9eOUO5yn38V9kqgHrZZ_vys3fCS=s64",
      "userId": "14300282905640499915"
     },
     "user_tz": -60
    },
    "id": "TUiCCUZq2NYg"
   },
   "outputs": [],
   "source": [
    "os.chdir('/content/drive/My Drive/phd/topics/datasets/gtexrandom')"
   ]
  },
  {
   "cell_type": "markdown",
   "metadata": {
    "id": "Rpy9eQ2WLFN1"
   },
   "source": [
    "# Download data or get the data"
   ]
  },
  {
   "cell_type": "markdown",
   "metadata": {
    "id": "yqSD5nuQx6tW"
   },
   "source": [
    "## Use already downloaded (example from TCGA) data"
   ]
  },
  {
   "cell_type": "code",
   "execution_count": null,
   "metadata": {
    "colab": {
     "base_uri": "https://localhost:8080/",
     "height": 230
    },
    "executionInfo": {
     "elapsed": 4801,
     "status": "ok",
     "timestamp": 1605263313125,
     "user": {
      "displayName": "Filippo Valle",
      "photoUrl": "https://lh3.googleusercontent.com/a-/AOh14GiSmOTQUwJEm9eOUO5yn38V9kqgHrZZ_vys3fCS=s64",
      "userId": "14300282905640499915"
     },
     "user_tz": -60
    },
    "id": "pTTrYG9EEHR8",
    "outputId": "b85f0511-f89b-4ecd-fa2b-b177f58edb04"
   },
   "outputs": [],
   "source": [
    "df = pd.read_csv(\"mainTable_all.csv\", index_col=0)\n",
    "df.index = [g[:15] for g in df.index]\n",
    "df.drop_duplicates(subset=df.index.name, ignore_index=False, inplace=True)\n",
    "#df_files=pd.read_csv(\"https://storage.googleapis.com/gtex_analysis_v8/annotations/GTEx_Analysis_v8_Annotations_SampleAttributesDS.txt\", sep='\\t', index_col=0)\n",
    "df_files = pd.read_csv(\"files.dat\", sep=\",\", index_col=0)\n",
    "df_files = df_files[df_files.index.isin(df.columns)]\n",
    "df = df.reindex(columns=df.columns[df.columns.isin(df_files.index)])\n",
    "print(df.shape)\n",
    "print(df_files[\"cancer.type\"].unique())\n",
    "df_files.head(2)"
   ]
  },
  {
   "cell_type": "markdown",
   "metadata": {
    "id": "NsGeIge5xzID"
   },
   "source": [
    "## Import from GTEx\n",
    "\n",
    "This needs to download a big dataset, may require time"
   ]
  },
  {
   "cell_type": "code",
   "execution_count": null,
   "metadata": {
    "colab": {
     "base_uri": "https://localhost:8080/",
     "height": 765
    },
    "executionInfo": {
     "elapsed": 818300,
     "status": "ok",
     "timestamp": 1610991867462,
     "user": {
      "displayName": "Filippo Valle",
      "photoUrl": "https://lh3.googleusercontent.com/a-/AOh14GiSmOTQUwJEm9eOUO5yn38V9kqgHrZZ_vys3fCS=s64",
      "userId": "14300282905640499915"
     },
     "user_tz": -60
    },
    "id": "DA7nomq8tFTN",
    "outputId": "0a79221e-77a4-479b-cd3c-3db348365f58"
   },
   "outputs": [],
   "source": [
    "df = pd.read_csv('https://storage.googleapis.com/gtex_analysis_v8/rna_seq_data/GTEx_Analysis_2017-06-05_v8_RNASeQCv1.1.9_gene_tpm.gct.gz', skiprows=2, sep='\\t', index_col=0)\n",
    "df.index=[g[:15] for g in df.index]\n",
    "df=df[df.index.isin(pd.read_csv(\"http://stephenslab.github.io/count-clustering/project/utilities/gene_names_all_gtex.txt\", header=None).values.ravel())]\n",
    "df_files=pd.read_csv(\"https://storage.googleapis.com/gtex_analysis_v8/annotations/GTEx_Analysis_v8_Annotations_SampleAttributesDS.txt\", sep='\\t', index_col=0)\n",
    "df_files = df_files[df_files.index.isin(df.columns)]\n",
    "df_files.head()"
   ]
  },
  {
   "cell_type": "code",
   "execution_count": null,
   "metadata": {
    "executionInfo": {
     "elapsed": 806572,
     "status": "ok",
     "timestamp": 1610991869591,
     "user": {
      "displayName": "Filippo Valle",
      "photoUrl": "https://lh3.googleusercontent.com/a-/AOh14GiSmOTQUwJEm9eOUO5yn38V9kqgHrZZ_vys3fCS=s64",
      "userId": "14300282905640499915"
     },
     "user_tz": -60
    },
    "id": "FGZXp-gSn22T"
   },
   "outputs": [],
   "source": [
    "df_files.to_csv(\"files.dat\")"
   ]
  },
  {
   "cell_type": "code",
   "execution_count": null,
   "metadata": {
    "colab": {
     "base_uri": "https://localhost:8080/",
     "height": 228
    },
    "executionInfo": {
     "elapsed": 807504,
     "status": "ok",
     "timestamp": 1610991871828,
     "user": {
      "displayName": "Filippo Valle",
      "photoUrl": "https://lh3.googleusercontent.com/a-/AOh14GiSmOTQUwJEm9eOUO5yn38V9kqgHrZZ_vys3fCS=s64",
      "userId": "14300282905640499915"
     },
     "user_tz": -60
    },
    "id": "nRdqQNR8tLbI",
    "outputId": "dcffdba6-0e18-4fc2-876e-5a417cdf38ff"
   },
   "outputs": [],
   "source": [
    "df = df[df.columns[df.columns.isin(df_files.index)]]\n",
    "df.head(2)"
   ]
  },
  {
   "cell_type": "markdown",
   "metadata": {
    "id": "i8M1VZiryCwS"
   },
   "source": [
    "### Sample columns\n",
    "We pick some samples at random. We get $100$ samples from 10 most represented tissues"
   ]
  },
  {
   "cell_type": "code",
   "execution_count": null,
   "metadata": {
    "executionInfo": {
     "elapsed": 796831,
     "status": "ok",
     "timestamp": 1610991871829,
     "user": {
      "displayName": "Filippo Valle",
      "photoUrl": "https://lh3.googleusercontent.com/a-/AOh14GiSmOTQUwJEm9eOUO5yn38V9kqgHrZZ_vys3fCS=s64",
      "userId": "14300282905640499915"
     },
     "user_tz": -60
    },
    "id": "-tsIh9S9LFN7"
   },
   "outputs": [],
   "source": [
    "rs = np.random.RandomState(seed=314)\n",
    "samples = pd.DataFrame(columns=df_files.columns)\n",
    "for site in df_files.groupby('SMTS').count().sort_values('SMTSD',ascending=False).index[:10]:\n",
    "  samples = samples.append(df_files[df_files['SMTS']==site].sample(100, random_state=rs))"
   ]
  },
  {
   "cell_type": "code",
   "execution_count": null,
   "metadata": {
    "colab": {
     "base_uri": "https://localhost:8080/",
     "height": 444
    },
    "executionInfo": {
     "elapsed": 796219,
     "status": "ok",
     "timestamp": 1610991871832,
     "user": {
      "displayName": "Filippo Valle",
      "photoUrl": "https://lh3.googleusercontent.com/a-/AOh14GiSmOTQUwJEm9eOUO5yn38V9kqgHrZZ_vys3fCS=s64",
      "userId": "14300282905640499915"
     },
     "user_tz": -60
    },
    "id": "m2WtMRH5LFN_",
    "outputId": "73e38857-3d04-4743-c5a9-e5594d81eef8"
   },
   "outputs": [],
   "source": [
    "# chack and verify the sampling process\n",
    "samples.groupby('SMTS').count().sort_values('SMTSD',ascending=False)"
   ]
  },
  {
   "cell_type": "code",
   "execution_count": null,
   "metadata": {
    "id": "FYOnZVbZL2ZC"
   },
   "outputs": [],
   "source": [
    "df[samples.index].to_csv(\"mainTable_tpm_all_seed314.csv\")"
   ]
  },
  {
   "cell_type": "code",
   "execution_count": null,
   "metadata": {
    "id": "cSKLkFcaER9P"
   },
   "outputs": [],
   "source": [
    "df_files.to_csv(\"files.dat\")"
   ]
  },
  {
   "cell_type": "markdown",
   "metadata": {
    "id": "lbMoX_zLJuFM"
   },
   "source": [
    "# Gene selections"
   ]
  },
  {
   "cell_type": "markdown",
   "metadata": {
    "id": "dAmO1tHQLFOE"
   },
   "source": [
    "## Select Highly Variable Genes\n",
    "\n",
    "We use scanpy to select hvg"
   ]
  },
  {
   "cell_type": "code",
   "execution_count": null,
   "metadata": {
    "colab": {
     "base_uri": "https://localhost:8080/"
    },
    "executionInfo": {
     "elapsed": 661,
     "status": "ok",
     "timestamp": 1605263266519,
     "user": {
      "displayName": "Filippo Valle",
      "photoUrl": "https://lh3.googleusercontent.com/a-/AOh14GiSmOTQUwJEm9eOUO5yn38V9kqgHrZZ_vys3fCS=s64",
      "userId": "14300282905640499915"
     },
     "user_tz": -60
    },
    "id": "Uc32xZSlPCkc",
    "outputId": "ffe57c70-63fe-412d-d676-4a8383f489b4"
   },
   "outputs": [],
   "source": [
    "samples = df_files[df_files.index.isin(df.columns)]\n",
    "genes = df.index\n",
    "print(len(samples), len(genes))"
   ]
  },
  {
   "cell_type": "code",
   "execution_count": null,
   "metadata": {
    "id": "jVjvDFzBLFOF"
   },
   "outputs": [],
   "source": [
    "adata = sc.AnnData(X=df.reindex(index=genes, columns=samples.index).transpose(), obs=samples)"
   ]
  },
  {
   "cell_type": "code",
   "execution_count": null,
   "metadata": {
    "id": "R7wsXyxZLFOJ"
   },
   "outputs": [],
   "source": [
    "sc.pp.log1p(adata, copy=False)\n",
    "sc.pp.highly_variable_genes(adata, n_top_genes=3000, n_bins=50)"
   ]
  },
  {
   "cell_type": "code",
   "execution_count": null,
   "metadata": {
    "colab": {
     "base_uri": "https://localhost:8080/",
     "height": 296
    },
    "executionInfo": {
     "elapsed": 2895,
     "status": "ok",
     "timestamp": 1605263275906,
     "user": {
      "displayName": "Filippo Valle",
      "photoUrl": "https://lh3.googleusercontent.com/a-/AOh14GiSmOTQUwJEm9eOUO5yn38V9kqgHrZZ_vys3fCS=s64",
      "userId": "14300282905640499915"
     },
     "user_tz": -60
    },
    "id": "gdQauaSKLFOQ",
    "outputId": "28b1310c-f79c-4fd0-cd38-940d1999bfa1"
   },
   "outputs": [],
   "source": [
    "sc.pl.highly_variable_genes(adata, log=False, save='hvg.pdf')"
   ]
  },
  {
   "cell_type": "code",
   "execution_count": null,
   "metadata": {
    "id": "sEo3X6pSLFOU"
   },
   "outputs": [],
   "source": [
    "hvg = adata.var[adata.var['highly_variable']==True].index\n",
    "samples = adata.obs.index"
   ]
  },
  {
   "cell_type": "markdown",
   "metadata": {
    "id": "6Fxpu6Y6ylyI"
   },
   "source": [
    "Save a new table with only hvg"
   ]
  },
  {
   "cell_type": "code",
   "execution_count": null,
   "metadata": {
    "id": "R4wI9T8PSq6i"
   },
   "outputs": [],
   "source": [
    "file_name = \"mainTable_fpkm_all_hv.csv\"\n",
    "df.reindex(index=hvg, columns=samples).to_csv(file_name)\n",
    "from google.colab import files \n",
    "files.download(file_name)"
   ]
  },
  {
   "cell_type": "code",
   "execution_count": null,
   "metadata": {
    "colab": {
     "base_uri": "https://localhost:8080/",
     "height": 17
    },
    "executionInfo": {
     "elapsed": 1932,
     "status": "ok",
     "timestamp": 1595940840523,
     "user": {
      "displayName": "Filippo Valle",
      "photoUrl": "https://lh3.googleusercontent.com/a-/AOh14GiSmOTQUwJEm9eOUO5yn38V9kqgHrZZ_vys3fCS=s64",
      "userId": "14300282905640499915"
     },
     "user_tz": -120
    },
    "id": "MSYhqugdbdxl",
    "outputId": "b44c40de-345d-443c-9c17-243248a13030"
   },
   "outputs": [],
   "source": [
    "df_files.to_csv(\"files.dat\")\n",
    "files.download(\"files.dat\")"
   ]
  },
  {
   "cell_type": "markdown",
   "metadata": {
    "id": "EjZgH93w2wRm"
   },
   "source": [
    "## Select HouseKeeping"
   ]
  },
  {
   "cell_type": "markdown",
   "metadata": {
    "id": "s1GcJNV4yqKZ"
   },
   "source": [
    "We download [Human House Keeping genes](https://www.cell.com/trends/genetics/fulltext/S0168-9525(13)00089-9?_returnURL=https%3A%2F%2Flinkinghub.elsevier.com%2Fretrieve%2Fpii%2FS0168952513000899%3Fshowall%3Dtrue) from [https://www.tau.ac.il/~elieis/HKG/](https://www.tau.ac.il/~elieis/HKG/HK_exons.xlsx)"
   ]
  },
  {
   "cell_type": "code",
   "execution_count": null,
   "metadata": {
    "id": "GT-3FIkg22qo"
   },
   "outputs": [],
   "source": [
    "hk = pd.read_excel(\"HK_exons.xlsx\")[\"Gene Name\"].unique()"
   ]
  },
  {
   "cell_type": "markdown",
   "metadata": {
    "id": "vgoikocwzU3z"
   },
   "source": [
    "Here we use [https://www.genenames.org](https://www.genenames.org) to convert  genes' names to Ensamble' ids"
   ]
  },
  {
   "cell_type": "code",
   "execution_count": null,
   "metadata": {
    "id": "IyttG6Sr22pU"
   },
   "outputs": [],
   "source": [
    "hgcn_url = \"https://www.genenames.org/cgi-bin/download/custom?col=gd_hgnc_id&col=gd_app_sym&col=gd_app_name&col=md_ensembl_id&status=Approved&status=Entry%20Withdrawn&hgnc_dbtag=on&order_by=gd_app_name&format=text&submit=submit\"\n",
    "df_conversion=pd.read_csv(hgcn_url, sep=\"\\t\")"
   ]
  },
  {
   "cell_type": "code",
   "execution_count": null,
   "metadata": {
    "id": "NJQnZfInEREP"
   },
   "outputs": [],
   "source": [
    "df_hk_ensg = df_conversion[(df_conversion[\"Approved symbol\"].isin(hk))&(df_conversion[\"Ensembl ID(supplied by Ensembl)\"].isin(df.index))][\"Ensembl ID(supplied by Ensembl)\"].drop_duplicates().values"
   ]
  },
  {
   "cell_type": "code",
   "execution_count": null,
   "metadata": {
    "id": "xjQm3_p3IQo1"
   },
   "outputs": [],
   "source": [
    "df_hk = df.reindex(index=df_hk_ensg)\n",
    "df_hk.to_csv(\"mainTable_hk.csv\", index=True)"
   ]
  },
  {
   "cell_type": "markdown",
   "metadata": {
    "id": "Eion_sbx1bKd"
   },
   "source": [
    "## Select DEG"
   ]
  },
  {
   "cell_type": "code",
   "execution_count": null,
   "metadata": {
    "id": "gJ2GALT51aKu"
   },
   "outputs": [],
   "source": [
    "with open(\"HDE_Lung.csv\") as file:\n",
    "    hde = list(map(lambda g:g.split(\"\\n\")[0], file.readlines()))[1:]"
   ]
  },
  {
   "cell_type": "code",
   "execution_count": null,
   "metadata": {
    "colab": {
     "base_uri": "https://localhost:8080/"
    },
    "executionInfo": {
     "elapsed": 1950,
     "status": "ok",
     "timestamp": 1605263383245,
     "user": {
      "displayName": "Filippo Valle",
      "photoUrl": "https://lh3.googleusercontent.com/a-/AOh14GiSmOTQUwJEm9eOUO5yn38V9kqgHrZZ_vys3fCS=s64",
      "userId": "14300282905640499915"
     },
     "user_tz": -60
    },
    "id": "8unYIyaM2NJ9",
    "outputId": "958f0036-89f7-41c7-f29b-5f52dbfe5381"
   },
   "outputs": [],
   "source": [
    "df_hde = df.reindex(index=df.index[df.index.isin(hde)])\n",
    "print(df_hde.shape)\n",
    "df_hde.to_csv(\"mainTable_hde.csv\", index=True)"
   ]
  },
  {
   "cell_type": "markdown",
   "metadata": {
    "id": "WNH2Bi2cYx-L"
   },
   "source": [
    "## Select Random"
   ]
  },
  {
   "cell_type": "code",
   "execution_count": null,
   "metadata": {
    "colab": {
     "base_uri": "https://localhost:8080/"
    },
    "executionInfo": {
     "elapsed": 25855,
     "status": "ok",
     "timestamp": 1610992424972,
     "user": {
      "displayName": "Filippo Valle",
      "photoUrl": "https://lh3.googleusercontent.com/a-/AOh14GiSmOTQUwJEm9eOUO5yn38V9kqgHrZZ_vys3fCS=s64",
      "userId": "14300282905640499915"
     },
     "user_tz": -60
    },
    "id": "l1NBA8j1ZCuC",
    "outputId": "c371be55-a90a-43e2-8154-aa1c6f01bcf6"
   },
   "outputs": [],
   "source": [
    "seed = 0\n",
    "rand_genes = df.sample(3000, axis=0, random_state=seed).index\n",
    "rand_genes"
   ]
  },
  {
   "cell_type": "code",
   "execution_count": null,
   "metadata": {
    "colab": {
     "base_uri": "https://localhost:8080/"
    },
    "executionInfo": {
     "elapsed": 24515,
     "status": "ok",
     "timestamp": 1610992424974,
     "user": {
      "displayName": "Filippo Valle",
      "photoUrl": "https://lh3.googleusercontent.com/a-/AOh14GiSmOTQUwJEm9eOUO5yn38V9kqgHrZZ_vys3fCS=s64",
      "userId": "14300282905640499915"
     },
     "user_tz": -60
    },
    "id": "xAsrX9g2YwkQ",
    "outputId": "b28908ed-0586-45b1-c80f-c48e97403edd"
   },
   "outputs": [],
   "source": [
    "df_rand = df.reindex(index=df.index[df.index.isin(rand_genes)], columns = samples.index)\n",
    "print(df_rand.shape)\n",
    "print(df_rand.head(2))\n",
    "df_rand.to_csv(f\"mainTable_random_{seed}.csv\", index=True)"
   ]
  },
  {
   "cell_type": "markdown",
   "metadata": {
    "id": "WJw8LIAuLFOa"
   },
   "source": [
    "# Run Stochastic Block Model\n",
    "We run [stochastic block model](https://github.com/martingerlach/hSBM_Topicmodel/tree/develop)"
   ]
  },
  {
   "cell_type": "code",
   "execution_count": null,
   "metadata": {
    "executionInfo": {
     "elapsed": 785108,
     "status": "ok",
     "timestamp": 1610991874984,
     "user": {
      "displayName": "Filippo Valle",
      "photoUrl": "https://lh3.googleusercontent.com/a-/AOh14GiSmOTQUwJEm9eOUO5yn38V9kqgHrZZ_vys3fCS=s64",
      "userId": "14300282905640499915"
     },
     "user_tz": -60
    },
    "id": "wc8eyP_LLFOb"
   },
   "outputs": [],
   "source": [
    "from sbmtm import sbmtm\n",
    "\n",
    "# create the model\n",
    "model = sbmtm()"
   ]
  },
  {
   "cell_type": "code",
   "execution_count": null,
   "metadata": {
    "colab": {
     "base_uri": "https://localhost:8080/"
    },
    "executionInfo": {
     "elapsed": 545,
     "status": "ok",
     "timestamp": 1605263568481,
     "user": {
      "displayName": "Filippo Valle",
      "photoUrl": "https://lh3.googleusercontent.com/a-/AOh14GiSmOTQUwJEm9eOUO5yn38V9kqgHrZZ_vys3fCS=s64",
      "userId": "14300282905640499915"
     },
     "user_tz": -60
    },
    "id": "9IWe7zvuLFOg",
    "outputId": "9e462864-4a10-4916-8198-69cae973e859"
   },
   "outputs": [],
   "source": [
    "samples = samples\n",
    "genes = hvg\n",
    "print(len(samples), len(genes))"
   ]
  },
  {
   "cell_type": "markdown",
   "metadata": {
    "id": "viYv-ehPtIzq"
   },
   "source": [
    "### make a graph with the data\n"
   ]
  },
  {
   "cell_type": "code",
   "execution_count": null,
   "metadata": {
    "colab": {
     "base_uri": "https://localhost:8080/",
     "height": 262
    },
    "executionInfo": {
     "elapsed": 1654,
     "status": "ok",
     "timestamp": 1610992527440,
     "user": {
      "displayName": "Filippo Valle",
      "photoUrl": "https://lh3.googleusercontent.com/a-/AOh14GiSmOTQUwJEm9eOUO5yn38V9kqgHrZZ_vys3fCS=s64",
      "userId": "14300282905640499915"
     },
     "user_tz": -60
    },
    "id": "IqIVBZIJDIY8",
    "outputId": "d536342e-5a14-4403-868d-4c860d57bd82"
   },
   "outputs": [],
   "source": [
    "df_read = pd.read_csv(\"mainTable_random_0.csv\", index_col=0)\n",
    "genes = df_read.index\n",
    "samples = pd.Series(index=df_read.columns, dtype=str)\n",
    "print(len(samples), len(genes))\n",
    "df_read.head(2)"
   ]
  },
  {
   "cell_type": "code",
   "execution_count": null,
   "metadata": {
    "colab": {
     "base_uri": "https://localhost:8080/"
    },
    "executionInfo": {
     "elapsed": 43188,
     "status": "ok",
     "timestamp": 1610992574691,
     "user": {
      "displayName": "Filippo Valle",
      "photoUrl": "https://lh3.googleusercontent.com/a-/AOh14GiSmOTQUwJEm9eOUO5yn38V9kqgHrZZ_vys3fCS=s64",
      "userId": "14300282905640499915"
     },
     "user_tz": -60
    },
    "id": "awX5gbUoLFOr",
    "outputId": "1135846d-cbd3-49db-da26-abd22ea9b938"
   },
   "outputs": [],
   "source": [
    "# .applymap(lambda tpm: np.log2(tpm+1))\n",
    "model.make_graph_from_BoW_df(df.reindex(index=genes, columns=samples.index).dropna())\n",
    "model.save_graph(\"graph_random_00.xml.gz\")\n",
    "model.g"
   ]
  },
  {
   "cell_type": "markdown",
   "metadata": {
    "id": "ULe4g3qTtLFY"
   },
   "source": [
    "### load data\n",
    "Use this only if you **already have a *graph.xml.gz*** file"
   ]
  },
  {
   "cell_type": "code",
   "execution_count": null,
   "metadata": {
    "id": "VPMxekzvLFO1"
   },
   "outputs": [],
   "source": [
    "# load graph\n",
    "model.load_graph(\"graph_counts.xml.gz\")\n",
    "model.g"
   ]
  },
  {
   "cell_type": "markdown",
   "metadata": {
    "id": "Ldd2ZxostNve"
   },
   "source": [
    "### load pretrained\n",
    "Use this only if you **already have a *topsbm.pkl*** file with a trained model "
   ]
  },
  {
   "cell_type": "code",
   "execution_count": null,
   "metadata": {
    "id": "blowKA-nzRal"
   },
   "outputs": [],
   "source": [
    "# load pretrainded\n",
    "import graph_tool as gt\n",
    "from graph_tool.inference.nested_blockmodel import NestedBlockState\n",
    "import pickle\n",
    "\n",
    "with open(\"topsbm/topsbm.pkl\", \"rb\") as file:\n",
    "  model = pickle.load(file)\n",
    "\n",
    "model.mul"
   ]
  },
  {
   "cell_type": "markdown",
   "metadata": {
    "id": "QcdDMsOdtTPm"
   },
   "source": [
    "## Run"
   ]
  },
  {
   "cell_type": "code",
   "execution_count": null,
   "metadata": {
    "colab": {
     "background_save": true,
     "base_uri": "https://localhost:8080/"
    },
    "id": "9Phpa4YLWzuv",
    "outputId": "783692ae-7cf6-41a6-8aa8-4fd83b5245a3"
   },
   "outputs": [],
   "source": [
    "#os.chdir('/content/drive/My Drive/phd/datasets/gtex/10')\n",
    "config = \"hv\"\n",
    "os.system(f\"mkdir -p {config} && mkdir -p {config}/topsbm\")\n",
    "os.chdir(f\"{config}/topsbm\")\n",
    "\n",
    "model.fit(n_init=5, parallel=True, verbose=True, B_min=5, B_max=500)\n",
    "#model.multiflip_mcmc_sweep(n_steps=100, verbose=True)\n",
    "model.save_data()"
   ]
  },
  {
   "cell_type": "markdown",
   "metadata": {
    "id": "KIkACZOk4VfP"
   },
   "source": [
    "# check models\n",
    "You can use these functions to inspect saved models.\n",
    "\n",
    "Do not use unless needed"
   ]
  },
  {
   "cell_type": "code",
   "execution_count": null,
   "metadata": {
    "id": "o2nK_qQNLD4g"
   },
   "outputs": [],
   "source": [
    "os.chdir(\"/content/drive/My Drive/phd/datasets/gtex/gtexall\")"
   ]
  },
  {
   "cell_type": "code",
   "execution_count": null,
   "metadata": {
    "colab": {
     "base_uri": "https://localhost:8080/",
     "height": 102
    },
    "executionInfo": {
     "elapsed": 6202,
     "status": "ok",
     "timestamp": 1597138706524,
     "user": {
      "displayName": "Filippo Valle",
      "photoUrl": "https://lh3.googleusercontent.com/a-/AOh14GiSmOTQUwJEm9eOUO5yn38V9kqgHrZZ_vys3fCS=s64",
      "userId": "14300282905640499915"
     },
     "user_tz": -120
    },
    "id": "4YHyOxloazu9",
    "outputId": "c8765840-92ce-4bd2-f266-69e67728aa37"
   },
   "outputs": [],
   "source": [
    "df = pd.read_csv(\"mainTable.csv\", index_col=0)\n",
    "df.info()"
   ]
  },
  {
   "cell_type": "code",
   "execution_count": null,
   "metadata": {
    "colab": {
     "base_uri": "https://localhost:8080/",
     "height": 34
    },
    "executionInfo": {
     "elapsed": 613,
     "status": "ok",
     "timestamp": 1595428063451,
     "user": {
      "displayName": "Filippo Valle",
      "photoUrl": "https://lh3.googleusercontent.com/a-/AOh14GiSmOTQUwJEm9eOUO5yn38V9kqgHrZZ_vys3fCS=s64",
      "userId": "14300282905640499915"
     },
     "user_tz": -120
    },
    "id": "unQgClwX2c5P",
    "outputId": "627468b7-7db3-49e4-9eab-5e8326bf2393"
   },
   "outputs": [],
   "source": [
    "(df>1e5).sum().sum()/df.shape[0]/df.shape[1]*100"
   ]
  },
  {
   "cell_type": "code",
   "execution_count": null,
   "metadata": {
    "id": "r4Epv3GQT25w"
   },
   "outputs": [],
   "source": [
    "df = pd.read_csv(\"mainTable_all.csv\", index_col=0)"
   ]
  },
  {
   "cell_type": "code",
   "execution_count": null,
   "metadata": {
    "id": "h39hRU-2UAPG"
   },
   "outputs": [],
   "source": [
    "#os.chdir(\"/content/drive/My Drive/phd/TOPSBM_TEST\")\n",
    "os.chdir(\"/content/drive/My Drive/phd/datasets/gtex/10\")\n",
    "os.getcwd()"
   ]
  },
  {
   "cell_type": "code",
   "execution_count": null,
   "metadata": {
    "colab": {
     "base_uri": "https://localhost:8080/",
     "height": 71
    },
    "executionInfo": {
     "elapsed": 2194,
     "status": "ok",
     "timestamp": 1597138718144,
     "user": {
      "displayName": "Filippo Valle",
      "photoUrl": "https://lh3.googleusercontent.com/a-/AOh14GiSmOTQUwJEm9eOUO5yn38V9kqgHrZZ_vys3fCS=s64",
      "userId": "14300282905640499915"
     },
     "user_tz": -120
    },
    "id": "xEMFMbjfhp17",
    "outputId": "6f4796db-36f3-44b1-d518-376f2385785b"
   },
   "outputs": [],
   "source": [
    "import graph_tool as gt\n",
    "import seaborn as sns\n",
    "from sbmtm import sbmtm"
   ]
  },
  {
   "cell_type": "code",
   "execution_count": null,
   "metadata": {
    "id": "Ws8fEIku4df3"
   },
   "outputs": [],
   "source": [
    "import matplotlib.pyplot as plt\n",
    "model = sbmtm()\n",
    "\n",
    "def load_and_print(graph=\"graph.xml.gz\", **kwargs):\n",
    "  model.load_graph(graph)\n",
    "  print(model.g)\n",
    "  print(len(model.words),len(model.documents))\n",
    "  data = gt.spectral.adjacency(model.g, weight=model.g.edge_properties[\"count\"]).toarray()\n",
    "  n_doc = len(model.documents)\n",
    "  data = data[n_doc:,:n_doc]\n",
    "  ax = sns.heatmap(data, **kwargs)\n",
    "  ax.set_ylabel(\"words\", fontsize=35, rotation=90)\n",
    "  ax.yaxis.tick_left()\n",
    "  ax.yaxis.set_label_position(\"left\")\n",
    "\n",
    "  ax.set_xlabel(\"documents\",fontsize=35)\n",
    "  ax.tick_params(labelsize=25)\n",
    "  return model, data\n",
    "\n",
    "def load_trained_and_print(graph=\"topsbm.pkl\", **kwargs):\n",
    "  import pickle\n",
    "  with open(graph,\"rb\") as io:\n",
    "    model = pickle.load(io)\n",
    "  print(model.g)\n",
    "  print(len(model.words),len(model.documents))\n",
    "  data = gt.spectral.adjacency(model.g, weight=model.g.edge_properties[\"count\"]).toarray()\n",
    "  n_doc = len(model.documents)\n",
    "  data = data[n_doc:,:n_doc]\n",
    "  ax = sns.heatmap(data, **kwargs)\n",
    "  ax.set_ylabel(\"words\", fontsize=35, rotation=90)\n",
    "  ax.yaxis.tick_left()\n",
    "  ax.yaxis.set_label_position(\"left\")\n",
    "\n",
    "  ax.set_xlabel(\"documents\",fontsize=35)\n",
    "  ax.tick_params(labelsize=25)\n",
    "  return model, data"
   ]
  },
  {
   "cell_type": "code",
   "execution_count": null,
   "metadata": {
    "colab": {
     "base_uri": "https://localhost:8080/",
     "height": 453
    },
    "executionInfo": {
     "elapsed": 33957,
     "status": "ok",
     "timestamp": 1597138808034,
     "user": {
      "displayName": "Filippo Valle",
      "photoUrl": "https://lh3.googleusercontent.com/a-/AOh14GiSmOTQUwJEm9eOUO5yn38V9kqgHrZZ_vys3fCS=s64",
      "userId": "14300282905640499915"
     },
     "user_tz": -120
    },
    "id": "BeDZqwat5Fk3",
    "outputId": "f307c5cb-3224-442d-ee81-200eaed72d4b"
   },
   "outputs": [],
   "source": [
    "model, data = load_and_print(\"topsbm/graph.xml.gz\");\n",
    "data.max()"
   ]
  },
  {
   "cell_type": "code",
   "execution_count": null,
   "metadata": {
    "id": "27fmS6ZW5MJ2"
   },
   "outputs": [],
   "source": [
    "load_and_print(\"graph_hk.xml.gz\", vmax=5e3);"
   ]
  },
  {
   "cell_type": "code",
   "execution_count": null,
   "metadata": {
    "id": "wJkOgu_05Whb"
   },
   "outputs": [],
   "source": [
    "load_and_print(\"graph_log10.xml.gz\");"
   ]
  },
  {
   "cell_type": "code",
   "execution_count": null,
   "metadata": {
    "colab": {
     "base_uri": "https://localhost:8080/",
     "height": 1000
    },
    "executionInfo": {
     "elapsed": 1290,
     "status": "ok",
     "timestamp": 1595518822146,
     "user": {
      "displayName": "Filippo Valle",
      "photoUrl": "https://lh3.googleusercontent.com/a-/AOh14GiSmOTQUwJEm9eOUO5yn38V9kqgHrZZ_vys3fCS=s64",
      "userId": "14300282905640499915"
     },
     "user_tz": -120
    },
    "id": "tmmsImnZU_hV",
    "outputId": "5edeca9b-4945-4e19-b308-1799d1fd7d6b"
   },
   "outputs": [],
   "source": [
    "ld = os.listdir()\n",
    "ld.sort()\n",
    "ld"
   ]
  },
  {
   "cell_type": "code",
   "execution_count": null,
   "metadata": {
    "colab": {
     "base_uri": "https://localhost:8080/",
     "height": 423
    },
    "executionInfo": {
     "elapsed": 7662,
     "status": "ok",
     "timestamp": 1595518888290,
     "user": {
      "displayName": "Filippo Valle",
      "photoUrl": "https://lh3.googleusercontent.com/a-/AOh14GiSmOTQUwJEm9eOUO5yn38V9kqgHrZZ_vys3fCS=s64",
      "userId": "14300282905640499915"
     },
     "user_tz": -120
    },
    "id": "HUuWNe6AqfMY",
    "outputId": "7c311872-4702-41f6-d970-cc40f9785e89"
   },
   "outputs": [],
   "source": [
    "model, data = load_and_print(\"graph_log.xml.gz\");\n",
    "data.max()"
   ]
  },
  {
   "cell_type": "code",
   "execution_count": null,
   "metadata": {
    "id": "HwTgSbTV42g2"
   },
   "outputs": [],
   "source": [
    "df.reindex(index=hvg, columns=samples).loc[[g[:15] for g in model.words[:5]],model.documents[:5]]"
   ]
  },
  {
   "cell_type": "code",
   "execution_count": null,
   "metadata": {
    "id": "sBO0iai5-sxQ"
   },
   "outputs": [],
   "source": [
    "model.save_graph(\"graph_tpm_hv.xml.gz\")"
   ]
  },
  {
   "cell_type": "code",
   "execution_count": null,
   "metadata": {
    "id": "7Z84xJUv_X8_"
   },
   "outputs": [],
   "source": [
    "model.load_graph(\"topsbm/graph_hde.xml.gz\")"
   ]
  },
  {
   "cell_type": "code",
   "execution_count": null,
   "metadata": {
    "id": "S69bORiT_U9G"
   },
   "outputs": [],
   "source": [
    "model.multiflip_mcmc_sweep(n_steps=10)"
   ]
  },
  {
   "cell_type": "code",
   "execution_count": null,
   "metadata": {
    "id": "4p6ss76h_siW"
   },
   "outputs": [],
   "source": [
    "df = df.drop_duplicates()\n",
    "df.reindex(index=pd.read_csv(\"topsbm-rg/topsbm-rg_level_0_word-dist.csv\", index_col=0).index).to_csv(\"mainTable-rg.csv\")"
   ]
  },
  {
   "cell_type": "code",
   "execution_count": null,
   "metadata": {
    "id": "PBDrSrD_Ldid"
   },
   "outputs": [],
   "source": [
    "df.index=[g[:15] for g in df.index]"
   ]
  },
  {
   "cell_type": "code",
   "execution_count": null,
   "metadata": {
    "id": "9fRrWBOELl-_"
   },
   "outputs": [],
   "source": []
  }
 ],
 "metadata": {
  "colab": {
   "collapsed_sections": [
    "EjZgH93w2wRm",
    "ULe4g3qTtLFY",
    "Ldd2ZxostNve"
   ],
   "machine_shape": "hm",
   "name": "run_graph.ipynb",
   "provenance": [],
   "toc_visible": true
  },
  "kernelspec": {
   "display_name": "Python 3",
   "language": "python",
   "name": "python3"
  },
  "language_info": {
   "codemirror_mode": {
    "name": "ipython",
    "version": 3
   },
   "file_extension": ".py",
   "mimetype": "text/x-python",
   "name": "python",
   "nbconvert_exporter": "python",
   "pygments_lexer": "ipython3",
   "version": "3.6.9"
  }
 },
 "nbformat": 4,
 "nbformat_minor": 0
}

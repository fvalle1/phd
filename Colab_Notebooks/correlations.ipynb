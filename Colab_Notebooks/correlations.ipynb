{
 "cells": [
  {
   "cell_type": "code",
   "execution_count": null,
   "metadata": {},
   "outputs": [],
   "source": [
    "import pandas as pd\n",
    "import os,sys,gc\n",
    "!echo \"deb http://downloads.skewed.de/apt/ bionic main\" >> /etc/apt/sources.list\n",
    "!apt-key adv --keyserver keys.openpgp.org --recv-key 612DEFB798507F25\n",
    "!apt-get update\n",
    "!apt-get install python3-graph-tool\n",
    "sys.path.append('/content/drive/My Drive/phd/hSBM_Topicmodel/')\n",
    "from sbmtm import sbmtm\n",
    "import seaborn as sns\n",
    "import graph_tool as gt\n",
    "import numpy as np\n",
    "import matplotlib.pyplot as plt\n",
    "import tensorflow_probability as tfp\n",
    "import tensorflow as tf"
   ]
  },
  {
   "cell_type": "code",
   "execution_count": null,
   "metadata": {},
   "outputs": [],
   "source": [
    "directory=\"/content/drive/My Drive/phd/datasets/gtex/10\"\n",
    "os.chdir(directory)\n",
    "model=sbmtm()\n",
    "model.load_graph(\"graph.xml.gz\")\n",
    "data=gt.spectral.adjacency(model.g, model.g.edge_properties[\"count\"]).toarray()\n",
    "df = pd.DataFrame(data=data[1000:,:1000])"
   ]
  },
  {
   "cell_type": "code",
   "execution_count": null,
   "metadata": {},
   "outputs": [],
   "source": [
    "ax = sns.heatmap(pd.read_csv(\"mainTable.csv\", index_col=0).corr(), annot=False, xticklabels=False, yticklabels=False)\n",
    "ax.set_title(\"data correlation\")\n",
    "fig = ax.get_figure()\n",
    "fig.savefig(f\"gtex_pearson_tpm.png\")\n",
    "plt.show()"
   ]
  },
  {
   "cell_type": "code",
   "execution_count": null,
   "metadata": {},
   "outputs": [],
   "source": [
    "data_tensor = tf.convert_to_tensor(pd.read_csv(\"mainTable.csv\", index_col=0).values)"
   ]
  },
  {
   "cell_type": "code",
   "execution_count": null,
   "metadata": {},
   "outputs": [],
   "source": [
    "def log10(x):\n",
    "    numerator = tf.math.log(x)\n",
    "    denominator = tf.math.log(tf.constant(10, dtype=numerator.dtype))\n",
    "    return numerator / denominator\n",
    "\n",
    "def log2(x):\n",
    "    numerator = tf.math.log(x)\n",
    "    denominator = tf.math.log(tf.constant(2, dtype=numerator.dtype))\n",
    "    return numerator / denominator"
   ]
  },
  {
   "cell_type": "code",
   "execution_count": null,
   "metadata": {},
   "outputs": [],
   "source": [
    "correlations = []\n",
    "with tf.device(\"GPU\"):\n",
    "  for alpha in np.logspace(-5,5,31):\n",
    "    newdf= log2(data_tensor+tf.constant(alpha, dtype=data_tensor.dtype))\n",
    "    corrMatrix = tfp.stats.correlation(newdf)\n",
    "    avg_corr = tf.math.reduce_mean(corrMatrix, axis=None)\n",
    "    correlations.append((alpha, avg_corr))\n",
    "    ax = sns.heatmap(corrMatrix, annot=False, xticklabels=False, yticklabels=False)\n",
    "    ax.set_title(\"data correlation log(tpm + %.3f)\"%alpha)\n",
    "    fig = ax.get_figure()\n",
    "    fig.savefig(f\"gtex_pearson_tpm_{alpha}.png\")\n",
    "    plt.show()"
   ]
  },
  {
   "cell_type": "code",
   "execution_count": null,
   "metadata": {},
   "outputs": [],
   "source": [
    "with tf.device(\"CPU\"):\n",
    "    corrMatrix = tfp.stats.correlation(data_tensor)\n",
    "    avg_corr = tf.math.reduce_mean(corrMatrix, axis=None)\n",
    "    fig, ax = plt.subplots(2,3, figsize=(20,12))\n",
    "    ax=ax.ravel()\n",
    "    sns.heatmap(corrMatrix, ax=ax[0], annot=False, xticklabels=False, yticklabels=False)\n",
    "    ax[0].set_title(\"data correlation\")\n",
    "\n",
    "    sns.heatmap(tfp.stats.correlation(tf.math.round(data_tensor)), ax=ax[3], annot=False, xticklabels=False, yticklabels=False)\n",
    "    ax[3].set_title(\"round(data) correlation\")\n",
    "\n",
    "    sns.heatmap(tfp.stats.correlation(log2(data_tensor+tf.constant(1, dtype=data_tensor.dtype))), ax=ax[1], annot=False, xticklabels=False, yticklabels=False)\n",
    "    ax[1].set_title(\"log2(data+1) correlation\")\n",
    "\n",
    "    sns.heatmap(tfp.stats.correlation(tf.math.round(log2(data_tensor+tf.constant(1, dtype=data_tensor.dtype)))), ax=ax[4], annot=False, xticklabels=False, yticklabels=False)\n",
    "    ax[4].set_title(\"round(log2(data+1)) correlation\")\n",
    "\n",
    "    sns.heatmap(tfp.stats.correlation(log10(data_tensor+tf.constant(1, dtype=data_tensor.dtype))), ax=ax[2], annot=False, xticklabels=False, yticklabels=False)\n",
    "    ax[2].set_title(\"log10(data+1) correlation\")\n",
    "\n",
    "    sns.heatmap(tfp.stats.correlation(tf.math.round(log10(data_tensor+tf.constant(1, dtype=data_tensor.dtype)))), ax=ax[5], annot=False, xticklabels=False, yticklabels=False)\n",
    "    ax[5].set_title(\"round(log10(data+1)) correlation\")\n",
    "\n",
    "    fig.savefig(f\"gtex_pearson_data.png\")\n",
    "    plt.show()"
   ]
  },
  {
   "cell_type": "code",
   "execution_count": null,
   "metadata": {},
   "outputs": [],
   "source": [
    "fig = plt.figure(figsize=(18,15))\n",
    "plt.plot(np.array(correlations).T[0], np.array(correlations).T[1], lw=15, alpha=0.8, c=\"gray\")\n",
    "plt.plot(np.logspace(1,9),[avg_corr for _ in np.logspace(1,9)], lw=10, color=\"red\", ls=\"-.\")\n",
    "\n",
    "plt.xlabel(\"alpha\", fontsize=40)\n",
    "plt.ylabel(\"average Pearson correlation\", fontsize=40)\n",
    "plt.tick_params(which=\"both\",width=10, length=20, labelsize=45)\n",
    "\n",
    "\n",
    "plt.xscale(\"log\")\n",
    "plt.show()"
   ]
  },
  {
   "cell_type": "code",
   "execution_count": null,
   "metadata": {},
   "outputs": [],
   "source": []
  },
  {
   "cell_type": "code",
   "execution_count": null,
   "metadata": {},
   "outputs": [],
   "source": [
    "os.chdir(\"/content/drive/My Drive/phd/datasets/gtex\")"
   ]
  },
  {
   "cell_type": "code",
   "execution_count": null,
   "metadata": {},
   "outputs": [],
   "source": [
    "model = sbmtm()\n",
    "model.load_graph(\"10/graph.xml.gz\")\n",
    "sns.heatmap(gt.spectral.adjacency(model.g, model.g.edge_properties[\"count\"]).toarray()[1000:,:1000], vmax=100)"
   ]
  },
  {
   "cell_type": "code",
   "execution_count": null,
   "metadata": {},
   "outputs": [],
   "source": [
    "model = sbmtm()\n",
    "model.load_graph(\"10/graph_log.xml.gz\")\n",
    "sns.heatmap(gt.spectral.adjacency(model.g, model.g.edge_properties[\"count\"]).toarray()[1000:,:1000])"
   ]
  },
  {
   "cell_type": "code",
   "execution_count": null,
   "metadata": {},
   "outputs": [],
   "source": [
    "model = sbmtm()\n",
    "model.load_graph(\"10/graph_hk.xml.gz\")\n",
    "sns.heatmap(gt.spectral.adjacency(model.g, model.g.edge_properties[\"count\"]).toarray()[1000:,:1000], vmax=100)"
   ]
  },
  {
   "cell_type": "code",
   "execution_count": null,
   "metadata": {},
   "outputs": [],
   "source": []
  }
 ],
 "metadata": {
  "accelerator": "GPU",
  "colab": {
   "authorship_tag": "ABX9TyPcn4PDsGxeTeBFtPaxJuGo",
   "mount_file_id": "17ucjN3siLjb34vb2KtDi6m3WGMYlI9Zy",
   "name": "correlations.ipynb",
   "provenance": []
  },
  "kernelspec": {
   "display_name": "Python 3",
   "name": "python3"
  }
 },
 "nbformat": 4,
 "nbformat_minor": 0
}

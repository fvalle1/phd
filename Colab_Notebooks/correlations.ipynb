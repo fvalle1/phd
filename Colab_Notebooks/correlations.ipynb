{
 "cells": [
  {
   "cell_type": "code",
   "execution_count": null,
   "metadata": {
    "colab": {
     "base_uri": "https://localhost:8080/",
     "height": 1000
    },
    "colab_type": "code",
    "executionInfo": {
     "elapsed": 48585,
     "status": "ok",
     "timestamp": 1586263936456,
     "user": {
      "displayName": "Filippo Valle",
      "photoUrl": "https://lh3.googleusercontent.com/a-/AOh14GiSmOTQUwJEm9eOUO5yn38V9kqgHrZZ_vys3fCS=s64",
      "userId": "14300282905640499915"
     },
     "user_tz": -120
    },
    "id": "ZLA7KJO3Yq2T",
    "outputId": "2cf3ab7d-6cf5-4413-e8a3-ba917f4e4a75"
   },
   "outputs": [],
   "source": [
    "import pandas as pd\n",
    "import os,sys,gc\n",
    "!echo \"deb http://downloads.skewed.de/apt/ bionic main\" >> /etc/apt/sources.list\n",
    "!apt-key adv --keyserver keys.openpgp.org --recv-key 612DEFB798507F25\n",
    "!apt-get update\n",
    "!apt-get install python3-graph-tool\n",
    "sys.path.append('/content/drive/My Drive/phd/hSBM_Topicmodel/')\n",
    "from sbmtm import sbmtm\n",
    "import seaborn as sns\n",
    "import graph_tool as gt\n",
    "import numpy as np\n",
    "import matplotlib.pyplot as plt\n",
    "import tensorflow_probability as tfp\n",
    "import tensorflow as tf"
   ]
  },
  {
   "cell_type": "code",
   "execution_count": null,
   "metadata": {
    "colab": {},
    "colab_type": "code",
    "id": "w2pFHEfAZHWv"
   },
   "outputs": [],
   "source": [
    "directory=\"/content/drive/My Drive/phd/datasets/gtex/10\"\n",
    "os.chdir(directory)\n",
    "model=sbmtm()\n",
    "model.load_graph(\"graph.xml.gz\")\n",
    "data=gt.spectral.adjacency(model.g, model.g.edge_properties[\"count\"]).toarray()\n",
    "df = pd.DataFrame(data=data[1000:,:1000])"
   ]
  },
  {
   "cell_type": "code",
   "execution_count": null,
   "metadata": {
    "colab": {
     "base_uri": "https://localhost:8080/",
     "height": 264
    },
    "colab_type": "code",
    "executionInfo": {
     "elapsed": 112621,
     "status": "ok",
     "timestamp": 1586265202594,
     "user": {
      "displayName": "Filippo Valle",
      "photoUrl": "https://lh3.googleusercontent.com/a-/AOh14GiSmOTQUwJEm9eOUO5yn38V9kqgHrZZ_vys3fCS=s64",
      "userId": "14300282905640499915"
     },
     "user_tz": -120
    },
    "id": "AxfdSYZAdcRH",
    "outputId": "07ab09eb-1ddf-4f3b-eb7b-b84a9c79183b"
   },
   "outputs": [],
   "source": [
    "ax = sns.heatmap(pd.read_csv(\"mainTable.csv\", index_col=0).corr(), annot=False, xticklabels=False, yticklabels=False)\n",
    "ax.set_title(\"data correlation\")\n",
    "fig = ax.get_figure()\n",
    "fig.savefig(f\"gtex_pearson_tpm.png\")\n",
    "plt.show()"
   ]
  },
  {
   "cell_type": "code",
   "execution_count": null,
   "metadata": {
    "colab": {},
    "colab_type": "code",
    "id": "pPlSEzXqe41x"
   },
   "outputs": [],
   "source": [
    "data_tensor = tf.convert_to_tensor(pd.read_csv(\"mainTable.csv\", index_col=0).values)"
   ]
  },
  {
   "cell_type": "code",
   "execution_count": null,
   "metadata": {
    "colab": {},
    "colab_type": "code",
    "id": "sPlQOfo9fguN"
   },
   "outputs": [],
   "source": [
    "def log10(x):\n",
    "    numerator = tf.math.log(x)\n",
    "    denominator = tf.math.log(tf.constant(10, dtype=numerator.dtype))\n",
    "    return numerator / denominator\n",
    "\n",
    "def log2(x):\n",
    "    numerator = tf.math.log(x)\n",
    "    denominator = tf.math.log(tf.constant(2, dtype=numerator.dtype))\n",
    "    return numerator / denominator"
   ]
  },
  {
   "cell_type": "code",
   "execution_count": null,
   "metadata": {
    "colab": {
     "base_uri": "https://localhost:8080/",
     "height": 1000,
     "output_embedded_package_id": "1iHL-nG_3xZqhNKASWkOLE3OW9sEJrFcm"
    },
    "colab_type": "code",
    "executionInfo": {
     "elapsed": 55723,
     "status": "ok",
     "timestamp": 1586265327006,
     "user": {
      "displayName": "Filippo Valle",
      "photoUrl": "https://lh3.googleusercontent.com/a-/AOh14GiSmOTQUwJEm9eOUO5yn38V9kqgHrZZ_vys3fCS=s64",
      "userId": "14300282905640499915"
     },
     "user_tz": -120
    },
    "id": "9sLHT9FkZvZT",
    "outputId": "67017e6d-634c-412e-aac1-381b9b04a8ef"
   },
   "outputs": [],
   "source": [
    "correlations = []\n",
    "with tf.device(\"GPU\"):\n",
    "  for alpha in np.logspace(-5,5,31):\n",
    "    newdf= log2(data_tensor+tf.constant(alpha, dtype=data_tensor.dtype))\n",
    "    corrMatrix = tfp.stats.correlation(newdf)\n",
    "    avg_corr = tf.math.reduce_mean(corrMatrix, axis=None)\n",
    "    correlations.append((alpha, avg_corr))\n",
    "    ax = sns.heatmap(corrMatrix, annot=False, xticklabels=False, yticklabels=False)\n",
    "    ax.set_title(\"data correlation log(tpm + %.3f)\"%alpha)\n",
    "    fig = ax.get_figure()\n",
    "    fig.savefig(f\"gtex_pearson_tpm_{alpha}.png\")\n",
    "    plt.show()"
   ]
  },
  {
   "cell_type": "code",
   "execution_count": null,
   "metadata": {
    "colab": {
     "base_uri": "https://localhost:8080/",
     "height": 232
    },
    "colab_type": "code",
    "executionInfo": {
     "elapsed": 686,
     "status": "error",
     "timestamp": 1585907008671,
     "user": {
      "displayName": "Filippo Valle",
      "photoUrl": "https://lh3.googleusercontent.com/a-/AOh14GiSmOTQUwJEm9eOUO5yn38V9kqgHrZZ_vys3fCS=s64",
      "userId": "14300282905640499915"
     },
     "user_tz": -120
    },
    "id": "wNTjllo5b_SM",
    "outputId": "6fcb20e8-2f07-4f92-85ac-67511709899e"
   },
   "outputs": [],
   "source": [
    "with tf.device(\"CPU\"):\n",
    "    corrMatrix = tfp.stats.correlation(data_tensor)\n",
    "    avg_corr = tf.math.reduce_mean(corrMatrix, axis=None)\n",
    "    fig, ax = plt.subplots(2,3, figsize=(20,12))\n",
    "    ax=ax.ravel()\n",
    "    sns.heatmap(corrMatrix, ax=ax[0], annot=False, xticklabels=False, yticklabels=False)\n",
    "    ax[0].set_title(\"data correlation\")\n",
    "\n",
    "    sns.heatmap(tfp.stats.correlation(tf.math.round(data_tensor)), ax=ax[3], annot=False, xticklabels=False, yticklabels=False)\n",
    "    ax[3].set_title(\"round(data) correlation\")\n",
    "\n",
    "    sns.heatmap(tfp.stats.correlation(log2(data_tensor+tf.constant(1, dtype=data_tensor.dtype))), ax=ax[1], annot=False, xticklabels=False, yticklabels=False)\n",
    "    ax[1].set_title(\"log2(data+1) correlation\")\n",
    "\n",
    "    sns.heatmap(tfp.stats.correlation(tf.math.round(log2(data_tensor+tf.constant(1, dtype=data_tensor.dtype)))), ax=ax[4], annot=False, xticklabels=False, yticklabels=False)\n",
    "    ax[4].set_title(\"round(log2(data+1)) correlation\")\n",
    "\n",
    "    sns.heatmap(tfp.stats.correlation(log10(data_tensor+tf.constant(1, dtype=data_tensor.dtype))), ax=ax[2], annot=False, xticklabels=False, yticklabels=False)\n",
    "    ax[2].set_title(\"log10(data+1) correlation\")\n",
    "\n",
    "    sns.heatmap(tfp.stats.correlation(tf.math.round(log10(data_tensor+tf.constant(1, dtype=data_tensor.dtype)))), ax=ax[5], annot=False, xticklabels=False, yticklabels=False)\n",
    "    ax[5].set_title(\"round(log10(data+1)) correlation\")\n",
    "\n",
    "    fig.savefig(f\"gtex_pearson_data.png\")\n",
    "    plt.show()"
   ]
  },
  {
   "cell_type": "code",
   "execution_count": null,
   "metadata": {
    "colab": {
     "base_uri": "https://localhost:8080/",
     "height": 958
    },
    "colab_type": "code",
    "executionInfo": {
     "elapsed": 1079,
     "status": "ok",
     "timestamp": 1585843625920,
     "user": {
      "displayName": "Filippo Valle",
      "photoUrl": "https://lh3.googleusercontent.com/a-/AOh14GiSmOTQUwJEm9eOUO5yn38V9kqgHrZZ_vys3fCS=s64",
      "userId": "14300282905640499915"
     },
     "user_tz": -120
    },
    "id": "HFVYjNaIiUZp",
    "outputId": "1d9c4c2e-7407-4c7b-c21a-fe0f04db43ef"
   },
   "outputs": [],
   "source": [
    "fig = plt.figure(figsize=(18,15))\n",
    "plt.plot(np.array(correlations).T[0], np.array(correlations).T[1], lw=15, alpha=0.8, c=\"gray\")\n",
    "plt.plot(np.logspace(1,9),[avg_corr for _ in np.logspace(1,9)], lw=10, color=\"red\", ls=\"-.\")\n",
    "\n",
    "plt.xlabel(\"alpha\", fontsize=40)\n",
    "plt.ylabel(\"average Pearson correlation\", fontsize=40)\n",
    "plt.tick_params(which=\"both\",width=10, length=20, labelsize=45)\n",
    "\n",
    "\n",
    "plt.xscale(\"log\")\n",
    "plt.show()"
   ]
  },
  {
   "cell_type": "code",
   "execution_count": null,
   "metadata": {
    "colab": {},
    "colab_type": "code",
    "id": "pzPTGdh7iddA"
   },
   "outputs": [],
   "source": []
  },
  {
   "cell_type": "code",
   "execution_count": null,
   "metadata": {
    "colab": {},
    "colab_type": "code",
    "id": "7DwM6TEnpqHI"
   },
   "outputs": [],
   "source": [
    "os.chdir(\"/content/drive/My Drive/phd/datasets/gtex\")"
   ]
  },
  {
   "cell_type": "code",
   "execution_count": null,
   "metadata": {
    "colab": {
     "base_uri": "https://localhost:8080/",
     "height": 295
    },
    "colab_type": "code",
    "executionInfo": {
     "elapsed": 6579,
     "status": "ok",
     "timestamp": 1585844176079,
     "user": {
      "displayName": "Filippo Valle",
      "photoUrl": "https://lh3.googleusercontent.com/a-/AOh14GiSmOTQUwJEm9eOUO5yn38V9kqgHrZZ_vys3fCS=s64",
      "userId": "14300282905640499915"
     },
     "user_tz": -120
    },
    "id": "kCXQBIthkjxN",
    "outputId": "ccde1c28-8d86-4096-dd7a-ba0471cc83ff"
   },
   "outputs": [],
   "source": [
    "model = sbmtm()\n",
    "model.load_graph(\"10/graph.xml.gz\")\n",
    "sns.heatmap(gt.spectral.adjacency(model.g, model.g.edge_properties[\"count\"]).toarray()[1000:,:1000], vmax=100)"
   ]
  },
  {
   "cell_type": "code",
   "execution_count": null,
   "metadata": {
    "colab": {
     "base_uri": "https://localhost:8080/",
     "height": 295
    },
    "colab_type": "code",
    "executionInfo": {
     "elapsed": 13084,
     "status": "ok",
     "timestamp": 1585844127873,
     "user": {
      "displayName": "Filippo Valle",
      "photoUrl": "https://lh3.googleusercontent.com/a-/AOh14GiSmOTQUwJEm9eOUO5yn38V9kqgHrZZ_vys3fCS=s64",
      "userId": "14300282905640499915"
     },
     "user_tz": -120
    },
    "id": "CWxrp8_3p3OJ",
    "outputId": "62a8b9c8-830b-4ac8-a644-4c2798a10188"
   },
   "outputs": [],
   "source": [
    "model = sbmtm()\n",
    "model.load_graph(\"10/graph_log.xml.gz\")\n",
    "sns.heatmap(gt.spectral.adjacency(model.g, model.g.edge_properties[\"count\"]).toarray()[1000:,:1000])"
   ]
  },
  {
   "cell_type": "code",
   "execution_count": null,
   "metadata": {
    "colab": {
     "base_uri": "https://localhost:8080/",
     "height": 295
    },
    "colab_type": "code",
    "executionInfo": {
     "elapsed": 17699,
     "status": "ok",
     "timestamp": 1585844305911,
     "user": {
      "displayName": "Filippo Valle",
      "photoUrl": "https://lh3.googleusercontent.com/a-/AOh14GiSmOTQUwJEm9eOUO5yn38V9kqgHrZZ_vys3fCS=s64",
      "userId": "14300282905640499915"
     },
     "user_tz": -120
    },
    "id": "ZdoMNbNbp_Ts",
    "outputId": "7579b7e9-bbc6-43e6-de41-ec74ac88f277"
   },
   "outputs": [],
   "source": [
    "model = sbmtm()\n",
    "model.load_graph(\"10/graph_hk.xml.gz\")\n",
    "sns.heatmap(gt.spectral.adjacency(model.g, model.g.edge_properties[\"count\"]).toarray()[1000:,:1000], vmax=100)"
   ]
  },
  {
   "cell_type": "code",
   "execution_count": null,
   "metadata": {
    "colab": {},
    "colab_type": "code",
    "id": "7-V4eJk8rmY9"
   },
   "outputs": [],
   "source": []
  }
 ],
 "metadata": {
  "accelerator": "GPU",
  "colab": {
   "authorship_tag": "ABX9TyPcn4PDsGxeTeBFtPaxJuGo",
   "mount_file_id": "17ucjN3siLjb34vb2KtDi6m3WGMYlI9Zy",
   "name": "correlations.ipynb",
   "provenance": []
  },
  "kernelspec": {
   "display_name": "Python 3",
   "name": "python3"
  }
 },
 "nbformat": 4,
 "nbformat_minor": 0
}

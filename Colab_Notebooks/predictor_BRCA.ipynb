{
  "nbformat": 4,
  "nbformat_minor": 0,
  "metadata": {
    "kernelspec": {
      "name": "python3",
      "display_name": "Python 3"
    },
    "language_info": {
      "codemirror_mode": {
        "name": "ipython",
        "version": 3
      },
      "file_extension": ".py",
      "mimetype": "text/x-python",
      "name": "python",
      "nbconvert_exporter": "python",
      "pygments_lexer": "ipython3",
      "version": "3.6.10"
    },
    "colab": {
      "name": "predictor_BRCA.ipynb",
      "provenance": [],
      "collapsed_sections": [],
      "toc_visible": true
    },
    "accelerator": "GPU"
  },
  "cells": [
    {
      "cell_type": "code",
      "metadata": {
        "id": "OM7BoWVULIgX",
        "colab_type": "code",
        "colab": {
          "base_uri": "https://localhost:8080/",
          "height": 124
        },
        "outputId": "30f5015a-3d1f-4e3f-fa93-da1f3b45a5b5"
      },
      "source": [
        "from google.colab import drive\n",
        "drive.mount('/content/drive')"
      ],
      "execution_count": 1,
      "outputs": [
        {
          "output_type": "stream",
          "text": [
            "Go to this URL in a browser: https://accounts.google.com/o/oauth2/auth?client_id=947318989803-6bn6qk8qdgf4n4g3pfee6491hc0brc4i.apps.googleusercontent.com&redirect_uri=urn%3aietf%3awg%3aoauth%3a2.0%3aoob&response_type=code&scope=email%20https%3a%2f%2fwww.googleapis.com%2fauth%2fdocs.test%20https%3a%2f%2fwww.googleapis.com%2fauth%2fdrive%20https%3a%2f%2fwww.googleapis.com%2fauth%2fdrive.photos.readonly%20https%3a%2f%2fwww.googleapis.com%2fauth%2fpeopleapi.readonly\n",
            "\n",
            "Enter your authorization code:\n",
            "··········\n",
            "Mounted at /content/drive\n"
          ],
          "name": "stdout"
        }
      ]
    },
    {
      "cell_type": "code",
      "metadata": {
        "id": "cZ0Axhw2Hfop",
        "colab_type": "code",
        "colab": {
          "base_uri": "https://localhost:8080/",
          "height": 72
        },
        "outputId": "0849fc42-cdee-41eb-bc6e-fd1558c26f17"
      },
      "source": [
        "import pandas as pd\n",
        "import os,sys, gc\n",
        "import matplotlib.pyplot as plt\n",
        "from scipy.stats import entropy\n",
        "sys.path.append(\"/content/drive/My Drive/phd\")\n",
        "sys.path.append(\"/content/drive/My Drive/phd/hsbm-occam\")\n",
        "from hsbmpy import get_max_available_L\n",
        "\n",
        "os.environ[\"TF_CUDNN_USE_AUTOTUNE\"]=\"0\""
      ],
      "execution_count": 2,
      "outputs": [
        {
          "output_type": "stream",
          "text": [
            "/usr/local/lib/python3.6/dist-packages/statsmodels/tools/_testing.py:19: FutureWarning: pandas.util.testing is deprecated. Use the functions in the public API at pandas.testing instead.\n",
            "  import pandas.util.testing as tm\n"
          ],
          "name": "stderr"
        }
      ]
    },
    {
      "cell_type": "code",
      "metadata": {
        "id": "Yhh35xNYHfo1",
        "colab_type": "code",
        "colab": {}
      },
      "source": [
        "algorithm = \"topsbm\"\n",
        "directory='/content/drive/My Drive/phd/datasets/cancers/breast'\n",
        "L = 0\n",
        "os.chdir(directory)"
      ],
      "execution_count": 3,
      "outputs": []
    },
    {
      "cell_type": "code",
      "metadata": {
        "id": "XXZfXhOYHfo5",
        "colab_type": "code",
        "colab": {
          "base_uri": "https://localhost:8080/",
          "height": 362
        },
        "outputId": "1a54a463-252d-48ea-edc9-cd9f4c87c952"
      },
      "source": [
        "label = 'Subtype_Selected_Lum'\n",
        "\n",
        "df_topics = pd.read_csv(\"topsbm_all/%s_level_%d_topic-dist.csv\"%(algorithm,L)).set_index('doc').drop('i_doc', axis=1)\n",
        "df_words = pd.read_csv(\"topsbm_all/%s_level_%d_word-dist.csv\"%(algorithm,L), index_col=0)\n",
        "df_words.index=[g[:15] for g in df_words.index]\n",
        "df = pd.read_csv(\"mainTable.csv\", index_col=0).reindex(index=df_words.index)\n",
        "df = df.divide(df.sum(0),1).transpose().fillna(0)\n",
        "df_files=pd.read_csv(\"files.dat\", index_col=0)\n",
        "df_topics.insert(0,'tissue', df_files.reindex(index=df_topics.index)[label])\n",
        "df_topic_tissue = df_topics.groupby('tissue').mean()\n",
        "df_files.head()"
      ],
      "execution_count": 4,
      "outputs": [
        {
          "output_type": "execute_result",
          "data": {
            "text/html": [
              "<div>\n",
              "<style scoped>\n",
              "    .dataframe tbody tr th:only-of-type {\n",
              "        vertical-align: middle;\n",
              "    }\n",
              "\n",
              "    .dataframe tbody tr th {\n",
              "        vertical-align: top;\n",
              "    }\n",
              "\n",
              "    .dataframe thead th {\n",
              "        text-align: right;\n",
              "    }\n",
              "</style>\n",
              "<table border=\"1\" class=\"dataframe\">\n",
              "  <thead>\n",
              "    <tr style=\"text-align: right;\">\n",
              "      <th></th>\n",
              "      <th>cases.0.submitter_id</th>\n",
              "      <th>cases.0.diagnoses.0.primary_diagnosis</th>\n",
              "      <th>cases.0.diagnoses.0.morphology</th>\n",
              "      <th>cases.0.diagnoses.0.tissue_or_organ_of_origin</th>\n",
              "      <th>cases.0.diagnoses.0.tumor_grade</th>\n",
              "      <th>cases.0.diagnoses.0.tumor_stage</th>\n",
              "      <th>cases.0.project.disease_type</th>\n",
              "      <th>cases.0.project.primary_site</th>\n",
              "      <th>cases.0.samples.0.longest_dimension</th>\n",
              "      <th>Tumor.Type</th>\n",
              "      <th>Included_in_previous_marker_papers</th>\n",
              "      <th>vital_status</th>\n",
              "      <th>days_to_birth</th>\n",
              "      <th>days_to_death</th>\n",
              "      <th>days_to_last_followup</th>\n",
              "      <th>age_at_initial_pathologic_diagnosis</th>\n",
              "      <th>pathologic_stage</th>\n",
              "      <th>Tumor_Grade</th>\n",
              "      <th>BRCA_Pathology</th>\n",
              "      <th>BRCA_Subtype_PAM50</th>\n",
              "      <th>MSI_status</th>\n",
              "      <th>HPV_Status</th>\n",
              "      <th>tobacco_smoking_history</th>\n",
              "      <th>CNV Clusters</th>\n",
              "      <th>Mutation Clusters</th>\n",
              "      <th>DNA.Methylation Clusters</th>\n",
              "      <th>mRNA Clusters</th>\n",
              "      <th>miRNA Clusters</th>\n",
              "      <th>lncRNA Clusters</th>\n",
              "      <th>Protein Clusters</th>\n",
              "      <th>PARADIGM Clusters</th>\n",
              "      <th>Pan-Gyn Clusters</th>\n",
              "      <th>birth_year</th>\n",
              "      <th>death_year</th>\n",
              "      <th>age</th>\n",
              "      <th>age_binned</th>\n",
              "      <th>cancer.type</th>\n",
              "      <th>Subtype_mRNA</th>\n",
              "      <th>Subtype_DNAmeth</th>\n",
              "      <th>Subtype_protein</th>\n",
              "      <th>Subtype_miRNA</th>\n",
              "      <th>Subtype_CNA</th>\n",
              "      <th>Subtype_Integrative</th>\n",
              "      <th>Subtype_other</th>\n",
              "      <th>Subtype_Selected</th>\n",
              "      <th>Subtype_Selected_Lum</th>\n",
              "    </tr>\n",
              "    <tr>\n",
              "      <th>file_name</th>\n",
              "      <th></th>\n",
              "      <th></th>\n",
              "      <th></th>\n",
              "      <th></th>\n",
              "      <th></th>\n",
              "      <th></th>\n",
              "      <th></th>\n",
              "      <th></th>\n",
              "      <th></th>\n",
              "      <th></th>\n",
              "      <th></th>\n",
              "      <th></th>\n",
              "      <th></th>\n",
              "      <th></th>\n",
              "      <th></th>\n",
              "      <th></th>\n",
              "      <th></th>\n",
              "      <th></th>\n",
              "      <th></th>\n",
              "      <th></th>\n",
              "      <th></th>\n",
              "      <th></th>\n",
              "      <th></th>\n",
              "      <th></th>\n",
              "      <th></th>\n",
              "      <th></th>\n",
              "      <th></th>\n",
              "      <th></th>\n",
              "      <th></th>\n",
              "      <th></th>\n",
              "      <th></th>\n",
              "      <th></th>\n",
              "      <th></th>\n",
              "      <th></th>\n",
              "      <th></th>\n",
              "      <th></th>\n",
              "      <th></th>\n",
              "      <th></th>\n",
              "      <th></th>\n",
              "      <th></th>\n",
              "      <th></th>\n",
              "      <th></th>\n",
              "      <th></th>\n",
              "      <th></th>\n",
              "      <th></th>\n",
              "      <th></th>\n",
              "    </tr>\n",
              "  </thead>\n",
              "  <tbody>\n",
              "    <tr>\n",
              "      <th>87fcecde-b317-4518-bea1-cc8d14a18107.FPKM.txt.gz</th>\n",
              "      <td>TCGA-BH-A0W3</td>\n",
              "      <td>Infiltrating duct carcinoma, NOS</td>\n",
              "      <td>8500/3</td>\n",
              "      <td>Breast, NOS</td>\n",
              "      <td>not reported</td>\n",
              "      <td>stage iia</td>\n",
              "      <td>Breast Invasive Carcinoma</td>\n",
              "      <td>Breast</td>\n",
              "      <td>unknown</td>\n",
              "      <td>BRCA</td>\n",
              "      <td>YES</td>\n",
              "      <td>Alive</td>\n",
              "      <td>-21369.0</td>\n",
              "      <td>unknown</td>\n",
              "      <td>728.0</td>\n",
              "      <td>58.0</td>\n",
              "      <td>Stage_II</td>\n",
              "      <td>unknown</td>\n",
              "      <td>IDC</td>\n",
              "      <td>LumB</td>\n",
              "      <td>unknown</td>\n",
              "      <td>unknown</td>\n",
              "      <td>unknown</td>\n",
              "      <td>C3</td>\n",
              "      <td>C4</td>\n",
              "      <td>C1</td>\n",
              "      <td>C1</td>\n",
              "      <td>C3</td>\n",
              "      <td>unknown</td>\n",
              "      <td>unknown</td>\n",
              "      <td>C5</td>\n",
              "      <td>unknown</td>\n",
              "      <td>1961-11-05 12:43:40.592206</td>\n",
              "      <td>unknown</td>\n",
              "      <td>unknown</td>\n",
              "      <td>unknown</td>\n",
              "      <td>BRCA</td>\n",
              "      <td>LumB</td>\n",
              "      <td>unknown</td>\n",
              "      <td>unknown</td>\n",
              "      <td>unknown</td>\n",
              "      <td>unknown</td>\n",
              "      <td>unknown</td>\n",
              "      <td>unknown</td>\n",
              "      <td>BRCA.LumB</td>\n",
              "      <td>BRCA.Lum</td>\n",
              "    </tr>\n",
              "    <tr>\n",
              "      <th>bbf9a30d-3067-491b-9aea-0cb9bed91969.FPKM.txt.gz</th>\n",
              "      <td>TCGA-A8-A07F</td>\n",
              "      <td>Infiltrating duct carcinoma, NOS</td>\n",
              "      <td>8500/3</td>\n",
              "      <td>Breast, NOS</td>\n",
              "      <td>not reported</td>\n",
              "      <td>stage iib</td>\n",
              "      <td>Breast Invasive Carcinoma</td>\n",
              "      <td>Breast</td>\n",
              "      <td>unknown</td>\n",
              "      <td>BRCA</td>\n",
              "      <td>YES</td>\n",
              "      <td>Alive</td>\n",
              "      <td>-23742.0</td>\n",
              "      <td>unknown</td>\n",
              "      <td>577.0</td>\n",
              "      <td>65.0</td>\n",
              "      <td>Stage_II</td>\n",
              "      <td>unknown</td>\n",
              "      <td>Mixed</td>\n",
              "      <td>LumA</td>\n",
              "      <td>unknown</td>\n",
              "      <td>unknown</td>\n",
              "      <td>unknown</td>\n",
              "      <td>C5</td>\n",
              "      <td>C1</td>\n",
              "      <td>C1</td>\n",
              "      <td>C1</td>\n",
              "      <td>C3</td>\n",
              "      <td>C3</td>\n",
              "      <td>C2</td>\n",
              "      <td>C5</td>\n",
              "      <td>C1</td>\n",
              "      <td>1955-05-08 12:43:40.590999</td>\n",
              "      <td>unknown</td>\n",
              "      <td>unknown</td>\n",
              "      <td>unknown</td>\n",
              "      <td>BRCA</td>\n",
              "      <td>LumA</td>\n",
              "      <td>unknown</td>\n",
              "      <td>unknown</td>\n",
              "      <td>unknown</td>\n",
              "      <td>unknown</td>\n",
              "      <td>unknown</td>\n",
              "      <td>unknown</td>\n",
              "      <td>BRCA.LumA</td>\n",
              "      <td>BRCA.Lum</td>\n",
              "    </tr>\n",
              "    <tr>\n",
              "      <th>c909a75f-23e8-4c96-82f2-72e46fdb8155.FPKM.txt.gz</th>\n",
              "      <td>TCGA-GM-A3XL</td>\n",
              "      <td>Infiltrating duct carcinoma, NOS</td>\n",
              "      <td>8500/3</td>\n",
              "      <td>Breast, NOS</td>\n",
              "      <td>not reported</td>\n",
              "      <td>stage iia</td>\n",
              "      <td>Breast Invasive Carcinoma</td>\n",
              "      <td>Breast</td>\n",
              "      <td>unknown</td>\n",
              "      <td>BRCA</td>\n",
              "      <td>NO</td>\n",
              "      <td>Alive</td>\n",
              "      <td>-18171.0</td>\n",
              "      <td>unknown</td>\n",
              "      <td>2108.0</td>\n",
              "      <td>49.0</td>\n",
              "      <td>Stage_II</td>\n",
              "      <td>unknown</td>\n",
              "      <td>IDC</td>\n",
              "      <td>Basal</td>\n",
              "      <td>unknown</td>\n",
              "      <td>unknown</td>\n",
              "      <td>unknown</td>\n",
              "      <td>C4</td>\n",
              "      <td>C1</td>\n",
              "      <td>C4</td>\n",
              "      <td>C4</td>\n",
              "      <td>C7</td>\n",
              "      <td>unknown</td>\n",
              "      <td>C5</td>\n",
              "      <td>C4</td>\n",
              "      <td>C5</td>\n",
              "      <td>1970-08-08 12:43:40.593281</td>\n",
              "      <td>unknown</td>\n",
              "      <td>unknown</td>\n",
              "      <td>unknown</td>\n",
              "      <td>BRCA</td>\n",
              "      <td>Basal</td>\n",
              "      <td>unknown</td>\n",
              "      <td>unknown</td>\n",
              "      <td>unknown</td>\n",
              "      <td>unknown</td>\n",
              "      <td>unknown</td>\n",
              "      <td>unknown</td>\n",
              "      <td>BRCA.Basal</td>\n",
              "      <td>BRCA.Basal</td>\n",
              "    </tr>\n",
              "    <tr>\n",
              "      <th>1c89ff2f-6e0a-4244-952b-1391dba1b815.FPKM.txt.gz</th>\n",
              "      <td>TCGA-LL-A441</td>\n",
              "      <td>Infiltrating duct carcinoma, NOS</td>\n",
              "      <td>8500/3</td>\n",
              "      <td>Breast, NOS</td>\n",
              "      <td>not reported</td>\n",
              "      <td>stage ia</td>\n",
              "      <td>Breast Invasive Carcinoma</td>\n",
              "      <td>Breast</td>\n",
              "      <td>unknown</td>\n",
              "      <td>BRCA</td>\n",
              "      <td>NO</td>\n",
              "      <td>Alive</td>\n",
              "      <td>-22772.0</td>\n",
              "      <td>unknown</td>\n",
              "      <td>996.0</td>\n",
              "      <td>62.0</td>\n",
              "      <td>Stage_I</td>\n",
              "      <td>unknown</td>\n",
              "      <td>IDC</td>\n",
              "      <td>Normal</td>\n",
              "      <td>unknown</td>\n",
              "      <td>unknown</td>\n",
              "      <td>unknown</td>\n",
              "      <td>C4</td>\n",
              "      <td>C4</td>\n",
              "      <td>C4</td>\n",
              "      <td>C4</td>\n",
              "      <td>C7</td>\n",
              "      <td>unknown</td>\n",
              "      <td>C5</td>\n",
              "      <td>C4</td>\n",
              "      <td>C3</td>\n",
              "      <td>1958-01-02 12:43:40.593313</td>\n",
              "      <td>unknown</td>\n",
              "      <td>unknown</td>\n",
              "      <td>unknown</td>\n",
              "      <td>BRCA</td>\n",
              "      <td>Normal</td>\n",
              "      <td>unknown</td>\n",
              "      <td>unknown</td>\n",
              "      <td>unknown</td>\n",
              "      <td>unknown</td>\n",
              "      <td>unknown</td>\n",
              "      <td>unknown</td>\n",
              "      <td>BRCA.Normal</td>\n",
              "      <td>BRCA.Normal</td>\n",
              "    </tr>\n",
              "    <tr>\n",
              "      <th>2a6ae2e8-733f-4349-8eec-d25e2b4abf86.FPKM.txt.gz</th>\n",
              "      <td>TCGA-BH-A0HP</td>\n",
              "      <td>Lobular carcinoma, NOS</td>\n",
              "      <td>8520/3</td>\n",
              "      <td>Breast, NOS</td>\n",
              "      <td>not reported</td>\n",
              "      <td>stage iiia</td>\n",
              "      <td>Breast Invasive Carcinoma</td>\n",
              "      <td>Breast</td>\n",
              "      <td>unknown</td>\n",
              "      <td>BRCA</td>\n",
              "      <td>YES</td>\n",
              "      <td>Alive</td>\n",
              "      <td>-23883.0</td>\n",
              "      <td>unknown</td>\n",
              "      <td>414.0</td>\n",
              "      <td>65.0</td>\n",
              "      <td>Stage_III</td>\n",
              "      <td>unknown</td>\n",
              "      <td>ILC</td>\n",
              "      <td>LumA</td>\n",
              "      <td>unknown</td>\n",
              "      <td>unknown</td>\n",
              "      <td>unknown</td>\n",
              "      <td>C1</td>\n",
              "      <td>C9</td>\n",
              "      <td>C1</td>\n",
              "      <td>C1</td>\n",
              "      <td>C3</td>\n",
              "      <td>C2</td>\n",
              "      <td>C1</td>\n",
              "      <td>C6</td>\n",
              "      <td>C1</td>\n",
              "      <td>1954-12-18 12:43:40.592189</td>\n",
              "      <td>unknown</td>\n",
              "      <td>unknown</td>\n",
              "      <td>unknown</td>\n",
              "      <td>BRCA</td>\n",
              "      <td>LumA</td>\n",
              "      <td>unknown</td>\n",
              "      <td>unknown</td>\n",
              "      <td>unknown</td>\n",
              "      <td>unknown</td>\n",
              "      <td>unknown</td>\n",
              "      <td>unknown</td>\n",
              "      <td>BRCA.LumA</td>\n",
              "      <td>BRCA.Lum</td>\n",
              "    </tr>\n",
              "  </tbody>\n",
              "</table>\n",
              "</div>"
            ],
            "text/plain": [
              "                                                 cases.0.submitter_id  ... Subtype_Selected_Lum\n",
              "file_name                                                              ...                     \n",
              "87fcecde-b317-4518-bea1-cc8d14a18107.FPKM.txt.gz         TCGA-BH-A0W3  ...             BRCA.Lum\n",
              "bbf9a30d-3067-491b-9aea-0cb9bed91969.FPKM.txt.gz         TCGA-A8-A07F  ...             BRCA.Lum\n",
              "c909a75f-23e8-4c96-82f2-72e46fdb8155.FPKM.txt.gz         TCGA-GM-A3XL  ...           BRCA.Basal\n",
              "1c89ff2f-6e0a-4244-952b-1391dba1b815.FPKM.txt.gz         TCGA-LL-A441  ...          BRCA.Normal\n",
              "2a6ae2e8-733f-4349-8eec-d25e2b4abf86.FPKM.txt.gz         TCGA-BH-A0HP  ...             BRCA.Lum\n",
              "\n",
              "[5 rows x 46 columns]"
            ]
          },
          "metadata": {
            "tags": []
          },
          "execution_count": 4
        }
      ]
    },
    {
      "cell_type": "markdown",
      "metadata": {
        "id": "LdnogDbsHfpP",
        "colab_type": "text"
      },
      "source": [
        "## NN based predictor"
      ]
    },
    {
      "cell_type": "code",
      "metadata": {
        "id": "KB8z21PkHfpR",
        "colab_type": "code",
        "colab": {
          "base_uri": "https://localhost:8080/",
          "height": 486
        },
        "outputId": "bc36a16e-975f-41a3-c34c-76a969fc7cd4"
      },
      "source": [
        "import tensorflow as tf\n",
        "from tensorflow.keras.models import Sequential\n",
        "from tensorflow.keras.layers import Dense\n",
        "from tensorflow.keras.losses import binary_crossentropy,mean_squared_error, categorical_crossentropy\n",
        "from tensorflow.keras.optimizers import SGD, Adam\n",
        "from tensorflow.keras.regularizers import l1_l2\n",
        "from tensorflow.keras.utils import plot_model,to_categorical\n",
        "from tensorflow.keras.callbacks import Callback, CSVLogger, EarlyStopping\n",
        "from tensorflow.keras.models import load_model\n",
        "from tensorflow.keras import backend as K\n",
        "from tensorflow.python.client.device_lib import list_local_devices\n",
        "import matplotlib.pyplot as plt\n",
        "from sklearn.model_selection import train_test_split\n",
        "import numpy as np\n",
        "import os,sys, gc\n",
        "list_local_devices()"
      ],
      "execution_count": 5,
      "outputs": [
        {
          "output_type": "execute_result",
          "data": {
            "text/plain": [
              "[name: \"/device:CPU:0\"\n",
              " device_type: \"CPU\"\n",
              " memory_limit: 268435456\n",
              " locality {\n",
              " }\n",
              " incarnation: 18031526973211561434, name: \"/device:XLA_CPU:0\"\n",
              " device_type: \"XLA_CPU\"\n",
              " memory_limit: 17179869184\n",
              " locality {\n",
              " }\n",
              " incarnation: 12979939840189579183\n",
              " physical_device_desc: \"device: XLA_CPU device\", name: \"/device:XLA_GPU:0\"\n",
              " device_type: \"XLA_GPU\"\n",
              " memory_limit: 17179869184\n",
              " locality {\n",
              " }\n",
              " incarnation: 5104276835846415161\n",
              " physical_device_desc: \"device: XLA_GPU device\", name: \"/device:GPU:0\"\n",
              " device_type: \"GPU\"\n",
              " memory_limit: 11150664704\n",
              " locality {\n",
              "   bus_id: 1\n",
              "   links {\n",
              "   }\n",
              " }\n",
              " incarnation: 18173263074715979957\n",
              " physical_device_desc: \"device: 0, name: Tesla K80, pci bus id: 0000:00:04.0, compute capability: 3.7\"]"
            ]
          },
          "metadata": {
            "tags": []
          },
          "execution_count": 5
        }
      ]
    },
    {
      "cell_type": "code",
      "metadata": {
        "id": "J8SmE2OrHfpV",
        "colab_type": "code",
        "colab": {}
      },
      "source": [
        "def preprocess_data(verbose=True):\n",
        "  global df_topics\n",
        "  global df_files\n",
        "  df_topics = df_topics[df_topics[\"tissue\"]!=\"unknown\"]\n",
        "\n",
        "  df_labels=df_files.copy()\n",
        "  df_labels=df_labels.reindex(index=df_topics.index)\n",
        "\n",
        "  uniq = len(df_labels[label].unique())\n",
        "\n",
        "  X = df_topics.drop('tissue',1)\n",
        "  X = X.subtract(X.mean(0),1).divide(0.5*(X.max(0)-X.min(0)),1).values.astype(float) #SGD transform\n",
        "  Y = to_categorical(np.unique(df_labels[label], return_inverse=True)[1])\n",
        "  inputs = X.shape[1]\n",
        "\n",
        "  classes=np.unique(df_labels[df_labels.index.isin(df.index)][label], return_inverse=True)[0]\n",
        "\n",
        "  X_train, X_test, Y_train, Y_test = train_test_split(X, Y, shuffle=True, random_state=42, train_size=0.9)\n",
        "\n",
        "  if verbose:\n",
        "    print(X_train.shape, Y_train.shape, X_test.shape, Y_test.shape)\n",
        "  return inputs, uniq, df_labels, X_train, X_test, Y_train, Y_test"
      ],
      "execution_count": 11,
      "outputs": []
    },
    {
      "cell_type": "code",
      "metadata": {
        "id": "y5_nq-la_a7V",
        "colab_type": "code",
        "colab": {
          "base_uri": "https://localhost:8080/",
          "height": 34
        },
        "outputId": "33622036-b168-42b4-aaf8-42ecae936d61"
      },
      "source": [
        "inputs, uniq, df_labels, X_train, X_test, Y_train, Y_test = preprocess_data(True)"
      ],
      "execution_count": 12,
      "outputs": [
        {
          "output_type": "stream",
          "text": [
            "(1084, 399) (1084, 4) (121, 399) (121, 4)\n"
          ],
          "name": "stdout"
        }
      ]
    },
    {
      "cell_type": "code",
      "metadata": {
        "id": "pX-x2IjkBg8j",
        "colab_type": "code",
        "colab": {}
      },
      "source": [
        "def recall_m(y_true, y_pred):\n",
        "    true_positives = K.sum(K.round(K.clip(y_true * y_pred, 0, 1)))\n",
        "    possible_positives = K.sum(K.round(K.clip(y_true, 0, 1)))\n",
        "    recall = true_positives / (possible_positives + K.epsilon())\n",
        "    return recall\n",
        "\n",
        "def precision_m(y_true, y_pred):\n",
        "    true_positives = K.sum(K.round(K.clip(y_true * y_pred, 0, 1)))\n",
        "    predicted_positives = K.sum(K.round(K.clip(y_pred, 0, 1)))\n",
        "    precision = true_positives / (predicted_positives + K.epsilon())\n",
        "    return precision\n",
        "\n",
        "def f1(y_true, y_pred):\n",
        "    precision = precision_m(y_true, y_pred)\n",
        "    recall = recall_m(y_true, y_pred)\n",
        "    return 2*((precision*recall)/(precision+recall+K.epsilon()))"
      ],
      "execution_count": 7,
      "outputs": []
    },
    {
      "cell_type": "code",
      "metadata": {
        "id": "9A-pjO9lHfpa",
        "colab_type": "code",
        "colab": {}
      },
      "source": [
        "def create_model(opt, l1, l2, hidden, loss=categorical_crossentropy, activation_func = \"softmax\",  verbose=True):\n",
        "  K.clear_session()\n",
        "\n",
        "  inputs, uniq, df_labels, X_train, X_test, Y_train, Y_test = preprocess_data(verbose)\n",
        "\n",
        "  os.system(\"rm -rf log.csv\")\n",
        "  model=Sequential()\n",
        "  model.add(Dense(units=hidden, input_dim=inputs, use_bias=True, bias_initializer=\"ones\", activation=\"relu\", kernel_regularizer=l1_l2(l1=l1, l2=l2)))\n",
        "  model.add(Dense(units=uniq, activation=activation_func))\n",
        "  model.compile(loss=loss, optimizer=opt, metrics=['accuracy', 'AUC', f1])\n",
        "  K.set_learning_phase(0)\n",
        "\n",
        "  if verbose:\n",
        "    print(model.summary())\n",
        "    plot_model(model, to_file=f\"model_{label}.png\", dpi=600, show_shapes=True)\n",
        "  return model, X_train, X_test, Y_train, Y_test "
      ],
      "execution_count": null,
      "outputs": []
    },
    {
      "cell_type": "code",
      "metadata": {
        "id": "SdHvt7jFHfpf",
        "colab_type": "code",
        "colab": {}
      },
      "source": [
        "def train_GS():\n",
        "  csv_logger = CSVLogger('log.csv', append=True, separator=',')\n",
        "  es = EarlyStopping(monitor='val_loss', min_delta=1e-3, mode='min', patience=25)\n",
        "\n",
        "  momentum = 0.95\n",
        "  best_model = None\n",
        "  best_score = -np.inf\n",
        "  for lr in [0.001, 0.0003]:\n",
        "    for l1 in [0.001,0.0001]:\n",
        "      for l2 in [0.001, 0.0001]:\n",
        "        for bs in [50,100]:\n",
        "          for momentum in [0.95, 0.98, 0.99]:\n",
        "            for hidden in [50, 75, 100]:\n",
        "              print(lr, l1, l2, bs, momentum, hidden)\n",
        "              opt = SGD(lr=lr, momentum=momentum)\n",
        "              model, X_train, X_test, Y_train, Y_test  = create_model(opt, l1, l2, hidden, verbose=False)\n",
        "              with tf.device(\"GPU\"):\n",
        "                hist = model.fit(X_train, Y_train, epochs=500, batch_size=bs, verbose=0, validation_split=0.8, callbacks=[csv_logger, es], shuffle=True, use_multiprocessing=True, workers=-1)\n",
        "              f1_score = hist.history[\"val_f1\"][-1]\n",
        "              if f1_score > best_score:\n",
        "                loss = hist.history[\"val_loss\"][-1]\n",
        "                acc = hist.history[\"val_accuracy\"][-1]\n",
        "                auc = hist.history[\"val_auc\"][-1]\n",
        "                print(f\"loss: {loss}, accuracy: {acc}, AUC: {auc}, f1: {f1_score}\")\n",
        "                best_score = f1_score\n",
        "                best_model=model\n",
        "  return best_model, lr, l1, l2, bs, momentum, hidden\n",
        "\n",
        "model, lr, l1, l2, bs, momentum, hidden = train_GS()\n",
        "print(lr, l1, l2, bs, momentum, hidden)"
      ],
      "execution_count": null,
      "outputs": []
    },
    {
      "cell_type": "code",
      "metadata": {
        "id": "b951g2HDo24r",
        "colab_type": "code",
        "colab": {
          "base_uri": "https://localhost:8080/",
          "height": 1000
        },
        "outputId": "3d14b64f-b5f0-497a-8b98-dd3f262980dd"
      },
      "source": [
        "#L=1 Lum\n",
        "#model, X_train, X_test, Y_train, Y_test = create_model(SGD(0.001, momentum=0.95), l1=0.001, l2=0.01, hidden=75, loss=categorical_crossentropy, activation_func = \"softmax\",  verbose=True)\n",
        "#hist = model.fit(X_train, Y_train, epochs=500, batch_size=50, verbose=1, validation_split=0.8, callbacks=[CSVLogger('log.csv', append=True, separator=','), EarlyStopping(monitor='val_loss', min_delta=1e-3, mode='min', patience=25)], shuffle=True, use_multiprocessing=True, workers=-1)\n",
        "\n",
        "#L=0 Lum\n",
        "with tf.device(\"GPU\"):\n",
        "    model, X_train, X_test, Y_train, Y_test = create_model(SGD(0.001, momentum=0.99), l1=0.0001, l2=0.0001, hidden=50, loss=categorical_crossentropy, activation_func = \"softmax\",  verbose=True)\n",
        "    hist = model.fit(X_train, Y_train, epochs=500, batch_size=50, verbose=1, validation_split=0.8, callbacks=[CSVLogger('log.csv', append=True, separator=','), EarlyStopping(monitor='val_loss', min_delta=1e-3, mode='min', patience=25)], shuffle=True, use_multiprocessing=True, workers=-1)\n",
        "    hist = model.fit(X_train, Y_train, epochs=500, batch_size=50, verbose=1, validation_split=0.8, callbacks=[CSVLogger('log.csv', append=True, separator=','), EarlyStopping(monitor='val_loss', min_delta=1e-3, mode='min', patience=15)], shuffle=True, use_multiprocessing=True, workers=-1)\n",
        "\n",
        "#L=0\n",
        "#model, X_train, X_test, Y_train, Y_test = create_model(SGD(0.003, momentum=0.99), l1=1e-1, l2=5e-3, hidden=100, loss=categorical_crossentropy, activation_func = \"softmax\",  verbose=True)\n",
        "#hist = model.fit(X_train, Y_train, epochs=500, batch_size=100, verbose=1, validation_split=0.8, callbacks=[CSVLogger('log.csv', append=True, separator=','), EarlyStopping(monitor='val_loss', min_delta=1e-5, mode='min', patience=100)], shuffle=True, use_multiprocessing=True, workers=-1)"
      ],
      "execution_count": null,
      "outputs": [
        {
          "output_type": "stream",
          "text": [
            "(1084, 399) (1084, 4) (121, 399) (121, 4)\n",
            "Model: \"sequential\"\n",
            "_________________________________________________________________\n",
            "Layer (type)                 Output Shape              Param #   \n",
            "=================================================================\n",
            "dense (Dense)                (None, 50)                20000     \n",
            "_________________________________________________________________\n",
            "dense_1 (Dense)              (None, 4)                 204       \n",
            "=================================================================\n",
            "Total params: 20,204\n",
            "Trainable params: 20,204\n",
            "Non-trainable params: 0\n",
            "_________________________________________________________________\n",
            "None\n",
            "Epoch 1/500\n",
            "5/5 [==============================] - 0s 74ms/step - loss: 2.9210 - accuracy: 0.1250 - auc: 0.2519 - f1: 0.0871 - val_loss: 2.5097 - val_accuracy: 0.1774 - val_auc: 0.2890 - val_f1: 0.1021\n",
            "Epoch 2/500\n",
            "5/5 [==============================] - 0s 22ms/step - loss: 2.1781 - accuracy: 0.1759 - auc: 0.3354 - f1: 0.0728 - val_loss: 1.5457 - val_accuracy: 0.3065 - val_auc: 0.5696 - val_f1: 0.1354\n",
            "Epoch 3/500\n",
            "5/5 [==============================] - 0s 20ms/step - loss: 1.2383 - accuracy: 0.5463 - auc: 0.7789 - f1: 0.4665 - val_loss: 1.0434 - val_accuracy: 0.6982 - val_auc: 0.8489 - val_f1: 0.6589\n",
            "Epoch 4/500\n",
            "5/5 [==============================] - 0s 18ms/step - loss: 1.0230 - accuracy: 0.7037 - auc: 0.8674 - f1: 0.6909 - val_loss: 1.2494 - val_accuracy: 0.6624 - val_auc: 0.8654 - val_f1: 0.6574\n",
            "Epoch 5/500\n",
            "5/5 [==============================] - 0s 21ms/step - loss: 1.2788 - accuracy: 0.6574 - auc: 0.8806 - f1: 0.6796 - val_loss: 1.4977 - val_accuracy: 0.6613 - val_auc: 0.8764 - val_f1: 0.6556\n",
            "Epoch 6/500\n",
            "5/5 [==============================] - 0s 18ms/step - loss: 1.4780 - accuracy: 0.6574 - auc: 0.8829 - f1: 0.6445 - val_loss: 1.5686 - val_accuracy: 0.6624 - val_auc: 0.8791 - val_f1: 0.6574\n",
            "Epoch 7/500\n",
            "5/5 [==============================] - 0s 19ms/step - loss: 1.4508 - accuracy: 0.6667 - auc: 0.8938 - f1: 0.6950 - val_loss: 1.4169 - val_accuracy: 0.6866 - val_auc: 0.8928 - val_f1: 0.6843\n",
            "Epoch 8/500\n",
            "5/5 [==============================] - 0s 18ms/step - loss: 1.2509 - accuracy: 0.7269 - auc: 0.9070 - f1: 0.7300 - val_loss: 1.1513 - val_accuracy: 0.7373 - val_auc: 0.9140 - val_f1: 0.7411\n",
            "Epoch 9/500\n",
            "5/5 [==============================] - 0s 18ms/step - loss: 0.9786 - accuracy: 0.7593 - auc: 0.9330 - f1: 0.7617 - val_loss: 0.8989 - val_accuracy: 0.7581 - val_auc: 0.9334 - val_f1: 0.7652\n",
            "Epoch 10/500\n",
            "5/5 [==============================] - 0s 18ms/step - loss: 0.7624 - accuracy: 0.7917 - auc: 0.9510 - f1: 0.7782 - val_loss: 0.7360 - val_accuracy: 0.7926 - val_auc: 0.9498 - val_f1: 0.7894\n",
            "Epoch 11/500\n",
            "5/5 [==============================] - 0s 19ms/step - loss: 0.6210 - accuracy: 0.8380 - auc: 0.9650 - f1: 0.8467 - val_loss: 0.6435 - val_accuracy: 0.8099 - val_auc: 0.9596 - val_f1: 0.8072\n",
            "Epoch 12/500\n",
            "5/5 [==============================] - 0s 20ms/step - loss: 0.5397 - accuracy: 0.8565 - auc: 0.9723 - f1: 0.8705 - val_loss: 0.5967 - val_accuracy: 0.8226 - val_auc: 0.9643 - val_f1: 0.8273\n",
            "Epoch 13/500\n",
            "5/5 [==============================] - 0s 19ms/step - loss: 0.4981 - accuracy: 0.8889 - auc: 0.9755 - f1: 0.8905 - val_loss: 0.5695 - val_accuracy: 0.8364 - val_auc: 0.9668 - val_f1: 0.8327\n",
            "Epoch 14/500\n",
            "5/5 [==============================] - 0s 21ms/step - loss: 0.4787 - accuracy: 0.8981 - auc: 0.9774 - f1: 0.8958 - val_loss: 0.5495 - val_accuracy: 0.8537 - val_auc: 0.9692 - val_f1: 0.8527\n",
            "Epoch 15/500\n",
            "5/5 [==============================] - 0s 23ms/step - loss: 0.4684 - accuracy: 0.9074 - auc: 0.9745 - f1: 0.9178 - val_loss: 0.5315 - val_accuracy: 0.8525 - val_auc: 0.9713 - val_f1: 0.8533\n",
            "Epoch 16/500\n",
            "5/5 [==============================] - 0s 21ms/step - loss: 0.4613 - accuracy: 0.9028 - auc: 0.9774 - f1: 0.9112 - val_loss: 0.5136 - val_accuracy: 0.8571 - val_auc: 0.9741 - val_f1: 0.8598\n",
            "Epoch 17/500\n",
            "5/5 [==============================] - 0s 21ms/step - loss: 0.4603 - accuracy: 0.9120 - auc: 0.9782 - f1: 0.9049 - val_loss: 0.4963 - val_accuracy: 0.8698 - val_auc: 0.9766 - val_f1: 0.8715\n",
            "Epoch 18/500\n",
            "5/5 [==============================] - 0s 21ms/step - loss: 0.4503 - accuracy: 0.8981 - auc: 0.9827 - f1: 0.9138 - val_loss: 0.4755 - val_accuracy: 0.8813 - val_auc: 0.9790 - val_f1: 0.8818\n",
            "Epoch 19/500\n",
            "5/5 [==============================] - 0s 21ms/step - loss: 0.4421 - accuracy: 0.9028 - auc: 0.9841 - f1: 0.8990 - val_loss: 0.4552 - val_accuracy: 0.8882 - val_auc: 0.9806 - val_f1: 0.8892\n",
            "Epoch 20/500\n",
            "5/5 [==============================] - 0s 23ms/step - loss: 0.4325 - accuracy: 0.9074 - auc: 0.9838 - f1: 0.8945 - val_loss: 0.4340 - val_accuracy: 0.8963 - val_auc: 0.9836 - val_f1: 0.9008\n",
            "Epoch 21/500\n",
            "5/5 [==============================] - 0s 22ms/step - loss: 0.4263 - accuracy: 0.9074 - auc: 0.9843 - f1: 0.8942 - val_loss: 0.4177 - val_accuracy: 0.9021 - val_auc: 0.9853 - val_f1: 0.9067\n",
            "Epoch 22/500\n",
            "5/5 [==============================] - 0s 21ms/step - loss: 0.4194 - accuracy: 0.9028 - auc: 0.9846 - f1: 0.9025 - val_loss: 0.4076 - val_accuracy: 0.9101 - val_auc: 0.9859 - val_f1: 0.9133\n",
            "Epoch 23/500\n",
            "5/5 [==============================] - 0s 18ms/step - loss: 0.4039 - accuracy: 0.9120 - auc: 0.9856 - f1: 0.9110 - val_loss: 0.4024 - val_accuracy: 0.9159 - val_auc: 0.9863 - val_f1: 0.9182\n",
            "Epoch 24/500\n",
            "5/5 [==============================] - 0s 21ms/step - loss: 0.3957 - accuracy: 0.9167 - auc: 0.9862 - f1: 0.8985 - val_loss: 0.4012 - val_accuracy: 0.9182 - val_auc: 0.9864 - val_f1: 0.9165\n",
            "Epoch 25/500\n",
            "5/5 [==============================] - 0s 18ms/step - loss: 0.3964 - accuracy: 0.9259 - auc: 0.9865 - f1: 0.9205 - val_loss: 0.4026 - val_accuracy: 0.9113 - val_auc: 0.9865 - val_f1: 0.9150\n",
            "Epoch 26/500\n",
            "5/5 [==============================] - 0s 18ms/step - loss: 0.3928 - accuracy: 0.9213 - auc: 0.9867 - f1: 0.9254 - val_loss: 0.4045 - val_accuracy: 0.9136 - val_auc: 0.9858 - val_f1: 0.9140\n",
            "Epoch 27/500\n",
            "5/5 [==============================] - 0s 18ms/step - loss: 0.3899 - accuracy: 0.9259 - auc: 0.9867 - f1: 0.9232 - val_loss: 0.4025 - val_accuracy: 0.9101 - val_auc: 0.9862 - val_f1: 0.9119\n",
            "Epoch 28/500\n",
            "5/5 [==============================] - 0s 18ms/step - loss: 0.3755 - accuracy: 0.9259 - auc: 0.9874 - f1: 0.9378 - val_loss: 0.3931 - val_accuracy: 0.9171 - val_auc: 0.9872 - val_f1: 0.9185\n",
            "Epoch 29/500\n",
            "5/5 [==============================] - 0s 18ms/step - loss: 0.3534 - accuracy: 0.9259 - auc: 0.9884 - f1: 0.9209 - val_loss: 0.3777 - val_accuracy: 0.9205 - val_auc: 0.9875 - val_f1: 0.9253\n",
            "Epoch 30/500\n",
            "5/5 [==============================] - 0s 19ms/step - loss: 0.3210 - accuracy: 0.9352 - auc: 0.9920 - f1: 0.9204 - val_loss: 0.3600 - val_accuracy: 0.9297 - val_auc: 0.9878 - val_f1: 0.9332\n",
            "Epoch 31/500\n",
            "5/5 [==============================] - 0s 18ms/step - loss: 0.2892 - accuracy: 0.9537 - auc: 0.9935 - f1: 0.9430 - val_loss: 0.3451 - val_accuracy: 0.9366 - val_auc: 0.9885 - val_f1: 0.9392\n",
            "Epoch 32/500\n",
            "5/5 [==============================] - 0s 20ms/step - loss: 0.2557 - accuracy: 0.9583 - auc: 0.9971 - f1: 0.9555 - val_loss: 0.3388 - val_accuracy: 0.9332 - val_auc: 0.9895 - val_f1: 0.9359\n",
            "Epoch 33/500\n",
            "5/5 [==============================] - 0s 24ms/step - loss: 0.2355 - accuracy: 0.9583 - auc: 0.9982 - f1: 0.9640 - val_loss: 0.3410 - val_accuracy: 0.9309 - val_auc: 0.9894 - val_f1: 0.9320\n",
            "Epoch 34/500\n",
            "5/5 [==============================] - 0s 26ms/step - loss: 0.2202 - accuracy: 0.9676 - auc: 0.9988 - f1: 0.9699 - val_loss: 0.3522 - val_accuracy: 0.9263 - val_auc: 0.9889 - val_f1: 0.9298\n",
            "Epoch 35/500\n",
            "5/5 [==============================] - 0s 22ms/step - loss: 0.2132 - accuracy: 0.9630 - auc: 0.9988 - f1: 0.9614 - val_loss: 0.3712 - val_accuracy: 0.9217 - val_auc: 0.9878 - val_f1: 0.9265\n",
            "Epoch 36/500\n",
            "5/5 [==============================] - 0s 21ms/step - loss: 0.2113 - accuracy: 0.9676 - auc: 0.9988 - f1: 0.9720 - val_loss: 0.3961 - val_accuracy: 0.9194 - val_auc: 0.9851 - val_f1: 0.9200\n",
            "Epoch 37/500\n",
            "5/5 [==============================] - 0s 21ms/step - loss: 0.2146 - accuracy: 0.9769 - auc: 0.9987 - f1: 0.9779 - val_loss: 0.4251 - val_accuracy: 0.9078 - val_auc: 0.9833 - val_f1: 0.9109\n",
            "Epoch 38/500\n",
            "5/5 [==============================] - 0s 21ms/step - loss: 0.2240 - accuracy: 0.9630 - auc: 0.9984 - f1: 0.9615 - val_loss: 0.4557 - val_accuracy: 0.8986 - val_auc: 0.9814 - val_f1: 0.8995\n",
            "Epoch 39/500\n",
            "5/5 [==============================] - 0s 22ms/step - loss: 0.2320 - accuracy: 0.9630 - auc: 0.9982 - f1: 0.9595 - val_loss: 0.4821 - val_accuracy: 0.8836 - val_auc: 0.9792 - val_f1: 0.8835\n",
            "Epoch 40/500\n",
            "5/5 [==============================] - 0s 21ms/step - loss: 0.2398 - accuracy: 0.9630 - auc: 0.9979 - f1: 0.9680 - val_loss: 0.4997 - val_accuracy: 0.8756 - val_auc: 0.9772 - val_f1: 0.8768\n",
            "Epoch 41/500\n",
            "5/5 [==============================] - 0s 18ms/step - loss: 0.2407 - accuracy: 0.9630 - auc: 0.9979 - f1: 0.9680 - val_loss: 0.5043 - val_accuracy: 0.8698 - val_auc: 0.9760 - val_f1: 0.8710\n",
            "Epoch 42/500\n",
            "5/5 [==============================] - 0s 21ms/step - loss: 0.2361 - accuracy: 0.9630 - auc: 0.9980 - f1: 0.9595 - val_loss: 0.4970 - val_accuracy: 0.8779 - val_auc: 0.9776 - val_f1: 0.8790\n",
            "Epoch 43/500\n",
            "5/5 [==============================] - 0s 19ms/step - loss: 0.2269 - accuracy: 0.9630 - auc: 0.9984 - f1: 0.9699 - val_loss: 0.4798 - val_accuracy: 0.8848 - val_auc: 0.9798 - val_f1: 0.8873\n",
            "Epoch 44/500\n",
            "5/5 [==============================] - 0s 18ms/step - loss: 0.2132 - accuracy: 0.9676 - auc: 0.9988 - f1: 0.9720 - val_loss: 0.4579 - val_accuracy: 0.8963 - val_auc: 0.9819 - val_f1: 0.8993\n",
            "Epoch 45/500\n",
            "5/5 [==============================] - 0s 18ms/step - loss: 0.1990 - accuracy: 0.9722 - auc: 0.9992 - f1: 0.9654 - val_loss: 0.4351 - val_accuracy: 0.9113 - val_auc: 0.9834 - val_f1: 0.9130\n",
            "Epoch 46/500\n",
            "5/5 [==============================] - 0s 19ms/step - loss: 0.1844 - accuracy: 0.9815 - auc: 0.9995 - f1: 0.9755 - val_loss: 0.4142 - val_accuracy: 0.9171 - val_auc: 0.9842 - val_f1: 0.9186\n",
            "Epoch 47/500\n",
            "5/5 [==============================] - 0s 18ms/step - loss: 0.1733 - accuracy: 0.9815 - auc: 0.9997 - f1: 0.9840 - val_loss: 0.3973 - val_accuracy: 0.9263 - val_auc: 0.9858 - val_f1: 0.9277\n",
            "Epoch 48/500\n",
            "5/5 [==============================] - 0s 20ms/step - loss: 0.1658 - accuracy: 0.9861 - auc: 0.9998 - f1: 0.9795 - val_loss: 0.3843 - val_accuracy: 0.9251 - val_auc: 0.9866 - val_f1: 0.9277\n",
            "Epoch 49/500\n",
            "5/5 [==============================] - 0s 18ms/step - loss: 0.1601 - accuracy: 0.9954 - auc: 0.9999 - f1: 0.9960 - val_loss: 0.3749 - val_accuracy: 0.9274 - val_auc: 0.9867 - val_f1: 0.9299\n",
            "Epoch 50/500\n",
            "5/5 [==============================] - 0s 20ms/step - loss: 0.1556 - accuracy: 0.9954 - auc: 1.0000 - f1: 0.9960 - val_loss: 0.3693 - val_accuracy: 0.9297 - val_auc: 0.9876 - val_f1: 0.9316\n",
            "Epoch 51/500\n",
            "5/5 [==============================] - 0s 21ms/step - loss: 0.1550 - accuracy: 0.9907 - auc: 1.0000 - f1: 0.9835 - val_loss: 0.3668 - val_accuracy: 0.9309 - val_auc: 0.9885 - val_f1: 0.9321\n",
            "Epoch 52/500\n",
            "5/5 [==============================] - 0s 21ms/step - loss: 0.1555 - accuracy: 0.9907 - auc: 1.0000 - f1: 0.9920 - val_loss: 0.3667 - val_accuracy: 0.9332 - val_auc: 0.9862 - val_f1: 0.9364\n",
            "Epoch 53/500\n",
            "5/5 [==============================] - 0s 19ms/step - loss: 0.1565 - accuracy: 0.9954 - auc: 1.0000 - f1: 0.9960 - val_loss: 0.3682 - val_accuracy: 0.9332 - val_auc: 0.9862 - val_f1: 0.9337\n",
            "Epoch 54/500\n",
            "5/5 [==============================] - 0s 18ms/step - loss: 0.1575 - accuracy: 0.9907 - auc: 1.0000 - f1: 0.9920 - val_loss: 0.3709 - val_accuracy: 0.9332 - val_auc: 0.9862 - val_f1: 0.9343\n",
            "Epoch 55/500\n",
            "5/5 [==============================] - 0s 19ms/step - loss: 0.1604 - accuracy: 0.9907 - auc: 0.9999 - f1: 0.9920 - val_loss: 0.3742 - val_accuracy: 0.9343 - val_auc: 0.9862 - val_f1: 0.9354\n",
            "Epoch 56/500\n",
            "5/5 [==============================] - 0s 18ms/step - loss: 0.1623 - accuracy: 0.9907 - auc: 0.9999 - f1: 0.9920 - val_loss: 0.3776 - val_accuracy: 0.9332 - val_auc: 0.9861 - val_f1: 0.9354\n",
            "Epoch 57/500\n",
            "5/5 [==============================] - 0s 18ms/step - loss: 0.1641 - accuracy: 0.9907 - auc: 0.9999 - f1: 0.9835 - val_loss: 0.3808 - val_accuracy: 0.9309 - val_auc: 0.9860 - val_f1: 0.9332\n",
            "Epoch 1/500\n",
            "5/5 [==============================] - 0s 18ms/step - loss: 0.1642 - accuracy: 0.9907 - auc: 0.9999 - f1: 0.9920 - val_loss: 0.3833 - val_accuracy: 0.9297 - val_auc: 0.9860 - val_f1: 0.9321\n",
            "Epoch 2/500\n",
            "5/5 [==============================] - 0s 18ms/step - loss: 0.1637 - accuracy: 0.9907 - auc: 0.9999 - f1: 0.9835 - val_loss: 0.3853 - val_accuracy: 0.9297 - val_auc: 0.9860 - val_f1: 0.9321\n",
            "Epoch 3/500\n",
            "5/5 [==============================] - 0s 20ms/step - loss: 0.1626 - accuracy: 0.9907 - auc: 0.9999 - f1: 0.9920 - val_loss: 0.3865 - val_accuracy: 0.9309 - val_auc: 0.9860 - val_f1: 0.9332\n",
            "Epoch 4/500\n",
            "5/5 [==============================] - 0s 20ms/step - loss: 0.1599 - accuracy: 0.9907 - auc: 0.9999 - f1: 0.9835 - val_loss: 0.3874 - val_accuracy: 0.9320 - val_auc: 0.9853 - val_f1: 0.9343\n",
            "Epoch 5/500\n",
            "5/5 [==============================] - 0s 18ms/step - loss: 0.1576 - accuracy: 0.9907 - auc: 0.9999 - f1: 0.9940 - val_loss: 0.3879 - val_accuracy: 0.9320 - val_auc: 0.9853 - val_f1: 0.9343\n",
            "Epoch 6/500\n",
            "5/5 [==============================] - 0s 21ms/step - loss: 0.1542 - accuracy: 0.9954 - auc: 1.0000 - f1: 0.9960 - val_loss: 0.3886 - val_accuracy: 0.9332 - val_auc: 0.9845 - val_f1: 0.9365\n",
            "Epoch 7/500\n",
            "5/5 [==============================] - 0s 18ms/step - loss: 0.1515 - accuracy: 0.9954 - auc: 1.0000 - f1: 0.9960 - val_loss: 0.3897 - val_accuracy: 0.9309 - val_auc: 0.9845 - val_f1: 0.9353\n",
            "Epoch 8/500\n",
            "5/5 [==============================] - 0s 18ms/step - loss: 0.1496 - accuracy: 0.9954 - auc: 1.0000 - f1: 0.9960 - val_loss: 0.3914 - val_accuracy: 0.9343 - val_auc: 0.9844 - val_f1: 0.9376\n",
            "Epoch 9/500\n",
            "5/5 [==============================] - 0s 19ms/step - loss: 0.1473 - accuracy: 1.0000 - auc: 1.0000 - f1: 1.0000 - val_loss: 0.3935 - val_accuracy: 0.9343 - val_auc: 0.9839 - val_f1: 0.9370\n",
            "Epoch 10/500\n",
            "5/5 [==============================] - 0s 19ms/step - loss: 0.1461 - accuracy: 1.0000 - auc: 1.0000 - f1: 1.0000 - val_loss: 0.3962 - val_accuracy: 0.9320 - val_auc: 0.9850 - val_f1: 0.9360\n",
            "Epoch 11/500\n",
            "5/5 [==============================] - 0s 18ms/step - loss: 0.1453 - accuracy: 1.0000 - auc: 1.0000 - f1: 1.0000 - val_loss: 0.3994 - val_accuracy: 0.9332 - val_auc: 0.9842 - val_f1: 0.9371\n",
            "Epoch 12/500\n",
            "5/5 [==============================] - 0s 22ms/step - loss: 0.1446 - accuracy: 1.0000 - auc: 1.0000 - f1: 1.0000 - val_loss: 0.4030 - val_accuracy: 0.9320 - val_auc: 0.9842 - val_f1: 0.9360\n",
            "Epoch 13/500\n",
            "5/5 [==============================] - 0s 21ms/step - loss: 0.1444 - accuracy: 1.0000 - auc: 1.0000 - f1: 1.0000 - val_loss: 0.4068 - val_accuracy: 0.9309 - val_auc: 0.9841 - val_f1: 0.9349\n",
            "Epoch 14/500\n",
            "5/5 [==============================] - 0s 22ms/step - loss: 0.1443 - accuracy: 1.0000 - auc: 1.0000 - f1: 1.0000 - val_loss: 0.4107 - val_accuracy: 0.9297 - val_auc: 0.9845 - val_f1: 0.9343\n",
            "Epoch 15/500\n",
            "5/5 [==============================] - 0s 21ms/step - loss: 0.1446 - accuracy: 1.0000 - auc: 1.0000 - f1: 1.0000 - val_loss: 0.4147 - val_accuracy: 0.9263 - val_auc: 0.9844 - val_f1: 0.9314\n",
            "Epoch 16/500\n",
            "5/5 [==============================] - 0s 21ms/step - loss: 0.1448 - accuracy: 1.0000 - auc: 1.0000 - f1: 1.0000 - val_loss: 0.4186 - val_accuracy: 0.9228 - val_auc: 0.9836 - val_f1: 0.9281\n"
          ],
          "name": "stdout"
        }
      ]
    },
    {
      "cell_type": "code",
      "metadata": {
        "id": "ANz0bgi2Hfpi",
        "colab_type": "code",
        "colab": {
          "base_uri": "https://localhost:8080/",
          "height": 283
        },
        "outputId": "56cd9857-b0f8-4307-83e7-abf24f5d59ca"
      },
      "source": [
        "pd.read_csv(\"log.csv\", sep=\",\")[['loss','val_loss']].plot()"
      ],
      "execution_count": 13,
      "outputs": [
        {
          "output_type": "execute_result",
          "data": {
            "text/plain": [
              "<matplotlib.axes._subplots.AxesSubplot at 0x7fcbe007cb38>"
            ]
          },
          "metadata": {
            "tags": []
          },
          "execution_count": 13
        },
        {
          "output_type": "display_data",
          "data": {
            "image/png": "[encoded data removed]",
            "text/plain": [
              "<Figure size 432x288 with 1 Axes>"
            ]
          },
          "metadata": {
            "tags": []
          }
        }
      ]
    },
    {
      "cell_type": "code",
      "metadata": {
        "id": "ie8qRsmeHfpm",
        "colab_type": "code",
        "colab": {
          "base_uri": "https://localhost:8080/",
          "height": 102
        },
        "outputId": "7c88f9bb-9eff-4416-9c56-a1ddac198a87"
      },
      "source": [
        "model.evaluate(X_test, Y_test)"
      ],
      "execution_count": null,
      "outputs": [
        {
          "output_type": "stream",
          "text": [
            "4/4 [==============================] - 0s 3ms/step - loss: 0.5089 - accuracy: 0.9008 - auc: 0.9791 - f1: 0.9062\n"
          ],
          "name": "stdout"
        },
        {
          "output_type": "execute_result",
          "data": {
            "text/plain": [
              "[0.5088733434677124,\n",
              " 0.9008264541625977,\n",
              " 0.9790770411491394,\n",
              " 0.9062499403953552]"
            ]
          },
          "metadata": {
            "tags": []
          },
          "execution_count": 258
        }
      ]
    },
    {
      "cell_type": "code",
      "metadata": {
        "id": "Qcwyj17QHfpp",
        "colab_type": "code",
        "colab": {
          "base_uri": "https://localhost:8080/",
          "height": 225
        },
        "outputId": "0dbec877-f4c2-4d5a-93f4-cf70ea704759"
      },
      "source": [
        "model.save(f\"model_{label}_{L}.h5\")\n",
        "model = load_model(f\"model_{label}_{L}.h5\", custom_objects={'f1': f1})\n",
        "model.summary()"
      ],
      "execution_count": 8,
      "outputs": [
        {
          "output_type": "stream",
          "text": [
            "Model: \"sequential\"\n",
            "_________________________________________________________________\n",
            "Layer (type)                 Output Shape              Param #   \n",
            "=================================================================\n",
            "dense (Dense)                (None, 50)                20000     \n",
            "_________________________________________________________________\n",
            "dense_1 (Dense)              (None, 4)                 204       \n",
            "=================================================================\n",
            "Total params: 20,204\n",
            "Trainable params: 20,204\n",
            "Non-trainable params: 0\n",
            "_________________________________________________________________\n"
          ],
          "name": "stdout"
        }
      ]
    },
    {
      "cell_type": "code",
      "metadata": {
        "id": "eFyBghA0Hfpt",
        "colab_type": "code",
        "colab": {
          "base_uri": "https://localhost:8080/",
          "height": 34
        },
        "outputId": "5914b6d7-8f76-4e5b-a76e-dd5d6d7dedce"
      },
      "source": [
        "gc.collect()"
      ],
      "execution_count": 9,
      "outputs": [
        {
          "output_type": "execute_result",
          "data": {
            "text/plain": [
              "22"
            ]
          },
          "metadata": {
            "tags": []
          },
          "execution_count": 9
        }
      ]
    },
    {
      "cell_type": "markdown",
      "metadata": {
        "id": "xIWNWHbwHfpz",
        "colab_type": "text"
      },
      "source": [
        "# evaluate on non used on topsbm training\n"
      ]
    },
    {
      "cell_type": "code",
      "metadata": {
        "id": "oydLIuRbG8kJ",
        "colab_type": "code",
        "colab": {
          "base_uri": "https://localhost:8080/",
          "height": 34
        },
        "outputId": "fd5decdf-edb4-49d4-e885-44ef8c64f5b4"
      },
      "source": [
        "classes = df_labels[label].unique()\n",
        "np.savetxt(\"classes.txt\", classes, fmt=\"%s\")\n",
        "np.savetxt(\"X_test.txt\", X_test)\n",
        "np.savetxt(\"Y_test.txt\", Y_test)\n",
        "print(X_test.shape, Y_test.shape)"
      ],
      "execution_count": 14,
      "outputs": [
        {
          "output_type": "stream",
          "text": [
            "(121, 399) (121, 4)\n"
          ],
          "name": "stdout"
        }
      ]
    },
    {
      "cell_type": "code",
      "metadata": {
        "id": "5JLmv_InHfp_",
        "colab_type": "code",
        "colab": {
          "base_uri": "https://localhost:8080/",
          "height": 104
        },
        "outputId": "2017fa17-3429-4069-854f-76dfdea10acc"
      },
      "source": [
        "model.evaluate(X_test, Y_test, verbose=2, workers=-1, use_multiprocessing=True)"
      ],
      "execution_count": 15,
      "outputs": [
        {
          "output_type": "stream",
          "text": [
            "4/4 - 0s - loss: 0.4740 - accuracy: 0.9008 - auc: 0.9871 - f1: 0.9062\n"
          ],
          "name": "stdout"
        },
        {
          "output_type": "execute_result",
          "data": {
            "text/plain": [
              "[0.4739789366722107,\n",
              " 0.9008264541625977,\n",
              " 0.9870567917823792,\n",
              " 0.9062499403953552]"
            ]
          },
          "metadata": {
            "tags": []
          },
          "execution_count": 15
        }
      ]
    },
    {
      "cell_type": "code",
      "metadata": {
        "id": "XuS52Or_j_im",
        "colab_type": "code",
        "colab": {}
      },
      "source": [
        "from sklearn.metrics import confusion_matrix, roc_curve, roc_auc_score\n",
        "import seaborn as sns"
      ],
      "execution_count": 16,
      "outputs": []
    },
    {
      "cell_type": "code",
      "metadata": {
        "id": "mdOMEPwJkKT0",
        "colab_type": "code",
        "colab": {}
      },
      "source": [
        "y_pred_p = model.predict(X_test)\n",
        "y_true = np.argmax(Y_test, axis=1)\n",
        "y_pred = np.argmax(y_pred_p, axis=1)\n",
        "results = confusion_matrix(y_true, y_pred, normalize=\"true\")"
      ],
      "execution_count": 17,
      "outputs": []
    },
    {
      "cell_type": "code",
      "metadata": {
        "id": "wMC0y97WHfqN",
        "colab_type": "code",
        "colab": {
          "base_uri": "https://localhost:8080/",
          "height": 734
        },
        "outputId": "f0975ce1-7c05-4919-cf95-ea47bff7abdb"
      },
      "source": [
        "cm = sns.clustermap(results, \n",
        "                    vmax=1,  \n",
        "                    row_cluster=False, \n",
        "                    col_cluster=False, \n",
        "                    xticklabels=classes, \n",
        "                    yticklabels=classes, \n",
        "                    annot=False,\n",
        "                    annot_kws={\"fontsize\":20})\n",
        "ax = cm.ax_heatmap\n",
        "fig = ax.get_figure()\n",
        "ax.set_ylabel(\"real\", fontsize=35, rotation=90)\n",
        "ax.set_yticklabels(labels=classes, rotation=0)\n",
        "ax.yaxis.tick_left()\n",
        "ax.yaxis.set_label_position(\"left\")\n",
        "\n",
        "ax.set_xticklabels(labels=classes, rotation=90)\n",
        "ax.set_xlabel(\"predicted\",fontsize=35)\n",
        "ax.tick_params(labelsize=35)\n",
        "\n",
        "cax = cm.ax_cbar\n",
        "cax.tick_params(labelsize=30)\n",
        "cax.set_title(\"P()\", fontsize=30)\n",
        "plt.tight_layout()\n",
        "cm.savefig(f\"predict_{label}.pdf\")\n",
        "\n",
        "plt.show()"
      ],
      "execution_count": 18,
      "outputs": [
        {
          "output_type": "display_data",
          "data": {
            "image/png": "[encoded data removed]",
            "text/plain": [
              "<Figure size 720x720 with 4 Axes>"
            ]
          },
          "metadata": {
            "tags": []
          }
        }
      ]
    },
    {
      "cell_type": "code",
      "metadata": {
        "id": "ecz4ARzeDn9F",
        "colab_type": "code",
        "colab": {
          "base_uri": "https://localhost:8080/",
          "height": 1000
        },
        "outputId": "5c5e7361-5545-464d-9540-f1f293d13392"
      },
      "source": [
        "fig, ax = plt.subplots(figsize=(15,18))\n",
        "for itissue, tissue in enumerate(classes):\n",
        "  tissue_true = y_true.copy()\n",
        "  tissue_true[y_true==itissue]=1\n",
        "  tissue_true[y_true!=itissue]=0\n",
        "  fpr, tpr, thresholds = roc_curve(tissue_true, y_pred_p.T[itissue])\n",
        "  score = roc_auc_score(tissue_true, y_pred_p.T[itissue])\n",
        "\n",
        "  ax.plot(fpr,tpr, lw=20, alpha=0.8, label=tissue.replace(\"BRCA.\",\"\")+\" (%.3f)\"%score)\n",
        "\n",
        "  ax.set_xlabel('False positive rate', fontsize=35)\n",
        "  ax.set_ylabel('True positive rate', fontsize=35)\n",
        "\n",
        "  ax.tick_params(labelsize=35)\n",
        "\n",
        "ax.plot([0, 1], [0, 1], 'k--', lw=15, label=\"random\")\n",
        "ax.legend(fontsize=35)\n",
        "ax.set_ylim(0.5,1.05)\n",
        "plt.show()\n",
        "fig.savefig(f\"roc_{label}.pdf\")"
      ],
      "execution_count": null,
      "outputs": [
        {
          "output_type": "display_data",
          "data": {
            "image/png": "[encoded data removed]",
            "text/plain": [
              "<Figure size 1080x1296 with 1 Axes>"
            ]
          },
          "metadata": {
            "tags": []
          }
        }
      ]
    },
    {
      "cell_type": "code",
      "metadata": {
        "id": "j6ammA5vtzeg",
        "colab_type": "code",
        "colab": {}
      },
      "source": [
        ""
      ],
      "execution_count": null,
      "outputs": []
    }
  ]
}
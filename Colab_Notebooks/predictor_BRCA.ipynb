{
  "nbformat": 4,
  "nbformat_minor": 0,
  "metadata": {
    "kernelspec": {
      "name": "python3",
      "display_name": "Python 3"
    },
    "language_info": {
      "codemirror_mode": {
        "name": "ipython",
        "version": 3
      },
      "file_extension": ".py",
      "mimetype": "text/x-python",
      "name": "python",
      "nbconvert_exporter": "python",
      "pygments_lexer": "ipython3",
      "version": "3.6.10"
    },
    "colab": {
      "name": "predictor_BRCA.ipynb",
      "provenance": [],
      "collapsed_sections": []
    },
    "accelerator": "GPU"
  },
  "cells": [
    {
      "cell_type": "code",
      "metadata": {
        "id": "OM7BoWVULIgX",
        "colab_type": "code",
        "colab": {
          "base_uri": "https://localhost:8080/",
          "height": 122
        },
        "outputId": "1c18dc84-2f5b-4d95-c2a8-8a61afc3cdfc"
      },
      "source": [
        "from google.colab import drive\n",
        "drive.mount('/content/drive')"
      ],
      "execution_count": 1,
      "outputs": [
        {
          "output_type": "stream",
          "text": [
            "Go to this URL in a browser: https://accounts.google.com/o/oauth2/auth?client_id=947318989803-6bn6qk8qdgf4n4g3pfee6491hc0brc4i.apps.googleusercontent.com&redirect_uri=urn%3aietf%3awg%3aoauth%3a2.0%3aoob&response_type=code&scope=email%20https%3a%2f%2fwww.googleapis.com%2fauth%2fdocs.test%20https%3a%2f%2fwww.googleapis.com%2fauth%2fdrive%20https%3a%2f%2fwww.googleapis.com%2fauth%2fdrive.photos.readonly%20https%3a%2f%2fwww.googleapis.com%2fauth%2fpeopleapi.readonly\n",
            "\n",
            "Enter your authorization code:\n",
            "··········\n",
            "Mounted at /content/drive\n"
          ],
          "name": "stdout"
        }
      ]
    },
    {
      "cell_type": "code",
      "metadata": {
        "id": "cZ0Axhw2Hfop",
        "colab_type": "code",
        "colab": {
          "base_uri": "https://localhost:8080/",
          "height": 51
        },
        "outputId": "5ad05fbc-97cb-4959-a1b2-4213d609b257"
      },
      "source": [
        "import pandas as pd\n",
        "import os,sys, gc\n",
        "import matplotlib.pyplot as plt\n",
        "from scipy.stats import entropy\n",
        "sys.path.append(\"/content/drive/My Drive/phd\")\n",
        "sys.path.append(\"/content/drive/My Drive/phd/hsbm-occam\")\n",
        "from hsbmpy import get_max_available_L\n",
        "\n",
        "os.environ[\"TF_CUDNN_USE_AUTOTUNE\"]=\"0\""
      ],
      "execution_count": 2,
      "outputs": [
        {
          "output_type": "stream",
          "text": [
            "/usr/local/lib/python3.6/dist-packages/statsmodels/tools/_testing.py:19: FutureWarning: pandas.util.testing is deprecated. Use the functions in the public API at pandas.testing instead.\n",
            "  import pandas.util.testing as tm\n"
          ],
          "name": "stderr"
        }
      ]
    },
    {
      "cell_type": "code",
      "metadata": {
        "id": "Yhh35xNYHfo1",
        "colab_type": "code",
        "colab": {}
      },
      "source": [
        "algorithm = \"topsbm\"\n",
        "directory='/content/drive/My Drive/phd/datasets/cancers/breast'\n",
        "L = 0\n",
        "os.chdir(directory)"
      ],
      "execution_count": 0,
      "outputs": []
    },
    {
      "cell_type": "code",
      "metadata": {
        "id": "XXZfXhOYHfo5",
        "colab_type": "code",
        "colab": {
          "base_uri": "https://localhost:8080/",
          "height": 357
        },
        "outputId": "e145dc21-843e-4153-c90e-26e3e8723afa"
      },
      "source": [
        "label = 'Subtype_Selected_Lum'\n",
        "\n",
        "df_topics = pd.read_csv(\"topsbm_all/%s_level_%d_topic-dist.csv\"%(algorithm,L)).set_index('doc').drop('i_doc', axis=1)\n",
        "df_words = pd.read_csv(\"topsbm_all/%s_level_%d_word-dist.csv\"%(algorithm,L), index_col=0)\n",
        "df_words.index=[g[:15] for g in df_words.index]\n",
        "df = pd.read_csv(\"mainTable.csv\", index_col=0).reindex(index=df_words.index)\n",
        "df = df.divide(df.sum(0),1).transpose().fillna(0)\n",
        "df_files=pd.read_csv(\"files.dat\", index_col=0)\n",
        "df_topics.insert(0,'tissue', df_files.reindex(index=df_topics.index)[label])\n",
        "df_topic_tissue = df_topics.groupby('tissue').mean()\n",
        "df_files.head()"
      ],
      "execution_count": 35,
      "outputs": [
        {
          "output_type": "execute_result",
          "data": {
            "text/html": [
              "<div>\n",
              "<style scoped>\n",
              "    .dataframe tbody tr th:only-of-type {\n",
              "        vertical-align: middle;\n",
              "    }\n",
              "\n",
              "    .dataframe tbody tr th {\n",
              "        vertical-align: top;\n",
              "    }\n",
              "\n",
              "    .dataframe thead th {\n",
              "        text-align: right;\n",
              "    }\n",
              "</style>\n",
              "<table border=\"1\" class=\"dataframe\">\n",
              "  <thead>\n",
              "    <tr style=\"text-align: right;\">\n",
              "      <th></th>\n",
              "      <th>cases.0.submitter_id</th>\n",
              "      <th>cases.0.diagnoses.0.primary_diagnosis</th>\n",
              "      <th>cases.0.diagnoses.0.morphology</th>\n",
              "      <th>cases.0.diagnoses.0.tissue_or_organ_of_origin</th>\n",
              "      <th>cases.0.diagnoses.0.tumor_grade</th>\n",
              "      <th>cases.0.diagnoses.0.tumor_stage</th>\n",
              "      <th>cases.0.project.disease_type</th>\n",
              "      <th>cases.0.project.primary_site</th>\n",
              "      <th>cases.0.samples.0.longest_dimension</th>\n",
              "      <th>Tumor.Type</th>\n",
              "      <th>Included_in_previous_marker_papers</th>\n",
              "      <th>vital_status</th>\n",
              "      <th>days_to_birth</th>\n",
              "      <th>days_to_death</th>\n",
              "      <th>days_to_last_followup</th>\n",
              "      <th>age_at_initial_pathologic_diagnosis</th>\n",
              "      <th>pathologic_stage</th>\n",
              "      <th>Tumor_Grade</th>\n",
              "      <th>BRCA_Pathology</th>\n",
              "      <th>BRCA_Subtype_PAM50</th>\n",
              "      <th>MSI_status</th>\n",
              "      <th>HPV_Status</th>\n",
              "      <th>tobacco_smoking_history</th>\n",
              "      <th>CNV Clusters</th>\n",
              "      <th>Mutation Clusters</th>\n",
              "      <th>DNA.Methylation Clusters</th>\n",
              "      <th>mRNA Clusters</th>\n",
              "      <th>miRNA Clusters</th>\n",
              "      <th>lncRNA Clusters</th>\n",
              "      <th>Protein Clusters</th>\n",
              "      <th>PARADIGM Clusters</th>\n",
              "      <th>Pan-Gyn Clusters</th>\n",
              "      <th>birth_year</th>\n",
              "      <th>death_year</th>\n",
              "      <th>age</th>\n",
              "      <th>age_binned</th>\n",
              "      <th>cancer.type</th>\n",
              "      <th>Subtype_mRNA</th>\n",
              "      <th>Subtype_DNAmeth</th>\n",
              "      <th>Subtype_protein</th>\n",
              "      <th>Subtype_miRNA</th>\n",
              "      <th>Subtype_CNA</th>\n",
              "      <th>Subtype_Integrative</th>\n",
              "      <th>Subtype_other</th>\n",
              "      <th>Subtype_Selected</th>\n",
              "      <th>Subtype_Selected_Lum</th>\n",
              "    </tr>\n",
              "    <tr>\n",
              "      <th>file_name</th>\n",
              "      <th></th>\n",
              "      <th></th>\n",
              "      <th></th>\n",
              "      <th></th>\n",
              "      <th></th>\n",
              "      <th></th>\n",
              "      <th></th>\n",
              "      <th></th>\n",
              "      <th></th>\n",
              "      <th></th>\n",
              "      <th></th>\n",
              "      <th></th>\n",
              "      <th></th>\n",
              "      <th></th>\n",
              "      <th></th>\n",
              "      <th></th>\n",
              "      <th></th>\n",
              "      <th></th>\n",
              "      <th></th>\n",
              "      <th></th>\n",
              "      <th></th>\n",
              "      <th></th>\n",
              "      <th></th>\n",
              "      <th></th>\n",
              "      <th></th>\n",
              "      <th></th>\n",
              "      <th></th>\n",
              "      <th></th>\n",
              "      <th></th>\n",
              "      <th></th>\n",
              "      <th></th>\n",
              "      <th></th>\n",
              "      <th></th>\n",
              "      <th></th>\n",
              "      <th></th>\n",
              "      <th></th>\n",
              "      <th></th>\n",
              "      <th></th>\n",
              "      <th></th>\n",
              "      <th></th>\n",
              "      <th></th>\n",
              "      <th></th>\n",
              "      <th></th>\n",
              "      <th></th>\n",
              "      <th></th>\n",
              "      <th></th>\n",
              "    </tr>\n",
              "  </thead>\n",
              "  <tbody>\n",
              "    <tr>\n",
              "      <th>87fcecde-b317-4518-bea1-cc8d14a18107.FPKM.txt.gz</th>\n",
              "      <td>TCGA-BH-A0W3</td>\n",
              "      <td>Infiltrating duct carcinoma, NOS</td>\n",
              "      <td>8500/3</td>\n",
              "      <td>Breast, NOS</td>\n",
              "      <td>not reported</td>\n",
              "      <td>stage iia</td>\n",
              "      <td>Breast Invasive Carcinoma</td>\n",
              "      <td>Breast</td>\n",
              "      <td>unknown</td>\n",
              "      <td>BRCA</td>\n",
              "      <td>YES</td>\n",
              "      <td>Alive</td>\n",
              "      <td>-21369.0</td>\n",
              "      <td>unknown</td>\n",
              "      <td>728.0</td>\n",
              "      <td>58.0</td>\n",
              "      <td>Stage_II</td>\n",
              "      <td>unknown</td>\n",
              "      <td>IDC</td>\n",
              "      <td>LumB</td>\n",
              "      <td>unknown</td>\n",
              "      <td>unknown</td>\n",
              "      <td>unknown</td>\n",
              "      <td>C3</td>\n",
              "      <td>C4</td>\n",
              "      <td>C1</td>\n",
              "      <td>C1</td>\n",
              "      <td>C3</td>\n",
              "      <td>unknown</td>\n",
              "      <td>unknown</td>\n",
              "      <td>C5</td>\n",
              "      <td>unknown</td>\n",
              "      <td>1961-11-05 12:43:40.592206</td>\n",
              "      <td>unknown</td>\n",
              "      <td>unknown</td>\n",
              "      <td>unknown</td>\n",
              "      <td>BRCA</td>\n",
              "      <td>LumB</td>\n",
              "      <td>unknown</td>\n",
              "      <td>unknown</td>\n",
              "      <td>unknown</td>\n",
              "      <td>unknown</td>\n",
              "      <td>unknown</td>\n",
              "      <td>unknown</td>\n",
              "      <td>BRCA.LumB</td>\n",
              "      <td>BRCA.Lum</td>\n",
              "    </tr>\n",
              "    <tr>\n",
              "      <th>bbf9a30d-3067-491b-9aea-0cb9bed91969.FPKM.txt.gz</th>\n",
              "      <td>TCGA-A8-A07F</td>\n",
              "      <td>Infiltrating duct carcinoma, NOS</td>\n",
              "      <td>8500/3</td>\n",
              "      <td>Breast, NOS</td>\n",
              "      <td>not reported</td>\n",
              "      <td>stage iib</td>\n",
              "      <td>Breast Invasive Carcinoma</td>\n",
              "      <td>Breast</td>\n",
              "      <td>unknown</td>\n",
              "      <td>BRCA</td>\n",
              "      <td>YES</td>\n",
              "      <td>Alive</td>\n",
              "      <td>-23742.0</td>\n",
              "      <td>unknown</td>\n",
              "      <td>577.0</td>\n",
              "      <td>65.0</td>\n",
              "      <td>Stage_II</td>\n",
              "      <td>unknown</td>\n",
              "      <td>Mixed</td>\n",
              "      <td>LumA</td>\n",
              "      <td>unknown</td>\n",
              "      <td>unknown</td>\n",
              "      <td>unknown</td>\n",
              "      <td>C5</td>\n",
              "      <td>C1</td>\n",
              "      <td>C1</td>\n",
              "      <td>C1</td>\n",
              "      <td>C3</td>\n",
              "      <td>C3</td>\n",
              "      <td>C2</td>\n",
              "      <td>C5</td>\n",
              "      <td>C1</td>\n",
              "      <td>1955-05-08 12:43:40.590999</td>\n",
              "      <td>unknown</td>\n",
              "      <td>unknown</td>\n",
              "      <td>unknown</td>\n",
              "      <td>BRCA</td>\n",
              "      <td>LumA</td>\n",
              "      <td>unknown</td>\n",
              "      <td>unknown</td>\n",
              "      <td>unknown</td>\n",
              "      <td>unknown</td>\n",
              "      <td>unknown</td>\n",
              "      <td>unknown</td>\n",
              "      <td>BRCA.LumA</td>\n",
              "      <td>BRCA.Lum</td>\n",
              "    </tr>\n",
              "    <tr>\n",
              "      <th>c909a75f-23e8-4c96-82f2-72e46fdb8155.FPKM.txt.gz</th>\n",
              "      <td>TCGA-GM-A3XL</td>\n",
              "      <td>Infiltrating duct carcinoma, NOS</td>\n",
              "      <td>8500/3</td>\n",
              "      <td>Breast, NOS</td>\n",
              "      <td>not reported</td>\n",
              "      <td>stage iia</td>\n",
              "      <td>Breast Invasive Carcinoma</td>\n",
              "      <td>Breast</td>\n",
              "      <td>unknown</td>\n",
              "      <td>BRCA</td>\n",
              "      <td>NO</td>\n",
              "      <td>Alive</td>\n",
              "      <td>-18171.0</td>\n",
              "      <td>unknown</td>\n",
              "      <td>2108.0</td>\n",
              "      <td>49.0</td>\n",
              "      <td>Stage_II</td>\n",
              "      <td>unknown</td>\n",
              "      <td>IDC</td>\n",
              "      <td>Basal</td>\n",
              "      <td>unknown</td>\n",
              "      <td>unknown</td>\n",
              "      <td>unknown</td>\n",
              "      <td>C4</td>\n",
              "      <td>C1</td>\n",
              "      <td>C4</td>\n",
              "      <td>C4</td>\n",
              "      <td>C7</td>\n",
              "      <td>unknown</td>\n",
              "      <td>C5</td>\n",
              "      <td>C4</td>\n",
              "      <td>C5</td>\n",
              "      <td>1970-08-08 12:43:40.593281</td>\n",
              "      <td>unknown</td>\n",
              "      <td>unknown</td>\n",
              "      <td>unknown</td>\n",
              "      <td>BRCA</td>\n",
              "      <td>Basal</td>\n",
              "      <td>unknown</td>\n",
              "      <td>unknown</td>\n",
              "      <td>unknown</td>\n",
              "      <td>unknown</td>\n",
              "      <td>unknown</td>\n",
              "      <td>unknown</td>\n",
              "      <td>BRCA.Basal</td>\n",
              "      <td>BRCA.Basal</td>\n",
              "    </tr>\n",
              "    <tr>\n",
              "      <th>1c89ff2f-6e0a-4244-952b-1391dba1b815.FPKM.txt.gz</th>\n",
              "      <td>TCGA-LL-A441</td>\n",
              "      <td>Infiltrating duct carcinoma, NOS</td>\n",
              "      <td>8500/3</td>\n",
              "      <td>Breast, NOS</td>\n",
              "      <td>not reported</td>\n",
              "      <td>stage ia</td>\n",
              "      <td>Breast Invasive Carcinoma</td>\n",
              "      <td>Breast</td>\n",
              "      <td>unknown</td>\n",
              "      <td>BRCA</td>\n",
              "      <td>NO</td>\n",
              "      <td>Alive</td>\n",
              "      <td>-22772.0</td>\n",
              "      <td>unknown</td>\n",
              "      <td>996.0</td>\n",
              "      <td>62.0</td>\n",
              "      <td>Stage_I</td>\n",
              "      <td>unknown</td>\n",
              "      <td>IDC</td>\n",
              "      <td>Normal</td>\n",
              "      <td>unknown</td>\n",
              "      <td>unknown</td>\n",
              "      <td>unknown</td>\n",
              "      <td>C4</td>\n",
              "      <td>C4</td>\n",
              "      <td>C4</td>\n",
              "      <td>C4</td>\n",
              "      <td>C7</td>\n",
              "      <td>unknown</td>\n",
              "      <td>C5</td>\n",
              "      <td>C4</td>\n",
              "      <td>C3</td>\n",
              "      <td>1958-01-02 12:43:40.593313</td>\n",
              "      <td>unknown</td>\n",
              "      <td>unknown</td>\n",
              "      <td>unknown</td>\n",
              "      <td>BRCA</td>\n",
              "      <td>Normal</td>\n",
              "      <td>unknown</td>\n",
              "      <td>unknown</td>\n",
              "      <td>unknown</td>\n",
              "      <td>unknown</td>\n",
              "      <td>unknown</td>\n",
              "      <td>unknown</td>\n",
              "      <td>BRCA.Normal</td>\n",
              "      <td>BRCA.Normal</td>\n",
              "    </tr>\n",
              "    <tr>\n",
              "      <th>2a6ae2e8-733f-4349-8eec-d25e2b4abf86.FPKM.txt.gz</th>\n",
              "      <td>TCGA-BH-A0HP</td>\n",
              "      <td>Lobular carcinoma, NOS</td>\n",
              "      <td>8520/3</td>\n",
              "      <td>Breast, NOS</td>\n",
              "      <td>not reported</td>\n",
              "      <td>stage iiia</td>\n",
              "      <td>Breast Invasive Carcinoma</td>\n",
              "      <td>Breast</td>\n",
              "      <td>unknown</td>\n",
              "      <td>BRCA</td>\n",
              "      <td>YES</td>\n",
              "      <td>Alive</td>\n",
              "      <td>-23883.0</td>\n",
              "      <td>unknown</td>\n",
              "      <td>414.0</td>\n",
              "      <td>65.0</td>\n",
              "      <td>Stage_III</td>\n",
              "      <td>unknown</td>\n",
              "      <td>ILC</td>\n",
              "      <td>LumA</td>\n",
              "      <td>unknown</td>\n",
              "      <td>unknown</td>\n",
              "      <td>unknown</td>\n",
              "      <td>C1</td>\n",
              "      <td>C9</td>\n",
              "      <td>C1</td>\n",
              "      <td>C1</td>\n",
              "      <td>C3</td>\n",
              "      <td>C2</td>\n",
              "      <td>C1</td>\n",
              "      <td>C6</td>\n",
              "      <td>C1</td>\n",
              "      <td>1954-12-18 12:43:40.592189</td>\n",
              "      <td>unknown</td>\n",
              "      <td>unknown</td>\n",
              "      <td>unknown</td>\n",
              "      <td>BRCA</td>\n",
              "      <td>LumA</td>\n",
              "      <td>unknown</td>\n",
              "      <td>unknown</td>\n",
              "      <td>unknown</td>\n",
              "      <td>unknown</td>\n",
              "      <td>unknown</td>\n",
              "      <td>unknown</td>\n",
              "      <td>BRCA.LumA</td>\n",
              "      <td>BRCA.Lum</td>\n",
              "    </tr>\n",
              "  </tbody>\n",
              "</table>\n",
              "</div>"
            ],
            "text/plain": [
              "                                                 cases.0.submitter_id  ... Subtype_Selected_Lum\n",
              "file_name                                                              ...                     \n",
              "87fcecde-b317-4518-bea1-cc8d14a18107.FPKM.txt.gz         TCGA-BH-A0W3  ...             BRCA.Lum\n",
              "bbf9a30d-3067-491b-9aea-0cb9bed91969.FPKM.txt.gz         TCGA-A8-A07F  ...             BRCA.Lum\n",
              "c909a75f-23e8-4c96-82f2-72e46fdb8155.FPKM.txt.gz         TCGA-GM-A3XL  ...           BRCA.Basal\n",
              "1c89ff2f-6e0a-4244-952b-1391dba1b815.FPKM.txt.gz         TCGA-LL-A441  ...          BRCA.Normal\n",
              "2a6ae2e8-733f-4349-8eec-d25e2b4abf86.FPKM.txt.gz         TCGA-BH-A0HP  ...             BRCA.Lum\n",
              "\n",
              "[5 rows x 46 columns]"
            ]
          },
          "metadata": {
            "tags": []
          },
          "execution_count": 35
        }
      ]
    },
    {
      "cell_type": "markdown",
      "metadata": {
        "id": "LdnogDbsHfpP",
        "colab_type": "text"
      },
      "source": [
        "## NN based predictor"
      ]
    },
    {
      "cell_type": "code",
      "metadata": {
        "id": "KB8z21PkHfpR",
        "colab_type": "code",
        "colab": {
          "base_uri": "https://localhost:8080/",
          "height": 476
        },
        "outputId": "5b8ddde8-bbb5-4c51-905c-2ff3e5d3d20b"
      },
      "source": [
        "import tensorflow as tf\n",
        "from tensorflow.keras.models import Sequential\n",
        "from tensorflow.keras.layers import Dense\n",
        "from tensorflow.keras.losses import binary_crossentropy,mean_squared_error, categorical_crossentropy\n",
        "from tensorflow.keras.optimizers import SGD, Adam\n",
        "from tensorflow.keras.regularizers import l1_l2\n",
        "from tensorflow.keras.utils import plot_model,to_categorical\n",
        "from tensorflow.keras.callbacks import Callback, CSVLogger, EarlyStopping\n",
        "from tensorflow.keras.models import load_model\n",
        "from tensorflow.keras import backend as K\n",
        "from tensorflow.python.client.device_lib import list_local_devices\n",
        "import matplotlib.pyplot as plt\n",
        "from sklearn.model_selection import train_test_split\n",
        "import numpy as np\n",
        "import os,sys, gc\n",
        "list_local_devices()"
      ],
      "execution_count": 36,
      "outputs": [
        {
          "output_type": "execute_result",
          "data": {
            "text/plain": [
              "[name: \"/device:CPU:0\"\n",
              " device_type: \"CPU\"\n",
              " memory_limit: 268435456\n",
              " locality {\n",
              " }\n",
              " incarnation: 3051936994920745895, name: \"/device:XLA_CPU:0\"\n",
              " device_type: \"XLA_CPU\"\n",
              " memory_limit: 17179869184\n",
              " locality {\n",
              " }\n",
              " incarnation: 15429701836821660606\n",
              " physical_device_desc: \"device: XLA_CPU device\", name: \"/device:XLA_GPU:0\"\n",
              " device_type: \"XLA_GPU\"\n",
              " memory_limit: 17179869184\n",
              " locality {\n",
              " }\n",
              " incarnation: 6171145260213989047\n",
              " physical_device_desc: \"device: XLA_GPU device\", name: \"/device:GPU:0\"\n",
              " device_type: \"GPU\"\n",
              " memory_limit: 11150726272\n",
              " locality {\n",
              "   bus_id: 1\n",
              "   links {\n",
              "   }\n",
              " }\n",
              " incarnation: 7040737467016547461\n",
              " physical_device_desc: \"device: 0, name: Tesla K80, pci bus id: 0000:00:04.0, compute capability: 3.7\"]"
            ]
          },
          "metadata": {
            "tags": []
          },
          "execution_count": 36
        }
      ]
    },
    {
      "cell_type": "code",
      "metadata": {
        "id": "J8SmE2OrHfpV",
        "colab_type": "code",
        "colab": {}
      },
      "source": [
        "def preprocess_data(verbose=True):\n",
        "  global df_topics\n",
        "  global df_files\n",
        "  df_topics = df_topics[df_topics[\"tissue\"]!=\"unknown\"]\n",
        "\n",
        "  df_labels=df_files.copy()\n",
        "  df_labels=df_labels.reindex(index=df_topics.index)\n",
        "\n",
        "  uniq = len(df_labels[label].unique())\n",
        "\n",
        "  X = df_topics.drop('tissue',1)\n",
        "  X = X.subtract(X.mean(0),1).divide(0.5*(X.max(0)-X.min(0)),1).values.astype(float) #SGD transform\n",
        "  Y = to_categorical(np.unique(df_labels[label], return_inverse=True)[1])\n",
        "  inputs = X.shape[1]\n",
        "\n",
        "  classes=np.unique(df_labels[df_labels.index.isin(df.index)][label], return_inverse=True)[0]\n",
        "\n",
        "  X_train, X_test, Y_train, Y_test = train_test_split(X, Y, random_state=42, train_size=0.9)\n",
        "\n",
        "  if verbose:\n",
        "    print(X_train.shape, Y_train.shape, X_test.shape, Y_test.shape)\n",
        "  return inputs, uniq, df_labels, X_train, X_test, Y_train, Y_test"
      ],
      "execution_count": 0,
      "outputs": []
    },
    {
      "cell_type": "code",
      "metadata": {
        "id": "y5_nq-la_a7V",
        "colab_type": "code",
        "colab": {
          "base_uri": "https://localhost:8080/",
          "height": 34
        },
        "outputId": "a895e6ed-0baf-4c57-b200-d63127b8209d"
      },
      "source": [
        "inputs, uniq, df_labels, X_train, X_test, Y_train, Y_test = preprocess_data(True)"
      ],
      "execution_count": 38,
      "outputs": [
        {
          "output_type": "stream",
          "text": [
            "(1084, 399) (1084, 4) (121, 399) (121, 4)\n"
          ],
          "name": "stdout"
        }
      ]
    },
    {
      "cell_type": "code",
      "metadata": {
        "id": "pX-x2IjkBg8j",
        "colab_type": "code",
        "colab": {}
      },
      "source": [
        "def recall_m(y_true, y_pred):\n",
        "    true_positives = K.sum(K.round(K.clip(y_true * y_pred, 0, 1)))\n",
        "    possible_positives = K.sum(K.round(K.clip(y_true, 0, 1)))\n",
        "    recall = true_positives / (possible_positives + K.epsilon())\n",
        "    return recall\n",
        "\n",
        "def precision_m(y_true, y_pred):\n",
        "    true_positives = K.sum(K.round(K.clip(y_true * y_pred, 0, 1)))\n",
        "    predicted_positives = K.sum(K.round(K.clip(y_pred, 0, 1)))\n",
        "    precision = true_positives / (predicted_positives + K.epsilon())\n",
        "    return precision\n",
        "\n",
        "def f1(y_true, y_pred):\n",
        "    precision = precision_m(y_true, y_pred)\n",
        "    recall = recall_m(y_true, y_pred)\n",
        "    return 2*((precision*recall)/(precision+recall+K.epsilon()))"
      ],
      "execution_count": 0,
      "outputs": []
    },
    {
      "cell_type": "code",
      "metadata": {
        "id": "9A-pjO9lHfpa",
        "colab_type": "code",
        "colab": {}
      },
      "source": [
        "def create_model(opt, l1, l2, hidden, loss=categorical_crossentropy, activation_func = \"softmax\",  verbose=True):\n",
        "  K.clear_session()\n",
        "\n",
        "  inputs, uniq, df_labels, X_train, X_test, Y_train, Y_test = preprocess_data(verbose)\n",
        "\n",
        "  os.system(\"rm -rf log.csv\")\n",
        "  model=Sequential()\n",
        "  model.add(Dense(units=hidden, input_dim=inputs, use_bias=True, bias_initializer=\"ones\", activation=\"relu\", kernel_regularizer=l1_l2(l1=l1, l2=l2)))\n",
        "  model.add(Dense(units=uniq, activation=activation_func))\n",
        "  model.compile(loss=loss, optimizer=opt, metrics=['accuracy', 'AUC', f1])\n",
        "  K.set_learning_phase(0)\n",
        "\n",
        "  if verbose:\n",
        "    print(model.summary())\n",
        "    plot_model(model, to_file=f\"model_{label}.png\", dpi=600, show_shapes=True)\n",
        "  return model, X_train, X_test, Y_train, Y_test "
      ],
      "execution_count": 0,
      "outputs": []
    },
    {
      "cell_type": "code",
      "metadata": {
        "id": "SdHvt7jFHfpf",
        "colab_type": "code",
        "colab": {
          "base_uri": "https://localhost:8080/",
          "height": 1000
        },
        "outputId": "d792d637-ed87-456f-a134-3fc07beddcea"
      },
      "source": [
        "def train_GS():\n",
        "  csv_logger = CSVLogger('log.csv', append=True, separator=',')\n",
        "  es = EarlyStopping(monitor='val_loss', min_delta=1e-3, mode='min', patience=25)\n",
        "\n",
        "  momentum = 0.95\n",
        "  best_model = None\n",
        "  best_score = -np.inf\n",
        "  for lr in [0.001, 0.0003]:\n",
        "    for l1 in [0.001,0.0001]:\n",
        "      for l2 in [0.001, 0.0001]:\n",
        "        for bs in [50,100]:\n",
        "          for momentum in [0.95, 0.98, 0.99]:\n",
        "            for hidden in [50, 75, 100]:\n",
        "              print(lr, l1, l2, bs, momentum, hidden)\n",
        "              opt = SGD(lr=lr, momentum=momentum)\n",
        "              model, X_train, X_test, Y_train, Y_test  = create_model(opt, l1, l2, hidden, verbose=False)\n",
        "              with tf.device(\"GPU\"):\n",
        "                hist = model.fit(X_train, Y_train, epochs=500, batch_size=bs, verbose=0, validation_split=0.8, callbacks=[csv_logger, es], shuffle=True, use_multiprocessing=True, workers=-1)\n",
        "              f1_score = hist.history[\"val_f1\"][-1]\n",
        "              if f1_score > best_score:\n",
        "                loss = hist.history[\"val_loss\"][-1]\n",
        "                acc = hist.history[\"val_accuracy\"][-1]\n",
        "                auc = hist.history[\"val_auc\"][-1]\n",
        "                print(f\"loss: {loss}, accuracy: {acc}, AUC: {auc}, f1: {f1_score}\")\n",
        "                best_score = f1_score\n",
        "                best_model=model\n",
        "  return best_model, lr, l1, l2, bs, momentum, hidden\n",
        "\n",
        "model, lr, l1, l2, bs, momentum, hidden = train_GS()\n",
        "print(lr, l1, l2, bs, momentum, hidden)"
      ],
      "execution_count": 52,
      "outputs": [
        {
          "output_type": "stream",
          "text": [
            "0.001 0.001 0.001 50 0.95 50\n",
            "loss: 0.5902276039123535, accuracy: 0.9285714030265808, AUC: 0.9909628033638, f1: 0.9286384582519531\n",
            "0.001 0.001 0.001 50 0.95 75\n",
            "loss: 0.7133994102478027, accuracy: 0.9331797361373901, AUC: 0.9916050434112549, f1: 0.9315590262413025\n",
            "0.001 0.001 0.001 50 0.95 100\n",
            "0.001 0.001 0.001 50 0.98 50\n",
            "0.001 0.001 0.001 50 0.98 75\n",
            "0.001 0.001 0.001 50 0.98 100\n",
            "0.001 0.001 0.001 50 0.99 50\n",
            "0.001 0.001 0.001 50 0.99 75\n",
            "0.001 0.001 0.001 50 0.99 100\n",
            "0.001 0.001 0.001 100 0.95 50\n",
            "0.001 0.001 0.001 100 0.95 75\n",
            "0.001 0.001 0.001 100 0.95 100\n",
            "0.001 0.001 0.001 100 0.98 50\n",
            "0.001 0.001 0.001 100 0.98 75\n",
            "0.001 0.001 0.001 100 0.98 100\n",
            "0.001 0.001 0.001 100 0.99 50\n",
            "0.001 0.001 0.001 100 0.99 75\n",
            "0.001 0.001 0.001 100 0.99 100\n",
            "0.001 0.001 0.0001 50 0.95 50\n",
            "0.001 0.001 0.0001 50 0.95 75\n",
            "0.001 0.001 0.0001 50 0.95 100\n",
            "0.001 0.001 0.0001 50 0.98 50\n",
            "0.001 0.001 0.0001 50 0.98 75\n",
            "0.001 0.001 0.0001 50 0.98 100\n",
            "0.001 0.001 0.0001 50 0.99 50\n",
            "0.001 0.001 0.0001 50 0.99 75\n",
            "0.001 0.001 0.0001 50 0.99 100\n",
            "0.001 0.001 0.0001 100 0.95 50\n",
            "0.001 0.001 0.0001 100 0.95 75\n",
            "0.001 0.001 0.0001 100 0.95 100\n",
            "0.001 0.001 0.0001 100 0.98 50\n",
            "0.001 0.001 0.0001 100 0.98 75\n",
            "0.001 0.001 0.0001 100 0.98 100\n",
            "0.001 0.001 0.0001 100 0.99 50\n",
            "0.001 0.001 0.0001 100 0.99 75\n",
            "0.001 0.001 0.0001 100 0.99 100\n",
            "0.001 0.0001 0.001 50 0.95 50\n",
            "0.001 0.0001 0.001 50 0.95 75\n",
            "loss: 0.4650936424732208, accuracy: 0.9331797361373901, AUC: 0.9911758899688721, f1: 0.931614875793457\n",
            "0.001 0.0001 0.001 50 0.95 100\n",
            "0.001 0.0001 0.001 50 0.98 50\n",
            "0.001 0.0001 0.001 50 0.98 75\n",
            "loss: 0.4804001450538635, accuracy: 0.9320276379585266, AUC: 0.9912711381912231, f1: 0.9322845935821533\n",
            "0.001 0.0001 0.001 50 0.98 100\n",
            "loss: 0.4278026819229126, accuracy: 0.9331797361373901, AUC: 0.9886347055435181, f1: 0.932929277420044\n",
            "0.001 0.0001 0.001 50 0.99 50\n",
            "0.001 0.0001 0.001 50 0.99 75\n",
            "0.001 0.0001 0.001 50 0.99 100\n",
            "0.001 0.0001 0.001 100 0.95 50\n",
            "0.001 0.0001 0.001 100 0.95 75\n",
            "0.001 0.0001 0.001 100 0.95 100\n",
            "0.001 0.0001 0.001 100 0.98 50\n",
            "0.001 0.0001 0.001 100 0.98 75\n",
            "0.001 0.0001 0.001 100 0.98 100\n",
            "0.001 0.0001 0.001 100 0.99 50\n",
            "0.001 0.0001 0.001 100 0.99 75\n",
            "0.001 0.0001 0.001 100 0.99 100\n",
            "0.001 0.0001 0.0001 50 0.95 50\n",
            "0.001 0.0001 0.0001 50 0.95 75\n",
            "loss: 0.37304672598838806, accuracy: 0.9366359710693359, AUC: 0.9926092624664307, f1: 0.9357569217681885\n",
            "0.001 0.0001 0.0001 50 0.95 100\n",
            "0.001 0.0001 0.0001 50 0.98 50\n",
            "0.001 0.0001 0.0001 50 0.98 75\n",
            "0.001 0.0001 0.0001 50 0.98 100\n",
            "0.001 0.0001 0.0001 50 0.99 50\n",
            "loss: 0.3823748230934143, accuracy: 0.940092146396637, AUC: 0.987146258354187, f1: 0.9410324096679688\n",
            "0.001 0.0001 0.0001 50 0.99 75\n",
            "0.001 0.0001 0.0001 50 0.99 100\n",
            "0.001 0.0001 0.0001 100 0.95 50\n",
            "0.001 0.0001 0.0001 100 0.95 75\n",
            "0.001 0.0001 0.0001 100 0.95 100\n",
            "0.001 0.0001 0.0001 100 0.98 50\n",
            "0.001 0.0001 0.0001 100 0.98 75\n",
            "0.001 0.0001 0.0001 100 0.98 100\n",
            "0.001 0.0001 0.0001 100 0.99 50\n",
            "0.001 0.0001 0.0001 100 0.99 75\n",
            "0.001 0.0001 0.0001 100 0.99 100\n",
            "0.0003 0.001 0.001 50 0.95 50\n",
            "0.0003 0.001 0.001 50 0.95 75\n",
            "0.0003 0.001 0.001 50 0.95 100\n",
            "0.0003 0.001 0.001 50 0.98 50\n",
            "0.0003 0.001 0.001 50 0.98 75\n",
            "0.0003 0.001 0.001 50 0.98 100\n",
            "0.0003 0.001 0.001 50 0.99 50\n",
            "0.0003 0.001 0.001 50 0.99 75\n",
            "0.0003 0.001 0.001 50 0.99 100\n",
            "0.0003 0.001 0.001 100 0.95 50\n",
            "0.0003 0.001 0.001 100 0.95 75\n",
            "0.0003 0.001 0.001 100 0.95 100\n",
            "0.0003 0.001 0.001 100 0.98 50\n",
            "0.0003 0.001 0.001 100 0.98 75\n",
            "0.0003 0.001 0.001 100 0.98 100\n",
            "0.0003 0.001 0.001 100 0.99 50\n",
            "0.0003 0.001 0.001 100 0.99 75\n",
            "0.0003 0.001 0.001 100 0.99 100\n",
            "0.0003 0.001 0.0001 50 0.95 50\n",
            "0.0003 0.001 0.0001 50 0.95 75\n",
            "0.0003 0.001 0.0001 50 0.95 100\n",
            "0.0003 0.001 0.0001 50 0.98 50\n",
            "0.0003 0.001 0.0001 50 0.98 75\n",
            "0.0003 0.001 0.0001 50 0.98 100\n",
            "0.0003 0.001 0.0001 50 0.99 50\n",
            "0.0003 0.001 0.0001 50 0.99 75\n",
            "0.0003 0.001 0.0001 50 0.99 100\n",
            "0.0003 0.001 0.0001 100 0.95 50\n",
            "0.0003 0.001 0.0001 100 0.95 75\n",
            "0.0003 0.001 0.0001 100 0.95 100\n",
            "0.0003 0.001 0.0001 100 0.98 50\n",
            "0.0003 0.001 0.0001 100 0.98 75\n",
            "0.0003 0.001 0.0001 100 0.98 100\n",
            "0.0003 0.001 0.0001 100 0.99 50\n",
            "0.0003 0.001 0.0001 100 0.99 75\n",
            "0.0003 0.001 0.0001 100 0.99 100\n",
            "0.0003 0.0001 0.001 50 0.95 50\n",
            "0.0003 0.0001 0.001 50 0.95 75\n",
            "0.0003 0.0001 0.001 50 0.95 100\n",
            "0.0003 0.0001 0.001 50 0.98 50\n",
            "0.0003 0.0001 0.001 50 0.98 75\n",
            "0.0003 0.0001 0.001 50 0.98 100\n",
            "0.0003 0.0001 0.001 50 0.99 50\n",
            "0.0003 0.0001 0.001 50 0.99 75\n",
            "0.0003 0.0001 0.001 50 0.99 100\n",
            "0.0003 0.0001 0.001 100 0.95 50\n",
            "0.0003 0.0001 0.001 100 0.95 75\n",
            "0.0003 0.0001 0.001 100 0.95 100\n",
            "0.0003 0.0001 0.001 100 0.98 50\n",
            "0.0003 0.0001 0.001 100 0.98 75\n",
            "0.0003 0.0001 0.001 100 0.98 100\n",
            "0.0003 0.0001 0.001 100 0.99 50\n",
            "0.0003 0.0001 0.001 100 0.99 75\n",
            "0.0003 0.0001 0.001 100 0.99 100\n",
            "0.0003 0.0001 0.0001 50 0.95 50\n",
            "0.0003 0.0001 0.0001 50 0.95 75\n",
            "0.0003 0.0001 0.0001 50 0.95 100\n",
            "0.0003 0.0001 0.0001 50 0.98 50\n",
            "0.0003 0.0001 0.0001 50 0.98 75\n",
            "0.0003 0.0001 0.0001 50 0.98 100\n",
            "0.0003 0.0001 0.0001 50 0.99 50\n",
            "0.0003 0.0001 0.0001 50 0.99 75\n",
            "0.0003 0.0001 0.0001 50 0.99 100\n",
            "0.0003 0.0001 0.0001 100 0.95 50\n",
            "0.0003 0.0001 0.0001 100 0.95 75\n",
            "0.0003 0.0001 0.0001 100 0.95 100\n",
            "0.0003 0.0001 0.0001 100 0.98 50\n",
            "0.0003 0.0001 0.0001 100 0.98 75\n",
            "0.0003 0.0001 0.0001 100 0.98 100\n",
            "0.0003 0.0001 0.0001 100 0.99 50\n",
            "0.0003 0.0001 0.0001 100 0.99 75\n",
            "0.0003 0.0001 0.0001 100 0.99 100\n",
            "0.0003 0.0001 0.0001 100 0.99 100\n"
          ],
          "name": "stdout"
        }
      ]
    },
    {
      "cell_type": "code",
      "metadata": {
        "id": "b951g2HDo24r",
        "colab_type": "code",
        "colab": {
          "base_uri": "https://localhost:8080/",
          "height": 1000
        },
        "outputId": "1c847c79-d7de-4dbf-93a2-14c1158fe4d0"
      },
      "source": [
        "#L=1\n",
        "#model, X_train, X_test, Y_train, Y_test = create_model(SGD(0.001, momentum=0.95), l1=0.001, l2=0.01, hidden=75, loss=categorical_crossentropy, activation_func = \"softmax\",  verbose=True)\n",
        "#hist = model.fit(X_train, Y_train, epochs=500, batch_size=50, verbose=1, validation_split=0.8, callbacks=[CSVLogger('log.csv', append=True, separator=','), EarlyStopping(monitor='val_loss', min_delta=1e-3, mode='min', patience=25)], shuffle=True, use_multiprocessing=True, workers=-1)\n",
        "\n",
        "#L=0\n",
        "model, X_train, X_test, Y_train, Y_test = create_model(SGD(0.001, momentum=0.99), l1=0.0001, l2=0.0001, hidden=50, loss=categorical_crossentropy, activation_func = \"softmax\",  verbose=True)\n",
        "hist = model.fit(X_train, Y_train, epochs=500, batch_size=50, verbose=1, validation_split=0.8, callbacks=[CSVLogger('log.csv', append=True, separator=','), EarlyStopping(monitor='val_loss', min_delta=1e-3, mode='min', patience=25)], shuffle=True, use_multiprocessing=True, workers=-1)"
      ],
      "execution_count": 53,
      "outputs": [
        {
          "output_type": "stream",
          "text": [
            "(1084, 399) (1084, 4) (121, 399) (121, 4)\n",
            "Model: \"sequential\"\n",
            "_________________________________________________________________\n",
            "Layer (type)                 Output Shape              Param #   \n",
            "=================================================================\n",
            "dense (Dense)                (None, 50)                20000     \n",
            "_________________________________________________________________\n",
            "dense_1 (Dense)              (None, 4)                 204       \n",
            "=================================================================\n",
            "Total params: 20,204\n",
            "Trainable params: 20,204\n",
            "Non-trainable params: 0\n",
            "_________________________________________________________________\n",
            "None\n",
            "Epoch 1/500\n",
            "5/5 [==============================] - 0s 99ms/step - loss: 2.0966 - accuracy: 0.1250 - auc: 0.4801 - f1: 0.0727 - val_loss: 1.8442 - val_accuracy: 0.1544 - val_auc: 0.5328 - val_f1: 0.0934\n",
            "Epoch 2/500\n",
            "5/5 [==============================] - 0s 29ms/step - loss: 1.6392 - accuracy: 0.2685 - auc: 0.6098 - f1: 0.1764 - val_loss: 1.3174 - val_accuracy: 0.5438 - val_auc: 0.7550 - val_f1: 0.4671\n",
            "Epoch 3/500\n",
            "5/5 [==============================] - 0s 31ms/step - loss: 1.2139 - accuracy: 0.6065 - auc: 0.7997 - f1: 0.5589 - val_loss: 1.1015 - val_accuracy: 0.6636 - val_auc: 0.8553 - val_f1: 0.6583\n",
            "Epoch 4/500\n",
            "5/5 [==============================] - 0s 29ms/step - loss: 1.0742 - accuracy: 0.6528 - auc: 0.8798 - f1: 0.6517 - val_loss: 1.0180 - val_accuracy: 0.6624 - val_auc: 0.9096 - val_f1: 0.6602\n",
            "Epoch 5/500\n",
            "5/5 [==============================] - 0s 28ms/step - loss: 0.9928 - accuracy: 0.6574 - auc: 0.9219 - f1: 0.6454 - val_loss: 0.8735 - val_accuracy: 0.6820 - val_auc: 0.9291 - val_f1: 0.6731\n",
            "Epoch 6/500\n",
            "5/5 [==============================] - 0s 28ms/step - loss: 0.8396 - accuracy: 0.6898 - auc: 0.9371 - f1: 0.7238 - val_loss: 0.6714 - val_accuracy: 0.7892 - val_auc: 0.9495 - val_f1: 0.7826\n",
            "Epoch 7/500\n",
            "5/5 [==============================] - 0s 29ms/step - loss: 0.6442 - accuracy: 0.7824 - auc: 0.9565 - f1: 0.7997 - val_loss: 0.5384 - val_accuracy: 0.8779 - val_auc: 0.9675 - val_f1: 0.8612\n",
            "Epoch 8/500\n",
            "5/5 [==============================] - 0s 31ms/step - loss: 0.5148 - accuracy: 0.8657 - auc: 0.9729 - f1: 0.8470 - val_loss: 0.4932 - val_accuracy: 0.8767 - val_auc: 0.9748 - val_f1: 0.8697\n",
            "Epoch 9/500\n",
            "5/5 [==============================] - 0s 30ms/step - loss: 0.4697 - accuracy: 0.8843 - auc: 0.9776 - f1: 0.8804 - val_loss: 0.5002 - val_accuracy: 0.8744 - val_auc: 0.9745 - val_f1: 0.8660\n",
            "Epoch 10/500\n",
            "5/5 [==============================] - 0s 28ms/step - loss: 0.4784 - accuracy: 0.8843 - auc: 0.9757 - f1: 0.8949 - val_loss: 0.5313 - val_accuracy: 0.8618 - val_auc: 0.9700 - val_f1: 0.8604\n",
            "Epoch 11/500\n",
            "5/5 [==============================] - 0s 30ms/step - loss: 0.4841 - accuracy: 0.8889 - auc: 0.9750 - f1: 0.8912 - val_loss: 0.5618 - val_accuracy: 0.8525 - val_auc: 0.9657 - val_f1: 0.8510\n",
            "Epoch 12/500\n",
            "5/5 [==============================] - 0s 28ms/step - loss: 0.4942 - accuracy: 0.8981 - auc: 0.9717 - f1: 0.8911 - val_loss: 0.5778 - val_accuracy: 0.8468 - val_auc: 0.9634 - val_f1: 0.8482\n",
            "Epoch 13/500\n",
            "5/5 [==============================] - 0s 29ms/step - loss: 0.4973 - accuracy: 0.9028 - auc: 0.9719 - f1: 0.9043 - val_loss: 0.5744 - val_accuracy: 0.8433 - val_auc: 0.9640 - val_f1: 0.8504\n",
            "Epoch 14/500\n",
            "5/5 [==============================] - 0s 30ms/step - loss: 0.4854 - accuracy: 0.9028 - auc: 0.9747 - f1: 0.8835 - val_loss: 0.5504 - val_accuracy: 0.8514 - val_auc: 0.9673 - val_f1: 0.8575\n",
            "Epoch 15/500\n",
            "5/5 [==============================] - 0s 28ms/step - loss: 0.4606 - accuracy: 0.9074 - auc: 0.9773 - f1: 0.8920 - val_loss: 0.5012 - val_accuracy: 0.8664 - val_auc: 0.9736 - val_f1: 0.8697\n",
            "Epoch 16/500\n",
            "5/5 [==============================] - 0s 30ms/step - loss: 0.4214 - accuracy: 0.9213 - auc: 0.9823 - f1: 0.9272 - val_loss: 0.4470 - val_accuracy: 0.8848 - val_auc: 0.9810 - val_f1: 0.8851\n",
            "Epoch 17/500\n",
            "5/5 [==============================] - 0s 28ms/step - loss: 0.3825 - accuracy: 0.9213 - auc: 0.9877 - f1: 0.9271 - val_loss: 0.3983 - val_accuracy: 0.9009 - val_auc: 0.9863 - val_f1: 0.9017\n",
            "Epoch 18/500\n",
            "5/5 [==============================] - 0s 29ms/step - loss: 0.3503 - accuracy: 0.9398 - auc: 0.9906 - f1: 0.9374 - val_loss: 0.3615 - val_accuracy: 0.9136 - val_auc: 0.9897 - val_f1: 0.9127\n",
            "Epoch 19/500\n",
            "5/5 [==============================] - 0s 28ms/step - loss: 0.3268 - accuracy: 0.9444 - auc: 0.9924 - f1: 0.9498 - val_loss: 0.3383 - val_accuracy: 0.9217 - val_auc: 0.9910 - val_f1: 0.9243\n",
            "Epoch 20/500\n",
            "5/5 [==============================] - 0s 33ms/step - loss: 0.3109 - accuracy: 0.9444 - auc: 0.9918 - f1: 0.9500 - val_loss: 0.3288 - val_accuracy: 0.9297 - val_auc: 0.9916 - val_f1: 0.9315\n",
            "Epoch 21/500\n",
            "5/5 [==============================] - 0s 31ms/step - loss: 0.3041 - accuracy: 0.9398 - auc: 0.9921 - f1: 0.9309 - val_loss: 0.3312 - val_accuracy: 0.9332 - val_auc: 0.9912 - val_f1: 0.9338\n",
            "Epoch 22/500\n",
            "5/5 [==============================] - 0s 32ms/step - loss: 0.3049 - accuracy: 0.9537 - auc: 0.9921 - f1: 0.9512 - val_loss: 0.3407 - val_accuracy: 0.9286 - val_auc: 0.9903 - val_f1: 0.9294\n",
            "Epoch 23/500\n",
            "5/5 [==============================] - 0s 29ms/step - loss: 0.3077 - accuracy: 0.9491 - auc: 0.9921 - f1: 0.9559 - val_loss: 0.3513 - val_accuracy: 0.9217 - val_auc: 0.9898 - val_f1: 0.9217\n",
            "Epoch 24/500\n",
            "5/5 [==============================] - 0s 28ms/step - loss: 0.3094 - accuracy: 0.9398 - auc: 0.9921 - f1: 0.9393 - val_loss: 0.3570 - val_accuracy: 0.9159 - val_auc: 0.9895 - val_f1: 0.9174\n",
            "Epoch 25/500\n",
            "5/5 [==============================] - 0s 28ms/step - loss: 0.3016 - accuracy: 0.9306 - auc: 0.9926 - f1: 0.9323 - val_loss: 0.3562 - val_accuracy: 0.9182 - val_auc: 0.9896 - val_f1: 0.9201\n",
            "Epoch 26/500\n",
            "5/5 [==============================] - 0s 30ms/step - loss: 0.2826 - accuracy: 0.9352 - auc: 0.9935 - f1: 0.9308 - val_loss: 0.3523 - val_accuracy: 0.9228 - val_auc: 0.9898 - val_f1: 0.9251\n",
            "Epoch 27/500\n",
            "5/5 [==============================] - 0s 28ms/step - loss: 0.2639 - accuracy: 0.9583 - auc: 0.9962 - f1: 0.9551 - val_loss: 0.3499 - val_accuracy: 0.9263 - val_auc: 0.9908 - val_f1: 0.9268\n",
            "Epoch 28/500\n",
            "5/5 [==============================] - 0s 30ms/step - loss: 0.2453 - accuracy: 0.9676 - auc: 0.9972 - f1: 0.9718 - val_loss: 0.3536 - val_accuracy: 0.9194 - val_auc: 0.9906 - val_f1: 0.9223\n",
            "Epoch 29/500\n",
            "5/5 [==============================] - 0s 31ms/step - loss: 0.2366 - accuracy: 0.9583 - auc: 0.9979 - f1: 0.9377 - val_loss: 0.3645 - val_accuracy: 0.9205 - val_auc: 0.9900 - val_f1: 0.9229\n",
            "Epoch 30/500\n",
            "5/5 [==============================] - 0s 27ms/step - loss: 0.2310 - accuracy: 0.9583 - auc: 0.9981 - f1: 0.9594 - val_loss: 0.3792 - val_accuracy: 0.9136 - val_auc: 0.9886 - val_f1: 0.9146\n",
            "Epoch 31/500\n",
            "5/5 [==============================] - 0s 30ms/step - loss: 0.2322 - accuracy: 0.9630 - auc: 0.9981 - f1: 0.9659 - val_loss: 0.3940 - val_accuracy: 0.9044 - val_auc: 0.9872 - val_f1: 0.9082\n",
            "Epoch 32/500\n",
            "5/5 [==============================] - 0s 29ms/step - loss: 0.2336 - accuracy: 0.9583 - auc: 0.9980 - f1: 0.9450 - val_loss: 0.4055 - val_accuracy: 0.9044 - val_auc: 0.9865 - val_f1: 0.9067\n",
            "Epoch 33/500\n",
            "5/5 [==============================] - 0s 29ms/step - loss: 0.2338 - accuracy: 0.9583 - auc: 0.9980 - f1: 0.9619 - val_loss: 0.4093 - val_accuracy: 0.9044 - val_auc: 0.9864 - val_f1: 0.9046\n",
            "Epoch 34/500\n",
            "5/5 [==============================] - 0s 28ms/step - loss: 0.2309 - accuracy: 0.9583 - auc: 0.9981 - f1: 0.9619 - val_loss: 0.4088 - val_accuracy: 0.9044 - val_auc: 0.9866 - val_f1: 0.9046\n",
            "Epoch 35/500\n",
            "5/5 [==============================] - 0s 30ms/step - loss: 0.2257 - accuracy: 0.9630 - auc: 0.9983 - f1: 0.9680 - val_loss: 0.4026 - val_accuracy: 0.9078 - val_auc: 0.9872 - val_f1: 0.9097\n",
            "Epoch 36/500\n",
            "5/5 [==============================] - 0s 27ms/step - loss: 0.2182 - accuracy: 0.9722 - auc: 0.9986 - f1: 0.9760 - val_loss: 0.3909 - val_accuracy: 0.9159 - val_auc: 0.9880 - val_f1: 0.9175\n",
            "Epoch 37/500\n",
            "5/5 [==============================] - 0s 27ms/step - loss: 0.2083 - accuracy: 0.9722 - auc: 0.9989 - f1: 0.9760 - val_loss: 0.3772 - val_accuracy: 0.9205 - val_auc: 0.9892 - val_f1: 0.9219\n",
            "Epoch 38/500\n",
            "5/5 [==============================] - 0s 29ms/step - loss: 0.1962 - accuracy: 0.9861 - auc: 0.9993 - f1: 0.9839 - val_loss: 0.3640 - val_accuracy: 0.9228 - val_auc: 0.9906 - val_f1: 0.9260\n",
            "Epoch 39/500\n",
            "5/5 [==============================] - 0s 29ms/step - loss: 0.1866 - accuracy: 0.9861 - auc: 0.9997 - f1: 0.9860 - val_loss: 0.3525 - val_accuracy: 0.9297 - val_auc: 0.9914 - val_f1: 0.9322\n",
            "Epoch 40/500\n",
            "5/5 [==============================] - 0s 28ms/step - loss: 0.1799 - accuracy: 0.9861 - auc: 0.9997 - f1: 0.9880 - val_loss: 0.3431 - val_accuracy: 0.9343 - val_auc: 0.9920 - val_f1: 0.9376\n",
            "Epoch 41/500\n",
            "5/5 [==============================] - 0s 33ms/step - loss: 0.1748 - accuracy: 0.9907 - auc: 0.9998 - f1: 0.9920 - val_loss: 0.3365 - val_accuracy: 0.9320 - val_auc: 0.9920 - val_f1: 0.9365\n",
            "Epoch 42/500\n",
            "5/5 [==============================] - 0s 28ms/step - loss: 0.1719 - accuracy: 0.9907 - auc: 0.9999 - f1: 0.9920 - val_loss: 0.3327 - val_accuracy: 0.9320 - val_auc: 0.9927 - val_f1: 0.9350\n",
            "Epoch 43/500\n",
            "5/5 [==============================] - 0s 28ms/step - loss: 0.1702 - accuracy: 0.9907 - auc: 0.9999 - f1: 0.9920 - val_loss: 0.3311 - val_accuracy: 0.9332 - val_auc: 0.9929 - val_f1: 0.9361\n",
            "Epoch 44/500\n",
            "5/5 [==============================] - 0s 30ms/step - loss: 0.1706 - accuracy: 0.9954 - auc: 0.9999 - f1: 0.9960 - val_loss: 0.3312 - val_accuracy: 0.9320 - val_auc: 0.9917 - val_f1: 0.9350\n",
            "Epoch 45/500\n",
            "5/5 [==============================] - 0s 30ms/step - loss: 0.1706 - accuracy: 0.9954 - auc: 0.9999 - f1: 0.9875 - val_loss: 0.3321 - val_accuracy: 0.9343 - val_auc: 0.9918 - val_f1: 0.9372\n"
          ],
          "name": "stdout"
        }
      ]
    },
    {
      "cell_type": "code",
      "metadata": {
        "id": "ANz0bgi2Hfpi",
        "colab_type": "code",
        "colab": {
          "base_uri": "https://localhost:8080/",
          "height": 283
        },
        "outputId": "8f43aed7-b133-46f8-c8c9-7fffeb1210a3"
      },
      "source": [
        "pd.read_csv(\"log.csv\", sep=\",\")[['loss','val_loss']].plot()"
      ],
      "execution_count": 54,
      "outputs": [
        {
          "output_type": "execute_result",
          "data": {
            "text/plain": [
              "<matplotlib.axes._subplots.AxesSubplot at 0x7f35a097a5f8>"
            ]
          },
          "metadata": {
            "tags": []
          },
          "execution_count": 54
        },
        {
          "output_type": "display_data",
          "data": {
            "image/png": "[encoded data removed]",
            "text/plain": [
              "<Figure size 432x288 with 1 Axes>"
            ]
          },
          "metadata": {
            "tags": []
          }
        }
      ]
    },
    {
      "cell_type": "code",
      "metadata": {
        "id": "ie8qRsmeHfpm",
        "colab_type": "code",
        "colab": {
          "base_uri": "https://localhost:8080/",
          "height": 102
        },
        "outputId": "e87d38fa-b6dd-4de0-a12f-7997741364ed"
      },
      "source": [
        "model.evaluate(X_test, Y_test)"
      ],
      "execution_count": 55,
      "outputs": [
        {
          "output_type": "stream",
          "text": [
            "4/4 [==============================] - 0s 4ms/step - loss: 0.4585 - accuracy: 0.8843 - auc: 0.9851 - f1: 0.8906\n"
          ],
          "name": "stdout"
        },
        {
          "output_type": "execute_result",
          "data": {
            "text/plain": [
              "[0.4585283398628235,\n",
              " 0.8842975497245789,\n",
              " 0.9850647449493408,\n",
              " 0.8906249403953552]"
            ]
          },
          "metadata": {
            "tags": []
          },
          "execution_count": 55
        }
      ]
    },
    {
      "cell_type": "code",
      "metadata": {
        "id": "Qcwyj17QHfpp",
        "colab_type": "code",
        "colab": {}
      },
      "source": [
        "model.save(f\"model_{label}.h5\")\n",
        "#model = load_model(f\"model_{label}.h5\")"
      ],
      "execution_count": 0,
      "outputs": []
    },
    {
      "cell_type": "code",
      "metadata": {
        "id": "eFyBghA0Hfpt",
        "colab_type": "code",
        "colab": {
          "base_uri": "https://localhost:8080/",
          "height": 34
        },
        "outputId": "e1cf42f0-f1a8-4332-f3e6-bef1b78c30fb"
      },
      "source": [
        "gc.collect()"
      ],
      "execution_count": 44,
      "outputs": [
        {
          "output_type": "execute_result",
          "data": {
            "text/plain": [
              "53682"
            ]
          },
          "metadata": {
            "tags": []
          },
          "execution_count": 44
        }
      ]
    },
    {
      "cell_type": "markdown",
      "metadata": {
        "id": "xIWNWHbwHfpz",
        "colab_type": "text"
      },
      "source": [
        "# evaluate on non used on topsbm training\n"
      ]
    },
    {
      "cell_type": "code",
      "metadata": {
        "id": "oydLIuRbG8kJ",
        "colab_type": "code",
        "colab": {
          "base_uri": "https://localhost:8080/",
          "height": 34
        },
        "outputId": "4c4b0774-de4e-41a7-bd09-d877191a8d52"
      },
      "source": [
        "classes = df_labels[label].unique()\n",
        "np.savetxt(\"classes.txt\", classes, fmt=\"%s\")\n",
        "np.savetxt(\"X_test.txt\", X_test)\n",
        "np.savetxt(\"Y_test.txt\", Y_test)\n",
        "print(X_test.shape, Y_test.shape)"
      ],
      "execution_count": 15,
      "outputs": [
        {
          "output_type": "stream",
          "text": [
            "(121, 147) (121, 4)\n"
          ],
          "name": "stdout"
        }
      ]
    },
    {
      "cell_type": "code",
      "metadata": {
        "id": "5JLmv_InHfp_",
        "colab_type": "code",
        "colab": {
          "base_uri": "https://localhost:8080/",
          "height": 102
        },
        "outputId": "631e3590-8a89-4dbc-e7bb-049c57a65ffd"
      },
      "source": [
        "model.evaluate(X_test, Y_test, verbose=2, workers=-1, use_multiprocessing=True)"
      ],
      "execution_count": 56,
      "outputs": [
        {
          "output_type": "stream",
          "text": [
            "4/4 - 0s - loss: 0.4585 - accuracy: 0.8843 - auc: 0.9851 - f1: 0.8906\n"
          ],
          "name": "stdout"
        },
        {
          "output_type": "execute_result",
          "data": {
            "text/plain": [
              "[0.4585283398628235,\n",
              " 0.8842975497245789,\n",
              " 0.9850647449493408,\n",
              " 0.8906249403953552]"
            ]
          },
          "metadata": {
            "tags": []
          },
          "execution_count": 56
        }
      ]
    },
    {
      "cell_type": "code",
      "metadata": {
        "id": "XuS52Or_j_im",
        "colab_type": "code",
        "colab": {}
      },
      "source": [
        "from sklearn.metrics import confusion_matrix, roc_curve, roc_auc_score\n",
        "import seaborn as sns"
      ],
      "execution_count": 0,
      "outputs": []
    },
    {
      "cell_type": "code",
      "metadata": {
        "id": "mdOMEPwJkKT0",
        "colab_type": "code",
        "colab": {}
      },
      "source": [
        "y_pred_p = model.predict(X_test)\n",
        "y_true = np.argmax(Y_test, axis=1)\n",
        "y_pred = np.argmax(y_pred_p, axis=1)\n",
        "results = confusion_matrix(y_true, y_pred, normalize=\"true\")"
      ],
      "execution_count": 0,
      "outputs": []
    },
    {
      "cell_type": "code",
      "metadata": {
        "id": "wMC0y97WHfqN",
        "colab_type": "code",
        "colab": {
          "base_uri": "https://localhost:8080/",
          "height": 734
        },
        "outputId": "283caae3-7ab2-4375-aef8-8969041dad7d"
      },
      "source": [
        "cm = sns.clustermap(results, \n",
        "                    vmax=1,  \n",
        "                    row_cluster=False, \n",
        "                    col_cluster=False, \n",
        "                    xticklabels=classes, \n",
        "                    yticklabels=classes, \n",
        "                    annot=False,\n",
        "                    annot_kws={\"fontsize\":20})\n",
        "ax = cm.ax_heatmap\n",
        "fig = ax.get_figure()\n",
        "ax.set_ylabel(\"real\", fontsize=35, rotation=90)\n",
        "ax.set_yticklabels(labels=classes, rotation=0)\n",
        "ax.yaxis.tick_left()\n",
        "ax.yaxis.set_label_position(\"left\")\n",
        "\n",
        "ax.set_xticklabels(labels=classes, rotation=90)\n",
        "ax.set_xlabel(\"predicted\",fontsize=35)\n",
        "ax.tick_params(labelsize=35)\n",
        "\n",
        "cax = cm.ax_cbar\n",
        "cax.tick_params(labelsize=30)\n",
        "cax.set_title(\"P()\", fontsize=30)\n",
        "plt.tight_layout()\n",
        "cm.savefig(f\"predict_{label}.pdf\")\n",
        "\n",
        "plt.show()"
      ],
      "execution_count": 59,
      "outputs": [
        {
          "output_type": "display_data",
          "data": {
            "image/png": "[encoded data removed]",
            "text/plain": [
              "<Figure size 720x720 with 4 Axes>"
            ]
          },
          "metadata": {
            "tags": []
          }
        }
      ]
    },
    {
      "cell_type": "code",
      "metadata": {
        "id": "ecz4ARzeDn9F",
        "colab_type": "code",
        "colab": {}
      },
      "source": [
        ""
      ],
      "execution_count": 0,
      "outputs": []
    }
  ]
}
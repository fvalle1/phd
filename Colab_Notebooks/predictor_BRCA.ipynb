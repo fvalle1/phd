{
  "nbformat": 4,
  "nbformat_minor": 0,
  "metadata": {
    "kernelspec": {
      "name": "python3",
      "display_name": "Python 3"
    },
    "language_info": {
      "codemirror_mode": {
        "name": "ipython",
        "version": 3
      },
      "file_extension": ".py",
      "mimetype": "text/x-python",
      "name": "python",
      "nbconvert_exporter": "python",
      "pygments_lexer": "ipython3",
      "version": "3.6.10"
    },
    "colab": {
      "name": "predictor_BRCA.ipynb",
      "provenance": [],
      "collapsed_sections": [],
      "toc_visible": true
    },
    "accelerator": "GPU"
  },
  "cells": [
    {
      "cell_type": "code",
      "metadata": {
        "id": "OM7BoWVULIgX",
        "colab_type": "code",
        "outputId": "375172ca-0130-468f-eaa2-d9cc95e1a530",
        "colab": {
          "base_uri": "https://localhost:8080/",
          "height": 54
        }
      },
      "source": [
        "from google.colab import drive\n",
        "drive.mount('/content/drive')"
      ],
      "execution_count": 1,
      "outputs": [
        {
          "output_type": "stream",
          "text": [
            "Drive already mounted at /content/drive; to attempt to forcibly remount, call drive.mount(\"/content/drive\", force_remount=True).\n"
          ],
          "name": "stdout"
        }
      ]
    },
    {
      "cell_type": "code",
      "metadata": {
        "id": "cZ0Axhw2Hfop",
        "colab_type": "code",
        "outputId": "7ecc4237-abd4-482f-9d26-91d8bf19f18f",
        "colab": {
          "base_uri": "https://localhost:8080/",
          "height": 71
        }
      },
      "source": [
        "import pandas as pd\n",
        "import os,sys, gc\n",
        "import matplotlib.pyplot as plt\n",
        "from scipy.stats import entropy\n",
        "sys.path.append(\"/content/drive/My Drive/phd\")\n",
        "sys.path.append(\"/content/drive/My Drive/phd/hsbm-occam\")\n",
        "from hsbmpy import get_max_available_L\n",
        "\n",
        "os.environ[\"TF_CUDNN_USE_AUTOTUNE\"]=\"0\""
      ],
      "execution_count": 2,
      "outputs": [
        {
          "output_type": "stream",
          "text": [
            "/usr/local/lib/python3.6/dist-packages/statsmodels/tools/_testing.py:19: FutureWarning: pandas.util.testing is deprecated. Use the functions in the public API at pandas.testing instead.\n",
            "  import pandas.util.testing as tm\n"
          ],
          "name": "stderr"
        }
      ]
    },
    {
      "cell_type": "code",
      "metadata": {
        "id": "Yhh35xNYHfo1",
        "colab_type": "code",
        "colab": {}
      },
      "source": [
        "algorithm = \"topsbm\"\n",
        "directory='/content/drive/My Drive/phd/datasets/cancers/breast'\n",
        "L = 1\n",
        "os.chdir(directory)"
      ],
      "execution_count": 0,
      "outputs": []
    },
    {
      "cell_type": "code",
      "metadata": {
        "id": "XXZfXhOYHfo5",
        "colab_type": "code",
        "outputId": "6b6d3841-2794-48eb-f7d5-c875b87c7c37",
        "colab": {
          "base_uri": "https://localhost:8080/",
          "height": 357
        }
      },
      "source": [
        "label = 'Subtype_Selected_Lum'\n",
        "\n",
        "df_topics = pd.read_csv(\"topsbm_all/%s_level_%d_topic-dist.csv\"%(algorithm,L)).set_index('doc').drop('i_doc', axis=1)\n",
        "df_words = pd.read_csv(\"topsbm_all/%s_level_%d_word-dist.csv\"%(algorithm,L), index_col=0)\n",
        "df_words.index=[g[:15] for g in df_words.index]\n",
        "df = pd.read_csv(\"mainTable.csv\", index_col=0).reindex(index=df_words.index)\n",
        "df = df.divide(df.sum(0),1).transpose().fillna(0)\n",
        "df_files=pd.read_csv(\"files.dat\", index_col=0)\n",
        "df_topics.insert(0,'tissue', df_files.reindex(index=df_topics.index)[label])\n",
        "df_topic_tissue = df_topics.groupby('tissue').mean()\n",
        "df_files.head()"
      ],
      "execution_count": 4,
      "outputs": [
        {
          "output_type": "execute_result",
          "data": {
            "text/html": [
              "<div>\n",
              "<style scoped>\n",
              "    .dataframe tbody tr th:only-of-type {\n",
              "        vertical-align: middle;\n",
              "    }\n",
              "\n",
              "    .dataframe tbody tr th {\n",
              "        vertical-align: top;\n",
              "    }\n",
              "\n",
              "    .dataframe thead th {\n",
              "        text-align: right;\n",
              "    }\n",
              "</style>\n",
              "<table border=\"1\" class=\"dataframe\">\n",
              "  <thead>\n",
              "    <tr style=\"text-align: right;\">\n",
              "      <th></th>\n",
              "      <th>cases.0.submitter_id</th>\n",
              "      <th>cases.0.diagnoses.0.primary_diagnosis</th>\n",
              "      <th>cases.0.diagnoses.0.morphology</th>\n",
              "      <th>cases.0.diagnoses.0.tissue_or_organ_of_origin</th>\n",
              "      <th>cases.0.diagnoses.0.tumor_grade</th>\n",
              "      <th>cases.0.diagnoses.0.tumor_stage</th>\n",
              "      <th>cases.0.project.disease_type</th>\n",
              "      <th>cases.0.project.primary_site</th>\n",
              "      <th>cases.0.samples.0.longest_dimension</th>\n",
              "      <th>Tumor.Type</th>\n",
              "      <th>Included_in_previous_marker_papers</th>\n",
              "      <th>vital_status</th>\n",
              "      <th>days_to_birth</th>\n",
              "      <th>days_to_death</th>\n",
              "      <th>days_to_last_followup</th>\n",
              "      <th>age_at_initial_pathologic_diagnosis</th>\n",
              "      <th>pathologic_stage</th>\n",
              "      <th>Tumor_Grade</th>\n",
              "      <th>BRCA_Pathology</th>\n",
              "      <th>BRCA_Subtype_PAM50</th>\n",
              "      <th>MSI_status</th>\n",
              "      <th>HPV_Status</th>\n",
              "      <th>tobacco_smoking_history</th>\n",
              "      <th>CNV Clusters</th>\n",
              "      <th>Mutation Clusters</th>\n",
              "      <th>DNA.Methylation Clusters</th>\n",
              "      <th>mRNA Clusters</th>\n",
              "      <th>miRNA Clusters</th>\n",
              "      <th>lncRNA Clusters</th>\n",
              "      <th>Protein Clusters</th>\n",
              "      <th>PARADIGM Clusters</th>\n",
              "      <th>Pan-Gyn Clusters</th>\n",
              "      <th>birth_year</th>\n",
              "      <th>death_year</th>\n",
              "      <th>age</th>\n",
              "      <th>age_binned</th>\n",
              "      <th>cancer.type</th>\n",
              "      <th>Subtype_mRNA</th>\n",
              "      <th>Subtype_DNAmeth</th>\n",
              "      <th>Subtype_protein</th>\n",
              "      <th>Subtype_miRNA</th>\n",
              "      <th>Subtype_CNA</th>\n",
              "      <th>Subtype_Integrative</th>\n",
              "      <th>Subtype_other</th>\n",
              "      <th>Subtype_Selected</th>\n",
              "      <th>Subtype_Selected_Lum</th>\n",
              "    </tr>\n",
              "    <tr>\n",
              "      <th>file_name</th>\n",
              "      <th></th>\n",
              "      <th></th>\n",
              "      <th></th>\n",
              "      <th></th>\n",
              "      <th></th>\n",
              "      <th></th>\n",
              "      <th></th>\n",
              "      <th></th>\n",
              "      <th></th>\n",
              "      <th></th>\n",
              "      <th></th>\n",
              "      <th></th>\n",
              "      <th></th>\n",
              "      <th></th>\n",
              "      <th></th>\n",
              "      <th></th>\n",
              "      <th></th>\n",
              "      <th></th>\n",
              "      <th></th>\n",
              "      <th></th>\n",
              "      <th></th>\n",
              "      <th></th>\n",
              "      <th></th>\n",
              "      <th></th>\n",
              "      <th></th>\n",
              "      <th></th>\n",
              "      <th></th>\n",
              "      <th></th>\n",
              "      <th></th>\n",
              "      <th></th>\n",
              "      <th></th>\n",
              "      <th></th>\n",
              "      <th></th>\n",
              "      <th></th>\n",
              "      <th></th>\n",
              "      <th></th>\n",
              "      <th></th>\n",
              "      <th></th>\n",
              "      <th></th>\n",
              "      <th></th>\n",
              "      <th></th>\n",
              "      <th></th>\n",
              "      <th></th>\n",
              "      <th></th>\n",
              "      <th></th>\n",
              "      <th></th>\n",
              "    </tr>\n",
              "  </thead>\n",
              "  <tbody>\n",
              "    <tr>\n",
              "      <th>87fcecde-b317-4518-bea1-cc8d14a18107.FPKM.txt.gz</th>\n",
              "      <td>TCGA-BH-A0W3</td>\n",
              "      <td>Infiltrating duct carcinoma, NOS</td>\n",
              "      <td>8500/3</td>\n",
              "      <td>Breast, NOS</td>\n",
              "      <td>not reported</td>\n",
              "      <td>stage iia</td>\n",
              "      <td>Breast Invasive Carcinoma</td>\n",
              "      <td>Breast</td>\n",
              "      <td>unknown</td>\n",
              "      <td>BRCA</td>\n",
              "      <td>YES</td>\n",
              "      <td>Alive</td>\n",
              "      <td>-21369.0</td>\n",
              "      <td>unknown</td>\n",
              "      <td>728.0</td>\n",
              "      <td>58.0</td>\n",
              "      <td>Stage_II</td>\n",
              "      <td>unknown</td>\n",
              "      <td>IDC</td>\n",
              "      <td>LumB</td>\n",
              "      <td>unknown</td>\n",
              "      <td>unknown</td>\n",
              "      <td>unknown</td>\n",
              "      <td>C3</td>\n",
              "      <td>C4</td>\n",
              "      <td>C1</td>\n",
              "      <td>C1</td>\n",
              "      <td>C3</td>\n",
              "      <td>unknown</td>\n",
              "      <td>unknown</td>\n",
              "      <td>C5</td>\n",
              "      <td>unknown</td>\n",
              "      <td>1961-11-05 12:43:40.592206</td>\n",
              "      <td>unknown</td>\n",
              "      <td>unknown</td>\n",
              "      <td>unknown</td>\n",
              "      <td>BRCA</td>\n",
              "      <td>LumB</td>\n",
              "      <td>unknown</td>\n",
              "      <td>unknown</td>\n",
              "      <td>unknown</td>\n",
              "      <td>unknown</td>\n",
              "      <td>unknown</td>\n",
              "      <td>unknown</td>\n",
              "      <td>BRCA.LumB</td>\n",
              "      <td>BRCA.Lum</td>\n",
              "    </tr>\n",
              "    <tr>\n",
              "      <th>bbf9a30d-3067-491b-9aea-0cb9bed91969.FPKM.txt.gz</th>\n",
              "      <td>TCGA-A8-A07F</td>\n",
              "      <td>Infiltrating duct carcinoma, NOS</td>\n",
              "      <td>8500/3</td>\n",
              "      <td>Breast, NOS</td>\n",
              "      <td>not reported</td>\n",
              "      <td>stage iib</td>\n",
              "      <td>Breast Invasive Carcinoma</td>\n",
              "      <td>Breast</td>\n",
              "      <td>unknown</td>\n",
              "      <td>BRCA</td>\n",
              "      <td>YES</td>\n",
              "      <td>Alive</td>\n",
              "      <td>-23742.0</td>\n",
              "      <td>unknown</td>\n",
              "      <td>577.0</td>\n",
              "      <td>65.0</td>\n",
              "      <td>Stage_II</td>\n",
              "      <td>unknown</td>\n",
              "      <td>Mixed</td>\n",
              "      <td>LumA</td>\n",
              "      <td>unknown</td>\n",
              "      <td>unknown</td>\n",
              "      <td>unknown</td>\n",
              "      <td>C5</td>\n",
              "      <td>C1</td>\n",
              "      <td>C1</td>\n",
              "      <td>C1</td>\n",
              "      <td>C3</td>\n",
              "      <td>C3</td>\n",
              "      <td>C2</td>\n",
              "      <td>C5</td>\n",
              "      <td>C1</td>\n",
              "      <td>1955-05-08 12:43:40.590999</td>\n",
              "      <td>unknown</td>\n",
              "      <td>unknown</td>\n",
              "      <td>unknown</td>\n",
              "      <td>BRCA</td>\n",
              "      <td>LumA</td>\n",
              "      <td>unknown</td>\n",
              "      <td>unknown</td>\n",
              "      <td>unknown</td>\n",
              "      <td>unknown</td>\n",
              "      <td>unknown</td>\n",
              "      <td>unknown</td>\n",
              "      <td>BRCA.LumA</td>\n",
              "      <td>BRCA.Lum</td>\n",
              "    </tr>\n",
              "    <tr>\n",
              "      <th>c909a75f-23e8-4c96-82f2-72e46fdb8155.FPKM.txt.gz</th>\n",
              "      <td>TCGA-GM-A3XL</td>\n",
              "      <td>Infiltrating duct carcinoma, NOS</td>\n",
              "      <td>8500/3</td>\n",
              "      <td>Breast, NOS</td>\n",
              "      <td>not reported</td>\n",
              "      <td>stage iia</td>\n",
              "      <td>Breast Invasive Carcinoma</td>\n",
              "      <td>Breast</td>\n",
              "      <td>unknown</td>\n",
              "      <td>BRCA</td>\n",
              "      <td>NO</td>\n",
              "      <td>Alive</td>\n",
              "      <td>-18171.0</td>\n",
              "      <td>unknown</td>\n",
              "      <td>2108.0</td>\n",
              "      <td>49.0</td>\n",
              "      <td>Stage_II</td>\n",
              "      <td>unknown</td>\n",
              "      <td>IDC</td>\n",
              "      <td>Basal</td>\n",
              "      <td>unknown</td>\n",
              "      <td>unknown</td>\n",
              "      <td>unknown</td>\n",
              "      <td>C4</td>\n",
              "      <td>C1</td>\n",
              "      <td>C4</td>\n",
              "      <td>C4</td>\n",
              "      <td>C7</td>\n",
              "      <td>unknown</td>\n",
              "      <td>C5</td>\n",
              "      <td>C4</td>\n",
              "      <td>C5</td>\n",
              "      <td>1970-08-08 12:43:40.593281</td>\n",
              "      <td>unknown</td>\n",
              "      <td>unknown</td>\n",
              "      <td>unknown</td>\n",
              "      <td>BRCA</td>\n",
              "      <td>Basal</td>\n",
              "      <td>unknown</td>\n",
              "      <td>unknown</td>\n",
              "      <td>unknown</td>\n",
              "      <td>unknown</td>\n",
              "      <td>unknown</td>\n",
              "      <td>unknown</td>\n",
              "      <td>BRCA.Basal</td>\n",
              "      <td>BRCA.Basal</td>\n",
              "    </tr>\n",
              "    <tr>\n",
              "      <th>1c89ff2f-6e0a-4244-952b-1391dba1b815.FPKM.txt.gz</th>\n",
              "      <td>TCGA-LL-A441</td>\n",
              "      <td>Infiltrating duct carcinoma, NOS</td>\n",
              "      <td>8500/3</td>\n",
              "      <td>Breast, NOS</td>\n",
              "      <td>not reported</td>\n",
              "      <td>stage ia</td>\n",
              "      <td>Breast Invasive Carcinoma</td>\n",
              "      <td>Breast</td>\n",
              "      <td>unknown</td>\n",
              "      <td>BRCA</td>\n",
              "      <td>NO</td>\n",
              "      <td>Alive</td>\n",
              "      <td>-22772.0</td>\n",
              "      <td>unknown</td>\n",
              "      <td>996.0</td>\n",
              "      <td>62.0</td>\n",
              "      <td>Stage_I</td>\n",
              "      <td>unknown</td>\n",
              "      <td>IDC</td>\n",
              "      <td>Normal</td>\n",
              "      <td>unknown</td>\n",
              "      <td>unknown</td>\n",
              "      <td>unknown</td>\n",
              "      <td>C4</td>\n",
              "      <td>C4</td>\n",
              "      <td>C4</td>\n",
              "      <td>C4</td>\n",
              "      <td>C7</td>\n",
              "      <td>unknown</td>\n",
              "      <td>C5</td>\n",
              "      <td>C4</td>\n",
              "      <td>C3</td>\n",
              "      <td>1958-01-02 12:43:40.593313</td>\n",
              "      <td>unknown</td>\n",
              "      <td>unknown</td>\n",
              "      <td>unknown</td>\n",
              "      <td>BRCA</td>\n",
              "      <td>Normal</td>\n",
              "      <td>unknown</td>\n",
              "      <td>unknown</td>\n",
              "      <td>unknown</td>\n",
              "      <td>unknown</td>\n",
              "      <td>unknown</td>\n",
              "      <td>unknown</td>\n",
              "      <td>BRCA.Normal</td>\n",
              "      <td>BRCA.Normal</td>\n",
              "    </tr>\n",
              "    <tr>\n",
              "      <th>2a6ae2e8-733f-4349-8eec-d25e2b4abf86.FPKM.txt.gz</th>\n",
              "      <td>TCGA-BH-A0HP</td>\n",
              "      <td>Lobular carcinoma, NOS</td>\n",
              "      <td>8520/3</td>\n",
              "      <td>Breast, NOS</td>\n",
              "      <td>not reported</td>\n",
              "      <td>stage iiia</td>\n",
              "      <td>Breast Invasive Carcinoma</td>\n",
              "      <td>Breast</td>\n",
              "      <td>unknown</td>\n",
              "      <td>BRCA</td>\n",
              "      <td>YES</td>\n",
              "      <td>Alive</td>\n",
              "      <td>-23883.0</td>\n",
              "      <td>unknown</td>\n",
              "      <td>414.0</td>\n",
              "      <td>65.0</td>\n",
              "      <td>Stage_III</td>\n",
              "      <td>unknown</td>\n",
              "      <td>ILC</td>\n",
              "      <td>LumA</td>\n",
              "      <td>unknown</td>\n",
              "      <td>unknown</td>\n",
              "      <td>unknown</td>\n",
              "      <td>C1</td>\n",
              "      <td>C9</td>\n",
              "      <td>C1</td>\n",
              "      <td>C1</td>\n",
              "      <td>C3</td>\n",
              "      <td>C2</td>\n",
              "      <td>C1</td>\n",
              "      <td>C6</td>\n",
              "      <td>C1</td>\n",
              "      <td>1954-12-18 12:43:40.592189</td>\n",
              "      <td>unknown</td>\n",
              "      <td>unknown</td>\n",
              "      <td>unknown</td>\n",
              "      <td>BRCA</td>\n",
              "      <td>LumA</td>\n",
              "      <td>unknown</td>\n",
              "      <td>unknown</td>\n",
              "      <td>unknown</td>\n",
              "      <td>unknown</td>\n",
              "      <td>unknown</td>\n",
              "      <td>unknown</td>\n",
              "      <td>BRCA.LumA</td>\n",
              "      <td>BRCA.Lum</td>\n",
              "    </tr>\n",
              "  </tbody>\n",
              "</table>\n",
              "</div>"
            ],
            "text/plain": [
              "                                                 cases.0.submitter_id  ... Subtype_Selected_Lum\n",
              "file_name                                                              ...                     \n",
              "87fcecde-b317-4518-bea1-cc8d14a18107.FPKM.txt.gz         TCGA-BH-A0W3  ...             BRCA.Lum\n",
              "bbf9a30d-3067-491b-9aea-0cb9bed91969.FPKM.txt.gz         TCGA-A8-A07F  ...             BRCA.Lum\n",
              "c909a75f-23e8-4c96-82f2-72e46fdb8155.FPKM.txt.gz         TCGA-GM-A3XL  ...           BRCA.Basal\n",
              "1c89ff2f-6e0a-4244-952b-1391dba1b815.FPKM.txt.gz         TCGA-LL-A441  ...          BRCA.Normal\n",
              "2a6ae2e8-733f-4349-8eec-d25e2b4abf86.FPKM.txt.gz         TCGA-BH-A0HP  ...             BRCA.Lum\n",
              "\n",
              "[5 rows x 46 columns]"
            ]
          },
          "metadata": {
            "tags": []
          },
          "execution_count": 4
        }
      ]
    },
    {
      "cell_type": "markdown",
      "metadata": {
        "id": "LdnogDbsHfpP",
        "colab_type": "text"
      },
      "source": [
        "## NN based predictor"
      ]
    },
    {
      "cell_type": "code",
      "metadata": {
        "id": "KB8z21PkHfpR",
        "colab_type": "code",
        "outputId": "349e02fb-c161-4989-d8bf-0de25b0b0759",
        "colab": {
          "base_uri": "https://localhost:8080/",
          "height": 476
        }
      },
      "source": [
        "import tensorflow as tf\n",
        "from tensorflow.keras.models import Sequential\n",
        "from tensorflow.keras.layers import Dense\n",
        "from tensorflow.keras.losses import binary_crossentropy,mean_squared_error, categorical_crossentropy\n",
        "from tensorflow.keras.optimizers import SGD, Adam\n",
        "from tensorflow.keras.regularizers import l1_l2\n",
        "from tensorflow.keras.utils import plot_model,to_categorical\n",
        "from tensorflow.keras.callbacks import Callback, CSVLogger, EarlyStopping\n",
        "from tensorflow.keras.models import load_model\n",
        "from tensorflow.keras import backend as K\n",
        "from tensorflow.python.client.device_lib import list_local_devices\n",
        "import matplotlib.pyplot as plt\n",
        "from sklearn.model_selection import train_test_split\n",
        "import numpy as np\n",
        "import os,sys, gc\n",
        "list_local_devices()"
      ],
      "execution_count": 5,
      "outputs": [
        {
          "output_type": "execute_result",
          "data": {
            "text/plain": [
              "[name: \"/device:CPU:0\"\n",
              " device_type: \"CPU\"\n",
              " memory_limit: 268435456\n",
              " locality {\n",
              " }\n",
              " incarnation: 6743469384099214733, name: \"/device:XLA_CPU:0\"\n",
              " device_type: \"XLA_CPU\"\n",
              " memory_limit: 17179869184\n",
              " locality {\n",
              " }\n",
              " incarnation: 13417935929690338711\n",
              " physical_device_desc: \"device: XLA_CPU device\", name: \"/device:XLA_GPU:0\"\n",
              " device_type: \"XLA_GPU\"\n",
              " memory_limit: 17179869184\n",
              " locality {\n",
              " }\n",
              " incarnation: 13789281244649876859\n",
              " physical_device_desc: \"device: XLA_GPU device\", name: \"/device:GPU:0\"\n",
              " device_type: \"GPU\"\n",
              " memory_limit: 11150664704\n",
              " locality {\n",
              "   bus_id: 1\n",
              "   links {\n",
              "   }\n",
              " }\n",
              " incarnation: 13540508254264224232\n",
              " physical_device_desc: \"device: 0, name: Tesla K80, pci bus id: 0000:00:04.0, compute capability: 3.7\"]"
            ]
          },
          "metadata": {
            "tags": []
          },
          "execution_count": 5
        }
      ]
    },
    {
      "cell_type": "code",
      "metadata": {
        "id": "J8SmE2OrHfpV",
        "colab_type": "code",
        "colab": {}
      },
      "source": [
        "def preprocess_data(verbose=True):\n",
        "  global df_topics\n",
        "  global df_files\n",
        "  df_topics = df_topics[df_topics[\"tissue\"]!=\"unknown\"]\n",
        "\n",
        "  df_labels=df_files.copy()\n",
        "  df_labels=df_labels.reindex(index=df_topics.index)\n",
        "\n",
        "  uniq = len(df_labels[label].unique())\n",
        "\n",
        "  X = df_topics.drop('tissue',1)\n",
        "  X = X.subtract(X.mean(0),1).divide(0.5*(X.max(0)-X.min(0)),1).values.astype(float) #SGD transform\n",
        "  Y = to_categorical(np.unique(df_labels[label], return_inverse=True)[1])\n",
        "  inputs = X.shape[1]\n",
        "\n",
        "  classes=np.unique(df_labels[df_labels.index.isin(df.index)][label], return_inverse=True)[0]\n",
        "\n",
        "  X_train, X_test, Y_train, Y_test = train_test_split(X, Y, random_state=42, train_size=0.9)\n",
        "\n",
        "  if verbose:\n",
        "    print(X_train.shape, Y_train.shape, X_test.shape, Y_test.shape)\n",
        "  return inputs, uniq, df_labels, X_train, X_test, Y_train, Y_test"
      ],
      "execution_count": 0,
      "outputs": []
    },
    {
      "cell_type": "code",
      "metadata": {
        "id": "y5_nq-la_a7V",
        "colab_type": "code",
        "colab": {
          "base_uri": "https://localhost:8080/",
          "height": 34
        },
        "outputId": "e12d1dbf-2029-458f-8364-65342f1ae5be"
      },
      "source": [
        "inputs, uniq, df_labels, X_train, X_test, Y_train, Y_test = preprocess_data(True)"
      ],
      "execution_count": 17,
      "outputs": [
        {
          "output_type": "stream",
          "text": [
            "(1084, 147) (1084, 4) (121, 147) (121, 4)\n"
          ],
          "name": "stdout"
        }
      ]
    },
    {
      "cell_type": "code",
      "metadata": {
        "id": "pX-x2IjkBg8j",
        "colab_type": "code",
        "colab": {}
      },
      "source": [
        "def recall_m(y_true, y_pred):\n",
        "    true_positives = K.sum(K.round(K.clip(y_true * y_pred, 0, 1)))\n",
        "    possible_positives = K.sum(K.round(K.clip(y_true, 0, 1)))\n",
        "    recall = true_positives / (possible_positives + K.epsilon())\n",
        "    return recall\n",
        "\n",
        "def precision_m(y_true, y_pred):\n",
        "    true_positives = K.sum(K.round(K.clip(y_true * y_pred, 0, 1)))\n",
        "    predicted_positives = K.sum(K.round(K.clip(y_pred, 0, 1)))\n",
        "    precision = true_positives / (predicted_positives + K.epsilon())\n",
        "    return precision\n",
        "\n",
        "def f1(y_true, y_pred):\n",
        "    precision = precision_m(y_true, y_pred)\n",
        "    recall = recall_m(y_true, y_pred)\n",
        "    return 2*((precision*recall)/(precision+recall+K.epsilon()))"
      ],
      "execution_count": 0,
      "outputs": []
    },
    {
      "cell_type": "code",
      "metadata": {
        "id": "9A-pjO9lHfpa",
        "colab_type": "code",
        "colab": {}
      },
      "source": [
        "def create_model(opt, l1, l2, loss=categorical_crossentropy, activation_func = \"softmax\",  verbose=True):\n",
        "  K.clear_session()\n",
        "\n",
        "  inputs, uniq, df_labels, X_train, X_test, Y_train, Y_test = preprocess_data(verbose)\n",
        "\n",
        "  os.system(\"rm -rf log.csv\")\n",
        "  model=Sequential()\n",
        "  model.add(Dense(units=75, input_dim=inputs, use_bias=True, bias_initializer=\"ones\", activation=\"relu\", kernel_regularizer=l1_l2(l1=l1, l2=l2)))\n",
        "  model.add(Dense(units=uniq, activation=activation_func))\n",
        "  model.compile(loss=loss, optimizer=opt, metrics=['accuracy', 'AUC', f1])\n",
        "  K.set_learning_phase(0)\n",
        "\n",
        "  if verbose:\n",
        "    print(model.summary())\n",
        "    plot_model(model, to_file=f\"model_{label}.png\", dpi=600, show_shapes=True)\n",
        "  return model, X_train, X_test, Y_train, Y_test "
      ],
      "execution_count": 0,
      "outputs": []
    },
    {
      "cell_type": "code",
      "metadata": {
        "id": "SdHvt7jFHfpf",
        "colab_type": "code",
        "outputId": "24cfd2b4-04e9-4d7e-9852-39c30539a1dd",
        "colab": {
          "base_uri": "https://localhost:8080/",
          "height": 173
        }
      },
      "source": [
        "def train_GS():\n",
        "  csv_logger = CSVLogger('log.csv', append=True, separator=',')\n",
        "  es = EarlyStopping(monitor='val_loss', min_delta=1e-3, mode='min', patience=25)\n",
        "\n",
        "  momentum = 0.95\n",
        "  best_model = None\n",
        "  best_score = -np.inf\n",
        "  for lr in [0.03]:\n",
        "    for l1 in [0.01]:\n",
        "      for l2 in [0.01]:\n",
        "        for bs in [50]:\n",
        "          for momentum in [0.98]:\n",
        "            for hidden in [50, 75]:\n",
        "              print(lr, l1, l2, bs, momentum, hidden)\n",
        "              opt = SGD(lr=lr, momentum=momentum)\n",
        "              model, X_train, X_test, Y_train, Y_test  = create_model(opt, l1, l2, verbose=False)\n",
        "              with tf.device(\"GPU\"):\n",
        "                hist = model.fit(X_train, Y_train, epochs=500, batch_size=bs, verbose=0, validation_split=0.8, callbacks=[csv_logger, es], shuffle=True, use_multiprocessing=True, workers=-1)\n",
        "              f1_score = hist.history[\"val_f1\"][-1]\n",
        "              if f1_score > best_score:\n",
        "                loss = hist.history[\"val_loss\"][-1]\n",
        "                acc = hist.history[\"val_accuracy\"][-1]\n",
        "                auc = hist.history[\"val_auc\"][-1]\n",
        "                print(f\"loss: {loss}, accuracy: {acc}, AUC: {auc}, f1: {f1_score}\")\n",
        "                best_score = f1_score\n",
        "                best_model=model\n",
        "  return best_model, lr, l1, l2, bs, momentum, hidden\n",
        "\n",
        "model, lr, l1, l2, bs, momentum, hidden = train_GS()\n",
        "print(lr, l1, l2, bs, momentum, hidden)"
      ],
      "execution_count": 10,
      "outputs": [
        {
          "output_type": "stream",
          "text": [
            "0.03 0.01 0.01 50 0.98 50\n",
            "WARNING:tensorflow:From /usr/local/lib/python3.6/dist-packages/tensorflow/python/ops/resource_variable_ops.py:1817: calling BaseResourceVariable.__init__ (from tensorflow.python.ops.resource_variable_ops) with constraint is deprecated and will be removed in a future version.\n",
            "Instructions for updating:\n",
            "If using Keras pass *_constraint arguments to layers.\n",
            "loss: 1.133364200592041, accuracy: 0.888248860836029, AUC: 0.9739474654197693, f1: 0.888235330581665\n",
            "0.03 0.01 0.01 50 0.98 75\n",
            "loss: 1.2743827104568481, accuracy: 0.9078341126441956, AUC: 0.9727736711502075, f1: 0.9097626209259033\n",
            "0.03 0.01 0.01 50 0.98 75\n"
          ],
          "name": "stdout"
        }
      ]
    },
    {
      "cell_type": "code",
      "metadata": {
        "id": "ANz0bgi2Hfpi",
        "colab_type": "code",
        "outputId": "7851d0f8-85f0-4ad3-d3fd-694b1131a101",
        "colab": {
          "base_uri": "https://localhost:8080/",
          "height": 283
        }
      },
      "source": [
        "pd.read_csv(\"log.csv\", sep=\",\")[['loss','val_loss']].plot()"
      ],
      "execution_count": 11,
      "outputs": [
        {
          "output_type": "execute_result",
          "data": {
            "text/plain": [
              "<matplotlib.axes._subplots.AxesSubplot at 0x7fdeb0686c18>"
            ]
          },
          "metadata": {
            "tags": []
          },
          "execution_count": 11
        },
        {
          "output_type": "display_data",
          "data": {
            "image/png": "[encoded data removed]",
            "text/plain": [
              "<Figure size 432x288 with 1 Axes>"
            ]
          },
          "metadata": {
            "tags": []
          }
        }
      ]
    },
    {
      "cell_type": "code",
      "metadata": {
        "id": "ie8qRsmeHfpm",
        "colab_type": "code",
        "outputId": "7df7b749-d4a5-4fcb-b875-81f6a8f24211",
        "colab": {
          "base_uri": "https://localhost:8080/",
          "height": 71
        }
      },
      "source": [
        "model.evaluate(X_test, Y_test)"
      ],
      "execution_count": 12,
      "outputs": [
        {
          "output_type": "stream",
          "text": [
            "4/4 [==============================] - 0s 4ms/step - loss: 1.7215 - accuracy: 0.8760 - auc: 0.9399 - f1: 0.8828\n"
          ],
          "name": "stdout"
        },
        {
          "output_type": "execute_result",
          "data": {
            "text/plain": [
              "[1.7214850187301636, 0.8760330677032471, 0.939940333366394, 0.8828124403953552]"
            ]
          },
          "metadata": {
            "tags": []
          },
          "execution_count": 12
        }
      ]
    },
    {
      "cell_type": "code",
      "metadata": {
        "id": "Qcwyj17QHfpp",
        "colab_type": "code",
        "colab": {}
      },
      "source": [
        "model.save(f\"model_{label}.h5\")\n",
        "#model = load_model(f\"model_{label}.h5\")"
      ],
      "execution_count": 0,
      "outputs": []
    },
    {
      "cell_type": "code",
      "metadata": {
        "id": "eFyBghA0Hfpt",
        "colab_type": "code",
        "outputId": "0d6eeeb4-ca40-472a-c35f-941a6ad96cec",
        "colab": {
          "base_uri": "https://localhost:8080/",
          "height": 34
        }
      },
      "source": [
        "gc.collect()"
      ],
      "execution_count": 14,
      "outputs": [
        {
          "output_type": "execute_result",
          "data": {
            "text/plain": [
              "23929"
            ]
          },
          "metadata": {
            "tags": []
          },
          "execution_count": 14
        }
      ]
    },
    {
      "cell_type": "markdown",
      "metadata": {
        "id": "xIWNWHbwHfpz",
        "colab_type": "text"
      },
      "source": [
        "# evaluate on non used on topsbm training\n"
      ]
    },
    {
      "cell_type": "code",
      "metadata": {
        "id": "oydLIuRbG8kJ",
        "colab_type": "code",
        "outputId": "dc568024-7190-406e-b6ca-6c8767c2148d",
        "colab": {
          "base_uri": "https://localhost:8080/",
          "height": 34
        }
      },
      "source": [
        "classes = df_labels[label].unique()\n",
        "np.savetxt(\"classes.txt\", classes, fmt=\"%s\")\n",
        "np.savetxt(\"X_test.txt\", X_test)\n",
        "np.savetxt(\"Y_test.txt\", Y_test)\n",
        "print(X_test.shape, Y_test.shape)"
      ],
      "execution_count": 20,
      "outputs": [
        {
          "output_type": "stream",
          "text": [
            "(121, 147) (121, 4)\n"
          ],
          "name": "stdout"
        }
      ]
    },
    {
      "cell_type": "code",
      "metadata": {
        "id": "5JLmv_InHfp_",
        "colab_type": "code",
        "outputId": "23f771d8-afbe-4a4b-90e2-c8548648dbec",
        "colab": {
          "base_uri": "https://localhost:8080/",
          "height": 51
        }
      },
      "source": [
        "model.evaluate(X_test, Y_test, verbose=2, workers=-1, use_multiprocessing=True)"
      ],
      "execution_count": 21,
      "outputs": [
        {
          "output_type": "stream",
          "text": [
            "4/4 - 0s - loss: 1.7215 - accuracy: 0.8760 - auc: 0.9399 - f1: 0.8828\n"
          ],
          "name": "stdout"
        },
        {
          "output_type": "execute_result",
          "data": {
            "text/plain": [
              "[1.7214850187301636, 0.8760330677032471, 0.939940333366394, 0.8828124403953552]"
            ]
          },
          "metadata": {
            "tags": []
          },
          "execution_count": 21
        }
      ]
    },
    {
      "cell_type": "code",
      "metadata": {
        "id": "XuS52Or_j_im",
        "colab_type": "code",
        "colab": {}
      },
      "source": [
        "from sklearn.metrics import confusion_matrix, roc_curve, roc_auc_score\n",
        "import seaborn as sns"
      ],
      "execution_count": 0,
      "outputs": []
    },
    {
      "cell_type": "code",
      "metadata": {
        "id": "mdOMEPwJkKT0",
        "colab_type": "code",
        "colab": {}
      },
      "source": [
        "y_pred_p = model.predict(X_test)\n",
        "y_true = np.argmax(Y_test, axis=1)\n",
        "y_pred = np.argmax(y_pred_p, axis=1)\n",
        "results = confusion_matrix(y_true, y_pred, normalize=\"true\")"
      ],
      "execution_count": 0,
      "outputs": []
    },
    {
      "cell_type": "code",
      "metadata": {
        "id": "wMC0y97WHfqN",
        "colab_type": "code",
        "outputId": "3e49b416-6fe1-4bd4-86d1-b9d798c559a0",
        "colab": {
          "base_uri": "https://localhost:8080/",
          "height": 734
        }
      },
      "source": [
        "cm = sns.clustermap(results, \n",
        "                    vmax=1,  \n",
        "                    row_cluster=False, \n",
        "                    col_cluster=False, \n",
        "                    xticklabels=classes, \n",
        "                    yticklabels=classes, \n",
        "                    annot=False,\n",
        "                    annot_kws={\"fontsize\":25})\n",
        "ax = cm.ax_heatmap\n",
        "fig = ax.get_figure()\n",
        "ax.set_ylabel(\"real\", fontsize=35, rotation=90)\n",
        "ax.set_yticklabels(labels=classes, rotation=0)\n",
        "ax.yaxis.tick_left()\n",
        "ax.yaxis.set_label_position(\"left\")\n",
        "\n",
        "ax.set_xticklabels(labels=classes, rotation=90)\n",
        "ax.set_xlabel(\"predicted\",fontsize=35)\n",
        "ax.tick_params(labelsize=35)\n",
        "\n",
        "cax = cm.ax_cbar\n",
        "cax.tick_params(labelsize=30)\n",
        "cax.set_title(\"P()\", fontsize=30)\n",
        "plt.tight_layout()\n",
        "cm.savefig(f\"predict_{label}.pdf\")\n",
        "\n",
        "plt.show()"
      ],
      "execution_count": 24,
      "outputs": [
        {
          "output_type": "display_data",
          "data": {
            "image/png": "[encoded data removed]",
            "text/plain": [
              "<Figure size 720x720 with 4 Axes>"
            ]
          },
          "metadata": {
            "tags": []
          }
        }
      ]
    },
    {
      "cell_type": "code",
      "metadata": {
        "id": "ecz4ARzeDn9F",
        "colab_type": "code",
        "colab": {}
      },
      "source": [
        ""
      ],
      "execution_count": 0,
      "outputs": []
    }
  ]
}
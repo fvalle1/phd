{
 "cells": [
  {
   "cell_type": "code",
   "execution_count": null,
   "metadata": {
    "colab": {
     "base_uri": "https://localhost:8080/",
     "height": 122
    },
    "colab_type": "code",
    "id": "OM7BoWVULIgX",
    "outputId": "1c18dc84-2f5b-4d95-c2a8-8a61afc3cdfc"
   },
   "outputs": [],
   "source": [
    "from google.colab import drive\n",
    "drive.mount('/content/drive')"
   ]
  },
  {
   "cell_type": "code",
   "execution_count": null,
   "metadata": {
    "colab": {
     "base_uri": "https://localhost:8080/",
     "height": 51
    },
    "colab_type": "code",
    "id": "cZ0Axhw2Hfop",
    "outputId": "5ad05fbc-97cb-4959-a1b2-4213d609b257"
   },
   "outputs": [],
   "source": [
    "import pandas as pd\n",
    "import os,sys, gc\n",
    "import matplotlib.pyplot as plt\n",
    "from scipy.stats import entropy\n",
    "sys.path.append(\"/content/drive/My Drive/phd\")\n",
    "sys.path.append(\"/content/drive/My Drive/phd/hsbm-occam\")\n",
    "from hsbmpy import get_max_available_L\n",
    "\n",
    "os.environ[\"TF_CUDNN_USE_AUTOTUNE\"]=\"0\""
   ]
  },
  {
   "cell_type": "code",
   "execution_count": null,
   "metadata": {
    "colab": {},
    "colab_type": "code",
    "id": "Yhh35xNYHfo1"
   },
   "outputs": [],
   "source": [
    "algorithm = \"topsbm\"\n",
    "directory='/content/drive/My Drive/phd/datasets/cancers/breast'\n",
    "L = 0\n",
    "os.chdir(directory)"
   ]
  },
  {
   "cell_type": "code",
   "execution_count": null,
   "metadata": {
    "colab": {
     "base_uri": "https://localhost:8080/",
     "height": 357
    },
    "colab_type": "code",
    "id": "XXZfXhOYHfo5",
    "outputId": "e145dc21-843e-4153-c90e-26e3e8723afa"
   },
   "outputs": [],
   "source": [
    "label = 'Subtype_Selected_Lum'\n",
    "\n",
    "df_topics = pd.read_csv(\"topsbm_all/%s_level_%d_topic-dist.csv\"%(algorithm,L)).set_index('doc').drop('i_doc', axis=1)\n",
    "df_words = pd.read_csv(\"topsbm_all/%s_level_%d_word-dist.csv\"%(algorithm,L), index_col=0)\n",
    "df_words.index=[g[:15] for g in df_words.index]\n",
    "df = pd.read_csv(\"mainTable.csv\", index_col=0).reindex(index=df_words.index)\n",
    "df = df.divide(df.sum(0),1).transpose().fillna(0)\n",
    "df_files=pd.read_csv(\"files.dat\", index_col=0)\n",
    "df_topics.insert(0,'tissue', df_files.reindex(index=df_topics.index)[label])\n",
    "df_topic_tissue = df_topics.groupby('tissue').mean()\n",
    "df_files.head()"
   ]
  },
  {
   "cell_type": "markdown",
   "metadata": {
    "colab_type": "text",
    "id": "LdnogDbsHfpP"
   },
   "source": [
    "## NN based predictor"
   ]
  },
  {
   "cell_type": "code",
   "execution_count": null,
   "metadata": {
    "colab": {
     "base_uri": "https://localhost:8080/",
     "height": 476
    },
    "colab_type": "code",
    "id": "KB8z21PkHfpR",
    "outputId": "5b8ddde8-bbb5-4c51-905c-2ff3e5d3d20b"
   },
   "outputs": [],
   "source": [
    "import tensorflow as tf\n",
    "from tensorflow.keras.models import Sequential\n",
    "from tensorflow.keras.layers import Dense\n",
    "from tensorflow.keras.losses import binary_crossentropy,mean_squared_error, categorical_crossentropy\n",
    "from tensorflow.keras.optimizers import SGD, Adam\n",
    "from tensorflow.keras.regularizers import l1_l2\n",
    "from tensorflow.keras.utils import plot_model,to_categorical\n",
    "from tensorflow.keras.callbacks import Callback, CSVLogger, EarlyStopping\n",
    "from tensorflow.keras.models import load_model\n",
    "from tensorflow.keras import backend as K\n",
    "from tensorflow.python.client.device_lib import list_local_devices\n",
    "import matplotlib.pyplot as plt\n",
    "from sklearn.model_selection import train_test_split\n",
    "import numpy as np\n",
    "import os,sys, gc\n",
    "list_local_devices()"
   ]
  },
  {
   "cell_type": "code",
   "execution_count": null,
   "metadata": {
    "colab": {},
    "colab_type": "code",
    "id": "J8SmE2OrHfpV"
   },
   "outputs": [],
   "source": [
    "def preprocess_data(verbose=True):\n",
    "  global df_topics\n",
    "  global df_files\n",
    "  df_topics = df_topics[df_topics[\"tissue\"]!=\"unknown\"]\n",
    "\n",
    "  df_labels=df_files.copy()\n",
    "  df_labels=df_labels.reindex(index=df_topics.index)\n",
    "\n",
    "  uniq = len(df_labels[label].unique())\n",
    "\n",
    "  X = df_topics.drop('tissue',1)\n",
    "  X = X.subtract(X.mean(0),1).divide(0.5*(X.max(0)-X.min(0)),1).values.astype(float) #SGD transform\n",
    "  Y = to_categorical(np.unique(df_labels[label], return_inverse=True)[1])\n",
    "  inputs = X.shape[1]\n",
    "\n",
    "  classes=np.unique(df_labels[df_labels.index.isin(df.index)][label], return_inverse=True)[0]\n",
    "\n",
    "  X_train, X_test, Y_train, Y_test = train_test_split(X, Y, random_state=42, train_size=0.9)\n",
    "\n",
    "  if verbose:\n",
    "    print(X_train.shape, Y_train.shape, X_test.shape, Y_test.shape)\n",
    "  return inputs, uniq, df_labels, X_train, X_test, Y_train, Y_test"
   ]
  },
  {
   "cell_type": "code",
   "execution_count": null,
   "metadata": {
    "colab": {
     "base_uri": "https://localhost:8080/",
     "height": 34
    },
    "colab_type": "code",
    "id": "y5_nq-la_a7V",
    "outputId": "a895e6ed-0baf-4c57-b200-d63127b8209d"
   },
   "outputs": [],
   "source": [
    "inputs, uniq, df_labels, X_train, X_test, Y_train, Y_test = preprocess_data(True)"
   ]
  },
  {
   "cell_type": "code",
   "execution_count": null,
   "metadata": {
    "colab": {},
    "colab_type": "code",
    "id": "pX-x2IjkBg8j"
   },
   "outputs": [],
   "source": [
    "def recall_m(y_true, y_pred):\n",
    "    true_positives = K.sum(K.round(K.clip(y_true * y_pred, 0, 1)))\n",
    "    possible_positives = K.sum(K.round(K.clip(y_true, 0, 1)))\n",
    "    recall = true_positives / (possible_positives + K.epsilon())\n",
    "    return recall\n",
    "\n",
    "def precision_m(y_true, y_pred):\n",
    "    true_positives = K.sum(K.round(K.clip(y_true * y_pred, 0, 1)))\n",
    "    predicted_positives = K.sum(K.round(K.clip(y_pred, 0, 1)))\n",
    "    precision = true_positives / (predicted_positives + K.epsilon())\n",
    "    return precision\n",
    "\n",
    "def f1(y_true, y_pred):\n",
    "    precision = precision_m(y_true, y_pred)\n",
    "    recall = recall_m(y_true, y_pred)\n",
    "    return 2*((precision*recall)/(precision+recall+K.epsilon()))"
   ]
  },
  {
   "cell_type": "code",
   "execution_count": null,
   "metadata": {
    "colab": {},
    "colab_type": "code",
    "id": "9A-pjO9lHfpa"
   },
   "outputs": [],
   "source": [
    "def create_model(opt, l1, l2, hidden, loss=categorical_crossentropy, activation_func = \"softmax\",  verbose=True):\n",
    "  K.clear_session()\n",
    "\n",
    "  inputs, uniq, df_labels, X_train, X_test, Y_train, Y_test = preprocess_data(verbose)\n",
    "\n",
    "  os.system(\"rm -rf log.csv\")\n",
    "  model=Sequential()\n",
    "  model.add(Dense(units=hidden, input_dim=inputs, use_bias=True, bias_initializer=\"ones\", activation=\"relu\", kernel_regularizer=l1_l2(l1=l1, l2=l2)))\n",
    "  model.add(Dense(units=uniq, activation=activation_func))\n",
    "  model.compile(loss=loss, optimizer=opt, metrics=['accuracy', 'AUC', f1])\n",
    "  K.set_learning_phase(0)\n",
    "\n",
    "  if verbose:\n",
    "    print(model.summary())\n",
    "    plot_model(model, to_file=f\"model_{label}.png\", dpi=600, show_shapes=True)\n",
    "  return model, X_train, X_test, Y_train, Y_test "
   ]
  },
  {
   "cell_type": "code",
   "execution_count": null,
   "metadata": {
    "colab": {
     "base_uri": "https://localhost:8080/",
     "height": 1000
    },
    "colab_type": "code",
    "id": "SdHvt7jFHfpf",
    "outputId": "d792d637-ed87-456f-a134-3fc07beddcea"
   },
   "outputs": [],
   "source": [
    "def train_GS():\n",
    "  csv_logger = CSVLogger('log.csv', append=True, separator=',')\n",
    "  es = EarlyStopping(monitor='val_loss', min_delta=1e-3, mode='min', patience=25)\n",
    "\n",
    "  momentum = 0.95\n",
    "  best_model = None\n",
    "  best_score = -np.inf\n",
    "  for lr in [0.001, 0.0003]:\n",
    "    for l1 in [0.001,0.0001]:\n",
    "      for l2 in [0.001, 0.0001]:\n",
    "        for bs in [50,100]:\n",
    "          for momentum in [0.95, 0.98, 0.99]:\n",
    "            for hidden in [50, 75, 100]:\n",
    "              print(lr, l1, l2, bs, momentum, hidden)\n",
    "              opt = SGD(lr=lr, momentum=momentum)\n",
    "              model, X_train, X_test, Y_train, Y_test  = create_model(opt, l1, l2, hidden, verbose=False)\n",
    "              with tf.device(\"GPU\"):\n",
    "                hist = model.fit(X_train, Y_train, epochs=500, batch_size=bs, verbose=0, validation_split=0.8, callbacks=[csv_logger, es], shuffle=True, use_multiprocessing=True, workers=-1)\n",
    "              f1_score = hist.history[\"val_f1\"][-1]\n",
    "              if f1_score > best_score:\n",
    "                loss = hist.history[\"val_loss\"][-1]\n",
    "                acc = hist.history[\"val_accuracy\"][-1]\n",
    "                auc = hist.history[\"val_auc\"][-1]\n",
    "                print(f\"loss: {loss}, accuracy: {acc}, AUC: {auc}, f1: {f1_score}\")\n",
    "                best_score = f1_score\n",
    "                best_model=model\n",
    "  return best_model, lr, l1, l2, bs, momentum, hidden\n",
    "\n",
    "model, lr, l1, l2, bs, momentum, hidden = train_GS()\n",
    "print(lr, l1, l2, bs, momentum, hidden)"
   ]
  },
  {
   "cell_type": "code",
   "execution_count": null,
   "metadata": {
    "colab": {
     "base_uri": "https://localhost:8080/",
     "height": 1000
    },
    "colab_type": "code",
    "id": "b951g2HDo24r",
    "outputId": "1c847c79-d7de-4dbf-93a2-14c1158fe4d0"
   },
   "outputs": [],
   "source": [
    "#L=1\n",
    "#model, X_train, X_test, Y_train, Y_test = create_model(SGD(0.001, momentum=0.95), l1=0.001, l2=0.01, hidden=75, loss=categorical_crossentropy, activation_func = \"softmax\",  verbose=True)\n",
    "#hist = model.fit(X_train, Y_train, epochs=500, batch_size=50, verbose=1, validation_split=0.8, callbacks=[CSVLogger('log.csv', append=True, separator=','), EarlyStopping(monitor='val_loss', min_delta=1e-3, mode='min', patience=25)], shuffle=True, use_multiprocessing=True, workers=-1)\n",
    "\n",
    "#L=0\n",
    "model, X_train, X_test, Y_train, Y_test = create_model(SGD(0.001, momentum=0.99), l1=0.0001, l2=0.0001, hidden=50, loss=categorical_crossentropy, activation_func = \"softmax\",  verbose=True)\n",
    "hist = model.fit(X_train, Y_train, epochs=500, batch_size=50, verbose=1, validation_split=0.8, callbacks=[CSVLogger('log.csv', append=True, separator=','), EarlyStopping(monitor='val_loss', min_delta=1e-3, mode='min', patience=25)], shuffle=True, use_multiprocessing=True, workers=-1)"
   ]
  },
  {
   "cell_type": "code",
   "execution_count": null,
   "metadata": {
    "colab": {
     "base_uri": "https://localhost:8080/",
     "height": 283
    },
    "colab_type": "code",
    "id": "ANz0bgi2Hfpi",
    "outputId": "8f43aed7-b133-46f8-c8c9-7fffeb1210a3"
   },
   "outputs": [],
   "source": [
    "pd.read_csv(\"log.csv\", sep=\",\")[['loss','val_loss']].plot()"
   ]
  },
  {
   "cell_type": "code",
   "execution_count": null,
   "metadata": {
    "colab": {
     "base_uri": "https://localhost:8080/",
     "height": 102
    },
    "colab_type": "code",
    "id": "ie8qRsmeHfpm",
    "outputId": "e87d38fa-b6dd-4de0-a12f-7997741364ed"
   },
   "outputs": [],
   "source": [
    "model.evaluate(X_test, Y_test)"
   ]
  },
  {
   "cell_type": "code",
   "execution_count": null,
   "metadata": {
    "colab": {},
    "colab_type": "code",
    "id": "Qcwyj17QHfpp"
   },
   "outputs": [],
   "source": [
    "model.save(f\"model_{label}.h5\")\n",
    "#model = load_model(f\"model_{label}.h5\")"
   ]
  },
  {
   "cell_type": "code",
   "execution_count": null,
   "metadata": {
    "colab": {
     "base_uri": "https://localhost:8080/",
     "height": 34
    },
    "colab_type": "code",
    "id": "eFyBghA0Hfpt",
    "outputId": "e1cf42f0-f1a8-4332-f3e6-bef1b78c30fb"
   },
   "outputs": [],
   "source": [
    "gc.collect()"
   ]
  },
  {
   "cell_type": "markdown",
   "metadata": {
    "colab_type": "text",
    "id": "xIWNWHbwHfpz"
   },
   "source": [
    "# evaluate on non used on topsbm training\n"
   ]
  },
  {
   "cell_type": "code",
   "execution_count": null,
   "metadata": {
    "colab": {
     "base_uri": "https://localhost:8080/",
     "height": 34
    },
    "colab_type": "code",
    "id": "oydLIuRbG8kJ",
    "outputId": "4c4b0774-de4e-41a7-bd09-d877191a8d52"
   },
   "outputs": [],
   "source": [
    "classes = df_labels[label].unique()\n",
    "np.savetxt(\"classes.txt\", classes, fmt=\"%s\")\n",
    "np.savetxt(\"X_test.txt\", X_test)\n",
    "np.savetxt(\"Y_test.txt\", Y_test)\n",
    "print(X_test.shape, Y_test.shape)"
   ]
  },
  {
   "cell_type": "code",
   "execution_count": null,
   "metadata": {
    "colab": {
     "base_uri": "https://localhost:8080/",
     "height": 102
    },
    "colab_type": "code",
    "id": "5JLmv_InHfp_",
    "outputId": "631e3590-8a89-4dbc-e7bb-049c57a65ffd"
   },
   "outputs": [],
   "source": [
    "model.evaluate(X_test, Y_test, verbose=2, workers=-1, use_multiprocessing=True)"
   ]
  },
  {
   "cell_type": "code",
   "execution_count": null,
   "metadata": {
    "colab": {},
    "colab_type": "code",
    "id": "XuS52Or_j_im"
   },
   "outputs": [],
   "source": [
    "from sklearn.metrics import confusion_matrix, roc_curve, roc_auc_score\n",
    "import seaborn as sns"
   ]
  },
  {
   "cell_type": "code",
   "execution_count": null,
   "metadata": {
    "colab": {},
    "colab_type": "code",
    "id": "mdOMEPwJkKT0"
   },
   "outputs": [],
   "source": [
    "y_pred_p = model.predict(X_test)\n",
    "y_true = np.argmax(Y_test, axis=1)\n",
    "y_pred = np.argmax(y_pred_p, axis=1)\n",
    "results = confusion_matrix(y_true, y_pred, normalize=\"true\")"
   ]
  },
  {
   "cell_type": "code",
   "execution_count": null,
   "metadata": {
    "colab": {
     "base_uri": "https://localhost:8080/",
     "height": 734
    },
    "colab_type": "code",
    "id": "wMC0y97WHfqN",
    "outputId": "283caae3-7ab2-4375-aef8-8969041dad7d"
   },
   "outputs": [],
   "source": [
    "cm = sns.clustermap(results, \n",
    "                    vmax=1,  \n",
    "                    row_cluster=False, \n",
    "                    col_cluster=False, \n",
    "                    xticklabels=classes, \n",
    "                    yticklabels=classes, \n",
    "                    annot=False,\n",
    "                    annot_kws={\"fontsize\":20})\n",
    "ax = cm.ax_heatmap\n",
    "fig = ax.get_figure()\n",
    "ax.set_ylabel(\"real\", fontsize=35, rotation=90)\n",
    "ax.set_yticklabels(labels=classes, rotation=0)\n",
    "ax.yaxis.tick_left()\n",
    "ax.yaxis.set_label_position(\"left\")\n",
    "\n",
    "ax.set_xticklabels(labels=classes, rotation=90)\n",
    "ax.set_xlabel(\"predicted\",fontsize=35)\n",
    "ax.tick_params(labelsize=35)\n",
    "\n",
    "cax = cm.ax_cbar\n",
    "cax.tick_params(labelsize=30)\n",
    "cax.set_title(\"P()\", fontsize=30)\n",
    "plt.tight_layout()\n",
    "cm.savefig(f\"predict_{label}.pdf\")\n",
    "\n",
    "plt.show()"
   ]
  },
  {
   "cell_type": "code",
   "execution_count": null,
   "metadata": {
    "colab": {},
    "colab_type": "code",
    "id": "ecz4ARzeDn9F"
   },
   "outputs": [],
   "source": []
  }
 ],
 "metadata": {
  "accelerator": "GPU",
  "colab": {
   "collapsed_sections": [],
   "name": "predictor_BRCA.ipynb",
   "provenance": []
  },
  "kernelspec": {
   "display_name": "Python 3",
   "name": "python3"
  },
  "language_info": {
   "codemirror_mode": {
    "name": "ipython",
    "version": 3
   },
   "file_extension": ".py",
   "mimetype": "text/x-python",
   "name": "python",
   "nbconvert_exporter": "python",
   "pygments_lexer": "ipython3",
   "version": "3.6.10"
  }
 },
 "nbformat": 4,
 "nbformat_minor": 0
}

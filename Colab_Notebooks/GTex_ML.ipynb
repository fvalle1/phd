{
 "cells": [
  {
   "cell_type": "code",
   "execution_count": null,
   "metadata": {
    "colab": {},
    "colab_type": "code",
    "id": "sLQL_qWwyzcn"
   },
   "outputs": [],
   "source": [
    "import pandas as pd\n",
    "import seaborn as sns\n",
    "import matplotlib.pyplot as plt\n",
    "import gc"
   ]
  },
  {
   "cell_type": "markdown",
   "metadata": {
    "colab_type": "text",
    "id": "76txWmp94whX"
   },
   "source": [
    "# Load Data"
   ]
  },
  {
   "cell_type": "code",
   "execution_count": null,
   "metadata": {
    "colab": {
     "base_uri": "https://localhost:8080/",
     "height": 352
    },
    "colab_type": "code",
    "executionInfo": {
     "elapsed": 567146,
     "status": "ok",
     "timestamp": 1582548040468,
     "user": {
      "displayName": "Filippo Valle",
      "photoUrl": "https://lh3.googleusercontent.com/a-/AAuE7mDknsp5IAPsDxDKSE61S3jdqMVLhAONX0R8hhuq=s64",
      "userId": "14300282905640499915"
     },
     "user_tz": -60
    },
    "id": "fFK_hl-iy262",
    "outputId": "b7bb6d7e-0ef4-49ad-f12d-18e07d7e6b56"
   },
   "outputs": [],
   "source": [
    "df = pd.read_csv(\"https://storage.googleapis.com/gtex_analysis_v8/rna_seq_data/GTEx_Analysis_2017-06-05_v8_RNASeQCv1.1.9_gene_reads.gct.gz\", sep='\\t', compression='gzip', index_col=0, skiprows=2).drop(\"Description\", 1)\n",
    "df = df.divide(df.sum(0), 1)\n",
    "gc.collect()\n",
    "df.head()"
   ]
  },
  {
   "cell_type": "code",
   "execution_count": null,
   "metadata": {
    "colab": {
     "base_uri": "https://localhost:8080/",
     "height": 629
    },
    "colab_type": "code",
    "executionInfo": {
     "elapsed": 1244,
     "status": "ok",
     "timestamp": 1582548798818,
     "user": {
      "displayName": "Filippo Valle",
      "photoUrl": "https://lh3.googleusercontent.com/a-/AAuE7mDknsp5IAPsDxDKSE61S3jdqMVLhAONX0R8hhuq=s64",
      "userId": "14300282905640499915"
     },
     "user_tz": -60
    },
    "id": "mozSx6i-zL6U",
    "outputId": "77de3686-f39e-496f-9d06-73491d993ee5"
   },
   "outputs": [],
   "source": [
    "df_files = pd.read_csv(\"https://storage.googleapis.com/gtex_analysis_v8/annotations/GTEx_Analysis_v8_Annotations_SampleAttributesDS.txt\", sep=\"\\t\").set_index(\"SAMPID\")\n",
    "df_files.head()"
   ]
  },
  {
   "cell_type": "markdown",
   "metadata": {
    "colab_type": "text",
    "id": "P6595zOY47Tm"
   },
   "source": [
    "# Model"
   ]
  },
  {
   "cell_type": "code",
   "execution_count": null,
   "metadata": {
    "colab": {
     "base_uri": "https://localhost:8080/",
     "height": 148
    },
    "colab_type": "code",
    "executionInfo": {
     "elapsed": 570521,
     "status": "ok",
     "timestamp": 1582548043877,
     "user": {
      "displayName": "Filippo Valle",
      "photoUrl": "https://lh3.googleusercontent.com/a-/AAuE7mDknsp5IAPsDxDKSE61S3jdqMVLhAONX0R8hhuq=s64",
      "userId": "14300282905640499915"
     },
     "user_tz": -60
    },
    "id": "Yz0rkiNyzWZW",
    "outputId": "2b78023f-f736-450f-82df-39f409d31762"
   },
   "outputs": [],
   "source": [
    "import tensorflow as tf\n",
    "import numpy as np\n",
    "import tensorflow.keras as keras\n",
    "from keras.models import Sequential\n",
    "from keras.layers import Dense\n",
    "from keras.utils import to_categorical\n",
    "from keras.losses import categorical_crossentropy\n",
    "from keras.optimizers import SGD, Adam\n",
    "from sklearn.model_selection import train_test_split\n",
    "from keras.callbacks import Callback, CSVLogger, EarlyStopping\n",
    "tf.config.experimental.list_physical_devices()"
   ]
  },
  {
   "cell_type": "code",
   "execution_count": null,
   "metadata": {
    "colab": {
     "base_uri": "https://localhost:8080/",
     "height": 34
    },
    "colab_type": "code",
    "executionInfo": {
     "elapsed": 570513,
     "status": "ok",
     "timestamp": 1582548043878,
     "user": {
      "displayName": "Filippo Valle",
      "photoUrl": "https://lh3.googleusercontent.com/a-/AAuE7mDknsp5IAPsDxDKSE61S3jdqMVLhAONX0R8hhuq=s64",
      "userId": "14300282905640499915"
     },
     "user_tz": -60
    },
    "id": "lTInc9JezmOI",
    "outputId": "ee080519-a352-48c1-d6f2-c98586709f7c"
   },
   "outputs": [],
   "source": [
    "X = df.transpose().values\n",
    "Y = to_categorical(np.unique(df_files.reindex(index=df.columns)[\"SMTS\"], return_inverse=True)[1])\n",
    "\n",
    "del df\n",
    "gc.collect()"
   ]
  },
  {
   "cell_type": "code",
   "execution_count": null,
   "metadata": {
    "colab": {},
    "colab_type": "code",
    "id": "xutGvuc_4HKp"
   },
   "outputs": [],
   "source": [
    "X_train, X_test, Y_train, Y_test = train_test_split(X,Y, test_size=0.2, shuffle=True)"
   ]
  },
  {
   "cell_type": "code",
   "execution_count": null,
   "metadata": {
    "colab": {
     "base_uri": "https://localhost:8080/",
     "height": 34
    },
    "colab_type": "code",
    "executionInfo": {
     "elapsed": 572668,
     "status": "ok",
     "timestamp": 1582548046053,
     "user": {
      "displayName": "Filippo Valle",
      "photoUrl": "https://lh3.googleusercontent.com/a-/AAuE7mDknsp5IAPsDxDKSE61S3jdqMVLhAONX0R8hhuq=s64",
      "userId": "14300282905640499915"
     },
     "user_tz": -60
    },
    "id": "K4l4Rs-T8ufH",
    "outputId": "42e60ac0-a178-4df0-bc41-8db852b37c54"
   },
   "outputs": [],
   "source": [
    "inputs = X_train.shape[1]\n",
    "print(X_train.shape, Y_train.shape)"
   ]
  },
  {
   "cell_type": "code",
   "execution_count": null,
   "metadata": {
    "colab": {},
    "colab_type": "code",
    "id": "38YjMlwIJgTs"
   },
   "outputs": [],
   "source": [
    "csv_logger = CSVLogger('log.csv', append=True, separator=',')\n",
    "es = EarlyStopping(monitor='val_loss', min_delta=1e-1, mode='min', patience=5)"
   ]
  },
  {
   "cell_type": "code",
   "execution_count": null,
   "metadata": {
    "colab": {
     "base_uri": "https://localhost:8080/",
     "height": 255
    },
    "colab_type": "code",
    "executionInfo": {
     "elapsed": 508,
     "status": "ok",
     "timestamp": 1582548251307,
     "user": {
      "displayName": "Filippo Valle",
      "photoUrl": "https://lh3.googleusercontent.com/a-/AAuE7mDknsp5IAPsDxDKSE61S3jdqMVLhAONX0R8hhuq=s64",
      "userId": "14300282905640499915"
     },
     "user_tz": -60
    },
    "id": "hzuruZhr4i1A",
    "outputId": "94f30ecf-2baa-4dc3-9086-7f4fe821ad21"
   },
   "outputs": [],
   "source": [
    "model = Sequential()\n",
    "model.add(Dense(units = 1000, use_bias=False, bias_initializer='zeros', input_dim=inputs, activation=\"relu\"))\n",
    "model.add(Dense(units = 250, input_dim=inputs, activation=\"relu\"))\n",
    "model.add(Dense(units = Y_train.shape[1], activation=\"softmax\"))\n",
    "\n",
    "model.compile(loss=categorical_crossentropy, optimizer=Adam(lr=0.01), metrics=['accuracy'])\n",
    "\n",
    "model.summary()"
   ]
  },
  {
   "cell_type": "code",
   "execution_count": null,
   "metadata": {
    "colab": {
     "base_uri": "https://localhost:8080/",
     "height": 1000
    },
    "colab_type": "code",
    "executionInfo": {
     "elapsed": 312315,
     "status": "error",
     "timestamp": 1582548564384,
     "user": {
      "displayName": "Filippo Valle",
      "photoUrl": "https://lh3.googleusercontent.com/a-/AAuE7mDknsp5IAPsDxDKSE61S3jdqMVLhAONX0R8hhuq=s64",
      "userId": "14300282905640499915"
     },
     "user_tz": -60
    },
    "id": "qwlWGcO14qZY",
    "outputId": "5e84ee15-16a0-4f61-b1c4-d86e90937739"
   },
   "outputs": [],
   "source": [
    "with tf.device(\"GPU\"):\n",
    "  model.fit(X_train, Y_train, epochs=100, batch_size=500, verbose=1, validation_split=0.2, use_multiprocessing=True, workers=-1, callbacks=[csv_logger, es], shuffle=True)"
   ]
  },
  {
   "cell_type": "code",
   "execution_count": null,
   "metadata": {
    "colab": {
     "base_uri": "https://localhost:8080/",
     "height": 51
    },
    "colab_type": "code",
    "executionInfo": {
     "elapsed": 2252,
     "status": "ok",
     "timestamp": 1582548573888,
     "user": {
      "displayName": "Filippo Valle",
      "photoUrl": "https://lh3.googleusercontent.com/a-/AAuE7mDknsp5IAPsDxDKSE61S3jdqMVLhAONX0R8hhuq=s64",
      "userId": "14300282905640499915"
     },
     "user_tz": -60
    },
    "id": "kg_17Bbv9-g9",
    "outputId": "596805ac-9678-46c6-9988-3696d44ba104"
   },
   "outputs": [],
   "source": [
    "model.evaluate(X_test, Y_test)"
   ]
  },
  {
   "cell_type": "code",
   "execution_count": null,
   "metadata": {
    "colab": {},
    "colab_type": "code",
    "id": "WsHXFPS8Bsr_"
   },
   "outputs": [],
   "source": [
    "model.save(\"/content/drive/My Drive/GTex_ML/GTex_ML.h5\")"
   ]
  },
  {
   "cell_type": "code",
   "execution_count": null,
   "metadata": {
    "colab": {
     "base_uri": "https://localhost:8080/",
     "height": 265
    },
    "colab_type": "code",
    "executionInfo": {
     "elapsed": 1875,
     "status": "ok",
     "timestamp": 1582548969048,
     "user": {
      "displayName": "Filippo Valle",
      "photoUrl": "https://lh3.googleusercontent.com/a-/AAuE7mDknsp5IAPsDxDKSE61S3jdqMVLhAONX0R8hhuq=s64",
      "userId": "14300282905640499915"
     },
     "user_tz": -60
    },
    "id": "Hp7c8oG8J22m",
    "outputId": "e16b84d2-216d-4c05-ba5f-cb29d7efe50d"
   },
   "outputs": [],
   "source": [
    "fig, ax = plt.subplots()\n",
    "pd.read_csv(\"log.csv\", sep=\",\")[['loss','val_loss']].plot(ax=ax)\n",
    "\n",
    "fig.savefig(\"/content/drive/My Drive/GTex_ML/GTex_ML_losses.pdf\")"
   ]
  },
  {
   "cell_type": "code",
   "execution_count": null,
   "metadata": {
    "colab": {},
    "colab_type": "code",
    "id": "4Lg5tyBEKjnA"
   },
   "outputs": [],
   "source": [
    "classes = np.unique(df_files[\"SMTS\"])"
   ]
  },
  {
   "cell_type": "code",
   "execution_count": null,
   "metadata": {
    "colab": {},
    "colab_type": "code",
    "id": "QnmOR7yuKkhx"
   },
   "outputs": [],
   "source": [
    "results = pd.DataFrame(index=classes, columns=classes).fillna(0)\n",
    "for class_pred, y_test in zip(model.predict_classes(X_test), Y_test):\n",
    "    results.at[classes[y_test.argmax()], classes[class_pred]]+=1"
   ]
  },
  {
   "cell_type": "code",
   "execution_count": null,
   "metadata": {
    "colab": {
     "base_uri": "https://localhost:8080/",
     "height": 334
    },
    "colab_type": "code",
    "executionInfo": {
     "elapsed": 1465,
     "status": "ok",
     "timestamp": 1582548972034,
     "user": {
      "displayName": "Filippo Valle",
      "photoUrl": "https://lh3.googleusercontent.com/a-/AAuE7mDknsp5IAPsDxDKSE61S3jdqMVLhAONX0R8hhuq=s64",
      "userId": "14300282905640499915"
     },
     "user_tz": -60
    },
    "id": "2WbA1talKyac",
    "outputId": "ad95512d-3d3c-4fd8-f0ae-cc6ea6589b3b"
   },
   "outputs": [],
   "source": [
    "ax = sns.heatmap(results.divide(results.sum(1),0), annot=False)\n",
    "\n",
    "fig = ax.get_figure()\n",
    "fig.savefig(\"/content/drive/My Drive/GTex_ML/GTex_ML_classes.pdf\")"
   ]
  },
  {
   "cell_type": "code",
   "execution_count": null,
   "metadata": {
    "colab": {},
    "colab_type": "code",
    "id": "T4Me36wAK3vn"
   },
   "outputs": [],
   "source": []
  }
 ],
 "metadata": {
  "accelerator": "GPU",
  "colab": {
   "authorship_tag": "ABX9TyPpc+KizoTp4pUPSw3jK0IJ",
   "collapsed_sections": [],
   "machine_shape": "hm",
   "mount_file_id": "1-5KlxmJOA8XT8ONnfh4NrGyiUHO0xcOD",
   "name": "GTex_DL.ipynb",
   "provenance": [],
   "toc_visible": true
  },
  "kernelspec": {
   "display_name": "Python 3",
   "name": "python3"
  }
 },
 "nbformat": 4,
 "nbformat_minor": 0
}

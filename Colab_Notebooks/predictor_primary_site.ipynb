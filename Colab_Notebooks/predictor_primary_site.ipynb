{
 "cells": [
  {
   "cell_type": "code",
   "execution_count": null,
   "metadata": {
    "colab": {
     "base_uri": "https://localhost:8080/",
     "height": 124
    },
    "colab_type": "code",
    "executionInfo": {
     "elapsed": 37128,
     "status": "ok",
     "timestamp": 1595433892191,
     "user": {
      "displayName": "Filippo Valle",
      "photoUrl": "https://lh3.googleusercontent.com/a-/AOh14GiSmOTQUwJEm9eOUO5yn38V9kqgHrZZ_vys3fCS=s64",
      "userId": "14300282905640499915"
     },
     "user_tz": -120
    },
    "id": "OM7BoWVULIgX",
    "outputId": "fa12f852-0c61-47ba-f6a9-13ffd093b789"
   },
   "outputs": [],
   "source": [
    "from google.colab import drive\n",
    "drive.mount('/content/drive')"
   ]
  },
  {
   "cell_type": "code",
   "execution_count": null,
   "metadata": {
    "colab": {
     "base_uri": "https://localhost:8080/",
     "height": 766
    },
    "colab_type": "code",
    "executionInfo": {
     "elapsed": 10376,
     "status": "ok",
     "timestamp": 1595433909550,
     "user": {
      "displayName": "Filippo Valle",
      "photoUrl": "https://lh3.googleusercontent.com/a-/AOh14GiSmOTQUwJEm9eOUO5yn38V9kqgHrZZ_vys3fCS=s64",
      "userId": "14300282905640499915"
     },
     "user_tz": -120
    },
    "id": "0Ad55hClk1jn",
    "outputId": "0b593a90-13f1-45d4-aa33-69724bdb040d"
   },
   "outputs": [],
   "source": [
    "!python3 -m pip install watermark\n",
    "%load_ext watermark\n",
    "%watermark -v -m  -u -n -p pandas,numpy,seaborn,tensorflow,matplotlib -a Filippo_Valle -g -r -b -w"
   ]
  },
  {
   "cell_type": "code",
   "execution_count": null,
   "metadata": {
    "colab": {},
    "colab_type": "code",
    "id": "cZ0Axhw2Hfop"
   },
   "outputs": [],
   "source": [
    "import pandas as pd\n",
    "import numpy as np\n",
    "import os,sys, gc\n",
    "import matplotlib.pyplot as plt\n",
    "!pip install --extra-index https://test.pypi.org/simple pandarallel topicpy\n",
    "from topicpy.hsbmpy import get_max_available_L\n",
    "\n",
    "os.environ[\"TF_CUDNN_USE_AUTOTUNE\"]=\"0\" #to avoid Nvidia GPU warming up"
   ]
  },
  {
   "cell_type": "code",
   "execution_count": null,
   "metadata": {
    "colab": {},
    "colab_type": "code",
    "id": "Yhh35xNYHfo1"
   },
   "outputs": [],
   "source": [
    "algorithm = \"topsbm\"\n",
    "directory='/content/drive/My Drive/phd/datasets/merged'\n",
    "L = get_max_available_L(directory, algorithm)-2\n",
    "os.chdir(directory)"
   ]
  },
  {
   "cell_type": "code",
   "execution_count": null,
   "metadata": {
    "colab": {
     "base_uri": "https://localhost:8080/",
     "height": 206
    },
    "colab_type": "code",
    "executionInfo": {
     "elapsed": 12337,
     "status": "ok",
     "timestamp": 1595433922815,
     "user": {
      "displayName": "Filippo Valle",
      "photoUrl": "https://lh3.googleusercontent.com/a-/AOh14GiSmOTQUwJEm9eOUO5yn38V9kqgHrZZ_vys3fCS=s64",
      "userId": "14300282905640499915"
     },
     "user_tz": -120
    },
    "id": "XXZfXhOYHfo5",
    "outputId": "78530142-f691-4862-8d7a-9eca988ca0fa"
   },
   "outputs": [],
   "source": [
    "label = 'primary_site'\n",
    "\n",
    "df_topics = pd.read_csv(\"%s/%s_level_%d_topic-dist.csv\"%(algorithm,algorithm,L)).set_index('doc').drop('i_doc', axis=1)\n",
    "df_words = pd.read_csv(\"%s/%s_level_%d_word-dist.csv\"%(algorithm,algorithm,L), index_col=0)\n",
    "df_words.index=[g[:15] for g in df_words.index]\n",
    "df = pd.read_csv(\"mainTable.csv\", index_col=0).reindex(index=df_words.index)\n",
    "df = df.divide(df.sum(0),1).transpose().fillna(0)\n",
    "df_files=pd.read_csv(\"files.dat\", index_col=0)\n",
    "df_topics.insert(0,'tissue', df_files.reindex(index=df_topics.index)[label])\n",
    "df_topic_tissue = df_topics.groupby('tissue').mean()\n",
    "df_files.head()"
   ]
  },
  {
   "cell_type": "markdown",
   "metadata": {
    "colab_type": "text",
    "id": "LdnogDbsHfpP"
   },
   "source": [
    "## Predictor"
   ]
  },
  {
   "cell_type": "code",
   "execution_count": null,
   "metadata": {
    "colab": {
     "base_uri": "https://localhost:8080/",
     "height": 486
    },
    "colab_type": "code",
    "executionInfo": {
     "elapsed": 16826,
     "status": "ok",
     "timestamp": 1595433930169,
     "user": {
      "displayName": "Filippo Valle",
      "photoUrl": "https://lh3.googleusercontent.com/a-/AOh14GiSmOTQUwJEm9eOUO5yn38V9kqgHrZZ_vys3fCS=s64",
      "userId": "14300282905640499915"
     },
     "user_tz": -120
    },
    "id": "KB8z21PkHfpR",
    "outputId": "365a936d-c3c6-4aa1-e412-95e968adbef6"
   },
   "outputs": [],
   "source": [
    "import tensorflow as tf\n",
    "from tensorflow.keras.models import Sequential\n",
    "from tensorflow.keras.layers import Dense\n",
    "from tensorflow.keras.losses import binary_crossentropy,mean_squared_error, categorical_crossentropy\n",
    "from tensorflow.keras.optimizers import SGD, Adam\n",
    "from tensorflow.keras.regularizers import l1_l2\n",
    "from tensorflow.keras.datasets import mnist\n",
    "from tensorflow.keras.utils import plot_model,to_categorical\n",
    "from tensorflow.keras.callbacks import Callback, CSVLogger, EarlyStopping\n",
    "from tensorflow.keras.models import load_model\n",
    "from tensorflow.keras import backend as K\n",
    "from tensorflow.python.client.device_lib import list_local_devices\n",
    "import matplotlib.pyplot as plt\n",
    "from sklearn.model_selection import train_test_split\n",
    "import numpy as np\n",
    "import os,sys, gc\n",
    "list_local_devices()"
   ]
  },
  {
   "cell_type": "code",
   "execution_count": null,
   "metadata": {
    "colab": {
     "base_uri": "https://localhost:8080/",
     "height": 34
    },
    "colab_type": "code",
    "executionInfo": {
     "elapsed": 14240,
     "status": "ok",
     "timestamp": 1595433931515,
     "user": {
      "displayName": "Filippo Valle",
      "photoUrl": "https://lh3.googleusercontent.com/a-/AOh14GiSmOTQUwJEm9eOUO5yn38V9kqgHrZZ_vys3fCS=s64",
      "userId": "14300282905640499915"
     },
     "user_tz": -120
    },
    "id": "J8SmE2OrHfpV",
    "outputId": "5c374c0f-b633-4b39-9a82-176eba6433bb"
   },
   "outputs": [],
   "source": [
    "df_labels=df_files.copy()\n",
    "df_labels=df_labels.reindex(index=df_topics.index)\n",
    "\n",
    "uniq = len(df_labels[label].unique())\n",
    "\n",
    "X_train = df_topics.drop('tissue',1)\n",
    "X_train = X_train.subtract(X_train.mean(0),1).divide(0.5*(X_train.max(0)-X_train.min(0)),1).values.astype(float) #SGD transform\n",
    "Y_train = to_categorical(np.unique(df_labels[label], return_inverse=True)[1])\n",
    "inputs = X_train.shape[1]\n",
    "\n",
    "if uniq==2: #hidden=(1941,100), bs=50 \n",
    "  Y_train = np.argmax(Y_train, axis=-1)\n",
    "  uniq = 1\n",
    "  activation_func = \"sigmoid\"\n",
    "  lr = 0.01\n",
    "  bs = 50\n",
    "  momentum = 0.9\n",
    "  l1 = 0.01\n",
    "  l2 = 0.0001\n",
    "  loss=binary_crossentropy\n",
    "else: #hidden (1941,100), bs=500, l1=0.001, l2=1e-9\n",
    "  activation_func = \"softmax\"\n",
    "  lr = 0.03\n",
    "  bs = 500\n",
    "  momentum = 0.95\n",
    "  l1 = 0.001\n",
    "  l2 = 1e-9\n",
    "  loss=categorical_crossentropy\n",
    "\n",
    "\n",
    "classes=np.unique(df_labels[df_labels.index.isin(df.index)][label], return_inverse=True)[0]\n",
    "\n",
    "X_tm_train, X_tm_test, Y_tm_train, Y_tm_test = train_test_split(X_train, Y_train, random_state=42, train_size=0.95)\n",
    "\n",
    "print(uniq, X_train.shape, Y_train.shape, X_tm_train.shape, Y_tm_train.shape)"
   ]
  },
  {
   "cell_type": "markdown",
   "metadata": {
    "colab_type": "text",
    "id": "6cu0QRGFA9XQ"
   },
   "source": [
    "# K-NN"
   ]
  },
  {
   "cell_type": "code",
   "execution_count": null,
   "metadata": {
    "colab": {
     "base_uri": "https://localhost:8080/",
     "height": 156
    },
    "colab_type": "code",
    "executionInfo": {
     "elapsed": 6711,
     "status": "ok",
     "timestamp": 1595433959634,
     "user": {
      "displayName": "Filippo Valle",
      "photoUrl": "https://lh3.googleusercontent.com/a-/AOh14GiSmOTQUwJEm9eOUO5yn38V9kqgHrZZ_vys3fCS=s64",
      "userId": "14300282905640499915"
     },
     "user_tz": -120
    },
    "id": "MEsVBf7sA21e",
    "outputId": "5cc9115d-9404-4a00-ef0e-979225e77709"
   },
   "outputs": [],
   "source": [
    "from sklearn.neighbors import KNeighborsClassifier\n",
    "from sklearn.metrics import accuracy_score, roc_auc_score\n",
    "\n",
    "class KNNClassifier(KNeighborsClassifier):\n",
    "    def __init__(self, n_neighbors=10, **kwargs):\n",
    "        super().__init__(n_neighbors, **kwargs)\n",
    "\n",
    "    def fit(self,  X, y):\n",
    "        return super().fit(X, y)\n",
    "\n",
    "    def evaluate(self, X, Y):\n",
    "        Y_pred = self.predict(X)\n",
    "        if tf.cast(tf.round(tf.reduce_max(Y)),tf.int64) > tf.constant(1, dtype=tf.int64):\n",
    "            Y = to_categorical(Y)\n",
    "            Y_pred = to_categorical(Y_pred)\n",
    "        acc = accuracy_score(Y, Y_pred)\n",
    "        auc = roc_auc_score(Y, Y_pred, average=\"weighted\", multi_class=\"ovr\")\n",
    "        print(f\"Accuracy: {acc}, AUC:{auc}\")\n",
    "        return [acc, auc]\n",
    "\n",
    "def fit_knn(X_knn_train, X_knn_test, Y_knn_train, Y_knn_test):\n",
    "    X_pj_train, X_pj_test, Y_pj_train, Y_pj_test = list(map(tf.convert_to_tensor, (X_knn_train, X_knn_test, Y_knn_train, Y_knn_test)))\n",
    "    print(uniq, X_knn_train.shape, Y_knn_train.shape, X_knn_test.shape, Y_knn_test.shape, Y_knn_train[0])\n",
    "    import time\n",
    "    with tf.device(\"GPU\"):\n",
    "        model_knn = KNNClassifier(n_neighbors=5, n_jobs=4, metric=\"euclidean\")\n",
    "        model_knn.fit(X_knn_train, Y_knn_train)\n",
    "        model_knn.evaluate(X_knn_test, Y_knn_test)\n",
    "\n",
    "X_knn_train, X_knn_test, Y_knn_train, Y_knn_test = train_test_split(df.values, np.unique(df_files.reindex(index=df.index)[label], return_inverse=True)[1], random_state=42, train_size=0.8)\n",
    "fit_knn(X_knn_train, X_knn_test, Y_knn_train, Y_knn_test)\n",
    "\n",
    "X_knn_train, X_knn_test, Y_knn_train, Y_knn_test = train_test_split(pd.read_csv(\"mainTable.csv\", index_col=0).reindex(index=df_words.index).fillna(0).applymap(lambda tpm: np.log2(tpm+1)).values.T, np.unique(df_files.reindex(index=df.index)[label], return_inverse=True)[1], random_state=42, train_size=0.8)\n",
    "fit_knn(X_knn_train, X_knn_test, Y_knn_train, Y_knn_test)\n",
    "\n",
    "X_knn_train, X_knn_test, Y_knn_train, Y_knn_test = train_test_split(X_train, Y_train, random_state=42, train_size=0.8)\n",
    "fit_knn(X_knn_train, X_knn_test, Y_knn_train, Y_knn_test)\n",
    "\n",
    "model_knn = KNNClassifier(n_neighbors=5, n_jobs=4, metric=\"euclidean\")\n",
    "model_knn.fit(X_knn_train, Y_knn_train)\n",
    "model_knn.evaluate(X_knn_test, Y_knn_test)\n"
   ]
  },
  {
   "cell_type": "markdown",
   "metadata": {
    "colab_type": "text",
    "id": "LdVNVDc3A5yS"
   },
   "source": [
    "# Neural Net"
   ]
  },
  {
   "cell_type": "code",
   "execution_count": null,
   "metadata": {
    "colab": {
     "base_uri": "https://localhost:8080/",
     "height": 1000
    },
    "colab_type": "code",
    "executionInfo": {
     "elapsed": 2303,
     "status": "ok",
     "timestamp": 1593513156127,
     "user": {
      "displayName": "Filippo Valle",
      "photoUrl": "https://lh3.googleusercontent.com/a-/AOh14GiSmOTQUwJEm9eOUO5yn38V9kqgHrZZ_vys3fCS=s64",
      "userId": "14300282905640499915"
     },
     "user_tz": -120
    },
    "id": "9A-pjO9lHfpa",
    "outputId": "18ed06a0-08b7-4556-8e61-8b1db7b1626d"
   },
   "outputs": [],
   "source": [
    "K.clear_session()\n",
    "\n",
    "os.system(\"rm -rf log.csv\")\n",
    "csv_logger = CSVLogger('log.csv', append=True, separator=',')\n",
    "es = EarlyStopping(monitor='val_loss', min_delta=1e-10, mode='min', patience=25)\n",
    "\n",
    "model=Sequential()\n",
    "model.add(Dense(units=100, input_dim=inputs, use_bias=True, bias_initializer=\"ones\", activation=\"relu\", kernel_regularizer=l1_l2(l1=l1, l2=l2)))\n",
    "model.add(Dense(units=uniq, activation=activation_func))\n",
    "model.compile(loss=loss, optimizer=SGD(lr=lr, momentum=momentum), metrics=['accuracy', 'AUC'])\n",
    "K.set_learning_phase(0)\n",
    "\n",
    "print(model.summary())\n",
    "plot_model(model, to_file=f\"model_{label}.png\", dpi=600, show_shapes=True)\n"
   ]
  },
  {
   "cell_type": "code",
   "execution_count": null,
   "metadata": {
    "colab": {
     "base_uri": "https://localhost:8080/",
     "height": 1000
    },
    "colab_type": "code",
    "executionInfo": {
     "elapsed": 35795,
     "status": "ok",
     "timestamp": 1593513195902,
     "user": {
      "displayName": "Filippo Valle",
      "photoUrl": "https://lh3.googleusercontent.com/a-/AOh14GiSmOTQUwJEm9eOUO5yn38V9kqgHrZZ_vys3fCS=s64",
      "userId": "14300282905640499915"
     },
     "user_tz": -120
    },
    "id": "SdHvt7jFHfpf",
    "outputId": "ee88f4cf-1675-41ed-c44c-442c4f6fb19b"
   },
   "outputs": [],
   "source": [
    "with tf.device(\"GPU\"):\n",
    "    model.fit(X_tm_train, Y_tm_train, epochs=1000, batch_size=bs, verbose=1, validation_split=0.25, callbacks=[csv_logger, es], shuffle=True, use_multiprocessing=True, workers=-1)"
   ]
  },
  {
   "cell_type": "code",
   "execution_count": null,
   "metadata": {
    "colab": {
     "base_uri": "https://localhost:8080/",
     "height": 283
    },
    "colab_type": "code",
    "executionInfo": {
     "elapsed": 32702,
     "status": "ok",
     "timestamp": 1593513196392,
     "user": {
      "displayName": "Filippo Valle",
      "photoUrl": "https://lh3.googleusercontent.com/a-/AOh14GiSmOTQUwJEm9eOUO5yn38V9kqgHrZZ_vys3fCS=s64",
      "userId": "14300282905640499915"
     },
     "user_tz": -120
    },
    "id": "ANz0bgi2Hfpi",
    "outputId": "b633fdf9-608f-4512-8041-56c401b7e479"
   },
   "outputs": [],
   "source": [
    "pd.read_csv(\"log.csv\", sep=\",\")[['loss','val_loss']].plot()"
   ]
  },
  {
   "cell_type": "code",
   "execution_count": null,
   "metadata": {
    "colab": {
     "base_uri": "https://localhost:8080/",
     "height": 52
    },
    "colab_type": "code",
    "executionInfo": {
     "elapsed": 31588,
     "status": "ok",
     "timestamp": 1593513196903,
     "user": {
      "displayName": "Filippo Valle",
      "photoUrl": "https://lh3.googleusercontent.com/a-/AOh14GiSmOTQUwJEm9eOUO5yn38V9kqgHrZZ_vys3fCS=s64",
      "userId": "14300282905640499915"
     },
     "user_tz": -120
    },
    "id": "ie8qRsmeHfpm",
    "outputId": "f2dc4f18-a8b3-4e14-8290-3db4f7b30205"
   },
   "outputs": [],
   "source": [
    "model.evaluate(X_tm_test, Y_tm_test)"
   ]
  },
  {
   "cell_type": "code",
   "execution_count": null,
   "metadata": {
    "colab": {
     "base_uri": "https://localhost:8080/",
     "height": 243
    },
    "colab_type": "code",
    "executionInfo": {
     "elapsed": 3381,
     "status": "ok",
     "timestamp": 1595433969185,
     "user": {
      "displayName": "Filippo Valle",
      "photoUrl": "https://lh3.googleusercontent.com/a-/AOh14GiSmOTQUwJEm9eOUO5yn38V9kqgHrZZ_vys3fCS=s64",
      "userId": "14300282905640499915"
     },
     "user_tz": -120
    },
    "id": "Qcwyj17QHfpp",
    "outputId": "5f6bd047-5eea-4cc3-9e1d-b242dbc4ee98"
   },
   "outputs": [],
   "source": [
    "#model.save(f\"model_{label}.h5\")\n",
    "model = load_model(f\"model_{label}.h5\")\n",
    "print(model.summary())\n",
    "#plot_model(model, to_file=f\"model_{label}.png\", dpi=600, show_shapes=True)"
   ]
  },
  {
   "cell_type": "code",
   "execution_count": null,
   "metadata": {
    "colab": {
     "base_uri": "https://localhost:8080/",
     "height": 34
    },
    "colab_type": "code",
    "executionInfo": {
     "elapsed": 1520,
     "status": "ok",
     "timestamp": 1595433972481,
     "user": {
      "displayName": "Filippo Valle",
      "photoUrl": "https://lh3.googleusercontent.com/a-/AOh14GiSmOTQUwJEm9eOUO5yn38V9kqgHrZZ_vys3fCS=s64",
      "userId": "14300282905640499915"
     },
     "user_tz": -120
    },
    "id": "eFyBghA0Hfpt",
    "outputId": "73b88fc5-a06f-4a93-f460-71996f913e5c"
   },
   "outputs": [],
   "source": [
    "gc.collect()"
   ]
  },
  {
   "cell_type": "markdown",
   "metadata": {
    "colab_type": "text",
    "id": "xIWNWHbwHfpz"
   },
   "source": [
    "# evaluate on non used on topsbm training\n"
   ]
  },
  {
   "cell_type": "code",
   "execution_count": null,
   "metadata": {
    "colab": {},
    "colab_type": "code",
    "id": "WFz-Y-xXHfp0"
   },
   "outputs": [],
   "source": [
    "df_test_table = pd.read_csv(\"mainTable_test.csv\", index_col = 0)\n",
    "df_test_table = df_test_table.where(df_test_table<1e5,1e5)"
   ]
  },
  {
   "cell_type": "code",
   "execution_count": null,
   "metadata": {
    "colab": {},
    "colab_type": "code",
    "id": "GDydAbSeHfp4"
   },
   "outputs": [],
   "source": [
    "#project only HV genes\n",
    "df_topic_test = df_test_table.reindex(index=df_words.index)\n",
    "df_topic_test = df_topic_test.transpose().fillna(-1).astype(int)\n",
    "\n",
    "df_topic_test = pd.DataFrame(data=np.matmul(df_topic_test.values,df_words.values), index=df_topic_test.index, columns=df_words.columns)\n",
    "df_test=df_topic_test.divide(df_topic_test.mean(axis=0), axis=1) #normalize P(t|d)\n",
    "\n",
    "df_test = df_test.subtract(df_topics.drop(\"tissue\",1).mean(0),1).divide((X_train.max(0)-X_train.min(0)),1) #SGD transform"
   ]
  },
  {
   "cell_type": "code",
   "execution_count": null,
   "metadata": {
    "colab": {},
    "colab_type": "code",
    "id": "j79SHXWDHfp7"
   },
   "outputs": [],
   "source": [
    "classes = np.unique(df_files.reindex(index=df_test.index)[label])\n",
    "X_test = df_test.values.astype(float)\n",
    "Y_test = to_categorical([np.where(classes==t)[0][0] for t in df_files.reindex(index=df_test.index)[label].values.ravel()])\n",
    "if uniq==1:\n",
    "  Y_test = np.argmax(Y_test, axis=-1)\n",
    "  uniq=1\n",
    "#np.savetxt(\"classes.txt\", classes, fmt=\"%s\")\n",
    "#np.savetxt(\"X_test.txt\", X_test)\n",
    "#np.savetxt(\"Y_test.txt\", Y_test)"
   ]
  },
  {
   "cell_type": "code",
   "execution_count": null,
   "metadata": {
    "colab": {
     "base_uri": "https://localhost:8080/",
     "height": 52
    },
    "colab_type": "code",
    "executionInfo": {
     "elapsed": 11463,
     "status": "ok",
     "timestamp": 1595434052703,
     "user": {
      "displayName": "Filippo Valle",
      "photoUrl": "https://lh3.googleusercontent.com/a-/AOh14GiSmOTQUwJEm9eOUO5yn38V9kqgHrZZ_vys3fCS=s64",
      "userId": "14300282905640499915"
     },
     "user_tz": -120
    },
    "id": "5JLmv_InHfp_",
    "outputId": "43b4f7ab-188e-4001-d1f9-801b20804775"
   },
   "outputs": [],
   "source": [
    "with tf.device(\"GPU\"):\n",
    "    model.evaluate(X_test, Y_test, verbose=2, workers=-1, use_multiprocessing=True)\n",
    "    if uniq ==1:\n",
    "        model_knn.evaluate(tf.convert_to_tensor(df_topic_test), tf.convert_to_tensor(Y_test))\n",
    "    else:\n",
    "        model_knn.evaluate(tf.convert_to_tensor(df_topic_test), tf.convert_to_tensor(Y_test))"
   ]
  },
  {
   "cell_type": "code",
   "execution_count": null,
   "metadata": {
    "colab": {},
    "colab_type": "code",
    "id": "XuS52Or_j_im"
   },
   "outputs": [],
   "source": [
    "from sklearn.metrics import confusion_matrix, roc_curve, roc_auc_score\n",
    "import seaborn as sns"
   ]
  },
  {
   "cell_type": "code",
   "execution_count": null,
   "metadata": {
    "colab": {},
    "colab_type": "code",
    "id": "mdOMEPwJkKT0"
   },
   "outputs": [],
   "source": [
    "y_pred_p = model.predict(X_test)\n",
    "if uniq>1:\n",
    "  y_true = np.argmax(Y_test,axis=-1)\n",
    "  y_pred = np.argmax(y_pred_p,axis=-1)\n",
    "else:\n",
    "  y_pred_p = y_pred_p.ravel()\n",
    "  y_true = Y_test\n",
    "  y_pred = np.ones(y_pred_p.shape)\n",
    "  y_pred[y_pred_p<0.5]=0\n",
    "results = confusion_matrix(y_true, y_pred, normalize=\"true\")"
   ]
  },
  {
   "cell_type": "code",
   "execution_count": null,
   "metadata": {
    "colab": {
     "base_uri": "https://localhost:8080/",
     "height": 989
    },
    "colab_type": "code",
    "executionInfo": {
     "elapsed": 4094,
     "status": "ok",
     "timestamp": 1595434065849,
     "user": {
      "displayName": "Filippo Valle",
      "photoUrl": "https://lh3.googleusercontent.com/a-/AOh14GiSmOTQUwJEm9eOUO5yn38V9kqgHrZZ_vys3fCS=s64",
      "userId": "14300282905640499915"
     },
     "user_tz": -120
    },
    "id": "wMC0y97WHfqN",
    "outputId": "072717d1-dfb5-477f-c59f-30bbb26e7b14"
   },
   "outputs": [],
   "source": [
    "cm = sns.clustermap(results, \n",
    "                    vmax=1,  \n",
    "                    row_cluster=False, \n",
    "                    col_cluster=False, \n",
    "                    xticklabels=classes, \n",
    "                    yticklabels=classes, \n",
    "                    annot=False,\n",
    "                    annot_kws={\"fontsize\":15},\n",
    "                    cbar_pos=(0.99,0.05,0.05,0.7))\n",
    "ax = cm.ax_heatmap\n",
    "fig = ax.get_figure()\n",
    "ax.set_ylabel(\"real\", fontsize=35, rotation=90)\n",
    "ax.set_yticklabels(labels=classes, rotation=0)\n",
    "ax.yaxis.tick_left()\n",
    "ax.yaxis.set_label_position(\"left\")\n",
    "\n",
    "ax.set_xticklabels(labels=classes, rotation=80)\n",
    "ax.set_xlabel(\"predicted\",fontsize=35)\n",
    "ax.tick_params(labelsize=35)\n",
    "\n",
    "cax = cm.ax_cbar\n",
    "cax.tick_params(labelsize=30)\n",
    "cax.set_title(\"P()\", fontsize=30)\n",
    "plt.tight_layout()\n",
    "cm.savefig(f\"predict_{label}.pdf\")\n",
    "\n",
    "plt.show()"
   ]
  },
  {
   "cell_type": "code",
   "execution_count": null,
   "metadata": {
    "colab": {},
    "colab_type": "code",
    "id": "ecz4ARzeDn9F"
   },
   "outputs": [],
   "source": []
  }
 ],
 "metadata": {
  "accelerator": "GPU",
  "colab": {
   "collapsed_sections": [],
   "name": "predictor_primary_site.ipynb",
   "provenance": [
    {
     "file_id": "1vS3aAG-2falzRHuqnzyVL53vUzkAC31-",
     "timestamp": 1593513058430
    },
    {
     "file_id": "1XkfxK_aOyln57OG_3THkjYi1taql8yKY",
     "timestamp": 1582299765417
    }
   ],
   "toc_visible": true
  },
  "kernelspec": {
   "display_name": "Python 3",
   "name": "python3"
  },
  "language_info": {
   "codemirror_mode": {
    "name": "ipython",
    "version": 3
   },
   "file_extension": ".py",
   "mimetype": "text/x-python",
   "name": "python",
   "nbconvert_exporter": "python",
   "pygments_lexer": "ipython3",
   "version": "3.6.10"
  }
 },
 "nbformat": 4,
 "nbformat_minor": 0
}

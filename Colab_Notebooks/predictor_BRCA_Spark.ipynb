{
 "cells": [
  {
   "cell_type": "code",
   "execution_count": null,
   "metadata": {
    "colab": {
     "base_uri": "https://localhost:8080/",
     "height": 34
    },
    "colab_type": "code",
    "executionInfo": {
     "elapsed": 1034,
     "status": "ok",
     "timestamp": 1591283084088,
     "user": {
      "displayName": "Filippo Valle",
      "photoUrl": "https://lh3.googleusercontent.com/a-/AOh14GiSmOTQUwJEm9eOUO5yn38V9kqgHrZZ_vys3fCS=s64",
      "userId": "14300282905640499915"
     },
     "user_tz": -120
    },
    "id": "STbbMIO5nY-m",
    "outputId": "abc02031-bcce-42da-b5b8-955389faead5"
   },
   "outputs": [],
   "source": [
    "from google.colab import drive\n",
    "drive.mount(\"/content/drive\")"
   ]
  },
  {
   "cell_type": "code",
   "execution_count": null,
   "metadata": {
    "colab": {
     "base_uri": "https://localhost:8080/",
     "height": 51
    },
    "colab_type": "code",
    "executionInfo": {
     "elapsed": 1098,
     "status": "ok",
     "timestamp": 1591283085508,
     "user": {
      "displayName": "Filippo Valle",
      "photoUrl": "https://lh3.googleusercontent.com/a-/AOh14GiSmOTQUwJEm9eOUO5yn38V9kqgHrZZ_vys3fCS=s64",
      "userId": "14300282905640499915"
     },
     "user_tz": -120
    },
    "id": "YgAK002GnfRE",
    "outputId": "fd8a1dbe-0aa3-4ff2-850c-d8c065e61ddb"
   },
   "outputs": [],
   "source": [
    "import pandas as pd\n",
    "import numpy as np\n",
    "import os,sys, gc\n",
    "import matplotlib.pyplot as plt\n",
    "from scipy.stats import entropy\n",
    "sys.path.append(\"/content/drive/My Drive/phd\")\n",
    "sys.path.append(\"/content/drive/My Drive/phd/hsbm-occam\")\n",
    "from hsbmpy import get_max_available_L\n",
    "\n",
    "os.environ[\"TF_CUDNN_USE_AUTOTUNE\"]=\"0\"\n",
    "algorithm = \"topsbm\"\n",
    "directory='/content/drive/My Drive/phd/datasets/cancers/breast'\n",
    "L = 0\n",
    "os.chdir(directory)"
   ]
  },
  {
   "cell_type": "code",
   "execution_count": null,
   "metadata": {
    "colab": {
     "base_uri": "https://localhost:8080/",
     "height": 51
    },
    "colab_type": "code",
    "executionInfo": {
     "elapsed": 4120,
     "status": "ok",
     "timestamp": 1591283109491,
     "user": {
      "displayName": "Filippo Valle",
      "photoUrl": "https://lh3.googleusercontent.com/a-/AOh14GiSmOTQUwJEm9eOUO5yn38V9kqgHrZZ_vys3fCS=s64",
      "userId": "14300282905640499915"
     },
     "user_tz": -120
    },
    "id": "bxQ0NuU3nxWt",
    "outputId": "6ea9ff0b-b062-4945-da80-5b7c293cb577"
   },
   "outputs": [],
   "source": [
    "!pip install pyspark\n",
    "\n",
    "import pyspark as spark\n",
    "from pyspark.sql import SparkSession\n",
    "ss = SparkSession.builder.master(\"local[*]\").getOrCreate()\n",
    "sc = ss.sparkContext\n",
    "\n",
    "from pyspark.sql.functions import col\n",
    "from pyspark.ml.classification import MultilayerPerceptronClassifier\n",
    "from pyspark.ml.evaluation import MulticlassClassificationEvaluator"
   ]
  },
  {
   "cell_type": "code",
   "execution_count": null,
   "metadata": {
    "colab": {},
    "colab_type": "code",
    "id": "jICs82wTn05v"
   },
   "outputs": [],
   "source": [
    "sql = spark.sql.SparkSession(sc)"
   ]
  },
  {
   "cell_type": "code",
   "execution_count": null,
   "metadata": {
    "colab": {},
    "colab_type": "code",
    "id": "wn9nmzwvoIy6"
   },
   "outputs": [],
   "source": [
    "label = 'Subtype_Selected_Lum'\n",
    "\n",
    "df_topics = sql.read.option(\"header\", True).csv(\"%s/topsbm_all/%s_level_%d_topic-dist.csv\"%(directory,algorithm,L)).drop(\"i_doc\")\n",
    "df_words = sql.read.option(\"header\", True).csv(\"%s/topsbm_all/%s_level_%d_word-dist.csv\"%(directory,algorithm,L))\n",
    "df = sql.read.option(\"header\", True).csv(\"%s/mainTable.csv\"%directory)\n",
    "df_files = sql.read.option(\"header\", True).csv(\"%s/files.dat\"%(directory))\n",
    "df_words.registerTempTable(\"words\")\n",
    "df.registerTempTable(\"df\")\n",
    "df_files.registerTempTable(\"files\")\n",
    "df_words = sql.sql(\"SELECT * FROM words WHERE _c0 IN (SELECT 0 FROM df)\")\n",
    "df_files=df_files.filter(col(\"file_name\").isin(df.columns))\n",
    "df=df.drop(\"0\")\n",
    "df_topics=df_topics.drop(\"doc\")"
   ]
  },
  {
   "cell_type": "code",
   "execution_count": null,
   "metadata": {
    "colab": {},
    "colab_type": "code",
    "id": "KGqnewZDuMxY"
   },
   "outputs": [],
   "source": [
    "classes = df_files.select(\"Subtype_Selected_Lum\").distinct()"
   ]
  },
  {
   "cell_type": "code",
   "execution_count": null,
   "metadata": {
    "colab": {},
    "colab_type": "code",
    "id": "UJbU24SNyKXU"
   },
   "outputs": [],
   "source": [
    "from pyspark.ml.linalg import Vectors\n",
    "\n",
    "_,labels = np.unique(df_files.select(label).collect(), return_inverse=True)\n",
    "# Load training data\n",
    "data = ss.createDataFrame([(float(label),Vectors.dense(feature)) for label,feature in zip(labels, df_topics.collect())], [\"label\",\"features\"])\n",
    "\n",
    "# Split the data into train and test\n",
    "train, test = data.randomSplit([0.8, 0.2], seed=42)"
   ]
  },
  {
   "cell_type": "code",
   "execution_count": null,
   "metadata": {
    "colab": {
     "base_uri": "https://localhost:8080/",
     "height": 51
    },
    "colab_type": "code",
    "executionInfo": {
     "elapsed": 41468,
     "status": "ok",
     "timestamp": 1591284548290,
     "user": {
      "displayName": "Filippo Valle",
      "photoUrl": "https://lh3.googleusercontent.com/a-/AOh14GiSmOTQUwJEm9eOUO5yn38V9kqgHrZZ_vys3fCS=s64",
      "userId": "14300282905640499915"
     },
     "user_tz": -120
    },
    "id": "eRQvzQNatuOx",
    "outputId": "6aa8c2c6-aa78-4526-f72b-a2e67172bde9"
   },
   "outputs": [],
   "source": [
    "# specify layers for the neural network:\n",
    "# input layer of size 4 (features), two intermediate of size 5 and 4\n",
    "# and output of size 3 (classes)\n",
    "layers = [len(df_topics.columns), 50, classes.count()]\n",
    "\n",
    "# create the trainer and set its parameters\n",
    "trainer = MultilayerPerceptronClassifier(maxIter=500, layers=layers, blockSize=50, seed=314)\n",
    "\n",
    "# train the model\n",
    "model = trainer.fit(train)\n",
    "\n",
    "# compute accuracy on the test set\n",
    "result = model.transform(test)\n",
    "predictionAndLabels = result.select(\"prediction\", \"label\")\n",
    "evaluator = MulticlassClassificationEvaluator(metricName=\"f1\")\n",
    "print(\"Test set accuracy = \" + str(evaluator.evaluate(predictionAndLabels)))\n",
    "print(\"Test set F1 = \" + str(MulticlassClassificationEvaluator(metricName=\"f1\").evaluate(predictionAndLabels)))"
   ]
  },
  {
   "cell_type": "code",
   "execution_count": null,
   "metadata": {
    "colab": {
     "base_uri": "https://localhost:8080/",
     "height": 187
    },
    "colab_type": "code",
    "executionInfo": {
     "elapsed": 946,
     "status": "ok",
     "timestamp": 1591283913649,
     "user": {
      "displayName": "Filippo Valle",
      "photoUrl": "https://lh3.googleusercontent.com/a-/AOh14GiSmOTQUwJEm9eOUO5yn38V9kqgHrZZ_vys3fCS=s64",
      "userId": "14300282905640499915"
     },
     "user_tz": -120
    },
    "id": "QIKfBOJm4TpW",
    "outputId": "4adc2563-4a39-4d93-942d-0f4ab9ec4ec5"
   },
   "outputs": [],
   "source": [
    "predictionAndLabels.sample(fraction=.1).take(10)"
   ]
  },
  {
   "cell_type": "code",
   "execution_count": null,
   "metadata": {
    "colab": {
     "base_uri": "https://localhost:8080/",
     "height": 1000
    },
    "colab_type": "code",
    "executionInfo": {
     "elapsed": 5134,
     "status": "ok",
     "timestamp": 1591284496355,
     "user": {
      "displayName": "Filippo Valle",
      "photoUrl": "https://lh3.googleusercontent.com/a-/AOh14GiSmOTQUwJEm9eOUO5yn38V9kqgHrZZ_vys3fCS=s64",
      "userId": "14300282905640499915"
     },
     "user_tz": -120
    },
    "id": "-z1fRL5UuAiK",
    "outputId": "310ed6c8-a636-4301-926e-c65271000722"
   },
   "outputs": [],
   "source": [
    "from sklearn.metrics import confusion_matrix, roc_curve, roc_auc_score\n",
    "import seaborn as sns\n",
    "\n",
    "y_true = predictionAndLabels.select(\"label\").collect()\n",
    "y_pred = predictionAndLabels.select(\"prediction\").collect()\n",
    "results = confusion_matrix(y_true, y_pred, normalize=\"true\")\n",
    "\n",
    "cm = sns.clustermap(results, \n",
    "                    vmax=1,  \n",
    "                    row_cluster=False, \n",
    "                    col_cluster=False, \n",
    "                    xticklabels=classes.collect(), \n",
    "                    yticklabels=classes.collect(), \n",
    "                    annot=False,\n",
    "                    annot_kws={\"fontsize\":20})\n",
    "ax = cm.ax_heatmap\n",
    "fig = ax.get_figure()\n",
    "ax.set_ylabel(\"real\", fontsize=35, rotation=90)\n",
    "ax.set_yticklabels(labels=classes.collect(), rotation=0)\n",
    "ax.yaxis.tick_left()\n",
    "ax.yaxis.set_label_position(\"left\")\n",
    "\n",
    "ax.set_xticklabels(labels=classes.collect(), rotation=90)\n",
    "ax.set_xlabel(\"predicted\",fontsize=35)\n",
    "ax.tick_params(labelsize=35)\n",
    "\n",
    "cax = cm.ax_cbar\n",
    "cax.tick_params(labelsize=30)\n",
    "cax.set_title(\"P()\", fontsize=30)\n",
    "plt.tight_layout()\n",
    "\n",
    "plt.show()"
   ]
  },
  {
   "cell_type": "code",
   "execution_count": null,
   "metadata": {
    "colab": {},
    "colab_type": "code",
    "id": "eb4x2ytI41ph"
   },
   "outputs": [],
   "source": []
  }
 ],
 "metadata": {
  "colab": {
   "authorship_tag": "ABX9TyPHrPRoM9luJL81V5kAV5cl",
   "name": "predictor_BRCA_Spark.ipynb",
   "provenance": []
  },
  "kernelspec": {
   "display_name": "Python 3",
   "name": "python3"
  }
 },
 "nbformat": 4,
 "nbformat_minor": 0
}

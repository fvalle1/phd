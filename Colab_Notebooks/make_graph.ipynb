{
 "cells": [
  {
   "cell_type": "code",
   "execution_count": null,
   "metadata": {
    "colab": {},
    "colab_type": "code",
    "id": "GqzNGx_OMpIs"
   },
   "outputs": [],
   "source": [
    "!echo \"deb http://downloads.skewed.de/apt bionic main\" >> /etc/apt/sources.list\n",
    "!echo \"deb-src http://downloads.skewed.de/apt bionic main\" >> /etc/apt/sources.list\n",
    "!apt-key adv --keyserver keys.openpgp.org --recv-key 612DEFB798507F25\n",
    "!apt-get update && apt-get install python3-graph-tool --yes"
   ]
  },
  {
   "cell_type": "code",
   "execution_count": null,
   "metadata": {
    "colab": {},
    "colab_type": "code",
    "id": "ymLZKH5zM0HM"
   },
   "outputs": [],
   "source": [
    "import os,sys\n",
    "sys.path.append(\"/content/drive/My Drive/phd/hsbm-occam\")\n",
    "from sbmtm import sbmtm\n",
    "import pandas as pd\n",
    "os.chdir(\"/content/drive/My Drive/phd/datasets/cancers/lung\")"
   ]
  },
  {
   "cell_type": "code",
   "execution_count": null,
   "metadata": {
    "colab": {},
    "colab_type": "code",
    "id": "dgh_TrE8NMtW"
   },
   "outputs": [],
   "source": [
    "model = sbmtm()"
   ]
  },
  {
   "cell_type": "code",
   "execution_count": null,
   "metadata": {
    "colab": {},
    "colab_type": "code",
    "id": "hIYzv2xwNP7z"
   },
   "outputs": [],
   "source": [
    "df = pd.read_csv(\"mainTable_all.csv\",index_col=0)\n",
    "df.info()"
   ]
  },
  {
   "cell_type": "code",
   "execution_count": null,
   "metadata": {
    "colab": {},
    "colab_type": "code",
    "id": "2mXetxyqNak6"
   },
   "outputs": [],
   "source": [
    "model.make_graph_from_BoW_df(df)\n",
    "model.save_graph(\"graph.xml.gz\")\n",
    "model.g"
   ]
  },
  {
   "cell_type": "code",
   "execution_count": null,
   "metadata": {
    "colab": {},
    "colab_type": "code",
    "id": "FVeGT_d7QR0V"
   },
   "outputs": [],
   "source": [
    "model.load_graph(\"graph.xml.gz\")\n",
    "model.g"
   ]
  },
  {
   "cell_type": "code",
   "execution_count": null,
   "metadata": {
    "colab": {},
    "colab_type": "code",
    "id": "rw0cXv9KNqym"
   },
   "outputs": [],
   "source": [
    "model.fit(n_init=1, parallel=True, verbose=True, B_max=100, B_min=5)\n",
    "os.system(\"mkdir -p topsbm\")\n",
    "os.chdir(\"topsbm\")\n",
    "model.save_data()"
   ]
  },
  {
   "cell_type": "code",
   "execution_count": null,
   "metadata": {
    "colab": {},
    "colab_type": "code",
    "id": "RELo49GuQaiN"
   },
   "outputs": [],
   "source": [
    "(model.groups[0][\"p_td_d\"].sum(0)!=1).any()"
   ]
  },
  {
   "cell_type": "code",
   "execution_count": null,
   "metadata": {
    "colab": {},
    "colab_type": "code",
    "id": "TQYd0v7uRorC"
   },
   "outputs": [],
   "source": [
    "model.topicdist(61)"
   ]
  },
  {
   "cell_type": "code",
   "execution_count": null,
   "metadata": {
    "colab": {},
    "colab_type": "code",
    "id": "DfHgRg87SmxY"
   },
   "outputs": [],
   "source": []
  }
 ],
 "metadata": {
  "colab": {
   "authorship_tag": "ABX9TyP2uOVnbR8XKF++LQ/V0mxB",
   "collapsed_sections": [],
   "mount_file_id": "1pOCT2C9ehb33uROe1ZBom-TqaPZbLu1A",
   "name": "make_graph.ipynb",
   "provenance": []
  },
  "kernelspec": {
   "display_name": "Python 3",
   "name": "python3"
  }
 },
 "nbformat": 4,
 "nbformat_minor": 0
}

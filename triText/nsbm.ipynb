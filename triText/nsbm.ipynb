{
 "cells": [
  {
   "cell_type": "code",
   "execution_count": null,
   "id": "governmental-contract",
   "metadata": {},
   "outputs": [],
   "source": [
    "%load_ext autoreload\n",
    "%autoreload 2\n",
    "import sys\n",
    "import pandas as pd\n",
    "import numpy as np\n",
    "sys.path.append(\"../trisbm/\")\n",
    "from trisbm import trisbm"
   ]
  },
  {
   "cell_type": "code",
   "execution_count": null,
   "id": "moved-timeline",
   "metadata": {},
   "outputs": [],
   "source": [
    "df = pd.DataFrame(\n",
    "index = [\"w{}\".format(w) for w in range(1000)],\n",
    "columns = [\"doc{}\".format(w) for w in range(250)],\n",
    "data = np.random.randint(1, 100, 250000).reshape((1000, 250)))\n",
    "\n",
    "df_key_list = [\n",
    "    pd.DataFrame(\n",
    "index = [\"w{}\".format(w) for w in range(100+ik)],\n",
    "columns = [\"doc{}\".format(w) for w in range(250)],\n",
    "data = np.random.randint(1, 5+ik, (100+ik)*250).reshape((100+ik, 250)))\n",
    "    \n",
    "    for ik in range(3)\n",
    "]"
   ]
  },
  {
   "cell_type": "code",
   "execution_count": null,
   "id": "occasional-benefit",
   "metadata": {},
   "outputs": [],
   "source": [
    "df.head()"
   ]
  },
  {
   "cell_type": "code",
   "execution_count": null,
   "id": "protective-disabled",
   "metadata": {},
   "outputs": [],
   "source": [
    "df_key_list[0].head()"
   ]
  },
  {
   "cell_type": "code",
   "execution_count": null,
   "id": "statewide-mozambique",
   "metadata": {},
   "outputs": [],
   "source": [
    "model = trisbm()"
   ]
  },
  {
   "cell_type": "code",
   "execution_count": null,
   "id": "suited-ready",
   "metadata": {},
   "outputs": [],
   "source": [
    "model.make_graph_multiple_df(df, df_key_list)"
   ]
  },
  {
   "cell_type": "code",
   "execution_count": null,
   "id": "absent-thumbnail",
   "metadata": {},
   "outputs": [],
   "source": [
    "model.g.vp[\"kind\"].a"
   ]
  },
  {
   "cell_type": "code",
   "execution_count": null,
   "id": "lightweight-shoot",
   "metadata": {},
   "outputs": [],
   "source": [
    "model.nbranches"
   ]
  },
  {
   "cell_type": "code",
   "execution_count": null,
   "id": "valid-chassis",
   "metadata": {},
   "outputs": [],
   "source": [
    "model.fit(n_init=1, B_min=50, verbose=False)"
   ]
  },
  {
   "cell_type": "code",
   "execution_count": null,
   "id": "flush-lambda",
   "metadata": {},
   "outputs": [],
   "source": [
    "model._get_shape()"
   ]
  },
  {
   "cell_type": "code",
   "execution_count": null,
   "id": "bulgarian-bearing",
   "metadata": {},
   "outputs": [],
   "source": [
    "model.g"
   ]
  },
  {
   "cell_type": "code",
   "execution_count": null,
   "id": "elementary-trauma",
   "metadata": {},
   "outputs": [],
   "source": [
    "model.metadata(0,-1,3)"
   ]
  },
  {
   "cell_type": "code",
   "execution_count": null,
   "id": "wooden-roads",
   "metadata": {},
   "outputs": [],
   "source": [
    "model.print_summary()"
   ]
  },
  {
   "cell_type": "code",
   "execution_count": null,
   "id": "dated-surrey",
   "metadata": {},
   "outputs": [],
   "source": [
    "l=0\n",
    "kind=2\n",
    "n=-1\n",
    "dict_groups = model.groups[l]\n",
    "Bw = dict_groups['Bk'][kind-2]\n",
    "p_w_tw = dict_groups['p_w_key_tk'][kind-2]\n",
    "\n",
    "words = model.keywords[kind-2]\n",
    "\n",
    "## loop over all word-groups\n",
    "dict_group_keywords = {}\n",
    "for tw in range(Bw):\n",
    "    p_w_ = p_w_tw[:, tw]\n",
    "    ind_w_ = np.argsort(p_w_)[::-1]\n",
    "    list_words_tw = []\n",
    "    for i in ind_w_[:n]:\n",
    "        if p_w_[i] > 0:\n",
    "            list_words_tw += [(words[i], p_w_[i])]\n",
    "        else:\n",
    "            break\n",
    "    dict_group_keywords[tw] = list_words_tw"
   ]
  },
  {
   "cell_type": "code",
   "execution_count": null,
   "id": "romance-carry",
   "metadata": {},
   "outputs": [],
   "source": [
    "len([h[1] for h in model.metadatumdist(0, 0, 2)])"
   ]
  },
  {
   "cell_type": "code",
   "execution_count": null,
   "id": "sexual-bahrain",
   "metadata": {},
   "outputs": [],
   "source": [
    "model.metadata(l=0, n=-1, kind=2).keys()"
   ]
  },
  {
   "cell_type": "code",
   "execution_count": null,
   "id": "eight-headline",
   "metadata": {},
   "outputs": [],
   "source": [
    "import graph_tool.all as gt"
   ]
  },
  {
   "cell_type": "code",
   "execution_count": null,
   "id": "under-connection",
   "metadata": {},
   "outputs": [],
   "source": [
    "gt.draw_hierarchy(model.state,\n",
    "                  subsample_edges=1500,\n",
    "                  vertex_color=model.g.vp[\"kind\"],\n",
    "                 hedge_pen_width=5,\n",
    "                  hvertex_size=15,\n",
    "                 edge_pen_width=model.g.ep[\"count\"])"
   ]
  },
  {
   "cell_type": "code",
   "execution_count": null,
   "id": "rational-marketplace",
   "metadata": {},
   "outputs": [],
   "source": []
  }
 ],
 "metadata": {
  "kernelspec": {
   "display_name": "Python 3",
   "language": "python",
   "name": "python3"
  },
  "language_info": {
   "codemirror_mode": {
    "name": "ipython",
    "version": 3
   },
   "file_extension": ".py",
   "mimetype": "text/x-python",
   "name": "python",
   "nbconvert_exporter": "python",
   "pygments_lexer": "ipython3",
   "version": "3.8.8"
  }
 },
 "nbformat": 4,
 "nbformat_minor": 5
}

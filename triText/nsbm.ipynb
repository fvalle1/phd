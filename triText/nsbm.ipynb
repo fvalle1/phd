{
 "cells": [
  {
   "cell_type": "code",
   "execution_count": null,
   "id": "67a3a9e2",
   "metadata": {},
   "outputs": [],
   "source": [
    "%load_ext autoreload\n",
    "%autoreload 2\n",
    "import sys\n",
    "import pandas as pd\n",
    "import numpy as np\n",
    "sys.path.append(\"../trisbm/\")\n",
    "from trisbm import trisbm"
   ]
  },
  {
   "cell_type": "code",
   "execution_count": null,
   "id": "2b388650",
   "metadata": {},
   "outputs": [],
   "source": [
    "df = pd.DataFrame(\n",
    "index = [\"w{}\".format(w) for w in range(1000)],\n",
    "columns = [\"doc{}\".format(w) for w in range(250)],\n",
    "data = np.random.randint(1, 100, 250000).reshape((1000, 250)))\n",
    "\n",
    "df_key_list = [\n",
    "    pd.DataFrame(\n",
    "index = [\"w{}\".format(w) for w in range(100+ik)],\n",
    "columns = [\"doc{}\".format(w) for w in range(250)],\n",
    "data = np.random.randint(1, 5+ik, (100+ik)*250).reshape((100+ik, 250)))\n",
    "    \n",
    "    for ik in range(3)\n",
    "]"
   ]
  },
  {
   "cell_type": "code",
   "execution_count": null,
   "id": "626e8da9",
   "metadata": {},
   "outputs": [],
   "source": [
    "df.head()"
   ]
  },
  {
   "cell_type": "code",
   "execution_count": null,
   "id": "422d058c",
   "metadata": {},
   "outputs": [],
   "source": [
    "df_key_list[0].head()"
   ]
  },
  {
   "cell_type": "code",
   "execution_count": null,
   "id": "e1be8072",
   "metadata": {},
   "outputs": [],
   "source": [
    "model = trisbm()"
   ]
  },
  {
   "cell_type": "code",
   "execution_count": null,
   "id": "262ca405",
   "metadata": {},
   "outputs": [],
   "source": [
    "model.make_graph_multiple_df(df, df_key_list)"
   ]
  },
  {
   "cell_type": "code",
   "execution_count": null,
   "id": "19ef774e",
   "metadata": {},
   "outputs": [],
   "source": [
    "model.g.vp[\"kind\"].a"
   ]
  },
  {
   "cell_type": "code",
   "execution_count": null,
   "id": "37c432f2",
   "metadata": {},
   "outputs": [],
   "source": [
    "model.nbranches"
   ]
  },
  {
   "cell_type": "code",
   "execution_count": null,
   "id": "30c996e3",
   "metadata": {},
   "outputs": [],
   "source": [
    "model.fit(n_init=1, B_min=50, verbose=False)"
   ]
  },
  {
   "cell_type": "code",
   "execution_count": null,
   "id": "22b6f501",
   "metadata": {},
   "outputs": [],
   "source": [
    "model._get_shape()"
   ]
  },
  {
   "cell_type": "code",
   "execution_count": null,
   "id": "86c9c4bf",
   "metadata": {},
   "outputs": [],
   "source": [
    "model.g"
   ]
  },
  {
   "cell_type": "code",
   "execution_count": null,
   "id": "129fd740",
   "metadata": {},
   "outputs": [],
   "source": [
    "model.metadata(0,-1,3)"
   ]
  },
  {
   "cell_type": "code",
   "execution_count": null,
   "id": "82a170ed",
   "metadata": {},
   "outputs": [],
   "source": [
    "model.save_data()"
   ]
  },
  {
   "cell_type": "code",
   "execution_count": null,
   "id": "e6bebfcc",
   "metadata": {},
   "outputs": [],
   "source": [
    "model.print_summary()"
   ]
  },
  {
   "cell_type": "code",
   "execution_count": null,
   "id": "98861e18",
   "metadata": {},
   "outputs": [],
   "source": [
    "l=0\n",
    "kind=2\n",
    "n=-1\n",
    "dict_groups = model.groups[l]\n",
    "Bw = dict_groups['Bk'][kind-2]\n",
    "p_w_tw = dict_groups['p_w_key_tk'][kind-2]\n",
    "\n",
    "words = model.keywords[kind-2]\n",
    "\n",
    "## loop over all word-groups\n",
    "dict_group_keywords = {}\n",
    "for tw in range(Bw):\n",
    "    p_w_ = p_w_tw[:, tw]\n",
    "    ind_w_ = np.argsort(p_w_)[::-1]\n",
    "    list_words_tw = []\n",
    "    for i in ind_w_[:n]:\n",
    "        if p_w_[i] > 0:\n",
    "            list_words_tw += [(words[i], p_w_[i])]\n",
    "        else:\n",
    "            break\n",
    "    dict_group_keywords[tw] = list_words_tw"
   ]
  },
  {
   "cell_type": "code",
   "execution_count": null,
   "id": "4dde7290",
   "metadata": {},
   "outputs": [],
   "source": [
    "len([h[1] for h in model.metadatumdist(0, 0, 2)])"
   ]
  },
  {
   "cell_type": "code",
   "execution_count": null,
   "id": "d66e5ecb",
   "metadata": {},
   "outputs": [],
   "source": [
    "model.metadata(l=0, n=-1, kind=2).keys()"
   ]
  },
  {
   "cell_type": "code",
   "execution_count": null,
   "id": "64041896",
   "metadata": {},
   "outputs": [],
   "source": [
    "import graph_tool.all as gt"
   ]
  },
  {
   "cell_type": "code",
   "execution_count": null,
   "id": "38a077a8",
   "metadata": {},
   "outputs": [],
   "source": [
    "gt.draw_hierarchy(model.state,\n",
    "                  subsample_edges=1500,\n",
    "                  vertex_color=model.g.vp[\"kind\"],\n",
    "                 hedge_pen_width=5,\n",
    "                  hvertex_size=15,\n",
    "                 edge_pen_width=model.g.ep[\"count\"])"
   ]
  },
  {
   "cell_type": "code",
   "execution_count": null,
   "id": "b926d774",
   "metadata": {},
   "outputs": [],
   "source": []
  }
 ],
 "metadata": {
  "kernelspec": {
   "display_name": "Python 3",
   "language": "python",
   "name": "python3"
  },
  "language_info": {
   "codemirror_mode": {
    "name": "ipython",
    "version": 3
   },
   "file_extension": ".py",
   "mimetype": "text/x-python",
   "name": "python",
   "nbconvert_exporter": "python",
   "pygments_lexer": "ipython3",
   "version": "3.8.8"
  }
 },
 "nbformat": 4,
 "nbformat_minor": 5
}

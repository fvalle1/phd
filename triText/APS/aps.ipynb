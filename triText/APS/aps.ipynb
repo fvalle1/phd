{
 "cells": [
  {
   "cell_type": "code",
   "execution_count": null,
   "id": "89df8425",
   "metadata": {},
   "outputs": [],
   "source": [
    "import pandas as pd\n",
    "import json\n",
    "import os\n",
    "import regex as re\n",
    "import numpy as np\n",
    "import graph_tool.all as gt\n",
    "import logging\n",
    "import cloudpickle as pickle\n",
    "log = logging.getLogger(\"aps\")\n",
    "log.addHandler(logging.StreamHandler())\n",
    "log.setLevel(logging.DEBUG)\n",
    "import sys\n",
    "sys.path.append(\"../\")\n",
    "from nlp import singularize, process_phrase"
   ]
  },
  {
   "cell_type": "code",
   "execution_count": null,
   "id": "12e9b751",
   "metadata": {},
   "outputs": [],
   "source": [
    "os.listdir(\"aps-dataset-metadata-2020/\")"
   ]
  },
  {
   "cell_type": "code",
   "execution_count": null,
   "id": "940d0184",
   "metadata": {},
   "outputs": [],
   "source": [
    "def parse_article(filename):\n",
    "    with open(filename, \"r\") as file:\n",
    "        article = json.loads(file.read())\n",
    "    doi = article[\"id\"]\n",
    "    title = article[\"title\"][\"value\"]\n",
    "    try:\n",
    "        labels = [label[\"label\"] for label in article[\"classificationSchemes\"][\"physh\"][\"disciplines\"]]\n",
    "    except:\n",
    "        labels = []\n",
    "    \n",
    "    journal = article[\"journal\"][\"id\"]\n",
    "    authors = [author[\"surname\"] for author in article[\"authors\"]]\n",
    "    \n",
    "    try:\n",
    "        pattern = \"[0-9]{4,11}\"\n",
    "        nations = np.unique([re.search(pattern,affiliation[\"name\"]).group() for affiliation in article[\"affiliations\"] if re.search(pattern, affiliation[\"name\"]) is not None])\n",
    "    except:\n",
    "        nations = []\n",
    "    return doi, title, labels, journal, authors, nations\n",
    "    \n",
    "parse_article(\"aps-dataset-metadata-2020/PRX/8/PhysRevX.8.021023.json\")\n",
    "#parse_article(\"aps-dataset-metadata-2020/PRD/102/PhysRevD.102.014505.json\")"
   ]
  },
  {
   "cell_type": "code",
   "execution_count": null,
   "id": "5943bf1d",
   "metadata": {},
   "outputs": [],
   "source": [
    "#10.1103/PhysRevD.102.014505"
   ]
  },
  {
   "cell_type": "code",
   "execution_count": null,
   "id": "8f680669",
   "metadata": {},
   "outputs": [],
   "source": [
    "def get_journal_dfs(journal):\n",
    "    df = pd.DataFrame()\n",
    "    df_meta = pd.DataFrame()\n",
    "    df_authors = pd.DataFrame()\n",
    "    #df_areas = pd.DataFrame()\n",
    "    df_files = pd.DataFrame(columns=[\"journal\"])\n",
    "    issue = \"aps-dataset-metadata-2020/{}/{}/\".format(journal, \"1\" if \"E\" not in journal else \"100\")\n",
    "    articles = os.listdir(issue)[:500]\n",
    "    for article in articles:\n",
    "        doi, title, labels, journal, authors, areas = parse_article(issue+article)\n",
    "        title = process_phrase(title)\n",
    "        words = title.split(\" \")\n",
    "        df_files=df_files.append(pd.Series(name=doi, index=[\"journal\"], data=journal))\n",
    "        df = df.join(pd.Series(*np.unique(words, return_counts=True)[::-1], name=doi), how=\"outer\")\n",
    "        df_meta = df_meta.join(pd.Series(index=labels, data=1, name=doi), how=\"outer\")\n",
    "        df_authors = df_authors.join(pd.Series(index=[len(authors)], data=1, name=doi), how=\"outer\")\n",
    "        #df_areas = df_areas.join(pd.Series(index=areas, data=1, name=doi), how=\"outer\")\n",
    "    return df, df_meta, df_files, df_authors"
   ]
  },
  {
   "cell_type": "code",
   "execution_count": null,
   "id": "7206037e",
   "metadata": {},
   "outputs": [],
   "source": [
    "import multiprocessing as mp"
   ]
  },
  {
   "cell_type": "code",
   "execution_count": null,
   "id": "e3fcc16a",
   "metadata": {},
   "outputs": [],
   "source": [
    "pool = mp.Pool(12)\n",
    "\n",
    "work = pool.map_async(get_journal_dfs, [\"PRA\", \"PRB\", \"PRC\", \"PRD\", \"PRE\"], error_callback=lambda err: log.debug(err))\n",
    "\n",
    "pool.close()\n",
    "pool.join()"
   ]
  },
  {
   "cell_type": "code",
   "execution_count": null,
   "id": "3958db43",
   "metadata": {},
   "outputs": [],
   "source": [
    "df = pd.DataFrame()\n",
    "df_meta = pd.DataFrame()\n",
    "df_authors = pd.DataFrame()\n",
    "df_files = pd.DataFrame(columns=[\"journal\"])\n",
    "\n",
    "for (df_j, df_meta_j, df_files_j, df_authors_j) in work.get():\n",
    "    df = df.join(df_j, how=\"outer\") # join new articles\n",
    "    df_meta = df_meta.join(df_meta_j, how=\"outer\") #join new articles\n",
    "    df_files = df_files.append(df_files_j) #append new articles\n",
    "    df_authors = df_authors.join(df_authors_j, how=\"outer\") #append new authors"
   ]
  },
  {
   "cell_type": "code",
   "execution_count": null,
   "id": "bbe5ef77",
   "metadata": {},
   "outputs": [],
   "source": [
    "df = df.fillna(0).astype(int).drop_duplicates()\n",
    "\n",
    "df = df.reindex(index = list(filter(lambda w:len(w)>0,df.index)))\n",
    "\n",
    "'''\n",
    "do reindex in two steps to avoid undefined behaviour\n",
    "the sum is made on the new index\n",
    "'''\n",
    "O = df.apply(lambda x: (x>0).sum(), axis=1)\n",
    "df = df.reindex(index = df.index[O>5]) #words that appear in at least # tweets \n",
    "df = df.reindex(columns = df.columns[df.sum(0) > 5]) #titles with at least # word with repetition\n",
    "\n",
    "df_meta = df_meta.fillna(0).astype(int).drop_duplicates()\n",
    "\n",
    "df_meta = df_meta.reindex(index=df_meta.index[df_meta.sum(1)>1]) # Keywords with at least # papers\n",
    "df_meta = df_meta.reindex(columns=df.columns) # match df index\n",
    "\n",
    "df_authors = df_authors.reindex(columns=df.columns)\n",
    "df_authors = df_authors.drop_duplicates()\n",
    "df_authors = df_authors.reindex(index=df_authors.index[~df_authors.index.duplicated(keep=\"first\")])\n",
    "\n",
    "df_authors = df_authors.reindex(index=df_authors.index[df_authors.sum(1)>1]) # Authors with at least # papers\n",
    "\n",
    "df_files=df_files.reindex(index=df.columns)"
   ]
  },
  {
   "cell_type": "code",
   "execution_count": null,
   "id": "ae165a35",
   "metadata": {},
   "outputs": [],
   "source": [
    "df_files[\"journal\"].unique()"
   ]
  },
  {
   "cell_type": "code",
   "execution_count": null,
   "id": "17d0821e",
   "metadata": {},
   "outputs": [],
   "source": [
    "df.sum(0).min()"
   ]
  },
  {
   "cell_type": "code",
   "execution_count": null,
   "id": "83a6b4dd",
   "metadata": {},
   "outputs": [],
   "source": [
    "print(df.shape)\n",
    "print(df_meta.shape)\n",
    "print(df_files.shape)\n",
    "print(df_authors.shape)"
   ]
  },
  {
   "cell_type": "code",
   "execution_count": null,
   "id": "8c8a2f5a",
   "metadata": {},
   "outputs": [],
   "source": [
    "df_meta.sum(1)"
   ]
  },
  {
   "cell_type": "code",
   "execution_count": null,
   "id": "60cc3a84",
   "metadata": {},
   "outputs": [],
   "source": [
    "import matplotlib.pyplot as plt"
   ]
  },
  {
   "cell_type": "code",
   "execution_count": null,
   "id": "c9ef7fa0",
   "metadata": {},
   "outputs": [],
   "source": [
    "fig, ax = plt.subplots()\n",
    "df.divide(df.sum(0),1).mean(1).sort_values(ascending=False).plot(ax=ax)\n",
    "\n",
    "x = np.linspace(1,1e3)\n",
    "ax.plot(x,1e-1*x**(-0.9))\n",
    "\n",
    "ax.set_yscale(\"log\")\n",
    "ax.set_xscale(\"log\")\n",
    "fig.savefig(\"zipf.pdf\")"
   ]
  },
  {
   "cell_type": "markdown",
   "id": "9017f6f8",
   "metadata": {},
   "source": [
    "# Make hSBM graph"
   ]
  },
  {
   "cell_type": "code",
   "execution_count": null,
   "id": "c92e21a3",
   "metadata": {},
   "outputs": [],
   "source": [
    "%load_ext autoreload\n",
    "%autoreload 2\n",
    "import sys\n",
    "sys.path.append(\"../../hSBM_Topicmodel/\")\n",
    "from sbmtm import sbmtm"
   ]
  },
  {
   "cell_type": "code",
   "execution_count": null,
   "id": "d6855562",
   "metadata": {},
   "outputs": [],
   "source": [
    "sbmtm = sbmtm()\n",
    "sbmtm.make_graph_from_BoW_df(df)\n",
    "sbmtm.save_graph(\"aps.xml.gz\")"
   ]
  },
  {
   "cell_type": "code",
   "execution_count": null,
   "id": "95b7fd2a",
   "metadata": {},
   "outputs": [],
   "source": [
    "g = sbmtm.g\n",
    "g"
   ]
  },
  {
   "cell_type": "code",
   "execution_count": null,
   "id": "2142e5c4",
   "metadata": {},
   "outputs": [],
   "source": [
    "sbmtm.fit(n_init=5, verbose=False, B_min=10, parallel=True)"
   ]
  },
  {
   "cell_type": "code",
   "execution_count": null,
   "id": "87bf7699",
   "metadata": {},
   "outputs": [],
   "source": [
    "os.system(\"rm -rf aps\")\n",
    "os.system(\"mkdir -p aps\")\n",
    "os.chdir(\"aps/\")\n",
    "df_files.to_csv(\"files.dat\")\n",
    "os.system(\"mkdir -p topsbm\")\n",
    "os.chdir(\"topsbm/\")\n",
    "sbmtm.save_data()\n",
    "sbmtm.save_graph()\n",
    "os.chdir(\"../../\")"
   ]
  },
  {
   "cell_type": "code",
   "execution_count": null,
   "id": "e47b8647",
   "metadata": {},
   "outputs": [],
   "source": [
    "gt.draw_hierarchy(sbmtm.state, layout=\"bipartite\", hedge_pen_width=8, hvertex_size=25, vertex_color=sbmtm.g.vertex_properties[\"kind\"])"
   ]
  },
  {
   "cell_type": "code",
   "execution_count": null,
   "id": "8ebdbac5",
   "metadata": {},
   "outputs": [],
   "source": [
    "with open(\"sbmtm.pkl\", \"wb\") as file:\n",
    "    pickle.dump(sbmtm, file)"
   ]
  },
  {
   "cell_type": "markdown",
   "id": "eea0c389",
   "metadata": {},
   "source": [
    "## triSBM"
   ]
  },
  {
   "cell_type": "code",
   "execution_count": null,
   "id": "628f1b4f",
   "metadata": {},
   "outputs": [],
   "source": [
    "%load_ext autoreload\n",
    "%autoreload 2\n",
    "sys.path.append(\"../../trisbm/\")\n",
    "from trisbm import trisbm"
   ]
  },
  {
   "cell_type": "code",
   "execution_count": null,
   "id": "f2d77878",
   "metadata": {},
   "outputs": [],
   "source": [
    "trisbm = trisbm()\n",
    "trisbm.make_graph(df.append(df_meta), lambda word_keyword: 2 if word_keyword in df_meta.index else 1)"
   ]
  },
  {
   "cell_type": "code",
   "execution_count": null,
   "id": "04eeaeaf",
   "metadata": {},
   "outputs": [],
   "source": [
    "trisbm.save_graph(\"aps_keyword.xml.gz\")"
   ]
  },
  {
   "cell_type": "code",
   "execution_count": null,
   "id": "b133fbdf",
   "metadata": {},
   "outputs": [],
   "source": [
    "trisbm.fit(n_init=5, verbose=False, B_min=15)"
   ]
  },
  {
   "cell_type": "code",
   "execution_count": null,
   "id": "f30bce08",
   "metadata": {},
   "outputs": [],
   "source": [
    "import os"
   ]
  },
  {
   "cell_type": "code",
   "execution_count": null,
   "id": "e3f7e75f",
   "metadata": {},
   "outputs": [],
   "source": [
    "os.system(\"mkdir -p aps_key\")\n",
    "os.system(\"mkdir -p aps_key\")\n",
    "os.chdir(\"aps_key/\")\n",
    "df_files.to_csv(\"files.dat\")\n",
    "os.system(\"mkdir -p trisbm\")\n",
    "os.chdir(\"trisbm/\")\n",
    "trisbm.save_data()\n",
    "trisbm.save_graph()\n",
    "os.chdir(\"../../\")"
   ]
  },
  {
   "cell_type": "code",
   "execution_count": null,
   "id": "eaea5227",
   "metadata": {},
   "outputs": [],
   "source": [
    "gt.draw_hierarchy(trisbm.state, \n",
    "                  #pos=gt.sfdp_layout(model.g),\n",
    "                  hedge_pen_width=8, \n",
    "                  hvertex_size=25, \n",
    "                  vertex_color=trisbm.g.vertex_properties[\"kind\"]\n",
    "                 )"
   ]
  },
  {
   "cell_type": "code",
   "execution_count": null,
   "id": "1e736edf",
   "metadata": {},
   "outputs": [],
   "source": [
    "with open(\"trisbm.pkl\", \"wb\") as file:\n",
    "    pickle.dump(trisbm, file)"
   ]
  },
  {
   "cell_type": "markdown",
   "id": "80d33128",
   "metadata": {},
   "source": [
    "## nSBM"
   ]
  },
  {
   "cell_type": "code",
   "execution_count": null,
   "id": "850c4701",
   "metadata": {},
   "outputs": [],
   "source": [
    "%load_ext autoreload\n",
    "%autoreload 2\n",
    "sys.path.append(\"../../trisbm/\")\n",
    "from trisbm import trisbm"
   ]
  },
  {
   "cell_type": "code",
   "execution_count": null,
   "id": "d3e26617",
   "metadata": {},
   "outputs": [],
   "source": [
    "nsbm = trisbm()\n",
    "nsbm.make_graph_multiple_df(df, [df_meta, df_authors])"
   ]
  },
  {
   "cell_type": "code",
   "execution_count": null,
   "id": "a56ebee7",
   "metadata": {},
   "outputs": [],
   "source": [
    "nsbm.save_graph(\"aps_authors.xml.gz\")"
   ]
  },
  {
   "cell_type": "code",
   "execution_count": null,
   "id": "ba4c2fc2",
   "metadata": {},
   "outputs": [],
   "source": [
    "nsbm.fit(n_init=5, verbose=False, B_min=20)"
   ]
  },
  {
   "cell_type": "code",
   "execution_count": null,
   "id": "98f61bf2",
   "metadata": {},
   "outputs": [],
   "source": [
    "import os"
   ]
  },
  {
   "cell_type": "code",
   "execution_count": null,
   "id": "67c65452",
   "metadata": {},
   "outputs": [],
   "source": [
    "os.system(\"mkdir -p aps_authors_count\")\n",
    "os.system(\"mkdir -p aps_authors_count\")\n",
    "os.chdir(\"aps_authors_count/\")\n",
    "df_files.to_csv(\"files.dat\")\n",
    "os.system(\"mkdir -p trisbm\")\n",
    "os.chdir(\"trisbm/\")\n",
    "nsbm.save_data()\n",
    "nsbm.save_graph()\n",
    "os.chdir(\"../../\")"
   ]
  },
  {
   "cell_type": "code",
   "execution_count": null,
   "id": "1baf2247",
   "metadata": {},
   "outputs": [],
   "source": [
    "nsbm.draw( \n",
    "                  #subsample_edges=20000,\n",
    "                  hedge_pen_width=8, \n",
    "                  hvertex_size=25, \n",
    "                  vertex_size=8,\n",
    "                  #vertex_color=nsbm.g.vertex_properties[\"kind\"],\n",
    "                  #vertex_fill_color=nsbm.g.vertex_properties[\"kind\"],\n",
    "                  edge_color=\"red\",\n",
    "                  #edge_pen_width=nsbm.g.edge_properties[\"count\"]\n",
    "                  output=\"nsbm_auth.png\"\n",
    "                 )"
   ]
  },
  {
   "cell_type": "code",
   "execution_count": null,
   "id": "24abc000",
   "metadata": {},
   "outputs": [],
   "source": [
    "with open(\"nsbm.pkl\", \"wb\") as file:\n",
    "    pickle.dump(nsbm, file)"
   ]
  },
  {
   "cell_type": "markdown",
   "id": "88578c03",
   "metadata": {},
   "source": [
    "## Benchmark"
   ]
  },
  {
   "cell_type": "code",
   "execution_count": null,
   "id": "a0d56f97",
   "metadata": {},
   "outputs": [],
   "source": [
    "from topicpy.hsbmpy import get_scores, get_scores_shuffled, add_score_lines, normalise_score\n",
    "import matplotlib.pyplot as plt\n",
    "import pandas as pd\n",
    "import os"
   ]
  },
  {
   "cell_type": "code",
   "execution_count": null,
   "id": "599239e9",
   "metadata": {},
   "outputs": [],
   "source": [
    "labels = [\"journal\"]\n",
    "scores = get_scores(\"aps_key\", labels, algorithm=\"trisbm\", verbose=False)\n",
    "scores['trisbm'] = scores[labels[0]]\n",
    "scores[\"hsbm\"]=get_scores(\"aps\", labels, algorithm=\"topsbm\", verbose=False)[labels[0]]\n",
    "scores[\"nsbm_nauth\"]=get_scores(\"aps_authors_count\", labels, algorithm=\"trisbm\", verbose=False)[labels[0]]\n",
    "#scores[\"nsbm_zip\"]=get_scores(\"aps_zip\", labels, algorithm=\"trisbm\", verbose=False)[labels[0]]\n",
    "scores['shuffle'] = get_scores_shuffled(\"aps_key\", pd.read_csv(\"aps/files.dat\", sep=\",\", index_col=0), label=labels[0], algorithm='trisbm')\n",
    "normalise_score(scores, base_algorithm=\"shuffle\", operation=lambda x,y: x/y)"
   ]
  },
  {
   "cell_type": "code",
   "execution_count": null,
   "id": "32a8acb4",
   "metadata": {},
   "outputs": [],
   "source": [
    "fig=plt.figure(figsize=(18,15))\n",
    "ax = fig.subplots(1)\n",
    "add_score_lines(ax,scores,labels=[\"hsbm\", \"trisbm\", \"nsbm_nauth\", \"shuffle\"], V=\"norm_V\", alpha=1)\n",
    "ax.set_xscale('log')\n",
    "ax.set_ylim(0,max(map(lambda s: max(s[\"norm_V\"]), scores.values()))*1.1)\n",
    "ax.set_xlim(0,10)\n",
    "\n",
    "plt.show()\n",
    "fig.savefig(\"metric_scores.pdf\")"
   ]
  },
  {
   "cell_type": "code",
   "execution_count": null,
   "id": "cc5ceaf9",
   "metadata": {},
   "outputs": [],
   "source": [
    "import plotly.graph_objects as go"
   ]
  },
  {
   "cell_type": "code",
   "execution_count": null,
   "id": "1cf04393",
   "metadata": {},
   "outputs": [],
   "source": [
    "fig = go.Figure()\n",
    "fig.add_traces([\n",
    "    go.Bar(x=[0], y = [sbmtm.get_mdl()/sbmtm.g.num_edges()], name=\"hSBM\"),\n",
    "    go.Bar(x=[1],y = [trisbm.get_mdl()/trisbm.g.num_edges()], name=\"triSBM\"),\n",
    "    go.Bar(x=[2],y = [nsbm.get_mdl()/nsbm.g.num_edges()], name=\"nSBM\")\n",
    "])\n",
    "\n",
    "titlefont = {\n",
    "    \"size\": 30 \n",
    "}\n",
    "\n",
    "tickfont = {\n",
    "    \"size\":25\n",
    "}\n",
    "\n",
    "layout = {\n",
    "    \"title\":\"APS dataset\",\n",
    "    \"xaxis\":{\n",
    "        \"title\": \"Setting\",\n",
    "        \"titlefont\": titlefont,\n",
    "        \"tickfont\": tickfont,\n",
    "        \"tickmode\":\"array\",\n",
    "        \"tickvals\":[0,1,2],\n",
    "        \"ticktext\":[\"hSBM\", \"triSBM\", \"nSBM\"]\n",
    "    },\n",
    "    \"yaxis\":{\n",
    "        \"title\": \"∑/E\",\n",
    "        \"type\":\"log\",\n",
    "        #\"range\": [10e3,20e3],\n",
    "        \"titlefont\": titlefont,\n",
    "        \"tickfont\": tickfont\n",
    "    },\n",
    "    \"legend\":{\n",
    "        \"font_size\":35\n",
    "    }\n",
    "}\n",
    "\n",
    "fig.update_layout(layout)\n",
    "fig.show()\n",
    "\n",
    "fig.write_image(\"metric_entropies_bar_htrisn.pdf\")"
   ]
  },
  {
   "cell_type": "code",
   "execution_count": null,
   "id": "a4e45fcb",
   "metadata": {},
   "outputs": [],
   "source": [
    "fig = go.Figure()\n",
    "fig.add_traces([\n",
    "    go.Bar(y=scores[\"hsbm\"][\"norm_V\"], name=\"hSBM\"),\n",
    "    go.Bar(y=scores[\"trisbm\"][\"norm_V\"], name=\"triSBM\")\n",
    "])\n",
    "\n",
    "titlefont = {\n",
    "    \"size\": 30 \n",
    "}\n",
    "\n",
    "tickfont = {\n",
    "    \"size\":25\n",
    "}\n",
    "\n",
    "layout = {\n",
    "    \"title\":\"APS dataset\",\n",
    "    \"xaxis\":{\n",
    "        \"title\": \"Resolution\",\n",
    "        \"titlefont\": titlefont,\n",
    "        \"tickfont\": tickfont\n",
    "    },\n",
    "    \"yaxis\":{\n",
    "        \"title\": \"NMI/NMI*\",\n",
    "        \"titlefont\": titlefont,\n",
    "        \"tickfont\": tickfont\n",
    "    },\n",
    "    \"legend\":{\n",
    "        \"font_size\":35\n",
    "    }\n",
    "}\n",
    "\n",
    "fig.update_layout(layout)\n",
    "#fig.write_image(\"metric_scores_bar.pdf\")"
   ]
  },
  {
   "cell_type": "code",
   "execution_count": null,
   "id": "3d12db46",
   "metadata": {},
   "outputs": [],
   "source": [
    "from topicpy.hsbmpy import clusteranalysis"
   ]
  },
  {
   "cell_type": "code",
   "execution_count": null,
   "id": "89365a1e",
   "metadata": {},
   "outputs": [],
   "source": [
    "clusteranalysis(os.getcwd()+\"/aps/\", [\"journal\"], algorithm=\"topsbm\")\n",
    "clusteranalysis(os.getcwd()+\"/aps_key/\", [\"journal\"], algorithm=\"trisbm\")"
   ]
  },
  {
   "cell_type": "markdown",
   "id": "e51e6a7f",
   "metadata": {},
   "source": [
    "# Read"
   ]
  },
  {
   "cell_type": "code",
   "execution_count": null,
   "id": "018fbe67",
   "metadata": {},
   "outputs": [],
   "source": [
    "import cloudpickle as pickle\n",
    "\n",
    "with open(\"sbmtm.pkl\", \"rb\") as file:\n",
    "    sbmtm = pickle.load(file)\n",
    "    \n",
    "with open(\"trisbm.pkl\", \"rb\") as file:\n",
    "    trisbm = pickle.load(file)\n",
    "    \n",
    "with open(\"nsbm.pkl\", \"rb\") as file:\n",
    "    nsbm = pickle.load(file)"
   ]
  },
  {
   "cell_type": "code",
   "execution_count": null,
   "id": "409db4bf",
   "metadata": {},
   "outputs": [],
   "source": []
  }
 ],
 "metadata": {
  "kernelspec": {
   "display_name": "Python 3",
   "language": "python",
   "name": "python3"
  },
  "language_info": {
   "codemirror_mode": {
    "name": "ipython",
    "version": 3
   },
   "file_extension": ".py",
   "mimetype": "text/x-python",
   "name": "python",
   "nbconvert_exporter": "python",
   "pygments_lexer": "ipython3",
   "version": "3.8.8"
  }
 },
 "nbformat": 4,
 "nbformat_minor": 5
}

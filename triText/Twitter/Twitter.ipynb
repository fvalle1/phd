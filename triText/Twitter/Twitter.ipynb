{
 "cells": [
  {
   "cell_type": "markdown",
   "id": "protected-waters",
   "metadata": {},
   "source": [
    "http://www.nltk.org/nltk_data/"
   ]
  },
  {
   "cell_type": "code",
   "execution_count": null,
   "id": "moderate-convertible",
   "metadata": {},
   "outputs": [],
   "source": [
    "import numpy as np\n",
    "import pandas as pd\n",
    "import json\n",
    "import logging\n",
    "import os\n",
    "log = logging.getLogger(\"twitter\")\n",
    "hdl = logging.StreamHandler()\n",
    "hdl.setLevel(logging.DEBUG)\n",
    "log.addHandler(hdl)"
   ]
  },
  {
   "cell_type": "code",
   "execution_count": null,
   "id": "southern-michigan",
   "metadata": {},
   "outputs": [],
   "source": [
    "data = {}\n",
    "\n",
    "with open(\"samples/positive_tweets.json\", \"r\") as file:\n",
    "    data[\"positive\"] = file.readlines()[:1000]\n",
    "    \n",
    "with open(\"samples/negative_tweets.json\", \"r\") as file:\n",
    "    data[\"negative\"] = file.readlines()[:1000]"
   ]
  },
  {
   "cell_type": "code",
   "execution_count": null,
   "id": "european-stress",
   "metadata": {},
   "outputs": [],
   "source": [
    "import inflect\n",
    "import regex as re\n",
    "inflect_engine = inflect.engine()\n",
    "\n",
    "def singularize(word):\n",
    "    singular = inflect_engine.singular_noun(word) #singularize\n",
    "    if singular != False:\n",
    "        return singular\n",
    "    else:\n",
    "        return word\n",
    "\n",
    "def process_phrase(string: str):\n",
    "    string = re.sub('[\\t\\n]{1,}', '', string) #remove \\n\n",
    "    string = re.sub('&[a-zA-Z0-9]{1,}', '', string) #remove &aa\n",
    "    string = re.sub('<[^<]+?>', '', string) #remove html\n",
    "    string = re.sub('\\([^<]+?\\)', '', string) #parentesis\n",
    "    string = re.sub('[-\\.\\:\\\\\",!()?;_]', '', string) #special characters\n",
    "    string = re.sub('/', ' ', string) #replace / with space\n",
    "    string = re.sub('[ ]{2,}', '', string) # remove double spaces\n",
    "    string = re.sub('[0-9]{1,}', '', string) # remove numbers\n",
    "    string = re.sub('#[a-zA-Z0-9]{1,}', '', string) # remove hastangs\n",
    "    string = re.sub('@[_a-zA-Z0-9]{1,}', '', string) # remove hastang\n",
    "    string = re.sub(' r ', ' are ', string) # r->are\n",
    "    string = re.sub(' u ', ' you ', string) #u->you\n",
    "    string = re.sub(' i ', ' I ', string) #i I\n",
    "    string = re.sub('i\\'ll', 'I will', string) #i'll\n",
    "    string = string.lower()\n",
    "    string = ' '.join(list(map(singularize, string.split(\" \"))))\n",
    "    return string\n",
    "\n",
    "def get_hastangs(tweet):\n",
    "    return list(map(lambda hashtang: hashtang[\"text\"],tweet[\"entities\"][\"hashtags\"]))"
   ]
  },
  {
   "cell_type": "code",
   "execution_count": null,
   "id": "handmade-sister",
   "metadata": {},
   "outputs": [],
   "source": [
    "def get_tweet_dfs(tweet_data, tweet_type=\"positive\"):\n",
    "    df = pd.DataFrame()\n",
    "    df_meta = pd.DataFrame()\n",
    "    df_files = pd.DataFrame(columns=[\"kind\"])\n",
    "    \n",
    "    tweet = json.loads(tweet_data)\n",
    "    text = process_phrase(tweet[\"text\"])\n",
    "    hastangs = get_hastangs(tweet)\n",
    "    name = \"id_\"+tweet[\"id_str\"]\n",
    "    \n",
    "    df_files=df_files.append(pd.Series(name=name, index=[\"kind\"], data=tweet_type))\n",
    "    df = df.join(pd.Series(*np.unique(text.split(\" \"), return_counts=True)[::-1], name=name), how=\"outer\")\n",
    "    df_meta = df_meta.join(pd.Series(index=hastangs, data=1, name=name), how=\"outer\")\n",
    "    \n",
    "    return df, df_meta, df_files\n",
    "\n",
    "def append_callback(x):\n",
    "    global df\n",
    "    global df_meta\n",
    "    global df_files\n",
    "    df_j, df_meta_j, df_files_j = x\n",
    "    try:\n",
    "        df = df.join(df_j, how=\"outer\") # join new articles\n",
    "        df_meta = df_meta.join(df_meta_j, how=\"outer\") #join new articles\n",
    "        df_files = df_files.append(df_files_j) \n",
    "    except:\n",
    "        pass"
   ]
  },
  {
   "cell_type": "code",
   "execution_count": null,
   "id": "nutritional-polish",
   "metadata": {},
   "outputs": [],
   "source": [
    "import multiprocessing as mp"
   ]
  },
  {
   "cell_type": "code",
   "execution_count": null,
   "id": "dirty-venture",
   "metadata": {},
   "outputs": [],
   "source": [
    "pool = {}\n",
    "work = {}\n",
    "\n",
    "df = pd.DataFrame()\n",
    "df_meta = pd.DataFrame()\n",
    "df_files = pd.DataFrame(columns=[\"kind\"])\n",
    "\n",
    "for kind in [\"positive\", \"negative\"]: \n",
    "    pool[kind] = mp.Pool(6)\n",
    "\n",
    "    work[kind] = [pool[kind].apply_async(get_tweet_dfs, args=([d,kind]), callback=append_callback, error_callback=lambda err: log.debug(err)) for d in data[kind]]\n",
    "\n",
    "    pool[kind].close()\n",
    "    \n",
    "pool[\"positive\"].join()\n",
    "pool[\"negative\"].join()"
   ]
  },
  {
   "cell_type": "code",
   "execution_count": null,
   "id": "south-demonstration",
   "metadata": {},
   "outputs": [],
   "source": [
    "df = df.fillna(0).astype(int).drop_duplicates()\n",
    "\n",
    "'''\n",
    "do reindex in two steps to avoid undefined behaviour\n",
    "the sum is made on the new index\n",
    "'''\n",
    "df = df.reindex(index = df.index[df.sum(1) >= 5]) #words that appear in at least # tweets \n",
    "df = df.reindex(columns = df.columns[df.sum(0) > 5]) #tweets with at least # word \n",
    "\n",
    "df_meta = df_meta.fillna(0).astype(int).drop_duplicates()\n",
    "\n",
    "df_meta = df_meta.reindex(columns=df.columns) # match df index\n",
    "df_meta = df_meta.reindex(index=df_meta.index[df_meta.sum(1)>1]) # Keywords with at least # tweet\n",
    "\n",
    "df_files=df_files.reindex(index=df.columns)"
   ]
  },
  {
   "cell_type": "code",
   "execution_count": null,
   "id": "champion-gauge",
   "metadata": {},
   "outputs": [],
   "source": [
    "df.sum(0).min()"
   ]
  },
  {
   "cell_type": "code",
   "execution_count": null,
   "id": "quarterly-clerk",
   "metadata": {},
   "outputs": [],
   "source": [
    "print(df.shape)\n",
    "print(df_meta.shape)\n",
    "print(df_files.shape)"
   ]
  },
  {
   "cell_type": "code",
   "execution_count": null,
   "id": "timely-biology",
   "metadata": {},
   "outputs": [],
   "source": [
    "df_meta.sum(1)"
   ]
  },
  {
   "cell_type": "code",
   "execution_count": null,
   "id": "roman-friday",
   "metadata": {},
   "outputs": [],
   "source": [
    "import matplotlib.pyplot as plt"
   ]
  },
  {
   "cell_type": "code",
   "execution_count": null,
   "id": "approximate-conducting",
   "metadata": {},
   "outputs": [],
   "source": [
    "fig, ax = plt.subplots()\n",
    "df.divide(df.sum(0),1).mean(1).sort_values(ascending=False).plot(ax=ax)\n",
    "\n",
    "x = np.linspace(2,3e2)\n",
    "ax.plot(x,2e-1*x**(-1))\n",
    "\n",
    "ax.set_yscale(\"log\")\n",
    "ax.set_xscale(\"log\")"
   ]
  },
  {
   "cell_type": "markdown",
   "id": "horizontal-summit",
   "metadata": {},
   "source": [
    "# Make hSBM graph"
   ]
  },
  {
   "cell_type": "code",
   "execution_count": null,
   "id": "prescription-bunny",
   "metadata": {},
   "outputs": [],
   "source": [
    "import sys\n",
    "sys.path.append(\"../hSBM_Topicmodel/\")"
   ]
  },
  {
   "cell_type": "code",
   "execution_count": null,
   "id": "hollywood-macedonia",
   "metadata": {},
   "outputs": [],
   "source": [
    "import graph_tool.all as gt\n",
    "from sbmtm import sbmtm"
   ]
  },
  {
   "cell_type": "code",
   "execution_count": null,
   "id": "favorite-saudi",
   "metadata": {},
   "outputs": [],
   "source": [
    "sbmtm = sbmtm()\n",
    "sbmtm.make_graph_from_BoW_df(df)\n",
    "sbmtm.save_graph(\"twitter.xml.gz\")"
   ]
  },
  {
   "cell_type": "code",
   "execution_count": null,
   "id": "together-cookie",
   "metadata": {},
   "outputs": [],
   "source": [
    "g = sbmtm.g\n",
    "g"
   ]
  },
  {
   "cell_type": "code",
   "execution_count": null,
   "id": "talented-letter",
   "metadata": {},
   "outputs": [],
   "source": [
    "sbmtm.fit(n_init=5, verbose=False, B_min=10, parallel=True)"
   ]
  },
  {
   "cell_type": "code",
   "execution_count": null,
   "id": "accepted-declaration",
   "metadata": {},
   "outputs": [],
   "source": [
    "os.system(\"mkdir -p twitter\")\n",
    "os.chdir(\"twitter/\")\n",
    "df_files.to_csv(\"files.dat\")\n",
    "os.system(\"mkdir -p topsbm\")\n",
    "os.chdir(\"topsbm/\")\n",
    "sbmtm.save_data()\n",
    "sbmtm.save_graph()\n",
    "os.chdir(\"../../\")"
   ]
  },
  {
   "cell_type": "code",
   "execution_count": null,
   "id": "weird-range",
   "metadata": {},
   "outputs": [],
   "source": [
    "gt.draw_hierarchy(sbmtm.state, layout=\"bipartite\", hedge_pen_width=8, hvertex_size=25, vertex_kind=sbmtm.g.vertex_properties[\"kind\"])"
   ]
  },
  {
   "cell_type": "markdown",
   "id": "copyrighted-meter",
   "metadata": {},
   "source": [
    "## triSBM"
   ]
  },
  {
   "cell_type": "code",
   "execution_count": null,
   "id": "exceptional-dayton",
   "metadata": {},
   "outputs": [],
   "source": [
    "sys.path.append(\"../trisbm/\")\n",
    "from trisbm import trisbm"
   ]
  },
  {
   "cell_type": "code",
   "execution_count": null,
   "id": "essential-antarctica",
   "metadata": {},
   "outputs": [],
   "source": [
    "trisbm = trisbm()\n",
    "trisbm.make_graph(df.append(df_meta), lambda word_keyword: 2 if word_keyword in df_meta.index else 1)"
   ]
  },
  {
   "cell_type": "code",
   "execution_count": null,
   "id": "excellent-architecture",
   "metadata": {},
   "outputs": [],
   "source": [
    "trisbm.save_graph(\"twitter_keyword.xml.gz\")"
   ]
  },
  {
   "cell_type": "code",
   "execution_count": null,
   "id": "polyphonic-champion",
   "metadata": {},
   "outputs": [],
   "source": [
    "trisbm.fit(n_init=5, verbose=False, B_min=15)"
   ]
  },
  {
   "cell_type": "code",
   "execution_count": null,
   "id": "gross-module",
   "metadata": {},
   "outputs": [],
   "source": [
    "import os"
   ]
  },
  {
   "cell_type": "code",
   "execution_count": null,
   "id": "valid-independence",
   "metadata": {},
   "outputs": [],
   "source": [
    "os.system(\"mkdir -p twitter_key\")\n",
    "os.chdir(\"twitter_key/\")\n",
    "df_files.to_csv(\"files.dat\")\n",
    "os.system(\"mkdir -p trisbm\")\n",
    "os.chdir(\"trisbm/\")\n",
    "trisbm.save_data()\n",
    "trisbm.save_graph()\n",
    "os.chdir(\"../../\")"
   ]
  },
  {
   "cell_type": "code",
   "execution_count": null,
   "id": "agricultural-brunei",
   "metadata": {},
   "outputs": [],
   "source": [
    "gt.draw_hierarchy(trisbm.state, \n",
    "                  #pos=gt.sfdp_layout(model.g),\n",
    "                  hedge_pen_width=8, \n",
    "                  hvertex_size=25, \n",
    "                  vertex_kind=trisbm.g.vertex_properties[\"kind\"]\n",
    "                 )"
   ]
  },
  {
   "cell_type": "markdown",
   "id": "velvet-pointer",
   "metadata": {},
   "source": [
    "## Benchmark"
   ]
  },
  {
   "cell_type": "code",
   "execution_count": null,
   "id": "endless-conflict",
   "metadata": {},
   "outputs": [],
   "source": [
    "from topicpy.hsbmpy import get_scores, get_scores_shuffled, add_score_lines, normalise_score\n",
    "import matplotlib.pyplot as plt\n",
    "import pandas as pd\n",
    "import os"
   ]
  },
  {
   "cell_type": "code",
   "execution_count": null,
   "id": "fantastic-ambassador",
   "metadata": {},
   "outputs": [],
   "source": [
    "labels = [\"kind\"]\n",
    "scores = get_scores(\"twitter_key\", labels, algorithm=\"trisbm\", verbose=False, df_files=df_files)\n",
    "scores['trisbm'] = scores[labels[0]]\n",
    "scores[\"hsbm\"]=get_scores(\"twitter\", labels, algorithm=\"topsbm\", verbose=False, df_files=df_files)[labels[0]]\n",
    "scores['shuffle'] = get_scores_shuffled(\"twitter_key\", df_files, label=labels[0], algorithm='trisbm')\n",
    "normalise_score(scores, base_algorithm=\"shuffle\", operation=lambda x,y: x/y)"
   ]
  },
  {
   "cell_type": "code",
   "execution_count": null,
   "id": "ethical-collect",
   "metadata": {},
   "outputs": [],
   "source": [
    "fig=plt.figure(figsize=(18,15))\n",
    "ax = fig.subplots(1)\n",
    "add_score_lines(ax,scores,labels=[\"hsbm\",\"trisbm\", \"shuffle\"], V=\"norm_V\", alpha=1)\n",
    "ax.set_xscale('log')\n",
    "ax.set_ylim(0,max(map(lambda s: max(s[\"norm_V\"]), scores.values()))*1.1)\n",
    "ax.set_xlim(0,10)\n",
    "\n",
    "plt.show()\n",
    "fig.savefig(\"metric_scores.pdf\")"
   ]
  },
  {
   "cell_type": "code",
   "execution_count": null,
   "id": "wooden-stanley",
   "metadata": {},
   "outputs": [],
   "source": [
    "import plotly.graph_objects as go"
   ]
  },
  {
   "cell_type": "code",
   "execution_count": null,
   "id": "indian-calibration",
   "metadata": {},
   "outputs": [],
   "source": [
    "fig = go.Figure()\n",
    "fig.add_traces([\n",
    "    go.Bar(y=scores[\"hsbm\"][\"norm_V\"], name=\"hSBM\"),\n",
    "    go.Bar(y=scores[\"trisbm\"][\"norm_V\"], name=\"triSBM\")\n",
    "])\n",
    "\n",
    "titlefont = {\n",
    "    \"size\": 30 \n",
    "}\n",
    "\n",
    "tickfont = {\n",
    "    \"size\":25\n",
    "}\n",
    "\n",
    "layout = {\n",
    "    \"title\":\"Twitter dataset\",\n",
    "    \"xaxis\":{\n",
    "        \"title\": \"Resolution\",\n",
    "        \"titlefont\": titlefont,\n",
    "        \"tickfont\": tickfont\n",
    "    },\n",
    "    \"yaxis\":{\n",
    "        \"title\": \"NMI/NMI*\",\n",
    "        \"titlefont\": titlefont,\n",
    "        \"tickfont\": tickfont\n",
    "    },\n",
    "    \"legend\":{\n",
    "        \"font_size\":35\n",
    "    }\n",
    "}\n",
    "\n",
    "fig.update_layout(layout)\n",
    "#fig.write_image(\"metric_scores_bar.pdf\")"
   ]
  },
  {
   "cell_type": "code",
   "execution_count": null,
   "id": "official-bulletin",
   "metadata": {},
   "outputs": [],
   "source": [
    "from topicpy.hsbmpy import clusteranalysis"
   ]
  },
  {
   "cell_type": "code",
   "execution_count": null,
   "id": "extra-exercise",
   "metadata": {},
   "outputs": [],
   "source": [
    "clusteranalysis(os.getcwd()+\"/twitter/\", [\"kind\"], algorithm=\"topsbm\")\n",
    "clusteranalysis(os.getcwd()+\"/twitter_key/\", [\"kind\"], algorithm=\"trisbm\")"
   ]
  },
  {
   "cell_type": "code",
   "execution_count": null,
   "id": "fourth-endorsement",
   "metadata": {},
   "outputs": [],
   "source": []
  }
 ],
 "metadata": {
  "kernelspec": {
   "display_name": "Python 3",
   "language": "python",
   "name": "python3"
  },
  "language_info": {
   "codemirror_mode": {
    "name": "ipython",
    "version": 3
   },
   "file_extension": ".py",
   "mimetype": "text/x-python",
   "name": "python",
   "nbconvert_exporter": "python",
   "pygments_lexer": "ipython3",
   "version": "3.8.6"
  }
 },
 "nbformat": 4,
 "nbformat_minor": 5
}

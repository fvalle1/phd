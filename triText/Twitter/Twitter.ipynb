{
 "cells": [
  {
   "cell_type": "markdown",
   "id": "better-navigation",
   "metadata": {},
   "source": [
    "http://www.nltk.org/nltk_data/"
   ]
  },
  {
   "cell_type": "code",
   "execution_count": null,
   "id": "naval-health",
   "metadata": {},
   "outputs": [],
   "source": [
    "import numpy as np\n",
    "import pandas as pd\n",
    "import json\n",
    "import logging\n",
    "import os\n",
    "log = logging.getLogger(\"twitter\")\n",
    "hdl = logging.StreamHandler()\n",
    "hdl.setLevel(logging.DEBUG)\n",
    "log.addHandler(hdl)"
   ]
  },
  {
   "cell_type": "code",
   "execution_count": null,
   "id": "subjective-employer",
   "metadata": {},
   "outputs": [],
   "source": [
    "data = {}\n",
    "\n",
    "with open(\"samples/positive_tweets.json\", \"r\") as file:\n",
    "    data[\"positive\"] = file.readlines()\n",
    "    \n",
    "with open(\"samples/negative_tweets.json\", \"r\") as file:\n",
    "    data[\"negative\"] = file.readlines()"
   ]
  },
  {
   "cell_type": "code",
   "execution_count": null,
   "id": "guided-perth",
   "metadata": {},
   "outputs": [],
   "source": [
    "import inflect\n",
    "import regex as re\n",
    "inflect_engine = inflect.engine()\n",
    "\n",
    "def singularize(word):\n",
    "    singular = inflect_engine.singular_noun(word) #singularize\n",
    "    if singular != False:\n",
    "        return singular\n",
    "    else:\n",
    "        return word\n",
    "\n",
    "def process_phrase(string: str):\n",
    "    string = re.sub(' r ', ' are ', string) # r->are\n",
    "    string = re.sub(' u ', ' you ', string) #u->you\n",
    "    string = re.sub(' i ', ' I ', string) #i I\n",
    "    string = re.sub('I[\\'`]ll', 'I will', string) #i'll\n",
    "    string = re.sub('[\\'`]nt', ' not', string) #i'll\n",
    "    string = re.sub('[\\t\\n]{1,}', '', string) #remove \\n\n",
    "    string = re.sub('&[a-zA-Z0-9]{1,}', '', string) #remove &aa\n",
    "    string = re.sub('<[^<]+?>', '', string) #remove html\n",
    "    string = re.sub('\\([^<]+?\\)', '', string) #parentesis\n",
    "    string = re.sub('[-\\.\\:\\\\\",!()?;_\\'`¡ˆ]', '', string) #special characters\n",
    "    string = re.sub('/', ' ', string) #replace / with space\n",
    "    string = re.sub('[0-9]{1,}', '', string) # remove numbers\n",
    "    string = re.sub('#[a-zA-Z0-9]{1,}', '', string) # remove hashtags\n",
    "    string = re.sub('@[_a-zA-Z0-9]{1,}', '', string) # remove mentions\n",
    "    string = re.sub('[ ]{2,}', '', string) # remove double spaces\n",
    "    string = string.lower()\n",
    "    string = ' '.join(list(map(singularize, string.split(\" \"))))\n",
    "    return string\n",
    "\n",
    "def get_hastangs(tweet):\n",
    "    return list(map(lambda hashtang: hashtang[\"text\"],tweet[\"entities\"][\"hashtags\"]))"
   ]
  },
  {
   "cell_type": "code",
   "execution_count": null,
   "id": "broke-makeup",
   "metadata": {},
   "outputs": [],
   "source": [
    "def get_tweet_dfs(tweet_data, tweet_type=\"positive\"):\n",
    "    tweet = json.loads(tweet_data)\n",
    "    text = process_phrase(tweet[\"text\"])\n",
    "    words = text.split(\" \")\n",
    "    hashtags = [\"#\"+h for h in get_hastangs(tweet)]\n",
    "    name = \"id_\"+tweet[\"id_str\"]\n",
    "    \n",
    "    if len(hashtags) < 1:\n",
    "        return None\n",
    "    \n",
    "    df = pd.DataFrame()\n",
    "    df_meta = pd.DataFrame()\n",
    "    df_files = pd.DataFrame(columns=[\"kind\"])\n",
    "    \n",
    "    df_files=df_files.append(pd.Series(name=name, index=[\"kind\"], data=tweet_type))\n",
    "    df = df.join(pd.Series(*np.unique(words, return_counts=True)[::-1], name=name), how=\"outer\")\n",
    "    df_meta = df_meta.join(pd.Series(index=hashtags, data=1, name=name), how=\"outer\")\n",
    "    \n",
    "    return df, df_meta, df_files\n",
    "\n",
    "def append_callback(x):\n",
    "    global df\n",
    "    global df_meta\n",
    "    global df_files\n",
    "    if x is None:\n",
    "        return None\n",
    "    \n",
    "    df_j, df_meta_j, df_files_j = x\n",
    "    try:\n",
    "        df = df.join(df_j, how=\"outer\") # join new articles\n",
    "        df_meta = df_meta.join(df_meta_j, how=\"outer\") #join new articles\n",
    "        df_files = df_files.append(df_files_j) \n",
    "    except:\n",
    "        pass"
   ]
  },
  {
   "cell_type": "code",
   "execution_count": null,
   "id": "persistent-namibia",
   "metadata": {},
   "outputs": [],
   "source": [
    "import multiprocessing as mp"
   ]
  },
  {
   "cell_type": "code",
   "execution_count": null,
   "id": "apart-capitol",
   "metadata": {},
   "outputs": [],
   "source": [
    "pool = {}\n",
    "work = {}\n",
    "\n",
    "df = pd.DataFrame()\n",
    "df_meta = pd.DataFrame()\n",
    "df_files = pd.DataFrame(columns=[\"kind\"])\n",
    "\n",
    "for kind in [\"positive\", \"negative\"]: \n",
    "    pool[kind] = mp.Pool(6)\n",
    "\n",
    "    work[kind] = [pool[kind].apply_async(get_tweet_dfs, args=([d,kind]), callback=append_callback, error_callback=lambda err: log.debug(err)) for d in data[kind]]\n",
    "\n",
    "    pool[kind].close()\n",
    "    \n",
    "pool[\"positive\"].join()\n",
    "pool[\"negative\"].join()"
   ]
  },
  {
   "cell_type": "code",
   "execution_count": null,
   "id": "joint-catering",
   "metadata": {},
   "outputs": [],
   "source": [
    "df = df.fillna(0).astype(int).drop_duplicates()\n",
    "\n",
    "'''\n",
    "do reindex in two steps to avoid undefined behaviour\n",
    "the sum is made on the new index\n",
    "'''\n",
    "\n",
    "df = df.reindex(columns=df.columns[df.columns.isin(df_files.index.dropna())]) #be sure every columns has a file\n",
    "df = df.reindex(index=list(filter(lambda x:len(x)>0,df.index))) # remove '' from words\n",
    "\n",
    "O = df.apply(lambda x: (x>0).sum(), axis=1)\n",
    "df = df.reindex(index = df.index[O>2]) #words that appear in at least # tweets \n",
    "df = df.reindex(columns = df.columns[df.sum(0) > 5]) #docs that have at least # word with repetition \n",
    "\n",
    "df_meta = df_meta.fillna(0).astype(int).drop_duplicates()\n",
    "\n",
    "df_meta = df_meta[~df_meta.index.isin(df.index)]\n",
    "\n",
    "df_meta = df_meta.reindex(columns=df.columns) # match df index\n",
    "df_meta = df_meta.reindex(index=df_meta.index[df_meta.sum(1)>1]) # Keywords with at least # tweet"
   ]
  },
  {
   "cell_type": "code",
   "execution_count": null,
   "id": "removed-puzzle",
   "metadata": {},
   "outputs": [],
   "source": [
    "df.sum(0).min()"
   ]
  },
  {
   "cell_type": "code",
   "execution_count": null,
   "id": "continent-difference",
   "metadata": {},
   "outputs": [],
   "source": [
    "print(df.shape)\n",
    "print(df_meta.shape)\n",
    "print(df_files.shape)"
   ]
  },
  {
   "cell_type": "code",
   "execution_count": null,
   "id": "southwest-meeting",
   "metadata": {},
   "outputs": [],
   "source": [
    "df_meta.sum(1)"
   ]
  },
  {
   "cell_type": "code",
   "execution_count": null,
   "id": "regulation-knowing",
   "metadata": {},
   "outputs": [],
   "source": [
    "import matplotlib.pyplot as plt"
   ]
  },
  {
   "cell_type": "code",
   "execution_count": null,
   "id": "listed-companion",
   "metadata": {},
   "outputs": [],
   "source": [
    "fig, ax = plt.subplots()\n",
    "df.divide(df.sum(0),1).mean(1).sort_values(ascending=False).plot(ax=ax)\n",
    "\n",
    "x = np.linspace(2,df.shape[0])\n",
    "ax.plot(x,1.5e-1*x**(-1))\n",
    "\n",
    "ax.set_yscale(\"log\")\n",
    "ax.set_xscale(\"log\")\n",
    "fig.savefig(\"zipf.pdf\")"
   ]
  },
  {
   "cell_type": "markdown",
   "id": "qualified-preliminary",
   "metadata": {},
   "source": [
    "# Make hSBM graph"
   ]
  },
  {
   "cell_type": "code",
   "execution_count": null,
   "id": "velvet-glass",
   "metadata": {},
   "outputs": [],
   "source": [
    "import sys\n",
    "sys.path.append(\"../../hSBM_Topicmodel/\")"
   ]
  },
  {
   "cell_type": "code",
   "execution_count": null,
   "id": "educational-wesley",
   "metadata": {},
   "outputs": [],
   "source": [
    "import graph_tool.all as gt\n",
    "from sbmtm import sbmtm"
   ]
  },
  {
   "cell_type": "code",
   "execution_count": null,
   "id": "outdoor-heater",
   "metadata": {},
   "outputs": [],
   "source": [
    "sbmtm = sbmtm()\n",
    "sbmtm.make_graph_from_BoW_df(df)\n",
    "sbmtm.save_graph(\"twitter.xml.gz\")"
   ]
  },
  {
   "cell_type": "code",
   "execution_count": null,
   "id": "ambient-breathing",
   "metadata": {},
   "outputs": [],
   "source": [
    "g = sbmtm.g\n",
    "g"
   ]
  },
  {
   "cell_type": "code",
   "execution_count": null,
   "id": "operational-messaging",
   "metadata": {},
   "outputs": [],
   "source": [
    "sbmtm.fit(n_init=5, verbose=False, B_min=10, parallel=True)"
   ]
  },
  {
   "cell_type": "code",
   "execution_count": null,
   "id": "individual-stadium",
   "metadata": {},
   "outputs": [],
   "source": [
    "os.system(\"rm -rf twitter\")\n",
    "os.system(\"mkdir -p twitter\")\n",
    "os.chdir(\"twitter/\")\n",
    "df_files.to_csv(\"files.dat\")\n",
    "os.system(\"mkdir -p topsbm\")\n",
    "os.chdir(\"topsbm/\")\n",
    "sbmtm.save_data()\n",
    "sbmtm.save_graph()\n",
    "os.chdir(\"../../\")"
   ]
  },
  {
   "cell_type": "code",
   "execution_count": null,
   "id": "average-possession",
   "metadata": {},
   "outputs": [],
   "source": [
    "gt.draw_hierarchy(sbmtm.state, layout=\"bipartite\", hedge_pen_width=8, hvertex_size=25, vertex_kind=sbmtm.g.vertex_properties[\"kind\"])"
   ]
  },
  {
   "cell_type": "markdown",
   "id": "pleasant-bermuda",
   "metadata": {},
   "source": [
    "## triSBM"
   ]
  },
  {
   "cell_type": "code",
   "execution_count": null,
   "id": "sealed-forestry",
   "metadata": {},
   "outputs": [],
   "source": [
    "sys.path.append(\"../../trisbm/\")\n",
    "from trisbm import trisbm"
   ]
  },
  {
   "cell_type": "code",
   "execution_count": null,
   "id": "asian-commander",
   "metadata": {},
   "outputs": [],
   "source": [
    "trisbm = trisbm()\n",
    "trisbm.make_graph(df.append(df_meta), lambda word_keyword: 2 if word_keyword in df_meta.index else 1)"
   ]
  },
  {
   "cell_type": "code",
   "execution_count": null,
   "id": "boolean-danish",
   "metadata": {},
   "outputs": [],
   "source": [
    "trisbm.save_graph(\"twitter_keyword.xml.gz\")"
   ]
  },
  {
   "cell_type": "code",
   "execution_count": null,
   "id": "hired-fluid",
   "metadata": {},
   "outputs": [],
   "source": [
    "trisbm.fit(n_init=5, verbose=False, B_min=15)"
   ]
  },
  {
   "cell_type": "code",
   "execution_count": null,
   "id": "selective-general",
   "metadata": {},
   "outputs": [],
   "source": [
    "import os"
   ]
  },
  {
   "cell_type": "code",
   "execution_count": null,
   "id": "lovely-marathon",
   "metadata": {},
   "outputs": [],
   "source": [
    "os.system(\"rm -rf twitter_key\")\n",
    "os.system(\"mkdir -p twitter_key\")\n",
    "os.chdir(\"twitter_key/\")\n",
    "df_files.to_csv(\"files.dat\")\n",
    "os.system(\"mkdir -p trisbm\")\n",
    "os.chdir(\"trisbm/\")\n",
    "trisbm.save_data()\n",
    "trisbm.save_graph()\n",
    "os.chdir(\"../../\")"
   ]
  },
  {
   "cell_type": "code",
   "execution_count": null,
   "id": "sitting-prototype",
   "metadata": {},
   "outputs": [],
   "source": [
    "gt.draw_hierarchy(trisbm.state, \n",
    "                  #pos=gt.sfdp_layout(model.g),\n",
    "                  hedge_pen_width=8, \n",
    "                  hvertex_size=25, \n",
    "                  vertex_kind=trisbm.g.vertex_properties[\"kind\"]\n",
    "                 )"
   ]
  },
  {
   "cell_type": "markdown",
   "id": "naked-democrat",
   "metadata": {},
   "source": [
    "## Benchmark"
   ]
  },
  {
   "cell_type": "code",
   "execution_count": null,
   "id": "saved-mills",
   "metadata": {},
   "outputs": [],
   "source": [
    "from topicpy.hsbmpy import get_scores, get_scores_shuffled, add_score_lines, normalise_score\n",
    "import matplotlib.pyplot as plt\n",
    "import pandas as pd\n",
    "import os"
   ]
  },
  {
   "cell_type": "code",
   "execution_count": null,
   "id": "solved-ecuador",
   "metadata": {},
   "outputs": [],
   "source": [
    "labels = [\"kind\"]\n",
    "scores = get_scores(\"twitter_key\", labels, algorithm=\"trisbm\", df_files=df_files, verbose=False)\n",
    "scores['trisbm'] = scores[labels[0]]\n",
    "scores[\"hsbm\"]=get_scores(\"twitter\", labels, algorithm=\"topsbm\", df_files=df_files, verbose=False)[labels[0]]\n",
    "scores['shuffle'] = get_scores_shuffled(\"twitter_key\", df_files, label=labels[0], algorithm='trisbm')\n",
    "normalise_score(scores, base_algorithm=\"shuffle\", operation=lambda x,y: x/y)"
   ]
  },
  {
   "cell_type": "code",
   "execution_count": null,
   "id": "experienced-passing",
   "metadata": {},
   "outputs": [],
   "source": [
    "fig=plt.figure(figsize=(18,15))\n",
    "ax = fig.subplots(1)\n",
    "add_score_lines(ax,scores,labels=[\"hsbm\",\"trisbm\", \"shuffle\"], V=\"norm_V\", alpha=1)\n",
    "ax.set_xscale('log')\n",
    "ax.set_ylim(0,max(map(lambda s: max(s[\"norm_V\"]), scores.values()))*1.1)\n",
    "ax.set_xlim(0,10)\n",
    "\n",
    "plt.show()\n",
    "fig.savefig(\"metric_scores.pdf\")"
   ]
  },
  {
   "cell_type": "code",
   "execution_count": null,
   "id": "touched-enough",
   "metadata": {},
   "outputs": [],
   "source": [
    "import plotly.graph_objects as go"
   ]
  },
  {
   "cell_type": "code",
   "execution_count": null,
   "id": "federal-smart",
   "metadata": {},
   "outputs": [],
   "source": [
    "fig = go.Figure()\n",
    "fig.add_traces([\n",
    "    go.Bar(y = [trisbm.get_mdl()], name=\"triSBM\"),\n",
    "    go.Bar(y = [sbmtm.get_mdl()], name=\"hSBM\")\n",
    "])\n",
    "\n",
    "titlefont = {\n",
    "    \"size\": 30 \n",
    "}\n",
    "\n",
    "tickfont = {\n",
    "    \"size\":25\n",
    "}\n",
    "\n",
    "layout = {\n",
    "    \"title\":\"Twitter dataset\",\n",
    "    \"xaxis\":{\n",
    "        \"title\": \"Resolution\",\n",
    "        \"titlefont\": titlefont,\n",
    "        \"tickfont\": tickfont\n",
    "    },\n",
    "    \"yaxis\":{\n",
    "        \"title\": \"∑\",\n",
    "        \"type\":\"log\",\n",
    "        #\"range\": [10e3,20e3],\n",
    "        \"titlefont\": titlefont,\n",
    "        \"tickfont\": tickfont\n",
    "    },\n",
    "    \"legend\":{\n",
    "        \"font_size\":35\n",
    "    }\n",
    "}\n",
    "\n",
    "fig.update_layout(layout)\n",
    "#fig.write_image(\"metric_scores_bar.pdf\")"
   ]
  },
  {
   "cell_type": "code",
   "execution_count": null,
   "id": "crazy-shopper",
   "metadata": {},
   "outputs": [],
   "source": [
    "fig = go.Figure()\n",
    "fig.add_traces([\n",
    "    go.Bar(y=scores[\"hsbm\"][\"norm_V\"], name=\"hSBM\"),\n",
    "    go.Bar(y=scores[\"trisbm\"][\"norm_V\"], name=\"triSBM\")\n",
    "])\n",
    "\n",
    "titlefont = {\n",
    "    \"size\": 30 \n",
    "}\n",
    "\n",
    "tickfont = {\n",
    "    \"size\":25\n",
    "}\n",
    "\n",
    "layout = {\n",
    "    \"title\":\"Twitter dataset\",\n",
    "    \"xaxis\":{\n",
    "        \"title\": \"Resolution\",\n",
    "        \"titlefont\": titlefont,\n",
    "        \"tickfont\": tickfont\n",
    "    },\n",
    "    \"yaxis\":{\n",
    "        \"title\": \"NMI/NMI*\",\n",
    "        \"titlefont\": titlefont,\n",
    "        \"tickfont\": tickfont\n",
    "    },\n",
    "    \"legend\":{\n",
    "        \"font_size\":35\n",
    "    }\n",
    "}\n",
    "\n",
    "fig.update_layout(layout)\n",
    "#fig.write_image(\"metric_scores_bar.pdf\")"
   ]
  },
  {
   "cell_type": "code",
   "execution_count": null,
   "id": "floating-buffer",
   "metadata": {},
   "outputs": [],
   "source": [
    "from topicpy.hsbmpy import clusteranalysis"
   ]
  },
  {
   "cell_type": "code",
   "execution_count": null,
   "id": "minimal-puppy",
   "metadata": {},
   "outputs": [],
   "source": [
    "clusteranalysis(os.getcwd()+\"/twitter/\", [\"kind\"], algorithm=\"topsbm\")\n",
    "clusteranalysis(os.getcwd()+\"/twitter_key/\", [\"kind\"], algorithm=\"trisbm\")"
   ]
  },
  {
   "cell_type": "code",
   "execution_count": null,
   "id": "forbidden-vermont",
   "metadata": {},
   "outputs": [],
   "source": [
    "import cloudpickle as pickle\n",
    "\n",
    "with open(\"sbmtm.pkl\", \"wb\") as file:\n",
    "    pickle.dump(sbmtm, file)\n",
    "    \n",
    "with open(\"trisbm.pkl\", \"wb\") as file:\n",
    "    pickle.dump(trisbm, file)"
   ]
  },
  {
   "cell_type": "code",
   "execution_count": null,
   "id": "political-flood",
   "metadata": {},
   "outputs": [],
   "source": []
  }
 ],
 "metadata": {
  "kernelspec": {
   "display_name": "Python 3",
   "language": "python",
   "name": "python3"
  },
  "language_info": {
   "codemirror_mode": {
    "name": "ipython",
    "version": 3
   },
   "file_extension": ".py",
   "mimetype": "text/x-python",
   "name": "python",
   "nbconvert_exporter": "python",
   "pygments_lexer": "ipython3",
   "version": "3.8.6"
  }
 },
 "nbformat": 4,
 "nbformat_minor": 5
}

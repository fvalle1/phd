{
 "cells": [
  {
   "cell_type": "code",
   "execution_count": null,
   "id": "768f45bc",
   "metadata": {},
   "outputs": [],
   "source": [
    "import pandas as pd\n",
    "import numpy as np\n",
    "import graph_tool.all as gt\n",
    "import sys\n",
    "sys.path.append(\"/home/jovyan/work/phd/hSBM_Topicmodel/\")\n",
    "sys.path.append(\"/home/jovyan/work/phd/trisbm/\")\n",
    "\n",
    "from sbmtm import sbmtm\n",
    "from trisbm import trisbm\n",
    "import scanpy as sc\n",
    "import cloudpickle as pickle"
   ]
  },
  {
   "cell_type": "code",
   "execution_count": null,
   "id": "8b9acbd0",
   "metadata": {},
   "outputs": [],
   "source": [
    "df = pd.read_csv(\"mainTable_fpkm.csv\", index_col=0)"
   ]
  },
  {
   "cell_type": "code",
   "execution_count": null,
   "id": "2fbe9d0f",
   "metadata": {},
   "outputs": [],
   "source": [
    "df_mirna = pd.read_csv(\"mainTable_mirna.csv\", index_col=0)"
   ]
  },
  {
   "cell_type": "code",
   "execution_count": null,
   "id": "63cf7904",
   "metadata": {},
   "outputs": [],
   "source": [
    "df_files = pd.read_csv(\"files.dat\")"
   ]
  },
  {
   "cell_type": "code",
   "execution_count": null,
   "id": "c5a1c086",
   "metadata": {},
   "outputs": [],
   "source": [
    "df = df[df.columns[df.columns.isin(df_files[\"file_fpkm\"])]]\n",
    "df_mirna = df_mirna[df_mirna.columns[df_mirna.columns.isin(df_files[\"file_mirna\"])]]"
   ]
  },
  {
   "cell_type": "code",
   "execution_count": null,
   "id": "17ed2709",
   "metadata": {},
   "outputs": [],
   "source": [
    "df.columns=df_files.set_index(\"file_fpkm\").reindex(index=df.columns)[\"cases.0.submitter_id\"]\n",
    "df_mirna.columns=df_files.set_index(\"file_mirna\").reindex(index=df_mirna.columns)[\"cases.0.submitter_id\"]\n",
    "df_mirna = df_mirna.reindex(columns=df.columns)"
   ]
  },
  {
   "cell_type": "code",
   "execution_count": null,
   "id": "61891dfa",
   "metadata": {},
   "outputs": [],
   "source": [
    "df_files.set_index(\"cases.0.submitter_id\", inplace=True)"
   ]
  },
  {
   "cell_type": "markdown",
   "id": "fe1ab01d",
   "metadata": {},
   "source": [
    "## HVG"
   ]
  },
  {
   "cell_type": "code",
   "execution_count": null,
   "id": "d64a3283",
   "metadata": {},
   "outputs": [],
   "source": [
    "adata = sc.AnnData(\n",
    "    X=df.transpose().reindex(index=df_files.index), \n",
    "    obs=df_files)"
   ]
  },
  {
   "cell_type": "code",
   "execution_count": null,
   "id": "20b6d4a5",
   "metadata": {},
   "outputs": [],
   "source": [
    "sc.pp.log1p(adata)\n",
    "sc.pp.highly_variable_genes(adata, n_top_genes=3000)\n",
    "sc.pl.highly_variable_genes(adata)"
   ]
  },
  {
   "cell_type": "code",
   "execution_count": null,
   "id": "e8c7bf3f",
   "metadata": {},
   "outputs": [],
   "source": [
    "hvg = adata.var[adata.var[\"highly_variable\"]==True].index"
   ]
  },
  {
   "cell_type": "markdown",
   "id": "7ee9acd3",
   "metadata": {},
   "source": [
    "## Highly variable miRNA"
   ]
  },
  {
   "cell_type": "code",
   "execution_count": null,
   "id": "47e4de40",
   "metadata": {},
   "outputs": [],
   "source": [
    "adata = sc.AnnData(\n",
    "    X=df_mirna.transpose().reindex(index=df_files.index), \n",
    "    obs=df_files)"
   ]
  },
  {
   "cell_type": "code",
   "execution_count": null,
   "id": "e563c156",
   "metadata": {},
   "outputs": [],
   "source": [
    "sc.pp.log1p(adata)\n",
    "sc.pp.highly_variable_genes(adata, n_top_genes=1000)\n",
    "sc.pl.highly_variable_genes(adata)"
   ]
  },
  {
   "cell_type": "code",
   "execution_count": null,
   "id": "b4b0a20e",
   "metadata": {},
   "outputs": [],
   "source": [
    "hvmiRNA = adata.var[adata.var[\"highly_variable\"]==True].index.unique()"
   ]
  },
  {
   "cell_type": "markdown",
   "id": "b352d29d",
   "metadata": {},
   "source": [
    "# hSBM"
   ]
  },
  {
   "cell_type": "code",
   "execution_count": null,
   "id": "312ef243",
   "metadata": {},
   "outputs": [],
   "source": [
    "hsbm = sbmtm()"
   ]
  },
  {
   "cell_type": "code",
   "execution_count": null,
   "id": "98534ee0",
   "metadata": {},
   "outputs": [],
   "source": [
    "hsbm.make_graph_from_BoW_df(df.reindex(index=hvg))\n",
    "hsbm.g"
   ]
  },
  {
   "cell_type": "code",
   "execution_count": null,
   "id": "bb9ed1db",
   "metadata": {},
   "outputs": [],
   "source": [
    "hsbm.save_graph(\"graph_sbmtm.xml.gz\")"
   ]
  },
  {
   "cell_type": "markdown",
   "id": "da8adb44",
   "metadata": {},
   "source": [
    "## triSBM"
   ]
  },
  {
   "cell_type": "code",
   "execution_count": null,
   "id": "42feae65",
   "metadata": {},
   "outputs": [],
   "source": [
    "df_all = df.reindex(index=hvg).append(df_mirna.reindex(index=hvmiRNA))"
   ]
  },
  {
   "cell_type": "code",
   "execution_count": null,
   "id": "fa727b44",
   "metadata": {},
   "outputs": [],
   "source": [
    "trisbm_model = trisbm()\n",
    "trisbm_model.make_graph(df_all, lambda gene: 1 if \"ENSG\" in gene else 2)"
   ]
  },
  {
   "cell_type": "code",
   "execution_count": null,
   "id": "6f2b9f2e",
   "metadata": {},
   "outputs": [],
   "source": [
    "trisbm_model.g"
   ]
  },
  {
   "cell_type": "code",
   "execution_count": null,
   "id": "566e9b5f",
   "metadata": {},
   "outputs": [],
   "source": [
    "trisbm_model.save_graph(\"graph_trisbm.xml.gz\")"
   ]
  },
  {
   "cell_type": "code",
   "execution_count": null,
   "id": "01390166",
   "metadata": {},
   "outputs": [],
   "source": [
    "pd.read_csv(\"files.dat\", index_col=0).set_index(\"cases.0.submitter_id\").to_csv(\"files.dat\")"
   ]
  },
  {
   "cell_type": "markdown",
   "id": "d557cf1e",
   "metadata": {},
   "source": [
    "## Benchmark"
   ]
  },
  {
   "cell_type": "code",
   "execution_count": null,
   "id": "84bc4936",
   "metadata": {},
   "outputs": [],
   "source": [
    "from topicpy.hsbmpy import get_scores, get_scores_shuffled, add_score_lines, normalise_score\n",
    "import matplotlib.pyplot as plt\n",
    "import pandas as pd\n",
    "import os"
   ]
  },
  {
   "cell_type": "code",
   "execution_count": null,
   "id": "f4feffd6",
   "metadata": {},
   "outputs": [],
   "source": [
    "labels = [\"cases.0.project.primary_site\"]\n",
    "scores = get_scores(\"tcga_key\", labels, algorithm=\"trisbm\", verbose=False)\n",
    "scores['trisbm'] = scores[labels[0]]\n",
    "scores[\"hsbm\"]=get_scores(\"tcga\", labels, algorithm=\"topsbm\", verbose=False)[labels[0]]\n",
    "scores['shuffle'] = get_scores_shuffled(\"tcga_key\", pd.read_csv(\"tcga/files.dat\", sep=\",\", index_col=0), label=labels[0], algorithm='trisbm')\n",
    "normalise_score(scores, base_algorithm=\"shuffle\", operation=lambda x,y: x/y)"
   ]
  },
  {
   "cell_type": "code",
   "execution_count": null,
   "id": "381184f7",
   "metadata": {},
   "outputs": [],
   "source": [
    "fig=plt.figure(figsize=(18,15))\n",
    "ax = fig.subplots(1)\n",
    "add_score_lines(ax,scores,labels=[\"hsbm\",\"trisbm\", \"shuffle\"], V=\"norm_V\", alpha=1)\n",
    "ax.set_xscale('log')\n",
    "ax.set_ylim(0,max(map(lambda s: max(s[\"norm_V\"]), scores.values()))*1.1)\n",
    "ax.set_xlim(0,max(map(lambda s: max(s[\"xl\"]), scores.values()))*1.1)\n",
    "\n",
    "plt.show()\n",
    "fig.savefig(\"metric_scores.pdf\")"
   ]
  },
  {
   "cell_type": "code",
   "execution_count": null,
   "id": "fc28b442",
   "metadata": {},
   "outputs": [],
   "source": [
    "import plotly.graph_objects as go"
   ]
  },
  {
   "cell_type": "code",
   "execution_count": null,
   "id": "817c4882",
   "metadata": {},
   "outputs": [],
   "source": [
    "with open(\"sbmtm.pkl\", \"rb\") as file:\n",
    "    hsbm = pickle.load(file)\n",
    "    \n",
    "with open(\"trisbm.pkl\", \"rb\") as file:\n",
    "    trisbm_model = pickle.load(file)"
   ]
  },
  {
   "cell_type": "code",
   "execution_count": null,
   "id": "a5f5dfc2",
   "metadata": {},
   "outputs": [],
   "source": [
    "fig = go.Figure()\n",
    "fig.add_traces([\n",
    "    go.Bar(y = [trisbm_model.get_mdl()], name=\"triSBM\"),\n",
    "    go.Bar(y = [hsbm.get_mdl()], name=\"hSBM\")\n",
    "])\n",
    "\n",
    "titlefont = {\n",
    "    \"size\": 30 \n",
    "}\n",
    "\n",
    "tickfont = {\n",
    "    \"size\":25\n",
    "}\n",
    "\n",
    "layout = {\n",
    "    \"title\":\"TCGA dataset\",\n",
    "    \"xaxis\":{\n",
    "        \"title\": \"Resolution\",\n",
    "        \"titlefont\": titlefont,\n",
    "        \"tickfont\": tickfont\n",
    "    },\n",
    "    \"yaxis\":{\n",
    "        \"title\": \"∑\",\n",
    "        \"type\":\"log\",\n",
    "        #\"range\": [10e3,20e3],\n",
    "        \"titlefont\": titlefont,\n",
    "        \"tickfont\": tickfont\n",
    "    },\n",
    "    \"legend\":{\n",
    "        \"font_size\":35\n",
    "    }\n",
    "}\n",
    "\n",
    "fig.update_layout(layout)\n",
    "#fig.write_image(\"metric_entropies_bar.pdf\")"
   ]
  },
  {
   "cell_type": "code",
   "execution_count": null,
   "id": "7ba2636a",
   "metadata": {},
   "outputs": [],
   "source": [
    "fig = go.Figure()\n",
    "fig.add_traces([\n",
    "    go.Bar(y=scores[\"hsbm\"][\"norm_V\"], name=\"hSBM\"),\n",
    "    go.Bar(y=scores[\"trisbm\"][\"norm_V\"], name=\"triSBM\")\n",
    "])\n",
    "\n",
    "titlefont = {\n",
    "    \"size\": 30 \n",
    "}\n",
    "\n",
    "tickfont = {\n",
    "    \"size\":25\n",
    "}\n",
    "\n",
    "layout = {\n",
    "    \"xaxis\":{\n",
    "        \"title\": \"Resolution\",\n",
    "        \"titlefont\": titlefont,\n",
    "        \"tickfont\": tickfont\n",
    "    },\n",
    "    \"yaxis\":{\n",
    "        \"title\": \"NMI/NMI*\",\n",
    "        \"titlefont\": titlefont,\n",
    "        \"tickfont\": tickfont\n",
    "    },\n",
    "    \"legend\":{\n",
    "        \"font_size\":35\n",
    "    }\n",
    "}\n",
    "\n",
    "fig.update_layout(layout)\n",
    "#fig.write_image(\"metric_scores_bar.pdf\")"
   ]
  },
  {
   "cell_type": "code",
   "execution_count": null,
   "id": "9fe53b6f",
   "metadata": {},
   "outputs": [],
   "source": []
  }
 ],
 "metadata": {
  "kernelspec": {
   "display_name": "Python 3",
   "language": "python",
   "name": "python3"
  },
  "language_info": {
   "codemirror_mode": {
    "name": "ipython",
    "version": 3
   },
   "file_extension": ".py",
   "mimetype": "text/x-python",
   "name": "python",
   "nbconvert_exporter": "python",
   "pygments_lexer": "ipython3",
   "version": "3.8.8"
  }
 },
 "nbformat": 4,
 "nbformat_minor": 5
}

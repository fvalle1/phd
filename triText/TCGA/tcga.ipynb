{
 "cells": [
  {
   "cell_type": "code",
   "execution_count": null,
   "id": "worst-channels",
   "metadata": {},
   "outputs": [],
   "source": [
    "import pandas as pd\n",
    "import numpy as np\n",
    "import graph_tool.all as gt\n",
    "import sys\n",
    "sys.path.append(\"/home/jovyan/work/phd/hSBM_Topicmodel/\")\n",
    "sys.path.append(\"/home/jovyan/work/phd/trisbm/\")\n",
    "\n",
    "from sbmtm import sbmtm\n",
    "from trisbm import trisbm\n",
    "import scanpy as sc"
   ]
  },
  {
   "cell_type": "code",
   "execution_count": null,
   "id": "immediate-recognition",
   "metadata": {},
   "outputs": [],
   "source": [
    "df = pd.read_csv(\"mainTable_fpkm.csv\", index_col=0)"
   ]
  },
  {
   "cell_type": "code",
   "execution_count": null,
   "id": "copyrighted-welding",
   "metadata": {},
   "outputs": [],
   "source": [
    "df_mirna = pd.read_csv(\"mainTable_mirna.csv\", index_col=0)"
   ]
  },
  {
   "cell_type": "code",
   "execution_count": null,
   "id": "addressed-biodiversity",
   "metadata": {},
   "outputs": [],
   "source": [
    "df_files = pd.read_csv(\"files.dat\")"
   ]
  },
  {
   "cell_type": "code",
   "execution_count": null,
   "id": "theoretical-thousand",
   "metadata": {},
   "outputs": [],
   "source": [
    "df = df[df.columns[df.columns.isin(df_files[\"file_fpkm\"])]]\n",
    "df_mirna = df_mirna[df_mirna.columns[df_mirna.columns.isin(df_files[\"file_mirna\"])]]"
   ]
  },
  {
   "cell_type": "code",
   "execution_count": null,
   "id": "owned-examination",
   "metadata": {},
   "outputs": [],
   "source": [
    "df.columns=df_files.set_index(\"file_fpkm\").reindex(index=df.columns)[\"cases.0.submitter_id\"]\n",
    "df_mirna.columns=df_files.set_index(\"file_mirna\").reindex(index=df_mirna.columns)[\"cases.0.submitter_id\"]\n",
    "df_mirna = df_mirna.reindex(columns=df.columns)"
   ]
  },
  {
   "cell_type": "code",
   "execution_count": null,
   "id": "massive-catalog",
   "metadata": {},
   "outputs": [],
   "source": [
    "df_files.set_index(\"cases.0.submitter_id\", inplace=True)"
   ]
  },
  {
   "cell_type": "markdown",
   "id": "quality-surface",
   "metadata": {},
   "source": [
    "## HVG"
   ]
  },
  {
   "cell_type": "code",
   "execution_count": null,
   "id": "minor-russia",
   "metadata": {},
   "outputs": [],
   "source": [
    "adata = sc.AnnData(\n",
    "    X=df.transpose().reindex(index=df_files.index), \n",
    "    obs=df_files)"
   ]
  },
  {
   "cell_type": "code",
   "execution_count": null,
   "id": "found-mortality",
   "metadata": {},
   "outputs": [],
   "source": [
    "sc.pp.log1p(adata)\n",
    "sc.pp.highly_variable_genes(adata, n_top_genes=3000)\n",
    "sc.pl.highly_variable_genes(adata)"
   ]
  },
  {
   "cell_type": "code",
   "execution_count": null,
   "id": "fifty-soccer",
   "metadata": {},
   "outputs": [],
   "source": [
    "hvg = adata.var[adata.var[\"highly_variable\"]==True].index"
   ]
  },
  {
   "cell_type": "markdown",
   "id": "rolled-shoulder",
   "metadata": {},
   "source": [
    "## Highly variable miRNA"
   ]
  },
  {
   "cell_type": "code",
   "execution_count": null,
   "id": "adjustable-destination",
   "metadata": {},
   "outputs": [],
   "source": [
    "adata = sc.AnnData(\n",
    "    X=df_mirna.transpose().reindex(index=df_files.index), \n",
    "    obs=df_files)"
   ]
  },
  {
   "cell_type": "code",
   "execution_count": null,
   "id": "raised-childhood",
   "metadata": {},
   "outputs": [],
   "source": [
    "sc.pp.log1p(adata)\n",
    "sc.pp.highly_variable_genes(adata, n_top_genes=1000)\n",
    "sc.pl.highly_variable_genes(adata)"
   ]
  },
  {
   "cell_type": "code",
   "execution_count": null,
   "id": "useful-logan",
   "metadata": {},
   "outputs": [],
   "source": [
    "hvmiRNA = adata.var[adata.var[\"highly_variable\"]==True].index.unique()"
   ]
  },
  {
   "cell_type": "markdown",
   "id": "developmental-declaration",
   "metadata": {},
   "source": [
    "# hSBM"
   ]
  },
  {
   "cell_type": "code",
   "execution_count": null,
   "id": "municipal-checkout",
   "metadata": {},
   "outputs": [],
   "source": [
    "hsbm = sbmtm()"
   ]
  },
  {
   "cell_type": "code",
   "execution_count": null,
   "id": "surprised-meaning",
   "metadata": {},
   "outputs": [],
   "source": [
    "hsbm.make_graph_from_BoW_df(df.reindex(index=hvg))\n",
    "hsbm.g"
   ]
  },
  {
   "cell_type": "code",
   "execution_count": null,
   "id": "chief-northwest",
   "metadata": {},
   "outputs": [],
   "source": [
    "hsbm.save_graph(\"graph_sbmtm.xml.gz\")"
   ]
  },
  {
   "cell_type": "markdown",
   "id": "interesting-aggregate",
   "metadata": {},
   "source": [
    "## triSBM"
   ]
  },
  {
   "cell_type": "code",
   "execution_count": null,
   "id": "significant-printing",
   "metadata": {},
   "outputs": [],
   "source": [
    "df_all = df.reindex(index=hvg).append(df_mirna.reindex(index=hvmiRNA))"
   ]
  },
  {
   "cell_type": "code",
   "execution_count": null,
   "id": "invalid-restoration",
   "metadata": {},
   "outputs": [],
   "source": [
    "trisbm_model = trisbm()\n",
    "trisbm_model.make_graph(df_all, lambda gene: 1 if \"ENSG\" in gene else 2)"
   ]
  },
  {
   "cell_type": "code",
   "execution_count": null,
   "id": "standard-hanging",
   "metadata": {},
   "outputs": [],
   "source": [
    "trisbm_model.g"
   ]
  },
  {
   "cell_type": "code",
   "execution_count": null,
   "id": "frequent-guide",
   "metadata": {},
   "outputs": [],
   "source": [
    "trisbm_model.save_graph(\"graph_trisbm.xml.gz\")"
   ]
  },
  {
   "cell_type": "code",
   "execution_count": 40,
   "id": "electric-sharp",
   "metadata": {},
   "outputs": [],
   "source": [
    "pd.read_csv(\"files.dat\", index_col=0).set_index(\"cases.0.submitter_id\").to_csv(\"files.dat\")"
   ]
  },
  {
   "cell_type": "code",
   "execution_count": null,
   "id": "bronze-savings",
   "metadata": {},
   "outputs": [],
   "source": []
  }
 ],
 "metadata": {
  "kernelspec": {
   "display_name": "Python 3",
   "language": "python",
   "name": "python3"
  },
  "language_info": {
   "codemirror_mode": {
    "name": "ipython",
    "version": 3
   },
   "file_extension": ".py",
   "mimetype": "text/x-python",
   "name": "python",
   "nbconvert_exporter": "python",
   "pygments_lexer": "ipython3",
   "version": "3.8.8"
  }
 },
 "nbformat": 4,
 "nbformat_minor": 5
}

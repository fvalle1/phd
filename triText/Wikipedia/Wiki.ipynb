{
 "cells": [
  {
   "cell_type": "code",
   "execution_count": null,
   "id": "17eeff0a",
   "metadata": {},
   "outputs": [],
   "source": [
    "import requests\n",
    "import pandas as pd"
   ]
  },
  {
   "cell_type": "code",
   "execution_count": null,
   "id": "d8659841",
   "metadata": {},
   "outputs": [],
   "source": [
    "titles = pd.read_table(\"../../hSBM_Topicmodel/titles.txt\", sep=\" \", header=None)[0].values\n",
    "titles[:3]"
   ]
  },
  {
   "cell_type": "code",
   "execution_count": null,
   "id": "9f5f5dd5",
   "metadata": {},
   "outputs": [],
   "source": [
    "df_files = pd.read_csv(\"../../hSBM_Topicmodel/titles.txt\", sep=\" \", index_col=0, names=[\"Topic\"])"
   ]
  },
  {
   "cell_type": "code",
   "execution_count": null,
   "id": "f20cdeae",
   "metadata": {},
   "outputs": [],
   "source": [
    "url = \"https://en.wikipedia.org/w/api.php\"\n",
    "\n",
    "def get_categories(title):\n",
    "    params = {\n",
    "        \"action\": \"query\",\n",
    "        \"format\": \"json\",\n",
    "        \"prop\": \"categories\",\n",
    "        \"titles\": title\n",
    "    }\n",
    "    to_ret = []\n",
    "    with requests.get(url=url, params=params) as req:\n",
    "        if req.status_code==200:\n",
    "            data = req.json()\n",
    "            pages = data[\"query\"][\"pages\"]\n",
    "            for k, v in pages.items():\n",
    "                if \"categories\" not in v.keys():\n",
    "                    continue\n",
    "                for cat in v['categories']:\n",
    "                    to_ret.append(cat[\"title\"].split(\":\")[1])\n",
    "    return to_ret"
   ]
  },
  {
   "cell_type": "code",
   "execution_count": null,
   "id": "e2eee2f0",
   "metadata": {},
   "outputs": [],
   "source": [
    "df_meta=pd.DataFrame()"
   ]
  },
  {
   "cell_type": "code",
   "execution_count": null,
   "id": "58c0e4e0",
   "metadata": {},
   "outputs": [],
   "source": [
    "for title in titles:\n",
    "    df_meta=df_meta.join(pd.Series(name=title, index=get_categories(title), data = 1), how=\"outer\")"
   ]
  },
  {
   "cell_type": "code",
   "execution_count": null,
   "id": "632d6853",
   "metadata": {},
   "outputs": [],
   "source": [
    "df_meta = df_meta.fillna(0).astype(int).drop_duplicates()"
   ]
  },
  {
   "cell_type": "code",
   "execution_count": null,
   "id": "8cca3562",
   "metadata": {},
   "outputs": [],
   "source": [
    "df_meta = df_meta.reindex(index=df_meta.index[(df_meta.sum(1)>1)].drop_duplicates())"
   ]
  },
  {
   "cell_type": "code",
   "execution_count": null,
   "id": "ef86d2df",
   "metadata": {},
   "outputs": [],
   "source": [
    "with open(\"../../hSBM_Topicmodel/corpus.txt\", \"r\") as file:\n",
    "    texts = file.readlines()\n",
    "texts = [h.split() for h in texts[1:]]"
   ]
  },
  {
   "cell_type": "markdown",
   "id": "a4dc2357",
   "metadata": {},
   "source": [
    "# Make hSBM graph"
   ]
  },
  {
   "cell_type": "code",
   "execution_count": null,
   "id": "3c365250",
   "metadata": {},
   "outputs": [],
   "source": [
    "import sys\n",
    "import os\n",
    "import graph_tool.all as gt\n",
    "sys.path.append(\"../../hSBM_Topicmodel/\")"
   ]
  },
  {
   "cell_type": "code",
   "execution_count": null,
   "id": "5ae350dc",
   "metadata": {},
   "outputs": [],
   "source": [
    "from sbmtm import sbmtm"
   ]
  },
  {
   "cell_type": "code",
   "execution_count": null,
   "id": "0e58ce08",
   "metadata": {},
   "outputs": [],
   "source": [
    "sbmtm = sbmtm()\n",
    "sbmtm.make_graph(texts, list(titles))"
   ]
  },
  {
   "cell_type": "code",
   "execution_count": null,
   "id": "54115c7b",
   "metadata": {},
   "outputs": [],
   "source": [
    "g = sbmtm.g"
   ]
  },
  {
   "cell_type": "code",
   "execution_count": null,
   "id": "7a739d19",
   "metadata": {},
   "outputs": [],
   "source": [
    "sbmtm.fit(n_init=5, verbose=False, B_min=6)"
   ]
  },
  {
   "cell_type": "code",
   "execution_count": null,
   "id": "1acf41b6",
   "metadata": {},
   "outputs": [],
   "source": [
    "os.system(\"mkdir -p wikipedia\")\n",
    "os.chdir(\"wikipedia\")\n",
    "sbmtm.save_data()\n",
    "sbmtm.save_graph()\n",
    "df_files.to_csv(\"files.dat\")\n",
    "os.chdir(\"..\")"
   ]
  },
  {
   "cell_type": "code",
   "execution_count": null,
   "id": "aa529c7c",
   "metadata": {},
   "outputs": [],
   "source": [
    "gt.draw_hierarchy(sbmtm.state, layout=\"bipartite\", hedge_pen_width=8, hvertex_size=25, vertex_kind=sbmtm.g.vertex_properties[\"kind\"])"
   ]
  },
  {
   "cell_type": "markdown",
   "id": "1160c422",
   "metadata": {},
   "source": [
    "# Add keywords"
   ]
  },
  {
   "cell_type": "code",
   "execution_count": null,
   "id": "356e793e",
   "metadata": {},
   "outputs": [],
   "source": [
    "import graph_tool.all as gt"
   ]
  },
  {
   "cell_type": "code",
   "execution_count": null,
   "id": "46150037",
   "metadata": {},
   "outputs": [],
   "source": [
    "df_corpus = pd.DataFrame(data=gt.adjacency(g, weight=g.ep[\"count\"]).toarray()[sbmtm.get_D():,:sbmtm.get_D()], index=sbmtm.words, columns=sbmtm.documents)"
   ]
  },
  {
   "cell_type": "code",
   "execution_count": null,
   "id": "03b2cfb4",
   "metadata": {},
   "outputs": [],
   "source": [
    "df = df_corpus.append(df_meta).fillna(0).astype(int)"
   ]
  },
  {
   "cell_type": "markdown",
   "id": "327ebd2a",
   "metadata": {},
   "source": [
    "### triSBM"
   ]
  },
  {
   "cell_type": "code",
   "execution_count": null,
   "id": "1304fc58",
   "metadata": {},
   "outputs": [],
   "source": [
    "sys.path.append(\"../../trisbm/\")"
   ]
  },
  {
   "cell_type": "code",
   "execution_count": null,
   "id": "3a37b8ea",
   "metadata": {},
   "outputs": [],
   "source": [
    "%load_ext autoreload\n",
    "%autoreload 2\n",
    "from trisbm import trisbm"
   ]
  },
  {
   "cell_type": "code",
   "execution_count": null,
   "id": "7f717362",
   "metadata": {},
   "outputs": [],
   "source": [
    "trisbm = trisbm()\n",
    "trisbm.make_graph(df, lambda word_keyword: 2 if word_keyword in df_meta.index else 1)"
   ]
  },
  {
   "cell_type": "code",
   "execution_count": null,
   "id": "f4f48c7c",
   "metadata": {},
   "outputs": [],
   "source": [
    "trisbm.save_graph(\"wikipedia_keyword.xml.gz\")"
   ]
  },
  {
   "cell_type": "code",
   "execution_count": null,
   "id": "3f13a5c6",
   "metadata": {},
   "outputs": [],
   "source": [
    "trisbm.fit(n_init=5, B_min=9, verbose=False)"
   ]
  },
  {
   "cell_type": "code",
   "execution_count": null,
   "id": "7963b4f6",
   "metadata": {},
   "outputs": [],
   "source": [
    "import os"
   ]
  },
  {
   "cell_type": "code",
   "execution_count": null,
   "id": "3b8ec0f8",
   "metadata": {},
   "outputs": [],
   "source": [
    "os.system(\"mkdir -p wikipedia_key\")\n",
    "os.chdir(\"wikipedia_key\")\n",
    "trisbm.save_data()\n",
    "trisbm.save_graph()\n",
    "df_files.to_csv(\"files.dat\")\n",
    "os.chdir(\"..\")"
   ]
  },
  {
   "cell_type": "code",
   "execution_count": null,
   "id": "56e663d7",
   "metadata": {},
   "outputs": [],
   "source": [
    "gt.draw_hierarchy(trisbm.state, \n",
    "                  #pos=gt.sfdp_layout(model.g),\n",
    "                  hedge_pen_width=8, \n",
    "                  hvertex_size=25, \n",
    "                  vertex_kind=trisbm.g.vertex_properties[\"kind\"]\n",
    "                 )"
   ]
  },
  {
   "cell_type": "markdown",
   "id": "d9a29857",
   "metadata": {},
   "source": [
    "## Benchmark"
   ]
  },
  {
   "cell_type": "code",
   "execution_count": null,
   "id": "a31cfe6f",
   "metadata": {},
   "outputs": [],
   "source": [
    "from topicpy.hsbmpy import get_scores, get_scores_shuffled, add_score_lines, normalise_score\n",
    "import matplotlib.pyplot as plt\n",
    "import pandas as pd\n",
    "import os"
   ]
  },
  {
   "cell_type": "code",
   "execution_count": null,
   "id": "4be04a93",
   "metadata": {},
   "outputs": [],
   "source": [
    "labels = [\"Topic\"]\n",
    "scores = get_scores(\"wikipedia_key\", labels, algorithm=\"trisbm\", verbose=False)\n",
    "scores['trisbm'] = scores[labels[0]]\n",
    "scores[\"hsbm\"]=get_scores(\"wikipedia\", labels, algorithm=\"topsbm\", verbose=False)[labels[0]]\n",
    "scores['shuffle'] = get_scores_shuffled(\"wikipedia_key\", pd.read_csv(\"wikipedia/files.dat\", sep=\",\", index_col=0), label=labels[0], algorithm='trisbm')\n",
    "normalise_score(scores, base_algorithm=\"shuffle\", operation=lambda x,y: x/y)"
   ]
  },
  {
   "cell_type": "code",
   "execution_count": null,
   "id": "056b18ad",
   "metadata": {},
   "outputs": [],
   "source": [
    "fig=plt.figure(figsize=(18,15))\n",
    "ax = fig.subplots(1)\n",
    "add_score_lines(ax,scores,labels=[\"hsbm\",\"trisbm\", \"shuffle\"], V=\"norm_V\", alpha=1)\n",
    "ax.set_xscale('log')\n",
    "ax.set_ylim(0,max(map(lambda s: max(s[\"norm_V\"]), scores.values()))*1.1)\n",
    "ax.set_xlim(0,10)\n",
    "\n",
    "plt.show()\n",
    "fig.savefig(\"metric_scores.pdf\")"
   ]
  },
  {
   "cell_type": "code",
   "execution_count": null,
   "id": "22bb4f77",
   "metadata": {},
   "outputs": [],
   "source": [
    "import plotly.graph_objects as go"
   ]
  },
  {
   "cell_type": "code",
   "execution_count": null,
   "id": "b2f0c9b2",
   "metadata": {},
   "outputs": [],
   "source": [
    "fig = go.Figure()\n",
    "fig.add_traces([\n",
    "    go.Bar(y = [sbmtm.get_mdl()/sbmtm.g.num_edges()], name=\"hSBM\"),\n",
    "    go.Bar(y = [trisbm.get_mdl()/trisbm.g.num_edges()], name=\"triSBM\")\n",
    "])\n",
    "\n",
    "titlefont = {\n",
    "    \"size\": 30 \n",
    "}\n",
    "\n",
    "tickfont = {\n",
    "    \"size\":25\n",
    "}\n",
    "\n",
    "layout = {\n",
    "    \"title\":\"Wikipedia dataset\",\n",
    "    \"xaxis\":{\n",
    "        \"title\": \"Resolution\",\n",
    "        \"titlefont\": titlefont,\n",
    "        \"tickfont\": tickfont\n",
    "    },\n",
    "    \"yaxis\":{\n",
    "        \"title\": \"∑/E\",\n",
    "        \"type\":\"log\",\n",
    "        #\"range\": [10e3,20e3],\n",
    "        \"titlefont\": titlefont,\n",
    "        \"tickfont\": tickfont\n",
    "    },\n",
    "    \"legend\":{\n",
    "        \"font_size\":35\n",
    "    }\n",
    "}\n",
    "\n",
    "fig.update_layout(layout)\n",
    "#fig.write_image(\"metric_entropies_bar.pdf\")"
   ]
  },
  {
   "cell_type": "code",
   "execution_count": null,
   "id": "c9db6188",
   "metadata": {},
   "outputs": [],
   "source": [
    "fig = go.Figure()\n",
    "fig.add_traces([\n",
    "    go.Bar(y=scores[\"hsbm\"][\"norm_V\"], name=\"hSBM\"),\n",
    "    go.Bar(y=scores[\"trisbm\"][\"norm_V\"], name=\"triSBM\")\n",
    "])\n",
    "\n",
    "titlefont = {\n",
    "    \"size\": 30 \n",
    "}\n",
    "\n",
    "tickfont = {\n",
    "    \"size\":25\n",
    "}\n",
    "\n",
    "layout = {\n",
    "    \"xaxis\":{\n",
    "        \"title\": \"Resolution\",\n",
    "        \"titlefont\": titlefont,\n",
    "        \"tickfont\": tickfont\n",
    "    },\n",
    "    \"yaxis\":{\n",
    "        \"title\": \"NMI/NMI*\",\n",
    "        \"titlefont\": titlefont,\n",
    "        \"tickfont\": tickfont\n",
    "    },\n",
    "    \"legend\":{\n",
    "        \"font_size\":35\n",
    "    }\n",
    "}\n",
    "\n",
    "fig.update_layout(layout)\n",
    "#fig.write_image(\"metric_scores_bar.pdf\")"
   ]
  },
  {
   "cell_type": "code",
   "execution_count": null,
   "id": "0c1239ac",
   "metadata": {},
   "outputs": [],
   "source": [
    "import cloudpickle as pickle\n",
    "\n",
    "with open(\"sbmtm.pkl\", \"wb\") as file:\n",
    "    pickle.dump(sbmtm, file)\n",
    "    \n",
    "with open(\"trisbm.pkl\", \"wb\") as file:\n",
    "    pickle.dump(trisbm, file)"
   ]
  },
  {
   "cell_type": "code",
   "execution_count": null,
   "id": "d441c56b",
   "metadata": {},
   "outputs": [],
   "source": []
  }
 ],
 "metadata": {
  "kernelspec": {
   "display_name": "Python 3",
   "language": "python",
   "name": "python3"
  },
  "language_info": {
   "codemirror_mode": {
    "name": "ipython",
    "version": 3
   },
   "file_extension": ".py",
   "mimetype": "text/x-python",
   "name": "python",
   "nbconvert_exporter": "python",
   "pygments_lexer": "ipython3",
   "version": "3.8.8"
  }
 },
 "nbformat": 4,
 "nbformat_minor": 5
}

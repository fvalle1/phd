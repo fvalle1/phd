{
 "cells": [
  {
   "cell_type": "code",
   "execution_count": null,
   "id": "noble-relay",
   "metadata": {},
   "outputs": [],
   "source": [
    "import graph_tool.all as gt\n",
    "import plotly.graph_objects as go\n",
    "import cloudpickle as pickle\n",
    "import pandas as pd\n",
    "import sys\n",
    "sys.path.append(\"../hSBM_Topicmodel/\")\n",
    "sys.path.append(\"../trisbm/\")\n",
    "from topicpy.hsbmpy import get_scores, get_scores_shuffled, normalise_score"
   ]
  },
  {
   "cell_type": "code",
   "execution_count": null,
   "id": "unauthorized-malawi",
   "metadata": {},
   "outputs": [],
   "source": [
    "experiments = [\"APS\", \"Wikipedia\", \"Twitter\", \"Plos\"]\n",
    "stores = [\"aps\", \"wikipedia\", \"twitter\", \"plos\"]\n",
    "eval_labels = [[\"journal\"], [\"Topic\"], [\"kind\"], [\"journal\"]]"
   ]
  },
  {
   "cell_type": "code",
   "execution_count": null,
   "id": "palestinian-saudi",
   "metadata": {},
   "outputs": [],
   "source": [
    "all_scores = {}\n",
    "\n",
    "for experiment, store, labels in zip(experiments, stores, eval_labels):\n",
    "    scores = get_scores(f\"{experiment}/{store}_key\", labels, algorithm=\"trisbm\", verbose=False)\n",
    "    scores['trisbm'] = scores[labels[0]]\n",
    "    scores[\"hsbm\"]=get_scores(f\"{experiment}/{store}\", labels, algorithm=\"topsbm\", verbose=False)[labels[0]]\n",
    "    scores['shuffle'] = get_scores_shuffled(f\"{experiment}/{store}\", pd.read_csv(f\"{experiment}/{store}/files.dat\", sep=\",\", index_col=0), label=labels[0], algorithm='topsbm')\n",
    "    normalise_score(scores, base_algorithm=\"shuffle\", operation=lambda x,y: x/y)\n",
    "    \n",
    "    all_scores[experiment]=scores"
   ]
  },
  {
   "cell_type": "code",
   "execution_count": null,
   "id": "unnecessary-rhythm",
   "metadata": {},
   "outputs": [],
   "source": [
    "all_scores[experiment].keys()"
   ]
  },
  {
   "cell_type": "code",
   "execution_count": null,
   "id": "russian-clear",
   "metadata": {},
   "outputs": [],
   "source": [
    "fig = go.Figure()\n",
    "\n",
    "sbmtm_scores = [max(all_scores[experiment][\"hsbm\"][\"norm_V\"]) for experiment in all_scores.keys()]\n",
    "trisbm_scores = [max(all_scores[experiment][\"trisbm\"][\"norm_V\"]) for experiment in all_scores.keys()]\n",
    "        \n",
    "fig.add_traces([\n",
    "    go.Bar(y=sbmtm_scores, name=\"hsbm\"),\n",
    "    go.Bar(y=trisbm_scores, name = \"trisbm\")\n",
    "])\n",
    "\n",
    "titlefont = {\n",
    "    \"size\": 30 \n",
    "}\n",
    "\n",
    "tickfont = {\n",
    "    \"size\":25\n",
    "}\n",
    "\n",
    "layout = {\n",
    "    \"title\":\"NMI\",\n",
    "    \"xaxis\":{\n",
    "        \"title\": \"Dataset\",\n",
    "        \"tickmode\": \"array\",\n",
    "        \"tickvals\": list(range(len(experiments))),\n",
    "        \"ticktext\": experiments,\n",
    "        \"titlefont\": titlefont,\n",
    "        \"tickfont\": tickfont\n",
    "    },\n",
    "    \"yaxis\":{\n",
    "        \"type\":\"log\",\n",
    "        \"title\": \"NMI/NMI*\",\n",
    "        \"titlefont\": titlefont,\n",
    "        \"tickfont\": tickfont,\n",
    "    },\n",
    "    \"legend\":{\n",
    "        \"font_size\":35\n",
    "    }\n",
    "}\n",
    "\n",
    "fig.update_layout(layout)\n",
    "\n",
    "fig.show()"
   ]
  },
  {
   "cell_type": "code",
   "execution_count": null,
   "id": "accomplished-underwear",
   "metadata": {},
   "outputs": [],
   "source": [
    "sbmtm_entropies = []\n",
    "trisbm_entropies = []\n",
    "\n",
    "\n",
    "for experiment in experiments:\n",
    "    with open(f\"{experiment}/sbmtm.pkl\", \"rb\") as file:\n",
    "        model = pickle.load(file)\n",
    "        \n",
    "    sbmtm_entropies.append(model.get_mdl())\n",
    "        \n",
    "    with open(f\"{experiment}/trisbm.pkl\", \"rb\") as file:\n",
    "        model = pickle.load(file)\n",
    "        \n",
    "    trisbm_entropies.append(model.state.entropy())"
   ]
  },
  {
   "cell_type": "code",
   "execution_count": null,
   "id": "based-serbia",
   "metadata": {},
   "outputs": [],
   "source": [
    "fig = go.Figure()\n",
    "\n",
    "        \n",
    "fig.add_traces([\n",
    "    go.Bar(y=sbmtm_entropies, name=\"hsbm\"),\n",
    "    go.Bar(y=trisbm_entropies, name = \"trisbm\")\n",
    "])\n",
    "\n",
    "titlefont = {\n",
    "    \"size\": 30 \n",
    "}\n",
    "\n",
    "tickfont = {\n",
    "    \"size\":25\n",
    "}\n",
    "\n",
    "layout = {\n",
    "    \"title\":\"Entropy\",\n",
    "    \"xaxis\":{\n",
    "        \"title\": \"Dataset\",\n",
    "        \"tickmode\": \"array\",\n",
    "        \"tickvals\": list(range(len(experiments))),\n",
    "        \"ticktext\": experiments,\n",
    "        \"titlefont\": titlefont,\n",
    "        \"tickfont\": tickfont\n",
    "    },\n",
    "    \"yaxis\":{\n",
    "        \"title\": \"∑\",\n",
    "        \"titlefont\": titlefont,\n",
    "        \"tickfont\": tickfont,\n",
    "        \"type\": \"log\"\n",
    "    },\n",
    "    \"legend\":{\n",
    "        \"font_size\":35\n",
    "    }\n",
    "}\n",
    "\n",
    "fig.update_layout(layout)\n",
    "\n",
    "fig.show()"
   ]
  },
  {
   "cell_type": "code",
   "execution_count": null,
   "id": "exclusive-farmer",
   "metadata": {},
   "outputs": [],
   "source": []
  }
 ],
 "metadata": {
  "kernelspec": {
   "display_name": "Python 3",
   "language": "python",
   "name": "python3"
  },
  "language_info": {
   "codemirror_mode": {
    "name": "ipython",
    "version": 3
   },
   "file_extension": ".py",
   "mimetype": "text/x-python",
   "name": "python",
   "nbconvert_exporter": "python",
   "pygments_lexer": "ipython3",
   "version": "3.8.8"
  }
 },
 "nbformat": 4,
 "nbformat_minor": 5
}

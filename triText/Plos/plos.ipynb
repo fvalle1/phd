{
 "cells": [
  {
   "cell_type": "code",
   "execution_count": null,
   "id": "brazilian-uncertainty",
   "metadata": {},
   "outputs": [],
   "source": [
    "import pandas as pd\n",
    "import numpy as np\n",
    "import os,sys\n",
    "sys.path.append(\"../\")\n",
    "from nlp import process_phrase\n",
    "import requests as req\n",
    "import datetime as dt\n",
    "import xml\n",
    "import xml.etree.ElementTree as ET \n",
    "import logging\n",
    "log = logging.getLogger(\"plos\")\n",
    "log.addHandler(logging.StreamHandler())\n",
    "log.setLevel(logging.DEBUG)"
   ]
  },
  {
   "cell_type": "code",
   "execution_count": null,
   "id": "polyphonic-nylon",
   "metadata": {},
   "outputs": [],
   "source": [
    "def get_papers_from(date: dt.datetime):\n",
    "    url = \"https://www.ncbi.nlm.nih.gov/pmc/utils/oa/oa.fcgi\"\n",
    "    r = req.get(url, params={\"from\":date.strftime(\"%Y-%m-%d\")})\n",
    "    return ET.fromstring(r.text).findall(\"./records/record\")\n",
    "\n",
    "papers = get_papers_from(dt.datetime(2021, 3, 15, 8, 0, 0))"
   ]
  },
  {
   "cell_type": "code",
   "execution_count": null,
   "id": "running-press",
   "metadata": {},
   "outputs": [],
   "source": [
    "print(len(papers))\n",
    "papers[0].attrib"
   ]
  },
  {
   "cell_type": "code",
   "execution_count": null,
   "id": "federal-allergy",
   "metadata": {},
   "outputs": [],
   "source": [
    "def get_info(pmid:str)->xml.etree.ElementTree.Element:\n",
    "    url = \"https://www.ncbi.nlm.nih.gov/pmc/utils/oa/oa.fcgi\"\n",
    "    r = req.get(url, params={\"id\":pmid})\n",
    "    if r.status_code == 200:\n",
    "        return ET.fromstring(r.text).find(\"./records/record\")\n",
    "    else:\n",
    "        return None\n",
    "    \n",
    "def get_paper(paper: xml.etree.ElementTree.Element)->xml.etree.ElementTree.Element:\n",
    "    paper_name = paper.attrib[\"id\"]\n",
    "    paper = get_info(paper_name)\n",
    "    if paper is None:\n",
    "        return None\n",
    "    link = [link.attrib[\"href\"] for link in paper.findall(\"link\") if link.attrib[\"format\"]==\"tgz\"][0].replace(\"ftp://\",\"http://\")\n",
    "    os.system(\"mkdir -p data\")\n",
    "    if paper_name in os.listdir(\"./data\"):\n",
    "        return paper\n",
    "    os.chdir(\"./data\")\n",
    "    os.system(\"wget {}\".format(link))\n",
    "    os.system(\"gunzip {}.tar.gz\".format(paper.attrib[\"id\"]))\n",
    "    os.system(\"tar -xf {}.tar\".format(paper.attrib[\"id\"]))\n",
    "    os.system(\"rm -rf {}.tar\".format(paper.attrib[\"id\"]))\n",
    "    os.chdir(\"../\")\n",
    "    #log.info(os.system(\"{}.* data/.\".format(paper.attrib[\"id\"])))\n",
    "    return paper\n",
    "\n",
    "def parse_paper(paper: xml.etree.ElementTree.Element)->list:\n",
    "    paper_name = paper.attrib[\"id\"]\n",
    "    filename = list(filter(lambda file: \".nxml\" in file, os.listdir(f\"data/{paper_name}/\")))[0]\n",
    "    article = ET.parse(f\"data/{paper_name}/{filename}\").find(\".\")\n",
    "    journal = [meta.text for meta in article.findall(\"front/journal-meta/journal-id\") if meta.attrib['journal-id-type']=='nlm-ta']\n",
    "    keywords = [keyword.text for keyword in article.find(\"./front/article-meta/kwd-group\")]\n",
    "    keywords = process_phrase(\" \".join(keywords)).split(\" \")\n",
    "    keywords = list(filter(lambda x: len(x)>0, keywords)) #remove ''\n",
    "    keywords = [\"#\"+keyword for keyword in keywords]\n",
    "    abstract = ET.tostring(article.find(\"./front/article-meta/abstract/\")).decode(\"utf-8\")\n",
    "    return journal, keywords, process_phrase(abstract)\n",
    "\n",
    "def get_and_parse(paper: xml.etree.ElementTree.Element)->list:\n",
    "    try:\n",
    "        return parse_paper(get_paper(paper))\n",
    "    except:\n",
    "        return None, None, None"
   ]
  },
  {
   "cell_type": "code",
   "execution_count": null,
   "id": "aquatic-ireland",
   "metadata": {},
   "outputs": [],
   "source": [
    "paper = get_paper(papers[5])"
   ]
  },
  {
   "cell_type": "code",
   "execution_count": null,
   "id": "english-jackson",
   "metadata": {},
   "outputs": [],
   "source": [
    "paper.attrib"
   ]
  },
  {
   "cell_type": "code",
   "execution_count": null,
   "id": "micro-friday",
   "metadata": {},
   "outputs": [],
   "source": [
    "parse_paper(papers[15])"
   ]
  },
  {
   "cell_type": "code",
   "execution_count": null,
   "id": "bulgarian-inspiration",
   "metadata": {},
   "outputs": [],
   "source": [
    "def get_paper_dfs(paper):\n",
    "    df = pd.DataFrame()\n",
    "    df_meta = pd.DataFrame()\n",
    "    df_files = pd.DataFrame(columns=[\"journal\"])\n",
    "    \n",
    "    journal, labels, text = get_and_parse(paper)\n",
    "    doi = paper.attrib[\"id\"]\n",
    "    \n",
    "    if text is None:\n",
    "        return None\n",
    "    \n",
    "    words = text.split(\" \")\n",
    "    \n",
    "    df_files=df_files.append(pd.Series(name=doi, index=[\"journal\"], data=journal))\n",
    "    df = df.join(pd.Series(*np.unique(words, return_counts=True)[::-1], name=doi), how=\"outer\")\n",
    "    df_meta = df_meta.join(pd.Series(index=labels, data=1, name=doi), how=\"outer\")\n",
    "    \n",
    "    return df, df_meta, df_files\n",
    "\n",
    "def append_callback(x):\n",
    "    global df\n",
    "    global df_meta\n",
    "    global df_files\n",
    "    if x is None:\n",
    "        return None\n",
    "    \n",
    "    df_j, df_meta_j, df_files_j = x\n",
    "    try:\n",
    "        df = df.join(df_j, how=\"outer\") # join new articles\n",
    "        df_meta = df_meta.join(df_meta_j, how=\"outer\") #join new articles\n",
    "        df_files = df_files.append(df_files_j) \n",
    "    except:\n",
    "        pass"
   ]
  },
  {
   "cell_type": "code",
   "execution_count": null,
   "id": "suspended-pharmacy",
   "metadata": {},
   "outputs": [],
   "source": [
    "get_paper_dfs(papers[5])"
   ]
  },
  {
   "cell_type": "code",
   "execution_count": null,
   "id": "scientific-insertion",
   "metadata": {},
   "outputs": [],
   "source": [
    "import multiprocessing as mp"
   ]
  },
  {
   "cell_type": "code",
   "execution_count": null,
   "id": "buried-relief",
   "metadata": {},
   "outputs": [],
   "source": [
    "df = pd.DataFrame()\n",
    "df_meta = pd.DataFrame()\n",
    "df_files = pd.DataFrame(columns=[\"journal\"])\n",
    "\n",
    "pool = mp.Pool(12)\n",
    "\n",
    "work = [pool.apply_async(get_paper_dfs, args=([paper]), callback=append_callback, error_callback=lambda err: log.debug(err)) for paper in papers]\n",
    "\n",
    "pool.close()\n",
    "pool.join()"
   ]
  },
  {
   "cell_type": "code",
   "execution_count": null,
   "id": "modern-associate",
   "metadata": {},
   "outputs": [],
   "source": [
    "df = df.fillna(0).astype(int).drop_duplicates()\n",
    "\n",
    "'''\n",
    "do reindex in two steps to avoid undefined behaviour\n",
    "the sum is made on the new index\n",
    "'''\n",
    "\n",
    "df = df.reindex(columns=df.columns[df.columns.isin(df_files.index.dropna())]) #be sure every columns has a file\n",
    "df = df.reindex(index=list(filter(lambda x:len(x)>0,df.index))) # remove '' from words\n",
    "\n",
    "O = df.apply(lambda x: (x>0).sum(), axis=1)\n",
    "df = df.reindex(index = df.index[O>5]) #words that appear in at least # papers \n",
    "df = df.reindex(columns = df.columns[df.sum(0) > 5]) #docs that have at least # word with repetition \n",
    "\n",
    "df_meta = df_meta.fillna(0).astype(int).drop_duplicates()\n",
    "\n",
    "df_meta = df_meta[~df_meta.index.isin(df.index)] #keywords and words should no overlap\n",
    "\n",
    "df_meta = df_meta.reindex(columns=df.columns) # match df index\n",
    "df_meta = df_meta.reindex(index=df_meta.index[df_meta.sum(1)>1]) # Keywords with at least # paper"
   ]
  },
  {
   "cell_type": "code",
   "execution_count": null,
   "id": "acceptable-matthew",
   "metadata": {},
   "outputs": [],
   "source": [
    "df_files[\"journal\"].unique()"
   ]
  },
  {
   "cell_type": "code",
   "execution_count": null,
   "id": "anticipated-bernard",
   "metadata": {},
   "outputs": [],
   "source": [
    "df.sum(0).min()"
   ]
  },
  {
   "cell_type": "code",
   "execution_count": null,
   "id": "seventh-annotation",
   "metadata": {},
   "outputs": [],
   "source": [
    "print(df.shape)\n",
    "print(df_meta.shape)\n",
    "print(df_files.shape)"
   ]
  },
  {
   "cell_type": "code",
   "execution_count": null,
   "id": "amazing-spiritual",
   "metadata": {},
   "outputs": [],
   "source": [
    "df_meta.sum(1)"
   ]
  },
  {
   "cell_type": "code",
   "execution_count": null,
   "id": "tropical-shaft",
   "metadata": {},
   "outputs": [],
   "source": [
    "import matplotlib.pyplot as plt"
   ]
  },
  {
   "cell_type": "code",
   "execution_count": null,
   "id": "equipped-sample",
   "metadata": {},
   "outputs": [],
   "source": [
    "fig, ax = plt.subplots()\n",
    "df.divide(df.sum(0),1).mean(1).sort_values(ascending=False).plot(ax=ax)\n",
    "\n",
    "x = np.linspace(1,1e3)\n",
    "ax.plot(x,1e-1*x**(-0.9))\n",
    "\n",
    "ax.set_yscale(\"log\")\n",
    "ax.set_xscale(\"log\")\n",
    "fig.savefig(\"zipf.pdf\")"
   ]
  },
  {
   "cell_type": "markdown",
   "id": "removed-trail",
   "metadata": {},
   "source": [
    "# Make hSBM graph"
   ]
  },
  {
   "cell_type": "code",
   "execution_count": null,
   "id": "usual-least",
   "metadata": {},
   "outputs": [],
   "source": [
    "import sys\n",
    "sys.path.append(\"../../hSBM_Topicmodel/\")"
   ]
  },
  {
   "cell_type": "code",
   "execution_count": null,
   "id": "worse-leader",
   "metadata": {},
   "outputs": [],
   "source": [
    "import graph_tool.all as gt\n",
    "from sbmtm import sbmtm"
   ]
  },
  {
   "cell_type": "code",
   "execution_count": null,
   "id": "straight-division",
   "metadata": {},
   "outputs": [],
   "source": [
    "sbmtm = sbmtm()\n",
    "sbmtm.make_graph_from_BoW_df(df)\n",
    "sbmtm.save_graph(\"plos.xml.gz\")"
   ]
  },
  {
   "cell_type": "code",
   "execution_count": null,
   "id": "defensive-worker",
   "metadata": {},
   "outputs": [],
   "source": [
    "g = sbmtm.g\n",
    "g"
   ]
  },
  {
   "cell_type": "code",
   "execution_count": null,
   "id": "promising-grave",
   "metadata": {},
   "outputs": [],
   "source": [
    "sbmtm.fit(n_init=5, verbose=False, B_min=10, parallel=True)"
   ]
  },
  {
   "cell_type": "code",
   "execution_count": null,
   "id": "genetic-cincinnati",
   "metadata": {},
   "outputs": [],
   "source": [
    "os.system(\"rm -rf plos\")\n",
    "os.system(\"mkdir -p plos\")\n",
    "os.chdir(\"plos/\")\n",
    "df_files.to_csv(\"files.dat\")\n",
    "os.system(\"mkdir -p topsbm\")\n",
    "os.chdir(\"topsbm/\")\n",
    "sbmtm.save_data()\n",
    "sbmtm.save_graph()\n",
    "os.chdir(\"../../\")"
   ]
  },
  {
   "cell_type": "code",
   "execution_count": null,
   "id": "chubby-desire",
   "metadata": {},
   "outputs": [],
   "source": [
    "gt.draw_hierarchy(sbmtm.state, layout=\"bipartite\", hedge_pen_width=8, hvertex_size=25, vertex_kind=sbmtm.g.vertex_properties[\"kind\"])"
   ]
  },
  {
   "cell_type": "markdown",
   "id": "listed-current",
   "metadata": {},
   "source": [
    "## triSBM"
   ]
  },
  {
   "cell_type": "code",
   "execution_count": null,
   "id": "boxed-current",
   "metadata": {},
   "outputs": [],
   "source": [
    "sys.path.append(\"../../trisbm/\")\n",
    "from trisbm import trisbm"
   ]
  },
  {
   "cell_type": "code",
   "execution_count": null,
   "id": "systematic-miniature",
   "metadata": {},
   "outputs": [],
   "source": [
    "trisbm = trisbm()\n",
    "trisbm.make_graph(df.append(df_meta), lambda word_keyword: 2 if word_keyword in df_meta.index else 1)"
   ]
  },
  {
   "cell_type": "code",
   "execution_count": null,
   "id": "alike-tsunami",
   "metadata": {},
   "outputs": [],
   "source": [
    "trisbm.save_graph(\"plos_keyword.xml.gz\")"
   ]
  },
  {
   "cell_type": "code",
   "execution_count": null,
   "id": "tutorial-edmonton",
   "metadata": {},
   "outputs": [],
   "source": [
    "trisbm.fit(n_init=5, verbose=False, B_min=15)"
   ]
  },
  {
   "cell_type": "code",
   "execution_count": null,
   "id": "passive-diversity",
   "metadata": {},
   "outputs": [],
   "source": [
    "import os"
   ]
  },
  {
   "cell_type": "code",
   "execution_count": null,
   "id": "spiritual-inspiration",
   "metadata": {},
   "outputs": [],
   "source": [
    "os.system(\"mkdir -p plos_key\")\n",
    "os.system(\"mkdir -p plos_key\")\n",
    "os.chdir(\"plos_key/\")\n",
    "df_files.to_csv(\"files.dat\")\n",
    "os.system(\"mkdir -p trisbm\")\n",
    "os.chdir(\"trisbm/\")\n",
    "trisbm.save_data()\n",
    "trisbm.save_graph()\n",
    "os.chdir(\"../../\")"
   ]
  },
  {
   "cell_type": "code",
   "execution_count": null,
   "id": "directed-baseline",
   "metadata": {},
   "outputs": [],
   "source": [
    "gt.draw_hierarchy(trisbm.state, \n",
    "                  #pos=gt.sfdp_layout(model.g),\n",
    "                  hedge_pen_width=8, \n",
    "                  hvertex_size=25, \n",
    "                  vertex_kind=trisbm.g.vertex_properties[\"kind\"]\n",
    "                 )"
   ]
  },
  {
   "cell_type": "markdown",
   "id": "cooperative-alpha",
   "metadata": {},
   "source": [
    "## Benchmark"
   ]
  },
  {
   "cell_type": "code",
   "execution_count": null,
   "id": "equivalent-infrastructure",
   "metadata": {},
   "outputs": [],
   "source": [
    "from topicpy.hsbmpy import get_scores, get_scores_shuffled, add_score_lines, normalise_score\n",
    "import matplotlib.pyplot as plt\n",
    "import pandas as pd\n",
    "import os"
   ]
  },
  {
   "cell_type": "code",
   "execution_count": null,
   "id": "encouraging-posting",
   "metadata": {},
   "outputs": [],
   "source": [
    "labels = [\"journal\"]\n",
    "scores = get_scores(\"plos_key\", labels, algorithm=\"trisbm\", verbose=False)\n",
    "scores['trisbm'] = scores[labels[0]]\n",
    "scores[\"hsbm\"]=get_scores(\"plos\", labels, algorithm=\"topsbm\", verbose=False)[labels[0]]\n",
    "scores['shuffle'] = get_scores_shuffled(\"plos\", pd.read_csv(\"plos/files.dat\", sep=\",\", index_col=0), label=labels[0], algorithm='topsbm')\n",
    "normalise_score(scores, base_algorithm=\"shuffle\", operation=lambda x,y: x/y)"
   ]
  },
  {
   "cell_type": "code",
   "execution_count": null,
   "id": "hungry-corpus",
   "metadata": {},
   "outputs": [],
   "source": [
    "fig=plt.figure(figsize=(18,15))\n",
    "ax = fig.subplots(1)\n",
    "add_score_lines(ax,scores,labels=[\"hsbm\",\"trisbm\", \"shuffle\"], V=\"norm_V\", alpha=1)\n",
    "ax.set_xscale('log')\n",
    "ax.set_ylim(0,max(map(lambda s: max(s[\"norm_V\"]), scores.values()))*1.1)\n",
    "ax.set_xlim(0,max(map(lambda s: max(s[\"xl\"]), scores.values()))*1.1)\n",
    "\n",
    "plt.show()\n",
    "fig.savefig(\"metric_scores.pdf\")"
   ]
  },
  {
   "cell_type": "code",
   "execution_count": null,
   "id": "swedish-floor",
   "metadata": {},
   "outputs": [],
   "source": [
    "import plotly.graph_objects as go"
   ]
  },
  {
   "cell_type": "code",
   "execution_count": null,
   "id": "responsible-catholic",
   "metadata": {},
   "outputs": [],
   "source": [
    "fig = go.Figure()\n",
    "fig.add_traces([\n",
    "    go.Bar(y = [sbmtm.get_mdl()], name=\"hSBM\"),\n",
    "    go.Bar(y = [trisbm.get_mdl()], name=\"triSBM\")\n",
    "])\n",
    "\n",
    "titlefont = {\n",
    "    \"size\": 30 \n",
    "}\n",
    "\n",
    "tickfont = {\n",
    "    \"size\":25\n",
    "}\n",
    "\n",
    "layout = {\n",
    "    \"title\":\"Plos dataset\",\n",
    "    \"xaxis\":{\n",
    "        \"title\": \"Resolution\",\n",
    "        \"titlefont\": titlefont,\n",
    "        \"tickfont\": tickfont\n",
    "    },\n",
    "    \"yaxis\":{\n",
    "        \"title\": \"∑\",\n",
    "        \"type\":\"log\",\n",
    "        #\"range\": [10e3,20e3],\n",
    "        \"titlefont\": titlefont,\n",
    "        \"tickfont\": tickfont\n",
    "    },\n",
    "    \"legend\":{\n",
    "        \"font_size\":35\n",
    "    }\n",
    "}\n",
    "\n",
    "fig.update_layout(layout)\n",
    "#fig.write_image(\"metric_entropies_bar.pdf\")"
   ]
  },
  {
   "cell_type": "code",
   "execution_count": null,
   "id": "certified-modem",
   "metadata": {},
   "outputs": [],
   "source": [
    "fig = go.Figure()\n",
    "fig.add_traces([\n",
    "    go.Bar(y=scores[\"hsbm\"][\"norm_V\"], name=\"hSBM\"),\n",
    "    go.Bar(y=scores[\"trisbm\"][\"norm_V\"], name=\"triSBM\")\n",
    "])\n",
    "\n",
    "titlefont = {\n",
    "    \"size\": 30 \n",
    "}\n",
    "\n",
    "tickfont = {\n",
    "    \"size\":25\n",
    "}\n",
    "\n",
    "layout = {\n",
    "    \"title\":\"Plos dataset\",\n",
    "    \"xaxis\":{\n",
    "        \"title\": \"Resolution\",\n",
    "        \"titlefont\": titlefont,\n",
    "        \"tickfont\": tickfont\n",
    "    },\n",
    "    \"yaxis\":{\n",
    "        \"title\": \"NMI/NMI*\",\n",
    "        \"titlefont\": titlefont,\n",
    "        \"tickfont\": tickfont\n",
    "    },\n",
    "    \"legend\":{\n",
    "        \"font_size\":35\n",
    "    }\n",
    "}\n",
    "\n",
    "fig.update_layout(layout)\n",
    "#fig.write_image(\"metric_scores_bar.pdf\")"
   ]
  },
  {
   "cell_type": "code",
   "execution_count": null,
   "id": "caroline-carry",
   "metadata": {},
   "outputs": [],
   "source": [
    "from topicpy.hsbmpy import clusteranalysis"
   ]
  },
  {
   "cell_type": "code",
   "execution_count": null,
   "id": "featured-accommodation",
   "metadata": {},
   "outputs": [],
   "source": [
    "clusteranalysis(os.getcwd()+\"/plos/\", [\"journal\"], algorithm=\"topsbm\")\n",
    "clusteranalysis(os.getcwd()+\"/plos_key/\", [\"journal\"], algorithm=\"trisbm\")"
   ]
  },
  {
   "cell_type": "code",
   "execution_count": null,
   "id": "competent-shepherd",
   "metadata": {},
   "outputs": [],
   "source": [
    "import cloudpickle as pickle\n",
    "\n",
    "with open(\"sbmtm.pkl\", \"wb\") as file:\n",
    "    pickle.dump(sbmtm, file)\n",
    "    \n",
    "with open(\"trisbm.pkl\", \"wb\") as file:\n",
    "    pickle.dump(trisbm, file)"
   ]
  },
  {
   "cell_type": "code",
   "execution_count": null,
   "id": "historic-egypt",
   "metadata": {},
   "outputs": [],
   "source": []
  }
 ],
 "metadata": {
  "kernelspec": {
   "display_name": "Python 3",
   "language": "python",
   "name": "python3"
  },
  "language_info": {
   "codemirror_mode": {
    "name": "ipython",
    "version": 3
   },
   "file_extension": ".py",
   "mimetype": "text/x-python",
   "name": "python",
   "nbconvert_exporter": "python",
   "pygments_lexer": "ipython3",
   "version": "3.8.8"
  }
 },
 "nbformat": 4,
 "nbformat_minor": 5
}

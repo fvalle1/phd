{
 "cells": [
  {
   "cell_type": "code",
   "execution_count": null,
   "id": "ab328c70",
   "metadata": {},
   "outputs": [],
   "source": [
    "import pandas as pd\n",
    "import numpy as np\n",
    "import os\n",
    "import seaborn as sns\n",
    "import matplotlib.pyplot as plt\n",
    "import plotly.graph_objects as go\n",
    "import plotly.express as px\n",
    "import logging\n",
    "log = logging.getLogger(\"trisbm_cnv\")\n",
    "hdl = logging.StreamHandler()\n",
    "hdl.setLevel(logging.DEBUG)\n",
    "log.addHandler(hdl)\n",
    "log.setLevel(logging.DEBUG)"
   ]
  },
  {
   "cell_type": "code",
   "execution_count": null,
   "id": "d7ee5b77",
   "metadata": {},
   "outputs": [],
   "source": [
    "work_dir=\"datasets/tcga/COAD/mirna_allsamples/\"\n",
    "#working_dir=\"../cancers/breast/\"\n",
    "os.chdir(work_dir)"
   ]
  },
  {
   "cell_type": "markdown",
   "id": "6ef9a9f5",
   "metadata": {},
   "source": [
    "## CNV"
   ]
  },
  {
   "cell_type": "code",
   "execution_count": null,
   "id": "1f5d8c72",
   "metadata": {},
   "outputs": [],
   "source": [
    "df_files = pd.read_csv(\"files.dat\", sep=\",\")\n",
    "df_files.info()"
   ]
  },
  {
   "cell_type": "code",
   "execution_count": null,
   "id": "4e7b5a63",
   "metadata": {},
   "outputs": [],
   "source": [
    "bins = np.linspace(0,100,20)\n",
    "avg = df_files[\"cases.0.diagnoses.0.age_at_diagnosis\"].mean(skipna=True)\n",
    "df_files[\"age_at_diagnosis\"]=pd.cut(df_files[\"cases.0.diagnoses.0.age_at_diagnosis\"].fillna(avg)/365., bins=bins, labels = (bins[1:]+bins[:-1])/2).__array__()"
   ]
  },
  {
   "cell_type": "code",
   "execution_count": null,
   "id": "12f4b149",
   "metadata": {},
   "outputs": [],
   "source": [
    "df_files[\"gender\"] = (df_files[\"cases.0.demographic.gender\"]==\"male\").astype(int)"
   ]
  },
  {
   "cell_type": "code",
   "execution_count": null,
   "id": "116f5639",
   "metadata": {},
   "outputs": [],
   "source": [
    "for letter in [\"a\", \"b\", \"c\"]:\n",
    "    for (old, new) in zip([\"stage %s%s\"%(i,letter) for i in [\"i\", \"ii\", \"iii\", \"iv\"]],[\"stage %s\"%i for i in [\"i\", \"ii\", \"iii\", \"iv\"]]):\n",
    "        df_files.replace(old, new, inplace=True)\n",
    "df_files[\"cases.0.diagnoses.0.tumor_stage\"].unique()"
   ]
  },
  {
   "cell_type": "code",
   "execution_count": null,
   "id": "29df29ec",
   "metadata": {},
   "outputs": [],
   "source": [
    "df_files[\"tumor_stage\"]=df_files[\"cases.0.diagnoses.0.tumor_stage\"]\n",
    "for i,stage in enumerate([\"stage i\", \"stage ii\", \"stage iii\", \"stage iv\", \"stage v\", \"stage x\"]):\n",
    "    df_files[\"tumor_stage\"].replace(stage, i+1, inplace=True)"
   ]
  },
  {
   "cell_type": "code",
   "execution_count": null,
   "id": "66eda67d",
   "metadata": {},
   "outputs": [],
   "source": [
    "#0 = Alive\n",
    "df_files[\"vital_status\"]=(df_files[\"cases.0.demographic.vital_status\"]==\"Dead\").astype(int)"
   ]
  },
  {
   "cell_type": "code",
   "execution_count": null,
   "id": "ae837671",
   "metadata": {},
   "outputs": [],
   "source": [
    "def get_survival(case):\n",
    "    if case[\"cases.0.demographic.vital_status\"] == 1:\n",
    "        return case[\"cases.0.demographic.days_to_death\"]\n",
    "    else:\n",
    "        return case[\"cases.0.diagnoses.0.days_to_last_follow_up\"]\n",
    "\n",
    "df_files[\"days_survival\"] = df_files.apply(get_survival,1)"
   ]
  },
  {
   "cell_type": "code",
   "execution_count": null,
   "id": "4015be23",
   "metadata": {},
   "outputs": [],
   "source": [
    "df_cnv = pd.read_csv(\"mainTable_cnv.csv\", index_col=0).astype(\"Int64\")\n",
    "df_cnv.columns = [sample[:12] for sample in df_cnv.columns]\n",
    "df_cnv.head(2)"
   ]
  },
  {
   "cell_type": "code",
   "execution_count": null,
   "id": "dbfe9420",
   "metadata": {},
   "outputs": [],
   "source": [
    "df_metadata = pd.read_csv(\"trisbm/trisbm_level_1_metadatum-dist.csv\", index_col=1).drop(\"i_doc\",1)\n",
    "df_metadata.head()"
   ]
  },
  {
   "cell_type": "code",
   "execution_count": null,
   "id": "28f80e55",
   "metadata": {},
   "outputs": [],
   "source": [
    "for metadatum in df_metadata.columns:\n",
    "    fig = px.scatter(x=df_cnv.mean(0),\n",
    "                y=df_metadata.subtract(df_metadata.median(0),1)[metadatum].reindex(index=df_cnv.columns),\n",
    "                opacity=0.8\n",
    "               )\n",
    "    fig.update_layout({\n",
    "        \"xaxis_title\":\"cnv\",\n",
    "        \"yaxis_title\":\"P(sample|metadatum)\"\n",
    "    })\n",
    "    fig.show()"
   ]
  },
  {
   "cell_type": "code",
   "execution_count": null,
   "id": "7f237aed",
   "metadata": {},
   "outputs": [],
   "source": [
    "df_metadata = pd.read_csv(\"trisbm/trisbm_level_1_metadata.csv\")\n",
    "df_keywords = pd.read_csv(\"trisbm/trisbm_level_1_keyword-dist.csv\", index_col=0)\n",
    "df_mirna=pd.read_csv(\"/home/jovyan/work/phd/miRNA/miRNA.txt\").drop_duplicates(\"miRBase ID\").set_index(\"miRBase ID\").reindex(index=df_keywords.index).drop_duplicates()\n",
    "df_keywords[\"ensg\"]=df_mirna[\"Gene stable ID\"]\n",
    "assert(df_keywords.index.duplicated().sum()==0)\n",
    "df_keywords.head(2)"
   ]
  },
  {
   "cell_type": "code",
   "execution_count": null,
   "id": "5fe10cdc",
   "metadata": {},
   "outputs": [],
   "source": [
    "for metadatum in df_keywords.columns[:-1]:\n",
    "    mirnas = df_metadata[metadatum].dropna()\n",
    "    mirnas_ensgs = df_mirna[df_mirna.index.isin(mirnas)].dropna().values.ravel()\n",
    "    mirnas_ensgs = df_cnv[df_cnv.index.isin(mirnas_ensgs)].index\n",
    "    mirnas_ensgs = np.unique(mirnas_ensgs)\n",
    "\n",
    "    x = df_keywords[df_keywords[\"ensg\"].isin(mirnas_ensgs)].set_index(\"ensg\").reindex(index=mirnas_ensgs)[metadatum]\n",
    "    y = df_cnv.drop_duplicates().reindex(index=mirnas_ensgs).mean(1)\n",
    "    mask = (~np.isnan(x)) & (~np.isnan(y))\n",
    "    \n",
    "    #log.debug(len(mirnas_ensgs))\n",
    "    \n",
    "    fig = px.scatter(x=x[mask], \n",
    "                     y=y[mask],\n",
    "                   # text=mirnas_ensgs[mask]\n",
    "                    )\n",
    "\n",
    "    fig.update_layout({\n",
    "            \"title\":metadatum,\n",
    "            \"xaxis_title\":\"P(miRNA|metadatum)\",\n",
    "            \"yaxis_title\":\"cnv\"\n",
    "        })\n",
    "    fig.show()"
   ]
  },
  {
   "cell_type": "code",
   "execution_count": null,
   "id": "7da25e09",
   "metadata": {},
   "outputs": [],
   "source": []
  }
 ],
 "metadata": {
  "kernelspec": {
   "display_name": "Python 3",
   "language": "python",
   "name": "python3"
  },
  "language_info": {
   "codemirror_mode": {
    "name": "ipython",
    "version": 3
   },
   "file_extension": ".py",
   "mimetype": "text/x-python",
   "name": "python",
   "nbconvert_exporter": "python",
   "pygments_lexer": "ipython3",
   "version": "3.8.8"
  }
 },
 "nbformat": 4,
 "nbformat_minor": 5
}

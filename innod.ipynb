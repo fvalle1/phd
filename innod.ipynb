{
 "cells": [
  {
   "cell_type": "code",
   "execution_count": null,
   "metadata": {},
   "outputs": [],
   "source": [
    "import pandas as pd\n",
    "import numpy as np\n",
    "import matplotlib.pyplot as plt\n",
    "from frontiers_analysis import load_tissue"
   ]
  },
  {
   "cell_type": "code",
   "execution_count": null,
   "metadata": {},
   "outputs": [],
   "source": [
    "import pandas as pd\n",
    "tissue=\"Kidney\"\n",
    "try:\n",
    "    df = pd.read_csv(f\"The_single_cell_transcriptome_as_a_component_system/MouseCellAtlas/mca/mainTable_{tissue}.csv\", index_col=0)\n",
    "    M = df.sum(0)\n",
    "    f = df.divide(M,1).mean(1)\n",
    "    O = df.apply(lambda x: (x>0).sum(), 1)\n",
    "except:\n",
    "    print(\"Loading with pickle\")\n",
    "    data = load_tissue(tissue)\n",
    "    M = data[\"M\"]\n",
    "    f = data[\"f\"]\n",
    "    O = data[\"O\"]"
   ]
  },
  {
   "cell_type": "code",
   "execution_count": null,
   "metadata": {},
   "outputs": [],
   "source": [
    "def u(n):\n",
    "    "
   ]
  },
  {
   "cell_type": "code",
   "execution_count": null,
   "metadata": {},
   "outputs": [],
   "source": [
    "rng = np.random.default_rng()"
   ]
  },
  {
   "cell_type": "code",
   "execution_count": null,
   "metadata": {},
   "outputs": [],
   "source": [
    "alpha = df.index[rng.integers(0, df.shape[0])]"
   ]
  },
  {
   "cell_type": "code",
   "execution_count": null,
   "metadata": {},
   "outputs": [],
   "source": [
    "row = df[df.index==alpha]"
   ]
  },
  {
   "cell_type": "code",
   "execution_count": null,
   "metadata": {},
   "outputs": [],
   "source": [
    "data={}\n",
    "for alpha in [df.index[rng.integers(0, df.shape[0])] for _ in range(10)]:\n",
    "    print(alpha)\n",
    "    data[alpha] = []\n",
    "    for n in np.linspace(0, df.shape[0]-1, df.shape[0]-1, dtype=int):\n",
    "        print(f\"doing..{n+1}\")\n",
    "        ensamble = []\n",
    "        for _ in range(25):\n",
    "            components = rng.choice(df.index,size = n+1, replace=False)\n",
    "            mask = pd.Series(index=dictionary, data=0)\n",
    "            mask[components] = 1\n",
    "            components_alpha = np.concatenate([[alpha],components])\n",
    "            mask_alpha = pd.Series(index=dictionary, data=0)\n",
    "            mask_alpha[components_alpha] = 1\n",
    "            done = 0\n",
    "            done_with_alpha = 0\n",
    "            for column in df.columns:\n",
    "                if (df.shape[0]-(df.loc[:,column]==mask).sum()) == 0:\n",
    "                    done += 1\n",
    "                if (df.shape[0]-(df.loc[:,column]==mask_alpha).sum()) == 0:\n",
    "                    done_with_alpha +=1\n",
    "                    \n",
    "            ensamble.append([done,done_with_alpha])\n",
    "        data[alpha].append(np.average(ensamble,0))\n",
    "data"
   ]
  },
  {
   "cell_type": "code",
   "execution_count": null,
   "metadata": {},
   "outputs": [],
   "source": [
    "dictionary = df.index\n",
    "mask = pd.Series(index=dictionary, data=0)\n",
    "mask[components] = 1\n",
    "for column in df.columns:\n",
    "    if (df.shape[0]-(df.loc[:,column]==mask).sum()) == 0:\n",
    "        print(column)\n",
    "        break"
   ]
  },
  {
   "cell_type": "code",
   "execution_count": null,
   "metadata": {},
   "outputs": [],
   "source": [
    "df.shape[0] - (mask == mask).sum()"
   ]
  },
  {
   "cell_type": "code",
   "execution_count": null,
   "metadata": {},
   "outputs": [],
   "source": [
    "for gene in data.keys():\n",
    "    mu = np.array(data[gene]).T[1]\n",
    "    plt.plot(mu, label=gene)\n",
    "plt.legend()"
   ]
  },
  {
   "cell_type": "code",
   "execution_count": null,
   "metadata": {},
   "outputs": [],
   "source": [
    "np.array(data).T[0]"
   ]
  },
  {
   "cell_type": "code",
   "execution_count": null,
   "metadata": {},
   "outputs": [],
   "source": [
    "data"
   ]
  },
  {
   "cell_type": "code",
   "execution_count": null,
   "metadata": {},
   "outputs": [],
   "source": []
  }
 ],
 "metadata": {
  "kernelspec": {
   "display_name": "Python 3",
   "language": "python",
   "name": "python3"
  },
  "language_info": {
   "codemirror_mode": {
    "name": "ipython",
    "version": 3
   },
   "file_extension": ".py",
   "mimetype": "text/x-python",
   "name": "python",
   "nbconvert_exporter": "python",
   "pygments_lexer": "ipython3",
   "version": "3.8.5"
  }
 },
 "nbformat": 4,
 "nbformat_minor": 4
}

{
 "cells": [
  {
   "cell_type": "code",
   "execution_count": null,
   "metadata": {
    "id": "1wA73gmmCe97"
   },
   "outputs": [],
   "source": [
    "import os\n",
    "os.chdir(\"/content/drive/MyDrive/phd/datasets\")"
   ]
  },
  {
   "cell_type": "code",
   "execution_count": null,
   "metadata": {
    "colab": {
     "base_uri": "https://localhost:8080/"
    },
    "id": "UpOa8y_rD66n",
    "outputId": "b7d7050a-7f81-4d08-8607-fcec1388a985"
   },
   "outputs": [],
   "source": [
    "os.listdir()"
   ]
  },
  {
   "cell_type": "code",
   "execution_count": null,
   "metadata": {
    "id": "JfIauQx5EEln"
   },
   "outputs": [],
   "source": [
    "!tar -xf data_medulloblastoma.tar"
   ]
  },
  {
   "cell_type": "code",
   "execution_count": null,
   "metadata": {
    "colab": {
     "base_uri": "https://localhost:8080/"
    },
    "id": "UtIUyTmhEHds",
    "outputId": "9456cdc0-2dc8-44c8-f8bd-f50c58e16fd4"
   },
   "outputs": [],
   "source": [
    "os.chdir(\"data_medulloblastoma/\")\n",
    "os.listdir()"
   ]
  },
  {
   "cell_type": "code",
   "execution_count": null,
   "metadata": {
    "id": "ApJ5CuWkEOc4"
   },
   "outputs": [],
   "source": [
    "import pandas as pd"
   ]
  },
  {
   "cell_type": "code",
   "execution_count": null,
   "metadata": {
    "colab": {
     "base_uri": "https://localhost:8080/",
     "height": 142
    },
    "id": "U9F28FpLESV1",
    "outputId": "af9bb647-cbff-447b-f3a6-434d9d2bb8f4"
   },
   "outputs": [],
   "source": [
    "df_files = pd.read_csv(\"res_group_snf.txt\", sep=\"\\t\", index_col=1).drop(\"ID\", axis=1)\n",
    "df_files.head(2)"
   ]
  },
  {
   "cell_type": "code",
   "execution_count": null,
   "metadata": {
    "colab": {
     "base_uri": "https://localhost:8080/"
    },
    "id": "ugZ3lTo_EbL6",
    "outputId": "dd502cec-3731-43ac-982c-fb26f4069e54"
   },
   "outputs": [],
   "source": [
    "for file, sep in zip(['matrix_rnaseq_log2_rpkm.txt', 'matrix_mirna_log2_cpm.txt', 'matrix_proteome_log2ratio.txt'], [\"\\t\", \" \", \"\\t\"]):\n",
    "    df = pd.read_csv(file, sep = sep)\n",
    "    print(df.shape)\n",
    "    print(df.head(2))"
   ]
  },
  {
   "cell_type": "code",
   "execution_count": null,
   "metadata": {
    "colab": {
     "base_uri": "https://localhost:8080/",
     "height": 162
    },
    "id": "kGVnTX7zKMPB",
    "outputId": "80f4d3fd-9342-486c-a4db-8f41f5e7aa5e"
   },
   "outputs": [],
   "source": [
    "df = pd.read_csv('matrix_rnaseq_log2_rpkm.txt', sep=\"\\t\", index_col=0)\n",
    "df.head(2)"
   ]
  },
  {
   "cell_type": "code",
   "execution_count": null,
   "metadata": {
    "colab": {
     "base_uri": "https://localhost:8080/"
    },
    "id": "FMu3P2JiI_8j",
    "outputId": "8d3f6274-9b90-48e7-8b27-8623f4714f1f"
   },
   "outputs": [],
   "source": [
    "df_files.columns"
   ]
  },
  {
   "cell_type": "code",
   "execution_count": null,
   "metadata": {
    "colab": {
     "base_uri": "https://localhost:8080/"
    },
    "id": "2szCDZX0JY3P",
    "outputId": "d618ca9b-832a-411d-d54a-ff155c154f89"
   },
   "outputs": [],
   "source": [
    "df_files[\"group_snf\"].unique()"
   ]
  },
  {
   "cell_type": "code",
   "execution_count": null,
   "metadata": {
    "id": "0Te_u0JpJbby"
   },
   "outputs": [],
   "source": [
    "!python3 -m pip install scanpy > /dev/null &2>1\n",
    "import scanpy as sc"
   ]
  },
  {
   "cell_type": "code",
   "execution_count": null,
   "metadata": {
    "id": "IZkM_hxRJu9S"
   },
   "outputs": [],
   "source": [
    "adata = sc.AnnData(X = df.transpose(),\n",
    "                   obs = df_files.reindex(index=df.columns))"
   ]
  },
  {
   "cell_type": "code",
   "execution_count": null,
   "metadata": {
    "colab": {
     "base_uri": "https://localhost:8080/"
    },
    "id": "-MFpC1oyJhtj",
    "outputId": "c06eceeb-9855-417c-aa31-eb448bb213e8"
   },
   "outputs": [],
   "source": [
    "sc.pp.highly_variable_genes(adata, n_top_genes=5000)"
   ]
  },
  {
   "cell_type": "code",
   "execution_count": null,
   "metadata": {
    "colab": {
     "base_uri": "https://localhost:8080/",
     "height": 279
    },
    "id": "KxyYJr1mKXKK",
    "outputId": "35ba62e2-ac84-4a70-8a44-a699a563a283"
   },
   "outputs": [],
   "source": [
    "sc.pl.highly_variable_genes(adata)"
   ]
  },
  {
   "cell_type": "code",
   "execution_count": null,
   "metadata": {
    "id": "c_V6PGy8KiSL"
   },
   "outputs": [],
   "source": [
    "hvg = adata.var[adata.var[\"highly_variable\"]==True].index"
   ]
  },
  {
   "cell_type": "code",
   "execution_count": null,
   "metadata": {
    "colab": {
     "base_uri": "https://localhost:8080/",
     "height": 216
    },
    "id": "VWJi6gcVM4-v",
    "outputId": "e5801dd2-1bdd-4683-ecda-1c64fe5ebbd8"
   },
   "outputs": [],
   "source": [
    "df_mirna = pd.read_csv(\"matrix_mirna_log2_cpm.txt\", sep=\" \")\n",
    "df_mirna.head(2)"
   ]
  },
  {
   "cell_type": "code",
   "execution_count": null,
   "metadata": {
    "colab": {
     "base_uri": "https://localhost:8080/",
     "height": 148
    },
    "id": "HJM5FXA_NVPU",
    "outputId": "3b50a27d-2c6a-474c-81e1-98c4f94aff47"
   },
   "outputs": [],
   "source": [
    "df = df.reindex(index=hvg).append(df_mirna).dropna(how=\"any\", axis=1, thresh=2000)\n",
    "print(df.shape)\n",
    "df.head(2)"
   ]
  },
  {
   "cell_type": "markdown",
   "metadata": {
    "id": "UFWWet7NN-Eu"
   },
   "source": [
    "# Model"
   ]
  },
  {
   "cell_type": "code",
   "execution_count": null,
   "metadata": {
    "colab": {
     "base_uri": "https://localhost:8080/"
    },
    "id": "uOhdhjtoNaGy",
    "outputId": "4ce6c41b-1ff8-442c-99d9-6af744d7eb62"
   },
   "outputs": [],
   "source": [
    "!echo \"deb https://downloads.skewed.de/apt bionic main\" >> /etc/apt/sources.list\n",
    "!apt-key adv --keyserver keys.openpgp.org --recv-key 612DEFB798507F25 > /dev/null &2>1\n",
    "!apt-get update > /dev/null &2>1 && apt-get install python3-graph-tool --yes > /dev/null &2>1\n",
    "!cd ../../ && git clone https://github.com/fvalle1/trisbm.git"
   ]
  },
  {
   "cell_type": "code",
   "execution_count": null,
   "metadata": {
    "id": "8HP2jREWOGdz"
   },
   "outputs": [],
   "source": [
    "import sys\n",
    "sys.path.append(\"/content/drive/My Drive/phd/trisbm\")"
   ]
  },
  {
   "cell_type": "code",
   "execution_count": null,
   "metadata": {
    "id": "AzagCBXXOKPw"
   },
   "outputs": [],
   "source": [
    "from trisbm.trisbm import trisbm"
   ]
  },
  {
   "cell_type": "code",
   "execution_count": null,
   "metadata": {
    "id": "ZGJEvlenOd7T"
   },
   "outputs": [],
   "source": [
    "model = trisbm()"
   ]
  },
  {
   "cell_type": "code",
   "execution_count": null,
   "metadata": {
    "id": "kscRnAsKQhE1"
   },
   "outputs": [],
   "source": [
    "model.make_graph(df.applymap(lambda rpkm: 2**rpkm -1 ), get_kind=lambda g: 2 if \"hsa\" in g else 1)"
   ]
  },
  {
   "cell_type": "code",
   "execution_count": null,
   "metadata": {
    "colab": {
     "base_uri": "https://localhost:8080/",
     "height": 941
    },
    "id": "ojT_DBi-Q18r",
    "outputId": "3589d4c8-2ed8-44c7-964e-b56490beb8ce"
   },
   "outputs": [],
   "source": [
    "model.fit(n_init=3, verbose=True)\n",
    "!rm -rf trisbm\n",
    "!mkdir -p trisbm\n",
    "os.chdir(\"trisbm\")\n",
    "model.save_data()\n",
    "os.chdir(\"../\")\n",
    "!tar -cf trisbm.tar trisbm/"
   ]
  },
  {
   "cell_type": "code",
   "execution_count": null,
   "metadata": {
    "id": "_8REwtLiREjW"
   },
   "outputs": [],
   "source": [
    "df_files.to_csv(\"files.dat\")"
   ]
  },
  {
   "cell_type": "code",
   "execution_count": null,
   "metadata": {
    "id": "NHIGRnY3SS9C"
   },
   "outputs": [],
   "source": []
  }
 ],
 "metadata": {
  "colab": {
   "name": "datibreast.ipynb",
   "provenance": []
  },
  "kernelspec": {
   "display_name": "Python 3",
   "language": "python",
   "name": "python3"
  },
  "language_info": {
   "codemirror_mode": {
    "name": "ipython",
    "version": 3
   },
   "file_extension": ".py",
   "mimetype": "text/x-python",
   "name": "python",
   "nbconvert_exporter": "python",
   "pygments_lexer": "ipython3",
   "version": "3.8.6"
  }
 },
 "nbformat": 4,
 "nbformat_minor": 4
}

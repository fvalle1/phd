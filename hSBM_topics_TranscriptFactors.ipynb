{
 "cells": [
  {
   "cell_type": "code",
   "execution_count": null,
   "metadata": {},
   "outputs": [],
   "source": [
    "import pandas as pd\n",
    "import numpy as np\n",
    "import matplotlib.pyplot as plt\n",
    "from topicpy.hsbmpy import fraction_bar_plot, get_max_available_L\n",
    "from topicpy.geneontology import get_symbol\n",
    "from tableanalyser import get_ensg, get_symbol\n",
    "from pandarallel import pandarallel\n",
    "pandarallel.initialize(progress_bar=True)"
   ]
  },
  {
   "cell_type": "code",
   "execution_count": null,
   "metadata": {},
   "outputs": [],
   "source": [
    "directory = r'datasets/tcga/BRCA/mirna/'\n",
    "l=get_max_available_L(directory, \"topsbm\")"
   ]
  },
  {
   "cell_type": "code",
   "execution_count": null,
   "metadata": {},
   "outputs": [],
   "source": [
    "import multiprocessing as mp\n",
    "\n",
    "df = pd.DataFrame()\n",
    "\n",
    "def get_series(line):\n",
    "    data = line.split(\"\\t\")\n",
    "    if len(data) < 2:\n",
    "        return pd.Series(dtype=int)\n",
    "    return pd.Series(index = data[2:], name = data[0], data = np.repeat(1, len(data)-2).astype(int), dtype=int)\n",
    "\n",
    "def join_series(series):\n",
    "    global df\n",
    "    if series is not None:\n",
    "        df = df.join(series, how=\"outer\").fillna(0).astype(int)\n",
    "\n",
    "pool = mp.Pool()\n",
    "with open(\"MSigDB/c3.all.v7.1.symbols.gmt\", \"r\") as file:\n",
    "    work = pool.map_async(get_series, file.read().split(\"\\n\"), callback=join_series, error_callback=lambda err: print(err))\n",
    "    \n",
    "pool.close()\n",
    "pool.join()"
   ]
  },
  {
   "cell_type": "code",
   "execution_count": null,
   "metadata": {},
   "outputs": [],
   "source": [
    "df"
   ]
  },
  {
   "cell_type": "code",
   "execution_count": null,
   "metadata": {},
   "outputs": [],
   "source": [
    "df.sum()"
   ]
  },
  {
   "cell_type": "code",
   "execution_count": null,
   "metadata": {},
   "outputs": [],
   "source": [
    "genes = pd.read_csv(\"gene_symbol.txt\", index_col=0)\n",
    "genes"
   ]
  },
  {
   "cell_type": "code",
   "execution_count": null,
   "metadata": {},
   "outputs": [],
   "source": [
    "df_topics = pd.read_csv(\"%s/topsbm/topsbm_level_%d_topics.csv\"%(directory,l))\n",
    "df_topic_distr = pd.read_csv(\"%s/topsbm/topsbm_level_%d_word-dist.csv\"%(directory,l), index_col=0)"
   ]
  },
  {
   "cell_type": "code",
   "execution_count": null,
   "metadata": {},
   "outputs": [],
   "source": [
    "topic_tf = pd.DataFrame(index=df.columns)\n",
    "for topic in df_topics.columns:\n",
    "    print(topic)\n",
    "    #get P(gene|topic) with symbols\n",
    "    subdf = df_topic_distr[topic][df_topic_distr[topic]>0]\n",
    "    subdf.reindex(index=np.unique([get_symbol(e) for e in subdf.index]))\n",
    "    #get TF for current genes\n",
    "    cdf = df[df.index.isin(list(map(get_symbol, subdf.index)))].astype(float)\n",
    "    #weight TF for probability\n",
    "    cdf.multiply(subdf, axis=0).fillna(0.)\n",
    "    #sum # of TF\n",
    "    c_series = cdf.apply(lambda x: np.sum(x.astype(float)), axis=0)\n",
    "    topic_tf.insert(0, topic, c_series)"
   ]
  },
  {
   "cell_type": "code",
   "execution_count": null,
   "metadata": {},
   "outputs": [],
   "source": [
    "mask = topic_tf.sum(1) > 180"
   ]
  },
  {
   "cell_type": "code",
   "execution_count": null,
   "metadata": {},
   "outputs": [],
   "source": [
    "fraction_tf = topic_tf[mask].fillna(0).transpose()\n",
    "#fraction_tf=fraction_tf.divide(fraction_tf.sum(axis=1), axis=0).fillna(0)\n",
    "fraction_tf = fraction_tf.to_dict('list')"
   ]
  },
  {
   "cell_type": "code",
   "execution_count": null,
   "metadata": {},
   "outputs": [],
   "source": [
    "fig=plt.figure(figsize=(15,10))\n",
    "ax=fig.subplots()\n",
    "x = np.arange(1,1+len(df_topics.columns))\n",
    "fraction_bar_plot(x, fraction_tf, ax)\n",
    "ax.tick_params(labelsize=25)\n",
    "ax.set_xlabel(\"Topics\", fontsize=35)\n",
    "#plt.yscale('log')\n",
    "#plt.legend(ncol=20)\n",
    "plt.show()"
   ]
  },
  {
   "cell_type": "code",
   "execution_count": null,
   "metadata": {},
   "outputs": [],
   "source": []
  }
 ],
 "metadata": {
  "kernelspec": {
   "display_name": "Python 3",
   "language": "python",
   "name": "python3"
  },
  "language_info": {
   "codemirror_mode": {
    "name": "ipython",
    "version": 3
   },
   "file_extension": ".py",
   "mimetype": "text/x-python",
   "name": "python",
   "nbconvert_exporter": "python",
   "pygments_lexer": "ipython3",
   "version": "3.8.6"
  }
 },
 "nbformat": 4,
 "nbformat_minor": 4
}

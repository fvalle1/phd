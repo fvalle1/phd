{
 "cells": [
  {
   "cell_type": "code",
   "execution_count": null,
   "id": "supreme-somewhere",
   "metadata": {},
   "outputs": [],
   "source": [
    "import pandas as pd\n",
    "import numpy as np\n",
    "import os\n",
    "import matplotlib.pyplot as plt\n",
    "import requests"
   ]
  },
  {
   "cell_type": "code",
   "execution_count": null,
   "id": "introductory-canada",
   "metadata": {},
   "outputs": [],
   "source": [
    "file_dir = \"../trisbm/mirna\"\n",
    "os.listdir(file_dir)\n",
    "label = \"Subtype_Selected\""
   ]
  },
  {
   "cell_type": "code",
   "execution_count": null,
   "id": "major-costs",
   "metadata": {},
   "outputs": [],
   "source": [
    "list(map(print,pd.read_csv(f\"{file_dir}/trisbm/trisbm_level_1_metadata.csv\")[\"Metadatum 4\"].values))"
   ]
  },
  {
   "cell_type": "code",
   "execution_count": null,
   "id": "social-lease",
   "metadata": {},
   "outputs": [],
   "source": [
    "df_files = pd.read_csv(f\"{file_dir}/files.dat\", index_col=0)"
   ]
  },
  {
   "cell_type": "code",
   "execution_count": null,
   "id": "wicked-spending",
   "metadata": {},
   "outputs": [],
   "source": [
    "df_metadata = pd.read_csv(f\"{file_dir}/trisbm/trisbm_level_1_metadatum-dist.csv\", index_col=1).drop(\"i_doc\", axis=1)\n",
    "df_metadata = df_metadata.join(df_files.loc[:,label], how=\"inner\")"
   ]
  },
  {
   "cell_type": "code",
   "execution_count": null,
   "id": "adjacent-motorcycle",
   "metadata": {},
   "outputs": [],
   "source": [
    "df_metadata.groupby(\"Subtype_Selected\").mean().transpose()"
   ]
  },
  {
   "cell_type": "code",
   "execution_count": null,
   "id": "backed-assessment",
   "metadata": {},
   "outputs": [],
   "source": [
    "fig, ax= plt.subplots(figsize=(9,8))\n",
    "df_metadata.groupby(\"Subtype_Selected\").mean().transpose().plot(ax=ax, lw=10, ls=\"--\")\n",
    "ax.set_xticks(np.linspace(0, df_metadata.shape[1]-2,df_metadata.shape[1]-1))\n",
    "ax.set_xticklabels(labels=df_metadata.columns[:-1], rotation=45)\n",
    "\n",
    "ax.tick_params(labelsize=25, size=10)\n",
    "plt.show()"
   ]
  },
  {
   "cell_type": "code",
   "execution_count": null,
   "id": "balanced-nowhere",
   "metadata": {},
   "outputs": [],
   "source": [
    "df_metadata_centered = df_metadata.subtract(df_metadata.mean(0),1).abs().divide(df_metadata.std(0),1)\n",
    "df_metadata_centered[\"Metadatum 4\"].hist()"
   ]
  },
  {
   "cell_type": "code",
   "execution_count": null,
   "id": "structural-retrieval",
   "metadata": {},
   "outputs": [],
   "source": [
    "case_set = df_metadata_centered[df_metadata_centered[\"Metadatum 4\"]>2].index.values\n",
    "list(map(print, case_set))"
   ]
  },
  {
   "cell_type": "code",
   "execution_count": null,
   "id": "twenty-history",
   "metadata": {},
   "outputs": [],
   "source": [
    "def get_survival(case):\n",
    "    if case[\"cases.0.demographic.vital_status\"] == 1:\n",
    "        return case[\"cases.0.demographic.days_to_death\"]\n",
    "    else:\n",
    "        return case[\"cases.0.diagnoses.0.days_to_last_follow_up\"]\n",
    "\n",
    "df_files[\"days_survival\"] = df_files.apply(get_survival,1)"
   ]
  },
  {
   "cell_type": "code",
   "execution_count": null,
   "id": "quick-event",
   "metadata": {},
   "outputs": [],
   "source": [
    "df_metadata_centered = df_metadata_centered.join(df_files.loc[:, \"days_survival\"])"
   ]
  },
  {
   "cell_type": "code",
   "execution_count": null,
   "id": "framed-windows",
   "metadata": {},
   "outputs": [],
   "source": [
    "x, y =  df_metadata.subtract(df_metadata.mean(0),1)[\"Metadatum 2\"], df_metadata_centered[\"days_survival\"]"
   ]
  },
  {
   "cell_type": "code",
   "execution_count": null,
   "id": "different-circular",
   "metadata": {},
   "outputs": [],
   "source": [
    "fig, ax = plt.subplots(figsize=(9,8))\n",
    "ax.scatter(x,y/365., s=20**2, c=\"gray\")\n",
    "\n",
    "ax.set_xlabel(\"Metadatum\", fontsize=35)\n",
    "ax.set_ylabel(\"Survival [years]\", fontsize=35)\n",
    "\n",
    "ax.tick_params(labelsize=25, size=10)\n",
    "plt.show()"
   ]
  },
  {
   "cell_type": "markdown",
   "id": "adolescent-clerk",
   "metadata": {},
   "source": [
    "## Search"
   ]
  },
  {
   "cell_type": "code",
   "execution_count": null,
   "id": "appreciated-worse",
   "metadata": {},
   "outputs": [],
   "source": [
    "##CNV filters\n",
    "filters = {\n",
    "    \"op\": \"and\",\n",
    "    \"content\":[\n",
    "        {\n",
    "        \"op\": \"in\",\n",
    "        \"content\":{\n",
    "            \"field\": \"files.data_type\",\n",
    "            \"value\": [\"Copy Number Segment\"]\n",
    "            }\n",
    "        },\n",
    "          {\n",
    "        \"op\": \"in\",\n",
    "        \"content\":{\n",
    "               \"field\": \"files.data_category\",\n",
    "                \"value\": [\"copy number variation\"]\n",
    "                }\n",
    "        },\n",
    "        {\n",
    "        \"op\": \"in\",\n",
    "        \"content\":{\n",
    "            \"field\": \"files.data_format\",\n",
    "            \"value\": [\"TXT\"]\n",
    "            }\n",
    "        },\n",
    "        {\n",
    "        \"op\": \"in\",\n",
    "        \"content\":{\n",
    "            \"field\": \"cases.project.project_id\",\n",
    "            \"value\": ['TCGA-BRCA']\n",
    "            }\n",
    "        },\n",
    "        {\n",
    "        \"op\": \"in\",\n",
    "        \"content\":{\n",
    "            \"field\": \"cases.project.program.name\",\n",
    "            \"value\": [\"TCGA\"]\n",
    "            }\n",
    "        }\n",
    "        \n",
    "    ]\n",
    "}"
   ]
  },
  {
   "cell_type": "code",
   "execution_count": null,
   "id": "confidential-ribbon",
   "metadata": {},
   "outputs": [],
   "source": [
    "filters = {\n",
    "    \"op\":\"and\",\n",
    "    \"content\":[\n",
    "    {\n",
    "   \"op\":\"in\",\n",
    "   \"content\":{  \n",
    "      \"field\":\"case.submitter_id\",\n",
    "      \"value\": list(case_set)\n",
    "   }\n",
    "}]\n",
    "}"
   ]
  },
  {
   "cell_type": "code",
   "execution_count": null,
   "id": "alert-personality",
   "metadata": {},
   "outputs": [],
   "source": [
    "params = {\n",
    "    \"filters\": json.dumps(filters),\n",
    "    \"format\": \"TSV\",\n",
    "    \"size\": \"50000\"\n",
    "    }\n",
    "response = requests.get(\"https://api.gdc.cancer.gov/cnv_occurrences?expand=case,cnv\", headers = {\"Content-Type\": \"application/json\"}, params = params)\n",
    "data = [row.replace(\"\\r\",\"\").split(\"\\t\") for row in response.content.decode(\"utf-8\").split(\"\\n\")]\n",
    "df_cnv_occurrences = pd.DataFrame(columns = data[0], data=data[1:-1]).dropna(how=\"all\", axis=0)\n",
    "response = requests.get(\"https://api.gdc.cancer.gov/ssm_occurrences?expand=ssm\", headers = {\"Content-Type\": \"application/json\"}, params = params)\n",
    "data = [row.replace(\"\\r\",\"\").split(\"\\t\") for row in response.content.decode(\"utf-8\").split(\"\\n\")]\n",
    "df_ssm_occurrences = pd.DataFrame(columns = data[0], data=data[1:-1]).dropna(how=\"all\", axis=0)"
   ]
  },
  {
   "cell_type": "code",
   "execution_count": null,
   "id": "novel-diving",
   "metadata": {},
   "outputs": [],
   "source": [
    "def get_gene_from_cnv_id(cnv):\n",
    "    response = requests.get(f'https://api.gdc.cancer.gov/cnvs/{cnv}?pretty=true&expand=consequence.gene')\n",
    "    ret = response.json()\n",
    "    return ret[\"data\"][\"consequence\"][0][\"gene\"][\"gene_id\"]\n",
    "\n",
    "def get_gene_from_ssm_id(ssm):\n",
    "    response = requests.get(f'https://api.gdc.cancer.gov/ssms/{ssm}?pretty=true&expand=consequence.gene')\n",
    "    ret = response.json()\n",
    "    if len(ret[\"data\"][\"gene_aa_change\"]) < 1:\n",
    "        return None\n",
    "    return ret[\"data\"][\"gene_aa_change\"][0].split(\" \")[0]"
   ]
  },
  {
   "cell_type": "code",
   "execution_count": null,
   "id": "included-gravity",
   "metadata": {},
   "outputs": [],
   "source": [
    "df_ssm_id = df_ssm_occurrences[[\"ssm.ssm_id\", \"ssm_occurrence_id\"]].groupby([\"ssm.ssm_id\"]).count().sort_values(\"ssm_occurrence_id\", ascending=False)\n",
    "df_ssm_id.rename(columns={\"ssm_occurrence_id\":\"score\"}, inplace=True)\n",
    "print(df_ssm_id[\"score\"].max())\n",
    "ssm_ids = df_ssm_id[df_ssm_id[\"score\"]>1].index\n",
    "print(len(ssm_ids), \"ssm.cnv_id\")"
   ]
  },
  {
   "cell_type": "code",
   "execution_count": null,
   "id": "incorrect-visiting",
   "metadata": {},
   "outputs": [],
   "source": [
    "df_cnv_id = df_cnv_occurrences[[\"cnv.cnv_id\", \"cnv_occurrence_id\"]].groupby([\"cnv.cnv_id\"]).count().sort_values(\"cnv_occurrence_id\", ascending=False)\n",
    "df_cnv_id.rename(columns={\"cnv_occurrence_id\":\"score\"}, inplace=True)\n",
    "print(df_cnv_id[\"score\"].max())\n",
    "cnv_ids = df_cnv_id[df_cnv_id[\"score\"]>9].index\n",
    "print(len(cnv_ids), \"cnv.cnv_id\")"
   ]
  },
  {
   "cell_type": "code",
   "execution_count": null,
   "id": "duplicate-pilot",
   "metadata": {},
   "outputs": [],
   "source": [
    "get_gene_from_cnv_id(cnv_ids[0])"
   ]
  },
  {
   "cell_type": "code",
   "execution_count": null,
   "id": "judicial-worship",
   "metadata": {},
   "outputs": [],
   "source": [
    "get_gene_from_ssm_id(ssm_ids[0])"
   ]
  },
  {
   "cell_type": "code",
   "execution_count": null,
   "id": "discrete-tragedy",
   "metadata": {},
   "outputs": [],
   "source": [
    "import multiprocessing as mp\n",
    "from time import time\n",
    "\n",
    "start = time()\n",
    "\n",
    "gene_list = []\n",
    "gene_list_from_ssm = []\n",
    "\n",
    "def append_gene(g):\n",
    "    global gene_list\n",
    "    if g is not None:\n",
    "        gene_list.append(g)\n",
    "    \n",
    "def append_gene_from_ssm(g):\n",
    "    global gene_list_from_ssm\n",
    "    if g is not None:\n",
    "        gene_list_from_ssm.append(g)\n",
    "    \n",
    "pool = mp.Pool(2)\n",
    "w = [pool.apply_async(get_gene_from_cnv_id, args=([cnv_id]), callback=append_gene, error_callback=lambda err: print(err)) for cnv_id in cnv_ids]\n",
    "pool.close()\n",
    "\n",
    "poolssm = mp.Pool(2)\n",
    "wssm = [poolssm.apply_async(get_gene_from_ssm_id, args=([ssm_id]), callback=append_gene_from_ssm, error_callback=lambda err: print(err)) for ssm_id in ssm_ids]\n",
    "poolssm.close()\n",
    "\n",
    "\n",
    "pool.join()\n",
    "poolssm.join()\n",
    "\n",
    "\n",
    "time()-start"
   ]
  },
  {
   "cell_type": "code",
   "execution_count": null,
   "id": "reserved-application",
   "metadata": {},
   "outputs": [],
   "source": [
    "list(map(print,gene_list_from_ssm))"
   ]
  },
  {
   "cell_type": "code",
   "execution_count": null,
   "id": "excessive-plastic",
   "metadata": {},
   "outputs": [],
   "source": [
    "list(map(print,gene_list))"
   ]
  },
  {
   "cell_type": "code",
   "execution_count": null,
   "id": "important-judge",
   "metadata": {},
   "outputs": [],
   "source": [
    "import json"
   ]
  },
  {
   "cell_type": "code",
   "execution_count": null,
   "id": "integrated-remedy",
   "metadata": {},
   "outputs": [],
   "source": [
    "with open(\"trisbm|metadatum4|l1/oncogrid.json\", \"r\") as file:\n",
    "    oncogrid = json.loads(file.read())"
   ]
  },
  {
   "cell_type": "code",
   "execution_count": null,
   "id": "adverse-earth",
   "metadata": {},
   "outputs": [],
   "source": [
    "oncogrid.keys()"
   ]
  },
  {
   "cell_type": "code",
   "execution_count": null,
   "id": "immediate-volleyball",
   "metadata": {},
   "outputs": [],
   "source": [
    "onco_genes = pd.read_json(json.dumps(oncogrid[\"genes\"]))\n",
    "onco_genes.head()"
   ]
  },
  {
   "cell_type": "code",
   "execution_count": null,
   "id": "premium-particular",
   "metadata": {},
   "outputs": [],
   "source": [
    "for g in onco_genes[onco_genes[\"_score\"]>1][\"symbol\"]:\n",
    "    print(g)"
   ]
  },
  {
   "cell_type": "code",
   "execution_count": null,
   "id": "forward-railway",
   "metadata": {},
   "outputs": [],
   "source": [
    "pd.read_json(json.dumps(oncogrid[\"cnv_occurrences\"]))[\"cnv\"]"
   ]
  },
  {
   "cell_type": "code",
   "execution_count": null,
   "id": "fatal-athletics",
   "metadata": {},
   "outputs": [],
   "source": [
    "len(cnv_ids)"
   ]
  },
  {
   "cell_type": "code",
   "execution_count": null,
   "id": "mysterious-anaheim",
   "metadata": {},
   "outputs": [],
   "source": []
  }
 ],
 "metadata": {
  "kernelspec": {
   "display_name": "Python 3",
   "language": "python",
   "name": "python3"
  },
  "language_info": {
   "codemirror_mode": {
    "name": "ipython",
    "version": 3
   },
   "file_extension": ".py",
   "mimetype": "text/x-python",
   "name": "python",
   "nbconvert_exporter": "python",
   "pygments_lexer": "ipython3",
   "version": "3.8.6"
  }
 },
 "nbformat": 4,
 "nbformat_minor": 5
}

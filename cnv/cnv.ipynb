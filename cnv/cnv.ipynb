{
 "cells": [
  {
   "cell_type": "code",
   "execution_count": null,
   "id": "d3a45f72",
   "metadata": {},
   "outputs": [],
   "source": [
    "import pandas as pd\n",
    "import numpy as np\n",
    "import os\n",
    "import matplotlib.pyplot as plt\n",
    "import requests\n",
    "import json"
   ]
  },
  {
   "cell_type": "code",
   "execution_count": null,
   "id": "53a44fe3",
   "metadata": {},
   "outputs": [],
   "source": [
    "file_dir = \"%s/../datasets/tcga/COAD/mirna_allsamples/\"%os.getcwd()\n",
    "os.listdir(file_dir)\n",
    "label = \"Subtype_Selected\""
   ]
  },
  {
   "cell_type": "code",
   "execution_count": null,
   "id": "13062d77",
   "metadata": {},
   "outputs": [],
   "source": [
    "list(map(print,pd.read_csv(f\"{file_dir}/trisbm/trisbm_level_0_metadata.csv\")[\"Metadatum 7\"].values))"
   ]
  },
  {
   "cell_type": "code",
   "execution_count": null,
   "id": "b8b41749",
   "metadata": {},
   "outputs": [],
   "source": [
    "df_files = pd.read_csv(f\"{file_dir}/files.dat\", index_col=0)"
   ]
  },
  {
   "cell_type": "code",
   "execution_count": null,
   "id": "b75027cd",
   "metadata": {},
   "outputs": [],
   "source": [
    "df_metadata = pd.read_csv(f\"{file_dir}/trisbm/trisbm_level_0_metadatum-dist.csv\", index_col=1).drop(\"i_doc\", axis=1)\n",
    "df_metadata = df_metadata.join(df_files.loc[:,label], how=\"inner\")"
   ]
  },
  {
   "cell_type": "code",
   "execution_count": null,
   "id": "7e933917",
   "metadata": {},
   "outputs": [],
   "source": [
    "df_metadata.groupby(\"Subtype_Selected\").mean().transpose()"
   ]
  },
  {
   "cell_type": "code",
   "execution_count": null,
   "id": "27d8c26c",
   "metadata": {},
   "outputs": [],
   "source": [
    "fig, ax= plt.subplots(figsize=(9,8))\n",
    "df_metadata.groupby(\"Subtype_Selected\").mean().transpose().plot(ax=ax, lw=10, ls=\"--\")\n",
    "ax.set_xticks(np.linspace(0, df_metadata.shape[1]-2,df_metadata.shape[1]-1))\n",
    "ax.set_xticklabels(labels=df_metadata.columns[:-1], rotation=45)\n",
    "\n",
    "ax.tick_params(labelsize=25, size=10)\n",
    "plt.show()"
   ]
  },
  {
   "cell_type": "code",
   "execution_count": null,
   "id": "8cb2bc22",
   "metadata": {},
   "outputs": [],
   "source": [
    "df_metadata_centered = df_metadata.subtract(df_metadata.mean(0),1).abs().divide(df_metadata.std(0),1)\n",
    "df_metadata_centered[\"Metadatum 7\"].hist()"
   ]
  },
  {
   "cell_type": "code",
   "execution_count": null,
   "id": "5d4a4766",
   "metadata": {},
   "outputs": [],
   "source": [
    "case_set = df_metadata_centered[df_metadata_centered[\"Metadatum 7\"]>2].index.values\n",
    "list(map(print, case_set))"
   ]
  },
  {
   "cell_type": "code",
   "execution_count": null,
   "id": "5c5381a3",
   "metadata": {},
   "outputs": [],
   "source": [
    "def get_survival(case):\n",
    "    if case[\"cases.0.demographic.vital_status\"] == 1:\n",
    "        return case[\"cases.0.demographic.days_to_death\"]\n",
    "    else:\n",
    "        return case[\"cases.0.diagnoses.0.days_to_last_follow_up\"]\n",
    "\n",
    "df_files[\"days_survival\"] = df_files.apply(get_survival,1)"
   ]
  },
  {
   "cell_type": "code",
   "execution_count": null,
   "id": "2ac7b5fa",
   "metadata": {},
   "outputs": [],
   "source": [
    "df_metadata_centered = df_metadata_centered.join(df_files.loc[:, \"days_survival\"])"
   ]
  },
  {
   "cell_type": "code",
   "execution_count": null,
   "id": "7ffe660e",
   "metadata": {},
   "outputs": [],
   "source": [
    "metadatum = \"Metadatum 7\""
   ]
  },
  {
   "cell_type": "code",
   "execution_count": null,
   "id": "5ee1630f",
   "metadata": {},
   "outputs": [],
   "source": [
    "x, y =  df_metadata.subtract(df_metadata.mean(0),1)[metadatum], df_metadata_centered[\"days_survival\"]"
   ]
  },
  {
   "cell_type": "code",
   "execution_count": null,
   "id": "eaa83773",
   "metadata": {},
   "outputs": [],
   "source": [
    "fig, ax = plt.subplots(figsize=(9,8))\n",
    "ax.scatter(x,y/365., s=20**2, c=\"gray\")\n",
    "\n",
    "#ax.set_title(f\"{pearsonr(x[~y.isna()],y[~y.isna()])[0]}\")\n",
    "ax.set_xlabel(\"$\\\\bar{P}$(\"+metadatum+\"|sample)\", fontsize=35)\n",
    "ax.set_ylabel(\"Survival [years]\", fontsize=35)\n",
    "\n",
    "ax.tick_params(labelsize=25, size=10)\n",
    "plt.show()\n",
    "fig.savefig(f\"survival_{metadatum}.pdf\")"
   ]
  },
  {
   "cell_type": "markdown",
   "id": "5dd0cd43",
   "metadata": {},
   "source": [
    "## Search"
   ]
  },
  {
   "cell_type": "code",
   "execution_count": null,
   "id": "79f248d1",
   "metadata": {},
   "outputs": [],
   "source": [
    "##CNV filters\n",
    "filters = {\n",
    "    \"op\": \"and\",\n",
    "    \"content\":[\n",
    "        {\n",
    "        \"op\": \"in\",\n",
    "        \"content\":{\n",
    "            \"field\": \"files.data_type\",\n",
    "            \"value\": [\"Copy Number Segment\"]\n",
    "            }\n",
    "        },\n",
    "          {\n",
    "        \"op\": \"in\",\n",
    "        \"content\":{\n",
    "               \"field\": \"files.data_category\",\n",
    "                \"value\": [\"copy number variation\"]\n",
    "                }\n",
    "        },\n",
    "        {\n",
    "        \"op\": \"in\",\n",
    "        \"content\":{\n",
    "            \"field\": \"files.data_format\",\n",
    "            \"value\": [\"TXT\"]\n",
    "            }\n",
    "        },\n",
    "        {\n",
    "        \"op\": \"in\",\n",
    "        \"content\":{\n",
    "            \"field\": \"cases.project.project_id\",\n",
    "            \"value\": ['TCGA-BRCA']\n",
    "            }\n",
    "        },\n",
    "        {\n",
    "        \"op\": \"in\",\n",
    "        \"content\":{\n",
    "            \"field\": \"cases.project.program.name\",\n",
    "            \"value\": [\"TCGA\"]\n",
    "            }\n",
    "        }\n",
    "        \n",
    "    ]\n",
    "}"
   ]
  },
  {
   "cell_type": "code",
   "execution_count": null,
   "id": "f59ef7c7",
   "metadata": {},
   "outputs": [],
   "source": [
    "filters = {\n",
    "    \"op\":\"and\",\n",
    "    \"content\":[\n",
    "    {\n",
    "   \"op\":\"in\",\n",
    "   \"content\":{  \n",
    "      \"field\":\"case.submitter_id\",\n",
    "      \"value\": list(case_set)\n",
    "   }\n",
    "}]\n",
    "}"
   ]
  },
  {
   "cell_type": "code",
   "execution_count": null,
   "id": "330d7387",
   "metadata": {},
   "outputs": [],
   "source": [
    "params = {\n",
    "    \"filters\": json.dumps(filters),\n",
    "    \"format\": \"TSV\",\n",
    "    \"size\": \"50000\"\n",
    "    }\n",
    "response = requests.get(\"https://api.gdc.cancer.gov/cnv_occurrences?expand=case,cnv\", headers = {\"Content-Type\": \"application/json\"}, params = params)\n",
    "data = [row.replace(\"\\r\",\"\").split(\"\\t\") for row in response.content.decode(\"utf-8\").split(\"\\n\")]\n",
    "df_cnv_occurrences = pd.DataFrame(columns = data[0], data=data[1:-1]).dropna(how=\"all\", axis=0)\n",
    "response = requests.get(\"https://api.gdc.cancer.gov/ssm_occurrences?expand=ssm\", headers = {\"Content-Type\": \"application/json\"}, params = params)\n",
    "data = [row.replace(\"\\r\",\"\").split(\"\\t\") for row in response.content.decode(\"utf-8\").split(\"\\n\")]\n",
    "df_ssm_occurrences = pd.DataFrame(columns = data[0], data=data[1:-1]).dropna(how=\"all\", axis=0)"
   ]
  },
  {
   "cell_type": "code",
   "execution_count": null,
   "id": "183f4842",
   "metadata": {},
   "outputs": [],
   "source": [
    "def get_gene_from_cnv_id(cnv):\n",
    "    response = requests.get(f'https://api.gdc.cancer.gov/cnvs/{cnv}?pretty=true&expand=consequence.gene')\n",
    "    ret = response.json()\n",
    "    return ret[\"data\"][\"consequence\"][0][\"gene\"][\"gene_id\"]\n",
    "\n",
    "def get_gene_from_ssm_id(ssm):\n",
    "    response = requests.get(f'https://api.gdc.cancer.gov/ssms/{ssm}?pretty=true&expand=consequence.gene')\n",
    "    ret = response.json()\n",
    "    if len(ret[\"data\"][\"gene_aa_change\"]) < 1:\n",
    "        return None\n",
    "    return ret[\"data\"][\"gene_aa_change\"][0].split(\" \")[0]"
   ]
  },
  {
   "cell_type": "code",
   "execution_count": null,
   "id": "04356667",
   "metadata": {},
   "outputs": [],
   "source": [
    "df_ssm_id = df_ssm_occurrences[[\"ssm.ssm_id\", \"ssm_occurrence_id\"]].groupby([\"ssm.ssm_id\"]).count().sort_values(\"ssm_occurrence_id\", ascending=False)\n",
    "df_ssm_id.rename(columns={\"ssm_occurrence_id\":\"score\"}, inplace=True)\n",
    "print(df_ssm_id[\"score\"].max())\n",
    "ssm_ids = df_ssm_id[df_ssm_id[\"score\"]>1].index\n",
    "print(len(ssm_ids), \"ssm.cnv_id\")"
   ]
  },
  {
   "cell_type": "code",
   "execution_count": null,
   "id": "1cfeb253",
   "metadata": {},
   "outputs": [],
   "source": [
    "df_cnv_id = df_cnv_occurrences[[\"cnv.cnv_id\", \"cnv_occurrence_id\"]].groupby([\"cnv.cnv_id\"]).count().sort_values(\"cnv_occurrence_id\", ascending=False)\n",
    "df_cnv_id.rename(columns={\"cnv_occurrence_id\":\"score\"}, inplace=True)\n",
    "print(df_cnv_id[\"score\"].max())\n",
    "cnv_ids = df_cnv_id[df_cnv_id[\"score\"]>9].index\n",
    "print(len(cnv_ids), \"cnv.cnv_id\")"
   ]
  },
  {
   "cell_type": "code",
   "execution_count": null,
   "id": "4faef820",
   "metadata": {},
   "outputs": [],
   "source": [
    "get_gene_from_cnv_id(cnv_ids[0])"
   ]
  },
  {
   "cell_type": "code",
   "execution_count": null,
   "id": "c00bb8fe",
   "metadata": {},
   "outputs": [],
   "source": [
    "get_gene_from_ssm_id(ssm_ids[0])"
   ]
  },
  {
   "cell_type": "code",
   "execution_count": null,
   "id": "96324334",
   "metadata": {},
   "outputs": [],
   "source": [
    "import multiprocessing as mp\n",
    "from time import time\n",
    "\n",
    "start = time()\n",
    "\n",
    "gene_list = []\n",
    "gene_list_from_ssm = []\n",
    "\n",
    "def append_gene(g):\n",
    "    global gene_list\n",
    "    if g is not None:\n",
    "        gene_list.append(g)\n",
    "    \n",
    "def append_gene_from_ssm(g):\n",
    "    global gene_list_from_ssm\n",
    "    if g is not None:\n",
    "        gene_list_from_ssm.append(g)\n",
    "    \n",
    "pool = mp.Pool(2)\n",
    "w = [pool.apply_async(get_gene_from_cnv_id, args=([cnv_id]), callback=append_gene, error_callback=lambda err: print(err)) for cnv_id in cnv_ids]\n",
    "pool.close()\n",
    "\n",
    "poolssm = mp.Pool(2)\n",
    "wssm = [poolssm.apply_async(get_gene_from_ssm_id, args=([ssm_id]), callback=append_gene_from_ssm, error_callback=lambda err: print(err)) for ssm_id in ssm_ids]\n",
    "poolssm.close()\n",
    "\n",
    "\n",
    "pool.join()\n",
    "poolssm.join()\n",
    "\n",
    "\n",
    "time()-start"
   ]
  },
  {
   "cell_type": "code",
   "execution_count": null,
   "id": "eb4685e7",
   "metadata": {},
   "outputs": [],
   "source": [
    "list(map(print,gene_list))"
   ]
  },
  {
   "cell_type": "code",
   "execution_count": null,
   "id": "647446d7",
   "metadata": {},
   "outputs": [],
   "source": [
    "from biothings_client import get_client\n",
    "client = get_client(\"gene\")"
   ]
  },
  {
   "cell_type": "code",
   "execution_count": null,
   "id": "e578b271",
   "metadata": {},
   "outputs": [],
   "source": [
    "#client.getgenes(gene_list, 'name,symbol,refseq.rna,type_of_gene,bp')"
   ]
  },
  {
   "cell_type": "code",
   "execution_count": null,
   "id": "702aa954",
   "metadata": {},
   "outputs": [],
   "source": [
    "list(map(print,gene_list))"
   ]
  },
  {
   "cell_type": "code",
   "execution_count": null,
   "id": "71518cf6",
   "metadata": {},
   "outputs": [],
   "source": [
    "with open(\"%strisbm|metadatum7|l0/oncogrid.json\"%file_dir, \"r\") as file:\n",
    "    oncogrid = json.loads(file.read())"
   ]
  },
  {
   "cell_type": "code",
   "execution_count": null,
   "id": "82156d29",
   "metadata": {},
   "outputs": [],
   "source": [
    "oncogrid.keys()"
   ]
  },
  {
   "cell_type": "code",
   "execution_count": null,
   "id": "6d3cf453",
   "metadata": {},
   "outputs": [],
   "source": [
    "onco_genes = pd.read_json(json.dumps(oncogrid[\"genes\"]))\n",
    "onco_genes.head()"
   ]
  },
  {
   "cell_type": "code",
   "execution_count": null,
   "id": "fd58b1f2",
   "metadata": {},
   "outputs": [],
   "source": [
    "for g in onco_genes[onco_genes[\"_score\"]>0][\"symbol\"]:\n",
    "    print(g)"
   ]
  },
  {
   "cell_type": "code",
   "execution_count": null,
   "id": "e18520c0",
   "metadata": {},
   "outputs": [],
   "source": [
    "pd.read_json(json.dumps(oncogrid[\"cnv_occurrences\"]))[\"cnv\"]"
   ]
  },
  {
   "cell_type": "code",
   "execution_count": null,
   "id": "887ce069",
   "metadata": {},
   "outputs": [],
   "source": [
    "len(cnv_ids)"
   ]
  },
  {
   "cell_type": "code",
   "execution_count": null,
   "id": "2fff34bc",
   "metadata": {},
   "outputs": [],
   "source": []
  }
 ],
 "metadata": {
  "kernelspec": {
   "display_name": "Python 3",
   "language": "python",
   "name": "python3"
  },
  "language_info": {
   "codemirror_mode": {
    "name": "ipython",
    "version": 3
   },
   "file_extension": ".py",
   "mimetype": "text/x-python",
   "name": "python",
   "nbconvert_exporter": "python",
   "pygments_lexer": "ipython3",
   "version": "3.8.8"
  }
 },
 "nbformat": 4,
 "nbformat_minor": 5
}

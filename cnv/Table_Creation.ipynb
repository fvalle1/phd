{
 "cells": [
  {
   "cell_type": "markdown",
   "metadata": {},
   "source": [
    "# Create a table with TCGA data"
   ]
  },
  {
   "cell_type": "code",
   "execution_count": null,
   "metadata": {},
   "outputs": [],
   "source": [
    "%load_ext watermark\n",
    "%watermark -v -m  -u -n -p pandas,numpy,matplotlib,regex -a Filippo_Valle -g -r -b -w"
   ]
  },
  {
   "cell_type": "code",
   "execution_count": null,
   "metadata": {},
   "outputs": [],
   "source": [
    "# import libraries\n",
    "import os\n",
    "import sys\n",
    "import pandas as pd\n",
    "import numpy as np\n",
    "import regex as re\n",
    "from matplotlib import pyplot as plt\n",
    "import time"
   ]
  },
  {
   "cell_type": "markdown",
   "metadata": {},
   "source": [
    "Set *working_dir* to the directory where you downloaded files in *data*"
   ]
  },
  {
   "cell_type": "code",
   "execution_count": null,
   "metadata": {},
   "outputs": [],
   "source": [
    "working_dir = \"/home/jovyan/work/phd/cnv/\"\n",
    "os.chdir(working_dir)\n",
    "dirs = os.listdir(\"data\")"
   ]
  },
  {
   "cell_type": "code",
   "execution_count": null,
   "metadata": {},
   "outputs": [],
   "source": [
    "len(dirs)"
   ]
  },
  {
   "cell_type": "markdown",
   "metadata": {},
   "source": [
    "Prepare a list of genes that satisfied filters described by *Dey et al.* [Visualizing the structure of RNA-seq expression data using grade of membership models](https://journals.plos.org/plosgenetics/article?id=10.1371/journal.pgen.1006599)"
   ]
  },
  {
   "cell_type": "code",
   "execution_count": null,
   "metadata": {},
   "outputs": [],
   "source": [
    "#df_genes = pd.read_csv(\"https://stephenslab.github.io/count-clustering/project/utilities/gene_names_all_gtex.txt\", header=None).set_index(0)\n",
    "df_genes = pd.read_csv(\"miRNA.txt\").set_index(\"Gene stable ID\").drop(\"miRBase ID\",1)\n",
    "select_genes = df_genes.index.values"
   ]
  },
  {
   "cell_type": "code",
   "execution_count": null,
   "metadata": {},
   "outputs": [],
   "source": [
    "df = df_genes.copy()\n",
    "#print(len(df['gene']))\n",
    "#df = df.loc[select_genes,:]\n",
    "df.head(10)"
   ]
  },
  {
   "cell_type": "code",
   "execution_count": null,
   "metadata": {},
   "outputs": [],
   "source": [
    "len(df)"
   ]
  },
  {
   "cell_type": "code",
   "execution_count": null,
   "metadata": {},
   "outputs": [],
   "source": [
    "##cnv\n",
    "def getFilenameFromDir(directory):\n",
    "    for element in os.listdir(directory):\n",
    "        if re.match(\"TCGA-[A-Z]*.[a-z0-9]{8}-[a-z0-9]{4}-[a-z0-9]{4}-[a-z0-9]{4}-[a-z0-9]{12}.gene_level_copy_number.tsv\",element):\n",
    "            cfile = element\n",
    "            print(element)\n",
    "            return cfile"
   ]
  },
  {
   "cell_type": "code",
   "execution_count": null,
   "metadata": {},
   "outputs": [],
   "source": [
    "maxacceptables = 15000\n",
    "added = len(df.columns)\n",
    "for i,cdirectory in enumerate(dirs):\n",
    "    if re.match(\"manifest\\.txt\",cdirectory):\n",
    "        print(\"SKIPPING %s \"%cdirectory)\n",
    "        continue\n",
    "    if \"Icon\" in cdirectory:\n",
    "        print(\"SKIPPING %s \"%cdirectory)\n",
    "        continue\n",
    "    if \".DS_Store\" in cdirectory:\n",
    "        print(\"SKIPPING %s \"%cdirectory)\n",
    "        continue\n",
    "    cfile = getFilenameFromDir(\"data/%s\"%cdirectory)\n",
    "    cdf = pd.read_csv((\"data/%s/%s\"%(cdirectory,cfile)), sep='\\t', header=0)\n",
    "    cdf[\"gene_id\"] = [gene[:15] for gene in cdf['gene_id']]\n",
    "    cdf.set_index('gene_id',inplace=True)\n",
    "    cdf = cdf.reindex(index=df_genes.index)\n",
    "    old_L = len(df.columns)\n",
    "    df.insert(0,cfile,cdf[\"copy_number\"].values)\n",
    "    if len(df.columns) != old_L+1:\n",
    "        print(*sys.exc_info())\n",
    "        raise(Exception(\"Not able to add: %s\"%cfile))\n",
    "    if added >= maxacceptables:\n",
    "        break\n",
    "print(added, i)"
   ]
  },
  {
   "cell_type": "code",
   "execution_count": null,
   "metadata": {},
   "outputs": [],
   "source": [
    "#df = pd.read_csv((\"%s/mainTable.csv\"%working_dir))"
   ]
  },
  {
   "cell_type": "code",
   "execution_count": null,
   "metadata": {},
   "outputs": [],
   "source": [
    "print((\"genes:%d\\trealizations:%d\"%(len(df.index),len(df.columns))))"
   ]
  },
  {
   "cell_type": "code",
   "execution_count": null,
   "metadata": {},
   "outputs": [],
   "source": [
    "df.astype(\"Int64\")"
   ]
  },
  {
   "cell_type": "code",
   "execution_count": null,
   "metadata": {},
   "outputs": [],
   "source": [
    "df.dropna(how='all', axis=0).astype(\"Int64\").to_csv(\"mainTable_cnv.csv\", index=True)"
   ]
  },
  {
   "cell_type": "code",
   "execution_count": null,
   "metadata": {},
   "outputs": [],
   "source": [
    "df_files = pd.read_csv(\"files_cnv.dat\", index_col=0).reindex(index=df.columns)\n",
    "df.columns = df_files[\"cases.0.submitter_id\"].values\n",
    "df.dropna(how='all', axis=0).astype(\"Int64\").to_csv(\"mainTable_cnv.csv\", index=True, header=True)"
   ]
  },
  {
   "cell_type": "code",
   "execution_count": null,
   "metadata": {},
   "outputs": [],
   "source": [
    "df"
   ]
  },
  {
   "cell_type": "code",
   "execution_count": null,
   "metadata": {},
   "outputs": [],
   "source": []
  }
 ],
 "metadata": {
  "kernelspec": {
   "display_name": "Python 3",
   "language": "python",
   "name": "python3"
  },
  "language_info": {
   "codemirror_mode": {
    "name": "ipython",
    "version": 3
   },
   "file_extension": ".py",
   "mimetype": "text/x-python",
   "name": "python",
   "nbconvert_exporter": "python",
   "pygments_lexer": "ipython3",
   "version": "3.8.6"
  }
 },
 "nbformat": 4,
 "nbformat_minor": 4
}

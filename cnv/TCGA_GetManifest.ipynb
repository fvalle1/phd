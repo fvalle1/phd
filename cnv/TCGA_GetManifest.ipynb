{
 "cells": [
  {
   "cell_type": "code",
   "execution_count": null,
   "metadata": {},
   "outputs": [],
   "source": [
    "import requests\n",
    "import json\n",
    "import pandas as pd"
   ]
  },
  {
   "cell_type": "code",
   "execution_count": null,
   "metadata": {},
   "outputs": [],
   "source": [
    "files_endpt = \"https://api.gdc.cancer.gov/files\"\n",
    "\n",
    "# The 'fields' parameter is passed as a comma-separated string of single names.\n",
    "fields = [\n",
    "    \"file_name\",\n",
    "    #\"analysis.workflow_type\",\n",
    "    #\"experimental_strategy\",\n",
    "    \"cases.project.primary_site\",\n",
    "    \"cases.project.disease_type\",\n",
    "    \"cases.diagnoses.primary_diagnosis\",\n",
    "    \"cases.submitter_id\",\n",
    "    \"cases.samples.portions.analytes.aliquots.submitter_id\",\n",
    "    \"cases.diagnoses.tumor_stage\",\n",
    "    \"cases.diagnoses.tumor_grade\",\n",
    "    \"cases.diagnoses.progression_or_recurrence\"\n",
    "    \"cases.diagnoses.vital_status\",\n",
    "    \"cases.diagnoses.days_to_birth\",\n",
    "    \"cases.diagnoses.days_to_death\",\n",
    "    \"cases.diagnoses.morphology\",\n",
    "    \"cases.diagnoses.tissue_or_organ_of_origin\",\n",
    "    \"cases.samples.longest_dimension\"\n",
    "    #\"cases.project.project_id\"\n",
    "]\n",
    "\n",
    "fields = ','.join(fields)"
   ]
  },
  {
   "cell_type": "code",
   "execution_count": null,
   "metadata": {},
   "outputs": [],
   "source": [
    "##CNV filters\n",
    "filters = {\n",
    "    \"op\": \"and\",\n",
    "    \"content\":[\n",
    "        {\n",
    "        \"op\": \"in\",\n",
    "        \"content\":{\n",
    "            \"field\": \"files.data_type\",\n",
    "            \"value\": [\"Gene Level Copy Number\"]\n",
    "            }\n",
    "        },\n",
    "          {\n",
    "        \"op\": \"in\",\n",
    "        \"content\":{\n",
    "               \"field\": \"files.data_category\",\n",
    "                \"value\": [\"copy number variation\"]\n",
    "                }\n",
    "        },\n",
    "        {\n",
    "        \"op\": \"in\",\n",
    "        \"content\":{\n",
    "            \"field\": \"files.data_format\",\n",
    "            \"value\": [\"TXT\"]\n",
    "            }\n",
    "        },\n",
    "        {\n",
    "        \"op\": \"in\",\n",
    "        \"content\":{\n",
    "            \"field\": \"cases.project.project_id\",\n",
    "            \"value\": ['TCGA-COAD']\n",
    "            }\n",
    "        },\n",
    "        {\n",
    "        \"op\": \"in\",\n",
    "        \"content\":{\n",
    "            \"field\": \"cases.project.program.name\",\n",
    "            \"value\": [\"TCGA\"]\n",
    "            }\n",
    "        }\n",
    "        \n",
    "    ]\n",
    "}"
   ]
  },
  {
   "cell_type": "code",
   "execution_count": null,
   "metadata": {},
   "outputs": [],
   "source": [
    "# A POST is used, so the filter parameters can be passed directly as a Dict object.\n",
    "##remove manifest to have file fields\n",
    "params = {\n",
    "   \"return_type\": \"manifest\",\n",
    "    \"filters\": filters,\n",
    "    \"fields\": fields,\n",
    "    \"format\": \"TSV\",\n",
    "    \"size\": \"15000\"\n",
    "    }"
   ]
  },
  {
   "cell_type": "code",
   "execution_count": null,
   "metadata": {},
   "outputs": [],
   "source": [
    "# The parameters are passed to 'json' rather than 'params' in this case\n",
    "response = requests.post(files_endpt, headers = {\"Content-Type\": \"application/json\"}, json = params)\n",
    "\n",
    "#print(response.content.decode(\"utf-8\"))"
   ]
  },
  {
   "cell_type": "code",
   "execution_count": null,
   "metadata": {},
   "outputs": [],
   "source": [
    "len(response.content.decode(\"utf-8\"))"
   ]
  },
  {
   "cell_type": "code",
   "execution_count": null,
   "metadata": {},
   "outputs": [],
   "source": [
    "with open(\"manifest.txt\",\"w\") as manifest:\n",
    "    manifest.write(response.content.decode(\"utf-8\"))"
   ]
  },
  {
   "cell_type": "code",
   "execution_count": null,
   "metadata": {},
   "outputs": [],
   "source": [
    "params = {\n",
    "    \"filters\": json.dumps(filters),\n",
    "    \"fields\": \"primary_site,cases.project.project_id,file_name,cases.demographic.vital_status,cases.demographic.gender,cases.diagnoses.age_at_diagnosis,cases.diagnoses.days_to_last_follow_up,cases.demographic.days_to_death,cases.demographic.days_to_birth,cases.submitter_id,samples.portions.analytes.aliquots.submitter_id,cases.diagnoses.last_known_disease_status,cases.diagnoses.tumor_stage,cases.exposures.years_smoked,cases.exposures.cigarettes_per_day,cases.samples.portions.analytes.aliquots.submitter_id\",\n",
    "    \"format\": \"TSV\",\n",
    "    \"size\": \"50000\"\n",
    "    }\n",
    "response = requests.get(\"https://api.gdc.cancer.gov/files\", headers = {\"Content-Type\": \"application/json\"}, params = params)\n",
    "#print(response.content.decode(\"UTF-8\"))\n",
    "with open(\"files.txt\",\"w\") as files:\n",
    "    files.write(response.content.decode(\"utf-8\"))"
   ]
  },
  {
   "cell_type": "code",
   "execution_count": null,
   "metadata": {},
   "outputs": [],
   "source": [
    "df_files = pd.read_csv(\"files.txt\", sep='\\t')\n",
    "df_files.drop(\"id\", axis=1, inplace=True)\n",
    "df_files.set_index(\"file_name\", inplace=True)\n",
    "df_files.head(2)"
   ]
  },
  {
   "cell_type": "code",
   "execution_count": null,
   "metadata": {},
   "outputs": [],
   "source": [
    "df_files.to_csv(\"files_cnv.dat\", header=True)"
   ]
  },
  {
   "cell_type": "code",
   "execution_count": null,
   "metadata": {},
   "outputs": [],
   "source": []
  }
 ],
 "metadata": {
  "kernelspec": {
   "display_name": "Python 3",
   "language": "python",
   "name": "python3"
  },
  "language_info": {
   "codemirror_mode": {
    "name": "ipython",
    "version": 3
   },
   "file_extension": ".py",
   "mimetype": "text/x-python",
   "name": "python",
   "nbconvert_exporter": "python",
   "pygments_lexer": "ipython3",
   "version": "3.8.6"
  },
  "widgets": {
   "application/vnd.jupyter.widget-state+json": {
    "state": {},
    "version_major": 2,
    "version_minor": 0
   }
  }
 },
 "nbformat": 4,
 "nbformat_minor": 4
}

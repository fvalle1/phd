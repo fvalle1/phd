{
 "cells": [
  {
   "cell_type": "code",
   "execution_count": null,
   "id": "roman-funeral",
   "metadata": {},
   "outputs": [],
   "source": [
    "import numpy as np\n",
    "import pandas as pd\n",
    "import os\n",
    "from topicpy.hsbmpy import get_max_available_L"
   ]
  },
  {
   "cell_type": "code",
   "execution_count": null,
   "id": "invisible-enough",
   "metadata": {},
   "outputs": [],
   "source": [
    "directory=f\"/home/jovyan/work/phd/datasets/tcga/COAD/mirna_allsamples/\"\n",
    "os.chdir(directory)"
   ]
  },
  {
   "cell_type": "code",
   "execution_count": null,
   "id": "trying-mixture",
   "metadata": {},
   "outputs": [],
   "source": [
    "L = get_max_available_L(directory, \"trisbm\")"
   ]
  },
  {
   "cell_type": "code",
   "execution_count": null,
   "id": "removed-wesley",
   "metadata": {},
   "outputs": [],
   "source": [
    "os.listdir()"
   ]
  },
  {
   "cell_type": "code",
   "execution_count": null,
   "id": "russian-sending",
   "metadata": {},
   "outputs": [],
   "source": [
    "df_files = pd.read_csv(\"files.dat\", index_col=0)\n",
    "df_files.head(2)"
   ]
  },
  {
   "cell_type": "code",
   "execution_count": null,
   "id": "colored-height",
   "metadata": {},
   "outputs": [],
   "source": [
    "df_isella = pd.read_csv(\"files_isella.csv\", index_col=0)\n",
    "df_isella.index = [\"-\".join(sample.split(\".\")[:3]) for sample in df_isella.index]\n",
    "df_isella.head(2)"
   ]
  },
  {
   "cell_type": "code",
   "execution_count": null,
   "id": "greenhouse-partnership",
   "metadata": {},
   "outputs": [],
   "source": [
    "df_files = df_files.join(df_isella, how=\"inner\")"
   ]
  },
  {
   "cell_type": "code",
   "execution_count": null,
   "id": "eastern-watts",
   "metadata": {},
   "outputs": [],
   "source": [
    "df = pd.read_csv(\"mainTable_all.csv\", index_col=0)\n",
    "df = df.loc[:,df.columns.isin(df_files.index)]\n",
    "df.head(2)"
   ]
  },
  {
   "cell_type": "code",
   "execution_count": null,
   "id": "attended-economy",
   "metadata": {},
   "outputs": [],
   "source": [
    "directory=f\"/home/jovyan/work/phd/datasets/tcga/COAD/isella/\"\n",
    "os.chdir(directory)"
   ]
  },
  {
   "cell_type": "code",
   "execution_count": null,
   "id": "juvenile-calendar",
   "metadata": {},
   "outputs": [],
   "source": [
    "df_files.to_csv(\"files.dat\")"
   ]
  },
  {
   "cell_type": "code",
   "execution_count": null,
   "id": "fitted-detection",
   "metadata": {},
   "outputs": [],
   "source": [
    "import graph_tool as gt\n",
    "import sys\n",
    "sys.path.append(\"/home/jovyan/work/phd/trisbm\")\n",
    "from trisbm import trisbm"
   ]
  },
  {
   "cell_type": "code",
   "execution_count": null,
   "id": "sealed-campaign",
   "metadata": {},
   "outputs": [],
   "source": [
    "model = trisbm()"
   ]
  },
  {
   "cell_type": "code",
   "execution_count": null,
   "id": "capital-fight",
   "metadata": {},
   "outputs": [],
   "source": [
    "model.make_graph(df, lambda gene: 1 if \"ENSG\" in gene else 2)"
   ]
  },
  {
   "cell_type": "code",
   "execution_count": null,
   "id": "thick-better",
   "metadata": {},
   "outputs": [],
   "source": [
    "model.save_graph(\"graph.xml.gz\")"
   ]
  },
  {
   "cell_type": "markdown",
   "id": "understood-palestine",
   "metadata": {},
   "source": [
    "## Fit"
   ]
  },
  {
   "cell_type": "code",
   "execution_count": null,
   "id": "forward-literacy",
   "metadata": {},
   "outputs": [],
   "source": [
    "model.load_graph(\"graph.xml.gz\")\n",
    "model.g"
   ]
  },
  {
   "cell_type": "code",
   "execution_count": null,
   "id": "checked-portuguese",
   "metadata": {},
   "outputs": [],
   "source": [
    "model.fit(n_init=1, B_min=18, B_max=100, overlap=True, deg_corr=True, parallel=True)"
   ]
  },
  {
   "cell_type": "code",
   "execution_count": null,
   "id": "guilty-george",
   "metadata": {},
   "outputs": [],
   "source": [
    "model.save_data()"
   ]
  },
  {
   "cell_type": "code",
   "execution_count": null,
   "id": "rapid-greensboro",
   "metadata": {},
   "outputs": [],
   "source": []
  },
  {
   "cell_type": "markdown",
   "id": "binary-completion",
   "metadata": {},
   "source": [
    "## Purity"
   ]
  },
  {
   "cell_type": "code",
   "execution_count": null,
   "id": "ranking-command",
   "metadata": {},
   "outputs": [],
   "source": [
    "df_files = pd.read_csv(\"files.dat\")\n",
    "df_files.head(2)"
   ]
  },
  {
   "cell_type": "code",
   "execution_count": null,
   "id": "compound-annotation",
   "metadata": {},
   "outputs": [],
   "source": [
    "df_files[\"Tumor Purity estimated by Absolute\"].hist()"
   ]
  },
  {
   "cell_type": "code",
   "execution_count": null,
   "id": "improved-sharing",
   "metadata": {},
   "outputs": [],
   "source": [
    "import matplotlib.pyplot as plt\n",
    "from scipy.stats import pearsonr"
   ]
  },
  {
   "cell_type": "code",
   "execution_count": null,
   "id": "young-hungarian",
   "metadata": {},
   "outputs": [],
   "source": [
    "df_topics = pd.read_csv(\"trisbm/trisbm_level_1_topic-dist.csv\", index_col=1).drop(\"i_doc\", axis=1)\n",
    "df_topics = df_topics.subtract(df_topics.mean(0),1).divide(df_topics.std(0),1)"
   ]
  },
  {
   "cell_type": "code",
   "execution_count": null,
   "id": "decent-excitement",
   "metadata": {},
   "outputs": [],
   "source": [
    "x = df_files[\"Tumor Purity estimated by Absolute\"]\n",
    "\n",
    "for topic in df_topics.columns:\n",
    "    y = df_topics.reindex(index=df_files[\"cases.0.submitter_id\"])[topic]\n",
    "    p = pearsonr(x,y)[0]\n",
    "\n",
    "    print(p)\n",
    "    \n",
    "    plt.scatter(x,y, label=topic)\n",
    "    \n",
    "    \n",
    "plt.xlabel(\"Tumor purity\")\n",
    "plt.ylabel(\"P(sample|metadatum)\")\n",
    "plt.legend()\n",
    "#plt.title(\"Pearson: {}\".format(pearsonr(x,y)[0]))"
   ]
  },
  {
   "cell_type": "code",
   "execution_count": null,
   "id": "armed-indonesia",
   "metadata": {},
   "outputs": [],
   "source": [
    "df_topics"
   ]
  },
  {
   "cell_type": "code",
   "execution_count": null,
   "id": "pharmaceutical-logic",
   "metadata": {},
   "outputs": [],
   "source": []
  }
 ],
 "metadata": {
  "kernelspec": {
   "display_name": "Python 3",
   "language": "python",
   "name": "python3"
  },
  "language_info": {
   "codemirror_mode": {
    "name": "ipython",
    "version": 3
   },
   "file_extension": ".py",
   "mimetype": "text/x-python",
   "name": "python",
   "nbconvert_exporter": "python",
   "pygments_lexer": "ipython3",
   "version": "3.8.6"
  }
 },
 "nbformat": 4,
 "nbformat_minor": 5
}

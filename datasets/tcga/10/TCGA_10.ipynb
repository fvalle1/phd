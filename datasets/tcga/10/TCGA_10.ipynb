{
 "cells": [
  {
   "cell_type": "code",
   "execution_count": null,
   "metadata": {},
   "outputs": [],
   "source": [
    "import pandas as pd\n",
    "import numpy as np\n",
    "import scanpy as sc\n",
    "import requests\n",
    "import regex as re\n",
    "import json\n",
    "import os, sys\n",
    "sys.path.append('/home/fvalle/phd/master_thesis/hsbm/')"
   ]
  },
  {
   "cell_type": "markdown",
   "metadata": {},
   "source": [
    "# Get Manifest File"
   ]
  },
  {
   "cell_type": "code",
   "execution_count": null,
   "metadata": {},
   "outputs": [],
   "source": [
    "files_endpt = \"https://api.gdc.cancer.gov/files\"\n",
    "\n",
    "# The 'fields' parameter is passed as a comma-separated string of single names.\n",
    "fields = [\n",
    "    \"file_name\",\n",
    "    #\"analysis.workflow_type\",\n",
    "    #\"experimental_strategy\",\n",
    "    \"cases.project.primary_site\",\n",
    "    \"cases.project.disease_type\",\n",
    "    #\"cases.diagnoses.primary_diagnosis\",\n",
    "    \"cases.submitter_id\",\n",
    "    \"cases.samples.portions.analytes.aliquots.submitter_id\",\n",
    "    \"cases.diagnoses.tumor_stage\",\n",
    "    \"cases.diagnoses.tumor_grade\",\n",
    "    \"cases.diagnoses.progression_or_recurrence\",\n",
    "    \"cases.diagnoses.prior_malignancy\",\n",
    "    \"cases.project.project_id\"\n",
    "    #\"cases.diagnoses.vital_status\",\n",
    "    #\"cases.diagnoses.days_to_birth\"\n",
    "    #\"cases.project.project_id\"\n",
    "]\n",
    "\n",
    "fields = ','.join(fields)"
   ]
  },
  {
   "cell_type": "code",
   "execution_count": null,
   "metadata": {},
   "outputs": [],
   "source": [
    "# 10 tissues project filters only top 10 tissue (@ 18/12/2019) from TCGA are downloaded\n",
    "filters = {\n",
    "    \"op\": \"and\",\n",
    "    \"content\":[\n",
    "        {\n",
    "        \"op\": \"in\",\n",
    "        \"content\":{\n",
    "            \"field\": \"files.data_type\",\n",
    "            \"value\": [\"Gene Expression Quantification\"]\n",
    "            }\n",
    "        },\n",
    "        {\n",
    "        \"op\": \"in\",\n",
    "        \"content\":{\n",
    "               \"field\": \"files.analysis.workflow_type\",\n",
    "                \"value\": [\"HTSeq - FPKM\"]\n",
    "                }\n",
    "        },\n",
    "        {\n",
    "        \"op\": \"in\",\n",
    "        \"content\":{\n",
    "            \"field\": \"files.data_format\",\n",
    "            \"value\": [\"TXT\"]\n",
    "            }\n",
    "        },\n",
    "        {\n",
    "        \"op\": \"in\",\n",
    "        \"content\":{\n",
    "            \"field\": \"cases.project.program.name\",\n",
    "            \"value\": [\"TCGA\"]\n",
    "            }\n",
    "        },\n",
    "        {\n",
    "        \"op\": \"in\",\n",
    "        \"content\":{\n",
    "            \"field\": \"cases.primary_site\",\n",
    "            \"value\": [\"bladder\",\"brain\",\"breast\",\"bronchus and lung\",\"colon\",\"corpus uteri\",\"kidney\",\"prostate gland\",\"skin\",\"thyroid gland\"]\n",
    "            }\n",
    "        }\n",
    "        \n",
    "    ]\n",
    "}"
   ]
  },
  {
   "cell_type": "code",
   "execution_count": null,
   "metadata": {},
   "outputs": [],
   "source": [
    "# A POST is used, so the filter parameters can be passed directly as a Dict object.\n",
    "##remove manifest to have file fields\n",
    "params = {\n",
    "   \"return_type\": \"manifest\",\n",
    "    \"filters\": filters,\n",
    "    \"fields\": fields,\n",
    "    \"format\": \"TSV\",\n",
    "    \"size\": \"15000\"\n",
    "    }"
   ]
  },
  {
   "cell_type": "code",
   "execution_count": null,
   "metadata": {},
   "outputs": [],
   "source": [
    "# The parameters are passed to 'json' rather than 'params' in this case\n",
    "response = requests.post(files_endpt, headers = {\"Content-Type\": \"application/json\"}, json = params)\n",
    "with open(\"manifest.txt\",\"w\") as manifest:\n",
    "    manifest.write(response.content.decode(\"utf-8\"))\n",
    "    manifest.close()"
   ]
  },
  {
   "cell_type": "markdown",
   "metadata": {},
   "source": [
    "Use **gdc-client** to download data files.\n",
    "\n",
    "```bash\n",
    "mkdir data\n",
    "mv manifest.txt data/.\n",
    "cd data\n",
    "gdc-client download -m manifest.txt\n",
    "```"
   ]
  },
  {
   "cell_type": "code",
   "execution_count": null,
   "metadata": {},
   "outputs": [],
   "source": [
    "#genes filtered as Dey\n",
    "df_genes = pd.read_csv(\"https://stephenslab.github.io/count-clustering/project/utilities/gene_names_all_gtex.txt\", header=None, index_col=0)\n",
    "df = df_genes.copy()"
   ]
  },
  {
   "cell_type": "code",
   "execution_count": null,
   "metadata": {},
   "outputs": [],
   "source": [
    "#fpkm\n",
    "def getFilenameFromDir(directory):\n",
    "    for element in os.listdir(directory):\n",
    "        if re.match(\"[a-zA-Z0-9]{8}-[a-zA-Z0-9]{4}-[a-zA-Z0-9]{4}-[a-zA-Z0-9\\-]{4}-[a-zA-Z0-9\\-]{12}[\\.FPKM]{5}.txt[\\.gz]{0,3}\",element):\n",
    "            cfile = element\n",
    "            print(element)\n",
    "            return cfile\n",
    "    raise BaseException(\"Not found %s\"%os.listdir(directory))"
   ]
  },
  {
   "cell_type": "code",
   "execution_count": null,
   "metadata": {
    "scrolled": true
   },
   "outputs": [],
   "source": [
    "added = len(df.columns)\n",
    "for i,cdirectory in enumerate(os.listdir(\"data\")):\n",
    "    if re.match(\"manifest\\.txt\",cdirectory):\n",
    "        print(\"SKIPPING %s \"%cdirectory)\n",
    "        continue\n",
    "    if \"Icon\" in cdirectory:\n",
    "        print(\"SKIPPING %s \"%cdirectory)\n",
    "        continue\n",
    "    cfile = getFilenameFromDir(\"data/%s\"%cdirectory)\n",
    "    cdf = pd.read_csv((\"data/%s/%s\"%(cdirectory,cfile)), sep='\\t', header=None)\n",
    "    cdf.columns = [\"gene\", cfile[:]]\n",
    "    cdf['gene'] = [gene[:15] for gene in cdf['gene']]\n",
    "    cdf.set_index('gene',inplace=True)\n",
    "    cdf = cdf.reindex(index=df_genes.index)\n",
    "    old_L = len(df.columns)\n",
    "    df.insert(0,cdf.keys()[0][:],cdf.values)\n",
    "    if len(df.columns) != old_L+1:\n",
    "        print(*sys.exc_info())\n",
    "        raise(Exception(\"Not able to add: %s\"%cfile))\n",
    "print(added, i)"
   ]
  },
  {
   "cell_type": "code",
   "execution_count": null,
   "metadata": {},
   "outputs": [],
   "source": [
    "df.dropna(how='all', axis=0, inplace=True)"
   ]
  },
  {
   "cell_type": "code",
   "execution_count": null,
   "metadata": {},
   "outputs": [],
   "source": [
    "params = {\n",
    "    \"filters\": filters,\n",
    "    \"fields\": fields,\n",
    "    \"format\": \"TSV\",\n",
    "    \"size\": \"15000\"\n",
    "    }\n",
    "response = requests.post(files_endpt, headers = {\"Content-Type\": \"application/json\"}, json = params)\n",
    "files_data = [row.split('\\t') for row in response.content.decode(\"utf-8\").split('\\r\\n')]\n",
    "df_files = pd.DataFrame(data=files_data[1:], columns=files_data[0])\n",
    "df_files = df_files.set_index('file_name').dropna()\n",
    "del files_data"
   ]
  },
  {
   "cell_type": "markdown",
   "metadata": {},
   "source": [
    "# Select tissues"
   ]
  },
  {
   "cell_type": "code",
   "execution_count": null,
   "metadata": {},
   "outputs": [],
   "source": [
    "rs = np.random.RandomState(seed=42)\n",
    "samples = pd.DataFrame(columns=df_files.columns)\n",
    "for site in df_files.groupby('cases.0.project.primary_site').count().sort_values(by='cases.0.project.project_id', ascending=False).index[:10]:\n",
    "    samples = samples.append(df_files[df_files['cases.0.project.primary_site']==site].sample(100, random_state=rs))"
   ]
  },
  {
   "cell_type": "markdown",
   "metadata": {},
   "source": [
    "# Select HVG"
   ]
  },
  {
   "cell_type": "code",
   "execution_count": null,
   "metadata": {},
   "outputs": [],
   "source": [
    "adata = sc.AnnData(X=df[samples.index].transpose(), obs=df_files.reindex(index=samples.index))"
   ]
  },
  {
   "cell_type": "code",
   "execution_count": null,
   "metadata": {},
   "outputs": [],
   "source": [
    "adata_log=sc.pp.log1p(adata, copy=True)"
   ]
  },
  {
   "cell_type": "code",
   "execution_count": null,
   "metadata": {},
   "outputs": [],
   "source": [
    "sc.pp.highly_variable_genes(adata_log, n_top_genes=3000, n_bins=50, max_mean=8)"
   ]
  },
  {
   "cell_type": "code",
   "execution_count": null,
   "metadata": {},
   "outputs": [],
   "source": [
    "sc.pl.highly_variable_genes(adata_log, save=\"hvg.svg\")"
   ]
  },
  {
   "cell_type": "code",
   "execution_count": null,
   "metadata": {},
   "outputs": [],
   "source": [
    "hvg = adata_log.var[adata_log.var['highly_variable']==True].index\n",
    "samples = adata_log.obs.index"
   ]
  },
  {
   "cell_type": "markdown",
   "metadata": {},
   "source": [
    "# Null model"
   ]
  },
  {
   "cell_type": "code",
   "execution_count": null,
   "metadata": {},
   "outputs": [],
   "source": [
    "A = df.loc[:,samples].sum(axis=1)\n",
    "M = df.loc[:,samples].sum(axis=0)"
   ]
  },
  {
   "cell_type": "code",
   "execution_count": null,
   "metadata": {},
   "outputs": [],
   "source": [
    "rs = np.random.RandomState(seed=42)\n",
    "df_null = pd.DataFrame(index=A.index)\n",
    "for sample in M.index:\n",
    "    df_null.insert(0,sample,np.average(np.array([rs.multinomial(M[sample], A.astype(float).values/A.sum()) for _ in range(100)]), axis=0))\n",
    "#df_null=df_null.astype(int)"
   ]
  },
  {
   "cell_type": "code",
   "execution_count": null,
   "metadata": {},
   "outputs": [],
   "source": [
    "import matplotlib.pyplot as plt\n",
    "import seaborn as sns\n",
    "sns.set()\n",
    "sns.set_context('paper')"
   ]
  },
  {
   "cell_type": "code",
   "execution_count": null,
   "metadata": {},
   "outputs": [],
   "source": [
    "ax.get_yticks().dtype"
   ]
  },
  {
   "cell_type": "code",
   "execution_count": null,
   "metadata": {},
   "outputs": [],
   "source": [
    "fig, ax = plt.subplots()\n",
    "A.sort_values(ascending=False).plot(logx=True, logy=True, lw=5, ax=ax)\n",
    "df_null.sum(axis=1).sort_values(ascending=False).plot(logx=True, logy=True, ls='--', lw=5, ax=ax)\n",
    "ax.set_xlabel('rank, $i$', fontsize=20)\n",
    "ax.set_ylabel('frequency, $f_i$', fontsize=20)\n",
    "ax.tick_params(labelsize=18)\n",
    "ax.set_xticks(ticks =np.array([1,1e1,1e2,1e3,1e4]))\n",
    "ax.set_xticklabels(labels =np.array([1,1e1,1e2,1e3,1e4], dtype=np.float64))\n",
    "plt.show()"
   ]
  },
  {
   "cell_type": "code",
   "execution_count": null,
   "metadata": {},
   "outputs": [],
   "source": [
    "fig, ax = plt.subplots()\n",
    "M.hist(histtype='step', lw=5, ax=ax)\n",
    "df_null.sum(axis=0).hist(histtype='step', ls='--', lw=5, ax=ax)\n",
    "ax.set_xlabel('Size, $M$', fontsize=20)\n",
    "ax.set_ylabel('#', fontsize=20)\n",
    "ax.tick_params(labelsize=18)\n",
    "plt.show()"
   ]
  },
  {
   "cell_type": "code",
   "execution_count": null,
   "metadata": {},
   "outputs": [],
   "source": [
    "fig, ax = plt.subplots()\n",
    "df.apply(lambda x: len(x[x>=1])/float(len(x)), axis=1).hist(histtype='step', lw=5, density=True, ax=ax)\n",
    "df_null.apply(lambda x: len(x[x>=1])/float(len(x)), axis=1).hist(histtype='step', lw=5, ls='--', density=True, ax=ax)\n",
    "ax.set_xlabel('Occurrence, $O_i$', fontsize=20)\n",
    "ax.set_ylabel('pdf', fontsize=20)\n",
    "ax.tick_params(labelsize=18)\n",
    "plt.show()"
   ]
  },
  {
   "cell_type": "markdown",
   "metadata": {},
   "source": [
    "## CV2"
   ]
  },
  {
   "cell_type": "code",
   "execution_count": null,
   "metadata": {},
   "outputs": [],
   "source": [
    "means = df.loc[:,samples].mean(axis=1)\n",
    "var = df.loc[:,samples].var(axis=1)\n",
    "cv2=var/means/means\n",
    "\n",
    "means_hv = df.loc[hvg, samples].mean(axis=1)\n",
    "var_hv = df.loc[hvg, samples].var(axis=1)\n",
    "cv2_hv = var_hv/means_hv/means_hv\n",
    "\n",
    "means_null = df_null.mean(axis=1)\n",
    "var_null = df_null.var(axis=1)\n",
    "cv2_null = var_null/means_null/means_null\n",
    "\n",
    "means_null_hv = df_null.loc[hvg, samples].mean(axis=1)\n",
    "var_null_hv = df_null.loc[hvg, samples].var(axis=1)\n",
    "cv2_null_hv = var_null_hv/means_null_hv/means_null_hv"
   ]
  },
  {
   "cell_type": "code",
   "execution_count": null,
   "metadata": {},
   "outputs": [],
   "source": [
    "fig, ax = plt.subplots(figsize=(12,8))\n",
    "ax.scatter(means, cv2, c='b', label='data')\n",
    "ax.scatter(means_null, cv2_null, c='orange', label='null model')\n",
    "ax.scatter(means_hv, cv2_hv, c='cyan',  marker='x', label='HV')\n",
    "ax.scatter(means_null_hv, cv2_null_hv, c='red',  marker='x', label='HV of null model')\n",
    "ax.set_xscale('log')\n",
    "ax.set_yscale('log')\n",
    "ax.set_xlim(1e-3,1e4)\n",
    "ax.set_ylim(1e-2,1e3)\n",
    "ax.set_xlabel('mean', fontsize=20)\n",
    "ax.set_ylabel('$CV^2$', fontsize=20)\n",
    "ax.tick_params(labelsize=18)\n",
    "ax.legend(fontsize=20, ncol=2)\n",
    "plt.show()\n",
    "fig.savefig(\"cv_tcga_10.pdf\")"
   ]
  },
  {
   "cell_type": "markdown",
   "metadata": {},
   "source": [
    "# Apply SBM"
   ]
  },
  {
   "cell_type": "code",
   "execution_count": null,
   "metadata": {},
   "outputs": [],
   "source": [
    "from sbmtm import sbmtm"
   ]
  },
  {
   "cell_type": "markdown",
   "metadata": {},
   "source": [
    "## HVG"
   ]
  },
  {
   "cell_type": "code",
   "execution_count": null,
   "metadata": {},
   "outputs": [],
   "source": [
    "model = sbmtm()"
   ]
  },
  {
   "cell_type": "code",
   "execution_count": null,
   "metadata": {},
   "outputs": [],
   "source": [
    "model.make_graph_from_BoW_df(df.reindex(index=hvg, columns=samples))"
   ]
  },
  {
   "cell_type": "code",
   "execution_count": null,
   "metadata": {},
   "outputs": [],
   "source": [
    "model.save_graph(\"graph.xml.gz\")"
   ]
  },
  {
   "cell_type": "markdown",
   "metadata": {},
   "source": [
    "## Null model"
   ]
  },
  {
   "cell_type": "code",
   "execution_count": null,
   "metadata": {},
   "outputs": [],
   "source": [
    "model = sbmtm()\n",
    "model.make_graph_from_BoW_df(df_null.reindex(index=hvg, columns=samples))\n",
    "model.save_graph(\"graph_null.xml.gz\")"
   ]
  },
  {
   "cell_type": "markdown",
   "metadata": {},
   "source": [
    "## House Keeping genes"
   ]
  },
  {
   "cell_type": "code",
   "execution_count": null,
   "metadata": {},
   "outputs": [],
   "source": [
    "#https://www.genomics-online.com/resources/16/5049/housekeeping-genes/\n",
    "df_hk=pd.read_csv(\"HK_exons.csv\")\n",
    "genes=df_hk['Gene Name'].unique()"
   ]
  },
  {
   "cell_type": "code",
   "execution_count": null,
   "metadata": {},
   "outputs": [],
   "source": [
    "url=\"https://www.genenames.org/cgi-bin/download/custom?col=gd_hgnc_id&col=gd_app_sym&col=gd_pub_refseq_ids&col=md_ensembl_id&col=md_eg_id&col=md_rgd_id&col=md_mim_id&col=md_vega_id&col=md_lncipedia&col=md_gtrnadb&col=md_ucsc_id&col=md_refseq_id&col=md_prot_id&col=md_mgd_id&col=gd_pub_ensembl_id&status=Approved&status=Entry%20Withdrawn&hgnc_dbtag=on&order_by=gd_app_sym_sort&format=text&submit=submit\"\n",
    "df_conversion=pd.read_csv(url, sep=\"\\t\", index_col=0)\n",
    "ensgs=df_conversion[df_conversion['Approved symbol'].isin(genes)]['Ensembl gene ID'].values.ravel()"
   ]
  },
  {
   "cell_type": "code",
   "execution_count": null,
   "metadata": {},
   "outputs": [],
   "source": [
    "df_hk = df.reindex(index=ensgs, columns=samples).dropna(how='all', axis=0)"
   ]
  },
  {
   "cell_type": "code",
   "execution_count": null,
   "metadata": {},
   "outputs": [],
   "source": [
    "fig, ax = plt.subplots(figsize=(10,8))\n",
    "df.reindex(columns=samples).apply(lambda x: len(x[x>=1])/float(len(x)), axis=1).hist(histtype='step', lw=5, density=True, ax=ax, label='all_genes')\n",
    "df_hk.apply(lambda x: len(x[x>=1])/float(len(x)), axis=1).hist(histtype='step', lw=5, ls='--', density=True, ax=ax, label='Housekeeping genes')\n",
    "ax.set_xlabel('Occurrence, $O_i$', fontsize=20)\n",
    "ax.set_ylabel('pdf', fontsize=20)\n",
    "ax.tick_params(labelsize=18)\n",
    "ax.legend(fontsize=18, loc='upper left')\n",
    "plt.show()\n",
    "fig.savefig('U_hk.svg')"
   ]
  },
  {
   "cell_type": "code",
   "execution_count": null,
   "metadata": {},
   "outputs": [],
   "source": [
    "model = sbmtm()\n",
    "model.make_graph_from_BoW_df(df_hk)\n",
    "model.save_graph(\"graph_hk.xml.gz\")"
   ]
  },
  {
   "cell_type": "markdown",
   "metadata": {},
   "source": [
    "## Random genes"
   ]
  },
  {
   "cell_type": "code",
   "execution_count": null,
   "metadata": {},
   "outputs": [],
   "source": [
    "rs = np.random.RandomState(seed=42)\n",
    "df_random = df.reindex(columns=samples).sample(3000, random_state=rs)"
   ]
  },
  {
   "cell_type": "code",
   "execution_count": null,
   "metadata": {},
   "outputs": [],
   "source": [
    "model = sbmtm()\n",
    "model.make_graph_from_BoW_df(df_random)\n",
    "model.save_graph(\"graph_random.xml.gz\")"
   ]
  },
  {
   "cell_type": "markdown",
   "metadata": {},
   "source": [
    "## Highly Expressed"
   ]
  },
  {
   "cell_type": "code",
   "execution_count": null,
   "metadata": {},
   "outputs": [],
   "source": [
    "highly_expressed = df.reindex(columns=samples).mean(1).sort_values(ascending=False)\n",
    "df_he = df.reindex(index=highly_expressed[:3000].index, columns=samples)"
   ]
  },
  {
   "cell_type": "code",
   "execution_count": null,
   "metadata": {},
   "outputs": [],
   "source": [
    "model = sbmtm()\n",
    "model.make_graph_from_BoW_df(df_random)\n",
    "model.save_graph(\"graph_he.xml.gz\")"
   ]
  },
  {
   "cell_type": "markdown",
   "metadata": {},
   "source": [
    "## Sum up"
   ]
  },
  {
   "cell_type": "code",
   "execution_count": null,
   "metadata": {},
   "outputs": [],
   "source": [
    "fig, ax = plt.subplots(figsize=(15,8))\n",
    "\n",
    "ax.scatter(df.reindex(columns=samples).mean(1), df.reindex(columns=samples).apply(lambda x: x.var()/x.mean()/x.mean(), axis=1), alpha=0.3, c='b', label='data')\n",
    "ax.scatter(df_null.mean(1), df_null.apply(lambda x: x.var()/x.mean()/x.mean(), axis=1), c='orange', label='null model')\n",
    "ax.scatter(df.reindex(index=hvg, columns=samples).mean(1), df.reindex(index=hvg, columns=samples).apply(lambda x: x.var()/x.mean()/x.mean(), axis=1), c='orange', marker='x', alpha=0.9, label='highly variable')\n",
    "ax.scatter(df_hk.mean(1), df_hk.apply(lambda x: x.var()/x.mean()/x.mean(), axis=1), c='cyan',  marker='x', alpha=0.8, label='house Keeping')\n",
    "ax.scatter(df_he.mean(1), df_he.apply(lambda x: x.var()/x.mean()/x.mean(), axis=1), c='red',  marker='x', alpha=0.7, label='highly Expressed')\n",
    "ax.scatter(df_random.mean(1), df_random.apply(lambda x: x.var()/x.mean()/x.mean(), axis=1), c='green',  marker='.', alpha=0.6, label='random')\n",
    "\n",
    "ax.set_xscale('log')\n",
    "ax.set_yscale('log')\n",
    "ax.set_xlim(1e-3,1e4)\n",
    "ax.set_ylim(1e-2,1e3)\n",
    "ax.set_xlabel('mean', fontsize=20)\n",
    "ax.set_ylabel('$CV^2$', fontsize=20)\n",
    "ax.tick_params(labelsize=18)\n",
    "ax.legend(fontsize=20, ncol=2)\n",
    "\n",
    "plt.show()\n",
    "fig.savefig(\"cv_tcga_10_selections.svg\")\n",
    "fig.savefig(\"cv_tcga_10_selections.pdf\")"
   ]
  },
  {
   "cell_type": "markdown",
   "metadata": {},
   "source": [
    "# LDA"
   ]
  },
  {
   "cell_type": "code",
   "execution_count": null,
   "metadata": {},
   "outputs": [],
   "source": []
  },
  {
   "cell_type": "markdown",
   "metadata": {},
   "source": [
    "# Hierarchical Clustering"
   ]
  },
  {
   "cell_type": "code",
   "execution_count": null,
   "metadata": {},
   "outputs": [],
   "source": []
  }
 ],
 "metadata": {
  "kernelspec": {
   "display_name": "Python 3",
   "language": "python",
   "name": "python3"
  },
  "language_info": {
   "codemirror_mode": {
    "name": "ipython",
    "version": 3
   },
   "file_extension": ".py",
   "mimetype": "text/x-python",
   "name": "python",
   "nbconvert_exporter": "python",
   "pygments_lexer": "ipython3",
   "version": "3.6.9"
  }
 },
 "nbformat": 4,
 "nbformat_minor": 2
}

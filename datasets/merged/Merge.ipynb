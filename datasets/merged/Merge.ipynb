{
 "cells": [
  {
   "cell_type": "code",
   "execution_count": 1,
   "metadata": {},
   "outputs": [
    {
     "name": "stderr",
     "output_type": "stream",
     "text": [
      "/home/fvalle/anaconda3/envs/phd/lib/python3.6/site-packages/anndata/core/anndata.py:17: FutureWarning: pandas.core.index is deprecated and will be removed in a future version.  The public classes are available in the top-level namespace.\n",
      "  from pandas.core.index import RangeIndex\n"
     ]
    }
   ],
   "source": [
    "import pandas as pd\n",
    "import numpy as np\n",
    "import scanpy as sc\n",
    "import requests\n",
    "import json\n",
    "import os, sys\n",
    "sys.path.append('/home/fvalle/phd/master_thesis/hsbm/')"
   ]
  },
  {
   "cell_type": "markdown",
   "metadata": {},
   "source": [
    "# Download data"
   ]
  },
  {
   "cell_type": "code",
   "execution_count": 2,
   "metadata": {},
   "outputs": [],
   "source": [
    "#path/to/files/downloaded/from https://doi.org/10.6084/m9.figshare.5330593\n",
    "working_dir = \"/home/fvalle/phd/datasets/merged/\"\n",
    "os.chdir(working_dir)"
   ]
  },
  {
   "cell_type": "code",
   "execution_count": 3,
   "metadata": {},
   "outputs": [],
   "source": [
    "files = [f for f in os.listdir(\"data\") if \"fpkm\" in f]"
   ]
  },
  {
   "cell_type": "code",
   "execution_count": 4,
   "metadata": {},
   "outputs": [],
   "source": [
    "df_gtex=pd.read_csv(\"https://storage.googleapis.com/gtex_analysis_v8/annotations/GTEx_Analysis_v8_Annotations_SampleAttributesDS.txt\", sep='\\t', index_col=0)"
   ]
  },
  {
   "cell_type": "code",
   "execution_count": 5,
   "metadata": {},
   "outputs": [],
   "source": [
    "filters = {\n",
    "    \"op\": \"and\",\n",
    "    \"content\":[\n",
    "        {\n",
    "        \"op\": \"in\",\n",
    "        \"content\":{\n",
    "            \"field\": \"cases.project.program.name\",\n",
    "            \"value\": [\"TCGA\"]\n",
    "            }\n",
    "        }\n",
    "        \n",
    "    ]\n",
    "}\n",
    "params = {\n",
    "    \"filters\": json.dumps(filters),\n",
    "    \"fields\": \"primary_site,disease_type,submitter_id\",\n",
    "    \"format\": \"TSV\",\n",
    "    \"size\": \"10000000\"\n",
    "    }\n",
    "response = requests.get(\"https://api.gdc.cancer.gov/cases\", headers = {\"Content-Type\": \"application/json\"}, params = params)\n",
    "with open(\"files.txt\",\"w\") as file:\n",
    "    file.write(response.content.decode(\"utf-8\"))\n",
    "    file.close()\n",
    "df_tcga = pd.read_csv(\"files.txt\", sep='\\t').set_index(\"submitter_id\")"
   ]
  },
  {
   "cell_type": "code",
   "execution_count": 6,
   "metadata": {},
   "outputs": [],
   "source": [
    "df=pd.DataFrame()"
   ]
  },
  {
   "cell_type": "code",
   "execution_count": 7,
   "metadata": {},
   "outputs": [],
   "source": [
    "for file in files:\n",
    "    df = df.append(pd.read_csv(\"data/%s\"%file, sep='\\t', index_col=0).drop('Entrez_Gene_Id',1).transpose(), sort=True)\n",
    "df = df.transpose()\n",
    "df = df.dropna(how='any', axis=0) # drop genes not always determined"
   ]
  },
  {
   "cell_type": "code",
   "execution_count": 48,
   "metadata": {},
   "outputs": [],
   "source": [
    "df_files = pd.DataFrame(index=df.columns)"
   ]
  },
  {
   "cell_type": "code",
   "execution_count": 49,
   "metadata": {},
   "outputs": [],
   "source": [
    "def get_site(file):\n",
    "    if 'GTEX' in file:\n",
    "        return df_gtex.at[file, 'SMTS']\n",
    "    if 'TCGA' in file:\n",
    "        return df_tcga.at[file[:12],'primary_site']\n",
    "\n",
    "def get_source(file):\n",
    "    if 'GTEX' in file:\n",
    "        return 'gtex'\n",
    "    if 'TCGA' in file:\n",
    "        return 'tcga'"
   ]
  },
  {
   "cell_type": "code",
   "execution_count": 50,
   "metadata": {},
   "outputs": [],
   "source": [
    "df_files.insert(0, 'primary_site', [get_site(file) for file in df.columns])\n",
    "df_files.insert(1, 'dataset', [get_source(file) for file in df.columns])"
   ]
  },
  {
   "cell_type": "code",
   "execution_count": 51,
   "metadata": {},
   "outputs": [],
   "source": [
    "#df.to_csv(\"mainTable.csv\", index=True, header=True)\n",
    "df_files.to_csv(\"files.dat\", index=True, header=True)"
   ]
  },
  {
   "cell_type": "markdown",
   "metadata": {},
   "source": [
    "## Split / shuffle and select"
   ]
  },
  {
   "cell_type": "code",
   "execution_count": 52,
   "metadata": {},
   "outputs": [
    {
     "data": {
      "text/html": [
       "<div>\n",
       "<style scoped>\n",
       "    .dataframe tbody tr th:only-of-type {\n",
       "        vertical-align: middle;\n",
       "    }\n",
       "\n",
       "    .dataframe tbody tr th {\n",
       "        vertical-align: top;\n",
       "    }\n",
       "\n",
       "    .dataframe thead th {\n",
       "        text-align: right;\n",
       "    }\n",
       "</style>\n",
       "<table border=\"1\" class=\"dataframe\">\n",
       "  <thead>\n",
       "    <tr style=\"text-align: right;\">\n",
       "      <th></th>\n",
       "      <th>TCGA-L5-A4OQ-11A-12R-A260-31</th>\n",
       "      <th>TCGA-IG-A3I8-11A-11R-A24K-31</th>\n",
       "      <th>TCGA-L5-A4OM-11A-11R-A260-31</th>\n",
       "      <th>TCGA-L5-A4OG-11A-12R-A260-31</th>\n",
       "      <th>TCGA-L5-A4OJ-11A-12R-A260-31</th>\n",
       "      <th>TCGA-L5-A43C-11A-11R-A24K-31</th>\n",
       "      <th>TCGA-IC-A6RF-11A-21R-A336-31</th>\n",
       "      <th>TCGA-L5-A4OF-11A-12R-A260-31</th>\n",
       "      <th>TCGA-L5-A4OO-11A-12R-A260-31</th>\n",
       "      <th>TCGA-IC-A6RE-11A-12R-A336-31</th>\n",
       "      <th>...</th>\n",
       "      <th>TCGA-KL-8329-11A-01R-2315-07</th>\n",
       "      <th>TCGA-KN-8423-11A-01R-2315-07</th>\n",
       "      <th>TCGA-KN-8437-11A-01R-2315-07</th>\n",
       "      <th>TCGA-KL-8324-11A-01R-2315-07</th>\n",
       "      <th>TCGA-KL-8336-11A-01R-2315-07</th>\n",
       "      <th>TCGA-KN-8433-11A-01R-2315-07</th>\n",
       "      <th>TCGA-KL-8339-11A-01R-2315-07</th>\n",
       "      <th>TCGA-KN-8422-11A-01R-2315-07</th>\n",
       "      <th>TCGA-KN-8429-11A-01R-2315-07</th>\n",
       "      <th>TCGA-KN-8424-11A-01R-2315-07</th>\n",
       "    </tr>\n",
       "  </thead>\n",
       "  <tbody>\n",
       "    <tr>\n",
       "      <th>A1BG</th>\n",
       "      <td>141.02</td>\n",
       "      <td>118.43</td>\n",
       "      <td>158.79</td>\n",
       "      <td>171.45</td>\n",
       "      <td>159.90</td>\n",
       "      <td>189.02</td>\n",
       "      <td>118.43</td>\n",
       "      <td>53.95</td>\n",
       "      <td>156.59</td>\n",
       "      <td>166.73</td>\n",
       "      <td>...</td>\n",
       "      <td>166.73</td>\n",
       "      <td>187.71</td>\n",
       "      <td>698.41</td>\n",
       "      <td>237.86</td>\n",
       "      <td>248.00</td>\n",
       "      <td>273.37</td>\n",
       "      <td>237.86</td>\n",
       "      <td>215.77</td>\n",
       "      <td>555.41</td>\n",
       "      <td>154.42</td>\n",
       "    </tr>\n",
       "    <tr>\n",
       "      <th>A2M</th>\n",
       "      <td>37379.55</td>\n",
       "      <td>12502.12</td>\n",
       "      <td>8421.31</td>\n",
       "      <td>7433.40</td>\n",
       "      <td>5791.62</td>\n",
       "      <td>4450.27</td>\n",
       "      <td>4972.34</td>\n",
       "      <td>5219.60</td>\n",
       "      <td>11035.54</td>\n",
       "      <td>2520.38</td>\n",
       "      <td>...</td>\n",
       "      <td>7749.10</td>\n",
       "      <td>10512.82</td>\n",
       "      <td>30361.44</td>\n",
       "      <td>13776.25</td>\n",
       "      <td>14065.74</td>\n",
       "      <td>4152.18</td>\n",
       "      <td>8247.98</td>\n",
       "      <td>9945.68</td>\n",
       "      <td>6652.97</td>\n",
       "      <td>7331.05</td>\n",
       "    </tr>\n",
       "    <tr>\n",
       "      <th>A2ML1</th>\n",
       "      <td>8.58</td>\n",
       "      <td>25.91</td>\n",
       "      <td>3395.89</td>\n",
       "      <td>4.74</td>\n",
       "      <td>1066.48</td>\n",
       "      <td>3.35</td>\n",
       "      <td>40904.30</td>\n",
       "      <td>2.94</td>\n",
       "      <td>20.71</td>\n",
       "      <td>142439.51</td>\n",
       "      <td>...</td>\n",
       "      <td>1.43</td>\n",
       "      <td>2.89</td>\n",
       "      <td>1.79</td>\n",
       "      <td>0.00</td>\n",
       "      <td>0.37</td>\n",
       "      <td>0.00</td>\n",
       "      <td>0.00</td>\n",
       "      <td>1.71</td>\n",
       "      <td>0.00</td>\n",
       "      <td>0.00</td>\n",
       "    </tr>\n",
       "    <tr>\n",
       "      <th>A4GALT</th>\n",
       "      <td>1304.15</td>\n",
       "      <td>1313.23</td>\n",
       "      <td>463.65</td>\n",
       "      <td>836.53</td>\n",
       "      <td>753.83</td>\n",
       "      <td>669.92</td>\n",
       "      <td>1617.00</td>\n",
       "      <td>743.43</td>\n",
       "      <td>860.08</td>\n",
       "      <td>624.99</td>\n",
       "      <td>...</td>\n",
       "      <td>1119.56</td>\n",
       "      <td>559.28</td>\n",
       "      <td>1477.58</td>\n",
       "      <td>1088.92</td>\n",
       "      <td>1936.53</td>\n",
       "      <td>848.22</td>\n",
       "      <td>791.35</td>\n",
       "      <td>587.13</td>\n",
       "      <td>503.95</td>\n",
       "      <td>728.11</td>\n",
       "    </tr>\n",
       "    <tr>\n",
       "      <th>A4GNT</th>\n",
       "      <td>0.25</td>\n",
       "      <td>0.13</td>\n",
       "      <td>34.51</td>\n",
       "      <td>10.47</td>\n",
       "      <td>4.39</td>\n",
       "      <td>5.19</td>\n",
       "      <td>0.00</td>\n",
       "      <td>13.83</td>\n",
       "      <td>4.54</td>\n",
       "      <td>0.00</td>\n",
       "      <td>...</td>\n",
       "      <td>0.73</td>\n",
       "      <td>9.27</td>\n",
       "      <td>1.45</td>\n",
       "      <td>4.70</td>\n",
       "      <td>1.41</td>\n",
       "      <td>5.15</td>\n",
       "      <td>2.34</td>\n",
       "      <td>15.34</td>\n",
       "      <td>2.58</td>\n",
       "      <td>7.82</td>\n",
       "    </tr>\n",
       "  </tbody>\n",
       "</table>\n",
       "<p>5 rows × 9147 columns</p>\n",
       "</div>"
      ],
      "text/plain": [
       "        TCGA-L5-A4OQ-11A-12R-A260-31  TCGA-IG-A3I8-11A-11R-A24K-31  \\\n",
       "A1BG                          141.02                        118.43   \n",
       "A2M                         37379.55                      12502.12   \n",
       "A2ML1                           8.58                         25.91   \n",
       "A4GALT                       1304.15                       1313.23   \n",
       "A4GNT                           0.25                          0.13   \n",
       "\n",
       "        TCGA-L5-A4OM-11A-11R-A260-31  TCGA-L5-A4OG-11A-12R-A260-31  \\\n",
       "A1BG                          158.79                        171.45   \n",
       "A2M                          8421.31                       7433.40   \n",
       "A2ML1                        3395.89                          4.74   \n",
       "A4GALT                        463.65                        836.53   \n",
       "A4GNT                          34.51                         10.47   \n",
       "\n",
       "        TCGA-L5-A4OJ-11A-12R-A260-31  TCGA-L5-A43C-11A-11R-A24K-31  \\\n",
       "A1BG                          159.90                        189.02   \n",
       "A2M                          5791.62                       4450.27   \n",
       "A2ML1                        1066.48                          3.35   \n",
       "A4GALT                        753.83                        669.92   \n",
       "A4GNT                           4.39                          5.19   \n",
       "\n",
       "        TCGA-IC-A6RF-11A-21R-A336-31  TCGA-L5-A4OF-11A-12R-A260-31  \\\n",
       "A1BG                          118.43                         53.95   \n",
       "A2M                          4972.34                       5219.60   \n",
       "A2ML1                       40904.30                          2.94   \n",
       "A4GALT                       1617.00                        743.43   \n",
       "A4GNT                           0.00                         13.83   \n",
       "\n",
       "        TCGA-L5-A4OO-11A-12R-A260-31  TCGA-IC-A6RE-11A-12R-A336-31  ...  \\\n",
       "A1BG                          156.59                        166.73  ...   \n",
       "A2M                         11035.54                       2520.38  ...   \n",
       "A2ML1                          20.71                     142439.51  ...   \n",
       "A4GALT                        860.08                        624.99  ...   \n",
       "A4GNT                           4.54                          0.00  ...   \n",
       "\n",
       "        TCGA-KL-8329-11A-01R-2315-07  TCGA-KN-8423-11A-01R-2315-07  \\\n",
       "A1BG                          166.73                        187.71   \n",
       "A2M                          7749.10                      10512.82   \n",
       "A2ML1                           1.43                          2.89   \n",
       "A4GALT                       1119.56                        559.28   \n",
       "A4GNT                           0.73                          9.27   \n",
       "\n",
       "        TCGA-KN-8437-11A-01R-2315-07  TCGA-KL-8324-11A-01R-2315-07  \\\n",
       "A1BG                          698.41                        237.86   \n",
       "A2M                         30361.44                      13776.25   \n",
       "A2ML1                           1.79                          0.00   \n",
       "A4GALT                       1477.58                       1088.92   \n",
       "A4GNT                           1.45                          4.70   \n",
       "\n",
       "        TCGA-KL-8336-11A-01R-2315-07  TCGA-KN-8433-11A-01R-2315-07  \\\n",
       "A1BG                          248.00                        273.37   \n",
       "A2M                         14065.74                       4152.18   \n",
       "A2ML1                           0.37                          0.00   \n",
       "A4GALT                       1936.53                        848.22   \n",
       "A4GNT                           1.41                          5.15   \n",
       "\n",
       "        TCGA-KL-8339-11A-01R-2315-07  TCGA-KN-8422-11A-01R-2315-07  \\\n",
       "A1BG                          237.86                        215.77   \n",
       "A2M                          8247.98                       9945.68   \n",
       "A2ML1                           0.00                          1.71   \n",
       "A4GALT                        791.35                        587.13   \n",
       "A4GNT                           2.34                         15.34   \n",
       "\n",
       "        TCGA-KN-8429-11A-01R-2315-07  TCGA-KN-8424-11A-01R-2315-07  \n",
       "A1BG                          555.41                        154.42  \n",
       "A2M                          6652.97                       7331.05  \n",
       "A2ML1                           0.00                          0.00  \n",
       "A4GALT                        503.95                        728.11  \n",
       "A4GNT                           2.58                          7.82  \n",
       "\n",
       "[5 rows x 9147 columns]"
      ]
     },
     "execution_count": 52,
     "metadata": {},
     "output_type": "execute_result"
    }
   ],
   "source": [
    "#df = pd.read_csv(\"mainTable.csv\", index_col=0)\n",
    "df_files = pd.read_csv(\"files.dat\", index_col=0)\n",
    "df.head()"
   ]
  },
  {
   "cell_type": "code",
   "execution_count": 54,
   "metadata": {},
   "outputs": [
    {
     "data": {
      "text/plain": [
       "array(['Esophagus', 'Bladder', 'Liver', 'Prostate', 'Thyroid',\n",
       "       'Other and unspecified parts of biliary tract', 'Rectum',\n",
       "       'Rectosigmoid junction', 'Colon', 'Lung', 'Uterus', 'Corpus uteri',\n",
       "       'Stomach', 'Kidney', 'Gallbladder', 'Breast', 'Cervix uteri',\n",
       "       'Salivary Gland', 'Other and unspecified parts of tongue',\n",
       "       'Base of tongue', 'Tonsil', 'Palate',\n",
       "       'Connective, subcutaneous and other soft tissues', 'Cervix Uteri'],\n",
       "      dtype=object)"
      ]
     },
     "execution_count": 54,
     "metadata": {},
     "output_type": "execute_result"
    }
   ],
   "source": [
    "df_files.replace('Uterus, NOS', 'Uterus', inplace=True)\n",
    "df_files.replace('Bronchus and lung', 'Lung', inplace=True)\n",
    "df_files.replace('Liver and intrahepatic bile ducts', 'Liver', inplace=True)\n",
    "df_files.replace('Prostate gland', 'Prostate', inplace=True)\n",
    "df_files.replace('Thyroid gland', 'Thyroid', inplace=True)\n",
    "df_files.replace('Base of Tongue', 'Salivary Gland', inplace=True)\n",
    "df_files.replace('Bones, joints and articular cartilage of other and unspecified sites', 'Salivary Gland', inplace=True)\n",
    "df_files.replace('Floor of mouth', 'Salivary Gland', inplace=True)\n",
    "df_files.replace('Gum', 'Salivary Gland', inplace=True)\n",
    "df_files.replace('Hypopharynx', 'Salivary Gland', inplace=True)\n",
    "df_files.replace('Larynx', 'Salivary Gland', inplace=True)\n",
    "df_files.replace('Lip', 'Salivary Gland', inplace=True)\n",
    "df_files.replace('Oropharynx', 'Salivary Gland', inplace=True)\n",
    "df_files.replace('Other and ill-defined sites in lip, oral cavity and pharynx', 'Salivary Gland', inplace=True)\n",
    "df_files.replace('Other and unspecified parts of mouth', 'Salivary Gland', inplace=True)\n",
    "df_files[\"tissue_hd\"]=df_files[\"primary_site\"]+\"_\"+df_files[\"dataset\"]\n",
    "df_files['primary_site'].unique()"
   ]
  },
  {
   "cell_type": "code",
   "execution_count": 57,
   "metadata": {},
   "outputs": [],
   "source": [
    "#https://www.ncbi.nlm.nih.gov/pmc/articles/PMC5903355/\n",
    "sites_with_enough_statistics = ['Breast', 'Colon', 'Liver', 'Esophagus', 'Prostate', 'Stomach', 'Lung', 'Uterus']"
   ]
  },
  {
   "cell_type": "code",
   "execution_count": 15,
   "metadata": {},
   "outputs": [],
   "source": [
    "rs = np.random.RandomState(seed=42)\n",
    "samples = pd.DataFrame(columns=df_files.columns)\n",
    "for site in sites_with_enough_statistics:\n",
    "    samples = samples.append(df_files[(df_files['primary_site']==site) & (df_files['dataset']=='tcga')].sample(50, random_state=rs))\n",
    "    samples = samples.append(df_files[(df_files['primary_site']==site) & (df_files['dataset']=='gtex')].sample(50, random_state=rs))"
   ]
  },
  {
   "cell_type": "code",
   "execution_count": 16,
   "metadata": {},
   "outputs": [
    {
     "data": {
      "text/html": [
       "<div>\n",
       "<style scoped>\n",
       "    .dataframe tbody tr th:only-of-type {\n",
       "        vertical-align: middle;\n",
       "    }\n",
       "\n",
       "    .dataframe tbody tr th {\n",
       "        vertical-align: top;\n",
       "    }\n",
       "\n",
       "    .dataframe thead th {\n",
       "        text-align: right;\n",
       "    }\n",
       "</style>\n",
       "<table border=\"1\" class=\"dataframe\">\n",
       "  <thead>\n",
       "    <tr style=\"text-align: right;\">\n",
       "      <th></th>\n",
       "      <th>dataset</th>\n",
       "    </tr>\n",
       "    <tr>\n",
       "      <th>primary_site</th>\n",
       "      <th></th>\n",
       "    </tr>\n",
       "  </thead>\n",
       "  <tbody>\n",
       "    <tr>\n",
       "      <th>Breast</th>\n",
       "      <td>100</td>\n",
       "    </tr>\n",
       "    <tr>\n",
       "      <th>Colon</th>\n",
       "      <td>100</td>\n",
       "    </tr>\n",
       "    <tr>\n",
       "      <th>Esophagus</th>\n",
       "      <td>100</td>\n",
       "    </tr>\n",
       "    <tr>\n",
       "      <th>Liver</th>\n",
       "      <td>100</td>\n",
       "    </tr>\n",
       "    <tr>\n",
       "      <th>Lung</th>\n",
       "      <td>100</td>\n",
       "    </tr>\n",
       "    <tr>\n",
       "      <th>Prostate</th>\n",
       "      <td>100</td>\n",
       "    </tr>\n",
       "    <tr>\n",
       "      <th>Stomach</th>\n",
       "      <td>100</td>\n",
       "    </tr>\n",
       "    <tr>\n",
       "      <th>Uterus</th>\n",
       "      <td>100</td>\n",
       "    </tr>\n",
       "  </tbody>\n",
       "</table>\n",
       "</div>"
      ],
      "text/plain": [
       "              dataset\n",
       "primary_site         \n",
       "Breast            100\n",
       "Colon             100\n",
       "Esophagus         100\n",
       "Liver             100\n",
       "Lung              100\n",
       "Prostate          100\n",
       "Stomach           100\n",
       "Uterus            100"
      ]
     },
     "execution_count": 16,
     "metadata": {},
     "output_type": "execute_result"
    }
   ],
   "source": [
    "samples.groupby('primary_site').count()"
   ]
  },
  {
   "cell_type": "code",
   "execution_count": 17,
   "metadata": {},
   "outputs": [
    {
     "data": {
      "text/html": [
       "<div>\n",
       "<style scoped>\n",
       "    .dataframe tbody tr th:only-of-type {\n",
       "        vertical-align: middle;\n",
       "    }\n",
       "\n",
       "    .dataframe tbody tr th {\n",
       "        vertical-align: top;\n",
       "    }\n",
       "\n",
       "    .dataframe thead th {\n",
       "        text-align: right;\n",
       "    }\n",
       "</style>\n",
       "<table border=\"1\" class=\"dataframe\">\n",
       "  <thead>\n",
       "    <tr style=\"text-align: right;\">\n",
       "      <th></th>\n",
       "      <th>primary_site</th>\n",
       "    </tr>\n",
       "    <tr>\n",
       "      <th>dataset</th>\n",
       "      <th></th>\n",
       "    </tr>\n",
       "  </thead>\n",
       "  <tbody>\n",
       "    <tr>\n",
       "      <th>gtex</th>\n",
       "      <td>400</td>\n",
       "    </tr>\n",
       "    <tr>\n",
       "      <th>tcga</th>\n",
       "      <td>400</td>\n",
       "    </tr>\n",
       "  </tbody>\n",
       "</table>\n",
       "</div>"
      ],
      "text/plain": [
       "         primary_site\n",
       "dataset              \n",
       "gtex              400\n",
       "tcga              400"
      ]
     },
     "execution_count": 17,
     "metadata": {},
     "output_type": "execute_result"
    }
   ],
   "source": [
    "samples.groupby('dataset').count()"
   ]
  },
  {
   "cell_type": "code",
   "execution_count": 25,
   "metadata": {},
   "outputs": [],
   "source": [
    "df[df.columns[~df.columns.isin(samples.index) & df.columns.isin(df_files[df_files[\"primary_site\"].isin(sites_with_enough_statistics)].index)]].to_csv(\"mainTable_test.csv\", index=True, header=True)"
   ]
  },
  {
   "cell_type": "code",
   "execution_count": 28,
   "metadata": {},
   "outputs": [],
   "source": [
    "df[df.columns[df.columns.isin(samples.index)]].to_csv(\"mainTable_train.csv\", index=True, header=True)"
   ]
  },
  {
   "cell_type": "code",
   "execution_count": 56,
   "metadata": {},
   "outputs": [
    {
     "data": {
      "text/plain": [
       "array(['Esophagus_tcga', 'Bladder_tcga', 'Liver_tcga', 'Bladder_gtex',\n",
       "       'Prostate_tcga', 'Thyroid_tcga',\n",
       "       'Other and unspecified parts of biliary tract_tcga', 'Rectum_tcga',\n",
       "       'Rectosigmoid junction_tcga', 'Colon_tcga', 'Lung_tcga',\n",
       "       'Uterus_tcga', 'Corpus uteri_tcga', 'Stomach_gtex', 'Thyroid_gtex',\n",
       "       'Kidney_tcga', 'Uterus_gtex', 'Gallbladder_tcga', 'Breast_tcga',\n",
       "       'Colon_gtex', 'Cervix uteri_tcga', 'Salivary Gland_tcga',\n",
       "       'Other and unspecified parts of tongue_tcga',\n",
       "       'Base of tongue_tcga', 'Tonsil_tcga', 'Palate_tcga', 'Liver_gtex',\n",
       "       'Prostate_gtex', 'Lung_gtex', 'Esophagus_gtex', 'Breast_gtex',\n",
       "       'Kidney_gtex', 'Salivary Gland_gtex',\n",
       "       'Connective, subcutaneous and other soft tissues_tcga',\n",
       "       'Stomach_tcga', 'Cervix Uteri_gtex'], dtype=object)"
      ]
     },
     "execution_count": 56,
     "metadata": {},
     "output_type": "execute_result"
    }
   ],
   "source": [
    "df_files[\"tissue_hd\"].unique()"
   ]
  },
  {
   "cell_type": "code",
   "execution_count": 55,
   "metadata": {},
   "outputs": [],
   "source": [
    "df_files.to_csv(\"files.dat\", index=True, header=True)"
   ]
  },
  {
   "cell_type": "markdown",
   "metadata": {},
   "source": [
    "# Use scanpy to filter HVG"
   ]
  },
  {
   "cell_type": "code",
   "execution_count": null,
   "metadata": {},
   "outputs": [],
   "source": [
    "adata = sc.AnnData(df[samples.index].transpose(), obs=samples)\n",
    "adata_log = sc.pp.log1p(adata, copy=True)"
   ]
  },
  {
   "cell_type": "code",
   "execution_count": null,
   "metadata": {},
   "outputs": [],
   "source": [
    "sc.pp.highly_variable_genes(adata_log, n_top_genes=3000, n_bins=50)"
   ]
  },
  {
   "cell_type": "code",
   "execution_count": null,
   "metadata": {},
   "outputs": [],
   "source": [
    "sc.pl.highly_variable_genes(adata_log, log=True, save='hvg.pdf')"
   ]
  },
  {
   "cell_type": "code",
   "execution_count": null,
   "metadata": {},
   "outputs": [],
   "source": [
    "hvg = adata_log.var[adata_log.var['highly_variable']==True].index\n",
    "samples = adata_log.obs.index"
   ]
  },
  {
   "cell_type": "markdown",
   "metadata": {},
   "source": [
    "# Use SBM"
   ]
  },
  {
   "cell_type": "code",
   "execution_count": null,
   "metadata": {},
   "outputs": [],
   "source": [
    "from sbmtm import sbmtm"
   ]
  },
  {
   "cell_type": "code",
   "execution_count": null,
   "metadata": {},
   "outputs": [],
   "source": [
    "model = sbmtm()"
   ]
  },
  {
   "cell_type": "code",
   "execution_count": null,
   "metadata": {},
   "outputs": [],
   "source": [
    "model.make_graph_from_BoW_df(df.loc[hvg, samples])"
   ]
  },
  {
   "cell_type": "code",
   "execution_count": null,
   "metadata": {},
   "outputs": [],
   "source": [
    "model.save_graph(\"graph.xml.gz\")"
   ]
  },
  {
   "cell_type": "code",
   "execution_count": null,
   "metadata": {},
   "outputs": [],
   "source": []
  }
 ],
 "metadata": {
  "kernelspec": {
   "display_name": "Python 3",
   "language": "python",
   "name": "python3"
  },
  "language_info": {
   "codemirror_mode": {
    "name": "ipython",
    "version": 3
   },
   "file_extension": ".py",
   "mimetype": "text/x-python",
   "name": "python",
   "nbconvert_exporter": "python",
   "pygments_lexer": "ipython3",
   "version": "3.6.10"
  }
 },
 "nbformat": 4,
 "nbformat_minor": 4
}

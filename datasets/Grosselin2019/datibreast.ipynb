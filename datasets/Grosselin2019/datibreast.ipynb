{
  "nbformat": 4,
  "nbformat_minor": 0,
  "metadata": {
    "colab": {
      "name": "datibreast.ipynb",
      "provenance": []
    },
    "kernelspec": {
      "name": "python3",
      "display_name": "Python 3"
    }
  },
  "cells": [
    {
      "cell_type": "code",
      "metadata": {
        "id": "1wA73gmmCe97"
      },
      "source": [
        "import os\n",
        "os.chdir(\"/content/drive/MyDrive/phd/datasets\")"
      ],
      "execution_count": 1,
      "outputs": []
    },
    {
      "cell_type": "code",
      "metadata": {
        "colab": {
          "base_uri": "https://localhost:8080/"
        },
        "id": "UpOa8y_rD66n",
        "outputId": "b7d7050a-7f81-4d08-8607-fcec1388a985"
      },
      "source": [
        "os.listdir()"
      ],
      "execution_count": 2,
      "outputs": [
        {
          "output_type": "execute_result",
          "data": {
            "text/plain": [
              "['altmann',\n",
              " 'Unbalanced.ipynb',\n",
              " '.DS_Store',\n",
              " 'test',\n",
              " 'unbalanced',\n",
              " 'fake',\n",
              " 'tcga',\n",
              " 'cancers',\n",
              " 'merged',\n",
              " 'gtex',\n",
              " 'data_Grosselin2019.tar',\n",
              " 'data_medulloblastoma.tar']"
            ]
          },
          "metadata": {
            "tags": []
          },
          "execution_count": 2
        }
      ]
    },
    {
      "cell_type": "code",
      "metadata": {
        "id": "JfIauQx5EEln"
      },
      "source": [
        "!tar -xf data_medulloblastoma.tar"
      ],
      "execution_count": 4,
      "outputs": []
    },
    {
      "cell_type": "code",
      "metadata": {
        "colab": {
          "base_uri": "https://localhost:8080/"
        },
        "id": "UtIUyTmhEHds",
        "outputId": "9456cdc0-2dc8-44c8-f8bd-f50c58e16fd4"
      },
      "source": [
        "os.chdir(\"data_medulloblastoma/\")\n",
        "os.listdir()"
      ],
      "execution_count": 7,
      "outputs": [
        {
          "output_type": "execute_result",
          "data": {
            "text/plain": [
              "['res_group_snf.txt',\n",
              " 'matrix_rnaseq_log2_rpkm.txt',\n",
              " 'matrix_proteome_log2ratio.txt',\n",
              " 'matrix_mirna_log2_cpm.txt']"
            ]
          },
          "metadata": {
            "tags": []
          },
          "execution_count": 7
        }
      ]
    },
    {
      "cell_type": "code",
      "metadata": {
        "id": "ApJ5CuWkEOc4"
      },
      "source": [
        "import pandas as pd"
      ],
      "execution_count": 6,
      "outputs": []
    },
    {
      "cell_type": "code",
      "metadata": {
        "colab": {
          "base_uri": "https://localhost:8080/",
          "height": 142
        },
        "id": "U9F28FpLESV1",
        "outputId": "af9bb647-cbff-447b-f3a6-434d9d2bb8f4"
      },
      "source": [
        "df_files = pd.read_csv(\"res_group_snf.txt\", sep=\"\\t\", index_col=1).drop(\"ID\", axis=1)\n",
        "df_files.head(2)"
      ],
      "execution_count": 31,
      "outputs": [
        {
          "output_type": "execute_result",
          "data": {
            "text/html": [
              "<div>\n",
              "<style scoped>\n",
              "    .dataframe tbody tr th:only-of-type {\n",
              "        vertical-align: middle;\n",
              "    }\n",
              "\n",
              "    .dataframe tbody tr th {\n",
              "        vertical-align: top;\n",
              "    }\n",
              "\n",
              "    .dataframe thead th {\n",
              "        text-align: right;\n",
              "    }\n",
              "</style>\n",
              "<table border=\"1\" class=\"dataframe\">\n",
              "  <thead>\n",
              "    <tr style=\"text-align: right;\">\n",
              "      <th></th>\n",
              "      <th>group_snf</th>\n",
              "      <th>group_bio</th>\n",
              "    </tr>\n",
              "    <tr>\n",
              "      <th>Sample</th>\n",
              "      <th></th>\n",
              "      <th></th>\n",
              "    </tr>\n",
              "  </thead>\n",
              "  <tbody>\n",
              "    <tr>\n",
              "      <th>MB01</th>\n",
              "      <td>G3</td>\n",
              "      <td>Group_3</td>\n",
              "    </tr>\n",
              "    <tr>\n",
              "      <th>MB02</th>\n",
              "      <td>G3</td>\n",
              "      <td>Group_3</td>\n",
              "    </tr>\n",
              "  </tbody>\n",
              "</table>\n",
              "</div>"
            ],
            "text/plain": [
              "       group_snf group_bio\n",
              "Sample                    \n",
              "MB01          G3   Group_3\n",
              "MB02          G3   Group_3"
            ]
          },
          "metadata": {
            "tags": []
          },
          "execution_count": 31
        }
      ]
    },
    {
      "cell_type": "code",
      "metadata": {
        "colab": {
          "base_uri": "https://localhost:8080/"
        },
        "id": "ugZ3lTo_EbL6",
        "outputId": "dd502cec-3731-43ac-982c-fb26f4069e54"
      },
      "source": [
        "for file, sep in zip(['matrix_rnaseq_log2_rpkm.txt', 'matrix_mirna_log2_cpm.txt', 'matrix_proteome_log2ratio.txt'], [\"\\t\", \" \", \"\\t\"]):\n",
        "    df = pd.read_csv(file, sep = sep)\n",
        "    print(df.shape)\n",
        "    print(df.head(2))"
      ],
      "execution_count": 21,
      "outputs": [
        {
          "output_type": "stream",
          "text": [
            "(33680, 40)\n",
            "  GeneID      MB01      MB02      MB03  ...     MT229    MT2381     MT314     MT435\n",
            "0    7SK -0.990409 -1.109097 -0.592830  ...  1.390244 -0.017588  0.329675 -0.002342\n",
            "1   A1BG  0.896528  0.686093  1.035708  ...  0.616518  0.236511 -2.143220  1.080767\n",
            "\n",
            "[2 rows x 40 columns]\n",
            "(1389, 30)\n",
            "                     MB02      MB06      MB07  ...    MT1377    MT1402    MT2381\n",
            "hsa-miR-1302     0.270606 -0.124317  0.482669  ... -2.626445  1.581002  0.287568\n",
            "hsa-miR-200a-5p -1.350021 -5.035224 -2.147153  ... -1.769113  2.430018 -1.367651\n",
            "\n",
            "[2 rows x 30 columns]\n",
            "(3892, 39)\n",
            "  GeneID      MB01      MB02      MB03  ...    MT1364    MT1377    MT1402    MT2381\n",
            "0  CNOT1  0.188263  0.754668  0.353145  ...  0.427106  0.312634  0.272020  0.064307\n",
            "1    FTO  1.193973  1.686337  1.186822  ...  0.924829  0.542760  1.144114  1.460988\n",
            "\n",
            "[2 rows x 39 columns]\n"
          ],
          "name": "stdout"
        }
      ]
    },
    {
      "cell_type": "code",
      "metadata": {
        "colab": {
          "base_uri": "https://localhost:8080/",
          "height": 162
        },
        "id": "kGVnTX7zKMPB",
        "outputId": "80f4d3fd-9342-486c-a4db-8f41f5e7aa5e"
      },
      "source": [
        "df = pd.read_csv('matrix_rnaseq_log2_rpkm.txt', sep=\"\\t\", index_col=0)\n",
        "df.head(2)"
      ],
      "execution_count": 122,
      "outputs": [
        {
          "output_type": "execute_result",
          "data": {
            "text/html": [
              "<div>\n",
              "<style scoped>\n",
              "    .dataframe tbody tr th:only-of-type {\n",
              "        vertical-align: middle;\n",
              "    }\n",
              "\n",
              "    .dataframe tbody tr th {\n",
              "        vertical-align: top;\n",
              "    }\n",
              "\n",
              "    .dataframe thead th {\n",
              "        text-align: right;\n",
              "    }\n",
              "</style>\n",
              "<table border=\"1\" class=\"dataframe\">\n",
              "  <thead>\n",
              "    <tr style=\"text-align: right;\">\n",
              "      <th></th>\n",
              "      <th>MB01</th>\n",
              "      <th>MB02</th>\n",
              "      <th>MB03</th>\n",
              "      <th>MB04</th>\n",
              "      <th>MB05</th>\n",
              "      <th>MB06</th>\n",
              "      <th>MB07</th>\n",
              "      <th>MB08</th>\n",
              "      <th>MB09</th>\n",
              "      <th>MB13</th>\n",
              "      <th>MB14</th>\n",
              "      <th>MB15</th>\n",
              "      <th>MB16</th>\n",
              "      <th>MB17</th>\n",
              "      <th>MB19</th>\n",
              "      <th>MB20</th>\n",
              "      <th>MB22</th>\n",
              "      <th>MB24</th>\n",
              "      <th>MB25</th>\n",
              "      <th>MB30</th>\n",
              "      <th>MB31</th>\n",
              "      <th>MB34</th>\n",
              "      <th>MB36</th>\n",
              "      <th>MB38</th>\n",
              "      <th>MB39</th>\n",
              "      <th>MB40</th>\n",
              "      <th>MB41</th>\n",
              "      <th>MB42</th>\n",
              "      <th>MB43</th>\n",
              "      <th>MT1179</th>\n",
              "      <th>MT1219</th>\n",
              "      <th>MT1364</th>\n",
              "      <th>MT1377</th>\n",
              "      <th>MT1402</th>\n",
              "      <th>MT161</th>\n",
              "      <th>MT229</th>\n",
              "      <th>MT2381</th>\n",
              "      <th>MT314</th>\n",
              "      <th>MT435</th>\n",
              "    </tr>\n",
              "    <tr>\n",
              "      <th>GeneID</th>\n",
              "      <th></th>\n",
              "      <th></th>\n",
              "      <th></th>\n",
              "      <th></th>\n",
              "      <th></th>\n",
              "      <th></th>\n",
              "      <th></th>\n",
              "      <th></th>\n",
              "      <th></th>\n",
              "      <th></th>\n",
              "      <th></th>\n",
              "      <th></th>\n",
              "      <th></th>\n",
              "      <th></th>\n",
              "      <th></th>\n",
              "      <th></th>\n",
              "      <th></th>\n",
              "      <th></th>\n",
              "      <th></th>\n",
              "      <th></th>\n",
              "      <th></th>\n",
              "      <th></th>\n",
              "      <th></th>\n",
              "      <th></th>\n",
              "      <th></th>\n",
              "      <th></th>\n",
              "      <th></th>\n",
              "      <th></th>\n",
              "      <th></th>\n",
              "      <th></th>\n",
              "      <th></th>\n",
              "      <th></th>\n",
              "      <th></th>\n",
              "      <th></th>\n",
              "      <th></th>\n",
              "      <th></th>\n",
              "      <th></th>\n",
              "      <th></th>\n",
              "      <th></th>\n",
              "    </tr>\n",
              "  </thead>\n",
              "  <tbody>\n",
              "    <tr>\n",
              "      <th>7SK</th>\n",
              "      <td>-0.990409</td>\n",
              "      <td>-1.109097</td>\n",
              "      <td>-0.592830</td>\n",
              "      <td>-0.568704</td>\n",
              "      <td>-1.348467</td>\n",
              "      <td>-0.680771</td>\n",
              "      <td>-0.881135</td>\n",
              "      <td>-0.557359</td>\n",
              "      <td>-0.134183</td>\n",
              "      <td>-0.099833</td>\n",
              "      <td>0.188300</td>\n",
              "      <td>0.226385</td>\n",
              "      <td>-0.881494</td>\n",
              "      <td>-0.197363</td>\n",
              "      <td>0.213329</td>\n",
              "      <td>-0.605222</td>\n",
              "      <td>-0.656212</td>\n",
              "      <td>-1.075870</td>\n",
              "      <td>-0.889164</td>\n",
              "      <td>-0.023337</td>\n",
              "      <td>-0.179134</td>\n",
              "      <td>-0.213358</td>\n",
              "      <td>0.899995</td>\n",
              "      <td>-0.708085</td>\n",
              "      <td>-0.224685</td>\n",
              "      <td>-0.169298</td>\n",
              "      <td>0.429139</td>\n",
              "      <td>0.473631</td>\n",
              "      <td>0.034018</td>\n",
              "      <td>0.695709</td>\n",
              "      <td>0.846441</td>\n",
              "      <td>0.596697</td>\n",
              "      <td>0.517366</td>\n",
              "      <td>0.094587</td>\n",
              "      <td>0.703411</td>\n",
              "      <td>1.390244</td>\n",
              "      <td>-0.017588</td>\n",
              "      <td>0.329675</td>\n",
              "      <td>-0.002342</td>\n",
              "    </tr>\n",
              "    <tr>\n",
              "      <th>A1BG</th>\n",
              "      <td>0.896528</td>\n",
              "      <td>0.686093</td>\n",
              "      <td>1.035708</td>\n",
              "      <td>-0.053353</td>\n",
              "      <td>-0.513483</td>\n",
              "      <td>0.892065</td>\n",
              "      <td>-1.593642</td>\n",
              "      <td>-2.704498</td>\n",
              "      <td>-0.178979</td>\n",
              "      <td>-3.288431</td>\n",
              "      <td>1.692802</td>\n",
              "      <td>-1.012924</td>\n",
              "      <td>-3.935885</td>\n",
              "      <td>-2.715505</td>\n",
              "      <td>0.192535</td>\n",
              "      <td>-0.509798</td>\n",
              "      <td>-3.352926</td>\n",
              "      <td>0.752637</td>\n",
              "      <td>0.517840</td>\n",
              "      <td>1.191291</td>\n",
              "      <td>1.676940</td>\n",
              "      <td>1.492135</td>\n",
              "      <td>0.704288</td>\n",
              "      <td>0.931766</td>\n",
              "      <td>-2.224284</td>\n",
              "      <td>0.839847</td>\n",
              "      <td>-2.809499</td>\n",
              "      <td>-0.419071</td>\n",
              "      <td>0.864097</td>\n",
              "      <td>1.460045</td>\n",
              "      <td>1.229096</td>\n",
              "      <td>1.637902</td>\n",
              "      <td>0.774924</td>\n",
              "      <td>0.741031</td>\n",
              "      <td>-0.118815</td>\n",
              "      <td>0.616518</td>\n",
              "      <td>0.236511</td>\n",
              "      <td>-2.143220</td>\n",
              "      <td>1.080767</td>\n",
              "    </tr>\n",
              "  </tbody>\n",
              "</table>\n",
              "</div>"
            ],
            "text/plain": [
              "            MB01      MB02      MB03  ...    MT2381     MT314     MT435\n",
              "GeneID                                ...                              \n",
              "7SK    -0.990409 -1.109097 -0.592830  ... -0.017588  0.329675 -0.002342\n",
              "A1BG    0.896528  0.686093  1.035708  ...  0.236511 -2.143220  1.080767\n",
              "\n",
              "[2 rows x 39 columns]"
            ]
          },
          "metadata": {
            "tags": []
          },
          "execution_count": 122
        }
      ]
    },
    {
      "cell_type": "code",
      "metadata": {
        "colab": {
          "base_uri": "https://localhost:8080/"
        },
        "id": "FMu3P2JiI_8j",
        "outputId": "8d3f6274-9b90-48e7-8b27-8623f4714f1f"
      },
      "source": [
        "df_files.columns"
      ],
      "execution_count": 123,
      "outputs": [
        {
          "output_type": "execute_result",
          "data": {
            "text/plain": [
              "Index(['group_snf', 'group_bio'], dtype='object')"
            ]
          },
          "metadata": {
            "tags": []
          },
          "execution_count": 123
        }
      ]
    },
    {
      "cell_type": "code",
      "metadata": {
        "colab": {
          "base_uri": "https://localhost:8080/"
        },
        "id": "2szCDZX0JY3P",
        "outputId": "d618ca9b-832a-411d-d54a-ff155c154f89"
      },
      "source": [
        "df_files[\"group_snf\"].unique()"
      ],
      "execution_count": 124,
      "outputs": [
        {
          "output_type": "execute_result",
          "data": {
            "text/plain": [
              "array(['G3', 'G2', 'G4', 'G1'], dtype=object)"
            ]
          },
          "metadata": {
            "tags": []
          },
          "execution_count": 124
        }
      ]
    },
    {
      "cell_type": "code",
      "metadata": {
        "id": "0Te_u0JpJbby"
      },
      "source": [
        "!python3 -m pip install scanpy > /dev/null &2>$1\n",
        "import scanpy as sc"
      ],
      "execution_count": 26,
      "outputs": []
    },
    {
      "cell_type": "code",
      "metadata": {
        "id": "IZkM_hxRJu9S"
      },
      "source": [
        "adata = sc.AnnData(X = df.transpose(),\n",
        "                   obs = df_files.reindex(index=df.columns))"
      ],
      "execution_count": 125,
      "outputs": []
    },
    {
      "cell_type": "code",
      "metadata": {
        "colab": {
          "base_uri": "https://localhost:8080/"
        },
        "id": "-MFpC1oyJhtj",
        "outputId": "c06eceeb-9855-417c-aa31-eb448bb213e8"
      },
      "source": [
        "sc.pp.highly_variable_genes(adata, n_top_genes=5000)"
      ],
      "execution_count": 126,
      "outputs": [
        {
          "output_type": "stream",
          "text": [
            "/usr/local/lib/python3.6/dist-packages/scanpy/preprocessing/_highly_variable_genes.py:208: RuntimeWarning: invalid value encountered in log\n",
            "  dispersion = np.log(dispersion)\n"
          ],
          "name": "stderr"
        }
      ]
    },
    {
      "cell_type": "code",
      "metadata": {
        "colab": {
          "base_uri": "https://localhost:8080/",
          "height": 279
        },
        "id": "KxyYJr1mKXKK",
        "outputId": "35ba62e2-ac84-4a70-8a44-a699a563a283"
      },
      "source": [
        "sc.pl.highly_variable_genes(adata)"
      ],
      "execution_count": 127,
      "outputs": [
        {
          "output_type": "display_data",
          "data": {
            "image/png": "[encoded data removed]",
            "text/plain": [
              "<Figure size 864x288 with 2 Axes>"
            ]
          },
          "metadata": {
            "tags": [],
            "needs_background": "light"
          }
        }
      ]
    },
    {
      "cell_type": "code",
      "metadata": {
        "id": "c_V6PGy8KiSL"
      },
      "source": [
        "hvg = adata.var[adata.var[\"highly_variable\"]==True].index"
      ],
      "execution_count": 128,
      "outputs": []
    },
    {
      "cell_type": "code",
      "metadata": {
        "colab": {
          "base_uri": "https://localhost:8080/",
          "height": 216
        },
        "id": "VWJi6gcVM4-v",
        "outputId": "e5801dd2-1bdd-4683-ecda-1c64fe5ebbd8"
      },
      "source": [
        "df_mirna = pd.read_csv(\"matrix_mirna_log2_cpm.txt\", sep=\" \")\n",
        "df_mirna.head(2)"
      ],
      "execution_count": 129,
      "outputs": [
        {
          "output_type": "execute_result",
          "data": {
            "text/html": [
              "<div>\n",
              "<style scoped>\n",
              "    .dataframe tbody tr th:only-of-type {\n",
              "        vertical-align: middle;\n",
              "    }\n",
              "\n",
              "    .dataframe tbody tr th {\n",
              "        vertical-align: top;\n",
              "    }\n",
              "\n",
              "    .dataframe thead th {\n",
              "        text-align: right;\n",
              "    }\n",
              "</style>\n",
              "<table border=\"1\" class=\"dataframe\">\n",
              "  <thead>\n",
              "    <tr style=\"text-align: right;\">\n",
              "      <th></th>\n",
              "      <th>MB02</th>\n",
              "      <th>MB06</th>\n",
              "      <th>MB07</th>\n",
              "      <th>MB08</th>\n",
              "      <th>MB09</th>\n",
              "      <th>MB14</th>\n",
              "      <th>MB17</th>\n",
              "      <th>MB19</th>\n",
              "      <th>MB20</th>\n",
              "      <th>MB22</th>\n",
              "      <th>MB24</th>\n",
              "      <th>MB25</th>\n",
              "      <th>MB30</th>\n",
              "      <th>MB31</th>\n",
              "      <th>MB36</th>\n",
              "      <th>MB38</th>\n",
              "      <th>MB39</th>\n",
              "      <th>MB40</th>\n",
              "      <th>MB41</th>\n",
              "      <th>MB42</th>\n",
              "      <th>MB43</th>\n",
              "      <th>MT161</th>\n",
              "      <th>MT229</th>\n",
              "      <th>MT314</th>\n",
              "      <th>MT1179</th>\n",
              "      <th>MT1219</th>\n",
              "      <th>MT1364</th>\n",
              "      <th>MT1377</th>\n",
              "      <th>MT1402</th>\n",
              "      <th>MT2381</th>\n",
              "    </tr>\n",
              "  </thead>\n",
              "  <tbody>\n",
              "    <tr>\n",
              "      <th>hsa-miR-1302</th>\n",
              "      <td>0.270606</td>\n",
              "      <td>-0.124317</td>\n",
              "      <td>0.482669</td>\n",
              "      <td>0.726469</td>\n",
              "      <td>1.507771</td>\n",
              "      <td>-1.634461</td>\n",
              "      <td>0.098514</td>\n",
              "      <td>-1.601710</td>\n",
              "      <td>0.162111</td>\n",
              "      <td>1.402968</td>\n",
              "      <td>-0.940158</td>\n",
              "      <td>-0.675822</td>\n",
              "      <td>-0.195252</td>\n",
              "      <td>0.305092</td>\n",
              "      <td>-2.658988</td>\n",
              "      <td>1.711631</td>\n",
              "      <td>2.074101</td>\n",
              "      <td>-0.882260</td>\n",
              "      <td>-1.053426</td>\n",
              "      <td>-2.188212</td>\n",
              "      <td>0.607488</td>\n",
              "      <td>-5.035224</td>\n",
              "      <td>-0.377238</td>\n",
              "      <td>0.086898</td>\n",
              "      <td>-2.053639</td>\n",
              "      <td>-0.117955</td>\n",
              "      <td>-0.348202</td>\n",
              "      <td>-2.626445</td>\n",
              "      <td>1.581002</td>\n",
              "      <td>0.287568</td>\n",
              "    </tr>\n",
              "    <tr>\n",
              "      <th>hsa-miR-200a-5p</th>\n",
              "      <td>-1.350021</td>\n",
              "      <td>-5.035224</td>\n",
              "      <td>-2.147153</td>\n",
              "      <td>-2.174195</td>\n",
              "      <td>-5.035224</td>\n",
              "      <td>-2.503949</td>\n",
              "      <td>-1.934312</td>\n",
              "      <td>-1.061959</td>\n",
              "      <td>-0.150020</td>\n",
              "      <td>-5.035224</td>\n",
              "      <td>-1.327327</td>\n",
              "      <td>-1.226063</td>\n",
              "      <td>0.463805</td>\n",
              "      <td>0.711199</td>\n",
              "      <td>1.371382</td>\n",
              "      <td>-2.730492</td>\n",
              "      <td>-1.101763</td>\n",
              "      <td>-5.035224</td>\n",
              "      <td>-3.049767</td>\n",
              "      <td>-1.671685</td>\n",
              "      <td>-1.536023</td>\n",
              "      <td>0.725955</td>\n",
              "      <td>-1.852211</td>\n",
              "      <td>-2.304522</td>\n",
              "      <td>-2.053639</td>\n",
              "      <td>-5.035224</td>\n",
              "      <td>-1.293255</td>\n",
              "      <td>-1.769113</td>\n",
              "      <td>2.430018</td>\n",
              "      <td>-1.367651</td>\n",
              "    </tr>\n",
              "  </tbody>\n",
              "</table>\n",
              "</div>"
            ],
            "text/plain": [
              "                     MB02      MB06      MB07  ...    MT1377    MT1402    MT2381\n",
              "hsa-miR-1302     0.270606 -0.124317  0.482669  ... -2.626445  1.581002  0.287568\n",
              "hsa-miR-200a-5p -1.350021 -5.035224 -2.147153  ... -1.769113  2.430018 -1.367651\n",
              "\n",
              "[2 rows x 30 columns]"
            ]
          },
          "metadata": {
            "tags": []
          },
          "execution_count": 129
        }
      ]
    },
    {
      "cell_type": "code",
      "metadata": {
        "colab": {
          "base_uri": "https://localhost:8080/",
          "height": 148
        },
        "id": "HJM5FXA_NVPU",
        "outputId": "3b50a27d-2c6a-474c-81e1-98c4f94aff47"
      },
      "source": [
        "df = df.reindex(index=hvg).append(df_mirna).dropna(how=\"any\", axis=1, thresh=2000)\n",
        "print(df.shape)\n",
        "df.head(2)"
      ],
      "execution_count": 130,
      "outputs": [
        {
          "output_type": "stream",
          "text": [
            "(6389, 39)\n"
          ],
          "name": "stdout"
        },
        {
          "output_type": "execute_result",
          "data": {
            "text/html": [
              "<div>\n",
              "<style scoped>\n",
              "    .dataframe tbody tr th:only-of-type {\n",
              "        vertical-align: middle;\n",
              "    }\n",
              "\n",
              "    .dataframe tbody tr th {\n",
              "        vertical-align: top;\n",
              "    }\n",
              "\n",
              "    .dataframe thead th {\n",
              "        text-align: right;\n",
              "    }\n",
              "</style>\n",
              "<table border=\"1\" class=\"dataframe\">\n",
              "  <thead>\n",
              "    <tr style=\"text-align: right;\">\n",
              "      <th></th>\n",
              "      <th>MB01</th>\n",
              "      <th>MB02</th>\n",
              "      <th>MB03</th>\n",
              "      <th>MB04</th>\n",
              "      <th>MB05</th>\n",
              "      <th>MB06</th>\n",
              "      <th>MB07</th>\n",
              "      <th>MB08</th>\n",
              "      <th>MB09</th>\n",
              "      <th>MB13</th>\n",
              "      <th>MB14</th>\n",
              "      <th>MB15</th>\n",
              "      <th>MB16</th>\n",
              "      <th>MB17</th>\n",
              "      <th>MB19</th>\n",
              "      <th>MB20</th>\n",
              "      <th>MB22</th>\n",
              "      <th>MB24</th>\n",
              "      <th>MB25</th>\n",
              "      <th>MB30</th>\n",
              "      <th>MB31</th>\n",
              "      <th>MB34</th>\n",
              "      <th>MB36</th>\n",
              "      <th>MB38</th>\n",
              "      <th>MB39</th>\n",
              "      <th>MB40</th>\n",
              "      <th>MB41</th>\n",
              "      <th>MB42</th>\n",
              "      <th>MB43</th>\n",
              "      <th>MT1179</th>\n",
              "      <th>MT1219</th>\n",
              "      <th>MT1364</th>\n",
              "      <th>MT1377</th>\n",
              "      <th>MT1402</th>\n",
              "      <th>MT161</th>\n",
              "      <th>MT229</th>\n",
              "      <th>MT2381</th>\n",
              "      <th>MT314</th>\n",
              "      <th>MT435</th>\n",
              "    </tr>\n",
              "  </thead>\n",
              "  <tbody>\n",
              "    <tr>\n",
              "      <th>A4GALT</th>\n",
              "      <td>-1.375557</td>\n",
              "      <td>-1.369032</td>\n",
              "      <td>-2.076134</td>\n",
              "      <td>3.733788</td>\n",
              "      <td>3.119781</td>\n",
              "      <td>2.282472</td>\n",
              "      <td>-2.919883</td>\n",
              "      <td>-0.258330</td>\n",
              "      <td>-1.712911</td>\n",
              "      <td>-2.201716</td>\n",
              "      <td>-1.861988</td>\n",
              "      <td>-1.770693</td>\n",
              "      <td>-2.419762</td>\n",
              "      <td>-1.079917</td>\n",
              "      <td>-0.494469</td>\n",
              "      <td>-3.125460</td>\n",
              "      <td>-3.836503</td>\n",
              "      <td>2.682481</td>\n",
              "      <td>1.356888</td>\n",
              "      <td>-3.093953</td>\n",
              "      <td>0.472477</td>\n",
              "      <td>-3.396965</td>\n",
              "      <td>3.491340</td>\n",
              "      <td>-4.051775</td>\n",
              "      <td>-2.305147</td>\n",
              "      <td>2.302533</td>\n",
              "      <td>-0.733994</td>\n",
              "      <td>-1.303775</td>\n",
              "      <td>2.473286</td>\n",
              "      <td>-1.674250</td>\n",
              "      <td>-1.776044</td>\n",
              "      <td>-1.295461</td>\n",
              "      <td>-2.041417</td>\n",
              "      <td>-1.887505</td>\n",
              "      <td>2.880484</td>\n",
              "      <td>-2.346144</td>\n",
              "      <td>2.298858</td>\n",
              "      <td>-2.860295</td>\n",
              "      <td>2.685947</td>\n",
              "    </tr>\n",
              "    <tr>\n",
              "      <th>AACSP1</th>\n",
              "      <td>-1.898952</td>\n",
              "      <td>-0.465422</td>\n",
              "      <td>-2.561315</td>\n",
              "      <td>-13.287712</td>\n",
              "      <td>-3.212795</td>\n",
              "      <td>-3.416457</td>\n",
              "      <td>-13.287712</td>\n",
              "      <td>-6.056222</td>\n",
              "      <td>-3.296928</td>\n",
              "      <td>-6.278600</td>\n",
              "      <td>-4.082459</td>\n",
              "      <td>-3.676230</td>\n",
              "      <td>-2.557191</td>\n",
              "      <td>-4.077781</td>\n",
              "      <td>-4.550181</td>\n",
              "      <td>-2.836182</td>\n",
              "      <td>-4.572097</td>\n",
              "      <td>-1.245786</td>\n",
              "      <td>-1.792417</td>\n",
              "      <td>-3.456176</td>\n",
              "      <td>-2.111963</td>\n",
              "      <td>-3.396965</td>\n",
              "      <td>-5.686098</td>\n",
              "      <td>-1.594304</td>\n",
              "      <td>-5.997048</td>\n",
              "      <td>-2.151599</td>\n",
              "      <td>-1.733757</td>\n",
              "      <td>-4.108995</td>\n",
              "      <td>-1.075204</td>\n",
              "      <td>-3.994337</td>\n",
              "      <td>4.484480</td>\n",
              "      <td>-5.459379</td>\n",
              "      <td>-5.358010</td>\n",
              "      <td>-1.887505</td>\n",
              "      <td>-3.177125</td>\n",
              "      <td>-0.992951</td>\n",
              "      <td>-2.149837</td>\n",
              "      <td>-4.665031</td>\n",
              "      <td>-3.486386</td>\n",
              "    </tr>\n",
              "  </tbody>\n",
              "</table>\n",
              "</div>"
            ],
            "text/plain": [
              "            MB01      MB02      MB03  ...    MT2381     MT314     MT435\n",
              "A4GALT -1.375557 -1.369032 -2.076134  ...  2.298858 -2.860295  2.685947\n",
              "AACSP1 -1.898952 -0.465422 -2.561315  ... -2.149837 -4.665031 -3.486386\n",
              "\n",
              "[2 rows x 39 columns]"
            ]
          },
          "metadata": {
            "tags": []
          },
          "execution_count": 130
        }
      ]
    },
    {
      "cell_type": "markdown",
      "metadata": {
        "id": "UFWWet7NN-Eu"
      },
      "source": [
        "# Model"
      ]
    },
    {
      "cell_type": "code",
      "metadata": {
        "colab": {
          "base_uri": "https://localhost:8080/"
        },
        "id": "uOhdhjtoNaGy",
        "outputId": "4ce6c41b-1ff8-442c-99d9-6af744d7eb62"
      },
      "source": [
        "!echo \"deb https://downloads.skewed.de/apt bionic main\" >> /etc/apt/sources.list\n",
        "!apt-key adv --keyserver keys.openpgp.org --recv-key 612DEFB798507F25 > /dev/null &2>$1\n",
        "!apt-get update > /dev/null &2>$1 && apt-get install python3-graph-tool --yes > /dev/null &2>$1\n",
        "!cd ../../ && git clone https://github.com/fvalle1/trisbm.git"
      ],
      "execution_count": 89,
      "outputs": [
        {
          "output_type": "stream",
          "text": [
            "Warning: apt-key output should not be parsed (stdout is not a terminal)\n",
            "gpg: key 612DEFB798507F25: \"Tiago de Paula Peixoto <tiago@skewed.de>\" not changed\n",
            "gpg: Total number processed: 1\n",
            "gpg:              unchanged: 1\n",
            "W: Target Packages (main/binary-amd64/Packages) is configured multiple times in /etc/apt/sources.list:51 and /etc/apt/sources.list:52\n",
            "W: Target Packages (main/binary-all/Packages) is configured multiple times in /etc/apt/sources.list:51 and /etc/apt/sources.list:52\n",
            "W: Target Packages (main/binary-amd64/Packages) is configured multiple times in /etc/apt/sources.list:51 and /etc/apt/sources.list:52\n",
            "W: Target Packages (main/binary-all/Packages) is configured multiple times in /etc/apt/sources.list:51 and /etc/apt/sources.list:52\n",
            "W: Target Packages (main/binary-amd64/Packages) is configured multiple times in /etc/apt/sources.list:51 and /etc/apt/sources.list:52\n",
            "W: Target Packages (main/binary-all/Packages) is configured multiple times in /etc/apt/sources.list:51 and /etc/apt/sources.list:52\n"
          ],
          "name": "stdout"
        }
      ]
    },
    {
      "cell_type": "code",
      "metadata": {
        "id": "8HP2jREWOGdz"
      },
      "source": [
        "import sys\n",
        "sys.path.append(\"/content/drive/My Drive/phd/trisbm\")"
      ],
      "execution_count": 131,
      "outputs": []
    },
    {
      "cell_type": "code",
      "metadata": {
        "id": "AzagCBXXOKPw"
      },
      "source": [
        "from trisbm.trisbm import trisbm"
      ],
      "execution_count": 132,
      "outputs": []
    },
    {
      "cell_type": "code",
      "metadata": {
        "id": "ZGJEvlenOd7T"
      },
      "source": [
        "model = trisbm()"
      ],
      "execution_count": 133,
      "outputs": []
    },
    {
      "cell_type": "code",
      "metadata": {
        "id": "kscRnAsKQhE1"
      },
      "source": [
        "model.make_graph(df.applymap(lambda rpkm: 2**rpkm -1 ), get_kind=lambda g: 2 if \"hsa\" in g else 1)"
      ],
      "execution_count": 134,
      "outputs": []
    },
    {
      "cell_type": "code",
      "metadata": {
        "colab": {
          "base_uri": "https://localhost:8080/",
          "height": 941
        },
        "id": "ojT_DBi-Q18r",
        "outputId": "3589d4c8-2ed8-44c7-964e-b56490beb8ce"
      },
      "source": [
        "model.fit(n_init=3, verbose=True)\n",
        "!rm -rf trisbm\n",
        "!mkdir -p trisbm\n",
        "os.chdir(\"trisbm\")\n",
        "model.save_data()\n",
        "os.chdir(\"../\")\n",
        "!tar -cf trisbm.tar trisbm/"
      ],
      "execution_count": 138,
      "outputs": [
        {
          "output_type": "stream",
          "text": [
            "Saving level 1\n",
            "Saving level 0\n",
            "trisbm/\n",
            "trisbm/trisbm_level_1_topics.csv\n",
            "trisbm/trisbm_level_1_topic-dist.csv\n",
            "trisbm/trisbm_level_1_metadata.csv\n",
            "trisbm/trisbm_level_1_metadatum-dist.csv\n",
            "trisbm/trisbm_level_1_clusters.csv\n",
            "trisbm/trisbm_level_1_word-dist.csv\n",
            "trisbm/trisbm_level_1_keyword-dist.csv\n",
            "trisbm/trisbm_level_1_topics.tsv\n",
            "trisbm/trisbm_level_1_metadata.tsv\n",
            "trisbm/mat_1.png\n",
            "trisbm/trisbm_level_0_topics.csv\n",
            "trisbm/trisbm_level_0_topic-dist.csv\n",
            "trisbm/trisbm_level_0_metadata.csv\n",
            "trisbm/trisbm_level_0_metadatum-dist.csv\n",
            "trisbm/trisbm_level_0_clusters.csv\n",
            "trisbm/trisbm_level_0_word-dist.csv\n",
            "trisbm/trisbm_level_0_keyword-dist.csv\n",
            "trisbm/trisbm_level_0_topics.tsv\n",
            "trisbm/trisbm_level_0_metadata.tsv\n",
            "trisbm/mat_0.png\n",
            "trisbm/summary.txt\n"
          ],
          "name": "stdout"
        },
        {
          "output_type": "display_data",
          "data": {
            "image/png": "[encoded data removed]",
            "text/plain": [
              "<Figure size 288x288 with 1 Axes>"
            ]
          },
          "metadata": {
            "tags": [],
            "needs_background": "light"
          }
        },
        {
          "output_type": "display_data",
          "data": {
            "image/png": "[encoded data removed]",
            "text/plain": [
              "<Figure size 288x288 with 1 Axes>"
            ]
          },
          "metadata": {
            "tags": [],
            "needs_background": "light"
          }
        }
      ]
    },
    {
      "cell_type": "code",
      "metadata": {
        "id": "_8REwtLiREjW"
      },
      "source": [
        "df_files.to_csv(\"files.dat\")"
      ],
      "execution_count": 121,
      "outputs": []
    },
    {
      "cell_type": "code",
      "metadata": {
        "id": "NHIGRnY3SS9C"
      },
      "source": [
        ""
      ],
      "execution_count": null,
      "outputs": []
    }
  ]
}
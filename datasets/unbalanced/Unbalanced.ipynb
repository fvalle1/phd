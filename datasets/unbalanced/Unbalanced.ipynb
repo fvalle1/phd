{
 "cells": [
  {
   "cell_type": "code",
   "execution_count": null,
   "metadata": {},
   "outputs": [],
   "source": [
    "import pandas as pd\n",
    "import sys, os, gc\n",
    "sys.path.append(\"/home/fvalle/phd/master_thesis/hsbm/\")\n",
    "sys.path.append(\"/home/fvalle/phd/master_thesis/\")\n",
    "os.chdir(\"/home/fvalle/phd/datasets/unbalanced/\")"
   ]
  },
  {
   "cell_type": "code",
   "execution_count": null,
   "metadata": {},
   "outputs": [],
   "source": [
    "#GTEx\n",
    "df = pd.read_csv('https://storage.googleapis.com/gtex_analysis_v8/rna_seq_data/GTEx_Analysis_2017-06-05_v8_RNASeQCv1.1.9_gene_tpm.gct.gz', skiprows=2, compression='gzip', sep='\\t')\n",
    "df['ensg'] = [x[:15] for x in df['Name']]\n",
    "df.set_index('Name', inplace=True)\n",
    "df.set_index(['ensg'],inplace=True)\n",
    "df=df.drop(['Description'],1)\n",
    "genelist=pd.read_csv(\"https://stephenslab.github.io/count-clustering/project/utilities/gene_names_all_gtex.txt\", header=None).values.ravel()\n",
    "df = df[df.index.isin(genelist)]\n",
    "df_file = pd.read_csv(\"https://storage.googleapis.com/gtex_analysis_v8/annotations/GTEx_Analysis_v8_Annotations_SampleAttributesDS.txt\", sep='\\t').loc[:,['SAMPID','SMTS', 'SMTSD']]\n",
    "df_file.set_index('SAMPID', inplace=True)"
   ]
  },
  {
   "cell_type": "code",
   "execution_count": null,
   "metadata": {},
   "outputs": [],
   "source": [
    "df_file.groupby('SMTS').count().sort_values('SMTSD',ascending=False)"
   ]
  },
  {
   "cell_type": "code",
   "execution_count": null,
   "metadata": {},
   "outputs": [],
   "source": [
    "df_ub = df.reindex(columns=df_file[df_file['SMTS'].isin(['Stomach', 'Uterus', 'Kidney'])].index).dropna(how='all', axis=1)"
   ]
  },
  {
   "cell_type": "code",
   "execution_count": null,
   "metadata": {},
   "outputs": [],
   "source": [
    "import scanpy as sc"
   ]
  },
  {
   "cell_type": "code",
   "execution_count": null,
   "metadata": {},
   "outputs": [],
   "source": [
    "adata = sc.AnnData(X=df_ub.transpose(), obs=df_file.reindex(index=df_ub.columns))\n",
    "sc.pp.log1p(adata, copy=False)\n",
    "sc.pp.highly_variable_genes(adata, min_mean=0, max_mean=10, n_bins=40)\n",
    "sc.pl.highly_variable_genes(adata, save=\"hvg.svg\")"
   ]
  },
  {
   "cell_type": "code",
   "execution_count": null,
   "metadata": {},
   "outputs": [],
   "source": [
    "hvg = adata.var[adata.var['highly_variable']==True].sort_values(by='dispersions_norm', ascending=False).index\n",
    "samples = adata.obs.index"
   ]
  },
  {
   "cell_type": "code",
   "execution_count": null,
   "metadata": {},
   "outputs": [],
   "source": [
    "df_hsbm = df.reindex(index=hvg[:1000], columns = samples).applymap(lambda x: pd.np.log2(x+1)*1e2)\n",
    "df_hsbm"
   ]
  },
  {
   "cell_type": "code",
   "execution_count": null,
   "metadata": {},
   "outputs": [],
   "source": [
    "df_hsbm.to_csv(\"mainTable.csv\", index=True, header=True)\n",
    "df_file[df_file.index.isin(df_hsbm.columns)].to_csv(\"files.dat\", index=True, header=True)"
   ]
  },
  {
   "cell_type": "code",
   "execution_count": null,
   "metadata": {},
   "outputs": [],
   "source": [
    "gc.collect()"
   ]
  },
  {
   "cell_type": "code",
   "execution_count": null,
   "metadata": {},
   "outputs": [],
   "source": [
    "from sbmtm import sbmtm"
   ]
  },
  {
   "cell_type": "code",
   "execution_count": null,
   "metadata": {},
   "outputs": [],
   "source": [
    "if model:\n",
    "    del model\n",
    "    model = sbmtm()\n",
    "    gc.collect()"
   ]
  },
  {
   "cell_type": "code",
   "execution_count": null,
   "metadata": {},
   "outputs": [],
   "source": [
    "model.load_graph(\"graph.xml.gz\")"
   ]
  },
  {
   "cell_type": "code",
   "execution_count": null,
   "metadata": {},
   "outputs": [],
   "source": [
    "model.make_graph_from_BoW_df(df_hsbm)\n",
    "model.save_graph(\"graph.xml.gz\")"
   ]
  },
  {
   "cell_type": "code",
   "execution_count": null,
   "metadata": {},
   "outputs": [],
   "source": [
    "model.fit(verbose=True, parallel=True)"
   ]
  },
  {
   "cell_type": "code",
   "execution_count": null,
   "metadata": {},
   "outputs": [],
   "source": [
    "model.save_data()"
   ]
  },
  {
   "cell_type": "code",
   "execution_count": null,
   "metadata": {},
   "outputs": [],
   "source": [
    "from hsbmpy import clusteranalysis\n",
    "from hsbmpy import get_max_available_L"
   ]
  },
  {
   "cell_type": "code",
   "execution_count": null,
   "metadata": {},
   "outputs": [],
   "source": [
    "clusteranalysis(os.getcwd(),labels=['SMTS'], l_max=get_max_available_L(os.getcwd()))"
   ]
  },
  {
   "cell_type": "code",
   "execution_count": null,
   "metadata": {},
   "outputs": [],
   "source": []
  },
  {
   "cell_type": "code",
   "execution_count": null,
   "metadata": {},
   "outputs": [],
   "source": []
  }
 ],
 "metadata": {
  "kernelspec": {
   "display_name": "Python 3",
   "language": "python",
   "name": "python3"
  },
  "language_info": {
   "codemirror_mode": {
    "name": "ipython",
    "version": 3
   },
   "file_extension": ".py",
   "mimetype": "text/x-python",
   "name": "python",
   "nbconvert_exporter": "python",
   "pygments_lexer": "ipython3",
   "version": "3.6.10"
  }
 },
 "nbformat": 4,
 "nbformat_minor": 4
}

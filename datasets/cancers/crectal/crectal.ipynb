{
 "cells": [
  {
   "cell_type": "code",
   "execution_count": 1,
   "metadata": {},
   "outputs": [],
   "source": [
    "import pandas as pd\n",
    "import numpy as np\n",
    "import sys, gc"
   ]
  },
  {
   "cell_type": "code",
   "execution_count": 13,
   "metadata": {},
   "outputs": [
    {
     "data": {
      "text/html": [
       "<div>\n",
       "<style scoped>\n",
       "    .dataframe tbody tr th:only-of-type {\n",
       "        vertical-align: middle;\n",
       "    }\n",
       "\n",
       "    .dataframe tbody tr th {\n",
       "        vertical-align: top;\n",
       "    }\n",
       "\n",
       "    .dataframe thead th {\n",
       "        text-align: right;\n",
       "    }\n",
       "</style>\n",
       "<table border=\"1\" class=\"dataframe\">\n",
       "  <thead>\n",
       "    <tr style=\"text-align: right;\">\n",
       "      <th></th>\n",
       "      <th>cancer.type</th>\n",
       "      <th>Subtype_mRNA</th>\n",
       "      <th>Subtype_DNAmeth</th>\n",
       "      <th>Subtype_protein</th>\n",
       "      <th>Subtype_miRNA</th>\n",
       "      <th>Subtype_CNA</th>\n",
       "      <th>Subtype_Integrative</th>\n",
       "      <th>Subtype_other</th>\n",
       "      <th>Subtype_Selected</th>\n",
       "    </tr>\n",
       "    <tr>\n",
       "      <th>pan.samplesID</th>\n",
       "      <th></th>\n",
       "      <th></th>\n",
       "      <th></th>\n",
       "      <th></th>\n",
       "      <th></th>\n",
       "      <th></th>\n",
       "      <th></th>\n",
       "      <th></th>\n",
       "      <th></th>\n",
       "    </tr>\n",
       "  </thead>\n",
       "  <tbody>\n",
       "    <tr>\n",
       "      <th>TCGA-3L-AA1B</th>\n",
       "      <td>COAD</td>\n",
       "      <td>NaN</td>\n",
       "      <td>NaN</td>\n",
       "      <td>NaN</td>\n",
       "      <td>NaN</td>\n",
       "      <td>NaN</td>\n",
       "      <td>NaN</td>\n",
       "      <td>CIN</td>\n",
       "      <td>GI.CIN</td>\n",
       "    </tr>\n",
       "    <tr>\n",
       "      <th>TCGA-4N-A93T</th>\n",
       "      <td>COAD</td>\n",
       "      <td>NaN</td>\n",
       "      <td>NaN</td>\n",
       "      <td>NaN</td>\n",
       "      <td>NaN</td>\n",
       "      <td>NaN</td>\n",
       "      <td>NaN</td>\n",
       "      <td>CIN</td>\n",
       "      <td>GI.CIN</td>\n",
       "    </tr>\n",
       "    <tr>\n",
       "      <th>TCGA-4T-AA8H</th>\n",
       "      <td>COAD</td>\n",
       "      <td>NaN</td>\n",
       "      <td>NaN</td>\n",
       "      <td>NaN</td>\n",
       "      <td>NaN</td>\n",
       "      <td>NaN</td>\n",
       "      <td>NaN</td>\n",
       "      <td>CIN</td>\n",
       "      <td>GI.CIN</td>\n",
       "    </tr>\n",
       "    <tr>\n",
       "      <th>TCGA-5M-AAT4</th>\n",
       "      <td>COAD</td>\n",
       "      <td>NaN</td>\n",
       "      <td>NaN</td>\n",
       "      <td>NaN</td>\n",
       "      <td>NaN</td>\n",
       "      <td>NaN</td>\n",
       "      <td>NaN</td>\n",
       "      <td>CIN</td>\n",
       "      <td>GI.CIN</td>\n",
       "    </tr>\n",
       "    <tr>\n",
       "      <th>TCGA-5M-AAT5</th>\n",
       "      <td>COAD</td>\n",
       "      <td>NaN</td>\n",
       "      <td>NaN</td>\n",
       "      <td>NaN</td>\n",
       "      <td>NaN</td>\n",
       "      <td>NaN</td>\n",
       "      <td>NaN</td>\n",
       "      <td>CIN</td>\n",
       "      <td>GI.CIN</td>\n",
       "    </tr>\n",
       "    <tr>\n",
       "      <th>...</th>\n",
       "      <td>...</td>\n",
       "      <td>...</td>\n",
       "      <td>...</td>\n",
       "      <td>...</td>\n",
       "      <td>...</td>\n",
       "      <td>...</td>\n",
       "      <td>...</td>\n",
       "      <td>...</td>\n",
       "      <td>...</td>\n",
       "    </tr>\n",
       "    <tr>\n",
       "      <th>TCGA-QL-A97D</th>\n",
       "      <td>COAD</td>\n",
       "      <td>NaN</td>\n",
       "      <td>NaN</td>\n",
       "      <td>NaN</td>\n",
       "      <td>NaN</td>\n",
       "      <td>NaN</td>\n",
       "      <td>NaN</td>\n",
       "      <td>CIN</td>\n",
       "      <td>GI.CIN</td>\n",
       "    </tr>\n",
       "    <tr>\n",
       "      <th>TCGA-RU-A8FL</th>\n",
       "      <td>COAD</td>\n",
       "      <td>NaN</td>\n",
       "      <td>NaN</td>\n",
       "      <td>NaN</td>\n",
       "      <td>NaN</td>\n",
       "      <td>NaN</td>\n",
       "      <td>NaN</td>\n",
       "      <td>CIN</td>\n",
       "      <td>GI.CIN</td>\n",
       "    </tr>\n",
       "    <tr>\n",
       "      <th>TCGA-SS-A7HO</th>\n",
       "      <td>COAD</td>\n",
       "      <td>NaN</td>\n",
       "      <td>NaN</td>\n",
       "      <td>NaN</td>\n",
       "      <td>NaN</td>\n",
       "      <td>NaN</td>\n",
       "      <td>NaN</td>\n",
       "      <td>CIN</td>\n",
       "      <td>GI.CIN</td>\n",
       "    </tr>\n",
       "    <tr>\n",
       "      <th>TCGA-T9-A92H</th>\n",
       "      <td>COAD</td>\n",
       "      <td>NaN</td>\n",
       "      <td>NaN</td>\n",
       "      <td>NaN</td>\n",
       "      <td>NaN</td>\n",
       "      <td>NaN</td>\n",
       "      <td>NaN</td>\n",
       "      <td>CIN</td>\n",
       "      <td>GI.CIN</td>\n",
       "    </tr>\n",
       "    <tr>\n",
       "      <th>TCGA-WS-AB45</th>\n",
       "      <td>COAD</td>\n",
       "      <td>NaN</td>\n",
       "      <td>NaN</td>\n",
       "      <td>NaN</td>\n",
       "      <td>NaN</td>\n",
       "      <td>NaN</td>\n",
       "      <td>NaN</td>\n",
       "      <td>MSI</td>\n",
       "      <td>GI.MSI</td>\n",
       "    </tr>\n",
       "  </tbody>\n",
       "</table>\n",
       "<p>341 rows × 9 columns</p>\n",
       "</div>"
      ],
      "text/plain": [
       "              cancer.type Subtype_mRNA Subtype_DNAmeth  Subtype_protein  \\\n",
       "pan.samplesID                                                             \n",
       "TCGA-3L-AA1B         COAD          NaN             NaN              NaN   \n",
       "TCGA-4N-A93T         COAD          NaN             NaN              NaN   \n",
       "TCGA-4T-AA8H         COAD          NaN             NaN              NaN   \n",
       "TCGA-5M-AAT4         COAD          NaN             NaN              NaN   \n",
       "TCGA-5M-AAT5         COAD          NaN             NaN              NaN   \n",
       "...                   ...          ...             ...              ...   \n",
       "TCGA-QL-A97D         COAD          NaN             NaN              NaN   \n",
       "TCGA-RU-A8FL         COAD          NaN             NaN              NaN   \n",
       "TCGA-SS-A7HO         COAD          NaN             NaN              NaN   \n",
       "TCGA-T9-A92H         COAD          NaN             NaN              NaN   \n",
       "TCGA-WS-AB45         COAD          NaN             NaN              NaN   \n",
       "\n",
       "              Subtype_miRNA Subtype_CNA Subtype_Integrative Subtype_other  \\\n",
       "pan.samplesID                                                               \n",
       "TCGA-3L-AA1B            NaN         NaN                 NaN           CIN   \n",
       "TCGA-4N-A93T            NaN         NaN                 NaN           CIN   \n",
       "TCGA-4T-AA8H            NaN         NaN                 NaN           CIN   \n",
       "TCGA-5M-AAT4            NaN         NaN                 NaN           CIN   \n",
       "TCGA-5M-AAT5            NaN         NaN                 NaN           CIN   \n",
       "...                     ...         ...                 ...           ...   \n",
       "TCGA-QL-A97D            NaN         NaN                 NaN           CIN   \n",
       "TCGA-RU-A8FL            NaN         NaN                 NaN           CIN   \n",
       "TCGA-SS-A7HO            NaN         NaN                 NaN           CIN   \n",
       "TCGA-T9-A92H            NaN         NaN                 NaN           CIN   \n",
       "TCGA-WS-AB45            NaN         NaN                 NaN           MSI   \n",
       "\n",
       "              Subtype_Selected  \n",
       "pan.samplesID                   \n",
       "TCGA-3L-AA1B            GI.CIN  \n",
       "TCGA-4N-A93T            GI.CIN  \n",
       "TCGA-4T-AA8H            GI.CIN  \n",
       "TCGA-5M-AAT4            GI.CIN  \n",
       "TCGA-5M-AAT5            GI.CIN  \n",
       "...                        ...  \n",
       "TCGA-QL-A97D            GI.CIN  \n",
       "TCGA-RU-A8FL            GI.CIN  \n",
       "TCGA-SS-A7HO            GI.CIN  \n",
       "TCGA-T9-A92H            GI.CIN  \n",
       "TCGA-WS-AB45            GI.MSI  \n",
       "\n",
       "[341 rows x 9 columns]"
      ]
     },
     "execution_count": 13,
     "metadata": {},
     "output_type": "execute_result"
    }
   ],
   "source": [
    "df_tcgabiolinks = pd.read_csv(\"../TCGA_biolinks.csv\", index_col=0).dropna(how=\"all\", axis=1)\n",
    "df_tcgabiolinks = df_tcgabiolinks[df_tcgabiolinks[\"cancer.type\"]==\"COAD\"].set_index(\"pan.samplesID\")\n",
    "df_tcgabiolinks"
   ]
  },
  {
   "cell_type": "code",
   "execution_count": 103,
   "metadata": {},
   "outputs": [],
   "source": [
    "df_files=pd.read_csv(\"files_tcga.dat\", index_col=0)\n",
    "df_files=df_files.reset_index().drop_duplicates(\"cases.0.submitter_id\").set_index(\"cases.0.submitter_id\")\n",
    "df_files = df_files.reindex(index=df_tcgabiolinks.index, copy=False)\n",
    "df_files = df_files.transpose().append(df_tcgabiolinks.transpose()).transpose()\n",
    "df_files = df_files.reset_index().set_index(\"file_name\").fillna(\"unknown\")\n",
    "\n",
    "bins = np.linspace(0,5,num=4)\n",
    "cutted = pd.cut(df_files[\"cases.0.samples.0.longest_dimension\"].replace(\"unknown\", np.nan).dropna().astype(float),bins=bins, labels=bins[1:])\n",
    "df_files[\"longest_dimension\"]=df_files[\"cases.0.samples.0.longest_dimension\"]\n",
    "df_files[\"longest_dimension\"][cutted.index]=cutted"
   ]
  },
  {
   "cell_type": "code",
   "execution_count": 104,
   "metadata": {},
   "outputs": [],
   "source": [
    "df_files.to_csv(\"files.dat\", index=True, header=True)"
   ]
  },
  {
   "cell_type": "code",
   "execution_count": 56,
   "metadata": {},
   "outputs": [],
   "source": [
    "df = pd.read_csv(\"mainTable_all.csv\",index_col=0)"
   ]
  },
  {
   "cell_type": "code",
   "execution_count": 58,
   "metadata": {},
   "outputs": [
    {
     "data": {
      "text/plain": [
       "Index(['6e0407fb-7b98-4cc8-a6f0-f6e7f5935eca.FPKM.txt.gz',\n",
       "       'a8d7571b-7539-40ac-8be9-209aa54769d2.FPKM.txt.gz',\n",
       "       'e5b468e1-f932-497d-8045-e75588701aac.FPKM.txt.gz',\n",
       "       '59608767-595f-402a-9f7f-356dd6e99a51.FPKM.txt.gz',\n",
       "       '938e4a22-7ed8-4b09-aa65-0cd737beee31.FPKM.txt.gz',\n",
       "       '7b2cd944-1cd6-4107-8aa6-11913ee32257.FPKM.txt.gz',\n",
       "       'f006e10f-a564-425c-8d92-0b8c3d5c038f.FPKM.txt.gz',\n",
       "       '43b292be-5d63-4523-a43f-666d20039208.FPKM.txt.gz',\n",
       "       'bf4c7278-d90c-497e-97af-cc9c68ca1525.FPKM.txt.gz',\n",
       "       'b2d38886-f7a9-439e-86ac-d99d45447cc1.FPKM.txt.gz',\n",
       "       ...\n",
       "       'c3f9ba64-6946-45d4-984d-b33ef2589603.FPKM.txt.gz',\n",
       "       'd60b1d68-c859-43af-b9bd-1a7dae06c804.FPKM.txt.gz',\n",
       "       '058cd2dd-6bea-4188-8bb2-3314723c0762.FPKM.txt.gz',\n",
       "       '6f699ea3-1d77-493e-9e9b-a3e2abbd2873.FPKM.txt.gz',\n",
       "       'd67325ce-cd01-45b8-b816-74fc73acd54a.FPKM.txt.gz',\n",
       "       '09977485-e1d1-41b1-b2b8-7ab0ad6df0a0.FPKM.txt.gz',\n",
       "       '11d08d8f-beea-4b57-a9cd-2f957a391360.FPKM.txt.gz',\n",
       "       'f36f74a9-97b4-4913-86e2-56ebaf55f006.FPKM.txt.gz',\n",
       "       '11320586-6000-4f23-8e68-926175cfadf2.FPKM.txt.gz',\n",
       "       '9e8b528b-1172-4c07-a09b-ebb23cf2310c.FPKM.txt.gz'],\n",
       "      dtype='object', length=181)"
      ]
     },
     "execution_count": 58,
     "metadata": {},
     "output_type": "execute_result"
    }
   ],
   "source": [
    "df.columns[~df.columns.isin(df_files.index)]"
   ]
  },
  {
   "cell_type": "code",
   "execution_count": 59,
   "metadata": {},
   "outputs": [
    {
     "data": {
      "text/html": [
       "<div>\n",
       "<style scoped>\n",
       "    .dataframe tbody tr th:only-of-type {\n",
       "        vertical-align: middle;\n",
       "    }\n",
       "\n",
       "    .dataframe tbody tr th {\n",
       "        vertical-align: top;\n",
       "    }\n",
       "\n",
       "    .dataframe thead th {\n",
       "        text-align: right;\n",
       "    }\n",
       "</style>\n",
       "<table border=\"1\" class=\"dataframe\">\n",
       "  <thead>\n",
       "    <tr style=\"text-align: right;\">\n",
       "      <th></th>\n",
       "      <th>pan.samplesID</th>\n",
       "      <th>cases.0.diagnoses.0.morphology</th>\n",
       "      <th>cases.0.diagnoses.0.primary_diagnosis</th>\n",
       "      <th>cases.0.diagnoses.0.tissue_or_organ_of_origin</th>\n",
       "      <th>cases.0.diagnoses.0.tumor_grade</th>\n",
       "      <th>cases.0.diagnoses.0.tumor_stage</th>\n",
       "      <th>cases.0.project.disease_type</th>\n",
       "      <th>cases.0.project.primary_site</th>\n",
       "      <th>cases.0.samples.0.longest_dimension</th>\n",
       "      <th>cases.0.samples.0.portions.0.analytes.0.aliquots.0.submitter_id</th>\n",
       "      <th>cancer.type</th>\n",
       "      <th>Subtype_mRNA</th>\n",
       "      <th>Subtype_DNAmeth</th>\n",
       "      <th>Subtype_protein</th>\n",
       "      <th>Subtype_miRNA</th>\n",
       "      <th>Subtype_CNA</th>\n",
       "      <th>Subtype_Integrative</th>\n",
       "      <th>Subtype_other</th>\n",
       "      <th>Subtype_Selected</th>\n",
       "    </tr>\n",
       "    <tr>\n",
       "      <th>file_name</th>\n",
       "      <th></th>\n",
       "      <th></th>\n",
       "      <th></th>\n",
       "      <th></th>\n",
       "      <th></th>\n",
       "      <th></th>\n",
       "      <th></th>\n",
       "      <th></th>\n",
       "      <th></th>\n",
       "      <th></th>\n",
       "      <th></th>\n",
       "      <th></th>\n",
       "      <th></th>\n",
       "      <th></th>\n",
       "      <th></th>\n",
       "      <th></th>\n",
       "      <th></th>\n",
       "      <th></th>\n",
       "      <th></th>\n",
       "    </tr>\n",
       "  </thead>\n",
       "  <tbody>\n",
       "    <tr>\n",
       "      <th>NaN</th>\n",
       "      <td>TCGA-AZ-4681</td>\n",
       "      <td>unknown</td>\n",
       "      <td>unknown</td>\n",
       "      <td>unknown</td>\n",
       "      <td>unknown</td>\n",
       "      <td>unknown</td>\n",
       "      <td>unknown</td>\n",
       "      <td>unknown</td>\n",
       "      <td>unknown</td>\n",
       "      <td>unknown</td>\n",
       "      <td>COAD</td>\n",
       "      <td>unknown</td>\n",
       "      <td>unknown</td>\n",
       "      <td>unknown</td>\n",
       "      <td>unknown</td>\n",
       "      <td>unknown</td>\n",
       "      <td>unknown</td>\n",
       "      <td>CIN</td>\n",
       "      <td>GI.CIN</td>\n",
       "    </tr>\n",
       "  </tbody>\n",
       "</table>\n",
       "</div>"
      ],
      "text/plain": [
       "          pan.samplesID cases.0.diagnoses.0.morphology  \\\n",
       "file_name                                                \n",
       "NaN        TCGA-AZ-4681                        unknown   \n",
       "\n",
       "          cases.0.diagnoses.0.primary_diagnosis  \\\n",
       "file_name                                         \n",
       "NaN                                     unknown   \n",
       "\n",
       "          cases.0.diagnoses.0.tissue_or_organ_of_origin  \\\n",
       "file_name                                                 \n",
       "NaN                                             unknown   \n",
       "\n",
       "          cases.0.diagnoses.0.tumor_grade cases.0.diagnoses.0.tumor_stage  \\\n",
       "file_name                                                                   \n",
       "NaN                               unknown                         unknown   \n",
       "\n",
       "          cases.0.project.disease_type cases.0.project.primary_site  \\\n",
       "file_name                                                             \n",
       "NaN                            unknown                      unknown   \n",
       "\n",
       "          cases.0.samples.0.longest_dimension  \\\n",
       "file_name                                       \n",
       "NaN                                   unknown   \n",
       "\n",
       "          cases.0.samples.0.portions.0.analytes.0.aliquots.0.submitter_id  \\\n",
       "file_name                                                                   \n",
       "NaN                                                  unknown                \n",
       "\n",
       "          cancer.type Subtype_mRNA Subtype_DNAmeth Subtype_protein  \\\n",
       "file_name                                                            \n",
       "NaN              COAD      unknown         unknown         unknown   \n",
       "\n",
       "          Subtype_miRNA Subtype_CNA Subtype_Integrative Subtype_other  \\\n",
       "file_name                                                               \n",
       "NaN             unknown     unknown             unknown           CIN   \n",
       "\n",
       "          Subtype_Selected  \n",
       "file_name                   \n",
       "NaN                 GI.CIN  "
      ]
     },
     "execution_count": 59,
     "metadata": {},
     "output_type": "execute_result"
    }
   ],
   "source": [
    "df_files[~df_files.index.isin(df.columns)]"
   ]
  },
  {
   "cell_type": "code",
   "execution_count": 60,
   "metadata": {},
   "outputs": [
    {
     "data": {
      "text/plain": [
       "array(['GI.CIN', 'GI.MSI', 'GI.GS', 'GI.HM-SNV'], dtype=object)"
      ]
     },
     "execution_count": 60,
     "metadata": {},
     "output_type": "execute_result"
    }
   ],
   "source": [
    "df_files[\"Subtype_Selected\"].unique()"
   ]
  },
  {
   "cell_type": "code",
   "execution_count": 62,
   "metadata": {},
   "outputs": [],
   "source": [
    "df = df.reindex(columns=df.columns[df.columns.isin(df_files.index)])\n",
    "df.to_csv(\"mainTable.csv\", index=True, header=True)\n",
    "df_files.fillna(\"unknown\").to_csv(\"files.dat\", index=True)"
   ]
  },
  {
   "cell_type": "code",
   "execution_count": 64,
   "metadata": {},
   "outputs": [
    {
     "data": {
      "image/png": "[encoded data removed]",
      "text/plain": [
       "<Figure size 864x288 with 2 Axes>"
      ]
     },
     "metadata": {
      "needs_background": "light"
     },
     "output_type": "display_data"
    }
   ],
   "source": [
    "import scanpy as sc\n",
    "adata = sc.AnnData(X=df.transpose(), obs=df_files.reindex(index=df.columns))\n",
    "sc.pp.log1p(adata)\n",
    "sc.pp.highly_variable_genes(adata, n_top_genes=3000)\n",
    "sc.pl.highly_variable_genes(adata)\n",
    "hvg = adata.var[adata.var[\"highly_variable\"]==True].index"
   ]
  },
  {
   "cell_type": "code",
   "execution_count": 65,
   "metadata": {},
   "outputs": [],
   "source": [
    "df.reindex(index=hvg).to_csv(\"mainTable.csv\", index=True, header=True)"
   ]
  },
  {
   "cell_type": "code",
   "execution_count": 66,
   "metadata": {},
   "outputs": [
    {
     "ename": "ModuleNotFoundError",
     "evalue": "No module named 'graph_tool'",
     "output_type": "error",
     "traceback": [
      "\u001b[0;31m---------------------------------------------------------------------------\u001b[0m",
      "\u001b[0;31mModuleNotFoundError\u001b[0m                       Traceback (most recent call last)",
      "\u001b[0;32m<ipython-input-66-4642f24ff606>\u001b[0m in \u001b[0;36m<module>\u001b[0;34m\u001b[0m\n\u001b[1;32m      1\u001b[0m \u001b[0msys\u001b[0m\u001b[0;34m.\u001b[0m\u001b[0mpath\u001b[0m\u001b[0;34m.\u001b[0m\u001b[0mappend\u001b[0m\u001b[0;34m(\u001b[0m\u001b[0;34m\"/home/jovyan/work/phd/hsbm-occam/\"\u001b[0m\u001b[0;34m)\u001b[0m\u001b[0;34m\u001b[0m\u001b[0;34m\u001b[0m\u001b[0m\n\u001b[0;32m----> 2\u001b[0;31m \u001b[0;32mfrom\u001b[0m \u001b[0msbmtm\u001b[0m \u001b[0;32mimport\u001b[0m \u001b[0msbmtm\u001b[0m\u001b[0;34m\u001b[0m\u001b[0;34m\u001b[0m\u001b[0m\n\u001b[0m",
      "\u001b[0;32m~/work/phd/hsbm-occam/sbmtm.py\u001b[0m in \u001b[0;36m<module>\u001b[0;34m\u001b[0m\n\u001b[1;32m      5\u001b[0m \u001b[0;32mfrom\u001b[0m \u001b[0mcollections\u001b[0m \u001b[0;32mimport\u001b[0m \u001b[0mCounter\u001b[0m\u001b[0;34m,\u001b[0m \u001b[0mdefaultdict\u001b[0m\u001b[0;34m\u001b[0m\u001b[0;34m\u001b[0m\u001b[0m\n\u001b[1;32m      6\u001b[0m \u001b[0;32mimport\u001b[0m \u001b[0mpickle\u001b[0m\u001b[0;34m\u001b[0m\u001b[0;34m\u001b[0m\u001b[0m\n\u001b[0;32m----> 7\u001b[0;31m \u001b[0;32mimport\u001b[0m \u001b[0mgraph_tool\u001b[0m\u001b[0;34m.\u001b[0m\u001b[0mall\u001b[0m \u001b[0;32mas\u001b[0m \u001b[0mgt\u001b[0m\u001b[0;34m\u001b[0m\u001b[0;34m\u001b[0m\u001b[0m\n\u001b[0m\u001b[1;32m      8\u001b[0m \u001b[0;32mimport\u001b[0m \u001b[0msys\u001b[0m\u001b[0;34m\u001b[0m\u001b[0;34m\u001b[0m\u001b[0m\n\u001b[1;32m      9\u001b[0m \u001b[0;34m\u001b[0m\u001b[0m\n",
      "\u001b[0;31mModuleNotFoundError\u001b[0m: No module named 'graph_tool'"
     ]
    }
   ],
   "source": [
    "sys.path.append(\"/home/jovyan/work/phd/hsbm-occam/\")\n",
    "from sbmtm import sbmtm"
   ]
  },
  {
   "cell_type": "code",
   "execution_count": 24,
   "metadata": {},
   "outputs": [
    {
     "ename": "NameError",
     "evalue": "name 'sbmtm' is not defined",
     "output_type": "error",
     "traceback": [
      "\u001b[0;31m---------------------------------------------------------------------------\u001b[0m",
      "\u001b[0;31mNameError\u001b[0m                                 Traceback (most recent call last)",
      "\u001b[0;32m<ipython-input-24-182e57fed479>\u001b[0m in \u001b[0;36m<module>\u001b[0;34m\u001b[0m\n\u001b[0;32m----> 1\u001b[0;31m \u001b[0mhsbm\u001b[0m \u001b[0;34m=\u001b[0m \u001b[0msbmtm\u001b[0m\u001b[0;34m(\u001b[0m\u001b[0;34m)\u001b[0m\u001b[0;34m\u001b[0m\u001b[0;34m\u001b[0m\u001b[0m\n\u001b[0m",
      "\u001b[0;31mNameError\u001b[0m: name 'sbmtm' is not defined"
     ]
    }
   ],
   "source": [
    "hsbm = sbmtm()"
   ]
  },
  {
   "cell_type": "code",
   "execution_count": 112,
   "metadata": {},
   "outputs": [
    {
     "data": {
      "text/plain": [
       "<sbmtm.sbmtm at 0x7f97e9bca550>"
      ]
     },
     "execution_count": 112,
     "metadata": {},
     "output_type": "execute_result"
    }
   ],
   "source": [
    "hsbm.make_graph_from_BoW_df(df.reindex(index=hvg))"
   ]
  },
  {
   "cell_type": "code",
   "execution_count": 113,
   "metadata": {},
   "outputs": [],
   "source": [
    "hsbm.save_graph(\"graph.xml.gz\")"
   ]
  },
  {
   "cell_type": "code",
   "execution_count": 114,
   "metadata": {},
   "outputs": [
    {
     "data": {
      "text/plain": [
       "4276"
      ]
     },
     "execution_count": 114,
     "metadata": {},
     "output_type": "execute_result"
    }
   ],
   "source": [
    "del hsbm\n",
    "gc.collect()"
   ]
  },
  {
   "cell_type": "code",
   "execution_count": 102,
   "metadata": {},
   "outputs": [
    {
     "name": "stdout",
     "output_type": "stream",
     "text": [
      "<class 'pandas.core.frame.DataFrame'>\n",
      "Index: 15659 entries, ENSG00000000419 to ENSG00000273489\n",
      "Columns: 227 entries, 535e80df-ea81-4f5d-8f2e-e74ca97e9b01.htseq.counts.gz to 07ec290d-c41b-42eb-8cb2-07504451f732.htseq.counts.gz\n",
      "dtypes: int64(227)\n",
      "memory usage: 27.2+ MB\n"
     ]
    }
   ],
   "source": [
    "df.info()"
   ]
  },
  {
   "cell_type": "code",
   "execution_count": 119,
   "metadata": {},
   "outputs": [],
   "source": []
  },
  {
   "cell_type": "code",
   "execution_count": null,
   "metadata": {},
   "outputs": [],
   "source": []
  }
 ],
 "metadata": {
  "kernelspec": {
   "display_name": "Python 3",
   "language": "python",
   "name": "python3"
  },
  "language_info": {
   "codemirror_mode": {
    "name": "ipython",
    "version": 3
   },
   "file_extension": ".py",
   "mimetype": "text/x-python",
   "name": "python",
   "nbconvert_exporter": "python",
   "pygments_lexer": "ipython3",
   "version": "3.7.6"
  }
 },
 "nbformat": 4,
 "nbformat_minor": 4
}

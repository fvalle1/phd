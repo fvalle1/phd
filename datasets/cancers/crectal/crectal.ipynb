{
 "cells": [
  {
   "cell_type": "code",
   "execution_count": 2,
   "metadata": {},
   "outputs": [],
   "source": [
    "import pandas as pd\n",
    "import numpy as np\n",
    "import sys, gc\n",
    "sys.path.append('/home/fvalle/phd/master_thesis/hsbm/')\n",
    "sys.path.append('/home/fvalle/phd/master_thesis/')"
   ]
  },
  {
   "cell_type": "code",
   "execution_count": 6,
   "metadata": {},
   "outputs": [
    {
     "data": {
      "text/plain": [
       "Index(['patient', 'sequenced', 'microRNA', 'SNP6', 'WGS', 'RNAseq',\n",
       "       'Agilent.expression', 'methylation', 'normal_meth', 'complete',\n",
       "       'MSI_status', 'methylation_subtype', 'MLH1_silencing',\n",
       "       'expression_subtype', 'hypermutated', 'silent_mutrate',\n",
       "       'nonsilent_mutrate', 'cancer', 'anatomic_organ_subdivision',\n",
       "       'tumor_site', 'age_at_initial_pathologic_diagnosis', 'days_to_death',\n",
       "       'days_to_last_followup', 'days_to_last_known_alive',\n",
       "       'distant_metastasis_pathologic_spread', 'gender', 'histological_type',\n",
       "       'history_of_colon_polyps', 'icd_o_3_histology', 'icd_o_3_site',\n",
       "       'lymphatic_invasion_present', 'lymphnode_pathologic_spread',\n",
       "       'lymphnodes_examined',\n",
       "       'number_of_first_degree_relatives_with_cancer_diagnosis',\n",
       "       'number_of_lymphnodes_examined', 'number_of_lymphnodes_positive_by_he',\n",
       "       'person_neoplasm_cancer_status', 'preoperative_pretreatment_cea_level',\n",
       "       'primary_tumor_pathologic_spread', 'prior_diagnosis', 'residual_tumor',\n",
       "       'synchronous_colon_cancer_present', 'tumor_stage',\n",
       "       'vascular_invasion_present', 'vital_status'],\n",
       "      dtype='object')"
      ]
     },
     "execution_count": 6,
     "metadata": {},
     "output_type": "execute_result"
    }
   ],
   "source": [
    "df_info = pd.read_csv(\"TCGABiolinks_COAD.csv\", index_col=0).sort_index()\n",
    "df_info.columns"
   ]
  },
  {
   "cell_type": "code",
   "execution_count": 7,
   "metadata": {},
   "outputs": [
    {
     "data": {
      "text/plain": [
       "Index(['cases.0.diagnoses.0.morphology',\n",
       "       'cases.0.diagnoses.0.primary_diagnosis',\n",
       "       'cases.0.diagnoses.0.tissue_or_organ_of_origin',\n",
       "       'cases.0.diagnoses.0.tumor_grade', 'cases.0.diagnoses.0.tumor_stage',\n",
       "       'cases.0.project.disease_type', 'cases.0.project.primary_site',\n",
       "       'cases.0.samples.0.longest_dimension',\n",
       "       'cases.0.samples.0.portions.0.analytes.0.aliquots.0.submitter_id',\n",
       "       'cases.0.submitter_id'],\n",
       "      dtype='object')"
      ]
     },
     "execution_count": 7,
     "metadata": {},
     "output_type": "execute_result"
    }
   ],
   "source": [
    "df_files.columns"
   ]
  },
  {
   "cell_type": "code",
   "execution_count": 9,
   "metadata": {},
   "outputs": [],
   "source": [
    "df_files=pd.read_csv(\"files.dat\", index_col=0)\n",
    "df_files[\"tcga_id\"]=df_files[\"cases.0.submitter_id\"]\n",
    "df_files.sort_values('tcga_id', inplace=True)\n",
    "df_files=df_files[df_files['tcga_id'].isin(df_info['patient'])]"
   ]
  },
  {
   "cell_type": "code",
   "execution_count": 10,
   "metadata": {},
   "outputs": [],
   "source": [
    "df_files = df_files.reset_index().set_index('tcga_id').transpose().append(df_info.reset_index().set_index('patient').reindex(index=df_files['tcga_id']).transpose()).transpose().reset_index().set_index(\"file_name\")"
   ]
  },
  {
   "cell_type": "code",
   "execution_count": 78,
   "metadata": {},
   "outputs": [],
   "source": [
    "df = pd.read_csv(\"mainTable.csv\",index_col=0)"
   ]
  },
  {
   "cell_type": "code",
   "execution_count": 106,
   "metadata": {},
   "outputs": [],
   "source": [
    "df_files=df_files.reindex(index=df.columns)"
   ]
  },
  {
   "cell_type": "code",
   "execution_count": 81,
   "metadata": {},
   "outputs": [],
   "source": [
    "df[df_files.index].to_csv(\"mainTable_all.csv\", index=True, header=True)"
   ]
  },
  {
   "cell_type": "code",
   "execution_count": 104,
   "metadata": {},
   "outputs": [
    {
     "data": {
      "text/plain": [
       "Index([], dtype='object')"
      ]
     },
     "execution_count": 104,
     "metadata": {},
     "output_type": "execute_result"
    }
   ],
   "source": [
    "df.columns[~df.columns.isin(df_files.index)]"
   ]
  },
  {
   "cell_type": "code",
   "execution_count": 83,
   "metadata": {},
   "outputs": [
    {
     "data": {
      "text/html": [
       "<div>\n",
       "<style scoped>\n",
       "    .dataframe tbody tr th:only-of-type {\n",
       "        vertical-align: middle;\n",
       "    }\n",
       "\n",
       "    .dataframe tbody tr th {\n",
       "        vertical-align: top;\n",
       "    }\n",
       "\n",
       "    .dataframe thead th {\n",
       "        text-align: right;\n",
       "    }\n",
       "</style>\n",
       "<table border=\"1\" class=\"dataframe\">\n",
       "  <thead>\n",
       "    <tr style=\"text-align: right;\">\n",
       "      <th></th>\n",
       "      <th>tcga_id</th>\n",
       "      <th>primary_site</th>\n",
       "      <th>disease_type</th>\n",
       "      <th>primary_diagnosis</th>\n",
       "      <th>index</th>\n",
       "      <th>sequenced</th>\n",
       "      <th>microRNA</th>\n",
       "      <th>SNP6</th>\n",
       "      <th>WGS</th>\n",
       "      <th>RNAseq</th>\n",
       "      <th>...</th>\n",
       "      <th>number_of_lymphnodes_positive_by_he</th>\n",
       "      <th>person_neoplasm_cancer_status</th>\n",
       "      <th>preoperative_pretreatment_cea_level</th>\n",
       "      <th>primary_tumor_pathologic_spread</th>\n",
       "      <th>prior_diagnosis</th>\n",
       "      <th>residual_tumor</th>\n",
       "      <th>synchronous_colon_cancer_present</th>\n",
       "      <th>tumor_stage</th>\n",
       "      <th>vascular_invasion_present</th>\n",
       "      <th>vital_status</th>\n",
       "    </tr>\n",
       "    <tr>\n",
       "      <th>file_name</th>\n",
       "      <th></th>\n",
       "      <th></th>\n",
       "      <th></th>\n",
       "      <th></th>\n",
       "      <th></th>\n",
       "      <th></th>\n",
       "      <th></th>\n",
       "      <th></th>\n",
       "      <th></th>\n",
       "      <th></th>\n",
       "      <th></th>\n",
       "      <th></th>\n",
       "      <th></th>\n",
       "      <th></th>\n",
       "      <th></th>\n",
       "      <th></th>\n",
       "      <th></th>\n",
       "      <th></th>\n",
       "      <th></th>\n",
       "      <th></th>\n",
       "      <th></th>\n",
       "    </tr>\n",
       "  </thead>\n",
       "  <tbody>\n",
       "  </tbody>\n",
       "</table>\n",
       "<p>0 rows × 49 columns</p>\n",
       "</div>"
      ],
      "text/plain": [
       "Empty DataFrame\n",
       "Columns: [tcga_id, primary_site, disease_type, primary_diagnosis, index, sequenced, microRNA, SNP6, WGS, RNAseq, Agilent.expression, methylation, normal_meth, complete, MSI_status, methylation_subtype, MLH1_silencing, expression_subtype, hypermutated, silent_mutrate, nonsilent_mutrate, cancer, anatomic_organ_subdivision, tumor_site, age_at_initial_pathologic_diagnosis, days_to_death, days_to_last_followup, days_to_last_known_alive, distant_metastasis_pathologic_spread, gender, histological_type, history_of_colon_polyps, icd_o_3_histology, icd_o_3_site, lymphatic_invasion_present, lymphnode_pathologic_spread, lymphnodes_examined, number_of_first_degree_relatives_with_cancer_diagnosis, number_of_lymphnodes_examined, number_of_lymphnodes_positive_by_he, person_neoplasm_cancer_status, preoperative_pretreatment_cea_level, primary_tumor_pathologic_spread, prior_diagnosis, residual_tumor, synchronous_colon_cancer_present, tumor_stage, vascular_invasion_present, vital_status]\n",
       "Index: []\n",
       "\n",
       "[0 rows x 49 columns]"
      ]
     },
     "execution_count": 83,
     "metadata": {},
     "output_type": "execute_result"
    }
   ],
   "source": [
    "df_files[~df_files.index.isin(df.columns)]"
   ]
  },
  {
   "cell_type": "code",
   "execution_count": 11,
   "metadata": {},
   "outputs": [],
   "source": [
    "df = df.reindex(columns=df.columns[df.columns.isin(df_files.index)])\n",
    "df.to_csv(\"mainTable.csv\", index=True, header=True)\n",
    "df_files.fillna(\"unknown\").to_csv(\"files.dat\", index=True)"
   ]
  },
  {
   "cell_type": "code",
   "execution_count": 109,
   "metadata": {},
   "outputs": [
    {
     "data": {
      "image/png": "[encoded data removed]",
      "text/plain": [
       "<Figure size 864x288 with 2 Axes>"
      ]
     },
     "metadata": {
      "needs_background": "light"
     },
     "output_type": "display_data"
    }
   ],
   "source": [
    "import scanpy as sc\n",
    "adata = sc.AnnData(X=df.transpose(), obs=df_files)\n",
    "sc.pp.log1p(adata)\n",
    "sc.pp.highly_variable_genes(adata, n_top_genes=3000)\n",
    "sc.pl.highly_variable_genes(adata)\n",
    "hvg = adata.var[adata.var[\"highly_variable\"]==True].index"
   ]
  },
  {
   "cell_type": "code",
   "execution_count": 110,
   "metadata": {},
   "outputs": [],
   "source": [
    "from sbmtm import sbmtm"
   ]
  },
  {
   "cell_type": "code",
   "execution_count": 111,
   "metadata": {},
   "outputs": [],
   "source": [
    "hsbm = sbmtm()"
   ]
  },
  {
   "cell_type": "code",
   "execution_count": 112,
   "metadata": {},
   "outputs": [
    {
     "data": {
      "text/plain": [
       "<sbmtm.sbmtm at 0x7f97e9bca550>"
      ]
     },
     "execution_count": 112,
     "metadata": {},
     "output_type": "execute_result"
    }
   ],
   "source": [
    "hsbm.make_graph_from_BoW_df(df.reindex(index=hvg))"
   ]
  },
  {
   "cell_type": "code",
   "execution_count": 113,
   "metadata": {},
   "outputs": [],
   "source": [
    "hsbm.save_graph(\"graph.xml.gz\")"
   ]
  },
  {
   "cell_type": "code",
   "execution_count": 114,
   "metadata": {},
   "outputs": [
    {
     "data": {
      "text/plain": [
       "4276"
      ]
     },
     "execution_count": 114,
     "metadata": {},
     "output_type": "execute_result"
    }
   ],
   "source": [
    "del hsbm\n",
    "gc.collect()"
   ]
  },
  {
   "cell_type": "code",
   "execution_count": 102,
   "metadata": {},
   "outputs": [
    {
     "name": "stdout",
     "output_type": "stream",
     "text": [
      "<class 'pandas.core.frame.DataFrame'>\n",
      "Index: 15659 entries, ENSG00000000419 to ENSG00000273489\n",
      "Columns: 227 entries, 535e80df-ea81-4f5d-8f2e-e74ca97e9b01.htseq.counts.gz to 07ec290d-c41b-42eb-8cb2-07504451f732.htseq.counts.gz\n",
      "dtypes: int64(227)\n",
      "memory usage: 27.2+ MB\n"
     ]
    }
   ],
   "source": [
    "df.info()"
   ]
  },
  {
   "cell_type": "code",
   "execution_count": 119,
   "metadata": {},
   "outputs": [],
   "source": []
  },
  {
   "cell_type": "code",
   "execution_count": null,
   "metadata": {},
   "outputs": [],
   "source": []
  }
 ],
 "metadata": {
  "kernelspec": {
   "display_name": "Python 3",
   "language": "python",
   "name": "python3"
  },
  "language_info": {
   "codemirror_mode": {
    "name": "ipython",
    "version": 3
   },
   "file_extension": ".py",
   "mimetype": "text/x-python",
   "name": "python",
   "nbconvert_exporter": "python",
   "pygments_lexer": "ipython3",
   "version": "3.7.6"
  }
 },
 "nbformat": 4,
 "nbformat_minor": 4
}

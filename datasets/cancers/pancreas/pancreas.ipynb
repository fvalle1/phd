{
 "cells": [
  {
   "cell_type": "code",
   "execution_count": 1,
   "metadata": {},
   "outputs": [],
   "source": [
    "import pandas as pd\n",
    "import numpy as np\n",
    "import sys, gc\n",
    "sys.path.append('/home/fvalle/phd/master_thesis/hsbm/')\n",
    "sys.path.append('/home/fvalle/phd/master_thesis/')"
   ]
  },
  {
   "cell_type": "code",
   "execution_count": 61,
   "metadata": {},
   "outputs": [
    {
     "data": {
      "text/plain": [
       "Index(['patient', 'sequenced', 'microRNA', 'SNP6', 'WGS', 'RNAseq',\n",
       "       'Agilent.expression', 'methylation', 'normal_meth', 'complete',\n",
       "       'MSI_status', 'methylation_subtype', 'MLH1_silencing',\n",
       "       'expression_subtype', 'hypermutated', 'silent_mutrate',\n",
       "       'nonsilent_mutrate', 'cancer', 'anatomic_organ_subdivision',\n",
       "       'tumor_site', 'age_at_initial_pathologic_diagnosis', 'days_to_death',\n",
       "       'days_to_last_followup', 'days_to_last_known_alive',\n",
       "       'distant_metastasis_pathologic_spread', 'gender', 'histological_type',\n",
       "       'history_of_colon_polyps', 'icd_o_3_histology', 'icd_o_3_site',\n",
       "       'lymphatic_invasion_present', 'lymphnode_pathologic_spread',\n",
       "       'lymphnodes_examined',\n",
       "       'number_of_first_degree_relatives_with_cancer_diagnosis',\n",
       "       'number_of_lymphnodes_examined', 'number_of_lymphnodes_positive_by_he',\n",
       "       'person_neoplasm_cancer_status', 'preoperative_pretreatment_cea_level',\n",
       "       'primary_tumor_pathologic_spread', 'prior_diagnosis', 'residual_tumor',\n",
       "       'synchronous_colon_cancer_present', 'tumor_stage',\n",
       "       'vascular_invasion_present', 'vital_status'],\n",
       "      dtype='object')"
      ]
     },
     "execution_count": 61,
     "metadata": {},
     "output_type": "execute_result"
    }
   ],
   "source": [
    "df_info = pd.read_csv(\"files_TCGABiolinks.csv\", index_col=0).sort_index()\n",
    "df_info.columns"
   ]
  },
  {
   "cell_type": "code",
   "execution_count": 62,
   "metadata": {},
   "outputs": [],
   "source": [
    "df_files=pd.read_csv(\"files.dat\", index_col=0)\n",
    "df_files.sort_values('tcga_id', inplace=True)\n",
    "df_files=df_files[df_files['tcga_id'].isin(df_info['patient'])]"
   ]
  },
  {
   "cell_type": "code",
   "execution_count": 63,
   "metadata": {},
   "outputs": [],
   "source": [
    "df_files = df_files.reset_index().set_index('tcga_id').transpose().append(df_info.reset_index().set_index('patient').reindex(index=df_files['tcga_id']).transpose()).transpose().reset_index().set_index(\"file_name\")"
   ]
  },
  {
   "cell_type": "code",
   "execution_count": 78,
   "metadata": {},
   "outputs": [],
   "source": [
    "df = pd.read_csv(\"mainTable.csv\",index_col=0)"
   ]
  },
  {
   "cell_type": "code",
   "execution_count": 58,
   "metadata": {},
   "outputs": [],
   "source": [
    "df_files=df_files.reindex(index=df.columns)"
   ]
  },
  {
   "cell_type": "code",
   "execution_count": 81,
   "metadata": {},
   "outputs": [],
   "source": [
    "df[df_files.index].to_csv(\"mainTable_all.csv\", index=True, header=True)"
   ]
  },
  {
   "cell_type": "code",
   "execution_count": 82,
   "metadata": {},
   "outputs": [
    {
     "data": {
      "text/plain": [
       "Index(['d32c878b-e693-4eae-a615-7767371b3ae4.htseq.counts.gz',\n",
       "       'f38b2f21-c5a5-4699-9727-eae9c96aac55.htseq.counts.gz',\n",
       "       'ba11a188-132a-4a25-b2b7-f958694976e8.htseq.counts.gz',\n",
       "       '06c8dfda-b057-47cb-b435-9c2739694f6a.htseq.counts.gz',\n",
       "       '569ff63b-ea1c-4189-a5e5-8c44ee670cbe.htseq.counts.gz',\n",
       "       'ca75e00b-f5e2-4904-a53b-36a1314e8e86.htseq.counts.gz',\n",
       "       '146b8525-8ea4-4976-aac3-080e14a80fc0.htseq.counts.gz',\n",
       "       '6fc8652c-24a6-49d4-8739-12cd70d947b6.htseq.counts.gz',\n",
       "       'a26d49db-2309-46a0-a3ed-275378d484e7.htseq.counts.gz',\n",
       "       'fabefb10-5546-4017-8ea1-29982a10fb3c.htseq.counts.gz',\n",
       "       ...\n",
       "       '547c5238-9d5e-4391-ab5f-b62f576af519.htseq.counts.gz',\n",
       "       'd2587070-cb7d-440d-ae49-52f5077248e6.htseq.counts.gz',\n",
       "       '562e2cb3-078f-4796-b8a2-a0196713ebac.htseq.counts.gz',\n",
       "       'bdc7d801-b93b-4464-89b6-0148d066c947.htseq.counts.gz',\n",
       "       '1cbb39ca-efbf-4080-bd32-1b76006394a8.htseq.counts.gz',\n",
       "       '5e2b0dc5-c09b-4334-9f2f-c8e75380d45c.htseq.counts.gz',\n",
       "       '902732ab-8a29-46ae-a06d-556ab3cb6825.htseq.counts.gz',\n",
       "       '82e00e45-734c-471f-ba97-79ec3b7e0baa.htseq.counts.gz',\n",
       "       'f1fcd165-ddbc-44b8-b062-ae5199c53cba.htseq.counts.gz',\n",
       "       'b1868d9d-ef06-4353-883b-230dae23f8b6.htseq.counts.gz'],\n",
       "      dtype='object', length=294)"
      ]
     },
     "execution_count": 82,
     "metadata": {},
     "output_type": "execute_result"
    }
   ],
   "source": [
    "df.columns[~df.columns.isin(df_files.index)]"
   ]
  },
  {
   "cell_type": "code",
   "execution_count": 83,
   "metadata": {},
   "outputs": [
    {
     "data": {
      "text/html": [
       "<div>\n",
       "<style scoped>\n",
       "    .dataframe tbody tr th:only-of-type {\n",
       "        vertical-align: middle;\n",
       "    }\n",
       "\n",
       "    .dataframe tbody tr th {\n",
       "        vertical-align: top;\n",
       "    }\n",
       "\n",
       "    .dataframe thead th {\n",
       "        text-align: right;\n",
       "    }\n",
       "</style>\n",
       "<table border=\"1\" class=\"dataframe\">\n",
       "  <thead>\n",
       "    <tr style=\"text-align: right;\">\n",
       "      <th></th>\n",
       "      <th>tcga_id</th>\n",
       "      <th>primary_site</th>\n",
       "      <th>disease_type</th>\n",
       "      <th>primary_diagnosis</th>\n",
       "      <th>index</th>\n",
       "      <th>sequenced</th>\n",
       "      <th>microRNA</th>\n",
       "      <th>SNP6</th>\n",
       "      <th>WGS</th>\n",
       "      <th>RNAseq</th>\n",
       "      <th>...</th>\n",
       "      <th>number_of_lymphnodes_positive_by_he</th>\n",
       "      <th>person_neoplasm_cancer_status</th>\n",
       "      <th>preoperative_pretreatment_cea_level</th>\n",
       "      <th>primary_tumor_pathologic_spread</th>\n",
       "      <th>prior_diagnosis</th>\n",
       "      <th>residual_tumor</th>\n",
       "      <th>synchronous_colon_cancer_present</th>\n",
       "      <th>tumor_stage</th>\n",
       "      <th>vascular_invasion_present</th>\n",
       "      <th>vital_status</th>\n",
       "    </tr>\n",
       "    <tr>\n",
       "      <th>file_name</th>\n",
       "      <th></th>\n",
       "      <th></th>\n",
       "      <th></th>\n",
       "      <th></th>\n",
       "      <th></th>\n",
       "      <th></th>\n",
       "      <th></th>\n",
       "      <th></th>\n",
       "      <th></th>\n",
       "      <th></th>\n",
       "      <th></th>\n",
       "      <th></th>\n",
       "      <th></th>\n",
       "      <th></th>\n",
       "      <th></th>\n",
       "      <th></th>\n",
       "      <th></th>\n",
       "      <th></th>\n",
       "      <th></th>\n",
       "      <th></th>\n",
       "      <th></th>\n",
       "    </tr>\n",
       "  </thead>\n",
       "  <tbody>\n",
       "  </tbody>\n",
       "</table>\n",
       "<p>0 rows × 49 columns</p>\n",
       "</div>"
      ],
      "text/plain": [
       "Empty DataFrame\n",
       "Columns: [tcga_id, primary_site, disease_type, primary_diagnosis, index, sequenced, microRNA, SNP6, WGS, RNAseq, Agilent.expression, methylation, normal_meth, complete, MSI_status, methylation_subtype, MLH1_silencing, expression_subtype, hypermutated, silent_mutrate, nonsilent_mutrate, cancer, anatomic_organ_subdivision, tumor_site, age_at_initial_pathologic_diagnosis, days_to_death, days_to_last_followup, days_to_last_known_alive, distant_metastasis_pathologic_spread, gender, histological_type, history_of_colon_polyps, icd_o_3_histology, icd_o_3_site, lymphatic_invasion_present, lymphnode_pathologic_spread, lymphnodes_examined, number_of_first_degree_relatives_with_cancer_diagnosis, number_of_lymphnodes_examined, number_of_lymphnodes_positive_by_he, person_neoplasm_cancer_status, preoperative_pretreatment_cea_level, primary_tumor_pathologic_spread, prior_diagnosis, residual_tumor, synchronous_colon_cancer_present, tumor_stage, vascular_invasion_present, vital_status]\n",
       "Index: []\n",
       "\n",
       "[0 rows x 49 columns]"
      ]
     },
     "execution_count": 83,
     "metadata": {},
     "output_type": "execute_result"
    }
   ],
   "source": [
    "df_files[~df_files.index.isin(df.columns)]"
   ]
  },
  {
   "cell_type": "code",
   "execution_count": 93,
   "metadata": {},
   "outputs": [],
   "source": [
    "df = df.reindex(columns=df.columns[df.columns.isin(df_files.index)])\n",
    "df.to_csv(\"mainTable.csv\", index=True, header=True)"
   ]
  },
  {
   "cell_type": "code",
   "execution_count": 91,
   "metadata": {},
   "outputs": [],
   "source": [
    "from sbmtm import sbmtm"
   ]
  },
  {
   "cell_type": "code",
   "execution_count": 92,
   "metadata": {},
   "outputs": [],
   "source": [
    "hsbm = sbmtm()"
   ]
  },
  {
   "cell_type": "code",
   "execution_count": 94,
   "metadata": {},
   "outputs": [
    {
     "data": {
      "text/plain": [
       "<sbmtm.sbmtm at 0x7f97eb1d0668>"
      ]
     },
     "execution_count": 94,
     "metadata": {},
     "output_type": "execute_result"
    }
   ],
   "source": [
    "hsbm.make_graph_from_BoW_df(df)"
   ]
  },
  {
   "cell_type": "code",
   "execution_count": 95,
   "metadata": {},
   "outputs": [],
   "source": [
    "hsbm.save_graph(\"graph.xml.gz\")"
   ]
  },
  {
   "cell_type": "code",
   "execution_count": 100,
   "metadata": {},
   "outputs": [
    {
     "ename": "NameError",
     "evalue": "name 'hsbm' is not defined",
     "output_type": "error",
     "traceback": [
      "\u001b[0;31m---------------------------------------------------------------------------\u001b[0m",
      "\u001b[0;31mNameError\u001b[0m                                 Traceback (most recent call last)",
      "\u001b[0;32m<ipython-input-100-8b9ad15cd423>\u001b[0m in \u001b[0;36m<module>\u001b[0;34m\u001b[0m\n\u001b[0;32m----> 1\u001b[0;31m \u001b[0;32mdel\u001b[0m \u001b[0mhsbm\u001b[0m\u001b[0;34m\u001b[0m\u001b[0;34m\u001b[0m\u001b[0m\n\u001b[0m\u001b[1;32m      2\u001b[0m \u001b[0mgc\u001b[0m\u001b[0;34m.\u001b[0m\u001b[0mcollect\u001b[0m\u001b[0;34m(\u001b[0m\u001b[0;34m)\u001b[0m\u001b[0;34m\u001b[0m\u001b[0;34m\u001b[0m\u001b[0m\n",
      "\u001b[0;31mNameError\u001b[0m: name 'hsbm' is not defined"
     ]
    }
   ],
   "source": [
    "del hsbm\n",
    "gc.collect()"
   ]
  },
  {
   "cell_type": "code",
   "execution_count": null,
   "metadata": {},
   "outputs": [],
   "source": []
  }
 ],
 "metadata": {
  "kernelspec": {
   "display_name": "Python 3",
   "language": "python",
   "name": "python3"
  },
  "language_info": {
   "codemirror_mode": {
    "name": "ipython",
    "version": 3
   },
   "file_extension": ".py",
   "mimetype": "text/x-python",
   "name": "python",
   "nbconvert_exporter": "python",
   "pygments_lexer": "ipython3",
   "version": "3.6.10"
  }
 },
 "nbformat": 4,
 "nbformat_minor": 4
}

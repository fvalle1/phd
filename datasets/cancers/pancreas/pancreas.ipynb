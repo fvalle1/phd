{
 "cells": [
  {
   "cell_type": "code",
   "execution_count": 1,
   "metadata": {},
   "outputs": [
    {
     "name": "stderr",
     "output_type": "stream",
     "text": [
      "/opt/conda/lib/python3.7/site-packages/anndata/_core/anndata.py:21: FutureWarning: pandas.core.index is deprecated and will be removed in a future version.  The public classes are available in the top-level namespace.\n",
      "  from pandas.core.index import RangeIndex\n"
     ]
    }
   ],
   "source": [
    "import pandas as pd\n",
    "import numpy as np\n",
    "import scanpy as sc\n",
    "import sys, gc, os\n",
    "sys.path.append('/home/jovyan/work/phd/')"
   ]
  },
  {
   "cell_type": "code",
   "execution_count": null,
   "metadata": {},
   "outputs": [],
   "source": [
    "#https://www.ncbi.nlm.nih.gov/geo/query/acc.cgi?acc=GSE79670\n",
    "os.system(\"wget https://ftp.ncbi.nlm.nih.gov/geo/series/GSE79nnn/GSE79670/matrix/GSE79670_series_matrix.txt.gz\")\n",
    "os.system(\"gunzip GSE79670_series_matrix.txt.gz\")\n",
    "os.system(\"wget https://ftp.ncbi.nlm.nih.gov/geo/series/GSE79nnn/GSE79668/suppl/GSE79668%5F51%5Ftumors%5Fsharedgenecounts%2Etxt%2Egz\")"
   ]
  },
  {
   "cell_type": "code",
   "execution_count": null,
   "metadata": {},
   "outputs": [],
   "source": [
    "os.system(\"wget https://www.ncbi.nlm.nih.gov/geo/download/?acc=GSE79668&format=file&file=GSE79668%5F51%5Ftumors%5Fsharedgenecounts%2Etxt%2Egz\")"
   ]
  },
  {
   "cell_type": "code",
   "execution_count": null,
   "metadata": {},
   "outputs": [],
   "source": [
    "df = pd.read_csv(\"GSE79668_51_tumors_sharedgenecounts.txt.gz\", sep=\"\\t\")\n",
    "df.index=[\"ENSG\"+g.split(\"ENSG\")[1].split(\".\")[0] for g in df[\"Gene_EnsembleID\"]]\n",
    "df.drop(\"Gene_EnsembleID\",1,inplace=True)\n",
    "df.to_csv(\"mainTable_all.csv\", index=True, header=True)"
   ]
  },
  {
   "cell_type": "code",
   "execution_count": null,
   "metadata": {},
   "outputs": [],
   "source": [
    "with open(\"GSE79670_series_matrix.txt\", \"r\") as file:\n",
    "    data=[row[:-1].replace('\"',\"\").split(\"\\t\") for row in file.readlines()]"
   ]
  },
  {
   "cell_type": "code",
   "execution_count": null,
   "metadata": {},
   "outputs": [],
   "source": [
    "df_data = pd.DataFrame(data=data[24:]).transpose()\n",
    "new_col = [col[1:] for col in df_data.loc[0,:]]\n",
    "new_col[9:18]=[f\"Sample_characteristics_ch{i}\" for i in range(9)]\n",
    "df_data.columns=new_col\n",
    "df_data.drop(0,0,inplace=True)\n",
    "df_data.set_index(\"Sample_title\", inplace=True)\n",
    "df_data.index = [sample[:13] for sample in df_data.index]\n",
    "df_data.head()"
   ]
  },
  {
   "cell_type": "code",
   "execution_count": null,
   "metadata": {},
   "outputs": [],
   "source": [
    "df.columns.isin(df_data.index).astype(int).sum()"
   ]
  },
  {
   "cell_type": "code",
   "execution_count": null,
   "metadata": {},
   "outputs": [],
   "source": [
    "adata = sc.AnnData(X=df.transpose(), obs=df_files.reindex(index=df.columns))\n",
    "sc.pp.log1p(adata)\n",
    "sc.pp.highly_variable_genes(adata, n_top_genes=3000)\n",
    "sc.pl.highly_variable_genes(adata)\n",
    "hvg = adata.var[adata.var[\"highly_variable\"]==True].index"
   ]
  },
  {
   "cell_type": "code",
   "execution_count": null,
   "metadata": {},
   "outputs": [],
   "source": [
    "df.reindex(index=hvg).to_csv(\"mainTable.csv\", index=True, header=True)"
   ]
  },
  {
   "cell_type": "code",
   "execution_count": null,
   "metadata": {},
   "outputs": [],
   "source": [
    "df_files = df_data\n",
    "df_files.fillna(\"unknown\").to_csv(\"files.dat\")"
   ]
  },
  {
   "cell_type": "code",
   "execution_count": null,
   "metadata": {},
   "outputs": [],
   "source": [
    "os.system(\"python3.6 make_graph.py\")"
   ]
  },
  {
   "cell_type": "code",
   "execution_count": null,
   "metadata": {},
   "outputs": [],
   "source": []
  },
  {
   "cell_type": "code",
   "execution_count": 2,
   "metadata": {},
   "outputs": [],
   "source": [
    "df_files=pd.read_csv(\"files.dat\", index_col=0)"
   ]
  },
  {
   "cell_type": "code",
   "execution_count": 32,
   "metadata": {},
   "outputs": [],
   "source": [
    "bins=np.append([-2,2],np.linspace(30,3170,4))\n",
    "df_files[\"Survival(days)\"]=pd.cut([int(t.split(\": \")[1]) if len(t) <= 30 else -1 for t in df_files[\"Sample_characteristics_ch1\"]], bins=bins, labels=bins[1:])"
   ]
  },
  {
   "cell_type": "code",
   "execution_count": 34,
   "metadata": {},
   "outputs": [],
   "source": [
    "df_files.to_csv(\"files.dat\")"
   ]
  },
  {
   "cell_type": "code",
   "execution_count": 33,
   "metadata": {},
   "outputs": [
    {
     "data": {
      "text/plain": [
       "T_07_07_A082a    1076.666667\n",
       "T_06_01_A033a    1076.666667\n",
       "T_06_11_A168a    1076.666667\n",
       "T_06_04_A296a    1076.666667\n",
       "T_07_11_A090a    1076.666667\n",
       "                    ...     \n",
       "AsPC_1_SL2329       2.000000\n",
       "Capan_2_SL232       2.000000\n",
       "Capan_1_SL232       2.000000\n",
       "HPAF_2_SL2329       2.000000\n",
       "Panc_2_03_SL2       2.000000\n",
       "Name: Survival(days), Length: 65, dtype: category\n",
       "Categories (5, float64): [2.000000 < 30.000000 < 1076.666667 < 2123.333333 < 3170.000000]"
      ]
     },
     "execution_count": 33,
     "metadata": {},
     "output_type": "execute_result"
    }
   ],
   "source": [
    "df_files[\"Survival(days)\"]"
   ]
  },
  {
   "cell_type": "code",
   "execution_count": null,
   "metadata": {},
   "outputs": [],
   "source": []
  }
 ],
 "metadata": {
  "kernelspec": {
   "display_name": "Python 3",
   "language": "python",
   "name": "python3"
  },
  "language_info": {
   "codemirror_mode": {
    "name": "ipython",
    "version": 3
   },
   "file_extension": ".py",
   "mimetype": "text/x-python",
   "name": "python",
   "nbconvert_exporter": "python",
   "pygments_lexer": "ipython3",
   "version": "3.7.6"
  }
 },
 "nbformat": 4,
 "nbformat_minor": 4
}

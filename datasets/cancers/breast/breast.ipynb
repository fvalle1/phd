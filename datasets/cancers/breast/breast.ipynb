{
 "cells": [
  {
   "cell_type": "code",
   "execution_count": null,
   "metadata": {},
   "outputs": [],
   "source": [
    "import pandas as pd\n",
    "import numpy as np\n",
    "import datetime as dt"
   ]
  },
  {
   "cell_type": "code",
   "execution_count": null,
   "metadata": {},
   "outputs": [],
   "source": [
    "df_meta = pd.read_csv(\"TCGAbiolinks_BRCA.csv\", header=0, index_col=0, skiprows=0)\n",
    "df_meta.dropna(how=\"all\", axis=1)\n",
    "df_meta[\"birth_year\"] = [(dt.datetime.now()+dt.timedelta(days=d)) if d!=\"\" else np.nan for d in df_meta[\"days_to_birth\"].fillna(\"\")]\n",
    "df_meta[\"death_year\"] = [(dt.datetime.now()-dt.timedelta(days=d)) if d!=\"\" else np.nan for d in df_meta[\"days_to_death\"].fillna(\"\")]\n",
    "df_meta[\"age\"] = (df_meta[\"death_year\"] - df_meta[\"birth_year\"]).apply(lambda timestamp: timestamp/dt.timedelta(days=365))\n",
    "bins = np.linspace(df_meta[\"age\"].min(),df_meta[\"age\"].max(), 3)\n",
    "df_meta[\"age_binned\"] = pd.cut(df_meta[\"age\"], bins=bins, labels = bins[:-1], include_lowest=True)\n",
    "df_meta.columns"
   ]
  },
  {
   "cell_type": "code",
   "execution_count": null,
   "metadata": {},
   "outputs": [],
   "source": [
    "df_tcgabiolinks = pd.read_csv(\"../TCGA_biolinks.csv\", index_col=0).dropna(how=\"all\", axis=1)\n",
    "df_tcgabiolinks = df_tcgabiolinks[df_tcgabiolinks[\"cancer.type\"]==\"BRCA\"].set_index(\"pan.samplesID\")\n",
    "df_tcgabiolinks[\"Subtype_Selected_Lum\"]=df_tcgabiolinks[\"Subtype_Selected\"]\n",
    "df_tcgabiolinks[\"Subtype_Selected_Lum\"].replace(\"BRCA.LumA\",\"BRCA.Lum\", inplace=True)\n",
    "df_tcgabiolinks[\"Subtype_Selected_Lum\"].replace(\"BRCA.LumB\",\"BRCA.Lum\", inplace=True)"
   ]
  },
  {
   "cell_type": "code",
   "execution_count": null,
   "metadata": {},
   "outputs": [],
   "source": [
    "df_files=pd.read_csv(\"files_tcga.dat\", index_col=2)\n",
    "df_files = df_files.reset_index().set_index(\"cases.0.submitter_id\")\n",
    "df_files = df_files.transpose().append(df_meta.reindex(index=df_files.index).transpose()).transpose()\n",
    "df_files = df_files.reset_index().set_index(\"cases.0.samples.0.portions.0.analytes.0.aliquots.0.submitter_id\")\n",
    "df_files = df_files.transpose().append(df_tcgabiolinks.reindex(index=df_files.index).transpose()).transpose()\n",
    "df_files.fillna(\"unknown\").set_index(\"file_name\").to_csv(\"files.dat\", index=True, header=True)"
   ]
  },
  {
   "cell_type": "code",
   "execution_count": null,
   "metadata": {},
   "outputs": [],
   "source": [
    "df_files.groupby([\"BRCA_Subtype_PAM50\",\"Subtype_Selected_Lum\", \"Subtype_Selected\"]).count()"
   ]
  },
  {
   "cell_type": "code",
   "execution_count": null,
   "metadata": {},
   "outputs": [],
   "source": [
    "df=pd.read_csv(\"mainTable_all.csv\", index_col=0, header=0).applymap(lambda x: np.log2(x+1))\n",
    "df.info()"
   ]
  },
  {
   "cell_type": "code",
   "execution_count": null,
   "metadata": {},
   "outputs": [],
   "source": [
    "dey = pd.read_csv(\"http://stephenslab.github.io/count-clustering/project/utilities/gene_names_all_gtex.txt\", header=None)"
   ]
  },
  {
   "cell_type": "code",
   "execution_count": null,
   "metadata": {},
   "outputs": [],
   "source": [
    "df=df.reindex(index=dey.values.ravel()[np.random.randint(0,len(dey), size=1000)])"
   ]
  },
  {
   "cell_type": "code",
   "execution_count": null,
   "metadata": {},
   "outputs": [],
   "source": [
    "full_files = [c for c in df_files['file_name'].values if c in df.columns]"
   ]
  },
  {
   "cell_type": "code",
   "execution_count": null,
   "metadata": {},
   "outputs": [],
   "source": [
    "df[full_files].dropna().astype(int).to_csv(\"mainTable.csv\")"
   ]
  },
  {
   "cell_type": "code",
   "execution_count": null,
   "metadata": {},
   "outputs": [],
   "source": [
    "df_files[df_files['file_name'].isin(full_files)].set_index('file_name').to_csv(\"files.dat\")"
   ]
  },
  {
   "cell_type": "code",
   "execution_count": null,
   "metadata": {},
   "outputs": [],
   "source": []
  }
 ],
 "metadata": {
  "kernelspec": {
   "display_name": "Python 3",
   "language": "python",
   "name": "python3"
  },
  "language_info": {
   "codemirror_mode": {
    "name": "ipython",
    "version": 3
   },
   "file_extension": ".py",
   "mimetype": "text/x-python",
   "name": "python",
   "nbconvert_exporter": "python",
   "pygments_lexer": "ipython3",
   "version": "3.7.6"
  },
  "widgets": {
   "application/vnd.jupyter.widget-state+json": {
    "state": {},
    "version_major": 2,
    "version_minor": 0
   }
  }
 },
 "nbformat": 4,
 "nbformat_minor": 4
}

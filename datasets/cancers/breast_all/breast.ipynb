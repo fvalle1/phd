{
 "cells": [
  {
   "cell_type": "code",
   "execution_count": null,
   "metadata": {},
   "outputs": [],
   "source": [
    "import pandas as pd\n",
    "import mygene\n",
    "import os,sys, gc\n",
    "sys.path.append(\"/home/fvalle/phd/master_thesis/hsbm/\")"
   ]
  },
  {
   "cell_type": "code",
   "execution_count": null,
   "metadata": {},
   "outputs": [],
   "source": [
    "client = mygene.get_client('gene')"
   ]
  },
  {
   "cell_type": "code",
   "execution_count": null,
   "metadata": {},
   "outputs": [],
   "source": [
    "df = pd.read_csv(\"mainTable_all.csv\", index_col=[0]).applymap(lambda x: pd.np.log2(x + 1))"
   ]
  },
  {
   "cell_type": "code",
   "execution_count": null,
   "metadata": {},
   "outputs": [],
   "source": [
    "df_genes = pd.read_csv(\"HDE_Breast.txt\", header=None)\n",
    "df_conversion = pd.read_csv(\"https://www.genenames.org/cgi-bin/download/custom?col=gd_app_sym&col=gd_pub_ensembl_id&status=Approved&status=Entry%20Withdrawn&hgnc_dbtag=on&order_by=gd_app_sym_sort&format=text&submit=submit\", sep=\"\\t\", index_col=0)\n",
    "HVE_genes_ensg = []\n",
    "for g in pd.read_csv(\"HDE_Breast.txt\", header=None).values.ravel():\n",
    "    if g in df_conversion.index:\n",
    "        HVE_genes_ensg.append(df_conversion.at[g, 'Ensembl gene ID'])\n",
    "    else:\n",
    "        q = client.query(g, fields='symbol,ensembl')\n",
    "        if len(q['hits'])>0:\n",
    "            if  'ensembl' in q['hits'][0].keys():\n",
    "                if len(q['hits'][0]['ensembl'])==0:\n",
    "                    if 'gene' in q['hits'][0]['ensembl'].keys():\n",
    "                        if 'ENSG' in q['hits'][0]['ensembl']['gene']:\n",
    "                            HVE_genes_ensg.append(q['hits'][0]['ensembl']['gene'])\n",
    "                        else:\n",
    "                            print(\"NO ensg for %s\"%g, q)\n",
    "                    else:\n",
    "                        print(g, q)\n",
    "                else:\n",
    "                    print(g, q)\n",
    "        else:\n",
    "            print(g, q)\n",
    "pd.DataFrame(data=[g for g in HVE_genes_ensg if len(str(g))==15]).dropna().to_csv(\"HVE_genes_ensg.txt\", index=False, header=None)"
   ]
  },
  {
   "cell_type": "code",
   "execution_count": null,
   "metadata": {},
   "outputs": [],
   "source": [
    "HVE_genes_ensg = pd.read_csv(\"HVE_genes_ensg.txt\", header=None).values.ravel()"
   ]
  },
  {
   "cell_type": "code",
   "execution_count": null,
   "metadata": {},
   "outputs": [],
   "source": [
    "df = df[df.index.isin(HVE_genes_ensg[:2000])]"
   ]
  },
  {
   "cell_type": "code",
   "execution_count": null,
   "metadata": {},
   "outputs": [],
   "source": [
    "gc.collect()"
   ]
  },
  {
   "cell_type": "code",
   "execution_count": null,
   "metadata": {},
   "outputs": [],
   "source": [
    "from sbmtm import sbmtm"
   ]
  },
  {
   "cell_type": "code",
   "execution_count": null,
   "metadata": {},
   "outputs": [],
   "source": [
    "hsbm = sbmtm()\n",
    "#hsbm.load_graph(\"graph.xml.gz\")\n",
    "hsbm.make_graph_from_BoW_df(df.round().astype(int), counts=False)\n",
    "#hsbm.save_graph(\"graph.xml.gz\")"
   ]
  },
  {
   "cell_type": "code",
   "execution_count": null,
   "metadata": {},
   "outputs": [],
   "source": [
    "hsbm.fit()"
   ]
  },
  {
   "cell_type": "code",
   "execution_count": null,
   "metadata": {},
   "outputs": [],
   "source": [
    "hsbm.save_data()"
   ]
  },
  {
   "cell_type": "code",
   "execution_count": null,
   "metadata": {},
   "outputs": [],
   "source": [
    "hsbm.dump_model()"
   ]
  },
  {
   "cell_type": "code",
   "execution_count": null,
   "metadata": {},
   "outputs": [],
   "source": [
    "hsbm.clusters()"
   ]
  },
  {
   "cell_type": "code",
   "execution_count": null,
   "metadata": {},
   "outputs": [],
   "source": [
    "import graph_tool as gt"
   ]
  },
  {
   "cell_type": "code",
   "execution_count": null,
   "metadata": {},
   "outputs": [],
   "source": [
    "gt.spectral.adjacency(hsbm.g).toarray()"
   ]
  },
  {
   "cell_type": "code",
   "execution_count": null,
   "metadata": {},
   "outputs": [],
   "source": [
    "hsbm.g.properties"
   ]
  },
  {
   "cell_type": "code",
   "execution_count": null,
   "metadata": {},
   "outputs": [],
   "source": [
    "gc.collect()"
   ]
  },
  {
   "cell_type": "code",
   "execution_count": null,
   "metadata": {},
   "outputs": [],
   "source": [
    "df = pd.DataFrame(data=[[1,2,3],[4,5,6]], index=['w1', 'w2'], columns = ['s1', 's2', 's3'])"
   ]
  },
  {
   "cell_type": "code",
   "execution_count": null,
   "metadata": {},
   "outputs": [],
   "source": [
    "del hsbm"
   ]
  },
  {
   "cell_type": "code",
   "execution_count": null,
   "metadata": {},
   "outputs": [],
   "source": []
  }
 ],
 "metadata": {
  "kernelspec": {
   "display_name": "Python 3",
   "language": "python",
   "name": "python3"
  },
  "language_info": {
   "codemirror_mode": {
    "name": "ipython",
    "version": 3
   },
   "file_extension": ".py",
   "mimetype": "text/x-python",
   "name": "python",
   "nbconvert_exporter": "python",
   "pygments_lexer": "ipython3",
   "version": "3.6.10"
  }
 },
 "nbformat": 4,
 "nbformat_minor": 4
}

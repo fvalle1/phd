{
 "cells": [
  {
   "cell_type": "code",
   "execution_count": 1,
   "metadata": {},
   "outputs": [],
   "source": [
    "import pandas as pd\n",
    "import numpy as np\n",
    "import sys, gc, os"
   ]
  },
  {
   "cell_type": "code",
   "execution_count": 2,
   "metadata": {},
   "outputs": [
    {
     "data": {
      "text/plain": [
       "['.DS_Store',\n",
       " '.ipynb_checkpoints',\n",
       " 'data',\n",
       " 'files.dat',\n",
       " 'files_tcga.dat',\n",
       " 'lung.ipynb',\n",
       " 'mainTable_all.csv',\n",
       " 'TCGAbiolinks_LUAD.csv',\n",
       " 'TCGAbiolinks_LUSC.csv',\n",
       " 'topsbm']"
      ]
     },
     "execution_count": 2,
     "metadata": {},
     "output_type": "execute_result"
    }
   ],
   "source": [
    "os.listdir()"
   ]
  },
  {
   "cell_type": "code",
   "execution_count": 60,
   "metadata": {},
   "outputs": [
    {
     "data": {
      "text/plain": [
       "Index(['Sex', 'Age.at.diagnosis', 'T.stage', 'N.stage', 'Tumor.stage',\n",
       "       'Smoking.Status', 'Survival', 'Transversion.High.Low',\n",
       "       'Nonsilent.Mutations', 'Nonsilent.Mutations.per.Mb',\n",
       "       'Oncogene.Negative.or.Positive.Groups', 'Fusions', 'expression_subtype',\n",
       "       'chromosome.affected.by.chromothripsis', 'iCluster.Group',\n",
       "       'CIMP.methylation.signature.',\n",
       "       'MTOR.mechanism.of.mTOR.pathway.activation', 'Ploidy.ABSOLUTE.calls',\n",
       "       'Purity.ABSOLUTE.calls', 'M.stage', 'Pack.years', 'Nonsilent.Mutatios',\n",
       "       'Nonsilent.Mutatios.per.Mb', 'Selected.Mutation.Summary',\n",
       "       'High.Level.Amplifications', 'Homozygous.Deletions',\n",
       "       'Expression.Subtype'],\n",
       "      dtype='object')"
      ]
     },
     "execution_count": 60,
     "metadata": {},
     "output_type": "execute_result"
    }
   ],
   "source": [
    "df_meta = pd.read_csv(\"TCGAbiolinks_LUAD.csv\", index_col=0).sort_index().append(pd.read_csv(\"TCGAbiolinks_LUSC.csv\", index_col=0).sort_index(), sort=False)\n",
    "df_meta[\"Age.at.diagnosis\"] = df_meta[\"Age.at.diagnosis\"].replace(\"[Not Available]\",np.nan)\n",
    "df_meta[\"Age.at.diagnosis\"] = df_meta[\"Age.at.diagnosis\"].astype(float)\n",
    "bins = np.linspace(df_meta[\"Age.at.diagnosis\"].min(),df_meta[\"Age.at.diagnosis\"].max(), 4)\n",
    "df_meta[\"Age.at.diagnosis\"] = pd.cut(df_meta[\"Age.at.diagnosis\"],bins,labels=bins[1:])\n",
    "\n",
    "df_meta.columns"
   ]
  },
  {
   "cell_type": "code",
   "execution_count": 61,
   "metadata": {},
   "outputs": [
    {
     "data": {
      "text/html": [
       "<div>\n",
       "<style scoped>\n",
       "    .dataframe tbody tr th:only-of-type {\n",
       "        vertical-align: middle;\n",
       "    }\n",
       "\n",
       "    .dataframe tbody tr th {\n",
       "        vertical-align: top;\n",
       "    }\n",
       "\n",
       "    .dataframe thead th {\n",
       "        text-align: right;\n",
       "    }\n",
       "</style>\n",
       "<table border=\"1\" class=\"dataframe\">\n",
       "  <thead>\n",
       "    <tr style=\"text-align: right;\">\n",
       "      <th></th>\n",
       "      <th>cancer.type</th>\n",
       "      <th>Subtype_mRNA</th>\n",
       "      <th>Subtype_DNAmeth</th>\n",
       "      <th>Subtype_protein</th>\n",
       "      <th>Subtype_miRNA</th>\n",
       "      <th>Subtype_CNA</th>\n",
       "      <th>Subtype_Integrative</th>\n",
       "      <th>Subtype_other</th>\n",
       "      <th>Subtype_Selected</th>\n",
       "    </tr>\n",
       "    <tr>\n",
       "      <th>pan.samplesID</th>\n",
       "      <th></th>\n",
       "      <th></th>\n",
       "      <th></th>\n",
       "      <th></th>\n",
       "      <th></th>\n",
       "      <th></th>\n",
       "      <th></th>\n",
       "      <th></th>\n",
       "      <th></th>\n",
       "    </tr>\n",
       "  </thead>\n",
       "  <tbody>\n",
       "    <tr>\n",
       "      <th>TCGA-05-4249</th>\n",
       "      <td>LUAD</td>\n",
       "      <td>NaN</td>\n",
       "      <td>NaN</td>\n",
       "      <td>NaN</td>\n",
       "      <td>NaN</td>\n",
       "      <td>NaN</td>\n",
       "      <td>5</td>\n",
       "      <td>NaN</td>\n",
       "      <td>LUAD.5</td>\n",
       "    </tr>\n",
       "    <tr>\n",
       "      <th>TCGA-05-4382</th>\n",
       "      <td>LUAD</td>\n",
       "      <td>NaN</td>\n",
       "      <td>NaN</td>\n",
       "      <td>NaN</td>\n",
       "      <td>NaN</td>\n",
       "      <td>NaN</td>\n",
       "      <td>6</td>\n",
       "      <td>NaN</td>\n",
       "      <td>LUAD.6</td>\n",
       "    </tr>\n",
       "    <tr>\n",
       "      <th>TCGA-05-4384</th>\n",
       "      <td>LUAD</td>\n",
       "      <td>NaN</td>\n",
       "      <td>low</td>\n",
       "      <td>NaN</td>\n",
       "      <td>NaN</td>\n",
       "      <td>NaN</td>\n",
       "      <td>1</td>\n",
       "      <td>NaN</td>\n",
       "      <td>LUAD.1</td>\n",
       "    </tr>\n",
       "    <tr>\n",
       "      <th>TCGA-05-4389</th>\n",
       "      <td>LUAD</td>\n",
       "      <td>NaN</td>\n",
       "      <td>NaN</td>\n",
       "      <td>NaN</td>\n",
       "      <td>NaN</td>\n",
       "      <td>NaN</td>\n",
       "      <td>2</td>\n",
       "      <td>NaN</td>\n",
       "      <td>LUAD.2</td>\n",
       "    </tr>\n",
       "    <tr>\n",
       "      <th>TCGA-05-4390</th>\n",
       "      <td>LUAD</td>\n",
       "      <td>NaN</td>\n",
       "      <td>intermediate</td>\n",
       "      <td>NaN</td>\n",
       "      <td>NaN</td>\n",
       "      <td>NaN</td>\n",
       "      <td>2</td>\n",
       "      <td>NaN</td>\n",
       "      <td>LUAD.2</td>\n",
       "    </tr>\n",
       "    <tr>\n",
       "      <th>...</th>\n",
       "      <td>...</td>\n",
       "      <td>...</td>\n",
       "      <td>...</td>\n",
       "      <td>...</td>\n",
       "      <td>...</td>\n",
       "      <td>...</td>\n",
       "      <td>...</td>\n",
       "      <td>...</td>\n",
       "      <td>...</td>\n",
       "    </tr>\n",
       "    <tr>\n",
       "      <th>TCGA-70-6722</th>\n",
       "      <td>LUSC</td>\n",
       "      <td>secretory</td>\n",
       "      <td>NaN</td>\n",
       "      <td>NaN</td>\n",
       "      <td>NaN</td>\n",
       "      <td>NaN</td>\n",
       "      <td>NaN</td>\n",
       "      <td>NaN</td>\n",
       "      <td>LUSC.secretory</td>\n",
       "    </tr>\n",
       "    <tr>\n",
       "      <th>TCGA-70-6723</th>\n",
       "      <td>LUSC</td>\n",
       "      <td>classical</td>\n",
       "      <td>NaN</td>\n",
       "      <td>NaN</td>\n",
       "      <td>NaN</td>\n",
       "      <td>NaN</td>\n",
       "      <td>NaN</td>\n",
       "      <td>NaN</td>\n",
       "      <td>LUSC.classical</td>\n",
       "    </tr>\n",
       "    <tr>\n",
       "      <th>TCGA-85-6175</th>\n",
       "      <td>LUSC</td>\n",
       "      <td>secretory</td>\n",
       "      <td>NaN</td>\n",
       "      <td>NaN</td>\n",
       "      <td>NaN</td>\n",
       "      <td>NaN</td>\n",
       "      <td>NaN</td>\n",
       "      <td>NaN</td>\n",
       "      <td>LUSC.secretory</td>\n",
       "    </tr>\n",
       "    <tr>\n",
       "      <th>TCGA-85-6560</th>\n",
       "      <td>LUSC</td>\n",
       "      <td>primitive</td>\n",
       "      <td>NaN</td>\n",
       "      <td>NaN</td>\n",
       "      <td>NaN</td>\n",
       "      <td>NaN</td>\n",
       "      <td>NaN</td>\n",
       "      <td>NaN</td>\n",
       "      <td>LUSC.primitive</td>\n",
       "    </tr>\n",
       "    <tr>\n",
       "      <th>TCGA-85-6561</th>\n",
       "      <td>LUSC</td>\n",
       "      <td>classical</td>\n",
       "      <td>NaN</td>\n",
       "      <td>NaN</td>\n",
       "      <td>NaN</td>\n",
       "      <td>NaN</td>\n",
       "      <td>NaN</td>\n",
       "      <td>NaN</td>\n",
       "      <td>LUSC.classical</td>\n",
       "    </tr>\n",
       "  </tbody>\n",
       "</table>\n",
       "<p>408 rows × 9 columns</p>\n",
       "</div>"
      ],
      "text/plain": [
       "              cancer.type Subtype_mRNA Subtype_DNAmeth  Subtype_protein  \\\n",
       "pan.samplesID                                                             \n",
       "TCGA-05-4249         LUAD          NaN             NaN              NaN   \n",
       "TCGA-05-4382         LUAD          NaN             NaN              NaN   \n",
       "TCGA-05-4384         LUAD          NaN             low              NaN   \n",
       "TCGA-05-4389         LUAD          NaN             NaN              NaN   \n",
       "TCGA-05-4390         LUAD          NaN    intermediate              NaN   \n",
       "...                   ...          ...             ...              ...   \n",
       "TCGA-70-6722         LUSC    secretory             NaN              NaN   \n",
       "TCGA-70-6723         LUSC    classical             NaN              NaN   \n",
       "TCGA-85-6175         LUSC    secretory             NaN              NaN   \n",
       "TCGA-85-6560         LUSC    primitive             NaN              NaN   \n",
       "TCGA-85-6561         LUSC    classical             NaN              NaN   \n",
       "\n",
       "              Subtype_miRNA Subtype_CNA Subtype_Integrative Subtype_other  \\\n",
       "pan.samplesID                                                               \n",
       "TCGA-05-4249            NaN         NaN                   5           NaN   \n",
       "TCGA-05-4382            NaN         NaN                   6           NaN   \n",
       "TCGA-05-4384            NaN         NaN                   1           NaN   \n",
       "TCGA-05-4389            NaN         NaN                   2           NaN   \n",
       "TCGA-05-4390            NaN         NaN                   2           NaN   \n",
       "...                     ...         ...                 ...           ...   \n",
       "TCGA-70-6722            NaN         NaN                 NaN           NaN   \n",
       "TCGA-70-6723            NaN         NaN                 NaN           NaN   \n",
       "TCGA-85-6175            NaN         NaN                 NaN           NaN   \n",
       "TCGA-85-6560            NaN         NaN                 NaN           NaN   \n",
       "TCGA-85-6561            NaN         NaN                 NaN           NaN   \n",
       "\n",
       "              Subtype_Selected  \n",
       "pan.samplesID                   \n",
       "TCGA-05-4249            LUAD.5  \n",
       "TCGA-05-4382            LUAD.6  \n",
       "TCGA-05-4384            LUAD.1  \n",
       "TCGA-05-4389            LUAD.2  \n",
       "TCGA-05-4390            LUAD.2  \n",
       "...                        ...  \n",
       "TCGA-70-6722    LUSC.secretory  \n",
       "TCGA-70-6723    LUSC.classical  \n",
       "TCGA-85-6175    LUSC.secretory  \n",
       "TCGA-85-6560    LUSC.primitive  \n",
       "TCGA-85-6561    LUSC.classical  \n",
       "\n",
       "[408 rows x 9 columns]"
      ]
     },
     "execution_count": 61,
     "metadata": {},
     "output_type": "execute_result"
    }
   ],
   "source": [
    "df_tcgabiolinks = pd.read_csv(\"../TCGA_biolinks.csv\", index_col=0).dropna(how=\"all\", axis=1)\n",
    "df_tcgabiolinks = df_tcgabiolinks[df_tcgabiolinks[\"cancer.type\"].isin([\"LUAD\",\"LUSC\"])].set_index(\"pan.samplesID\")\n",
    "df_tcgabiolinks"
   ]
  },
  {
   "cell_type": "code",
   "execution_count": 62,
   "metadata": {},
   "outputs": [
    {
     "name": "stderr",
     "output_type": "stream",
     "text": [
      "/opt/conda/lib/python3.7/site-packages/ipykernel_launcher.py:8: SettingWithCopyWarning: \n",
      "A value is trying to be set on a copy of a slice from a DataFrame\n",
      "\n",
      "See the caveats in the documentation: https://pandas.pydata.org/pandas-docs/stable/user_guide/indexing.html#returning-a-view-versus-a-copy\n",
      "  \n"
     ]
    }
   ],
   "source": [
    "df_files=pd.read_csv(\"files_tcga.dat\", index_col=0)\n",
    "df_files=df_files.drop_duplicates(\"cases.0.submitter_id\")\n",
    "df_files.sort_values('cases.0.submitter_id', inplace=True)\n",
    "\n",
    "bins = np.linspace(0,5,num=4)\n",
    "cutted = pd.cut(df_files[\"cases.0.samples.0.longest_dimension\"].replace(\"unknown\", np.nan).dropna().astype(float),bins=bins, labels=bins[1:])\n",
    "df_files[\"longest_dimension\"]=df_files[\"cases.0.samples.0.longest_dimension\"]\n",
    "df_files[\"longest_dimension\"][cutted.index]=cutted\n",
    "\n",
    "df_files=df_files[df_files['cases.0.submitter_id'].isin(df_meta.index)]"
   ]
  },
  {
   "cell_type": "code",
   "execution_count": 72,
   "metadata": {},
   "outputs": [
    {
     "data": {
      "text/plain": [
       "array(['ACC', 'AML', 'BLCA', 'BRCA', 'LGG', 'GBM', 'ESCA', 'COAD', 'STAD',\n",
       "       'READ', 'HNSC', 'KICH', 'KIRC', 'KIRP', 'LIHC', 'LUAD', 'LUSC',\n",
       "       'OVCA', 'PCPG', 'PRAD', 'SKCM', 'THCA', 'UCEC', 'UCS'],\n",
       "      dtype=object)"
      ]
     },
     "execution_count": 72,
     "metadata": {},
     "output_type": "execute_result"
    }
   ],
   "source": [
    "pd.read_csv(\"../TCGA_biolinks.csv\", index_col=0)[\"cancer.type\"].unique()"
   ]
  },
  {
   "cell_type": "code",
   "execution_count": 64,
   "metadata": {},
   "outputs": [],
   "source": [
    "df_files = df_files.reset_index().set_index('cases.0.submitter_id').transpose().append(df_meta.reset_index().set_index('patient').reindex(index=df_files['cases.0.submitter_id']).transpose()).transpose().reset_index().set_index(\"file_name\")"
   ]
  },
  {
   "cell_type": "code",
   "execution_count": 65,
   "metadata": {},
   "outputs": [],
   "source": [
    "df_files = df_files.reset_index().set_index('cases.0.submitter_id')\n",
    "df_files = df_files.transpose().append(df_tcgabiolinks.reindex(index=df_files.index).transpose()).transpose()"
   ]
  },
  {
   "cell_type": "code",
   "execution_count": 66,
   "metadata": {},
   "outputs": [],
   "source": [
    "df_files.dropna(how=\"any\", axis=1, thresh=len(df_files.index)/10, inplace=True)"
   ]
  },
  {
   "cell_type": "code",
   "execution_count": 67,
   "metadata": {},
   "outputs": [],
   "source": [
    "df_files=df_files.fillna(\"unknown\").set_index(\"file_name\")\n",
    "df_files.to_csv(\"files.dat\", index=True, header=True)"
   ]
  },
  {
   "cell_type": "code",
   "execution_count": 37,
   "metadata": {},
   "outputs": [],
   "source": [
    "df = pd.read_csv(\"mainTable_all.csv\",index_col=0)"
   ]
  },
  {
   "cell_type": "code",
   "execution_count": 42,
   "metadata": {},
   "outputs": [
    {
     "data": {
      "text/plain": [
       "Index(['7d079b75-6da9-4e35-b0b0-7dbc68fbf0d0.FPKM.txt.gz',\n",
       "       '50dcf6f0-fce9-45aa-af88-116313aa3936.FPKM.txt.gz',\n",
       "       '3dd9e081-d183-49b4-8d67-afa513496f21.FPKM.txt.gz',\n",
       "       '00068002-f4f0-4610-bfe6-67169c760d21.FPKM.txt.gz',\n",
       "       '1edd3b8b-2a9c-43f9-a20e-ca564a37d3aa.FPKM.txt.gz',\n",
       "       'c897eb81-97e5-4007-9d85-66aa2c565f0e.FPKM.txt.gz',\n",
       "       'e7bacb69-34d7-476d-a124-5d015bec383d.FPKM.txt.gz',\n",
       "       '0263a550-8b66-4884-b014-99501112741d.FPKM.txt.gz',\n",
       "       'cfcc9019-4d83-44ec-840c-684f7664bdc7.FPKM.txt.gz',\n",
       "       '8df93787-af1e-4b07-afa1-f910eda02a1c.FPKM.txt.gz',\n",
       "       ...\n",
       "       'e4de8f87-b9c8-4021-b29a-b7d128ff64a3.FPKM.txt.gz',\n",
       "       '1208db51-3816-4c68-8b01-b494b14063cf.FPKM.txt.gz',\n",
       "       '7b4a2fcb-95eb-4cc2-8fde-ec0851ffb724.FPKM.txt.gz',\n",
       "       '808353e4-59a3-4df0-90fd-bd42b7af366e.FPKM.txt.gz',\n",
       "       'db0ce49b-0048-4ba2-9295-309d8c570bb4.FPKM.txt.gz',\n",
       "       '186b83bd-ec3f-42b4-ba91-d86c9618d5e3.FPKM.txt.gz',\n",
       "       '8dd3161b-a1d9-453c-afb8-293b20330f3d.FPKM.txt.gz',\n",
       "       '779250be-012c-4e5b-9b4e-258192607c4b.FPKM.txt.gz',\n",
       "       '022cbd07-3e20-4144-b2ab-8c76adffae73.FPKM.txt.gz',\n",
       "       '6b1c72e9-ed03-4c02-91f6-cda07c1f9e49.FPKM.txt.gz'],\n",
       "      dtype='object', length=737)"
      ]
     },
     "execution_count": 42,
     "metadata": {},
     "output_type": "execute_result"
    }
   ],
   "source": [
    "df.columns[~df.columns.isin(df_files.index)]"
   ]
  },
  {
   "cell_type": "code",
   "execution_count": 44,
   "metadata": {},
   "outputs": [],
   "source": [
    "df = df.reindex(columns=df.columns[df.columns.isin(df_files.index)])\n",
    "df.to_csv(\"mainTable.csv\", index=True, header=True)\n",
    "df_files.fillna(\"unknown\").to_csv(\"files.dat\", index=True)"
   ]
  },
  {
   "cell_type": "code",
   "execution_count": 45,
   "metadata": {},
   "outputs": [
    {
     "name": "stderr",
     "output_type": "stream",
     "text": [
      "/opt/conda/lib/python3.7/site-packages/anndata/_core/anndata.py:21: FutureWarning: pandas.core.index is deprecated and will be removed in a future version.  The public classes are available in the top-level namespace.\n",
      "  from pandas.core.index import RangeIndex\n"
     ]
    }
   ],
   "source": [
    "import scanpy as sc"
   ]
  },
  {
   "cell_type": "code",
   "execution_count": 48,
   "metadata": {},
   "outputs": [
    {
     "data": {
      "image/png": "[encoded data removed]",
      "text/plain": [
       "<Figure size 864x288 with 2 Axes>"
      ]
     },
     "metadata": {
      "needs_background": "light"
     },
     "output_type": "display_data"
    }
   ],
   "source": [
    "adata = sc.AnnData(X=df.transpose(), obs=df_files.reindex(index=df.columns))\n",
    "sc.pp.log1p(adata)\n",
    "sc.pp.highly_variable_genes(adata, n_top_genes=3000)\n",
    "sc.pl.highly_variable_genes(adata)\n",
    "hvg = adata.var[adata.var[\"highly_variable\"]==True].index"
   ]
  },
  {
   "cell_type": "code",
   "execution_count": 49,
   "metadata": {},
   "outputs": [],
   "source": [
    "df.reindex(index=hvg).to_csv(\"mainTable.csv\", index=True, header=True)"
   ]
  },
  {
   "cell_type": "code",
   "execution_count": 32,
   "metadata": {},
   "outputs": [
    {
     "name": "stderr",
     "output_type": "stream",
     "text": [
      "/home/fvalle/anaconda3/envs/phd/lib/python3.6/site-packages/graph_tool/all.py:40: RuntimeWarning: Error importing draw module, proceeding nevertheless: /home/fvalle/anaconda3/envs/phd/lib/python3.6/site-packages/graph_tool/draw/libgraph_tool_draw.so: undefined symbol: _ZN5Cairo7Context9show_textERKNSt7__cxx1112basic_stringIcSt11char_traitsIcESaIcEEE\n",
      "  warnings.warn(msg, RuntimeWarning)\n"
     ]
    }
   ],
   "source": [
    "from sbmtm import sbmtm"
   ]
  },
  {
   "cell_type": "code",
   "execution_count": 59,
   "metadata": {},
   "outputs": [],
   "source": [
    "hsbm = sbmtm()"
   ]
  },
  {
   "cell_type": "code",
   "execution_count": 60,
   "metadata": {},
   "outputs": [
    {
     "data": {
      "text/plain": [
       "<sbmtm.sbmtm at 0x7f719d0c3748>"
      ]
     },
     "execution_count": 60,
     "metadata": {},
     "output_type": "execute_result"
    }
   ],
   "source": [
    "hsbm.make_graph_from_BoW_df(df.reindex(index=hvg))"
   ]
  },
  {
   "cell_type": "code",
   "execution_count": 61,
   "metadata": {},
   "outputs": [],
   "source": [
    "hsbm.save_graph(\"graph_hv.xml.gz\")"
   ]
  },
  {
   "cell_type": "code",
   "execution_count": 62,
   "metadata": {},
   "outputs": [
    {
     "data": {
      "text/plain": [
       "4562"
      ]
     },
     "execution_count": 62,
     "metadata": {},
     "output_type": "execute_result"
    }
   ],
   "source": [
    "del hsbm\n",
    "gc.collect()"
   ]
  },
  {
   "cell_type": "code",
   "execution_count": null,
   "metadata": {},
   "outputs": [],
   "source": []
  }
 ],
 "metadata": {
  "kernelspec": {
   "display_name": "Python 3",
   "language": "python",
   "name": "python3"
  },
  "language_info": {
   "codemirror_mode": {
    "name": "ipython",
    "version": 3
   },
   "file_extension": ".py",
   "mimetype": "text/x-python",
   "name": "python",
   "nbconvert_exporter": "python",
   "pygments_lexer": "ipython3",
   "version": "3.7.6"
  }
 },
 "nbformat": 4,
 "nbformat_minor": 4
}

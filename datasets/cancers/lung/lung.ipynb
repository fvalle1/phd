{
 "cells": [
  {
   "cell_type": "code",
   "execution_count": null,
   "metadata": {},
   "outputs": [],
   "source": [
    "import pandas as pd\n",
    "import numpy as np\n",
    "import sys, gc, os"
   ]
  },
  {
   "cell_type": "code",
   "execution_count": null,
   "metadata": {},
   "outputs": [],
   "source": [
    "os.getcwd()"
   ]
  },
  {
   "cell_type": "code",
   "execution_count": null,
   "metadata": {},
   "outputs": [],
   "source": [
    "df_discordant = pd.read_csv(\"https://raw.githubusercontent.com/ELELAB/LUAD_LUSC_TCGA_comparison/master/6-recount/LUSC/discordant_samples.txt\", header=None)\n",
    "df_tcgabiolinks = pd.read_csv(\"../TCGA_biolinks.csv\", index_col=0).dropna(how=\"all\", axis=1)\n",
    "df_tcgabiolinks = df_tcgabiolinks[df_tcgabiolinks[\"cancer.type\"].isin([\"LUAD\",\"LUSC\"])].set_index(\"pan.samplesID\")\n",
    "df_tcgabiolinks"
   ]
  },
  {
   "cell_type": "code",
   "execution_count": null,
   "metadata": {},
   "outputs": [],
   "source": [
    "df_files=pd.read_csv(\"files_tcga.dat\", index_col=0)\n",
    "df_files=df_files.drop_duplicates(\"cases.0.submitter_id\")\n",
    "df_files.sort_values('cases.0.submitter_id', inplace=True)\n",
    "\n",
    "bins = np.linspace(0,5,num=4)\n",
    "cutted = pd.cut(df_files[\"cases.0.samples.0.longest_dimension\"].replace(\"unknown\", np.nan).dropna().astype(float),bins=bins, labels=bins[1:])\n",
    "df_files[\"longest_dimension\"]=df_files[\"cases.0.samples.0.longest_dimension\"]\n",
    "df_files[\"longest_dimension\"][cutted.index]=cutted\n",
    "\n",
    "df_files=df_files[df_files['cases.0.submitter_id'].isin(df_tcgabiolinks.index)]"
   ]
  },
  {
   "cell_type": "code",
   "execution_count": null,
   "metadata": {},
   "outputs": [],
   "source": [
    "pd.read_csv(\"../TCGA_biolinks.csv\", index_col=0)[\"cancer.type\"].unique()"
   ]
  },
  {
   "cell_type": "code",
   "execution_count": null,
   "metadata": {},
   "outputs": [],
   "source": [
    "for (sample,case) in zip(df_files.index,df_files[\"cases.0.samples.0.portions.0.analytes.0.aliquots.0.submitter_id\"]):\n",
    "    if case in df_discordant.values.ravel():\n",
    "        df_files.at[sample,\"cancer.type\"]=\"Discordant_LUSC\""
   ]
  },
  {
   "cell_type": "code",
   "execution_count": null,
   "metadata": {},
   "outputs": [],
   "source": [
    "df_files = df_files.reset_index().set_index('cases.0.submitter_id')\n",
    "df_files = df_files.transpose().append(df_tcgabiolinks.reindex(index=df_files.index).transpose()).transpose()"
   ]
  },
  {
   "cell_type": "code",
   "execution_count": null,
   "metadata": {},
   "outputs": [],
   "source": [
    "df_files.dropna(how=\"any\", axis=1, thresh=len(df_files.index)/10, inplace=True)\n",
    "df_files.reset_index().set_index(\"file_name\").fillna(\"unknown\").to_csv(\"files.dat\", index=True)"
   ]
  },
  {
   "cell_type": "markdown",
   "metadata": {},
   "source": [
    "## mainTable"
   ]
  },
  {
   "cell_type": "code",
   "execution_count": null,
   "metadata": {},
   "outputs": [],
   "source": [
    "df_files=df_files.fillna(\"unknown\").set_index(\"file_name\")\n",
    "df_files.to_csv(\"files.dat\", index=True, header=True)"
   ]
  },
  {
   "cell_type": "code",
   "execution_count": null,
   "metadata": {},
   "outputs": [],
   "source": [
    "df = pd.read_csv(\"mainTable_all.csv\",index_col=0)"
   ]
  },
  {
   "cell_type": "code",
   "execution_count": null,
   "metadata": {},
   "outputs": [],
   "source": [
    "df.columns[~df.columns.isin(df_files.index)]"
   ]
  },
  {
   "cell_type": "code",
   "execution_count": null,
   "metadata": {},
   "outputs": [],
   "source": [
    "df = df.reindex(columns=df.columns[df.columns.isin(df_files.index)])\n",
    "df.to_csv(\"mainTable.csv\", index=True, header=True)\n",
    "df_files.fillna(\"unknown\").to_csv(\"files.dat\", index=True)"
   ]
  },
  {
   "cell_type": "code",
   "execution_count": null,
   "metadata": {},
   "outputs": [],
   "source": [
    "import scanpy as sc"
   ]
  },
  {
   "cell_type": "code",
   "execution_count": null,
   "metadata": {},
   "outputs": [],
   "source": [
    "adata = sc.AnnData(X=df.transpose(), obs=df_files.reindex(index=df.columns))\n",
    "sc.pp.log1p(adata)\n",
    "sc.pp.highly_variable_genes(adata, n_top_genes=3000)\n",
    "sc.pl.highly_variable_genes(adata)\n",
    "hvg = adata.var[adata.var[\"highly_variable\"]==True].index"
   ]
  },
  {
   "cell_type": "code",
   "execution_count": null,
   "metadata": {},
   "outputs": [],
   "source": [
    "df.reindex(index=hvg).to_csv(\"mainTable.csv\", index=True, header=True)"
   ]
  },
  {
   "cell_type": "markdown",
   "metadata": {},
   "source": [
    "### sbmtm"
   ]
  },
  {
   "cell_type": "code",
   "execution_count": null,
   "metadata": {},
   "outputs": [],
   "source": [
    "from sbmtm import sbmtm"
   ]
  },
  {
   "cell_type": "code",
   "execution_count": null,
   "metadata": {},
   "outputs": [],
   "source": [
    "hsbm = sbmtm()"
   ]
  },
  {
   "cell_type": "code",
   "execution_count": null,
   "metadata": {},
   "outputs": [],
   "source": [
    "hsbm.make_graph_from_BoW_df(df.reindex(index=hvg))"
   ]
  },
  {
   "cell_type": "code",
   "execution_count": null,
   "metadata": {},
   "outputs": [],
   "source": [
    "hsbm.save_graph(\"graph_hv.xml.gz\")"
   ]
  },
  {
   "cell_type": "code",
   "execution_count": null,
   "metadata": {},
   "outputs": [],
   "source": [
    "del hsbm\n",
    "gc.collect()"
   ]
  },
  {
   "cell_type": "markdown",
   "metadata": {},
   "source": [
    "# Merged"
   ]
  },
  {
   "cell_type": "code",
   "execution_count": null,
   "metadata": {},
   "outputs": [],
   "source": [
    "df_merged = pd.read_csv(\"../../merged/files.dat\", index_col=0)\n",
    "df_query = pd.read_csv(\"../../merged/files.txt\",sep=\"\\t\", index_col=4)"
   ]
  },
  {
   "cell_type": "code",
   "execution_count": null,
   "metadata": {},
   "outputs": [],
   "source": [
    "df_merged[\"Subtype\"]=df_merged[\"status\"]\n",
    "df_merged[\"Type\"]=df_merged[\"status\"]\n",
    "df_tmp = df_files.reset_index().set_index(\"cases.0.samples.0.portions.0.analytes.0.aliquots.0.submitter_id\")\n",
    "df_tmp=df_tmp[df_tmp.index.isin(df_merged.index)]\n",
    "for sample in df_tmp.index:\n",
    "    df_merged.at[sample,\"Type\"]=df_tmp.at[sample,\"cancer.type\"]\n",
    "    df_merged.at[sample,\"Subtype\"]=df_tmp.at[sample,\"Subtype_Selected\"]\n",
    "for sample in df_merged.index:\n",
    "    if sample[:12] in df_query.index and df_merged.at[sample,\"status\"]==\"tumor\":\n",
    "        df_merged.at[sample,\"Type\"]=df_query.at[sample[:12],\"project.project_id\"][-4:]\n",
    "    if sample in df_discordant.values:\n",
    "        df_merged.at[sample,\"Type\"]=\"Discordant_LUSC\""
   ]
  },
  {
   "cell_type": "code",
   "execution_count": null,
   "metadata": {},
   "outputs": [],
   "source": [
    "df_merged=df_merged[df_merged[\"primary_site\"]==\"Lung\"]\n",
    "df_merged.fillna(\"unknown\").to_csv(\"../../merged/lung/files.dat\")"
   ]
  },
  {
   "cell_type": "code",
   "execution_count": null,
   "metadata": {},
   "outputs": [],
   "source": []
  },
  {
   "cell_type": "markdown",
   "metadata": {},
   "source": [
    "# Stages"
   ]
  },
  {
   "cell_type": "code",
   "execution_count": null,
   "metadata": {},
   "outputs": [],
   "source": [
    "sys.path.append(\"/home/jovyan/work/phd\")\n",
    "from hsbmpy import get_file, get_next_color\n",
    "import matplotlib.pyplot as plt\n",
    "import seaborn as sns"
   ]
  },
  {
   "cell_type": "code",
   "execution_count": null,
   "metadata": {},
   "outputs": [],
   "source": [
    "l=0\n",
    "algorithm = \"topsbm\"\n",
    "df_topics = pd.read_csv(\"%s/%s_level_%d_topic-dist.csv\"%(algorithm,algorithm,l))\n",
    "df_files = pd.read_csv(\"files.dat\", index_col=0).dropna(how='all', axis=0)\n",
    "df_topics.set_index('doc', inplace=True)\n",
    "df_topics.insert(0,'stage','')\n",
    "df_topics.insert(0,'type','')\n",
    "df_topics.drop('i_doc', axis=1, inplace=True)\n",
    "labels = [\"cases.0.diagnoses.0.tumor_stage\",\"cancer.type\"]\n",
    "if label not in df_files.columns:\n",
    "    raise AttributeError(f\"{label} not valid. Available: {df_files.columns}\")\n",
    "for letter in [\"a\", \"b\"]:\n",
    "    for (old, new) in zip([\"stage %s%s\"%(i,letter) for i in [\"i\", \"ii\", \"iii\", \"iv\"]],[\"stage %s\"%i for i in [\"i\", \"ii\", \"iii\", \"iv\"]]):\n",
    "        df_files.replace(old, new, inplace=True)\n",
    "for sample in df_topics.index.values:\n",
    "    df_topics.at[sample,'stage']=(\"%s\"%(get_file(sample,df_files)[labels[0]]))\n",
    "    df_topics.at[sample,'type']=(\"%s\"%(get_file(sample,df_files)[labels[1]]))"
   ]
  },
  {
   "cell_type": "code",
   "execution_count": null,
   "metadata": {},
   "outputs": [],
   "source": [
    "df_topic_stage=df_topics.groupby([\"type\", \"stage\"]).mean()"
   ]
  },
  {
   "cell_type": "code",
   "execution_count": null,
   "metadata": {},
   "outputs": [],
   "source": [
    "color_generator = get_next_color()\n",
    "for topic in df_topic_stage_dat.columns:\n",
    "    fig, axs = plt.subplots(1,2,figsize=(30,15))\n",
    "    color = next(color_generator)\n",
    "    for ((i,dataset), ax) in zip(enumerate(np.unique([idx[0] for idx in df_topic_stage.index if \"Discordant\" not in idx[0]])), axs):\n",
    "        df_topic_stage_dat = df_topic_stage.reindex(index=df_topic_stage.index[i*4:i*4+5])\n",
    "        df_topic_stage_dat=df_topic_stage_dat.subtract(df_topic_stage_dat.mean(0),1)\n",
    "        df_topic_stage_dat=df_topic_stage_dat.divide(df_topic_stage_dat.std(0),1)\n",
    "        df_topic_stage_dat[topic].plot(ax=ax, lw=5, c=color, legend=False)\n",
    "        ax.set_xticklabels(labels=np.sort(df_topics[\"stage\"].unique()), rotation=45)\n",
    "        ax.set_xticks(np.linspace(0,4,5))\n",
    "        ax.tick_params(labelsize=35)\n",
    "        ax.set_title(dataset, fontsize=35)\n",
    "        ax.set_xlabel(\"\")\n",
    "\n",
    "    axs[1].legend(fontsize=24, ncol=3)\n",
    "\n",
    "    \n",
    "    axs[0].set_ylabel(\"$<P(topic|stage)>$\", fontsize=35)\n",
    "\n",
    "    plt.show()"
   ]
  },
  {
   "cell_type": "code",
   "execution_count": null,
   "metadata": {},
   "outputs": [],
   "source": [
    "topic = \"Topic 34\"\n",
    "df_single_topic = pd.read_csv(\"%s/%s_level_%d_word-dist.csv\"%(algorithm,algorithm,l), index_col=0).sort_values([topic], ascending=False)[topic].dropna()\n",
    "for g in df_single_topic[df_single_topic>df_single_topic[df_single_topic>0].quantile(0.01)].index:\n",
    "    print(g+\"\")"
   ]
  },
  {
   "cell_type": "code",
   "execution_count": null,
   "metadata": {},
   "outputs": [],
   "source": []
  }
 ],
 "metadata": {
  "kernelspec": {
   "display_name": "Python 3",
   "language": "python",
   "name": "python3"
  },
  "language_info": {
   "codemirror_mode": {
    "name": "ipython",
    "version": 3
   },
   "file_extension": ".py",
   "mimetype": "text/x-python",
   "name": "python",
   "nbconvert_exporter": "python",
   "pygments_lexer": "ipython3",
   "version": "3.7.6"
  },
  "widgets": {
   "application/vnd.jupyter.widget-state+json": {
    "state": {},
    "version_major": 2,
    "version_minor": 0
   }
  }
 },
 "nbformat": 4,
 "nbformat_minor": 4
}

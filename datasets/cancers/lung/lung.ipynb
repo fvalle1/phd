{
 "cells": [
  {
   "cell_type": "code",
   "execution_count": null,
   "metadata": {},
   "outputs": [],
   "source": [
    "import pandas as pd\n",
    "import numpy as np\n",
    "import sys, gc, os"
   ]
  },
  {
   "cell_type": "code",
   "execution_count": null,
   "metadata": {},
   "outputs": [],
   "source": [
    "os.listdir()"
   ]
  },
  {
   "cell_type": "code",
   "execution_count": null,
   "metadata": {},
   "outputs": [],
   "source": [
    "df_tcgabiolinks = pd.read_csv(\"../TCGA_biolinks.csv\", index_col=0).dropna(how=\"all\", axis=1)\n",
    "df_tcgabiolinks = df_tcgabiolinks[df_tcgabiolinks[\"cancer.type\"].isin([\"LUAD\",\"LUSC\"])].set_index(\"pan.samplesID\")\n",
    "df_tcgabiolinks"
   ]
  },
  {
   "cell_type": "code",
   "execution_count": null,
   "metadata": {},
   "outputs": [],
   "source": [
    "df_files.columns"
   ]
  },
  {
   "cell_type": "code",
   "execution_count": null,
   "metadata": {},
   "outputs": [],
   "source": [
    "df_files=pd.read_csv(\"files_tcga.dat\", index_col=0)\n",
    "df_files=df_files.drop_duplicates(\"cases.0.submitter_id\")\n",
    "df_files.sort_values('cases.0.submitter_id', inplace=True)\n",
    "\n",
    "bins = np.linspace(0,5,num=4)\n",
    "cutted = pd.cut(df_files[\"cases.0.samples.0.longest_dimension\"].replace(\"unknown\", np.nan).dropna().astype(float),bins=bins, labels=bins[1:])\n",
    "df_files[\"longest_dimension\"]=df_files[\"cases.0.samples.0.longest_dimension\"]\n",
    "df_files[\"longest_dimension\"][cutted.index]=cutted\n",
    "\n",
    "df_files[\"Age.at.diagnosis\"] = df_files[\"Age.at.diagnosis\"].replace(\"[Not Available]\",np.nan)\n",
    "df_files[\"Age.at.diagnosis\"] = df_files[\"Age.at.diagnosis\"].astype(float)\n",
    "bins = np.linspace(df_files[\"Age.at.diagnosis\"].min(),df_files[\"Age.at.diagnosis\"].max(), 4)\n",
    "df_files[\"Age.at.diagnosis\"] = pd.cut(df_files[\"Age.at.diagnosis\"],bins,labels=bins[1:])\n",
    "\n",
    "\n",
    "df_files=df_files[df_files['cases.0.submitter_id'].isin(df_tcgabiolinks.index)]"
   ]
  },
  {
   "cell_type": "code",
   "execution_count": null,
   "metadata": {},
   "outputs": [],
   "source": [
    "pd.read_csv(\"../TCGA_biolinks.csv\", index_col=0)[\"cancer.type\"].unique()"
   ]
  },
  {
   "cell_type": "code",
   "execution_count": null,
   "metadata": {},
   "outputs": [],
   "source": [
    "df_files = df_files.reset_index().set_index('cases.0.submitter_id').transpose().append(df_meta.reset_index().set_index('patient').reindex(index=df_files['cases.0.submitter_id']).transpose()).transpose().reset_index().set_index(\"file_name\")"
   ]
  },
  {
   "cell_type": "code",
   "execution_count": null,
   "metadata": {},
   "outputs": [],
   "source": [
    "df_files = df_files.reset_index().set_index('cases.0.submitter_id')\n",
    "df_files = df_files.transpose().append(df_tcgabiolinks.reindex(index=df_files.index).transpose()).transpose()"
   ]
  },
  {
   "cell_type": "code",
   "execution_count": null,
   "metadata": {},
   "outputs": [],
   "source": [
    "df_files.dropna(how=\"any\", axis=1, thresh=len(df_files.index)/10, inplace=True)"
   ]
  },
  {
   "cell_type": "code",
   "execution_count": null,
   "metadata": {},
   "outputs": [],
   "source": [
    "df_files=df_files.fillna(\"unknown\").set_index(\"file_name\")\n",
    "df_files.to_csv(\"files.dat\", index=True, header=True)"
   ]
  },
  {
   "cell_type": "code",
   "execution_count": null,
   "metadata": {},
   "outputs": [],
   "source": [
    "df = pd.read_csv(\"mainTable_all.csv\",index_col=0)"
   ]
  },
  {
   "cell_type": "code",
   "execution_count": null,
   "metadata": {},
   "outputs": [],
   "source": [
    "df.columns[~df.columns.isin(df_files.index)]"
   ]
  },
  {
   "cell_type": "code",
   "execution_count": null,
   "metadata": {},
   "outputs": [],
   "source": [
    "df = df.reindex(columns=df.columns[df.columns.isin(df_files.index)])\n",
    "df.to_csv(\"mainTable.csv\", index=True, header=True)\n",
    "df_files.fillna(\"unknown\").to_csv(\"files.dat\", index=True)"
   ]
  },
  {
   "cell_type": "code",
   "execution_count": null,
   "metadata": {},
   "outputs": [],
   "source": [
    "import scanpy as sc"
   ]
  },
  {
   "cell_type": "code",
   "execution_count": null,
   "metadata": {},
   "outputs": [],
   "source": [
    "adata = sc.AnnData(X=df.transpose(), obs=df_files.reindex(index=df.columns))\n",
    "sc.pp.log1p(adata)\n",
    "sc.pp.highly_variable_genes(adata, n_top_genes=3000)\n",
    "sc.pl.highly_variable_genes(adata)\n",
    "hvg = adata.var[adata.var[\"highly_variable\"]==True].index"
   ]
  },
  {
   "cell_type": "code",
   "execution_count": null,
   "metadata": {},
   "outputs": [],
   "source": [
    "df.reindex(index=hvg).to_csv(\"mainTable.csv\", index=True, header=True)"
   ]
  },
  {
   "cell_type": "code",
   "execution_count": null,
   "metadata": {},
   "outputs": [],
   "source": [
    "from sbmtm import sbmtm"
   ]
  },
  {
   "cell_type": "code",
   "execution_count": null,
   "metadata": {},
   "outputs": [],
   "source": [
    "hsbm = sbmtm()"
   ]
  },
  {
   "cell_type": "code",
   "execution_count": null,
   "metadata": {},
   "outputs": [],
   "source": [
    "hsbm.make_graph_from_BoW_df(df.reindex(index=hvg))"
   ]
  },
  {
   "cell_type": "code",
   "execution_count": null,
   "metadata": {},
   "outputs": [],
   "source": [
    "hsbm.save_graph(\"graph_hv.xml.gz\")"
   ]
  },
  {
   "cell_type": "code",
   "execution_count": null,
   "metadata": {},
   "outputs": [],
   "source": [
    "del hsbm\n",
    "gc.collect()"
   ]
  },
  {
   "cell_type": "code",
   "execution_count": null,
   "metadata": {},
   "outputs": [],
   "source": []
  }
 ],
 "metadata": {
  "kernelspec": {
   "display_name": "Python 3",
   "language": "python",
   "name": "python3"
  },
  "language_info": {
   "codemirror_mode": {
    "name": "ipython",
    "version": 3
   },
   "file_extension": ".py",
   "mimetype": "text/x-python",
   "name": "python",
   "nbconvert_exporter": "python",
   "pygments_lexer": "ipython3",
   "version": "3.7.6"
  },
  "widgets": {
   "application/vnd.jupyter.widget-state+json": {
    "state": {},
    "version_major": 2,
    "version_minor": 0
   }
  }
 },
 "nbformat": 4,
 "nbformat_minor": 4
}

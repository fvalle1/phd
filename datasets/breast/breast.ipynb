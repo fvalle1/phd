{
 "cells": [
  {
   "cell_type": "code",
   "execution_count": 1,
   "metadata": {},
   "outputs": [],
   "source": [
    "import pandas as pd"
   ]
  },
  {
   "cell_type": "code",
   "execution_count": 2,
   "metadata": {},
   "outputs": [],
   "source": [
    "df_meta = pd.read_csv(\"information.csv\", header=0, index_col=0, skiprows=1)"
   ]
  },
  {
   "cell_type": "code",
   "execution_count": 6,
   "metadata": {},
   "outputs": [],
   "source": [
    "df_files=pd.read_csv(\"files.dat\", index_col=2)\n",
    "#df_files=df_files[df_files.index.isin(df_meta.index)]\n",
    "#df_files.insert(0,'RPPA', df_meta['RPPA Clusters'])\n",
    "#df_files.dropna(inplace=True)"
   ]
  },
  {
   "cell_type": "code",
   "execution_count": 7,
   "metadata": {},
   "outputs": [
    {
     "data": {
      "text/html": [
       "<div>\n",
       "<style scoped>\n",
       "    .dataframe tbody tr th:only-of-type {\n",
       "        vertical-align: middle;\n",
       "    }\n",
       "\n",
       "    .dataframe tbody tr th {\n",
       "        vertical-align: top;\n",
       "    }\n",
       "\n",
       "    .dataframe thead th {\n",
       "        text-align: right;\n",
       "    }\n",
       "</style>\n",
       "<table border=\"1\" class=\"dataframe\">\n",
       "  <thead>\n",
       "    <tr style=\"text-align: right;\">\n",
       "      <th></th>\n",
       "      <th>file_name</th>\n",
       "      <th>RPPA</th>\n",
       "      <th>disease_type</th>\n",
       "      <th>primary_diagnosis</th>\n",
       "    </tr>\n",
       "    <tr>\n",
       "      <th>primary_site</th>\n",
       "      <th></th>\n",
       "      <th></th>\n",
       "      <th></th>\n",
       "      <th></th>\n",
       "    </tr>\n",
       "  </thead>\n",
       "  <tbody>\n",
       "    <tr>\n",
       "      <td>Breast</td>\n",
       "      <td>6360d281-1d89-43a0-aaea-46a46533ae38.htseq.cou...</td>\n",
       "      <td>LumA</td>\n",
       "      <td>Breast Invasive Carcinoma</td>\n",
       "      <td>Infiltrating duct carcinoma, NOS</td>\n",
       "    </tr>\n",
       "    <tr>\n",
       "      <td>Breast</td>\n",
       "      <td>1f90a18e-1e38-4365-bbbe-9959fe96ef77.htseq.cou...</td>\n",
       "      <td>ReacII</td>\n",
       "      <td>Breast Invasive Carcinoma</td>\n",
       "      <td>Infiltrating duct carcinoma, NOS</td>\n",
       "    </tr>\n",
       "    <tr>\n",
       "      <td>Breast</td>\n",
       "      <td>58d232f8-75a8-4981-9ccd-0530a31b4610.htseq.cou...</td>\n",
       "      <td>Basal</td>\n",
       "      <td>Breast Invasive Carcinoma</td>\n",
       "      <td>Infiltrating duct mixed with other types of ca...</td>\n",
       "    </tr>\n",
       "    <tr>\n",
       "      <td>Breast</td>\n",
       "      <td>b8e564b0-affd-4137-a10c-be4fe254a905.htseq.cou...</td>\n",
       "      <td>LumA/B</td>\n",
       "      <td>Breast Invasive Carcinoma</td>\n",
       "      <td>Infiltrating duct carcinoma, NOS</td>\n",
       "    </tr>\n",
       "    <tr>\n",
       "      <td>Breast</td>\n",
       "      <td>ca5d0721-99cf-4b7c-b708-6acea2ae86bd.htseq.cou...</td>\n",
       "      <td>LumA/B</td>\n",
       "      <td>Breast Invasive Carcinoma</td>\n",
       "      <td>Infiltrating duct carcinoma, NOS</td>\n",
       "    </tr>\n",
       "  </tbody>\n",
       "</table>\n",
       "</div>"
      ],
      "text/plain": [
       "                                                      file_name    RPPA  \\\n",
       "primary_site                                                              \n",
       "Breast        6360d281-1d89-43a0-aaea-46a46533ae38.htseq.cou...    LumA   \n",
       "Breast        1f90a18e-1e38-4365-bbbe-9959fe96ef77.htseq.cou...  ReacII   \n",
       "Breast        58d232f8-75a8-4981-9ccd-0530a31b4610.htseq.cou...   Basal   \n",
       "Breast        b8e564b0-affd-4137-a10c-be4fe254a905.htseq.cou...  LumA/B   \n",
       "Breast        ca5d0721-99cf-4b7c-b708-6acea2ae86bd.htseq.cou...  LumA/B   \n",
       "\n",
       "                           disease_type  \\\n",
       "primary_site                              \n",
       "Breast        Breast Invasive Carcinoma   \n",
       "Breast        Breast Invasive Carcinoma   \n",
       "Breast        Breast Invasive Carcinoma   \n",
       "Breast        Breast Invasive Carcinoma   \n",
       "Breast        Breast Invasive Carcinoma   \n",
       "\n",
       "                                              primary_diagnosis  \n",
       "primary_site                                                     \n",
       "Breast                         Infiltrating duct carcinoma, NOS  \n",
       "Breast                         Infiltrating duct carcinoma, NOS  \n",
       "Breast        Infiltrating duct mixed with other types of ca...  \n",
       "Breast                         Infiltrating duct carcinoma, NOS  \n",
       "Breast                         Infiltrating duct carcinoma, NOS  "
      ]
     },
     "execution_count": 7,
     "metadata": {},
     "output_type": "execute_result"
    }
   ],
   "source": [
    "df_files.head()"
   ]
  },
  {
   "cell_type": "code",
   "execution_count": 8,
   "metadata": {},
   "outputs": [
    {
     "data": {
      "text/html": [
       "<div>\n",
       "<style scoped>\n",
       "    .dataframe tbody tr th:only-of-type {\n",
       "        vertical-align: middle;\n",
       "    }\n",
       "\n",
       "    .dataframe tbody tr th {\n",
       "        vertical-align: top;\n",
       "    }\n",
       "\n",
       "    .dataframe thead th {\n",
       "        text-align: right;\n",
       "    }\n",
       "</style>\n",
       "<table border=\"1\" class=\"dataframe\">\n",
       "  <thead>\n",
       "    <tr style=\"text-align: right;\">\n",
       "      <th></th>\n",
       "      <th></th>\n",
       "      <th></th>\n",
       "      <th>file_name</th>\n",
       "    </tr>\n",
       "    <tr>\n",
       "      <th>RPPA</th>\n",
       "      <th>disease_type</th>\n",
       "      <th>primary_diagnosis</th>\n",
       "      <th></th>\n",
       "    </tr>\n",
       "  </thead>\n",
       "  <tbody>\n",
       "    <tr>\n",
       "      <td rowspan=\"3\" valign=\"top\">Basal</td>\n",
       "      <td rowspan=\"3\" valign=\"top\">Breast Invasive Carcinoma</td>\n",
       "      <td>Infiltrating duct carcinoma, NOS</td>\n",
       "      <td>9</td>\n",
       "    </tr>\n",
       "    <tr>\n",
       "      <td>Infiltrating duct mixed with other types of carcinoma</td>\n",
       "      <td>1</td>\n",
       "    </tr>\n",
       "    <tr>\n",
       "      <td>Large cell neuroendocrine carcinoma</td>\n",
       "      <td>1</td>\n",
       "    </tr>\n",
       "    <tr>\n",
       "      <td rowspan=\"2\" valign=\"top\">Her2</td>\n",
       "      <td rowspan=\"2\" valign=\"top\">Breast Invasive Carcinoma</td>\n",
       "      <td>Infiltrating duct and lobular carcinoma</td>\n",
       "      <td>2</td>\n",
       "    </tr>\n",
       "    <tr>\n",
       "      <td>Infiltrating duct carcinoma, NOS</td>\n",
       "      <td>2</td>\n",
       "    </tr>\n",
       "    <tr>\n",
       "      <td>LumA</td>\n",
       "      <td>Breast Invasive Carcinoma</td>\n",
       "      <td>Infiltrating duct carcinoma, NOS</td>\n",
       "      <td>5</td>\n",
       "    </tr>\n",
       "    <tr>\n",
       "      <td rowspan=\"2\" valign=\"top\">LumA/B</td>\n",
       "      <td rowspan=\"2\" valign=\"top\">Breast Invasive Carcinoma</td>\n",
       "      <td>Infiltrating duct carcinoma, NOS</td>\n",
       "      <td>5</td>\n",
       "    </tr>\n",
       "    <tr>\n",
       "      <td>Infiltrating duct mixed with other types of carcinoma</td>\n",
       "      <td>3</td>\n",
       "    </tr>\n",
       "    <tr>\n",
       "      <td rowspan=\"2\" valign=\"top\">ReacI</td>\n",
       "      <td rowspan=\"2\" valign=\"top\">Breast Invasive Carcinoma</td>\n",
       "      <td>Infiltrating duct carcinoma, NOS</td>\n",
       "      <td>4</td>\n",
       "    </tr>\n",
       "    <tr>\n",
       "      <td>Lobular carcinoma, NOS</td>\n",
       "      <td>1</td>\n",
       "    </tr>\n",
       "    <tr>\n",
       "      <td>ReacII</td>\n",
       "      <td>Breast Invasive Carcinoma</td>\n",
       "      <td>Infiltrating duct carcinoma, NOS</td>\n",
       "      <td>1</td>\n",
       "    </tr>\n",
       "    <tr>\n",
       "      <td>X</td>\n",
       "      <td>Breast Invasive Carcinoma</td>\n",
       "      <td>Infiltrating duct carcinoma, NOS</td>\n",
       "      <td>2</td>\n",
       "    </tr>\n",
       "  </tbody>\n",
       "</table>\n",
       "</div>"
      ],
      "text/plain": [
       "                                                                                     file_name\n",
       "RPPA   disease_type              primary_diagnosis                                            \n",
       "Basal  Breast Invasive Carcinoma Infiltrating duct carcinoma, NOS                            9\n",
       "                                 Infiltrating duct mixed with other types of car...          1\n",
       "                                 Large cell neuroendocrine carcinoma                         1\n",
       "Her2   Breast Invasive Carcinoma Infiltrating duct and lobular carcinoma                     2\n",
       "                                 Infiltrating duct carcinoma, NOS                            2\n",
       "LumA   Breast Invasive Carcinoma Infiltrating duct carcinoma, NOS                            5\n",
       "LumA/B Breast Invasive Carcinoma Infiltrating duct carcinoma, NOS                            5\n",
       "                                 Infiltrating duct mixed with other types of car...          3\n",
       "ReacI  Breast Invasive Carcinoma Infiltrating duct carcinoma, NOS                            4\n",
       "                                 Lobular carcinoma, NOS                                      1\n",
       "ReacII Breast Invasive Carcinoma Infiltrating duct carcinoma, NOS                            1\n",
       "X      Breast Invasive Carcinoma Infiltrating duct carcinoma, NOS                            2"
      ]
     },
     "execution_count": 8,
     "metadata": {},
     "output_type": "execute_result"
    }
   ],
   "source": [
    "df_files.groupby(['RPPA', 'disease_type','primary_diagnosis']).count()"
   ]
  },
  {
   "cell_type": "code",
   "execution_count": 9,
   "metadata": {},
   "outputs": [
    {
     "name": "stdout",
     "output_type": "stream",
     "text": [
      "<class 'pandas.core.frame.DataFrame'>\n",
      "Index: 19369 entries, ENSG00000167578 to ENSG00000181518\n",
      "Data columns (total 36 columns):\n",
      "6360d281-1d89-43a0-aaea-46a46533ae38.htseq.counts.gz    19369 non-null int64\n",
      "1f90a18e-1e38-4365-bbbe-9959fe96ef77.htseq.counts.gz    19369 non-null int64\n",
      "58d232f8-75a8-4981-9ccd-0530a31b4610.htseq.counts.gz    19369 non-null int64\n",
      "b8e564b0-affd-4137-a10c-be4fe254a905.htseq.counts.gz    19369 non-null int64\n",
      "ca5d0721-99cf-4b7c-b708-6acea2ae86bd.htseq.counts.gz    19369 non-null int64\n",
      "f8a64fd0-7e9c-4796-988d-607ed07c4c23.htseq.counts.gz    19369 non-null int64\n",
      "e8201ee9-2e0a-4a8e-bc99-6e2482da919d.htseq.counts.gz    19369 non-null int64\n",
      "b033c85a-2395-4ced-a84d-ac1fbce674bf.htseq.counts.gz    19369 non-null int64\n",
      "2eeb46a1-0422-4a77-b58d-3b7d57d51b44.htseq.counts.gz    19369 non-null int64\n",
      "96ddce60-2be5-4f57-814b-35722aa00fd9.htseq.counts.gz    19369 non-null int64\n",
      "9151bbcc-ecef-40fc-8834-e24ff848e1a2.htseq.counts.gz    19369 non-null int64\n",
      "6a508e94-c094-4c0f-85c3-5ea50b54a399.htseq.counts.gz    19369 non-null int64\n",
      "b8001d68-74fb-46a4-b0c5-388387479685.htseq.counts.gz    19369 non-null int64\n",
      "c1c1111e-858a-438e-8bb6-90df4defcede.htseq.counts.gz    19369 non-null int64\n",
      "5891f699-0097-48dd-b35a-0f8999af21c8.htseq.counts.gz    19369 non-null int64\n",
      "0cad7bff-30bd-4c4a-accf-876422f3cb6a.htseq.counts.gz    19369 non-null int64\n",
      "e58d8f68-0808-4a7b-b6b5-65d90c82875d.htseq.counts.gz    19369 non-null int64\n",
      "84bf2e9a-56a4-49ba-bbb9-ad931c77e117.htseq.counts.gz    19369 non-null int64\n",
      "1d102e83-ede2-460e-ab2e-f42d8db6970e.htseq.counts.gz    19369 non-null int64\n",
      "ddf98c57-1c48-4277-8a49-c74f52141723.htseq.counts.gz    19369 non-null int64\n",
      "022a665e-1ed2-4e37-a6cd-911ccdb1dfcf.htseq.counts.gz    19369 non-null int64\n",
      "be8c6402-fb97-4c31-8a18-a5b4783a1726.htseq.counts.gz    19369 non-null int64\n",
      "9ad28472-32f0-4cb5-ba51-17d3e75fe85d.htseq.counts.gz    19369 non-null int64\n",
      "3c49cb1a-c0f5-4b74-81f9-aa18d3da1e43.htseq.counts.gz    19369 non-null int64\n",
      "42d4f4c7-690c-4c0d-a2e8-ad3aef6f7776.htseq.counts.gz    19369 non-null int64\n",
      "f1afa28b-fac9-4e2e-b447-36097ef45a0b.htseq.counts.gz    19369 non-null int64\n",
      "77c7bf1b-e986-4e9c-832d-a64e063c54ff.htseq.counts.gz    19369 non-null int64\n",
      "16942d90-640a-4f7f-9822-e613cd44b3a7.htseq.counts.gz    19369 non-null int64\n",
      "5fbf674e-49f3-4af8-9c9c-20a528ad0684.htseq.counts.gz    19369 non-null int64\n",
      "deaa56c1-8031-4c65-b3bc-1228407e06ea.htseq.counts.gz    19369 non-null int64\n",
      "a5be0ae4-accd-4fa5-84b7-fa8377054755.htseq.counts.gz    19369 non-null int64\n",
      "1f886c5f-c9dc-4bf7-a9f9-30659e57597c.htseq.counts.gz    19369 non-null int64\n",
      "c5375772-6f28-4bf2-bd70-63a8872b7b7c.htseq.counts.gz    19369 non-null int64\n",
      "46c0216c-ff17-4ebf-ad8f-b054542fc2a9.htseq.counts.gz    19369 non-null int64\n",
      "709670f6-cbb6-49ac-bc82-982be7eff36a.htseq.counts.gz    19369 non-null int64\n",
      "2a6ae2e8-733f-4349-8eec-d25e2b4abf86.htseq.counts.gz    19369 non-null int64\n",
      "dtypes: int64(36)\n",
      "memory usage: 5.5+ MB\n"
     ]
    }
   ],
   "source": [
    "df=pd.read_csv(\"mainTable.csv\", index_col=0, header=0)\n",
    "df.info()"
   ]
  },
  {
   "cell_type": "code",
   "execution_count": 14,
   "metadata": {},
   "outputs": [],
   "source": [
    "dey = pd.read_csv(\"http://stephenslab.github.io/count-clustering/project/utilities/gene_names_all_gtex.txt\", header=None)"
   ]
  },
  {
   "cell_type": "code",
   "execution_count": 31,
   "metadata": {},
   "outputs": [],
   "source": [
    "df=df.reindex(index=dey.values.ravel()[np.random.randint(0,len(dey), size=1000)])"
   ]
  },
  {
   "cell_type": "code",
   "execution_count": 32,
   "metadata": {},
   "outputs": [],
   "source": [
    "full_files = [c for c in df_files['file_name'].values if c in df.columns]"
   ]
  },
  {
   "cell_type": "code",
   "execution_count": 33,
   "metadata": {},
   "outputs": [],
   "source": [
    "df[full_files].fillna(0).astype(int).to_csv(\"mainTable.csv\")"
   ]
  },
  {
   "cell_type": "code",
   "execution_count": 34,
   "metadata": {},
   "outputs": [],
   "source": [
    "df_files[df_files['file_name'].isin(full_files)].set_index('file_name').to_csv(\"files.dat\")"
   ]
  },
  {
   "cell_type": "code",
   "execution_count": 26,
   "metadata": {},
   "outputs": [],
   "source": [
    "import numpy as np"
   ]
  },
  {
   "cell_type": "code",
   "execution_count": null,
   "metadata": {},
   "outputs": [],
   "source": []
  }
 ],
 "metadata": {
  "kernelspec": {
   "display_name": "Python 3",
   "language": "python",
   "name": "python3"
  }
 },
 "nbformat": 4,
 "nbformat_minor": 2
}

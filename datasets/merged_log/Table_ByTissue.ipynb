{
 "cells": [
  {
   "cell_type": "code",
   "execution_count": null,
   "metadata": {},
   "outputs": [],
   "source": [
    "import pandas as pd\n",
    "import numpy as np\n",
    "import os\n",
    "from matplotlib import pyplot as plt\n",
    "import scipy.stats as st\n",
    "from scipy.stats import binned_statistic"
   ]
  },
  {
   "cell_type": "code",
   "execution_count": null,
   "metadata": {},
   "outputs": [],
   "source": [
    "working_dir = \"/home/fvalle/phd/datasets/merged/\"\n",
    "os.chdir(working_dir)"
   ]
  },
  {
   "cell_type": "code",
   "execution_count": null,
   "metadata": {},
   "outputs": [],
   "source": [
    "normalisation_str='counts'"
   ]
  },
  {
   "cell_type": "code",
   "execution_count": null,
   "metadata": {},
   "outputs": [],
   "source": [
    "df_files = pd.read_csv(\"files.dat\", index_col=[0])\n",
    "df_files.head()"
   ]
  },
  {
   "cell_type": "code",
   "execution_count": null,
   "metadata": {},
   "outputs": [],
   "source": [
    "primaries = df_files['tissue'].unique()"
   ]
  },
  {
   "cell_type": "code",
   "execution_count": null,
   "metadata": {},
   "outputs": [],
   "source": [
    "np.sort(primaries)"
   ]
  },
  {
   "cell_type": "code",
   "execution_count": null,
   "metadata": {},
   "outputs": [],
   "source": [
    "# GTex\n",
    "df = pd.read_csv(\"mainTable.csv\", index_col=[0], header=0)\n",
    "df.head()"
   ]
  },
  {
   "cell_type": "markdown",
   "metadata": {},
   "source": [
    "## average tissues"
   ]
  },
  {
   "cell_type": "code",
   "execution_count": null,
   "metadata": {},
   "outputs": [],
   "source": [
    "df_tissue = pd.DataFrame(index=df.index)\n",
    "for tissue in primaries:\n",
    "    print(tissue)\n",
    "    df_tissue.insert(0,tissue,df.loc[:,df_files[df_files['tissue']==tissue].index.values].dropna().mean(axis=1))\n",
    "df_tissue.head()"
   ]
  },
  {
   "cell_type": "markdown",
   "metadata": {},
   "source": [
    "## integral"
   ]
  },
  {
   "cell_type": "code",
   "execution_count": null,
   "metadata": {},
   "outputs": [],
   "source": [
    "def get_integral_tissue(tissue):\n",
    "    x = np.sort(df_tissue.loc[:,tissue].fillna(0).values)[::-1]\n",
    "    norm = np.sum(x)\n",
    "    return np.cumsum(x/float(norm))"
   ]
  },
  {
   "cell_type": "code",
   "execution_count": null,
   "metadata": {},
   "outputs": [],
   "source": [
    "fig=plt.figure(figsize=(15,10))\n",
    "ax=fig.subplots()\n",
    "ax.set_title('%s sorted integral'%normalisation_str, fontsize=18)\n",
    "#for tissue in np.sort(primaries):\n",
    "for tissue in ['bladder-tcga.txt.gz','bladder-gtex.txt.gz','breast-gtex.txt.gz','breast-tcga.txt.gz','stomach-tcga.gz','stomach-gtex.txt.gz']:\n",
    "    print(tissue)\n",
    "    if 'gtex' in tissue:\n",
    "        c='b'\n",
    "    else:\n",
    "        c='r'\n",
    "    ax.plot(get_integral_tissue(tissue),label=tissue, lw=3)\n",
    "\n",
    "#blood = df.loc[:,samples[samples['secondary_site']=='Whole Blood'].index.values].values\n",
    "#ax.plot(np.cumsum(np.sort(blood)[::-1])/np.sum(blood), label='Whole Blood', lw=2)\n",
    "\n",
    "ax.set_xscale('log')\n",
    "ax.set_xlabel('Number of genes', fontsize=18)\n",
    "ax.set_ylabel('Fraction of total tissue expression', fontsize=18)\n",
    "ax.set_xlim((1,5e4))\n",
    "ax.set_yticks([0,0.25,0.5,0.75,1])\n",
    "ax.set_ylim(0,1)\n",
    "plt.legend(ncol=2, fontsize=16)\n",
    "plt.show()\n",
    "fig.savefig(\"fraction_of_trascriptome.pdf\")"
   ]
  },
  {
   "cell_type": "code",
   "execution_count": null,
   "metadata": {},
   "outputs": [],
   "source": [
    "for g in df_tissue['bladder-gtex.txt.gz'].sort_values(ascending=False).index[:10]:\n",
    "    print(g)"
   ]
  },
  {
   "cell_type": "markdown",
   "metadata": {},
   "source": [
    "## Zipf & Heaps"
   ]
  },
  {
   "cell_type": "markdown",
   "metadata": {},
   "source": [
    "## Zipf"
   ]
  },
  {
   "cell_type": "code",
   "execution_count": null,
   "metadata": {},
   "outputs": [],
   "source": [
    "variable_tissues = ['thyroid-tcga.gz','thyroid-gtex.txt.gz','breast-gtex.txt.gz','breast-tcga.txt.gz']"
   ]
  },
  {
   "cell_type": "code",
   "execution_count": null,
   "metadata": {},
   "outputs": [],
   "source": [
    "df_tissue.columns"
   ]
  },
  {
   "cell_type": "code",
   "execution_count": null,
   "metadata": {},
   "outputs": [],
   "source": [
    "def get_zipf_tissue(tissue):\n",
    "    '''\n",
    "    return array zipf\n",
    "    '''\n",
    "    A = np.sort(df_tissue.loc[:,tissue].dropna().values)[::-1]\n",
    "    A /= np.sum(A)\n",
    "    return A"
   ]
  },
  {
   "cell_type": "code",
   "execution_count": null,
   "metadata": {},
   "outputs": [],
   "source": [
    "fig = plt.figure(figsize=(15,7))\n",
    "for tissue in variable_tissues:\n",
    "    plt.plot(get_zipf_tissue(tissue), lw=2, ls='-', label=tissue)\n",
    "plt.plot(np.arange(1,2e4), 1./np.arange(1,2e4), 'g--', label='$r^-1$')\n",
    "plt.yscale('log')\n",
    "plt.xscale('log')\n",
    "plt.xlabel('rank_i', fontsize=16)\n",
    "plt.ylabel('$f_i$', fontsize=16)\n",
    "plt.xlim(1,2e4)\n",
    "plt.ylim(2e-8,1e0)\n",
    "plt.legend(ncol=4, fontsize=12)\n",
    "plt.show()\n",
    "fig.savefig(\"Zipf_tissue.pdf\")"
   ]
  },
  {
   "cell_type": "markdown",
   "metadata": {},
   "source": [
    "## Heaps"
   ]
  },
  {
   "cell_type": "code",
   "execution_count": null,
   "metadata": {},
   "outputs": [],
   "source": [
    "def get_heaps_tissue(tissue):\n",
    "    subdf = df.loc[:,samples[samples['secondary_site'].isin(get_specific_mapping_to(tissue))].index.values]\n",
    "    M = subdf.apply(lambda x: np.sum(x), axis=0).values\n",
    "    ndw = subdf.apply(lambda x: len(np.nonzero(x)[0]), axis=0).values\n",
    "    return M, ndw    "
   ]
  },
  {
   "cell_type": "code",
   "execution_count": null,
   "metadata": {},
   "outputs": [],
   "source": [
    "fig = plt.figure(figsize=(15,7))\n",
    "for tissue in variable_tissues:\n",
    "    heaps = get_heaps_tissue(tissue)\n",
    "    plt.scatter(heaps[0], heaps[1],  label=tissue)\n",
    "plt.xlabel('Sample size', fontsize=16)\n",
    "plt.ylabel('# of genes expressed', fontsize=16)\n",
    "plt.legend(ncol=4, fontsize=12)\n",
    "plt.show()\n",
    "fig.savefig(\"Heaps_tissue.pdf\")"
   ]
  },
  {
   "cell_type": "markdown",
   "metadata": {},
   "source": [
    "## global"
   ]
  },
  {
   "cell_type": "code",
   "execution_count": null,
   "metadata": {},
   "outputs": [],
   "source": [
    "fig=plt.figure(figsize=(25,8))\n",
    "ax = fig.subplots(1,3)\n",
    "colors = (['darksalmon','lawngreen', 'lightskyblue','pink'],['r','g','b','m'])\n",
    "variable_tissues = ['Heart','Brain','Nerve', 'Blood']\n",
    "for i,tissue in enumerate(variable_tissues):\n",
    "    ax[0].plot(get_integral_tissue(tissue), label=tissue, color=colors[0][i])\n",
    "    ax[1].plot(get_zipf_tissue(tissue), label=tissue,color=colors[0][i])\n",
    "    heaps = get_heaps_tissue(tissue)\n",
    "    ax[2].scatter(heaps[0],heaps[1], label=tissue, c=colors[0][i], alpha=0.2)\n",
    "    bin_means, bin_edges, _ = binned_statistic(heaps[0], heaps[1], bins = np.linspace(0.2e8,1.5e8))\n",
    "    #bin_means, bin_edges, _ = binned_statistic(heaps[0], heaps[1], bins = np.linspace(8.6e5,9.8e5,8))\n",
    "    ax[2].scatter((bin_edges[:-1]+bin_edges[1:])/2., bin_means, marker='x', c=colors[1][i], label='binned[%s]'%tissue)\n",
    "    \n",
    "ax[1].plot(np.arange(1,1e4), 1./np.arange(1,1e4), 'g--', label='$r^-1$')\n",
    "ax[0].set_xscale('log')\n",
    "ax[1].set_xscale('log')\n",
    "ax[1].set_yscale('log')\n",
    "ax[0].legend(fontsize=16)\n",
    "ax[1].legend(fontsize=16)\n",
    "ax[2].legend(fontsize=16)\n",
    "ax[0].set_xlabel('Number of genes', fontsize=16)\n",
    "ax[0].set_ylabel('Fraction of total tissue expression', fontsize=16)\n",
    "ax[1].set_xlabel('rank_i', fontsize=16)\n",
    "ax[1].set_ylabel('$f_i$', fontsize=16)\n",
    "ax[2].set_xlabel('Sample size', fontsize=16)\n",
    "ax[2].set_ylabel('# of genes expressed', fontsize=16)\n",
    "ax[2].set_xlim(0.05e8,1.5e8)\n",
    "ax[1].set_ylim(1e-6,1)\n",
    "plt.show()\n",
    "fig.savefig(\"zipfheaps_tissue.pdf\")"
   ]
  },
  {
   "cell_type": "code",
   "execution_count": null,
   "metadata": {},
   "outputs": [],
   "source": []
  },
  {
   "cell_type": "markdown",
   "metadata": {},
   "source": [
    "# lenght"
   ]
  },
  {
   "cell_type": "code",
   "execution_count": null,
   "metadata": {},
   "outputs": [],
   "source": [
    "q_many = pd.read_csv(\"genes.txt\", index_col=[0], header=[0])\n",
    "q_many = q_many[q_many['type_of_gene']=='protein-coding']\n",
    "lenghts = q_many['lenght']"
   ]
  },
  {
   "cell_type": "code",
   "execution_count": null,
   "metadata": {},
   "outputs": [],
   "source": [
    "#from scipy.stats import binned_statistic\n",
    "fig=plt.figure(figsize=(15,7))\n",
    "bins_for_l = np.logspace(1,8,40)\n",
    "for tissue in primaries:\n",
    "    bin_means, bin_edges, _ = binned_statistic(lenghts, df_tissue.loc[:,tissue], statistic='mean', bins=bins_for_l)\n",
    "    #plt.scatter(lenghts,df_tissue.loc[:,tissue])\n",
    "    plt.scatter((bin_edges[1:]+bin_edges[:-1])/2,bin_means, marker='x',label=tissue)\n",
    "    plt.yscale('log')\n",
    "    plt.xscale('log')\n",
    "plt.xlabel('lenght (bp)', fontsize=16)\n",
    "plt.ylabel('mean (counts)', fontsize=16)\n",
    "plt.xlim((lenghts.min(),lenghts.max()))\n",
    "plt.ylim((1e-3,1e5))\n",
    "plt.legend(ncol=2)\n",
    "plt.show()\n",
    "fig.savefig(\"meanLenght_tissue.pdf\")"
   ]
  },
  {
   "cell_type": "code",
   "execution_count": null,
   "metadata": {},
   "outputs": [],
   "source": []
  },
  {
   "cell_type": "code",
   "execution_count": null,
   "metadata": {},
   "outputs": [],
   "source": []
  },
  {
   "cell_type": "markdown",
   "metadata": {},
   "source": [
    "## inter intra"
   ]
  },
  {
   "cell_type": "code",
   "execution_count": null,
   "metadata": {},
   "outputs": [],
   "source": [
    "inter_vars = df_tissue.apply(np.var, axis=1).values\n",
    "inter_means = df_tissue.apply(np.average, axis=1).values"
   ]
  },
  {
   "cell_type": "code",
   "execution_count": null,
   "metadata": {},
   "outputs": [],
   "source": [
    "inter_cv2s = [inter_vars[i]/(m*m) if m>0 else 0 for i,m in enumerate(inter_means)]"
   ]
  },
  {
   "cell_type": "code",
   "execution_count": null,
   "metadata": {},
   "outputs": [],
   "source": [
    "fig=plt.figure(figsize=(15,4))\n",
    "plt.scatter(inter_means, inter_cv2s, c='b')\n",
    "plt.plot(x_lin[:30],1./x_lin[:30], 'g-', lw=3.5, label='Poisson')\n",
    "plt.plot(x_lin[-30:],[1 for _ in x_lin[-30:]], 'r-', lw=3.5, label='Taylor')\n",
    "plt.plot(x_lin,[len(df_tissue.columns)-1 for _ in x_lin], '--', lw=3.5, label='bound')\n",
    "\n",
    "bin_means, bin_edges,_=binned_statistic(inter_means, inter_cv2s, statistic='mean', bins=np.logspace(np.log10(np.min(inter_means[inter_means.nonzero()])),np.log10(np.max(inter_means))))\n",
    "\n",
    "plt.scatter((bin_edges[1:]+bin_edges[:-1])/2, bin_means, marker='x', lw=2, color='orange')\n",
    "\n",
    "plt.title('inter_tissue',fontsize=18)\n",
    "plt.xlabel(\"$<%s>$\"%normalisation_str, fontsize=16)\n",
    "plt.ylabel(\"$cv^2$\", fontsize=16)\n",
    "plt.xscale('log')\n",
    "plt.yscale('log')\n",
    "plt.xlim(means[means.nonzero()].min()/5,np.power(10,np.log10(means.max())+1))\n",
    "plt.ylim(variances[variances.nonzero()].min()/10,len(subdf.columns)*10)\n",
    "plt.legend(fontsize=16)\n",
    "plt.show()\n",
    "fig.savefig(\"cvmean_loglog_inter_tissue.png\")"
   ]
  },
  {
   "cell_type": "code",
   "execution_count": null,
   "metadata": {},
   "outputs": [],
   "source": [
    "bin_means, bin_edges, binnumber = binned_statistic(inter_means, inter_cv2s, statistic='mean', bins=np.logspace(np.log10(np.min(inter_means[inter_means.nonzero()])),np.log10(np.max(inter_means))))\n",
    "\n",
    "def get_inter_distance_from_mean(mean, cv2):\n",
    "    bin_i = 0\n",
    "    for i,_ in enumerate(bin_edges[:-1]):\n",
    "        if mean<bin_edges[i+1] and mean > bin_edges[i]:\n",
    "            bin_i = i\n",
    "            break\n",
    "    return(cv2-bin_means[bin_i])"
   ]
  },
  {
   "cell_type": "code",
   "execution_count": null,
   "metadata": {},
   "outputs": [],
   "source": [
    "subdf = df.loc[:,samples[samples['primary_site']==tissue].index.values]\n",
    "intra_means = subdf.apply(np.nanmean, axis=1).values\n",
    "intra_variance = subdf.apply(np.nanvar, axis=1).values\n",
    "intra_cv2 = [intra_variance[i]/(np.power(mean,2)) if mean>0 else 0 for i,mean in enumerate(intra_means) ]\n",
    "\n",
    "bin_means_intra, bin_edges_intra, _ = binned_statistic(intra_means, intra_cv2, statistic='mean', bins=np.logspace(np.log10(np.min(intra_means[intra_means.nonzero()])),np.log10(np.max(intra_means))))\n",
    "\n",
    "def get_intra_distance_from_mean(mean, cv2):\n",
    "    bin_i = 0\n",
    "    for i,_ in enumerate(bin_edges[:-1]):\n",
    "        if mean<bin_edges_intra[i+1] and mean > bin_edges_intra[i]:\n",
    "            bin_i = i\n",
    "            break\n",
    "    return(cv2-bin_means_intra[bin_i])"
   ]
  },
  {
   "cell_type": "code",
   "execution_count": null,
   "metadata": {},
   "outputs": [],
   "source": [
    "inter = []\n",
    "intra = []\n",
    "for i,g in enumerate(df_tissue.index.values):\n",
    "    inter.append(get_inter_distance_from_mean(inter_means[i],inter_cv2s[i]))\n",
    "    intra.append(get_intra_distance_from_mean(intra_means[i], intra_cv2[i]))\n",
    "intra=np.array(intra)\n",
    "inter=np.array(inter)"
   ]
  },
  {
   "cell_type": "code",
   "execution_count": null,
   "metadata": {},
   "outputs": [],
   "source": [
    "x = np.logspace(np.log10(5e-1),20)\n",
    "fig = plt.figure()\n",
    "plt.scatter(inter, intra, label=tissue)\n",
    "#plt.plot(x,x)\n",
    "#plt.plot(x,np.sqrt(x))\n",
    "plt.xlabel('inter_(tissue+individual)')\n",
    "plt.ylabel('intra_%s'%tissue)\n",
    "#plt.yscale('log')\n",
    "#plt.xscale('log')\n",
    "plt.ylim(-50,150)\n",
    "plt.xlim(-50,35)\n",
    "plt.show()\n",
    "fig.savefig(\"inter_intra_%s.png\"%tissue)"
   ]
  },
  {
   "cell_type": "code",
   "execution_count": null,
   "metadata": {},
   "outputs": [],
   "source": [
    "for i, inter_g in enumerate(inter):\n",
    "    if((np.abs(intra[i])<1) & (inter_g<10 and inter_g>8)):\n",
    "        print(df.index[i])"
   ]
  },
  {
   "cell_type": "code",
   "execution_count": null,
   "metadata": {},
   "outputs": [],
   "source": []
  },
  {
   "cell_type": "code",
   "execution_count": null,
   "metadata": {},
   "outputs": [],
   "source": []
  }
 ],
 "metadata": {
  "kernelspec": {
   "display_name": "Python 3",
   "language": "python",
   "name": "python3"
  },
  "language_info": {
   "codemirror_mode": {
    "name": "ipython",
    "version": 3
   },
   "file_extension": ".py",
   "mimetype": "text/x-python",
   "name": "python",
   "nbconvert_exporter": "python",
   "pygments_lexer": "ipython3",
   "version": "3.6.9"
  }
 },
 "nbformat": 4,
 "nbformat_minor": 2
}

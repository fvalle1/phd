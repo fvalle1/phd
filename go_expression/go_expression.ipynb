{
 "cells": [
  {
   "cell_type": "code",
   "execution_count": 80,
   "id": "ambient-march",
   "metadata": {},
   "outputs": [
    {
     "name": "stdout",
     "output_type": "stream",
     "text": [
      "The autoreload extension is already loaded. To reload it, use:\n",
      "  %reload_ext autoreload\n"
     ]
    }
   ],
   "source": [
    "%load_ext autoreload\n",
    "%autoreload 2\n",
    "import pandas as pd\n",
    "import numpy as np\n",
    "from topicpy.geneontology import get_symbol\n",
    "import plotly.graph_objects as go\n",
    "import logging\n",
    "log = logging.getLogger(\"go_expression\")"
   ]
  },
  {
   "cell_type": "code",
   "execution_count": 48,
   "id": "light-checkout",
   "metadata": {},
   "outputs": [],
   "source": [
    "df_A = pd.read_csv(\"../mouse_Atlas/A_gtex.dat\", index_col = 0)"
   ]
  },
  {
   "cell_type": "code",
   "execution_count": null,
   "id": "technical-superior",
   "metadata": {},
   "outputs": [],
   "source": [
    "#GTEx\n",
    "df_generator = pd.read_csv('../GTEx_Analysis_2017-06-05_v8_RNASeQCv1.1.9_gene_tpm.gct', skiprows=2, sep='\\t', chunksize=1000)\n",
    "\n",
    "log.info(\"read generator\")\n",
    "\n",
    "A = pd.DataFrame(columns = [\"ensg\", \"abundance\"])\n",
    "\n",
    "log.info(\"first chunk OK\")\n",
    "\n",
    "for subdf in df_generator:\n",
    "    subdf['ensg'] = [x[:15] for x in subdf['Name']]\n",
    "    subdf.drop([\"Name\", \"Description\"], axis=1, inplace=True)\n",
    "    subdf[\"abundance\"] = subdf.sum(axis=1)\n",
    "    A = A.append(subdf.reindex(columns=[\"ensg\", \"abundance\"]))\n",
    "    log.debug(\"new chunk\")\n",
    "\n",
    "A.set_index(\"ensg\", inplace=True)\n",
    "    \n",
    "A.head(2)"
   ]
  },
  {
   "cell_type": "code",
   "execution_count": null,
   "id": "infrared-blocking",
   "metadata": {},
   "outputs": [],
   "source": [
    "df_go = pd.DataFrame()\n",
    "with open(\"../MSigDB/c5.all.v7.1.symbols.gmt\", \"r\") as gmt_file:\n",
    "    for line in gmt_file.read().split(\"\\n\"):\n",
    "        if len(line) < 1:\n",
    "            break\n",
    "        data = line.replace(\"\\n\",\"\").split(\"\\t\")\n",
    "        s = pd.Series(name = data[0], data = data[2:])\n",
    "        df_go.insert(0,s.name,s)\n",
    "df_go.head(2)"
   ]
  },
  {
   "cell_type": "code",
   "execution_count": null,
   "id": "reported-intake",
   "metadata": {},
   "outputs": [],
   "source": [
    "df_conversion = pd.read_csv(\"https://www.genenames.org/cgi-bin/download/custom?col=gd_hgnc_id&col=gd_app_sym&col=gd_pub_refseq_ids&col=gd_pub_ensembl_id&col=md_eg_id&col=md_ensembl_id&status=Approved&status=Entry%20Withdrawn&hgnc_dbtag=on&order_by=gd_app_sym_sort&format=text&submit=submit\", sep=\"\\t\")\n",
    "df_conversion.head(2)"
   ]
  },
  {
   "cell_type": "code",
   "execution_count": null,
   "id": "unusual-running",
   "metadata": {},
   "outputs": [],
   "source": [
    "A[\"Name\"] = list(map(get_symbol, A.index))\n",
    "A[\"frequency\"] = A[\"abundance\"]/A[\"abundance\"].sum()"
   ]
  },
  {
   "cell_type": "code",
   "execution_count": null,
   "id": "raised-alberta",
   "metadata": {},
   "outputs": [],
   "source": [
    "gos = df_go.columns"
   ]
  },
  {
   "cell_type": "code",
   "execution_count": null,
   "id": "naked-street",
   "metadata": {},
   "outputs": [],
   "source": [
    "def get_gene_abundances(genes: list)->np.array:\n",
    "    return A[A[\"Name\"].isin(genes)][\"frequency\"].values\n",
    "\n",
    "def get_genes_in_go(go:str)->list:\n",
    "    return df_go.loc[:,go].dropna()\n",
    "\n",
    "def get_average_expression(go:str, thr = 25)->float:\n",
    "    A = get_gene_abundances(get_genes_in_go(go))\n",
    "    if len(A) > thr:\n",
    "        return A.mean(), A.std()\n",
    "    else:\n",
    "        return np.nan\n",
    "    \n",
    "def get_expression(go:str, thr = 25)->float:\n",
    "    A = get_gene_abundances(get_genes_in_go(go))\n",
    "    if len(A) > thr:\n",
    "        return go, get_gene_abundances(get_genes_in_go(go))\n",
    "    else:\n",
    "        return None\n",
    "    \n",
    "def get_box(name:str, data: np.array)->go.Box:\n",
    "    return go.Box(y=data, name=name)"
   ]
  },
  {
   "cell_type": "code",
   "execution_count": null,
   "id": "earlier-liberal",
   "metadata": {},
   "outputs": [],
   "source": [
    "boxes = list(map(lambda nameddata: get_box(*nameddata), filter(lambda x: x is not None, map(get_expression,gos))))"
   ]
  },
  {
   "cell_type": "code",
   "execution_count": null,
   "id": "encouraging-formation",
   "metadata": {},
   "outputs": [],
   "source": [
    "fig = go.Figure()\n",
    "\n",
    "fig.add_traces(boxes)\n",
    "\n",
    "layout = {\n",
    "    \"yaxis\":{\n",
    "        \"title\": \"frequency\",\n",
    "        \"titlefont\":{\n",
    "            \"size\": 20\n",
    "        },\n",
    "        \"type\": \"log\",\n",
    "        \"exponentformat\": \"e\"\n",
    "    },\n",
    "    \"xaxis\":{\n",
    "      \"tickfont\":{\n",
    "          \"size\": 10,\n",
    "      },\n",
    "        \"tickangle\": 85\n",
    "    },\n",
    "    \"showlegend\": False\n",
    "}\n",
    "\n",
    "fig.update_layout(layout)\n",
    "\n",
    "fig.show()"
   ]
  },
  {
   "cell_type": "code",
   "execution_count": null,
   "id": "minimal-consolidation",
   "metadata": {},
   "outputs": [],
   "source": []
  }
 ],
 "metadata": {
  "kernelspec": {
   "display_name": "Python 3",
   "language": "python",
   "name": "python3"
  },
  "language_info": {
   "codemirror_mode": {
    "name": "ipython",
    "version": 3
   },
   "file_extension": ".py",
   "mimetype": "text/x-python",
   "name": "python",
   "nbconvert_exporter": "python",
   "pygments_lexer": "ipython3",
   "version": "3.8.6"
  }
 },
 "nbformat": 4,
 "nbformat_minor": 5
}

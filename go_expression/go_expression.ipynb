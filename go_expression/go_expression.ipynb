{
 "cells": [
  {
   "cell_type": "code",
   "execution_count": null,
   "id": "expanded-remainder",
   "metadata": {},
   "outputs": [],
   "source": [
    "%load_ext autoreload\n",
    "%autoreload 2\n",
    "import pandas as pd\n",
    "import numpy as np\n",
    "from topicpy.geneontology import get_symbol\n",
    "import plotly.graph_objects as go\n",
    "import cloudpickle as pickle\n",
    "import multiprocessing as mp\n",
    "from time import time\n",
    "import logging\n",
    "log = logging.getLogger(\"go_expression\")"
   ]
  },
  {
   "cell_type": "code",
   "execution_count": null,
   "id": "northern-transfer",
   "metadata": {},
   "outputs": [],
   "source": [
    "with open(\"A.pkl\", \"rb\") as file:\n",
    "    A = pickle.load(file)\n",
    "A.head(2)"
   ]
  },
  {
   "cell_type": "code",
   "execution_count": null,
   "id": "parallel-maryland",
   "metadata": {},
   "outputs": [],
   "source": [
    "#GTEx\n",
    "df_generator = pd.read_csv('../GTEx_Analysis_2017-06-05_v8_RNASeQCv1.1.9_gene_tpm.gct', skiprows=2, sep='\\t', chunksize=1000)\n",
    "\n",
    "log.info(\"read generator\")\n",
    "\n",
    "A = pd.DataFrame(columns = [\"ensg\", \"abundance\"])\n",
    "\n",
    "for subdf in df_generator:\n",
    "    subdf['ensg'] = [x[:15] for x in subdf['Name']]\n",
    "    subdf.drop([\"Name\", \"Description\"], axis=1, inplace=True)\n",
    "    subdf[\"abundance\"] = subdf.sum(axis=1)\n",
    "    A = A.append(subdf.reindex(columns=[\"ensg\", \"abundance\"]))\n",
    "    log.debug(\"new chunk\")\n",
    "\n",
    "A.set_index(\"ensg\", inplace=True)\n",
    "  \n",
    "A[\"Name\"] = list(map(get_symbol, A.index))\n",
    "A[\"frequency\"] = A[\"abundance\"]/A[\"abundance\"].sum()\n",
    "    \n",
    "with open(\"A.pkl\", \"wb\") as file:\n",
    "    pickle.dump(A, file)\n",
    "    \n",
    "A.head(2)"
   ]
  },
  {
   "cell_type": "code",
   "execution_count": null,
   "id": "ideal-remove",
   "metadata": {},
   "outputs": [],
   "source": [
    "df_go = pd.DataFrame()\n",
    "with open(\"../MSigDB/c5.all.v7.1.symbols.gmt\", \"r\") as gmt_file:\n",
    "    for line in gmt_file.read().split(\"\\n\"):\n",
    "        if len(line) < 1:\n",
    "            break\n",
    "        data = line.replace(\"\\n\",\"\").split(\"\\t\")\n",
    "        s = pd.Series(name = data[0], data = data[2:])\n",
    "        df_go.insert(0,s.name,s)\n",
    "df_go.head(2)"
   ]
  },
  {
   "cell_type": "code",
   "execution_count": null,
   "id": "curious-virginia",
   "metadata": {},
   "outputs": [],
   "source": [
    "df_conversion = pd.read_csv(\"https://www.genenames.org/cgi-bin/download/custom?col=gd_hgnc_id&col=gd_app_sym&col=gd_pub_refseq_ids&col=gd_pub_ensembl_id&col=md_eg_id&col=md_ensembl_id&status=Approved&status=Entry%20Withdrawn&hgnc_dbtag=on&order_by=gd_app_sym_sort&format=text&submit=submit\", sep=\"\\t\")\n",
    "df_conversion.head(2)"
   ]
  },
  {
   "cell_type": "code",
   "execution_count": null,
   "id": "together-engineer",
   "metadata": {},
   "outputs": [],
   "source": [
    "gos = df_go.columns"
   ]
  },
  {
   "cell_type": "code",
   "execution_count": null,
   "id": "retired-luxury",
   "metadata": {},
   "outputs": [],
   "source": [
    "def get_gene_abundances(genes: list)->np.array:\n",
    "    return A[A[\"Name\"].isin(genes)][\"frequency\"].values\n",
    "\n",
    "def get_genes_in_go(go:str)->list:\n",
    "    return df_go.loc[:,go].dropna()\n",
    "\n",
    "def get_average_expression(go:str, thr = 40)->float:\n",
    "    A = get_gene_abundances(get_genes_in_o(go))\n",
    "    if len(A) > thr:\n",
    "        return A.mean(), A.std()\n",
    "    else:\n",
    "        return np.nan\n",
    "    \n",
    "def get_expression(go:str, thr = 40)->float:\n",
    "    A = get_gene_abundances(get_genes_in_go(go))\n",
    "    if len(A) > thr:\n",
    "        return get_gene_abundances(get_genes_in_go(go))\n",
    "    else:\n",
    "        return None    \n",
    "\n",
    "def get_named_expression(go:str, thr = 40)->float:\n",
    "    A = get_gene_abundances(get_genes_in_go(go))\n",
    "    if len(A) > thr:\n",
    "        return go, get_gene_abundances(get_genes_in_go(go))\n",
    "    else:\n",
    "        return None\n",
    "    \n",
    "def get_box(name:str, data: np.array)->go.Box:\n",
    "    return go.Box(y=data, name=\" \".join(name.split(\"_\")[:3])+\"<br>\"+\" \".join(name.split(\"_\")[3:6]))\n",
    "\n",
    "def get_nullable_box(data)->go.Box:\n",
    "    if data is not None:\n",
    "        return get_box(*data)\n",
    "    else:\n",
    "        return None\n",
    "    \n",
    "def get_nullable_box_from_go(go:str)->go.Box:\n",
    "    return get_nullable_box(get_named_expression(go))"
   ]
  },
  {
   "cell_type": "code",
   "execution_count": null,
   "id": "informed-ceremony",
   "metadata": {},
   "outputs": [],
   "source": [
    "start = time()\n",
    "\n",
    "gos_A=[]\n",
    "gos_names=[]\n",
    "boxes = []\n",
    "\n",
    "def append_go_data(nameddata):\n",
    "    global gos_A\n",
    "    global gos_names\n",
    "    global boxes\n",
    "    if nameddata is not None:\n",
    "        gos_A.append(nameddata[1])\n",
    "        gos_names.append(nameddata[0])\n",
    "        boxes.append(get_box(*nameddata))\n",
    "\n",
    "pool = mp.Pool(12)\n",
    "work = [pool.apply_async(get_named_expression, args=([go]), callback=append_go_data) for go in gos]\n",
    "pool.close()\n",
    "\n",
    "print(time()-start)"
   ]
  },
  {
   "cell_type": "code",
   "execution_count": null,
   "id": "handed-macintosh",
   "metadata": {},
   "outputs": [],
   "source": [
    "#mask = np.random.choice(range(len(boxes)), 20)\n",
    "mask = np.argsort(np.array(list(map(np.std,gos_A))))[::-150]\n",
    "sorted_mask = np.argsort(np.array(list(map(np.average,gos_A)))[mask])[::-1]\n",
    "np.array(list(map(np.average,gos_A)))[mask][sorted_mask]"
   ]
  },
  {
   "cell_type": "code",
   "execution_count": null,
   "id": "guided-confusion",
   "metadata": {},
   "outputs": [],
   "source": [
    "traces = [x for x in np.array(boxes, dtype=object)[mask][sorted_mask]]"
   ]
  },
  {
   "cell_type": "code",
   "execution_count": null,
   "id": "superb-knitting",
   "metadata": {},
   "outputs": [],
   "source": [
    "fig = go.Figure()\n",
    "\n",
    "fig.add_traces(traces)\n",
    "\n",
    "layout = {\n",
    "    \"yaxis\":{\n",
    "        \"title\": \"frequency\",\n",
    "        \"titlefont\":{\n",
    "            \"size\": 20\n",
    "        },\n",
    "        \"type\": \"log\",\n",
    "        \"exponentformat\": \"e\"\n",
    "    },\n",
    "    \"xaxis\":{\n",
    "      \"tickfont\":{\n",
    "          \"size\": 10,\n",
    "      },\n",
    "        \"tickangle\": 85\n",
    "    },\n",
    "    \"showlegend\": False\n",
    "}\n",
    "\n",
    "fig.update_layout(layout)\n",
    "\n",
    "fig.show()\n",
    "#fig.write_image(\"go_plot.pdf\")"
   ]
  },
  {
   "cell_type": "code",
   "execution_count": null,
   "id": "taken-trademark",
   "metadata": {},
   "outputs": [],
   "source": [
    "def get_rank_plot(data):\n",
    "    name, X = data\n",
    "    return go.Scatter(x = np.linspace(1, len(X), len(X)), y=np.sort(data[1])[::-1]/sum(x), name=\" \".join(name.split(\"_\")[:3])+\"<br>\"+\" \".join(name.split(\"_\")[3:6]))"
   ]
  },
  {
   "cell_type": "code",
   "execution_count": null,
   "id": "common-converter",
   "metadata": {},
   "outputs": [],
   "source": [
    "x = np.linspace(1,50)\n",
    "traces = list(map(get_rank_plot, zip(np.array(gos_names)[mask],np.array(gos_A, dtype=object)[mask])))"
   ]
  },
  {
   "cell_type": "code",
   "execution_count": null,
   "id": "voluntary-surfing",
   "metadata": {},
   "outputs": [],
   "source": [
    "fig = go.Figure()\n",
    "\n",
    "fig.add_traces(traces)\n",
    "fig.add_trace(go.Scatter(x=x, y= 1e-6/x, mode=\"lines\", line={\"color\":\"gray\",\"width\": 10, \"dash\":\"dash\"}))\n",
    "\n",
    "layout = {\n",
    "    \"yaxis\":{\n",
    "        \"title\": \"frequency\",\n",
    "        \"titlefont\":{\n",
    "            \"size\": 20\n",
    "        },\n",
    "        \"type\": \"log\",\n",
    "        \"exponentformat\": \"e\"\n",
    "    },\n",
    "    \"xaxis\":{\n",
    "         \"type\": \"log\",\n",
    "      \"tickfont\":{\n",
    "          \"size\": 10,\n",
    "      },\n",
    "        \"tickangle\": 85\n",
    "    },\n",
    "    \"showlegend\": True\n",
    "}\n",
    "\n",
    "fig.update_layout(layout)\n",
    "\n",
    "fig.show()\n",
    "#fig.write_image(\"P_g_go.pdf\")"
   ]
  },
  {
   "cell_type": "code",
   "execution_count": null,
   "id": "opposite-israel",
   "metadata": {},
   "outputs": [],
   "source": [
    "x = np.array(list(map(np.median, gos_A)))\n",
    "y = np.array(list(map(np.std, gos_A)))\n",
    "y_min = np.array(list(map(lambda x: np.quantile(x,0.25), gos_A)))\n",
    "y_max = np.array(list(map(lambda x: np.quantile(x,0.75), gos_A)))"
   ]
  },
  {
   "cell_type": "code",
   "execution_count": null,
   "id": "appointed-sherman",
   "metadata": {},
   "outputs": [],
   "source": [
    "fig = go.Figure()\n",
    "\n",
    "mask = np.argsort(x)[::-1]\n",
    "\n",
    "error_y = {\n",
    "    \"type\":\"data\",\n",
    "    \"symmetric\":False,\n",
    "    \"array\": y_max[mask]-x[mask],\n",
    "    \"arrayminus\": x[mask]-y_min[mask]\n",
    "}\n",
    "\n",
    "#error_y = {\n",
    "#    \"type\":\"data\",\n",
    "#    \"symmetric\":True,\n",
    "#    \"array\": y[mask]\n",
    "#}\n",
    "\n",
    "fig.add_trace(\n",
    "    go.Scatter(x=np.linspace(1,1+len(x), len(x)), y=x[mask], mode = \"markers\", text=gos_names, error_y=error_y)\n",
    ")\n",
    "\n",
    "layout = {\n",
    "    \"xaxis\":{\n",
    "        \"title\": \"rank\",\n",
    "        \"titlefont\":{\n",
    "            \"size\": 20\n",
    "        },\n",
    "        \"type\": \"log\",\n",
    "        \"exponentformat\": \"e\"\n",
    "    },\n",
    "    \"yaxis\":{\n",
    "        \"title\": \"<frequency>\",\n",
    "         \"titlefont\":{\n",
    "            \"size\": 20\n",
    "        },\n",
    "        \"type\": \"log\",\n",
    "        \"exponentformat\": \"e\"\n",
    "    },\n",
    "    \"showlegend\": False\n",
    "}\n",
    "\n",
    "fig.update_layout(layout)\n",
    "\n",
    "fig.show()"
   ]
  },
  {
   "cell_type": "code",
   "execution_count": null,
   "id": "advised-family",
   "metadata": {},
   "outputs": [],
   "source": []
  }
 ],
 "metadata": {
  "kernelspec": {
   "display_name": "Python 3",
   "language": "python",
   "name": "python3"
  },
  "language_info": {
   "codemirror_mode": {
    "name": "ipython",
    "version": 3
   },
   "file_extension": ".py",
   "mimetype": "text/x-python",
   "name": "python",
   "nbconvert_exporter": "python",
   "pygments_lexer": "ipython3",
   "version": "3.8.6"
  }
 },
 "nbformat": 4,
 "nbformat_minor": 5
}

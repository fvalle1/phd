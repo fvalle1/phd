{
 "cells": [
  {
   "cell_type": "code",
   "execution_count": 2,
   "metadata": {
    "scrolled": true
   },
   "outputs": [
    {
     "name": "stderr",
     "output_type": "stream",
     "text": [
      "Using TensorFlow backend.\n"
     ]
    }
   ],
   "source": [
    "from keras.models import Sequential\n",
    "from keras.layers import Dense\n",
    "from keras.losses import binary_crossentropy,mean_squared_error, categorical_crossentropy\n",
    "from keras.optimizers import SGD, adam\n",
    "from keras.datasets import mnist\n",
    "from keras.utils import plot_model,to_categorical\n",
    "from keras.callbacks import Callback\n",
    "from keras.models import load_model\n",
    "from keras import backend as K\n",
    "import tensorflow as tf\n",
    "from tensorflow.python.framework.graph_util import convert_variables_to_constants\n",
    "import matplotlib.pyplot as plt\n",
    "from sklearn.model_selection import train_test_split\n",
    "import numpy as np\n",
    "import pandas as pd"
   ]
  },
  {
   "cell_type": "code",
   "execution_count": 42,
   "metadata": {},
   "outputs": [],
   "source": [
    "def get_name(partial):\n",
    "    for i in df_labels.index:\n",
    "        if partial in i:\n",
    "            return i"
   ]
  },
  {
   "cell_type": "code",
   "execution_count": 47,
   "metadata": {},
   "outputs": [],
   "source": [
    "df = pd.read_csv(\"/home/fvalle/phd/datasets/tcga/oversampling_10tissue/topsbm/topsbm_level_2_topic-dist.csv\", index_col=1).drop('i_doc', axis=1).dropna(how='any', axis=0)\n",
    "df_labels=pd.read_csv(\"/home/fvalle/phd/datasets/tcga/oversampling_10tissue/files.dat\", index_col=0).dropna(how='any', axis=0)\n",
    "#df=df.reindex(index=df_labels.index)\n",
    "df.index=[get_name(name) for name in df.index]"
   ]
  },
  {
   "cell_type": "code",
   "execution_count": 49,
   "metadata": {},
   "outputs": [],
   "source": [
    "df_labels=df_labels.reindex(df.index).fillna(0)"
   ]
  },
  {
   "cell_type": "code",
   "execution_count": 50,
   "metadata": {},
   "outputs": [],
   "source": [
    "uniq = len(df_labels['primary_site'].unique())\n",
    "inputs = df.shape[1]"
   ]
  },
  {
   "cell_type": "code",
   "execution_count": 61,
   "metadata": {},
   "outputs": [],
   "source": [
    "X_train, X_test, Y_train, Y_test = train_test_split(df.values, to_categorical(np.unique(df_labels['primary_site'], return_inverse=True)[1]), test_size=0.2)"
   ]
  },
  {
   "cell_type": "code",
   "execution_count": 62,
   "metadata": {},
   "outputs": [],
   "source": [
    "def auc(y_true, y_pred):\n",
    "    auc = tf.metrics.auc(y_true, y_pred)[1]\n",
    "    K.get_session().run(tf.local_variables_initializer())\n",
    "    return auc"
   ]
  },
  {
   "cell_type": "code",
   "execution_count": 74,
   "metadata": {},
   "outputs": [],
   "source": [
    "K.clear_session()\n",
    "model=Sequential()\n",
    "#model.add(Dense(units=9, input_dim=inputs, use_bias=True, bias_initializer='ones', activation=\"relu\"))\n",
    "model.add(Dense(units=uniq, input_dim=inputs, activation=\"softmax\"))\n",
    "model.compile(loss=categorical_crossentropy, optimizer=adam(lr=0.9), metrics=['accuracy', auc])\n",
    "plot_model(model, show_shapes=True)"
   ]
  },
  {
   "cell_type": "code",
   "execution_count": 75,
   "metadata": {},
   "outputs": [
    {
     "name": "stdout",
     "output_type": "stream",
     "text": [
      "_________________________________________________________________\n",
      "Layer (type)                 Output Shape              Param #   \n",
      "=================================================================\n",
      "dense_1 (Dense)              (None, 13)                23933     \n",
      "=================================================================\n",
      "Total params: 23,933\n",
      "Trainable params: 23,933\n",
      "Non-trainable params: 0\n",
      "_________________________________________________________________\n"
     ]
    }
   ],
   "source": [
    "model.summary()"
   ]
  },
  {
   "cell_type": "code",
   "execution_count": 76,
   "metadata": {},
   "outputs": [],
   "source": [
    "K.set_learning_phase(0)\n",
    "#model.save(\"model.h5\")\n",
    "#model=load_model(\"model.h5\")"
   ]
  },
  {
   "cell_type": "code",
   "execution_count": 77,
   "metadata": {},
   "outputs": [],
   "source": [
    "def freeze_session(session, keep_var_names=None, output_names=None, clear_devices=True):\n",
    "    graph = session.graph\n",
    "    with graph.as_default():\n",
    "        freeze_var_names = list(set(v.op.name for v in\n",
    "                                  tf.global_variables()).difference(keep_var_names or []))\n",
    "        output_names = output_names or []\n",
    "        output_names += [v.op.name for v in tf.global_variables()]\n",
    "        input_graph_def = graph.as_graph_def()\n",
    "        if clear_devices:\n",
    "            for node in input_graph_def.node:\n",
    "                node.device = \"\"\n",
    "        frozen_graph = convert_variables_to_constants(session, input_graph_def,\n",
    "                                                          output_names, freeze_var_names)\n",
    "    return frozen_graph"
   ]
  },
  {
   "cell_type": "code",
   "execution_count": 78,
   "metadata": {
    "scrolled": true
   },
   "outputs": [
    {
     "name": "stdout",
     "output_type": "stream",
     "text": [
      "Train on 475 samples, validate on 159 samples\n",
      "Epoch 1/50\n",
      "475/475 [==============================] - 0s 824us/step - loss: 2.3648 - acc: 0.1642 - auc: 0.6252 - val_loss: 2.2252 - val_acc: 0.4025 - val_auc: 0.7042\n",
      "Epoch 2/50\n",
      "475/475 [==============================] - 0s 100us/step - loss: 1.6829 - acc: 0.5874 - auc: 0.7606 - val_loss: 1.6625 - val_acc: 0.7421 - val_auc: 0.8134\n",
      "Epoch 3/50\n",
      "475/475 [==============================] - 0s 74us/step - loss: 1.1649 - acc: 0.9032 - auc: 0.8521 - val_loss: 1.3257 - val_acc: 0.8113 - val_auc: 0.8800\n",
      "Epoch 4/50\n",
      "475/475 [==============================] - 0s 105us/step - loss: 0.8705 - acc: 0.9305 - auc: 0.8999 - val_loss: 1.0916 - val_acc: 0.8994 - val_auc: 0.9152\n",
      "Epoch 5/50\n",
      "475/475 [==============================] - 0s 71us/step - loss: 0.6928 - acc: 0.9389 - auc: 0.9267 - val_loss: 0.9150 - val_acc: 0.8994 - val_auc: 0.9358\n",
      "Epoch 6/50\n",
      "475/475 [==============================] - 0s 87us/step - loss: 0.5465 - acc: 0.9684 - auc: 0.9431 - val_loss: 0.7729 - val_acc: 0.9308 - val_auc: 0.9493\n",
      "Epoch 7/50\n",
      "475/475 [==============================] - 0s 66us/step - loss: 0.4362 - acc: 0.9663 - auc: 0.9545 - val_loss: 0.6958 - val_acc: 0.9371 - val_auc: 0.9587\n",
      "Epoch 8/50\n",
      "475/475 [==============================] - 0s 104us/step - loss: 0.3764 - acc: 0.9663 - auc: 0.9623 - val_loss: 0.6661 - val_acc: 0.9497 - val_auc: 0.9653\n",
      "Epoch 9/50\n",
      "475/475 [==============================] - 0s 78us/step - loss: 0.3100 - acc: 0.9832 - auc: 0.9680 - val_loss: 0.5973 - val_acc: 0.9497 - val_auc: 0.9702\n",
      "Epoch 10/50\n",
      "475/475 [==============================] - 0s 93us/step - loss: 0.2725 - acc: 0.9832 - auc: 0.9724 - val_loss: 0.5857 - val_acc: 0.9371 - val_auc: 0.9741\n",
      "Epoch 11/50\n",
      "475/475 [==============================] - 0s 63us/step - loss: 0.2533 - acc: 0.9874 - auc: 0.9757 - val_loss: 0.5282 - val_acc: 0.9434 - val_auc: 0.9771\n",
      "Epoch 12/50\n",
      "475/475 [==============================] - 0s 90us/step - loss: 0.2034 - acc: 0.9895 - auc: 0.9785 - val_loss: 0.4974 - val_acc: 0.9686 - val_auc: 0.9795\n",
      "Epoch 13/50\n",
      "475/475 [==============================] - 0s 69us/step - loss: 0.1807 - acc: 0.9979 - auc: 0.9807 - val_loss: 0.4723 - val_acc: 0.9686 - val_auc: 0.9816\n",
      "Epoch 14/50\n",
      "475/475 [==============================] - 0s 106us/step - loss: 0.1639 - acc: 0.9937 - auc: 0.9825 - val_loss: 0.4838 - val_acc: 0.9434 - val_auc: 0.9832\n",
      "Epoch 15/50\n",
      "475/475 [==============================] - 0s 97us/step - loss: 0.1523 - acc: 0.9979 - auc: 0.9840 - val_loss: 0.4480 - val_acc: 0.9560 - val_auc: 0.9846\n",
      "Epoch 16/50\n",
      "475/475 [==============================] - 0s 63us/step - loss: 0.1433 - acc: 0.9958 - auc: 0.9852 - val_loss: 0.4319 - val_acc: 0.9497 - val_auc: 0.9858\n",
      "Epoch 17/50\n",
      "475/475 [==============================] - 0s 102us/step - loss: 0.1216 - acc: 0.9979 - auc: 0.9863 - val_loss: 0.4320 - val_acc: 0.9623 - val_auc: 0.9868\n",
      "Epoch 18/50\n",
      "475/475 [==============================] - 0s 90us/step - loss: 0.1123 - acc: 0.9979 - auc: 0.9873 - val_loss: 0.4198 - val_acc: 0.9497 - val_auc: 0.9877\n",
      "Epoch 19/50\n",
      "475/475 [==============================] - 0s 103us/step - loss: 0.1024 - acc: 0.9979 - auc: 0.9881 - val_loss: 0.4191 - val_acc: 0.9686 - val_auc: 0.9884\n",
      "Epoch 20/50\n",
      "475/475 [==============================] - 0s 88us/step - loss: 0.0965 - acc: 0.9979 - auc: 0.9888 - val_loss: 0.3883 - val_acc: 0.9686 - val_auc: 0.9891\n",
      "Epoch 21/50\n",
      "475/475 [==============================] - 0s 71us/step - loss: 0.0914 - acc: 0.9979 - auc: 0.9894 - val_loss: 0.4160 - val_acc: 0.9497 - val_auc: 0.9897\n",
      "Epoch 22/50\n",
      "475/475 [==============================] - 0s 90us/step - loss: 0.0878 - acc: 0.9979 - auc: 0.9900 - val_loss: 0.3898 - val_acc: 0.9686 - val_auc: 0.9902\n",
      "Epoch 23/50\n",
      "475/475 [==============================] - 0s 85us/step - loss: 0.0776 - acc: 0.9979 - auc: 0.9905 - val_loss: 0.3815 - val_acc: 0.9686 - val_auc: 0.9907\n",
      "Epoch 24/50\n",
      "475/475 [==============================] - 0s 73us/step - loss: 0.0727 - acc: 0.9979 - auc: 0.9909 - val_loss: 0.4009 - val_acc: 0.9623 - val_auc: 0.9911\n",
      "Epoch 25/50\n",
      "475/475 [==============================] - 0s 88us/step - loss: 0.0698 - acc: 0.9979 - auc: 0.9913 - val_loss: 0.3690 - val_acc: 0.9686 - val_auc: 0.9915\n",
      "Epoch 26/50\n",
      "475/475 [==============================] - 0s 78us/step - loss: 0.0654 - acc: 0.9979 - auc: 0.9917 - val_loss: 0.3899 - val_acc: 0.9686 - val_auc: 0.9918\n",
      "Epoch 27/50\n",
      "475/475 [==============================] - 0s 79us/step - loss: 0.0598 - acc: 1.0000 - auc: 0.9920 - val_loss: 0.3771 - val_acc: 0.9623 - val_auc: 0.9921\n",
      "Epoch 28/50\n",
      "475/475 [==============================] - 0s 96us/step - loss: 0.0560 - acc: 1.0000 - auc: 0.9923 - val_loss: 0.3572 - val_acc: 0.9686 - val_auc: 0.9924\n",
      "Epoch 29/50\n",
      "475/475 [==============================] - 0s 78us/step - loss: 0.0547 - acc: 1.0000 - auc: 0.9926 - val_loss: 0.3646 - val_acc: 0.9623 - val_auc: 0.9927\n",
      "Epoch 30/50\n",
      "475/475 [==============================] - 0s 85us/step - loss: 0.0518 - acc: 0.9979 - auc: 0.9928 - val_loss: 0.3623 - val_acc: 0.9686 - val_auc: 0.9929\n",
      "Epoch 31/50\n",
      "475/475 [==============================] - 0s 101us/step - loss: 0.0490 - acc: 1.0000 - auc: 0.9930 - val_loss: 0.3735 - val_acc: 0.9560 - val_auc: 0.9931\n",
      "Epoch 32/50\n",
      "475/475 [==============================] - 0s 97us/step - loss: 0.0481 - acc: 0.9979 - auc: 0.9932 - val_loss: 0.3575 - val_acc: 0.9686 - val_auc: 0.9933\n",
      "Epoch 33/50\n",
      "475/475 [==============================] - 0s 81us/step - loss: 0.0455 - acc: 0.9979 - auc: 0.9934 - val_loss: 0.3479 - val_acc: 0.9686 - val_auc: 0.9935\n",
      "Epoch 34/50\n",
      "475/475 [==============================] - 0s 108us/step - loss: 0.0424 - acc: 1.0000 - auc: 0.9936 - val_loss: 0.3515 - val_acc: 0.9686 - val_auc: 0.9937\n",
      "Epoch 35/50\n",
      "475/475 [==============================] - 0s 70us/step - loss: 0.0415 - acc: 0.9979 - auc: 0.9938 - val_loss: 0.3451 - val_acc: 0.9686 - val_auc: 0.9938\n",
      "Epoch 36/50\n",
      "475/475 [==============================] - 0s 98us/step - loss: 0.0383 - acc: 1.0000 - auc: 0.9939 - val_loss: 0.3548 - val_acc: 0.9686 - val_auc: 0.9940\n",
      "Epoch 37/50\n",
      "475/475 [==============================] - 0s 103us/step - loss: 0.0365 - acc: 1.0000 - auc: 0.9941 - val_loss: 0.3521 - val_acc: 0.9686 - val_auc: 0.9941\n",
      "Epoch 38/50\n",
      "475/475 [==============================] - 0s 96us/step - loss: 0.0376 - acc: 1.0000 - auc: 0.9942 - val_loss: 0.3412 - val_acc: 0.9686 - val_auc: 0.9942\n",
      "Epoch 39/50\n",
      "475/475 [==============================] - 0s 92us/step - loss: 0.0353 - acc: 0.9979 - auc: 0.9943 - val_loss: 0.3513 - val_acc: 0.9686 - val_auc: 0.9944\n",
      "Epoch 40/50\n",
      "475/475 [==============================] - 0s 77us/step - loss: 0.0337 - acc: 1.0000 - auc: 0.9944 - val_loss: 0.3370 - val_acc: 0.9686 - val_auc: 0.9945\n",
      "Epoch 41/50\n",
      "475/475 [==============================] - 0s 87us/step - loss: 0.0311 - acc: 1.0000 - auc: 0.9946 - val_loss: 0.3421 - val_acc: 0.9686 - val_auc: 0.9946\n",
      "Epoch 42/50\n",
      "475/475 [==============================] - 0s 83us/step - loss: 0.0306 - acc: 1.0000 - auc: 0.9947 - val_loss: 0.3408 - val_acc: 0.9686 - val_auc: 0.9947\n",
      "Epoch 43/50\n",
      "475/475 [==============================] - 0s 109us/step - loss: 0.0291 - acc: 1.0000 - auc: 0.9947 - val_loss: 0.3323 - val_acc: 0.9686 - val_auc: 0.9948\n",
      "Epoch 44/50\n",
      "475/475 [==============================] - 0s 78us/step - loss: 0.0289 - acc: 1.0000 - auc: 0.9948 - val_loss: 0.3295 - val_acc: 0.9686 - val_auc: 0.9948\n",
      "Epoch 45/50\n",
      "475/475 [==============================] - 0s 98us/step - loss: 0.0277 - acc: 1.0000 - auc: 0.9949 - val_loss: 0.3499 - val_acc: 0.9686 - val_auc: 0.9949\n",
      "Epoch 46/50\n",
      "475/475 [==============================] - 0s 91us/step - loss: 0.0258 - acc: 1.0000 - auc: 0.9950 - val_loss: 0.3242 - val_acc: 0.9686 - val_auc: 0.9950\n",
      "Epoch 47/50\n",
      "475/475 [==============================] - 0s 103us/step - loss: 0.0256 - acc: 1.0000 - auc: 0.9951 - val_loss: 0.3529 - val_acc: 0.9686 - val_auc: 0.9951\n",
      "Epoch 48/50\n",
      "475/475 [==============================] - 0s 79us/step - loss: 0.0248 - acc: 1.0000 - auc: 0.9951 - val_loss: 0.3241 - val_acc: 0.9686 - val_auc: 0.9952\n",
      "Epoch 49/50\n",
      "475/475 [==============================] - 0s 89us/step - loss: 0.0232 - acc: 1.0000 - auc: 0.9952 - val_loss: 0.3356 - val_acc: 0.9686 - val_auc: 0.9952\n",
      "Epoch 50/50\n"
     ]
    },
    {
     "name": "stdout",
     "output_type": "stream",
     "text": [
      " 32/475 [=>............................] - ETA: 0s - loss: 0.0255 - acc: 1.0000 - auc: 0.9952\b\b\b\b\b\b\b\b\b\b\b\b\b\b\b\b\b\b\b\b\b\b\b\b\b\b\b\b\b\b\b\b\b\b\b\b\b\b\b\b\b\b\b\b\b\b\b\b\b\b\b\b\b\b\b\b\b\b\b\b\b\b\b\b\b\b\b\b\b\b\b\b\b\b\b\b\b\b\b\b\b\b\b\b\b\b\b\b\b\b\b\b\b\r",
      "475/475 [==============================] - 0s 77us/step - loss: 0.0227 - acc: 1.0000 - auc: 0.9953 - val_loss: 0.3280 - val_acc: 0.9686 - val_auc: 0.9953\n"
     ]
    },
    {
     "data": {
      "text/plain": [
       "<keras.callbacks.History at 0x7f23406715f8>"
      ]
     },
     "execution_count": 78,
     "metadata": {},
     "output_type": "execute_result"
    }
   ],
   "source": [
    "model.fit(X_train, Y_train, epochs=50, verbose=1, validation_split=0.25)"
   ]
  },
  {
   "cell_type": "code",
   "execution_count": 82,
   "metadata": {},
   "outputs": [
    {
     "name": "stdout",
     "output_type": "stream",
     "text": [
      "159/159 [==============================] - 0s 61us/step\n"
     ]
    },
    {
     "data": {
      "text/plain": [
       "[0.1179296114722138, 0.9685534534964172, 0.9953180697729003]"
      ]
     },
     "execution_count": 82,
     "metadata": {},
     "output_type": "execute_result"
    }
   ],
   "source": [
    "model.evaluate(X_test, Y_test)"
   ]
  },
  {
   "cell_type": "code",
   "execution_count": 83,
   "metadata": {},
   "outputs": [],
   "source": [
    "frozen_graph = freeze_session(K.get_session(),output_names=[out.op.name for out in model.outputs])"
   ]
  },
  {
   "cell_type": "code",
   "execution_count": 84,
   "metadata": {},
   "outputs": [
    {
     "data": {
      "text/plain": [
       "'TF_model/tf_model.pb'"
      ]
     },
     "execution_count": 84,
     "metadata": {},
     "output_type": "execute_result"
    }
   ],
   "source": [
    "tf.train.write_graph(frozen_graph, \"TF_model/\", \"tf_model.pb\", as_text=False)"
   ]
  },
  {
   "cell_type": "markdown",
   "metadata": {},
   "source": [
    "## optimize\n",
    "```python mo_tf.py --data_type FP16 --input_model /Users/filippo/Developer/TF_model/tf_model.pb --input_shape \"[1,409]\" --model_name sequential_1 --input dense_1_input --output dense_1/Softmax```"
   ]
  },
  {
   "cell_type": "code",
   "execution_count": null,
   "metadata": {},
   "outputs": [],
   "source": [
    "pd.DataFrame(data=X_test).to_csv(\"input.txt\", index=False, header=False, sep='\\t')\n",
    "pd.DataFrame(data=Y_test.argmax(axis=1)).astype(int).to_csv(\"test.txt\", index=False, header=False, sep='\\t')"
   ]
  },
  {
   "cell_type": "code",
   "execution_count": null,
   "metadata": {},
   "outputs": [],
   "source": [
    "np.genfromtxt(\"test.txt\", dtype=int)"
   ]
  },
  {
   "cell_type": "code",
   "execution_count": null,
   "metadata": {},
   "outputs": [],
   "source": [
    "model.predict(X_test[:10]).argmax(axis=1)"
   ]
  },
  {
   "cell_type": "code",
   "execution_count": null,
   "metadata": {},
   "outputs": [],
   "source": [
    "Y_test.argmax(axis=1)[:10]"
   ]
  },
  {
   "cell_type": "code",
   "execution_count": null,
   "metadata": {},
   "outputs": [],
   "source": [
    "np.unique(df_labels['primary_site'])"
   ]
  },
  {
   "cell_type": "code",
   "execution_count": null,
   "metadata": {},
   "outputs": [],
   "source": [
    "X_test"
   ]
  },
  {
   "cell_type": "code",
   "execution_count": null,
   "metadata": {},
   "outputs": [],
   "source": []
  }
 ],
 "metadata": {
  "kernelspec": {
   "display_name": "Python 3",
   "language": "python",
   "name": "python3"
  },
  "language_info": {
   "codemirror_mode": {
    "name": "ipython",
    "version": 3
   },
   "file_extension": ".py",
   "mimetype": "text/x-python",
   "name": "python",
   "nbconvert_exporter": "python",
   "pygments_lexer": "ipython3",
   "version": "3.6.9"
  }
 },
 "nbformat": 4,
 "nbformat_minor": 2
}

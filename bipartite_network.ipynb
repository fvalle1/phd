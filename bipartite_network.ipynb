{
 "cells": [
  {
   "cell_type": "code",
   "execution_count": null,
   "metadata": {},
   "outputs": [],
   "source": [
    "%load_ext autoreload\n",
    "%autoreload 2\n",
    "import graph_tool as gt\n",
    "import sys\n",
    "sys.path.append(\"hSBM_Topicmodel\")\n",
    "from sbmtm import sbmtm\n",
    "import pandas as pd"
   ]
  },
  {
   "cell_type": "code",
   "execution_count": null,
   "metadata": {},
   "outputs": [],
   "source": [
    "model = sbmtm()"
   ]
  },
  {
   "cell_type": "code",
   "execution_count": null,
   "metadata": {},
   "outputs": [],
   "source": [
    "model.make_graph_from_BoW_df(\n",
    "    pd.DataFrame(data=[[1,1,1,1,1],\n",
    "                      [1,1,1,1,1],\n",
    "                      [1,1,1,0,0],\n",
    "                      [1,1,1,0,0],\n",
    "                      [0,0,0,1,1],\n",
    "                      [0,0,0,1,1]])\n",
    ")"
   ]
  },
  {
   "cell_type": "code",
   "execution_count": null,
   "metadata": {},
   "outputs": [],
   "source": [
    "model.load_graph(\"datasets/fake/graph.xml.gz\")"
   ]
  },
  {
   "cell_type": "code",
   "execution_count": null,
   "metadata": {},
   "outputs": [],
   "source": [
    "model.fit(B_min=2, B_max=5)"
   ]
  },
  {
   "cell_type": "code",
   "execution_count": null,
   "metadata": {},
   "outputs": [],
   "source": [
    "gt.draw.draw_hierarchy(\n",
    "    model.state,\n",
    "    output = \"bipartite_gt.svg\",\n",
    "    output_size=(100, 100),\n",
    "    layout=\"bipartite\",\n",
    "    deg_size=False,\n",
    "    hshortcuts=1,\n",
    "    subsample_edges=450\n",
    ")"
   ]
  },
  {
   "cell_type": "code",
   "execution_count": null,
   "metadata": {},
   "outputs": [],
   "source": []
  }
 ],
 "metadata": {
  "kernelspec": {
   "display_name": "Python 3",
   "language": "python",
   "name": "python3"
  },
  "language_info": {
   "codemirror_mode": {
    "name": "ipython",
    "version": 3
   },
   "file_extension": ".py",
   "mimetype": "text/x-python",
   "name": "python",
   "nbconvert_exporter": "python",
   "pygments_lexer": "ipython3",
   "version": "3.8.6"
  }
 },
 "nbformat": 4,
 "nbformat_minor": 4
}

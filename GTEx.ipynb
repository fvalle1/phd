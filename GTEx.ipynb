{
 "cells": [
  {
   "cell_type": "code",
   "execution_count": null,
   "id": "b8c24b55",
   "metadata": {},
   "outputs": [],
   "source": [
    "import pandas as pd\n",
    "import logging\n",
    "log = logging.getLogger()\n",
    "hdl = logging.StreamHandler()\n",
    "hdl.setFormatter(logging.Formatter(\"%(message)s\"))\n",
    "log.addHandler(hdl)\n",
    "log.setLevel(\"INFO\")"
   ]
  },
  {
   "cell_type": "code",
   "execution_count": null,
   "id": "19b027f1",
   "metadata": {},
   "outputs": [],
   "source": [
    "reader = pd.read_csv('https://storage.googleapis.com/gtex_analysis_v8/rna_seq_data/GTEx_Analysis_2017-06-05_v8_RNASeQCv1.1.9_gene_tpm.gct.gz', skiprows=2, sep='\\t', index_col=0, chunksize=1000)\n",
    "df_files=pd.read_csv(\"https://storage.googleapis.com/gtex_analysis_v8/annotations/GTEx_Analysis_v8_Annotations_SampleAttributesDS.txt\", sep='\\t', index_col=0)\n",
    "genes = pd.read_csv(\"http://stephenslab.github.io/count-clustering/project/utilities/gene_names_all_gtex.txt\", header=None).values.ravel()\n",
    "\n",
    "df=pd.DataFrame()\n",
    "\n",
    "for subdf in reader:\n",
    "    log.info(\"new subdf\")\n",
    "    subdf.index = [g[:15] for g in subdf.index] #remove ENSG subversion\n",
    "    subdf = subdf[subdf.index.isin(genes)]\n",
    "    subdf = subdf.reindex(index=subdf.index[subdf.index.isin(genes)],\n",
    "              columns = subdf.columns[subdf.columns.isin(df_files[df_files[\"SMTS\"]==\"Brain\"].index)]\n",
    "             )\n",
    "    df = df.append(subdf)"
   ]
  },
  {
   "cell_type": "code",
   "execution_count": null,
   "id": "10693aa5",
   "metadata": {},
   "outputs": [],
   "source": [
    "df.to_csv(\"mainTable.csv\", index=True, header=True)"
   ]
  },
  {
   "cell_type": "code",
   "execution_count": null,
   "id": "671be213",
   "metadata": {},
   "outputs": [],
   "source": [
    "df_files[df_files.index.isin(df.columns)].to_csv(\"files.dat\")"
   ]
  },
  {
   "cell_type": "code",
   "execution_count": null,
   "id": "e18d4635",
   "metadata": {},
   "outputs": [],
   "source": [
    "!rm -r mainTable.csv files.dat"
   ]
  },
  {
   "cell_type": "code",
   "execution_count": null,
   "id": "901378e6",
   "metadata": {},
   "outputs": [],
   "source": []
  }
 ],
 "metadata": {
  "kernelspec": {
   "display_name": "Python 3",
   "language": "python",
   "name": "python3"
  },
  "language_info": {
   "codemirror_mode": {
    "name": "ipython",
    "version": 3
   },
   "file_extension": ".py",
   "mimetype": "text/x-python",
   "name": "python",
   "nbconvert_exporter": "python",
   "pygments_lexer": "ipython3",
   "version": "3.8.8"
  }
 },
 "nbformat": 4,
 "nbformat_minor": 5
}

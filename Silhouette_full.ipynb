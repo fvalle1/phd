{
 "cells": [
  {
   "cell_type": "code",
   "execution_count": null,
   "metadata": {},
   "outputs": [],
   "source": [
    "import pandas as pd\n",
    "from sklearn.metrics.cluster import silhouette_score, silhouette_samples\n",
    "import numpy as np\n",
    "import matplotlib.pyplot as plt\n",
    "from matplotlib import cm\n",
    "from master_thesis.hsbmpy import colors_cycle"
   ]
  },
  {
   "cell_type": "code",
   "execution_count": null,
   "metadata": {},
   "outputs": [],
   "source": [
    "#GTEx\n",
    "df = pd.read_csv('https://storage.googleapis.com/gtex_analysis_v8/rna_seq_data/GTEx_Analysis_2017-06-05_v8_RNASeQCv1.1.9_gene_tpm.gct.gz', skiprows=2, compression='gzip', sep='\\t')\n",
    "df['ensg'] = [x[:15] for x in df['Name']]\n",
    "df.set_index('Name', inplace=True)\n",
    "df.set_index(['ensg'],inplace=True)\n",
    "df=df.drop(['Description'],1)\n",
    "genelist=pd.read_csv(\"https://stephenslab.github.io/count-clustering/project/utilities/gene_names_all_gtex.txt\", header=None).values.ravel()\n",
    "df = df[df.index.isin(genelist)]\n",
    "df_file = pd.read_csv(\"https://storage.googleapis.com/gtex_analysis_v8/annotations/GTEx_Analysis_v8_Annotations_SampleAttributesDS.txt\", sep='\\t').loc[:,['SAMPID','SMTS', 'SMTSD']]\n",
    "df_file.set_index('SAMPID', inplace=True)"
   ]
  },
  {
   "cell_type": "code",
   "execution_count": null,
   "metadata": {},
   "outputs": [],
   "source": [
    "#TCGA\n",
    "df=pd.read_csv(\"datasets/tcga/oversampling_10tissue/mainTable_all.csv\", index_col=0)\n",
    "df_file=pd.read_csv(\"datasets/tcga/oversampling_10tissue/files.dat\", index_col=0)"
   ]
  },
  {
   "cell_type": "code",
   "execution_count": null,
   "metadata": {},
   "outputs": [],
   "source": [
    "import os\n",
    "os.chdir(\"datasets/tcga/oversampling_10tissue/\")"
   ]
  },
  {
   "cell_type": "code",
   "execution_count": null,
   "metadata": {},
   "outputs": [],
   "source": [
    "files = (file for file in df_file.index if file in df.columns)"
   ]
  },
  {
   "cell_type": "code",
   "execution_count": null,
   "metadata": {},
   "outputs": [],
   "source": [
    "df = df[list(files)]\n",
    "df.head()"
   ]
  },
  {
   "cell_type": "code",
   "execution_count": null,
   "metadata": {},
   "outputs": [],
   "source": [
    "df = df.sample(n=3000, axis=1, random_state=42).sample(5000, axis=0, random_state=42)"
   ]
  },
  {
   "cell_type": "code",
   "execution_count": null,
   "metadata": {},
   "outputs": [],
   "source": [
    "data = df.transpose().values\n",
    "data[np.isnan(data)]=0\n",
    "files=df.columns\n",
    "genes=df.index\n",
    "del df"
   ]
  },
  {
   "cell_type": "code",
   "execution_count": null,
   "metadata": {},
   "outputs": [],
   "source": [
    "df_file.columns"
   ]
  },
  {
   "cell_type": "code",
   "execution_count": null,
   "metadata": {},
   "outputs": [],
   "source": [
    "classes, cluster_labels = np.unique([df_file.at[sample, 'SMTS'] for sample in files], return_inverse=True)\n",
    "n_clusters = 1+cluster_labels.max()"
   ]
  },
  {
   "cell_type": "code",
   "execution_count": null,
   "metadata": {},
   "outputs": [],
   "source": [
    "data = np.log2(data+1)\n",
    "data[np.isinf(data)]=np.log2(1e6+1)\n",
    "#np.random.shuffle(cluster_labels)"
   ]
  },
  {
   "cell_type": "code",
   "execution_count": null,
   "metadata": {},
   "outputs": [],
   "source": [
    "data.shape"
   ]
  },
  {
   "cell_type": "code",
   "execution_count": null,
   "metadata": {},
   "outputs": [],
   "source": [
    "from telepyth import TelepythClient\n",
    "tc=TelepythClient('8884910787382816523')"
   ]
  },
  {
   "cell_type": "code",
   "execution_count": null,
   "metadata": {},
   "outputs": [],
   "source": [
    "metrics = ['euclidean', 'cosine']\n",
    "label = 'pca'\n",
    "#k='euclidean'\n",
    "def make_silhouette(datas, labels):\n",
    "    for data,label in zip(datas, labels):\n",
    "        for k in metrics:\n",
    "            y_lower = 10\n",
    "            sample_silhouette_values = silhouette_samples(data, cluster_labels, metric=k)\n",
    "            silhouette_avg=silhouette_score(data, cluster_labels, metric=k)\n",
    "            fig, ax = plt.subplots(1, 1)\n",
    "            fig.set_size_inches(15, 35)\n",
    "\n",
    "            # The 1st subplot is the silhouette plot\n",
    "            # The silhouette coefficient can range from -1, 1 but in this example all\n",
    "            # lie within [-0.1, 1]\n",
    "            ax.set_xlim([-1, 1])\n",
    "            # The (n_clusters+1)*10 is for inserting blank space between silhouette\n",
    "            # plots of individual clusters, to demarcate them clearly.\n",
    "            ax.set_ylim([0, data.shape[0] + (n_clusters + 1) * 10])\n",
    "\n",
    "            for i in range(n_clusters):\n",
    "                # cluster i, and sort them\n",
    "                ith_cluster_silhouette_values = \\\n",
    "                    sample_silhouette_values[cluster_labels == i]\n",
    "\n",
    "                ith_cluster_silhouette_values.sort()\n",
    "\n",
    "                size_cluster_i = ith_cluster_silhouette_values.shape[0]\n",
    "                y_upper = y_lower + size_cluster_i\n",
    "\n",
    "                color = cm.gnuplot(float(i) / n_clusters)\n",
    "                ax.fill_betweenx(np.arange(y_lower, y_upper),\n",
    "                                  0, ith_cluster_silhouette_values,\n",
    "                                  facecolor=color, edgecolor=color, alpha=0.7)\n",
    "\n",
    "                ax.text(-0.8, (y_lower+y_upper)/2, \"%s\"%classes[i], fontsize=18)\n",
    "\n",
    "                # Compute the new y_lower for next plot\n",
    "                y_lower = y_upper + 10  # 10 for the 0 samples\n",
    "\n",
    "\n",
    "            ax.set_title(\"gtex %s\\n%s metric\\n%d clusters\\n%s space\"%(label,k,n_clusters, label), fontsize=20)\n",
    "            ax.set_xlabel(\"score\", fontsize=20)\n",
    "            # Label the silhouette plots with their cluster numbers at the middle\n",
    "            ax.axvline(x=silhouette_avg, color=\"red\", linestyle=\"--\", lw=2)\n",
    "            plt.tick_params(labelsize=20)\n",
    "            plt.show()\n",
    "            fig.savefig(\"silhouette_gtex_%s_%s.pdf\"%(label,k))\n",
    "            del sample_silhouette_values\n",
    "            del silhouette_avg\n",
    "            tc.send_figure(fig)"
   ]
  },
  {
   "cell_type": "code",
   "execution_count": null,
   "metadata": {},
   "outputs": [],
   "source": [
    "print(red_data.shape)\n",
    "print(lda_data.shape)\n",
    "print(emb_data.shape)\n",
    "print(hsbm_data.shape)\n",
    "print(tm_data.shape)\n",
    "make_silhouette([data, red_data, lda_data, emb_data, hsbm_data, tm_data],\n",
    "               ['data', 'pca', 'lda', 'tsne', 'hsbm', 'tm'])"
   ]
  },
  {
   "cell_type": "markdown",
   "metadata": {},
   "source": [
    "## PCA"
   ]
  },
  {
   "cell_type": "code",
   "execution_count": null,
   "metadata": {},
   "outputs": [],
   "source": [
    "from sklearn.manifold import MDS\n",
    "from sklearn.decomposition import PCA"
   ]
  },
  {
   "cell_type": "code",
   "execution_count": null,
   "metadata": {},
   "outputs": [],
   "source": [
    "model=PCA(n_components=2)"
   ]
  },
  {
   "cell_type": "code",
   "execution_count": null,
   "metadata": {},
   "outputs": [],
   "source": [
    "red_data=model.fit_transform(data)"
   ]
  },
  {
   "cell_type": "code",
   "execution_count": null,
   "metadata": {},
   "outputs": [],
   "source": [
    "#%matplotlib notebook\n",
    "fig=plt.figure(figsize=(15,15))\n",
    "for i in range(cluster_labels.max()+1):\n",
    "    plt.scatter(red_data[cluster_labels==i].T[0],red_data[cluster_labels==i].T[1], label=classes[i], c=colors_cycle[i])\n",
    "plt.legend(ncol=4, fontsize=10)\n",
    "#plt.xlim(red_data.T[0].min(),red_data.T[0].max())\n",
    "plt.tick_params(labelsize=20)\n",
    "plt.show()\n",
    "fig.savefig(\"mds_02.pdf\")"
   ]
  },
  {
   "cell_type": "code",
   "execution_count": null,
   "metadata": {},
   "outputs": [],
   "source": [
    "import pickle"
   ]
  },
  {
   "cell_type": "code",
   "execution_count": null,
   "metadata": {},
   "outputs": [],
   "source": [
    "emb_datawith open(\"pca_model.pkl\",'wb') as f:\n",
    "    pickle.dump(model, f)"
   ]
  },
  {
   "cell_type": "code",
   "execution_count": null,
   "metadata": {},
   "outputs": [],
   "source": [
    "with open(\"pca_model.pkl\",'rb') as f:\n",
    "    model = pickle.load(f)"
   ]
  },
  {
   "cell_type": "code",
   "execution_count": null,
   "metadata": {},
   "outputs": [],
   "source": [
    "red_data = model.transform(data)"
   ]
  },
  {
   "cell_type": "markdown",
   "metadata": {},
   "source": [
    "## kmeans"
   ]
  },
  {
   "cell_type": "code",
   "execution_count": null,
   "metadata": {},
   "outputs": [],
   "source": [
    "from sklearn.cluster import KMeans"
   ]
  },
  {
   "cell_type": "code",
   "execution_count": null,
   "metadata": {},
   "outputs": [],
   "source": [
    "model = KMeans(n_clusters=n_clusters, n_init=10, random_state=42)"
   ]
  },
  {
   "cell_type": "code",
   "execution_count": null,
   "metadata": {},
   "outputs": [],
   "source": [
    "cluster_labels = model.fit_predict(data)\n",
    "classes = np.unique(cluster_labels)"
   ]
  },
  {
   "cell_type": "markdown",
   "metadata": {},
   "source": [
    "## hierarchical"
   ]
  },
  {
   "cell_type": "code",
   "execution_count": null,
   "metadata": {},
   "outputs": [],
   "source": [
    "from sklearn.cluster import AgglomerativeClustering\n",
    "import scipy.cluster.hierarchy as shc"
   ]
  },
  {
   "cell_type": "code",
   "execution_count": null,
   "metadata": {},
   "outputs": [],
   "source": [
    "fig=plt.figure()\n",
    "Z = shc.linkage(data, method='average')\n",
    "dend = shc.dendrogram(Z, leaf_rotation=90., leaf_font_size=8.,)\n",
    "plt.xlabel(\"samples\", fontsize=16)\n",
    "plt.show()\n",
    "fig.savefig(\"dendogram.pdf\")"
   ]
  },
  {
   "cell_type": "code",
   "execution_count": null,
   "metadata": {},
   "outputs": [],
   "source": [
    "cut = shc.cut_tree(Z, height=20000).ravel()\n",
    "np.unique(cut, return_counts=True)"
   ]
  },
  {
   "cell_type": "code",
   "execution_count": null,
   "metadata": {},
   "outputs": [],
   "source": [
    "model = AgglomerativeClustering(n_clusters=n_clusters, affinity='cosine', linkage='complete')"
   ]
  },
  {
   "cell_type": "code",
   "execution_count": null,
   "metadata": {},
   "outputs": [],
   "source": [
    "cluster_labels = model.fit_predict(data[cut==0])\n",
    "classes = np.unique(cluster_labels)"
   ]
  },
  {
   "cell_type": "code",
   "execution_count": null,
   "metadata": {},
   "outputs": [],
   "source": [
    "out_to_file(cluster_labels, files[cut==0], name='hier')"
   ]
  },
  {
   "cell_type": "markdown",
   "metadata": {},
   "source": [
    "## LDA"
   ]
  },
  {
   "cell_type": "code",
   "execution_count": null,
   "metadata": {},
   "outputs": [],
   "source": [
    "from sklearn.decomposition import LatentDirichletAllocation"
   ]
  },
  {
   "cell_type": "code",
   "execution_count": null,
   "metadata": {},
   "outputs": [],
   "source": [
    "lda = LatentDirichletAllocation(n_components=n_clusters)"
   ]
  },
  {
   "cell_type": "code",
   "execution_count": null,
   "metadata": {},
   "outputs": [],
   "source": [
    "lda_data = lda.fit_transform(data)\n",
    "cluster_labels = np.argmax(lda_data, axis=1)\n",
    "classes = np.arange(0, np.max(cluster_labels)+1)"
   ]
  },
  {
   "cell_type": "code",
   "execution_count": null,
   "metadata": {},
   "outputs": [],
   "source": [
    "fig=plt.figure(figsize=(15,15))\n",
    "for i in range(cluster_labels.max()+1):\n",
    "    plt.scatter(lda_data[cluster_labels==i].T[3],lda_data[cluster_labels==i].T[4], label=classes[i], c=colors_cycle[i])\n",
    "plt.legend(ncol=4, fontsize=10)\n",
    "#plt.xlim(red_data.T[0].min(),red_data.T[0].max())\n",
    "plt.tick_params(labelsize=20)\n",
    "plt.show()\n",
    "fig.savefig(\"lda_02.pdf\")"
   ]
  },
  {
   "cell_type": "markdown",
   "metadata": {},
   "source": [
    "## hSBM"
   ]
  },
  {
   "cell_type": "code",
   "execution_count": null,
   "metadata": {},
   "outputs": [],
   "source": [
    "from master_thesis.hsbm.sbmtm import sbmtm"
   ]
  },
  {
   "cell_type": "code",
   "execution_count": null,
   "metadata": {},
   "outputs": [],
   "source": [
    "hsbm = sbmtm()"
   ]
  },
  {
   "cell_type": "code",
   "execution_count": null,
   "metadata": {},
   "outputs": [],
   "source": [
    "hsbm.make_graph_from_BoW_df(pd.DataFrame(data=data))"
   ]
  },
  {
   "cell_type": "code",
   "execution_count": null,
   "metadata": {},
   "outputs": [],
   "source": [
    "hsbm.save_graph(\"graph.xml.gz\")"
   ]
  },
  {
   "cell_type": "code",
   "execution_count": null,
   "metadata": {},
   "outputs": [],
   "source": [
    "hsbm.fit()"
   ]
  },
  {
   "cell_type": "code",
   "execution_count": null,
   "metadata": {},
   "outputs": [],
   "source": [
    "hsbm_data = pd.read_csv(\"topsbm/topsbm_level_3_topic-dist.csv\").set_index('doc').reindex(index=[s[:24] for s in files]).drop('i_doc',1).fillna(0).values"
   ]
  },
  {
   "cell_type": "code",
   "execution_count": null,
   "metadata": {},
   "outputs": [],
   "source": [
    "fig=plt.figure(figsize=(15,15))\n",
    "for i in range(cluster_labels.max()+1):\n",
    "    plt.scatter(hsbm_data[cluster_labels==i].T[0],hsbm_data[cluster_labels==i].T[1], label=classes[i], c=colors_cycle[i])\n",
    "plt.legend(ncol=4, fontsize=10)\n",
    "#plt.xlim(red_data.T[0].min(),red_data.T[0].max())\n",
    "plt.tick_params(labelsize=20)\n",
    "plt.show()\n",
    "fig.savefig(\"hsbm_02.pdf\")"
   ]
  },
  {
   "cell_type": "markdown",
   "metadata": {},
   "source": [
    "## t-SNE"
   ]
  },
  {
   "cell_type": "code",
   "execution_count": null,
   "metadata": {},
   "outputs": [],
   "source": [
    "from sklearn.manifold import TSNE"
   ]
  },
  {
   "cell_type": "code",
   "execution_count": null,
   "metadata": {},
   "outputs": [],
   "source": [
    "tsne = TSNE(n_components=2)"
   ]
  },
  {
   "cell_type": "code",
   "execution_count": null,
   "metadata": {},
   "outputs": [],
   "source": [
    "emb_data = tsne.fit_transform(data)"
   ]
  },
  {
   "cell_type": "code",
   "execution_count": null,
   "metadata": {},
   "outputs": [],
   "source": [
    "fig=plt.figure(figsize=(15,15))\n",
    "for i in range(cluster_labels.max()+1):\n",
    "    plt.scatter(emb_data[cluster_labels==i].T[0],emb_data[cluster_labels==i].T[1], label=classes[i], c=colors_cycle[i])\n",
    "plt.legend(ncol=4, fontsize=10)\n",
    "#plt.xlim(red_data.T[0].min(),red_data.T[0].max())\n",
    "plt.tick_params(labelsize=20)\n",
    "plt.show()\n",
    "fig.savefig(\"tsne_02.pdf\")"
   ]
  },
  {
   "cell_type": "markdown",
   "metadata": {},
   "source": [
    "## TM"
   ]
  },
  {
   "cell_type": "code",
   "execution_count": null,
   "metadata": {},
   "outputs": [],
   "source": [
    "tm_data = pd.read_csv(\"tm/tm_level_0_topic-dist.csv\").set_index('doc').reindex(index=files).drop('i_doc',1).fillna(0).values"
   ]
  },
  {
   "cell_type": "code",
   "execution_count": null,
   "metadata": {},
   "outputs": [],
   "source": [
    "fig=plt.figure(figsize=(15,15))\n",
    "for i in range(cluster_labels.max()+1):\n",
    "    plt.scatter(tm_data[cluster_labels==i].T[0],tm_data[cluster_labels==i].T[2], label=classes[i], c=colors_cycle[i])\n",
    "plt.legend(ncol=4, fontsize=10)\n",
    "#plt.xlim(red_data.T[0].min(),red_data.T[0].max())\n",
    "plt.tick_params(labelsize=20)\n",
    "plt.show()\n",
    "fig.savefig(\"tm_02.pdf\")"
   ]
  },
  {
   "cell_type": "code",
   "execution_count": null,
   "metadata": {},
   "outputs": [],
   "source": []
  },
  {
   "cell_type": "code",
   "execution_count": null,
   "metadata": {},
   "outputs": [],
   "source": []
  },
  {
   "cell_type": "code",
   "execution_count": null,
   "metadata": {},
   "outputs": [],
   "source": []
  },
  {
   "cell_type": "code",
   "execution_count": null,
   "metadata": {},
   "outputs": [],
   "source": [
    "from master_thesis.hsbmpy import out_to_file"
   ]
  },
  {
   "cell_type": "code",
   "execution_count": null,
   "metadata": {},
   "outputs": [],
   "source": [
    "out_to_file(cluster_labels, files, name='lda')"
   ]
  },
  {
   "cell_type": "code",
   "execution_count": null,
   "metadata": {},
   "outputs": [],
   "source": [
    "df_file = pd.read_csv(\"https://storage.googleapis.com/gtex_analysis_v7/annotations/GTEx_v7_Annotations_SampleAttributesDS.txt\", sep='\\t').loc[:,['SAMPID','SMTS', 'SMTSD']]\n",
    "df_file.set_index('SAMPID', inplace=True)"
   ]
  },
  {
   "cell_type": "code",
   "execution_count": null,
   "metadata": {},
   "outputs": [],
   "source": [
    "df_file.reindex(index=files).to_csv(\"files.dat\")"
   ]
  },
  {
   "cell_type": "code",
   "execution_count": null,
   "metadata": {},
   "outputs": [],
   "source": []
  }
 ],
 "metadata": {
  "kernelspec": {
   "display_name": "Python 3",
   "language": "python",
   "name": "python3"
  },
  "language_info": {
   "codemirror_mode": {
    "name": "ipython",
    "version": 3
   },
   "file_extension": ".py",
   "mimetype": "text/x-python",
   "name": "python",
   "nbconvert_exporter": "python",
   "pygments_lexer": "ipython3",
   "version": "3.6.9"
  }
 },
 "nbformat": 4,
 "nbformat_minor": 2
}

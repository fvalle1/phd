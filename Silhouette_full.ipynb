{
 "cells": [
  {
   "cell_type": "code",
   "execution_count": 1,
   "metadata": {},
   "outputs": [],
   "source": [
    "import pandas as pd\n",
    "from sklearn.metrics.cluster import silhouette_score, silhouette_samples\n",
    "import numpy as np\n",
    "import matplotlib.pyplot as plt\n",
    "from matplotlib import cm\n",
    "from master_thesis.hsbmpy import colors_cycle"
   ]
  },
  {
   "cell_type": "code",
   "execution_count": 2,
   "metadata": {
    "scrolled": true
   },
   "outputs": [],
   "source": [
    "#GTEx\n",
    "df = pd.read_csv('https://storage.googleapis.com/gtex_analysis_v7/rna_seq_data/GTEx_Analysis_2016-01-15_v7_RNASeQCv1.1.8_gene_tpm.gct.gz', skiprows=2, compression='gzip', sep='\\t')\n",
    "df['ensg'] = [x[:15] for x in df['Name']]\n",
    "df.set_index('Name', inplace=True)\n",
    "df.set_index(['ensg'],inplace=True)\n",
    "df=df.drop(['Description'],1)\n",
    "genelist=pd.read_csv(\"https://stephenslab.github.io/count-clustering/project/utilities/gene_names_all_gtex.txt\", header=None).values.ravel()\n",
    "df = df[df.index.isin(genelist)]\n",
    "df_file = pd.read_csv(\"https://storage.googleapis.com/gtex_analysis_v7/annotations/GTEx_v7_Annotations_SampleAttributesDS.txt\", sep='\\t').loc[:,['SAMPID','SMTS', 'SMTSD']]\n",
    "df_file.set_index('SAMPID', inplace=True)"
   ]
  },
  {
   "cell_type": "code",
   "execution_count": null,
   "metadata": {},
   "outputs": [],
   "source": [
    "#TCGA\n",
    "df=pd.read_csv(\"datasets/tcga/oversampling_10tissue/mainTable_all.csv\", index_col=0)\n",
    "df_file=pd.read_csv(\"datasets/tcga/oversampling_10tissue/files.dat\", index_col=0)"
   ]
  },
  {
   "cell_type": "code",
   "execution_count": 3,
   "metadata": {},
   "outputs": [],
   "source": [
    "import os\n",
    "os.chdir(\"datasets/tcga/oversampling_10tissue/\")"
   ]
  },
  {
   "cell_type": "code",
   "execution_count": 4,
   "metadata": {},
   "outputs": [],
   "source": [
    "files = (file for file in df_file.index if file in df.columns)"
   ]
  },
  {
   "cell_type": "code",
   "execution_count": 5,
   "metadata": {},
   "outputs": [
    {
     "data": {
      "text/html": [
       "<div>\n",
       "<style scoped>\n",
       "    .dataframe tbody tr th:only-of-type {\n",
       "        vertical-align: middle;\n",
       "    }\n",
       "\n",
       "    .dataframe tbody tr th {\n",
       "        vertical-align: top;\n",
       "    }\n",
       "\n",
       "    .dataframe thead th {\n",
       "        text-align: right;\n",
       "    }\n",
       "</style>\n",
       "<table border=\"1\" class=\"dataframe\">\n",
       "  <thead>\n",
       "    <tr style=\"text-align: right;\">\n",
       "      <th></th>\n",
       "      <th>GTEX-1117F-0226-SM-5GZZ7</th>\n",
       "      <th>GTEX-1117F-0426-SM-5EGHI</th>\n",
       "      <th>GTEX-1117F-0526-SM-5EGHJ</th>\n",
       "      <th>GTEX-1117F-0626-SM-5N9CS</th>\n",
       "      <th>GTEX-1117F-0726-SM-5GIEN</th>\n",
       "      <th>GTEX-1117F-1326-SM-5EGHH</th>\n",
       "      <th>GTEX-1117F-2226-SM-5N9CH</th>\n",
       "      <th>GTEX-1117F-2426-SM-5EGGH</th>\n",
       "      <th>GTEX-1117F-2526-SM-5GZY6</th>\n",
       "      <th>GTEX-1117F-2826-SM-5GZXL</th>\n",
       "      <th>...</th>\n",
       "      <th>GTEX-ZZPU-1126-SM-5N9CW</th>\n",
       "      <th>GTEX-ZZPU-1226-SM-5N9CK</th>\n",
       "      <th>GTEX-ZZPU-1326-SM-5GZWS</th>\n",
       "      <th>GTEX-ZZPU-1426-SM-5GZZ6</th>\n",
       "      <th>GTEX-ZZPU-1826-SM-5E43L</th>\n",
       "      <th>GTEX-ZZPU-2126-SM-5EGIU</th>\n",
       "      <th>GTEX-ZZPU-2226-SM-5EGIV</th>\n",
       "      <th>GTEX-ZZPU-2426-SM-5E44I</th>\n",
       "      <th>GTEX-ZZPU-2626-SM-5E45Y</th>\n",
       "      <th>GTEX-ZZPU-2726-SM-5NQ8O</th>\n",
       "    </tr>\n",
       "    <tr>\n",
       "      <th>ensg</th>\n",
       "      <th></th>\n",
       "      <th></th>\n",
       "      <th></th>\n",
       "      <th></th>\n",
       "      <th></th>\n",
       "      <th></th>\n",
       "      <th></th>\n",
       "      <th></th>\n",
       "      <th></th>\n",
       "      <th></th>\n",
       "      <th></th>\n",
       "      <th></th>\n",
       "      <th></th>\n",
       "      <th></th>\n",
       "      <th></th>\n",
       "      <th></th>\n",
       "      <th></th>\n",
       "      <th></th>\n",
       "      <th></th>\n",
       "      <th></th>\n",
       "      <th></th>\n",
       "    </tr>\n",
       "  </thead>\n",
       "  <tbody>\n",
       "    <tr>\n",
       "      <th>ENSG00000227232</th>\n",
       "      <td>21.4000</td>\n",
       "      <td>15.03000</td>\n",
       "      <td>17.5300</td>\n",
       "      <td>23.82000</td>\n",
       "      <td>7.44300</td>\n",
       "      <td>13.0000</td>\n",
       "      <td>31.4600</td>\n",
       "      <td>31.1700</td>\n",
       "      <td>35.7100</td>\n",
       "      <td>20.81000</td>\n",
       "      <td>...</td>\n",
       "      <td>4.7580</td>\n",
       "      <td>9.1840</td>\n",
       "      <td>16.5200</td>\n",
       "      <td>8.0870</td>\n",
       "      <td>7.6670</td>\n",
       "      <td>14.4600</td>\n",
       "      <td>6.0130</td>\n",
       "      <td>10.3500</td>\n",
       "      <td>6.26000</td>\n",
       "      <td>7.6990</td>\n",
       "    </tr>\n",
       "    <tr>\n",
       "      <th>ENSG00000238009</th>\n",
       "      <td>0.2392</td>\n",
       "      <td>0.06782</td>\n",
       "      <td>0.1972</td>\n",
       "      <td>0.02808</td>\n",
       "      <td>0.07535</td>\n",
       "      <td>0.2125</td>\n",
       "      <td>0.1795</td>\n",
       "      <td>0.3079</td>\n",
       "      <td>0.0687</td>\n",
       "      <td>0.02258</td>\n",
       "      <td>...</td>\n",
       "      <td>0.1288</td>\n",
       "      <td>0.1209</td>\n",
       "      <td>0.2049</td>\n",
       "      <td>0.2263</td>\n",
       "      <td>0.1579</td>\n",
       "      <td>0.1495</td>\n",
       "      <td>0.1256</td>\n",
       "      <td>0.3233</td>\n",
       "      <td>0.06529</td>\n",
       "      <td>0.2103</td>\n",
       "    </tr>\n",
       "    <tr>\n",
       "      <th>ENSG00000237683</th>\n",
       "      <td>9.4670</td>\n",
       "      <td>1.13900</td>\n",
       "      <td>2.3260</td>\n",
       "      <td>3.73900</td>\n",
       "      <td>1.44600</td>\n",
       "      <td>2.9640</td>\n",
       "      <td>10.4000</td>\n",
       "      <td>2.6310</td>\n",
       "      <td>8.9820</td>\n",
       "      <td>4.11600</td>\n",
       "      <td>...</td>\n",
       "      <td>7.1260</td>\n",
       "      <td>16.3300</td>\n",
       "      <td>49.8000</td>\n",
       "      <td>16.3800</td>\n",
       "      <td>8.7550</td>\n",
       "      <td>38.4800</td>\n",
       "      <td>20.7900</td>\n",
       "      <td>6.5150</td>\n",
       "      <td>1.09600</td>\n",
       "      <td>11.5800</td>\n",
       "    </tr>\n",
       "    <tr>\n",
       "      <th>ENSG00000268903</th>\n",
       "      <td>0.0000</td>\n",
       "      <td>0.00000</td>\n",
       "      <td>0.0000</td>\n",
       "      <td>0.62110</td>\n",
       "      <td>0.00000</td>\n",
       "      <td>0.0000</td>\n",
       "      <td>0.6616</td>\n",
       "      <td>0.0000</td>\n",
       "      <td>1.5200</td>\n",
       "      <td>0.00000</td>\n",
       "      <td>...</td>\n",
       "      <td>2.2160</td>\n",
       "      <td>1.0030</td>\n",
       "      <td>4.5320</td>\n",
       "      <td>1.2510</td>\n",
       "      <td>0.3881</td>\n",
       "      <td>1.3230</td>\n",
       "      <td>0.5556</td>\n",
       "      <td>0.0000</td>\n",
       "      <td>0.00000</td>\n",
       "      <td>0.4652</td>\n",
       "    </tr>\n",
       "    <tr>\n",
       "      <th>ENSG00000228463</th>\n",
       "      <td>0.9219</td>\n",
       "      <td>0.33510</td>\n",
       "      <td>0.4483</td>\n",
       "      <td>0.51620</td>\n",
       "      <td>0.23460</td>\n",
       "      <td>0.2048</td>\n",
       "      <td>0.2483</td>\n",
       "      <td>0.2282</td>\n",
       "      <td>0.1358</td>\n",
       "      <td>0.37490</td>\n",
       "      <td>...</td>\n",
       "      <td>0.9253</td>\n",
       "      <td>1.9260</td>\n",
       "      <td>1.9140</td>\n",
       "      <td>0.7381</td>\n",
       "      <td>0.6659</td>\n",
       "      <td>2.8020</td>\n",
       "      <td>0.5362</td>\n",
       "      <td>0.7030</td>\n",
       "      <td>0.43550</td>\n",
       "      <td>4.1030</td>\n",
       "    </tr>\n",
       "  </tbody>\n",
       "</table>\n",
       "<p>5 rows × 11688 columns</p>\n",
       "</div>"
      ],
      "text/plain": [
       "                 GTEX-1117F-0226-SM-5GZZ7  GTEX-1117F-0426-SM-5EGHI  \\\n",
       "ensg                                                                  \n",
       "ENSG00000227232                   21.4000                  15.03000   \n",
       "ENSG00000238009                    0.2392                   0.06782   \n",
       "ENSG00000237683                    9.4670                   1.13900   \n",
       "ENSG00000268903                    0.0000                   0.00000   \n",
       "ENSG00000228463                    0.9219                   0.33510   \n",
       "\n",
       "                 GTEX-1117F-0526-SM-5EGHJ  GTEX-1117F-0626-SM-5N9CS  \\\n",
       "ensg                                                                  \n",
       "ENSG00000227232                   17.5300                  23.82000   \n",
       "ENSG00000238009                    0.1972                   0.02808   \n",
       "ENSG00000237683                    2.3260                   3.73900   \n",
       "ENSG00000268903                    0.0000                   0.62110   \n",
       "ENSG00000228463                    0.4483                   0.51620   \n",
       "\n",
       "                 GTEX-1117F-0726-SM-5GIEN  GTEX-1117F-1326-SM-5EGHH  \\\n",
       "ensg                                                                  \n",
       "ENSG00000227232                   7.44300                   13.0000   \n",
       "ENSG00000238009                   0.07535                    0.2125   \n",
       "ENSG00000237683                   1.44600                    2.9640   \n",
       "ENSG00000268903                   0.00000                    0.0000   \n",
       "ENSG00000228463                   0.23460                    0.2048   \n",
       "\n",
       "                 GTEX-1117F-2226-SM-5N9CH  GTEX-1117F-2426-SM-5EGGH  \\\n",
       "ensg                                                                  \n",
       "ENSG00000227232                   31.4600                   31.1700   \n",
       "ENSG00000238009                    0.1795                    0.3079   \n",
       "ENSG00000237683                   10.4000                    2.6310   \n",
       "ENSG00000268903                    0.6616                    0.0000   \n",
       "ENSG00000228463                    0.2483                    0.2282   \n",
       "\n",
       "                 GTEX-1117F-2526-SM-5GZY6  GTEX-1117F-2826-SM-5GZXL  ...  \\\n",
       "ensg                                                                 ...   \n",
       "ENSG00000227232                   35.7100                  20.81000  ...   \n",
       "ENSG00000238009                    0.0687                   0.02258  ...   \n",
       "ENSG00000237683                    8.9820                   4.11600  ...   \n",
       "ENSG00000268903                    1.5200                   0.00000  ...   \n",
       "ENSG00000228463                    0.1358                   0.37490  ...   \n",
       "\n",
       "                 GTEX-ZZPU-1126-SM-5N9CW  GTEX-ZZPU-1226-SM-5N9CK  \\\n",
       "ensg                                                                \n",
       "ENSG00000227232                   4.7580                   9.1840   \n",
       "ENSG00000238009                   0.1288                   0.1209   \n",
       "ENSG00000237683                   7.1260                  16.3300   \n",
       "ENSG00000268903                   2.2160                   1.0030   \n",
       "ENSG00000228463                   0.9253                   1.9260   \n",
       "\n",
       "                 GTEX-ZZPU-1326-SM-5GZWS  GTEX-ZZPU-1426-SM-5GZZ6  \\\n",
       "ensg                                                                \n",
       "ENSG00000227232                  16.5200                   8.0870   \n",
       "ENSG00000238009                   0.2049                   0.2263   \n",
       "ENSG00000237683                  49.8000                  16.3800   \n",
       "ENSG00000268903                   4.5320                   1.2510   \n",
       "ENSG00000228463                   1.9140                   0.7381   \n",
       "\n",
       "                 GTEX-ZZPU-1826-SM-5E43L  GTEX-ZZPU-2126-SM-5EGIU  \\\n",
       "ensg                                                                \n",
       "ENSG00000227232                   7.6670                  14.4600   \n",
       "ENSG00000238009                   0.1579                   0.1495   \n",
       "ENSG00000237683                   8.7550                  38.4800   \n",
       "ENSG00000268903                   0.3881                   1.3230   \n",
       "ENSG00000228463                   0.6659                   2.8020   \n",
       "\n",
       "                 GTEX-ZZPU-2226-SM-5EGIV  GTEX-ZZPU-2426-SM-5E44I  \\\n",
       "ensg                                                                \n",
       "ENSG00000227232                   6.0130                  10.3500   \n",
       "ENSG00000238009                   0.1256                   0.3233   \n",
       "ENSG00000237683                  20.7900                   6.5150   \n",
       "ENSG00000268903                   0.5556                   0.0000   \n",
       "ENSG00000228463                   0.5362                   0.7030   \n",
       "\n",
       "                 GTEX-ZZPU-2626-SM-5E45Y  GTEX-ZZPU-2726-SM-5NQ8O  \n",
       "ensg                                                               \n",
       "ENSG00000227232                  6.26000                   7.6990  \n",
       "ENSG00000238009                  0.06529                   0.2103  \n",
       "ENSG00000237683                  1.09600                  11.5800  \n",
       "ENSG00000268903                  0.00000                   0.4652  \n",
       "ENSG00000228463                  0.43550                   4.1030  \n",
       "\n",
       "[5 rows x 11688 columns]"
      ]
     },
     "execution_count": 5,
     "metadata": {},
     "output_type": "execute_result"
    }
   ],
   "source": [
    "df = df[list(files)]\n",
    "df.head()"
   ]
  },
  {
   "cell_type": "code",
   "execution_count": 6,
   "metadata": {},
   "outputs": [],
   "source": [
    "df = df.sample(n=3000, axis=1, random_state=42).sample(5000, axis=0, random_state=42)"
   ]
  },
  {
   "cell_type": "code",
   "execution_count": 7,
   "metadata": {},
   "outputs": [],
   "source": [
    "data = df.transpose().values\n",
    "data[np.isnan(data)]=0\n",
    "files=df.columns\n",
    "genes=df.index\n",
    "del df"
   ]
  },
  {
   "cell_type": "code",
   "execution_count": 8,
   "metadata": {},
   "outputs": [
    {
     "data": {
      "text/plain": [
       "Index(['SMTS', 'SMTSD'], dtype='object')"
      ]
     },
     "execution_count": 8,
     "metadata": {},
     "output_type": "execute_result"
    }
   ],
   "source": [
    "df_file.columns"
   ]
  },
  {
   "cell_type": "code",
   "execution_count": 10,
   "metadata": {},
   "outputs": [],
   "source": [
    "classes, cluster_labels = np.unique([df_file.at[sample, 'SMTS'] for sample in files], return_inverse=True)\n",
    "n_clusters = 1+cluster_labels.max()"
   ]
  },
  {
   "cell_type": "code",
   "execution_count": 11,
   "metadata": {},
   "outputs": [],
   "source": [
    "data = np.log2(data+1)\n",
    "data[np.isinf(data)]=np.log2(1e6+1)\n",
    "#np.random.shuffle(cluster_labels)"
   ]
  },
  {
   "cell_type": "code",
   "execution_count": 12,
   "metadata": {},
   "outputs": [
    {
     "data": {
      "text/plain": [
       "(3000, 5000)"
      ]
     },
     "execution_count": 12,
     "metadata": {},
     "output_type": "execute_result"
    }
   ],
   "source": [
    "data.shape"
   ]
  },
  {
   "cell_type": "code",
   "execution_count": null,
   "metadata": {},
   "outputs": [],
   "source": [
    "from telepyth import TelepythClient\n",
    "tc=TelepythClient('8884910787382816523')"
   ]
  },
  {
   "cell_type": "code",
   "execution_count": null,
   "metadata": {
    "scrolled": false
   },
   "outputs": [],
   "source": [
    "metrics = ['euclidean', 'cosine']\n",
    "label = 'pca'\n",
    "#k='euclidean'\n",
    "def make_silhouette(datas, labels):\n",
    "    for data,label in zip(datas, labels):\n",
    "        for k in metrics:\n",
    "            y_lower = 10\n",
    "            sample_silhouette_values = silhouette_samples(data, cluster_labels, metric=k)\n",
    "            silhouette_avg=silhouette_score(data, cluster_labels, metric=k)\n",
    "            fig, ax = plt.subplots(1, 1)\n",
    "            fig.set_size_inches(15, 35)\n",
    "\n",
    "            # The 1st subplot is the silhouette plot\n",
    "            # The silhouette coefficient can range from -1, 1 but in this example all\n",
    "            # lie within [-0.1, 1]\n",
    "            ax.set_xlim([-1, 1])\n",
    "            # The (n_clusters+1)*10 is for inserting blank space between silhouette\n",
    "            # plots of individual clusters, to demarcate them clearly.\n",
    "            ax.set_ylim([0, data.shape[0] + (n_clusters + 1) * 10])\n",
    "\n",
    "            for i in range(n_clusters):\n",
    "                # cluster i, and sort them\n",
    "                ith_cluster_silhouette_values = \\\n",
    "                    sample_silhouette_values[cluster_labels == i]\n",
    "\n",
    "                ith_cluster_silhouette_values.sort()\n",
    "\n",
    "                size_cluster_i = ith_cluster_silhouette_values.shape[0]\n",
    "                y_upper = y_lower + size_cluster_i\n",
    "\n",
    "                color = cm.gnuplot(float(i) / n_clusters)\n",
    "                ax.fill_betweenx(np.arange(y_lower, y_upper),\n",
    "                                  0, ith_cluster_silhouette_values,\n",
    "                                  facecolor=color, edgecolor=color, alpha=0.7)\n",
    "\n",
    "                ax.text(-0.8, (y_lower+y_upper)/2, \"%s\"%classes[i], fontsize=18)\n",
    "\n",
    "                # Compute the new y_lower for next plot\n",
    "                y_lower = y_upper + 10  # 10 for the 0 samples\n",
    "\n",
    "\n",
    "            ax.set_title(\"gtex %s\\n%s metric\\n%d clusters\\n%s space\"%(label,k,n_clusters, label), fontsize=20)\n",
    "            ax.set_xlabel(\"score\", fontsize=20)\n",
    "            # Label the silhouette plots with their cluster numbers at the middle\n",
    "            ax.axvline(x=silhouette_avg, color=\"red\", linestyle=\"--\", lw=2)\n",
    "            plt.tick_params(labelsize=20)\n",
    "            plt.show()\n",
    "            fig.savefig(\"silhouette_gtex_%s_%s.pdf\"%(label,k))\n",
    "            del sample_silhouette_values\n",
    "            del silhouette_avg\n",
    "            tc.send_figure(fig)"
   ]
  },
  {
   "cell_type": "code",
   "execution_count": null,
   "metadata": {
    "scrolled": false
   },
   "outputs": [],
   "source": [
    "print(red_data.shape)\n",
    "print(lda_data.shape)\n",
    "print(emb_data.shape)\n",
    "print(hsbm_data.shape)\n",
    "print(tm_data.shape)\n",
    "make_silhouette([data, red_data, lda_data, emb_data, hsbm_data, tm_data],\n",
    "               ['data', 'pca', 'lda', 'tsne', 'hsbm', 'tm'])"
   ]
  },
  {
   "cell_type": "markdown",
   "metadata": {},
   "source": [
    "## PCA"
   ]
  },
  {
   "cell_type": "code",
   "execution_count": null,
   "metadata": {},
   "outputs": [],
   "source": [
    "from sklearn.manifold import MDS\n",
    "from sklearn.decomposition import PCA"
   ]
  },
  {
   "cell_type": "code",
   "execution_count": null,
   "metadata": {},
   "outputs": [],
   "source": [
    "model=PCA(n_components=2)"
   ]
  },
  {
   "cell_type": "code",
   "execution_count": null,
   "metadata": {},
   "outputs": [],
   "source": [
    "red_data=model.fit_transform(data)"
   ]
  },
  {
   "cell_type": "code",
   "execution_count": null,
   "metadata": {
    "scrolled": false
   },
   "outputs": [],
   "source": [
    "#%matplotlib notebook\n",
    "fig=plt.figure(figsize=(15,15))\n",
    "for i in range(cluster_labels.max()+1):\n",
    "    plt.scatter(red_data[cluster_labels==i].T[0],red_data[cluster_labels==i].T[1], label=classes[i], c=colors_cycle[i])\n",
    "plt.legend(ncol=4, fontsize=10)\n",
    "#plt.xlim(red_data.T[0].min(),red_data.T[0].max())\n",
    "plt.tick_params(labelsize=20)\n",
    "plt.show()\n",
    "fig.savefig(\"mds_02.pdf\")"
   ]
  },
  {
   "cell_type": "code",
   "execution_count": null,
   "metadata": {},
   "outputs": [],
   "source": [
    "import pickle"
   ]
  },
  {
   "cell_type": "code",
   "execution_count": null,
   "metadata": {},
   "outputs": [],
   "source": [
    "emb_datawith open(\"pca_model.pkl\",'wb') as f:\n",
    "    pickle.dump(model, f)"
   ]
  },
  {
   "cell_type": "code",
   "execution_count": null,
   "metadata": {},
   "outputs": [],
   "source": [
    "with open(\"pca_model.pkl\",'rb') as f:\n",
    "    model = pickle.load(f)"
   ]
  },
  {
   "cell_type": "code",
   "execution_count": null,
   "metadata": {},
   "outputs": [],
   "source": [
    "red_data = model.transform(data)"
   ]
  },
  {
   "cell_type": "markdown",
   "metadata": {},
   "source": [
    "## kmeans"
   ]
  },
  {
   "cell_type": "code",
   "execution_count": null,
   "metadata": {},
   "outputs": [],
   "source": [
    "from sklearn.cluster import KMeans"
   ]
  },
  {
   "cell_type": "code",
   "execution_count": null,
   "metadata": {},
   "outputs": [],
   "source": [
    "model = KMeans(n_clusters=n_clusters, n_init=10, random_state=42)"
   ]
  },
  {
   "cell_type": "code",
   "execution_count": null,
   "metadata": {},
   "outputs": [],
   "source": [
    "cluster_labels = model.fit_predict(data)\n",
    "classes = np.unique(cluster_labels)"
   ]
  },
  {
   "cell_type": "markdown",
   "metadata": {},
   "source": [
    "## hierarchical"
   ]
  },
  {
   "cell_type": "code",
   "execution_count": null,
   "metadata": {},
   "outputs": [],
   "source": [
    "from sklearn.cluster import AgglomerativeClustering\n",
    "import scipy.cluster.hierarchy as shc"
   ]
  },
  {
   "cell_type": "code",
   "execution_count": null,
   "metadata": {},
   "outputs": [],
   "source": [
    "fig=plt.figure()\n",
    "Z = shc.linkage(data, method='average')\n",
    "dend = shc.dendrogram(Z, leaf_rotation=90., leaf_font_size=8.,)\n",
    "plt.xlabel(\"samples\", fontsize=16)\n",
    "plt.show()\n",
    "fig.savefig(\"dendogram.pdf\")"
   ]
  },
  {
   "cell_type": "code",
   "execution_count": null,
   "metadata": {},
   "outputs": [],
   "source": [
    "cut = shc.cut_tree(Z, height=20000).ravel()\n",
    "np.unique(cut, return_counts=True)"
   ]
  },
  {
   "cell_type": "code",
   "execution_count": null,
   "metadata": {},
   "outputs": [],
   "source": [
    "model = AgglomerativeClustering(n_clusters=n_clusters, affinity='cosine', linkage='complete')"
   ]
  },
  {
   "cell_type": "code",
   "execution_count": null,
   "metadata": {},
   "outputs": [],
   "source": [
    "cluster_labels = model.fit_predict(data[cut==0])\n",
    "classes = np.unique(cluster_labels)"
   ]
  },
  {
   "cell_type": "code",
   "execution_count": null,
   "metadata": {},
   "outputs": [],
   "source": [
    "out_to_file(cluster_labels, files[cut==0], name='hier')"
   ]
  },
  {
   "cell_type": "markdown",
   "metadata": {},
   "source": [
    "## LDA"
   ]
  },
  {
   "cell_type": "code",
   "execution_count": null,
   "metadata": {},
   "outputs": [],
   "source": [
    "from sklearn.decomposition import LatentDirichletAllocation"
   ]
  },
  {
   "cell_type": "code",
   "execution_count": null,
   "metadata": {},
   "outputs": [],
   "source": [
    "lda = LatentDirichletAllocation(n_components=n_clusters)"
   ]
  },
  {
   "cell_type": "code",
   "execution_count": null,
   "metadata": {},
   "outputs": [],
   "source": [
    "lda_data = lda.fit_transform(data)\n",
    "cluster_labels = np.argmax(lda_data, axis=1)\n",
    "classes = np.arange(0, np.max(cluster_labels)+1)"
   ]
  },
  {
   "cell_type": "code",
   "execution_count": null,
   "metadata": {},
   "outputs": [],
   "source": [
    "fig=plt.figure(figsize=(15,15))\n",
    "for i in range(cluster_labels.max()+1):\n",
    "    plt.scatter(lda_data[cluster_labels==i].T[3],lda_data[cluster_labels==i].T[4], label=classes[i], c=colors_cycle[i])\n",
    "plt.legend(ncol=4, fontsize=10)\n",
    "#plt.xlim(red_data.T[0].min(),red_data.T[0].max())\n",
    "plt.tick_params(labelsize=20)\n",
    "plt.show()\n",
    "fig.savefig(\"lda_02.pdf\")"
   ]
  },
  {
   "cell_type": "markdown",
   "metadata": {},
   "source": [
    "## hSBM"
   ]
  },
  {
   "cell_type": "code",
   "execution_count": 13,
   "metadata": {},
   "outputs": [
    {
     "name": "stderr",
     "output_type": "stream",
     "text": [
      "/home/fvalle/anaconda3/envs/phd/lib/python3.6/site-packages/graph_tool/all.py:40: RuntimeWarning: Error importing draw module, proceeding nevertheless: /home/fvalle/anaconda3/envs/phd/lib/python3.6/site-packages/graph_tool/draw/libgraph_tool_draw.so: undefined symbol: _ZN5Cairo7Context9show_textERKNSt7__cxx1112basic_stringIcSt11char_traitsIcESaIcEEE\n",
      "  warnings.warn(msg, RuntimeWarning)\n"
     ]
    }
   ],
   "source": [
    "from master_thesis.hsbm.sbmtm import sbmtm"
   ]
  },
  {
   "cell_type": "code",
   "execution_count": 14,
   "metadata": {},
   "outputs": [],
   "source": [
    "hsbm = sbmtm()"
   ]
  },
  {
   "cell_type": "code",
   "execution_count": 15,
   "metadata": {},
   "outputs": [
    {
     "data": {
      "text/plain": [
       "<master_thesis.hsbm.sbmtm.sbmtm at 0x7fd2b6e84828>"
      ]
     },
     "execution_count": 15,
     "metadata": {},
     "output_type": "execute_result"
    }
   ],
   "source": [
    "hsbm.make_graph_from_BoW_df(pd.DataFrame(data=data))"
   ]
  },
  {
   "cell_type": "code",
   "execution_count": 16,
   "metadata": {},
   "outputs": [],
   "source": [
    "hsbm.save_graph(\"graph.xml.gz\")"
   ]
  },
  {
   "cell_type": "code",
   "execution_count": null,
   "metadata": {},
   "outputs": [],
   "source": [
    "hsbm.fit()"
   ]
  },
  {
   "cell_type": "code",
   "execution_count": null,
   "metadata": {},
   "outputs": [],
   "source": [
    "hsbm_data = pd.read_csv(\"topsbm/topsbm_level_3_topic-dist.csv\").set_index('doc').reindex(index=[s[:24] for s in files]).drop('i_doc',1).fillna(0).values"
   ]
  },
  {
   "cell_type": "code",
   "execution_count": null,
   "metadata": {},
   "outputs": [],
   "source": [
    "fig=plt.figure(figsize=(15,15))\n",
    "for i in range(cluster_labels.max()+1):\n",
    "    plt.scatter(hsbm_data[cluster_labels==i].T[0],hsbm_data[cluster_labels==i].T[1], label=classes[i], c=colors_cycle[i])\n",
    "plt.legend(ncol=4, fontsize=10)\n",
    "#plt.xlim(red_data.T[0].min(),red_data.T[0].max())\n",
    "plt.tick_params(labelsize=20)\n",
    "plt.show()\n",
    "fig.savefig(\"hsbm_02.pdf\")"
   ]
  },
  {
   "cell_type": "markdown",
   "metadata": {},
   "source": [
    "## t-SNE"
   ]
  },
  {
   "cell_type": "code",
   "execution_count": null,
   "metadata": {},
   "outputs": [],
   "source": [
    "from sklearn.manifold import TSNE"
   ]
  },
  {
   "cell_type": "code",
   "execution_count": null,
   "metadata": {},
   "outputs": [],
   "source": [
    "tsne = TSNE(n_components=2)"
   ]
  },
  {
   "cell_type": "code",
   "execution_count": null,
   "metadata": {},
   "outputs": [],
   "source": [
    "emb_data = tsne.fit_transform(data)"
   ]
  },
  {
   "cell_type": "code",
   "execution_count": null,
   "metadata": {},
   "outputs": [],
   "source": [
    "fig=plt.figure(figsize=(15,15))\n",
    "for i in range(cluster_labels.max()+1):\n",
    "    plt.scatter(emb_data[cluster_labels==i].T[0],emb_data[cluster_labels==i].T[1], label=classes[i], c=colors_cycle[i])\n",
    "plt.legend(ncol=4, fontsize=10)\n",
    "#plt.xlim(red_data.T[0].min(),red_data.T[0].max())\n",
    "plt.tick_params(labelsize=20)\n",
    "plt.show()\n",
    "fig.savefig(\"tsne_02.pdf\")"
   ]
  },
  {
   "cell_type": "markdown",
   "metadata": {},
   "source": [
    "## TM"
   ]
  },
  {
   "cell_type": "code",
   "execution_count": null,
   "metadata": {},
   "outputs": [],
   "source": [
    "tm_data = pd.read_csv(\"tm/tm_level_0_topic-dist.csv\").set_index('doc').reindex(index=files).drop('i_doc',1).fillna(0).values"
   ]
  },
  {
   "cell_type": "code",
   "execution_count": null,
   "metadata": {},
   "outputs": [],
   "source": [
    "fig=plt.figure(figsize=(15,15))\n",
    "for i in range(cluster_labels.max()+1):\n",
    "    plt.scatter(tm_data[cluster_labels==i].T[0],tm_data[cluster_labels==i].T[2], label=classes[i], c=colors_cycle[i])\n",
    "plt.legend(ncol=4, fontsize=10)\n",
    "#plt.xlim(red_data.T[0].min(),red_data.T[0].max())\n",
    "plt.tick_params(labelsize=20)\n",
    "plt.show()\n",
    "fig.savefig(\"tm_02.pdf\")"
   ]
  },
  {
   "cell_type": "code",
   "execution_count": null,
   "metadata": {},
   "outputs": [],
   "source": []
  },
  {
   "cell_type": "code",
   "execution_count": null,
   "metadata": {},
   "outputs": [],
   "source": []
  },
  {
   "cell_type": "code",
   "execution_count": null,
   "metadata": {},
   "outputs": [],
   "source": []
  },
  {
   "cell_type": "code",
   "execution_count": null,
   "metadata": {},
   "outputs": [],
   "source": [
    "from master_thesis.hsbmpy import out_to_file"
   ]
  },
  {
   "cell_type": "code",
   "execution_count": null,
   "metadata": {},
   "outputs": [],
   "source": [
    "out_to_file(cluster_labels, files, name='lda')"
   ]
  },
  {
   "cell_type": "code",
   "execution_count": null,
   "metadata": {},
   "outputs": [],
   "source": [
    "df_file = pd.read_csv(\"https://storage.googleapis.com/gtex_analysis_v7/annotations/GTEx_v7_Annotations_SampleAttributesDS.txt\", sep='\\t').loc[:,['SAMPID','SMTS', 'SMTSD']]\n",
    "df_file.set_index('SAMPID', inplace=True)"
   ]
  },
  {
   "cell_type": "code",
   "execution_count": null,
   "metadata": {},
   "outputs": [],
   "source": [
    "df_file.reindex(index=files).to_csv(\"files.dat\")"
   ]
  },
  {
   "cell_type": "code",
   "execution_count": null,
   "metadata": {},
   "outputs": [],
   "source": []
  }
 ],
 "metadata": {
  "kernelspec": {
   "display_name": "Python 3",
   "language": "python",
   "name": "python3"
  },
  "language_info": {
   "codemirror_mode": {
    "name": "ipython",
    "version": 3
   },
   "file_extension": ".py",
   "mimetype": "text/x-python",
   "name": "python",
   "nbconvert_exporter": "python",
   "pygments_lexer": "ipython3",
   "version": "3.6.9"
  }
 },
 "nbformat": 4,
 "nbformat_minor": 2
}

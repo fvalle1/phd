{
 "cells": [
  {
   "cell_type": "code",
   "execution_count": null,
   "metadata": {},
   "outputs": [],
   "source": [
    "import pandas as pd\n",
    "import numpy as np\n",
    "import matplotlib.pyplot as plt\n",
    "from pandarallel import pandarallel\n",
    "pandarallel.initialize(shm_size_mb=4000, progress_bar=True)"
   ]
  },
  {
   "cell_type": "code",
   "execution_count": null,
   "metadata": {},
   "outputs": [],
   "source": [
    "df = pd.read_csv(\"/home/fvalle/phd/datasets/merged/mainTable.csv\", index_col=0)\n",
    "df_files = pd.read_csv(\"/home/fvalle/phd/datasets/merged/files.dat\", index_col=0)"
   ]
  },
  {
   "cell_type": "code",
   "execution_count": null,
   "metadata": {},
   "outputs": [],
   "source": [
    "#fpkm threshholds\n",
    "df = df.where(df<1e5,1e5)\n",
    "df = df.where(df>1e-1,0)"
   ]
  },
  {
   "cell_type": "code",
   "execution_count": null,
   "metadata": {},
   "outputs": [],
   "source": [
    "def get_site_columns(site='Breast'):\n",
    "    return df_files[df_files['site']==site].index.values\n",
    "\n",
    "def get_not_site_columns(site='Breast'):\n",
    "    return df_files[df_files['site']!=site].index.values"
   ]
  },
  {
   "cell_type": "code",
   "execution_count": null,
   "metadata": {},
   "outputs": [],
   "source": [
    "gene = df.index[130]"
   ]
  },
  {
   "cell_type": "code",
   "execution_count": null,
   "metadata": {},
   "outputs": [],
   "source": [
    "HDE_genes = []\n",
    "sigmadiff = []"
   ]
  },
  {
   "cell_type": "code",
   "execution_count": null,
   "metadata": {
    "scrolled": true
   },
   "outputs": [],
   "source": [
    "for gene in df.index:\n",
    "    print(gene)\n",
    "    bins=np.linspace(1e-1,df.loc[gene,:].max(),100)\n",
    "    T_data = df[get_site_columns()].loc[gene,:].astype(float).values\n",
    "    NT_data = df[get_not_site_columns()].loc[gene,:].astype(float).values\n",
    "    T_mean = T_data.mean()\n",
    "    NT_mean = NT_data.mean()\n",
    "    NT_sigma = NT_data.std()\n",
    "    sigmadiff.append([gene, np.abs(NT_mean-T_mean)/NT_sigma])\n",
    "    if np.abs(NT_mean-T_mean) > 0.5*NT_sigma:\n",
    "        fig=plt.figure()\n",
    "        plt.title(gene)\n",
    "        nT,_,_ = plt.hist(T_data, density=True, histtype='step', bins=bins)\n",
    "        nNT,_,_ = plt.hist(NT_data, density=True, histtype='step', bins=bins)\n",
    "        plot_max = np.where(nT>nNT,nT,nNT).max()\n",
    "        plt.vlines([T_mean, NT_mean],0,plot_max, linestyles='dashed', colors=['b','orange'])\n",
    "        plt.vlines([NT_mean-NT_sigma, NT_mean+NT_sigma],0, plot_max, colors='red')\n",
    "        plt.tick_params(labelsize=18)\n",
    "        plt.xticks(rotation=90)\n",
    "        plt.show()\n",
    "        HDE_genes.append(gene)"
   ]
  },
  {
   "cell_type": "code",
   "execution_count": null,
   "metadata": {
    "scrolled": true
   },
   "outputs": [],
   "source": [
    "means = df.parallel_apply(lambda x: x[get_not_site_columns()].mean(), axis=1)\n",
    "variances = df.parallel_apply(lambda x: x[get_not_site_columns()].var(), axis=1)\n",
    "means_T = df.parallel_apply(lambda x: x[get_site_columns()].mean(), axis=1)\n",
    "variances_T = df.parallel_apply(lambda x: x[get_site_columns()].var(), axis=1)"
   ]
  },
  {
   "cell_type": "code",
   "execution_count": null,
   "metadata": {},
   "outputs": [],
   "source": [
    "df_info = pd.DataFrame(index=df.index)\n",
    "df_info.insert(0,'mean', means)\n",
    "df_info.insert(1,'std', variances.apply(np.sqrt))\n",
    "df_info.insert(2,'mean_T', means_T)\n",
    "df_info.insert(3,'std_T', variances_T.apply(np.sqrt))\n",
    "df_info.insert(4,'(mean-mean_T)/std', (means-means_T).apply(np.abs)/variances.apply(np.sqrt))\n",
    "df_info.insert(5,'cv2_T', variances_T/means_T/means_T)\n",
    "df_info.insert(6,'cv2', variances/means/means)\n",
    "df_info = df_info.sort_values(by='(mean-mean_T)/std', ascending=False)"
   ]
  },
  {
   "cell_type": "code",
   "execution_count": null,
   "metadata": {},
   "outputs": [],
   "source": [
    "#df_info.to_csv(\"df_info.csv\", index=True, header=True)\n",
    "df_info = pd.read_csv(\"df_info.csv\", index_col=0)\n",
    "df_info"
   ]
  },
  {
   "cell_type": "code",
   "execution_count": null,
   "metadata": {},
   "outputs": [],
   "source": [
    "HDE_genes = df_info.index.values"
   ]
  },
  {
   "cell_type": "code",
   "execution_count": null,
   "metadata": {},
   "outputs": [],
   "source": [
    "fig, ax=plt.subplots()\n",
    "df.loc['CELA3A',get_site_columns()].hist(density=True, ax=ax, bins=np.linspace(0,10000,10), histtype='step')\n",
    "df.loc['CELA3A',get_not_site_columns()].hist(density=True, ax=ax, bins=np.linspace(0,10000,10), histtype='step')"
   ]
  },
  {
   "cell_type": "code",
   "execution_count": null,
   "metadata": {},
   "outputs": [],
   "source": [
    "plt.scatter(df_info['mean'], df_info['mean_T'])\n",
    "plt.xscale('log')\n",
    "plt.yscale('log')"
   ]
  },
  {
   "cell_type": "code",
   "execution_count": null,
   "metadata": {},
   "outputs": [],
   "source": [
    "plt.scatter(df_info['mean_T'],df_info['cv2_T'])\n",
    "plt.plot(df_info['mean_T'],1./df_info['mean_T'])\n",
    "plt.xscale('log')\n",
    "plt.yscale('log')\n",
    "plt.ylim(1e-3,1e6)\n",
    "plt.xlim(1e-2,1e5)"
   ]
  },
  {
   "cell_type": "code",
   "execution_count": null,
   "metadata": {},
   "outputs": [],
   "source": [
    "with open(\"HDE_Breast.txt\", 'w') as f:\n",
    "    for g in HDE_genes:\n",
    "        f.write(\"%s\\n\"%g)"
   ]
  },
  {
   "cell_type": "code",
   "execution_count": null,
   "metadata": {},
   "outputs": [],
   "source": [
    "HDE_genes"
   ]
  },
  {
   "cell_type": "code",
   "execution_count": null,
   "metadata": {},
   "outputs": [],
   "source": []
  }
 ],
 "metadata": {
  "kernelspec": {
   "display_name": "Python 3",
   "language": "python",
   "name": "python3"
  },
  "language_info": {
   "codemirror_mode": {
    "name": "ipython",
    "version": 3
   },
   "file_extension": ".py",
   "mimetype": "text/x-python",
   "name": "python",
   "nbconvert_exporter": "python",
   "pygments_lexer": "ipython3",
   "version": "3.6.9"
  }
 },
 "nbformat": 4,
 "nbformat_minor": 2
}

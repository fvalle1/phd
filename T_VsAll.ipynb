{
 "cells": [
  {
   "cell_type": "code",
   "execution_count": null,
   "metadata": {},
   "outputs": [],
   "source": [
    "import pandas as pd\n",
    "import numpy as np\n",
    "import matplotlib.pyplot as plt\n",
    "from pandarallel import pandarallel\n",
    "pandarallel.initialize(nb_workers=4, shm_size_mb=4000, progress_bar=True)"
   ]
  },
  {
   "cell_type": "code",
   "execution_count": null,
   "metadata": {},
   "outputs": [],
   "source": [
    "df = pd.read_csv(\"datasets/merged/mainTable.csv\", index_col=0)\n",
    "df_files = pd.read_csv(\"datasets/merged/files.dat\", index_col=0)\n",
    "df_files = df_files[df_files.index.isin(df.columns)]\n",
    "df_files['primary_site'].unique()"
   ]
  },
  {
   "cell_type": "code",
   "execution_count": null,
   "metadata": {},
   "outputs": [],
   "source": [
    "#fpkm threshholds\n",
    "df = df.where(df<1e5,1e5)\n",
    "df = df.where(df>1e-1,0)"
   ]
  },
  {
   "cell_type": "code",
   "execution_count": null,
   "metadata": {},
   "outputs": [],
   "source": [
    "def get_site_columns(site='Colon'):\n",
    "    return df_files[df_files['primary_site']==site].index.values\n",
    "\n",
    "def get_not_site_columns(site='Colon'):\n",
    "    return df_files[df_files['primary_site']!=site].index.values"
   ]
  },
  {
   "cell_type": "code",
   "execution_count": null,
   "metadata": {},
   "outputs": [],
   "source": [
    "site = \"Breast\"\n",
    "HDE_genes = []\n",
    "sigmadiff = []"
   ]
  },
  {
   "cell_type": "code",
   "execution_count": null,
   "metadata": {},
   "outputs": [],
   "source": [
    "for gene in df.index:\n",
    "    print(gene)\n",
    "    bins=np.linspace(1e-1,df.loc[gene,:].max(),100)\n",
    "    T_data = df[get_site_columns(site)].loc[gene,:].astype(float).values\n",
    "    NT_data = df[get_not_site_columns(site)].loc[gene,:].astype(float).values\n",
    "    T_mean = T_data.mean()\n",
    "    NT_mean = NT_data.mean()\n",
    "    NT_sigma = NT_data.std()\n",
    "    sigmadiff.append([gene, np.abs(NT_mean-T_mean)/NT_sigma])\n",
    "    if np.abs(NT_mean-T_mean) > 0.5*NT_sigma:\n",
    "        fig=plt.figure()\n",
    "        plt.title(gene)\n",
    "        nT,_,_ = plt.hist(T_data, density=True, histtype='step', bins=bins)\n",
    "        nNT,_,_ = plt.hist(NT_data, density=True, histtype='step', bins=bins)\n",
    "        plot_max = np.where(nT>nNT,nT,nNT).max()\n",
    "        plt.vlines([T_mean, NT_mean],0,plot_max, linestyles='dashed', colors=['b','orange'])\n",
    "        plt.vlines([NT_mean-NT_sigma, NT_mean+NT_sigma],0, plot_max, colors='red')\n",
    "        plt.tick_params(labelsize=18)\n",
    "        plt.xticks(rotation=90)\n",
    "        plt.show()\n",
    "        HDE_genes.append(gene)"
   ]
  },
  {
   "cell_type": "code",
   "execution_count": null,
   "metadata": {},
   "outputs": [],
   "source": [
    "means = df.parallel_apply(lambda x: x[get_not_site_columns()].mean(), axis=1)\n",
    "variances = df.parallel_apply(lambda x: x[get_not_site_columns()].var(), axis=1)\n",
    "means_T = df.parallel_apply(lambda x: x[get_site_columns()].mean(), axis=1)\n",
    "variances_T = df.parallel_apply(lambda x: x[get_site_columns()].var(), axis=1)"
   ]
  },
  {
   "cell_type": "code",
   "execution_count": null,
   "metadata": {},
   "outputs": [],
   "source": [
    "df_info = pd.DataFrame(index=df.index)\n",
    "df_info.insert(0,'mean', means)\n",
    "df_info.insert(1,'std', variances.apply(np.sqrt))\n",
    "df_info.insert(2,'mean_T', means_T)\n",
    "df_info.insert(3,'std_T', variances_T.apply(np.sqrt))\n",
    "df_info.insert(4,'(mean-mean_T)/std', (means-means_T).apply(np.abs)/variances.apply(np.sqrt))\n",
    "df_info.insert(5,'cv2_T', variances_T/means_T/means_T)\n",
    "df_info.insert(6,'cv2', variances/means/means)\n",
    "df_info = df_info.sort_values(by='(mean-mean_T)/std', ascending=False)"
   ]
  },
  {
   "cell_type": "code",
   "execution_count": null,
   "metadata": {},
   "outputs": [],
   "source": [
    "df_info.to_csv(\"df_info.csv\", index=True, header=True)\n",
    "#df_info = pd.read_csv(\"df_info.csv\", index_col=0)\n",
    "df_info"
   ]
  },
  {
   "cell_type": "code",
   "execution_count": null,
   "metadata": {},
   "outputs": [],
   "source": [
    "HDE_genes = df_info.index.values"
   ]
  },
  {
   "cell_type": "code",
   "execution_count": null,
   "metadata": {},
   "outputs": [],
   "source": [
    "fig, ax=plt.subplots()\n",
    "df.loc['CYP4Z1',get_site_columns()].hist(density=True, ax=ax, bins=np.linspace(0,1000,50), histtype='step')\n",
    "df.loc['CYP4Z1',get_not_site_columns()].hist(density=True, ax=ax, bins=np.linspace(0,1000,50), histtype='step')"
   ]
  },
  {
   "cell_type": "code",
   "execution_count": null,
   "metadata": {},
   "outputs": [],
   "source": [
    "plt.scatter(df_info['mean_T'],df_info['cv2_T'])\n",
    "plt.plot(df_info['mean_T'],1./df_info['mean_T'])\n",
    "plt.xscale('log')\n",
    "plt.yscale('log')\n",
    "plt.ylim(1e-3,1e6)\n",
    "plt.xlim(1e-2,1e5)"
   ]
  },
  {
   "cell_type": "code",
   "execution_count": null,
   "metadata": {},
   "outputs": [],
   "source": [
    "with open(f\"HDE_{site}.txt\", 'w') as f:\n",
    "    for g in HDE_genes:\n",
    "        f.write(\"%s\\n\"%g)"
   ]
  },
  {
   "cell_type": "code",
   "execution_count": null,
   "metadata": {},
   "outputs": [],
   "source": [
    "df_conversion = pd.read_csv(\"https://www.genenames.org/cgi-bin/download/custom?col=gd_app_sym&col=gd_pub_ensembl_id&status=Approved&status=Entry%20Withdrawn&hgnc_dbtag=on&order_by=gd_app_sym_sort&format=text&submit=submit\", sep=\"\\t\", index_col=0)"
   ]
  },
  {
   "cell_type": "code",
   "execution_count": null,
   "metadata": {},
   "outputs": [],
   "source": [
    "pd.Series(data=map(lambda g: df_conversion.at[g, 'Ensembl gene ID'] if g in df_conversion.index else None, HDE_genes)).dropna().to_csv(f\"HDE_{site}.csv\", index=False)"
   ]
  },
  {
   "cell_type": "code",
   "execution_count": null,
   "metadata": {},
   "outputs": [],
   "source": [
    "import os\n",
    "destination = site.lower()\n",
    "if site ==\"Colon\":\n",
    "    destination=\"crectal\"\n",
    "os.system(f\"mv HDE_{site}.txt HDE_{site}.csv df_info.csv datasets/cancers/{destination}/.\")"
   ]
  },
  {
   "cell_type": "code",
   "execution_count": null,
   "metadata": {},
   "outputs": [],
   "source": []
  }
 ],
 "metadata": {
  "kernelspec": {
   "display_name": "Python 3",
   "language": "python",
   "name": "python3"
  },
  "language_info": {
   "codemirror_mode": {
    "name": "ipython",
    "version": 3
   },
   "file_extension": ".py",
   "mimetype": "text/x-python",
   "name": "python",
   "nbconvert_exporter": "python",
   "pygments_lexer": "ipython3",
   "version": "3.7.6"
  },
  "widgets": {
   "application/vnd.jupyter.widget-state+json": {
    "state": {
     "005f8c2e23214b788f4cdb1b25331077": {
      "model_module": "@jupyter-widgets/controls",
      "model_module_version": "1.5.0",
      "model_name": "HBoxModel",
      "state": {
       "children": [
        "IPY_MODEL_ef03d844743d49a98dc872d21d1665b3",
        "IPY_MODEL_043ede9d871743b2b96531644993d2ab"
       ],
       "layout": "IPY_MODEL_9887fa8f557b41059b589640ef9d02c9"
      }
     },
     "00d91dc49d014962af97ec4257ac0edf": {
      "model_module": "@jupyter-widgets/base",
      "model_module_version": "1.2.0",
      "model_name": "LayoutModel",
      "state": {}
     },
     "01bacf4f07d04114af3255fe264a3a89": {
      "model_module": "@jupyter-widgets/base",
      "model_module_version": "1.2.0",
      "model_name": "LayoutModel",
      "state": {}
     },
     "02754e4cc7e14fb2889e29a6ac3a7361": {
      "model_module": "@jupyter-widgets/base",
      "model_module_version": "1.2.0",
      "model_name": "LayoutModel",
      "state": {}
     },
     "02f6b9430e58422ba64d956750b0723d": {
      "model_module": "@jupyter-widgets/controls",
      "model_module_version": "1.5.0",
      "model_name": "HBoxModel",
      "state": {
       "children": [
        "IPY_MODEL_033d2735136647cf8bd61a3636f47aa7",
        "IPY_MODEL_ab90245f63884b3f8051c46bb067ee6c"
       ],
       "layout": "IPY_MODEL_4214bdc4693849ff8ed274fe33c1d9a4"
      }
     },
     "033d2735136647cf8bd61a3636f47aa7": {
      "model_module": "@jupyter-widgets/controls",
      "model_module_version": "1.5.0",
      "model_name": "IntProgressModel",
      "state": {
       "bar_style": "success",
       "description": "100.00%",
       "layout": "IPY_MODEL_528f75d6890a453283ae0207372be118",
       "max": 750,
       "style": "IPY_MODEL_57ea2e5339fa4e4dbb577ffa8f8bcfa0",
       "value": 750
      }
     },
     "0371a7027f154b29b0a64dfdcf109b51": {
      "model_module": "@jupyter-widgets/base",
      "model_module_version": "1.2.0",
      "model_name": "LayoutModel",
      "state": {}
     },
     "043ede9d871743b2b96531644993d2ab": {
      "model_module": "@jupyter-widgets/controls",
      "model_module_version": "1.5.0",
      "model_name": "LabelModel",
      "state": {
       "layout": "IPY_MODEL_ce7e11b476a748a3b64a50cbd963f618",
       "style": "IPY_MODEL_602d7062338f4242bb04557d241b44c8",
       "value": "750 / 750"
      }
     },
     "04a6699243e846bb8662f68a9109d2ab": {
      "model_module": "@jupyter-widgets/controls",
      "model_module_version": "1.5.0",
      "model_name": "LabelModel",
      "state": {
       "layout": "IPY_MODEL_d1438f3b105a4470b3abf4925e843dd5",
       "style": "IPY_MODEL_44ff1e2b0d5f40988038d6bb17e9b830",
       "value": "750 / 750"
      }
     },
     "04aaf51d8a93472e861361b928e6209e": {
      "model_module": "@jupyter-widgets/controls",
      "model_module_version": "1.5.0",
      "model_name": "LabelModel",
      "state": {
       "layout": "IPY_MODEL_1d8dd3c7a4c04b7f81e2c2ae452c343f",
       "style": "IPY_MODEL_df4a83e5cb1a41f5a75599ba5ea3843c",
       "value": "750 / 750"
      }
     },
     "04dc9491ee9b45bc8c92e74af3b9493f": {
      "model_module": "@jupyter-widgets/base",
      "model_module_version": "1.2.0",
      "model_name": "LayoutModel",
      "state": {}
     },
     "04e2eb4e8b77479384ba26275a02b8c8": {
      "model_module": "@jupyter-widgets/controls",
      "model_module_version": "1.5.0",
      "model_name": "LabelModel",
      "state": {
       "layout": "IPY_MODEL_597b531618904434a078d7c8c8ae3438",
       "style": "IPY_MODEL_e73c04704dfd4328815702d16237a233",
       "value": "750 / 750"
      }
     },
     "04ed7f4bf6134f2cbdfd0d90f2e3987d": {
      "model_module": "@jupyter-widgets/controls",
      "model_module_version": "1.5.0",
      "model_name": "DescriptionStyleModel",
      "state": {
       "description_width": ""
      }
     },
     "04f6c2827a8a4cd283eccfdeb3955b5e": {
      "model_module": "@jupyter-widgets/base",
      "model_module_version": "1.2.0",
      "model_name": "LayoutModel",
      "state": {}
     },
     "05b2c530872d4cd5a692ca4e6f4c73ac": {
      "model_module": "@jupyter-widgets/controls",
      "model_module_version": "1.5.0",
      "model_name": "IntProgressModel",
      "state": {
       "bar_style": "success",
       "description": "100.00%",
       "layout": "IPY_MODEL_fd681af75ee147f0a0e3df51b1a1cda0",
       "max": 750,
       "style": "IPY_MODEL_2e96554c23b24b4eaa0d985f36f2505a",
       "value": 750
      }
     },
     "05d6b5dd77b54594ad1575f16fdc6e72": {
      "model_module": "@jupyter-widgets/controls",
      "model_module_version": "1.5.0",
      "model_name": "LabelModel",
      "state": {
       "layout": "IPY_MODEL_1c285ee7baaf46edbd10fdf58a4eb71b",
       "style": "IPY_MODEL_0754d097f2a9408c919e04a07ff52df3",
       "value": "750 / 750"
      }
     },
     "06086dbac29d4d8f9c486f17918d7145": {
      "model_module": "@jupyter-widgets/controls",
      "model_module_version": "1.5.0",
      "model_name": "DescriptionStyleModel",
      "state": {
       "description_width": ""
      }
     },
     "06502a0eeb48429faaa8b06f22d2d83b": {
      "model_module": "@jupyter-widgets/controls",
      "model_module_version": "1.5.0",
      "model_name": "LabelModel",
      "state": {
       "layout": "IPY_MODEL_7cfc403b4f7f4ad8b2b94379b58ab43e",
       "style": "IPY_MODEL_f9f220ea20354f189425e51aff9805ec",
       "value": "750 / 750"
      }
     },
     "068a6dc64ab045fdb8e2c63313c7b500": {
      "model_module": "@jupyter-widgets/controls",
      "model_module_version": "1.5.0",
      "model_name": "ProgressStyleModel",
      "state": {
       "description_width": ""
      }
     },
     "069110d9271f4a13a4ce08695a4b451c": {
      "model_module": "@jupyter-widgets/base",
      "model_module_version": "1.2.0",
      "model_name": "LayoutModel",
      "state": {}
     },
     "071c324941ff4b138ed18b9564f89fcf": {
      "model_module": "@jupyter-widgets/base",
      "model_module_version": "1.2.0",
      "model_name": "LayoutModel",
      "state": {}
     },
     "0754d097f2a9408c919e04a07ff52df3": {
      "model_module": "@jupyter-widgets/controls",
      "model_module_version": "1.5.0",
      "model_name": "DescriptionStyleModel",
      "state": {
       "description_width": ""
      }
     },
     "076c9f8a2e4e4e878107b905eb441ddf": {
      "model_module": "@jupyter-widgets/controls",
      "model_module_version": "1.5.0",
      "model_name": "DescriptionStyleModel",
      "state": {
       "description_width": ""
      }
     },
     "078431aad8104c26b5df45b5f38c762c": {
      "model_module": "@jupyter-widgets/base",
      "model_module_version": "1.2.0",
      "model_name": "LayoutModel",
      "state": {}
     },
     "080f98733b8e4ffd868acbda366f4bc8": {
      "model_module": "@jupyter-widgets/controls",
      "model_module_version": "1.5.0",
      "model_name": "DescriptionStyleModel",
      "state": {
       "description_width": ""
      }
     },
     "0849ad21c9d94408b9ca7ecab3bba9f0": {
      "model_module": "@jupyter-widgets/controls",
      "model_module_version": "1.5.0",
      "model_name": "LabelModel",
      "state": {
       "layout": "IPY_MODEL_537f811df67e4dd99ba1018217682a85",
       "style": "IPY_MODEL_8059e29c23de4ec5ae4e10610939d6fd",
       "value": "750 / 750"
      }
     },
     "087f9f9ec3084c3e8c6d1b60da270969": {
      "model_module": "@jupyter-widgets/base",
      "model_module_version": "1.2.0",
      "model_name": "LayoutModel",
      "state": {}
     },
     "08a697d35884417a97f24c143742bf71": {
      "model_module": "@jupyter-widgets/base",
      "model_module_version": "1.2.0",
      "model_name": "LayoutModel",
      "state": {}
     },
     "08c8cb0993054886a83219e8e7a0e81d": {
      "model_module": "@jupyter-widgets/controls",
      "model_module_version": "1.5.0",
      "model_name": "HBoxModel",
      "state": {
       "children": [
        "IPY_MODEL_b2a1c1dd799b44468f68c01876a52f65",
        "IPY_MODEL_b624af5e72bf41ee8d8b9f14295d4717"
       ],
       "layout": "IPY_MODEL_14756badf55e4542ba0a1e899aed7326"
      }
     },
     "08cc35df300e4aaaa779441d9c2f384e": {
      "model_module": "@jupyter-widgets/base",
      "model_module_version": "1.2.0",
      "model_name": "LayoutModel",
      "state": {}
     },
     "08ff6e37e2f04a21839a6893fbf10ed7": {
      "model_module": "@jupyter-widgets/controls",
      "model_module_version": "1.5.0",
      "model_name": "ProgressStyleModel",
      "state": {
       "description_width": ""
      }
     },
     "09555ff63ef94668b83a9c88d489a3b5": {
      "model_module": "@jupyter-widgets/controls",
      "model_module_version": "1.5.0",
      "model_name": "LabelModel",
      "state": {
       "layout": "IPY_MODEL_31a8a684956b42b6b6a4940e4aaf8840",
       "style": "IPY_MODEL_06086dbac29d4d8f9c486f17918d7145",
       "value": "750 / 750"
      }
     },
     "098e431e92494a9781427680848529d3": {
      "model_module": "@jupyter-widgets/controls",
      "model_module_version": "1.5.0",
      "model_name": "DescriptionStyleModel",
      "state": {
       "description_width": ""
      }
     },
     "099b953a46d94dd4a5707e385a38c4b3": {
      "model_module": "@jupyter-widgets/controls",
      "model_module_version": "1.5.0",
      "model_name": "ProgressStyleModel",
      "state": {
       "description_width": ""
      }
     },
     "09cec328d84b420fba66f84d978caa42": {
      "model_module": "@jupyter-widgets/base",
      "model_module_version": "1.2.0",
      "model_name": "LayoutModel",
      "state": {}
     },
     "09e8ee2843a7499fb0177cb6befa0fec": {
      "model_module": "@jupyter-widgets/controls",
      "model_module_version": "1.5.0",
      "model_name": "HBoxModel",
      "state": {
       "children": [
        "IPY_MODEL_9f21311047ea4d62b264d3da57227f03",
        "IPY_MODEL_6756d3b9042543bdba72e171c4e35758"
       ],
       "layout": "IPY_MODEL_1324a21d304648da92873360f92f4c63"
      }
     },
     "09ea30bcc6154778ab27c15da62d8b8f": {
      "model_module": "@jupyter-widgets/controls",
      "model_module_version": "1.5.0",
      "model_name": "HBoxModel",
      "state": {
       "children": [
        "IPY_MODEL_601fb44f4b504bddb6d6751286892ccd",
        "IPY_MODEL_675715f1d3f640118441c01ba0ab88b2"
       ],
       "layout": "IPY_MODEL_dc187d114ce44821aa3d85cb3582e2e2"
      }
     },
     "0a4546afd3df4fd784678d545611eb12": {
      "model_module": "@jupyter-widgets/controls",
      "model_module_version": "1.5.0",
      "model_name": "LabelModel",
      "state": {
       "layout": "IPY_MODEL_c559c3862a0843f19cafb8da04181052",
       "style": "IPY_MODEL_baa1e2e49d254d0cb4bfa142f296258d",
       "value": "750 / 750"
      }
     },
     "0a4e3a4410fe4d6aa39ae2f5dc34fb16": {
      "model_module": "@jupyter-widgets/base",
      "model_module_version": "1.2.0",
      "model_name": "LayoutModel",
      "state": {}
     },
     "0afa48f70c914825a4f2cebec908657e": {
      "model_module": "@jupyter-widgets/controls",
      "model_module_version": "1.5.0",
      "model_name": "VBoxModel",
      "state": {
       "children": [
        "IPY_MODEL_cce334f6c8e0439eb5298c99d4b18203",
        "IPY_MODEL_8dfbf98571fb415b8da17ad29fe2bd3d",
        "IPY_MODEL_5589ec51398d440cbffae9c3b51cbec8",
        "IPY_MODEL_b4828d8cf9304522b807b35afa821bf7"
       ],
       "layout": "IPY_MODEL_0a4e3a4410fe4d6aa39ae2f5dc34fb16"
      }
     },
     "0ba85b4b37664c7b98f70ef2a86571e3": {
      "model_module": "@jupyter-widgets/controls",
      "model_module_version": "1.5.0",
      "model_name": "DescriptionStyleModel",
      "state": {
       "description_width": ""
      }
     },
     "0bf6cbfc5ca14888b09d385b23dbbb5e": {
      "model_module": "@jupyter-widgets/controls",
      "model_module_version": "1.5.0",
      "model_name": "DescriptionStyleModel",
      "state": {
       "description_width": ""
      }
     },
     "0c0cae7c3ce84a4590aee614b2f6f118": {
      "model_module": "@jupyter-widgets/controls",
      "model_module_version": "1.5.0",
      "model_name": "DescriptionStyleModel",
      "state": {
       "description_width": ""
      }
     },
     "0def60ecf1224d8492243c8dcc900887": {
      "model_module": "@jupyter-widgets/base",
      "model_module_version": "1.2.0",
      "model_name": "LayoutModel",
      "state": {}
     },
     "0feb0af6debd4022b193a7f10948caac": {
      "model_module": "@jupyter-widgets/base",
      "model_module_version": "1.2.0",
      "model_name": "LayoutModel",
      "state": {}
     },
     "10d250287b8640538e0f25ad9488c09e": {
      "model_module": "@jupyter-widgets/controls",
      "model_module_version": "1.5.0",
      "model_name": "ProgressStyleModel",
      "state": {
       "description_width": ""
      }
     },
     "1134b77b8ee247a6803faeed88ce2b38": {
      "model_module": "@jupyter-widgets/controls",
      "model_module_version": "1.5.0",
      "model_name": "IntProgressModel",
      "state": {
       "bar_style": "success",
       "description": "100.00%",
       "layout": "IPY_MODEL_4393846c978f47faa3fac96a34f9eba6",
       "max": 750,
       "style": "IPY_MODEL_4bdc4ed8d14845688474a8661e3bd52d",
       "value": 750
      }
     },
     "1162d464be7f42fab876b565ceb83fd9": {
      "model_module": "@jupyter-widgets/controls",
      "model_module_version": "1.5.0",
      "model_name": "LabelModel",
      "state": {
       "layout": "IPY_MODEL_4b9217bf50b84e509016e611326a2f2b",
       "style": "IPY_MODEL_f973040243e74f5d9f81b4b10e58f10d",
       "value": "750 / 750"
      }
     },
     "11b2756799d24261aac5f30119e4d34d": {
      "model_module": "@jupyter-widgets/controls",
      "model_module_version": "1.5.0",
      "model_name": "LabelModel",
      "state": {
       "layout": "IPY_MODEL_f803fa19661d42f48d1854b2e8bf4a8e",
       "style": "IPY_MODEL_0ba85b4b37664c7b98f70ef2a86571e3",
       "value": "750 / 750"
      }
     },
     "11d5d30c23024138a3d5f25c9a94ab5d": {
      "model_module": "@jupyter-widgets/controls",
      "model_module_version": "1.5.0",
      "model_name": "DescriptionStyleModel",
      "state": {
       "description_width": ""
      }
     },
     "11e7df15495e4532aca7f8ae86bc6680": {
      "model_module": "@jupyter-widgets/controls",
      "model_module_version": "1.5.0",
      "model_name": "HBoxModel",
      "state": {
       "children": [
        "IPY_MODEL_350c9a27ebea46f484bf77354b07a094",
        "IPY_MODEL_0849ad21c9d94408b9ca7ecab3bba9f0"
       ],
       "layout": "IPY_MODEL_6f059593e5da4518be582581addfb13c"
      }
     },
     "129a7b99ca5c4b329d336601076454bc": {
      "model_module": "@jupyter-widgets/base",
      "model_module_version": "1.2.0",
      "model_name": "LayoutModel",
      "state": {}
     },
     "130d8b215e6a42188aa45404aee0c212": {
      "model_module": "@jupyter-widgets/base",
      "model_module_version": "1.2.0",
      "model_name": "LayoutModel",
      "state": {}
     },
     "1324a21d304648da92873360f92f4c63": {
      "model_module": "@jupyter-widgets/base",
      "model_module_version": "1.2.0",
      "model_name": "LayoutModel",
      "state": {}
     },
     "13a3ff8d0cc24b26b42a5a8bc5a38345": {
      "model_module": "@jupyter-widgets/controls",
      "model_module_version": "1.5.0",
      "model_name": "DescriptionStyleModel",
      "state": {
       "description_width": ""
      }
     },
     "13c9d02330204f83b60b993d0cdc9438": {
      "model_module": "@jupyter-widgets/controls",
      "model_module_version": "1.5.0",
      "model_name": "HBoxModel",
      "state": {
       "children": [
        "IPY_MODEL_82274e92a81242ca949eefd9f7e8c878",
        "IPY_MODEL_f43f98198b1d41cab993da4c1b6b8bfa"
       ],
       "layout": "IPY_MODEL_ced9a8dcda444de6b568b07f60f0e66b"
      }
     },
     "13e90130bb02432ca23cb6bcb5ee862b": {
      "model_module": "@jupyter-widgets/controls",
      "model_module_version": "1.5.0",
      "model_name": "VBoxModel",
      "state": {
       "children": [
        "IPY_MODEL_24934f4878d34d8f8cd421b43ef5f9c7",
        "IPY_MODEL_43b79e1d06814aa0ba76a08eace898c0",
        "IPY_MODEL_02f6b9430e58422ba64d956750b0723d",
        "IPY_MODEL_d30f1de9e0f34380b3b2b78e725db115"
       ],
       "layout": "IPY_MODEL_21d562f2f12e457292669f9bc6f48bc8"
      }
     },
     "14756badf55e4542ba0a1e899aed7326": {
      "model_module": "@jupyter-widgets/base",
      "model_module_version": "1.2.0",
      "model_name": "LayoutModel",
      "state": {}
     },
     "147bd8ad1ef849be84466dc296fc589d": {
      "model_module": "@jupyter-widgets/controls",
      "model_module_version": "1.5.0",
      "model_name": "LabelModel",
      "state": {
       "layout": "IPY_MODEL_94e2d6a3481f4556b8f11b90974bb4e2",
       "style": "IPY_MODEL_ad4423d4036d47859933dbba02c8488b",
       "value": "750 / 750"
      }
     },
     "15812fb5b0a2451b841b0196feb05b73": {
      "model_module": "@jupyter-widgets/controls",
      "model_module_version": "1.5.0",
      "model_name": "HBoxModel",
      "state": {
       "children": [
        "IPY_MODEL_aca4ce7b826d4a1aaafa609ae00e2243",
        "IPY_MODEL_1162d464be7f42fab876b565ceb83fd9"
       ],
       "layout": "IPY_MODEL_2b874cb574f04dddb5cb00d7a126e22b"
      }
     },
     "16603cc1b9a24f3db29b917a4fcd264f": {
      "model_module": "@jupyter-widgets/base",
      "model_module_version": "1.2.0",
      "model_name": "LayoutModel",
      "state": {}
     },
     "16cd59d95cf04823b34716324972b839": {
      "model_module": "@jupyter-widgets/base",
      "model_module_version": "1.2.0",
      "model_name": "LayoutModel",
      "state": {}
     },
     "16e10bf03efa46f0ae940a13e284b1af": {
      "model_module": "@jupyter-widgets/base",
      "model_module_version": "1.2.0",
      "model_name": "LayoutModel",
      "state": {}
     },
     "1709af49a1884a94abcf38e052cc8697": {
      "model_module": "@jupyter-widgets/base",
      "model_module_version": "1.2.0",
      "model_name": "LayoutModel",
      "state": {}
     },
     "171fd10d15d74459821bed0fc6a595f7": {
      "model_module": "@jupyter-widgets/base",
      "model_module_version": "1.2.0",
      "model_name": "LayoutModel",
      "state": {}
     },
     "1886eec99033478996f7467776425003": {
      "model_module": "@jupyter-widgets/controls",
      "model_module_version": "1.5.0",
      "model_name": "LabelModel",
      "state": {
       "layout": "IPY_MODEL_379c5a65bfcd475fa04dac162c3bfd20",
       "style": "IPY_MODEL_d68a769a8fef4f66b7d352da87a5fbc0",
       "value": "750 / 750"
      }
     },
     "18eb00779cec4c67823052d437785fc6": {
      "model_module": "@jupyter-widgets/base",
      "model_module_version": "1.2.0",
      "model_name": "LayoutModel",
      "state": {}
     },
     "191126ba509146138c7b253b20d98e29": {
      "model_module": "@jupyter-widgets/controls",
      "model_module_version": "1.5.0",
      "model_name": "VBoxModel",
      "state": {
       "children": [
        "IPY_MODEL_5834e7bc8b044d3ebdb70b80d034ee8a",
        "IPY_MODEL_3f6c9da41dfd48e290215a77ba6d2f92",
        "IPY_MODEL_43bf469d94f147f194422b80f1ec1672",
        "IPY_MODEL_005f8c2e23214b788f4cdb1b25331077"
       ],
       "layout": "IPY_MODEL_071c324941ff4b138ed18b9564f89fcf"
      }
     },
     "19cb1afb6f684c13bf363b369acddf10": {
      "model_module": "@jupyter-widgets/controls",
      "model_module_version": "1.5.0",
      "model_name": "ProgressStyleModel",
      "state": {
       "description_width": ""
      }
     },
     "1a1ad1229a2149eba652a4d33e6545ec": {
      "model_module": "@jupyter-widgets/base",
      "model_module_version": "1.2.0",
      "model_name": "LayoutModel",
      "state": {}
     },
     "1af9733214ea4026b997d6ec523fbd6a": {
      "model_module": "@jupyter-widgets/base",
      "model_module_version": "1.2.0",
      "model_name": "LayoutModel",
      "state": {}
     },
     "1b17fef5df124bfc9b74f123edd84629": {
      "model_module": "@jupyter-widgets/controls",
      "model_module_version": "1.5.0",
      "model_name": "IntProgressModel",
      "state": {
       "bar_style": "success",
       "description": "100.00%",
       "layout": "IPY_MODEL_daa62609e3b147ecbb50dc2545d9a1af",
       "max": 750,
       "style": "IPY_MODEL_8d1f5c71ec3a47798c583a512be6448e",
       "value": 750
      }
     },
     "1bff7c6e631c44e7b614df8935c77697": {
      "model_module": "@jupyter-widgets/base",
      "model_module_version": "1.2.0",
      "model_name": "LayoutModel",
      "state": {}
     },
     "1c285ee7baaf46edbd10fdf58a4eb71b": {
      "model_module": "@jupyter-widgets/base",
      "model_module_version": "1.2.0",
      "model_name": "LayoutModel",
      "state": {}
     },
     "1c627a6ff1f04c6ca2d454f8940090ac": {
      "model_module": "@jupyter-widgets/base",
      "model_module_version": "1.2.0",
      "model_name": "LayoutModel",
      "state": {}
     },
     "1cb56f271b1844ed91f685bb9b068498": {
      "model_module": "@jupyter-widgets/base",
      "model_module_version": "1.2.0",
      "model_name": "LayoutModel",
      "state": {}
     },
     "1cbdbcc8edd340bb9771d2b6ac8776f7": {
      "model_module": "@jupyter-widgets/controls",
      "model_module_version": "1.5.0",
      "model_name": "ProgressStyleModel",
      "state": {
       "description_width": ""
      }
     },
     "1d8dd3c7a4c04b7f81e2c2ae452c343f": {
      "model_module": "@jupyter-widgets/base",
      "model_module_version": "1.2.0",
      "model_name": "LayoutModel",
      "state": {}
     },
     "1dc44f23d1aa482484024f0ebdd9a506": {
      "model_module": "@jupyter-widgets/base",
      "model_module_version": "1.2.0",
      "model_name": "LayoutModel",
      "state": {}
     },
     "1e3af1b6db9b4179b8cdffabe078af28": {
      "model_module": "@jupyter-widgets/controls",
      "model_module_version": "1.5.0",
      "model_name": "LabelModel",
      "state": {
       "layout": "IPY_MODEL_b665dd3f6dcd421b97c8f577d8df09ac",
       "style": "IPY_MODEL_4da97031f4dd4411bd0b9776adec78d9",
       "value": "750 / 750"
      }
     },
     "1e75638437134cb797e098ec92333822": {
      "model_module": "@jupyter-widgets/controls",
      "model_module_version": "1.5.0",
      "model_name": "IntProgressModel",
      "state": {
       "bar_style": "success",
       "description": "100.00%",
       "layout": "IPY_MODEL_1f5ea8cb952b4ac190eaf764f31bedbe",
       "max": 750,
       "style": "IPY_MODEL_4e9ade6ede7943b38a2d0d1e9d31efed",
       "value": 750
      }
     },
     "1f5ea8cb952b4ac190eaf764f31bedbe": {
      "model_module": "@jupyter-widgets/base",
      "model_module_version": "1.2.0",
      "model_name": "LayoutModel",
      "state": {}
     },
     "200a3c88ffc34759b5c297597bef9382": {
      "model_module": "@jupyter-widgets/controls",
      "model_module_version": "1.5.0",
      "model_name": "VBoxModel",
      "state": {
       "children": [
        "IPY_MODEL_e3ee14463a7941b1a88d43ed87731a3a",
        "IPY_MODEL_38d737f0289642098c5151f23e743890",
        "IPY_MODEL_98f4b1236a744393b485174ca0c7ccef",
        "IPY_MODEL_09e8ee2843a7499fb0177cb6befa0fec"
       ],
       "layout": "IPY_MODEL_e477d3976ed24b1ea6d548ca70f280f8"
      }
     },
     "203f077af8ec45e0b926730c454bc7e2": {
      "model_module": "@jupyter-widgets/controls",
      "model_module_version": "1.5.0",
      "model_name": "IntProgressModel",
      "state": {
       "bar_style": "success",
       "description": "100.00%",
       "layout": "IPY_MODEL_d8753d3db2084301b3ce808c661d2cc7",
       "max": 750,
       "style": "IPY_MODEL_d9b49f2441b24f59b4f6c0be2d5661f0",
       "value": 750
      }
     },
     "20b38e1a62cf45bba509ab8a5c301343": {
      "model_module": "@jupyter-widgets/base",
      "model_module_version": "1.2.0",
      "model_name": "LayoutModel",
      "state": {}
     },
     "20bb3598723f4ae5b012de6257ab8b1b": {
      "model_module": "@jupyter-widgets/base",
      "model_module_version": "1.2.0",
      "model_name": "LayoutModel",
      "state": {}
     },
     "20bf4536bb5d4cde8f3ece450187d68b": {
      "model_module": "@jupyter-widgets/controls",
      "model_module_version": "1.5.0",
      "model_name": "IntProgressModel",
      "state": {
       "bar_style": "success",
       "description": "100.00%",
       "layout": "IPY_MODEL_1a1ad1229a2149eba652a4d33e6545ec",
       "max": 750,
       "style": "IPY_MODEL_d4ac59cdcf5b4fb2a5512ada089d54e6",
       "value": 750
      }
     },
     "21d562f2f12e457292669f9bc6f48bc8": {
      "model_module": "@jupyter-widgets/base",
      "model_module_version": "1.2.0",
      "model_name": "LayoutModel",
      "state": {}
     },
     "21dd23ccadc04e0f9298913ec5a6c9fe": {
      "model_module": "@jupyter-widgets/base",
      "model_module_version": "1.2.0",
      "model_name": "LayoutModel",
      "state": {}
     },
     "2247718a2e834b4fb19033e3e8c81219": {
      "model_module": "@jupyter-widgets/controls",
      "model_module_version": "1.5.0",
      "model_name": "LabelModel",
      "state": {
       "layout": "IPY_MODEL_3da9bc4aebed4ee0a27994c2c76e3396",
       "style": "IPY_MODEL_dc5ae3be43654b16955cf5617935ef02",
       "value": "750 / 750"
      }
     },
     "224dcba9fe5e4e3aa1cd0deb0898e0f4": {
      "model_module": "@jupyter-widgets/controls",
      "model_module_version": "1.5.0",
      "model_name": "LabelModel",
      "state": {
       "layout": "IPY_MODEL_424b7a3cdc2c47bb8b1995992328ed1c",
       "style": "IPY_MODEL_f492082dd2794b748a9554cc555b6793",
       "value": "750 / 750"
      }
     },
     "22acaf1dd6cf4a9d9d31c779504b8c06": {
      "model_module": "@jupyter-widgets/controls",
      "model_module_version": "1.5.0",
      "model_name": "IntProgressModel",
      "state": {
       "bar_style": "success",
       "description": "100.00%",
       "layout": "IPY_MODEL_b932abf9b47e467ca4cf6c68ca8ead67",
       "max": 750,
       "style": "IPY_MODEL_330d00a6daf5487ea6326a17454cd830",
       "value": 750
      }
     },
     "22e65769932c4a4ab7da32393d3d6c46": {
      "model_module": "@jupyter-widgets/controls",
      "model_module_version": "1.5.0",
      "model_name": "LabelModel",
      "state": {
       "layout": "IPY_MODEL_6ee2382c998e4a4e86163e4d1e34d289",
       "style": "IPY_MODEL_c56df3f07b7e42e086fd0525cd23420a",
       "value": "750 / 750"
      }
     },
     "23c6e39b44fc4156a896afdc689cf08c": {
      "model_module": "@jupyter-widgets/controls",
      "model_module_version": "1.5.0",
      "model_name": "LabelModel",
      "state": {
       "layout": "IPY_MODEL_b98698135aee4564b428f105d6c34c0e",
       "style": "IPY_MODEL_90e2b897cbb8492aa3edc5d3e7543c4f",
       "value": "750 / 750"
      }
     },
     "24934f4878d34d8f8cd421b43ef5f9c7": {
      "model_module": "@jupyter-widgets/controls",
      "model_module_version": "1.5.0",
      "model_name": "HBoxModel",
      "state": {
       "children": [
        "IPY_MODEL_902daeb2d0be49368e1877e8555b70d1",
        "IPY_MODEL_e209a261985e423eb0dd6168174721f3"
       ],
       "layout": "IPY_MODEL_5d60fa098c514c3a814ab02cc4062564"
      }
     },
     "266067076d9c4899b46f1dff7c864522": {
      "model_module": "@jupyter-widgets/controls",
      "model_module_version": "1.5.0",
      "model_name": "ProgressStyleModel",
      "state": {
       "description_width": ""
      }
     },
     "280486ab98564408915009fc2170d8e8": {
      "model_module": "@jupyter-widgets/base",
      "model_module_version": "1.2.0",
      "model_name": "LayoutModel",
      "state": {}
     },
     "2b874cb574f04dddb5cb00d7a126e22b": {
      "model_module": "@jupyter-widgets/base",
      "model_module_version": "1.2.0",
      "model_name": "LayoutModel",
      "state": {}
     },
     "2baeb8446fe144f7816faed11a4857f8": {
      "model_module": "@jupyter-widgets/base",
      "model_module_version": "1.2.0",
      "model_name": "LayoutModel",
      "state": {}
     },
     "2c06bc585bea4b229965096f3d43082f": {
      "model_module": "@jupyter-widgets/base",
      "model_module_version": "1.2.0",
      "model_name": "LayoutModel",
      "state": {}
     },
     "2c07e791f015403895807f80fb17a5b0": {
      "model_module": "@jupyter-widgets/controls",
      "model_module_version": "1.5.0",
      "model_name": "ProgressStyleModel",
      "state": {
       "description_width": ""
      }
     },
     "2c49e57be5e142e4ad3753442c4a9259": {
      "model_module": "@jupyter-widgets/controls",
      "model_module_version": "1.5.0",
      "model_name": "ProgressStyleModel",
      "state": {
       "description_width": ""
      }
     },
     "2c50530485f747ed94354c0ace757bf7": {
      "model_module": "@jupyter-widgets/base",
      "model_module_version": "1.2.0",
      "model_name": "LayoutModel",
      "state": {}
     },
     "2d236ee66d824f9ab12f46a6a080106b": {
      "model_module": "@jupyter-widgets/controls",
      "model_module_version": "1.5.0",
      "model_name": "ProgressStyleModel",
      "state": {
       "description_width": ""
      }
     },
     "2d2966727d984df4918940a6be69bfc1": {
      "model_module": "@jupyter-widgets/controls",
      "model_module_version": "1.5.0",
      "model_name": "LabelModel",
      "state": {
       "layout": "IPY_MODEL_859a0ce8459a416a9a63ec4e74c7472f",
       "style": "IPY_MODEL_cede6d79954a4d999dd157a97a6bfecc",
       "value": "750 / 750"
      }
     },
     "2e96554c23b24b4eaa0d985f36f2505a": {
      "model_module": "@jupyter-widgets/controls",
      "model_module_version": "1.5.0",
      "model_name": "ProgressStyleModel",
      "state": {
       "description_width": ""
      }
     },
     "2e9b37f7e4f6403ab8c1c98221330152": {
      "model_module": "@jupyter-widgets/controls",
      "model_module_version": "1.5.0",
      "model_name": "ProgressStyleModel",
      "state": {
       "description_width": ""
      }
     },
     "2f9d3d82a0ca4d489463a7be397bdeb3": {
      "model_module": "@jupyter-widgets/controls",
      "model_module_version": "1.5.0",
      "model_name": "IntProgressModel",
      "state": {
       "bar_style": "success",
       "description": "100.00%",
       "layout": "IPY_MODEL_8782f361a7fd4184b994ca24cadbf0ed",
       "max": 750,
       "style": "IPY_MODEL_e20acf18c958486a9a284437cc8a3c89",
       "value": 750
      }
     },
     "2ffc27f76c4b488ba5cf42cc31a9a8fb": {
      "model_module": "@jupyter-widgets/controls",
      "model_module_version": "1.5.0",
      "model_name": "DescriptionStyleModel",
      "state": {
       "description_width": ""
      }
     },
     "305dd2948ecd480dbb941b3084aaba92": {
      "model_module": "@jupyter-widgets/base",
      "model_module_version": "1.2.0",
      "model_name": "LayoutModel",
      "state": {}
     },
     "30d6ff03228941cf8f80df3ed3d3b923": {
      "model_module": "@jupyter-widgets/base",
      "model_module_version": "1.2.0",
      "model_name": "LayoutModel",
      "state": {}
     },
     "311ceaca02644e86b524994f3fd00ab8": {
      "model_module": "@jupyter-widgets/controls",
      "model_module_version": "1.5.0",
      "model_name": "IntProgressModel",
      "state": {
       "bar_style": "success",
       "description": "100.00%",
       "layout": "IPY_MODEL_67e2ab2cc3cb4290b1512cf1e25ffc71",
       "max": 750,
       "style": "IPY_MODEL_dc64f198e5b04c0380c2bd8f9586a005",
       "value": 750
      }
     },
     "31a8a684956b42b6b6a4940e4aaf8840": {
      "model_module": "@jupyter-widgets/base",
      "model_module_version": "1.2.0",
      "model_name": "LayoutModel",
      "state": {}
     },
     "330d00a6daf5487ea6326a17454cd830": {
      "model_module": "@jupyter-widgets/controls",
      "model_module_version": "1.5.0",
      "model_name": "ProgressStyleModel",
      "state": {
       "description_width": ""
      }
     },
     "33423e5de6c24a3eb330df753c78b27e": {
      "model_module": "@jupyter-widgets/base",
      "model_module_version": "1.2.0",
      "model_name": "LayoutModel",
      "state": {}
     },
     "33f4b110f6e8431baa47232a3b115518": {
      "model_module": "@jupyter-widgets/controls",
      "model_module_version": "1.5.0",
      "model_name": "LabelModel",
      "state": {
       "layout": "IPY_MODEL_b0d8e74d580c424a9e7e5ec9bfa35c91",
       "style": "IPY_MODEL_098e431e92494a9781427680848529d3",
       "value": "750 / 750"
      }
     },
     "34605d2f2bbd46b19155cfaf0cda228e": {
      "model_module": "@jupyter-widgets/controls",
      "model_module_version": "1.5.0",
      "model_name": "IntProgressModel",
      "state": {
       "bar_style": "success",
       "description": "100.00%",
       "layout": "IPY_MODEL_f97fc5ffbf444c8fbc74cacc77b472a4",
       "max": 750,
       "style": "IPY_MODEL_61088244fcaf4749871a754260df269a",
       "value": 750
      }
     },
     "349cf21e2d214312a7307983c5daec3c": {
      "model_module": "@jupyter-widgets/controls",
      "model_module_version": "1.5.0",
      "model_name": "HBoxModel",
      "state": {
       "children": [
        "IPY_MODEL_20bf4536bb5d4cde8f3ece450187d68b",
        "IPY_MODEL_e5bbd775fe8d4a8a80be2144726394dd"
       ],
       "layout": "IPY_MODEL_02754e4cc7e14fb2889e29a6ac3a7361"
      }
     },
     "350c9a27ebea46f484bf77354b07a094": {
      "model_module": "@jupyter-widgets/controls",
      "model_module_version": "1.5.0",
      "model_name": "IntProgressModel",
      "state": {
       "bar_style": "success",
       "description": "100.00%",
       "layout": "IPY_MODEL_e8dd5f442d78464ead49a4aa25646f88",
       "max": 750,
       "style": "IPY_MODEL_46df6c4830d74c44addb56f81df4f7a3",
       "value": 750
      }
     },
     "37571ada91294a48b4f22c3226a601fa": {
      "model_module": "@jupyter-widgets/controls",
      "model_module_version": "1.5.0",
      "model_name": "ProgressStyleModel",
      "state": {
       "description_width": ""
      }
     },
     "379c5a65bfcd475fa04dac162c3bfd20": {
      "model_module": "@jupyter-widgets/base",
      "model_module_version": "1.2.0",
      "model_name": "LayoutModel",
      "state": {}
     },
     "38d737f0289642098c5151f23e743890": {
      "model_module": "@jupyter-widgets/controls",
      "model_module_version": "1.5.0",
      "model_name": "HBoxModel",
      "state": {
       "children": [
        "IPY_MODEL_5cc4af710ac448febc0d0547c89985da",
        "IPY_MODEL_224dcba9fe5e4e3aa1cd0deb0898e0f4"
       ],
       "layout": "IPY_MODEL_879a76b61aeb4512a4a882cf9dd7c817"
      }
     },
     "394b1413727e4b92bcf5c0cae4179e5c": {
      "model_module": "@jupyter-widgets/controls",
      "model_module_version": "1.5.0",
      "model_name": "DescriptionStyleModel",
      "state": {
       "description_width": ""
      }
     },
     "39c57a82d01543f58fd06eb7458ff09f": {
      "model_module": "@jupyter-widgets/controls",
      "model_module_version": "1.5.0",
      "model_name": "DescriptionStyleModel",
      "state": {
       "description_width": ""
      }
     },
     "3aaebe1641fb491aa4361a39b97eb5e2": {
      "model_module": "@jupyter-widgets/controls",
      "model_module_version": "1.5.0",
      "model_name": "ProgressStyleModel",
      "state": {
       "description_width": ""
      }
     },
     "3c0c1c0dd96c43a291b45c01bdfe91e9": {
      "model_module": "@jupyter-widgets/controls",
      "model_module_version": "1.5.0",
      "model_name": "LabelModel",
      "state": {
       "layout": "IPY_MODEL_44238f7f6b714db88599b1b696b9fb6f",
       "style": "IPY_MODEL_fc6ceb0c82e44c84bde9321b860dce83",
       "value": "750 / 750"
      }
     },
     "3c531fa98c074cd48c4aab2835a17d1e": {
      "model_module": "@jupyter-widgets/controls",
      "model_module_version": "1.5.0",
      "model_name": "DescriptionStyleModel",
      "state": {
       "description_width": ""
      }
     },
     "3c5a51130a00402c8968dce4d09ccaa2": {
      "model_module": "@jupyter-widgets/controls",
      "model_module_version": "1.5.0",
      "model_name": "LabelModel",
      "state": {
       "layout": "IPY_MODEL_c93002ba417b4155827d04bfeb71a00a",
       "style": "IPY_MODEL_9f92c97556dd4646a8af4e014c486524",
       "value": "750 / 750"
      }
     },
     "3c95d85ecb854c7e9fd28231bb40600d": {
      "model_module": "@jupyter-widgets/controls",
      "model_module_version": "1.5.0",
      "model_name": "HBoxModel",
      "state": {
       "children": [
        "IPY_MODEL_2f9d3d82a0ca4d489463a7be397bdeb3",
        "IPY_MODEL_04e2eb4e8b77479384ba26275a02b8c8"
       ],
       "layout": "IPY_MODEL_2c06bc585bea4b229965096f3d43082f"
      }
     },
     "3cd4b6befb5b4b2d9b95f22bffd9126f": {
      "model_module": "@jupyter-widgets/base",
      "model_module_version": "1.2.0",
      "model_name": "LayoutModel",
      "state": {}
     },
     "3da9bc4aebed4ee0a27994c2c76e3396": {
      "model_module": "@jupyter-widgets/base",
      "model_module_version": "1.2.0",
      "model_name": "LayoutModel",
      "state": {}
     },
     "3dcfba0537214c32a8515f39e5205e4a": {
      "model_module": "@jupyter-widgets/base",
      "model_module_version": "1.2.0",
      "model_name": "LayoutModel",
      "state": {}
     },
     "3e05d8c90892410ea844626c9173b70d": {
      "model_module": "@jupyter-widgets/controls",
      "model_module_version": "1.5.0",
      "model_name": "DescriptionStyleModel",
      "state": {
       "description_width": ""
      }
     },
     "3eb70f580c6943c18e911ab861a9dfb1": {
      "model_module": "@jupyter-widgets/controls",
      "model_module_version": "1.5.0",
      "model_name": "IntProgressModel",
      "state": {
       "bar_style": "success",
       "description": "100.00%",
       "layout": "IPY_MODEL_e76280336ffb4c1bb902905dc16d11c0",
       "max": 750,
       "style": "IPY_MODEL_68c0e7951afe47789b704d1bca043805",
       "value": 750
      }
     },
     "3f3a74e7ad07477ea8d664669e03cd36": {
      "model_module": "@jupyter-widgets/controls",
      "model_module_version": "1.5.0",
      "model_name": "VBoxModel",
      "state": {
       "children": [
        "IPY_MODEL_09ea30bcc6154778ab27c15da62d8b8f",
        "IPY_MODEL_7a594a421677468088cdbfe51c4e7cce",
        "IPY_MODEL_ada41442a892402fb52652d6700847d6",
        "IPY_MODEL_e8759ce0e0a846768b5f679b9baba778"
       ],
       "layout": "IPY_MODEL_c70236a6c8764122b73ae99b7908dd17"
      }
     },
     "3f6c9da41dfd48e290215a77ba6d2f92": {
      "model_module": "@jupyter-widgets/controls",
      "model_module_version": "1.5.0",
      "model_name": "HBoxModel",
      "state": {
       "children": [
        "IPY_MODEL_4b6c4670ca4f497f811b87318b5114dc",
        "IPY_MODEL_79802743c6ff425fa75d6817fa0a68f5"
       ],
       "layout": "IPY_MODEL_4a89fd3f76c64a48b619e4dbee0d7393"
      }
     },
     "4214bdc4693849ff8ed274fe33c1d9a4": {
      "model_module": "@jupyter-widgets/base",
      "model_module_version": "1.2.0",
      "model_name": "LayoutModel",
      "state": {}
     },
     "421f3e76ff134671b727451cd80906c0": {
      "model_module": "@jupyter-widgets/controls",
      "model_module_version": "1.5.0",
      "model_name": "LabelModel",
      "state": {
       "layout": "IPY_MODEL_cfc438f1cb8144b7bf6bb69cd40643f5",
       "style": "IPY_MODEL_d3c5c6575f1543978e45c4dccf80d8a8",
       "value": "750 / 750"
      }
     },
     "424b7a3cdc2c47bb8b1995992328ed1c": {
      "model_module": "@jupyter-widgets/base",
      "model_module_version": "1.2.0",
      "model_name": "LayoutModel",
      "state": {}
     },
     "43344097ded34f6a9c9df0bf19094306": {
      "model_module": "@jupyter-widgets/controls",
      "model_module_version": "1.5.0",
      "model_name": "IntProgressModel",
      "state": {
       "bar_style": "success",
       "description": "100.00%",
       "layout": "IPY_MODEL_f2cb57f6d6584d8d964eacdd64b26aed",
       "max": 750,
       "style": "IPY_MODEL_5134935d9d604dedb2e9c1e2ce4f52fe",
       "value": 750
      }
     },
     "4345d445b0a2440eaf6037302ee1efc3": {
      "model_module": "@jupyter-widgets/controls",
      "model_module_version": "1.5.0",
      "model_name": "IntProgressModel",
      "state": {
       "bar_style": "success",
       "description": "100.00%",
       "layout": "IPY_MODEL_575a1d325fe242dc895506df7923a21f",
       "max": 750,
       "style": "IPY_MODEL_c70b7385a09146559d531bd968711382",
       "value": 750
      }
     },
     "4354ca5b40d9429e97547a7fa38fd95e": {
      "model_module": "@jupyter-widgets/base",
      "model_module_version": "1.2.0",
      "model_name": "LayoutModel",
      "state": {}
     },
     "4393846c978f47faa3fac96a34f9eba6": {
      "model_module": "@jupyter-widgets/base",
      "model_module_version": "1.2.0",
      "model_name": "LayoutModel",
      "state": {}
     },
     "43b79e1d06814aa0ba76a08eace898c0": {
      "model_module": "@jupyter-widgets/controls",
      "model_module_version": "1.5.0",
      "model_name": "HBoxModel",
      "state": {
       "children": [
        "IPY_MODEL_34605d2f2bbd46b19155cfaf0cda228e",
        "IPY_MODEL_91d3e43ffcb2437fad8412439723d442"
       ],
       "layout": "IPY_MODEL_8617f34a85ab4092ae8662e6ac8ec9d9"
      }
     },
     "43bf469d94f147f194422b80f1ec1672": {
      "model_module": "@jupyter-widgets/controls",
      "model_module_version": "1.5.0",
      "model_name": "HBoxModel",
      "state": {
       "children": [
        "IPY_MODEL_df0bb60445f246d28e218bd923106ed2",
        "IPY_MODEL_9d3f33adcd5a40d38419b2925f61b679"
       ],
       "layout": "IPY_MODEL_501c33d323cc4010937b445eb4ea2fc3"
      }
     },
     "4410e81aa2be4321ace94877e67a63a6": {
      "model_module": "@jupyter-widgets/base",
      "model_module_version": "1.2.0",
      "model_name": "LayoutModel",
      "state": {}
     },
     "442173e999f641ab8de8985e3f4bfe69": {
      "model_module": "@jupyter-widgets/base",
      "model_module_version": "1.2.0",
      "model_name": "LayoutModel",
      "state": {}
     },
     "44238f7f6b714db88599b1b696b9fb6f": {
      "model_module": "@jupyter-widgets/base",
      "model_module_version": "1.2.0",
      "model_name": "LayoutModel",
      "state": {}
     },
     "44694a32029d4175ba8f1cd1f32f89d4": {
      "model_module": "@jupyter-widgets/controls",
      "model_module_version": "1.5.0",
      "model_name": "IntProgressModel",
      "state": {
       "bar_style": "success",
       "description": "100.00%",
       "layout": "IPY_MODEL_1bff7c6e631c44e7b614df8935c77697",
       "max": 750,
       "style": "IPY_MODEL_46493292043f4169b2803396d0e9b131",
       "value": 750
      }
     },
     "44ff1e2b0d5f40988038d6bb17e9b830": {
      "model_module": "@jupyter-widgets/controls",
      "model_module_version": "1.5.0",
      "model_name": "DescriptionStyleModel",
      "state": {
       "description_width": ""
      }
     },
     "4562dfb58d6142b0b2b66f2d2785ec96": {
      "model_module": "@jupyter-widgets/controls",
      "model_module_version": "1.5.0",
      "model_name": "LabelModel",
      "state": {
       "layout": "IPY_MODEL_c91d1cc780604f638f33c9e039190b13",
       "style": "IPY_MODEL_a359908f096b49ee86e56294610acfef",
       "value": "750 / 750"
      }
     },
     "45ae7f3e2eb442bca9244a27c11300c1": {
      "model_module": "@jupyter-widgets/controls",
      "model_module_version": "1.5.0",
      "model_name": "LabelModel",
      "state": {
       "layout": "IPY_MODEL_5995c4c708674dce813c033c87acfddc",
       "style": "IPY_MODEL_f0107e09ad044968a7d30c65b6f3a5c3",
       "value": "750 / 750"
      }
     },
     "46493292043f4169b2803396d0e9b131": {
      "model_module": "@jupyter-widgets/controls",
      "model_module_version": "1.5.0",
      "model_name": "ProgressStyleModel",
      "state": {
       "description_width": ""
      }
     },
     "4680e341fabd4c6996e8b69daa302fae": {
      "model_module": "@jupyter-widgets/controls",
      "model_module_version": "1.5.0",
      "model_name": "ProgressStyleModel",
      "state": {
       "description_width": ""
      }
     },
     "46df6c4830d74c44addb56f81df4f7a3": {
      "model_module": "@jupyter-widgets/controls",
      "model_module_version": "1.5.0",
      "model_name": "ProgressStyleModel",
      "state": {
       "description_width": ""
      }
     },
     "4712a20c59fd4ea2995b3de4e0911637": {
      "model_module": "@jupyter-widgets/controls",
      "model_module_version": "1.5.0",
      "model_name": "IntProgressModel",
      "state": {
       "bar_style": "success",
       "description": "100.00%",
       "layout": "IPY_MODEL_eea6e94caf234980a23f40a47770624d",
       "max": 750,
       "style": "IPY_MODEL_47187885e9e24f9cbd98c3514ba9f931",
       "value": 750
      }
     },
     "47187885e9e24f9cbd98c3514ba9f931": {
      "model_module": "@jupyter-widgets/controls",
      "model_module_version": "1.5.0",
      "model_name": "ProgressStyleModel",
      "state": {
       "description_width": ""
      }
     },
     "4794f81704534da79a8ba455fee9a16f": {
      "model_module": "@jupyter-widgets/controls",
      "model_module_version": "1.5.0",
      "model_name": "HBoxModel",
      "state": {
       "children": [
        "IPY_MODEL_d3d19b2ade384d1ab1223b3764753152",
        "IPY_MODEL_e080922474fc47fd8280db0ff831f9ab"
       ],
       "layout": "IPY_MODEL_00d91dc49d014962af97ec4257ac0edf"
      }
     },
     "481d610ae074437abc5ab198c180de68": {
      "model_module": "@jupyter-widgets/base",
      "model_module_version": "1.2.0",
      "model_name": "LayoutModel",
      "state": {}
     },
     "48fc3b1356a5451e9f4247235c95114b": {
      "model_module": "@jupyter-widgets/controls",
      "model_module_version": "1.5.0",
      "model_name": "HBoxModel",
      "state": {
       "children": [
        "IPY_MODEL_d7baf1f7fd8347aaa62de891f10e2741",
        "IPY_MODEL_6d64e90283604eb4bdb92a994c157768"
       ],
       "layout": "IPY_MODEL_649268818bcf416eb002d425a8d5aaca"
      }
     },
     "4971347e749b49329fa5db1f9b03dc84": {
      "model_module": "@jupyter-widgets/controls",
      "model_module_version": "1.5.0",
      "model_name": "DescriptionStyleModel",
      "state": {
       "description_width": ""
      }
     },
     "49fbc068e1fb47e7bdcf22aa8bbab652": {
      "model_module": "@jupyter-widgets/base",
      "model_module_version": "1.2.0",
      "model_name": "LayoutModel",
      "state": {}
     },
     "4a89fd3f76c64a48b619e4dbee0d7393": {
      "model_module": "@jupyter-widgets/base",
      "model_module_version": "1.2.0",
      "model_name": "LayoutModel",
      "state": {}
     },
     "4b299ff6f5e44bf3b070945a3d223b1f": {
      "model_module": "@jupyter-widgets/controls",
      "model_module_version": "1.5.0",
      "model_name": "IntProgressModel",
      "state": {
       "bar_style": "success",
       "description": "100.00%",
       "layout": "IPY_MODEL_de8961e13cf54e71b61c54c2e0a7ea9c",
       "max": 750,
       "style": "IPY_MODEL_2e9b37f7e4f6403ab8c1c98221330152",
       "value": 750
      }
     },
     "4b5cad64ec9243638389d788421c9493": {
      "model_module": "@jupyter-widgets/base",
      "model_module_version": "1.2.0",
      "model_name": "LayoutModel",
      "state": {}
     },
     "4b6c4670ca4f497f811b87318b5114dc": {
      "model_module": "@jupyter-widgets/controls",
      "model_module_version": "1.5.0",
      "model_name": "IntProgressModel",
      "state": {
       "bar_style": "success",
       "description": "100.00%",
       "layout": "IPY_MODEL_964b7a2a4b5547828bd35f4c6845d2de",
       "max": 750,
       "style": "IPY_MODEL_c09547c21ec749229c05666cae2a8fd3",
       "value": 750
      }
     },
     "4b9217bf50b84e509016e611326a2f2b": {
      "model_module": "@jupyter-widgets/base",
      "model_module_version": "1.2.0",
      "model_name": "LayoutModel",
      "state": {}
     },
     "4bdc4ed8d14845688474a8661e3bd52d": {
      "model_module": "@jupyter-widgets/controls",
      "model_module_version": "1.5.0",
      "model_name": "ProgressStyleModel",
      "state": {
       "description_width": ""
      }
     },
     "4c4e4c2e680b4de0911adb4d97f49b8a": {
      "model_module": "@jupyter-widgets/controls",
      "model_module_version": "1.5.0",
      "model_name": "LabelModel",
      "state": {
       "layout": "IPY_MODEL_83451c291c7049e9a5e6185d71b6c77b",
       "style": "IPY_MODEL_0c0cae7c3ce84a4590aee614b2f6f118",
       "value": "750 / 750"
      }
     },
     "4caa50a180db47efb8a96c6060567b96": {
      "model_module": "@jupyter-widgets/controls",
      "model_module_version": "1.5.0",
      "model_name": "HBoxModel",
      "state": {
       "children": [
        "IPY_MODEL_f1113d6044d549e184b2b44b3011c80d",
        "IPY_MODEL_4c4e4c2e680b4de0911adb4d97f49b8a"
       ],
       "layout": "IPY_MODEL_63a21a6730104af59c8c0b6a83b67ec0"
      }
     },
     "4da97031f4dd4411bd0b9776adec78d9": {
      "model_module": "@jupyter-widgets/controls",
      "model_module_version": "1.5.0",
      "model_name": "DescriptionStyleModel",
      "state": {
       "description_width": ""
      }
     },
     "4e9ade6ede7943b38a2d0d1e9d31efed": {
      "model_module": "@jupyter-widgets/controls",
      "model_module_version": "1.5.0",
      "model_name": "ProgressStyleModel",
      "state": {
       "description_width": ""
      }
     },
     "4f8c5861380d4cf4bf03b6aad6fc1097": {
      "model_module": "@jupyter-widgets/controls",
      "model_module_version": "1.5.0",
      "model_name": "VBoxModel",
      "state": {
       "children": [
        "IPY_MODEL_612bdd2aae8740a9a027740f5a3fd172",
        "IPY_MODEL_c159b229d6cb465e934d8dc912572de2",
        "IPY_MODEL_babe3530629843848ccf433518c0a5d5",
        "IPY_MODEL_c99d2f6bf4ab49919abc0cdf5e5080d4"
       ],
       "layout": "IPY_MODEL_6de20545f64a472ea278c9ee33ce56b5"
      }
     },
     "4f8e874cd2e845349cb00f7c80a1e255": {
      "model_module": "@jupyter-widgets/controls",
      "model_module_version": "1.5.0",
      "model_name": "HBoxModel",
      "state": {
       "children": [
        "IPY_MODEL_cf5d009ad5334801b08b4ceac322e99d",
        "IPY_MODEL_4562dfb58d6142b0b2b66f2d2785ec96"
       ],
       "layout": "IPY_MODEL_04dc9491ee9b45bc8c92e74af3b9493f"
      }
     },
     "501c33d323cc4010937b445eb4ea2fc3": {
      "model_module": "@jupyter-widgets/base",
      "model_module_version": "1.2.0",
      "model_name": "LayoutModel",
      "state": {}
     },
     "5134935d9d604dedb2e9c1e2ce4f52fe": {
      "model_module": "@jupyter-widgets/controls",
      "model_module_version": "1.5.0",
      "model_name": "ProgressStyleModel",
      "state": {
       "description_width": ""
      }
     },
     "51d0b517598949edb2d6a98a56792e76": {
      "model_module": "@jupyter-widgets/controls",
      "model_module_version": "1.5.0",
      "model_name": "IntProgressModel",
      "state": {
       "bar_style": "success",
       "description": "100.00%",
       "layout": "IPY_MODEL_5a7d216aa5584dad9f89ea35163af748",
       "max": 750,
       "style": "IPY_MODEL_af7c96a44f5f4473bbb8cd08d1dc1f34",
       "value": 750
      }
     },
     "528f75d6890a453283ae0207372be118": {
      "model_module": "@jupyter-widgets/base",
      "model_module_version": "1.2.0",
      "model_name": "LayoutModel",
      "state": {}
     },
     "5317e3be70b34da39197a0c946fdc7b9": {
      "model_module": "@jupyter-widgets/base",
      "model_module_version": "1.2.0",
      "model_name": "LayoutModel",
      "state": {}
     },
     "537818769eed415fbf1eb3ef10d03d12": {
      "model_module": "@jupyter-widgets/base",
      "model_module_version": "1.2.0",
      "model_name": "LayoutModel",
      "state": {}
     },
     "537f811df67e4dd99ba1018217682a85": {
      "model_module": "@jupyter-widgets/base",
      "model_module_version": "1.2.0",
      "model_name": "LayoutModel",
      "state": {}
     },
     "53b07108984e4b62ba460a11acf373f3": {
      "model_module": "@jupyter-widgets/base",
      "model_module_version": "1.2.0",
      "model_name": "LayoutModel",
      "state": {}
     },
     "53f5e954f51540f2b049fc0b554d12df": {
      "model_module": "@jupyter-widgets/controls",
      "model_module_version": "1.5.0",
      "model_name": "ProgressStyleModel",
      "state": {
       "description_width": ""
      }
     },
     "5589ec51398d440cbffae9c3b51cbec8": {
      "model_module": "@jupyter-widgets/controls",
      "model_module_version": "1.5.0",
      "model_name": "HBoxModel",
      "state": {
       "children": [
        "IPY_MODEL_b38eb462384f42f9afd370db3419647e",
        "IPY_MODEL_ccc23472cf414d15a8cbcb678f5e8ae1"
       ],
       "layout": "IPY_MODEL_77024333dc2c412dbfb937e51275b69a"
      }
     },
     "55965895cbce47db83bc36316a41e569": {
      "model_module": "@jupyter-widgets/controls",
      "model_module_version": "1.5.0",
      "model_name": "IntProgressModel",
      "state": {
       "bar_style": "success",
       "description": "100.00%",
       "layout": "IPY_MODEL_6c4fb615a0e9472f8cb0fa8ed05d4e4a",
       "max": 750,
       "style": "IPY_MODEL_e94c88def3a048e891f9f8604c4b792a",
       "value": 750
      }
     },
     "55a902d67ba34c2aa9979225954ca5d8": {
      "model_module": "@jupyter-widgets/controls",
      "model_module_version": "1.5.0",
      "model_name": "VBoxModel",
      "state": {
       "children": [
        "IPY_MODEL_8271a391cb4145b3b9cc812a1f87240e",
        "IPY_MODEL_898fa31395a1455b8bec9b40c9982a64",
        "IPY_MODEL_bc78f61cd6a549d7b1af0a88379e4bf7",
        "IPY_MODEL_349cf21e2d214312a7307983c5daec3c"
       ],
       "layout": "IPY_MODEL_04f6c2827a8a4cd283eccfdeb3955b5e"
      }
     },
     "55f1a5ea166643318e126793a0bf11b3": {
      "model_module": "@jupyter-widgets/controls",
      "model_module_version": "1.5.0",
      "model_name": "VBoxModel",
      "state": {
       "children": [
        "IPY_MODEL_08c8cb0993054886a83219e8e7a0e81d",
        "IPY_MODEL_878d047db59441d5990a3275d1071839",
        "IPY_MODEL_c5dc04a23b204eb7b35b6895cc9e1eab",
        "IPY_MODEL_8fa85cd580ef483a823aaaab4a95b774"
       ],
       "layout": "IPY_MODEL_5b5aef1ae3c342f8a38cf01c4df209d3"
      }
     },
     "5612e577338449cfa7828b9f1372cc1e": {
      "model_module": "@jupyter-widgets/controls",
      "model_module_version": "1.5.0",
      "model_name": "LabelModel",
      "state": {
       "layout": "IPY_MODEL_16cd59d95cf04823b34716324972b839",
       "style": "IPY_MODEL_39c57a82d01543f58fd06eb7458ff09f",
       "value": "750 / 750"
      }
     },
     "567ebedbd52b451e85c8e086cdcb384d": {
      "model_module": "@jupyter-widgets/controls",
      "model_module_version": "1.5.0",
      "model_name": "HBoxModel",
      "state": {
       "children": [
        "IPY_MODEL_6066d365d9924487948fd23fa4733ac4",
        "IPY_MODEL_dc507023671b44c78befb405a9ed19d8"
       ],
       "layout": "IPY_MODEL_a447cdf737ce4cc89b82aad4af45d31c"
      }
     },
     "575a1d325fe242dc895506df7923a21f": {
      "model_module": "@jupyter-widgets/base",
      "model_module_version": "1.2.0",
      "model_name": "LayoutModel",
      "state": {}
     },
     "57ea2e5339fa4e4dbb577ffa8f8bcfa0": {
      "model_module": "@jupyter-widgets/controls",
      "model_module_version": "1.5.0",
      "model_name": "ProgressStyleModel",
      "state": {
       "description_width": ""
      }
     },
     "5834e7bc8b044d3ebdb70b80d034ee8a": {
      "model_module": "@jupyter-widgets/controls",
      "model_module_version": "1.5.0",
      "model_name": "HBoxModel",
      "state": {
       "children": [
        "IPY_MODEL_b24e4b33ec5848e098eb07050673b4a0",
        "IPY_MODEL_e3afb6041e024112a9f2f00cc1185ccd"
       ],
       "layout": "IPY_MODEL_1cb56f271b1844ed91f685bb9b068498"
      }
     },
     "5881b11fcf4d46d496c5d70411f526bd": {
      "model_module": "@jupyter-widgets/controls",
      "model_module_version": "1.5.0",
      "model_name": "HBoxModel",
      "state": {
       "children": [
        "IPY_MODEL_1e75638437134cb797e098ec92333822",
        "IPY_MODEL_1886eec99033478996f7467776425003"
       ],
       "layout": "IPY_MODEL_305dd2948ecd480dbb941b3084aaba92"
      }
     },
     "591ee1618bf8455aa2595c3e7d5c71e3": {
      "model_module": "@jupyter-widgets/base",
      "model_module_version": "1.2.0",
      "model_name": "LayoutModel",
      "state": {}
     },
     "59518fa7971849f7b7bce285baad6644": {
      "model_module": "@jupyter-widgets/controls",
      "model_module_version": "1.5.0",
      "model_name": "HBoxModel",
      "state": {
       "children": [
        "IPY_MODEL_74305e18861c4d478eb9206702e27383",
        "IPY_MODEL_a8ef43a418cf46ddb5fbf17c2fe4d029"
       ],
       "layout": "IPY_MODEL_9275d1f112c1473c996c92bc3c087a4b"
      }
     },
     "597b531618904434a078d7c8c8ae3438": {
      "model_module": "@jupyter-widgets/base",
      "model_module_version": "1.2.0",
      "model_name": "LayoutModel",
      "state": {}
     },
     "5995c4c708674dce813c033c87acfddc": {
      "model_module": "@jupyter-widgets/base",
      "model_module_version": "1.2.0",
      "model_name": "LayoutModel",
      "state": {}
     },
     "5a46760ee5d74d66981fd441233d7ed1": {
      "model_module": "@jupyter-widgets/controls",
      "model_module_version": "1.5.0",
      "model_name": "HBoxModel",
      "state": {
       "children": [
        "IPY_MODEL_55965895cbce47db83bc36316a41e569",
        "IPY_MODEL_7dd81b4949374d939fb3f1c78425374b"
       ],
       "layout": "IPY_MODEL_6fa40b3d536747148729a048c9235f35"
      }
     },
     "5a7d216aa5584dad9f89ea35163af748": {
      "model_module": "@jupyter-widgets/base",
      "model_module_version": "1.2.0",
      "model_name": "LayoutModel",
      "state": {}
     },
     "5b5aef1ae3c342f8a38cf01c4df209d3": {
      "model_module": "@jupyter-widgets/base",
      "model_module_version": "1.2.0",
      "model_name": "LayoutModel",
      "state": {}
     },
     "5cc4af710ac448febc0d0547c89985da": {
      "model_module": "@jupyter-widgets/controls",
      "model_module_version": "1.5.0",
      "model_name": "IntProgressModel",
      "state": {
       "bar_style": "success",
       "description": "100.00%",
       "layout": "IPY_MODEL_08a697d35884417a97f24c143742bf71",
       "max": 750,
       "style": "IPY_MODEL_ffa05a77ca87496dbc137871e9473b02",
       "value": 750
      }
     },
     "5d60fa098c514c3a814ab02cc4062564": {
      "model_module": "@jupyter-widgets/base",
      "model_module_version": "1.2.0",
      "model_name": "LayoutModel",
      "state": {}
     },
     "5da40b21ab8847fe8a7bd54da17f60c3": {
      "model_module": "@jupyter-widgets/base",
      "model_module_version": "1.2.0",
      "model_name": "LayoutModel",
      "state": {}
     },
     "5e3a542496134a2b857e4808dee18af4": {
      "model_module": "@jupyter-widgets/base",
      "model_module_version": "1.2.0",
      "model_name": "LayoutModel",
      "state": {}
     },
     "5e81f7ec70da4ab69edfa5db29f4132b": {
      "model_module": "@jupyter-widgets/controls",
      "model_module_version": "1.5.0",
      "model_name": "DescriptionStyleModel",
      "state": {
       "description_width": ""
      }
     },
     "5e9cd49e97ac44bc832f0d38778774b1": {
      "model_module": "@jupyter-widgets/base",
      "model_module_version": "1.2.0",
      "model_name": "LayoutModel",
      "state": {}
     },
     "601fb44f4b504bddb6d6751286892ccd": {
      "model_module": "@jupyter-widgets/controls",
      "model_module_version": "1.5.0",
      "model_name": "IntProgressModel",
      "state": {
       "bar_style": "success",
       "description": "100.00%",
       "layout": "IPY_MODEL_fa44155793154adc8db33c87be139939",
       "max": 750,
       "style": "IPY_MODEL_2c49e57be5e142e4ad3753442c4a9259",
       "value": 750
      }
     },
     "602d7062338f4242bb04557d241b44c8": {
      "model_module": "@jupyter-widgets/controls",
      "model_module_version": "1.5.0",
      "model_name": "DescriptionStyleModel",
      "state": {
       "description_width": ""
      }
     },
     "603f034155634398be1701cb817a6448": {
      "model_module": "@jupyter-widgets/controls",
      "model_module_version": "1.5.0",
      "model_name": "IntProgressModel",
      "state": {
       "bar_style": "success",
       "description": "100.00%",
       "layout": "IPY_MODEL_e4a5a0238ede4b40bbdacdac0a81fe4a",
       "max": 750,
       "style": "IPY_MODEL_e2b543ff47204326836f42bead9cf3f7",
       "value": 750
      }
     },
     "605e84449b6643119a43164cd3e51c4e": {
      "model_module": "@jupyter-widgets/base",
      "model_module_version": "1.2.0",
      "model_name": "LayoutModel",
      "state": {}
     },
     "6066d365d9924487948fd23fa4733ac4": {
      "model_module": "@jupyter-widgets/controls",
      "model_module_version": "1.5.0",
      "model_name": "IntProgressModel",
      "state": {
       "bar_style": "success",
       "description": "100.00%",
       "layout": "IPY_MODEL_6f2411476eb343a58827b5efe5f62595",
       "max": 750,
       "style": "IPY_MODEL_3aaebe1641fb491aa4361a39b97eb5e2",
       "value": 750
      }
     },
     "61088244fcaf4749871a754260df269a": {
      "model_module": "@jupyter-widgets/controls",
      "model_module_version": "1.5.0",
      "model_name": "ProgressStyleModel",
      "state": {
       "description_width": ""
      }
     },
     "612bdd2aae8740a9a027740f5a3fd172": {
      "model_module": "@jupyter-widgets/controls",
      "model_module_version": "1.5.0",
      "model_name": "HBoxModel",
      "state": {
       "children": [
        "IPY_MODEL_eb08164aa76c4e558f3154d99bfef900",
        "IPY_MODEL_5612e577338449cfa7828b9f1372cc1e"
       ],
       "layout": "IPY_MODEL_0def60ecf1224d8492243c8dcc900887"
      }
     },
     "61582f4a961a457a9255a6f5e0757b4a": {
      "model_module": "@jupyter-widgets/controls",
      "model_module_version": "1.5.0",
      "model_name": "LabelModel",
      "state": {
       "layout": "IPY_MODEL_fe5d12ac7b33444789b9bd4d6c533d60",
       "style": "IPY_MODEL_0bf6cbfc5ca14888b09d385b23dbbb5e",
       "value": "750 / 750"
      }
     },
     "630105da4ca34f5ea0f456472633f7ea": {
      "model_module": "@jupyter-widgets/controls",
      "model_module_version": "1.5.0",
      "model_name": "ProgressStyleModel",
      "state": {
       "description_width": ""
      }
     },
     "638d65c85cab4884b6c3a0f8b8ef564a": {
      "model_module": "@jupyter-widgets/controls",
      "model_module_version": "1.5.0",
      "model_name": "VBoxModel",
      "state": {
       "children": [
        "IPY_MODEL_3c95d85ecb854c7e9fd28231bb40600d",
        "IPY_MODEL_48fc3b1356a5451e9f4247235c95114b",
        "IPY_MODEL_567ebedbd52b451e85c8e086cdcb384d",
        "IPY_MODEL_b92a3bdf97da488aa720289c652c1388"
       ],
       "layout": "IPY_MODEL_72d934094a3346c2bbd6e9a42681cca9"
      }
     },
     "63a21a6730104af59c8c0b6a83b67ec0": {
      "model_module": "@jupyter-widgets/base",
      "model_module_version": "1.2.0",
      "model_name": "LayoutModel",
      "state": {}
     },
     "63bedaf2c8ee42c49cf65bd2f255f62e": {
      "model_module": "@jupyter-widgets/controls",
      "model_module_version": "1.5.0",
      "model_name": "DescriptionStyleModel",
      "state": {
       "description_width": ""
      }
     },
     "640d8758f5564d1a849d9f69b10056e7": {
      "model_module": "@jupyter-widgets/controls",
      "model_module_version": "1.5.0",
      "model_name": "LabelModel",
      "state": {
       "layout": "IPY_MODEL_30d6ff03228941cf8f80df3ed3d3b923",
       "style": "IPY_MODEL_3e05d8c90892410ea844626c9173b70d",
       "value": "750 / 750"
      }
     },
     "643315a72ec34e3882ab1e0d8ab9dda0": {
      "model_module": "@jupyter-widgets/controls",
      "model_module_version": "1.5.0",
      "model_name": "ProgressStyleModel",
      "state": {
       "description_width": ""
      }
     },
     "649268818bcf416eb002d425a8d5aaca": {
      "model_module": "@jupyter-widgets/base",
      "model_module_version": "1.2.0",
      "model_name": "LayoutModel",
      "state": {}
     },
     "652d8818e8f343968a8ad4cf35998946": {
      "model_module": "@jupyter-widgets/controls",
      "model_module_version": "1.5.0",
      "model_name": "HBoxModel",
      "state": {
       "children": [
        "IPY_MODEL_c7ce3a8476de4536b9b26317894e4a2e",
        "IPY_MODEL_2d2966727d984df4918940a6be69bfc1"
       ],
       "layout": "IPY_MODEL_d2f192176094476d9997033b60989b5d"
      }
     },
     "65a84d0b5c9e42bebbf6543533981baa": {
      "model_module": "@jupyter-widgets/base",
      "model_module_version": "1.2.0",
      "model_name": "LayoutModel",
      "state": {}
     },
     "662261adc5f343f7bcb3dfd34c2125da": {
      "model_module": "@jupyter-widgets/base",
      "model_module_version": "1.2.0",
      "model_name": "LayoutModel",
      "state": {}
     },
     "6690ad6edfc1419d82311580e02da975": {
      "model_module": "@jupyter-widgets/controls",
      "model_module_version": "1.5.0",
      "model_name": "IntProgressModel",
      "state": {
       "bar_style": "success",
       "description": "100.00%",
       "layout": "IPY_MODEL_73db93d5748a49aab8cd9b6af8dd2e5b",
       "max": 750,
       "style": "IPY_MODEL_068a6dc64ab045fdb8e2c63313c7b500",
       "value": 750
      }
     },
     "6756d3b9042543bdba72e171c4e35758": {
      "model_module": "@jupyter-widgets/controls",
      "model_module_version": "1.5.0",
      "model_name": "LabelModel",
      "state": {
       "layout": "IPY_MODEL_bf70b11df64d470b95655313af836917",
       "style": "IPY_MODEL_394b1413727e4b92bcf5c0cae4179e5c",
       "value": "750 / 750"
      }
     },
     "675715f1d3f640118441c01ba0ab88b2": {
      "model_module": "@jupyter-widgets/controls",
      "model_module_version": "1.5.0",
      "model_name": "LabelModel",
      "state": {
       "layout": "IPY_MODEL_4354ca5b40d9429e97547a7fa38fd95e",
       "style": "IPY_MODEL_076c9f8a2e4e4e878107b905eb441ddf",
       "value": "750 / 750"
      }
     },
     "67d1aff429f64af1960baeb3f0ad9c90": {
      "model_module": "@jupyter-widgets/controls",
      "model_module_version": "1.5.0",
      "model_name": "IntProgressModel",
      "state": {
       "bar_style": "success",
       "description": "100.00%",
       "layout": "IPY_MODEL_e5a350c278e34b088d087cc5cf0e4c5f",
       "max": 750,
       "style": "IPY_MODEL_08ff6e37e2f04a21839a6893fbf10ed7",
       "value": 750
      }
     },
     "67e2ab2cc3cb4290b1512cf1e25ffc71": {
      "model_module": "@jupyter-widgets/base",
      "model_module_version": "1.2.0",
      "model_name": "LayoutModel",
      "state": {}
     },
     "68c0e7951afe47789b704d1bca043805": {
      "model_module": "@jupyter-widgets/controls",
      "model_module_version": "1.5.0",
      "model_name": "ProgressStyleModel",
      "state": {
       "description_width": ""
      }
     },
     "68c85ebf8a654c0682ff6bfe35a9fe53": {
      "model_module": "@jupyter-widgets/base",
      "model_module_version": "1.2.0",
      "model_name": "LayoutModel",
      "state": {}
     },
     "699788b4935a434792552323086eeede": {
      "model_module": "@jupyter-widgets/base",
      "model_module_version": "1.2.0",
      "model_name": "LayoutModel",
      "state": {}
     },
     "6b8c0bc99e0b45a1bcf34d297a5e6b98": {
      "model_module": "@jupyter-widgets/base",
      "model_module_version": "1.2.0",
      "model_name": "LayoutModel",
      "state": {}
     },
     "6c0a98a2e93d4211bd645ea1ff526d10": {
      "model_module": "@jupyter-widgets/controls",
      "model_module_version": "1.5.0",
      "model_name": "VBoxModel",
      "state": {
       "children": [
        "IPY_MODEL_5881b11fcf4d46d496c5d70411f526bd",
        "IPY_MODEL_87542f01c7d7480d8c3dc9e4b565d6da",
        "IPY_MODEL_7f389b7f30a74f78ae0f86ead56bb571",
        "IPY_MODEL_15812fb5b0a2451b841b0196feb05b73"
       ],
       "layout": "IPY_MODEL_a244e5179da1467185f8600791a504d8"
      }
     },
     "6c4fb615a0e9472f8cb0fa8ed05d4e4a": {
      "model_module": "@jupyter-widgets/base",
      "model_module_version": "1.2.0",
      "model_name": "LayoutModel",
      "state": {}
     },
     "6d64e90283604eb4bdb92a994c157768": {
      "model_module": "@jupyter-widgets/controls",
      "model_module_version": "1.5.0",
      "model_name": "LabelModel",
      "state": {
       "layout": "IPY_MODEL_705c2a15581344ecbf9f6948fa5f6ae5",
       "style": "IPY_MODEL_8cb7b6761506407a9b29f91e8a2c1b06",
       "value": "750 / 750"
      }
     },
     "6de20545f64a472ea278c9ee33ce56b5": {
      "model_module": "@jupyter-widgets/base",
      "model_module_version": "1.2.0",
      "model_name": "LayoutModel",
      "state": {}
     },
     "6e26bd7cdc5148f49791bf79b749b0bf": {
      "model_module": "@jupyter-widgets/base",
      "model_module_version": "1.2.0",
      "model_name": "LayoutModel",
      "state": {}
     },
     "6e97cd8c858e4cf79c2fc75138c34af7": {
      "model_module": "@jupyter-widgets/controls",
      "model_module_version": "1.5.0",
      "model_name": "ProgressStyleModel",
      "state": {
       "description_width": ""
      }
     },
     "6ee2382c998e4a4e86163e4d1e34d289": {
      "model_module": "@jupyter-widgets/base",
      "model_module_version": "1.2.0",
      "model_name": "LayoutModel",
      "state": {}
     },
     "6eebe17c0815414f86d7fcf3706628ec": {
      "model_module": "@jupyter-widgets/controls",
      "model_module_version": "1.5.0",
      "model_name": "DescriptionStyleModel",
      "state": {
       "description_width": ""
      }
     },
     "6efcbf54f9b44427958abaa6638181cf": {
      "model_module": "@jupyter-widgets/base",
      "model_module_version": "1.2.0",
      "model_name": "LayoutModel",
      "state": {}
     },
     "6f059593e5da4518be582581addfb13c": {
      "model_module": "@jupyter-widgets/base",
      "model_module_version": "1.2.0",
      "model_name": "LayoutModel",
      "state": {}
     },
     "6f2411476eb343a58827b5efe5f62595": {
      "model_module": "@jupyter-widgets/base",
      "model_module_version": "1.2.0",
      "model_name": "LayoutModel",
      "state": {}
     },
     "6f8e40d4bda14fca9f24dbf74846abd5": {
      "model_module": "@jupyter-widgets/controls",
      "model_module_version": "1.5.0",
      "model_name": "DescriptionStyleModel",
      "state": {
       "description_width": ""
      }
     },
     "6fa40b3d536747148729a048c9235f35": {
      "model_module": "@jupyter-widgets/base",
      "model_module_version": "1.2.0",
      "model_name": "LayoutModel",
      "state": {}
     },
     "6fe1c62ad8ed4fee8fbc35eb91bbf92e": {
      "model_module": "@jupyter-widgets/controls",
      "model_module_version": "1.5.0",
      "model_name": "DescriptionStyleModel",
      "state": {
       "description_width": ""
      }
     },
     "705230613046438595c6fc024e1db98a": {
      "model_module": "@jupyter-widgets/controls",
      "model_module_version": "1.5.0",
      "model_name": "VBoxModel",
      "state": {
       "children": [
        "IPY_MODEL_bb73d7465f7744029326535ba17d6cce",
        "IPY_MODEL_e580f7124a314f6192113da0fc47e11c",
        "IPY_MODEL_95bdd529fc244993bd1e96b1cc0dad9c",
        "IPY_MODEL_c9850299eb0e4e4f850ffc61f93beede"
       ],
       "layout": "IPY_MODEL_d6a60c10756d4cd5932f55ff9ce4a1b6"
      }
     },
     "705c2a15581344ecbf9f6948fa5f6ae5": {
      "model_module": "@jupyter-widgets/base",
      "model_module_version": "1.2.0",
      "model_name": "LayoutModel",
      "state": {}
     },
     "705fb1829a6641d7a4295bb673ce0cd2": {
      "model_module": "@jupyter-widgets/base",
      "model_module_version": "1.2.0",
      "model_name": "LayoutModel",
      "state": {}
     },
     "71ad95758e3e463e91dc9fd058fff3b6": {
      "model_module": "@jupyter-widgets/controls",
      "model_module_version": "1.5.0",
      "model_name": "DescriptionStyleModel",
      "state": {
       "description_width": ""
      }
     },
     "728a840413f34810a59dba6bac43d47a": {
      "model_module": "@jupyter-widgets/controls",
      "model_module_version": "1.5.0",
      "model_name": "ProgressStyleModel",
      "state": {
       "description_width": ""
      }
     },
     "72d934094a3346c2bbd6e9a42681cca9": {
      "model_module": "@jupyter-widgets/base",
      "model_module_version": "1.2.0",
      "model_name": "LayoutModel",
      "state": {}
     },
     "73db93d5748a49aab8cd9b6af8dd2e5b": {
      "model_module": "@jupyter-widgets/base",
      "model_module_version": "1.2.0",
      "model_name": "LayoutModel",
      "state": {}
     },
     "73ea7e418bbb43d1ba004d0828256d30": {
      "model_module": "@jupyter-widgets/controls",
      "model_module_version": "1.5.0",
      "model_name": "LabelModel",
      "state": {
       "layout": "IPY_MODEL_d5213c33371c4d6690f6d93c5950da55",
       "style": "IPY_MODEL_ff9fb9be180d4767a7c3d0949fe8ba74",
       "value": "750 / 750"
      }
     },
     "74305e18861c4d478eb9206702e27383": {
      "model_module": "@jupyter-widgets/controls",
      "model_module_version": "1.5.0",
      "model_name": "IntProgressModel",
      "state": {
       "bar_style": "success",
       "description": "100.00%",
       "layout": "IPY_MODEL_f62028d3c20b4f95bcaddae1c8fec4c5",
       "max": 750,
       "style": "IPY_MODEL_a00d3077a14f4c7d85493c49a6941a2b",
       "value": 750
      }
     },
     "745658d34630436eb28060499a4aade6": {
      "model_module": "@jupyter-widgets/controls",
      "model_module_version": "1.5.0",
      "model_name": "VBoxModel",
      "state": {
       "children": [
        "IPY_MODEL_aaf4ec7604484fba99fcb02694d6edf2",
        "IPY_MODEL_da9cac9e61fe4d17b6dff977d470f430",
        "IPY_MODEL_cd9a2c3207de42eeaa043c3b2cf745d0",
        "IPY_MODEL_e4aabca264a1438e8259d1454a06343e"
       ],
       "layout": "IPY_MODEL_605e84449b6643119a43164cd3e51c4e"
      }
     },
     "74952e91dc5c4ee7a7ae070abada95f3": {
      "model_module": "@jupyter-widgets/controls",
      "model_module_version": "1.5.0",
      "model_name": "LabelModel",
      "state": {
       "layout": "IPY_MODEL_a81eed77e6c54791b08941330c1fffb9",
       "style": "IPY_MODEL_eeee27c5ef43493a8350c10d408804fd",
       "value": "750 / 750"
      }
     },
     "74cf25dface64dd59297c2f5e9c0a611": {
      "model_module": "@jupyter-widgets/base",
      "model_module_version": "1.2.0",
      "model_name": "LayoutModel",
      "state": {}
     },
     "757a131a44a646feaa2525bc96aab1b7": {
      "model_module": "@jupyter-widgets/controls",
      "model_module_version": "1.5.0",
      "model_name": "ProgressStyleModel",
      "state": {
       "description_width": ""
      }
     },
     "75aaa16e941c44198fc092a1959bb86b": {
      "model_module": "@jupyter-widgets/base",
      "model_module_version": "1.2.0",
      "model_name": "LayoutModel",
      "state": {}
     },
     "77024333dc2c412dbfb937e51275b69a": {
      "model_module": "@jupyter-widgets/base",
      "model_module_version": "1.2.0",
      "model_name": "LayoutModel",
      "state": {}
     },
     "77b0a852ef6e4b3d8aaaa1de1720cc3e": {
      "model_module": "@jupyter-widgets/base",
      "model_module_version": "1.2.0",
      "model_name": "LayoutModel",
      "state": {}
     },
     "7877275b69334ab0b7757734a0bb9cef": {
      "model_module": "@jupyter-widgets/controls",
      "model_module_version": "1.5.0",
      "model_name": "LabelModel",
      "state": {
       "layout": "IPY_MODEL_4410e81aa2be4321ace94877e67a63a6",
       "style": "IPY_MODEL_71ad95758e3e463e91dc9fd058fff3b6",
       "value": "750 / 750"
      }
     },
     "78864f3293e24645950c7b17eb9570f4": {
      "model_module": "@jupyter-widgets/controls",
      "model_module_version": "1.5.0",
      "model_name": "ProgressStyleModel",
      "state": {
       "description_width": ""
      }
     },
     "78d37c6b54a947ce9da1f6f476cf65f2": {
      "model_module": "@jupyter-widgets/base",
      "model_module_version": "1.2.0",
      "model_name": "LayoutModel",
      "state": {}
     },
     "79802743c6ff425fa75d6817fa0a68f5": {
      "model_module": "@jupyter-widgets/controls",
      "model_module_version": "1.5.0",
      "model_name": "LabelModel",
      "state": {
       "layout": "IPY_MODEL_fa89b7f3e8b540e7bec3ba560b8a08e6",
       "style": "IPY_MODEL_fad31ebadff847dc90f84f968fd846ad",
       "value": "750 / 750"
      }
     },
     "7a4cd17213704ee894d9411a55a02487": {
      "model_module": "@jupyter-widgets/base",
      "model_module_version": "1.2.0",
      "model_name": "LayoutModel",
      "state": {}
     },
     "7a594a421677468088cdbfe51c4e7cce": {
      "model_module": "@jupyter-widgets/controls",
      "model_module_version": "1.5.0",
      "model_name": "HBoxModel",
      "state": {
       "children": [
        "IPY_MODEL_67d1aff429f64af1960baeb3f0ad9c90",
        "IPY_MODEL_05d6b5dd77b54594ad1575f16fdc6e72"
       ],
       "layout": "IPY_MODEL_171fd10d15d74459821bed0fc6a595f7"
      }
     },
     "7b5bb63ef5784d2aa278dd86660f6411": {
      "model_module": "@jupyter-widgets/controls",
      "model_module_version": "1.5.0",
      "model_name": "DescriptionStyleModel",
      "state": {
       "description_width": ""
      }
     },
     "7c021ff981aa4ccfb9ad3fad89f16800": {
      "model_module": "@jupyter-widgets/controls",
      "model_module_version": "1.5.0",
      "model_name": "ProgressStyleModel",
      "state": {
       "description_width": ""
      }
     },
     "7c91636430704bf9a4b604e25dba5513": {
      "model_module": "@jupyter-widgets/controls",
      "model_module_version": "1.5.0",
      "model_name": "HBoxModel",
      "state": {
       "children": [
        "IPY_MODEL_22acaf1dd6cf4a9d9d31c779504b8c06",
        "IPY_MODEL_83834eab40c047d68102741a024994ee"
       ],
       "layout": "IPY_MODEL_3cd4b6befb5b4b2d9b95f22bffd9126f"
      }
     },
     "7cb95f7cf7d1488db877bc93f43ca655": {
      "model_module": "@jupyter-widgets/controls",
      "model_module_version": "1.5.0",
      "model_name": "DescriptionStyleModel",
      "state": {
       "description_width": ""
      }
     },
     "7cfc403b4f7f4ad8b2b94379b58ab43e": {
      "model_module": "@jupyter-widgets/base",
      "model_module_version": "1.2.0",
      "model_name": "LayoutModel",
      "state": {}
     },
     "7dd81b4949374d939fb3f1c78425374b": {
      "model_module": "@jupyter-widgets/controls",
      "model_module_version": "1.5.0",
      "model_name": "LabelModel",
      "state": {
       "layout": "IPY_MODEL_1af9733214ea4026b997d6ec523fbd6a",
       "style": "IPY_MODEL_ae331dbfbc0f4fb6af98a22c9b8a249e",
       "value": "750 / 750"
      }
     },
     "7f389b7f30a74f78ae0f86ead56bb571": {
      "model_module": "@jupyter-widgets/controls",
      "model_module_version": "1.5.0",
      "model_name": "HBoxModel",
      "state": {
       "children": [
        "IPY_MODEL_a1b456d9fa2543d79a48437cec602f93",
        "IPY_MODEL_f57a5ca72a1547f9ad8d55f2e231c21f"
       ],
       "layout": "IPY_MODEL_876465837b5144dcb0f6fb84f894ad65"
      }
     },
     "7fa6d6a19470448194f4bfd2e5a95a43": {
      "model_module": "@jupyter-widgets/controls",
      "model_module_version": "1.5.0",
      "model_name": "HBoxModel",
      "state": {
       "children": [
        "IPY_MODEL_f9aa553bfa62442a8fce5d3fb3d6f824",
        "IPY_MODEL_45ae7f3e2eb442bca9244a27c11300c1"
       ],
       "layout": "IPY_MODEL_78d37c6b54a947ce9da1f6f476cf65f2"
      }
     },
     "80323c12e47a4d5ca0435f6b0358d4f9": {
      "model_module": "@jupyter-widgets/controls",
      "model_module_version": "1.5.0",
      "model_name": "LabelModel",
      "state": {
       "layout": "IPY_MODEL_20b38e1a62cf45bba509ab8a5c301343",
       "style": "IPY_MODEL_04ed7f4bf6134f2cbdfd0d90f2e3987d",
       "value": "750 / 750"
      }
     },
     "8059e29c23de4ec5ae4e10610939d6fd": {
      "model_module": "@jupyter-widgets/controls",
      "model_module_version": "1.5.0",
      "model_name": "DescriptionStyleModel",
      "state": {
       "description_width": ""
      }
     },
     "81821ef4a0d84cbfbb7a5daba9a58e0a": {
      "model_module": "@jupyter-widgets/controls",
      "model_module_version": "1.5.0",
      "model_name": "DescriptionStyleModel",
      "state": {
       "description_width": ""
      }
     },
     "81ec9c3214b04a68a7f1a0c8c4fa5db3": {
      "model_module": "@jupyter-widgets/controls",
      "model_module_version": "1.5.0",
      "model_name": "IntProgressModel",
      "state": {
       "bar_style": "success",
       "description": "100.00%",
       "layout": "IPY_MODEL_f2f06504f3e6450a98043b948ef0a0f9",
       "max": 750,
       "style": "IPY_MODEL_2c07e791f015403895807f80fb17a5b0",
       "value": 750
      }
     },
     "82274e92a81242ca949eefd9f7e8c878": {
      "model_module": "@jupyter-widgets/controls",
      "model_module_version": "1.5.0",
      "model_name": "IntProgressModel",
      "state": {
       "bar_style": "success",
       "description": "100.00%",
       "layout": "IPY_MODEL_5e9cd49e97ac44bc832f0d38778774b1",
       "max": 750,
       "style": "IPY_MODEL_c03d38edc9c04692ad378787f1278052",
       "value": 750
      }
     },
     "8271a391cb4145b3b9cc812a1f87240e": {
      "model_module": "@jupyter-widgets/controls",
      "model_module_version": "1.5.0",
      "model_name": "HBoxModel",
      "state": {
       "children": [
        "IPY_MODEL_edcb9665b7854033836ad3a54155fe17",
        "IPY_MODEL_11b2756799d24261aac5f30119e4d34d"
       ],
       "layout": "IPY_MODEL_bc9b8e6e8cf34616907042e8e9137dc5"
      }
     },
     "83451c291c7049e9a5e6185d71b6c77b": {
      "model_module": "@jupyter-widgets/base",
      "model_module_version": "1.2.0",
      "model_name": "LayoutModel",
      "state": {}
     },
     "83834eab40c047d68102741a024994ee": {
      "model_module": "@jupyter-widgets/controls",
      "model_module_version": "1.5.0",
      "model_name": "LabelModel",
      "state": {
       "layout": "IPY_MODEL_ec9eefae1ca64242935e6fa190c1f9ab",
       "style": "IPY_MODEL_a06ada9769a1433181389d122a648309",
       "value": "750 / 750"
      }
     },
     "859858c21a0d4707ae8d7ed87fb586b3": {
      "model_module": "@jupyter-widgets/controls",
      "model_module_version": "1.5.0",
      "model_name": "IntProgressModel",
      "state": {
       "bar_style": "success",
       "description": "100.00%",
       "layout": "IPY_MODEL_d8a5ba89e1034b73b1b15b618824e30d",
       "max": 750,
       "style": "IPY_MODEL_cf5a42479d904d9282c8cda0bcb601ad",
       "value": 750
      }
     },
     "859a0ce8459a416a9a63ec4e74c7472f": {
      "model_module": "@jupyter-widgets/base",
      "model_module_version": "1.2.0",
      "model_name": "LayoutModel",
      "state": {}
     },
     "8617f34a85ab4092ae8662e6ac8ec9d9": {
      "model_module": "@jupyter-widgets/base",
      "model_module_version": "1.2.0",
      "model_name": "LayoutModel",
      "state": {}
     },
     "864c13f67ef946449fce76d8d815f733": {
      "model_module": "@jupyter-widgets/controls",
      "model_module_version": "1.5.0",
      "model_name": "HBoxModel",
      "state": {
       "children": [
        "IPY_MODEL_3eb70f580c6943c18e911ab861a9dfb1",
        "IPY_MODEL_b0654fbe5253485bb4e71153170ade2a"
       ],
       "layout": "IPY_MODEL_699788b4935a434792552323086eeede"
      }
     },
     "865d0bc4a72e49d6bba6fc07b24e8832": {
      "model_module": "@jupyter-widgets/controls",
      "model_module_version": "1.5.0",
      "model_name": "VBoxModel",
      "state": {
       "children": [
        "IPY_MODEL_864c13f67ef946449fce76d8d815f733",
        "IPY_MODEL_b15b77f44fc14f048024638a5a73af67",
        "IPY_MODEL_d115b60b61fc4c34a798736b2208a7de",
        "IPY_MODEL_13c9d02330204f83b60b993d0cdc9438"
       ],
       "layout": "IPY_MODEL_99f84c2e4c7f4ae88505cafa7b61b804"
      }
     },
     "87542f01c7d7480d8c3dc9e4b565d6da": {
      "model_module": "@jupyter-widgets/controls",
      "model_module_version": "1.5.0",
      "model_name": "HBoxModel",
      "state": {
       "children": [
        "IPY_MODEL_4712a20c59fd4ea2995b3de4e0911637",
        "IPY_MODEL_0a4546afd3df4fd784678d545611eb12"
       ],
       "layout": "IPY_MODEL_2c50530485f747ed94354c0ace757bf7"
      }
     },
     "876465837b5144dcb0f6fb84f894ad65": {
      "model_module": "@jupyter-widgets/base",
      "model_module_version": "1.2.0",
      "model_name": "LayoutModel",
      "state": {}
     },
     "8782f361a7fd4184b994ca24cadbf0ed": {
      "model_module": "@jupyter-widgets/base",
      "model_module_version": "1.2.0",
      "model_name": "LayoutModel",
      "state": {}
     },
     "878d047db59441d5990a3275d1071839": {
      "model_module": "@jupyter-widgets/controls",
      "model_module_version": "1.5.0",
      "model_name": "HBoxModel",
      "state": {
       "children": [
        "IPY_MODEL_6690ad6edfc1419d82311580e02da975",
        "IPY_MODEL_c9a0122f2fc24c529529f93e91546de5"
       ],
       "layout": "IPY_MODEL_1dc44f23d1aa482484024f0ebdd9a506"
      }
     },
     "879a76b61aeb4512a4a882cf9dd7c817": {
      "model_module": "@jupyter-widgets/base",
      "model_module_version": "1.2.0",
      "model_name": "LayoutModel",
      "state": {}
     },
     "8861dce1ebfa41ab8d9288e5bcfa30dd": {
      "model_module": "@jupyter-widgets/base",
      "model_module_version": "1.2.0",
      "model_name": "LayoutModel",
      "state": {}
     },
     "898fa31395a1455b8bec9b40c9982a64": {
      "model_module": "@jupyter-widgets/controls",
      "model_module_version": "1.5.0",
      "model_name": "HBoxModel",
      "state": {
       "children": [
        "IPY_MODEL_4b299ff6f5e44bf3b070945a3d223b1f",
        "IPY_MODEL_33f4b110f6e8431baa47232a3b115518"
       ],
       "layout": "IPY_MODEL_aa1f5ad822aa443995cbfbcedbe69275"
      }
     },
     "89ad3b2180e24fa18deb3d69bc13c2bd": {
      "model_module": "@jupyter-widgets/base",
      "model_module_version": "1.2.0",
      "model_name": "LayoutModel",
      "state": {}
     },
     "89cca388ee414539a2cee917b5fc89a4": {
      "model_module": "@jupyter-widgets/controls",
      "model_module_version": "1.5.0",
      "model_name": "ProgressStyleModel",
      "state": {
       "description_width": ""
      }
     },
     "8a8f081448e4453fabf2dd2689b5685b": {
      "model_module": "@jupyter-widgets/controls",
      "model_module_version": "1.5.0",
      "model_name": "HBoxModel",
      "state": {
       "children": [
        "IPY_MODEL_51d0b517598949edb2d6a98a56792e76",
        "IPY_MODEL_147bd8ad1ef849be84466dc296fc589d"
       ],
       "layout": "IPY_MODEL_77b0a852ef6e4b3d8aaaa1de1720cc3e"
      }
     },
     "8c4cc1d1a6dd4681bbb3c3751f81381d": {
      "model_module": "@jupyter-widgets/base",
      "model_module_version": "1.2.0",
      "model_name": "LayoutModel",
      "state": {}
     },
     "8cb7b6761506407a9b29f91e8a2c1b06": {
      "model_module": "@jupyter-widgets/controls",
      "model_module_version": "1.5.0",
      "model_name": "DescriptionStyleModel",
      "state": {
       "description_width": ""
      }
     },
     "8d1f5c71ec3a47798c583a512be6448e": {
      "model_module": "@jupyter-widgets/controls",
      "model_module_version": "1.5.0",
      "model_name": "ProgressStyleModel",
      "state": {
       "description_width": ""
      }
     },
     "8d7e61b59a4e4d03a1853ffe9fff3561": {
      "model_module": "@jupyter-widgets/controls",
      "model_module_version": "1.5.0",
      "model_name": "LabelModel",
      "state": {
       "layout": "IPY_MODEL_20bb3598723f4ae5b012de6257ab8b1b",
       "style": "IPY_MODEL_4971347e749b49329fa5db1f9b03dc84",
       "value": "750 / 750"
      }
     },
     "8dcb9dfc07854b58b294c8d8b6d86523": {
      "model_module": "@jupyter-widgets/base",
      "model_module_version": "1.2.0",
      "model_name": "LayoutModel",
      "state": {}
     },
     "8dfbf98571fb415b8da17ad29fe2bd3d": {
      "model_module": "@jupyter-widgets/controls",
      "model_module_version": "1.5.0",
      "model_name": "HBoxModel",
      "state": {
       "children": [
        "IPY_MODEL_da0f0e0bd87243c8bbcec4050f8aa1ee",
        "IPY_MODEL_cc71d7d1c5284cc9a96769c23d4a778c"
       ],
       "layout": "IPY_MODEL_069110d9271f4a13a4ce08695a4b451c"
      }
     },
     "8f606f5842354c72ac865b9924baf23d": {
      "model_module": "@jupyter-widgets/base",
      "model_module_version": "1.2.0",
      "model_name": "LayoutModel",
      "state": {}
     },
     "8fa85cd580ef483a823aaaab4a95b774": {
      "model_module": "@jupyter-widgets/controls",
      "model_module_version": "1.5.0",
      "model_name": "HBoxModel",
      "state": {
       "children": [
        "IPY_MODEL_311ceaca02644e86b524994f3fd00ab8",
        "IPY_MODEL_a9e3cf8106a24741897bb636c38ae6ff"
       ],
       "layout": "IPY_MODEL_65a84d0b5c9e42bebbf6543533981baa"
      }
     },
     "902daeb2d0be49368e1877e8555b70d1": {
      "model_module": "@jupyter-widgets/controls",
      "model_module_version": "1.5.0",
      "model_name": "IntProgressModel",
      "state": {
       "bar_style": "success",
       "description": "100.00%",
       "layout": "IPY_MODEL_6e26bd7cdc5148f49791bf79b749b0bf",
       "max": 750,
       "style": "IPY_MODEL_7c021ff981aa4ccfb9ad3fad89f16800",
       "value": 750
      }
     },
     "90814432a3cf4aa7a00402782b48096c": {
      "model_module": "@jupyter-widgets/controls",
      "model_module_version": "1.5.0",
      "model_name": "ProgressStyleModel",
      "state": {
       "description_width": ""
      }
     },
     "90e2b897cbb8492aa3edc5d3e7543c4f": {
      "model_module": "@jupyter-widgets/controls",
      "model_module_version": "1.5.0",
      "model_name": "DescriptionStyleModel",
      "state": {
       "description_width": ""
      }
     },
     "91d3e43ffcb2437fad8412439723d442": {
      "model_module": "@jupyter-widgets/controls",
      "model_module_version": "1.5.0",
      "model_name": "LabelModel",
      "state": {
       "layout": "IPY_MODEL_9bd334303db14f91b94dba6007d15d87",
       "style": "IPY_MODEL_c134150acfdb4c4a8ece63c3f196b191",
       "value": "750 / 750"
      }
     },
     "923a6f4b2ee74668b9e80a9115216cff": {
      "model_module": "@jupyter-widgets/controls",
      "model_module_version": "1.5.0",
      "model_name": "DescriptionStyleModel",
      "state": {
       "description_width": ""
      }
     },
     "9275d1f112c1473c996c92bc3c087a4b": {
      "model_module": "@jupyter-widgets/base",
      "model_module_version": "1.2.0",
      "model_name": "LayoutModel",
      "state": {}
     },
     "9292f12f020c4f34b3cf3983fc3d5bd3": {
      "model_module": "@jupyter-widgets/controls",
      "model_module_version": "1.5.0",
      "model_name": "DescriptionStyleModel",
      "state": {
       "description_width": ""
      }
     },
     "94e2d6a3481f4556b8f11b90974bb4e2": {
      "model_module": "@jupyter-widgets/base",
      "model_module_version": "1.2.0",
      "model_name": "LayoutModel",
      "state": {}
     },
     "952310bfecea49778285599dac2ffa41": {
      "model_module": "@jupyter-widgets/base",
      "model_module_version": "1.2.0",
      "model_name": "LayoutModel",
      "state": {}
     },
     "95bdd529fc244993bd1e96b1cc0dad9c": {
      "model_module": "@jupyter-widgets/controls",
      "model_module_version": "1.5.0",
      "model_name": "HBoxModel",
      "state": {
       "children": [
        "IPY_MODEL_9858ae4f987c469cb7e57ce352be30b3",
        "IPY_MODEL_06502a0eeb48429faaa8b06f22d2d83b"
       ],
       "layout": "IPY_MODEL_5da40b21ab8847fe8a7bd54da17f60c3"
      }
     },
     "96022e5b4cdc453c9f93c85e57bddad8": {
      "model_module": "@jupyter-widgets/base",
      "model_module_version": "1.2.0",
      "model_name": "LayoutModel",
      "state": {}
     },
     "964b7a2a4b5547828bd35f4c6845d2de": {
      "model_module": "@jupyter-widgets/base",
      "model_module_version": "1.2.0",
      "model_name": "LayoutModel",
      "state": {}
     },
     "96c1bdd5f58a4054aa05482031024c1f": {
      "model_module": "@jupyter-widgets/base",
      "model_module_version": "1.2.0",
      "model_name": "LayoutModel",
      "state": {}
     },
     "9783fa679a134df4925ceb5b860920c7": {
      "model_module": "@jupyter-widgets/base",
      "model_module_version": "1.2.0",
      "model_name": "LayoutModel",
      "state": {}
     },
     "97ed2c6b5a864b7691571eb14cdaa515": {
      "model_module": "@jupyter-widgets/base",
      "model_module_version": "1.2.0",
      "model_name": "LayoutModel",
      "state": {}
     },
     "9858ae4f987c469cb7e57ce352be30b3": {
      "model_module": "@jupyter-widgets/controls",
      "model_module_version": "1.5.0",
      "model_name": "IntProgressModel",
      "state": {
       "bar_style": "success",
       "description": "100.00%",
       "layout": "IPY_MODEL_6efcbf54f9b44427958abaa6638181cf",
       "max": 750,
       "style": "IPY_MODEL_ad2a4f9aa9ed468688a7c95fc6a33d2e",
       "value": 750
      }
     },
     "9887fa8f557b41059b589640ef9d02c9": {
      "model_module": "@jupyter-widgets/base",
      "model_module_version": "1.2.0",
      "model_name": "LayoutModel",
      "state": {}
     },
     "98f4b1236a744393b485174ca0c7ccef": {
      "model_module": "@jupyter-widgets/controls",
      "model_module_version": "1.5.0",
      "model_name": "HBoxModel",
      "state": {
       "children": [
        "IPY_MODEL_203f077af8ec45e0b926730c454bc7e2",
        "IPY_MODEL_61582f4a961a457a9255a6f5e0757b4a"
       ],
       "layout": "IPY_MODEL_01bacf4f07d04114af3255fe264a3a89"
      }
     },
     "99f84c2e4c7f4ae88505cafa7b61b804": {
      "model_module": "@jupyter-widgets/base",
      "model_module_version": "1.2.0",
      "model_name": "LayoutModel",
      "state": {}
     },
     "9abac2e3599e4c54b6be9ada08e2c3f9": {
      "model_module": "@jupyter-widgets/controls",
      "model_module_version": "1.5.0",
      "model_name": "ProgressStyleModel",
      "state": {
       "description_width": ""
      }
     },
     "9adb07ddb956479bbe523b8a7c151463": {
      "model_module": "@jupyter-widgets/base",
      "model_module_version": "1.2.0",
      "model_name": "LayoutModel",
      "state": {}
     },
     "9bd334303db14f91b94dba6007d15d87": {
      "model_module": "@jupyter-widgets/base",
      "model_module_version": "1.2.0",
      "model_name": "LayoutModel",
      "state": {}
     },
     "9d3f33adcd5a40d38419b2925f61b679": {
      "model_module": "@jupyter-widgets/controls",
      "model_module_version": "1.5.0",
      "model_name": "LabelModel",
      "state": {
       "layout": "IPY_MODEL_96c1bdd5f58a4054aa05482031024c1f",
       "style": "IPY_MODEL_ae6418212500481488e6f0b5698bf447",
       "value": "750 / 750"
      }
     },
     "9f21311047ea4d62b264d3da57227f03": {
      "model_module": "@jupyter-widgets/controls",
      "model_module_version": "1.5.0",
      "model_name": "IntProgressModel",
      "state": {
       "bar_style": "success",
       "description": "100.00%",
       "layout": "IPY_MODEL_89ad3b2180e24fa18deb3d69bc13c2bd",
       "max": 750,
       "style": "IPY_MODEL_53f5e954f51540f2b049fc0b554d12df",
       "value": 750
      }
     },
     "9f23b572cd94434590f16b71e6f3f0eb": {
      "model_module": "@jupyter-widgets/base",
      "model_module_version": "1.2.0",
      "model_name": "LayoutModel",
      "state": {}
     },
     "9f92c97556dd4646a8af4e014c486524": {
      "model_module": "@jupyter-widgets/controls",
      "model_module_version": "1.5.0",
      "model_name": "DescriptionStyleModel",
      "state": {
       "description_width": ""
      }
     },
     "a00d3077a14f4c7d85493c49a6941a2b": {
      "model_module": "@jupyter-widgets/controls",
      "model_module_version": "1.5.0",
      "model_name": "ProgressStyleModel",
      "state": {
       "description_width": ""
      }
     },
     "a06ada9769a1433181389d122a648309": {
      "model_module": "@jupyter-widgets/controls",
      "model_module_version": "1.5.0",
      "model_name": "DescriptionStyleModel",
      "state": {
       "description_width": ""
      }
     },
     "a092cebefcec47a3b5cd61467b5c0db1": {
      "model_module": "@jupyter-widgets/controls",
      "model_module_version": "1.5.0",
      "model_name": "HBoxModel",
      "state": {
       "children": [
        "IPY_MODEL_43344097ded34f6a9c9df0bf19094306",
        "IPY_MODEL_b8a191e2bd124ca382829972d04585ac"
       ],
       "layout": "IPY_MODEL_0371a7027f154b29b0a64dfdcf109b51"
      }
     },
     "a09f509689a64677a4e861729c7d7376": {
      "model_module": "@jupyter-widgets/controls",
      "model_module_version": "1.5.0",
      "model_name": "HBoxModel",
      "state": {
       "children": [
        "IPY_MODEL_1134b77b8ee247a6803faeed88ce2b38",
        "IPY_MODEL_2247718a2e834b4fb19033e3e8c81219"
       ],
       "layout": "IPY_MODEL_d483f770012047cbb5cae86a23d91998"
      }
     },
     "a1b456d9fa2543d79a48437cec602f93": {
      "model_module": "@jupyter-widgets/controls",
      "model_module_version": "1.5.0",
      "model_name": "IntProgressModel",
      "state": {
       "bar_style": "success",
       "description": "100.00%",
       "layout": "IPY_MODEL_1c627a6ff1f04c6ca2d454f8940090ac",
       "max": 750,
       "style": "IPY_MODEL_6e97cd8c858e4cf79c2fc75138c34af7",
       "value": 750
      }
     },
     "a244e5179da1467185f8600791a504d8": {
      "model_module": "@jupyter-widgets/base",
      "model_module_version": "1.2.0",
      "model_name": "LayoutModel",
      "state": {}
     },
     "a359908f096b49ee86e56294610acfef": {
      "model_module": "@jupyter-widgets/controls",
      "model_module_version": "1.5.0",
      "model_name": "DescriptionStyleModel",
      "state": {
       "description_width": ""
      }
     },
     "a3c3bd2f42634089bfc8e9ba87361c9f": {
      "model_module": "@jupyter-widgets/controls",
      "model_module_version": "1.5.0",
      "model_name": "DescriptionStyleModel",
      "state": {
       "description_width": ""
      }
     },
     "a447cdf737ce4cc89b82aad4af45d31c": {
      "model_module": "@jupyter-widgets/base",
      "model_module_version": "1.2.0",
      "model_name": "LayoutModel",
      "state": {}
     },
     "a4d7f1fef11b45f9ae0cfeed8a08f2b7": {
      "model_module": "@jupyter-widgets/controls",
      "model_module_version": "1.5.0",
      "model_name": "IntProgressModel",
      "state": {
       "bar_style": "success",
       "description": "100.00%",
       "layout": "IPY_MODEL_16e10bf03efa46f0ae940a13e284b1af",
       "max": 750,
       "style": "IPY_MODEL_099b953a46d94dd4a5707e385a38c4b3",
       "value": 750
      }
     },
     "a5467dcd5e314c25a3c5d16803619b32": {
      "model_module": "@jupyter-widgets/controls",
      "model_module_version": "1.5.0",
      "model_name": "ProgressStyleModel",
      "state": {
       "description_width": ""
      }
     },
     "a5d43615027f4d548510c8f52d683837": {
      "model_module": "@jupyter-widgets/base",
      "model_module_version": "1.2.0",
      "model_name": "LayoutModel",
      "state": {}
     },
     "a5ea156fb0fd47b6accc8af306ea08b0": {
      "model_module": "@jupyter-widgets/base",
      "model_module_version": "1.2.0",
      "model_name": "LayoutModel",
      "state": {}
     },
     "a79baa08af704f50982ccf99c519dd41": {
      "model_module": "@jupyter-widgets/base",
      "model_module_version": "1.2.0",
      "model_name": "LayoutModel",
      "state": {}
     },
     "a81eed77e6c54791b08941330c1fffb9": {
      "model_module": "@jupyter-widgets/base",
      "model_module_version": "1.2.0",
      "model_name": "LayoutModel",
      "state": {}
     },
     "a8ef43a418cf46ddb5fbf17c2fe4d029": {
      "model_module": "@jupyter-widgets/controls",
      "model_module_version": "1.5.0",
      "model_name": "LabelModel",
      "state": {
       "layout": "IPY_MODEL_9783fa679a134df4925ceb5b860920c7",
       "style": "IPY_MODEL_df2a47efe2f8481aa7d908111abdfe72",
       "value": "750 / 750"
      }
     },
     "a9e3cf8106a24741897bb636c38ae6ff": {
      "model_module": "@jupyter-widgets/controls",
      "model_module_version": "1.5.0",
      "model_name": "LabelModel",
      "state": {
       "layout": "IPY_MODEL_a79baa08af704f50982ccf99c519dd41",
       "style": "IPY_MODEL_923a6f4b2ee74668b9e80a9115216cff",
       "value": "750 / 750"
      }
     },
     "aa1f5ad822aa443995cbfbcedbe69275": {
      "model_module": "@jupyter-widgets/base",
      "model_module_version": "1.2.0",
      "model_name": "LayoutModel",
      "state": {}
     },
     "aaf4ec7604484fba99fcb02694d6edf2": {
      "model_module": "@jupyter-widgets/controls",
      "model_module_version": "1.5.0",
      "model_name": "HBoxModel",
      "state": {
       "children": [
        "IPY_MODEL_c5fab54629d74485ac55dd27b4257555",
        "IPY_MODEL_3c5a51130a00402c8968dce4d09ccaa2"
       ],
       "layout": "IPY_MODEL_e7d9a594accc438eada0ed1a117901f7"
      }
     },
     "ab90245f63884b3f8051c46bb067ee6c": {
      "model_module": "@jupyter-widgets/controls",
      "model_module_version": "1.5.0",
      "model_name": "LabelModel",
      "state": {
       "layout": "IPY_MODEL_8dcb9dfc07854b58b294c8d8b6d86523",
       "style": "IPY_MODEL_c2c5d0cf2db745829bf6cb636739cab2",
       "value": "750 / 750"
      }
     },
     "abfc05ebd8334de0ab64a009879ea5a4": {
      "model_module": "@jupyter-widgets/controls",
      "model_module_version": "1.5.0",
      "model_name": "IntProgressModel",
      "state": {
       "bar_style": "success",
       "description": "100.00%",
       "layout": "IPY_MODEL_21dd23ccadc04e0f9298913ec5a6c9fe",
       "max": 750,
       "style": "IPY_MODEL_bf1a24a3d00a42f39ef64c5f73430c5e",
       "value": 750
      }
     },
     "aca4ce7b826d4a1aaafa609ae00e2243": {
      "model_module": "@jupyter-widgets/controls",
      "model_module_version": "1.5.0",
      "model_name": "IntProgressModel",
      "state": {
       "bar_style": "success",
       "description": "100.00%",
       "layout": "IPY_MODEL_2baeb8446fe144f7816faed11a4857f8",
       "max": 750,
       "style": "IPY_MODEL_e5065bd5d7d5406c92281497580817f3",
       "value": 750
      }
     },
     "ad2a4f9aa9ed468688a7c95fc6a33d2e": {
      "model_module": "@jupyter-widgets/controls",
      "model_module_version": "1.5.0",
      "model_name": "ProgressStyleModel",
      "state": {
       "description_width": ""
      }
     },
     "ad4423d4036d47859933dbba02c8488b": {
      "model_module": "@jupyter-widgets/controls",
      "model_module_version": "1.5.0",
      "model_name": "DescriptionStyleModel",
      "state": {
       "description_width": ""
      }
     },
     "ada41442a892402fb52652d6700847d6": {
      "model_module": "@jupyter-widgets/controls",
      "model_module_version": "1.5.0",
      "model_name": "HBoxModel",
      "state": {
       "children": [
        "IPY_MODEL_603f034155634398be1701cb817a6448",
        "IPY_MODEL_fb078c47a7cd46d59062034844a8507f"
       ],
       "layout": "IPY_MODEL_68c85ebf8a654c0682ff6bfe35a9fe53"
      }
     },
     "adf60743fc2f4e12822930d0352bc70b": {
      "model_module": "@jupyter-widgets/controls",
      "model_module_version": "1.5.0",
      "model_name": "VBoxModel",
      "state": {
       "children": [
        "IPY_MODEL_5a46760ee5d74d66981fd441233d7ed1",
        "IPY_MODEL_4caa50a180db47efb8a96c6060567b96",
        "IPY_MODEL_a09f509689a64677a4e861729c7d7376",
        "IPY_MODEL_8a8f081448e4453fabf2dd2689b5685b"
       ],
       "layout": "IPY_MODEL_74cf25dface64dd59297c2f5e9c0a611"
      }
     },
     "adfe017f11fc402180922a0f8a916e29": {
      "model_module": "@jupyter-widgets/controls",
      "model_module_version": "1.5.0",
      "model_name": "IntProgressModel",
      "state": {
       "bar_style": "success",
       "description": "100.00%",
       "layout": "IPY_MODEL_078431aad8104c26b5df45b5f38c762c",
       "max": 750,
       "style": "IPY_MODEL_e6796a0ab41f4cd69b76a159627294d0",
       "value": 750
      }
     },
     "ae331dbfbc0f4fb6af98a22c9b8a249e": {
      "model_module": "@jupyter-widgets/controls",
      "model_module_version": "1.5.0",
      "model_name": "DescriptionStyleModel",
      "state": {
       "description_width": ""
      }
     },
     "ae6418212500481488e6f0b5698bf447": {
      "model_module": "@jupyter-widgets/controls",
      "model_module_version": "1.5.0",
      "model_name": "DescriptionStyleModel",
      "state": {
       "description_width": ""
      }
     },
     "af7c96a44f5f4473bbb8cd08d1dc1f34": {
      "model_module": "@jupyter-widgets/controls",
      "model_module_version": "1.5.0",
      "model_name": "ProgressStyleModel",
      "state": {
       "description_width": ""
      }
     },
     "afed38fc3eb94783936e3e50cb70acf4": {
      "model_module": "@jupyter-widgets/controls",
      "model_module_version": "1.5.0",
      "model_name": "ProgressStyleModel",
      "state": {
       "description_width": ""
      }
     },
     "b0654fbe5253485bb4e71153170ade2a": {
      "model_module": "@jupyter-widgets/controls",
      "model_module_version": "1.5.0",
      "model_name": "LabelModel",
      "state": {
       "layout": "IPY_MODEL_952310bfecea49778285599dac2ffa41",
       "style": "IPY_MODEL_7b5bb63ef5784d2aa278dd86660f6411",
       "value": "750 / 750"
      }
     },
     "b0d8e74d580c424a9e7e5ec9bfa35c91": {
      "model_module": "@jupyter-widgets/base",
      "model_module_version": "1.2.0",
      "model_name": "LayoutModel",
      "state": {}
     },
     "b15b77f44fc14f048024638a5a73af67": {
      "model_module": "@jupyter-widgets/controls",
      "model_module_version": "1.5.0",
      "model_name": "HBoxModel",
      "state": {
       "children": [
        "IPY_MODEL_44694a32029d4175ba8f1cd1f32f89d4",
        "IPY_MODEL_f39d3dffde6d42b3ab48de691114918e"
       ],
       "layout": "IPY_MODEL_cc27af6d8a344003a12923c34b1cb11a"
      }
     },
     "b21adc3e65a34e7ebc504bf59f10d177": {
      "model_module": "@jupyter-widgets/base",
      "model_module_version": "1.2.0",
      "model_name": "LayoutModel",
      "state": {}
     },
     "b24e4b33ec5848e098eb07050673b4a0": {
      "model_module": "@jupyter-widgets/controls",
      "model_module_version": "1.5.0",
      "model_name": "IntProgressModel",
      "state": {
       "bar_style": "success",
       "description": "100.00%",
       "layout": "IPY_MODEL_a5d43615027f4d548510c8f52d683837",
       "max": 750,
       "style": "IPY_MODEL_eb4120b634ca4876afa655a869aa7f60",
       "value": 750
      }
     },
     "b2a1c1dd799b44468f68c01876a52f65": {
      "model_module": "@jupyter-widgets/controls",
      "model_module_version": "1.5.0",
      "model_name": "IntProgressModel",
      "state": {
       "bar_style": "success",
       "description": "100.00%",
       "layout": "IPY_MODEL_705fb1829a6641d7a4295bb673ce0cd2",
       "max": 750,
       "style": "IPY_MODEL_1cbdbcc8edd340bb9771d2b6ac8776f7",
       "value": 750
      }
     },
     "b3606a295bc649f48f4a37f34c09760f": {
      "model_module": "@jupyter-widgets/base",
      "model_module_version": "1.2.0",
      "model_name": "LayoutModel",
      "state": {}
     },
     "b38eb462384f42f9afd370db3419647e": {
      "model_module": "@jupyter-widgets/controls",
      "model_module_version": "1.5.0",
      "model_name": "IntProgressModel",
      "state": {
       "bar_style": "success",
       "description": "100.00%",
       "layout": "IPY_MODEL_dab752f6679c40e889cc83cc8e853d35",
       "max": 750,
       "style": "IPY_MODEL_757a131a44a646feaa2525bc96aab1b7",
       "value": 750
      }
     },
     "b3fb963a2d4742ad95a2fe8398ce67c1": {
      "model_module": "@jupyter-widgets/controls",
      "model_module_version": "1.5.0",
      "model_name": "IntProgressModel",
      "state": {
       "bar_style": "success",
       "description": "100.00%",
       "layout": "IPY_MODEL_f914e68b0eee4446b5b3e9e772aa27ea",
       "max": 750,
       "style": "IPY_MODEL_37571ada91294a48b4f22c3226a601fa",
       "value": 750
      }
     },
     "b4828d8cf9304522b807b35afa821bf7": {
      "model_module": "@jupyter-widgets/controls",
      "model_module_version": "1.5.0",
      "model_name": "HBoxModel",
      "state": {
       "children": [
        "IPY_MODEL_f0eb42c60d3c4114be6819a124beb4e2",
        "IPY_MODEL_8d7e61b59a4e4d03a1853ffe9fff3561"
       ],
       "layout": "IPY_MODEL_16603cc1b9a24f3db29b917a4fcd264f"
      }
     },
     "b624af5e72bf41ee8d8b9f14295d4717": {
      "model_module": "@jupyter-widgets/controls",
      "model_module_version": "1.5.0",
      "model_name": "LabelModel",
      "state": {
       "layout": "IPY_MODEL_5e3a542496134a2b857e4808dee18af4",
       "style": "IPY_MODEL_13a3ff8d0cc24b26b42a5a8bc5a38345",
       "value": "750 / 750"
      }
     },
     "b665dd3f6dcd421b97c8f577d8df09ac": {
      "model_module": "@jupyter-widgets/base",
      "model_module_version": "1.2.0",
      "model_name": "LayoutModel",
      "state": {}
     },
     "b681249495f9457f989d7879a17b1c5c": {
      "model_module": "@jupyter-widgets/controls",
      "model_module_version": "1.5.0",
      "model_name": "LabelModel",
      "state": {
       "layout": "IPY_MODEL_33423e5de6c24a3eb330df753c78b27e",
       "style": "IPY_MODEL_11d5d30c23024138a3d5f25c9a94ab5d",
       "value": "750 / 750"
      }
     },
     "b76c29e56da247319c13d4c704eea0d9": {
      "model_module": "@jupyter-widgets/controls",
      "model_module_version": "1.5.0",
      "model_name": "IntProgressModel",
      "state": {
       "bar_style": "success",
       "description": "100.00%",
       "layout": "IPY_MODEL_b21adc3e65a34e7ebc504bf59f10d177",
       "max": 750,
       "style": "IPY_MODEL_266067076d9c4899b46f1dff7c864522",
       "value": 750
      }
     },
     "b7fcd86f6de047d9bd4a3aa0540c379f": {
      "model_module": "@jupyter-widgets/base",
      "model_module_version": "1.2.0",
      "model_name": "LayoutModel",
      "state": {}
     },
     "b8a191e2bd124ca382829972d04585ac": {
      "model_module": "@jupyter-widgets/controls",
      "model_module_version": "1.5.0",
      "model_name": "LabelModel",
      "state": {
       "layout": "IPY_MODEL_08cc35df300e4aaaa779441d9c2f384e",
       "style": "IPY_MODEL_2ffc27f76c4b488ba5cf42cc31a9a8fb",
       "value": "750 / 750"
      }
     },
     "b8eba01f036840deb6c403426cc43515": {
      "model_module": "@jupyter-widgets/controls",
      "model_module_version": "1.5.0",
      "model_name": "IntProgressModel",
      "state": {
       "bar_style": "success",
       "description": "100.00%",
       "layout": "IPY_MODEL_97ed2c6b5a864b7691571eb14cdaa515",
       "max": 750,
       "style": "IPY_MODEL_a5467dcd5e314c25a3c5d16803619b32",
       "value": 750
      }
     },
     "b92a3bdf97da488aa720289c652c1388": {
      "model_module": "@jupyter-widgets/controls",
      "model_module_version": "1.5.0",
      "model_name": "HBoxModel",
      "state": {
       "children": [
        "IPY_MODEL_1b17fef5df124bfc9b74f123edd84629",
        "IPY_MODEL_04a6699243e846bb8662f68a9109d2ab"
       ],
       "layout": "IPY_MODEL_f5b9add3f9a6467780b0a88b63a423fa"
      }
     },
     "b932abf9b47e467ca4cf6c68ca8ead67": {
      "model_module": "@jupyter-widgets/base",
      "model_module_version": "1.2.0",
      "model_name": "LayoutModel",
      "state": {}
     },
     "b98698135aee4564b428f105d6c34c0e": {
      "model_module": "@jupyter-widgets/base",
      "model_module_version": "1.2.0",
      "model_name": "LayoutModel",
      "state": {}
     },
     "baa1e2e49d254d0cb4bfa142f296258d": {
      "model_module": "@jupyter-widgets/controls",
      "model_module_version": "1.5.0",
      "model_name": "DescriptionStyleModel",
      "state": {
       "description_width": ""
      }
     },
     "babe3530629843848ccf433518c0a5d5": {
      "model_module": "@jupyter-widgets/controls",
      "model_module_version": "1.5.0",
      "model_name": "HBoxModel",
      "state": {
       "children": [
        "IPY_MODEL_b76c29e56da247319c13d4c704eea0d9",
        "IPY_MODEL_3c0c1c0dd96c43a291b45c01bdfe91e9"
       ],
       "layout": "IPY_MODEL_8c4cc1d1a6dd4681bbb3c3751f81381d"
      }
     },
     "bb73d7465f7744029326535ba17d6cce": {
      "model_module": "@jupyter-widgets/controls",
      "model_module_version": "1.5.0",
      "model_name": "HBoxModel",
      "state": {
       "children": [
        "IPY_MODEL_d3fd619ad2e240f9afcac1be7efd053d",
        "IPY_MODEL_74952e91dc5c4ee7a7ae070abada95f3"
       ],
       "layout": "IPY_MODEL_b3606a295bc649f48f4a37f34c09760f"
      }
     },
     "bc78f61cd6a549d7b1af0a88379e4bf7": {
      "model_module": "@jupyter-widgets/controls",
      "model_module_version": "1.5.0",
      "model_name": "HBoxModel",
      "state": {
       "children": [
        "IPY_MODEL_f948c6d9e5b6450ba432ff4caf424530",
        "IPY_MODEL_22e65769932c4a4ab7da32393d3d6c46"
       ],
       "layout": "IPY_MODEL_09cec328d84b420fba66f84d978caa42"
      }
     },
     "bc9b8e6e8cf34616907042e8e9137dc5": {
      "model_module": "@jupyter-widgets/base",
      "model_module_version": "1.2.0",
      "model_name": "LayoutModel",
      "state": {}
     },
     "be9d74be6e8a4df1b50f8244928336bd": {
      "model_module": "@jupyter-widgets/controls",
      "model_module_version": "1.5.0",
      "model_name": "ProgressStyleModel",
      "state": {
       "description_width": ""
      }
     },
     "bf1a24a3d00a42f39ef64c5f73430c5e": {
      "model_module": "@jupyter-widgets/controls",
      "model_module_version": "1.5.0",
      "model_name": "ProgressStyleModel",
      "state": {
       "description_width": ""
      }
     },
     "bf70b11df64d470b95655313af836917": {
      "model_module": "@jupyter-widgets/base",
      "model_module_version": "1.2.0",
      "model_name": "LayoutModel",
      "state": {}
     },
     "c03d38edc9c04692ad378787f1278052": {
      "model_module": "@jupyter-widgets/controls",
      "model_module_version": "1.5.0",
      "model_name": "ProgressStyleModel",
      "state": {
       "description_width": ""
      }
     },
     "c09547c21ec749229c05666cae2a8fd3": {
      "model_module": "@jupyter-widgets/controls",
      "model_module_version": "1.5.0",
      "model_name": "ProgressStyleModel",
      "state": {
       "description_width": ""
      }
     },
     "c0a161d3b9f549fabab2d6ee411c0227": {
      "model_module": "@jupyter-widgets/base",
      "model_module_version": "1.2.0",
      "model_name": "LayoutModel",
      "state": {}
     },
     "c134150acfdb4c4a8ece63c3f196b191": {
      "model_module": "@jupyter-widgets/controls",
      "model_module_version": "1.5.0",
      "model_name": "DescriptionStyleModel",
      "state": {
       "description_width": ""
      }
     },
     "c159b229d6cb465e934d8dc912572de2": {
      "model_module": "@jupyter-widgets/controls",
      "model_module_version": "1.5.0",
      "model_name": "HBoxModel",
      "state": {
       "children": [
        "IPY_MODEL_05b2c530872d4cd5a692ca4e6f4c73ac",
        "IPY_MODEL_73ea7e418bbb43d1ba004d0828256d30"
       ],
       "layout": "IPY_MODEL_0feb0af6debd4022b193a7f10948caac"
      }
     },
     "c21c0690fe3d43b9b4f5c6c44bc1f4da": {
      "model_module": "@jupyter-widgets/base",
      "model_module_version": "1.2.0",
      "model_name": "LayoutModel",
      "state": {}
     },
     "c2c5d0cf2db745829bf6cb636739cab2": {
      "model_module": "@jupyter-widgets/controls",
      "model_module_version": "1.5.0",
      "model_name": "DescriptionStyleModel",
      "state": {
       "description_width": ""
      }
     },
     "c2ddbe59d9794873b3d2b3e630802593": {
      "model_module": "@jupyter-widgets/base",
      "model_module_version": "1.2.0",
      "model_name": "LayoutModel",
      "state": {}
     },
     "c4031833e3914fb79f36280b7f9c3a4f": {
      "model_module": "@jupyter-widgets/controls",
      "model_module_version": "1.5.0",
      "model_name": "LabelModel",
      "state": {
       "layout": "IPY_MODEL_8f606f5842354c72ac865b9924baf23d",
       "style": "IPY_MODEL_6eebe17c0815414f86d7fcf3706628ec",
       "value": "750 / 750"
      }
     },
     "c41e49eeb3bf41b382a4f542d7702987": {
      "model_module": "@jupyter-widgets/base",
      "model_module_version": "1.2.0",
      "model_name": "LayoutModel",
      "state": {}
     },
     "c53d48b0e23a42a49e1b0aaaa8a5a065": {
      "model_module": "@jupyter-widgets/controls",
      "model_module_version": "1.5.0",
      "model_name": "ProgressStyleModel",
      "state": {
       "description_width": ""
      }
     },
     "c559c3862a0843f19cafb8da04181052": {
      "model_module": "@jupyter-widgets/base",
      "model_module_version": "1.2.0",
      "model_name": "LayoutModel",
      "state": {}
     },
     "c56df3f07b7e42e086fd0525cd23420a": {
      "model_module": "@jupyter-widgets/controls",
      "model_module_version": "1.5.0",
      "model_name": "DescriptionStyleModel",
      "state": {
       "description_width": ""
      }
     },
     "c5d1d01212494256a51224f24fd07516": {
      "model_module": "@jupyter-widgets/base",
      "model_module_version": "1.2.0",
      "model_name": "LayoutModel",
      "state": {}
     },
     "c5dc04a23b204eb7b35b6895cc9e1eab": {
      "model_module": "@jupyter-widgets/controls",
      "model_module_version": "1.5.0",
      "model_name": "HBoxModel",
      "state": {
       "children": [
        "IPY_MODEL_abfc05ebd8334de0ab64a009879ea5a4",
        "IPY_MODEL_640d8758f5564d1a849d9f69b10056e7"
       ],
       "layout": "IPY_MODEL_c41e49eeb3bf41b382a4f542d7702987"
      }
     },
     "c5fab54629d74485ac55dd27b4257555": {
      "model_module": "@jupyter-widgets/controls",
      "model_module_version": "1.5.0",
      "model_name": "IntProgressModel",
      "state": {
       "bar_style": "success",
       "description": "100.00%",
       "layout": "IPY_MODEL_e4d871172e7f4bafa23cb16ba833e47e",
       "max": 750,
       "style": "IPY_MODEL_c53d48b0e23a42a49e1b0aaaa8a5a065",
       "value": 750
      }
     },
     "c6b8a288dee745a88b13b29c5c59db02": {
      "model_module": "@jupyter-widgets/base",
      "model_module_version": "1.2.0",
      "model_name": "LayoutModel",
      "state": {}
     },
     "c70236a6c8764122b73ae99b7908dd17": {
      "model_module": "@jupyter-widgets/base",
      "model_module_version": "1.2.0",
      "model_name": "LayoutModel",
      "state": {}
     },
     "c70b7385a09146559d531bd968711382": {
      "model_module": "@jupyter-widgets/controls",
      "model_module_version": "1.5.0",
      "model_name": "ProgressStyleModel",
      "state": {
       "description_width": ""
      }
     },
     "c7ce3a8476de4536b9b26317894e4a2e": {
      "model_module": "@jupyter-widgets/controls",
      "model_module_version": "1.5.0",
      "model_name": "IntProgressModel",
      "state": {
       "bar_style": "success",
       "description": "100.00%",
       "layout": "IPY_MODEL_129a7b99ca5c4b329d336601076454bc",
       "max": 750,
       "style": "IPY_MODEL_2d236ee66d824f9ab12f46a6a080106b",
       "value": 750
      }
     },
     "c85297ad49ca443a90c5190cef8f6bc3": {
      "model_module": "@jupyter-widgets/base",
      "model_module_version": "1.2.0",
      "model_name": "LayoutModel",
      "state": {}
     },
     "c91d1cc780604f638f33c9e039190b13": {
      "model_module": "@jupyter-widgets/base",
      "model_module_version": "1.2.0",
      "model_name": "LayoutModel",
      "state": {}
     },
     "c93002ba417b4155827d04bfeb71a00a": {
      "model_module": "@jupyter-widgets/base",
      "model_module_version": "1.2.0",
      "model_name": "LayoutModel",
      "state": {}
     },
     "c9850299eb0e4e4f850ffc61f93beede": {
      "model_module": "@jupyter-widgets/controls",
      "model_module_version": "1.5.0",
      "model_name": "HBoxModel",
      "state": {
       "children": [
        "IPY_MODEL_b8eba01f036840deb6c403426cc43515",
        "IPY_MODEL_fb69806ee4034d288cd0c63449921e13"
       ],
       "layout": "IPY_MODEL_df7095554d6341f68d3f23a66dfee0f6"
      }
     },
     "c99d2f6bf4ab49919abc0cdf5e5080d4": {
      "model_module": "@jupyter-widgets/controls",
      "model_module_version": "1.5.0",
      "model_name": "HBoxModel",
      "state": {
       "children": [
        "IPY_MODEL_4345d445b0a2440eaf6037302ee1efc3",
        "IPY_MODEL_1e3af1b6db9b4179b8cdffabe078af28"
       ],
       "layout": "IPY_MODEL_f3ba9fafa5d04131b282cc64ed9c4fd3"
      }
     },
     "c9a0122f2fc24c529529f93e91546de5": {
      "model_module": "@jupyter-widgets/controls",
      "model_module_version": "1.5.0",
      "model_name": "LabelModel",
      "state": {
       "layout": "IPY_MODEL_c2ddbe59d9794873b3d2b3e630802593",
       "style": "IPY_MODEL_cfc4a8d0f8ab4e55ab646c1a2d0d639c",
       "value": "750 / 750"
      }
     },
     "c9e96e7b83ff438b9a7167f605625f51": {
      "model_module": "@jupyter-widgets/controls",
      "model_module_version": "1.5.0",
      "model_name": "ProgressStyleModel",
      "state": {
       "description_width": ""
      }
     },
     "caa3351c6e884596965a9b625e33a276": {
      "model_module": "@jupyter-widgets/base",
      "model_module_version": "1.2.0",
      "model_name": "LayoutModel",
      "state": {}
     },
     "cacb4731972f43f4b53ac1bf5284b0d4": {
      "model_module": "@jupyter-widgets/base",
      "model_module_version": "1.2.0",
      "model_name": "LayoutModel",
      "state": {}
     },
     "cc27af6d8a344003a12923c34b1cb11a": {
      "model_module": "@jupyter-widgets/base",
      "model_module_version": "1.2.0",
      "model_name": "LayoutModel",
      "state": {}
     },
     "cc71d7d1c5284cc9a96769c23d4a778c": {
      "model_module": "@jupyter-widgets/controls",
      "model_module_version": "1.5.0",
      "model_name": "LabelModel",
      "state": {
       "layout": "IPY_MODEL_6b8c0bc99e0b45a1bcf34d297a5e6b98",
       "style": "IPY_MODEL_7cb95f7cf7d1488db877bc93f43ca655",
       "value": "750 / 750"
      }
     },
     "ccc23472cf414d15a8cbcb678f5e8ae1": {
      "model_module": "@jupyter-widgets/controls",
      "model_module_version": "1.5.0",
      "model_name": "LabelModel",
      "state": {
       "layout": "IPY_MODEL_087f9f9ec3084c3e8c6d1b60da270969",
       "style": "IPY_MODEL_9292f12f020c4f34b3cf3983fc3d5bd3",
       "value": "750 / 750"
      }
     },
     "cce334f6c8e0439eb5298c99d4b18203": {
      "model_module": "@jupyter-widgets/controls",
      "model_module_version": "1.5.0",
      "model_name": "HBoxModel",
      "state": {
       "children": [
        "IPY_MODEL_adfe017f11fc402180922a0f8a916e29",
        "IPY_MODEL_b681249495f9457f989d7879a17b1c5c"
       ],
       "layout": "IPY_MODEL_481d610ae074437abc5ab198c180de68"
      }
     },
     "cd9a2c3207de42eeaa043c3b2cf745d0": {
      "model_module": "@jupyter-widgets/controls",
      "model_module_version": "1.5.0",
      "model_name": "HBoxModel",
      "state": {
       "children": [
        "IPY_MODEL_ed4219f27ae844ca80400d6b4895fa66",
        "IPY_MODEL_c4031833e3914fb79f36280b7f9c3a4f"
       ],
       "layout": "IPY_MODEL_c21c0690fe3d43b9b4f5c6c44bc1f4da"
      }
     },
     "cdde8c0d908f4dbe874c3271a73e153a": {
      "model_module": "@jupyter-widgets/controls",
      "model_module_version": "1.5.0",
      "model_name": "IntProgressModel",
      "state": {
       "bar_style": "success",
       "description": "100.00%",
       "layout": "IPY_MODEL_591ee1618bf8455aa2595c3e7d5c71e3",
       "max": 750,
       "style": "IPY_MODEL_ce4bc1ddffa44c1e8eb2a3270d7b1b06",
       "value": 750
      }
     },
     "ce4bc1ddffa44c1e8eb2a3270d7b1b06": {
      "model_module": "@jupyter-widgets/controls",
      "model_module_version": "1.5.0",
      "model_name": "ProgressStyleModel",
      "state": {
       "description_width": ""
      }
     },
     "ce7e11b476a748a3b64a50cbd963f618": {
      "model_module": "@jupyter-widgets/base",
      "model_module_version": "1.2.0",
      "model_name": "LayoutModel",
      "state": {}
     },
     "ce9b5440e8b54e938ca75e28b77a539c": {
      "model_module": "@jupyter-widgets/controls",
      "model_module_version": "1.5.0",
      "model_name": "ProgressStyleModel",
      "state": {
       "description_width": ""
      }
     },
     "ced9a8dcda444de6b568b07f60f0e66b": {
      "model_module": "@jupyter-widgets/base",
      "model_module_version": "1.2.0",
      "model_name": "LayoutModel",
      "state": {}
     },
     "cede6d79954a4d999dd157a97a6bfecc": {
      "model_module": "@jupyter-widgets/controls",
      "model_module_version": "1.5.0",
      "model_name": "DescriptionStyleModel",
      "state": {
       "description_width": ""
      }
     },
     "cf5a42479d904d9282c8cda0bcb601ad": {
      "model_module": "@jupyter-widgets/controls",
      "model_module_version": "1.5.0",
      "model_name": "ProgressStyleModel",
      "state": {
       "description_width": ""
      }
     },
     "cf5d009ad5334801b08b4ceac322e99d": {
      "model_module": "@jupyter-widgets/controls",
      "model_module_version": "1.5.0",
      "model_name": "IntProgressModel",
      "state": {
       "bar_style": "success",
       "description": "100.00%",
       "layout": "IPY_MODEL_9f23b572cd94434590f16b71e6f3f0eb",
       "max": 750,
       "style": "IPY_MODEL_e0f7c629abdf4c8bb8895df84a3f2108",
       "value": 750
      }
     },
     "cfc438f1cb8144b7bf6bb69cd40643f5": {
      "model_module": "@jupyter-widgets/base",
      "model_module_version": "1.2.0",
      "model_name": "LayoutModel",
      "state": {}
     },
     "cfc4a8d0f8ab4e55ab646c1a2d0d639c": {
      "model_module": "@jupyter-widgets/controls",
      "model_module_version": "1.5.0",
      "model_name": "DescriptionStyleModel",
      "state": {
       "description_width": ""
      }
     },
     "d03a2755f45240f588406417d136f603": {
      "model_module": "@jupyter-widgets/controls",
      "model_module_version": "1.5.0",
      "model_name": "IntProgressModel",
      "state": {
       "bar_style": "success",
       "description": "100.00%",
       "layout": "IPY_MODEL_a5ea156fb0fd47b6accc8af306ea08b0",
       "max": 750,
       "style": "IPY_MODEL_9abac2e3599e4c54b6be9ada08e2c3f9",
       "value": 750
      }
     },
     "d115b60b61fc4c34a798736b2208a7de": {
      "model_module": "@jupyter-widgets/controls",
      "model_module_version": "1.5.0",
      "model_name": "HBoxModel",
      "state": {
       "children": [
        "IPY_MODEL_df1a044e915f4bfea58a10ec02098cc7",
        "IPY_MODEL_80323c12e47a4d5ca0435f6b0358d4f9"
       ],
       "layout": "IPY_MODEL_ef9bd0070ff3408199b0ed59a480c8db"
      }
     },
     "d1438f3b105a4470b3abf4925e843dd5": {
      "model_module": "@jupyter-widgets/base",
      "model_module_version": "1.2.0",
      "model_name": "LayoutModel",
      "state": {}
     },
     "d2f192176094476d9997033b60989b5d": {
      "model_module": "@jupyter-widgets/base",
      "model_module_version": "1.2.0",
      "model_name": "LayoutModel",
      "state": {}
     },
     "d30f1de9e0f34380b3b2b78e725db115": {
      "model_module": "@jupyter-widgets/controls",
      "model_module_version": "1.5.0",
      "model_name": "HBoxModel",
      "state": {
       "children": [
        "IPY_MODEL_859858c21a0d4707ae8d7ed87fb586b3",
        "IPY_MODEL_e16a6133f5ec427ab08b6a67c656edab"
       ],
       "layout": "IPY_MODEL_c85297ad49ca443a90c5190cef8f6bc3"
      }
     },
     "d3c5c6575f1543978e45c4dccf80d8a8": {
      "model_module": "@jupyter-widgets/controls",
      "model_module_version": "1.5.0",
      "model_name": "DescriptionStyleModel",
      "state": {
       "description_width": ""
      }
     },
     "d3d19b2ade384d1ab1223b3764753152": {
      "model_module": "@jupyter-widgets/controls",
      "model_module_version": "1.5.0",
      "model_name": "IntProgressModel",
      "state": {
       "bar_style": "success",
       "description": "100.00%",
       "layout": "IPY_MODEL_75aaa16e941c44198fc092a1959bb86b",
       "max": 750,
       "style": "IPY_MODEL_89cca388ee414539a2cee917b5fc89a4",
       "value": 750
      }
     },
     "d3fd619ad2e240f9afcac1be7efd053d": {
      "model_module": "@jupyter-widgets/controls",
      "model_module_version": "1.5.0",
      "model_name": "IntProgressModel",
      "state": {
       "bar_style": "success",
       "description": "100.00%",
       "layout": "IPY_MODEL_280486ab98564408915009fc2170d8e8",
       "max": 750,
       "style": "IPY_MODEL_f0fd4b994bbc4cc9abe8c477eecb9639",
       "value": 750
      }
     },
     "d483f770012047cbb5cae86a23d91998": {
      "model_module": "@jupyter-widgets/base",
      "model_module_version": "1.2.0",
      "model_name": "LayoutModel",
      "state": {}
     },
     "d4ac59cdcf5b4fb2a5512ada089d54e6": {
      "model_module": "@jupyter-widgets/controls",
      "model_module_version": "1.5.0",
      "model_name": "ProgressStyleModel",
      "state": {
       "description_width": ""
      }
     },
     "d5213c33371c4d6690f6d93c5950da55": {
      "model_module": "@jupyter-widgets/base",
      "model_module_version": "1.2.0",
      "model_name": "LayoutModel",
      "state": {}
     },
     "d68a769a8fef4f66b7d352da87a5fbc0": {
      "model_module": "@jupyter-widgets/controls",
      "model_module_version": "1.5.0",
      "model_name": "DescriptionStyleModel",
      "state": {
       "description_width": ""
      }
     },
     "d6a60c10756d4cd5932f55ff9ce4a1b6": {
      "model_module": "@jupyter-widgets/base",
      "model_module_version": "1.2.0",
      "model_name": "LayoutModel",
      "state": {}
     },
     "d75adb6c94084a128aa13e63f14c60de": {
      "model_module": "@jupyter-widgets/base",
      "model_module_version": "1.2.0",
      "model_name": "LayoutModel",
      "state": {}
     },
     "d78df3dc7e5d43f999b19dc85cb24413": {
      "model_module": "@jupyter-widgets/base",
      "model_module_version": "1.2.0",
      "model_name": "LayoutModel",
      "state": {}
     },
     "d7baf1f7fd8347aaa62de891f10e2741": {
      "model_module": "@jupyter-widgets/controls",
      "model_module_version": "1.5.0",
      "model_name": "IntProgressModel",
      "state": {
       "bar_style": "success",
       "description": "100.00%",
       "layout": "IPY_MODEL_49fbc068e1fb47e7bdcf22aa8bbab652",
       "max": 750,
       "style": "IPY_MODEL_10d250287b8640538e0f25ad9488c09e",
       "value": 750
      }
     },
     "d8753d3db2084301b3ce808c661d2cc7": {
      "model_module": "@jupyter-widgets/base",
      "model_module_version": "1.2.0",
      "model_name": "LayoutModel",
      "state": {}
     },
     "d8a5ba89e1034b73b1b15b618824e30d": {
      "model_module": "@jupyter-widgets/base",
      "model_module_version": "1.2.0",
      "model_name": "LayoutModel",
      "state": {}
     },
     "d9b49f2441b24f59b4f6c0be2d5661f0": {
      "model_module": "@jupyter-widgets/controls",
      "model_module_version": "1.5.0",
      "model_name": "ProgressStyleModel",
      "state": {
       "description_width": ""
      }
     },
     "da0f0e0bd87243c8bbcec4050f8aa1ee": {
      "model_module": "@jupyter-widgets/controls",
      "model_module_version": "1.5.0",
      "model_name": "IntProgressModel",
      "state": {
       "bar_style": "success",
       "description": "100.00%",
       "layout": "IPY_MODEL_53b07108984e4b62ba460a11acf373f3",
       "max": 750,
       "style": "IPY_MODEL_be9d74be6e8a4df1b50f8244928336bd",
       "value": 750
      }
     },
     "da9cac9e61fe4d17b6dff977d470f430": {
      "model_module": "@jupyter-widgets/controls",
      "model_module_version": "1.5.0",
      "model_name": "HBoxModel",
      "state": {
       "children": [
        "IPY_MODEL_cdde8c0d908f4dbe874c3271a73e153a",
        "IPY_MODEL_04aaf51d8a93472e861361b928e6209e"
       ],
       "layout": "IPY_MODEL_f5ad12ebea9941d58a30b0ef6c6b0533"
      }
     },
     "daa62609e3b147ecbb50dc2545d9a1af": {
      "model_module": "@jupyter-widgets/base",
      "model_module_version": "1.2.0",
      "model_name": "LayoutModel",
      "state": {}
     },
     "dab752f6679c40e889cc83cc8e853d35": {
      "model_module": "@jupyter-widgets/base",
      "model_module_version": "1.2.0",
      "model_name": "LayoutModel",
      "state": {}
     },
     "dc187d114ce44821aa3d85cb3582e2e2": {
      "model_module": "@jupyter-widgets/base",
      "model_module_version": "1.2.0",
      "model_name": "LayoutModel",
      "state": {}
     },
     "dc507023671b44c78befb405a9ed19d8": {
      "model_module": "@jupyter-widgets/controls",
      "model_module_version": "1.5.0",
      "model_name": "LabelModel",
      "state": {
       "layout": "IPY_MODEL_1709af49a1884a94abcf38e052cc8697",
       "style": "IPY_MODEL_6f8e40d4bda14fca9f24dbf74846abd5",
       "value": "750 / 750"
      }
     },
     "dc5ae3be43654b16955cf5617935ef02": {
      "model_module": "@jupyter-widgets/controls",
      "model_module_version": "1.5.0",
      "model_name": "DescriptionStyleModel",
      "state": {
       "description_width": ""
      }
     },
     "dc64f198e5b04c0380c2bd8f9586a005": {
      "model_module": "@jupyter-widgets/controls",
      "model_module_version": "1.5.0",
      "model_name": "ProgressStyleModel",
      "state": {
       "description_width": ""
      }
     },
     "ddf36206b33e4e1e9196153ebcc43e02": {
      "model_module": "@jupyter-widgets/base",
      "model_module_version": "1.2.0",
      "model_name": "LayoutModel",
      "state": {}
     },
     "de8961e13cf54e71b61c54c2e0a7ea9c": {
      "model_module": "@jupyter-widgets/base",
      "model_module_version": "1.2.0",
      "model_name": "LayoutModel",
      "state": {}
     },
     "df0bb60445f246d28e218bd923106ed2": {
      "model_module": "@jupyter-widgets/controls",
      "model_module_version": "1.5.0",
      "model_name": "IntProgressModel",
      "state": {
       "bar_style": "success",
       "description": "100.00%",
       "layout": "IPY_MODEL_b7fcd86f6de047d9bd4a3aa0540c379f",
       "max": 750,
       "style": "IPY_MODEL_c9e96e7b83ff438b9a7167f605625f51",
       "value": 750
      }
     },
     "df1a044e915f4bfea58a10ec02098cc7": {
      "model_module": "@jupyter-widgets/controls",
      "model_module_version": "1.5.0",
      "model_name": "IntProgressModel",
      "state": {
       "bar_style": "success",
       "description": "100.00%",
       "layout": "IPY_MODEL_18eb00779cec4c67823052d437785fc6",
       "max": 750,
       "style": "IPY_MODEL_19cb1afb6f684c13bf363b369acddf10",
       "value": 750
      }
     },
     "df2a47efe2f8481aa7d908111abdfe72": {
      "model_module": "@jupyter-widgets/controls",
      "model_module_version": "1.5.0",
      "model_name": "DescriptionStyleModel",
      "state": {
       "description_width": ""
      }
     },
     "df4a83e5cb1a41f5a75599ba5ea3843c": {
      "model_module": "@jupyter-widgets/controls",
      "model_module_version": "1.5.0",
      "model_name": "DescriptionStyleModel",
      "state": {
       "description_width": ""
      }
     },
     "df7095554d6341f68d3f23a66dfee0f6": {
      "model_module": "@jupyter-widgets/base",
      "model_module_version": "1.2.0",
      "model_name": "LayoutModel",
      "state": {}
     },
     "e080922474fc47fd8280db0ff831f9ab": {
      "model_module": "@jupyter-widgets/controls",
      "model_module_version": "1.5.0",
      "model_name": "LabelModel",
      "state": {
       "layout": "IPY_MODEL_c5d1d01212494256a51224f24fd07516",
       "style": "IPY_MODEL_080f98733b8e4ffd868acbda366f4bc8",
       "value": "750 / 750"
      }
     },
     "e0f7c629abdf4c8bb8895df84a3f2108": {
      "model_module": "@jupyter-widgets/controls",
      "model_module_version": "1.5.0",
      "model_name": "ProgressStyleModel",
      "state": {
       "description_width": ""
      }
     },
     "e117310a43744072ba37de8054878f1a": {
      "model_module": "@jupyter-widgets/controls",
      "model_module_version": "1.5.0",
      "model_name": "VBoxModel",
      "state": {
       "children": [
        "IPY_MODEL_652d8818e8f343968a8ad4cf35998946",
        "IPY_MODEL_7fa6d6a19470448194f4bfd2e5a95a43",
        "IPY_MODEL_a092cebefcec47a3b5cd61467b5c0db1",
        "IPY_MODEL_7c91636430704bf9a4b604e25dba5513"
       ],
       "layout": "IPY_MODEL_442173e999f641ab8de8985e3f4bfe69"
      }
     },
     "e16a6133f5ec427ab08b6a67c656edab": {
      "model_module": "@jupyter-widgets/controls",
      "model_module_version": "1.5.0",
      "model_name": "LabelModel",
      "state": {
       "layout": "IPY_MODEL_3dcfba0537214c32a8515f39e5205e4a",
       "style": "IPY_MODEL_eb011262914545b1b1ddbd13c4bdc16f",
       "value": "750 / 750"
      }
     },
     "e209a261985e423eb0dd6168174721f3": {
      "model_module": "@jupyter-widgets/controls",
      "model_module_version": "1.5.0",
      "model_name": "LabelModel",
      "state": {
       "layout": "IPY_MODEL_5317e3be70b34da39197a0c946fdc7b9",
       "style": "IPY_MODEL_63bedaf2c8ee42c49cf65bd2f255f62e",
       "value": "750 / 750"
      }
     },
     "e20acf18c958486a9a284437cc8a3c89": {
      "model_module": "@jupyter-widgets/controls",
      "model_module_version": "1.5.0",
      "model_name": "ProgressStyleModel",
      "state": {
       "description_width": ""
      }
     },
     "e2b543ff47204326836f42bead9cf3f7": {
      "model_module": "@jupyter-widgets/controls",
      "model_module_version": "1.5.0",
      "model_name": "ProgressStyleModel",
      "state": {
       "description_width": ""
      }
     },
     "e3afb6041e024112a9f2f00cc1185ccd": {
      "model_module": "@jupyter-widgets/controls",
      "model_module_version": "1.5.0",
      "model_name": "LabelModel",
      "state": {
       "layout": "IPY_MODEL_f7f33550143841e9b99fac65506a3fc5",
       "style": "IPY_MODEL_a3c3bd2f42634089bfc8e9ba87361c9f",
       "value": "750 / 750"
      }
     },
     "e3ee14463a7941b1a88d43ed87731a3a": {
      "model_module": "@jupyter-widgets/controls",
      "model_module_version": "1.5.0",
      "model_name": "HBoxModel",
      "state": {
       "children": [
        "IPY_MODEL_b3fb963a2d4742ad95a2fe8398ce67c1",
        "IPY_MODEL_23c6e39b44fc4156a896afdc689cf08c"
       ],
       "layout": "IPY_MODEL_d75adb6c94084a128aa13e63f14c60de"
      }
     },
     "e477d3976ed24b1ea6d548ca70f280f8": {
      "model_module": "@jupyter-widgets/base",
      "model_module_version": "1.2.0",
      "model_name": "LayoutModel",
      "state": {}
     },
     "e4a5a0238ede4b40bbdacdac0a81fe4a": {
      "model_module": "@jupyter-widgets/base",
      "model_module_version": "1.2.0",
      "model_name": "LayoutModel",
      "state": {}
     },
     "e4aabca264a1438e8259d1454a06343e": {
      "model_module": "@jupyter-widgets/controls",
      "model_module_version": "1.5.0",
      "model_name": "HBoxModel",
      "state": {
       "children": [
        "IPY_MODEL_81ec9c3214b04a68a7f1a0c8c4fa5db3",
        "IPY_MODEL_7877275b69334ab0b7757734a0bb9cef"
       ],
       "layout": "IPY_MODEL_caa3351c6e884596965a9b625e33a276"
      }
     },
     "e4d871172e7f4bafa23cb16ba833e47e": {
      "model_module": "@jupyter-widgets/base",
      "model_module_version": "1.2.0",
      "model_name": "LayoutModel",
      "state": {}
     },
     "e5065bd5d7d5406c92281497580817f3": {
      "model_module": "@jupyter-widgets/controls",
      "model_module_version": "1.5.0",
      "model_name": "ProgressStyleModel",
      "state": {
       "description_width": ""
      }
     },
     "e580f7124a314f6192113da0fc47e11c": {
      "model_module": "@jupyter-widgets/controls",
      "model_module_version": "1.5.0",
      "model_name": "HBoxModel",
      "state": {
       "children": [
        "IPY_MODEL_a4d7f1fef11b45f9ae0cfeed8a08f2b7",
        "IPY_MODEL_421f3e76ff134671b727451cd80906c0"
       ],
       "layout": "IPY_MODEL_7a4cd17213704ee894d9411a55a02487"
      }
     },
     "e5a350c278e34b088d087cc5cf0e4c5f": {
      "model_module": "@jupyter-widgets/base",
      "model_module_version": "1.2.0",
      "model_name": "LayoutModel",
      "state": {}
     },
     "e5bbd775fe8d4a8a80be2144726394dd": {
      "model_module": "@jupyter-widgets/controls",
      "model_module_version": "1.5.0",
      "model_name": "LabelModel",
      "state": {
       "layout": "IPY_MODEL_ddf36206b33e4e1e9196153ebcc43e02",
       "style": "IPY_MODEL_f88e395c137b4a49b619b915c85db5a2",
       "value": "750 / 750"
      }
     },
     "e6796a0ab41f4cd69b76a159627294d0": {
      "model_module": "@jupyter-widgets/controls",
      "model_module_version": "1.5.0",
      "model_name": "ProgressStyleModel",
      "state": {
       "description_width": ""
      }
     },
     "e73c04704dfd4328815702d16237a233": {
      "model_module": "@jupyter-widgets/controls",
      "model_module_version": "1.5.0",
      "model_name": "DescriptionStyleModel",
      "state": {
       "description_width": ""
      }
     },
     "e76280336ffb4c1bb902905dc16d11c0": {
      "model_module": "@jupyter-widgets/base",
      "model_module_version": "1.2.0",
      "model_name": "LayoutModel",
      "state": {}
     },
     "e7d9a594accc438eada0ed1a117901f7": {
      "model_module": "@jupyter-widgets/base",
      "model_module_version": "1.2.0",
      "model_name": "LayoutModel",
      "state": {}
     },
     "e8759ce0e0a846768b5f679b9baba778": {
      "model_module": "@jupyter-widgets/controls",
      "model_module_version": "1.5.0",
      "model_name": "HBoxModel",
      "state": {
       "children": [
        "IPY_MODEL_d03a2755f45240f588406417d136f603",
        "IPY_MODEL_09555ff63ef94668b83a9c88d489a3b5"
       ],
       "layout": "IPY_MODEL_130d8b215e6a42188aa45404aee0c212"
      }
     },
     "e8dd5f442d78464ead49a4aa25646f88": {
      "model_module": "@jupyter-widgets/base",
      "model_module_version": "1.2.0",
      "model_name": "LayoutModel",
      "state": {}
     },
     "e94c88def3a048e891f9f8604c4b792a": {
      "model_module": "@jupyter-widgets/controls",
      "model_module_version": "1.5.0",
      "model_name": "ProgressStyleModel",
      "state": {
       "description_width": ""
      }
     },
     "ea6eb6010aa04b2cbbeeffa81ea53661": {
      "model_module": "@jupyter-widgets/controls",
      "model_module_version": "1.5.0",
      "model_name": "DescriptionStyleModel",
      "state": {
       "description_width": ""
      }
     },
     "eb011262914545b1b1ddbd13c4bdc16f": {
      "model_module": "@jupyter-widgets/controls",
      "model_module_version": "1.5.0",
      "model_name": "DescriptionStyleModel",
      "state": {
       "description_width": ""
      }
     },
     "eb08164aa76c4e558f3154d99bfef900": {
      "model_module": "@jupyter-widgets/controls",
      "model_module_version": "1.5.0",
      "model_name": "IntProgressModel",
      "state": {
       "bar_style": "success",
       "description": "100.00%",
       "layout": "IPY_MODEL_d78df3dc7e5d43f999b19dc85cb24413",
       "max": 750,
       "style": "IPY_MODEL_90814432a3cf4aa7a00402782b48096c",
       "value": 750
      }
     },
     "eb4120b634ca4876afa655a869aa7f60": {
      "model_module": "@jupyter-widgets/controls",
      "model_module_version": "1.5.0",
      "model_name": "ProgressStyleModel",
      "state": {
       "description_width": ""
      }
     },
     "eb5677b4f7c641e1ae40846b336f1432": {
      "model_module": "@jupyter-widgets/base",
      "model_module_version": "1.2.0",
      "model_name": "LayoutModel",
      "state": {}
     },
     "ec9eefae1ca64242935e6fa190c1f9ab": {
      "model_module": "@jupyter-widgets/base",
      "model_module_version": "1.2.0",
      "model_name": "LayoutModel",
      "state": {}
     },
     "ed4219f27ae844ca80400d6b4895fa66": {
      "model_module": "@jupyter-widgets/controls",
      "model_module_version": "1.5.0",
      "model_name": "IntProgressModel",
      "state": {
       "bar_style": "success",
       "description": "100.00%",
       "layout": "IPY_MODEL_f0018621fcfd4125944c75082a897259",
       "max": 750,
       "style": "IPY_MODEL_728a840413f34810a59dba6bac43d47a",
       "value": 750
      }
     },
     "edcb9665b7854033836ad3a54155fe17": {
      "model_module": "@jupyter-widgets/controls",
      "model_module_version": "1.5.0",
      "model_name": "IntProgressModel",
      "state": {
       "bar_style": "success",
       "description": "100.00%",
       "layout": "IPY_MODEL_f87b858667ee49489d34553755cf5740",
       "max": 750,
       "style": "IPY_MODEL_4680e341fabd4c6996e8b69daa302fae",
       "value": 750
      }
     },
     "eea6e94caf234980a23f40a47770624d": {
      "model_module": "@jupyter-widgets/base",
      "model_module_version": "1.2.0",
      "model_name": "LayoutModel",
      "state": {}
     },
     "eeee27c5ef43493a8350c10d408804fd": {
      "model_module": "@jupyter-widgets/controls",
      "model_module_version": "1.5.0",
      "model_name": "DescriptionStyleModel",
      "state": {
       "description_width": ""
      }
     },
     "ef03d844743d49a98dc872d21d1665b3": {
      "model_module": "@jupyter-widgets/controls",
      "model_module_version": "1.5.0",
      "model_name": "IntProgressModel",
      "state": {
       "bar_style": "success",
       "description": "100.00%",
       "layout": "IPY_MODEL_96022e5b4cdc453c9f93c85e57bddad8",
       "max": 750,
       "style": "IPY_MODEL_643315a72ec34e3882ab1e0d8ab9dda0",
       "value": 750
      }
     },
     "ef9bd0070ff3408199b0ed59a480c8db": {
      "model_module": "@jupyter-widgets/base",
      "model_module_version": "1.2.0",
      "model_name": "LayoutModel",
      "state": {}
     },
     "f0018621fcfd4125944c75082a897259": {
      "model_module": "@jupyter-widgets/base",
      "model_module_version": "1.2.0",
      "model_name": "LayoutModel",
      "state": {}
     },
     "f0107e09ad044968a7d30c65b6f3a5c3": {
      "model_module": "@jupyter-widgets/controls",
      "model_module_version": "1.5.0",
      "model_name": "DescriptionStyleModel",
      "state": {
       "description_width": ""
      }
     },
     "f0eb42c60d3c4114be6819a124beb4e2": {
      "model_module": "@jupyter-widgets/controls",
      "model_module_version": "1.5.0",
      "model_name": "IntProgressModel",
      "state": {
       "bar_style": "success",
       "description": "100.00%",
       "layout": "IPY_MODEL_4b5cad64ec9243638389d788421c9493",
       "max": 750,
       "style": "IPY_MODEL_630105da4ca34f5ea0f456472633f7ea",
       "value": 750
      }
     },
     "f0fd4b994bbc4cc9abe8c477eecb9639": {
      "model_module": "@jupyter-widgets/controls",
      "model_module_version": "1.5.0",
      "model_name": "ProgressStyleModel",
      "state": {
       "description_width": ""
      }
     },
     "f1113d6044d549e184b2b44b3011c80d": {
      "model_module": "@jupyter-widgets/controls",
      "model_module_version": "1.5.0",
      "model_name": "IntProgressModel",
      "state": {
       "bar_style": "success",
       "description": "100.00%",
       "layout": "IPY_MODEL_662261adc5f343f7bcb3dfd34c2125da",
       "max": 750,
       "style": "IPY_MODEL_ce9b5440e8b54e938ca75e28b77a539c",
       "value": 750
      }
     },
     "f2cb57f6d6584d8d964eacdd64b26aed": {
      "model_module": "@jupyter-widgets/base",
      "model_module_version": "1.2.0",
      "model_name": "LayoutModel",
      "state": {}
     },
     "f2f06504f3e6450a98043b948ef0a0f9": {
      "model_module": "@jupyter-widgets/base",
      "model_module_version": "1.2.0",
      "model_name": "LayoutModel",
      "state": {}
     },
     "f39d3dffde6d42b3ab48de691114918e": {
      "model_module": "@jupyter-widgets/controls",
      "model_module_version": "1.5.0",
      "model_name": "LabelModel",
      "state": {
       "layout": "IPY_MODEL_eb5677b4f7c641e1ae40846b336f1432",
       "style": "IPY_MODEL_81821ef4a0d84cbfbb7a5daba9a58e0a",
       "value": "750 / 750"
      }
     },
     "f3ba9fafa5d04131b282cc64ed9c4fd3": {
      "model_module": "@jupyter-widgets/base",
      "model_module_version": "1.2.0",
      "model_name": "LayoutModel",
      "state": {}
     },
     "f43f98198b1d41cab993da4c1b6b8bfa": {
      "model_module": "@jupyter-widgets/controls",
      "model_module_version": "1.5.0",
      "model_name": "LabelModel",
      "state": {
       "layout": "IPY_MODEL_537818769eed415fbf1eb3ef10d03d12",
       "style": "IPY_MODEL_ea6eb6010aa04b2cbbeeffa81ea53661",
       "value": "750 / 750"
      }
     },
     "f492082dd2794b748a9554cc555b6793": {
      "model_module": "@jupyter-widgets/controls",
      "model_module_version": "1.5.0",
      "model_name": "DescriptionStyleModel",
      "state": {
       "description_width": ""
      }
     },
     "f57a5ca72a1547f9ad8d55f2e231c21f": {
      "model_module": "@jupyter-widgets/controls",
      "model_module_version": "1.5.0",
      "model_name": "LabelModel",
      "state": {
       "layout": "IPY_MODEL_c6b8a288dee745a88b13b29c5c59db02",
       "style": "IPY_MODEL_3c531fa98c074cd48c4aab2835a17d1e",
       "value": "750 / 750"
      }
     },
     "f5ad12ebea9941d58a30b0ef6c6b0533": {
      "model_module": "@jupyter-widgets/base",
      "model_module_version": "1.2.0",
      "model_name": "LayoutModel",
      "state": {}
     },
     "f5b9add3f9a6467780b0a88b63a423fa": {
      "model_module": "@jupyter-widgets/base",
      "model_module_version": "1.2.0",
      "model_name": "LayoutModel",
      "state": {}
     },
     "f62028d3c20b4f95bcaddae1c8fec4c5": {
      "model_module": "@jupyter-widgets/base",
      "model_module_version": "1.2.0",
      "model_name": "LayoutModel",
      "state": {}
     },
     "f7f33550143841e9b99fac65506a3fc5": {
      "model_module": "@jupyter-widgets/base",
      "model_module_version": "1.2.0",
      "model_name": "LayoutModel",
      "state": {}
     },
     "f803fa19661d42f48d1854b2e8bf4a8e": {
      "model_module": "@jupyter-widgets/base",
      "model_module_version": "1.2.0",
      "model_name": "LayoutModel",
      "state": {}
     },
     "f87b858667ee49489d34553755cf5740": {
      "model_module": "@jupyter-widgets/base",
      "model_module_version": "1.2.0",
      "model_name": "LayoutModel",
      "state": {}
     },
     "f88e395c137b4a49b619b915c85db5a2": {
      "model_module": "@jupyter-widgets/controls",
      "model_module_version": "1.5.0",
      "model_name": "DescriptionStyleModel",
      "state": {
       "description_width": ""
      }
     },
     "f914e68b0eee4446b5b3e9e772aa27ea": {
      "model_module": "@jupyter-widgets/base",
      "model_module_version": "1.2.0",
      "model_name": "LayoutModel",
      "state": {}
     },
     "f948c6d9e5b6450ba432ff4caf424530": {
      "model_module": "@jupyter-widgets/controls",
      "model_module_version": "1.5.0",
      "model_name": "IntProgressModel",
      "state": {
       "bar_style": "success",
       "description": "100.00%",
       "layout": "IPY_MODEL_cacb4731972f43f4b53ac1bf5284b0d4",
       "max": 750,
       "style": "IPY_MODEL_afed38fc3eb94783936e3e50cb70acf4",
       "value": 750
      }
     },
     "f973040243e74f5d9f81b4b10e58f10d": {
      "model_module": "@jupyter-widgets/controls",
      "model_module_version": "1.5.0",
      "model_name": "DescriptionStyleModel",
      "state": {
       "description_width": ""
      }
     },
     "f97fc5ffbf444c8fbc74cacc77b472a4": {
      "model_module": "@jupyter-widgets/base",
      "model_module_version": "1.2.0",
      "model_name": "LayoutModel",
      "state": {}
     },
     "f9aa553bfa62442a8fce5d3fb3d6f824": {
      "model_module": "@jupyter-widgets/controls",
      "model_module_version": "1.5.0",
      "model_name": "IntProgressModel",
      "state": {
       "bar_style": "success",
       "description": "100.00%",
       "layout": "IPY_MODEL_c0a161d3b9f549fabab2d6ee411c0227",
       "max": 750,
       "style": "IPY_MODEL_78864f3293e24645950c7b17eb9570f4",
       "value": 750
      }
     },
     "f9f220ea20354f189425e51aff9805ec": {
      "model_module": "@jupyter-widgets/controls",
      "model_module_version": "1.5.0",
      "model_name": "DescriptionStyleModel",
      "state": {
       "description_width": ""
      }
     },
     "f9fea641b3b24965aae9bd45d2b928fe": {
      "model_module": "@jupyter-widgets/controls",
      "model_module_version": "1.5.0",
      "model_name": "VBoxModel",
      "state": {
       "children": [
        "IPY_MODEL_59518fa7971849f7b7bce285baad6644",
        "IPY_MODEL_11e7df15495e4532aca7f8ae86bc6680",
        "IPY_MODEL_4794f81704534da79a8ba455fee9a16f",
        "IPY_MODEL_4f8e874cd2e845349cb00f7c80a1e255"
       ],
       "layout": "IPY_MODEL_9adb07ddb956479bbe523b8a7c151463"
      }
     },
     "fa44155793154adc8db33c87be139939": {
      "model_module": "@jupyter-widgets/base",
      "model_module_version": "1.2.0",
      "model_name": "LayoutModel",
      "state": {}
     },
     "fa89b7f3e8b540e7bec3ba560b8a08e6": {
      "model_module": "@jupyter-widgets/base",
      "model_module_version": "1.2.0",
      "model_name": "LayoutModel",
      "state": {}
     },
     "fad31ebadff847dc90f84f968fd846ad": {
      "model_module": "@jupyter-widgets/controls",
      "model_module_version": "1.5.0",
      "model_name": "DescriptionStyleModel",
      "state": {
       "description_width": ""
      }
     },
     "fb078c47a7cd46d59062034844a8507f": {
      "model_module": "@jupyter-widgets/controls",
      "model_module_version": "1.5.0",
      "model_name": "LabelModel",
      "state": {
       "layout": "IPY_MODEL_fe638a4711be4eeaaeef6b566488fcd0",
       "style": "IPY_MODEL_6fe1c62ad8ed4fee8fbc35eb91bbf92e",
       "value": "750 / 750"
      }
     },
     "fb69806ee4034d288cd0c63449921e13": {
      "model_module": "@jupyter-widgets/controls",
      "model_module_version": "1.5.0",
      "model_name": "LabelModel",
      "state": {
       "layout": "IPY_MODEL_8861dce1ebfa41ab8d9288e5bcfa30dd",
       "style": "IPY_MODEL_5e81f7ec70da4ab69edfa5db29f4132b",
       "value": "750 / 750"
      }
     },
     "fc6ceb0c82e44c84bde9321b860dce83": {
      "model_module": "@jupyter-widgets/controls",
      "model_module_version": "1.5.0",
      "model_name": "DescriptionStyleModel",
      "state": {
       "description_width": ""
      }
     },
     "fd681af75ee147f0a0e3df51b1a1cda0": {
      "model_module": "@jupyter-widgets/base",
      "model_module_version": "1.2.0",
      "model_name": "LayoutModel",
      "state": {}
     },
     "fe5d12ac7b33444789b9bd4d6c533d60": {
      "model_module": "@jupyter-widgets/base",
      "model_module_version": "1.2.0",
      "model_name": "LayoutModel",
      "state": {}
     },
     "fe638a4711be4eeaaeef6b566488fcd0": {
      "model_module": "@jupyter-widgets/base",
      "model_module_version": "1.2.0",
      "model_name": "LayoutModel",
      "state": {}
     },
     "ff9fb9be180d4767a7c3d0949fe8ba74": {
      "model_module": "@jupyter-widgets/controls",
      "model_module_version": "1.5.0",
      "model_name": "DescriptionStyleModel",
      "state": {
       "description_width": ""
      }
     },
     "ffa05a77ca87496dbc137871e9473b02": {
      "model_module": "@jupyter-widgets/controls",
      "model_module_version": "1.5.0",
      "model_name": "ProgressStyleModel",
      "state": {
       "description_width": ""
      }
     }
    },
    "version_major": 2,
    "version_minor": 0
   }
  }
 },
 "nbformat": 4,
 "nbformat_minor": 4
}

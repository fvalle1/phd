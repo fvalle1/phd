{
 "cells": [
  {
   "cell_type": "code",
   "execution_count": null,
   "id": "cultural-painting",
   "metadata": {},
   "outputs": [],
   "source": [
    "%load_ext autoreload\n",
    "%autoreload 2\n",
    "import os\n",
    "import pandas as pd\n",
    "import numpy as np\n",
    "import tensorflow as tf\n",
    "from topicpy.hsbmpy import get_max_available_L\n",
    "import seaborn as sns\n",
    "import matplotlib.pyplot as plt"
   ]
  },
  {
   "cell_type": "code",
   "execution_count": null,
   "id": "funded-contents",
   "metadata": {},
   "outputs": [],
   "source": [
    "directory = \"/home/jovyan/work/phd/topics/datasets/gtexall/\"\n",
    "algorithm = \"wgcna\"\n",
    "L=0\n",
    "os.chdir(directory)"
   ]
  },
  {
   "cell_type": "code",
   "execution_count": null,
   "id": "solar-michael",
   "metadata": {},
   "outputs": [],
   "source": [
    "df_topics = pd.read_csv(\"%s/%s_level_%d_topic-dist.csv\"%(algorithm,algorithm,L), index_col=1).drop(\"i_doc\", 1)\n",
    "print(\"Working with\", df_topics.shape[1],\"topics\")\n",
    "df_files = pd.read_csv(\"files.dat\", index_col=0).reindex(index=df_topics.index)\n",
    "df_files.head(2)"
   ]
  },
  {
   "cell_type": "code",
   "execution_count": null,
   "id": "stock-neighborhood",
   "metadata": {},
   "outputs": [],
   "source": [
    "df_topics.shape"
   ]
  },
  {
   "cell_type": "code",
   "execution_count": null,
   "id": "suspected-trial",
   "metadata": {},
   "outputs": [],
   "source": [
    "df_topics[\"tissue\"]=df_files[\"SMTS\"]\n",
    "df_tissues = df_topics.groupby(\"tissue\").mean().transpose()\n",
    "correlations = df_tissues.corr()\n",
    "classes = df_tissues.columns"
   ]
  },
  {
   "cell_type": "code",
   "execution_count": null,
   "id": "amended-stroke",
   "metadata": {},
   "outputs": [],
   "source": [
    "cm = sns.clustermap(correlations, \n",
    "                    vmax=1,  \n",
    "                    row_cluster=True, \n",
    "                    col_cluster=False, \n",
    "                    xticklabels=classes, \n",
    "                    yticklabels=classes, \n",
    "                    annot=False,\n",
    "                    cbar_pos=(0.99,0.06,0.05,0.15))\n",
    "ax = cm.ax_heatmap\n",
    "fig = ax.get_figure()\n",
    "ax.set_ylabel(\"Tissue\", fontsize=35, rotation=90)\n",
    "ax.set_yticklabels(labels=classes[cm.dendrogram_row.reordered_ind], rotation=0)\n",
    "#ax.yaxis.tick_left()\n",
    "#ax.yaxis.set_label_position(\"left\")\n",
    "\n",
    "#ax.set_xticklabels(labels=classes[cm.dendrogram_row.reordered_ind], rotation=90)\n",
    "ax.set_xlabel(\"Tissue\",fontsize=35)\n",
    "ax.tick_params(labelsize=15)\n",
    "\n",
    "cax = cm.ax_cbar\n",
    "cax.tick_params(labelsize=30)\n",
    "cax.set_title(\"P()\", fontsize=30)\n",
    "plt.tight_layout()\n",
    "cm.savefig(f\"topic_correlation_{algorithm}_level{L}.pdf\")\n",
    "\n",
    "plt.show()\n",
    "fig.savefig(\"heatmap_SMTS.pdf\")"
   ]
  },
  {
   "cell_type": "code",
   "execution_count": null,
   "id": "cultural-accreditation",
   "metadata": {},
   "outputs": [],
   "source": [
    "fig,ax = plt.subplots(figsize=(10,10))\n",
    "cm.dendrogram_row.rotate=False\n",
    "cm.dendrogram_row.plot(ax, {\"linewidths\":10})\n",
    "ax.set_ylabel(\"Distance\", fontsize=35, rotation=90)\n",
    "\n",
    "ax.set_xticks(np.linspace(5, len(classes)*10-5, len(classes)))\n",
    "ax.set_xticklabels(labels=classes[cm.dendrogram_row.reordered_ind], rotation=90)\n",
    "ax.set_xlabel(\"Tissue\",fontsize=35)\n",
    "ax.tick_params(labelsize=15)\n",
    "plt.tight_layout()\n",
    "fig.savefig(f\"topic_correlation_{algorithm}_level{L}.pdf\")"
   ]
  },
  {
   "cell_type": "code",
   "execution_count": null,
   "id": "apparent-determination",
   "metadata": {},
   "outputs": [],
   "source": [
    "df = pd.read_csv(\"mainTable.csv\", index_col=0).transpose()"
   ]
  },
  {
   "cell_type": "code",
   "execution_count": null,
   "id": "choice-postage",
   "metadata": {},
   "outputs": [],
   "source": [
    "df[\"tissue\"]=df_files.reindex(index=df.index)[\"SMTS\"]\n",
    "df = df.groupby(\"tissue\").mean().transpose()\n",
    "data_correlations = df.corr()\n",
    "data_classes = df.columns"
   ]
  },
  {
   "cell_type": "code",
   "execution_count": null,
   "id": "premium-planning",
   "metadata": {},
   "outputs": [],
   "source": [
    "cm = sns.clustermap(data_correlations, \n",
    "                    vmax=1,  \n",
    "                    row_cluster=True, \n",
    "                    col_cluster=False, \n",
    "                    xticklabels=data_classes, \n",
    "                    yticklabels=data_classes, \n",
    "                    annot=False,\n",
    "                    cbar_pos=(0.99,0.06,0.05,0.15))\n",
    "ax = cm.ax_heatmap\n",
    "fig = ax.get_figure()\n",
    "ax.set_ylabel(\"Tissue\", fontsize=35, rotation=90)\n",
    "ax.set_yticklabels(labels=classes[cm.dendrogram_row.reordered_ind], rotation=0)\n",
    "#ax.yaxis.tick_left()\n",
    "#ax.yaxis.set_label_position(\"left\")\n",
    "\n",
    "#ax.set_xticklabels(labels=classes[cm.dendrogram_row.reordered_ind], rotation=90)\n",
    "ax.set_xlabel(\"Tissue\",fontsize=35)\n",
    "ax.tick_params(labelsize=15)\n",
    "\n",
    "cax = cm.ax_cbar\n",
    "cax.tick_params(labelsize=30)\n",
    "cax.set_title(\"P()\", fontsize=30)\n",
    "plt.tight_layout()\n",
    "cm.savefig(f\"topic_correlation_{algorithm}_level{L}.pdf\")\n",
    "\n",
    "plt.show()\n",
    "fig.savefig(\"heatmap_data_SMTS.pdf\")"
   ]
  },
  {
   "cell_type": "code",
   "execution_count": null,
   "id": "spanish-digest",
   "metadata": {},
   "outputs": [],
   "source": [
    "assert((classes==data_classes).all())"
   ]
  },
  {
   "cell_type": "code",
   "execution_count": null,
   "id": "swiss-gossip",
   "metadata": {},
   "outputs": [],
   "source": [
    "from scipy.stats import spearmanr\n",
    "import plotly.graph_objects as go"
   ]
  },
  {
   "cell_type": "code",
   "execution_count": null,
   "id": "lesser-display",
   "metadata": {},
   "outputs": [],
   "source": [
    "differences={}\n",
    "\n",
    "for label, data_v, topic_v in zip(classes,correlations.values, data_correlations.values):\n",
    "    differences[label] = spearmanr(data_v,topic_v)[0]"
   ]
  },
  {
   "cell_type": "code",
   "execution_count": null,
   "id": "understanding-correspondence",
   "metadata": {},
   "outputs": [],
   "source": [
    "fig = go.Figure()\n",
    "fig.add_trace(go.Bar(x=list(differences.keys()), y=list(differences.values())))\n",
    "\n",
    "layout = {\n",
    "    \"title\":algorithm,\n",
    "    \"xaxis\":{\n",
    "        \"tickangle\":290\n",
    "    },\n",
    "    \"yaxis\":{\n",
    "        \"title\": \"Spearman between <br> data and topics' space\",\n",
    "        \"titlefont\":{\n",
    "            \"size\":24\n",
    "        },\n",
    "        \"range\":[0,1]\n",
    "    }\n",
    "}\n",
    "\n",
    "fig.update_layout(layout)\n",
    "\n",
    "fig.show()\n",
    "fig.write_image(f\"correlation_spearman_topic_data_{algorithm}.pdf\")"
   ]
  },
  {
   "cell_type": "code",
   "execution_count": null,
   "id": "dominican-block",
   "metadata": {},
   "outputs": [],
   "source": [
    "df = pd.read_csv(\"mainTable.csv\", index_col=0).transpose()"
   ]
  },
  {
   "cell_type": "code",
   "execution_count": null,
   "id": "incoming-semester",
   "metadata": {},
   "outputs": [],
   "source": [
    "from sklearn.decomposition import PCA"
   ]
  },
  {
   "cell_type": "code",
   "execution_count": null,
   "id": "artificial-month",
   "metadata": {},
   "outputs": [],
   "source": [
    "pca = PCA(21)\n",
    "df_pca = pd.DataFrame(data=pca.fit_transform(df.values), index=df.index)\n",
    "df_pca[\"tissue\"]=df_files.reindex(index=df_pca.index)[\"SMTS\"]\n",
    "df_pca = df_pca.groupby(\"tissue\").mean().transpose()\n",
    "correlations_pca = df_pca.corr()\n",
    "classes_pca = df_tissues.columns"
   ]
  },
  {
   "cell_type": "code",
   "execution_count": null,
   "id": "accurate-luther",
   "metadata": {},
   "outputs": [],
   "source": [
    "from scipy.stats import pearsonr"
   ]
  },
  {
   "cell_type": "code",
   "execution_count": null,
   "id": "mexican-fitness",
   "metadata": {},
   "outputs": [],
   "source": [
    "differences_pca={}\n",
    "\n",
    "for label, data_v, topic_v in zip(classes_pca, correlations_pca.values, data_correlations.values):\n",
    "    differences_pca[label] = pearsonr(data_v,topic_v)[0]"
   ]
  },
  {
   "cell_type": "code",
   "execution_count": null,
   "id": "exterior-joseph",
   "metadata": {},
   "outputs": [],
   "source": [
    "fig = go.Figure()\n",
    "fig.add_traces([\n",
    "    go.Bar(x=list(differences_pca.keys()), y=list(differences_pca.values()), name=\"pca\"),\n",
    "    go.Bar(x=list(differences.keys()), y=list(differences.values()), name=\"topic modeling\")\n",
    "])\n",
    "\n",
    "layout = {\n",
    "    \"barmode\":\"group\",\n",
    "    \"title\": algorithm,\n",
    "    \"xaxis\":{\n",
    "        \"tickangle\":290\n",
    "    },\n",
    "    \"yaxis\":{\n",
    "        \"title\": \"Pearson between <br> data and topics' space\",\n",
    "        \"titlefont\":{\n",
    "            \"size\":24\n",
    "        },\n",
    "        \"range\":[0,1]\n",
    "    }\n",
    "}\n",
    "\n",
    "fig.update_layout(layout)\n",
    "\n",
    "fig.show()"
   ]
  },
  {
   "cell_type": "code",
   "execution_count": null,
   "id": "romance-payroll",
   "metadata": {},
   "outputs": [],
   "source": [
    "import plotly.express as px"
   ]
  },
  {
   "cell_type": "code",
   "execution_count": null,
   "id": "lined-hunger",
   "metadata": {},
   "outputs": [],
   "source": [
    "fig=go.Figure()\n",
    "\n",
    "fig.add_traces([\n",
    "    go.Histogram(x=list(map(lambda x: abs(x[1]-x[0]), zip(differences.values(), differences_pca.values()))), name=\"sbm\"),\n",
    "    go.Histogram(x=list(map(lambda x: abs(x[1]-x[0]), zip(differences_lda.values(), differences_pca.values()))), name=\"lda\")\n",
    "])"
   ]
  },
  {
   "cell_type": "code",
   "execution_count": null,
   "id": "electrical-commercial",
   "metadata": {},
   "outputs": [],
   "source": []
  }
 ],
 "metadata": {
  "kernelspec": {
   "display_name": "Python 3",
   "language": "python",
   "name": "python3"
  },
  "language_info": {
   "codemirror_mode": {
    "name": "ipython",
    "version": 3
   },
   "file_extension": ".py",
   "mimetype": "text/x-python",
   "name": "python",
   "nbconvert_exporter": "python",
   "pygments_lexer": "ipython3",
   "version": "3.8.8"
  }
 },
 "nbformat": 4,
 "nbformat_minor": 5
}

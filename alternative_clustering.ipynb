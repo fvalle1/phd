{
 "cells": [
  {
   "cell_type": "code",
   "execution_count": 1,
   "metadata": {},
   "outputs": [],
   "source": [
    "import matplotlib.pyplot as plt  \n",
    "import pandas as pd  \n",
    "import numpy as np \n",
    "import seaborn as sns\n",
    "import os, sys\n",
    "from hsbmpy import get_file, define_labels, get_cluster_given_l, get_max_available_L\n",
    "from geneontology import topic_analysis\n",
    "import tensorflow as tf\n",
    "from sklearn.metrics import homogeneity_completeness_v_measure\n",
    "import scipy.cluster.hierarchy as shc\n",
    "from sklearn.cluster import AgglomerativeClustering\n",
    "from scipy.stats import pearsonr\n",
    "from sklearn.decomposition import LatentDirichletAllocation\n",
    "from lda import lda\n",
    "sys.path.append('/home/jovyan/phd/')\n",
    "sys.path.append('/home/jovyan/phd/hsbm-occam/')"
   ]
  },
  {
   "cell_type": "code",
   "execution_count": null,
   "metadata": {},
   "outputs": [],
   "source": [
    "import lda, importlib\n",
    "importlib.reload(lda)\n",
    "from lda import lda"
   ]
  },
  {
   "cell_type": "code",
   "execution_count": 2,
   "metadata": {},
   "outputs": [
    {
     "data": {
      "text/plain": [
       "['.DS_Store',\n",
       " '.ipynb_checkpoints',\n",
       " 'addo.py',\n",
       " 'box_Topic 1.pdf',\n",
       " 'box_Topic 10.pdf',\n",
       " 'box_Topic 11.pdf',\n",
       " 'box_Topic 12.pdf',\n",
       " 'box_Topic 13.pdf',\n",
       " 'box_Topic 14.pdf',\n",
       " 'box_Topic 15.pdf',\n",
       " 'box_Topic 16.pdf',\n",
       " 'box_Topic 17.pdf',\n",
       " 'box_Topic 18.pdf',\n",
       " 'box_Topic 19.pdf',\n",
       " 'box_Topic 2.pdf',\n",
       " 'box_Topic 20.pdf',\n",
       " 'box_Topic 21.pdf',\n",
       " 'box_Topic 22.pdf',\n",
       " 'box_Topic 23.pdf',\n",
       " 'box_Topic 24.pdf',\n",
       " 'box_Topic 25.pdf',\n",
       " 'box_Topic 26.pdf',\n",
       " 'box_Topic 27.pdf',\n",
       " 'box_Topic 28.pdf',\n",
       " 'box_Topic 29.pdf',\n",
       " 'box_Topic 3.pdf',\n",
       " 'box_Topic 30.pdf',\n",
       " 'box_Topic 31.pdf',\n",
       " 'box_Topic 32.pdf',\n",
       " 'box_Topic 33.pdf',\n",
       " 'box_Topic 34.pdf',\n",
       " 'box_Topic 35.pdf',\n",
       " 'box_Topic 36.pdf',\n",
       " 'box_Topic 37.pdf',\n",
       " 'box_Topic 38.pdf',\n",
       " 'box_Topic 39.pdf',\n",
       " 'box_Topic 4.pdf',\n",
       " 'box_Topic 40.pdf',\n",
       " 'box_Topic 41.pdf',\n",
       " 'box_Topic 5.pdf',\n",
       " 'box_Topic 6.pdf',\n",
       " 'box_Topic 7.pdf',\n",
       " 'box_Topic 8.pdf',\n",
       " 'box_Topic 9.pdf',\n",
       " 'box_topsbm_3Topic 1.pdf',\n",
       " 'box_topsbm_3Topic 10.pdf',\n",
       " 'box_topsbm_3Topic 11.pdf',\n",
       " 'box_topsbm_3Topic 12.pdf',\n",
       " 'box_topsbm_3Topic 13.pdf',\n",
       " 'box_topsbm_3Topic 14.pdf',\n",
       " 'box_topsbm_3Topic 15.pdf',\n",
       " 'box_topsbm_3Topic 16.pdf',\n",
       " 'box_topsbm_3Topic 17.pdf',\n",
       " 'box_topsbm_3Topic 18.pdf',\n",
       " 'box_topsbm_3Topic 19.pdf',\n",
       " 'box_topsbm_3Topic 2.pdf',\n",
       " 'box_topsbm_3Topic 20.pdf',\n",
       " 'box_topsbm_3Topic 21.pdf',\n",
       " 'box_topsbm_3Topic 22.pdf',\n",
       " 'box_topsbm_3Topic 23.pdf',\n",
       " 'box_topsbm_3Topic 24.pdf',\n",
       " 'box_topsbm_3Topic 25.pdf',\n",
       " 'box_topsbm_3Topic 26.pdf',\n",
       " 'box_topsbm_3Topic 27.pdf',\n",
       " 'box_topsbm_3Topic 28.pdf',\n",
       " 'box_topsbm_3Topic 29.pdf',\n",
       " 'box_topsbm_3Topic 3.pdf',\n",
       " 'box_topsbm_3Topic 30.pdf',\n",
       " 'box_topsbm_3Topic 31.pdf',\n",
       " 'box_topsbm_3Topic 32.pdf',\n",
       " 'box_topsbm_3Topic 33.pdf',\n",
       " 'box_topsbm_3Topic 34.pdf',\n",
       " 'box_topsbm_3Topic 35.pdf',\n",
       " 'box_topsbm_3Topic 36.pdf',\n",
       " 'box_topsbm_3Topic 4.pdf',\n",
       " 'box_topsbm_3Topic 5.pdf',\n",
       " 'box_topsbm_3Topic 6.pdf',\n",
       " 'box_topsbm_3Topic 7.pdf',\n",
       " 'box_topsbm_3Topic 8.pdf',\n",
       " 'box_topsbm_3Topic 9.pdf',\n",
       " 'box_topsbm_Topic 1.pdf',\n",
       " 'box_topsbm_Topic 10.pdf',\n",
       " 'box_topsbm_Topic 11.pdf',\n",
       " 'box_topsbm_Topic 12.pdf',\n",
       " 'box_topsbm_Topic 13.pdf',\n",
       " 'box_topsbm_Topic 14.pdf',\n",
       " 'box_topsbm_Topic 15.pdf',\n",
       " 'box_topsbm_Topic 16.pdf',\n",
       " 'box_topsbm_Topic 17.pdf',\n",
       " 'box_topsbm_Topic 18.pdf',\n",
       " 'box_topsbm_Topic 19.pdf',\n",
       " 'box_topsbm_Topic 2.pdf',\n",
       " 'box_topsbm_Topic 20.pdf',\n",
       " 'box_topsbm_Topic 21.pdf',\n",
       " 'box_topsbm_Topic 22.pdf',\n",
       " 'box_topsbm_Topic 23.pdf',\n",
       " 'box_topsbm_Topic 24.pdf',\n",
       " 'box_topsbm_Topic 25.pdf',\n",
       " 'box_topsbm_Topic 26.pdf',\n",
       " 'box_topsbm_Topic 27.pdf',\n",
       " 'box_topsbm_Topic 28.pdf',\n",
       " 'box_topsbm_Topic 29.pdf',\n",
       " 'box_topsbm_Topic 3.pdf',\n",
       " 'box_topsbm_Topic 30.pdf',\n",
       " 'box_topsbm_Topic 31.pdf',\n",
       " 'box_topsbm_Topic 32.pdf',\n",
       " 'box_topsbm_Topic 33.pdf',\n",
       " 'box_topsbm_Topic 34.pdf',\n",
       " 'box_topsbm_Topic 35.pdf',\n",
       " 'box_topsbm_Topic 36.pdf',\n",
       " 'box_topsbm_Topic 37.pdf',\n",
       " 'box_topsbm_Topic 38.pdf',\n",
       " 'box_topsbm_Topic 39.pdf',\n",
       " 'box_topsbm_Topic 4.pdf',\n",
       " 'box_topsbm_Topic 40.pdf',\n",
       " 'box_topsbm_Topic 41.pdf',\n",
       " 'box_topsbm_Topic 5.pdf',\n",
       " 'box_topsbm_Topic 6.pdf',\n",
       " 'box_topsbm_Topic 7.pdf',\n",
       " 'box_topsbm_Topic 8.pdf',\n",
       " 'box_topsbm_Topic 9.pdf',\n",
       " 'breast.ipynb',\n",
       " 'cluster_network.pdf',\n",
       " 'clustersizes.txt',\n",
       " 'corpus.txt',\n",
       " 'data',\n",
       " 'data_mining',\n",
       " 'df_info.csv',\n",
       " 'Enrichr',\n",
       " 'files.dat',\n",
       " 'files_shuffles.dat',\n",
       " 'files_tcga.dat',\n",
       " 'gback.txt',\n",
       " 'gback_ensg.txt',\n",
       " 'graph.xml.gz',\n",
       " 'graph_hde.xml.gz',\n",
       " 'graph_log.xml.gz',\n",
       " 'gsea',\n",
       " 'HDE_Breast.csv',\n",
       " 'HDE_Breast.txt',\n",
       " 'hierarchical',\n",
       " 'hierarchical-log',\n",
       " 'hierarchical.scores',\n",
       " 'hierarchical_dendogram.pdf',\n",
       " 'lda',\n",
       " 'lda.scores',\n",
       " 'mainTable.csv',\n",
       " 'mainTable_all.csv',\n",
       " 'metric_scores_all.pdf',\n",
       " 'metric_scores_all_normed.pdf',\n",
       " 'metric_scores_all_normtm.pdf',\n",
       " 'metric_scores_hierstructure.pdf',\n",
       " 'metric_scores_subtypes.pdf',\n",
       " 'model_Subtype_Selected_Lum.h5',\n",
       " 'modulemembership.pdf',\n",
       " 'moduleTrait.pdf',\n",
       " 'netdendograms.pdf',\n",
       " 'nethier.pdf',\n",
       " 'nethier_legend.svg',\n",
       " 'predict_Subtype_Selected_Lum.pdf',\n",
       " 'pvaluecategories(1).pdf',\n",
       " 'pvaluescrosstopic(1).pdf',\n",
       " 'roc_Subtype_Selected_Lum.pdf',\n",
       " 'samplehier.svg',\n",
       " 'samplehiercut.pdf',\n",
       " 'scaletopology.pdf',\n",
       " 'TCGAbiolinks_BRCA.csv',\n",
       " 'time_seed.dat',\n",
       " 'tm',\n",
       " 'topics_hsbm_wgcna.pdf',\n",
       " 'topics_logp.pdf',\n",
       " 'topics_logp_hsbm_wgcna.pdf',\n",
       " 'topicsizes.txt',\n",
       " 'topsbm',\n",
       " 'topsbm-log',\n",
       " 'wgcna',\n",
       " 'wgcna-block.1.RData',\n",
       " 'wgcna-block.2.RData',\n",
       " 'wgcna-block.3.RData',\n",
       " 'wgcna_modulemembership.pdf',\n",
       " 'wgcna_moduleTrait.pdf',\n",
       " 'wgcna_netdendograms.pdf',\n",
       " 'wgcna_nethier.pdf',\n",
       " 'wgcna_nethier_legend.pdf',\n",
       " 'wgcna_nethier_legend.svg',\n",
       " 'wgcna_nsamplehier.pdf',\n",
       " 'wgcna_samplehiercut.pdf',\n",
       " 'wgcna_scaletopology.pdf']"
      ]
     },
     "execution_count": 2,
     "metadata": {},
     "output_type": "execute_result"
    }
   ],
   "source": [
    "level = 2\n",
    "directory=r\"/home/jovyan/work/phd/datasets/cancers/breast\"\n",
    "#L=get_max_available_L(directory)\n",
    "os.chdir(directory)\n",
    "os.listdir()"
   ]
  },
  {
   "cell_type": "code",
   "execution_count": null,
   "metadata": {},
   "outputs": [],
   "source": [
    "df = pd.read_csv(\"mainTable.csv\", index_col=[0], header=[0]).dropna()\n",
    "totalobjcets = len(df.columns)\n",
    "print(df.info())\n",
    "print(\"Maximum expression value: %.1e\"%df.max().max())\n",
    "df.head(2)"
   ]
  },
  {
   "cell_type": "code",
   "execution_count": null,
   "metadata": {},
   "outputs": [],
   "source": [
    "df_files = pd.read_csv(\"files.dat\", index_col=[0])\n",
    "df_files.head(3)"
   ]
  },
  {
   "cell_type": "code",
   "execution_count": null,
   "metadata": {},
   "outputs": [],
   "source": [
    "true_out = []\n",
    "label = \"cancer.type\"\n",
    "if label not in df_files.columns:\n",
    "    raise AttributeError(f\"{label} not Avaliable\")\n",
    "for sample in df.columns.values:\n",
    "    try:\n",
    "        true_out.append(get_file(sample, df_files)[label])\n",
    "    except:\n",
    "        print(*sys.exc_info())\n",
    "        true_out.append('unknown')"
   ]
  },
  {
   "cell_type": "code",
   "execution_count": null,
   "metadata": {},
   "outputs": [],
   "source": [
    "scores = {}"
   ]
  },
  {
   "cell_type": "code",
   "execution_count": null,
   "metadata": {},
   "outputs": [],
   "source": [
    "try:\n",
    "    with open(\"clustersizes.txt\",'r') as f:\n",
    "        xl = np.sort(np.array(f.read().split(sep='\\n'))[:-1].astype(int))\n",
    "except:\n",
    "        xl=np.linspace(2,50,3, dtype=int)\n",
    "xl"
   ]
  },
  {
   "cell_type": "code",
   "execution_count": null,
   "metadata": {},
   "outputs": [],
   "source": [
    "xl = np.sort(np.concatenate([xl,np.arange(4,100,35)]))"
   ]
  },
  {
   "cell_type": "code",
   "execution_count": null,
   "metadata": {},
   "outputs": [],
   "source": [
    "xl=xl[:-1]\n",
    "xl"
   ]
  },
  {
   "cell_type": "markdown",
   "metadata": {},
   "source": [
    "## hierarchical"
   ]
  },
  {
   "cell_type": "code",
   "execution_count": null,
   "metadata": {},
   "outputs": [],
   "source": [
    "fig=plt.figure()\n",
    "dend = shc.dendrogram(shc.linkage(np.log2(df.T.values+1), method='average'), leaf_rotation=90., leaf_font_size=8.,)\n",
    "plt.xlabel(\"samples\", fontsize=16)\n",
    "plt.show()\n",
    "fig.savefig(\"hierarchical_dendogram.pdf\")"
   ]
  },
  {
   "cell_type": "code",
   "execution_count": null,
   "metadata": {},
   "outputs": [],
   "source": [
    "#hierarchical\n",
    "scores['hierarchical']={\n",
    "    'h':[],\n",
    "    'c':[],\n",
    "    'V':[]\n",
    "}\n",
    "def pearson_affinity(M, parallel=True):\n",
    "    return 1 - np.array([[pearsonr(a,b)[0] for a in M] for b in M])\n",
    "\n",
    "print(\"hierarchical-log\")\n",
    "os.system('mkdir -p hierarchical-log')\n",
    "hierarchical_model = AgglomerativeClustering(n_clusters=1, affinity='euclidean', linkage='complete')  \n",
    "for l,x in enumerate(xl):\n",
    "    print(\"testing with %d clusters\"%x)\n",
    "    hierarchical_model.n_clusters=x\n",
    "    data = np.log2(1.+df.T.values)\n",
    "    #data = df.T.values\n",
    "    out = hierarchical_model.fit_predict(data)\n",
    "        \n",
    "    #save clusters\n",
    "    print(\"saving clusters\")\n",
    "    df_clusters = pd.DataFrame(index=np.arange(len(df.columns)))\n",
    "    for c in np.arange(out.max()+1)[::-1]:\n",
    "        c_objects = df.columns[np.argwhere(out==c)].T[0]\n",
    "        df_clusters.insert(0,\"Cluster %d\"%(c+1),np.concatenate((c_objects,[np.nan for _ in np.arange(len(df.columns)-len(c_objects))])))\n",
    "    df_clusters.dropna(axis=0,how='all', inplace=True)\n",
    "    df_clusters.to_csv(\"hierarchical-log/hierarchical-log_level_%d_clusters.csv\"%(l), index=False, header=True)"
   ]
  },
  {
   "cell_type": "markdown",
   "metadata": {},
   "source": [
    "## LDA"
   ]
  },
  {
   "cell_type": "code",
   "execution_count": null,
   "metadata": {},
   "outputs": [],
   "source": [
    "with open(\"topicsizes.txt\",'r') as f:\n",
    "    tl = np.array(f.read().split(sep='\\n'))[:-1].astype(int)"
   ]
  },
  {
   "cell_type": "code",
   "execution_count": null,
   "metadata": {},
   "outputs": [],
   "source": [
    "xl = xl[:3]\n",
    "print(xl)"
   ]
  },
  {
   "cell_type": "code",
   "execution_count": null,
   "metadata": {},
   "outputs": [],
   "source": [
    "model=lda(n_jobs=4, verbose=2,  max_iter=5)\n",
    "model.full_analysis(directory, xl, tl=None, logarithmise=False, label=\"SMTS\")"
   ]
  },
  {
   "cell_type": "code",
   "execution_count": null,
   "metadata": {},
   "outputs": [],
   "source": [
    "topic_analysis(directory,1, 'lda')"
   ]
  },
  {
   "cell_type": "markdown",
   "metadata": {},
   "source": [
    "## LDA Mallet"
   ]
  },
  {
   "cell_type": "code",
   "execution_count": null,
   "metadata": {},
   "outputs": [],
   "source": [
    "from gensim.models.wrappers import LdaMallet\n",
    "from gensim.corpora.dictionary import Dictionary\n",
    "from gensim.test.utils import get_tmpfile\n",
    "from gensim.corpora import MmCorpus"
   ]
  },
  {
   "cell_type": "code",
   "execution_count": null,
   "metadata": {},
   "outputs": [],
   "source": [
    "corpus=list(map(list,map(lambda x: list(zip(range(len(df.index)), df[x])),df.columns)))\n",
    "corpus"
   ]
  },
  {
   "cell_type": "code",
   "execution_count": null,
   "metadata": {},
   "outputs": [],
   "source": [
    "dictionary=Dictionary([df.index])\n",
    "[a for a in dictionary.items()]"
   ]
  },
  {
   "cell_type": "code",
   "execution_count": null,
   "metadata": {},
   "outputs": [],
   "source": [
    "out_file=get_tmpfile(\"/home/fvalle/phd/datasets/tcga/oversampling_10tissue/corpus.mm\")\n",
    "MmCorpus.serialize(out_file, corpus, dictionary)"
   ]
  },
  {
   "cell_type": "code",
   "execution_count": null,
   "metadata": {},
   "outputs": [],
   "source": [
    "model = LdaMallet(\"/home/fvalle/phd/Mallet/bin/mallet\", workers=5, corpus=corpus, num_topics=15, id2word=dictionary)"
   ]
  },
  {
   "cell_type": "code",
   "execution_count": null,
   "metadata": {},
   "outputs": [],
   "source": [
    "df_topics=pd.DataFrame(data=model.get_topics().T, index=[a[1] for a in dictionary.items()], columns=[\"Topic %d\"%(t+1) for t in range(5)])\n",
    "df_topics"
   ]
  },
  {
   "cell_type": "code",
   "execution_count": null,
   "metadata": {},
   "outputs": [],
   "source": [
    "df_topic_distr=pd.read_csv(model.fdoctopics(), sep='\\t', header=None, index_col=0).drop(1,1)\n",
    "df_topic_distr.columns=[\"Topic %d\"%(t+1) for t in range(5)]\n",
    "df_topic_distr.index=df.columns\n",
    "df_topic_distr"
   ]
  },
  {
   "cell_type": "code",
   "execution_count": null,
   "metadata": {},
   "outputs": [],
   "source": [
    "df_topic_distr.apply(lambda x: x.idxmax().split(\" \")[1], axis=1)"
   ]
  },
  {
   "cell_type": "code",
   "execution_count": null,
   "metadata": {},
   "outputs": [],
   "source": []
  },
  {
   "cell_type": "markdown",
   "metadata": {},
   "source": [
    "## hierachical on Altmann's output"
   ]
  },
  {
   "cell_type": "code",
   "execution_count": null,
   "metadata": {},
   "outputs": [],
   "source": [
    "hiermodel = AgglomerativeClustering(n_clusters=10, affinity='euclidean', linkage='ward')"
   ]
  },
  {
   "cell_type": "code",
   "execution_count": null,
   "metadata": {},
   "outputs": [],
   "source": [
    "with open('clustersizes.txt') as f:\n",
    "    xl=np.array(f.read().split('\\n')[:-1]).astype(int)"
   ]
  },
  {
   "cell_type": "code",
   "execution_count": null,
   "metadata": {},
   "outputs": [],
   "source": [
    "os.system(\"mkdir -p hierhsbm\")"
   ]
  },
  {
   "cell_type": "code",
   "execution_count": null,
   "metadata": {},
   "outputs": [],
   "source": [
    "true_out = []\n",
    "for sample in pd.read_csv(\"%s/%s_level_%d_topic-dist.csv\"%('topsbm','topsbm',0), index_col=1).drop('i_doc', axis=1).index.values:\n",
    "    try:\n",
    "        true_out.append(get_file(sample, df_files)['primary_site'])\n",
    "    except:\n",
    "        print(sys.exc_info()[0])\n",
    "        true_out.append('')"
   ]
  },
  {
   "cell_type": "code",
   "execution_count": null,
   "metadata": {},
   "outputs": [],
   "source": [
    "scores['hierhsbm']={\n",
    "    'h':[],\n",
    "    'c':[],\n",
    "    'V':[]\n",
    "}\n",
    "for l,n_clusters in enumerate(xl):\n",
    "    print(\"Fitting level %d with %d clusters\"%(l, n_clusters))\n",
    "    df_topics = pd.read_csv(\"%s/%s_level_%d_topic-dist.csv\"%('topsbm','topsbm',l), index_col=1).drop('i_doc', axis=1)\n",
    "    df_clusters = pd.DataFrame(columns=[\"Cluster %d\"%c for c in np.arange(n_clusters)+1])\n",
    "    hiermodel.n_clusters=n_clusters\n",
    "    out = hiermodel.fit_predict(df_topics.values)  \n",
    "    for c in np.arange(out.max()+1)[::-1]:\n",
    "        c_objects = df_topics.index[np.argwhere(out==c)].values.T[0]\n",
    "        df_clusters[\"Cluster %d\"%(c+1)]=np.concatenate((c_objects,[np.nan for _ in np.arange(len(df_topics.index)-len(c_objects))]))\n",
    "    df_clusters.dropna(axis=0,how='all', inplace=True)\n",
    "    df_clusters.to_csv(\"hierhsbm/hierhsbm_level_%d_clusters.csv\"%(l), index=False, header=True)\n",
    "    #metrics\n",
    "    print(\"saving metrics\")\n",
    "    score = (homogeneity_completeness_v_measure(true_out, out))\n",
    "    scores['hierhsbm']['h'].append(score[0])\n",
    "    scores['hierhsbm']['c'].append(score[1])\n",
    "    scores['hierhsbm']['V'].append(score[2])\n",
    "    \n",
    "pd.DataFrame(data=scores['hierhsbm']).to_csv(\"%s/hierhsbm.scores\"%directory, header=True, index=False)"
   ]
  },
  {
   "cell_type": "code",
   "execution_count": null,
   "metadata": {},
   "outputs": [],
   "source": []
  },
  {
   "cell_type": "code",
   "execution_count": null,
   "metadata": {},
   "outputs": [],
   "source": []
  },
  {
   "cell_type": "markdown",
   "metadata": {},
   "source": [
    "## Topic mapping"
   ]
  },
  {
   "cell_type": "code",
   "execution_count": null,
   "metadata": {},
   "outputs": [],
   "source": [
    "df_clusters = pd.read_csv(\"tm/tm_level_0_clusters.csv\")"
   ]
  },
  {
   "cell_type": "code",
   "execution_count": null,
   "metadata": {},
   "outputs": [],
   "source": [
    "out=[]\n",
    "true_out=[]\n",
    "for c in df_clusters.columns:\n",
    "    for sample in df_clusters[c].dropna():\n",
    "        out.append(c)\n",
    "        true_out.append(get_file(sample, df_files)['primary_site'])"
   ]
  },
  {
   "cell_type": "code",
   "execution_count": null,
   "metadata": {},
   "outputs": [],
   "source": [
    "score = (*homogeneity_completeness_v_measure(true_out, out), len(df_clusters.columns))\n",
    "    \n",
    "pd.DataFrame(data=score, index=['h','c','v', 'n']).transpose().to_csv(\"%s/tm.scores\"%directory, header=True, index=False)"
   ]
  },
  {
   "cell_type": "code",
   "execution_count": null,
   "metadata": {},
   "outputs": [],
   "source": []
  },
  {
   "cell_type": "markdown",
   "metadata": {},
   "source": [
    "# t-SNE"
   ]
  },
  {
   "cell_type": "markdown",
   "metadata": {},
   "source": [
    "## WGCNA"
   ]
  },
  {
   "cell_type": "code",
   "execution_count": 3,
   "metadata": {},
   "outputs": [
    {
     "name": "stdout",
     "output_type": "stream",
     "text": [
      "saving clusters\n"
     ]
    },
    {
     "name": "stderr",
     "output_type": "stream",
     "text": [
      "/opt/conda/lib/python3.7/site-packages/ipykernel_launcher.py:9: DeprecationWarning: Support for multi-dimensional indexing (e.g. `index[:, None]`) on an Index is deprecated and will be removed in a future version.  Convert to a numpy array before indexing instead.\n",
      "  if __name__ == '__main__':\n"
     ]
    },
    {
     "name": "stdout",
     "output_type": "stream",
     "text": [
      "saving clusters\n",
      "saving clusters\n",
      "saving clusters\n"
     ]
    }
   ],
   "source": [
    "from hsbmpy import get_max_available_L\n",
    "for l in range(get_max_available_L(directory, \"wgcna\")+1):\n",
    "    df_wgcna = pd.read_csv(\"wgcna/wgcna_level_%d_labels.csv\"%l, index_col=0)\n",
    "    totalobjcets = len(df_wgcna.index)\n",
    "    out = df_wgcna['x'].values\n",
    "    print(\"saving clusters\")\n",
    "    df_clusters = pd.DataFrame(index=np.arange(totalobjcets))\n",
    "    for c in np.arange(out.max()+1)[::-1]:\n",
    "        c_objects = df_wgcna.index[np.argwhere(out==(c+1))].T[0]\n",
    "        df_clusters.insert(0,\"Cluster %d\"%(c+1),np.concatenate((c_objects,[np.nan for _ in np.arange(totalobjcets-len(c_objects))])))\n",
    "    df_clusters.dropna(axis=0,how='all', inplace=True)\n",
    "    df_clusters.to_csv(\"wgcna/wgcna_level_%d_clusters.csv\"%l, index=False, header=True)\n",
    "df_wgcna_td = pd.read_csv(\"wgcna/wgcna_level_0_topic-dist.csv\")\n",
    "df_wgcna_td.columns.values[0]='doc'\n",
    "df_wgcna_td.index.name='i_doc'\n",
    "df_wgcna_td.to_csv(\"wgcna/wgcna_level_0_topic-dist.csv\", index=True)"
   ]
  },
  {
   "cell_type": "code",
   "execution_count": 4,
   "metadata": {},
   "outputs": [],
   "source": [
    "df_word_distr = pd.read_csv(\"wgcna/wgcna_level_0_word-dist.csv\", index_col=0)\n",
    "df_topics = pd.DataFrame()\n",
    "max_L = df_word_distr.shape[0]\n",
    "for topic in df_word_distr.columns[::-1]:\n",
    "    t_series = df_word_distr[topic]\n",
    "    t_series = t_series[t_series>0.5]\n",
    "    df_topics.insert(0,topic.replace(\"MM\",\"ME\"),np.concatenate((t_series.index.values,np.repeat(np.nan, df_word_distr.shape[0]-len(t_series)))))\n",
    "df_topics.dropna(how=\"all\", axis=0).to_csv(\"wgcna/wgcna_level_0_topics.csv\", index=False, header=True)"
   ]
  },
  {
   "cell_type": "markdown",
   "metadata": {},
   "source": [
    "## hSBM"
   ]
  },
  {
   "cell_type": "code",
   "execution_count": null,
   "metadata": {},
   "outputs": [],
   "source": [
    "for l in range(3):\n",
    "    pd.read_csv(\"topsbm/topsbm_level_%d_topics.csv\"%l).applymap(lambda x: str(x)[:15]).to_csv(\"topsbm/topsbm_level_%d_topics.csv\"%l, index=False)"
   ]
  },
  {
   "cell_type": "code",
   "execution_count": null,
   "metadata": {},
   "outputs": [],
   "source": []
  }
 ],
 "metadata": {
  "kernelspec": {
   "display_name": "Python 3",
   "language": "python",
   "name": "python3"
  },
  "language_info": {
   "codemirror_mode": {
    "name": "ipython",
    "version": 3
   },
   "file_extension": ".py",
   "mimetype": "text/x-python",
   "name": "python",
   "nbconvert_exporter": "python",
   "pygments_lexer": "ipython3",
   "version": "3.7.6"
  },
  "widgets": {
   "application/vnd.jupyter.widget-state+json": {
    "state": {},
    "version_major": 2,
    "version_minor": 0
   }
  }
 },
 "nbformat": 4,
 "nbformat_minor": 4
}

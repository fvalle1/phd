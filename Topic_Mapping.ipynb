{
 "cells": [
  {
   "cell_type": "code",
   "execution_count": 1,
   "metadata": {},
   "outputs": [],
   "source": [
    "import pandas as pd\n",
    "import numpy as np\n",
    "import os, gc\n",
    "os.chdir(\"/home/jovyan/work/phd/datasets/gtex/10/random_selection\")"
   ]
  },
  {
   "cell_type": "code",
   "execution_count": 2,
   "metadata": {},
   "outputs": [
    {
     "name": "stdout",
     "output_type": "stream",
     "text": [
      "<class 'pandas.core.frame.DataFrame'>\n",
      "Index: 3000 entries, ENSG00000271614 to ENSG00000253951\n",
      "Columns: 1000 entries, GTEX-111CU-1426-SM-5GZYP to GTEX-ZZPU-0926-SM-5GZYT\n",
      "dtypes: float64(1000)\n",
      "memory usage: 22.9+ MB\n"
     ]
    }
   ],
   "source": [
    "df=pd.read_csv(\"mainTable.csv\", index_col=0)\n",
    "df.info()"
   ]
  },
  {
   "cell_type": "code",
   "execution_count": 3,
   "metadata": {},
   "outputs": [],
   "source": [
    "with open(\"corpus.txt\",'w') as file:\n",
    "    for sample in df.columns:\n",
    "        for g in np.array(df[sample].sort_values(ascending=False).index[:1000],dtype=str):\n",
    "            file.write(g[:15])\n",
    "            file.write(\" \")\n",
    "        file.write(\"\\n\")"
   ]
  },
  {
   "cell_type": "code",
   "execution_count": 4,
   "metadata": {},
   "outputs": [
    {
     "data": {
      "text/plain": [
       "22"
      ]
     },
     "execution_count": 4,
     "metadata": {},
     "output_type": "execute_result"
    }
   ],
   "source": [
    "gc.collect()"
   ]
  },
  {
   "cell_type": "code",
   "execution_count": 5,
   "metadata": {},
   "outputs": [
    {
     "data": {
      "text/plain": [
       "32512"
      ]
     },
     "execution_count": 5,
     "metadata": {},
     "output_type": "execute_result"
    }
   ],
   "source": [
    "os.system(\"export PATH=$PATH:/home/jovyan/work/phd/topicmapping/bin\")\n",
    "os.system(\"topicmap -f corpus.txt -r 10 -t 10 -seed 42 -o tm\")"
   ]
  },
  {
   "cell_type": "code",
   "execution_count": 6,
   "metadata": {},
   "outputs": [
    {
     "data": {
      "text/html": [
       "<div>\n",
       "<style scoped>\n",
       "    .dataframe tbody tr th:only-of-type {\n",
       "        vertical-align: middle;\n",
       "    }\n",
       "\n",
       "    .dataframe tbody tr th {\n",
       "        vertical-align: top;\n",
       "    }\n",
       "\n",
       "    .dataframe thead th {\n",
       "        text-align: right;\n",
       "    }\n",
       "</style>\n",
       "<table border=\"1\" class=\"dataframe\">\n",
       "  <thead>\n",
       "    <tr style=\"text-align: right;\">\n",
       "      <th></th>\n",
       "      <th>word</th>\n",
       "      <th>word-id</th>\n",
       "      <th>occurrence</th>\n",
       "    </tr>\n",
       "  </thead>\n",
       "  <tbody>\n",
       "    <tr>\n",
       "      <th>938</th>\n",
       "      <td>ENSG00000171431</td>\n",
       "      <td>0</td>\n",
       "      <td>84</td>\n",
       "    </tr>\n",
       "    <tr>\n",
       "      <th>2330</th>\n",
       "      <td>ENSG00000131981</td>\n",
       "      <td>1</td>\n",
       "      <td>1000</td>\n",
       "    </tr>\n",
       "    <tr>\n",
       "      <th>2165</th>\n",
       "      <td>ENSG00000143416</td>\n",
       "      <td>2</td>\n",
       "      <td>981</td>\n",
       "    </tr>\n",
       "    <tr>\n",
       "      <th>1721</th>\n",
       "      <td>ENSG00000132465</td>\n",
       "      <td>3</td>\n",
       "      <td>612</td>\n",
       "    </tr>\n",
       "    <tr>\n",
       "      <th>2002</th>\n",
       "      <td>ENSG00000121900</td>\n",
       "      <td>4</td>\n",
       "      <td>916</td>\n",
       "    </tr>\n",
       "    <tr>\n",
       "      <th>...</th>\n",
       "      <td>...</td>\n",
       "      <td>...</td>\n",
       "      <td>...</td>\n",
       "    </tr>\n",
       "    <tr>\n",
       "      <th>126</th>\n",
       "      <td>ENSG00000225404</td>\n",
       "      <td>2551</td>\n",
       "      <td>1</td>\n",
       "    </tr>\n",
       "    <tr>\n",
       "      <th>127</th>\n",
       "      <td>ENSG00000253319</td>\n",
       "      <td>2552</td>\n",
       "      <td>1</td>\n",
       "    </tr>\n",
       "    <tr>\n",
       "      <th>128</th>\n",
       "      <td>ENSG00000234455</td>\n",
       "      <td>2553</td>\n",
       "      <td>1</td>\n",
       "    </tr>\n",
       "    <tr>\n",
       "      <th>129</th>\n",
       "      <td>ENSG00000259791</td>\n",
       "      <td>2554</td>\n",
       "      <td>1</td>\n",
       "    </tr>\n",
       "    <tr>\n",
       "      <th>130</th>\n",
       "      <td>ENSG00000170683</td>\n",
       "      <td>2555</td>\n",
       "      <td>1</td>\n",
       "    </tr>\n",
       "  </tbody>\n",
       "</table>\n",
       "<p>2556 rows × 3 columns</p>\n",
       "</div>"
      ],
      "text/plain": [
       "                 word  word-id  occurrence\n",
       "938   ENSG00000171431        0          84\n",
       "2330  ENSG00000131981        1        1000\n",
       "2165  ENSG00000143416        2         981\n",
       "1721  ENSG00000132465        3         612\n",
       "2002  ENSG00000121900        4         916\n",
       "...               ...      ...         ...\n",
       "126   ENSG00000225404     2551           1\n",
       "127   ENSG00000253319     2552           1\n",
       "128   ENSG00000234455     2553           1\n",
       "129   ENSG00000259791     2554           1\n",
       "130   ENSG00000170683     2555           1\n",
       "\n",
       "[2556 rows x 3 columns]"
      ]
     },
     "execution_count": 6,
     "metadata": {},
     "output_type": "execute_result"
    }
   ],
   "source": [
    "df_words = pd.read_csv(\"tm/word_wn_count.txt\", sep=' ', header=None)\n",
    "df_words.columns=['word', 'word-id', 'occurrence']\n",
    "df_words.sort_values('word-id')"
   ]
  },
  {
   "cell_type": "code",
   "execution_count": 7,
   "metadata": {},
   "outputs": [
    {
     "data": {
      "text/html": [
       "<div>\n",
       "<style scoped>\n",
       "    .dataframe tbody tr th:only-of-type {\n",
       "        vertical-align: middle;\n",
       "    }\n",
       "\n",
       "    .dataframe tbody tr th {\n",
       "        vertical-align: top;\n",
       "    }\n",
       "\n",
       "    .dataframe thead th {\n",
       "        text-align: right;\n",
       "    }\n",
       "</style>\n",
       "<table border=\"1\" class=\"dataframe\">\n",
       "  <thead>\n",
       "    <tr style=\"text-align: right;\">\n",
       "      <th></th>\n",
       "      <th>doc</th>\n",
       "      <th>Topic 1</th>\n",
       "      <th>Topic 2</th>\n",
       "      <th>Topic 3</th>\n",
       "    </tr>\n",
       "    <tr>\n",
       "      <th>i_doc</th>\n",
       "      <th></th>\n",
       "      <th></th>\n",
       "      <th></th>\n",
       "      <th></th>\n",
       "    </tr>\n",
       "  </thead>\n",
       "  <tbody>\n",
       "    <tr>\n",
       "      <th>0</th>\n",
       "      <td>GTEX-111CU-1426-SM-5GZYP</td>\n",
       "      <td>215.075000</td>\n",
       "      <td>0.077544</td>\n",
       "      <td>785.170000</td>\n",
       "    </tr>\n",
       "    <tr>\n",
       "      <th>1</th>\n",
       "      <td>GTEX-111FC-0226-SM-5N9B8</td>\n",
       "      <td>0.082094</td>\n",
       "      <td>64.963100</td>\n",
       "      <td>935.277000</td>\n",
       "    </tr>\n",
       "    <tr>\n",
       "      <th>2</th>\n",
       "      <td>GTEX-111YS-0006-SM-5NQBE</td>\n",
       "      <td>1000.080000</td>\n",
       "      <td>0.077544</td>\n",
       "      <td>0.162203</td>\n",
       "    </tr>\n",
       "    <tr>\n",
       "      <th>3</th>\n",
       "      <td>GTEX-111YS-0326-SM-5GZZ3</td>\n",
       "      <td>654.208000</td>\n",
       "      <td>88.135600</td>\n",
       "      <td>257.979000</td>\n",
       "    </tr>\n",
       "    <tr>\n",
       "      <th>4</th>\n",
       "      <td>GTEX-111YS-2426-SM-5GZZQ</td>\n",
       "      <td>0.082094</td>\n",
       "      <td>0.077544</td>\n",
       "      <td>1000.160000</td>\n",
       "    </tr>\n",
       "    <tr>\n",
       "      <th>...</th>\n",
       "      <td>...</td>\n",
       "      <td>...</td>\n",
       "      <td>...</td>\n",
       "      <td>...</td>\n",
       "    </tr>\n",
       "    <tr>\n",
       "      <th>995</th>\n",
       "      <td>GTEX-ZZ64-0826-SM-5E449</td>\n",
       "      <td>0.082097</td>\n",
       "      <td>539.855000</td>\n",
       "      <td>460.385000</td>\n",
       "    </tr>\n",
       "    <tr>\n",
       "      <th>996</th>\n",
       "      <td>GTEX-ZZPT-3026-SM-5GZXH</td>\n",
       "      <td>156.992000</td>\n",
       "      <td>843.167000</td>\n",
       "      <td>0.162203</td>\n",
       "    </tr>\n",
       "    <tr>\n",
       "      <th>997</th>\n",
       "      <td>GTEX-ZZPU-0226-SM-5N9BV</td>\n",
       "      <td>0.082094</td>\n",
       "      <td>0.077544</td>\n",
       "      <td>1000.160000</td>\n",
       "    </tr>\n",
       "    <tr>\n",
       "      <th>998</th>\n",
       "      <td>GTEX-ZZPU-0826-SM-5GZX5</td>\n",
       "      <td>0.082094</td>\n",
       "      <td>0.077544</td>\n",
       "      <td>1000.160000</td>\n",
       "    </tr>\n",
       "    <tr>\n",
       "      <th>999</th>\n",
       "      <td>GTEX-ZZPU-0926-SM-5GZYT</td>\n",
       "      <td>772.493000</td>\n",
       "      <td>113.835000</td>\n",
       "      <td>113.993000</td>\n",
       "    </tr>\n",
       "  </tbody>\n",
       "</table>\n",
       "<p>1000 rows × 4 columns</p>\n",
       "</div>"
      ],
      "text/plain": [
       "                            doc      Topic 1     Topic 2      Topic 3\n",
       "i_doc                                                                \n",
       "0      GTEX-111CU-1426-SM-5GZYP   215.075000    0.077544   785.170000\n",
       "1      GTEX-111FC-0226-SM-5N9B8     0.082094   64.963100   935.277000\n",
       "2      GTEX-111YS-0006-SM-5NQBE  1000.080000    0.077544     0.162203\n",
       "3      GTEX-111YS-0326-SM-5GZZ3   654.208000   88.135600   257.979000\n",
       "4      GTEX-111YS-2426-SM-5GZZQ     0.082094    0.077544  1000.160000\n",
       "...                         ...          ...         ...          ...\n",
       "995     GTEX-ZZ64-0826-SM-5E449     0.082097  539.855000   460.385000\n",
       "996     GTEX-ZZPT-3026-SM-5GZXH   156.992000  843.167000     0.162203\n",
       "997     GTEX-ZZPU-0226-SM-5N9BV     0.082094    0.077544  1000.160000\n",
       "998     GTEX-ZZPU-0826-SM-5GZX5     0.082094    0.077544  1000.160000\n",
       "999     GTEX-ZZPU-0926-SM-5GZYT   772.493000  113.835000   113.993000\n",
       "\n",
       "[1000 rows x 4 columns]"
      ]
     },
     "execution_count": 7,
     "metadata": {},
     "output_type": "execute_result"
    }
   ],
   "source": [
    "df_topic_distr = pd.read_csv(\"tm/lda_gammas_final.txt\", sep=' ', header=None)\n",
    "df_topic_distr.columns=['Topic %d'%(t+1) for t in df_topic_distr.columns]\n",
    "df_topic_distr.index.name='i_doc'\n",
    "df_topic_distr.insert(0,'doc',df.columns)\n",
    "df_topic_distr=df_topic_distr.dropna(how='all',axis=1)\n",
    "df_topic_distr"
   ]
  },
  {
   "cell_type": "code",
   "execution_count": 8,
   "metadata": {},
   "outputs": [],
   "source": [
    "clusters = df_topic_distr.drop('doc',1).values.argmax(1)\n",
    "df_clusters=pd.DataFrame()\n",
    "for cluster in range(np.max(clusters)+1):\n",
    "    elems=df.columns[clusters==cluster].values\n",
    "    df_clusters.insert(0,'Cluster %d'%(cluster+1),np.concatenate([elems, ['' for _ in range(len(df.columns)- len(elems))]]))"
   ]
  },
  {
   "cell_type": "code",
   "execution_count": 9,
   "metadata": {},
   "outputs": [],
   "source": [
    "df_clusters.sort_index(axis=1).to_csv(\"tm/tm_level_0_clusters.csv\", index=False, header=True)"
   ]
  },
  {
   "cell_type": "code",
   "execution_count": 10,
   "metadata": {},
   "outputs": [],
   "source": [
    "df_topic_distr.to_csv(\"tm/tm_level_0_topic-dist.csv\", index=True, header=True)"
   ]
  },
  {
   "cell_type": "code",
   "execution_count": 11,
   "metadata": {},
   "outputs": [],
   "source": [
    "df_word_distr = pd.DataFrame().fillna(0)\n",
    "with open(\"tm/lda_betas_sparse_final.txt\",\"r\") as f:\n",
    "    for line in f.read().split(\"\\n\"):\n",
    "        row = line.split(\" \")\n",
    "        if len(row) < 2:\n",
    "            continue\n",
    "        topic = int(row[0])+1\n",
    "        line=np.array(row[1:-1], dtype=float).reshape(int((len(row)-1)/2),2)\n",
    "        for el in line:\n",
    "            df_word_distr.at[df_words[df_words['word-id']==int(el[0])].word.values[0], f\"Topic {topic}\"] = el[1]\n",
    "#df_word_distr.index=df_words['word']\n",
    "df_word_distr.fillna(0)\n",
    "df_word_distr.to_csv(\"tm/tm_level_0_word-dist.csv\", index=True, header=True)"
   ]
  },
  {
   "cell_type": "code",
   "execution_count": null,
   "metadata": {},
   "outputs": [],
   "source": []
  }
 ],
 "metadata": {
  "kernelspec": {
   "display_name": "Python 3",
   "language": "python",
   "name": "python3"
  },
  "language_info": {
   "codemirror_mode": {
    "name": "ipython",
    "version": 3
   },
   "file_extension": ".py",
   "mimetype": "text/x-python",
   "name": "python",
   "nbconvert_exporter": "python",
   "pygments_lexer": "ipython3",
   "version": "3.7.6"
  },
  "widgets": {
   "application/vnd.jupyter.widget-state+json": {
    "state": {},
    "version_major": 2,
    "version_minor": 0
   }
  }
 },
 "nbformat": 4,
 "nbformat_minor": 4
}

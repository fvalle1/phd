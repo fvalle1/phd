{
 "cells": [
  {
   "cell_type": "code",
   "execution_count": 1,
   "metadata": {},
   "outputs": [],
   "source": [
    "import pandas as pd\n",
    "import numpy as np\n",
    "import os, gc\n",
    "os.chdir(\"/home/jovyan/work/phd/datasets/paper/gtex10seed\")"
   ]
  },
  {
   "cell_type": "code",
   "execution_count": 2,
   "metadata": {},
   "outputs": [
    {
     "name": "stdout",
     "output_type": "stream",
     "text": [
      "<class 'pandas.core.frame.DataFrame'>\n",
      "Index: 3000 entries, ENSG00000268903 to ENSG00000251322\n",
      "Columns: 1000 entries, GTEX-1KWVE-2326-SM-D4P3N to GTEX-YB5K-0526-SM-5LUAS\n",
      "dtypes: float64(1000)\n",
      "memory usage: 22.9+ MB\n"
     ]
    }
   ],
   "source": [
    "df=pd.read_csv(\"mainTable.csv\", index_col=0)\n",
    "df.info()"
   ]
  },
  {
   "cell_type": "code",
   "execution_count": 3,
   "metadata": {},
   "outputs": [],
   "source": [
    "with open(\"corpus.txt\",'w') as file:\n",
    "    for sample in df.columns:\n",
    "        for g in np.array(df[sample].sort_values(ascending=False).index[:1000],dtype=str):\n",
    "            file.write(g[:15])\n",
    "            file.write(\" \")\n",
    "        file.write(\"\\n\")"
   ]
  },
  {
   "cell_type": "code",
   "execution_count": 4,
   "metadata": {},
   "outputs": [
    {
     "data": {
      "text/plain": [
       "22"
      ]
     },
     "execution_count": 4,
     "metadata": {},
     "output_type": "execute_result"
    }
   ],
   "source": [
    "gc.collect()"
   ]
  },
  {
   "cell_type": "code",
   "execution_count": 5,
   "metadata": {},
   "outputs": [
    {
     "data": {
      "text/plain": [
       "32512"
      ]
     },
     "execution_count": 5,
     "metadata": {},
     "output_type": "execute_result"
    }
   ],
   "source": [
    "os.system(\"export PATH=$PATH:/home/jovyan/work/phd/topicmapping/bin\")\n",
    "os.system(\"topicmap -f corpus.txt -r 10 -t 10 -seed 42 -o tm\")"
   ]
  },
  {
   "cell_type": "code",
   "execution_count": 5,
   "metadata": {},
   "outputs": [
    {
     "data": {
      "text/html": [
       "<div>\n",
       "<style scoped>\n",
       "    .dataframe tbody tr th:only-of-type {\n",
       "        vertical-align: middle;\n",
       "    }\n",
       "\n",
       "    .dataframe tbody tr th {\n",
       "        vertical-align: top;\n",
       "    }\n",
       "\n",
       "    .dataframe thead th {\n",
       "        text-align: right;\n",
       "    }\n",
       "</style>\n",
       "<table border=\"1\" class=\"dataframe\">\n",
       "  <thead>\n",
       "    <tr style=\"text-align: right;\">\n",
       "      <th></th>\n",
       "      <th>word</th>\n",
       "      <th>word-id</th>\n",
       "      <th>occurrence</th>\n",
       "    </tr>\n",
       "  </thead>\n",
       "  <tbody>\n",
       "    <tr>\n",
       "      <th>2233</th>\n",
       "      <td>ENSG00000154146</td>\n",
       "      <td>0</td>\n",
       "      <td>617</td>\n",
       "    </tr>\n",
       "    <tr>\n",
       "      <th>2844</th>\n",
       "      <td>ENSG00000087086</td>\n",
       "      <td>1</td>\n",
       "      <td>1000</td>\n",
       "    </tr>\n",
       "    <tr>\n",
       "      <th>1060</th>\n",
       "      <td>ENSG00000132639</td>\n",
       "      <td>2</td>\n",
       "      <td>164</td>\n",
       "    </tr>\n",
       "    <tr>\n",
       "      <th>2459</th>\n",
       "      <td>ENSG00000154277</td>\n",
       "      <td>3</td>\n",
       "      <td>759</td>\n",
       "    </tr>\n",
       "    <tr>\n",
       "      <th>2595</th>\n",
       "      <td>ENSG00000162545</td>\n",
       "      <td>4</td>\n",
       "      <td>851</td>\n",
       "    </tr>\n",
       "    <tr>\n",
       "      <th>...</th>\n",
       "      <td>...</td>\n",
       "      <td>...</td>\n",
       "      <td>...</td>\n",
       "    </tr>\n",
       "    <tr>\n",
       "      <th>67</th>\n",
       "      <td>ENSG00000177335</td>\n",
       "      <td>2865</td>\n",
       "      <td>3</td>\n",
       "    </tr>\n",
       "    <tr>\n",
       "      <th>53</th>\n",
       "      <td>ENSG00000168852</td>\n",
       "      <td>2866</td>\n",
       "      <td>2</td>\n",
       "    </tr>\n",
       "    <tr>\n",
       "      <th>104</th>\n",
       "      <td>ENSG00000226754</td>\n",
       "      <td>2867</td>\n",
       "      <td>6</td>\n",
       "    </tr>\n",
       "    <tr>\n",
       "      <th>54</th>\n",
       "      <td>ENSG00000160200</td>\n",
       "      <td>2868</td>\n",
       "      <td>2</td>\n",
       "    </tr>\n",
       "    <tr>\n",
       "      <th>26</th>\n",
       "      <td>ENSG00000249129</td>\n",
       "      <td>2869</td>\n",
       "      <td>1</td>\n",
       "    </tr>\n",
       "  </tbody>\n",
       "</table>\n",
       "<p>2870 rows × 3 columns</p>\n",
       "</div>"
      ],
      "text/plain": [
       "                 word  word-id  occurrence\n",
       "2233  ENSG00000154146        0         617\n",
       "2844  ENSG00000087086        1        1000\n",
       "1060  ENSG00000132639        2         164\n",
       "2459  ENSG00000154277        3         759\n",
       "2595  ENSG00000162545        4         851\n",
       "...               ...      ...         ...\n",
       "67    ENSG00000177335     2865           3\n",
       "53    ENSG00000168852     2866           2\n",
       "104   ENSG00000226754     2867           6\n",
       "54    ENSG00000160200     2868           2\n",
       "26    ENSG00000249129     2869           1\n",
       "\n",
       "[2870 rows x 3 columns]"
      ]
     },
     "execution_count": 5,
     "metadata": {},
     "output_type": "execute_result"
    }
   ],
   "source": [
    "df_words = pd.read_csv(\"tm/word_wn_count.txt\", sep=' ', header=None)\n",
    "df_words.columns=['word', 'word-id', 'occurrence']\n",
    "df_words.sort_values('word-id')"
   ]
  },
  {
   "cell_type": "code",
   "execution_count": 6,
   "metadata": {},
   "outputs": [
    {
     "data": {
      "text/html": [
       "<div>\n",
       "<style scoped>\n",
       "    .dataframe tbody tr th:only-of-type {\n",
       "        vertical-align: middle;\n",
       "    }\n",
       "\n",
       "    .dataframe tbody tr th {\n",
       "        vertical-align: top;\n",
       "    }\n",
       "\n",
       "    .dataframe thead th {\n",
       "        text-align: right;\n",
       "    }\n",
       "</style>\n",
       "<table border=\"1\" class=\"dataframe\">\n",
       "  <thead>\n",
       "    <tr style=\"text-align: right;\">\n",
       "      <th></th>\n",
       "      <th>doc</th>\n",
       "      <th>Topic 1</th>\n",
       "      <th>Topic 2</th>\n",
       "      <th>Topic 3</th>\n",
       "      <th>Topic 4</th>\n",
       "      <th>Topic 5</th>\n",
       "    </tr>\n",
       "    <tr>\n",
       "      <th>i_doc</th>\n",
       "      <th></th>\n",
       "      <th></th>\n",
       "      <th></th>\n",
       "      <th></th>\n",
       "      <th></th>\n",
       "      <th></th>\n",
       "    </tr>\n",
       "  </thead>\n",
       "  <tbody>\n",
       "    <tr>\n",
       "      <th>0</th>\n",
       "      <td>GTEX-1KWVE-2326-SM-D4P3N</td>\n",
       "      <td>0.018432</td>\n",
       "      <td>1000.020000</td>\n",
       "      <td>0.056486</td>\n",
       "      <td>0.022968</td>\n",
       "      <td>0.018306</td>\n",
       "    </tr>\n",
       "    <tr>\n",
       "      <th>1</th>\n",
       "      <td>GTEX-1H23P-0011-R6b-SM-A9G1H</td>\n",
       "      <td>0.018432</td>\n",
       "      <td>1000.020000</td>\n",
       "      <td>0.056486</td>\n",
       "      <td>0.022968</td>\n",
       "      <td>0.018306</td>\n",
       "    </tr>\n",
       "    <tr>\n",
       "      <th>2</th>\n",
       "      <td>GTEX-14C39-0011-R5b-SM-5ZZV1</td>\n",
       "      <td>0.018432</td>\n",
       "      <td>1000.020000</td>\n",
       "      <td>0.056486</td>\n",
       "      <td>0.022968</td>\n",
       "      <td>0.018306</td>\n",
       "    </tr>\n",
       "    <tr>\n",
       "      <th>3</th>\n",
       "      <td>GTEX-1H23P-2926-SM-9WYU8</td>\n",
       "      <td>0.018432</td>\n",
       "      <td>1000.020000</td>\n",
       "      <td>0.056486</td>\n",
       "      <td>0.022968</td>\n",
       "      <td>0.018306</td>\n",
       "    </tr>\n",
       "    <tr>\n",
       "      <th>4</th>\n",
       "      <td>GTEX-13N2G-0011-R10a-SM-5MR34</td>\n",
       "      <td>0.018432</td>\n",
       "      <td>817.212000</td>\n",
       "      <td>182.860000</td>\n",
       "      <td>0.022968</td>\n",
       "      <td>0.018306</td>\n",
       "    </tr>\n",
       "    <tr>\n",
       "      <th>...</th>\n",
       "      <td>...</td>\n",
       "      <td>...</td>\n",
       "      <td>...</td>\n",
       "      <td>...</td>\n",
       "      <td>...</td>\n",
       "      <td>...</td>\n",
       "    </tr>\n",
       "    <tr>\n",
       "      <th>995</th>\n",
       "      <td>GTEX-ZF29-0726-SM-DO92H</td>\n",
       "      <td>0.018432</td>\n",
       "      <td>0.015934</td>\n",
       "      <td>456.794000</td>\n",
       "      <td>543.286000</td>\n",
       "      <td>0.018306</td>\n",
       "    </tr>\n",
       "    <tr>\n",
       "      <th>996</th>\n",
       "      <td>GTEX-ZXG5-0926-SM-5NQ8H</td>\n",
       "      <td>0.018432</td>\n",
       "      <td>0.015934</td>\n",
       "      <td>409.909000</td>\n",
       "      <td>590.171000</td>\n",
       "      <td>0.018306</td>\n",
       "    </tr>\n",
       "    <tr>\n",
       "      <th>997</th>\n",
       "      <td>GTEX-1RMOY-0126-SM-EWRNN</td>\n",
       "      <td>0.018432</td>\n",
       "      <td>0.015934</td>\n",
       "      <td>443.753000</td>\n",
       "      <td>556.327000</td>\n",
       "      <td>0.018306</td>\n",
       "    </tr>\n",
       "    <tr>\n",
       "      <th>998</th>\n",
       "      <td>GTEX-1RAZQ-0926-SM-EAZ4Q</td>\n",
       "      <td>0.018432</td>\n",
       "      <td>0.015934</td>\n",
       "      <td>315.319000</td>\n",
       "      <td>684.761000</td>\n",
       "      <td>0.018306</td>\n",
       "    </tr>\n",
       "    <tr>\n",
       "      <th>999</th>\n",
       "      <td>GTEX-YB5K-0526-SM-5LUAS</td>\n",
       "      <td>0.018432</td>\n",
       "      <td>0.015934</td>\n",
       "      <td>374.358000</td>\n",
       "      <td>625.722000</td>\n",
       "      <td>0.018306</td>\n",
       "    </tr>\n",
       "  </tbody>\n",
       "</table>\n",
       "<p>1000 rows × 6 columns</p>\n",
       "</div>"
      ],
      "text/plain": [
       "                                 doc   Topic 1      Topic 2     Topic 3  \\\n",
       "i_doc                                                                     \n",
       "0           GTEX-1KWVE-2326-SM-D4P3N  0.018432  1000.020000    0.056486   \n",
       "1       GTEX-1H23P-0011-R6b-SM-A9G1H  0.018432  1000.020000    0.056486   \n",
       "2       GTEX-14C39-0011-R5b-SM-5ZZV1  0.018432  1000.020000    0.056486   \n",
       "3           GTEX-1H23P-2926-SM-9WYU8  0.018432  1000.020000    0.056486   \n",
       "4      GTEX-13N2G-0011-R10a-SM-5MR34  0.018432   817.212000  182.860000   \n",
       "...                              ...       ...          ...         ...   \n",
       "995          GTEX-ZF29-0726-SM-DO92H  0.018432     0.015934  456.794000   \n",
       "996          GTEX-ZXG5-0926-SM-5NQ8H  0.018432     0.015934  409.909000   \n",
       "997         GTEX-1RMOY-0126-SM-EWRNN  0.018432     0.015934  443.753000   \n",
       "998         GTEX-1RAZQ-0926-SM-EAZ4Q  0.018432     0.015934  315.319000   \n",
       "999          GTEX-YB5K-0526-SM-5LUAS  0.018432     0.015934  374.358000   \n",
       "\n",
       "          Topic 4   Topic 5  \n",
       "i_doc                        \n",
       "0        0.022968  0.018306  \n",
       "1        0.022968  0.018306  \n",
       "2        0.022968  0.018306  \n",
       "3        0.022968  0.018306  \n",
       "4        0.022968  0.018306  \n",
       "...           ...       ...  \n",
       "995    543.286000  0.018306  \n",
       "996    590.171000  0.018306  \n",
       "997    556.327000  0.018306  \n",
       "998    684.761000  0.018306  \n",
       "999    625.722000  0.018306  \n",
       "\n",
       "[1000 rows x 6 columns]"
      ]
     },
     "execution_count": 6,
     "metadata": {},
     "output_type": "execute_result"
    }
   ],
   "source": [
    "df_topic_distr = pd.read_csv(\"tm/lda_gammas_final.txt\", sep=' ', header=None)\n",
    "df_topic_distr.columns=['Topic %d'%(t+1) for t in df_topic_distr.columns]\n",
    "df_topic_distr.index.name='i_doc'\n",
    "df_topic_distr.insert(0,'doc',df.columns)\n",
    "df_topic_distr=df_topic_distr.dropna(how='all',axis=1)\n",
    "df_topic_distr"
   ]
  },
  {
   "cell_type": "code",
   "execution_count": 7,
   "metadata": {},
   "outputs": [],
   "source": [
    "clusters = df_topic_distr.drop('doc',1).values.argmax(1)\n",
    "df_clusters=pd.DataFrame()\n",
    "for cluster in range(np.max(clusters)+1):\n",
    "    elems=df.columns[clusters==cluster].values\n",
    "    df_clusters.insert(0,'Cluster %d'%(cluster+1),np.concatenate([elems, ['' for _ in range(len(df.columns)- len(elems))]]))"
   ]
  },
  {
   "cell_type": "code",
   "execution_count": 8,
   "metadata": {},
   "outputs": [],
   "source": [
    "df_clusters.sort_index(axis=1).to_csv(\"tm/tm_level_0_clusters.csv\", index=False, header=True)"
   ]
  },
  {
   "cell_type": "code",
   "execution_count": 9,
   "metadata": {},
   "outputs": [],
   "source": [
    "df_topic_distr.to_csv(\"tm/tm_level_0_topic-dist.csv\", index=True, header=True)"
   ]
  },
  {
   "cell_type": "code",
   "execution_count": 10,
   "metadata": {},
   "outputs": [],
   "source": [
    "df_word_distr = pd.DataFrame().fillna(0)\n",
    "with open(\"tm/lda_betas_sparse_final.txt\",\"r\") as f:\n",
    "    for line in f.read().split(\"\\n\"):\n",
    "        row = line.split(\" \")\n",
    "        if len(row) < 2:\n",
    "            continue\n",
    "        topic = int(row[0])+1\n",
    "        line=np.array(row[1:-1], dtype=float).reshape(int((len(row)-1)/2),2)\n",
    "        for el in line:\n",
    "            df_word_distr.at[df_words[df_words['word-id']==int(el[0])].word.values[0], f\"Topic {topic}\"] = el[1]\n",
    "#df_word_distr.index=df_words['word']\n",
    "df_word_distr.fillna(0)\n",
    "df_word_distr.to_csv(\"tm/tm_level_0_word-dist.csv\", index=True, header=True)"
   ]
  },
  {
   "cell_type": "code",
   "execution_count": null,
   "metadata": {},
   "outputs": [],
   "source": []
  }
 ],
 "metadata": {
  "kernelspec": {
   "display_name": "Python 3",
   "language": "python",
   "name": "python3"
  },
  "language_info": {
   "codemirror_mode": {
    "name": "ipython",
    "version": 3
   },
   "file_extension": ".py",
   "mimetype": "text/x-python",
   "name": "python",
   "nbconvert_exporter": "python",
   "pygments_lexer": "ipython3",
   "version": "3.7.6"
  },
  "widgets": {
   "application/vnd.jupyter.widget-state+json": {
    "state": {},
    "version_major": 2,
    "version_minor": 0
   }
  }
 },
 "nbformat": 4,
 "nbformat_minor": 4
}

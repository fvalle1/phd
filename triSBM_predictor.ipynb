{
 "cells": [
  {
   "cell_type": "code",
   "execution_count": null,
   "id": "adult-customs",
   "metadata": {},
   "outputs": [],
   "source": [
    "import pandas as pd\n",
    "import numpy as np\n",
    "import os\n",
    "import cloudpickle as pickle"
   ]
  },
  {
   "cell_type": "code",
   "execution_count": null,
   "id": "commercial-guitar",
   "metadata": {},
   "outputs": [],
   "source": [
    "os.chdir(\"datasets/tcga/BRCA/mirna_allsamples/\")"
   ]
  },
  {
   "cell_type": "code",
   "execution_count": null,
   "id": "spoken-reset",
   "metadata": {},
   "outputs": [],
   "source": [
    "df_topics = pd.read_csv(\"trisbm/trisbm_level_0_topic-dist.csv\", index_col=1).drop(\"i_doc\", 1)\n",
    "df_keywords = pd.read_csv(\"trisbm/trisbm_level_0_metadatum-dist.csv\", index_col=1).drop(\"i_doc\", 1)\n",
    "df_files = pd.read_csv(\"files.dat\", index_col=0).dropna()"
   ]
  },
  {
   "cell_type": "code",
   "execution_count": null,
   "id": "freelance-prediction",
   "metadata": {},
   "outputs": [],
   "source": [
    "bins = np.linspace(0,100,20)\n",
    "avg = df_files[\"cases.0.diagnoses.0.age_at_diagnosis\"].mean(skipna=True)\n",
    "df_files[\"age_at_diagnosis\"]=pd.cut(df_files[\"cases.0.diagnoses.0.age_at_diagnosis\"].fillna(avg)/365., bins=bins, labels = (bins[1:]+bins[:-1])/2).__array__()"
   ]
  },
  {
   "cell_type": "code",
   "execution_count": null,
   "id": "purple-companion",
   "metadata": {},
   "outputs": [],
   "source": [
    "df_files[\"gender\"] = (df_files[\"cases.0.demographic.gender\"]==\"male\").astype(int)"
   ]
  },
  {
   "cell_type": "code",
   "execution_count": null,
   "id": "refined-democrat",
   "metadata": {},
   "outputs": [],
   "source": [
    "for letter in [\"a\", \"b\", \"c\"]:\n",
    "    for (old, new) in zip([\"stage %s%s\"%(i,letter) for i in [\"i\", \"ii\", \"iii\", \"iv\"]],[\"stage %s\"%i for i in [\"i\", \"ii\", \"iii\", \"iv\"]]):\n",
    "        df_files.replace(old, new, inplace=True)\n",
    "df_files[\"cases.0.diagnoses.0.tumor_stage\"].unique()"
   ]
  },
  {
   "cell_type": "code",
   "execution_count": null,
   "id": "personal-darwin",
   "metadata": {},
   "outputs": [],
   "source": [
    "df_files[\"tumor_stage\"]=df_files[\"cases.0.diagnoses.0.tumor_stage\"]\n",
    "for i,stage in enumerate([\"stage i\", \"stage ii\", \"stage iii\", \"stage iv\", \"stage v\", \"stage x\"]):\n",
    "    df_files[\"tumor_stage\"].replace(stage, i+1, inplace=True)"
   ]
  },
  {
   "cell_type": "code",
   "execution_count": null,
   "id": "eastern-aging",
   "metadata": {},
   "outputs": [],
   "source": [
    "#0 = Alive\n",
    "df_files[\"vital_status\"]=(df_files[\"cases.0.demographic.vital_status\"]==\"Dead\").astype(int)"
   ]
  },
  {
   "cell_type": "code",
   "execution_count": null,
   "id": "crucial-trustee",
   "metadata": {},
   "outputs": [],
   "source": [
    "def get_survival(case):\n",
    "    if case[\"cases.0.demographic.vital_status\"] == 1:\n",
    "        return case[\"cases.0.demographic.days_to_death\"]\n",
    "    else:\n",
    "        return case[\"cases.0.diagnoses.0.days_to_last_follow_up\"]\n",
    "\n",
    "df_files[\"days_survival\"] = df_files.apply(get_survival,1)"
   ]
  },
  {
   "cell_type": "code",
   "execution_count": null,
   "id": "retained-dryer",
   "metadata": {},
   "outputs": [],
   "source": [
    "df_files = df_files.dropna(subset=[\"days_survival\"])\n",
    "df_files.set_index(\"cases.0.submitter_id\", inplace=True)"
   ]
  },
  {
   "cell_type": "code",
   "execution_count": null,
   "id": "fifteen-kitchen",
   "metadata": {},
   "outputs": [],
   "source": [
    "dim_max = max(df_topics.shape[1], df_keywords.shape[1])"
   ]
  },
  {
   "cell_type": "code",
   "execution_count": null,
   "id": "surgical-wilderness",
   "metadata": {},
   "outputs": [],
   "source": [
    "df_topics = df_topics.reindex(index=df_files.index)\n",
    "df_keywords = df_keywords.reindex(index=df_files.index)"
   ]
  },
  {
   "cell_type": "code",
   "execution_count": null,
   "id": "medium-black",
   "metadata": {},
   "outputs": [],
   "source": [
    "X_train = []\n",
    "Y_train = []\n",
    "\n",
    "for sample in df_files.index:\n",
    "    x_1 = df_keywords.loc[sample,:].values\n",
    "    X_train.append(\n",
    "    [\n",
    "        df_topics.loc[sample,:].values,\n",
    "        np.concatenate([x_1, np.repeat(0, dim_max-len(x_1))])\n",
    "    ])\n",
    "    Y_train.append(df_files.at[sample, \"days_survival\"])"
   ]
  },
  {
   "cell_type": "code",
   "execution_count": null,
   "id": "demanding-cancellation",
   "metadata": {},
   "outputs": [],
   "source": [
    "with open(\"X_train.pkl\",\"wb\") as file:\n",
    "    pickle.dump(X_train, file, protocol=4)\n",
    "    \n",
    "with open(\"Y_train.pkl\",\"wb\") as file:\n",
    "    pickle.dump(Y_train, file, protocol=4)"
   ]
  },
  {
   "cell_type": "code",
   "execution_count": null,
   "id": "assumed-scanning",
   "metadata": {},
   "outputs": [],
   "source": []
  }
 ],
 "metadata": {
  "kernelspec": {
   "display_name": "Python 3",
   "language": "python",
   "name": "python3"
  },
  "language_info": {
   "codemirror_mode": {
    "name": "ipython",
    "version": 3
   },
   "file_extension": ".py",
   "mimetype": "text/x-python",
   "name": "python",
   "nbconvert_exporter": "python",
   "pygments_lexer": "ipython3",
   "version": "3.8.8"
  }
 },
 "nbformat": 4,
 "nbformat_minor": 5
}

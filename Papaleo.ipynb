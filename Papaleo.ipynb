{
 "cells": [
  {
   "cell_type": "code",
   "execution_count": null,
   "metadata": {},
   "outputs": [],
   "source": [
    "import pandas as pd\n",
    "import numpy as np\n",
    "import os\n",
    "\n",
    "from converter import convert_list_to_ensg\n",
    "from hypergeom import parameters_for_hypergeometric\n",
    "os.chdir(\"datasets/cancers/lung/\")"
   ]
  },
  {
   "cell_type": "code",
   "execution_count": null,
   "metadata": {},
   "outputs": [],
   "source": [
    "lists = {k:[] for k in np.array([[[f\"new_{ud}_{ap}_{ds}\" for ap in [\"all\", \"paired\"]] for ud in [\"up\",\"down\"]] for ds in [\"LUAD\", \"LUSC\"]]).ravel()}"
   ]
  },
  {
   "cell_type": "code",
   "execution_count": null,
   "metadata": {},
   "outputs": [],
   "source": [
    "for l in lists.keys():\n",
    "    lists[l] = convert_list_to_ensg(pd.read_csv(f\"https://github.com/ELELAB/LUAD_LUSC_TCGA_comparison/raw/master/4-final_gene_list_DEA_TCGA/final_gene_list/{l}.txt\", header=None).values.ravel())"
   ]
  },
  {
   "cell_type": "code",
   "execution_count": null,
   "metadata": {},
   "outputs": [],
   "source": [
    "hsbm_list_topics = pd.read_csv(\"topsbm/topsbm_level_1_topics.csv\")\n",
    "gene_list = hsbm_list_topics.values.ravel().astype(str)\n",
    "gene_list = list(map(lambda g: g[:15],filter(lambda g: g!=\"nan\", gene_list)))\n",
    "hsbm_list=pd.Series(index=[g[:15] for g in gene_list], dtype=str)\n",
    "for topic in hsbm_list_topics.columns:\n",
    "    hsbm_list[[g[:15] for g in hsbm_list_topics[topic].dropna()]]=topic"
   ]
  },
  {
   "cell_type": "code",
   "execution_count": null,
   "metadata": {},
   "outputs": [],
   "source": [
    "def give_me_g(g):\n",
    "    if (type(g)==np.array) or (type(g)==np.ndarray) or (type(g)==list):\n",
    "        g = g[0]\n",
    "    if type(g)!=str:\n",
    "        return None  \n",
    "    if str(g)!=\"nan\":\n",
    "        if g[:4] == \"ENSG\":\n",
    "            return str(g)\n",
    "    return None"
   ]
  },
  {
   "cell_type": "code",
   "execution_count": null,
   "metadata": {},
   "outputs": [],
   "source": [
    "df_Papaleo = pd.DataFrame()\n",
    "for (name, l) in lists.items():\n",
    "    df_Papaleo[name]=[np.nan for _ in range(25000)]\n",
    "    df_Papaleo[name][:len(l)]=l\n",
    "df_Papaleo=df_Papaleo.dropna(how=\"all\", axis=0)\n",
    "Papaleo_list=pd.Series(index=np.unique([give_me_g(g) for g in df_Papaleo.values.ravel() if give_me_g(g) is not None]), dtype=str)\n",
    "for topic in df_Papaleo.columns:\n",
    "    mask = Papaleo_list.index.isin([give_me_g(g) for g in df_Papaleo[topic].dropna() if give_me_g(g) is not None])\n",
    "    Papaleo_list[mask]=topic"
   ]
  },
  {
   "cell_type": "code",
   "execution_count": null,
   "metadata": {},
   "outputs": [],
   "source": [
    "import importlib, hypergeom\n",
    "importlib.reload(hypergeom)\n",
    "from hypergeom import *"
   ]
  },
  {
   "cell_type": "code",
   "execution_count": null,
   "metadata": {},
   "outputs": [],
   "source": [
    "list_1 = hsbm_list\n",
    "list_2 = Papaleo_list\n",
    "\n",
    "hyper_params = parameters_for_hypergeometric(list_1, list_2)\n",
    "df_cmap = build_map(*hyper_params, last_name=\"Papaleo\")"
   ]
  },
  {
   "cell_type": "code",
   "execution_count": null,
   "metadata": {},
   "outputs": [],
   "source": [
    "cm = plot_map(df_cmap, \"topsbm\", \"Papaleo\");"
   ]
  },
  {
   "cell_type": "code",
   "execution_count": null,
   "metadata": {},
   "outputs": [],
   "source": []
  }
 ],
 "metadata": {
  "kernelspec": {
   "display_name": "Python 3",
   "language": "python",
   "name": "python3"
  },
  "language_info": {
   "codemirror_mode": {
    "name": "ipython",
    "version": 3
   },
   "file_extension": ".py",
   "mimetype": "text/x-python",
   "name": "python",
   "nbconvert_exporter": "python",
   "pygments_lexer": "ipython3",
   "version": "3.7.6"
  },
  "widgets": {
   "application/vnd.jupyter.widget-state+json": {
    "state": {},
    "version_major": 2,
    "version_minor": 0
   }
  }
 },
 "nbformat": 4,
 "nbformat_minor": 4
}

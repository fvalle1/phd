{
 "cells": [
  {
   "cell_type": "code",
   "execution_count": 1,
   "metadata": {},
   "outputs": [],
   "source": [
    "import pandas as pd\n",
    "import os"
   ]
  },
  {
   "cell_type": "code",
   "execution_count": 2,
   "metadata": {},
   "outputs": [
    {
     "data": {
      "text/plain": [
       "['.git',\n",
       " '1-download_preprocessing',\n",
       " '10-tf',\n",
       " '11-cross_validation_revised',\n",
       " '12-survival_revised',\n",
       " '13-deconvolution_revised',\n",
       " '2-DEA_TCGA',\n",
       " '3-consensus_DEA_TCGA',\n",
       " '4-final_gene_list_DEA_TCGA',\n",
       " '5-mfuzz',\n",
       " '6-recount',\n",
       " '7-moonlight',\n",
       " '8-coexpression',\n",
       " '9-dual_role',\n",
       " 'DESCRIPTION',\n",
       " 'LICENSE',\n",
       " 'README.md']"
      ]
     },
     "execution_count": 2,
     "metadata": {},
     "output_type": "execute_result"
    }
   ],
   "source": [
    "os.listdir(\"LUAD_LUSC_TCGA_comparison/\")"
   ]
  },
  {
   "cell_type": "code",
   "execution_count": null,
   "metadata": {},
   "outputs": [],
   "source": []
  }
 ],
 "metadata": {
  "kernelspec": {
   "display_name": "Python 3",
   "language": "python",
   "name": "python3"
  },
  "language_info": {
   "codemirror_mode": {
    "name": "ipython",
    "version": 3
   },
   "file_extension": ".py",
   "mimetype": "text/x-python",
   "name": "python",
   "nbconvert_exporter": "python",
   "pygments_lexer": "ipython3",
   "version": "3.7.6"
  },
  "widgets": {
   "application/vnd.jupyter.widget-state+json": {
    "state": {},
    "version_major": 2,
    "version_minor": 0
   }
  }
 },
 "nbformat": 4,
 "nbformat_minor": 4
}

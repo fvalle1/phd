{
 "cells": [
  {
   "cell_type": "code",
   "execution_count": null,
   "metadata": {},
   "outputs": [],
   "source": [
    "import networkx as nx\n",
    "from hierarchy_pos import hierarchy_pos\n",
    "import matplotlib.pyplot as plt\n",
    "from matplotlib.lines import Line2D\n",
    "import seaborn as sns\n",
    "import pandas as pd\n",
    "import numpy as np\n",
    "import os\n",
    "from hsbmpy import get_max_available_L, colors_cycle"
   ]
  },
  {
   "cell_type": "code",
   "execution_count": null,
   "metadata": {},
   "outputs": [],
   "source": [
    "directory = \"/home/jovyan/work/phd/datasets/paper/gtex10seed\"\n",
    "\n",
    "os.chdir(directory)"
   ]
  },
  {
   "cell_type": "code",
   "execution_count": null,
   "metadata": {},
   "outputs": [],
   "source": [
    "color_iterator = (color for color in colors_cycle)\n",
    "L = get_max_available_L(directory)\n",
    "\n",
    "df_hier = pd.read_csv(\"topsbm/topsbm_labels.csv\")\n",
    "df_hier[f\"l{L+1}\"] = np.ones(df_hier.shape[0], dtype=int)\n",
    "L=L+1\n",
    "label_name=\"tissue\"\n",
    "labels = df_hier[label_name].unique()\n",
    "\n",
    "color_labels = np.sort(df_hier[\"tissue\"].unique())\n",
    "\n",
    "#create a color palette with the same number of colors as unique values in the Source column\n",
    "#network_pal = sns.color_palette('husl',n_colors=len(color_labels))\n",
    "network_pal = [next(color_iterator) for label in color_labels]\n",
    "\n",
    "#Create a dictionary where the key is the category and the values are the\n",
    "#colors from the palette we just created\n",
    "network_lut = dict(zip(color_labels, network_pal))\n",
    "df_hier.head()"
   ]
  },
  {
   "cell_type": "code",
   "execution_count": null,
   "metadata": {},
   "outputs": [],
   "source": [
    "get_fracs(\"l4_1\")"
   ]
  },
  {
   "cell_type": "code",
   "execution_count": null,
   "metadata": {},
   "outputs": [],
   "source": [
    "def get_fracs(node, label_name=label_name, plot_proportions=True):\n",
    "    '''\n",
    "    params\n",
    "    - node: node name\n",
    "    - label_name: df_hier column\n",
    "    - plot_proportions: wheter return the ratio of the size of the node\n",
    "    \n",
    "    returns\n",
    "    - uniques: number of labels of each label in this node\n",
    "    - colors: color for each of the labels presents\n",
    "    - ration: fraction of global elements in this node\n",
    "    '''\n",
    "    node = node.split(\"_\")\n",
    "    uniques = np.unique(df_hier[df_hier[node[0]]==int(node[1])][label_name], return_counts=True)\n",
    "    counts = df_hier.shape[0]\n",
    "    epsilon = 1e-7\n",
    "    ratio = (uniques[1].sum())/float(epsilon+counts) * 0.25 + 0.75 if plot_proportions else 1\n",
    "    return uniques[1], [network_lut[label] for label in uniques[0]], ratio"
   ]
  },
  {
   "cell_type": "code",
   "execution_count": null,
   "metadata": {},
   "outputs": [],
   "source": [
    "hierarchy = nx.Graph()"
   ]
  },
  {
   "cell_type": "code",
   "execution_count": null,
   "metadata": {},
   "outputs": [],
   "source": [
    "# add nodes\n",
    "for l in range(L+1):\n",
    "    if l==0:\n",
    "        continue\n",
    "    hierarchy.add_nodes_from([f\"l{l}_{n}\" for n in df_hier[f\"l{l}\"].unique()])"
   ]
  },
  {
   "cell_type": "code",
   "execution_count": null,
   "metadata": {},
   "outputs": [],
   "source": [
    "# add edges\n",
    "for l in range(L+1):\n",
    "    if l<=0:\n",
    "        continue\n",
    "    for node in df_hier[f\"l{l}\"].unique():\n",
    "        hierarchy.add_edges_from([(f\"l{l}_{node}\", f\"l{l-1}_{low_node}\") for low_node in df_hier[df_hier[f\"l{l}\"]==node][f\"l{l-1}\"].unique()])\n",
    "if not nx.is_tree(hierarchy):\n",
    "    raise ValueError(\"Graph is not a tree!\")"
   ]
  },
  {
   "cell_type": "code",
   "execution_count": null,
   "metadata": {},
   "outputs": [],
   "source": [
    "pos = hierarchy_pos(hierarchy, root=f\"l{L}_1\")\n",
    "fig, ax = plt.subplots(figsize=(50,20))\n",
    "\n",
    "nx.draw(hierarchy, pos=pos, ax=ax)\n",
    "nx.draw_networkx_nodes(hierarchy,pos)\n",
    "nx.draw_networkx_edges(hierarchy, pos=pos, ax=ax)\n",
    "#nx.draw_networkx_labels(hierarchy, pos=pos, ax=ax, font_size=25)\n",
    "\n",
    "trans=ax.transData.transform\n",
    "trans2=fig.transFigure.inverted().transform\n",
    "\n",
    "piesize=0.08\n",
    "p2=piesize/2.0\n",
    "for n in hierarchy:\n",
    "    xx,yy=trans(pos[n]) # figure coordinates\n",
    "    xa,ya=trans2((xx,yy)) # axes coordinates\n",
    "    fracs, colors, ratio = get_fracs(n, label_name, True)\n",
    "    a = plt.axes([xa-p2*ratio,ya-p2*ratio, piesize*ratio, piesize*ratio])\n",
    "    a.set_aspect('equal')\n",
    "    a.pie(fracs, colors=colors)\n",
    "    \n",
    "legend_elements = [Line2D([0], [0], \n",
    "                          marker='o', \n",
    "                          ms = 20,\n",
    "                          lw = 0,\n",
    "                          color=network_lut[label], \n",
    "                          label=label,\n",
    "                          markerfacecolor=network_lut[label],\n",
    "                          markersize=15) for label in np.sort(labels)]\n",
    "\n",
    "\n",
    "# Put a legend to the right of the current axis\n",
    "ax.legend(handles=legend_elements, fontsize=25, ncol=4, loc='upper left')\n",
    "    \n",
    "plt.show()\n",
    "fig.savefig(\"cluster_network.pdf\")"
   ]
  },
  {
   "cell_type": "code",
   "execution_count": null,
   "metadata": {},
   "outputs": [],
   "source": [
    "for tissue,color in network_lut.copy().items():\n",
    "    color = network_lut[tissue]\n",
    "    network_lut[tissue+\"_healthy\"] = color\n",
    "    network_lut[tissue+\"_tumor\"] = [c*0.4 for c in sns.set_hls_values(color)]"
   ]
  },
  {
   "cell_type": "code",
   "execution_count": null,
   "metadata": {},
   "outputs": [],
   "source": [
    "df_hier[\"subtissue\"].replace(\"Brain - Cerebellar Hemisphere\", \"Brain - Cerebellum\", inplace=True)\n",
    "for subtissue in df_hier[\"subtissue\"].unique():\n",
    "    tissue = df_hier[df_hier[\"subtissue\"]==subtissue][\"tissue\"].values[0]\n",
    "    color = network_lut[tissue]\n",
    "    new_color = np.array(sns.set_hls_values(color))\n",
    "    new_color[2] +=  0.8 * np.random.random() - 0.4\n",
    "    np.clip(new_color, 0, 1, out=new_color)\n",
    "    network_lut[subtissue] = new_color\n",
    "label_name = \"subtissue\"\n",
    "labels = df_hier[label_name].unique()"
   ]
  },
  {
   "cell_type": "code",
   "execution_count": null,
   "metadata": {},
   "outputs": [],
   "source": [
    "network_lut"
   ]
  },
  {
   "cell_type": "code",
   "execution_count": null,
   "metadata": {},
   "outputs": [],
   "source": []
  }
 ],
 "metadata": {
  "kernelspec": {
   "display_name": "Python 3",
   "language": "python",
   "name": "python3"
  },
  "language_info": {
   "codemirror_mode": {
    "name": "ipython",
    "version": 3
   },
   "file_extension": ".py",
   "mimetype": "text/x-python",
   "name": "python",
   "nbconvert_exporter": "python",
   "pygments_lexer": "ipython3",
   "version": "3.7.6"
  },
  "widgets": {
   "application/vnd.jupyter.widget-state+json": {
    "state": {},
    "version_major": 2,
    "version_minor": 0
   }
  }
 },
 "nbformat": 4,
 "nbformat_minor": 4
}
